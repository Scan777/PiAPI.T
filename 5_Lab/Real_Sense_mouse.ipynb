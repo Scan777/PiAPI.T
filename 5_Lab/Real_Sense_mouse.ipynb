{
 "cells": [
  {
   "cell_type": "code",
   "execution_count": 2,
   "id": "a6a31ea5",
   "metadata": {},
   "outputs": [
    {
     "ename": "error",
     "evalue": "OpenCV(4.10.0) D:\\a\\opencv-python\\opencv-python\\opencv\\modules\\highgui\\src\\window.cpp:1284: error: (-2:Unspecified error) The function is not implemented. Rebuild the library with Windows, GTK+ 2.x or Cocoa support. If you are on Ubuntu or Debian, install libgtk2.0-dev and pkg-config, then re-run cmake or configure script in function 'cvNamedWindow'\n",
     "output_type": "error",
     "traceback": [
      "\u001b[1;31m---------------------------------------------------------------------------\u001b[0m",
      "\u001b[1;31merror\u001b[0m                                     Traceback (most recent call last)",
      "Input \u001b[1;32mIn [2]\u001b[0m, in \u001b[0;36m<cell line: 15>\u001b[1;34m()\u001b[0m\n\u001b[0;32m     12\u001b[0m dc \u001b[38;5;241m=\u001b[39m RealsenseCamera()\n\u001b[0;32m     14\u001b[0m \u001b[38;5;66;03m# Create mouse event\u001b[39;00m\n\u001b[1;32m---> 15\u001b[0m \u001b[43mcv2\u001b[49m\u001b[38;5;241;43m.\u001b[39;49m\u001b[43mnamedWindow\u001b[49m\u001b[43m(\u001b[49m\u001b[38;5;124;43m\"\u001b[39;49m\u001b[38;5;124;43mColor frame\u001b[39;49m\u001b[38;5;124;43m\"\u001b[39;49m\u001b[43m)\u001b[49m\n\u001b[0;32m     16\u001b[0m cv2\u001b[38;5;241m.\u001b[39msetMouseCallback(\u001b[38;5;124m\"\u001b[39m\u001b[38;5;124mColor frame\u001b[39m\u001b[38;5;124m\"\u001b[39m, show_distance)\n\u001b[0;32m     18\u001b[0m \u001b[38;5;28;01mwhile\u001b[39;00m \u001b[38;5;28;01mTrue\u001b[39;00m:\n",
      "\u001b[1;31merror\u001b[0m: OpenCV(4.10.0) D:\\a\\opencv-python\\opencv-python\\opencv\\modules\\highgui\\src\\window.cpp:1284: error: (-2:Unspecified error) The function is not implemented. Rebuild the library with Windows, GTK+ 2.x or Cocoa support. If you are on Ubuntu or Debian, install libgtk2.0-dev and pkg-config, then re-run cmake or configure script in function 'cvNamedWindow'\n"
     ]
    }
   ],
   "source": [
    "import cv2\n",
    "import pyrealsense2\n",
    "from realsense_camera import *\n",
    "\n",
    "point = (400, 300)\n",
    "\n",
    "def show_distance(event, x, y, args, params):\n",
    "    global point\n",
    "    point = (x, y)\n",
    "\n",
    "# Initialize Camera Intel Realsense\n",
    "dc = RealsenseCamera()\n",
    "\n",
    "# Create mouse event\n",
    "cv2.namedWindow(\"Color frame\")\n",
    "cv2.setMouseCallback(\"Color frame\", show_distance)\n",
    "\n",
    "while True:\n",
    "    ret, depth_frame, color_frame, depth = dc.get_frame_stream()\n",
    "\n",
    "    # Show distance for a specific point\n",
    "    cv2.circle(color_frame, point, 4, (0, 0, 255))\n",
    "    distance = depth[point[1], point[0]]\n",
    "\n",
    "    cv2.putText(color_frame, \"{}mm\".format(distance), (point[0], point[1] - 20), cv2.FONT_HERSHEY_PLAIN, 2, (0, 0, 0), 2)\n",
    "\n",
    "    cv2.imshow(\"depth frame\", depth_frame)\n",
    "    cv2.imshow(\"Color frame\", color_frame)\n",
    "    key = cv2.waitKey(1)\n",
    "    if key == 27:\n",
    "        break"
   ]
  },
  {
   "cell_type": "code",
   "execution_count": null,
   "id": "cb610011",
   "metadata": {},
   "outputs": [],
   "source": []
  }
 ],
 "metadata": {
  "kernelspec": {
   "display_name": "Python 3 (ipykernel)",
   "language": "python",
   "name": "python3"
  },
  "language_info": {
   "codemirror_mode": {
    "name": "ipython",
    "version": 3
   },
   "file_extension": ".py",
   "mimetype": "text/x-python",
   "name": "python",
   "nbconvert_exporter": "python",
   "pygments_lexer": "ipython3",
   "version": "3.9.12"
  }
 },
 "nbformat": 4,
 "nbformat_minor": 5
}
