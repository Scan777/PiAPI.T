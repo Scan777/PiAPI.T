{
 "cells": [
  {
   "cell_type": "code",
   "execution_count": 1,
   "id": "a6a31ea5",
   "metadata": {},
   "outputs": [
    {
     "ename": "KeyboardInterrupt",
     "evalue": "",
     "output_type": "error",
     "traceback": [
      "\u001b[1;31m---------------------------------------------------------------------------\u001b[0m",
      "\u001b[1;31mKeyboardInterrupt\u001b[0m                         Traceback (most recent call last)",
      "Input \u001b[1;32mIn [1]\u001b[0m, in \u001b[0;36m<cell line: 19>\u001b[1;34m()\u001b[0m\n\u001b[0;32m     16\u001b[0m cv2\u001b[38;5;241m.\u001b[39msetMouseCallback(\u001b[38;5;124m\"\u001b[39m\u001b[38;5;124mColor frame\u001b[39m\u001b[38;5;124m\"\u001b[39m, show_distance)\n\u001b[0;32m     18\u001b[0m \u001b[38;5;28;01mwhile\u001b[39;00m \u001b[38;5;28;01mTrue\u001b[39;00m:\n\u001b[1;32m---> 19\u001b[0m     ret, depth_frame, color_frame, depth \u001b[38;5;241m=\u001b[39m \u001b[43mdc\u001b[49m\u001b[38;5;241;43m.\u001b[39;49m\u001b[43mget_frame_stream\u001b[49m\u001b[43m(\u001b[49m\u001b[43m)\u001b[49m\n\u001b[0;32m     21\u001b[0m     \u001b[38;5;66;03m# Show distance for a specific point\u001b[39;00m\n\u001b[0;32m     22\u001b[0m     cv2\u001b[38;5;241m.\u001b[39mcircle(color_frame, point, \u001b[38;5;241m4\u001b[39m, (\u001b[38;5;241m0\u001b[39m, \u001b[38;5;241m0\u001b[39m, \u001b[38;5;241m255\u001b[39m))\n",
      "File \u001b[1;32m~\\ПиПАИ.Т\\5_Lab\\realsense_camera.py:57\u001b[0m, in \u001b[0;36mRealsenseCamera.get_frame_stream\u001b[1;34m(self)\u001b[0m\n\u001b[0;32m     53\u001b[0m filled_depth \u001b[38;5;241m=\u001b[39m hole_filling\u001b[38;5;241m.\u001b[39mprocess(filtered_depth)\n\u001b[0;32m     56\u001b[0m \u001b[38;5;66;03m# Create colormap to show the depth of the Objects\u001b[39;00m\n\u001b[1;32m---> 57\u001b[0m colorizer \u001b[38;5;241m=\u001b[39m \u001b[43mrs\u001b[49m\u001b[38;5;241m.\u001b[39mcolorizer()\n\u001b[0;32m     58\u001b[0m depth_colormap \u001b[38;5;241m=\u001b[39m np\u001b[38;5;241m.\u001b[39masanyarray(colorizer\u001b[38;5;241m.\u001b[39mcolorize(filled_depth)\u001b[38;5;241m.\u001b[39mget_data())\n\u001b[0;32m     59\u001b[0m aligned_depth_frame \u001b[38;5;241m=\u001b[39m aligned_frames\u001b[38;5;241m.\u001b[39mget_depth_frame()\n",
      "\u001b[1;31mKeyboardInterrupt\u001b[0m: "
     ]
    }
   ],
   "source": [
    "import cv2\n",
    "import pyrealsense2\n",
    "from realsense_camera import *\n",
    "\n",
    "point = (400, 300)\n",
    "\n",
    "def show_distance(event, x, y, args, params):\n",
    "    global point\n",
    "    point = (x, y)\n",
    "\n",
    "# Initialize Camera Intel Realsense\n",
    "dc = RealsenseCamera()\n",
    "\n",
    "# Create mouse event\n",
    "cv2.namedWindow(\"Color frame\")\n",
    "cv2.setMouseCallback(\"Color frame\", show_distance)\n",
    "\n",
    "while True:\n",
    "    ret, depth_frame, color_frame, depth = dc.get_frame_stream()\n",
    "\n",
    "    # Show distance for a specific point\n",
    "    cv2.circle(color_frame, point, 4, (0, 0, 255))\n",
    "    distance = depth[point[1], point[0]]\n",
    "\n",
    "    cv2.putText(color_frame, \"{}mm\".format(distance), (point[0], point[1] - 20), cv2.FONT_HERSHEY_PLAIN, 2, (0, 0, 0), 2)\n",
    "\n",
    "    cv2.imshow(\"depth frame\", depth_frame)\n",
    "    cv2.imshow(\"Color frame\", color_frame)\n",
    "    key = cv2.waitKey(1)\n",
    "    if key == 27:\n",
    "        break"
   ]
  },
  {
   "cell_type": "code",
   "execution_count": null,
   "id": "cb610011",
   "metadata": {},
   "outputs": [],
   "source": []
  }
 ],
 "metadata": {
  "kernelspec": {
   "display_name": "Python 3 (ipykernel)",
   "language": "python",
   "name": "python3"
  },
  "language_info": {
   "codemirror_mode": {
    "name": "ipython",
    "version": 3
   },
   "file_extension": ".py",
   "mimetype": "text/x-python",
   "name": "python",
   "nbconvert_exporter": "python",
   "pygments_lexer": "ipython3",
   "version": "3.9.12"
  }
 },
 "nbformat": 4,
 "nbformat_minor": 5
}
