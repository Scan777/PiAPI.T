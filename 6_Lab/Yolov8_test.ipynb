{
 "cells": [
  {
   "cell_type": "code",
   "execution_count": 3,
   "id": "10c9e1fe",
   "metadata": {},
   "outputs": [
    {
     "name": "stderr",
     "output_type": "stream",
     "text": [
      "SupervisionWarnings: BoundingBoxAnnotator is deprecated: `BoundingBoxAnnotator` is deprecated and has been renamed to `BoxAnnotator`. `BoundingBoxAnnotator` will be removed in supervision-0.26.0.\n",
      "SupervisionWarnings: BoundingBoxAnnotator is deprecated: `BoundingBoxAnnotator` is deprecated and has been renamed to `BoxAnnotator`. `BoundingBoxAnnotator` will be removed in supervision-0.26.0.\n",
      "\n",
      "0: 384x640 1 person, 32.9ms\n",
      "Speed: 8.0ms preprocess, 32.9ms inference, 0.0ms postprocess per image at shape (1, 3, 384, 640)\n",
      "\n",
      "0: 384x640 2 persons, 41.6ms\n",
      "Speed: 5.0ms preprocess, 41.6ms inference, 6.0ms postprocess per image at shape (1, 3, 384, 640)\n",
      "\n"
     ]
    },
    {
     "name": "stdout",
     "output_type": "stream",
     "text": [
      "Detections(xyxy=array([[     226.25,      138.51,      1159.7,      714.67]], dtype=float32), mask=None, confidence=array([    0.89332], dtype=float32), class_id=array([0]), tracker_id=None, data={'class_name': array(['person'], dtype='<U6')})\n",
      "Detections(xyxy=array([[     226.25,      138.51,      1159.7,      714.67]], dtype=float32), mask=None, confidence=array([    0.89332], dtype=float32), class_id=array([0]), tracker_id=None, data={'class_name': array(['person'], dtype='<U6')})\n",
      "Detections(xyxy=array([[     224.94,      137.26,        1152,      715.05],\n",
      "       [   0.079178,       450.7,      235.48,      711.76]], dtype=float32), mask=None, confidence=array([    0.89669,     0.31491], dtype=float32), class_id=array([0, 0]), tracker_id=None, data={'class_name': array(['person', 'person'], dtype='<U6')})\n",
      "Detections(xyxy=array([[     224.94,      137.26,        1152,      715.05],\n",
      "       [   0.079178,       450.7,      235.48,      711.76]], dtype=float32), mask=None, confidence=array([    0.89669,     0.31491], dtype=float32), class_id=array([0, 0]), tracker_id=None, data={'class_name': array(['person', 'person'], dtype='<U6')})\n"
     ]
    },
    {
     "name": "stderr",
     "output_type": "stream",
     "text": [
      "0: 384x640 2 persons, 35.0ms\n",
      "Speed: 8.0ms preprocess, 35.0ms inference, 7.9ms postprocess per image at shape (1, 3, 384, 640)\n",
      "\n",
      "0: 384x640 1 person, 1 refrigerator, 33.1ms\n",
      "Speed: 5.1ms preprocess, 33.1ms inference, 7.4ms postprocess per image at shape (1, 3, 384, 640)\n",
      "\n"
     ]
    },
    {
     "name": "stdout",
     "output_type": "stream",
     "text": [
      "Detections(xyxy=array([[     226.98,      138.28,      1153.3,      715.14],\n",
      "       [          0,      442.42,      235.72,       711.8]], dtype=float32), mask=None, confidence=array([    0.89207,     0.25255], dtype=float32), class_id=array([0, 0]), tracker_id=None, data={'class_name': array(['person', 'person'], dtype='<U6')})\n",
      "Detections(xyxy=array([[     226.98,      138.28,      1153.3,      715.14],\n",
      "       [          0,      442.42,      235.72,       711.8]], dtype=float32), mask=None, confidence=array([    0.89207,     0.25255], dtype=float32), class_id=array([0, 0]), tracker_id=None, data={'class_name': array(['person', 'person'], dtype='<U6')})\n",
      "Detections(xyxy=array([[     232.13,      138.31,      1153.3,      715.48],\n",
      "       [     1188.5,      249.57,      1279.7,       712.7]], dtype=float32), mask=None, confidence=array([    0.89527,     0.25266], dtype=float32), class_id=array([ 0, 72]), tracker_id=None, data={'class_name': array(['person', 'refrigerator'], dtype='<U12')})\n",
      "Detections(xyxy=array([[     232.13,      138.31,      1153.3,      715.48],\n",
      "       [     1188.5,      249.57,      1279.7,       712.7]], dtype=float32), mask=None, confidence=array([    0.89527,     0.25266], dtype=float32), class_id=array([ 0, 72]), tracker_id=None, data={'class_name': array(['person', 'refrigerator'], dtype='<U12')})\n"
     ]
    },
    {
     "name": "stderr",
     "output_type": "stream",
     "text": [
      "0: 384x640 2 persons, 35.8ms\n",
      "Speed: 3.8ms preprocess, 35.8ms inference, 9.6ms postprocess per image at shape (1, 3, 384, 640)\n",
      "\n",
      "0: 384x640 2 persons, 43.1ms\n",
      "Speed: 5.2ms preprocess, 43.1ms inference, 0.0ms postprocess per image at shape (1, 3, 384, 640)\n"
     ]
    },
    {
     "name": "stdout",
     "output_type": "stream",
     "text": [
      "Detections(xyxy=array([[      227.7,      138.03,      1154.7,       714.8],\n",
      "       [   0.039612,       446.9,      239.61,      712.25]], dtype=float32), mask=None, confidence=array([    0.88086,     0.33217], dtype=float32), class_id=array([0, 0]), tracker_id=None, data={'class_name': array(['person', 'person'], dtype='<U6')})\n",
      "Detections(xyxy=array([[      227.7,      138.03,      1154.7,       714.8],\n",
      "       [   0.039612,       446.9,      239.61,      712.25]], dtype=float32), mask=None, confidence=array([    0.88086,     0.33217], dtype=float32), class_id=array([0, 0]), tracker_id=None, data={'class_name': array(['person', 'person'], dtype='<U6')})\n",
      "Detections(xyxy=array([[     229.31,      140.43,      1157.4,      715.59],\n",
      "       [          0,      451.49,      239.17,      711.87]], dtype=float32), mask=None, confidence=array([    0.88792,     0.25563], dtype=float32), class_id=array([0, 0]), tracker_id=None, data={'class_name': array(['person', 'person'], dtype='<U6')})\n",
      "Detections(xyxy=array([[     229.31,      140.43,      1157.4,      715.59],\n",
      "       [          0,      451.49,      239.17,      711.87]], dtype=float32), mask=None, confidence=array([    0.88792,     0.25563], dtype=float32), class_id=array([0, 0]), tracker_id=None, data={'class_name': array(['person', 'person'], dtype='<U6')})\n"
     ]
    },
    {
     "name": "stderr",
     "output_type": "stream",
     "text": [
      "\n",
      "0: 384x640 1 person, 38.9ms\n",
      "Speed: 6.7ms preprocess, 38.9ms inference, 7.1ms postprocess per image at shape (1, 3, 384, 640)\n",
      "\n",
      "0: 384x640 2 persons, 30.8ms\n",
      "Speed: 7.0ms preprocess, 30.8ms inference, 15.7ms postprocess per image at shape (1, 3, 384, 640)\n",
      "\n"
     ]
    },
    {
     "name": "stdout",
     "output_type": "stream",
     "text": [
      "Detections(xyxy=array([[     233.37,      137.72,      1155.6,      714.78]], dtype=float32), mask=None, confidence=array([    0.89416], dtype=float32), class_id=array([0]), tracker_id=None, data={'class_name': array(['person'], dtype='<U6')})\n",
      "Detections(xyxy=array([[     233.37,      137.72,      1155.6,      714.78]], dtype=float32), mask=None, confidence=array([    0.89416], dtype=float32), class_id=array([0]), tracker_id=None, data={'class_name': array(['person'], dtype='<U6')})\n",
      "Detections(xyxy=array([[      225.8,      138.74,      1154.5,      714.52],\n",
      "       [   0.045898,      452.97,      238.77,      711.83]], dtype=float32), mask=None, confidence=array([     0.8843,     0.28503], dtype=float32), class_id=array([0, 0]), tracker_id=None, data={'class_name': array(['person', 'person'], dtype='<U6')})\n",
      "Detections(xyxy=array([[      225.8,      138.74,      1154.5,      714.52],\n",
      "       [   0.045898,      452.97,      238.77,      711.83]], dtype=float32), mask=None, confidence=array([     0.8843,     0.28503], dtype=float32), class_id=array([0, 0]), tracker_id=None, data={'class_name': array(['person', 'person'], dtype='<U6')})\n"
     ]
    },
    {
     "name": "stderr",
     "output_type": "stream",
     "text": [
      "0: 384x640 1 person, 52.1ms\n",
      "Speed: 0.0ms preprocess, 52.1ms inference, 15.7ms postprocess per image at shape (1, 3, 384, 640)\n",
      "\n",
      "0: 384x640 1 person, 30.1ms\n",
      "Speed: 9.0ms preprocess, 30.1ms inference, 15.7ms postprocess per image at shape (1, 3, 384, 640)\n",
      "\n"
     ]
    },
    {
     "name": "stdout",
     "output_type": "stream",
     "text": [
      "Detections(xyxy=array([[     229.64,      138.14,      1155.1,      715.49]], dtype=float32), mask=None, confidence=array([    0.88578], dtype=float32), class_id=array([0]), tracker_id=None, data={'class_name': array(['person'], dtype='<U6')})\n",
      "Detections(xyxy=array([[     229.64,      138.14,      1155.1,      715.49]], dtype=float32), mask=None, confidence=array([    0.88578], dtype=float32), class_id=array([0]), tracker_id=None, data={'class_name': array(['person'], dtype='<U6')})\n",
      "Detections(xyxy=array([[     229.13,      137.79,      1150.9,      714.74]], dtype=float32), mask=None, confidence=array([    0.88979], dtype=float32), class_id=array([0]), tracker_id=None, data={'class_name': array(['person'], dtype='<U6')})\n",
      "Detections(xyxy=array([[     229.13,      137.79,      1150.9,      714.74]], dtype=float32), mask=None, confidence=array([    0.88979], dtype=float32), class_id=array([0]), tracker_id=None, data={'class_name': array(['person'], dtype='<U6')})\n"
     ]
    },
    {
     "name": "stderr",
     "output_type": "stream",
     "text": [
      "0: 384x640 1 person, 33.8ms\n",
      "Speed: 8.8ms preprocess, 33.8ms inference, 0.0ms postprocess per image at shape (1, 3, 384, 640)\n",
      "\n",
      "0: 384x640 2 persons, 39.3ms\n",
      "Speed: 8.3ms preprocess, 39.3ms inference, 8.6ms postprocess per image at shape (1, 3, 384, 640)\n",
      "\n"
     ]
    },
    {
     "name": "stdout",
     "output_type": "stream",
     "text": [
      "Detections(xyxy=array([[     234.22,      138.73,      1151.5,      715.08]], dtype=float32), mask=None, confidence=array([    0.88584], dtype=float32), class_id=array([0]), tracker_id=None, data={'class_name': array(['person'], dtype='<U6')})\n",
      "Detections(xyxy=array([[     234.22,      138.73,      1151.5,      715.08]], dtype=float32), mask=None, confidence=array([    0.88584], dtype=float32), class_id=array([0]), tracker_id=None, data={'class_name': array(['person'], dtype='<U6')})\n",
      "Detections(xyxy=array([[     229.69,      138.08,      1152.6,      714.93],\n",
      "       [          0,      450.46,      243.74,      711.35]], dtype=float32), mask=None, confidence=array([    0.89132,     0.39199], dtype=float32), class_id=array([0, 0]), tracker_id=None, data={'class_name': array(['person', 'person'], dtype='<U6')})\n",
      "Detections(xyxy=array([[     229.69,      138.08,      1152.6,      714.93],\n",
      "       [          0,      450.46,      243.74,      711.35]], dtype=float32), mask=None, confidence=array([    0.89132,     0.39199], dtype=float32), class_id=array([0, 0]), tracker_id=None, data={'class_name': array(['person', 'person'], dtype='<U6')})\n"
     ]
    },
    {
     "name": "stderr",
     "output_type": "stream",
     "text": [
      "0: 384x640 1 person, 44.5ms\n",
      "Speed: 0.0ms preprocess, 44.5ms inference, 4.3ms postprocess per image at shape (1, 3, 384, 640)\n",
      "\n",
      "0: 384x640 2 persons, 1 refrigerator, 33.5ms\n",
      "Speed: 3.4ms preprocess, 33.5ms inference, 0.0ms postprocess per image at shape (1, 3, 384, 640)\n",
      "\n"
     ]
    },
    {
     "name": "stdout",
     "output_type": "stream",
     "text": [
      "Detections(xyxy=array([[     230.38,      138.74,      1149.7,      715.19]], dtype=float32), mask=None, confidence=array([    0.89151], dtype=float32), class_id=array([0]), tracker_id=None, data={'class_name': array(['person'], dtype='<U6')})\n",
      "Detections(xyxy=array([[     230.38,      138.74,      1149.7,      715.19]], dtype=float32), mask=None, confidence=array([    0.89151], dtype=float32), class_id=array([0]), tracker_id=None, data={'class_name': array(['person'], dtype='<U6')})\n",
      "Detections(xyxy=array([[     229.91,      136.25,      1151.8,       714.7],\n",
      "       [    0.07312,       420.8,      248.58,      711.21],\n",
      "       [       1190,      253.16,      1279.6,      713.59]], dtype=float32), mask=None, confidence=array([    0.88835,     0.30776,     0.30507], dtype=float32), class_id=array([ 0,  0, 72]), tracker_id=None, data={'class_name': array(['person', 'person', 'refrigerator'], dtype='<U12')})\n",
      "Detections(xyxy=array([[     229.91,      136.25,      1151.8,       714.7],\n",
      "       [    0.07312,       420.8,      248.58,      711.21],\n",
      "       [       1190,      253.16,      1279.6,      713.59]], dtype=float32), mask=None, confidence=array([    0.88835,     0.30776,     0.30507], dtype=float32), class_id=array([ 0,  0, 72]), tracker_id=None, data={'class_name': array(['person', 'person', 'refrigerator'], dtype='<U12')})\n"
     ]
    },
    {
     "name": "stderr",
     "output_type": "stream",
     "text": [
      "0: 384x640 2 persons, 44.9ms\n",
      "Speed: 0.0ms preprocess, 44.9ms inference, 0.0ms postprocess per image at shape (1, 3, 384, 640)\n",
      "\n",
      "0: 384x640 2 persons, 32.6ms\n",
      "Speed: 3.1ms preprocess, 32.6ms inference, 15.7ms postprocess per image at shape (1, 3, 384, 640)\n",
      "\n"
     ]
    },
    {
     "name": "stdout",
     "output_type": "stream",
     "text": [
      "Detections(xyxy=array([[     231.19,      135.98,      1153.3,      715.03],\n",
      "       [   0.029907,      420.25,       249.7,      712.22]], dtype=float32), mask=None, confidence=array([    0.89343,     0.35961], dtype=float32), class_id=array([0, 0]), tracker_id=None, data={'class_name': array(['person', 'person'], dtype='<U6')})\n",
      "Detections(xyxy=array([[     231.19,      135.98,      1153.3,      715.03],\n",
      "       [   0.029907,      420.25,       249.7,      712.22]], dtype=float32), mask=None, confidence=array([    0.89343,     0.35961], dtype=float32), class_id=array([0, 0]), tracker_id=None, data={'class_name': array(['person', 'person'], dtype='<U6')})\n",
      "Detections(xyxy=array([[     233.56,      136.34,      1157.5,      715.38],\n",
      "       [   0.059082,      414.93,      250.38,      711.05]], dtype=float32), mask=None, confidence=array([    0.89477,     0.26287], dtype=float32), class_id=array([0, 0]), tracker_id=None, data={'class_name': array(['person', 'person'], dtype='<U6')})\n",
      "Detections(xyxy=array([[     233.56,      136.34,      1157.5,      715.38],\n",
      "       [   0.059082,      414.93,      250.38,      711.05]], dtype=float32), mask=None, confidence=array([    0.89477,     0.26287], dtype=float32), class_id=array([0, 0]), tracker_id=None, data={'class_name': array(['person', 'person'], dtype='<U6')})\n"
     ]
    },
    {
     "name": "stderr",
     "output_type": "stream",
     "text": [
      "0: 384x640 2 persons, 41.8ms\n",
      "Speed: 0.0ms preprocess, 41.8ms inference, 3.2ms postprocess per image at shape (1, 3, 384, 640)\n",
      "\n",
      "0: 384x640 2 persons, 42.7ms\n",
      "Speed: 0.0ms preprocess, 42.7ms inference, 2.6ms postprocess per image at shape (1, 3, 384, 640)\n"
     ]
    },
    {
     "name": "stdout",
     "output_type": "stream",
     "text": [
      "Detections(xyxy=array([[      233.4,      136.67,      1155.3,      715.09],\n",
      "       [   0.029144,      412.79,      253.63,      711.18]], dtype=float32), mask=None, confidence=array([    0.89782,     0.34218], dtype=float32), class_id=array([0, 0]), tracker_id=None, data={'class_name': array(['person', 'person'], dtype='<U6')})\n",
      "Detections(xyxy=array([[      233.4,      136.67,      1155.3,      715.09],\n",
      "       [   0.029144,      412.79,      253.63,      711.18]], dtype=float32), mask=None, confidence=array([    0.89782,     0.34218], dtype=float32), class_id=array([0, 0]), tracker_id=None, data={'class_name': array(['person', 'person'], dtype='<U6')})\n",
      "Detections(xyxy=array([[     240.28,      140.52,      1148.5,      715.17],\n",
      "       [    0.12225,      413.69,      257.69,      711.09]], dtype=float32), mask=None, confidence=array([    0.90082,     0.33563], dtype=float32), class_id=array([0, 0]), tracker_id=None, data={'class_name': array(['person', 'person'], dtype='<U6')})\n",
      "Detections(xyxy=array([[     240.28,      140.52,      1148.5,      715.17],\n",
      "       [    0.12225,      413.69,      257.69,      711.09]], dtype=float32), mask=None, confidence=array([    0.90082,     0.33563], dtype=float32), class_id=array([0, 0]), tracker_id=None, data={'class_name': array(['person', 'person'], dtype='<U6')})\n"
     ]
    },
    {
     "name": "stderr",
     "output_type": "stream",
     "text": [
      "\n",
      "0: 384x640 2 persons, 33.4ms\n",
      "Speed: 3.2ms preprocess, 33.4ms inference, 0.0ms postprocess per image at shape (1, 3, 384, 640)\n",
      "\n",
      "0: 384x640 2 persons, 33.5ms\n",
      "Speed: 8.2ms preprocess, 33.5ms inference, 11.5ms postprocess per image at shape (1, 3, 384, 640)\n",
      "\n"
     ]
    },
    {
     "name": "stdout",
     "output_type": "stream",
     "text": [
      "Detections(xyxy=array([[     239.13,      137.03,      1147.6,      715.08],\n",
      "       [   0.044525,      406.03,      259.22,       711.9]], dtype=float32), mask=None, confidence=array([    0.89596,     0.31029], dtype=float32), class_id=array([0, 0]), tracker_id=None, data={'class_name': array(['person', 'person'], dtype='<U6')})\n",
      "Detections(xyxy=array([[     239.13,      137.03,      1147.6,      715.08],\n",
      "       [   0.044525,      406.03,      259.22,       711.9]], dtype=float32), mask=None, confidence=array([    0.89596,     0.31029], dtype=float32), class_id=array([0, 0]), tracker_id=None, data={'class_name': array(['person', 'person'], dtype='<U6')})\n",
      "Detections(xyxy=array([[     234.62,      141.13,      1152.4,      714.88],\n",
      "       [   0.050781,      399.96,      258.02,      711.21]], dtype=float32), mask=None, confidence=array([    0.89785,     0.44212], dtype=float32), class_id=array([0, 0]), tracker_id=None, data={'class_name': array(['person', 'person'], dtype='<U6')})\n",
      "Detections(xyxy=array([[     234.62,      141.13,      1152.4,      714.88],\n",
      "       [   0.050781,      399.96,      258.02,      711.21]], dtype=float32), mask=None, confidence=array([    0.89785,     0.44212], dtype=float32), class_id=array([0, 0]), tracker_id=None, data={'class_name': array(['person', 'person'], dtype='<U6')})\n"
     ]
    },
    {
     "name": "stderr",
     "output_type": "stream",
     "text": [
      "0: 384x640 2 persons, 33.5ms\n",
      "Speed: 4.1ms preprocess, 33.5ms inference, 0.0ms postprocess per image at shape (1, 3, 384, 640)\n",
      "\n",
      "0: 384x640 2 persons, 40.5ms\n",
      "Speed: 0.0ms preprocess, 40.5ms inference, 4.1ms postprocess per image at shape (1, 3, 384, 640)\n",
      "\n"
     ]
    },
    {
     "name": "stdout",
     "output_type": "stream",
     "text": [
      "Detections(xyxy=array([[     241.54,       139.9,      1152.9,      714.98],\n",
      "       [          0,      399.58,      258.98,      711.36]], dtype=float32), mask=None, confidence=array([    0.89368,     0.29326], dtype=float32), class_id=array([0, 0]), tracker_id=None, data={'class_name': array(['person', 'person'], dtype='<U6')})\n",
      "Detections(xyxy=array([[     241.54,       139.9,      1152.9,      714.98],\n",
      "       [          0,      399.58,      258.98,      711.36]], dtype=float32), mask=None, confidence=array([    0.89368,     0.29326], dtype=float32), class_id=array([0, 0]), tracker_id=None, data={'class_name': array(['person', 'person'], dtype='<U6')})\n",
      "Detections(xyxy=array([[     236.07,      138.83,      1158.7,      713.35],\n",
      "       [    0.34644,      389.05,      260.04,      713.02]], dtype=float32), mask=None, confidence=array([    0.92527,     0.50083], dtype=float32), class_id=array([0, 0]), tracker_id=None, data={'class_name': array(['person', 'person'], dtype='<U6')})\n",
      "Detections(xyxy=array([[     236.07,      138.83,      1158.7,      713.35],\n",
      "       [    0.34644,      389.05,      260.04,      713.02]], dtype=float32), mask=None, confidence=array([    0.92527,     0.50083], dtype=float32), class_id=array([0, 0]), tracker_id=None, data={'class_name': array(['person', 'person'], dtype='<U6')})\n"
     ]
    },
    {
     "name": "stderr",
     "output_type": "stream",
     "text": [
      "0: 384x640 2 persons, 33.6ms\n",
      "Speed: 3.0ms preprocess, 33.6ms inference, 0.0ms postprocess per image at shape (1, 3, 384, 640)\n",
      "\n",
      "0: 384x640 2 persons, 44.5ms\n",
      "Speed: 0.0ms preprocess, 44.5ms inference, 0.0ms postprocess per image at shape (1, 3, 384, 640)\n"
     ]
    },
    {
     "name": "stdout",
     "output_type": "stream",
     "text": [
      "Detections(xyxy=array([[   0.074066,      388.85,       263.4,      713.75],\n",
      "       [     243.67,      135.27,      1044.4,      714.93]], dtype=float32), mask=None, confidence=array([    0.86117,     0.71326], dtype=float32), class_id=array([0, 0]), tracker_id=None, data={'class_name': array(['person', 'person'], dtype='<U6')})\n",
      "Detections(xyxy=array([[   0.074066,      388.85,       263.4,      713.75],\n",
      "       [     243.67,      135.27,      1044.4,      714.93]], dtype=float32), mask=None, confidence=array([    0.86117,     0.71326], dtype=float32), class_id=array([0, 0]), tracker_id=None, data={'class_name': array(['person', 'person'], dtype='<U6')})\n",
      "Detections(xyxy=array([[     246.98,      135.76,      1170.3,      714.79],\n",
      "       [          0,      387.31,      264.62,      714.62]], dtype=float32), mask=None, confidence=array([    0.89735,     0.89336], dtype=float32), class_id=array([0, 0]), tracker_id=None, data={'class_name': array(['person', 'person'], dtype='<U6')})\n",
      "Detections(xyxy=array([[     246.98,      135.76,      1170.3,      714.79],\n",
      "       [          0,      387.31,      264.62,      714.62]], dtype=float32), mask=None, confidence=array([    0.89735,     0.89336], dtype=float32), class_id=array([0, 0]), tracker_id=None, data={'class_name': array(['person', 'person'], dtype='<U6')})\n"
     ]
    },
    {
     "name": "stderr",
     "output_type": "stream",
     "text": [
      "\n",
      "0: 384x640 2 persons, 33.4ms\n",
      "Speed: 0.0ms preprocess, 33.4ms inference, 0.0ms postprocess per image at shape (1, 3, 384, 640)\n",
      "\n",
      "0: 384x640 2 persons, 49.9ms\n",
      "Speed: 0.0ms preprocess, 49.9ms inference, 8.0ms postprocess per image at shape (1, 3, 384, 640)\n"
     ]
    },
    {
     "name": "stdout",
     "output_type": "stream",
     "text": [
      "Detections(xyxy=array([[      249.5,       138.1,      1165.6,      714.94],\n",
      "       [   0.065186,      394.37,      264.65,      714.82]], dtype=float32), mask=None, confidence=array([    0.92408,     0.90657], dtype=float32), class_id=array([0, 0]), tracker_id=None, data={'class_name': array(['person', 'person'], dtype='<U6')})\n",
      "Detections(xyxy=array([[      249.5,       138.1,      1165.6,      714.94],\n",
      "       [   0.065186,      394.37,      264.65,      714.82]], dtype=float32), mask=None, confidence=array([    0.92408,     0.90657], dtype=float32), class_id=array([0, 0]), tracker_id=None, data={'class_name': array(['person', 'person'], dtype='<U6')})\n",
      "Detections(xyxy=array([[   0.074554,      390.57,      267.69,      714.88],\n",
      "       [     252.88,      138.06,      1164.9,      714.58]], dtype=float32), mask=None, confidence=array([     0.9121,     0.90754], dtype=float32), class_id=array([0, 0]), tracker_id=None, data={'class_name': array(['person', 'person'], dtype='<U6')})\n",
      "Detections(xyxy=array([[   0.074554,      390.57,      267.69,      714.88],\n",
      "       [     252.88,      138.06,      1164.9,      714.58]], dtype=float32), mask=None, confidence=array([     0.9121,     0.90754], dtype=float32), class_id=array([0, 0]), tracker_id=None, data={'class_name': array(['person', 'person'], dtype='<U6')})\n"
     ]
    },
    {
     "name": "stderr",
     "output_type": "stream",
     "text": [
      "\n",
      "0: 384x640 2 persons, 35.6ms\n",
      "Speed: 5.0ms preprocess, 35.6ms inference, 13.8ms postprocess per image at shape (1, 3, 384, 640)\n",
      "\n",
      "0: 384x640 2 persons, 34.5ms\n",
      "Speed: 0.0ms preprocess, 34.5ms inference, 17.8ms postprocess per image at shape (1, 3, 384, 640)\n"
     ]
    },
    {
     "name": "stdout",
     "output_type": "stream",
     "text": [
      "Detections(xyxy=array([[     256.12,      138.24,      1169.4,      715.21],\n",
      "       [     0.1553,      385.59,      269.62,      714.76]], dtype=float32), mask=None, confidence=array([    0.90813,     0.88896], dtype=float32), class_id=array([0, 0]), tracker_id=None, data={'class_name': array(['person', 'person'], dtype='<U6')})\n",
      "Detections(xyxy=array([[     256.12,      138.24,      1169.4,      715.21],\n",
      "       [     0.1553,      385.59,      269.62,      714.76]], dtype=float32), mask=None, confidence=array([    0.90813,     0.88896], dtype=float32), class_id=array([0, 0]), tracker_id=None, data={'class_name': array(['person', 'person'], dtype='<U6')})\n",
      "Detections(xyxy=array([[     246.64,      137.68,      1174.3,      715.03],\n",
      "       [    0.20071,      383.57,      270.48,      714.16]], dtype=float32), mask=None, confidence=array([    0.90207,     0.81848], dtype=float32), class_id=array([0, 0]), tracker_id=None, data={'class_name': array(['person', 'person'], dtype='<U6')})\n",
      "Detections(xyxy=array([[     246.64,      137.68,      1174.3,      715.03],\n",
      "       [    0.20071,      383.57,      270.48,      714.16]], dtype=float32), mask=None, confidence=array([    0.90207,     0.81848], dtype=float32), class_id=array([0, 0]), tracker_id=None, data={'class_name': array(['person', 'person'], dtype='<U6')})\n"
     ]
    },
    {
     "name": "stderr",
     "output_type": "stream",
     "text": [
      "\n",
      "0: 384x640 2 persons, 43.7ms\n",
      "Speed: 0.0ms preprocess, 43.7ms inference, 0.0ms postprocess per image at shape (1, 3, 384, 640)\n",
      "\n",
      "0: 384x640 3 persons, 33.0ms\n",
      "Speed: 9.2ms preprocess, 33.0ms inference, 11.3ms postprocess per image at shape (1, 3, 384, 640)\n"
     ]
    },
    {
     "name": "stdout",
     "output_type": "stream",
     "text": [
      "Detections(xyxy=array([[     247.33,      136.64,      1180.2,      714.66],\n",
      "       [    0.11884,      385.77,      271.78,      714.81]], dtype=float32), mask=None, confidence=array([    0.90933,     0.90477], dtype=float32), class_id=array([0, 0]), tracker_id=None, data={'class_name': array(['person', 'person'], dtype='<U6')})\n",
      "Detections(xyxy=array([[     247.33,      136.64,      1180.2,      714.66],\n",
      "       [    0.11884,      385.77,      271.78,      714.81]], dtype=float32), mask=None, confidence=array([    0.90933,     0.90477], dtype=float32), class_id=array([0, 0]), tracker_id=None, data={'class_name': array(['person', 'person'], dtype='<U6')})\n",
      "Detections(xyxy=array([[     246.95,      137.09,      1168.2,      714.73],\n",
      "       [    0.13638,      390.52,      272.44,      714.42],\n",
      "       [     1177.5,      334.67,      1279.7,       714.4]], dtype=float32), mask=None, confidence=array([    0.91213,     0.89028,     0.26793], dtype=float32), class_id=array([0, 0, 0]), tracker_id=None, data={'class_name': array(['person', 'person', 'person'], dtype='<U6')})\n",
      "Detections(xyxy=array([[     246.95,      137.09,      1168.2,      714.73],\n",
      "       [    0.13638,      390.52,      272.44,      714.42],\n",
      "       [     1177.5,      334.67,      1279.7,       714.4]], dtype=float32), mask=None, confidence=array([    0.91213,     0.89028,     0.26793], dtype=float32), class_id=array([0, 0, 0]), tracker_id=None, data={'class_name': array(['person', 'person', 'person'], dtype='<U6')})\n"
     ]
    },
    {
     "name": "stderr",
     "output_type": "stream",
     "text": [
      "\n",
      "0: 384x640 3 persons, 35.2ms\n",
      "Speed: 0.0ms preprocess, 35.2ms inference, 15.7ms postprocess per image at shape (1, 3, 384, 640)\n",
      "\n",
      "0: 384x640 2 persons, 33.1ms\n",
      "Speed: 2.7ms preprocess, 33.1ms inference, 15.7ms postprocess per image at shape (1, 3, 384, 640)\n",
      "\n"
     ]
    },
    {
     "name": "stdout",
     "output_type": "stream",
     "text": [
      "Detections(xyxy=array([[      262.3,       139.5,        1162,      715.23],\n",
      "       [   0.080811,      393.97,      274.24,      714.51],\n",
      "       [     1019.4,      334.04,      1279.2,      711.59]], dtype=float32), mask=None, confidence=array([    0.88171,     0.87763,     0.32238], dtype=float32), class_id=array([0, 0, 0]), tracker_id=None, data={'class_name': array(['person', 'person', 'person'], dtype='<U6')})\n",
      "Detections(xyxy=array([[      262.3,       139.5,        1162,      715.23],\n",
      "       [   0.080811,      393.97,      274.24,      714.51],\n",
      "       [     1019.4,      334.04,      1279.2,      711.59]], dtype=float32), mask=None, confidence=array([    0.88171,     0.87763,     0.32238], dtype=float32), class_id=array([0, 0, 0]), tracker_id=None, data={'class_name': array(['person', 'person', 'person'], dtype='<U6')})\n",
      "Detections(xyxy=array([[     259.97,      140.28,      1158.9,      714.59],\n",
      "       [    0.10364,      394.12,      276.06,      714.65]], dtype=float32), mask=None, confidence=array([    0.91013,     0.86009], dtype=float32), class_id=array([0, 0]), tracker_id=None, data={'class_name': array(['person', 'person'], dtype='<U6')})\n",
      "Detections(xyxy=array([[     259.97,      140.28,      1158.9,      714.59],\n",
      "       [    0.10364,      394.12,      276.06,      714.65]], dtype=float32), mask=None, confidence=array([    0.91013,     0.86009], dtype=float32), class_id=array([0, 0]), tracker_id=None, data={'class_name': array(['person', 'person'], dtype='<U6')})\n"
     ]
    },
    {
     "name": "stderr",
     "output_type": "stream",
     "text": [
      "0: 384x640 2 persons, 31.3ms\n",
      "Speed: 10.7ms preprocess, 31.3ms inference, 12.1ms postprocess per image at shape (1, 3, 384, 640)\n",
      "\n",
      "0: 384x640 2 persons, 51.5ms\n",
      "Speed: 0.0ms preprocess, 51.5ms inference, 0.0ms postprocess per image at shape (1, 3, 384, 640)\n",
      "\n"
     ]
    },
    {
     "name": "stdout",
     "output_type": "stream",
     "text": [
      "Detections(xyxy=array([[     250.17,       140.9,      1158.4,      714.47],\n",
      "       [    0.12231,      393.89,      274.31,       714.8]], dtype=float32), mask=None, confidence=array([    0.89884,     0.89717], dtype=float32), class_id=array([0, 0]), tracker_id=None, data={'class_name': array(['person', 'person'], dtype='<U6')})\n",
      "Detections(xyxy=array([[     250.17,       140.9,      1158.4,      714.47],\n",
      "       [    0.12231,      393.89,      274.31,       714.8]], dtype=float32), mask=None, confidence=array([    0.89884,     0.89717], dtype=float32), class_id=array([0, 0]), tracker_id=None, data={'class_name': array(['person', 'person'], dtype='<U6')})\n",
      "Detections(xyxy=array([[     253.46,      134.07,        1164,      714.78],\n",
      "       [    0.19418,      385.82,      275.38,      714.97]], dtype=float32), mask=None, confidence=array([    0.87326,     0.70279], dtype=float32), class_id=array([0, 0]), tracker_id=None, data={'class_name': array(['person', 'person'], dtype='<U6')})\n",
      "Detections(xyxy=array([[     253.46,      134.07,        1164,      714.78],\n",
      "       [    0.19418,      385.82,      275.38,      714.97]], dtype=float32), mask=None, confidence=array([    0.87326,     0.70279], dtype=float32), class_id=array([0, 0]), tracker_id=None, data={'class_name': array(['person', 'person'], dtype='<U6')})\n"
     ]
    },
    {
     "name": "stderr",
     "output_type": "stream",
     "text": [
      "0: 384x640 2 persons, 44.9ms\n",
      "Speed: 0.0ms preprocess, 44.9ms inference, 15.7ms postprocess per image at shape (1, 3, 384, 640)\n",
      "\n",
      "0: 384x640 2 persons, 43.4ms\n",
      "Speed: 0.0ms preprocess, 43.4ms inference, 0.0ms postprocess per image at shape (1, 3, 384, 640)\n",
      "\n"
     ]
    },
    {
     "name": "stdout",
     "output_type": "stream",
     "text": [
      "Detections(xyxy=array([[     241.75,      127.97,      1169.1,      714.71],\n",
      "       [    0.15234,      385.95,      268.49,       714.5]], dtype=float32), mask=None, confidence=array([    0.86692,     0.83168], dtype=float32), class_id=array([0, 0]), tracker_id=None, data={'class_name': array(['person', 'person'], dtype='<U6')})\n",
      "Detections(xyxy=array([[     241.75,      127.97,      1169.1,      714.71],\n",
      "       [    0.15234,      385.95,      268.49,       714.5]], dtype=float32), mask=None, confidence=array([    0.86692,     0.83168], dtype=float32), class_id=array([0, 0]), tracker_id=None, data={'class_name': array(['person', 'person'], dtype='<U6')})\n",
      "Detections(xyxy=array([[    0.15533,      379.66,      263.21,      714.76],\n",
      "       [     243.41,      125.71,      1161.7,      714.42]], dtype=float32), mask=None, confidence=array([    0.87342,     0.86673], dtype=float32), class_id=array([0, 0]), tracker_id=None, data={'class_name': array(['person', 'person'], dtype='<U6')})\n",
      "Detections(xyxy=array([[    0.15533,      379.66,      263.21,      714.76],\n",
      "       [     243.41,      125.71,      1161.7,      714.42]], dtype=float32), mask=None, confidence=array([    0.87342,     0.86673], dtype=float32), class_id=array([0, 0]), tracker_id=None, data={'class_name': array(['person', 'person'], dtype='<U6')})\n"
     ]
    },
    {
     "name": "stderr",
     "output_type": "stream",
     "text": [
      "0: 384x640 2 persons, 36.0ms\n",
      "Speed: 4.7ms preprocess, 36.0ms inference, 15.7ms postprocess per image at shape (1, 3, 384, 640)\n",
      "\n",
      "0: 384x640 2 persons, 31.3ms\n",
      "Speed: 0.0ms preprocess, 31.3ms inference, 25.5ms postprocess per image at shape (1, 3, 384, 640)\n",
      "\n"
     ]
    },
    {
     "name": "stdout",
     "output_type": "stream",
     "text": [
      "Detections(xyxy=array([[      210.1,      97.242,      1119.4,      714.05],\n",
      "       [    0.18556,      323.06,      245.38,      712.12]], dtype=float32), mask=None, confidence=array([    0.88794,     0.86042], dtype=float32), class_id=array([0, 0]), tracker_id=None, data={'class_name': array(['person', 'person'], dtype='<U6')})\n",
      "Detections(xyxy=array([[      210.1,      97.242,      1119.4,      714.05],\n",
      "       [    0.18556,      323.06,      245.38,      712.12]], dtype=float32), mask=None, confidence=array([    0.88794,     0.86042], dtype=float32), class_id=array([0, 0]), tracker_id=None, data={'class_name': array(['person', 'person'], dtype='<U6')})\n",
      "Detections(xyxy=array([[     170.63,      86.278,      1128.3,      714.06],\n",
      "       [          0,      312.15,      226.05,      713.85]], dtype=float32), mask=None, confidence=array([    0.90245,     0.88804], dtype=float32), class_id=array([0, 0]), tracker_id=None, data={'class_name': array(['person', 'person'], dtype='<U6')})\n",
      "Detections(xyxy=array([[     170.63,      86.278,      1128.3,      714.06],\n",
      "       [          0,      312.15,      226.05,      713.85]], dtype=float32), mask=None, confidence=array([    0.90245,     0.88804], dtype=float32), class_id=array([0, 0]), tracker_id=None, data={'class_name': array(['person', 'person'], dtype='<U6')})\n"
     ]
    },
    {
     "name": "stderr",
     "output_type": "stream",
     "text": [
      "0: 384x640 2 persons, 40.9ms\n",
      "Speed: 3.1ms preprocess, 40.9ms inference, 7.7ms postprocess per image at shape (1, 3, 384, 640)\n",
      "\n",
      "0: 384x640 2 persons, 37.3ms\n",
      "Speed: 9.4ms preprocess, 37.3ms inference, 5.0ms postprocess per image at shape (1, 3, 384, 640)\n",
      "\n"
     ]
    },
    {
     "name": "stdout",
     "output_type": "stream",
     "text": [
      "Detections(xyxy=array([[     33.052,      83.962,      1134.1,       714.1],\n",
      "       [          0,      327.44,      228.09,      713.29]], dtype=float32), mask=None, confidence=array([    0.84721,     0.73842], dtype=float32), class_id=array([0, 0]), tracker_id=None, data={'class_name': array(['person', 'person'], dtype='<U6')})\n",
      "Detections(xyxy=array([[     33.052,      83.962,      1134.1,       714.1],\n",
      "       [          0,      327.44,      228.09,      713.29]], dtype=float32), mask=None, confidence=array([    0.84721,     0.73842], dtype=float32), class_id=array([0, 0]), tracker_id=None, data={'class_name': array(['person', 'person'], dtype='<U6')})\n",
      "Detections(xyxy=array([[     152.08,      79.496,      1131.1,       713.6],\n",
      "       [          0,         322,      227.82,       713.7]], dtype=float32), mask=None, confidence=array([    0.89077,     0.87893], dtype=float32), class_id=array([0, 0]), tracker_id=None, data={'class_name': array(['person', 'person'], dtype='<U6')})\n",
      "Detections(xyxy=array([[     152.08,      79.496,      1131.1,       713.6],\n",
      "       [          0,         322,      227.82,       713.7]], dtype=float32), mask=None, confidence=array([    0.89077,     0.87893], dtype=float32), class_id=array([0, 0]), tracker_id=None, data={'class_name': array(['person', 'person'], dtype='<U6')})\n"
     ]
    },
    {
     "name": "stderr",
     "output_type": "stream",
     "text": [
      "0: 384x640 2 persons, 45.7ms\n",
      "Speed: 0.0ms preprocess, 45.7ms inference, 11.1ms postprocess per image at shape (1, 3, 384, 640)\n",
      "\n",
      "0: 384x640 2 persons, 36.9ms\n",
      "Speed: 2.1ms preprocess, 36.9ms inference, 15.6ms postprocess per image at shape (1, 3, 384, 640)\n"
     ]
    },
    {
     "name": "stdout",
     "output_type": "stream",
     "text": [
      "Detections(xyxy=array([[     169.38,      83.177,      1139.2,      713.98],\n",
      "       [          0,      329.12,      226.38,      713.81]], dtype=float32), mask=None, confidence=array([    0.88065,     0.80906], dtype=float32), class_id=array([0, 0]), tracker_id=None, data={'class_name': array(['person', 'person'], dtype='<U6')})\n",
      "Detections(xyxy=array([[     169.38,      83.177,      1139.2,      713.98],\n",
      "       [          0,      329.12,      226.38,      713.81]], dtype=float32), mask=None, confidence=array([    0.88065,     0.80906], dtype=float32), class_id=array([0, 0]), tracker_id=None, data={'class_name': array(['person', 'person'], dtype='<U6')})\n",
      "Detections(xyxy=array([[     163.22,      81.764,      1140.2,       714.1],\n",
      "       [          0,      325.29,      229.04,      713.42]], dtype=float32), mask=None, confidence=array([    0.90465,     0.85864], dtype=float32), class_id=array([0, 0]), tracker_id=None, data={'class_name': array(['person', 'person'], dtype='<U6')})\n",
      "Detections(xyxy=array([[     163.22,      81.764,      1140.2,       714.1],\n",
      "       [          0,      325.29,      229.04,      713.42]], dtype=float32), mask=None, confidence=array([    0.90465,     0.85864], dtype=float32), class_id=array([0, 0]), tracker_id=None, data={'class_name': array(['person', 'person'], dtype='<U6')})\n"
     ]
    },
    {
     "name": "stderr",
     "output_type": "stream",
     "text": [
      "\n",
      "0: 384x640 2 persons, 35.2ms\n",
      "Speed: 8.3ms preprocess, 35.2ms inference, 0.0ms postprocess per image at shape (1, 3, 384, 640)\n",
      "\n",
      "0: 384x640 2 persons, 35.8ms\n",
      "Speed: 9.0ms preprocess, 35.8ms inference, 15.7ms postprocess per image at shape (1, 3, 384, 640)\n",
      "\n"
     ]
    },
    {
     "name": "stdout",
     "output_type": "stream",
     "text": [
      "Detections(xyxy=array([[     185.76,      77.025,      1149.1,       713.9],\n",
      "       [          0,       324.3,      234.22,      714.68]], dtype=float32), mask=None, confidence=array([    0.89964,     0.87315], dtype=float32), class_id=array([0, 0]), tracker_id=None, data={'class_name': array(['person', 'person'], dtype='<U6')})\n",
      "Detections(xyxy=array([[     185.76,      77.025,      1149.1,       713.9],\n",
      "       [          0,       324.3,      234.22,      714.68]], dtype=float32), mask=None, confidence=array([    0.89964,     0.87315], dtype=float32), class_id=array([0, 0]), tracker_id=None, data={'class_name': array(['person', 'person'], dtype='<U6')})\n",
      "Detections(xyxy=array([[     163.11,      79.949,      1147.1,      714.14],\n",
      "       [   0.094925,      328.53,      230.54,      714.39]], dtype=float32), mask=None, confidence=array([    0.90432,     0.88256], dtype=float32), class_id=array([0, 0]), tracker_id=None, data={'class_name': array(['person', 'person'], dtype='<U6')})\n",
      "Detections(xyxy=array([[     163.11,      79.949,      1147.1,      714.14],\n",
      "       [   0.094925,      328.53,      230.54,      714.39]], dtype=float32), mask=None, confidence=array([    0.90432,     0.88256], dtype=float32), class_id=array([0, 0]), tracker_id=None, data={'class_name': array(['person', 'person'], dtype='<U6')})\n"
     ]
    },
    {
     "name": "stderr",
     "output_type": "stream",
     "text": [
      "0: 384x640 2 persons, 42.6ms\n",
      "Speed: 0.0ms preprocess, 42.6ms inference, 18.8ms postprocess per image at shape (1, 3, 384, 640)\n",
      "\n",
      "0: 384x640 2 persons, 33.3ms\n",
      "Speed: 8.7ms preprocess, 33.3ms inference, 0.0ms postprocess per image at shape (1, 3, 384, 640)\n"
     ]
    },
    {
     "name": "stdout",
     "output_type": "stream",
     "text": [
      "Detections(xyxy=array([[     196.89,      80.621,      1144.2,      713.88],\n",
      "       [    0.10788,      326.17,      233.25,      715.58]], dtype=float32), mask=None, confidence=array([    0.89762,     0.88095], dtype=float32), class_id=array([0, 0]), tracker_id=None, data={'class_name': array(['person', 'person'], dtype='<U6')})\n",
      "Detections(xyxy=array([[     196.89,      80.621,      1144.2,      713.88],\n",
      "       [    0.10788,      326.17,      233.25,      715.58]], dtype=float32), mask=None, confidence=array([    0.89762,     0.88095], dtype=float32), class_id=array([0, 0]), tracker_id=None, data={'class_name': array(['person', 'person'], dtype='<U6')})\n",
      "Detections(xyxy=array([[    0.28049,      291.84,      253.71,      712.88],\n",
      "       [     238.56,      55.918,      1192.4,      712.66]], dtype=float32), mask=None, confidence=array([    0.84524,     0.83596], dtype=float32), class_id=array([0, 0]), tracker_id=None, data={'class_name': array(['person', 'person'], dtype='<U6')})\n",
      "Detections(xyxy=array([[    0.28049,      291.84,      253.71,      712.88],\n",
      "       [     238.56,      55.918,      1192.4,      712.66]], dtype=float32), mask=None, confidence=array([    0.84524,     0.83596], dtype=float32), class_id=array([0, 0]), tracker_id=None, data={'class_name': array(['person', 'person'], dtype='<U6')})\n"
     ]
    },
    {
     "name": "stderr",
     "output_type": "stream",
     "text": [
      "\n",
      "0: 384x640 2 persons, 32.0ms\n",
      "Speed: 6.2ms preprocess, 32.0ms inference, 15.6ms postprocess per image at shape (1, 3, 384, 640)\n",
      "\n",
      "0: 384x640 2 persons, 51.0ms\n",
      "Speed: 0.0ms preprocess, 51.0ms inference, 7.7ms postprocess per image at shape (1, 3, 384, 640)\n"
     ]
    },
    {
     "name": "stdout",
     "output_type": "stream",
     "text": [
      "Detections(xyxy=array([[    0.20914,      231.12,      266.72,      710.64],\n",
      "       [     205.25,      3.4351,      1216.3,      711.41]], dtype=float32), mask=None, confidence=array([    0.92528,     0.88811], dtype=float32), class_id=array([0, 0]), tracker_id=None, data={'class_name': array(['person', 'person'], dtype='<U6')})\n",
      "Detections(xyxy=array([[    0.20914,      231.12,      266.72,      710.64],\n",
      "       [     205.25,      3.4351,      1216.3,      711.41]], dtype=float32), mask=None, confidence=array([    0.92528,     0.88811], dtype=float32), class_id=array([0, 0]), tracker_id=None, data={'class_name': array(['person', 'person'], dtype='<U6')})\n",
      "Detections(xyxy=array([[          0,      176.86,      279.92,      704.62],\n",
      "       [     88.633,      2.8086,      1230.3,      712.66]], dtype=float32), mask=None, confidence=array([     0.9047,     0.87931], dtype=float32), class_id=array([0, 0]), tracker_id=None, data={'class_name': array(['person', 'person'], dtype='<U6')})\n",
      "Detections(xyxy=array([[          0,      176.86,      279.92,      704.62],\n",
      "       [     88.633,      2.8086,      1230.3,      712.66]], dtype=float32), mask=None, confidence=array([     0.9047,     0.87931], dtype=float32), class_id=array([0, 0]), tracker_id=None, data={'class_name': array(['person', 'person'], dtype='<U6')})\n"
     ]
    },
    {
     "name": "stderr",
     "output_type": "stream",
     "text": [
      "\n",
      "0: 384x640 2 persons, 33.7ms\n",
      "Speed: 0.0ms preprocess, 33.7ms inference, 15.7ms postprocess per image at shape (1, 3, 384, 640)\n",
      "\n",
      "0: 384x640 2 persons, 32.1ms\n",
      "Speed: 10.6ms preprocess, 32.1ms inference, 15.7ms postprocess per image at shape (1, 3, 384, 640)\n"
     ]
    },
    {
     "name": "stdout",
     "output_type": "stream",
     "text": [
      "Detections(xyxy=array([[          0,      186.76,      277.78,       698.9],\n",
      "       [     170.77,      1.9172,      1226.5,      711.67]], dtype=float32), mask=None, confidence=array([    0.91738,      0.9008], dtype=float32), class_id=array([0, 0]), tracker_id=None, data={'class_name': array(['person', 'person'], dtype='<U6')})\n",
      "Detections(xyxy=array([[          0,      186.76,      277.78,       698.9],\n",
      "       [     170.77,      1.9172,      1226.5,      711.67]], dtype=float32), mask=None, confidence=array([    0.91738,      0.9008], dtype=float32), class_id=array([0, 0]), tracker_id=None, data={'class_name': array(['person', 'person'], dtype='<U6')})\n",
      "Detections(xyxy=array([[   0.093719,      179.83,      280.75,      687.61],\n",
      "       [     166.09,           0,      1233.5,      711.89]], dtype=float32), mask=None, confidence=array([    0.89778,     0.86388], dtype=float32), class_id=array([0, 0]), tracker_id=None, data={'class_name': array(['person', 'person'], dtype='<U6')})\n",
      "Detections(xyxy=array([[   0.093719,      179.83,      280.75,      687.61],\n",
      "       [     166.09,           0,      1233.5,      711.89]], dtype=float32), mask=None, confidence=array([    0.89778,     0.86388], dtype=float32), class_id=array([0, 0]), tracker_id=None, data={'class_name': array(['person', 'person'], dtype='<U6')})\n"
     ]
    },
    {
     "name": "stderr",
     "output_type": "stream",
     "text": [
      "\n",
      "0: 384x640 2 persons, 1 microwave, 39.5ms\n",
      "Speed: 0.0ms preprocess, 39.5ms inference, 15.7ms postprocess per image at shape (1, 3, 384, 640)\n",
      "\n",
      "0: 384x640 2 persons, 43.3ms\n",
      "Speed: 0.0ms preprocess, 43.3ms inference, 16.4ms postprocess per image at shape (1, 3, 384, 640)\n"
     ]
    },
    {
     "name": "stdout",
     "output_type": "stream",
     "text": [
      "Detections(xyxy=array([[    0.14383,      177.93,      276.37,      692.68],\n",
      "       [     139.56,     0.40088,      1230.8,       712.3],\n",
      "       [     1172.5,       46.17,      1279.7,      500.53]], dtype=float32), mask=None, confidence=array([    0.89109,     0.87325,     0.28308], dtype=float32), class_id=array([ 0,  0, 68]), tracker_id=None, data={'class_name': array(['person', 'person', 'microwave'], dtype='<U9')})\n",
      "Detections(xyxy=array([[    0.14383,      177.93,      276.37,      692.68],\n",
      "       [     139.56,     0.40088,      1230.8,       712.3],\n",
      "       [     1172.5,       46.17,      1279.7,      500.53]], dtype=float32), mask=None, confidence=array([    0.89109,     0.87325,     0.28308], dtype=float32), class_id=array([ 0,  0, 68]), tracker_id=None, data={'class_name': array(['person', 'person', 'microwave'], dtype='<U9')})\n",
      "Detections(xyxy=array([[     258.53,     0.50159,      1231.6,      712.48],\n",
      "       [          0,      182.35,      276.19,      692.54]], dtype=float32), mask=None, confidence=array([    0.88892,     0.85276], dtype=float32), class_id=array([0, 0]), tracker_id=None, data={'class_name': array(['person', 'person'], dtype='<U6')})\n",
      "Detections(xyxy=array([[     258.53,     0.50159,      1231.6,      712.48],\n",
      "       [          0,      182.35,      276.19,      692.54]], dtype=float32), mask=None, confidence=array([    0.88892,     0.85276], dtype=float32), class_id=array([0, 0]), tracker_id=None, data={'class_name': array(['person', 'person'], dtype='<U6')})\n"
     ]
    },
    {
     "name": "stderr",
     "output_type": "stream",
     "text": [
      "\n",
      "0: 384x640 2 persons, 31.5ms\n",
      "Speed: 0.0ms preprocess, 31.5ms inference, 15.6ms postprocess per image at shape (1, 3, 384, 640)\n",
      "\n",
      "0: 384x640 2 persons, 31.9ms\n",
      "Speed: 6.2ms preprocess, 31.9ms inference, 0.0ms postprocess per image at shape (1, 3, 384, 640)\n",
      "\n"
     ]
    },
    {
     "name": "stdout",
     "output_type": "stream",
     "text": [
      "Detections(xyxy=array([[     153.93,      0.8894,      1236.3,      710.85],\n",
      "       [    0.11035,      181.08,      281.42,      688.03]], dtype=float32), mask=None, confidence=array([    0.89663,     0.87945], dtype=float32), class_id=array([0, 0]), tracker_id=None, data={'class_name': array(['person', 'person'], dtype='<U6')})\n",
      "Detections(xyxy=array([[     153.93,      0.8894,      1236.3,      710.85],\n",
      "       [    0.11035,      181.08,      281.42,      688.03]], dtype=float32), mask=None, confidence=array([    0.89663,     0.87945], dtype=float32), class_id=array([0, 0]), tracker_id=None, data={'class_name': array(['person', 'person'], dtype='<U6')})\n",
      "Detections(xyxy=array([[     0.1369,      183.65,      279.17,      698.42],\n",
      "       [     148.04,      1.7338,      1237.5,      712.46]], dtype=float32), mask=None, confidence=array([    0.89495,     0.88894], dtype=float32), class_id=array([0, 0]), tracker_id=None, data={'class_name': array(['person', 'person'], dtype='<U6')})\n",
      "Detections(xyxy=array([[     0.1369,      183.65,      279.17,      698.42],\n",
      "       [     148.04,      1.7338,      1237.5,      712.46]], dtype=float32), mask=None, confidence=array([    0.89495,     0.88894], dtype=float32), class_id=array([0, 0]), tracker_id=None, data={'class_name': array(['person', 'person'], dtype='<U6')})\n"
     ]
    },
    {
     "name": "stderr",
     "output_type": "stream",
     "text": [
      "0: 384x640 2 persons, 41.5ms\n",
      "Speed: 0.0ms preprocess, 41.5ms inference, 0.0ms postprocess per image at shape (1, 3, 384, 640)\n",
      "\n",
      "0: 384x640 2 persons, 45.3ms\n",
      "Speed: 0.0ms preprocess, 45.3ms inference, 0.0ms postprocess per image at shape (1, 3, 384, 640)\n"
     ]
    },
    {
     "name": "stdout",
     "output_type": "stream",
     "text": [
      "Detections(xyxy=array([[   0.039093,      184.25,      280.55,      702.92],\n",
      "       [     124.42,      1.9924,      1236.6,       712.5]], dtype=float32), mask=None, confidence=array([    0.90579,     0.87273], dtype=float32), class_id=array([0, 0]), tracker_id=None, data={'class_name': array(['person', 'person'], dtype='<U6')})\n",
      "Detections(xyxy=array([[   0.039093,      184.25,      280.55,      702.92],\n",
      "       [     124.42,      1.9924,      1236.6,       712.5]], dtype=float32), mask=None, confidence=array([    0.90579,     0.87273], dtype=float32), class_id=array([0, 0]), tracker_id=None, data={'class_name': array(['person', 'person'], dtype='<U6')})\n",
      "Detections(xyxy=array([[     152.21,      2.7489,      1239.8,      711.93],\n",
      "       [    0.11978,      186.67,      286.07,       704.3]], dtype=float32), mask=None, confidence=array([    0.89969,     0.89658], dtype=float32), class_id=array([0, 0]), tracker_id=None, data={'class_name': array(['person', 'person'], dtype='<U6')})\n",
      "Detections(xyxy=array([[     152.21,      2.7489,      1239.8,      711.93],\n",
      "       [    0.11978,      186.67,      286.07,       704.3]], dtype=float32), mask=None, confidence=array([    0.89969,     0.89658], dtype=float32), class_id=array([0, 0]), tracker_id=None, data={'class_name': array(['person', 'person'], dtype='<U6')})\n"
     ]
    },
    {
     "name": "stderr",
     "output_type": "stream",
     "text": [
      "\n",
      "0: 384x640 2 persons, 25.5ms\n",
      "Speed: 2.2ms preprocess, 25.5ms inference, 15.6ms postprocess per image at shape (1, 3, 384, 640)\n",
      "\n",
      "0: 384x640 2 persons, 47.5ms\n",
      "Speed: 0.0ms preprocess, 47.5ms inference, 0.0ms postprocess per image at shape (1, 3, 384, 640)\n"
     ]
    },
    {
     "name": "stdout",
     "output_type": "stream",
     "text": [
      "Detections(xyxy=array([[   0.090607,      184.69,      284.35,      690.89],\n",
      "       [     175.17,       0.763,      1238.6,      712.49]], dtype=float32), mask=None, confidence=array([    0.89633,     0.88851], dtype=float32), class_id=array([0, 0]), tracker_id=None, data={'class_name': array(['person', 'person'], dtype='<U6')})\n",
      "Detections(xyxy=array([[   0.090607,      184.69,      284.35,      690.89],\n",
      "       [     175.17,       0.763,      1238.6,      712.49]], dtype=float32), mask=None, confidence=array([    0.89633,     0.88851], dtype=float32), class_id=array([0, 0]), tracker_id=None, data={'class_name': array(['person', 'person'], dtype='<U6')})\n",
      "Detections(xyxy=array([[     0.1055,      186.57,      283.49,      694.61],\n",
      "       [     162.39,           0,      1222.5,      711.59]], dtype=float32), mask=None, confidence=array([     0.9003,     0.87395], dtype=float32), class_id=array([0, 0]), tracker_id=None, data={'class_name': array(['person', 'person'], dtype='<U6')})\n",
      "Detections(xyxy=array([[     0.1055,      186.57,      283.49,      694.61],\n",
      "       [     162.39,           0,      1222.5,      711.59]], dtype=float32), mask=None, confidence=array([     0.9003,     0.87395], dtype=float32), class_id=array([0, 0]), tracker_id=None, data={'class_name': array(['person', 'person'], dtype='<U6')})\n"
     ]
    },
    {
     "name": "stderr",
     "output_type": "stream",
     "text": [
      "\n",
      "0: 384x640 2 persons, 46.1ms\n",
      "Speed: 0.0ms preprocess, 46.1ms inference, 13.8ms postprocess per image at shape (1, 3, 384, 640)\n",
      "\n",
      "0: 384x640 2 persons, 43.2ms\n",
      "Speed: 0.0ms preprocess, 43.2ms inference, 0.0ms postprocess per image at shape (1, 3, 384, 640)\n"
     ]
    },
    {
     "name": "stdout",
     "output_type": "stream",
     "text": [
      "Detections(xyxy=array([[   0.025391,      244.36,      279.35,      711.56],\n",
      "       [     102.71,      23.029,      1219.5,      711.47]], dtype=float32), mask=None, confidence=array([    0.88692,     0.86333], dtype=float32), class_id=array([0, 0]), tracker_id=None, data={'class_name': array(['person', 'person'], dtype='<U6')})\n",
      "Detections(xyxy=array([[   0.025391,      244.36,      279.35,      711.56],\n",
      "       [     102.71,      23.029,      1219.5,      711.47]], dtype=float32), mask=None, confidence=array([    0.88692,     0.86333], dtype=float32), class_id=array([0, 0]), tracker_id=None, data={'class_name': array(['person', 'person'], dtype='<U6')})\n",
      "Detections(xyxy=array([[          0,      239.55,      281.86,      711.66],\n",
      "       [     226.11,      23.899,      1213.5,      712.25]], dtype=float32), mask=None, confidence=array([    0.92299,     0.88376], dtype=float32), class_id=array([0, 0]), tracker_id=None, data={'class_name': array(['person', 'person'], dtype='<U6')})\n",
      "Detections(xyxy=array([[          0,      239.55,      281.86,      711.66],\n",
      "       [     226.11,      23.899,      1213.5,      712.25]], dtype=float32), mask=None, confidence=array([    0.92299,     0.88376], dtype=float32), class_id=array([0, 0]), tracker_id=None, data={'class_name': array(['person', 'person'], dtype='<U6')})\n"
     ]
    },
    {
     "name": "stderr",
     "output_type": "stream",
     "text": [
      "\n",
      "0: 384x640 2 persons, 31.3ms\n",
      "Speed: 0.0ms preprocess, 31.3ms inference, 19.2ms postprocess per image at shape (1, 3, 384, 640)\n",
      "\n",
      "0: 384x640 2 persons, 46.4ms\n",
      "Speed: 0.0ms preprocess, 46.4ms inference, 0.0ms postprocess per image at shape (1, 3, 384, 640)\n"
     ]
    },
    {
     "name": "stdout",
     "output_type": "stream",
     "text": [
      "Detections(xyxy=array([[    0.13257,      223.02,      290.95,      711.07],\n",
      "       [     195.87,      12.046,      1212.5,      712.73]], dtype=float32), mask=None, confidence=array([    0.93444,     0.89467], dtype=float32), class_id=array([0, 0]), tracker_id=None, data={'class_name': array(['person', 'person'], dtype='<U6')})\n",
      "Detections(xyxy=array([[    0.13257,      223.02,      290.95,      711.07],\n",
      "       [     195.87,      12.046,      1212.5,      712.73]], dtype=float32), mask=None, confidence=array([    0.93444,     0.89467], dtype=float32), class_id=array([0, 0]), tracker_id=None, data={'class_name': array(['person', 'person'], dtype='<U6')})\n",
      "Detections(xyxy=array([[          0,      230.63,      276.84,      709.42],\n",
      "       [     180.82,      13.626,      1215.5,      710.87]], dtype=float32), mask=None, confidence=array([    0.87367,     0.86717], dtype=float32), class_id=array([0, 0]), tracker_id=None, data={'class_name': array(['person', 'person'], dtype='<U6')})\n",
      "Detections(xyxy=array([[          0,      230.63,      276.84,      709.42],\n",
      "       [     180.82,      13.626,      1215.5,      710.87]], dtype=float32), mask=None, confidence=array([    0.87367,     0.86717], dtype=float32), class_id=array([0, 0]), tracker_id=None, data={'class_name': array(['person', 'person'], dtype='<U6')})\n"
     ]
    },
    {
     "name": "stderr",
     "output_type": "stream",
     "text": [
      "\n",
      "0: 384x640 2 persons, 36.4ms\n",
      "Speed: 9.1ms preprocess, 36.4ms inference, 0.0ms postprocess per image at shape (1, 3, 384, 640)\n",
      "\n",
      "0: 384x640 2 persons, 1 tie, 41.9ms\n",
      "Speed: 0.0ms preprocess, 41.9ms inference, 16.7ms postprocess per image at shape (1, 3, 384, 640)\n",
      "\n"
     ]
    },
    {
     "name": "stdout",
     "output_type": "stream",
     "text": [
      "Detections(xyxy=array([[    0.02832,      226.88,      278.19,      710.52],\n",
      "       [     179.75,      11.372,      1191.3,      711.25]], dtype=float32), mask=None, confidence=array([    0.90345,     0.84928], dtype=float32), class_id=array([0, 0]), tracker_id=None, data={'class_name': array(['person', 'person'], dtype='<U6')})\n",
      "Detections(xyxy=array([[    0.02832,      226.88,      278.19,      710.52],\n",
      "       [     179.75,      11.372,      1191.3,      711.25]], dtype=float32), mask=None, confidence=array([    0.90345,     0.84928], dtype=float32), class_id=array([0, 0]), tracker_id=None, data={'class_name': array(['person', 'person'], dtype='<U6')})\n",
      "Detections(xyxy=array([[    0.17355,      266.95,      259.69,      712.11],\n",
      "       [     215.17,      74.233,      1130.3,      713.42],\n",
      "       [     691.61,      502.55,      762.56,      718.69]], dtype=float32), mask=None, confidence=array([    0.86278,     0.84738,     0.36825], dtype=float32), class_id=array([ 0,  0, 27]), tracker_id=None, data={'class_name': array(['person', 'person', 'tie'], dtype='<U6')})\n",
      "Detections(xyxy=array([[    0.17355,      266.95,      259.69,      712.11],\n",
      "       [     215.17,      74.233,      1130.3,      713.42],\n",
      "       [     691.61,      502.55,      762.56,      718.69]], dtype=float32), mask=None, confidence=array([    0.86278,     0.84738,     0.36825], dtype=float32), class_id=array([ 0,  0, 27]), tracker_id=None, data={'class_name': array(['person', 'person', 'tie'], dtype='<U6')})\n"
     ]
    },
    {
     "name": "stderr",
     "output_type": "stream",
     "text": [
      "0: 384x640 2 persons, 34.0ms\n",
      "Speed: 0.0ms preprocess, 34.0ms inference, 15.6ms postprocess per image at shape (1, 3, 384, 640)\n",
      "\n",
      "0: 384x640 2 persons, 44.2ms\n",
      "Speed: 0.0ms preprocess, 44.2ms inference, 3.7ms postprocess per image at shape (1, 3, 384, 640)\n"
     ]
    },
    {
     "name": "stdout",
     "output_type": "stream",
     "text": [
      "Detections(xyxy=array([[     198.32,      29.399,      1212.5,         711],\n",
      "       [    0.13036,      278.96,      194.02,      712.53]], dtype=float32), mask=None, confidence=array([    0.85449,     0.73722], dtype=float32), class_id=array([0, 0]), tracker_id=None, data={'class_name': array(['person', 'person'], dtype='<U6')})\n",
      "Detections(xyxy=array([[     198.32,      29.399,      1212.5,         711],\n",
      "       [    0.13036,      278.96,      194.02,      712.53]], dtype=float32), mask=None, confidence=array([    0.85449,     0.73722], dtype=float32), class_id=array([0, 0]), tracker_id=None, data={'class_name': array(['person', 'person'], dtype='<U6')})\n",
      "Detections(xyxy=array([[     204.96,      116.36,      1176.3,      711.47],\n",
      "       [   0.055908,      337.84,      193.17,      712.73]], dtype=float32), mask=None, confidence=array([    0.88726,     0.74074], dtype=float32), class_id=array([0, 0]), tracker_id=None, data={'class_name': array(['person', 'person'], dtype='<U6')})\n",
      "Detections(xyxy=array([[     204.96,      116.36,      1176.3,      711.47],\n",
      "       [   0.055908,      337.84,      193.17,      712.73]], dtype=float32), mask=None, confidence=array([    0.88726,     0.74074], dtype=float32), class_id=array([0, 0]), tracker_id=None, data={'class_name': array(['person', 'person'], dtype='<U6')})\n"
     ]
    },
    {
     "name": "stderr",
     "output_type": "stream",
     "text": [
      "\n",
      "0: 384x640 2 persons, 46.2ms\n",
      "Speed: 0.0ms preprocess, 46.2ms inference, 4.0ms postprocess per image at shape (1, 3, 384, 640)\n",
      "\n",
      "0: 384x640 2 persons, 33.0ms\n",
      "Speed: 9.6ms preprocess, 33.0ms inference, 10.2ms postprocess per image at shape (1, 3, 384, 640)\n",
      "\n"
     ]
    },
    {
     "name": "stdout",
     "output_type": "stream",
     "text": [
      "Detections(xyxy=array([[      255.4,      205.49,      1025.3,      714.89],\n",
      "       [   0.093552,      428.77,      174.59,      715.42]], dtype=float32), mask=None, confidence=array([    0.87213,     0.73103], dtype=float32), class_id=array([0, 0]), tracker_id=None, data={'class_name': array(['person', 'person'], dtype='<U6')})\n",
      "Detections(xyxy=array([[      255.4,      205.49,      1025.3,      714.89],\n",
      "       [   0.093552,      428.77,      174.59,      715.42]], dtype=float32), mask=None, confidence=array([    0.87213,     0.73103], dtype=float32), class_id=array([0, 0]), tracker_id=None, data={'class_name': array(['person', 'person'], dtype='<U6')})\n",
      "Detections(xyxy=array([[    0.19986,      531.74,      151.67,      716.98],\n",
      "       [     471.05,      346.01,      894.85,      714.97]], dtype=float32), mask=None, confidence=array([    0.81997,     0.63454], dtype=float32), class_id=array([0, 0]), tracker_id=None, data={'class_name': array(['person', 'person'], dtype='<U6')})\n",
      "Detections(xyxy=array([[    0.19986,      531.74,      151.67,      716.98],\n",
      "       [     471.05,      346.01,      894.85,      714.97]], dtype=float32), mask=None, confidence=array([    0.81997,     0.63454], dtype=float32), class_id=array([0, 0]), tracker_id=None, data={'class_name': array(['person', 'person'], dtype='<U6')})\n"
     ]
    },
    {
     "name": "stderr",
     "output_type": "stream",
     "text": [
      "0: 384x640 2 persons, 33.3ms\n",
      "Speed: 4.0ms preprocess, 33.3ms inference, 5.6ms postprocess per image at shape (1, 3, 384, 640)\n",
      "\n",
      "0: 384x640 2 persons, 21.3ms\n",
      "Speed: 10.2ms preprocess, 21.3ms inference, 20.8ms postprocess per image at shape (1, 3, 384, 640)\n",
      "\n"
     ]
    },
    {
     "name": "stdout",
     "output_type": "stream",
     "text": [
      "Detections(xyxy=array([[   0.085861,       497.4,       153.7,      715.69],\n",
      "       [     434.35,      334.85,      888.79,      714.46]], dtype=float32), mask=None, confidence=array([    0.72081,     0.71858], dtype=float32), class_id=array([0, 0]), tracker_id=None, data={'class_name': array(['person', 'person'], dtype='<U6')})\n",
      "Detections(xyxy=array([[   0.085861,       497.4,       153.7,      715.69],\n",
      "       [     434.35,      334.85,      888.79,      714.46]], dtype=float32), mask=None, confidence=array([    0.72081,     0.71858], dtype=float32), class_id=array([0, 0]), tracker_id=None, data={'class_name': array(['person', 'person'], dtype='<U6')})\n",
      "Detections(xyxy=array([[     272.32,      287.37,      1002.1,       715.8],\n",
      "       [    0.12564,      453.36,      170.15,      716.77]], dtype=float32), mask=None, confidence=array([    0.87583,     0.32233], dtype=float32), class_id=array([0, 0]), tracker_id=None, data={'class_name': array(['person', 'person'], dtype='<U6')})\n",
      "Detections(xyxy=array([[     272.32,      287.37,      1002.1,       715.8],\n",
      "       [    0.12564,      453.36,      170.15,      716.77]], dtype=float32), mask=None, confidence=array([    0.87583,     0.32233], dtype=float32), class_id=array([0, 0]), tracker_id=None, data={'class_name': array(['person', 'person'], dtype='<U6')})\n"
     ]
    },
    {
     "name": "stderr",
     "output_type": "stream",
     "text": [
      "0: 384x640 2 persons, 1 chair, 36.0ms\n",
      "Speed: 2.8ms preprocess, 36.0ms inference, 13.9ms postprocess per image at shape (1, 3, 384, 640)\n",
      "\n",
      "0: 384x640 2 persons, 1 chair, 33.4ms\n",
      "Speed: 9.2ms preprocess, 33.4ms inference, 8.1ms postprocess per image at shape (1, 3, 384, 640)\n",
      "\n"
     ]
    },
    {
     "name": "stdout",
     "output_type": "stream",
     "text": [
      "Detections(xyxy=array([[     305.82,      261.04,      1062.5,       715.6],\n",
      "       [          0,      427.41,      222.02,      713.79],\n",
      "       [      215.7,         640,      311.82,      719.95]], dtype=float32), mask=None, confidence=array([    0.92923,     0.88516,     0.47839], dtype=float32), class_id=array([ 0,  0, 56]), tracker_id=None, data={'class_name': array(['person', 'person', 'chair'], dtype='<U6')})\n",
      "Detections(xyxy=array([[     305.82,      261.04,      1062.5,       715.6],\n",
      "       [          0,      427.41,      222.02,      713.79],\n",
      "       [      215.7,         640,      311.82,      719.95]], dtype=float32), mask=None, confidence=array([    0.92923,     0.88516,     0.47839], dtype=float32), class_id=array([ 0,  0, 56]), tracker_id=None, data={'class_name': array(['person', 'person', 'chair'], dtype='<U6')})\n",
      "Detections(xyxy=array([[     314.24,      264.08,      1032.4,      714.51],\n",
      "       [          0,      441.34,      222.01,      713.79],\n",
      "       [     220.79,      652.38,      314.86,      719.64]], dtype=float32), mask=None, confidence=array([    0.90912,     0.83311,     0.43194], dtype=float32), class_id=array([ 0,  0, 56]), tracker_id=None, data={'class_name': array(['person', 'person', 'chair'], dtype='<U6')})\n",
      "Detections(xyxy=array([[     314.24,      264.08,      1032.4,      714.51],\n",
      "       [          0,      441.34,      222.01,      713.79],\n",
      "       [     220.79,      652.38,      314.86,      719.64]], dtype=float32), mask=None, confidence=array([    0.90912,     0.83311,     0.43194], dtype=float32), class_id=array([ 0,  0, 56]), tracker_id=None, data={'class_name': array(['person', 'person', 'chair'], dtype='<U6')})\n"
     ]
    },
    {
     "name": "stderr",
     "output_type": "stream",
     "text": [
      "0: 384x640 2 persons, 1 chair, 47.2ms\n",
      "Speed: 0.0ms preprocess, 47.2ms inference, 6.7ms postprocess per image at shape (1, 3, 384, 640)\n",
      "\n",
      "0: 384x640 2 persons, 1 chair, 42.1ms\n",
      "Speed: 0.0ms preprocess, 42.1ms inference, 0.0ms postprocess per image at shape (1, 3, 384, 640)\n",
      "\n"
     ]
    },
    {
     "name": "stdout",
     "output_type": "stream",
     "text": [
      "Detections(xyxy=array([[     318.91,      271.97,      1018.1,      715.45],\n",
      "       [          0,      427.21,      226.17,      713.32],\n",
      "       [     222.16,      638.36,      319.23,      719.69]], dtype=float32), mask=None, confidence=array([    0.93015,     0.82755,     0.43505], dtype=float32), class_id=array([ 0,  0, 56]), tracker_id=None, data={'class_name': array(['person', 'person', 'chair'], dtype='<U6')})\n",
      "Detections(xyxy=array([[     318.91,      271.97,      1018.1,      715.45],\n",
      "       [          0,      427.21,      226.17,      713.32],\n",
      "       [     222.16,      638.36,      319.23,      719.69]], dtype=float32), mask=None, confidence=array([    0.93015,     0.82755,     0.43505], dtype=float32), class_id=array([ 0,  0, 56]), tracker_id=None, data={'class_name': array(['person', 'person', 'chair'], dtype='<U6')})\n",
      "Detections(xyxy=array([[     321.54,      264.97,      1022.1,      715.32],\n",
      "       [          0,      419.49,       228.3,      714.71],\n",
      "       [     224.07,      632.94,       319.7,      719.88]], dtype=float32), mask=None, confidence=array([    0.93374,      0.8872,     0.57746], dtype=float32), class_id=array([ 0,  0, 56]), tracker_id=None, data={'class_name': array(['person', 'person', 'chair'], dtype='<U6')})\n",
      "Detections(xyxy=array([[     321.54,      264.97,      1022.1,      715.32],\n",
      "       [          0,      419.49,       228.3,      714.71],\n",
      "       [     224.07,      632.94,       319.7,      719.88]], dtype=float32), mask=None, confidence=array([    0.93374,      0.8872,     0.57746], dtype=float32), class_id=array([ 0,  0, 56]), tracker_id=None, data={'class_name': array(['person', 'person', 'chair'], dtype='<U6')})\n"
     ]
    },
    {
     "name": "stderr",
     "output_type": "stream",
     "text": [
      "0: 384x640 2 persons, 1 chair, 34.2ms\n",
      "Speed: 7.7ms preprocess, 34.2ms inference, 10.8ms postprocess per image at shape (1, 3, 384, 640)\n",
      "\n",
      "0: 384x640 2 persons, 1 chair, 39.6ms\n",
      "Speed: 5.2ms preprocess, 39.6ms inference, 8.3ms postprocess per image at shape (1, 3, 384, 640)\n"
     ]
    },
    {
     "name": "stdout",
     "output_type": "stream",
     "text": [
      "Detections(xyxy=array([[     329.49,      274.19,      1016.1,      715.54],\n",
      "       [          0,      412.02,      232.74,       714.8],\n",
      "       [     223.22,      628.31,      320.41,      719.28]], dtype=float32), mask=None, confidence=array([    0.93053,     0.87139,     0.40153], dtype=float32), class_id=array([ 0,  0, 56]), tracker_id=None, data={'class_name': array(['person', 'person', 'chair'], dtype='<U6')})\n",
      "Detections(xyxy=array([[     329.49,      274.19,      1016.1,      715.54],\n",
      "       [          0,      412.02,      232.74,       714.8],\n",
      "       [     223.22,      628.31,      320.41,      719.28]], dtype=float32), mask=None, confidence=array([    0.93053,     0.87139,     0.40153], dtype=float32), class_id=array([ 0,  0, 56]), tracker_id=None, data={'class_name': array(['person', 'person', 'chair'], dtype='<U6')})\n",
      "Detections(xyxy=array([[      337.4,       325.3,      955.09,      714.69],\n",
      "       [          0,      436.26,      203.73,       714.9],\n",
      "       [     205.91,       664.4,       304.3,       719.6]], dtype=float32), mask=None, confidence=array([    0.93184,     0.88723,     0.35137], dtype=float32), class_id=array([ 0,  0, 56]), tracker_id=None, data={'class_name': array(['person', 'person', 'chair'], dtype='<U6')})\n",
      "Detections(xyxy=array([[      337.4,       325.3,      955.09,      714.69],\n",
      "       [          0,      436.26,      203.73,       714.9],\n",
      "       [     205.91,       664.4,       304.3,       719.6]], dtype=float32), mask=None, confidence=array([    0.93184,     0.88723,     0.35137], dtype=float32), class_id=array([ 0,  0, 56]), tracker_id=None, data={'class_name': array(['person', 'person', 'chair'], dtype='<U6')})\n"
     ]
    },
    {
     "name": "stderr",
     "output_type": "stream",
     "text": [
      "\n",
      "0: 384x640 2 persons, 43.7ms\n",
      "Speed: 3.5ms preprocess, 43.7ms inference, 6.1ms postprocess per image at shape (1, 3, 384, 640)\n",
      "\n",
      "0: 384x640 2 persons, 1 chair, 33.3ms\n",
      "Speed: 4.1ms preprocess, 33.3ms inference, 0.0ms postprocess per image at shape (1, 3, 384, 640)\n",
      "\n"
     ]
    },
    {
     "name": "stdout",
     "output_type": "stream",
     "text": [
      "Detections(xyxy=array([[      330.7,      324.73,      948.63,      715.13],\n",
      "       [          0,      444.63,       192.3,      715.93]], dtype=float32), mask=None, confidence=array([    0.91737,       0.813], dtype=float32), class_id=array([0, 0]), tracker_id=None, data={'class_name': array(['person', 'person'], dtype='<U6')})\n",
      "Detections(xyxy=array([[      330.7,      324.73,      948.63,      715.13],\n",
      "       [          0,      444.63,       192.3,      715.93]], dtype=float32), mask=None, confidence=array([    0.91737,       0.813], dtype=float32), class_id=array([0, 0]), tracker_id=None, data={'class_name': array(['person', 'person'], dtype='<U6')})\n",
      "Detections(xyxy=array([[     271.55,      245.44,      993.36,      714.96],\n",
      "       [    0.13901,      426.49,      180.52,      714.83],\n",
      "       [     173.67,      613.56,      274.53,         720]], dtype=float32), mask=None, confidence=array([    0.91321,     0.73247,      0.5269], dtype=float32), class_id=array([ 0,  0, 56]), tracker_id=None, data={'class_name': array(['person', 'person', 'chair'], dtype='<U6')})\n",
      "Detections(xyxy=array([[     271.55,      245.44,      993.36,      714.96],\n",
      "       [    0.13901,      426.49,      180.52,      714.83],\n",
      "       [     173.67,      613.56,      274.53,         720]], dtype=float32), mask=None, confidence=array([    0.91321,     0.73247,      0.5269], dtype=float32), class_id=array([ 0,  0, 56]), tracker_id=None, data={'class_name': array(['person', 'person', 'chair'], dtype='<U6')})\n"
     ]
    },
    {
     "name": "stderr",
     "output_type": "stream",
     "text": [
      "0: 384x640 2 persons, 1 chair, 29.9ms\n",
      "Speed: 12.6ms preprocess, 29.9ms inference, 0.0ms postprocess per image at shape (1, 3, 384, 640)\n",
      "\n",
      "0: 384x640 2 persons, 1 chair, 43.3ms\n",
      "Speed: 0.0ms preprocess, 43.3ms inference, 0.0ms postprocess per image at shape (1, 3, 384, 640)\n",
      "\n"
     ]
    },
    {
     "name": "stdout",
     "output_type": "stream",
     "text": [
      "Detections(xyxy=array([[     287.06,      239.92,        1004,      714.66],\n",
      "       [     0.1768,      475.05,      182.31,      715.93],\n",
      "       [        189,      678.99,      281.77,         720]], dtype=float32), mask=None, confidence=array([    0.93529,     0.88017,     0.40842], dtype=float32), class_id=array([ 0,  0, 56]), tracker_id=None, data={'class_name': array(['person', 'person', 'chair'], dtype='<U6')})\n",
      "Detections(xyxy=array([[     287.06,      239.92,        1004,      714.66],\n",
      "       [     0.1768,      475.05,      182.31,      715.93],\n",
      "       [        189,      678.99,      281.77,         720]], dtype=float32), mask=None, confidence=array([    0.93529,     0.88017,     0.40842], dtype=float32), class_id=array([ 0,  0, 56]), tracker_id=None, data={'class_name': array(['person', 'person', 'chair'], dtype='<U6')})\n",
      "Detections(xyxy=array([[      269.1,      226.06,      1014.9,      714.41],\n",
      "       [    0.16901,      473.52,      184.63,      715.43],\n",
      "       [     190.36,      673.94,      282.11,      719.69]], dtype=float32), mask=None, confidence=array([    0.91068,     0.86306,     0.49937], dtype=float32), class_id=array([ 0,  0, 56]), tracker_id=None, data={'class_name': array(['person', 'person', 'chair'], dtype='<U6')})\n",
      "Detections(xyxy=array([[      269.1,      226.06,      1014.9,      714.41],\n",
      "       [    0.16901,      473.52,      184.63,      715.43],\n",
      "       [     190.36,      673.94,      282.11,      719.69]], dtype=float32), mask=None, confidence=array([    0.91068,     0.86306,     0.49937], dtype=float32), class_id=array([ 0,  0, 56]), tracker_id=None, data={'class_name': array(['person', 'person', 'chair'], dtype='<U6')})\n"
     ]
    },
    {
     "name": "stderr",
     "output_type": "stream",
     "text": [
      "0: 384x640 2 persons, 43.8ms\n",
      "Speed: 0.0ms preprocess, 43.8ms inference, 9.7ms postprocess per image at shape (1, 3, 384, 640)\n",
      "\n",
      "0: 384x640 2 persons, 34.1ms\n",
      "Speed: 8.7ms preprocess, 34.1ms inference, 0.0ms postprocess per image at shape (1, 3, 384, 640)\n",
      "\n"
     ]
    },
    {
     "name": "stdout",
     "output_type": "stream",
     "text": [
      "Detections(xyxy=array([[     261.96,      176.35,      1028.2,      713.89],\n",
      "       [          0,      461.44,      190.95,      715.02]], dtype=float32), mask=None, confidence=array([    0.91032,     0.86554], dtype=float32), class_id=array([0, 0]), tracker_id=None, data={'class_name': array(['person', 'person'], dtype='<U6')})\n",
      "Detections(xyxy=array([[     261.96,      176.35,      1028.2,      713.89],\n",
      "       [          0,      461.44,      190.95,      715.02]], dtype=float32), mask=None, confidence=array([    0.91032,     0.86554], dtype=float32), class_id=array([0, 0]), tracker_id=None, data={'class_name': array(['person', 'person'], dtype='<U6')})\n",
      "Detections(xyxy=array([[     232.22,      135.22,      1040.5,      714.03],\n",
      "       [    0.16129,      420.28,      186.52,      714.53]], dtype=float32), mask=None, confidence=array([    0.89575,     0.72931], dtype=float32), class_id=array([0, 0]), tracker_id=None, data={'class_name': array(['person', 'person'], dtype='<U6')})\n",
      "Detections(xyxy=array([[     232.22,      135.22,      1040.5,      714.03],\n",
      "       [    0.16129,      420.28,      186.52,      714.53]], dtype=float32), mask=None, confidence=array([    0.89575,     0.72931], dtype=float32), class_id=array([0, 0]), tracker_id=None, data={'class_name': array(['person', 'person'], dtype='<U6')})\n"
     ]
    },
    {
     "name": "stderr",
     "output_type": "stream",
     "text": [
      "0: 384x640 2 persons, 35.0ms\n",
      "Speed: 9.1ms preprocess, 35.0ms inference, 15.7ms postprocess per image at shape (1, 3, 384, 640)\n",
      "\n",
      "0: 384x640 2 persons, 1 chair, 47.5ms\n",
      "Speed: 0.0ms preprocess, 47.5ms inference, 0.0ms postprocess per image at shape (1, 3, 384, 640)\n",
      "\n"
     ]
    },
    {
     "name": "stdout",
     "output_type": "stream",
     "text": [
      "Detections(xyxy=array([[     189.44,      13.374,      1110.8,      711.45],\n",
      "       [          0,      328.48,      185.87,      712.26]], dtype=float32), mask=None, confidence=array([    0.84323,     0.47382], dtype=float32), class_id=array([0, 0]), tracker_id=None, data={'class_name': array(['person', 'person'], dtype='<U6')})\n",
      "Detections(xyxy=array([[     189.44,      13.374,      1110.8,      711.45],\n",
      "       [          0,      328.48,      185.87,      712.26]], dtype=float32), mask=None, confidence=array([    0.84323,     0.47382], dtype=float32), class_id=array([0, 0]), tracker_id=None, data={'class_name': array(['person', 'person'], dtype='<U6')})\n",
      "Detections(xyxy=array([[     168.71,      2.8504,      1140.6,      710.69],\n",
      "       [    0.62692,      341.72,         260,      713.58],\n",
      "       [          0,       220.5,      179.85,      668.33]], dtype=float32), mask=None, confidence=array([     0.9218,     0.85956,      0.6069], dtype=float32), class_id=array([ 0, 56,  0]), tracker_id=None, data={'class_name': array(['person', 'chair', 'person'], dtype='<U6')})\n",
      "Detections(xyxy=array([[     168.71,      2.8504,      1140.6,      710.69],\n",
      "       [    0.62692,      341.72,         260,      713.58],\n",
      "       [          0,       220.5,      179.85,      668.33]], dtype=float32), mask=None, confidence=array([     0.9218,     0.85956,      0.6069], dtype=float32), class_id=array([ 0, 56,  0]), tracker_id=None, data={'class_name': array(['person', 'chair', 'person'], dtype='<U6')})\n"
     ]
    },
    {
     "name": "stderr",
     "output_type": "stream",
     "text": [
      "0: 384x640 2 persons, 1 chair, 40.5ms\n",
      "Speed: 1.6ms preprocess, 40.5ms inference, 9.7ms postprocess per image at shape (1, 3, 384, 640)\n",
      "\n",
      "0: 384x640 2 persons, 1 chair, 38.5ms\n",
      "Speed: 5.6ms preprocess, 38.5ms inference, 0.0ms postprocess per image at shape (1, 3, 384, 640)\n",
      "\n"
     ]
    },
    {
     "name": "stdout",
     "output_type": "stream",
     "text": [
      "Detections(xyxy=array([[     172.23,     0.75366,      1149.8,      711.78],\n",
      "       [          0,         222,      169.46,      710.93],\n",
      "       [     5.1209,      351.82,      241.09,      704.71]], dtype=float32), mask=None, confidence=array([     0.9183,     0.62488,     0.28084], dtype=float32), class_id=array([ 0,  0, 56]), tracker_id=None, data={'class_name': array(['person', 'person', 'chair'], dtype='<U6')})\n",
      "Detections(xyxy=array([[     172.23,     0.75366,      1149.8,      711.78],\n",
      "       [          0,         222,      169.46,      710.93],\n",
      "       [     5.1209,      351.82,      241.09,      704.71]], dtype=float32), mask=None, confidence=array([     0.9183,     0.62488,     0.28084], dtype=float32), class_id=array([ 0,  0, 56]), tracker_id=None, data={'class_name': array(['person', 'person', 'chair'], dtype='<U6')})\n",
      "Detections(xyxy=array([[     170.36,      3.6522,        1139,      711.33],\n",
      "       [    0.14113,      245.53,      159.23,         711],\n",
      "       [      1.064,      336.28,      223.31,      710.28]], dtype=float32), mask=None, confidence=array([    0.92865,     0.53077,     0.34323], dtype=float32), class_id=array([ 0,  0, 56]), tracker_id=None, data={'class_name': array(['person', 'person', 'chair'], dtype='<U6')})\n",
      "Detections(xyxy=array([[     170.36,      3.6522,        1139,      711.33],\n",
      "       [    0.14113,      245.53,      159.23,         711],\n",
      "       [      1.064,      336.28,      223.31,      710.28]], dtype=float32), mask=None, confidence=array([    0.92865,     0.53077,     0.34323], dtype=float32), class_id=array([ 0,  0, 56]), tracker_id=None, data={'class_name': array(['person', 'person', 'chair'], dtype='<U6')})\n"
     ]
    },
    {
     "name": "stderr",
     "output_type": "stream",
     "text": [
      "0: 384x640 2 persons, 43.0ms\n",
      "Speed: 0.0ms preprocess, 43.0ms inference, 0.0ms postprocess per image at shape (1, 3, 384, 640)\n",
      "\n",
      "0: 384x640 2 persons, 1 chair, 42.3ms\n",
      "Speed: 0.0ms preprocess, 42.3ms inference, 0.0ms postprocess per image at shape (1, 3, 384, 640)\n",
      "\n"
     ]
    },
    {
     "name": "stdout",
     "output_type": "stream",
     "text": [
      "Detections(xyxy=array([[     136.57,      4.6757,      1143.4,      711.58],\n",
      "       [          0,      240.53,      151.84,      710.36]], dtype=float32), mask=None, confidence=array([    0.92465,     0.42238], dtype=float32), class_id=array([0, 0]), tracker_id=None, data={'class_name': array(['person', 'person'], dtype='<U6')})\n",
      "Detections(xyxy=array([[     136.57,      4.6757,      1143.4,      711.58],\n",
      "       [          0,      240.53,      151.84,      710.36]], dtype=float32), mask=None, confidence=array([    0.92465,     0.42238], dtype=float32), class_id=array([0, 0]), tracker_id=None, data={'class_name': array(['person', 'person'], dtype='<U6')})\n",
      "Detections(xyxy=array([[     130.74,      5.8998,        1147,      710.79],\n",
      "       [          0,      239.46,      133.55,      703.98],\n",
      "       [     72.417,      307.41,      189.83,       558.3]], dtype=float32), mask=None, confidence=array([    0.92485,     0.33943,     0.33273], dtype=float32), class_id=array([ 0,  0, 56]), tracker_id=None, data={'class_name': array(['person', 'person', 'chair'], dtype='<U6')})\n",
      "Detections(xyxy=array([[     130.74,      5.8998,        1147,      710.79],\n",
      "       [          0,      239.46,      133.55,      703.98],\n",
      "       [     72.417,      307.41,      189.83,       558.3]], dtype=float32), mask=None, confidence=array([    0.92485,     0.33943,     0.33273], dtype=float32), class_id=array([ 0,  0, 56]), tracker_id=None, data={'class_name': array(['person', 'person', 'chair'], dtype='<U6')})\n"
     ]
    },
    {
     "name": "stderr",
     "output_type": "stream",
     "text": [
      "0: 384x640 1 person, 33.6ms\n",
      "Speed: 6.1ms preprocess, 33.6ms inference, 8.8ms postprocess per image at shape (1, 3, 384, 640)\n",
      "\n",
      "0: 384x640 1 person, 33.6ms\n",
      "Speed: 7.7ms preprocess, 33.6ms inference, 11.6ms postprocess per image at shape (1, 3, 384, 640)\n",
      "\n"
     ]
    },
    {
     "name": "stdout",
     "output_type": "stream",
     "text": [
      "Detections(xyxy=array([[     185.77,      8.0217,      1145.1,      710.79]], dtype=float32), mask=None, confidence=array([     0.9261], dtype=float32), class_id=array([0]), tracker_id=None, data={'class_name': array(['person'], dtype='<U6')})\n",
      "Detections(xyxy=array([[     185.77,      8.0217,      1145.1,      710.79]], dtype=float32), mask=None, confidence=array([     0.9261], dtype=float32), class_id=array([0]), tracker_id=None, data={'class_name': array(['person'], dtype='<U6')})\n",
      "Detections(xyxy=array([[     176.05,      5.0593,      1140.1,      710.75]], dtype=float32), mask=None, confidence=array([    0.92339], dtype=float32), class_id=array([0]), tracker_id=None, data={'class_name': array(['person'], dtype='<U6')})\n",
      "Detections(xyxy=array([[     176.05,      5.0593,      1140.1,      710.75]], dtype=float32), mask=None, confidence=array([    0.92339], dtype=float32), class_id=array([0]), tracker_id=None, data={'class_name': array(['person'], dtype='<U6')})\n"
     ]
    },
    {
     "name": "stderr",
     "output_type": "stream",
     "text": [
      "0: 384x640 1 person, 36.8ms\n",
      "Speed: 3.2ms preprocess, 36.8ms inference, 0.0ms postprocess per image at shape (1, 3, 384, 640)\n",
      "\n",
      "0: 384x640 1 person, 27.7ms\n",
      "Speed: 0.0ms preprocess, 27.7ms inference, 18.8ms postprocess per image at shape (1, 3, 384, 640)\n",
      "\n"
     ]
    },
    {
     "name": "stdout",
     "output_type": "stream",
     "text": [
      "Detections(xyxy=array([[     235.16,      35.893,      1112.4,      712.19]], dtype=float32), mask=None, confidence=array([    0.85941], dtype=float32), class_id=array([0]), tracker_id=None, data={'class_name': array(['person'], dtype='<U6')})\n",
      "Detections(xyxy=array([[     235.16,      35.893,      1112.4,      712.19]], dtype=float32), mask=None, confidence=array([    0.85941], dtype=float32), class_id=array([0]), tracker_id=None, data={'class_name': array(['person'], dtype='<U6')})\n",
      "Detections(xyxy=array([[     263.66,      135.11,      1066.2,      713.84]], dtype=float32), mask=None, confidence=array([    0.92517], dtype=float32), class_id=array([0]), tracker_id=None, data={'class_name': array(['person'], dtype='<U6')})\n",
      "Detections(xyxy=array([[     263.66,      135.11,      1066.2,      713.84]], dtype=float32), mask=None, confidence=array([    0.92517], dtype=float32), class_id=array([0]), tracker_id=None, data={'class_name': array(['person'], dtype='<U6')})\n"
     ]
    },
    {
     "name": "stderr",
     "output_type": "stream",
     "text": [
      "0: 384x640 1 person, 37.4ms\n",
      "Speed: 2.2ms preprocess, 37.4ms inference, 2.6ms postprocess per image at shape (1, 3, 384, 640)\n",
      "\n",
      "0: 384x640 1 person, 36.9ms\n",
      "Speed: 0.0ms preprocess, 36.9ms inference, 7.6ms postprocess per image at shape (1, 3, 384, 640)\n"
     ]
    },
    {
     "name": "stdout",
     "output_type": "stream",
     "text": [
      "Detections(xyxy=array([[     288.88,      197.94,      1024.2,      715.54]], dtype=float32), mask=None, confidence=array([    0.93417], dtype=float32), class_id=array([0]), tracker_id=None, data={'class_name': array(['person'], dtype='<U6')})\n",
      "Detections(xyxy=array([[     288.88,      197.94,      1024.2,      715.54]], dtype=float32), mask=None, confidence=array([    0.93417], dtype=float32), class_id=array([0]), tracker_id=None, data={'class_name': array(['person'], dtype='<U6')})\n",
      "Detections(xyxy=array([[     290.13,      215.01,      1020.1,      715.56]], dtype=float32), mask=None, confidence=array([    0.93343], dtype=float32), class_id=array([0]), tracker_id=None, data={'class_name': array(['person'], dtype='<U6')})\n",
      "Detections(xyxy=array([[     290.13,      215.01,      1020.1,      715.56]], dtype=float32), mask=None, confidence=array([    0.93343], dtype=float32), class_id=array([0]), tracker_id=None, data={'class_name': array(['person'], dtype='<U6')})\n"
     ]
    },
    {
     "name": "stderr",
     "output_type": "stream",
     "text": [
      "\n",
      "0: 384x640 1 person, 36.2ms\n",
      "Speed: 4.7ms preprocess, 36.2ms inference, 0.0ms postprocess per image at shape (1, 3, 384, 640)\n",
      "\n",
      "0: 384x640 1 person, 25.8ms\n",
      "Speed: 0.0ms preprocess, 25.8ms inference, 16.8ms postprocess per image at shape (1, 3, 384, 640)\n",
      "\n"
     ]
    },
    {
     "name": "stdout",
     "output_type": "stream",
     "text": [
      "Detections(xyxy=array([[     298.73,       267.8,      995.97,      715.14]], dtype=float32), mask=None, confidence=array([    0.92378], dtype=float32), class_id=array([0]), tracker_id=None, data={'class_name': array(['person'], dtype='<U6')})\n",
      "Detections(xyxy=array([[     298.73,       267.8,      995.97,      715.14]], dtype=float32), mask=None, confidence=array([    0.92378], dtype=float32), class_id=array([0]), tracker_id=None, data={'class_name': array(['person'], dtype='<U6')})\n",
      "Detections(xyxy=array([[     313.62,      279.88,      982.97,      714.12]], dtype=float32), mask=None, confidence=array([    0.92381], dtype=float32), class_id=array([0]), tracker_id=None, data={'class_name': array(['person'], dtype='<U6')})\n",
      "Detections(xyxy=array([[     313.62,      279.88,      982.97,      714.12]], dtype=float32), mask=None, confidence=array([    0.92381], dtype=float32), class_id=array([0]), tracker_id=None, data={'class_name': array(['person'], dtype='<U6')})\n"
     ]
    },
    {
     "name": "stderr",
     "output_type": "stream",
     "text": [
      "0: 384x640 1 person, 25.8ms\n",
      "Speed: 0.0ms preprocess, 25.8ms inference, 16.8ms postprocess per image at shape (1, 3, 384, 640)\n",
      "\n",
      "0: 384x640 1 person, 40.5ms\n",
      "Speed: 0.0ms preprocess, 40.5ms inference, 2.1ms postprocess per image at shape (1, 3, 384, 640)\n",
      "\n"
     ]
    },
    {
     "name": "stdout",
     "output_type": "stream",
     "text": [
      "Detections(xyxy=array([[     322.48,      293.04,      991.79,      714.38]], dtype=float32), mask=None, confidence=array([    0.92711], dtype=float32), class_id=array([0]), tracker_id=None, data={'class_name': array(['person'], dtype='<U6')})\n",
      "Detections(xyxy=array([[     322.48,      293.04,      991.79,      714.38]], dtype=float32), mask=None, confidence=array([    0.92711], dtype=float32), class_id=array([0]), tracker_id=None, data={'class_name': array(['person'], dtype='<U6')})\n",
      "Detections(xyxy=array([[     321.34,       290.3,      995.83,      714.29]], dtype=float32), mask=None, confidence=array([    0.92669], dtype=float32), class_id=array([0]), tracker_id=None, data={'class_name': array(['person'], dtype='<U6')})\n",
      "Detections(xyxy=array([[     321.34,       290.3,      995.83,      714.29]], dtype=float32), mask=None, confidence=array([    0.92669], dtype=float32), class_id=array([0]), tracker_id=None, data={'class_name': array(['person'], dtype='<U6')})\n"
     ]
    },
    {
     "name": "stderr",
     "output_type": "stream",
     "text": [
      "0: 384x640 2 persons, 38.8ms\n",
      "Speed: 2.1ms preprocess, 38.8ms inference, 0.0ms postprocess per image at shape (1, 3, 384, 640)\n",
      "\n",
      "0: 384x640 2 persons, 41.2ms\n",
      "Speed: 0.0ms preprocess, 41.2ms inference, 0.0ms postprocess per image at shape (1, 3, 384, 640)\n",
      "\n"
     ]
    },
    {
     "name": "stdout",
     "output_type": "stream",
     "text": [
      "Detections(xyxy=array([[     317.71,      268.12,      1008.4,      714.53],\n",
      "       [    0.26355,      602.06,      38.945,      718.03]], dtype=float32), mask=None, confidence=array([    0.94497,     0.30563], dtype=float32), class_id=array([0, 0]), tracker_id=None, data={'class_name': array(['person', 'person'], dtype='<U6')})\n",
      "Detections(xyxy=array([[     317.71,      268.12,      1008.4,      714.53],\n",
      "       [    0.26355,      602.06,      38.945,      718.03]], dtype=float32), mask=None, confidence=array([    0.94497,     0.30563], dtype=float32), class_id=array([0, 0]), tracker_id=None, data={'class_name': array(['person', 'person'], dtype='<U6')})\n",
      "Detections(xyxy=array([[     324.28,      282.61,      998.24,      714.29],\n",
      "       [    0.19005,      615.32,      43.251,      719.83]], dtype=float32), mask=None, confidence=array([    0.92818,     0.34756], dtype=float32), class_id=array([0, 0]), tracker_id=None, data={'class_name': array(['person', 'person'], dtype='<U6')})\n",
      "Detections(xyxy=array([[     324.28,      282.61,      998.24,      714.29],\n",
      "       [    0.19005,      615.32,      43.251,      719.83]], dtype=float32), mask=None, confidence=array([    0.92818,     0.34756], dtype=float32), class_id=array([0, 0]), tracker_id=None, data={'class_name': array(['person', 'person'], dtype='<U6')})\n"
     ]
    },
    {
     "name": "stderr",
     "output_type": "stream",
     "text": [
      "0: 384x640 1 person, 38.5ms\n",
      "Speed: 1.1ms preprocess, 38.5ms inference, 3.6ms postprocess per image at shape (1, 3, 384, 640)\n",
      "\n",
      "0: 384x640 1 person, 30.5ms\n",
      "Speed: 0.0ms preprocess, 30.5ms inference, 12.5ms postprocess per image at shape (1, 3, 384, 640)\n",
      "\n"
     ]
    },
    {
     "name": "stdout",
     "output_type": "stream",
     "text": [
      "Detections(xyxy=array([[     325.74,      290.89,      993.73,      716.01]], dtype=float32), mask=None, confidence=array([    0.92433], dtype=float32), class_id=array([0]), tracker_id=None, data={'class_name': array(['person'], dtype='<U6')})\n",
      "Detections(xyxy=array([[     325.74,      290.89,      993.73,      716.01]], dtype=float32), mask=None, confidence=array([    0.92433], dtype=float32), class_id=array([0]), tracker_id=None, data={'class_name': array(['person'], dtype='<U6')})\n",
      "Detections(xyxy=array([[     365.43,      299.17,      949.07,       714.1]], dtype=float32), mask=None, confidence=array([    0.90335], dtype=float32), class_id=array([0]), tracker_id=None, data={'class_name': array(['person'], dtype='<U6')})\n",
      "Detections(xyxy=array([[     365.43,      299.17,      949.07,       714.1]], dtype=float32), mask=None, confidence=array([    0.90335], dtype=float32), class_id=array([0]), tracker_id=None, data={'class_name': array(['person'], dtype='<U6')})\n"
     ]
    },
    {
     "name": "stderr",
     "output_type": "stream",
     "text": [
      "0: 384x640 1 person, 37.7ms\n",
      "Speed: 0.6ms preprocess, 37.7ms inference, 0.0ms postprocess per image at shape (1, 3, 384, 640)\n",
      "\n",
      "0: 384x640 1 person, 43.5ms\n",
      "Speed: 0.0ms preprocess, 43.5ms inference, 0.0ms postprocess per image at shape (1, 3, 384, 640)\n",
      "\n"
     ]
    },
    {
     "name": "stdout",
     "output_type": "stream",
     "text": [
      "Detections(xyxy=array([[     376.73,      275.32,      958.65,      714.75]], dtype=float32), mask=None, confidence=array([    0.89036], dtype=float32), class_id=array([0]), tracker_id=None, data={'class_name': array(['person'], dtype='<U6')})\n",
      "Detections(xyxy=array([[     376.73,      275.32,      958.65,      714.75]], dtype=float32), mask=None, confidence=array([    0.89036], dtype=float32), class_id=array([0]), tracker_id=None, data={'class_name': array(['person'], dtype='<U6')})\n",
      "Detections(xyxy=array([[     341.35,      237.72,      1053.9,      714.05]], dtype=float32), mask=None, confidence=array([    0.89164], dtype=float32), class_id=array([0]), tracker_id=None, data={'class_name': array(['person'], dtype='<U6')})\n",
      "Detections(xyxy=array([[     341.35,      237.72,      1053.9,      714.05]], dtype=float32), mask=None, confidence=array([    0.89164], dtype=float32), class_id=array([0]), tracker_id=None, data={'class_name': array(['person'], dtype='<U6')})\n"
     ]
    },
    {
     "name": "stderr",
     "output_type": "stream",
     "text": [
      "0: 384x640 1 person, 37.4ms\n",
      "Speed: 0.0ms preprocess, 37.4ms inference, 0.0ms postprocess per image at shape (1, 3, 384, 640)\n",
      "\n",
      "0: 384x640 1 person, 42.8ms\n",
      "Speed: 0.0ms preprocess, 42.8ms inference, 0.0ms postprocess per image at shape (1, 3, 384, 640)\n",
      "\n"
     ]
    },
    {
     "name": "stdout",
     "output_type": "stream",
     "text": [
      "Detections(xyxy=array([[     344.94,      230.02,      1064.7,       715.4]], dtype=float32), mask=None, confidence=array([    0.89593], dtype=float32), class_id=array([0]), tracker_id=None, data={'class_name': array(['person'], dtype='<U6')})\n",
      "Detections(xyxy=array([[     344.94,      230.02,      1064.7,       715.4]], dtype=float32), mask=None, confidence=array([    0.89593], dtype=float32), class_id=array([0]), tracker_id=None, data={'class_name': array(['person'], dtype='<U6')})\n",
      "Detections(xyxy=array([[     550.61,      257.28,      847.09,      712.44]], dtype=float32), mask=None, confidence=array([    0.63345], dtype=float32), class_id=array([0]), tracker_id=None, data={'class_name': array(['person'], dtype='<U6')})\n",
      "Detections(xyxy=array([[     550.61,      257.28,      847.09,      712.44]], dtype=float32), mask=None, confidence=array([    0.63345], dtype=float32), class_id=array([0]), tracker_id=None, data={'class_name': array(['person'], dtype='<U6')})\n"
     ]
    },
    {
     "name": "stderr",
     "output_type": "stream",
     "text": [
      "0: 384x640 1 person, 37.7ms\n",
      "Speed: 2.1ms preprocess, 37.7ms inference, 2.1ms postprocess per image at shape (1, 3, 384, 640)\n",
      "\n",
      "0: 384x640 1 person, 40.3ms\n",
      "Speed: 0.0ms preprocess, 40.3ms inference, 2.2ms postprocess per image at shape (1, 3, 384, 640)\n",
      "\n"
     ]
    },
    {
     "name": "stdout",
     "output_type": "stream",
     "text": [
      "Detections(xyxy=array([[     357.95,      280.47,      963.56,      717.24]], dtype=float32), mask=None, confidence=array([    0.82591], dtype=float32), class_id=array([0]), tracker_id=None, data={'class_name': array(['person'], dtype='<U6')})\n",
      "Detections(xyxy=array([[     357.95,      280.47,      963.56,      717.24]], dtype=float32), mask=None, confidence=array([    0.82591], dtype=float32), class_id=array([0]), tracker_id=None, data={'class_name': array(['person'], dtype='<U6')})\n",
      "Detections(xyxy=array([[      509.7,       322.3,      866.76,      715.57]], dtype=float32), mask=None, confidence=array([    0.81445], dtype=float32), class_id=array([0]), tracker_id=None, data={'class_name': array(['person'], dtype='<U6')})\n",
      "Detections(xyxy=array([[      509.7,       322.3,      866.76,      715.57]], dtype=float32), mask=None, confidence=array([    0.81445], dtype=float32), class_id=array([0]), tracker_id=None, data={'class_name': array(['person'], dtype='<U6')})\n"
     ]
    },
    {
     "name": "stderr",
     "output_type": "stream",
     "text": [
      "0: 384x640 1 person, 26.3ms\n",
      "Speed: 0.0ms preprocess, 26.3ms inference, 18.3ms postprocess per image at shape (1, 3, 384, 640)\n",
      "\n",
      "0: 384x640 1 person, 42.7ms\n",
      "Speed: 0.0ms preprocess, 42.7ms inference, 0.0ms postprocess per image at shape (1, 3, 384, 640)\n",
      "\n",
      "0: 384x640 1 person, 41.9ms\n"
     ]
    },
    {
     "name": "stdout",
     "output_type": "stream",
     "text": [
      "Detections(xyxy=array([[     500.47,       312.7,       901.1,      712.76]], dtype=float32), mask=None, confidence=array([    0.79224], dtype=float32), class_id=array([0]), tracker_id=None, data={'class_name': array(['person'], dtype='<U6')})\n",
      "Detections(xyxy=array([[     500.47,       312.7,       901.1,      712.76]], dtype=float32), mask=None, confidence=array([    0.79224], dtype=float32), class_id=array([0]), tracker_id=None, data={'class_name': array(['person'], dtype='<U6')})\n",
      "Detections(xyxy=array([[     416.39,      273.81,      979.44,         716]], dtype=float32), mask=None, confidence=array([    0.82751], dtype=float32), class_id=array([0]), tracker_id=None, data={'class_name': array(['person'], dtype='<U6')})\n",
      "Detections(xyxy=array([[     416.39,      273.81,      979.44,         716]], dtype=float32), mask=None, confidence=array([    0.82751], dtype=float32), class_id=array([0]), tracker_id=None, data={'class_name': array(['person'], dtype='<U6')})\n"
     ]
    },
    {
     "name": "stderr",
     "output_type": "stream",
     "text": [
      "Speed: 0.0ms preprocess, 41.9ms inference, 2.1ms postprocess per image at shape (1, 3, 384, 640)\n",
      "\n",
      "0: 384x640 1 person, 40.7ms\n",
      "Speed: 0.0ms preprocess, 40.7ms inference, 1.5ms postprocess per image at shape (1, 3, 384, 640)\n",
      "\n",
      "0: 384x640 1 person, 40.5ms\n"
     ]
    },
    {
     "name": "stdout",
     "output_type": "stream",
     "text": [
      "Detections(xyxy=array([[     508.25,      284.26,       952.3,      715.69]], dtype=float32), mask=None, confidence=array([    0.76957], dtype=float32), class_id=array([0]), tracker_id=None, data={'class_name': array(['person'], dtype='<U6')})\n",
      "Detections(xyxy=array([[     508.25,      284.26,       952.3,      715.69]], dtype=float32), mask=None, confidence=array([    0.76957], dtype=float32), class_id=array([0]), tracker_id=None, data={'class_name': array(['person'], dtype='<U6')})\n",
      "Detections(xyxy=array([[     495.57,      281.47,      955.35,      715.55]], dtype=float32), mask=None, confidence=array([    0.75617], dtype=float32), class_id=array([0]), tracker_id=None, data={'class_name': array(['person'], dtype='<U6')})\n",
      "Detections(xyxy=array([[     495.57,      281.47,      955.35,      715.55]], dtype=float32), mask=None, confidence=array([    0.75617], dtype=float32), class_id=array([0]), tracker_id=None, data={'class_name': array(['person'], dtype='<U6')})\n"
     ]
    },
    {
     "name": "stderr",
     "output_type": "stream",
     "text": [
      "Speed: 0.0ms preprocess, 40.5ms inference, 1.1ms postprocess per image at shape (1, 3, 384, 640)\n",
      "\n",
      "0: 384x640 1 person, 32.8ms\n",
      "Speed: 4.8ms preprocess, 32.8ms inference, 4.6ms postprocess per image at shape (1, 3, 384, 640)\n",
      "\n",
      "0: 384x640 1 person, 38.4ms\n"
     ]
    },
    {
     "name": "stdout",
     "output_type": "stream",
     "text": [
      "Detections(xyxy=array([[      489.8,      303.75,      988.99,      714.97]], dtype=float32), mask=None, confidence=array([    0.56317], dtype=float32), class_id=array([0]), tracker_id=None, data={'class_name': array(['person'], dtype='<U6')})\n",
      "Detections(xyxy=array([[      489.8,      303.75,      988.99,      714.97]], dtype=float32), mask=None, confidence=array([    0.56317], dtype=float32), class_id=array([0]), tracker_id=None, data={'class_name': array(['person'], dtype='<U6')})\n",
      "Detections(xyxy=array([[     474.63,      308.26,      922.54,      714.36]], dtype=float32), mask=None, confidence=array([    0.77617], dtype=float32), class_id=array([0]), tracker_id=None, data={'class_name': array(['person'], dtype='<U6')})\n",
      "Detections(xyxy=array([[     474.63,      308.26,      922.54,      714.36]], dtype=float32), mask=None, confidence=array([    0.77617], dtype=float32), class_id=array([0]), tracker_id=None, data={'class_name': array(['person'], dtype='<U6')})\n"
     ]
    },
    {
     "name": "stderr",
     "output_type": "stream",
     "text": [
      "Speed: 0.0ms preprocess, 38.4ms inference, 2.1ms postprocess per image at shape (1, 3, 384, 640)\n",
      "\n",
      "0: 384x640 1 person, 40.2ms\n",
      "Speed: 0.0ms preprocess, 40.2ms inference, 2.0ms postprocess per image at shape (1, 3, 384, 640)\n",
      "\n"
     ]
    },
    {
     "name": "stdout",
     "output_type": "stream",
     "text": [
      "Detections(xyxy=array([[     350.87,      263.44,      940.88,      714.16]], dtype=float32), mask=None, confidence=array([    0.87251], dtype=float32), class_id=array([0]), tracker_id=None, data={'class_name': array(['person'], dtype='<U6')})\n",
      "Detections(xyxy=array([[     350.87,      263.44,      940.88,      714.16]], dtype=float32), mask=None, confidence=array([    0.87251], dtype=float32), class_id=array([0]), tracker_id=None, data={'class_name': array(['person'], dtype='<U6')})\n",
      "Detections(xyxy=array([[     349.05,      261.49,      937.66,      715.12]], dtype=float32), mask=None, confidence=array([    0.89744], dtype=float32), class_id=array([0]), tracker_id=None, data={'class_name': array(['person'], dtype='<U6')})\n",
      "Detections(xyxy=array([[     349.05,      261.49,      937.66,      715.12]], dtype=float32), mask=None, confidence=array([    0.89744], dtype=float32), class_id=array([0]), tracker_id=None, data={'class_name': array(['person'], dtype='<U6')})\n"
     ]
    },
    {
     "name": "stderr",
     "output_type": "stream",
     "text": [
      "0: 384x640 1 person, 37.1ms\n",
      "Speed: 2.1ms preprocess, 37.1ms inference, 0.0ms postprocess per image at shape (1, 3, 384, 640)\n",
      "\n",
      "0: 384x640 1 person, 43.2ms\n",
      "Speed: 0.0ms preprocess, 43.2ms inference, 0.0ms postprocess per image at shape (1, 3, 384, 640)\n",
      "\n"
     ]
    },
    {
     "name": "stdout",
     "output_type": "stream",
     "text": [
      "Detections(xyxy=array([[     339.53,      258.59,      941.41,      715.24]], dtype=float32), mask=None, confidence=array([    0.89603], dtype=float32), class_id=array([0]), tracker_id=None, data={'class_name': array(['person'], dtype='<U6')})\n",
      "Detections(xyxy=array([[     339.53,      258.59,      941.41,      715.24]], dtype=float32), mask=None, confidence=array([    0.89603], dtype=float32), class_id=array([0]), tracker_id=None, data={'class_name': array(['person'], dtype='<U6')})\n",
      "Detections(xyxy=array([[     341.69,      256.16,      1021.8,      716.26]], dtype=float32), mask=None, confidence=array([    0.86846], dtype=float32), class_id=array([0]), tracker_id=None, data={'class_name': array(['person'], dtype='<U6')})\n",
      "Detections(xyxy=array([[     341.69,      256.16,      1021.8,      716.26]], dtype=float32), mask=None, confidence=array([    0.86846], dtype=float32), class_id=array([0]), tracker_id=None, data={'class_name': array(['person'], dtype='<U6')})\n"
     ]
    },
    {
     "name": "stderr",
     "output_type": "stream",
     "text": [
      "0: 384x640 1 person, 33.0ms\n",
      "Speed: 0.0ms preprocess, 33.0ms inference, 2.6ms postprocess per image at shape (1, 3, 384, 640)\n",
      "\n",
      "0: 384x640 2 persons, 38.8ms\n",
      "Speed: 0.0ms preprocess, 38.8ms inference, 0.0ms postprocess per image at shape (1, 3, 384, 640)\n",
      "\n"
     ]
    },
    {
     "name": "stdout",
     "output_type": "stream",
     "text": [
      "Detections(xyxy=array([[     347.92,      256.33,      956.24,      715.29]], dtype=float32), mask=None, confidence=array([    0.86128], dtype=float32), class_id=array([0]), tracker_id=None, data={'class_name': array(['person'], dtype='<U6')})\n",
      "Detections(xyxy=array([[     347.92,      256.33,      956.24,      715.29]], dtype=float32), mask=None, confidence=array([    0.86128], dtype=float32), class_id=array([0]), tracker_id=None, data={'class_name': array(['person'], dtype='<U6')})\n",
      "Detections(xyxy=array([[      338.2,      255.14,      1028.9,      715.44],\n",
      "       [    0.23572,      611.75,      96.002,      718.21]], dtype=float32), mask=None, confidence=array([    0.86522,     0.27603], dtype=float32), class_id=array([0, 0]), tracker_id=None, data={'class_name': array(['person', 'person'], dtype='<U6')})\n",
      "Detections(xyxy=array([[      338.2,      255.14,      1028.9,      715.44],\n",
      "       [    0.23572,      611.75,      96.002,      718.21]], dtype=float32), mask=None, confidence=array([    0.86522,     0.27603], dtype=float32), class_id=array([0, 0]), tracker_id=None, data={'class_name': array(['person', 'person'], dtype='<U6')})\n"
     ]
    },
    {
     "name": "stderr",
     "output_type": "stream",
     "text": [
      "0: 384x640 1 person, 35.2ms\n",
      "Speed: 4.0ms preprocess, 35.2ms inference, 9.7ms postprocess per image at shape (1, 3, 384, 640)\n",
      "\n",
      "0: 384x640 1 person, 55.3ms\n",
      "Speed: 4.1ms preprocess, 55.3ms inference, 8.0ms postprocess per image at shape (1, 3, 384, 640)\n",
      "\n"
     ]
    },
    {
     "name": "stdout",
     "output_type": "stream",
     "text": [
      "Detections(xyxy=array([[     341.89,         258,      1020.4,      715.96]], dtype=float32), mask=None, confidence=array([    0.87566], dtype=float32), class_id=array([0]), tracker_id=None, data={'class_name': array(['person'], dtype='<U6')})\n",
      "Detections(xyxy=array([[     341.89,         258,      1020.4,      715.96]], dtype=float32), mask=None, confidence=array([    0.87566], dtype=float32), class_id=array([0]), tracker_id=None, data={'class_name': array(['person'], dtype='<U6')})\n",
      "Detections(xyxy=array([[     343.67,      257.17,      985.61,      715.71]], dtype=float32), mask=None, confidence=array([    0.85673], dtype=float32), class_id=array([0]), tracker_id=None, data={'class_name': array(['person'], dtype='<U6')})\n",
      "Detections(xyxy=array([[     343.67,      257.17,      985.61,      715.71]], dtype=float32), mask=None, confidence=array([    0.85673], dtype=float32), class_id=array([0]), tracker_id=None, data={'class_name': array(['person'], dtype='<U6')})\n"
     ]
    },
    {
     "name": "stderr",
     "output_type": "stream",
     "text": [
      "0: 384x640 1 person, 40.0ms\n",
      "Speed: 6.5ms preprocess, 40.0ms inference, 3.1ms postprocess per image at shape (1, 3, 384, 640)\n",
      "\n",
      "0: 384x640 1 person, 35.3ms\n",
      "Speed: 5.7ms preprocess, 35.3ms inference, 7.6ms postprocess per image at shape (1, 3, 384, 640)\n",
      "\n"
     ]
    },
    {
     "name": "stdout",
     "output_type": "stream",
     "text": [
      "Detections(xyxy=array([[     336.33,      252.94,      1024.9,       716.8]], dtype=float32), mask=None, confidence=array([    0.87061], dtype=float32), class_id=array([0]), tracker_id=None, data={'class_name': array(['person'], dtype='<U6')})\n",
      "Detections(xyxy=array([[     336.33,      252.94,      1024.9,       716.8]], dtype=float32), mask=None, confidence=array([    0.87061], dtype=float32), class_id=array([0]), tracker_id=None, data={'class_name': array(['person'], dtype='<U6')})\n",
      "Detections(xyxy=array([[     326.13,      244.95,      1049.1,      716.44]], dtype=float32), mask=None, confidence=array([    0.91479], dtype=float32), class_id=array([0]), tracker_id=None, data={'class_name': array(['person'], dtype='<U6')})\n",
      "Detections(xyxy=array([[     326.13,      244.95,      1049.1,      716.44]], dtype=float32), mask=None, confidence=array([    0.91479], dtype=float32), class_id=array([0]), tracker_id=None, data={'class_name': array(['person'], dtype='<U6')})\n"
     ]
    },
    {
     "name": "stderr",
     "output_type": "stream",
     "text": [
      "0: 384x640 1 person, 40.2ms\n",
      "Speed: 5.6ms preprocess, 40.2ms inference, 7.4ms postprocess per image at shape (1, 3, 384, 640)\n",
      "\n",
      "0: 384x640 1 person, 34.9ms\n",
      "Speed: 7.7ms preprocess, 34.9ms inference, 7.1ms postprocess per image at shape (1, 3, 384, 640)\n",
      "\n"
     ]
    },
    {
     "name": "stdout",
     "output_type": "stream",
     "text": [
      "Detections(xyxy=array([[     321.55,       237.3,      1054.7,      716.64]], dtype=float32), mask=None, confidence=array([    0.91996], dtype=float32), class_id=array([0]), tracker_id=None, data={'class_name': array(['person'], dtype='<U6')})\n",
      "Detections(xyxy=array([[     321.55,       237.3,      1054.7,      716.64]], dtype=float32), mask=None, confidence=array([    0.91996], dtype=float32), class_id=array([0]), tracker_id=None, data={'class_name': array(['person'], dtype='<U6')})\n",
      "Detections(xyxy=array([[     369.16,      268.38,      953.47,      715.05]], dtype=float32), mask=None, confidence=array([    0.88103], dtype=float32), class_id=array([0]), tracker_id=None, data={'class_name': array(['person'], dtype='<U6')})\n",
      "Detections(xyxy=array([[     369.16,      268.38,      953.47,      715.05]], dtype=float32), mask=None, confidence=array([    0.88103], dtype=float32), class_id=array([0]), tracker_id=None, data={'class_name': array(['person'], dtype='<U6')})\n"
     ]
    },
    {
     "name": "stderr",
     "output_type": "stream",
     "text": [
      "0: 384x640 1 person, 36.5ms\n",
      "Speed: 5.2ms preprocess, 36.5ms inference, 8.8ms postprocess per image at shape (1, 3, 384, 640)\n",
      "\n",
      "0: 384x640 1 person, 36.6ms\n",
      "Speed: 9.3ms preprocess, 36.6ms inference, 4.3ms postprocess per image at shape (1, 3, 384, 640)\n",
      "\n"
     ]
    },
    {
     "name": "stdout",
     "output_type": "stream",
     "text": [
      "Detections(xyxy=array([[     340.63,      256.41,      968.53,      715.88]], dtype=float32), mask=None, confidence=array([    0.88564], dtype=float32), class_id=array([0]), tracker_id=None, data={'class_name': array(['person'], dtype='<U6')})\n",
      "Detections(xyxy=array([[     340.63,      256.41,      968.53,      715.88]], dtype=float32), mask=None, confidence=array([    0.88564], dtype=float32), class_id=array([0]), tracker_id=None, data={'class_name': array(['person'], dtype='<U6')})\n",
      "Detections(xyxy=array([[     348.25,      268.17,      987.92,      715.84]], dtype=float32), mask=None, confidence=array([    0.88929], dtype=float32), class_id=array([0]), tracker_id=None, data={'class_name': array(['person'], dtype='<U6')})\n",
      "Detections(xyxy=array([[     348.25,      268.17,      987.92,      715.84]], dtype=float32), mask=None, confidence=array([    0.88929], dtype=float32), class_id=array([0]), tracker_id=None, data={'class_name': array(['person'], dtype='<U6')})\n"
     ]
    },
    {
     "name": "stderr",
     "output_type": "stream",
     "text": [
      "0: 384x640 1 person, 50.0ms\n",
      "Speed: 6.5ms preprocess, 50.0ms inference, 11.0ms postprocess per image at shape (1, 3, 384, 640)\n",
      "\n",
      "0: 384x640 1 person, 43.0ms\n",
      "Speed: 6.2ms preprocess, 43.0ms inference, 8.3ms postprocess per image at shape (1, 3, 384, 640)\n",
      "\n"
     ]
    },
    {
     "name": "stdout",
     "output_type": "stream",
     "text": [
      "Detections(xyxy=array([[     355.29,      272.92,      961.66,      715.59]], dtype=float32), mask=None, confidence=array([    0.89431], dtype=float32), class_id=array([0]), tracker_id=None, data={'class_name': array(['person'], dtype='<U6')})\n",
      "Detections(xyxy=array([[     355.29,      272.92,      961.66,      715.59]], dtype=float32), mask=None, confidence=array([    0.89431], dtype=float32), class_id=array([0]), tracker_id=None, data={'class_name': array(['person'], dtype='<U6')})\n",
      "Detections(xyxy=array([[     350.17,      273.52,      967.29,      716.35]], dtype=float32), mask=None, confidence=array([    0.89463], dtype=float32), class_id=array([0]), tracker_id=None, data={'class_name': array(['person'], dtype='<U6')})\n",
      "Detections(xyxy=array([[     350.17,      273.52,      967.29,      716.35]], dtype=float32), mask=None, confidence=array([    0.89463], dtype=float32), class_id=array([0]), tracker_id=None, data={'class_name': array(['person'], dtype='<U6')})\n"
     ]
    },
    {
     "name": "stderr",
     "output_type": "stream",
     "text": [
      "0: 384x640 1 person, 34.9ms\n",
      "Speed: 6.0ms preprocess, 34.9ms inference, 15.3ms postprocess per image at shape (1, 3, 384, 640)\n",
      "\n",
      "0: 384x640 1 person, 49.5ms\n",
      "Speed: 5.0ms preprocess, 49.5ms inference, 2.6ms postprocess per image at shape (1, 3, 384, 640)\n"
     ]
    },
    {
     "name": "stdout",
     "output_type": "stream",
     "text": [
      "Detections(xyxy=array([[     349.96,      272.23,      964.34,      716.31]], dtype=float32), mask=None, confidence=array([    0.90044], dtype=float32), class_id=array([0]), tracker_id=None, data={'class_name': array(['person'], dtype='<U6')})\n",
      "Detections(xyxy=array([[     349.96,      272.23,      964.34,      716.31]], dtype=float32), mask=None, confidence=array([    0.90044], dtype=float32), class_id=array([0]), tracker_id=None, data={'class_name': array(['person'], dtype='<U6')})\n",
      "Detections(xyxy=array([[     355.19,      270.29,      965.46,      715.37]], dtype=float32), mask=None, confidence=array([    0.89212], dtype=float32), class_id=array([0]), tracker_id=None, data={'class_name': array(['person'], dtype='<U6')})\n",
      "Detections(xyxy=array([[     355.19,      270.29,      965.46,      715.37]], dtype=float32), mask=None, confidence=array([    0.89212], dtype=float32), class_id=array([0]), tracker_id=None, data={'class_name': array(['person'], dtype='<U6')})\n"
     ]
    },
    {
     "name": "stderr",
     "output_type": "stream",
     "text": [
      "\n",
      "0: 384x640 1 person, 37.3ms\n",
      "Speed: 12.5ms preprocess, 37.3ms inference, 7.1ms postprocess per image at shape (1, 3, 384, 640)\n",
      "\n",
      "0: 384x640 1 person, 44.2ms\n",
      "Speed: 4.8ms preprocess, 44.2ms inference, 7.9ms postprocess per image at shape (1, 3, 384, 640)\n",
      "\n"
     ]
    },
    {
     "name": "stdout",
     "output_type": "stream",
     "text": [
      "Detections(xyxy=array([[     351.95,      272.62,      960.78,      716.49]], dtype=float32), mask=None, confidence=array([    0.89982], dtype=float32), class_id=array([0]), tracker_id=None, data={'class_name': array(['person'], dtype='<U6')})\n",
      "Detections(xyxy=array([[     351.95,      272.62,      960.78,      716.49]], dtype=float32), mask=None, confidence=array([    0.89982], dtype=float32), class_id=array([0]), tracker_id=None, data={'class_name': array(['person'], dtype='<U6')})\n",
      "Detections(xyxy=array([[     351.24,      271.58,      960.54,      715.89]], dtype=float32), mask=None, confidence=array([    0.90031], dtype=float32), class_id=array([0]), tracker_id=None, data={'class_name': array(['person'], dtype='<U6')})\n",
      "Detections(xyxy=array([[     351.24,      271.58,      960.54,      715.89]], dtype=float32), mask=None, confidence=array([    0.90031], dtype=float32), class_id=array([0]), tracker_id=None, data={'class_name': array(['person'], dtype='<U6')})\n"
     ]
    },
    {
     "name": "stderr",
     "output_type": "stream",
     "text": [
      "0: 384x640 1 person, 36.5ms\n",
      "Speed: 7.6ms preprocess, 36.5ms inference, 8.4ms postprocess per image at shape (1, 3, 384, 640)\n",
      "\n",
      "0: 384x640 1 person, 36.1ms\n",
      "Speed: 6.0ms preprocess, 36.1ms inference, 0.0ms postprocess per image at shape (1, 3, 384, 640)\n",
      "\n"
     ]
    },
    {
     "name": "stdout",
     "output_type": "stream",
     "text": [
      "Detections(xyxy=array([[     351.94,       272.6,      961.53,      716.24]], dtype=float32), mask=None, confidence=array([    0.90442], dtype=float32), class_id=array([0]), tracker_id=None, data={'class_name': array(['person'], dtype='<U6')})\n",
      "Detections(xyxy=array([[     351.94,       272.6,      961.53,      716.24]], dtype=float32), mask=None, confidence=array([    0.90442], dtype=float32), class_id=array([0]), tracker_id=None, data={'class_name': array(['person'], dtype='<U6')})\n",
      "Detections(xyxy=array([[      351.5,      270.16,      960.84,      715.98]], dtype=float32), mask=None, confidence=array([    0.90396], dtype=float32), class_id=array([0]), tracker_id=None, data={'class_name': array(['person'], dtype='<U6')})\n",
      "Detections(xyxy=array([[      351.5,      270.16,      960.84,      715.98]], dtype=float32), mask=None, confidence=array([    0.90396], dtype=float32), class_id=array([0]), tracker_id=None, data={'class_name': array(['person'], dtype='<U6')})\n"
     ]
    },
    {
     "name": "stderr",
     "output_type": "stream",
     "text": [
      "0: 384x640 1 person, 42.7ms\n",
      "Speed: 5.8ms preprocess, 42.7ms inference, 9.9ms postprocess per image at shape (1, 3, 384, 640)\n",
      "\n",
      "0: 384x640 1 person, 47.7ms\n",
      "Speed: 0.0ms preprocess, 47.7ms inference, 8.8ms postprocess per image at shape (1, 3, 384, 640)\n",
      "\n"
     ]
    },
    {
     "name": "stdout",
     "output_type": "stream",
     "text": [
      "Detections(xyxy=array([[     350.67,      270.25,      965.12,      716.21]], dtype=float32), mask=None, confidence=array([    0.89669], dtype=float32), class_id=array([0]), tracker_id=None, data={'class_name': array(['person'], dtype='<U6')})\n",
      "Detections(xyxy=array([[     350.67,      270.25,      965.12,      716.21]], dtype=float32), mask=None, confidence=array([    0.89669], dtype=float32), class_id=array([0]), tracker_id=None, data={'class_name': array(['person'], dtype='<U6')})\n",
      "Detections(xyxy=array([[     351.93,      270.97,       964.5,      716.41]], dtype=float32), mask=None, confidence=array([    0.89084], dtype=float32), class_id=array([0]), tracker_id=None, data={'class_name': array(['person'], dtype='<U6')})\n",
      "Detections(xyxy=array([[     351.93,      270.97,       964.5,      716.41]], dtype=float32), mask=None, confidence=array([    0.89084], dtype=float32), class_id=array([0]), tracker_id=None, data={'class_name': array(['person'], dtype='<U6')})\n"
     ]
    },
    {
     "name": "stderr",
     "output_type": "stream",
     "text": [
      "0: 384x640 1 person, 43.7ms\n",
      "Speed: 4.6ms preprocess, 43.7ms inference, 5.3ms postprocess per image at shape (1, 3, 384, 640)\n",
      "\n",
      "0: 384x640 1 person, 42.9ms\n",
      "Speed: 6.0ms preprocess, 42.9ms inference, 8.9ms postprocess per image at shape (1, 3, 384, 640)\n",
      "\n"
     ]
    },
    {
     "name": "stdout",
     "output_type": "stream",
     "text": [
      "Detections(xyxy=array([[     354.23,      270.83,      961.39,      715.35]], dtype=float32), mask=None, confidence=array([    0.88864], dtype=float32), class_id=array([0]), tracker_id=None, data={'class_name': array(['person'], dtype='<U6')})\n",
      "Detections(xyxy=array([[     354.23,      270.83,      961.39,      715.35]], dtype=float32), mask=None, confidence=array([    0.88864], dtype=float32), class_id=array([0]), tracker_id=None, data={'class_name': array(['person'], dtype='<U6')})\n",
      "Detections(xyxy=array([[     353.25,      270.51,      970.54,      715.64]], dtype=float32), mask=None, confidence=array([    0.87862], dtype=float32), class_id=array([0]), tracker_id=None, data={'class_name': array(['person'], dtype='<U6')})\n",
      "Detections(xyxy=array([[     353.25,      270.51,      970.54,      715.64]], dtype=float32), mask=None, confidence=array([    0.87862], dtype=float32), class_id=array([0]), tracker_id=None, data={'class_name': array(['person'], dtype='<U6')})\n"
     ]
    },
    {
     "name": "stderr",
     "output_type": "stream",
     "text": [
      "0: 384x640 2 persons, 42.1ms\n",
      "Speed: 2.1ms preprocess, 42.1ms inference, 8.4ms postprocess per image at shape (1, 3, 384, 640)\n",
      "\n",
      "0: 384x640 1 person, 44.4ms\n",
      "Speed: 7.7ms preprocess, 44.4ms inference, 8.7ms postprocess per image at shape (1, 3, 384, 640)\n"
     ]
    },
    {
     "name": "stdout",
     "output_type": "stream",
     "text": [
      "Detections(xyxy=array([[     352.77,      272.36,      966.44,      715.77],\n",
      "       [    0.51344,      630.48,      64.786,         720]], dtype=float32), mask=None, confidence=array([     0.8764,     0.27876], dtype=float32), class_id=array([0, 0]), tracker_id=None, data={'class_name': array(['person', 'person'], dtype='<U6')})\n",
      "Detections(xyxy=array([[     352.77,      272.36,      966.44,      715.77],\n",
      "       [    0.51344,      630.48,      64.786,         720]], dtype=float32), mask=None, confidence=array([     0.8764,     0.27876], dtype=float32), class_id=array([0, 0]), tracker_id=None, data={'class_name': array(['person', 'person'], dtype='<U6')})\n",
      "Detections(xyxy=array([[     345.75,      276.38,      970.64,      716.52]], dtype=float32), mask=None, confidence=array([     0.8743], dtype=float32), class_id=array([0]), tracker_id=None, data={'class_name': array(['person'], dtype='<U6')})"
     ]
    },
    {
     "ename": "KeyboardInterrupt",
     "evalue": "",
     "output_type": "error",
     "traceback": [
      "\u001b[1;31m---------------------------------------------------------------------------\u001b[0m",
      "\u001b[1;31mKeyboardInterrupt\u001b[0m                         Traceback (most recent call last)",
      "Input \u001b[1;32mIn [3]\u001b[0m, in \u001b[0;36m<cell line: 64>\u001b[1;34m()\u001b[0m\n\u001b[0;32m     61\u001b[0m             \u001b[38;5;28;01mbreak\u001b[39;00m\n\u001b[0;32m     64\u001b[0m \u001b[38;5;28;01mif\u001b[39;00m \u001b[38;5;18m__name__\u001b[39m \u001b[38;5;241m==\u001b[39m \u001b[38;5;124m\"\u001b[39m\u001b[38;5;124m__main__\u001b[39m\u001b[38;5;124m\"\u001b[39m:\n\u001b[1;32m---> 65\u001b[0m     \u001b[43mmain\u001b[49m\u001b[43m(\u001b[49m\u001b[43m)\u001b[49m\n",
      "Input \u001b[1;32mIn [3]\u001b[0m, in \u001b[0;36mmain\u001b[1;34m()\u001b[0m\n\u001b[0;32m     38\u001b[0m \u001b[38;5;66;03m#print(result)\u001b[39;00m\n\u001b[0;32m     39\u001b[0m detections \u001b[38;5;241m=\u001b[39m sv\u001b[38;5;241m.\u001b[39mDetections\u001b[38;5;241m.\u001b[39mfrom_ultralytics(result)\n\u001b[1;32m---> 40\u001b[0m \u001b[38;5;28;43mprint\u001b[39;49m\u001b[43m(\u001b[49m\u001b[43mdetections\u001b[49m\u001b[43m)\u001b[49m    \n\u001b[0;32m     41\u001b[0m frame \u001b[38;5;241m=\u001b[39m bounding_box_annotator\u001b[38;5;241m.\u001b[39mannotate(\n\u001b[0;32m     42\u001b[0m     scene\u001b[38;5;241m=\u001b[39mframe,\n\u001b[0;32m     43\u001b[0m     detections\u001b[38;5;241m=\u001b[39mdetections\n\u001b[0;32m     44\u001b[0m )\n\u001b[0;32m     46\u001b[0m frame \u001b[38;5;241m=\u001b[39m label_annotator\u001b[38;5;241m.\u001b[39mannotate(\n\u001b[0;32m     47\u001b[0m     scene\u001b[38;5;241m=\u001b[39mframe,\n\u001b[0;32m     48\u001b[0m     detections\u001b[38;5;241m=\u001b[39mdetections\n\u001b[0;32m     49\u001b[0m )\n",
      "File \u001b[1;32mC:\\ProgramData\\Anaconda3\\lib\\site-packages\\ipykernel\\iostream.py:531\u001b[0m, in \u001b[0;36mOutStream.write\u001b[1;34m(self, string)\u001b[0m\n\u001b[0;32m    529\u001b[0m is_child \u001b[38;5;241m=\u001b[39m (\u001b[38;5;129;01mnot\u001b[39;00m \u001b[38;5;28mself\u001b[39m\u001b[38;5;241m.\u001b[39m_is_master_process())\n\u001b[0;32m    530\u001b[0m \u001b[38;5;66;03m# only touch the buffer in the IO thread to avoid races\u001b[39;00m\n\u001b[1;32m--> 531\u001b[0m \u001b[38;5;28;43mself\u001b[39;49m\u001b[38;5;241;43m.\u001b[39;49m\u001b[43mpub_thread\u001b[49m\u001b[38;5;241;43m.\u001b[39;49m\u001b[43mschedule\u001b[49m\u001b[43m(\u001b[49m\u001b[38;5;28;43;01mlambda\u001b[39;49;00m\u001b[43m:\u001b[49m\u001b[43m \u001b[49m\u001b[38;5;28;43mself\u001b[39;49m\u001b[38;5;241;43m.\u001b[39;49m\u001b[43m_buffer\u001b[49m\u001b[38;5;241;43m.\u001b[39;49m\u001b[43mwrite\u001b[49m\u001b[43m(\u001b[49m\u001b[43mstring\u001b[49m\u001b[43m)\u001b[49m\u001b[43m)\u001b[49m\n\u001b[0;32m    532\u001b[0m \u001b[38;5;28;01mif\u001b[39;00m is_child:\n\u001b[0;32m    533\u001b[0m     \u001b[38;5;66;03m# mp.Pool cannot be trusted to flush promptly (or ever),\u001b[39;00m\n\u001b[0;32m    534\u001b[0m     \u001b[38;5;66;03m# and this helps.\u001b[39;00m\n\u001b[0;32m    535\u001b[0m     \u001b[38;5;28;01mif\u001b[39;00m \u001b[38;5;28mself\u001b[39m\u001b[38;5;241m.\u001b[39m_subprocess_flush_pending:\n",
      "File \u001b[1;32mC:\\ProgramData\\Anaconda3\\lib\\site-packages\\ipykernel\\iostream.py:216\u001b[0m, in \u001b[0;36mIOPubThread.schedule\u001b[1;34m(self, f)\u001b[0m\n\u001b[0;32m    214\u001b[0m     \u001b[38;5;28mself\u001b[39m\u001b[38;5;241m.\u001b[39m_events\u001b[38;5;241m.\u001b[39mappend(f)\n\u001b[0;32m    215\u001b[0m     \u001b[38;5;66;03m# wake event thread (message content is ignored)\u001b[39;00m\n\u001b[1;32m--> 216\u001b[0m     \u001b[38;5;28;43mself\u001b[39;49m\u001b[38;5;241;43m.\u001b[39;49m\u001b[43m_event_pipe\u001b[49m\u001b[38;5;241;43m.\u001b[39;49m\u001b[43msend\u001b[49m\u001b[43m(\u001b[49m\u001b[38;5;124;43mb\u001b[39;49m\u001b[38;5;124;43m'\u001b[39;49m\u001b[38;5;124;43m'\u001b[39;49m\u001b[43m)\u001b[49m\n\u001b[0;32m    217\u001b[0m \u001b[38;5;28;01melse\u001b[39;00m:\n\u001b[0;32m    218\u001b[0m     f()\n",
      "File \u001b[1;32m~\\AppData\\Roaming\\Python\\Python39\\site-packages\\zmq\\sugar\\socket.py:688\u001b[0m, in \u001b[0;36mSocket.send\u001b[1;34m(self, data, flags, copy, track, routing_id, group)\u001b[0m\n\u001b[0;32m    681\u001b[0m         data \u001b[38;5;241m=\u001b[39m zmq\u001b[38;5;241m.\u001b[39mFrame(\n\u001b[0;32m    682\u001b[0m             data,\n\u001b[0;32m    683\u001b[0m             track\u001b[38;5;241m=\u001b[39mtrack,\n\u001b[0;32m    684\u001b[0m             copy\u001b[38;5;241m=\u001b[39mcopy \u001b[38;5;129;01mor\u001b[39;00m \u001b[38;5;28;01mNone\u001b[39;00m,\n\u001b[0;32m    685\u001b[0m             copy_threshold\u001b[38;5;241m=\u001b[39m\u001b[38;5;28mself\u001b[39m\u001b[38;5;241m.\u001b[39mcopy_threshold,\n\u001b[0;32m    686\u001b[0m         )\n\u001b[0;32m    687\u001b[0m     data\u001b[38;5;241m.\u001b[39mgroup \u001b[38;5;241m=\u001b[39m group\n\u001b[1;32m--> 688\u001b[0m \u001b[38;5;28;01mreturn\u001b[39;00m \u001b[38;5;28;43msuper\u001b[39;49m\u001b[43m(\u001b[49m\u001b[43m)\u001b[49m\u001b[38;5;241;43m.\u001b[39;49m\u001b[43msend\u001b[49m\u001b[43m(\u001b[49m\u001b[43mdata\u001b[49m\u001b[43m,\u001b[49m\u001b[43m \u001b[49m\u001b[43mflags\u001b[49m\u001b[38;5;241;43m=\u001b[39;49m\u001b[43mflags\u001b[49m\u001b[43m,\u001b[49m\u001b[43m \u001b[49m\u001b[43mcopy\u001b[49m\u001b[38;5;241;43m=\u001b[39;49m\u001b[43mcopy\u001b[49m\u001b[43m,\u001b[49m\u001b[43m \u001b[49m\u001b[43mtrack\u001b[49m\u001b[38;5;241;43m=\u001b[39;49m\u001b[43mtrack\u001b[49m\u001b[43m)\u001b[49m\n",
      "File \u001b[1;32mzmq\\backend\\cython\\socket.pyx:742\u001b[0m, in \u001b[0;36mzmq.backend.cython.socket.Socket.send\u001b[1;34m()\u001b[0m\n",
      "File \u001b[1;32mzmq\\backend\\cython\\socket.pyx:789\u001b[0m, in \u001b[0;36mzmq.backend.cython.socket.Socket.send\u001b[1;34m()\u001b[0m\n",
      "File \u001b[1;32mzmq\\backend\\cython\\socket.pyx:250\u001b[0m, in \u001b[0;36mzmq.backend.cython.socket._send_copy\u001b[1;34m()\u001b[0m\n",
      "File \u001b[1;32m~\\AppData\\Roaming\\Python\\Python39\\site-packages\\zmq\\backend\\cython\\checkrc.pxd:13\u001b[0m, in \u001b[0;36mzmq.backend.cython.checkrc._check_rc\u001b[1;34m()\u001b[0m\n",
      "\u001b[1;31mKeyboardInterrupt\u001b[0m: "
     ]
    }
   ],
   "source": [
    "import cv2\n",
    "import argparse\n",
    "\n",
    "from ultralytics import YOLO\n",
    "import supervision as sv\n",
    "import numpy as np\n",
    "\n",
    "def parse_arguments() -> argparse.Namespace:\n",
    "    parser = argparse.ArgumentParser(description=\"YOLOv8 live\")\n",
    "    parser.add_argument(\n",
    "        \"--webcam-resolution\", \n",
    "        default=[1280, 720], \n",
    "        nargs=2, \n",
    "        type=int\n",
    "    )\n",
    "    args = parser.parse_args(args=[])\n",
    "    return args\n",
    "\n",
    "\n",
    "def main():\n",
    "    args = parse_arguments()\n",
    "    frame_width, frame_height = args.webcam_resolution\n",
    "\n",
    "    cap = cv2.VideoCapture(0)\n",
    "\n",
    "    cap.set(cv2.CAP_PROP_FRAME_WIDTH, frame_width)\n",
    "    cap.set(cv2.CAP_PROP_FRAME_HEIGHT, frame_height)\n",
    "\n",
    "    model = YOLO(\"yolov8n.pt\")\n",
    "\n",
    "    bounding_box_annotator = sv.BoundingBoxAnnotator()\n",
    "    label_annotator = sv.LabelAnnotator(text_position=sv.Position.CENTER)\n",
    "    percentage_bar_annotator = sv.BoundingBoxAnnotator()\n",
    "\n",
    "    while True:\n",
    "        ret, frame = cap.read()\n",
    "        result = model(frame, agnostic_nms=True)[0]\n",
    "        #print(result)\n",
    "        detections = sv.Detections.from_ultralytics(result)\n",
    "        print(detections)    \n",
    "        frame = bounding_box_annotator.annotate(\n",
    "            scene=frame,\n",
    "            detections=detections\n",
    "        )\n",
    "        \n",
    "        frame = label_annotator.annotate(\n",
    "            scene=frame,\n",
    "            detections=detections\n",
    "        )\n",
    "        frame = percentage_bar_annotator.annotate(\n",
    "            scene=frame,\n",
    "            detections=detections\n",
    "        )\n",
    "        \n",
    "        fps=cv2.CAP_PROP_FPS\n",
    "        print(detections)\n",
    "        cv2.putText(frame, 'fps:'.format(fps), (100,100), cv2.FONT_HERSHEY_SIMPLEX, 0.7, (255, 0, 0), 2, cv2.LINE_AA)\n",
    "        cv2.imshow(\"yolov8\", frame)\n",
    "\n",
    "        if (cv2.waitKey(30) == 27):\n",
    "            break\n",
    "\n",
    "\n",
    "if __name__ == \"__main__\":\n",
    "    main()"
   ]
  },
  {
   "cell_type": "code",
   "execution_count": null,
   "id": "b0d8d472",
   "metadata": {},
   "outputs": [],
   "source": []
  }
 ],
 "metadata": {
  "kernelspec": {
   "display_name": "Python 3 (ipykernel)",
   "language": "python",
   "name": "python3"
  },
  "language_info": {
   "codemirror_mode": {
    "name": "ipython",
    "version": 3
   },
   "file_extension": ".py",
   "mimetype": "text/x-python",
   "name": "python",
   "nbconvert_exporter": "python",
   "pygments_lexer": "ipython3",
   "version": "3.9.12"
  }
 },
 "nbformat": 4,
 "nbformat_minor": 5
}
