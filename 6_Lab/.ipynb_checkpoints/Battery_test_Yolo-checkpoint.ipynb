{
 "cells": [
  {
   "cell_type": "code",
   "execution_count": null,
   "id": "74f7ba2d",
   "metadata": {},
   "outputs": [
    {
     "name": "stderr",
     "output_type": "stream",
     "text": [
      "SupervisionWarnings: BoundingBoxAnnotator is deprecated: `BoundingBoxAnnotator` is deprecated and has been renamed to `BoxAnnotator`. `BoundingBoxAnnotator` will be removed in supervision-0.26.0.\n",
      "SupervisionWarnings: BoundingBoxAnnotator is deprecated: `BoundingBoxAnnotator` is deprecated and has been renamed to `BoxAnnotator`. `BoundingBoxAnnotator` will be removed in supervision-0.26.0.\n",
      "Using TensorFlow backend.\n",
      "UserWarning: Pandas requires version '2.8.4' or newer of 'numexpr' (version '2.8.1' currently installed).\n",
      "UserWarning: Pandas requires version '1.3.6' or newer of 'bottleneck' (version '1.3.4' currently installed).\n",
      "\n",
      "0: 256x640 1 battery_plus, 98.1ms\n",
      "Speed: 6.0ms preprocess, 98.1ms inference, 105.0ms postprocess per image at shape (1, 3, 256, 640)\n",
      "\n",
      "0: 256x640 1 battery_plus, 28.0ms\n",
      "Speed: 3.0ms preprocess, 28.0ms inference, 5.0ms postprocess per image at shape (1, 3, 256, 640)\n",
      "\n",
      "0: 256x640 1 battery_plus, 29.2ms\n"
     ]
    },
    {
     "name": "stdout",
     "output_type": "stream",
     "text": [
      "[[351.6258544921875, 134.02969360351562, 107.2237548828125]]\n",
      "[[351.6252136230469, 134.14549255371094, 107.31639404296875]]\n"
     ]
    },
    {
     "name": "stderr",
     "output_type": "stream",
     "text": [
      "Speed: 3.0ms preprocess, 29.2ms inference, 5.0ms postprocess per image at shape (1, 3, 256, 640)\n",
      "\n",
      "0: 256x640 1 battery_plus, 29.2ms\n",
      "Speed: 2.8ms preprocess, 29.2ms inference, 4.1ms postprocess per image at shape (1, 3, 256, 640)\n",
      "\n",
      "0: 256x640 1 battery_plus, 24.7ms\n",
      "Speed: 2.0ms preprocess, 24.7ms inference, 5.0ms postprocess per image at shape (1, 3, 256, 640)\n",
      "\n"
     ]
    },
    {
     "name": "stdout",
     "output_type": "stream",
     "text": [
      "[[351.76531982421875, 134.111328125, 107.2890625]]\n",
      "[[351.74456787109375, 134.06614685058594, 107.25291748046875]]\n",
      "[[351.77081298828125, 134.18313598632812, 107.34650878906251]]\n"
     ]
    },
    {
     "name": "stderr",
     "output_type": "stream",
     "text": [
      "0: 256x640 1 battery_plus, 28.1ms\n",
      "Speed: 2.0ms preprocess, 28.1ms inference, 4.0ms postprocess per image at shape (1, 3, 256, 640)\n",
      "\n",
      "0: 256x640 1 battery_plus, 28.6ms\n",
      "Speed: 3.0ms preprocess, 28.6ms inference, 4.8ms postprocess per image at shape (1, 3, 256, 640)\n",
      "\n",
      "0: 256x640 1 battery_plus, 25.7ms\n",
      "Speed: 4.0ms preprocess, 25.7ms inference, 6.0ms postprocess per image at shape (1, 3, 256, 640)\n",
      "\n"
     ]
    },
    {
     "name": "stdout",
     "output_type": "stream",
     "text": [
      "[[351.82415771484375, 134.24081420898438, 107.39265136718751]]\n",
      "[[351.7018127441406, 134.10289001464844, 107.28231201171876]]\n",
      "[[351.7427673339844, 134.17556762695312, 107.3404541015625]]\n"
     ]
    },
    {
     "name": "stderr",
     "output_type": "stream",
     "text": [
      "0: 256x640 1 battery_plus, 28.6ms\n",
      "Speed: 4.0ms preprocess, 28.6ms inference, 7.5ms postprocess per image at shape (1, 3, 256, 640)\n",
      "\n",
      "0: 256x640 1 battery_plus, 33.9ms\n",
      "Speed: 3.0ms preprocess, 33.9ms inference, 7.0ms postprocess per image at shape (1, 3, 256, 640)\n",
      "\n",
      "0: 256x640 1 battery_plus, 35.3ms\n",
      "Speed: 3.7ms preprocess, 35.3ms inference, 7.1ms postprocess per image at shape (1, 3, 256, 640)\n"
     ]
    },
    {
     "name": "stdout",
     "output_type": "stream",
     "text": [
      "[[351.7294006347656, 134.16140747070312, 107.32912597656251]]\n",
      "[[351.79644775390625, 134.1376190185547, 107.31009521484376]]\n"
     ]
    },
    {
     "name": "stderr",
     "output_type": "stream",
     "text": [
      "\n",
      "0: 256x640 1 battery_plus, 37.6ms\n",
      "Speed: 2.0ms preprocess, 37.6ms inference, 7.2ms postprocess per image at shape (1, 3, 256, 640)\n",
      "\n",
      "0: 256x640 1 battery_plus, 29.4ms\n",
      "Speed: 4.0ms preprocess, 29.4ms inference, 7.0ms postprocess per image at shape (1, 3, 256, 640)\n"
     ]
    },
    {
     "name": "stdout",
     "output_type": "stream",
     "text": [
      "[[351.75152587890625, 134.04498291015625, 107.23598632812501]]\n",
      "[[351.77117919921875, 134.16859436035156, 107.33487548828126]]\n",
      "[[351.29498291015625, 134.495361328125, 107.5962890625]]\n"
     ]
    },
    {
     "name": "stderr",
     "output_type": "stream",
     "text": [
      "\n",
      "0: 256x640 1 battery_plus, 34.6ms\n",
      "Speed: 4.1ms preprocess, 34.6ms inference, 6.7ms postprocess per image at shape (1, 3, 256, 640)\n",
      "\n",
      "0: 256x640 1 battery_plus, 28.0ms\n",
      "Speed: 2.9ms preprocess, 28.0ms inference, 7.2ms postprocess per image at shape (1, 3, 256, 640)\n",
      "\n",
      "0: 256x640 1 battery_plus, 29.5ms\n",
      "Speed: 4.5ms preprocess, 29.5ms inference, 5.0ms postprocess per image at shape (1, 3, 256, 640)\n"
     ]
    },
    {
     "name": "stdout",
     "output_type": "stream",
     "text": [
      "[[351.8304443359375, 134.03158569335938, 107.2252685546875]]\n",
      "[[351.7357177734375, 134.18435668945312, 107.34748535156251]]\n",
      "[[351.797119140625, 134.1193389892578, 107.29547119140625]]\n"
     ]
    },
    {
     "name": "stderr",
     "output_type": "stream",
     "text": [
      "\n",
      "0: 256x640 1 battery_plus, 30.4ms\n",
      "Speed: 3.0ms preprocess, 30.4ms inference, 6.0ms postprocess per image at shape (1, 3, 256, 640)\n",
      "\n",
      "0: 256x640 1 battery_plus, 30.8ms\n",
      "Speed: 3.0ms preprocess, 30.8ms inference, 6.3ms postprocess per image at shape (1, 3, 256, 640)\n",
      "\n",
      "0: 256x640 1 battery_plus, 36.7ms\n",
      "Speed: 3.0ms preprocess, 36.7ms inference, 5.6ms postprocess per image at shape (1, 3, 256, 640)\n"
     ]
    },
    {
     "name": "stdout",
     "output_type": "stream",
     "text": [
      "[[351.7474060058594, 134.0949249267578, 107.27593994140625]]\n",
      "[[351.77398681640625, 134.09405517578125, 107.275244140625]]\n",
      "[[351.6893310546875, 134.12721252441406, 107.30177001953126]]\n"
     ]
    },
    {
     "name": "stderr",
     "output_type": "stream",
     "text": [
      "\n",
      "0: 256x640 1 battery_plus, 32.7ms\n",
      "Speed: 3.0ms preprocess, 32.7ms inference, 5.0ms postprocess per image at shape (1, 3, 256, 640)\n",
      "\n",
      "0: 256x640 1 battery_plus, 29.3ms\n",
      "Speed: 3.0ms preprocess, 29.3ms inference, 5.0ms postprocess per image at shape (1, 3, 256, 640)\n",
      "\n",
      "0: 256x640 1 battery_plus, 32.7ms\n",
      "Speed: 5.0ms preprocess, 32.7ms inference, 8.0ms postprocess per image at shape (1, 3, 256, 640)\n"
     ]
    },
    {
     "name": "stdout",
     "output_type": "stream",
     "text": [
      "[[351.6978759765625, 134.1504364013672, 107.32034912109376]]\n",
      "[[351.2472839355469, 134.34906005859375, 107.479248046875]]\n",
      "[[351.7536926269531, 134.154541015625, 107.32363281250001]]\n"
     ]
    },
    {
     "name": "stderr",
     "output_type": "stream",
     "text": [
      "\n",
      "0: 256x640 1 battery_plus, 28.0ms\n",
      "Speed: 4.0ms preprocess, 28.0ms inference, 7.0ms postprocess per image at shape (1, 3, 256, 640)\n",
      "\n",
      "0: 256x640 1 battery_plus, 31.5ms\n",
      "Speed: 2.0ms preprocess, 31.5ms inference, 6.0ms postprocess per image at shape (1, 3, 256, 640)\n",
      "\n",
      "0: 256x640 1 battery_plus, 31.9ms\n"
     ]
    },
    {
     "name": "stdout",
     "output_type": "stream",
     "text": [
      "[[351.7796325683594, 134.10997009277344, 107.28797607421876]]\n",
      "[[351.832763671875, 134.10122680664062, 107.2809814453125]]\n"
     ]
    },
    {
     "name": "stderr",
     "output_type": "stream",
     "text": [
      "Speed: 3.6ms preprocess, 31.9ms inference, 6.0ms postprocess per image at shape (1, 3, 256, 640)\n",
      "\n",
      "0: 256x640 1 battery_plus, 34.8ms\n",
      "Speed: 5.0ms preprocess, 34.8ms inference, 5.9ms postprocess per image at shape (1, 3, 256, 640)\n",
      "\n",
      "0: 256x640 1 battery_plus, 33.7ms\n",
      "Speed: 3.0ms preprocess, 33.7ms inference, 7.0ms postprocess per image at shape (1, 3, 256, 640)\n"
     ]
    },
    {
     "name": "stdout",
     "output_type": "stream",
     "text": [
      "[[351.7779541015625, 134.2288055419922, 107.38304443359375]]\n",
      "[[351.7690124511719, 134.14483642578125, 107.31586914062501]]\n"
     ]
    },
    {
     "name": "stderr",
     "output_type": "stream",
     "text": [
      "\n",
      "0: 256x640 1 battery_plus, 34.1ms\n",
      "Speed: 3.9ms preprocess, 34.1ms inference, 6.6ms postprocess per image at shape (1, 3, 256, 640)\n",
      "\n",
      "0: 256x640 1 battery_plus, 33.5ms\n",
      "Speed: 3.8ms preprocess, 33.5ms inference, 7.1ms postprocess per image at shape (1, 3, 256, 640)\n"
     ]
    },
    {
     "name": "stdout",
     "output_type": "stream",
     "text": [
      "[[351.2787780761719, 134.33872985839844, 107.47098388671876]]\n",
      "[[351.7903137207031, 134.12347412109375, 107.29877929687501]]\n"
     ]
    },
    {
     "name": "stderr",
     "output_type": "stream",
     "text": [
      "\n",
      "0: 256x640 1 battery_plus, 31.7ms\n",
      "Speed: 4.0ms preprocess, 31.7ms inference, 6.8ms postprocess per image at shape (1, 3, 256, 640)\n",
      "\n",
      "0: 256x640 1 battery_plus, 28.0ms\n",
      "Speed: 3.0ms preprocess, 28.0ms inference, 6.6ms postprocess per image at shape (1, 3, 256, 640)\n"
     ]
    },
    {
     "name": "stdout",
     "output_type": "stream",
     "text": [
      "[[351.84442138671875, 134.1520233154297, 107.32161865234376]]\n",
      "[[351.7691650390625, 134.058349609375, 107.2466796875]]\n",
      "[[351.77484130859375, 134.2501220703125, 107.40009765625001]]\n"
     ]
    },
    {
     "name": "stderr",
     "output_type": "stream",
     "text": [
      "\n",
      "0: 256x640 1 battery_plus, 29.0ms\n",
      "Speed: 5.1ms preprocess, 29.0ms inference, 6.2ms postprocess per image at shape (1, 3, 256, 640)\n",
      "\n",
      "0: 256x640 1 battery_plus, 26.0ms\n",
      "Speed: 4.5ms preprocess, 26.0ms inference, 7.7ms postprocess per image at shape (1, 3, 256, 640)\n",
      "\n",
      "0: 256x640 1 battery_plus, 35.1ms\n",
      "Speed: 3.0ms preprocess, 35.1ms inference, 8.9ms postprocess per image at shape (1, 3, 256, 640)\n"
     ]
    },
    {
     "name": "stdout",
     "output_type": "stream",
     "text": [
      "[[351.821044921875, 134.10296630859375, 107.28237304687501]]\n",
      "[[351.73736572265625, 134.15716552734375, 107.325732421875]]\n",
      "[[351.7982177734375, 134.11871337890625, 107.294970703125]]\n"
     ]
    },
    {
     "name": "stderr",
     "output_type": "stream",
     "text": [
      "\n",
      "0: 256x640 1 battery_plus, 27.5ms\n",
      "Speed: 4.0ms preprocess, 27.5ms inference, 6.0ms postprocess per image at shape (1, 3, 256, 640)\n",
      "\n",
      "0: 256x640 1 battery_plus, 27.1ms\n",
      "Speed: 3.9ms preprocess, 27.1ms inference, 5.1ms postprocess per image at shape (1, 3, 256, 640)\n",
      "\n",
      "0: 256x640 1 battery_plus, 36.7ms\n",
      "Speed: 3.0ms preprocess, 36.7ms inference, 5.0ms postprocess per image at shape (1, 3, 256, 640)\n"
     ]
    },
    {
     "name": "stdout",
     "output_type": "stream",
     "text": [
      "[[351.78253173828125, 134.1248321533203, 107.29986572265625]]\n",
      "[[351.8824157714844, 134.26060485839844, 107.40848388671876]]\n",
      "[[351.68798828125, 134.1578369140625, 107.32626953125]]\n"
     ]
    },
    {
     "name": "stderr",
     "output_type": "stream",
     "text": [
      "\n",
      "0: 256x640 1 battery_plus, 37.6ms\n",
      "Speed: 3.0ms preprocess, 37.6ms inference, 5.0ms postprocess per image at shape (1, 3, 256, 640)\n",
      "\n",
      "0: 256x640 1 battery_plus, 27.0ms\n",
      "Speed: 3.0ms preprocess, 27.0ms inference, 6.0ms postprocess per image at shape (1, 3, 256, 640)\n",
      "\n",
      "0: 256x640 1 battery_plus, 32.8ms\n",
      "Speed: 3.0ms preprocess, 32.8ms inference, 4.9ms postprocess per image at shape (1, 3, 256, 640)\n"
     ]
    },
    {
     "name": "stdout",
     "output_type": "stream",
     "text": [
      "[[351.69818115234375, 134.19000244140625, 107.35200195312501]]\n",
      "[[351.79083251953125, 134.17623901367188, 107.3409912109375]]\n",
      "[[351.281982421875, 134.30294799804688, 107.4423583984375]]\n"
     ]
    },
    {
     "name": "stderr",
     "output_type": "stream",
     "text": [
      "\n",
      "0: 256x640 1 battery_plus, 35.5ms\n",
      "Speed: 3.0ms preprocess, 35.5ms inference, 7.8ms postprocess per image at shape (1, 3, 256, 640)\n",
      "\n",
      "0: 256x640 1 battery_plus, 32.1ms\n",
      "Speed: 4.0ms preprocess, 32.1ms inference, 6.0ms postprocess per image at shape (1, 3, 256, 640)\n",
      "\n",
      "0: 256x640 1 battery_plus, 30.7ms\n",
      "Speed: 3.0ms preprocess, 30.7ms inference, 6.0ms postprocess per image at shape (1, 3, 256, 640)\n"
     ]
    },
    {
     "name": "stdout",
     "output_type": "stream",
     "text": [
      "[[351.7674865722656, 134.13552856445312, 107.30842285156251]]\n",
      "[[351.71173095703125, 134.2647705078125, 107.41181640625001]]\n",
      "[[351.697998046875, 134.11288452148438, 107.29030761718751]]\n"
     ]
    },
    {
     "name": "stderr",
     "output_type": "stream",
     "text": [
      "\n",
      "0: 256x640 1 battery_plus, 32.3ms\n",
      "Speed: 4.0ms preprocess, 32.3ms inference, 7.3ms postprocess per image at shape (1, 3, 256, 640)\n",
      "\n",
      "0: 256x640 1 battery_plus, 29.1ms\n",
      "Speed: 4.0ms preprocess, 29.1ms inference, 6.9ms postprocess per image at shape (1, 3, 256, 640)\n",
      "\n",
      "0: 256x640 1 battery_plus, 32.0ms\n",
      "Speed: 5.0ms preprocess, 32.0ms inference, 5.2ms postprocess per image at shape (1, 3, 256, 640)\n"
     ]
    },
    {
     "name": "stdout",
     "output_type": "stream",
     "text": [
      "[[351.24920654296875, 134.29672241210938, 107.4373779296875]]\n",
      "[[351.7668151855469, 134.2256622314453, 107.38052978515626]]\n",
      "[[351.80181884765625, 134.1520538330078, 107.32164306640625]]\n"
     ]
    },
    {
     "name": "stderr",
     "output_type": "stream",
     "text": [
      "\n",
      "0: 256x640 1 battery_plus, 27.0ms\n",
      "Speed: 3.7ms preprocess, 27.0ms inference, 7.6ms postprocess per image at shape (1, 3, 256, 640)\n",
      "\n",
      "0: 256x640 1 battery_plus, 30.0ms\n",
      "Speed: 3.0ms preprocess, 30.0ms inference, 5.0ms postprocess per image at shape (1, 3, 256, 640)\n",
      "\n",
      "0: 256x640 1 battery_plus, 29.0ms\n",
      "Speed: 3.0ms preprocess, 29.0ms inference, 5.0ms postprocess per image at shape (1, 3, 256, 640)\n"
     ]
    },
    {
     "name": "stdout",
     "output_type": "stream",
     "text": [
      "[[351.7870178222656, 134.15489196777344, 107.32391357421875]]\n",
      "[[351.749755859375, 134.15008544921875, 107.320068359375]]\n",
      "[[351.8110656738281, 134.1759033203125, 107.34072265625001]]\n"
     ]
    },
    {
     "name": "stderr",
     "output_type": "stream",
     "text": [
      "\n",
      "0: 256x640 1 battery_plus, 29.0ms\n",
      "Speed: 3.0ms preprocess, 29.0ms inference, 5.0ms postprocess per image at shape (1, 3, 256, 640)\n",
      "\n",
      "0: 256x640 1 battery_plus, 28.0ms\n",
      "Speed: 3.0ms preprocess, 28.0ms inference, 8.0ms postprocess per image at shape (1, 3, 256, 640)\n",
      "\n",
      "0: 256x640 1 battery_plus, 28.5ms\n",
      "Speed: 3.0ms preprocess, 28.5ms inference, 5.6ms postprocess per image at shape (1, 3, 256, 640)\n"
     ]
    },
    {
     "name": "stdout",
     "output_type": "stream",
     "text": [
      "[[351.8507080078125, 134.20281982421875, 107.36225585937501]]\n",
      "[[351.81646728515625, 134.1929473876953, 107.35435791015625]]\n",
      "[[351.82257080078125, 134.11972045898438, 107.2957763671875]]\n"
     ]
    },
    {
     "name": "stderr",
     "output_type": "stream",
     "text": [
      "\n",
      "0: 256x640 1 battery_plus, 27.1ms\n",
      "Speed: 3.0ms preprocess, 27.1ms inference, 8.1ms postprocess per image at shape (1, 3, 256, 640)\n",
      "\n",
      "0: 256x640 1 battery_plus, 27.0ms\n",
      "Speed: 3.0ms preprocess, 27.0ms inference, 6.6ms postprocess per image at shape (1, 3, 256, 640)\n",
      "\n",
      "0: 256x640 1 battery_plus, 30.2ms\n",
      "Speed: 4.0ms preprocess, 30.2ms inference, 7.4ms postprocess per image at shape (1, 3, 256, 640)\n"
     ]
    },
    {
     "name": "stdout",
     "output_type": "stream",
     "text": [
      "[[351.7578125, 134.19564819335938, 107.35651855468751]]\n",
      "[[351.7768859863281, 134.16827392578125, 107.33461914062501]]\n",
      "[[351.8660888671875, 134.17291259765625, 107.33833007812501]]\n"
     ]
    },
    {
     "name": "stderr",
     "output_type": "stream",
     "text": [
      "\n",
      "0: 256x640 1 battery_plus, 29.8ms\n",
      "Speed: 4.0ms preprocess, 29.8ms inference, 6.3ms postprocess per image at shape (1, 3, 256, 640)\n",
      "\n",
      "0: 256x640 1 battery_plus, 30.6ms\n",
      "Speed: 3.3ms preprocess, 30.6ms inference, 6.0ms postprocess per image at shape (1, 3, 256, 640)\n",
      "\n",
      "0: 256x640 1 battery_plus, 26.0ms\n",
      "Speed: 4.0ms preprocess, 26.0ms inference, 7.0ms postprocess per image at shape (1, 3, 256, 640)\n"
     ]
    },
    {
     "name": "stdout",
     "output_type": "stream",
     "text": [
      "[[351.30194091796875, 134.2864990234375, 107.42919921875]]\n",
      "[[351.3204650878906, 134.34950256347656, 107.47960205078125]]\n",
      "[[351.74517822265625, 134.11611938476562, 107.2928955078125]]\n"
     ]
    },
    {
     "name": "stderr",
     "output_type": "stream",
     "text": [
      "\n",
      "0: 256x640 1 battery_plus, 28.5ms\n",
      "Speed: 3.0ms preprocess, 28.5ms inference, 6.0ms postprocess per image at shape (1, 3, 256, 640)\n",
      "\n",
      "0: 256x640 1 battery_plus, 28.7ms\n",
      "Speed: 2.9ms preprocess, 28.7ms inference, 5.0ms postprocess per image at shape (1, 3, 256, 640)\n",
      "\n",
      "0: 256x640 1 battery_plus, 28.8ms\n",
      "Speed: 3.3ms preprocess, 28.8ms inference, 5.0ms postprocess per image at shape (1, 3, 256, 640)\n"
     ]
    },
    {
     "name": "stdout",
     "output_type": "stream",
     "text": [
      "[[351.7235107421875, 134.0704345703125, 107.25634765625]]\n",
      "[[351.76470947265625, 134.12750244140625, 107.302001953125]]\n",
      "[[351.7768859863281, 134.14865112304688, 107.31892089843751]]\n"
     ]
    },
    {
     "name": "stderr",
     "output_type": "stream",
     "text": [
      "\n",
      "0: 256x640 1 battery_plus, 28.5ms\n",
      "Speed: 2.0ms preprocess, 28.5ms inference, 6.0ms postprocess per image at shape (1, 3, 256, 640)\n",
      "\n",
      "0: 256x640 1 battery_plus, 26.0ms\n",
      "Speed: 3.0ms preprocess, 26.0ms inference, 7.6ms postprocess per image at shape (1, 3, 256, 640)\n",
      "\n",
      "0: 256x640 1 battery_plus, 30.1ms\n",
      "Speed: 3.0ms preprocess, 30.1ms inference, 7.0ms postprocess per image at shape (1, 3, 256, 640)\n",
      "\n"
     ]
    },
    {
     "name": "stdout",
     "output_type": "stream",
     "text": [
      "[[351.3218994140625, 134.31773376464844, 107.45418701171876]]\n",
      "[[351.79046630859375, 134.1350555419922, 107.30804443359375]]\n",
      "[[351.75531005859375, 134.14959716796875, 107.319677734375]]\n"
     ]
    },
    {
     "name": "stderr",
     "output_type": "stream",
     "text": [
      "0: 256x640 1 battery_plus, 33.5ms\n",
      "Speed: 3.5ms preprocess, 33.5ms inference, 8.1ms postprocess per image at shape (1, 3, 256, 640)\n",
      "\n",
      "0: 256x640 1 battery_plus, 24.7ms\n",
      "Speed: 3.0ms preprocess, 24.7ms inference, 6.6ms postprocess per image at shape (1, 3, 256, 640)\n",
      "\n",
      "0: 256x640 1 battery_plus, 25.4ms\n",
      "Speed: 2.0ms preprocess, 25.4ms inference, 5.0ms postprocess per image at shape (1, 3, 256, 640)\n",
      "\n"
     ]
    },
    {
     "name": "stdout",
     "output_type": "stream",
     "text": [
      "[[351.8094482421875, 134.10943603515625, 107.28754882812501]]\n",
      "[[351.8023681640625, 134.191162109375, 107.35292968750001]]\n",
      "[[351.7817077636719, 134.05450439453125, 107.24360351562501]]\n"
     ]
    },
    {
     "name": "stderr",
     "output_type": "stream",
     "text": [
      "0: 256x640 1 battery_plus, 31.5ms\n",
      "Speed: 3.0ms preprocess, 31.5ms inference, 4.0ms postprocess per image at shape (1, 3, 256, 640)\n",
      "\n",
      "0: 256x640 1 battery_plus, 25.1ms\n",
      "Speed: 2.9ms preprocess, 25.1ms inference, 6.0ms postprocess per image at shape (1, 3, 256, 640)\n",
      "\n",
      "0: 256x640 1 battery_plus, 25.4ms\n",
      "Speed: 3.1ms preprocess, 25.4ms inference, 4.0ms postprocess per image at shape (1, 3, 256, 640)\n",
      "\n"
     ]
    },
    {
     "name": "stdout",
     "output_type": "stream",
     "text": [
      "[[351.2962646484375, 134.380126953125, 107.50410156250001]]\n",
      "[[351.27197265625, 134.3429412841797, 107.47435302734375]]\n",
      "[[351.834228515625, 134.28558349609375, 107.428466796875]]\n"
     ]
    },
    {
     "name": "stderr",
     "output_type": "stream",
     "text": [
      "0: 256x640 1 battery_plus, 28.1ms\n",
      "Speed: 3.0ms preprocess, 28.1ms inference, 4.1ms postprocess per image at shape (1, 3, 256, 640)\n",
      "\n",
      "0: 256x640 1 battery_plus, 25.3ms\n",
      "Speed: 2.3ms preprocess, 25.3ms inference, 5.0ms postprocess per image at shape (1, 3, 256, 640)\n",
      "\n",
      "0: 256x640 1 battery_plus, 31.0ms\n",
      "Speed: 3.0ms preprocess, 31.0ms inference, 5.0ms postprocess per image at shape (1, 3, 256, 640)\n"
     ]
    },
    {
     "name": "stdout",
     "output_type": "stream",
     "text": [
      "[[351.74591064453125, 134.15191650390625, 107.321533203125]]\n",
      "[[351.73529052734375, 134.16799926757812, 107.3343994140625]]\n",
      "[[351.71795654296875, 134.2400665283203, 107.39205322265626]]\n"
     ]
    },
    {
     "name": "stderr",
     "output_type": "stream",
     "text": [
      "\n",
      "0: 256x640 1 battery_plus, 25.0ms\n",
      "Speed: 3.0ms preprocess, 25.0ms inference, 5.1ms postprocess per image at shape (1, 3, 256, 640)\n",
      "\n",
      "0: 256x640 1 battery_plus, 28.0ms\n",
      "Speed: 2.0ms preprocess, 28.0ms inference, 4.1ms postprocess per image at shape (1, 3, 256, 640)\n",
      "\n",
      "0: 256x640 1 battery_plus, 25.0ms\n",
      "Speed: 2.0ms preprocess, 25.0ms inference, 6.4ms postprocess per image at shape (1, 3, 256, 640)\n",
      "\n"
     ]
    },
    {
     "name": "stdout",
     "output_type": "stream",
     "text": [
      "[[351.8157958984375, 134.12237548828125, 107.297900390625]]\n",
      "[[351.73388671875, 134.12176513671875, 107.297412109375]]\n",
      "[[351.7529296875, 134.00509643554688, 107.2040771484375]]\n"
     ]
    },
    {
     "name": "stderr",
     "output_type": "stream",
     "text": [
      "0: 256x640 1 battery_plus, 27.0ms\n",
      "Speed: 3.0ms preprocess, 27.0ms inference, 6.0ms postprocess per image at shape (1, 3, 256, 640)\n",
      "\n",
      "0: 256x640 1 battery_plus, 28.0ms\n",
      "Speed: 2.6ms preprocess, 28.0ms inference, 4.5ms postprocess per image at shape (1, 3, 256, 640)\n",
      "\n",
      "0: 256x640 1 battery_plus, 23.7ms\n",
      "Speed: 3.0ms preprocess, 23.7ms inference, 5.3ms postprocess per image at shape (1, 3, 256, 640)\n",
      "\n"
     ]
    },
    {
     "name": "stdout",
     "output_type": "stream",
     "text": [
      "[[351.78643798828125, 134.1754150390625, 107.34033203125]]\n",
      "[[351.8403625488281, 134.2570037841797, 107.40560302734376]]\n",
      "[[351.67266845703125, 134.13262939453125, 107.30610351562501]]\n"
     ]
    },
    {
     "name": "stderr",
     "output_type": "stream",
     "text": [
      "0: 256x640 1 battery_plus, 26.1ms\n",
      "Speed: 2.0ms preprocess, 26.1ms inference, 4.0ms postprocess per image at shape (1, 3, 256, 640)\n",
      "\n",
      "0: 256x640 1 battery_plus, 27.5ms\n",
      "Speed: 2.9ms preprocess, 27.5ms inference, 5.1ms postprocess per image at shape (1, 3, 256, 640)\n",
      "\n",
      "0: 256x640 1 battery_plus, 28.6ms\n",
      "Speed: 3.0ms preprocess, 28.6ms inference, 4.3ms postprocess per image at shape (1, 3, 256, 640)\n"
     ]
    },
    {
     "name": "stdout",
     "output_type": "stream",
     "text": [
      "[[351.7147216796875, 134.2028350830078, 107.36226806640626]]\n",
      "[[351.7519226074219, 134.12741088867188, 107.3019287109375]]\n",
      "[[351.69354248046875, 134.12266540527344, 107.29813232421876]]\n"
     ]
    },
    {
     "name": "stderr",
     "output_type": "stream",
     "text": [
      "\n",
      "0: 256x640 1 battery_plus, 27.1ms\n",
      "Speed: 3.1ms preprocess, 27.1ms inference, 3.9ms postprocess per image at shape (1, 3, 256, 640)\n",
      "\n",
      "0: 256x640 1 battery_plus, 25.0ms\n",
      "Speed: 2.0ms preprocess, 25.0ms inference, 5.0ms postprocess per image at shape (1, 3, 256, 640)\n",
      "\n",
      "0: 256x640 1 battery_plus, 25.1ms\n",
      "Speed: 3.0ms preprocess, 25.1ms inference, 5.1ms postprocess per image at shape (1, 3, 256, 640)\n",
      "\n"
     ]
    },
    {
     "name": "stdout",
     "output_type": "stream",
     "text": [
      "[[351.7830505371094, 134.19198608398438, 107.35358886718751]]\n",
      "[[351.74334716796875, 134.151123046875, 107.3208984375]]\n",
      "[[351.8839111328125, 134.1538543701172, 107.32308349609376]]\n"
     ]
    },
    {
     "name": "stderr",
     "output_type": "stream",
     "text": [
      "0: 256x640 1 battery_plus, 25.2ms\n",
      "Speed: 3.6ms preprocess, 25.2ms inference, 6.9ms postprocess per image at shape (1, 3, 256, 640)\n",
      "\n",
      "0: 256x640 1 battery_plus, 25.0ms\n",
      "Speed: 3.0ms preprocess, 25.0ms inference, 4.0ms postprocess per image at shape (1, 3, 256, 640)\n",
      "\n",
      "0: 256x640 1 battery_plus, 24.0ms\n",
      "Speed: 2.0ms preprocess, 24.0ms inference, 5.0ms postprocess per image at shape (1, 3, 256, 640)\n",
      "\n"
     ]
    },
    {
     "name": "stdout",
     "output_type": "stream",
     "text": [
      "[[351.8570861816406, 134.15643310546875, 107.32514648437501]]\n",
      "[[351.67205810546875, 134.14016723632812, 107.3121337890625]]\n",
      "[[351.78802490234375, 134.2391815185547, 107.39134521484375]]\n"
     ]
    },
    {
     "name": "stderr",
     "output_type": "stream",
     "text": [
      "0: 256x640 1 battery_plus, 24.0ms\n",
      "Speed: 3.0ms preprocess, 24.0ms inference, 5.0ms postprocess per image at shape (1, 3, 256, 640)\n",
      "\n",
      "0: 256x640 1 battery_plus, 25.5ms\n",
      "Speed: 3.0ms preprocess, 25.5ms inference, 3.5ms postprocess per image at shape (1, 3, 256, 640)\n",
      "\n",
      "0: 256x640 1 battery_plus, 26.0ms\n",
      "Speed: 2.1ms preprocess, 26.0ms inference, 6.0ms postprocess per image at shape (1, 3, 256, 640)\n",
      "\n"
     ]
    },
    {
     "name": "stdout",
     "output_type": "stream",
     "text": [
      "[[351.8158264160156, 134.2491912841797, 107.39935302734375]]\n",
      "[[351.9131164550781, 134.1829376220703, 107.34635009765626]]\n",
      "[[351.75128173828125, 134.1512451171875, 107.32099609375001]]\n"
     ]
    },
    {
     "name": "stderr",
     "output_type": "stream",
     "text": [
      "0: 256x640 1 battery_plus, 24.8ms\n",
      "Speed: 3.0ms preprocess, 24.8ms inference, 5.0ms postprocess per image at shape (1, 3, 256, 640)\n",
      "\n",
      "0: 256x640 1 battery_plus, 33.0ms\n",
      "Speed: 3.0ms preprocess, 33.0ms inference, 4.7ms postprocess per image at shape (1, 3, 256, 640)\n",
      "\n",
      "0: 256x640 1 battery_plus, 27.1ms\n",
      "Speed: 2.0ms preprocess, 27.1ms inference, 5.0ms postprocess per image at shape (1, 3, 256, 640)\n"
     ]
    },
    {
     "name": "stdout",
     "output_type": "stream",
     "text": [
      "[[351.6903076171875, 134.07470703125, 107.259765625]]\n",
      "[[351.7897644042969, 134.13360595703125, 107.306884765625]]\n",
      "[[351.8402404785156, 134.19082641601562, 107.3526611328125]]\n"
     ]
    },
    {
     "name": "stderr",
     "output_type": "stream",
     "text": [
      "\n",
      "0: 256x640 1 battery_plus, 26.3ms\n",
      "Speed: 3.0ms preprocess, 26.3ms inference, 6.5ms postprocess per image at shape (1, 3, 256, 640)\n",
      "\n",
      "0: 256x640 1 battery_plus, 25.6ms\n",
      "Speed: 3.0ms preprocess, 25.6ms inference, 5.0ms postprocess per image at shape (1, 3, 256, 640)\n",
      "\n",
      "0: 256x640 1 battery_plus, 27.0ms\n",
      "Speed: 3.0ms preprocess, 27.0ms inference, 5.0ms postprocess per image at shape (1, 3, 256, 640)\n",
      "\n"
     ]
    },
    {
     "name": "stdout",
     "output_type": "stream",
     "text": [
      "[[351.7801513671875, 134.19973754882812, 107.3597900390625]]\n",
      "[[351.80401611328125, 134.22116088867188, 107.3769287109375]]\n",
      "[[351.8151550292969, 134.208984375, 107.3671875]]\n"
     ]
    },
    {
     "name": "stderr",
     "output_type": "stream",
     "text": [
      "0: 256x640 1 battery_plus, 29.0ms\n",
      "Speed: 3.5ms preprocess, 29.0ms inference, 4.1ms postprocess per image at shape (1, 3, 256, 640)\n",
      "\n",
      "0: 256x640 1 battery_plus, 26.0ms\n",
      "Speed: 3.0ms preprocess, 26.0ms inference, 7.0ms postprocess per image at shape (1, 3, 256, 640)\n",
      "\n",
      "0: 256x640 1 battery_plus, 27.9ms\n",
      "Speed: 3.0ms preprocess, 27.9ms inference, 4.6ms postprocess per image at shape (1, 3, 256, 640)\n",
      "\n"
     ]
    },
    {
     "name": "stdout",
     "output_type": "stream",
     "text": [
      "[[351.77581787109375, 134.14271545410156, 107.31417236328126]]\n",
      "[[351.7274475097656, 134.1288299560547, 107.30306396484376]]\n",
      "[[351.7231750488281, 134.16064453125, 107.32851562500001]]\n"
     ]
    },
    {
     "name": "stderr",
     "output_type": "stream",
     "text": [
      "0: 256x640 1 battery_plus, 30.1ms\n",
      "Speed: 3.8ms preprocess, 30.1ms inference, 5.0ms postprocess per image at shape (1, 3, 256, 640)\n",
      "\n",
      "0: 256x640 1 battery_plus, 26.0ms\n",
      "Speed: 2.5ms preprocess, 26.0ms inference, 6.0ms postprocess per image at shape (1, 3, 256, 640)\n",
      "\n",
      "0: 256x640 1 battery_plus, 26.8ms\n",
      "Speed: 3.0ms preprocess, 26.8ms inference, 4.9ms postprocess per image at shape (1, 3, 256, 640)\n",
      "\n"
     ]
    },
    {
     "name": "stdout",
     "output_type": "stream",
     "text": [
      "[[351.79974365234375, 134.2119598388672, 107.36956787109375]]\n",
      "[[351.6908874511719, 134.21974182128906, 107.37579345703125]]\n",
      "[[351.80657958984375, 134.19798278808594, 107.35838623046875]]\n"
     ]
    },
    {
     "name": "stderr",
     "output_type": "stream",
     "text": [
      "0: 256x640 1 battery_plus, 28.7ms\n",
      "Speed: 3.0ms preprocess, 28.7ms inference, 5.2ms postprocess per image at shape (1, 3, 256, 640)\n",
      "\n",
      "0: 256x640 1 battery_plus, 26.1ms\n",
      "Speed: 3.0ms preprocess, 26.1ms inference, 5.8ms postprocess per image at shape (1, 3, 256, 640)\n",
      "\n",
      "0: 256x640 1 battery_plus, 25.4ms\n",
      "Speed: 3.6ms preprocess, 25.4ms inference, 6.3ms postprocess per image at shape (1, 3, 256, 640)\n",
      "\n"
     ]
    },
    {
     "name": "stdout",
     "output_type": "stream",
     "text": [
      "[[351.8131103515625, 134.1195068359375, 107.29560546875001]]\n",
      "[[351.77099609375, 134.15538024902344, 107.32430419921876]]\n",
      "[[351.6861572265625, 134.17579650878906, 107.34063720703125]]\n"
     ]
    },
    {
     "name": "stderr",
     "output_type": "stream",
     "text": [
      "0: 256x640 1 battery_plus, 27.5ms\n",
      "Speed: 3.0ms preprocess, 27.5ms inference, 5.0ms postprocess per image at shape (1, 3, 256, 640)\n",
      "\n",
      "0: 256x640 1 battery_plus, 28.5ms\n",
      "Speed: 3.0ms preprocess, 28.5ms inference, 5.0ms postprocess per image at shape (1, 3, 256, 640)\n",
      "\n",
      "0: 256x640 1 battery_plus, 27.4ms\n",
      "Speed: 2.9ms preprocess, 27.4ms inference, 5.8ms postprocess per image at shape (1, 3, 256, 640)\n",
      "\n"
     ]
    },
    {
     "name": "stdout",
     "output_type": "stream",
     "text": [
      "[[351.8466796875, 134.09146118164062, 107.2731689453125]]\n",
      "[[351.81201171875, 134.10670471191406, 107.28536376953126]]\n",
      "[[351.20794677734375, 134.34661865234375, 107.477294921875]]\n"
     ]
    },
    {
     "name": "stderr",
     "output_type": "stream",
     "text": [
      "0: 256x640 1 battery_plus, 28.0ms\n",
      "Speed: 3.0ms preprocess, 28.0ms inference, 5.0ms postprocess per image at shape (1, 3, 256, 640)\n",
      "\n",
      "0: 256x640 1 battery_plus, 28.4ms\n",
      "Speed: 2.0ms preprocess, 28.4ms inference, 5.0ms postprocess per image at shape (1, 3, 256, 640)\n",
      "\n",
      "0: 256x640 1 battery_plus, 31.7ms\n",
      "Speed: 3.0ms preprocess, 31.7ms inference, 5.0ms postprocess per image at shape (1, 3, 256, 640)\n"
     ]
    },
    {
     "name": "stdout",
     "output_type": "stream",
     "text": [
      "[[351.76605224609375, 134.1717987060547, 107.33743896484376]]\n",
      "[[351.81927490234375, 134.1750946044922, 107.34007568359375]]\n",
      "[[351.7728271484375, 134.15811157226562, 107.32648925781251]]\n"
     ]
    },
    {
     "name": "stderr",
     "output_type": "stream",
     "text": [
      "\n",
      "0: 256x640 1 battery_plus, 28.1ms\n",
      "Speed: 3.0ms preprocess, 28.1ms inference, 5.0ms postprocess per image at shape (1, 3, 256, 640)\n",
      "\n",
      "0: 256x640 1 battery_plus, 25.0ms\n",
      "Speed: 2.7ms preprocess, 25.0ms inference, 6.0ms postprocess per image at shape (1, 3, 256, 640)\n",
      "\n",
      "0: 256x640 1 battery_plus, 32.2ms\n",
      "Speed: 3.0ms preprocess, 32.2ms inference, 5.0ms postprocess per image at shape (1, 3, 256, 640)\n",
      "\n"
     ]
    },
    {
     "name": "stdout",
     "output_type": "stream",
     "text": [
      "[[351.25439453125, 134.3345947265625, 107.46767578125001]]\n",
      "[[351.8226013183594, 134.16917419433594, 107.33533935546876]]\n",
      "[[351.83642578125, 134.10597229003906, 107.28477783203125]]\n"
     ]
    },
    {
     "name": "stderr",
     "output_type": "stream",
     "text": [
      "0: 256x640 1 battery_plus, 27.1ms\n",
      "Speed: 3.0ms preprocess, 27.1ms inference, 5.0ms postprocess per image at shape (1, 3, 256, 640)\n",
      "\n",
      "0: 256x640 1 battery_plus, 28.0ms\n",
      "Speed: 3.0ms preprocess, 28.0ms inference, 5.4ms postprocess per image at shape (1, 3, 256, 640)\n",
      "\n",
      "0: 256x640 1 battery_plus, 25.5ms\n",
      "Speed: 3.0ms preprocess, 25.5ms inference, 6.7ms postprocess per image at shape (1, 3, 256, 640)\n",
      "\n"
     ]
    },
    {
     "name": "stdout",
     "output_type": "stream",
     "text": [
      "[[351.7403564453125, 134.1029052734375, 107.28232421875]]\n",
      "[[351.6784973144531, 134.1385498046875, 107.31083984375]]\n",
      "[[351.7979736328125, 134.2659912109375, 107.41279296875001]]\n"
     ]
    },
    {
     "name": "stderr",
     "output_type": "stream",
     "text": [
      "0: 256x640 1 battery_plus, 26.5ms\n",
      "Speed: 3.0ms preprocess, 26.5ms inference, 5.0ms postprocess per image at shape (1, 3, 256, 640)\n",
      "\n",
      "0: 256x640 1 battery_plus, 26.0ms\n",
      "Speed: 2.0ms preprocess, 26.0ms inference, 5.0ms postprocess per image at shape (1, 3, 256, 640)\n",
      "\n",
      "0: 256x640 1 battery_plus, 27.1ms\n",
      "Speed: 3.0ms preprocess, 27.1ms inference, 4.0ms postprocess per image at shape (1, 3, 256, 640)\n",
      "\n"
     ]
    },
    {
     "name": "stdout",
     "output_type": "stream",
     "text": [
      "[[351.76153564453125, 134.06942749023438, 107.2555419921875]]\n",
      "[[351.2777099609375, 134.3193359375, 107.45546875000001]]\n",
      "[[351.7694091796875, 134.08074951171875, 107.26459960937501]]\n"
     ]
    },
    {
     "name": "stderr",
     "output_type": "stream",
     "text": [
      "0: 256x640 1 battery_plus, 30.2ms\n",
      "Speed: 3.0ms preprocess, 30.2ms inference, 4.0ms postprocess per image at shape (1, 3, 256, 640)\n",
      "\n",
      "0: 256x640 1 battery_plus, 24.1ms\n",
      "Speed: 2.0ms preprocess, 24.1ms inference, 5.5ms postprocess per image at shape (1, 3, 256, 640)\n",
      "\n",
      "0: 256x640 1 battery_plus, 25.2ms\n",
      "Speed: 3.1ms preprocess, 25.2ms inference, 5.1ms postprocess per image at shape (1, 3, 256, 640)\n",
      "\n"
     ]
    },
    {
     "name": "stdout",
     "output_type": "stream",
     "text": [
      "[[351.74798583984375, 134.1951904296875, 107.35615234375001]]\n",
      "[[351.7960205078125, 134.08761596679688, 107.27009277343751]]\n",
      "[[351.302490234375, 134.28807067871094, 107.43045654296876]]\n"
     ]
    },
    {
     "name": "stderr",
     "output_type": "stream",
     "text": [
      "0: 256x640 1 battery_plus, 25.1ms\n",
      "Speed: 3.4ms preprocess, 25.1ms inference, 5.8ms postprocess per image at shape (1, 3, 256, 640)\n",
      "\n",
      "0: 256x640 1 battery_plus, 28.2ms\n",
      "Speed: 2.0ms preprocess, 28.2ms inference, 4.0ms postprocess per image at shape (1, 3, 256, 640)\n",
      "\n",
      "0: 256x640 1 battery_plus, 24.6ms\n",
      "Speed: 3.0ms preprocess, 24.6ms inference, 5.5ms postprocess per image at shape (1, 3, 256, 640)\n",
      "\n"
     ]
    },
    {
     "name": "stdout",
     "output_type": "stream",
     "text": [
      "[[351.7485046386719, 134.1563262939453, 107.32506103515625]]\n",
      "[[351.7798156738281, 134.1582489013672, 107.32659912109375]]\n",
      "[[351.69537353515625, 134.12094116210938, 107.2967529296875]]\n"
     ]
    },
    {
     "name": "stderr",
     "output_type": "stream",
     "text": [
      "0: 256x640 1 battery_plus, 26.0ms\n",
      "Speed: 2.7ms preprocess, 26.0ms inference, 4.0ms postprocess per image at shape (1, 3, 256, 640)\n",
      "\n",
      "0: 256x640 1 battery_plus, 24.7ms\n",
      "Speed: 3.0ms preprocess, 24.7ms inference, 7.0ms postprocess per image at shape (1, 3, 256, 640)\n",
      "\n",
      "0: 256x640 1 battery_plus, 24.5ms\n",
      "Speed: 4.0ms preprocess, 24.5ms inference, 5.0ms postprocess per image at shape (1, 3, 256, 640)\n",
      "\n"
     ]
    },
    {
     "name": "stdout",
     "output_type": "stream",
     "text": [
      "[[351.6746826171875, 134.11041259765625, 107.288330078125]]\n",
      "[[351.764404296875, 134.16317749023438, 107.3305419921875]]\n",
      "[[351.7801513671875, 134.16319274902344, 107.33055419921875]]\n"
     ]
    },
    {
     "name": "stderr",
     "output_type": "stream",
     "text": [
      "0: 256x640 1 battery_plus, 25.0ms\n",
      "Speed: 3.0ms preprocess, 25.0ms inference, 6.4ms postprocess per image at shape (1, 3, 256, 640)\n",
      "\n",
      "0: 256x640 1 battery_plus, 25.2ms\n",
      "Speed: 2.7ms preprocess, 25.2ms inference, 5.0ms postprocess per image at shape (1, 3, 256, 640)\n",
      "\n",
      "0: 256x640 1 battery_plus, 29.0ms\n",
      "Speed: 2.0ms preprocess, 29.0ms inference, 5.0ms postprocess per image at shape (1, 3, 256, 640)\n",
      "\n"
     ]
    },
    {
     "name": "stdout",
     "output_type": "stream",
     "text": [
      "[[351.82940673828125, 134.09596252441406, 107.27677001953126]]\n",
      "[[351.69573974609375, 134.1030731201172, 107.28245849609375]]\n",
      "[[351.2943115234375, 134.321044921875, 107.4568359375]]\n"
     ]
    },
    {
     "name": "stderr",
     "output_type": "stream",
     "text": [
      "0: 256x640 1 battery_plus, 25.0ms\n",
      "Speed: 2.8ms preprocess, 25.0ms inference, 5.1ms postprocess per image at shape (1, 3, 256, 640)\n",
      "\n",
      "0: 256x640 1 battery_plus, 25.0ms\n",
      "Speed: 2.0ms preprocess, 25.0ms inference, 5.6ms postprocess per image at shape (1, 3, 256, 640)\n",
      "\n",
      "0: 256x640 1 battery_plus, 24.0ms\n",
      "Speed: 2.0ms preprocess, 24.0ms inference, 5.0ms postprocess per image at shape (1, 3, 256, 640)\n",
      "\n"
     ]
    },
    {
     "name": "stdout",
     "output_type": "stream",
     "text": [
      "[[351.7755126953125, 134.1824951171875, 107.34599609375]]\n",
      "[[351.7795715332031, 134.2200927734375, 107.37607421875]]\n",
      "[[351.856689453125, 134.2605438232422, 107.40843505859375]]\n"
     ]
    },
    {
     "name": "stderr",
     "output_type": "stream",
     "text": [
      "0: 256x640 1 battery_plus, 24.0ms\n",
      "Speed: 3.0ms preprocess, 24.0ms inference, 6.5ms postprocess per image at shape (1, 3, 256, 640)\n",
      "\n",
      "0: 256x640 1 battery_plus, 25.0ms\n",
      "Speed: 2.5ms preprocess, 25.0ms inference, 5.6ms postprocess per image at shape (1, 3, 256, 640)\n",
      "\n",
      "0: 256x640 1 battery_plus, 25.5ms\n",
      "Speed: 2.0ms preprocess, 25.5ms inference, 4.0ms postprocess per image at shape (1, 3, 256, 640)\n",
      "\n"
     ]
    },
    {
     "name": "stdout",
     "output_type": "stream",
     "text": [
      "[[351.88818359375, 134.2062530517578, 107.36500244140626]]\n",
      "[[351.8011169433594, 134.06301879882812, 107.2504150390625]]\n",
      "[[351.79022216796875, 134.167236328125, 107.3337890625]]\n"
     ]
    },
    {
     "name": "stderr",
     "output_type": "stream",
     "text": [
      "0: 256x640 1 battery_plus, 25.0ms\n",
      "Speed: 3.1ms preprocess, 25.0ms inference, 7.0ms postprocess per image at shape (1, 3, 256, 640)\n",
      "\n",
      "0: 256x640 1 battery_plus, 28.4ms\n",
      "Speed: 3.0ms preprocess, 28.4ms inference, 5.0ms postprocess per image at shape (1, 3, 256, 640)\n",
      "\n",
      "0: 256x640 1 battery_plus, 30.4ms\n",
      "Speed: 2.0ms preprocess, 30.4ms inference, 5.0ms postprocess per image at shape (1, 3, 256, 640)\n",
      "\n"
     ]
    },
    {
     "name": "stdout",
     "output_type": "stream",
     "text": [
      "[[351.83734130859375, 134.1278076171875, 107.30224609375]]\n",
      "[[351.7647705078125, 134.1814422607422, 107.34515380859375]]\n",
      "[[351.84857177734375, 134.16847229003906, 107.33477783203125]]\n"
     ]
    },
    {
     "name": "stderr",
     "output_type": "stream",
     "text": [
      "0: 256x640 1 battery_plus, 33.0ms\n",
      "Speed: 3.0ms preprocess, 33.0ms inference, 6.1ms postprocess per image at shape (1, 3, 256, 640)\n",
      "\n",
      "0: 256x640 1 battery_plus, 27.0ms\n",
      "Speed: 3.0ms preprocess, 27.0ms inference, 4.4ms postprocess per image at shape (1, 3, 256, 640)\n",
      "\n",
      "0: 256x640 1 battery_plus, 28.1ms\n",
      "Speed: 4.0ms preprocess, 28.1ms inference, 5.2ms postprocess per image at shape (1, 3, 256, 640)\n"
     ]
    },
    {
     "name": "stdout",
     "output_type": "stream",
     "text": [
      "[[351.19476318359375, 134.35159301757812, 107.48127441406251]]\n",
      "[[351.360107421875, 134.36245727539062, 107.4899658203125]]\n",
      "[[351.26123046875, 134.30148315429688, 107.44118652343751]]\n"
     ]
    },
    {
     "name": "stderr",
     "output_type": "stream",
     "text": [
      "\n",
      "0: 256x640 1 battery_plus, 32.1ms\n",
      "Speed: 3.6ms preprocess, 32.1ms inference, 6.1ms postprocess per image at shape (1, 3, 256, 640)\n",
      "\n",
      "0: 256x640 1 battery_plus, 30.0ms\n",
      "Speed: 3.5ms preprocess, 30.0ms inference, 5.0ms postprocess per image at shape (1, 3, 256, 640)\n",
      "\n",
      "0: 256x640 1 battery_plus, 29.3ms\n",
      "Speed: 4.1ms preprocess, 29.3ms inference, 6.0ms postprocess per image at shape (1, 3, 256, 640)\n"
     ]
    },
    {
     "name": "stdout",
     "output_type": "stream",
     "text": [
      "[[351.7119140625, 134.1905975341797, 107.35247802734375]]\n",
      "[[351.24835205078125, 134.316162109375, 107.4529296875]]\n",
      "[[351.24346923828125, 134.4506378173828, 107.56051025390626]]\n"
     ]
    },
    {
     "name": "stderr",
     "output_type": "stream",
     "text": [
      "\n",
      "0: 256x640 1 battery_plus, 26.1ms\n",
      "Speed: 3.0ms preprocess, 26.1ms inference, 6.1ms postprocess per image at shape (1, 3, 256, 640)\n",
      "\n",
      "0: 256x640 1 battery_plus, 28.0ms\n",
      "Speed: 3.0ms preprocess, 28.0ms inference, 5.0ms postprocess per image at shape (1, 3, 256, 640)\n",
      "\n",
      "0: 256x640 1 battery_plus, 25.0ms\n",
      "Speed: 4.0ms preprocess, 25.0ms inference, 6.1ms postprocess per image at shape (1, 3, 256, 640)\n"
     ]
    },
    {
     "name": "stdout",
     "output_type": "stream",
     "text": [
      "[[351.70550537109375, 134.0833282470703, 107.26666259765625]]\n",
      "[[351.817138671875, 134.21002197265625, 107.368017578125]]\n",
      "[[351.26605224609375, 134.2880401611328, 107.43043212890626]]\n"
     ]
    },
    {
     "name": "stderr",
     "output_type": "stream",
     "text": [
      "\n",
      "0: 256x640 1 battery_plus, 29.0ms\n",
      "Speed: 4.0ms preprocess, 29.0ms inference, 7.0ms postprocess per image at shape (1, 3, 256, 640)\n",
      "\n",
      "0: 256x640 1 battery_plus, 29.0ms\n",
      "Speed: 3.0ms preprocess, 29.0ms inference, 6.0ms postprocess per image at shape (1, 3, 256, 640)\n",
      "\n",
      "0: 256x640 1 battery_plus, 28.3ms\n",
      "Speed: 3.0ms preprocess, 28.3ms inference, 4.9ms postprocess per image at shape (1, 3, 256, 640)\n",
      "\n"
     ]
    },
    {
     "name": "stdout",
     "output_type": "stream",
     "text": [
      "[[351.2557373046875, 134.36642456054688, 107.4931396484375]]\n",
      "[[351.82122802734375, 134.2122802734375, 107.36982421875001]]\n",
      "[[351.80413818359375, 134.31741333007812, 107.45393066406251]]\n"
     ]
    },
    {
     "name": "stderr",
     "output_type": "stream",
     "text": [
      "0: 256x640 1 battery_plus, 29.2ms\n",
      "Speed: 3.9ms preprocess, 29.2ms inference, 5.0ms postprocess per image at shape (1, 3, 256, 640)\n",
      "\n",
      "0: 256x640 1 battery_plus, 28.6ms\n",
      "Speed: 4.0ms preprocess, 28.6ms inference, 5.0ms postprocess per image at shape (1, 3, 256, 640)\n",
      "\n",
      "0: 256x640 1 battery_plus, 28.0ms\n",
      "Speed: 3.0ms preprocess, 28.0ms inference, 5.0ms postprocess per image at shape (1, 3, 256, 640)\n"
     ]
    },
    {
     "name": "stdout",
     "output_type": "stream",
     "text": [
      "[[351.7400207519531, 134.17544555664062, 107.34035644531251]]\n",
      "[[351.8388977050781, 134.12887573242188, 107.3031005859375]]\n",
      "[[351.29083251953125, 134.31411743164062, 107.4512939453125]]\n"
     ]
    },
    {
     "name": "stderr",
     "output_type": "stream",
     "text": [
      "\n",
      "0: 256x640 1 battery_plus, 30.0ms\n",
      "Speed: 4.1ms preprocess, 30.0ms inference, 5.1ms postprocess per image at shape (1, 3, 256, 640)\n",
      "\n",
      "0: 256x640 1 battery_plus, 30.5ms\n",
      "Speed: 3.0ms preprocess, 30.5ms inference, 5.0ms postprocess per image at shape (1, 3, 256, 640)\n",
      "\n",
      "0: 256x640 1 battery_plus, 25.0ms\n",
      "Speed: 3.0ms preprocess, 25.0ms inference, 5.0ms postprocess per image at shape (1, 3, 256, 640)\n",
      "\n"
     ]
    },
    {
     "name": "stdout",
     "output_type": "stream",
     "text": [
      "[[351.761962890625, 134.18218994140625, 107.345751953125]]\n",
      "[[351.6661682128906, 134.13804626464844, 107.31043701171876]]\n",
      "[[351.7815246582031, 134.2646484375, 107.41171875]]\n"
     ]
    },
    {
     "name": "stderr",
     "output_type": "stream",
     "text": [
      "0: 256x640 1 battery_plus, 26.0ms\n",
      "Speed: 3.0ms preprocess, 26.0ms inference, 5.0ms postprocess per image at shape (1, 3, 256, 640)\n",
      "\n",
      "0: 256x640 1 battery_plus, 28.6ms\n",
      "Speed: 2.0ms preprocess, 28.6ms inference, 5.0ms postprocess per image at shape (1, 3, 256, 640)\n",
      "\n",
      "0: 256x640 1 battery_plus, 25.0ms\n",
      "Speed: 3.0ms preprocess, 25.0ms inference, 7.0ms postprocess per image at shape (1, 3, 256, 640)\n"
     ]
    },
    {
     "name": "stdout",
     "output_type": "stream",
     "text": [
      "[[351.749267578125, 134.12619018554688, 107.3009521484375]]\n",
      "[[351.65350341796875, 134.04556274414062, 107.2364501953125]]\n",
      "[[351.775146484375, 134.0721893310547, 107.25775146484375]]\n"
     ]
    },
    {
     "name": "stderr",
     "output_type": "stream",
     "text": [
      "\n",
      "0: 256x640 1 battery_plus, 28.0ms\n",
      "Speed: 4.0ms preprocess, 28.0ms inference, 7.0ms postprocess per image at shape (1, 3, 256, 640)\n",
      "\n",
      "0: 256x640 1 battery_plus, 29.1ms\n",
      "Speed: 2.9ms preprocess, 29.1ms inference, 6.9ms postprocess per image at shape (1, 3, 256, 640)\n",
      "\n",
      "0: 256x640 1 battery_plus, 30.7ms\n",
      "Speed: 3.1ms preprocess, 30.7ms inference, 6.0ms postprocess per image at shape (1, 3, 256, 640)\n"
     ]
    },
    {
     "name": "stdout",
     "output_type": "stream",
     "text": [
      "[[351.76153564453125, 134.2900848388672, 107.43206787109375]]\n",
      "[[351.2598876953125, 134.29026794433594, 107.43221435546876]]\n",
      "[[351.8340148925781, 134.13697814941406, 107.30958251953126]]\n"
     ]
    },
    {
     "name": "stderr",
     "output_type": "stream",
     "text": [
      "\n",
      "0: 256x640 1 battery_plus, 28.6ms\n",
      "Speed: 2.8ms preprocess, 28.6ms inference, 7.0ms postprocess per image at shape (1, 3, 256, 640)\n",
      "\n",
      "0: 256x640 1 battery_plus, 29.0ms\n",
      "Speed: 2.0ms preprocess, 29.0ms inference, 5.0ms postprocess per image at shape (1, 3, 256, 640)\n",
      "\n",
      "0: 256x640 1 battery_plus, 27.0ms\n",
      "Speed: 2.0ms preprocess, 27.0ms inference, 6.0ms postprocess per image at shape (1, 3, 256, 640)\n",
      "\n"
     ]
    },
    {
     "name": "stdout",
     "output_type": "stream",
     "text": [
      "[[351.85711669921875, 134.07469177246094, 107.25975341796875]]\n",
      "[[351.3175048828125, 134.34390258789062, 107.47512207031251]]\n",
      "[[351.72021484375, 134.12332153320312, 107.29865722656251]]\n"
     ]
    },
    {
     "name": "stderr",
     "output_type": "stream",
     "text": [
      "0: 256x640 1 battery_plus, 27.6ms\n",
      "Speed: 4.0ms preprocess, 27.6ms inference, 6.0ms postprocess per image at shape (1, 3, 256, 640)\n",
      "\n",
      "0: 256x640 1 battery_plus, 27.8ms\n",
      "Speed: 3.0ms preprocess, 27.8ms inference, 6.0ms postprocess per image at shape (1, 3, 256, 640)\n",
      "\n",
      "0: 256x640 1 battery_plus, 26.7ms\n",
      "Speed: 4.0ms preprocess, 26.7ms inference, 4.0ms postprocess per image at shape (1, 3, 256, 640)\n",
      "\n"
     ]
    },
    {
     "name": "stdout",
     "output_type": "stream",
     "text": [
      "[[351.7386169433594, 134.14303588867188, 107.3144287109375]]\n",
      "[[351.7486572265625, 134.10594177246094, 107.28475341796876]]\n",
      "[[351.7961120605469, 134.1865234375, 107.34921875]]\n"
     ]
    },
    {
     "name": "stderr",
     "output_type": "stream",
     "text": [
      "0: 256x640 1 battery_plus, 26.0ms\n",
      "Speed: 3.4ms preprocess, 26.0ms inference, 7.3ms postprocess per image at shape (1, 3, 256, 640)\n",
      "\n",
      "0: 256x640 1 battery_plus, 26.1ms\n",
      "Speed: 2.0ms preprocess, 26.1ms inference, 5.0ms postprocess per image at shape (1, 3, 256, 640)\n",
      "\n",
      "0: 256x640 1 battery_plus, 27.7ms\n",
      "Speed: 3.0ms preprocess, 27.7ms inference, 5.0ms postprocess per image at shape (1, 3, 256, 640)\n",
      "\n"
     ]
    },
    {
     "name": "stdout",
     "output_type": "stream",
     "text": [
      "[[351.82452392578125, 134.17172241210938, 107.3373779296875]]\n",
      "[[351.7666015625, 134.1320037841797, 107.30560302734375]]\n",
      "[[351.7010498046875, 134.14840698242188, 107.3187255859375]]\n"
     ]
    },
    {
     "name": "stderr",
     "output_type": "stream",
     "text": [
      "0: 256x640 1 battery_plus, 25.1ms\n",
      "Speed: 2.9ms preprocess, 25.1ms inference, 5.0ms postprocess per image at shape (1, 3, 256, 640)\n",
      "\n",
      "0: 256x640 1 battery_plus, 28.1ms\n",
      "Speed: 2.0ms preprocess, 28.1ms inference, 4.0ms postprocess per image at shape (1, 3, 256, 640)\n",
      "\n",
      "0: 256x640 1 battery_plus, 28.6ms\n",
      "Speed: 2.0ms preprocess, 28.6ms inference, 4.6ms postprocess per image at shape (1, 3, 256, 640)\n",
      "\n"
     ]
    },
    {
     "name": "stdout",
     "output_type": "stream",
     "text": [
      "[[351.7685546875, 134.218017578125, 107.37441406250001]]\n",
      "[[351.8274841308594, 134.139404296875, 107.3115234375]]\n",
      "[[351.7156982421875, 134.10047912597656, 107.28038330078125]]\n"
     ]
    },
    {
     "name": "stderr",
     "output_type": "stream",
     "text": [
      "0: 256x640 1 battery_plus, 25.0ms\n",
      "Speed: 4.0ms preprocess, 25.0ms inference, 4.0ms postprocess per image at shape (1, 3, 256, 640)\n",
      "\n",
      "0: 256x640 1 battery_plus, 25.0ms\n",
      "Speed: 2.0ms preprocess, 25.0ms inference, 5.4ms postprocess per image at shape (1, 3, 256, 640)\n",
      "\n",
      "0: 256x640 1 battery_plus, 25.0ms\n",
      "Speed: 2.6ms preprocess, 25.0ms inference, 5.0ms postprocess per image at shape (1, 3, 256, 640)\n",
      "\n"
     ]
    },
    {
     "name": "stdout",
     "output_type": "stream",
     "text": [
      "[[351.82666015625, 134.15736389160156, 107.32589111328126]]\n",
      "[[351.77874755859375, 134.05654907226562, 107.2452392578125]]\n",
      "[[351.75665283203125, 134.09243774414062, 107.27395019531251]]\n"
     ]
    },
    {
     "name": "stderr",
     "output_type": "stream",
     "text": [
      "0: 256x640 1 battery_plus, 26.1ms\n",
      "Speed: 3.0ms preprocess, 26.1ms inference, 5.0ms postprocess per image at shape (1, 3, 256, 640)\n",
      "\n",
      "0: 256x640 1 battery_plus, 27.0ms\n",
      "Speed: 4.5ms preprocess, 27.0ms inference, 5.0ms postprocess per image at shape (1, 3, 256, 640)\n",
      "\n",
      "0: 256x640 1 battery_plus, 27.0ms\n",
      "Speed: 4.0ms preprocess, 27.0ms inference, 5.5ms postprocess per image at shape (1, 3, 256, 640)\n"
     ]
    },
    {
     "name": "stdout",
     "output_type": "stream",
     "text": [
      "[[351.7520751953125, 134.1438751220703, 107.31510009765626]]\n",
      "[[351.73883056640625, 134.17376708984375, 107.33901367187501]]\n",
      "[[351.7999267578125, 134.23458862304688, 107.3876708984375]]\n"
     ]
    },
    {
     "name": "stderr",
     "output_type": "stream",
     "text": [
      "\n",
      "0: 256x640 1 battery_plus, 27.0ms\n",
      "Speed: 3.0ms preprocess, 27.0ms inference, 5.0ms postprocess per image at shape (1, 3, 256, 640)\n",
      "\n",
      "0: 256x640 1 battery_plus, 24.7ms\n",
      "Speed: 3.3ms preprocess, 24.7ms inference, 6.5ms postprocess per image at shape (1, 3, 256, 640)\n",
      "\n",
      "0: 256x640 1 battery_plus, 24.6ms\n",
      "Speed: 3.0ms preprocess, 24.6ms inference, 5.0ms postprocess per image at shape (1, 3, 256, 640)\n",
      "\n"
     ]
    },
    {
     "name": "stdout",
     "output_type": "stream",
     "text": [
      "[[351.7589111328125, 134.09239196777344, 107.27391357421875]]\n",
      "[[351.82373046875, 134.22402954101562, 107.37922363281251]]\n",
      "[[351.7016906738281, 134.1653289794922, 107.33226318359375]]\n"
     ]
    },
    {
     "name": "stderr",
     "output_type": "stream",
     "text": [
      "0: 256x640 1 battery_plus, 29.6ms\n",
      "Speed: 2.0ms preprocess, 29.6ms inference, 4.1ms postprocess per image at shape (1, 3, 256, 640)\n",
      "\n",
      "0: 256x640 1 battery_plus, 24.6ms\n",
      "Speed: 3.0ms preprocess, 24.6ms inference, 5.0ms postprocess per image at shape (1, 3, 256, 640)\n",
      "\n",
      "0: 256x640 1 battery_plus, 24.7ms\n",
      "Speed: 3.0ms preprocess, 24.7ms inference, 4.0ms postprocess per image at shape (1, 3, 256, 640)\n",
      "\n"
     ]
    },
    {
     "name": "stdout",
     "output_type": "stream",
     "text": [
      "[[351.263427734375, 134.29490661621094, 107.43592529296876]]\n",
      "[[351.78802490234375, 134.15899658203125, 107.327197265625]]\n",
      "[[351.7167663574219, 134.05853271484375, 107.246826171875]]\n"
     ]
    },
    {
     "name": "stderr",
     "output_type": "stream",
     "text": [
      "0: 256x640 1 battery_plus, 28.1ms\n",
      "Speed: 1.9ms preprocess, 28.1ms inference, 5.0ms postprocess per image at shape (1, 3, 256, 640)\n",
      "\n",
      "0: 256x640 1 battery_plus, 26.0ms\n",
      "Speed: 3.0ms preprocess, 26.0ms inference, 5.0ms postprocess per image at shape (1, 3, 256, 640)\n",
      "\n",
      "0: 256x640 1 battery_plus, 27.5ms\n",
      "Speed: 2.5ms preprocess, 27.5ms inference, 5.0ms postprocess per image at shape (1, 3, 256, 640)\n",
      "\n"
     ]
    },
    {
     "name": "stdout",
     "output_type": "stream",
     "text": [
      "[[351.7210998535156, 134.18328857421875, 107.34663085937501]]\n",
      "[[351.7782287597656, 134.24154663085938, 107.3932373046875]]\n",
      "[[351.892578125, 134.283203125, 107.4265625]]\n"
     ]
    },
    {
     "name": "stderr",
     "output_type": "stream",
     "text": [
      "0: 256x640 1 battery_plus, 26.9ms\n",
      "Speed: 2.0ms preprocess, 26.9ms inference, 5.5ms postprocess per image at shape (1, 3, 256, 640)\n",
      "\n",
      "0: 256x640 1 battery_plus, 27.1ms\n",
      "Speed: 3.0ms preprocess, 27.1ms inference, 5.0ms postprocess per image at shape (1, 3, 256, 640)\n",
      "\n",
      "0: 256x640 1 battery_plus, 28.5ms\n",
      "Speed: 3.0ms preprocess, 28.5ms inference, 6.0ms postprocess per image at shape (1, 3, 256, 640)\n",
      "\n"
     ]
    },
    {
     "name": "stdout",
     "output_type": "stream",
     "text": [
      "[[351.71087646484375, 134.15090942382812, 107.3207275390625]]\n",
      "[[351.3351745605469, 134.34730529785156, 107.47784423828125]]\n",
      "[[351.78375244140625, 134.23953247070312, 107.39162597656251]]\n"
     ]
    },
    {
     "name": "stderr",
     "output_type": "stream",
     "text": [
      "0: 256x640 1 battery_plus, 29.5ms\n",
      "Speed: 3.0ms preprocess, 29.5ms inference, 5.0ms postprocess per image at shape (1, 3, 256, 640)\n",
      "\n",
      "0: 256x640 1 battery_plus, 28.0ms\n",
      "Speed: 2.9ms preprocess, 28.0ms inference, 5.0ms postprocess per image at shape (1, 3, 256, 640)\n",
      "\n",
      "0: 256x640 1 battery_plus, 29.0ms\n",
      "Speed: 3.0ms preprocess, 29.0ms inference, 5.0ms postprocess per image at shape (1, 3, 256, 640)\n"
     ]
    },
    {
     "name": "stdout",
     "output_type": "stream",
     "text": [
      "[[351.75872802734375, 134.143310546875, 107.31464843750001]]\n",
      "[[351.6759948730469, 134.10665893554688, 107.2853271484375]]\n",
      "[[351.7562561035156, 134.0987091064453, 107.27896728515626]]\n"
     ]
    },
    {
     "name": "stderr",
     "output_type": "stream",
     "text": [
      "\n",
      "0: 256x640 1 battery_plus, 26.1ms\n",
      "Speed: 3.0ms preprocess, 26.1ms inference, 7.6ms postprocess per image at shape (1, 3, 256, 640)\n",
      "\n",
      "0: 256x640 1 battery_plus, 30.4ms\n",
      "Speed: 4.0ms preprocess, 30.4ms inference, 7.0ms postprocess per image at shape (1, 3, 256, 640)\n",
      "\n",
      "0: 256x640 1 battery_plus, 32.8ms\n",
      "Speed: 3.0ms preprocess, 32.8ms inference, 4.7ms postprocess per image at shape (1, 3, 256, 640)\n"
     ]
    },
    {
     "name": "stdout",
     "output_type": "stream",
     "text": [
      "[[351.8839111328125, 134.29867553710938, 107.4389404296875]]\n",
      "[[351.824462890625, 134.19696044921875, 107.35756835937501]]\n",
      "[[351.74908447265625, 134.12791442871094, 107.30233154296876]]\n"
     ]
    },
    {
     "name": "stderr",
     "output_type": "stream",
     "text": [
      "\n",
      "0: 256x640 1 battery_plus, 30.6ms\n",
      "Speed: 4.0ms preprocess, 30.6ms inference, 5.7ms postprocess per image at shape (1, 3, 256, 640)\n",
      "\n",
      "0: 256x640 1 battery_plus, 27.0ms\n",
      "Speed: 4.0ms preprocess, 27.0ms inference, 7.0ms postprocess per image at shape (1, 3, 256, 640)\n",
      "\n",
      "0: 256x640 1 battery_plus, 28.3ms\n",
      "Speed: 2.0ms preprocess, 28.3ms inference, 5.0ms postprocess per image at shape (1, 3, 256, 640)\n",
      "\n"
     ]
    },
    {
     "name": "stdout",
     "output_type": "stream",
     "text": [
      "[[351.6949768066406, 134.06674194335938, 107.2533935546875]]\n",
      "[[351.758544921875, 134.10107421875, 107.280859375]]\n",
      "[[351.3211364746094, 134.2698974609375, 107.41591796875001]]\n"
     ]
    },
    {
     "name": "stderr",
     "output_type": "stream",
     "text": [
      "0: 256x640 1 battery_plus, 30.0ms\n",
      "Speed: 3.0ms preprocess, 30.0ms inference, 5.0ms postprocess per image at shape (1, 3, 256, 640)\n",
      "\n",
      "0: 256x640 1 battery_plus, 29.0ms\n",
      "Speed: 4.0ms preprocess, 29.0ms inference, 5.0ms postprocess per image at shape (1, 3, 256, 640)\n",
      "\n",
      "0: 256x640 1 battery_plus, 28.5ms\n",
      "Speed: 2.7ms preprocess, 28.5ms inference, 6.0ms postprocess per image at shape (1, 3, 256, 640)\n"
     ]
    },
    {
     "name": "stdout",
     "output_type": "stream",
     "text": [
      "[[351.7205810546875, 134.14804077148438, 107.31843261718751]]\n",
      "[[351.77471923828125, 134.14224243164062, 107.31379394531251]]\n",
      "[[351.2625427246094, 134.25830078125, 107.40664062500001]]\n"
     ]
    },
    {
     "name": "stderr",
     "output_type": "stream",
     "text": [
      "\n",
      "0: 256x640 1 battery_plus, 27.2ms\n",
      "Speed: 3.3ms preprocess, 27.2ms inference, 7.0ms postprocess per image at shape (1, 3, 256, 640)\n",
      "\n",
      "0: 256x640 1 battery_plus, 30.0ms\n",
      "Speed: 4.0ms preprocess, 30.0ms inference, 7.0ms postprocess per image at shape (1, 3, 256, 640)\n",
      "\n",
      "0: 256x640 1 battery_plus, 25.2ms\n",
      "Speed: 3.0ms preprocess, 25.2ms inference, 5.0ms postprocess per image at shape (1, 3, 256, 640)\n",
      "\n"
     ]
    },
    {
     "name": "stdout",
     "output_type": "stream",
     "text": [
      "[[351.8359375, 134.2440185546875, 107.39521484375001]]\n",
      "[[351.70941162109375, 134.1988983154297, 107.35911865234375]]\n",
      "[[351.2181396484375, 134.3402862548828, 107.47222900390625]]\n"
     ]
    },
    {
     "name": "stderr",
     "output_type": "stream",
     "text": [
      "0: 256x640 1 battery_plus, 30.0ms\n",
      "Speed: 3.0ms preprocess, 30.0ms inference, 4.1ms postprocess per image at shape (1, 3, 256, 640)\n",
      "\n",
      "0: 256x640 1 battery_plus, 29.1ms\n",
      "Speed: 3.0ms preprocess, 29.1ms inference, 5.0ms postprocess per image at shape (1, 3, 256, 640)\n",
      "\n",
      "0: 256x640 1 battery_plus, 29.0ms\n",
      "Speed: 3.1ms preprocess, 29.0ms inference, 6.0ms postprocess per image at shape (1, 3, 256, 640)\n"
     ]
    },
    {
     "name": "stdout",
     "output_type": "stream",
     "text": [
      "[[351.78704833984375, 134.20321655273438, 107.36257324218751]]\n",
      "[[351.7640380859375, 134.22384643554688, 107.3790771484375]]\n",
      "[[351.781982421875, 134.15731811523438, 107.3258544921875]]\n"
     ]
    },
    {
     "name": "stderr",
     "output_type": "stream",
     "text": [
      "\n",
      "0: 256x640 1 battery_plus, 32.7ms\n",
      "Speed: 3.6ms preprocess, 32.7ms inference, 4.9ms postprocess per image at shape (1, 3, 256, 640)\n",
      "\n",
      "0: 256x640 1 battery_plus, 28.7ms\n",
      "Speed: 3.0ms preprocess, 28.7ms inference, 5.1ms postprocess per image at shape (1, 3, 256, 640)\n",
      "\n",
      "0: 256x640 1 battery_plus, 29.9ms\n",
      "Speed: 3.7ms preprocess, 29.9ms inference, 6.0ms postprocess per image at shape (1, 3, 256, 640)\n"
     ]
    },
    {
     "name": "stdout",
     "output_type": "stream",
     "text": [
      "[[351.2430114746094, 134.29901123046875, 107.439208984375]]\n",
      "[[351.2738037109375, 134.39840698242188, 107.5187255859375]]\n",
      "[[351.7507629394531, 134.12191772460938, 107.2975341796875]]\n"
     ]
    },
    {
     "name": "stderr",
     "output_type": "stream",
     "text": [
      "\n",
      "0: 256x640 1 battery_plus, 33.1ms\n",
      "Speed: 3.0ms preprocess, 33.1ms inference, 4.9ms postprocess per image at shape (1, 3, 256, 640)\n",
      "\n",
      "0: 256x640 1 battery_plus, 27.6ms\n",
      "Speed: 2.9ms preprocess, 27.6ms inference, 5.1ms postprocess per image at shape (1, 3, 256, 640)\n",
      "\n",
      "0: 256x640 1 battery_plus, 32.8ms\n",
      "Speed: 4.0ms preprocess, 32.8ms inference, 5.0ms postprocess per image at shape (1, 3, 256, 640)\n"
     ]
    },
    {
     "name": "stdout",
     "output_type": "stream",
     "text": [
      "[[351.2589416503906, 134.31015014648438, 107.4481201171875]]\n",
      "[[351.338623046875, 134.39041137695312, 107.5123291015625]]\n",
      "[[351.64996337890625, 134.078125, 107.2625]]\n"
     ]
    },
    {
     "name": "stderr",
     "output_type": "stream",
     "text": [
      "\n",
      "0: 256x640 1 battery_plus, 26.0ms\n",
      "Speed: 3.0ms preprocess, 26.0ms inference, 6.0ms postprocess per image at shape (1, 3, 256, 640)\n",
      "\n",
      "0: 256x640 1 battery_plus, 27.7ms\n",
      "Speed: 3.0ms preprocess, 27.7ms inference, 4.9ms postprocess per image at shape (1, 3, 256, 640)\n",
      "\n",
      "0: 256x640 1 battery_plus, 26.0ms\n",
      "Speed: 3.0ms preprocess, 26.0ms inference, 5.0ms postprocess per image at shape (1, 3, 256, 640)\n",
      "\n"
     ]
    },
    {
     "name": "stdout",
     "output_type": "stream",
     "text": [
      "[[351.8224792480469, 134.16229248046875, 107.329833984375]]\n",
      "[[351.2921142578125, 134.287353515625, 107.42988281250001]]\n",
      "[[351.26031494140625, 134.3376922607422, 107.47015380859375]]\n"
     ]
    },
    {
     "name": "stderr",
     "output_type": "stream",
     "text": [
      "0: 256x640 1 battery_plus, 32.9ms\n",
      "Speed: 3.0ms preprocess, 32.9ms inference, 7.0ms postprocess per image at shape (1, 3, 256, 640)\n",
      "\n",
      "0: 256x640 1 battery_plus, 27.8ms\n",
      "Speed: 2.0ms preprocess, 27.8ms inference, 5.0ms postprocess per image at shape (1, 3, 256, 640)\n",
      "\n",
      "0: 256x640 1 battery_plus, 28.6ms\n",
      "Speed: 3.0ms preprocess, 28.6ms inference, 6.0ms postprocess per image at shape (1, 3, 256, 640)\n",
      "\n"
     ]
    },
    {
     "name": "stdout",
     "output_type": "stream",
     "text": [
      "[[351.3182067871094, 134.36654663085938, 107.49323730468751]]\n",
      "[[351.7127685546875, 134.09579467773438, 107.27663574218751]]\n",
      "[[351.3026428222656, 134.2986297607422, 107.43890380859375]]\n"
     ]
    },
    {
     "name": "stderr",
     "output_type": "stream",
     "text": [
      "0: 256x640 1 battery_plus, 26.1ms\n",
      "Speed: 3.0ms preprocess, 26.1ms inference, 5.0ms postprocess per image at shape (1, 3, 256, 640)\n",
      "\n",
      "0: 256x640 1 battery_plus, 25.1ms\n",
      "Speed: 3.0ms preprocess, 25.1ms inference, 4.5ms postprocess per image at shape (1, 3, 256, 640)\n",
      "\n",
      "0: 256x640 1 battery_plus, 26.6ms\n",
      "Speed: 3.0ms preprocess, 26.6ms inference, 5.6ms postprocess per image at shape (1, 3, 256, 640)\n",
      "\n"
     ]
    },
    {
     "name": "stdout",
     "output_type": "stream",
     "text": [
      "[[351.3293762207031, 134.32437133789062, 107.45949707031251]]\n",
      "[[351.7422790527344, 134.14013671875, 107.312109375]]\n",
      "[[351.78277587890625, 134.11192321777344, 107.28953857421875]]\n"
     ]
    },
    {
     "name": "stderr",
     "output_type": "stream",
     "text": [
      "0: 256x640 1 battery_plus, 34.0ms\n",
      "Speed: 3.0ms preprocess, 34.0ms inference, 4.9ms postprocess per image at shape (1, 3, 256, 640)\n",
      "\n",
      "0: 256x640 1 battery_plus, 24.7ms\n",
      "Speed: 3.0ms preprocess, 24.7ms inference, 4.0ms postprocess per image at shape (1, 3, 256, 640)\n",
      "\n",
      "0: 256x640 1 battery_plus, 27.2ms\n",
      "Speed: 2.0ms preprocess, 27.2ms inference, 5.0ms postprocess per image at shape (1, 3, 256, 640)\n",
      "\n"
     ]
    },
    {
     "name": "stdout",
     "output_type": "stream",
     "text": [
      "[[351.28509521484375, 134.4023895263672, 107.52191162109375]]\n",
      "[[351.2460021972656, 134.31182861328125, 107.449462890625]]\n",
      "[[351.76361083984375, 134.1622314453125, 107.32978515625001]]\n"
     ]
    },
    {
     "name": "stderr",
     "output_type": "stream",
     "text": [
      "0: 256x640 1 battery_plus, 28.6ms\n",
      "Speed: 4.0ms preprocess, 28.6ms inference, 8.1ms postprocess per image at shape (1, 3, 256, 640)\n",
      "\n",
      "0: 256x640 1 battery_plus, 25.1ms\n",
      "Speed: 3.0ms preprocess, 25.1ms inference, 5.2ms postprocess per image at shape (1, 3, 256, 640)\n",
      "\n",
      "0: 256x640 1 battery_plus, 26.1ms\n",
      "Speed: 2.0ms preprocess, 26.1ms inference, 4.1ms postprocess per image at shape (1, 3, 256, 640)\n",
      "\n"
     ]
    },
    {
     "name": "stdout",
     "output_type": "stream",
     "text": [
      "[[351.809814453125, 134.09117126464844, 107.27293701171875]]\n",
      "[[351.404296875, 134.3546142578125, 107.48369140625]]\n",
      "[[351.78619384765625, 134.18218994140625, 107.345751953125]]\n"
     ]
    },
    {
     "name": "stderr",
     "output_type": "stream",
     "text": [
      "0: 256x640 1 battery_plus, 30.3ms\n",
      "Speed: 3.0ms preprocess, 30.3ms inference, 6.6ms postprocess per image at shape (1, 3, 256, 640)\n",
      "\n",
      "0: 256x640 1 battery_plus, 26.0ms\n",
      "Speed: 3.0ms preprocess, 26.0ms inference, 5.7ms postprocess per image at shape (1, 3, 256, 640)\n",
      "\n",
      "0: 256x640 1 battery_plus, 24.0ms\n",
      "Speed: 3.1ms preprocess, 24.0ms inference, 5.0ms postprocess per image at shape (1, 3, 256, 640)\n",
      "\n"
     ]
    },
    {
     "name": "stdout",
     "output_type": "stream",
     "text": [
      "[[351.8662109375, 134.14553833007812, 107.31643066406251]]\n",
      "[[351.32293701171875, 134.32774353027344, 107.46219482421876]]\n",
      "[[351.84100341796875, 134.16212463378906, 107.32969970703125]]\n"
     ]
    },
    {
     "name": "stderr",
     "output_type": "stream",
     "text": [
      "0: 256x640 1 battery_plus, 28.0ms\n",
      "Speed: 3.4ms preprocess, 28.0ms inference, 4.7ms postprocess per image at shape (1, 3, 256, 640)\n",
      "\n",
      "0: 256x640 1 battery_plus, 24.1ms\n",
      "Speed: 3.0ms preprocess, 24.1ms inference, 6.2ms postprocess per image at shape (1, 3, 256, 640)\n",
      "\n",
      "0: 256x640 1 battery_plus, 27.0ms\n",
      "Speed: 2.0ms preprocess, 27.0ms inference, 5.0ms postprocess per image at shape (1, 3, 256, 640)\n",
      "\n"
     ]
    },
    {
     "name": "stdout",
     "output_type": "stream",
     "text": [
      "[[351.3140563964844, 134.302001953125, 107.44160156250001]]\n",
      "[[351.80419921875, 134.15367126464844, 107.32293701171875]]\n",
      "[[351.2874450683594, 134.28652954101562, 107.42922363281251]]\n"
     ]
    },
    {
     "name": "stderr",
     "output_type": "stream",
     "text": [
      "0: 256x640 1 battery_plus, 25.0ms\n",
      "Speed: 2.6ms preprocess, 25.0ms inference, 7.5ms postprocess per image at shape (1, 3, 256, 640)\n",
      "\n",
      "0: 256x640 1 battery_plus, 28.6ms\n",
      "Speed: 2.6ms preprocess, 28.6ms inference, 5.0ms postprocess per image at shape (1, 3, 256, 640)\n",
      "\n",
      "0: 256x640 1 battery_plus, 29.0ms\n",
      "Speed: 3.0ms preprocess, 29.0ms inference, 5.0ms postprocess per image at shape (1, 3, 256, 640)\n"
     ]
    },
    {
     "name": "stdout",
     "output_type": "stream",
     "text": [
      "[[351.73974609375, 134.13626098632812, 107.3090087890625]]\n",
      "[[351.25274658203125, 134.38966369628906, 107.51173095703126]]\n",
      "[[351.274658203125, 134.3245086669922, 107.45960693359376]]\n"
     ]
    },
    {
     "name": "stderr",
     "output_type": "stream",
     "text": [
      "\n",
      "0: 256x640 1 battery_plus, 27.3ms\n",
      "Speed: 4.0ms preprocess, 27.3ms inference, 5.0ms postprocess per image at shape (1, 3, 256, 640)\n",
      "\n",
      "0: 256x640 1 battery_plus, 30.0ms\n",
      "Speed: 2.1ms preprocess, 30.0ms inference, 5.5ms postprocess per image at shape (1, 3, 256, 640)\n",
      "\n",
      "0: 256x640 1 battery_plus, 29.0ms\n",
      "Speed: 4.0ms preprocess, 29.0ms inference, 5.6ms postprocess per image at shape (1, 3, 256, 640)\n"
     ]
    },
    {
     "name": "stdout",
     "output_type": "stream",
     "text": [
      "[[351.34869384765625, 134.35922241210938, 107.48737792968751]]\n",
      "[[351.3511657714844, 134.37564086914062, 107.50051269531251]]\n",
      "[[351.249755859375, 134.3035888671875, 107.44287109375]]\n"
     ]
    },
    {
     "name": "stderr",
     "output_type": "stream",
     "text": [
      "\n",
      "0: 256x640 1 battery_plus, 30.1ms\n",
      "Speed: 4.0ms preprocess, 30.1ms inference, 7.5ms postprocess per image at shape (1, 3, 256, 640)\n",
      "\n",
      "0: 256x640 1 battery_plus, 33.2ms\n",
      "Speed: 3.0ms preprocess, 33.2ms inference, 5.1ms postprocess per image at shape (1, 3, 256, 640)\n",
      "\n",
      "0: 256x640 1 battery_plus, 25.4ms\n",
      "Speed: 4.0ms preprocess, 25.4ms inference, 7.0ms postprocess per image at shape (1, 3, 256, 640)\n"
     ]
    },
    {
     "name": "stdout",
     "output_type": "stream",
     "text": [
      "[[351.284912109375, 134.29351806640625, 107.434814453125]]\n",
      "[[351.27789306640625, 134.23716735839844, 107.38973388671876]]\n",
      "[[351.71807861328125, 134.18661499023438, 107.3492919921875]]\n"
     ]
    },
    {
     "name": "stderr",
     "output_type": "stream",
     "text": [
      "\n",
      "0: 256x640 1 battery_plus, 28.1ms\n",
      "Speed: 3.0ms preprocess, 28.1ms inference, 5.0ms postprocess per image at shape (1, 3, 256, 640)\n",
      "\n",
      "0: 256x640 1 battery_plus, 28.8ms\n",
      "Speed: 2.0ms preprocess, 28.8ms inference, 4.0ms postprocess per image at shape (1, 3, 256, 640)\n",
      "\n",
      "0: 256x640 1 battery_plus, 28.0ms\n",
      "Speed: 3.0ms preprocess, 28.0ms inference, 5.5ms postprocess per image at shape (1, 3, 256, 640)\n"
     ]
    },
    {
     "name": "stdout",
     "output_type": "stream",
     "text": [
      "[[351.8793029785156, 134.13653564453125, 107.30922851562501]]\n",
      "[[351.2822265625, 134.34402465820312, 107.4752197265625]]\n",
      "[[351.3258056640625, 134.2517547607422, 107.40140380859376]]\n"
     ]
    },
    {
     "name": "stderr",
     "output_type": "stream",
     "text": [
      "\n",
      "0: 256x640 1 battery_plus, 28.8ms\n",
      "Speed: 3.0ms preprocess, 28.8ms inference, 5.7ms postprocess per image at shape (1, 3, 256, 640)\n",
      "\n",
      "0: 256x640 1 battery_plus, 30.7ms\n",
      "Speed: 3.0ms preprocess, 30.7ms inference, 5.1ms postprocess per image at shape (1, 3, 256, 640)\n",
      "\n",
      "0: 256x640 1 battery_plus, 31.5ms\n",
      "Speed: 2.0ms preprocess, 31.5ms inference, 4.8ms postprocess per image at shape (1, 3, 256, 640)\n"
     ]
    },
    {
     "name": "stdout",
     "output_type": "stream",
     "text": [
      "[[351.3280944824219, 134.4196014404297, 107.53568115234376]]\n",
      "[[351.7301025390625, 134.11856079101562, 107.2948486328125]]\n",
      "[[351.76495361328125, 134.1105499267578, 107.28843994140625]]\n"
     ]
    },
    {
     "name": "stderr",
     "output_type": "stream",
     "text": [
      "\n",
      "0: 256x640 1 battery_plus, 29.0ms\n",
      "Speed: 3.0ms preprocess, 29.0ms inference, 4.5ms postprocess per image at shape (1, 3, 256, 640)\n",
      "\n",
      "0: 256x640 1 battery_plus, 27.1ms\n",
      "Speed: 2.5ms preprocess, 27.1ms inference, 7.1ms postprocess per image at shape (1, 3, 256, 640)\n",
      "\n",
      "0: 256x640 1 battery_plus, 29.1ms\n",
      "Speed: 4.0ms preprocess, 29.1ms inference, 7.0ms postprocess per image at shape (1, 3, 256, 640)\n"
     ]
    },
    {
     "name": "stdout",
     "output_type": "stream",
     "text": [
      "[[351.691650390625, 134.11546325683594, 107.29237060546876]]\n",
      "[[351.85809326171875, 134.17373657226562, 107.3389892578125]]\n",
      "[[351.82427978515625, 134.1055908203125, 107.28447265625]]\n"
     ]
    },
    {
     "name": "stderr",
     "output_type": "stream",
     "text": [
      "\n",
      "0: 256x640 1 battery_plus, 24.7ms\n",
      "Speed: 4.0ms preprocess, 24.7ms inference, 5.0ms postprocess per image at shape (1, 3, 256, 640)\n",
      "\n",
      "0: 256x640 1 battery_plus, 34.8ms\n",
      "Speed: 3.0ms preprocess, 34.8ms inference, 5.0ms postprocess per image at shape (1, 3, 256, 640)\n",
      "\n",
      "0: 256x640 1 battery_plus, 24.9ms\n",
      "Speed: 3.0ms preprocess, 24.9ms inference, 6.0ms postprocess per image at shape (1, 3, 256, 640)\n"
     ]
    },
    {
     "name": "stdout",
     "output_type": "stream",
     "text": [
      "[[351.28466796875, 134.3046875, 107.44375000000001]]\n",
      "[[351.31195068359375, 134.33554077148438, 107.4684326171875]]\n",
      "[[351.25726318359375, 134.314453125, 107.45156250000001]]\n"
     ]
    },
    {
     "name": "stderr",
     "output_type": "stream",
     "text": [
      "\n",
      "0: 256x640 1 battery_plus, 28.7ms\n",
      "Speed: 3.0ms preprocess, 28.7ms inference, 4.4ms postprocess per image at shape (1, 3, 256, 640)\n",
      "\n",
      "0: 256x640 1 battery_plus, 27.5ms\n",
      "Speed: 3.0ms preprocess, 27.5ms inference, 5.5ms postprocess per image at shape (1, 3, 256, 640)\n",
      "\n",
      "0: 256x640 1 battery_plus, 25.8ms\n",
      "Speed: 2.5ms preprocess, 25.8ms inference, 6.7ms postprocess per image at shape (1, 3, 256, 640)\n"
     ]
    },
    {
     "name": "stdout",
     "output_type": "stream",
     "text": [
      "[[351.8812255859375, 134.09951782226562, 107.27961425781251]]\n",
      "[[351.87054443359375, 134.15293884277344, 107.32235107421876]]\n",
      "[[351.35064697265625, 134.36180114746094, 107.48944091796875]]\n"
     ]
    },
    {
     "name": "stderr",
     "output_type": "stream",
     "text": [
      "\n",
      "0: 256x640 1 battery_plus, 28.0ms\n",
      "Speed: 3.0ms preprocess, 28.0ms inference, 5.0ms postprocess per image at shape (1, 3, 256, 640)\n",
      "\n",
      "0: 256x640 1 battery_plus, 27.5ms\n",
      "Speed: 3.0ms preprocess, 27.5ms inference, 4.0ms postprocess per image at shape (1, 3, 256, 640)\n",
      "\n",
      "0: 256x640 1 battery_plus, 27.0ms\n",
      "Speed: 2.9ms preprocess, 27.0ms inference, 5.8ms postprocess per image at shape (1, 3, 256, 640)\n",
      "\n"
     ]
    },
    {
     "name": "stdout",
     "output_type": "stream",
     "text": [
      "[[351.7483215332031, 134.17630004882812, 107.3410400390625]]\n",
      "[[351.7917785644531, 134.1149444580078, 107.29195556640626]]\n",
      "[[351.3038330078125, 134.32508850097656, 107.46007080078125]]\n"
     ]
    },
    {
     "name": "stderr",
     "output_type": "stream",
     "text": [
      "0: 256x640 1 battery_plus, 26.0ms\n",
      "Speed: 2.9ms preprocess, 26.0ms inference, 7.7ms postprocess per image at shape (1, 3, 256, 640)\n",
      "\n",
      "0: 256x640 1 battery_plus, 26.0ms\n",
      "Speed: 3.0ms preprocess, 26.0ms inference, 4.0ms postprocess per image at shape (1, 3, 256, 640)\n",
      "\n",
      "0: 256x640 1 battery_plus, 27.5ms\n",
      "Speed: 3.0ms preprocess, 27.5ms inference, 5.0ms postprocess per image at shape (1, 3, 256, 640)\n",
      "\n"
     ]
    },
    {
     "name": "stdout",
     "output_type": "stream",
     "text": [
      "[[351.664794921875, 134.08973693847656, 107.27178955078125]]\n",
      "[[351.1513671875, 134.2601318359375, 107.40810546875001]]\n",
      "[[351.706298828125, 134.05056762695312, 107.2404541015625]]\n"
     ]
    },
    {
     "name": "stderr",
     "output_type": "stream",
     "text": [
      "0: 256x640 1 battery_plus, 25.1ms\n",
      "Speed: 2.9ms preprocess, 25.1ms inference, 5.5ms postprocess per image at shape (1, 3, 256, 640)\n",
      "\n",
      "0: 256x640 1 battery_plus, 27.5ms\n",
      "Speed: 3.0ms preprocess, 27.5ms inference, 4.0ms postprocess per image at shape (1, 3, 256, 640)\n",
      "\n",
      "0: 256x640 1 battery_plus, 27.0ms\n",
      "Speed: 3.0ms preprocess, 27.0ms inference, 5.0ms postprocess per image at shape (1, 3, 256, 640)\n",
      "\n"
     ]
    },
    {
     "name": "stdout",
     "output_type": "stream",
     "text": [
      "[[351.2424621582031, 134.28546142578125, 107.42836914062501]]\n",
      "[[351.30914306640625, 134.35678100585938, 107.48542480468751]]\n",
      "[[351.2850341796875, 134.21087646484375, 107.368701171875]]\n"
     ]
    },
    {
     "name": "stderr",
     "output_type": "stream",
     "text": [
      "0: 256x640 1 battery_plus, 30.1ms\n",
      "Speed: 4.0ms preprocess, 30.1ms inference, 5.5ms postprocess per image at shape (1, 3, 256, 640)\n",
      "\n",
      "0: 256x640 1 battery_plus, 27.5ms\n",
      "Speed: 4.0ms preprocess, 27.5ms inference, 5.0ms postprocess per image at shape (1, 3, 256, 640)\n",
      "\n",
      "0: 256x640 1 battery_plus, 29.2ms\n",
      "Speed: 3.0ms preprocess, 29.2ms inference, 5.0ms postprocess per image at shape (1, 3, 256, 640)\n",
      "\n"
     ]
    },
    {
     "name": "stdout",
     "output_type": "stream",
     "text": [
      "[[351.7193603515625, 134.1071014404297, 107.28568115234376]]\n",
      "[[351.30328369140625, 134.26394653320312, 107.41115722656251]]\n",
      "[[351.3108825683594, 134.2919158935547, 107.43353271484375]]\n"
     ]
    },
    {
     "name": "stderr",
     "output_type": "stream",
     "text": [
      "0: 256x640 1 battery_plus, 29.3ms\n",
      "Speed: 2.0ms preprocess, 29.3ms inference, 5.0ms postprocess per image at shape (1, 3, 256, 640)\n",
      "\n",
      "0: 256x640 1 battery_plus, 29.0ms\n",
      "Speed: 2.0ms preprocess, 29.0ms inference, 4.0ms postprocess per image at shape (1, 3, 256, 640)\n",
      "\n",
      "0: 256x640 1 battery_plus, 28.9ms\n",
      "Speed: 2.0ms preprocess, 28.9ms inference, 5.0ms postprocess per image at shape (1, 3, 256, 640)\n"
     ]
    },
    {
     "name": "stdout",
     "output_type": "stream",
     "text": [
      "[[351.79473876953125, 134.1232147216797, 107.29857177734375]]\n",
      "[[351.7991027832031, 134.10704040527344, 107.28563232421875]]\n",
      "[[351.23065185546875, 134.26760864257812, 107.41408691406251]]\n"
     ]
    },
    {
     "name": "stderr",
     "output_type": "stream",
     "text": [
      "\n",
      "0: 256x640 1 battery_plus, 34.5ms\n",
      "Speed: 3.0ms preprocess, 34.5ms inference, 6.9ms postprocess per image at shape (1, 3, 256, 640)\n",
      "\n",
      "0: 256x640 1 battery_plus, 30.6ms\n",
      "Speed: 3.9ms preprocess, 30.6ms inference, 6.6ms postprocess per image at shape (1, 3, 256, 640)\n",
      "\n",
      "0: 256x640 1 battery_plus, 34.8ms\n",
      "Speed: 4.0ms preprocess, 34.8ms inference, 6.0ms postprocess per image at shape (1, 3, 256, 640)\n"
     ]
    },
    {
     "name": "stdout",
     "output_type": "stream",
     "text": [
      "[[351.29034423828125, 134.27944946289062, 107.4235595703125]]\n",
      "[[351.29058837890625, 134.20477294921875, 107.363818359375]]\n",
      "[[351.82403564453125, 134.0516357421875, 107.24130859375]]\n"
     ]
    },
    {
     "name": "stderr",
     "output_type": "stream",
     "text": [
      "\n",
      "0: 256x640 1 battery_plus, 32.1ms\n",
      "Speed: 3.0ms preprocess, 32.1ms inference, 6.0ms postprocess per image at shape (1, 3, 256, 640)\n",
      "\n",
      "0: 256x640 1 battery_plus, 26.0ms\n",
      "Speed: 3.0ms preprocess, 26.0ms inference, 3.5ms postprocess per image at shape (1, 3, 256, 640)\n",
      "\n",
      "0: 256x640 1 battery_plus, 26.8ms\n",
      "Speed: 3.6ms preprocess, 26.8ms inference, 6.0ms postprocess per image at shape (1, 3, 256, 640)\n",
      "\n"
     ]
    },
    {
     "name": "stdout",
     "output_type": "stream",
     "text": [
      "[[351.3023681640625, 134.3322296142578, 107.46578369140626]]\n",
      "[[351.2867431640625, 134.27774047851562, 107.42219238281251]]\n",
      "[[351.82257080078125, 134.1435089111328, 107.31480712890625]]\n"
     ]
    },
    {
     "name": "stderr",
     "output_type": "stream",
     "text": [
      "0: 256x640 1 battery_plus, 25.6ms\n",
      "Speed: 4.1ms preprocess, 25.6ms inference, 6.0ms postprocess per image at shape (1, 3, 256, 640)\n",
      "\n",
      "0: 256x640 1 battery_plus, 29.1ms\n",
      "Speed: 3.0ms preprocess, 29.1ms inference, 5.0ms postprocess per image at shape (1, 3, 256, 640)\n",
      "\n",
      "0: 256x640 1 battery_plus, 29.1ms\n",
      "Speed: 4.0ms preprocess, 29.1ms inference, 5.6ms postprocess per image at shape (1, 3, 256, 640)\n"
     ]
    },
    {
     "name": "stdout",
     "output_type": "stream",
     "text": [
      "[[351.758544921875, 134.12979125976562, 107.3038330078125]]\n",
      "[[351.2799072265625, 134.1927032470703, 107.35416259765626]]\n",
      "[[351.19775390625, 134.24940490722656, 107.39952392578125]]\n"
     ]
    },
    {
     "name": "stderr",
     "output_type": "stream",
     "text": [
      "\n",
      "0: 256x640 1 battery_plus, 30.1ms\n",
      "Speed: 3.0ms preprocess, 30.1ms inference, 5.7ms postprocess per image at shape (1, 3, 256, 640)\n",
      "\n",
      "0: 256x640 1 battery_plus, 29.2ms\n",
      "Speed: 4.0ms preprocess, 29.2ms inference, 5.0ms postprocess per image at shape (1, 3, 256, 640)\n",
      "\n",
      "0: 256x640 1 battery_plus, 27.3ms\n",
      "Speed: 1.9ms preprocess, 27.3ms inference, 5.0ms postprocess per image at shape (1, 3, 256, 640)\n",
      "\n"
     ]
    },
    {
     "name": "stdout",
     "output_type": "stream",
     "text": [
      "[[351.82806396484375, 134.17861938476562, 107.3428955078125]]\n",
      "[[351.3102722167969, 134.2791748046875, 107.42333984375]]\n",
      "[[351.72857666015625, 134.04566955566406, 107.23653564453126]]\n"
     ]
    },
    {
     "name": "stderr",
     "output_type": "stream",
     "text": [
      "0: 256x640 1 battery_plus, 29.5ms\n",
      "Speed: 3.0ms preprocess, 29.5ms inference, 5.6ms postprocess per image at shape (1, 3, 256, 640)\n",
      "\n",
      "0: 256x640 1 battery_plus, 30.1ms\n",
      "Speed: 3.5ms preprocess, 30.1ms inference, 5.9ms postprocess per image at shape (1, 3, 256, 640)\n",
      "\n",
      "0: 256x640 1 battery_plus, 33.1ms\n",
      "Speed: 3.5ms preprocess, 33.1ms inference, 5.0ms postprocess per image at shape (1, 3, 256, 640)\n"
     ]
    },
    {
     "name": "stdout",
     "output_type": "stream",
     "text": [
      "[[351.6826171875, 134.10606384277344, 107.28485107421875]]\n",
      "[[351.2818298339844, 134.30508422851562, 107.4440673828125]]\n",
      "[[351.80706787109375, 134.0753631591797, 107.26029052734376]]\n"
     ]
    },
    {
     "name": "stderr",
     "output_type": "stream",
     "text": [
      "\n",
      "0: 256x640 1 battery_plus, 29.6ms\n",
      "Speed: 3.8ms preprocess, 29.6ms inference, 5.0ms postprocess per image at shape (1, 3, 256, 640)\n",
      "\n",
      "0: 256x640 1 battery_plus, 29.1ms\n",
      "Speed: 3.0ms preprocess, 29.1ms inference, 5.0ms postprocess per image at shape (1, 3, 256, 640)\n",
      "\n",
      "0: 256x640 1 battery_plus, 27.1ms\n",
      "Speed: 2.4ms preprocess, 27.1ms inference, 7.5ms postprocess per image at shape (1, 3, 256, 640)\n"
     ]
    },
    {
     "name": "stdout",
     "output_type": "stream",
     "text": [
      "[[351.2183837890625, 134.25494384765625, 107.40395507812501]]\n",
      "[[351.28350830078125, 134.2740020751953, 107.41920166015626]]\n",
      "[[351.7546691894531, 134.0472869873047, 107.23782958984376]]\n"
     ]
    },
    {
     "name": "stderr",
     "output_type": "stream",
     "text": [
      "\n",
      "0: 256x640 1 battery_plus, 29.5ms\n",
      "Speed: 3.7ms preprocess, 29.5ms inference, 4.8ms postprocess per image at shape (1, 3, 256, 640)\n",
      "\n",
      "0: 256x640 1 battery_plus, 25.8ms\n",
      "Speed: 3.8ms preprocess, 25.8ms inference, 6.5ms postprocess per image at shape (1, 3, 256, 640)\n",
      "\n",
      "0: 256x640 1 battery_plus, 30.3ms\n",
      "Speed: 3.6ms preprocess, 30.3ms inference, 6.4ms postprocess per image at shape (1, 3, 256, 640)\n",
      "\n"
     ]
    },
    {
     "name": "stdout",
     "output_type": "stream",
     "text": [
      "[[351.6727294921875, 134.07720947265625, 107.261767578125]]\n",
      "[[351.76580810546875, 134.1361083984375, 107.30888671875]]\n",
      "[[351.34442138671875, 134.33413696289062, 107.46730957031251]]\n"
     ]
    },
    {
     "name": "stderr",
     "output_type": "stream",
     "text": [
      "0: 256x640 1 battery_plus, 34.0ms\n",
      "Speed: 2.7ms preprocess, 34.0ms inference, 6.8ms postprocess per image at shape (1, 3, 256, 640)\n",
      "\n",
      "0: 256x640 1 battery_plus, 28.1ms\n",
      "Speed: 4.0ms preprocess, 28.1ms inference, 7.0ms postprocess per image at shape (1, 3, 256, 640)\n",
      "\n",
      "0: 256x640 1 battery_plus, 30.0ms\n",
      "Speed: 4.9ms preprocess, 30.0ms inference, 6.1ms postprocess per image at shape (1, 3, 256, 640)\n"
     ]
    },
    {
     "name": "stdout",
     "output_type": "stream",
     "text": [
      "[[351.67431640625, 134.0951690673828, 107.27613525390626]]\n",
      "[[351.73028564453125, 134.13723754882812, 107.3097900390625]]\n",
      "[[351.78692626953125, 134.134521484375, 107.3076171875]]\n"
     ]
    },
    {
     "name": "stderr",
     "output_type": "stream",
     "text": [
      "\n",
      "0: 256x640 1 battery_plus, 27.8ms\n",
      "Speed: 4.0ms preprocess, 27.8ms inference, 8.1ms postprocess per image at shape (1, 3, 256, 640)\n",
      "\n",
      "0: 256x640 1 battery_plus, 27.0ms\n",
      "Speed: 3.0ms preprocess, 27.0ms inference, 6.5ms postprocess per image at shape (1, 3, 256, 640)\n",
      "\n",
      "0: 256x640 1 battery_plus, 25.6ms\n",
      "Speed: 3.0ms preprocess, 25.6ms inference, 7.0ms postprocess per image at shape (1, 3, 256, 640)\n"
     ]
    },
    {
     "name": "stdout",
     "output_type": "stream",
     "text": [
      "[[351.814453125, 133.99588012695312, 107.1967041015625]]\n",
      "[[351.8619079589844, 134.1424560546875, 107.31396484375]]\n",
      "[[351.74676513671875, 134.19833374023438, 107.35866699218751]]\n"
     ]
    },
    {
     "name": "stderr",
     "output_type": "stream",
     "text": [
      "\n",
      "0: 256x640 1 battery_plus, 26.7ms\n",
      "Speed: 4.0ms preprocess, 26.7ms inference, 6.9ms postprocess per image at shape (1, 3, 256, 640)\n",
      "\n",
      "0: 256x640 1 battery_plus, 26.1ms\n",
      "Speed: 3.0ms preprocess, 26.1ms inference, 4.9ms postprocess per image at shape (1, 3, 256, 640)\n",
      "\n",
      "0: 256x640 1 battery_plus, 29.5ms\n",
      "Speed: 3.0ms preprocess, 29.5ms inference, 5.0ms postprocess per image at shape (1, 3, 256, 640)\n"
     ]
    },
    {
     "name": "stdout",
     "output_type": "stream",
     "text": [
      "[[351.3514404296875, 134.3338623046875, 107.46708984375]]\n",
      "[[351.2701721191406, 134.33657836914062, 107.46926269531251]]\n",
      "[[351.30450439453125, 134.27117919921875, 107.41694335937501]]\n"
     ]
    },
    {
     "name": "stderr",
     "output_type": "stream",
     "text": [
      "\n",
      "0: 256x640 1 battery_plus, 28.8ms\n",
      "Speed: 3.0ms preprocess, 28.8ms inference, 7.1ms postprocess per image at shape (1, 3, 256, 640)\n",
      "\n",
      "0: 256x640 1 battery_plus, 28.6ms\n",
      "Speed: 3.9ms preprocess, 28.6ms inference, 9.4ms postprocess per image at shape (1, 3, 256, 640)\n",
      "\n"
     ]
    },
    {
     "name": "stdout",
     "output_type": "stream",
     "text": [
      "[[351.3491516113281, 134.42440795898438, 107.5395263671875]]\n",
      "[[351.1860046386719, 134.21701049804688, 107.37360839843751]]\n"
     ]
    },
    {
     "name": "stderr",
     "output_type": "stream",
     "text": [
      "0: 256x640 1 battery_plus, 64.9ms\n",
      "Speed: 5.0ms preprocess, 64.9ms inference, 16.4ms postprocess per image at shape (1, 3, 256, 640)\n",
      "\n",
      "0: 256x640 1 battery_plus, 62.4ms\n",
      "Speed: 6.1ms preprocess, 62.4ms inference, 13.0ms postprocess per image at shape (1, 3, 256, 640)\n",
      "\n"
     ]
    },
    {
     "name": "stdout",
     "output_type": "stream",
     "text": [
      "[[351.73065185546875, 134.1607666015625, 107.32861328125]]\n",
      "[[351.14801025390625, 134.38125610351562, 107.5050048828125]]\n"
     ]
    },
    {
     "name": "stderr",
     "output_type": "stream",
     "text": [
      "0: 256x640 1 battery_plus, 62.5ms\n",
      "Speed: 5.0ms preprocess, 62.5ms inference, 14.9ms postprocess per image at shape (1, 3, 256, 640)\n",
      "\n",
      "0: 256x640 1 battery_plus, 65.8ms\n",
      "Speed: 4.0ms preprocess, 65.8ms inference, 13.3ms postprocess per image at shape (1, 3, 256, 640)\n",
      "\n"
     ]
    },
    {
     "name": "stdout",
     "output_type": "stream",
     "text": [
      "[[351.28082275390625, 134.26296997070312, 107.4103759765625]]\n",
      "[[351.288330078125, 134.346923828125, 107.4775390625]]\n"
     ]
    },
    {
     "name": "stderr",
     "output_type": "stream",
     "text": [
      "0: 256x640 1 battery_plus, 63.4ms\n",
      "Speed: 6.1ms preprocess, 63.4ms inference, 14.0ms postprocess per image at shape (1, 3, 256, 640)\n",
      "\n",
      "0: 256x640 1 battery_plus, 60.9ms\n",
      "Speed: 6.0ms preprocess, 60.9ms inference, 12.7ms postprocess per image at shape (1, 3, 256, 640)\n",
      "\n"
     ]
    },
    {
     "name": "stdout",
     "output_type": "stream",
     "text": [
      "[[351.2535705566406, 134.2967529296875, 107.43740234375001]]\n",
      "[[351.7291564941406, 133.9767303466797, 107.18138427734375]]\n"
     ]
    },
    {
     "name": "stderr",
     "output_type": "stream",
     "text": [
      "0: 256x640 1 battery_plus, 61.3ms\n",
      "Speed: 4.0ms preprocess, 61.3ms inference, 12.0ms postprocess per image at shape (1, 3, 256, 640)\n",
      "\n",
      "0: 256x640 1 battery_plus, 62.5ms\n",
      "Speed: 5.0ms preprocess, 62.5ms inference, 12.5ms postprocess per image at shape (1, 3, 256, 640)\n",
      "\n"
     ]
    },
    {
     "name": "stdout",
     "output_type": "stream",
     "text": [
      "[[351.25164794921875, 134.24472045898438, 107.39577636718751]]\n",
      "[[351.2930908203125, 134.29180908203125, 107.433447265625]]\n"
     ]
    },
    {
     "name": "stderr",
     "output_type": "stream",
     "text": [
      "0: 256x640 1 battery_plus, 61.1ms\n",
      "Speed: 3.5ms preprocess, 61.1ms inference, 14.0ms postprocess per image at shape (1, 3, 256, 640)\n",
      "\n",
      "0: 256x640 1 battery_plus, 62.8ms\n",
      "Speed: 4.0ms preprocess, 62.8ms inference, 11.1ms postprocess per image at shape (1, 3, 256, 640)\n",
      "\n"
     ]
    },
    {
     "name": "stdout",
     "output_type": "stream",
     "text": [
      "[[351.2991027832031, 134.32119750976562, 107.4569580078125]]\n",
      "[[351.7939453125, 134.01980590820312, 107.21584472656251]]\n"
     ]
    },
    {
     "name": "stderr",
     "output_type": "stream",
     "text": [
      "0: 256x640 1 battery_plus, 63.7ms\n",
      "Speed: 4.0ms preprocess, 63.7ms inference, 11.2ms postprocess per image at shape (1, 3, 256, 640)\n",
      "\n",
      "0: 256x640 1 battery_plus, 59.8ms\n",
      "Speed: 5.0ms preprocess, 59.8ms inference, 11.0ms postprocess per image at shape (1, 3, 256, 640)\n",
      "\n"
     ]
    },
    {
     "name": "stdout",
     "output_type": "stream",
     "text": [
      "[[351.72882080078125, 134.07589721679688, 107.2607177734375]]\n",
      "[[351.81451416015625, 134.18800354003906, 107.35040283203125]]\n"
     ]
    },
    {
     "name": "stderr",
     "output_type": "stream",
     "text": [
      "0: 256x640 1 battery_plus, 61.8ms\n",
      "Speed: 4.0ms preprocess, 61.8ms inference, 12.0ms postprocess per image at shape (1, 3, 256, 640)\n",
      "\n",
      "0: 256x640 1 battery_plus, 62.2ms\n",
      "Speed: 5.0ms preprocess, 62.2ms inference, 12.3ms postprocess per image at shape (1, 3, 256, 640)\n",
      "\n"
     ]
    },
    {
     "name": "stdout",
     "output_type": "stream",
     "text": [
      "[[351.6542053222656, 134.1348114013672, 107.30784912109375]]\n",
      "[[351.7613830566406, 134.06158447265625, 107.249267578125]]\n"
     ]
    },
    {
     "name": "stderr",
     "output_type": "stream",
     "text": [
      "0: 256x640 1 battery_plus, 62.6ms\n",
      "Speed: 5.0ms preprocess, 62.6ms inference, 13.0ms postprocess per image at shape (1, 3, 256, 640)\n",
      "\n",
      "0: 256x640 1 battery_plus, 61.0ms\n",
      "Speed: 4.0ms preprocess, 61.0ms inference, 11.0ms postprocess per image at shape (1, 3, 256, 640)\n",
      "\n"
     ]
    },
    {
     "name": "stdout",
     "output_type": "stream",
     "text": [
      "[[351.72052001953125, 134.04513549804688, 107.23610839843751]]\n",
      "[[351.739013671875, 133.96299743652344, 107.17039794921875]]\n"
     ]
    },
    {
     "name": "stderr",
     "output_type": "stream",
     "text": [
      "0: 256x640 1 battery_plus, 61.1ms\n",
      "Speed: 3.0ms preprocess, 61.1ms inference, 11.1ms postprocess per image at shape (1, 3, 256, 640)\n",
      "\n",
      "0: 256x640 1 battery_plus, 63.4ms\n",
      "Speed: 5.0ms preprocess, 63.4ms inference, 10.1ms postprocess per image at shape (1, 3, 256, 640)\n",
      "\n"
     ]
    },
    {
     "name": "stdout",
     "output_type": "stream",
     "text": [
      "[[351.71697998046875, 134.0747833251953, 107.25982666015625]]\n",
      "[[351.7561950683594, 134.17494201660156, 107.33995361328125]]\n"
     ]
    },
    {
     "name": "stderr",
     "output_type": "stream",
     "text": [
      "0: 256x640 1 battery_plus, 64.0ms\n",
      "Speed: 5.0ms preprocess, 64.0ms inference, 12.9ms postprocess per image at shape (1, 3, 256, 640)\n",
      "\n",
      "0: 256x640 1 battery_plus, 63.7ms\n",
      "Speed: 4.0ms preprocess, 63.7ms inference, 14.0ms postprocess per image at shape (1, 3, 256, 640)\n",
      "\n"
     ]
    },
    {
     "name": "stdout",
     "output_type": "stream",
     "text": [
      "[[351.280029296875, 134.31964111328125, 107.45571289062501]]\n",
      "[[351.8114318847656, 134.1378936767578, 107.31031494140626]]\n"
     ]
    },
    {
     "name": "stderr",
     "output_type": "stream",
     "text": [
      "0: 256x640 1 battery_plus, 62.4ms\n",
      "Speed: 5.0ms preprocess, 62.4ms inference, 15.0ms postprocess per image at shape (1, 3, 256, 640)\n",
      "\n",
      "0: 256x640 1 battery_plus, 62.2ms\n",
      "Speed: 4.0ms preprocess, 62.2ms inference, 12.0ms postprocess per image at shape (1, 3, 256, 640)\n",
      "\n"
     ]
    },
    {
     "name": "stdout",
     "output_type": "stream",
     "text": [
      "[[351.80108642578125, 134.1114501953125, 107.28916015625]]\n",
      "[[351.26495361328125, 134.20468139648438, 107.3637451171875]]\n"
     ]
    },
    {
     "name": "stderr",
     "output_type": "stream",
     "text": [
      "0: 256x640 1 battery_plus, 62.7ms\n",
      "Speed: 5.0ms preprocess, 62.7ms inference, 14.0ms postprocess per image at shape (1, 3, 256, 640)\n",
      "\n",
      "0: 256x640 1 battery_plus, 62.7ms\n",
      "Speed: 4.0ms preprocess, 62.7ms inference, 13.6ms postprocess per image at shape (1, 3, 256, 640)\n",
      "\n"
     ]
    },
    {
     "name": "stdout",
     "output_type": "stream",
     "text": [
      "[[351.2363586425781, 134.286376953125, 107.42910156250001]]\n",
      "[[351.720458984375, 134.12342834472656, 107.29874267578126]]\n"
     ]
    },
    {
     "name": "stderr",
     "output_type": "stream",
     "text": [
      "0: 256x640 1 battery_plus, 63.7ms\n",
      "Speed: 5.0ms preprocess, 63.7ms inference, 14.0ms postprocess per image at shape (1, 3, 256, 640)\n",
      "\n",
      "0: 256x640 1 battery_plus, 62.4ms\n",
      "Speed: 5.0ms preprocess, 62.4ms inference, 13.6ms postprocess per image at shape (1, 3, 256, 640)\n",
      "\n"
     ]
    },
    {
     "name": "stdout",
     "output_type": "stream",
     "text": [
      "[[351.17718505859375, 134.20993041992188, 107.36794433593751]]\n",
      "[[351.09051513671875, 134.25042724609375, 107.40034179687501]]\n"
     ]
    },
    {
     "name": "stderr",
     "output_type": "stream",
     "text": [
      "0: 256x640 1 battery_plus, 62.6ms\n",
      "Speed: 5.7ms preprocess, 62.6ms inference, 15.5ms postprocess per image at shape (1, 3, 256, 640)\n",
      "\n",
      "0: 256x640 1 battery_plus, 61.3ms\n",
      "Speed: 6.0ms preprocess, 61.3ms inference, 12.0ms postprocess per image at shape (1, 3, 256, 640)\n",
      "\n"
     ]
    },
    {
     "name": "stdout",
     "output_type": "stream",
     "text": [
      "[[351.69500732421875, 134.10618591308594, 107.28494873046876]]\n",
      "[[351.68365478515625, 134.17401123046875, 107.339208984375]]\n"
     ]
    },
    {
     "name": "stderr",
     "output_type": "stream",
     "text": [
      "0: 256x640 1 battery_plus, 63.2ms\n",
      "Speed: 4.0ms preprocess, 63.2ms inference, 15.0ms postprocess per image at shape (1, 3, 256, 640)\n",
      "\n",
      "0: 256x640 1 battery_plus, 61.9ms\n",
      "Speed: 5.0ms preprocess, 61.9ms inference, 12.5ms postprocess per image at shape (1, 3, 256, 640)\n",
      "\n"
     ]
    },
    {
     "name": "stdout",
     "output_type": "stream",
     "text": [
      "[[351.650634765625, 134.19558715820312, 107.35646972656251]]\n",
      "[[351.633544921875, 134.08740234375, 107.26992187500001]]\n"
     ]
    },
    {
     "name": "stderr",
     "output_type": "stream",
     "text": [
      "0: 256x640 1 battery_plus, 62.6ms\n",
      "Speed: 5.1ms preprocess, 62.6ms inference, 13.4ms postprocess per image at shape (1, 3, 256, 640)\n",
      "\n",
      "0: 256x640 1 battery_plus, 61.5ms\n",
      "Speed: 5.0ms preprocess, 61.5ms inference, 13.1ms postprocess per image at shape (1, 3, 256, 640)\n",
      "\n"
     ]
    },
    {
     "name": "stdout",
     "output_type": "stream",
     "text": [
      "[[351.6288146972656, 134.20709228515625, 107.36567382812501]]\n",
      "[[351.7341613769531, 134.13880920410156, 107.31104736328126]]\n"
     ]
    },
    {
     "name": "stderr",
     "output_type": "stream",
     "text": [
      "0: 256x640 1 battery_plus, 63.3ms\n",
      "Speed: 4.0ms preprocess, 63.3ms inference, 13.1ms postprocess per image at shape (1, 3, 256, 640)\n",
      "\n",
      "0: 256x640 1 battery_plus, 61.0ms\n",
      "Speed: 4.0ms preprocess, 61.0ms inference, 13.9ms postprocess per image at shape (1, 3, 256, 640)\n",
      "\n"
     ]
    },
    {
     "name": "stdout",
     "output_type": "stream",
     "text": [
      "[[351.7506103515625, 134.29046630859375, 107.432373046875]]\n",
      "[[351.6943359375, 134.25302124023438, 107.40241699218751]]\n"
     ]
    },
    {
     "name": "stderr",
     "output_type": "stream",
     "text": [
      "0: 256x640 1 battery_plus, 63.6ms\n",
      "Speed: 6.7ms preprocess, 63.6ms inference, 14.7ms postprocess per image at shape (1, 3, 256, 640)\n",
      "\n",
      "0: 256x640 1 battery_plus, 61.0ms\n",
      "Speed: 4.7ms preprocess, 61.0ms inference, 12.7ms postprocess per image at shape (1, 3, 256, 640)\n",
      "\n"
     ]
    },
    {
     "name": "stdout",
     "output_type": "stream",
     "text": [
      "[[351.64654541015625, 134.15550231933594, 107.32440185546875]]\n",
      "[[351.1965026855469, 134.3154296875, 107.45234375000001]]\n"
     ]
    },
    {
     "name": "stderr",
     "output_type": "stream",
     "text": [
      "0: 256x640 1 battery_plus, 61.3ms\n",
      "Speed: 4.0ms preprocess, 61.3ms inference, 12.9ms postprocess per image at shape (1, 3, 256, 640)\n",
      "\n",
      "0: 256x640 1 battery_plus, 62.8ms\n",
      "Speed: 4.9ms preprocess, 62.8ms inference, 12.4ms postprocess per image at shape (1, 3, 256, 640)\n",
      "\n"
     ]
    },
    {
     "name": "stdout",
     "output_type": "stream",
     "text": [
      "[[351.7410888671875, 134.12277221679688, 107.2982177734375]]\n",
      "[[351.24298095703125, 134.30442810058594, 107.44354248046875]]\n"
     ]
    },
    {
     "name": "stderr",
     "output_type": "stream",
     "text": [
      "0: 256x640 1 battery_plus, 64.2ms\n",
      "Speed: 5.2ms preprocess, 64.2ms inference, 15.1ms postprocess per image at shape (1, 3, 256, 640)\n",
      "\n",
      "0: 256x640 1 battery_plus, 62.6ms\n",
      "Speed: 4.0ms preprocess, 62.6ms inference, 12.0ms postprocess per image at shape (1, 3, 256, 640)\n",
      "\n"
     ]
    },
    {
     "name": "stdout",
     "output_type": "stream",
     "text": [
      "[[351.29608154296875, 134.35964965820312, 107.4877197265625]]\n",
      "[[351.7048645019531, 134.11868286132812, 107.29494628906251]]\n"
     ]
    },
    {
     "name": "stderr",
     "output_type": "stream",
     "text": [
      "0: 256x640 1 battery_plus, 63.1ms\n",
      "Speed: 4.0ms preprocess, 63.1ms inference, 12.0ms postprocess per image at shape (1, 3, 256, 640)\n",
      "\n",
      "0: 256x640 1 battery_plus, 62.7ms\n",
      "Speed: 5.1ms preprocess, 62.7ms inference, 11.8ms postprocess per image at shape (1, 3, 256, 640)\n",
      "\n"
     ]
    },
    {
     "name": "stdout",
     "output_type": "stream",
     "text": [
      "[[351.2046813964844, 134.26393127441406, 107.41114501953126]]\n",
      "[[351.65289306640625, 134.00552368164062, 107.20441894531251]]\n"
     ]
    },
    {
     "name": "stderr",
     "output_type": "stream",
     "text": [
      "0: 256x640 1 battery_plus, 62.6ms\n",
      "Speed: 4.0ms preprocess, 62.6ms inference, 12.0ms postprocess per image at shape (1, 3, 256, 640)\n",
      "\n",
      "0: 256x640 1 battery_plus, 61.5ms\n",
      "Speed: 4.0ms preprocess, 61.5ms inference, 11.1ms postprocess per image at shape (1, 3, 256, 640)\n",
      "\n"
     ]
    },
    {
     "name": "stdout",
     "output_type": "stream",
     "text": [
      "[[351.2106628417969, 134.25022888183594, 107.40018310546876]]\n",
      "[[351.8181457519531, 134.14617919921875, 107.316943359375]]\n"
     ]
    },
    {
     "name": "stderr",
     "output_type": "stream",
     "text": [
      "0: 256x640 1 battery_plus, 64.6ms\n",
      "Speed: 4.0ms preprocess, 64.6ms inference, 14.0ms postprocess per image at shape (1, 3, 256, 640)\n",
      "\n",
      "0: 256x640 1 battery_plus, 63.5ms\n",
      "Speed: 4.0ms preprocess, 63.5ms inference, 12.0ms postprocess per image at shape (1, 3, 256, 640)\n",
      "\n"
     ]
    },
    {
     "name": "stdout",
     "output_type": "stream",
     "text": [
      "[[351.7835693359375, 134.04876708984375, 107.239013671875]]\n",
      "[[351.2900390625, 134.3490447998047, 107.47923583984375]]\n"
     ]
    },
    {
     "name": "stderr",
     "output_type": "stream",
     "text": [
      "0: 256x640 1 battery_plus, 62.1ms\n",
      "Speed: 7.1ms preprocess, 62.1ms inference, 12.9ms postprocess per image at shape (1, 3, 256, 640)\n",
      "\n",
      "0: 256x640 1 battery_plus, 62.6ms\n",
      "Speed: 4.0ms preprocess, 62.6ms inference, 12.0ms postprocess per image at shape (1, 3, 256, 640)\n",
      "\n"
     ]
    },
    {
     "name": "stdout",
     "output_type": "stream",
     "text": [
      "[[351.22869873046875, 134.1463623046875, 107.31708984375001]]\n",
      "[[351.72467041015625, 134.0628204345703, 107.25025634765626]]\n"
     ]
    },
    {
     "name": "stderr",
     "output_type": "stream",
     "text": [
      "0: 256x640 1 battery_plus, 62.5ms\n",
      "Speed: 4.0ms preprocess, 62.5ms inference, 15.1ms postprocess per image at shape (1, 3, 256, 640)\n",
      "\n",
      "0: 256x640 1 battery_plus, 60.8ms\n",
      "Speed: 4.9ms preprocess, 60.8ms inference, 11.0ms postprocess per image at shape (1, 3, 256, 640)\n",
      "\n"
     ]
    },
    {
     "name": "stdout",
     "output_type": "stream",
     "text": [
      "[[351.73077392578125, 134.07293701171875, 107.258349609375]]\n",
      "[[351.2751770019531, 134.2838897705078, 107.42711181640625]]\n"
     ]
    },
    {
     "name": "stderr",
     "output_type": "stream",
     "text": [
      "0: 256x640 1 battery_plus, 63.8ms\n",
      "Speed: 4.0ms preprocess, 63.8ms inference, 15.0ms postprocess per image at shape (1, 3, 256, 640)\n",
      "\n",
      "0: 256x640 1 battery_plus, 63.3ms\n",
      "Speed: 5.0ms preprocess, 63.3ms inference, 12.0ms postprocess per image at shape (1, 3, 256, 640)\n",
      "\n"
     ]
    },
    {
     "name": "stdout",
     "output_type": "stream",
     "text": [
      "[[351.2919006347656, 134.21542358398438, 107.37233886718751]]\n",
      "[[351.7012023925781, 134.09722900390625, 107.27778320312501]]\n"
     ]
    },
    {
     "name": "stderr",
     "output_type": "stream",
     "text": [
      "0: 256x640 1 battery_plus, 62.0ms\n",
      "Speed: 5.0ms preprocess, 62.0ms inference, 17.0ms postprocess per image at shape (1, 3, 256, 640)\n",
      "\n",
      "0: 256x640 1 battery_plus, 63.4ms\n",
      "Speed: 4.5ms preprocess, 63.4ms inference, 13.5ms postprocess per image at shape (1, 3, 256, 640)\n",
      "\n"
     ]
    },
    {
     "name": "stdout",
     "output_type": "stream",
     "text": [
      "[[351.7227783203125, 134.0906524658203, 107.27252197265625]]\n",
      "[[351.0967712402344, 134.22390747070312, 107.3791259765625]]\n"
     ]
    },
    {
     "name": "stderr",
     "output_type": "stream",
     "text": [
      "0: 256x640 1 battery_plus, 61.1ms\n",
      "Speed: 6.0ms preprocess, 61.1ms inference, 15.3ms postprocess per image at shape (1, 3, 256, 640)\n",
      "\n",
      "0: 256x640 1 battery_plus, 66.1ms\n",
      "Speed: 3.9ms preprocess, 66.1ms inference, 13.1ms postprocess per image at shape (1, 3, 256, 640)\n",
      "\n"
     ]
    },
    {
     "name": "stdout",
     "output_type": "stream",
     "text": [
      "[[351.1942138671875, 134.20779418945312, 107.36623535156251]]\n",
      "[[351.7788391113281, 134.08523559570312, 107.2681884765625]]\n"
     ]
    },
    {
     "name": "stderr",
     "output_type": "stream",
     "text": [
      "0: 256x640 1 battery_plus, 60.1ms\n",
      "Speed: 5.0ms preprocess, 60.1ms inference, 13.0ms postprocess per image at shape (1, 3, 256, 640)\n",
      "\n",
      "0: 256x640 1 battery_plus, 62.5ms\n",
      "Speed: 4.8ms preprocess, 62.5ms inference, 13.1ms postprocess per image at shape (1, 3, 256, 640)\n",
      "\n"
     ]
    },
    {
     "name": "stdout",
     "output_type": "stream",
     "text": [
      "[[351.26123046875, 134.1892547607422, 107.35140380859376]]\n",
      "[[351.7532958984375, 134.14772033691406, 107.31817626953125]]\n"
     ]
    },
    {
     "name": "stderr",
     "output_type": "stream",
     "text": [
      "0: 256x640 1 battery_plus, 63.2ms\n",
      "Speed: 4.9ms preprocess, 63.2ms inference, 15.5ms postprocess per image at shape (1, 3, 256, 640)\n",
      "\n",
      "0: 256x640 1 battery_plus, 62.6ms\n",
      "Speed: 5.0ms preprocess, 62.6ms inference, 13.1ms postprocess per image at shape (1, 3, 256, 640)\n",
      "\n"
     ]
    },
    {
     "name": "stdout",
     "output_type": "stream",
     "text": [
      "[[351.6449279785156, 134.14283752441406, 107.31427001953125]]\n",
      "[[351.2126770019531, 134.18603515625, 107.34882812500001]]\n"
     ]
    },
    {
     "name": "stderr",
     "output_type": "stream",
     "text": [
      "0: 256x640 1 battery_plus, 63.6ms\n",
      "Speed: 6.1ms preprocess, 63.6ms inference, 15.0ms postprocess per image at shape (1, 3, 256, 640)\n",
      "\n",
      "0: 256x640 1 battery_plus, 62.2ms\n",
      "Speed: 5.0ms preprocess, 62.2ms inference, 12.6ms postprocess per image at shape (1, 3, 256, 640)\n",
      "\n"
     ]
    },
    {
     "name": "stdout",
     "output_type": "stream",
     "text": [
      "[[351.7369079589844, 134.1464080810547, 107.31712646484375]]\n",
      "[[351.7867431640625, 134.16366577148438, 107.3309326171875]]\n"
     ]
    },
    {
     "name": "stderr",
     "output_type": "stream",
     "text": [
      "0: 256x640 1 battery_plus, 62.2ms\n",
      "Speed: 5.0ms preprocess, 62.2ms inference, 15.5ms postprocess per image at shape (1, 3, 256, 640)\n",
      "\n",
      "0: 256x640 1 battery_plus, 62.0ms\n",
      "Speed: 4.0ms preprocess, 62.0ms inference, 12.0ms postprocess per image at shape (1, 3, 256, 640)\n",
      "\n"
     ]
    },
    {
     "name": "stdout",
     "output_type": "stream",
     "text": [
      "[[351.6335754394531, 134.12753295898438, 107.30202636718751]]\n",
      "[[351.76031494140625, 134.14395141601562, 107.3151611328125]]\n"
     ]
    },
    {
     "name": "stderr",
     "output_type": "stream",
     "text": [
      "0: 256x640 1 battery_plus, 61.8ms\n",
      "Speed: 4.1ms preprocess, 61.8ms inference, 16.6ms postprocess per image at shape (1, 3, 256, 640)\n",
      "\n",
      "0: 256x640 1 battery_plus, 61.2ms\n",
      "Speed: 5.0ms preprocess, 61.2ms inference, 13.0ms postprocess per image at shape (1, 3, 256, 640)\n",
      "\n"
     ]
    },
    {
     "name": "stdout",
     "output_type": "stream",
     "text": [
      "[[351.62921142578125, 134.24423217773438, 107.3953857421875]]\n",
      "[[351.56927490234375, 134.14527893066406, 107.31622314453125]]\n"
     ]
    },
    {
     "name": "stderr",
     "output_type": "stream",
     "text": [
      "0: 256x640 1 battery_plus, 61.6ms\n",
      "Speed: 6.5ms preprocess, 61.6ms inference, 13.5ms postprocess per image at shape (1, 3, 256, 640)\n",
      "\n",
      "0: 256x640 1 battery_plus, 62.2ms\n",
      "Speed: 5.0ms preprocess, 62.2ms inference, 13.0ms postprocess per image at shape (1, 3, 256, 640)\n",
      "\n"
     ]
    },
    {
     "name": "stdout",
     "output_type": "stream",
     "text": [
      "[[351.70989990234375, 134.14425659179688, 107.3154052734375]]\n",
      "[[351.63006591796875, 134.10581970214844, 107.28465576171875]]\n"
     ]
    },
    {
     "name": "stderr",
     "output_type": "stream",
     "text": [
      "0: 256x640 1 battery_plus, 60.7ms\n",
      "Speed: 4.0ms preprocess, 60.7ms inference, 12.9ms postprocess per image at shape (1, 3, 256, 640)\n",
      "\n",
      "0: 256x640 1 battery_plus, 64.5ms\n",
      "Speed: 5.1ms preprocess, 64.5ms inference, 10.7ms postprocess per image at shape (1, 3, 256, 640)\n",
      "\n"
     ]
    },
    {
     "name": "stdout",
     "output_type": "stream",
     "text": [
      "[[351.56121826171875, 133.92999267578125, 107.14399414062501]]\n",
      "[[351.6837158203125, 134.055419921875, 107.24433593750001]]\n"
     ]
    },
    {
     "name": "stderr",
     "output_type": "stream",
     "text": [
      "0: 256x640 1 battery_plus, 63.6ms\n",
      "Speed: 5.0ms preprocess, 63.6ms inference, 13.1ms postprocess per image at shape (1, 3, 256, 640)\n",
      "\n",
      "0: 256x640 1 battery_plus, 63.0ms\n",
      "Speed: 4.0ms preprocess, 63.0ms inference, 12.0ms postprocess per image at shape (1, 3, 256, 640)\n",
      "\n"
     ]
    },
    {
     "name": "stdout",
     "output_type": "stream",
     "text": [
      "[[351.66668701171875, 134.07839965820312, 107.26271972656251]]\n",
      "[[351.7254943847656, 133.96554565429688, 107.17243652343751]]\n"
     ]
    },
    {
     "name": "stderr",
     "output_type": "stream",
     "text": [
      "0: 256x640 1 battery_plus, 62.7ms\n",
      "Speed: 5.0ms preprocess, 62.7ms inference, 14.1ms postprocess per image at shape (1, 3, 256, 640)\n",
      "\n",
      "0: 256x640 1 battery_plus, 63.2ms\n",
      "Speed: 5.0ms preprocess, 63.2ms inference, 10.0ms postprocess per image at shape (1, 3, 256, 640)\n",
      "\n"
     ]
    },
    {
     "name": "stdout",
     "output_type": "stream",
     "text": [
      "[[351.6335754394531, 133.99301147460938, 107.19440917968751]]\n",
      "[[351.6526184082031, 134.11782836914062, 107.29426269531251]]\n"
     ]
    },
    {
     "name": "stderr",
     "output_type": "stream",
     "text": [
      "0: 256x640 1 battery_plus, 64.2ms\n",
      "Speed: 3.0ms preprocess, 64.2ms inference, 13.0ms postprocess per image at shape (1, 3, 256, 640)\n",
      "\n",
      "0: 256x640 1 battery_plus, 61.6ms\n",
      "Speed: 5.0ms preprocess, 61.6ms inference, 12.8ms postprocess per image at shape (1, 3, 256, 640)\n",
      "\n"
     ]
    },
    {
     "name": "stdout",
     "output_type": "stream",
     "text": [
      "[[351.4908447265625, 134.12652587890625, 107.30122070312501]]\n",
      "[[351.6551208496094, 133.9951934814453, 107.19615478515625]]\n"
     ]
    },
    {
     "name": "stderr",
     "output_type": "stream",
     "text": [
      "0: 256x640 1 battery_plus, 61.6ms\n",
      "Speed: 5.1ms preprocess, 61.6ms inference, 15.1ms postprocess per image at shape (1, 3, 256, 640)\n",
      "\n",
      "0: 256x640 1 battery_plus, 61.0ms\n",
      "Speed: 6.0ms preprocess, 61.0ms inference, 11.1ms postprocess per image at shape (1, 3, 256, 640)\n",
      "\n"
     ]
    },
    {
     "name": "stdout",
     "output_type": "stream",
     "text": [
      "[[351.52728271484375, 134.0662078857422, 107.25296630859376]]\n",
      "[[351.5392761230469, 134.008544921875, 107.2068359375]]\n"
     ]
    },
    {
     "name": "stderr",
     "output_type": "stream",
     "text": [
      "0: 256x640 1 battery_plus, 80.6ms\n",
      "Speed: 5.0ms preprocess, 80.6ms inference, 7.1ms postprocess per image at shape (1, 3, 256, 640)\n",
      "\n",
      "0: 256x640 1 battery_plus, 27.0ms\n",
      "Speed: 3.0ms preprocess, 27.0ms inference, 5.0ms postprocess per image at shape (1, 3, 256, 640)\n",
      "\n",
      "0: 256x640 1 battery_plus, 25.1ms\n",
      "Speed: 2.7ms preprocess, 25.1ms inference, 5.0ms postprocess per image at shape (1, 3, 256, 640)\n",
      "\n"
     ]
    },
    {
     "name": "stdout",
     "output_type": "stream",
     "text": [
      "[[351.63421630859375, 134.02566528320312, 107.22053222656251]]\n",
      "[[351.57781982421875, 133.97940063476562, 107.1835205078125]]\n",
      "[[351.6665954589844, 134.11619567871094, 107.29295654296875]]\n"
     ]
    },
    {
     "name": "stderr",
     "output_type": "stream",
     "text": [
      "0: 256x640 1 battery_plus, 25.0ms\n",
      "Speed: 3.0ms preprocess, 25.0ms inference, 5.0ms postprocess per image at shape (1, 3, 256, 640)\n",
      "\n",
      "0: 256x640 1 battery_plus, 24.8ms\n",
      "Speed: 2.0ms preprocess, 24.8ms inference, 7.0ms postprocess per image at shape (1, 3, 256, 640)\n",
      "\n",
      "0: 256x640 1 battery_plus, 28.8ms\n",
      "Speed: 3.0ms preprocess, 28.8ms inference, 6.0ms postprocess per image at shape (1, 3, 256, 640)\n",
      "\n"
     ]
    },
    {
     "name": "stdout",
     "output_type": "stream",
     "text": [
      "[[351.4140625, 134.02120971679688, 107.2169677734375]]\n",
      "[[351.61676025390625, 133.87179565429688, 107.09743652343751]]\n",
      "[[351.5380554199219, 133.91714477539062, 107.1337158203125]]\n"
     ]
    },
    {
     "name": "stderr",
     "output_type": "stream",
     "text": [
      "0: 256x640 1 battery_plus, 28.1ms\n",
      "Speed: 3.0ms preprocess, 28.1ms inference, 6.0ms postprocess per image at shape (1, 3, 256, 640)\n",
      "\n",
      "0: 256x640 1 battery_plus, 36.6ms\n",
      "Speed: 3.0ms preprocess, 36.6ms inference, 6.6ms postprocess per image at shape (1, 3, 256, 640)\n",
      "\n",
      "0: 256x640 1 battery_plus, 28.1ms\n",
      "Speed: 3.0ms preprocess, 28.1ms inference, 7.0ms postprocess per image at shape (1, 3, 256, 640)\n"
     ]
    },
    {
     "name": "stdout",
     "output_type": "stream",
     "text": [
      "[[351.45599365234375, 133.9263916015625, 107.14111328125]]\n",
      "[[351.5209655761719, 133.91720581054688, 107.1337646484375]]\n",
      "[[351.6812438964844, 134.09410095214844, 107.27528076171876]]\n"
     ]
    },
    {
     "name": "stderr",
     "output_type": "stream",
     "text": [
      "\n",
      "0: 256x640 1 battery_plus, 29.0ms\n",
      "Speed: 4.0ms preprocess, 29.0ms inference, 4.0ms postprocess per image at shape (1, 3, 256, 640)\n",
      "\n",
      "0: 256x640 1 battery_plus, 29.0ms\n",
      "Speed: 3.0ms preprocess, 29.0ms inference, 5.0ms postprocess per image at shape (1, 3, 256, 640)\n",
      "\n",
      "0: 256x640 1 battery_plus, 28.0ms\n",
      "Speed: 3.0ms preprocess, 28.0ms inference, 5.6ms postprocess per image at shape (1, 3, 256, 640)\n"
     ]
    },
    {
     "name": "stdout",
     "output_type": "stream",
     "text": [
      "[[351.6432189941406, 133.93475341796875, 107.147802734375]]\n",
      "[[351.61907958984375, 134.06173706054688, 107.2493896484375]]\n",
      "[[351.5826416015625, 133.91757202148438, 107.13405761718751]]\n"
     ]
    },
    {
     "name": "stderr",
     "output_type": "stream",
     "text": [
      "\n",
      "0: 256x640 1 battery_plus, 32.0ms\n",
      "Speed: 3.0ms preprocess, 32.0ms inference, 6.0ms postprocess per image at shape (1, 3, 256, 640)\n",
      "\n",
      "0: 256x640 1 battery_plus, 34.0ms\n",
      "Speed: 4.0ms preprocess, 34.0ms inference, 8.0ms postprocess per image at shape (1, 3, 256, 640)\n",
      "\n",
      "0: 256x640 1 battery_plus, 33.0ms\n"
     ]
    },
    {
     "name": "stdout",
     "output_type": "stream",
     "text": [
      "[[351.53338623046875, 134.0474853515625, 107.23798828125001]]\n",
      "[[351.4595947265625, 134.05130004882812, 107.24104003906251]]\n"
     ]
    },
    {
     "name": "stderr",
     "output_type": "stream",
     "text": [
      "Speed: 4.6ms preprocess, 33.0ms inference, 6.0ms postprocess per image at shape (1, 3, 256, 640)\n",
      "\n",
      "0: 256x640 1 battery_plus, 32.5ms\n",
      "Speed: 3.0ms preprocess, 32.5ms inference, 7.0ms postprocess per image at shape (1, 3, 256, 640)\n",
      "\n",
      "0: 256x640 1 battery_plus, 32.5ms\n",
      "Speed: 5.0ms preprocess, 32.5ms inference, 6.0ms postprocess per image at shape (1, 3, 256, 640)\n"
     ]
    },
    {
     "name": "stdout",
     "output_type": "stream",
     "text": [
      "[[351.5435791015625, 134.0996856689453, 107.27974853515626]]\n",
      "[[351.50701904296875, 134.04957580566406, 107.23966064453126]]\n"
     ]
    },
    {
     "name": "stderr",
     "output_type": "stream",
     "text": [
      "\n",
      "0: 256x640 1 battery_plus, 34.0ms\n",
      "Speed: 4.0ms preprocess, 34.0ms inference, 6.6ms postprocess per image at shape (1, 3, 256, 640)\n",
      "\n",
      "0: 256x640 1 battery_plus, 37.1ms\n",
      "Speed: 3.0ms preprocess, 37.1ms inference, 6.0ms postprocess per image at shape (1, 3, 256, 640)\n"
     ]
    },
    {
     "name": "stdout",
     "output_type": "stream",
     "text": [
      "[[351.44683837890625, 134.09823608398438, 107.27858886718751]]\n",
      "[[351.49822998046875, 134.1639404296875, 107.33115234375]]\n",
      "[[351.6631774902344, 134.30902099609375, 107.44721679687501]]\n"
     ]
    },
    {
     "name": "stderr",
     "output_type": "stream",
     "text": [
      "\n",
      "0: 256x640 1 battery_plus, 32.1ms\n",
      "Speed: 4.0ms preprocess, 32.1ms inference, 10.0ms postprocess per image at shape (1, 3, 256, 640)\n",
      "\n",
      "0: 256x640 1 battery_plus, 34.1ms\n",
      "Speed: 4.5ms preprocess, 34.1ms inference, 5.0ms postprocess per image at shape (1, 3, 256, 640)\n",
      "\n",
      "0: 256x640 1 battery_plus, 32.6ms\n",
      "Speed: 4.3ms preprocess, 32.6ms inference, 7.0ms postprocess per image at shape (1, 3, 256, 640)\n"
     ]
    },
    {
     "name": "stdout",
     "output_type": "stream",
     "text": [
      "[[351.5176086425781, 134.08595275878906, 107.26876220703126]]\n",
      "[[351.6363525390625, 134.1570281982422, 107.32562255859375]]\n"
     ]
    },
    {
     "name": "stderr",
     "output_type": "stream",
     "text": [
      "\n",
      "0: 256x640 1 battery_plus, 36.1ms\n",
      "Speed: 3.6ms preprocess, 36.1ms inference, 7.0ms postprocess per image at shape (1, 3, 256, 640)\n",
      "\n",
      "0: 256x640 1 battery_plus, 31.0ms\n",
      "Speed: 2.0ms preprocess, 31.0ms inference, 5.0ms postprocess per image at shape (1, 3, 256, 640)\n"
     ]
    },
    {
     "name": "stdout",
     "output_type": "stream",
     "text": [
      "[[351.56292724609375, 134.11651611328125, 107.293212890625]]\n",
      "[[351.74853515625, 134.12753295898438, 107.30202636718751]]\n",
      "[[351.61279296875, 134.23880004882812, 107.3910400390625]]\n"
     ]
    },
    {
     "name": "stderr",
     "output_type": "stream",
     "text": [
      "\n",
      "0: 256x640 1 battery_plus, 37.1ms\n",
      "Speed: 3.0ms preprocess, 37.1ms inference, 6.0ms postprocess per image at shape (1, 3, 256, 640)\n",
      "\n",
      "0: 256x640 1 battery_plus, 33.0ms\n",
      "Speed: 3.0ms preprocess, 33.0ms inference, 6.0ms postprocess per image at shape (1, 3, 256, 640)\n",
      "\n",
      "0: 256x640 1 battery_plus, 35.6ms\n"
     ]
    },
    {
     "name": "stdout",
     "output_type": "stream",
     "text": [
      "[[351.5274658203125, 134.02186584472656, 107.21749267578126]]\n",
      "[[351.4499816894531, 134.02928161621094, 107.22342529296876]]\n"
     ]
    },
    {
     "name": "stderr",
     "output_type": "stream",
     "text": [
      "Speed: 4.0ms preprocess, 35.6ms inference, 8.1ms postprocess per image at shape (1, 3, 256, 640)\n",
      "\n",
      "0: 256x640 1 battery_plus, 40.6ms\n",
      "Speed: 3.0ms preprocess, 40.6ms inference, 6.0ms postprocess per image at shape (1, 3, 256, 640)\n",
      "\n"
     ]
    },
    {
     "name": "stdout",
     "output_type": "stream",
     "text": [
      "[[351.6278076171875, 134.05075073242188, 107.2406005859375]]\n",
      "[[351.5395202636719, 134.23851013183594, 107.39080810546875]]\n"
     ]
    },
    {
     "name": "stderr",
     "output_type": "stream",
     "text": [
      "0: 256x640 1 battery_plus, 41.6ms\n",
      "Speed: 4.0ms preprocess, 41.6ms inference, 6.0ms postprocess per image at shape (1, 3, 256, 640)\n",
      "\n",
      "0: 256x640 1 battery_plus, 38.9ms\n",
      "Speed: 3.1ms preprocess, 38.9ms inference, 6.0ms postprocess per image at shape (1, 3, 256, 640)\n",
      "\n"
     ]
    },
    {
     "name": "stdout",
     "output_type": "stream",
     "text": [
      "[[351.4482727050781, 134.00714111328125, 107.20571289062501]]\n",
      "[[351.5901184082031, 134.12380981445312, 107.2990478515625]]\n"
     ]
    },
    {
     "name": "stderr",
     "output_type": "stream",
     "text": [
      "0: 256x640 1 battery_plus, 35.0ms\n",
      "Speed: 3.5ms preprocess, 35.0ms inference, 7.1ms postprocess per image at shape (1, 3, 256, 640)\n",
      "\n",
      "0: 256x640 1 battery_plus, 37.5ms\n",
      "Speed: 3.6ms preprocess, 37.5ms inference, 4.0ms postprocess per image at shape (1, 3, 256, 640)\n",
      "\n",
      "0: 256x640 1 battery_plus, 32.6ms\n"
     ]
    },
    {
     "name": "stdout",
     "output_type": "stream",
     "text": [
      "[[351.6117248535156, 134.045654296875, 107.23652343750001]]\n",
      "[[351.551513671875, 134.0360870361328, 107.22886962890625]]\n"
     ]
    },
    {
     "name": "stderr",
     "output_type": "stream",
     "text": [
      "Speed: 3.0ms preprocess, 32.6ms inference, 8.9ms postprocess per image at shape (1, 3, 256, 640)\n",
      "\n",
      "0: 256x640 1 battery_plus, 31.6ms\n",
      "Speed: 3.0ms preprocess, 31.6ms inference, 5.0ms postprocess per image at shape (1, 3, 256, 640)\n",
      "\n",
      "0: 256x640 1 battery_plus, 30.0ms\n",
      "Speed: 2.9ms preprocess, 30.0ms inference, 5.0ms postprocess per image at shape (1, 3, 256, 640)\n"
     ]
    },
    {
     "name": "stdout",
     "output_type": "stream",
     "text": [
      "[[351.4998779296875, 133.96502685546875, 107.17202148437501]]\n",
      "[[351.587158203125, 134.21929931640625, 107.37543945312501]]\n",
      "[[351.58221435546875, 134.14138793945312, 107.3131103515625]]\n"
     ]
    },
    {
     "name": "stderr",
     "output_type": "stream",
     "text": [
      "\n",
      "0: 256x640 1 battery_plus, 35.2ms\n",
      "Speed: 2.0ms preprocess, 35.2ms inference, 6.0ms postprocess per image at shape (1, 3, 256, 640)\n",
      "\n",
      "0: 256x640 1 battery_plus, 40.3ms\n",
      "Speed: 2.9ms preprocess, 40.3ms inference, 8.0ms postprocess per image at shape (1, 3, 256, 640)\n",
      "\n",
      "0: 256x640 1 battery_plus, 41.0ms\n"
     ]
    },
    {
     "name": "stdout",
     "output_type": "stream",
     "text": [
      "[[351.63653564453125, 134.24929809570312, 107.39943847656251]]\n",
      "[[351.462158203125, 134.10691833496094, 107.28553466796876]]\n"
     ]
    },
    {
     "name": "stderr",
     "output_type": "stream",
     "text": [
      "Speed: 3.0ms preprocess, 41.0ms inference, 7.0ms postprocess per image at shape (1, 3, 256, 640)\n",
      "\n",
      "0: 256x640 1 battery_plus, 38.0ms\n",
      "Speed: 6.0ms preprocess, 38.0ms inference, 7.0ms postprocess per image at shape (1, 3, 256, 640)\n",
      "\n",
      "0: 256x640 1 battery_plus, 32.0ms\n"
     ]
    },
    {
     "name": "stdout",
     "output_type": "stream",
     "text": [
      "[[351.6622009277344, 133.99798583984375, 107.19838867187501]]\n",
      "[[351.610595703125, 134.10833740234375, 107.286669921875]]\n"
     ]
    },
    {
     "name": "stderr",
     "output_type": "stream",
     "text": [
      "Speed: 3.0ms preprocess, 32.0ms inference, 5.0ms postprocess per image at shape (1, 3, 256, 640)\n",
      "\n",
      "0: 256x640 1 battery_plus, 33.9ms\n",
      "Speed: 3.0ms preprocess, 33.9ms inference, 5.1ms postprocess per image at shape (1, 3, 256, 640)\n",
      "\n",
      "0: 256x640 1 battery_plus, 29.7ms\n",
      "Speed: 4.0ms preprocess, 29.7ms inference, 8.6ms postprocess per image at shape (1, 3, 256, 640)\n"
     ]
    },
    {
     "name": "stdout",
     "output_type": "stream",
     "text": [
      "[[351.5487060546875, 134.028076171875, 107.2224609375]]\n",
      "[[351.59722900390625, 134.04745483398438, 107.2379638671875]]\n",
      "[[351.625244140625, 134.15505981445312, 107.32404785156251]]\n"
     ]
    },
    {
     "name": "stderr",
     "output_type": "stream",
     "text": [
      "\n",
      "0: 256x640 1 battery_plus, 31.0ms\n",
      "Speed: 4.0ms preprocess, 31.0ms inference, 5.0ms postprocess per image at shape (1, 3, 256, 640)\n",
      "\n",
      "0: 256x640 1 battery_plus, 31.0ms\n",
      "Speed: 4.0ms preprocess, 31.0ms inference, 5.5ms postprocess per image at shape (1, 3, 256, 640)\n",
      "\n",
      "0: 256x640 1 battery_plus, 36.6ms\n",
      "Speed: 3.0ms preprocess, 36.6ms inference, 6.0ms postprocess per image at shape (1, 3, 256, 640)\n"
     ]
    },
    {
     "name": "stdout",
     "output_type": "stream",
     "text": [
      "[[351.46966552734375, 134.01388549804688, 107.2111083984375]]\n",
      "[[351.4927978515625, 133.9476318359375, 107.15810546875001]]\n",
      "[[351.58282470703125, 134.12814331054688, 107.30251464843751]]\n"
     ]
    },
    {
     "name": "stderr",
     "output_type": "stream",
     "text": [
      "\n",
      "0: 256x640 1 battery_plus, 38.0ms\n",
      "Speed: 3.0ms preprocess, 38.0ms inference, 8.0ms postprocess per image at shape (1, 3, 256, 640)\n",
      "\n",
      "0: 256x640 1 battery_plus, 35.5ms\n",
      "Speed: 5.1ms preprocess, 35.5ms inference, 5.9ms postprocess per image at shape (1, 3, 256, 640)\n",
      "\n",
      "0: 256x640 1 battery_plus, 36.7ms\n"
     ]
    },
    {
     "name": "stdout",
     "output_type": "stream",
     "text": [
      "[[351.5142822265625, 133.9983367919922, 107.19866943359375]]\n",
      "[[351.59625244140625, 134.09359741210938, 107.2748779296875]]\n"
     ]
    },
    {
     "name": "stderr",
     "output_type": "stream",
     "text": [
      "Speed: 4.0ms preprocess, 36.7ms inference, 6.5ms postprocess per image at shape (1, 3, 256, 640)\n",
      "\n",
      "0: 256x640 1 battery_plus, 37.0ms\n",
      "Speed: 3.0ms preprocess, 37.0ms inference, 5.0ms postprocess per image at shape (1, 3, 256, 640)\n",
      "\n",
      "0: 256x640 1 battery_plus, 28.8ms\n",
      "Speed: 4.5ms preprocess, 28.8ms inference, 9.0ms postprocess per image at shape (1, 3, 256, 640)\n"
     ]
    },
    {
     "name": "stdout",
     "output_type": "stream",
     "text": [
      "[[351.58074951171875, 134.01718139648438, 107.2137451171875]]\n",
      "[[351.4288635253906, 134.01173400878906, 107.20938720703126]]\n"
     ]
    },
    {
     "name": "stderr",
     "output_type": "stream",
     "text": [
      "\n",
      "0: 256x640 1 battery_plus, 36.5ms\n",
      "Speed: 3.0ms preprocess, 36.5ms inference, 7.0ms postprocess per image at shape (1, 3, 256, 640)\n",
      "\n",
      "0: 256x640 1 battery_plus, 35.0ms\n",
      "Speed: 4.5ms preprocess, 35.0ms inference, 6.0ms postprocess per image at shape (1, 3, 256, 640)\n"
     ]
    },
    {
     "name": "stdout",
     "output_type": "stream",
     "text": [
      "[[351.71575927734375, 134.05360412597656, 107.24288330078126]]\n",
      "[[351.5096435546875, 134.04611206054688, 107.23688964843751]]\n"
     ]
    },
    {
     "name": "stderr",
     "output_type": "stream",
     "text": [
      "\n",
      "0: 256x640 1 battery_plus, 36.0ms\n",
      "Speed: 3.3ms preprocess, 36.0ms inference, 6.0ms postprocess per image at shape (1, 3, 256, 640)\n",
      "\n",
      "0: 256x640 1 battery_plus, 37.6ms\n",
      "Speed: 3.5ms preprocess, 37.6ms inference, 6.0ms postprocess per image at shape (1, 3, 256, 640)\n"
     ]
    },
    {
     "name": "stdout",
     "output_type": "stream",
     "text": [
      "[[351.5745849609375, 134.19613647460938, 107.3569091796875]]\n",
      "[[351.6220703125, 134.0267333984375, 107.22138671875001]]\n"
     ]
    },
    {
     "name": "stderr",
     "output_type": "stream",
     "text": [
      "\n",
      "0: 256x640 1 battery_plus, 36.2ms\n",
      "Speed: 4.0ms preprocess, 36.2ms inference, 6.0ms postprocess per image at shape (1, 3, 256, 640)\n",
      "\n",
      "0: 256x640 1 battery_plus, 32.6ms\n",
      "Speed: 4.0ms preprocess, 32.6ms inference, 7.0ms postprocess per image at shape (1, 3, 256, 640)\n"
     ]
    },
    {
     "name": "stdout",
     "output_type": "stream",
     "text": [
      "[[351.6964416503906, 134.1778106689453, 107.34224853515626]]\n",
      "[[351.7696838378906, 134.26504516601562, 107.4120361328125]]\n"
     ]
    },
    {
     "name": "stderr",
     "output_type": "stream",
     "text": [
      "\n",
      "0: 256x640 1 battery_plus, 34.4ms\n",
      "Speed: 5.0ms preprocess, 34.4ms inference, 7.7ms postprocess per image at shape (1, 3, 256, 640)\n",
      "\n",
      "0: 256x640 1 battery_plus, 38.7ms\n"
     ]
    },
    {
     "name": "stdout",
     "output_type": "stream",
     "text": [
      "[[351.64190673828125, 134.088623046875, 107.27089843750001]]\n",
      "[[351.73150634765625, 134.04248046875, 107.233984375]]\n"
     ]
    },
    {
     "name": "stderr",
     "output_type": "stream",
     "text": [
      "Speed: 3.0ms preprocess, 38.7ms inference, 7.0ms postprocess per image at shape (1, 3, 256, 640)\n",
      "\n",
      "0: 256x640 1 battery_plus, 49.5ms\n",
      "Speed: 4.0ms preprocess, 49.5ms inference, 7.0ms postprocess per image at shape (1, 3, 256, 640)\n",
      "\n"
     ]
    },
    {
     "name": "stdout",
     "output_type": "stream",
     "text": [
      "[[351.68646240234375, 134.17950439453125, 107.343603515625]]\n",
      "[[351.5830383300781, 134.06063842773438, 107.2485107421875]]\n"
     ]
    },
    {
     "name": "stderr",
     "output_type": "stream",
     "text": [
      "0: 256x640 1 battery_plus, 35.0ms\n",
      "Speed: 4.0ms preprocess, 35.0ms inference, 7.0ms postprocess per image at shape (1, 3, 256, 640)\n",
      "\n",
      "0: 256x640 1 battery_plus, 33.0ms\n",
      "Speed: 3.7ms preprocess, 33.0ms inference, 8.0ms postprocess per image at shape (1, 3, 256, 640)\n",
      "\n",
      "0: 256x640 1 battery_plus, 34.0ms\n",
      "Speed: 4.0ms preprocess, 34.0ms inference, 7.0ms postprocess per image at shape (1, 3, 256, 640)\n"
     ]
    },
    {
     "name": "stdout",
     "output_type": "stream",
     "text": [
      "[[351.7261047363281, 134.2115936279297, 107.36927490234376]]\n",
      "[[351.7305908203125, 134.2204132080078, 107.37633056640625]]\n"
     ]
    },
    {
     "name": "stderr",
     "output_type": "stream",
     "text": [
      "\n",
      "0: 256x640 1 battery_plus, 31.1ms\n",
      "Speed: 5.6ms preprocess, 31.1ms inference, 7.0ms postprocess per image at shape (1, 3, 256, 640)\n",
      "\n",
      "0: 256x640 1 battery_plus, 31.4ms\n",
      "Speed: 4.0ms preprocess, 31.4ms inference, 7.0ms postprocess per image at shape (1, 3, 256, 640)\n"
     ]
    },
    {
     "name": "stdout",
     "output_type": "stream",
     "text": [
      "[[351.5978088378906, 134.0899658203125, 107.27197265625]]\n",
      "[[351.7253112792969, 134.037353515625, 107.22988281250001]]\n",
      "[[351.22064208984375, 134.3270721435547, 107.46165771484375]]\n"
     ]
    },
    {
     "name": "stderr",
     "output_type": "stream",
     "text": [
      "\n",
      "0: 256x640 1 battery_plus, 34.0ms\n",
      "Speed: 3.9ms preprocess, 34.0ms inference, 7.0ms postprocess per image at shape (1, 3, 256, 640)\n",
      "\n",
      "0: 256x640 1 battery_plus, 30.0ms\n",
      "Speed: 4.0ms preprocess, 30.0ms inference, 7.0ms postprocess per image at shape (1, 3, 256, 640)\n",
      "\n",
      "0: 256x640 1 battery_plus, 28.6ms\n",
      "Speed: 3.0ms preprocess, 28.6ms inference, 7.0ms postprocess per image at shape (1, 3, 256, 640)\n"
     ]
    },
    {
     "name": "stdout",
     "output_type": "stream",
     "text": [
      "[[351.2294006347656, 134.24447631835938, 107.39558105468751]]\n",
      "[[351.31231689453125, 134.35354614257812, 107.4828369140625]]\n",
      "[[351.37225341796875, 134.34144592285156, 107.47315673828126]]\n"
     ]
    },
    {
     "name": "stderr",
     "output_type": "stream",
     "text": [
      "\n",
      "0: 256x640 1 battery_plus, 38.5ms\n",
      "Speed: 4.0ms preprocess, 38.5ms inference, 8.5ms postprocess per image at shape (1, 3, 256, 640)\n",
      "\n",
      "0: 256x640 1 battery_plus, 31.1ms\n",
      "Speed: 4.0ms preprocess, 31.1ms inference, 6.6ms postprocess per image at shape (1, 3, 256, 640)\n",
      "\n",
      "0: 256x640 1 battery_plus, 31.9ms\n",
      "Speed: 4.0ms preprocess, 31.9ms inference, 7.0ms postprocess per image at shape (1, 3, 256, 640)\n"
     ]
    },
    {
     "name": "stdout",
     "output_type": "stream",
     "text": [
      "[[351.18646240234375, 134.30958557128906, 107.44766845703126]]\n",
      "[[351.2689208984375, 134.25364685058594, 107.40291748046876]]\n",
      "[[351.2503662109375, 134.16741943359375, 107.33393554687501]]\n"
     ]
    },
    {
     "name": "stderr",
     "output_type": "stream",
     "text": [
      "\n",
      "0: 256x640 1 battery_plus, 30.7ms\n",
      "Speed: 3.1ms preprocess, 30.7ms inference, 7.8ms postprocess per image at shape (1, 3, 256, 640)\n",
      "\n",
      "0: 256x640 1 battery_plus, 30.1ms\n",
      "Speed: 5.3ms preprocess, 30.1ms inference, 6.0ms postprocess per image at shape (1, 3, 256, 640)\n",
      "\n",
      "0: 256x640 1 battery_plus, 27.0ms\n",
      "Speed: 3.0ms preprocess, 27.0ms inference, 6.6ms postprocess per image at shape (1, 3, 256, 640)\n"
     ]
    },
    {
     "name": "stdout",
     "output_type": "stream",
     "text": [
      "[[351.25238037109375, 134.29641723632812, 107.4371337890625]]\n",
      "[[351.77679443359375, 134.17486572265625, 107.339892578125]]\n",
      "[[351.20733642578125, 134.30889892578125, 107.447119140625]]\n"
     ]
    },
    {
     "name": "stderr",
     "output_type": "stream",
     "text": [
      "\n",
      "0: 256x640 1 battery_plus, 30.0ms\n",
      "Speed: 3.0ms preprocess, 30.0ms inference, 6.0ms postprocess per image at shape (1, 3, 256, 640)\n",
      "\n",
      "0: 256x640 1 battery_plus, 33.6ms\n",
      "Speed: 3.0ms preprocess, 33.6ms inference, 7.0ms postprocess per image at shape (1, 3, 256, 640)\n",
      "\n",
      "0: 256x640 1 battery_plus, 33.6ms\n",
      "Speed: 3.0ms preprocess, 33.6ms inference, 7.0ms postprocess per image at shape (1, 3, 256, 640)\n"
     ]
    },
    {
     "name": "stdout",
     "output_type": "stream",
     "text": [
      "[[351.26800537109375, 134.294677734375, 107.43574218750001]]\n",
      "[[351.251708984375, 134.34243774414062, 107.47395019531251]]\n",
      "[[351.75640869140625, 134.01768493652344, 107.21414794921876]]\n"
     ]
    },
    {
     "name": "stderr",
     "output_type": "stream",
     "text": [
      "\n",
      "0: 256x640 1 battery_plus, 28.5ms\n",
      "Speed: 4.0ms preprocess, 28.5ms inference, 7.0ms postprocess per image at shape (1, 3, 256, 640)\n",
      "\n",
      "0: 256x640 1 battery_plus, 29.1ms\n",
      "Speed: 2.5ms preprocess, 29.1ms inference, 5.0ms postprocess per image at shape (1, 3, 256, 640)\n",
      "\n",
      "0: 256x640 1 battery_plus, 36.0ms\n",
      "Speed: 4.0ms preprocess, 36.0ms inference, 6.5ms postprocess per image at shape (1, 3, 256, 640)\n"
     ]
    },
    {
     "name": "stdout",
     "output_type": "stream",
     "text": [
      "[[351.66998291015625, 134.11326599121094, 107.29061279296876]]\n",
      "[[351.69482421875, 134.12521362304688, 107.3001708984375]]\n"
     ]
    },
    {
     "name": "stderr",
     "output_type": "stream",
     "text": [
      "\n",
      "0: 256x640 1 battery_plus, 43.0ms\n",
      "Speed: 5.0ms preprocess, 43.0ms inference, 9.6ms postprocess per image at shape (1, 3, 256, 640)\n",
      "\n"
     ]
    },
    {
     "name": "stdout",
     "output_type": "stream",
     "text": [
      "[[351.22113037109375, 134.42999267578125, 107.543994140625]]\n",
      "[[351.7127990722656, 134.09593200683594, 107.27674560546876]]\n"
     ]
    },
    {
     "name": "stderr",
     "output_type": "stream",
     "text": [
      "0: 256x640 1 battery_plus, 40.0ms\n",
      "Speed: 4.8ms preprocess, 40.0ms inference, 8.8ms postprocess per image at shape (1, 3, 256, 640)\n",
      "\n",
      "0: 256x640 1 battery_plus, 30.7ms\n",
      "Speed: 3.0ms preprocess, 30.7ms inference, 8.0ms postprocess per image at shape (1, 3, 256, 640)\n",
      "\n",
      "0: 256x640 1 battery_plus, 34.7ms\n",
      "Speed: 4.0ms preprocess, 34.7ms inference, 6.0ms postprocess per image at shape (1, 3, 256, 640)\n"
     ]
    },
    {
     "name": "stdout",
     "output_type": "stream",
     "text": [
      "[[351.700927734375, 134.0515594482422, 107.24124755859376]]\n",
      "[[351.69854736328125, 134.12762451171875, 107.302099609375]]\n"
     ]
    },
    {
     "name": "stderr",
     "output_type": "stream",
     "text": [
      "\n",
      "0: 256x640 1 battery_plus, 33.1ms\n",
      "Speed: 3.0ms preprocess, 33.1ms inference, 7.7ms postprocess per image at shape (1, 3, 256, 640)\n",
      "\n",
      "0: 256x640 1 battery_plus, 39.2ms\n",
      "Speed: 4.9ms preprocess, 39.2ms inference, 6.0ms postprocess per image at shape (1, 3, 256, 640)\n"
     ]
    },
    {
     "name": "stdout",
     "output_type": "stream",
     "text": [
      "[[351.2560119628906, 134.38829040527344, 107.51063232421876]]\n",
      "[[351.20587158203125, 134.2061004638672, 107.36488037109376]]\n"
     ]
    },
    {
     "name": "stderr",
     "output_type": "stream",
     "text": [
      "\n",
      "0: 256x640 1 battery_plus, 35.5ms\n",
      "Speed: 5.0ms preprocess, 35.5ms inference, 7.0ms postprocess per image at shape (1, 3, 256, 640)\n",
      "\n",
      "0: 256x640 1 battery_plus, 38.0ms\n"
     ]
    },
    {
     "name": "stdout",
     "output_type": "stream",
     "text": [
      "[[351.6175231933594, 134.14013671875, 107.312109375]]\n",
      "[[351.26885986328125, 134.3138427734375, 107.45107421875001]]\n"
     ]
    },
    {
     "name": "stderr",
     "output_type": "stream",
     "text": [
      "Speed: 4.0ms preprocess, 38.0ms inference, 6.0ms postprocess per image at shape (1, 3, 256, 640)\n",
      "\n",
      "0: 256x640 1 battery_plus, 35.8ms\n",
      "Speed: 4.0ms preprocess, 35.8ms inference, 6.8ms postprocess per image at shape (1, 3, 256, 640)\n",
      "\n",
      "0: 256x640 1 battery_plus, 32.6ms\n"
     ]
    },
    {
     "name": "stdout",
     "output_type": "stream",
     "text": [
      "[[351.2935791015625, 134.29147338867188, 107.43317871093751]]\n",
      "[[351.71246337890625, 134.22279357910156, 107.37823486328125]]\n"
     ]
    },
    {
     "name": "stderr",
     "output_type": "stream",
     "text": [
      "Speed: 5.0ms preprocess, 32.6ms inference, 8.1ms postprocess per image at shape (1, 3, 256, 640)\n",
      "\n",
      "0: 256x640 1 battery_plus, 35.0ms\n",
      "Speed: 3.0ms preprocess, 35.0ms inference, 6.0ms postprocess per image at shape (1, 3, 256, 640)\n",
      "\n",
      "0: 256x640 1 battery_plus, 30.8ms\n",
      "Speed: 5.0ms preprocess, 30.8ms inference, 6.9ms postprocess per image at shape (1, 3, 256, 640)\n"
     ]
    },
    {
     "name": "stdout",
     "output_type": "stream",
     "text": [
      "[[351.6251220703125, 134.12586975097656, 107.30069580078126]]\n",
      "[[351.1879577636719, 134.31600952148438, 107.4528076171875]]\n"
     ]
    },
    {
     "name": "stderr",
     "output_type": "stream",
     "text": [
      "\n",
      "0: 256x640 1 battery_plus, 33.6ms\n",
      "Speed: 3.0ms preprocess, 33.6ms inference, 7.0ms postprocess per image at shape (1, 3, 256, 640)\n",
      "\n",
      "0: 256x640 1 battery_plus, 35.4ms\n",
      "Speed: 4.0ms preprocess, 35.4ms inference, 6.6ms postprocess per image at shape (1, 3, 256, 640)\n"
     ]
    },
    {
     "name": "stdout",
     "output_type": "stream",
     "text": [
      "[[351.23736572265625, 134.28494262695312, 107.4279541015625]]\n",
      "[[351.2156982421875, 134.31065368652344, 107.44852294921876]]\n",
      "[[351.7642517089844, 134.20053100585938, 107.36042480468751]]\n"
     ]
    },
    {
     "name": "stderr",
     "output_type": "stream",
     "text": [
      "\n",
      "0: 256x640 1 battery_plus, 33.1ms\n",
      "Speed: 4.0ms preprocess, 33.1ms inference, 6.0ms postprocess per image at shape (1, 3, 256, 640)\n",
      "\n",
      "0: 256x640 1 battery_plus, 33.1ms\n",
      "Speed: 3.6ms preprocess, 33.1ms inference, 7.0ms postprocess per image at shape (1, 3, 256, 640)\n",
      "\n",
      "0: 256x640 1 battery_plus, 32.1ms\n",
      "Speed: 4.0ms preprocess, 32.1ms inference, 7.0ms postprocess per image at shape (1, 3, 256, 640)\n"
     ]
    },
    {
     "name": "stdout",
     "output_type": "stream",
     "text": [
      "[[351.67877197265625, 134.155517578125, 107.32441406250001]]\n",
      "[[351.2921142578125, 134.30111694335938, 107.4408935546875]]\n",
      "[[351.80584716796875, 134.049072265625, 107.2392578125]]\n"
     ]
    },
    {
     "name": "stderr",
     "output_type": "stream",
     "text": [
      "\n",
      "0: 256x640 1 battery_plus, 33.1ms\n",
      "Speed: 4.0ms preprocess, 33.1ms inference, 6.6ms postprocess per image at shape (1, 3, 256, 640)\n",
      "\n",
      "0: 256x640 1 battery_plus, 36.7ms\n",
      "Speed: 3.9ms preprocess, 36.7ms inference, 7.9ms postprocess per image at shape (1, 3, 256, 640)\n",
      "\n",
      "0: 256x640 1 battery_plus, 33.1ms\n"
     ]
    },
    {
     "name": "stdout",
     "output_type": "stream",
     "text": [
      "[[351.231689453125, 134.29612731933594, 107.43690185546876]]\n",
      "[[351.14788818359375, 134.28225708007812, 107.42580566406251]]\n"
     ]
    },
    {
     "name": "stderr",
     "output_type": "stream",
     "text": [
      "Speed: 2.5ms preprocess, 33.1ms inference, 6.0ms postprocess per image at shape (1, 3, 256, 640)\n",
      "\n",
      "0: 256x640 1 battery_plus, 32.1ms\n",
      "Speed: 3.3ms preprocess, 32.1ms inference, 7.1ms postprocess per image at shape (1, 3, 256, 640)\n",
      "\n",
      "0: 256x640 1 battery_plus, 32.6ms\n",
      "Speed: 4.0ms preprocess, 32.6ms inference, 6.0ms postprocess per image at shape (1, 3, 256, 640)\n"
     ]
    },
    {
     "name": "stdout",
     "output_type": "stream",
     "text": [
      "[[351.29833984375, 134.36085510253906, 107.48868408203126]]\n",
      "[[351.24981689453125, 134.29608154296875, 107.436865234375]]\n"
     ]
    },
    {
     "name": "stderr",
     "output_type": "stream",
     "text": [
      "\n",
      "0: 256x640 1 battery_plus, 33.0ms\n",
      "Speed: 3.0ms preprocess, 33.0ms inference, 8.2ms postprocess per image at shape (1, 3, 256, 640)\n",
      "\n",
      "0: 256x640 1 battery_plus, 33.0ms\n",
      "Speed: 3.0ms preprocess, 33.0ms inference, 6.0ms postprocess per image at shape (1, 3, 256, 640)\n"
     ]
    },
    {
     "name": "stdout",
     "output_type": "stream",
     "text": [
      "[[351.203857421875, 134.3018798828125, 107.44150390625]]\n",
      "[[351.2825622558594, 134.28134155273438, 107.42507324218751]]\n",
      "[[351.74603271484375, 134.03018188476562, 107.22414550781251]]\n"
     ]
    },
    {
     "name": "stderr",
     "output_type": "stream",
     "text": [
      "\n",
      "0: 256x640 1 battery_plus, 31.7ms\n",
      "Speed: 3.0ms preprocess, 31.7ms inference, 8.0ms postprocess per image at shape (1, 3, 256, 640)\n",
      "\n",
      "0: 256x640 1 battery_plus, 31.5ms\n",
      "Speed: 4.0ms preprocess, 31.5ms inference, 6.0ms postprocess per image at shape (1, 3, 256, 640)\n",
      "\n",
      "0: 256x640 1 battery_plus, 30.1ms\n",
      "Speed: 5.0ms preprocess, 30.1ms inference, 6.0ms postprocess per image at shape (1, 3, 256, 640)\n"
     ]
    },
    {
     "name": "stdout",
     "output_type": "stream",
     "text": [
      "[[351.27630615234375, 134.36715698242188, 107.49372558593751]]\n",
      "[[351.72674560546875, 134.07933044433594, 107.26346435546876]]\n",
      "[[351.2181701660156, 134.2486572265625, 107.39892578125]]\n"
     ]
    },
    {
     "name": "stderr",
     "output_type": "stream",
     "text": [
      "\n",
      "0: 256x640 1 battery_plus, 43.0ms\n",
      "Speed: 3.0ms preprocess, 43.0ms inference, 7.0ms postprocess per image at shape (1, 3, 256, 640)\n",
      "\n",
      "0: 256x640 1 battery_plus, 40.1ms\n",
      "Speed: 4.5ms preprocess, 40.1ms inference, 5.9ms postprocess per image at shape (1, 3, 256, 640)\n",
      "\n"
     ]
    },
    {
     "name": "stdout",
     "output_type": "stream",
     "text": [
      "[[351.7381591796875, 134.19146728515625, 107.35317382812501]]\n",
      "[[351.7200622558594, 134.1393585205078, 107.31148681640626]]\n"
     ]
    },
    {
     "name": "stderr",
     "output_type": "stream",
     "text": [
      "0: 256x640 1 battery_plus, 37.0ms\n",
      "Speed: 6.0ms preprocess, 37.0ms inference, 10.9ms postprocess per image at shape (1, 3, 256, 640)\n",
      "\n",
      "0: 256x640 1 battery_plus, 37.2ms\n",
      "Speed: 4.0ms preprocess, 37.2ms inference, 6.0ms postprocess per image at shape (1, 3, 256, 640)\n",
      "\n",
      "0: 256x640 1 battery_plus, 34.1ms\n"
     ]
    },
    {
     "name": "stdout",
     "output_type": "stream",
     "text": [
      "[[351.8002014160156, 134.1260528564453, 107.30084228515625]]\n",
      "[[351.69940185546875, 134.07232666015625, 107.257861328125]]\n"
     ]
    },
    {
     "name": "stderr",
     "output_type": "stream",
     "text": [
      "Speed: 3.0ms preprocess, 34.1ms inference, 6.8ms postprocess per image at shape (1, 3, 256, 640)\n",
      "\n",
      "0: 256x640 1 battery_plus, 38.2ms\n",
      "Speed: 3.0ms preprocess, 38.2ms inference, 7.0ms postprocess per image at shape (1, 3, 256, 640)\n",
      "\n",
      "0: 256x640 1 battery_plus, 38.0ms\n"
     ]
    },
    {
     "name": "stdout",
     "output_type": "stream",
     "text": [
      "[[351.8148193359375, 134.0299072265625, 107.22392578125]]\n",
      "[[351.69805908203125, 134.13446044921875, 107.30756835937501]]\n"
     ]
    },
    {
     "name": "stderr",
     "output_type": "stream",
     "text": [
      "Speed: 4.1ms preprocess, 38.0ms inference, 10.0ms postprocess per image at shape (1, 3, 256, 640)\n",
      "\n",
      "0: 256x640 1 battery_plus, 33.6ms\n",
      "Speed: 4.1ms preprocess, 33.6ms inference, 6.0ms postprocess per image at shape (1, 3, 256, 640)\n",
      "\n",
      "0: 256x640 1 battery_plus, 30.2ms\n",
      "Speed: 3.9ms preprocess, 30.2ms inference, 7.6ms postprocess per image at shape (1, 3, 256, 640)\n"
     ]
    },
    {
     "name": "stdout",
     "output_type": "stream",
     "text": [
      "[[351.1978759765625, 134.2150421142578, 107.37203369140626]]\n",
      "[[351.6551513671875, 134.0665283203125, 107.25322265625]]\n",
      "[[351.787353515625, 134.2406768798828, 107.39254150390626]]\n"
     ]
    },
    {
     "name": "stderr",
     "output_type": "stream",
     "text": [
      "\n",
      "0: 256x640 1 battery_plus, 39.0ms\n",
      "Speed: 4.0ms preprocess, 39.0ms inference, 5.0ms postprocess per image at shape (1, 3, 256, 640)\n",
      "\n",
      "0: 256x640 1 battery_plus, 30.0ms\n",
      "Speed: 3.0ms preprocess, 30.0ms inference, 6.0ms postprocess per image at shape (1, 3, 256, 640)\n",
      "\n",
      "0: 256x640 1 battery_plus, 28.1ms\n",
      "Speed: 4.0ms preprocess, 28.1ms inference, 6.0ms postprocess per image at shape (1, 3, 256, 640)\n"
     ]
    },
    {
     "name": "stdout",
     "output_type": "stream",
     "text": [
      "[[351.73980712890625, 134.09609985351562, 107.27687988281251]]\n",
      "[[351.7165832519531, 134.1023406982422, 107.28187255859376]]\n",
      "[[351.2646484375, 134.29315185546875, 107.43452148437501]]\n"
     ]
    },
    {
     "name": "stderr",
     "output_type": "stream",
     "text": [
      "\n",
      "0: 256x640 1 battery_plus, 34.2ms\n",
      "Speed: 4.0ms preprocess, 34.2ms inference, 6.0ms postprocess per image at shape (1, 3, 256, 640)\n",
      "\n",
      "0: 256x640 1 battery_plus, 27.0ms\n",
      "Speed: 3.0ms preprocess, 27.0ms inference, 6.0ms postprocess per image at shape (1, 3, 256, 640)\n",
      "\n",
      "0: 256x640 1 battery_plus, 29.0ms\n",
      "Speed: 2.0ms preprocess, 29.0ms inference, 5.0ms postprocess per image at shape (1, 3, 256, 640)\n"
     ]
    },
    {
     "name": "stdout",
     "output_type": "stream",
     "text": [
      "[[351.2706298828125, 134.19940185546875, 107.35952148437501]]\n",
      "[[351.6429138183594, 134.08694458007812, 107.26955566406251]]\n",
      "[[351.75592041015625, 134.16796875, 107.33437500000001]]\n"
     ]
    },
    {
     "name": "stderr",
     "output_type": "stream",
     "text": [
      "\n",
      "0: 256x640 1 battery_plus, 26.0ms\n",
      "Speed: 3.0ms preprocess, 26.0ms inference, 6.0ms postprocess per image at shape (1, 3, 256, 640)\n",
      "\n",
      "0: 256x640 1 battery_plus, 27.1ms\n",
      "Speed: 3.0ms preprocess, 27.1ms inference, 6.9ms postprocess per image at shape (1, 3, 256, 640)\n",
      "\n",
      "0: 256x640 1 battery_plus, 27.0ms\n",
      "Speed: 3.0ms preprocess, 27.0ms inference, 7.0ms postprocess per image at shape (1, 3, 256, 640)\n"
     ]
    },
    {
     "name": "stdout",
     "output_type": "stream",
     "text": [
      "[[351.2947998046875, 134.255126953125, 107.4041015625]]\n",
      "[[351.6871337890625, 134.0384521484375, 107.23076171875]]\n",
      "[[351.71697998046875, 134.13626098632812, 107.3090087890625]]\n"
     ]
    },
    {
     "name": "stderr",
     "output_type": "stream",
     "text": [
      "\n",
      "0: 256x640 1 battery_plus, 30.9ms\n",
      "Speed: 5.0ms preprocess, 30.9ms inference, 7.9ms postprocess per image at shape (1, 3, 256, 640)\n",
      "\n",
      "0: 256x640 1 battery_plus, 28.8ms\n",
      "Speed: 4.1ms preprocess, 28.8ms inference, 5.9ms postprocess per image at shape (1, 3, 256, 640)\n",
      "\n",
      "0: 256x640 1 battery_plus, 30.0ms\n",
      "Speed: 4.0ms preprocess, 30.0ms inference, 5.0ms postprocess per image at shape (1, 3, 256, 640)\n"
     ]
    },
    {
     "name": "stdout",
     "output_type": "stream",
     "text": [
      "[[351.17059326171875, 134.29672241210938, 107.4373779296875]]\n",
      "[[351.22509765625, 134.35507202148438, 107.4840576171875]]\n",
      "[[351.77752685546875, 134.10777282714844, 107.28621826171876]]\n"
     ]
    },
    {
     "name": "stderr",
     "output_type": "stream",
     "text": [
      "\n",
      "0: 256x640 1 battery_plus, 29.0ms\n",
      "Speed: 3.0ms preprocess, 29.0ms inference, 6.0ms postprocess per image at shape (1, 3, 256, 640)\n",
      "\n",
      "0: 256x640 1 battery_plus, 29.2ms\n",
      "Speed: 3.0ms preprocess, 29.2ms inference, 6.0ms postprocess per image at shape (1, 3, 256, 640)\n",
      "\n",
      "0: 256x640 1 battery_plus, 26.0ms\n",
      "Speed: 3.1ms preprocess, 26.0ms inference, 6.1ms postprocess per image at shape (1, 3, 256, 640)\n",
      "\n"
     ]
    },
    {
     "name": "stdout",
     "output_type": "stream",
     "text": [
      "[[351.720458984375, 134.0958251953125, 107.27666015625]]\n",
      "[[351.783935546875, 134.0598602294922, 107.24788818359376]]\n",
      "[[351.66815185546875, 134.04415893554688, 107.2353271484375]]\n"
     ]
    },
    {
     "name": "stderr",
     "output_type": "stream",
     "text": [
      "0: 256x640 1 battery_plus, 26.5ms\n",
      "Speed: 5.0ms preprocess, 26.5ms inference, 6.6ms postprocess per image at shape (1, 3, 256, 640)\n",
      "\n",
      "0: 256x640 1 battery_plus, 28.0ms\n",
      "Speed: 2.0ms preprocess, 28.0ms inference, 5.1ms postprocess per image at shape (1, 3, 256, 640)\n",
      "\n",
      "0: 256x640 1 battery_plus, 29.1ms\n",
      "Speed: 2.0ms preprocess, 29.1ms inference, 5.0ms postprocess per image at shape (1, 3, 256, 640)\n"
     ]
    },
    {
     "name": "stdout",
     "output_type": "stream",
     "text": [
      "[[351.75067138671875, 134.0858612060547, 107.26868896484376]]\n",
      "[[351.2494201660156, 134.37130737304688, 107.4970458984375]]\n",
      "[[351.73553466796875, 134.0824432373047, 107.26595458984376]]\n"
     ]
    },
    {
     "name": "stderr",
     "output_type": "stream",
     "text": [
      "\n",
      "0: 256x640 1 battery_plus, 26.7ms\n",
      "Speed: 3.0ms preprocess, 26.7ms inference, 6.0ms postprocess per image at shape (1, 3, 256, 640)\n",
      "\n",
      "0: 256x640 1 battery_plus, 31.1ms\n",
      "Speed: 3.1ms preprocess, 31.1ms inference, 6.0ms postprocess per image at shape (1, 3, 256, 640)\n",
      "\n",
      "0: 256x640 1 battery_plus, 32.4ms\n",
      "Speed: 4.0ms preprocess, 32.4ms inference, 5.0ms postprocess per image at shape (1, 3, 256, 640)\n"
     ]
    },
    {
     "name": "stdout",
     "output_type": "stream",
     "text": [
      "[[351.13543701171875, 134.2729949951172, 107.41839599609375]]\n",
      "[[351.127685546875, 134.19908142089844, 107.35926513671876]]\n",
      "[[351.722900390625, 134.00840759277344, 107.20672607421875]]\n"
     ]
    },
    {
     "name": "stderr",
     "output_type": "stream",
     "text": [
      "\n",
      "0: 256x640 1 battery_plus, 37.7ms\n",
      "Speed: 4.0ms preprocess, 37.7ms inference, 7.1ms postprocess per image at shape (1, 3, 256, 640)\n",
      "\n",
      "0: 256x640 1 battery_plus, 30.2ms\n",
      "Speed: 3.0ms preprocess, 30.2ms inference, 6.0ms postprocess per image at shape (1, 3, 256, 640)\n",
      "\n",
      "0: 256x640 1 battery_plus, 39.0ms\n",
      "Speed: 3.1ms preprocess, 39.0ms inference, 7.1ms postprocess per image at shape (1, 3, 256, 640)\n"
     ]
    },
    {
     "name": "stdout",
     "output_type": "stream",
     "text": [
      "[[351.2118835449219, 134.36341857910156, 107.49073486328126]]\n",
      "[[351.62841796875, 134.03826904296875, 107.23061523437501]]\n",
      "[[351.68121337890625, 134.0065460205078, 107.20523681640626]]\n"
     ]
    },
    {
     "name": "stderr",
     "output_type": "stream",
     "text": [
      "\n",
      "0: 256x640 1 battery_plus, 33.7ms\n",
      "Speed: 3.0ms preprocess, 33.7ms inference, 7.0ms postprocess per image at shape (1, 3, 256, 640)\n",
      "\n",
      "0: 256x640 1 battery_plus, 31.0ms\n",
      "Speed: 4.0ms preprocess, 31.0ms inference, 7.4ms postprocess per image at shape (1, 3, 256, 640)\n",
      "\n",
      "0: 256x640 1 battery_plus, 34.4ms\n",
      "Speed: 4.0ms preprocess, 34.4ms inference, 6.0ms postprocess per image at shape (1, 3, 256, 640)\n"
     ]
    },
    {
     "name": "stdout",
     "output_type": "stream",
     "text": [
      "[[351.6920166015625, 134.0228271484375, 107.21826171875]]\n",
      "[[351.77203369140625, 134.06475830078125, 107.251806640625]]\n"
     ]
    },
    {
     "name": "stderr",
     "output_type": "stream",
     "text": [
      "\n",
      "0: 256x640 1 battery_plus, 34.1ms\n",
      "Speed: 4.0ms preprocess, 34.1ms inference, 6.0ms postprocess per image at shape (1, 3, 256, 640)\n",
      "\n",
      "0: 256x640 1 battery_plus, 37.1ms\n",
      "Speed: 3.0ms preprocess, 37.1ms inference, 6.0ms postprocess per image at shape (1, 3, 256, 640)\n"
     ]
    },
    {
     "name": "stdout",
     "output_type": "stream",
     "text": [
      "[[351.7217102050781, 134.12164306640625, 107.29731445312501]]\n",
      "[[351.6607666015625, 134.11251831054688, 107.2900146484375]]\n",
      "[[351.6376647949219, 134.05587768554688, 107.24470214843751]]\n"
     ]
    },
    {
     "name": "stderr",
     "output_type": "stream",
     "text": [
      "\n",
      "0: 256x640 1 battery_plus, 34.8ms\n",
      "Speed: 5.0ms preprocess, 34.8ms inference, 6.0ms postprocess per image at shape (1, 3, 256, 640)\n",
      "\n",
      "0: 256x640 1 battery_plus, 39.2ms\n",
      "Speed: 4.0ms preprocess, 39.2ms inference, 11.0ms postprocess per image at shape (1, 3, 256, 640)\n",
      "\n",
      "0: 256x640 1 battery_plus, 36.9ms\n"
     ]
    },
    {
     "name": "stdout",
     "output_type": "stream",
     "text": [
      "[[351.65814208984375, 134.08169555664062, 107.2653564453125]]\n",
      "[[351.23187255859375, 134.24851989746094, 107.39881591796876]]\n"
     ]
    },
    {
     "name": "stderr",
     "output_type": "stream",
     "text": [
      "Speed: 4.1ms preprocess, 36.9ms inference, 6.0ms postprocess per image at shape (1, 3, 256, 640)\n",
      "\n",
      "0: 256x640 1 battery_plus, 32.5ms\n",
      "Speed: 5.0ms preprocess, 32.5ms inference, 7.5ms postprocess per image at shape (1, 3, 256, 640)\n",
      "\n",
      "0: 256x640 1 battery_plus, 32.8ms\n",
      "Speed: 3.0ms preprocess, 32.8ms inference, 6.0ms postprocess per image at shape (1, 3, 256, 640)\n"
     ]
    },
    {
     "name": "stdout",
     "output_type": "stream",
     "text": [
      "[[351.6744384765625, 134.01528930664062, 107.21223144531251]]\n",
      "[[351.74456787109375, 134.02462768554688, 107.2197021484375]]\n"
     ]
    },
    {
     "name": "stderr",
     "output_type": "stream",
     "text": [
      "\n",
      "0: 256x640 1 battery_plus, 30.6ms\n",
      "Speed: 5.0ms preprocess, 30.6ms inference, 10.0ms postprocess per image at shape (1, 3, 256, 640)\n",
      "\n",
      "0: 256x640 1 battery_plus, 39.3ms\n"
     ]
    },
    {
     "name": "stdout",
     "output_type": "stream",
     "text": [
      "[[351.7029113769531, 134.04962158203125, 107.23969726562501]]\n",
      "[[351.659423828125, 134.0034637451172, 107.20277099609376]]\n"
     ]
    },
    {
     "name": "stderr",
     "output_type": "stream",
     "text": [
      "Speed: 5.0ms preprocess, 39.3ms inference, 9.2ms postprocess per image at shape (1, 3, 256, 640)\n",
      "\n",
      "0: 256x640 1 battery_plus, 37.2ms\n",
      "Speed: 4.0ms preprocess, 37.2ms inference, 8.0ms postprocess per image at shape (1, 3, 256, 640)\n",
      "\n",
      "0: 256x640 1 battery_plus, 39.1ms\n"
     ]
    },
    {
     "name": "stdout",
     "output_type": "stream",
     "text": [
      "[[351.70330810546875, 134.10092163085938, 107.2807373046875]]\n",
      "[[351.226318359375, 134.2760009765625, 107.42080078125001]]\n"
     ]
    },
    {
     "name": "stderr",
     "output_type": "stream",
     "text": [
      "Speed: 4.0ms preprocess, 39.1ms inference, 7.1ms postprocess per image at shape (1, 3, 256, 640)\n",
      "\n",
      "0: 256x640 1 battery_plus, 37.2ms\n",
      "Speed: 4.0ms preprocess, 37.2ms inference, 7.2ms postprocess per image at shape (1, 3, 256, 640)\n",
      "\n",
      "0: 256x640 1 battery_plus, 35.9ms\n"
     ]
    },
    {
     "name": "stdout",
     "output_type": "stream",
     "text": [
      "[[351.61676025390625, 134.02633666992188, 107.2210693359375]]\n",
      "[[351.6902770996094, 134.11758422851562, 107.2940673828125]]\n"
     ]
    },
    {
     "name": "stderr",
     "output_type": "stream",
     "text": [
      "Speed: 3.9ms preprocess, 35.9ms inference, 5.9ms postprocess per image at shape (1, 3, 256, 640)\n",
      "\n",
      "0: 256x640 1 battery_plus, 31.8ms\n",
      "Speed: 5.0ms preprocess, 31.8ms inference, 7.0ms postprocess per image at shape (1, 3, 256, 640)\n",
      "\n",
      "0: 256x640 1 battery_plus, 36.8ms\n"
     ]
    },
    {
     "name": "stdout",
     "output_type": "stream",
     "text": [
      "[[351.6663818359375, 134.02133178710938, 107.21706542968751]]\n",
      "[[351.648681640625, 134.16903686523438, 107.33522949218751]]\n"
     ]
    },
    {
     "name": "stderr",
     "output_type": "stream",
     "text": [
      "Speed: 3.0ms preprocess, 36.8ms inference, 7.0ms postprocess per image at shape (1, 3, 256, 640)\n",
      "\n",
      "0: 256x640 1 battery_plus, 35.5ms\n",
      "Speed: 4.9ms preprocess, 35.5ms inference, 7.0ms postprocess per image at shape (1, 3, 256, 640)\n",
      "\n",
      "0: 256x640 1 battery_plus, 37.5ms\n",
      "Speed: 4.0ms preprocess, 37.5ms inference, 7.0ms postprocess per image at shape (1, 3, 256, 640)\n"
     ]
    },
    {
     "name": "stdout",
     "output_type": "stream",
     "text": [
      "[[351.24761962890625, 134.2379150390625, 107.39033203125001]]\n",
      "[[351.2448425292969, 134.25845336914062, 107.40676269531251]]\n"
     ]
    },
    {
     "name": "stderr",
     "output_type": "stream",
     "text": [
      "\n",
      "0: 256x640 1 battery_plus, 34.9ms\n",
      "Speed: 5.0ms preprocess, 34.9ms inference, 6.0ms postprocess per image at shape (1, 3, 256, 640)\n",
      "\n",
      "0: 256x640 1 battery_plus, 33.0ms\n",
      "Speed: 3.0ms preprocess, 33.0ms inference, 10.3ms postprocess per image at shape (1, 3, 256, 640)\n"
     ]
    },
    {
     "name": "stdout",
     "output_type": "stream",
     "text": [
      "[[351.6949462890625, 134.05967712402344, 107.24774169921875]]\n",
      "[[351.23541259765625, 134.3113555908203, 107.44908447265625]]\n"
     ]
    },
    {
     "name": "stderr",
     "output_type": "stream",
     "text": [
      "\n",
      "0: 256x640 1 battery_plus, 42.1ms\n",
      "Speed: 4.0ms preprocess, 42.1ms inference, 8.5ms postprocess per image at shape (1, 3, 256, 640)\n",
      "\n"
     ]
    },
    {
     "name": "stdout",
     "output_type": "stream",
     "text": [
      "[[351.24322509765625, 134.30369567871094, 107.44295654296876]]\n",
      "[[351.66998291015625, 134.0444793701172, 107.23558349609375]]\n"
     ]
    },
    {
     "name": "stderr",
     "output_type": "stream",
     "text": [
      "0: 256x640 1 battery_plus, 36.2ms\n",
      "Speed: 5.0ms preprocess, 36.2ms inference, 10.1ms postprocess per image at shape (1, 3, 256, 640)\n",
      "\n",
      "0: 256x640 1 battery_plus, 35.0ms\n",
      "Speed: 4.0ms preprocess, 35.0ms inference, 8.0ms postprocess per image at shape (1, 3, 256, 640)\n",
      "\n"
     ]
    },
    {
     "name": "stdout",
     "output_type": "stream",
     "text": [
      "[[351.274169921875, 134.20010375976562, 107.3600830078125]]\n",
      "[[351.6644287109375, 134.08615112304688, 107.2689208984375]]\n"
     ]
    },
    {
     "name": "stderr",
     "output_type": "stream",
     "text": [
      "0: 256x640 1 battery_plus, 61.3ms\n",
      "Speed: 4.0ms preprocess, 61.3ms inference, 9.1ms postprocess per image at shape (1, 3, 256, 640)\n",
      "\n",
      "0: 256x640 1 battery_plus, 34.0ms\n",
      "Speed: 4.0ms preprocess, 34.0ms inference, 7.1ms postprocess per image at shape (1, 3, 256, 640)\n",
      "\n",
      "0: 256x640 1 battery_plus, 33.3ms\n",
      "Speed: 4.0ms preprocess, 33.3ms inference, 5.0ms postprocess per image at shape (1, 3, 256, 640)\n"
     ]
    },
    {
     "name": "stdout",
     "output_type": "stream",
     "text": [
      "[[351.6563720703125, 134.07855224609375, 107.26284179687501]]\n",
      "[[351.23699951171875, 134.32882690429688, 107.4630615234375]]\n",
      "[[351.69915771484375, 133.98184204101562, 107.1854736328125]]\n"
     ]
    },
    {
     "name": "stderr",
     "output_type": "stream",
     "text": [
      "\n",
      "0: 256x640 1 battery_plus, 30.5ms\n",
      "Speed: 3.0ms preprocess, 30.5ms inference, 6.0ms postprocess per image at shape (1, 3, 256, 640)\n",
      "\n",
      "0: 256x640 1 battery_plus, 35.3ms\n",
      "Speed: 3.0ms preprocess, 35.3ms inference, 6.1ms postprocess per image at shape (1, 3, 256, 640)\n",
      "\n",
      "0: 256x640 1 battery_plus, 26.6ms\n",
      "Speed: 3.8ms preprocess, 26.6ms inference, 9.6ms postprocess per image at shape (1, 3, 256, 640)\n"
     ]
    },
    {
     "name": "stdout",
     "output_type": "stream",
     "text": [
      "[[351.699462890625, 134.0508270263672, 107.24066162109375]]\n",
      "[[351.1221923828125, 134.294921875, 107.43593750000001]]\n",
      "[[351.665283203125, 134.0912322998047, 107.27298583984376]]\n"
     ]
    },
    {
     "name": "stderr",
     "output_type": "stream",
     "text": [
      "\n",
      "0: 256x640 1 battery_plus, 33.7ms\n",
      "Speed: 5.0ms preprocess, 33.7ms inference, 7.0ms postprocess per image at shape (1, 3, 256, 640)\n",
      "\n",
      "0: 256x640 1 battery_plus, 36.0ms\n",
      "Speed: 6.0ms preprocess, 36.0ms inference, 8.0ms postprocess per image at shape (1, 3, 256, 640)\n",
      "\n"
     ]
    },
    {
     "name": "stdout",
     "output_type": "stream",
     "text": [
      "[[351.66644287109375, 134.11264038085938, 107.29011230468751]]\n",
      "[[351.72705078125, 134.08676147460938, 107.2694091796875]]\n"
     ]
    },
    {
     "name": "stderr",
     "output_type": "stream",
     "text": [
      "0: 256x640 1 battery_plus, 40.6ms\n",
      "Speed: 3.7ms preprocess, 40.6ms inference, 10.0ms postprocess per image at shape (1, 3, 256, 640)\n",
      "\n",
      "0: 256x640 1 battery_plus, 37.0ms\n",
      "Speed: 5.7ms preprocess, 37.0ms inference, 7.5ms postprocess per image at shape (1, 3, 256, 640)\n",
      "\n",
      "0: 256x640 1 battery_plus, 35.0ms\n"
     ]
    },
    {
     "name": "stdout",
     "output_type": "stream",
     "text": [
      "[[351.7207336425781, 134.0254364013672, 107.22034912109376]]\n",
      "[[351.65740966796875, 134.063720703125, 107.2509765625]]\n"
     ]
    },
    {
     "name": "stderr",
     "output_type": "stream",
     "text": [
      "Speed: 4.0ms preprocess, 35.0ms inference, 8.0ms postprocess per image at shape (1, 3, 256, 640)\n",
      "\n",
      "0: 256x640 1 battery_plus, 34.1ms\n",
      "Speed: 4.3ms preprocess, 34.1ms inference, 7.0ms postprocess per image at shape (1, 3, 256, 640)\n",
      "\n",
      "0: 256x640 1 battery_plus, 41.9ms\n"
     ]
    },
    {
     "name": "stdout",
     "output_type": "stream",
     "text": [
      "[[351.7547912597656, 134.26290893554688, 107.4103271484375]]\n",
      "[[351.2065734863281, 134.28973388671875, 107.43178710937501]]\n"
     ]
    },
    {
     "name": "stderr",
     "output_type": "stream",
     "text": [
      "Speed: 5.0ms preprocess, 41.9ms inference, 9.3ms postprocess per image at shape (1, 3, 256, 640)\n",
      "\n",
      "0: 256x640 1 battery_plus, 37.3ms\n",
      "Speed: 5.0ms preprocess, 37.3ms inference, 10.4ms postprocess per image at shape (1, 3, 256, 640)\n",
      "\n"
     ]
    },
    {
     "name": "stdout",
     "output_type": "stream",
     "text": [
      "[[351.7042236328125, 134.09902954101562, 107.2792236328125]]\n",
      "[[351.67059326171875, 133.99879455566406, 107.19903564453125]]\n"
     ]
    },
    {
     "name": "stderr",
     "output_type": "stream",
     "text": [
      "0: 256x640 1 battery_plus, 39.1ms\n",
      "Speed: 5.0ms preprocess, 39.1ms inference, 9.1ms postprocess per image at shape (1, 3, 256, 640)\n",
      "\n",
      "0: 256x640 1 battery_plus, 37.8ms\n",
      "Speed: 3.1ms preprocess, 37.8ms inference, 7.0ms postprocess per image at shape (1, 3, 256, 640)\n",
      "\n"
     ]
    },
    {
     "name": "stdout",
     "output_type": "stream",
     "text": [
      "[[351.2062683105469, 134.26861572265625, 107.414892578125]]\n",
      "[[351.72430419921875, 134.0478057861328, 107.23824462890626]]\n"
     ]
    },
    {
     "name": "stderr",
     "output_type": "stream",
     "text": [
      "0: 256x640 1 battery_plus, 34.1ms\n",
      "Speed: 4.0ms preprocess, 34.1ms inference, 7.0ms postprocess per image at shape (1, 3, 256, 640)\n",
      "\n",
      "0: 256x640 1 battery_plus, 34.8ms\n",
      "Speed: 3.0ms preprocess, 34.8ms inference, 6.0ms postprocess per image at shape (1, 3, 256, 640)\n"
     ]
    }
   ],
   "source": [
    "import cv2\n",
    "from ultralytics import YOLO\n",
    "import supervision as sv\n",
    "import numpy as np\n",
    "\n",
    "cap = cv2.VideoCapture(1, cv2.CAP_DSHOW)\n",
    "model = YOLO(\"Battery_1.pt\")\n",
    "\n",
    "bounding_box_annotator = sv.BoundingBoxAnnotator()\n",
    "#label_annotator = sv.LabelAnnotator(text_position=sv.Position.CENTER)\n",
    "percentage_bar_annotator = sv.BoundingBoxAnnotator()\n",
    "\n",
    "while True:\n",
    "    ret, frame = cap.read()\n",
    "    frame=frame[120:370,:]\n",
    "    result = model(frame, agnostic_nms=True)[0]\n",
    "    detections = sv.Detections.from_ultralytics(result)\n",
    "    #print(detections) \n",
    "    coord_center=[]\n",
    "    for i in range (len(detections)):\n",
    "        x=(detections.xyxy[i][0]+detections.xyxy[i][2])/2\n",
    "        y=(detections.xyxy[i][1]+detections.xyxy[i][3])/2\n",
    "        y_mm=200/250*y\n",
    "        coord_center.append([x,y,y_mm])\n",
    "    print(coord_center)\n",
    "        \n",
    "    #frame 250\n",
    "    #conveer 204\n",
    "    coord_center=np.array(coord_center)  \n",
    "    if coord_center.size != 0:\n",
    "        for i in range (len(detections)):\n",
    "            cv2.circle(frame, (int(coord_center[i][0]),int(coord_center[i][1])), 3, (118, 103, 154), 3)\n",
    "    frame = bounding_box_annotator.annotate(\n",
    "        scene=frame,\n",
    "        detections=detections\n",
    "    )\n",
    "\n",
    "    #frame = label_annotator.annotate(\n",
    "    #    scene=frame,\n",
    "    #    detections=detections\n",
    "    #)\n",
    "    frame = percentage_bar_annotator.annotate(\n",
    "        scene=frame,\n",
    "        detections=detections\n",
    "    )\n",
    "    cv2.imshow(\"yolov8\", frame)\n",
    "\n",
    "    if (cv2.waitKey(30) == 27):\n",
    "        break"
   ]
  },
  {
   "cell_type": "code",
   "execution_count": null,
   "id": "c78c5f72",
   "metadata": {},
   "outputs": [],
   "source": []
  }
 ],
 "metadata": {
  "kernelspec": {
   "display_name": "Python 3 (ipykernel)",
   "language": "python",
   "name": "python3"
  },
  "language_info": {
   "codemirror_mode": {
    "name": "ipython",
    "version": 3
   },
   "file_extension": ".py",
   "mimetype": "text/x-python",
   "name": "python",
   "nbconvert_exporter": "python",
   "pygments_lexer": "ipython3",
   "version": "3.9.12"
  }
 },
 "nbformat": 4,
 "nbformat_minor": 5
}
