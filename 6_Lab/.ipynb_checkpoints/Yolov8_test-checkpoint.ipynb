{
 "cells": [
  {
   "cell_type": "code",
   "execution_count": 1,
   "id": "10c9e1fe",
   "metadata": {},
   "outputs": [
    {
     "name": "stderr",
     "output_type": "stream",
     "text": [
      "SupervisionWarnings: BoundingBoxAnnotator is deprecated: `BoundingBoxAnnotator` is deprecated and has been renamed to `BoxAnnotator`. `BoundingBoxAnnotator` will be removed in supervision-0.26.0.\n",
      "SupervisionWarnings: BoundingBoxAnnotator is deprecated: `BoundingBoxAnnotator` is deprecated and has been renamed to `BoxAnnotator`. `BoundingBoxAnnotator` will be removed in supervision-0.26.0.\n",
      "Using TensorFlow backend.\n",
      "UserWarning: Pandas requires version '2.8.4' or newer of 'numexpr' (version '2.8.1' currently installed).\n",
      "UserWarning: Pandas requires version '1.3.6' or newer of 'bottleneck' (version '1.3.4' currently installed).\n",
      "\n",
      "0: 480x640 (no detections), 53.7ms\n",
      "Speed: 3.0ms preprocess, 53.7ms inference, 30.3ms postprocess per image at shape (1, 3, 480, 640)\n",
      "\n",
      "0: 480x640 (no detections), 18.8ms\n",
      "Speed: 10.5ms preprocess, 18.8ms inference, 1.9ms postprocess per image at shape (1, 3, 480, 640)\n",
      "\n",
      "0: 480x640 (no detections), 16.4ms\n"
     ]
    },
    {
     "name": "stdout",
     "output_type": "stream",
     "text": [
      "Detections(xyxy=array([], shape=(0, 4), dtype=float32), mask=None, confidence=array([], dtype=float32), class_id=array([], dtype=int32), tracker_id=None, data={'class_name': array([], dtype=float64)})\n",
      "Detections(xyxy=array([], shape=(0, 4), dtype=float32), mask=None, confidence=array([], dtype=float32), class_id=array([], dtype=int32), tracker_id=None, data={'class_name': array([], dtype=float64)})\n"
     ]
    },
    {
     "name": "stderr",
     "output_type": "stream",
     "text": [
      "Speed: 4.3ms preprocess, 16.4ms inference, 5.6ms postprocess per image at shape (1, 3, 480, 640)\n",
      "\n",
      "0: 480x640 (no detections), 19.8ms\n",
      "Speed: 3.4ms preprocess, 19.8ms inference, 1.6ms postprocess per image at shape (1, 3, 480, 640)\n",
      "\n",
      "0: 480x640 (no detections), 18.5ms\n",
      "Speed: 5.0ms preprocess, 18.5ms inference, 0.0ms postprocess per image at shape (1, 3, 480, 640)\n"
     ]
    },
    {
     "name": "stdout",
     "output_type": "stream",
     "text": [
      "Detections(xyxy=array([], shape=(0, 4), dtype=float32), mask=None, confidence=array([], dtype=float32), class_id=array([], dtype=int32), tracker_id=None, data={'class_name': array([], dtype=float64)})\n",
      "Detections(xyxy=array([], shape=(0, 4), dtype=float32), mask=None, confidence=array([], dtype=float32), class_id=array([], dtype=int32), tracker_id=None, data={'class_name': array([], dtype=float64)})\n",
      "Detections(xyxy=array([], shape=(0, 4), dtype=float32), mask=None, confidence=array([], dtype=float32), class_id=array([], dtype=int32), tracker_id=None, data={'class_name': array([], dtype=float64)})\n"
     ]
    },
    {
     "name": "stderr",
     "output_type": "stream",
     "text": [
      "\n",
      "0: 480x640 (no detections), 18.4ms\n",
      "Speed: 5.0ms preprocess, 18.4ms inference, 0.0ms postprocess per image at shape (1, 3, 480, 640)\n",
      "\n",
      "0: 480x640 (no detections), 20.1ms\n",
      "Speed: 3.6ms preprocess, 20.1ms inference, 0.0ms postprocess per image at shape (1, 3, 480, 640)\n",
      "\n",
      "0: 480x640 (no detections), 14.9ms\n",
      "Speed: 4.8ms preprocess, 14.9ms inference, 0.0ms postprocess per image at shape (1, 3, 480, 640)\n",
      "\n"
     ]
    },
    {
     "name": "stdout",
     "output_type": "stream",
     "text": [
      "Detections(xyxy=array([], shape=(0, 4), dtype=float32), mask=None, confidence=array([], dtype=float32), class_id=array([], dtype=int32), tracker_id=None, data={'class_name': array([], dtype=float64)})\n",
      "Detections(xyxy=array([], shape=(0, 4), dtype=float32), mask=None, confidence=array([], dtype=float32), class_id=array([], dtype=int32), tracker_id=None, data={'class_name': array([], dtype=float64)})\n",
      "Detections(xyxy=array([], shape=(0, 4), dtype=float32), mask=None, confidence=array([], dtype=float32), class_id=array([], dtype=int32), tracker_id=None, data={'class_name': array([], dtype=float64)})\n"
     ]
    },
    {
     "name": "stderr",
     "output_type": "stream",
     "text": [
      "0: 480x640 (no detections), 9.5ms\n",
      "Speed: 3.1ms preprocess, 9.5ms inference, 12.2ms postprocess per image at shape (1, 3, 480, 640)\n",
      "\n",
      "0: 480x640 (no detections), 17.9ms\n",
      "Speed: 5.2ms preprocess, 17.9ms inference, 3.1ms postprocess per image at shape (1, 3, 480, 640)\n",
      "\n",
      "0: 480x640 (no detections), 15.4ms\n",
      "Speed: 5.4ms preprocess, 15.4ms inference, 0.0ms postprocess per image at shape (1, 3, 480, 640)\n",
      "\n"
     ]
    },
    {
     "name": "stdout",
     "output_type": "stream",
     "text": [
      "Detections(xyxy=array([], shape=(0, 4), dtype=float32), mask=None, confidence=array([], dtype=float32), class_id=array([], dtype=int32), tracker_id=None, data={'class_name': array([], dtype=float64)})\n",
      "Detections(xyxy=array([], shape=(0, 4), dtype=float32), mask=None, confidence=array([], dtype=float32), class_id=array([], dtype=int32), tracker_id=None, data={'class_name': array([], dtype=float64)})\n",
      "Detections(xyxy=array([], shape=(0, 4), dtype=float32), mask=None, confidence=array([], dtype=float32), class_id=array([], dtype=int32), tracker_id=None, data={'class_name': array([], dtype=float64)})\n"
     ]
    },
    {
     "name": "stderr",
     "output_type": "stream",
     "text": [
      "0: 480x640 (no detections), 14.1ms\n",
      "Speed: 4.0ms preprocess, 14.1ms inference, 0.0ms postprocess per image at shape (1, 3, 480, 640)\n",
      "\n",
      "0: 480x640 (no detections), 19.6ms\n",
      "Speed: 3.9ms preprocess, 19.6ms inference, 0.0ms postprocess per image at shape (1, 3, 480, 640)\n",
      "\n",
      "0: 480x640 (no detections), 14.2ms\n",
      "Speed: 4.3ms preprocess, 14.2ms inference, 0.0ms postprocess per image at shape (1, 3, 480, 640)\n",
      "\n"
     ]
    },
    {
     "name": "stdout",
     "output_type": "stream",
     "text": [
      "Detections(xyxy=array([], shape=(0, 4), dtype=float32), mask=None, confidence=array([], dtype=float32), class_id=array([], dtype=int32), tracker_id=None, data={'class_name': array([], dtype=float64)})\n",
      "Detections(xyxy=array([], shape=(0, 4), dtype=float32), mask=None, confidence=array([], dtype=float32), class_id=array([], dtype=int32), tracker_id=None, data={'class_name': array([], dtype=float64)})\n",
      "Detections(xyxy=array([], shape=(0, 4), dtype=float32), mask=None, confidence=array([], dtype=float32), class_id=array([], dtype=int32), tracker_id=None, data={'class_name': array([], dtype=float64)})\n"
     ]
    },
    {
     "name": "stderr",
     "output_type": "stream",
     "text": [
      "0: 480x640 (no detections), 15.6ms\n",
      "Speed: 5.6ms preprocess, 15.6ms inference, 7.4ms postprocess per image at shape (1, 3, 480, 640)\n",
      "\n",
      "0: 480x640 (no detections), 16.2ms\n",
      "Speed: 4.1ms preprocess, 16.2ms inference, 0.0ms postprocess per image at shape (1, 3, 480, 640)\n",
      "\n",
      "0: 480x640 (no detections), 20.8ms\n",
      "Speed: 2.2ms preprocess, 20.8ms inference, 2.7ms postprocess per image at shape (1, 3, 480, 640)\n"
     ]
    },
    {
     "name": "stdout",
     "output_type": "stream",
     "text": [
      "Detections(xyxy=array([], shape=(0, 4), dtype=float32), mask=None, confidence=array([], dtype=float32), class_id=array([], dtype=int32), tracker_id=None, data={'class_name': array([], dtype=float64)})\n",
      "Detections(xyxy=array([], shape=(0, 4), dtype=float32), mask=None, confidence=array([], dtype=float32), class_id=array([], dtype=int32), tracker_id=None, data={'class_name': array([], dtype=float64)})\n",
      "Detections(xyxy=array([], shape=(0, 4), dtype=float32), mask=None, confidence=array([], dtype=float32), class_id=array([], dtype=int32), tracker_id=None, data={'class_name': array([], dtype=float64)})\n"
     ]
    },
    {
     "name": "stderr",
     "output_type": "stream",
     "text": [
      "\n",
      "0: 480x640 (no detections), 23.7ms\n",
      "Speed: 0.0ms preprocess, 23.7ms inference, 2.6ms postprocess per image at shape (1, 3, 480, 640)\n",
      "\n",
      "0: 480x640 (no detections), 18.9ms\n",
      "Speed: 2.8ms preprocess, 18.9ms inference, 0.0ms postprocess per image at shape (1, 3, 480, 640)\n",
      "\n",
      "0: 480x640 (no detections), 14.7ms\n",
      "Speed: 4.1ms preprocess, 14.7ms inference, 0.0ms postprocess per image at shape (1, 3, 480, 640)\n",
      "\n"
     ]
    },
    {
     "name": "stdout",
     "output_type": "stream",
     "text": [
      "Detections(xyxy=array([], shape=(0, 4), dtype=float32), mask=None, confidence=array([], dtype=float32), class_id=array([], dtype=int32), tracker_id=None, data={'class_name': array([], dtype=float64)})\n",
      "Detections(xyxy=array([], shape=(0, 4), dtype=float32), mask=None, confidence=array([], dtype=float32), class_id=array([], dtype=int32), tracker_id=None, data={'class_name': array([], dtype=float64)})\n",
      "Detections(xyxy=array([], shape=(0, 4), dtype=float32), mask=None, confidence=array([], dtype=float32), class_id=array([], dtype=int32), tracker_id=None, data={'class_name': array([], dtype=float64)})\n"
     ]
    },
    {
     "name": "stderr",
     "output_type": "stream",
     "text": [
      "0: 480x640 (no detections), 14.0ms\n",
      "Speed: 5.4ms preprocess, 14.0ms inference, 0.0ms postprocess per image at shape (1, 3, 480, 640)\n",
      "\n",
      "0: 480x640 (no detections), 17.5ms\n",
      "Speed: 0.0ms preprocess, 17.5ms inference, 9.4ms postprocess per image at shape (1, 3, 480, 640)\n",
      "\n",
      "0: 480x640 (no detections), 10.9ms\n",
      "Speed: 4.7ms preprocess, 10.9ms inference, 11.7ms postprocess per image at shape (1, 3, 480, 640)\n",
      "\n"
     ]
    },
    {
     "name": "stdout",
     "output_type": "stream",
     "text": [
      "Detections(xyxy=array([], shape=(0, 4), dtype=float32), mask=None, confidence=array([], dtype=float32), class_id=array([], dtype=int32), tracker_id=None, data={'class_name': array([], dtype=float64)})\n",
      "Detections(xyxy=array([], shape=(0, 4), dtype=float32), mask=None, confidence=array([], dtype=float32), class_id=array([], dtype=int32), tracker_id=None, data={'class_name': array([], dtype=float64)})\n",
      "Detections(xyxy=array([], shape=(0, 4), dtype=float32), mask=None, confidence=array([], dtype=float32), class_id=array([], dtype=int32), tracker_id=None, data={'class_name': array([], dtype=float64)})\n"
     ]
    },
    {
     "name": "stderr",
     "output_type": "stream",
     "text": [
      "0: 480x640 (no detections), 17.3ms\n",
      "Speed: 2.7ms preprocess, 17.3ms inference, 0.0ms postprocess per image at shape (1, 3, 480, 640)\n",
      "\n",
      "0: 480x640 (no detections), 25.1ms\n",
      "Speed: 0.0ms preprocess, 25.1ms inference, 2.2ms postprocess per image at shape (1, 3, 480, 640)\n",
      "\n",
      "0: 480x640 (no detections), 13.0ms\n",
      "Speed: 2.5ms preprocess, 13.0ms inference, 10.0ms postprocess per image at shape (1, 3, 480, 640)\n",
      "\n"
     ]
    },
    {
     "name": "stdout",
     "output_type": "stream",
     "text": [
      "Detections(xyxy=array([], shape=(0, 4), dtype=float32), mask=None, confidence=array([], dtype=float32), class_id=array([], dtype=int32), tracker_id=None, data={'class_name': array([], dtype=float64)})\n",
      "Detections(xyxy=array([], shape=(0, 4), dtype=float32), mask=None, confidence=array([], dtype=float32), class_id=array([], dtype=int32), tracker_id=None, data={'class_name': array([], dtype=float64)})\n",
      "Detections(xyxy=array([], shape=(0, 4), dtype=float32), mask=None, confidence=array([], dtype=float32), class_id=array([], dtype=int32), tracker_id=None, data={'class_name': array([], dtype=float64)})\n"
     ]
    },
    {
     "name": "stderr",
     "output_type": "stream",
     "text": [
      "0: 480x640 (no detections), 18.6ms\n",
      "Speed: 5.2ms preprocess, 18.6ms inference, 4.1ms postprocess per image at shape (1, 3, 480, 640)\n",
      "\n",
      "0: 480x640 (no detections), 14.9ms\n",
      "Speed: 4.0ms preprocess, 14.9ms inference, 0.0ms postprocess per image at shape (1, 3, 480, 640)\n",
      "\n",
      "0: 480x640 (no detections), 20.5ms\n",
      "Speed: 4.7ms preprocess, 20.5ms inference, 3.3ms postprocess per image at shape (1, 3, 480, 640)\n",
      "\n"
     ]
    },
    {
     "name": "stdout",
     "output_type": "stream",
     "text": [
      "Detections(xyxy=array([], shape=(0, 4), dtype=float32), mask=None, confidence=array([], dtype=float32), class_id=array([], dtype=int32), tracker_id=None, data={'class_name': array([], dtype=float64)})\n",
      "Detections(xyxy=array([], shape=(0, 4), dtype=float32), mask=None, confidence=array([], dtype=float32), class_id=array([], dtype=int32), tracker_id=None, data={'class_name': array([], dtype=float64)})\n",
      "Detections(xyxy=array([], shape=(0, 4), dtype=float32), mask=None, confidence=array([], dtype=float32), class_id=array([], dtype=int32), tracker_id=None, data={'class_name': array([], dtype=float64)})\n"
     ]
    },
    {
     "name": "stderr",
     "output_type": "stream",
     "text": [
      "0: 480x640 (no detections), 18.9ms\n",
      "Speed: 4.6ms preprocess, 18.9ms inference, 0.0ms postprocess per image at shape (1, 3, 480, 640)\n",
      "\n",
      "0: 480x640 (no detections), 13.9ms\n",
      "Speed: 4.6ms preprocess, 13.9ms inference, 0.0ms postprocess per image at shape (1, 3, 480, 640)\n",
      "\n",
      "0: 480x640 (no detections), 17.4ms\n",
      "Speed: 3.8ms preprocess, 17.4ms inference, 0.0ms postprocess per image at shape (1, 3, 480, 640)\n",
      "\n"
     ]
    },
    {
     "name": "stdout",
     "output_type": "stream",
     "text": [
      "Detections(xyxy=array([], shape=(0, 4), dtype=float32), mask=None, confidence=array([], dtype=float32), class_id=array([], dtype=int32), tracker_id=None, data={'class_name': array([], dtype=float64)})\n",
      "Detections(xyxy=array([], shape=(0, 4), dtype=float32), mask=None, confidence=array([], dtype=float32), class_id=array([], dtype=int32), tracker_id=None, data={'class_name': array([], dtype=float64)})\n",
      "Detections(xyxy=array([], shape=(0, 4), dtype=float32), mask=None, confidence=array([], dtype=float32), class_id=array([], dtype=int32), tracker_id=None, data={'class_name': array([], dtype=float64)})\n"
     ]
    },
    {
     "name": "stderr",
     "output_type": "stream",
     "text": [
      "0: 480x640 (no detections), 10.5ms\n",
      "Speed: 4.9ms preprocess, 10.5ms inference, 12.1ms postprocess per image at shape (1, 3, 480, 640)\n",
      "\n",
      "0: 480x640 (no detections), 16.7ms\n",
      "Speed: 3.4ms preprocess, 16.7ms inference, 0.0ms postprocess per image at shape (1, 3, 480, 640)\n",
      "\n",
      "0: 480x640 (no detections), 11.8ms\n",
      "Speed: 5.1ms preprocess, 11.8ms inference, 11.1ms postprocess per image at shape (1, 3, 480, 640)\n"
     ]
    },
    {
     "name": "stdout",
     "output_type": "stream",
     "text": [
      "Detections(xyxy=array([], shape=(0, 4), dtype=float32), mask=None, confidence=array([], dtype=float32), class_id=array([], dtype=int32), tracker_id=None, data={'class_name': array([], dtype=float64)})\n",
      "Detections(xyxy=array([], shape=(0, 4), dtype=float32), mask=None, confidence=array([], dtype=float32), class_id=array([], dtype=int32), tracker_id=None, data={'class_name': array([], dtype=float64)})\n",
      "Detections(xyxy=array([], shape=(0, 4), dtype=float32), mask=None, confidence=array([], dtype=float32), class_id=array([], dtype=int32), tracker_id=None, data={'class_name': array([], dtype=float64)})\n"
     ]
    },
    {
     "name": "stderr",
     "output_type": "stream",
     "text": [
      "\n",
      "0: 480x640 (no detections), 16.7ms\n",
      "Speed: 5.7ms preprocess, 16.7ms inference, 5.4ms postprocess per image at shape (1, 3, 480, 640)\n",
      "\n",
      "0: 480x640 (no detections), 14.4ms\n",
      "Speed: 4.4ms preprocess, 14.4ms inference, 0.0ms postprocess per image at shape (1, 3, 480, 640)\n",
      "\n",
      "0: 480x640 (no detections), 14.3ms\n",
      "Speed: 4.8ms preprocess, 14.3ms inference, 0.0ms postprocess per image at shape (1, 3, 480, 640)\n",
      "\n"
     ]
    },
    {
     "name": "stdout",
     "output_type": "stream",
     "text": [
      "Detections(xyxy=array([], shape=(0, 4), dtype=float32), mask=None, confidence=array([], dtype=float32), class_id=array([], dtype=int32), tracker_id=None, data={'class_name': array([], dtype=float64)})\n",
      "Detections(xyxy=array([], shape=(0, 4), dtype=float32), mask=None, confidence=array([], dtype=float32), class_id=array([], dtype=int32), tracker_id=None, data={'class_name': array([], dtype=float64)})\n",
      "Detections(xyxy=array([], shape=(0, 4), dtype=float32), mask=None, confidence=array([], dtype=float32), class_id=array([], dtype=int32), tracker_id=None, data={'class_name': array([], dtype=float64)})\n"
     ]
    },
    {
     "name": "stderr",
     "output_type": "stream",
     "text": [
      "0: 480x640 (no detections), 13.4ms\n",
      "Speed: 4.8ms preprocess, 13.4ms inference, 0.0ms postprocess per image at shape (1, 3, 480, 640)\n",
      "\n",
      "0: 480x640 (no detections), 17.9ms\n",
      "Speed: 3.6ms preprocess, 17.9ms inference, 0.0ms postprocess per image at shape (1, 3, 480, 640)\n",
      "\n",
      "0: 480x640 (no detections), 17.9ms\n",
      "Speed: 0.0ms preprocess, 17.9ms inference, 8.1ms postprocess per image at shape (1, 3, 480, 640)\n",
      "\n"
     ]
    },
    {
     "name": "stdout",
     "output_type": "stream",
     "text": [
      "Detections(xyxy=array([], shape=(0, 4), dtype=float32), mask=None, confidence=array([], dtype=float32), class_id=array([], dtype=int32), tracker_id=None, data={'class_name': array([], dtype=float64)})\n",
      "Detections(xyxy=array([], shape=(0, 4), dtype=float32), mask=None, confidence=array([], dtype=float32), class_id=array([], dtype=int32), tracker_id=None, data={'class_name': array([], dtype=float64)})\n",
      "Detections(xyxy=array([], shape=(0, 4), dtype=float32), mask=None, confidence=array([], dtype=float32), class_id=array([], dtype=int32), tracker_id=None, data={'class_name': array([], dtype=float64)})\n"
     ]
    },
    {
     "name": "stderr",
     "output_type": "stream",
     "text": [
      "0: 480x640 (no detections), 9.0ms\n",
      "Speed: 3.9ms preprocess, 9.0ms inference, 12.7ms postprocess per image at shape (1, 3, 480, 640)\n",
      "\n",
      "0: 480x640 (no detections), 14.4ms\n",
      "Speed: 5.5ms preprocess, 14.4ms inference, 0.0ms postprocess per image at shape (1, 3, 480, 640)\n",
      "\n",
      "0: 480x640 (no detections), 16.5ms\n",
      "Speed: 4.3ms preprocess, 16.5ms inference, 0.0ms postprocess per image at shape (1, 3, 480, 640)\n"
     ]
    },
    {
     "name": "stdout",
     "output_type": "stream",
     "text": [
      "Detections(xyxy=array([], shape=(0, 4), dtype=float32), mask=None, confidence=array([], dtype=float32), class_id=array([], dtype=int32), tracker_id=None, data={'class_name': array([], dtype=float64)})\n",
      "Detections(xyxy=array([], shape=(0, 4), dtype=float32), mask=None, confidence=array([], dtype=float32), class_id=array([], dtype=int32), tracker_id=None, data={'class_name': array([], dtype=float64)})\n",
      "Detections(xyxy=array([], shape=(0, 4), dtype=float32), mask=None, confidence=array([], dtype=float32), class_id=array([], dtype=int32), tracker_id=None, data={'class_name': array([], dtype=float64)})\n"
     ]
    },
    {
     "name": "stderr",
     "output_type": "stream",
     "text": [
      "\n",
      "0: 480x640 (no detections), 16.9ms\n",
      "Speed: 0.0ms preprocess, 16.9ms inference, 9.2ms postprocess per image at shape (1, 3, 480, 640)\n",
      "\n",
      "0: 480x640 (no detections), 17.8ms\n",
      "Speed: 3.1ms preprocess, 17.8ms inference, 0.0ms postprocess per image at shape (1, 3, 480, 640)\n",
      "\n",
      "0: 480x640 (no detections), 21.2ms\n",
      "Speed: 4.6ms preprocess, 21.2ms inference, 2.2ms postprocess per image at shape (1, 3, 480, 640)\n",
      "\n"
     ]
    },
    {
     "name": "stdout",
     "output_type": "stream",
     "text": [
      "Detections(xyxy=array([], shape=(0, 4), dtype=float32), mask=None, confidence=array([], dtype=float32), class_id=array([], dtype=int32), tracker_id=None, data={'class_name': array([], dtype=float64)})\n",
      "Detections(xyxy=array([], shape=(0, 4), dtype=float32), mask=None, confidence=array([], dtype=float32), class_id=array([], dtype=int32), tracker_id=None, data={'class_name': array([], dtype=float64)})\n",
      "Detections(xyxy=array([], shape=(0, 4), dtype=float32), mask=None, confidence=array([], dtype=float32), class_id=array([], dtype=int32), tracker_id=None, data={'class_name': array([], dtype=float64)})\n"
     ]
    },
    {
     "name": "stderr",
     "output_type": "stream",
     "text": [
      "0: 480x640 (no detections), 25.5ms\n",
      "Speed: 0.0ms preprocess, 25.5ms inference, 3.6ms postprocess per image at shape (1, 3, 480, 640)\n",
      "\n",
      "0: 480x640 (no detections), 20.0ms\n",
      "Speed: 3.5ms preprocess, 20.0ms inference, 0.0ms postprocess per image at shape (1, 3, 480, 640)\n",
      "\n",
      "0: 480x640 (no detections), 16.9ms\n",
      "Speed: 5.0ms preprocess, 16.9ms inference, 5.5ms postprocess per image at shape (1, 3, 480, 640)\n",
      "\n"
     ]
    },
    {
     "name": "stdout",
     "output_type": "stream",
     "text": [
      "Detections(xyxy=array([], shape=(0, 4), dtype=float32), mask=None, confidence=array([], dtype=float32), class_id=array([], dtype=int32), tracker_id=None, data={'class_name': array([], dtype=float64)})\n",
      "Detections(xyxy=array([], shape=(0, 4), dtype=float32), mask=None, confidence=array([], dtype=float32), class_id=array([], dtype=int32), tracker_id=None, data={'class_name': array([], dtype=float64)})\n",
      "Detections(xyxy=array([], shape=(0, 4), dtype=float32), mask=None, confidence=array([], dtype=float32), class_id=array([], dtype=int32), tracker_id=None, data={'class_name': array([], dtype=float64)})\n"
     ]
    },
    {
     "name": "stderr",
     "output_type": "stream",
     "text": [
      "0: 480x640 (no detections), 14.5ms\n",
      "Speed: 5.2ms preprocess, 14.5ms inference, 0.0ms postprocess per image at shape (1, 3, 480, 640)\n",
      "\n",
      "0: 480x640 (no detections), 12.7ms\n",
      "Speed: 3.9ms preprocess, 12.7ms inference, 8.7ms postprocess per image at shape (1, 3, 480, 640)\n",
      "\n",
      "0: 480x640 (no detections), 20.1ms\n",
      "Speed: 0.0ms preprocess, 20.1ms inference, 0.0ms postprocess per image at shape (1, 3, 480, 640)\n"
     ]
    },
    {
     "name": "stdout",
     "output_type": "stream",
     "text": [
      "Detections(xyxy=array([], shape=(0, 4), dtype=float32), mask=None, confidence=array([], dtype=float32), class_id=array([], dtype=int32), tracker_id=None, data={'class_name': array([], dtype=float64)})\n",
      "Detections(xyxy=array([], shape=(0, 4), dtype=float32), mask=None, confidence=array([], dtype=float32), class_id=array([], dtype=int32), tracker_id=None, data={'class_name': array([], dtype=float64)})\n",
      "Detections(xyxy=array([], shape=(0, 4), dtype=float32), mask=None, confidence=array([], dtype=float32), class_id=array([], dtype=int32), tracker_id=None, data={'class_name': array([], dtype=float64)})\n"
     ]
    },
    {
     "name": "stderr",
     "output_type": "stream",
     "text": [
      "\n",
      "0: 480x640 (no detections), 16.2ms\n",
      "Speed: 1.0ms preprocess, 16.2ms inference, 0.0ms postprocess per image at shape (1, 3, 480, 640)\n",
      "\n",
      "0: 480x640 (no detections), 15.4ms\n",
      "Speed: 0.0ms preprocess, 15.4ms inference, 0.0ms postprocess per image at shape (1, 3, 480, 640)\n",
      "\n",
      "0: 480x640 (no detections), 21.0ms\n",
      "Speed: 0.0ms preprocess, 21.0ms inference, 0.0ms postprocess per image at shape (1, 3, 480, 640)\n"
     ]
    },
    {
     "name": "stdout",
     "output_type": "stream",
     "text": [
      "Detections(xyxy=array([], shape=(0, 4), dtype=float32), mask=None, confidence=array([], dtype=float32), class_id=array([], dtype=int32), tracker_id=None, data={'class_name': array([], dtype=float64)})\n",
      "Detections(xyxy=array([], shape=(0, 4), dtype=float32), mask=None, confidence=array([], dtype=float32), class_id=array([], dtype=int32), tracker_id=None, data={'class_name': array([], dtype=float64)})\n",
      "Detections(xyxy=array([], shape=(0, 4), dtype=float32), mask=None, confidence=array([], dtype=float32), class_id=array([], dtype=int32), tracker_id=None, data={'class_name': array([], dtype=float64)})\n"
     ]
    },
    {
     "name": "stderr",
     "output_type": "stream",
     "text": [
      "\n",
      "0: 480x640 (no detections), 14.2ms\n",
      "Speed: 2.7ms preprocess, 14.2ms inference, 0.0ms postprocess per image at shape (1, 3, 480, 640)\n",
      "\n",
      "0: 480x640 (no detections), 15.6ms\n",
      "Speed: 0.0ms preprocess, 15.6ms inference, 0.0ms postprocess per image at shape (1, 3, 480, 640)\n",
      "\n",
      "0: 480x640 (no detections), 14.4ms\n",
      "Speed: 2.0ms preprocess, 14.4ms inference, 0.0ms postprocess per image at shape (1, 3, 480, 640)\n"
     ]
    },
    {
     "name": "stdout",
     "output_type": "stream",
     "text": [
      "Detections(xyxy=array([], shape=(0, 4), dtype=float32), mask=None, confidence=array([], dtype=float32), class_id=array([], dtype=int32), tracker_id=None, data={'class_name': array([], dtype=float64)})\n",
      "Detections(xyxy=array([], shape=(0, 4), dtype=float32), mask=None, confidence=array([], dtype=float32), class_id=array([], dtype=int32), tracker_id=None, data={'class_name': array([], dtype=float64)})\n",
      "Detections(xyxy=array([], shape=(0, 4), dtype=float32), mask=None, confidence=array([], dtype=float32), class_id=array([], dtype=int32), tracker_id=None, data={'class_name': array([], dtype=float64)})\n"
     ]
    },
    {
     "name": "stderr",
     "output_type": "stream",
     "text": [
      "\n",
      "0: 480x640 (no detections), 23.5ms\n",
      "Speed: 0.0ms preprocess, 23.5ms inference, 2.5ms postprocess per image at shape (1, 3, 480, 640)\n",
      "\n",
      "0: 480x640 (no detections), 13.3ms\n",
      "Speed: 0.0ms preprocess, 13.3ms inference, 12.7ms postprocess per image at shape (1, 3, 480, 640)\n",
      "\n",
      "0: 480x640 (no detections), 20.1ms\n",
      "Speed: 5.5ms preprocess, 20.1ms inference, 1.0ms postprocess per image at shape (1, 3, 480, 640)\n",
      "\n"
     ]
    },
    {
     "name": "stdout",
     "output_type": "stream",
     "text": [
      "Detections(xyxy=array([], shape=(0, 4), dtype=float32), mask=None, confidence=array([], dtype=float32), class_id=array([], dtype=int32), tracker_id=None, data={'class_name': array([], dtype=float64)})\n",
      "Detections(xyxy=array([], shape=(0, 4), dtype=float32), mask=None, confidence=array([], dtype=float32), class_id=array([], dtype=int32), tracker_id=None, data={'class_name': array([], dtype=float64)})\n",
      "Detections(xyxy=array([], shape=(0, 4), dtype=float32), mask=None, confidence=array([], dtype=float32), class_id=array([], dtype=int32), tracker_id=None, data={'class_name': array([], dtype=float64)})\n"
     ]
    },
    {
     "name": "stderr",
     "output_type": "stream",
     "text": [
      "0: 480x640 (no detections), 16.4ms\n",
      "Speed: 2.9ms preprocess, 16.4ms inference, 0.0ms postprocess per image at shape (1, 3, 480, 640)\n",
      "\n",
      "0: 480x640 (no detections), 17.1ms\n",
      "Speed: 3.2ms preprocess, 17.1ms inference, 0.0ms postprocess per image at shape (1, 3, 480, 640)\n",
      "\n",
      "0: 480x640 (no detections), 11.0ms\n",
      "Speed: 3.9ms preprocess, 11.0ms inference, 12.6ms postprocess per image at shape (1, 3, 480, 640)\n"
     ]
    },
    {
     "name": "stdout",
     "output_type": "stream",
     "text": [
      "Detections(xyxy=array([], shape=(0, 4), dtype=float32), mask=None, confidence=array([], dtype=float32), class_id=array([], dtype=int32), tracker_id=None, data={'class_name': array([], dtype=float64)})\n",
      "Detections(xyxy=array([], shape=(0, 4), dtype=float32), mask=None, confidence=array([], dtype=float32), class_id=array([], dtype=int32), tracker_id=None, data={'class_name': array([], dtype=float64)})\n",
      "Detections(xyxy=array([], shape=(0, 4), dtype=float32), mask=None, confidence=array([], dtype=float32), class_id=array([], dtype=int32), tracker_id=None, data={'class_name': array([], dtype=float64)})\n"
     ]
    },
    {
     "name": "stderr",
     "output_type": "stream",
     "text": [
      "\n",
      "0: 480x640 (no detections), 15.1ms\n",
      "Speed: 2.0ms preprocess, 15.1ms inference, 8.0ms postprocess per image at shape (1, 3, 480, 640)\n",
      "\n",
      "0: 480x640 (no detections), 19.7ms\n",
      "Speed: 3.1ms preprocess, 19.7ms inference, 1.0ms postprocess per image at shape (1, 3, 480, 640)\n",
      "\n",
      "0: 480x640 (no detections), 13.6ms\n",
      "Speed: 4.3ms preprocess, 13.6ms inference, 0.0ms postprocess per image at shape (1, 3, 480, 640)\n"
     ]
    },
    {
     "name": "stdout",
     "output_type": "stream",
     "text": [
      "Detections(xyxy=array([], shape=(0, 4), dtype=float32), mask=None, confidence=array([], dtype=float32), class_id=array([], dtype=int32), tracker_id=None, data={'class_name': array([], dtype=float64)})\n",
      "Detections(xyxy=array([], shape=(0, 4), dtype=float32), mask=None, confidence=array([], dtype=float32), class_id=array([], dtype=int32), tracker_id=None, data={'class_name': array([], dtype=float64)})\n",
      "Detections(xyxy=array([], shape=(0, 4), dtype=float32), mask=None, confidence=array([], dtype=float32), class_id=array([], dtype=int32), tracker_id=None, data={'class_name': array([], dtype=float64)})\n"
     ]
    },
    {
     "name": "stderr",
     "output_type": "stream",
     "text": [
      "\n",
      "0: 480x640 (no detections), 16.4ms\n",
      "Speed: 2.6ms preprocess, 16.4ms inference, 0.0ms postprocess per image at shape (1, 3, 480, 640)\n",
      "\n",
      "0: 480x640 (no detections), 15.0ms\n",
      "Speed: 3.9ms preprocess, 15.0ms inference, 7.6ms postprocess per image at shape (1, 3, 480, 640)\n",
      "\n",
      "0: 480x640 (no detections), 12.6ms\n",
      "Speed: 1.4ms preprocess, 12.6ms inference, 0.0ms postprocess per image at shape (1, 3, 480, 640)\n"
     ]
    },
    {
     "name": "stdout",
     "output_type": "stream",
     "text": [
      "Detections(xyxy=array([], shape=(0, 4), dtype=float32), mask=None, confidence=array([], dtype=float32), class_id=array([], dtype=int32), tracker_id=None, data={'class_name': array([], dtype=float64)})\n",
      "Detections(xyxy=array([], shape=(0, 4), dtype=float32), mask=None, confidence=array([], dtype=float32), class_id=array([], dtype=int32), tracker_id=None, data={'class_name': array([], dtype=float64)})\n",
      "Detections(xyxy=array([], shape=(0, 4), dtype=float32), mask=None, confidence=array([], dtype=float32), class_id=array([], dtype=int32), tracker_id=None, data={'class_name': array([], dtype=float64)})\n"
     ]
    },
    {
     "name": "stderr",
     "output_type": "stream",
     "text": [
      "\n",
      "0: 480x640 (no detections), 19.5ms\n",
      "Speed: 0.0ms preprocess, 19.5ms inference, 0.0ms postprocess per image at shape (1, 3, 480, 640)\n",
      "\n",
      "0: 480x640 (no detections), 13.6ms\n",
      "Speed: 0.0ms preprocess, 13.6ms inference, 14.8ms postprocess per image at shape (1, 3, 480, 640)\n",
      "\n",
      "0: 480x640 (no detections), 16.3ms\n",
      "Speed: 0.5ms preprocess, 16.3ms inference, 0.0ms postprocess per image at shape (1, 3, 480, 640)\n",
      "\n"
     ]
    },
    {
     "name": "stdout",
     "output_type": "stream",
     "text": [
      "Detections(xyxy=array([], shape=(0, 4), dtype=float32), mask=None, confidence=array([], dtype=float32), class_id=array([], dtype=int32), tracker_id=None, data={'class_name': array([], dtype=float64)})\n",
      "Detections(xyxy=array([], shape=(0, 4), dtype=float32), mask=None, confidence=array([], dtype=float32), class_id=array([], dtype=int32), tracker_id=None, data={'class_name': array([], dtype=float64)})\n",
      "Detections(xyxy=array([], shape=(0, 4), dtype=float32), mask=None, confidence=array([], dtype=float32), class_id=array([], dtype=int32), tracker_id=None, data={'class_name': array([], dtype=float64)})\n"
     ]
    },
    {
     "name": "stderr",
     "output_type": "stream",
     "text": [
      "0: 480x640 (no detections), 14.6ms\n",
      "Speed: 0.0ms preprocess, 14.6ms inference, 0.0ms postprocess per image at shape (1, 3, 480, 640)\n",
      "\n",
      "0: 480x640 (no detections), 15.2ms\n",
      "Speed: 2.0ms preprocess, 15.2ms inference, 0.0ms postprocess per image at shape (1, 3, 480, 640)\n",
      "\n",
      "0: 480x640 (no detections), 20.9ms\n",
      "Speed: 2.9ms preprocess, 20.9ms inference, 0.0ms postprocess per image at shape (1, 3, 480, 640)\n",
      "\n"
     ]
    },
    {
     "name": "stdout",
     "output_type": "stream",
     "text": [
      "Detections(xyxy=array([], shape=(0, 4), dtype=float32), mask=None, confidence=array([], dtype=float32), class_id=array([], dtype=int32), tracker_id=None, data={'class_name': array([], dtype=float64)})\n",
      "Detections(xyxy=array([], shape=(0, 4), dtype=float32), mask=None, confidence=array([], dtype=float32), class_id=array([], dtype=int32), tracker_id=None, data={'class_name': array([], dtype=float64)})\n",
      "Detections(xyxy=array([], shape=(0, 4), dtype=float32), mask=None, confidence=array([], dtype=float32), class_id=array([], dtype=int32), tracker_id=None, data={'class_name': array([], dtype=float64)})\n"
     ]
    },
    {
     "name": "stderr",
     "output_type": "stream",
     "text": [
      "0: 480x640 (no detections), 18.9ms\n",
      "Speed: 3.5ms preprocess, 18.9ms inference, 0.0ms postprocess per image at shape (1, 3, 480, 640)\n",
      "\n",
      "0: 480x640 (no detections), 17.7ms\n",
      "Speed: 4.8ms preprocess, 17.7ms inference, 0.0ms postprocess per image at shape (1, 3, 480, 640)\n",
      "\n",
      "0: 480x640 (no detections), 14.1ms\n",
      "Speed: 2.5ms preprocess, 14.1ms inference, 6.1ms postprocess per image at shape (1, 3, 480, 640)\n"
     ]
    },
    {
     "name": "stdout",
     "output_type": "stream",
     "text": [
      "Detections(xyxy=array([], shape=(0, 4), dtype=float32), mask=None, confidence=array([], dtype=float32), class_id=array([], dtype=int32), tracker_id=None, data={'class_name': array([], dtype=float64)})\n",
      "Detections(xyxy=array([], shape=(0, 4), dtype=float32), mask=None, confidence=array([], dtype=float32), class_id=array([], dtype=int32), tracker_id=None, data={'class_name': array([], dtype=float64)})\n",
      "Detections(xyxy=array([], shape=(0, 4), dtype=float32), mask=None, confidence=array([], dtype=float32), class_id=array([], dtype=int32), tracker_id=None, data={'class_name': array([], dtype=float64)})\n"
     ]
    },
    {
     "name": "stderr",
     "output_type": "stream",
     "text": [
      "\n",
      "0: 480x640 (no detections), 15.5ms\n",
      "Speed: 3.0ms preprocess, 15.5ms inference, 0.0ms postprocess per image at shape (1, 3, 480, 640)\n",
      "\n",
      "0: 480x640 (no detections), 15.8ms\n",
      "Speed: 2.0ms preprocess, 15.8ms inference, 0.0ms postprocess per image at shape (1, 3, 480, 640)\n",
      "\n",
      "0: 480x640 (no detections), 18.3ms\n",
      "Speed: 3.2ms preprocess, 18.3ms inference, 0.0ms postprocess per image at shape (1, 3, 480, 640)\n"
     ]
    },
    {
     "name": "stdout",
     "output_type": "stream",
     "text": [
      "Detections(xyxy=array([], shape=(0, 4), dtype=float32), mask=None, confidence=array([], dtype=float32), class_id=array([], dtype=int32), tracker_id=None, data={'class_name': array([], dtype=float64)})\n",
      "Detections(xyxy=array([], shape=(0, 4), dtype=float32), mask=None, confidence=array([], dtype=float32), class_id=array([], dtype=int32), tracker_id=None, data={'class_name': array([], dtype=float64)})\n",
      "Detections(xyxy=array([], shape=(0, 4), dtype=float32), mask=None, confidence=array([], dtype=float32), class_id=array([], dtype=int32), tracker_id=None, data={'class_name': array([], dtype=float64)})\n"
     ]
    },
    {
     "name": "stderr",
     "output_type": "stream",
     "text": [
      "\n",
      "0: 480x640 (no detections), 23.6ms\n",
      "Speed: 0.0ms preprocess, 23.6ms inference, 4.1ms postprocess per image at shape (1, 3, 480, 640)\n",
      "\n",
      "0: 480x640 (no detections), 12.0ms\n",
      "Speed: 2.5ms preprocess, 12.0ms inference, 0.0ms postprocess per image at shape (1, 3, 480, 640)\n",
      "\n",
      "0: 480x640 (no detections), 16.1ms\n",
      "Speed: 3.9ms preprocess, 16.1ms inference, 0.0ms postprocess per image at shape (1, 3, 480, 640)\n",
      "\n"
     ]
    },
    {
     "name": "stdout",
     "output_type": "stream",
     "text": [
      "Detections(xyxy=array([], shape=(0, 4), dtype=float32), mask=None, confidence=array([], dtype=float32), class_id=array([], dtype=int32), tracker_id=None, data={'class_name': array([], dtype=float64)})\n",
      "Detections(xyxy=array([], shape=(0, 4), dtype=float32), mask=None, confidence=array([], dtype=float32), class_id=array([], dtype=int32), tracker_id=None, data={'class_name': array([], dtype=float64)})\n",
      "Detections(xyxy=array([], shape=(0, 4), dtype=float32), mask=None, confidence=array([], dtype=float32), class_id=array([], dtype=int32), tracker_id=None, data={'class_name': array([], dtype=float64)})\n"
     ]
    },
    {
     "name": "stderr",
     "output_type": "stream",
     "text": [
      "0: 480x640 (no detections), 14.0ms\n",
      "Speed: 4.4ms preprocess, 14.0ms inference, 0.0ms postprocess per image at shape (1, 3, 480, 640)\n",
      "\n",
      "0: 480x640 (no detections), 17.8ms\n",
      "Speed: 0.0ms preprocess, 17.8ms inference, 0.0ms postprocess per image at shape (1, 3, 480, 640)\n",
      "\n",
      "0: 480x640 (no detections), 16.5ms\n",
      "Speed: 0.0ms preprocess, 16.5ms inference, 8.8ms postprocess per image at shape (1, 3, 480, 640)\n"
     ]
    },
    {
     "name": "stdout",
     "output_type": "stream",
     "text": [
      "Detections(xyxy=array([], shape=(0, 4), dtype=float32), mask=None, confidence=array([], dtype=float32), class_id=array([], dtype=int32), tracker_id=None, data={'class_name': array([], dtype=float64)})\n",
      "Detections(xyxy=array([], shape=(0, 4), dtype=float32), mask=None, confidence=array([], dtype=float32), class_id=array([], dtype=int32), tracker_id=None, data={'class_name': array([], dtype=float64)})\n",
      "Detections(xyxy=array([], shape=(0, 4), dtype=float32), mask=None, confidence=array([], dtype=float32), class_id=array([], dtype=int32), tracker_id=None, data={'class_name': array([], dtype=float64)})\n"
     ]
    },
    {
     "name": "stderr",
     "output_type": "stream",
     "text": [
      "\n",
      "0: 480x640 (no detections), 18.8ms\n",
      "Speed: 3.2ms preprocess, 18.8ms inference, 0.0ms postprocess per image at shape (1, 3, 480, 640)\n",
      "\n",
      "0: 480x640 (no detections), 19.7ms\n",
      "Speed: 3.5ms preprocess, 19.7ms inference, 0.0ms postprocess per image at shape (1, 3, 480, 640)\n",
      "\n",
      "0: 480x640 (no detections), 15.8ms\n",
      "Speed: 3.0ms preprocess, 15.8ms inference, 0.0ms postprocess per image at shape (1, 3, 480, 640)\n",
      "\n"
     ]
    },
    {
     "name": "stdout",
     "output_type": "stream",
     "text": [
      "Detections(xyxy=array([], shape=(0, 4), dtype=float32), mask=None, confidence=array([], dtype=float32), class_id=array([], dtype=int32), tracker_id=None, data={'class_name': array([], dtype=float64)})\n",
      "Detections(xyxy=array([], shape=(0, 4), dtype=float32), mask=None, confidence=array([], dtype=float32), class_id=array([], dtype=int32), tracker_id=None, data={'class_name': array([], dtype=float64)})\n",
      "Detections(xyxy=array([], shape=(0, 4), dtype=float32), mask=None, confidence=array([], dtype=float32), class_id=array([], dtype=int32), tracker_id=None, data={'class_name': array([], dtype=float64)})\n"
     ]
    },
    {
     "name": "stderr",
     "output_type": "stream",
     "text": [
      "0: 480x640 (no detections), 18.0ms\n",
      "Speed: 2.0ms preprocess, 18.0ms inference, 0.0ms postprocess per image at shape (1, 3, 480, 640)\n",
      "\n",
      "0: 480x640 (no detections), 25.5ms\n",
      "Speed: 0.0ms preprocess, 25.5ms inference, 2.2ms postprocess per image at shape (1, 3, 480, 640)\n",
      "\n",
      "0: 480x640 (no detections), 19.5ms\n",
      "Speed: 4.2ms preprocess, 19.5ms inference, 3.6ms postprocess per image at shape (1, 3, 480, 640)\n",
      "\n"
     ]
    },
    {
     "name": "stdout",
     "output_type": "stream",
     "text": [
      "Detections(xyxy=array([], shape=(0, 4), dtype=float32), mask=None, confidence=array([], dtype=float32), class_id=array([], dtype=int32), tracker_id=None, data={'class_name': array([], dtype=float64)})\n",
      "Detections(xyxy=array([], shape=(0, 4), dtype=float32), mask=None, confidence=array([], dtype=float32), class_id=array([], dtype=int32), tracker_id=None, data={'class_name': array([], dtype=float64)})\n",
      "Detections(xyxy=array([], shape=(0, 4), dtype=float32), mask=None, confidence=array([], dtype=float32), class_id=array([], dtype=int32), tracker_id=None, data={'class_name': array([], dtype=float64)})\n"
     ]
    },
    {
     "name": "stderr",
     "output_type": "stream",
     "text": [
      "0: 480x640 (no detections), 19.1ms\n",
      "Speed: 4.6ms preprocess, 19.1ms inference, 3.6ms postprocess per image at shape (1, 3, 480, 640)\n",
      "\n",
      "0: 480x640 (no detections), 13.6ms\n",
      "Speed: 4.2ms preprocess, 13.6ms inference, 9.5ms postprocess per image at shape (1, 3, 480, 640)\n",
      "\n",
      "0: 480x640 (no detections), 16.7ms\n",
      "Speed: 3.2ms preprocess, 16.7ms inference, 0.0ms postprocess per image at shape (1, 3, 480, 640)\n"
     ]
    },
    {
     "name": "stdout",
     "output_type": "stream",
     "text": [
      "Detections(xyxy=array([], shape=(0, 4), dtype=float32), mask=None, confidence=array([], dtype=float32), class_id=array([], dtype=int32), tracker_id=None, data={'class_name': array([], dtype=float64)})\n",
      "Detections(xyxy=array([], shape=(0, 4), dtype=float32), mask=None, confidence=array([], dtype=float32), class_id=array([], dtype=int32), tracker_id=None, data={'class_name': array([], dtype=float64)})\n",
      "Detections(xyxy=array([], shape=(0, 4), dtype=float32), mask=None, confidence=array([], dtype=float32), class_id=array([], dtype=int32), tracker_id=None, data={'class_name': array([], dtype=float64)})\n"
     ]
    },
    {
     "name": "stderr",
     "output_type": "stream",
     "text": [
      "\n",
      "0: 480x640 (no detections), 20.5ms\n",
      "Speed: 0.0ms preprocess, 20.5ms inference, 5.3ms postprocess per image at shape (1, 3, 480, 640)\n",
      "\n",
      "0: 480x640 (no detections), 11.1ms\n",
      "Speed: 4.3ms preprocess, 11.1ms inference, 12.0ms postprocess per image at shape (1, 3, 480, 640)\n",
      "\n",
      "0: 480x640 (no detections), 17.5ms\n",
      "Speed: 2.1ms preprocess, 17.5ms inference, 0.0ms postprocess per image at shape (1, 3, 480, 640)\n",
      "\n"
     ]
    },
    {
     "name": "stdout",
     "output_type": "stream",
     "text": [
      "Detections(xyxy=array([], shape=(0, 4), dtype=float32), mask=None, confidence=array([], dtype=float32), class_id=array([], dtype=int32), tracker_id=None, data={'class_name': array([], dtype=float64)})\n",
      "Detections(xyxy=array([], shape=(0, 4), dtype=float32), mask=None, confidence=array([], dtype=float32), class_id=array([], dtype=int32), tracker_id=None, data={'class_name': array([], dtype=float64)})\n",
      "Detections(xyxy=array([], shape=(0, 4), dtype=float32), mask=None, confidence=array([], dtype=float32), class_id=array([], dtype=int32), tracker_id=None, data={'class_name': array([], dtype=float64)})\n"
     ]
    },
    {
     "name": "stderr",
     "output_type": "stream",
     "text": [
      "0: 480x640 (no detections), 15.4ms\n",
      "Speed: 2.1ms preprocess, 15.4ms inference, 10.4ms postprocess per image at shape (1, 3, 480, 640)\n",
      "\n",
      "0: 480x640 (no detections), 19.9ms\n",
      "Speed: 4.4ms preprocess, 19.9ms inference, 0.0ms postprocess per image at shape (1, 3, 480, 640)\n",
      "\n",
      "0: 480x640 (no detections), 17.7ms\n",
      "Speed: 3.2ms preprocess, 17.7ms inference, 0.0ms postprocess per image at shape (1, 3, 480, 640)\n",
      "\n"
     ]
    },
    {
     "name": "stdout",
     "output_type": "stream",
     "text": [
      "Detections(xyxy=array([], shape=(0, 4), dtype=float32), mask=None, confidence=array([], dtype=float32), class_id=array([], dtype=int32), tracker_id=None, data={'class_name': array([], dtype=float64)})\n",
      "Detections(xyxy=array([], shape=(0, 4), dtype=float32), mask=None, confidence=array([], dtype=float32), class_id=array([], dtype=int32), tracker_id=None, data={'class_name': array([], dtype=float64)})\n",
      "Detections(xyxy=array([], shape=(0, 4), dtype=float32), mask=None, confidence=array([], dtype=float32), class_id=array([], dtype=int32), tracker_id=None, data={'class_name': array([], dtype=float64)})\n"
     ]
    },
    {
     "name": "stderr",
     "output_type": "stream",
     "text": [
      "0: 480x640 (no detections), 26.0ms\n",
      "Speed: 0.0ms preprocess, 26.0ms inference, 0.5ms postprocess per image at shape (1, 3, 480, 640)\n",
      "\n",
      "0: 480x640 (no detections), 15.6ms\n",
      "Speed: 4.2ms preprocess, 15.6ms inference, 0.0ms postprocess per image at shape (1, 3, 480, 640)\n",
      "\n",
      "0: 480x640 (no detections), 17.3ms\n",
      "Speed: 0.0ms preprocess, 17.3ms inference, 10.8ms postprocess per image at shape (1, 3, 480, 640)\n",
      "\n"
     ]
    },
    {
     "name": "stdout",
     "output_type": "stream",
     "text": [
      "Detections(xyxy=array([], shape=(0, 4), dtype=float32), mask=None, confidence=array([], dtype=float32), class_id=array([], dtype=int32), tracker_id=None, data={'class_name': array([], dtype=float64)})\n",
      "Detections(xyxy=array([], shape=(0, 4), dtype=float32), mask=None, confidence=array([], dtype=float32), class_id=array([], dtype=int32), tracker_id=None, data={'class_name': array([], dtype=float64)})\n",
      "Detections(xyxy=array([], shape=(0, 4), dtype=float32), mask=None, confidence=array([], dtype=float32), class_id=array([], dtype=int32), tracker_id=None, data={'class_name': array([], dtype=float64)})\n"
     ]
    },
    {
     "name": "stderr",
     "output_type": "stream",
     "text": [
      "0: 480x640 (no detections), 12.6ms\n",
      "Speed: 3.8ms preprocess, 12.6ms inference, 0.0ms postprocess per image at shape (1, 3, 480, 640)\n",
      "\n",
      "0: 480x640 (no detections), 17.4ms\n",
      "Speed: 3.9ms preprocess, 17.4ms inference, 4.9ms postprocess per image at shape (1, 3, 480, 640)\n",
      "\n",
      "0: 480x640 (no detections), 9.7ms\n",
      "Speed: 3.4ms preprocess, 9.7ms inference, 12.6ms postprocess per image at shape (1, 3, 480, 640)\n"
     ]
    },
    {
     "name": "stdout",
     "output_type": "stream",
     "text": [
      "Detections(xyxy=array([], shape=(0, 4), dtype=float32), mask=None, confidence=array([], dtype=float32), class_id=array([], dtype=int32), tracker_id=None, data={'class_name': array([], dtype=float64)})\n",
      "Detections(xyxy=array([], shape=(0, 4), dtype=float32), mask=None, confidence=array([], dtype=float32), class_id=array([], dtype=int32), tracker_id=None, data={'class_name': array([], dtype=float64)})\n",
      "Detections(xyxy=array([], shape=(0, 4), dtype=float32), mask=None, confidence=array([], dtype=float32), class_id=array([], dtype=int32), tracker_id=None, data={'class_name': array([], dtype=float64)})\n"
     ]
    },
    {
     "name": "stderr",
     "output_type": "stream",
     "text": [
      "\n",
      "0: 480x640 (no detections), 16.3ms\n",
      "Speed: 3.8ms preprocess, 16.3ms inference, 5.3ms postprocess per image at shape (1, 3, 480, 640)\n",
      "\n",
      "0: 480x640 (no detections), 13.5ms\n",
      "Speed: 3.8ms preprocess, 13.5ms inference, 0.0ms postprocess per image at shape (1, 3, 480, 640)\n",
      "\n",
      "0: 480x640 (no detections), 17.6ms\n",
      "Speed: 2.7ms preprocess, 17.6ms inference, 0.0ms postprocess per image at shape (1, 3, 480, 640)\n"
     ]
    },
    {
     "name": "stdout",
     "output_type": "stream",
     "text": [
      "Detections(xyxy=array([], shape=(0, 4), dtype=float32), mask=None, confidence=array([], dtype=float32), class_id=array([], dtype=int32), tracker_id=None, data={'class_name': array([], dtype=float64)})\n",
      "Detections(xyxy=array([], shape=(0, 4), dtype=float32), mask=None, confidence=array([], dtype=float32), class_id=array([], dtype=int32), tracker_id=None, data={'class_name': array([], dtype=float64)})\n",
      "Detections(xyxy=array([], shape=(0, 4), dtype=float32), mask=None, confidence=array([], dtype=float32), class_id=array([], dtype=int32), tracker_id=None, data={'class_name': array([], dtype=float64)})\n"
     ]
    },
    {
     "name": "stderr",
     "output_type": "stream",
     "text": [
      "\n",
      "0: 480x640 (no detections), 44.8ms\n",
      "Speed: 0.0ms preprocess, 44.8ms inference, 8.0ms postprocess per image at shape (1, 3, 480, 640)\n",
      "\n",
      "0: 480x640 (no detections), 40.4ms\n",
      "Speed: 6.6ms preprocess, 40.4ms inference, 13.3ms postprocess per image at shape (1, 3, 480, 640)\n",
      "\n"
     ]
    },
    {
     "name": "stdout",
     "output_type": "stream",
     "text": [
      "Detections(xyxy=array([], shape=(0, 4), dtype=float32), mask=None, confidence=array([], dtype=float32), class_id=array([], dtype=int32), tracker_id=None, data={'class_name': array([], dtype=float64)})\n",
      "Detections(xyxy=array([], shape=(0, 4), dtype=float32), mask=None, confidence=array([], dtype=float32), class_id=array([], dtype=int32), tracker_id=None, data={'class_name': array([], dtype=float64)})\n"
     ]
    },
    {
     "name": "stderr",
     "output_type": "stream",
     "text": [
      "0: 480x640 (no detections), 49.5ms\n",
      "Speed: 5.6ms preprocess, 49.5ms inference, 0.5ms postprocess per image at shape (1, 3, 480, 640)\n",
      "\n",
      "0: 480x640 (no detections), 39.7ms\n",
      "Speed: 6.6ms preprocess, 39.7ms inference, 7.1ms postprocess per image at shape (1, 3, 480, 640)\n",
      "\n"
     ]
    },
    {
     "name": "stdout",
     "output_type": "stream",
     "text": [
      "Detections(xyxy=array([], shape=(0, 4), dtype=float32), mask=None, confidence=array([], dtype=float32), class_id=array([], dtype=int32), tracker_id=None, data={'class_name': array([], dtype=float64)})\n",
      "Detections(xyxy=array([], shape=(0, 4), dtype=float32), mask=None, confidence=array([], dtype=float32), class_id=array([], dtype=int32), tracker_id=None, data={'class_name': array([], dtype=float64)})\n"
     ]
    },
    {
     "name": "stderr",
     "output_type": "stream",
     "text": [
      "0: 480x640 (no detections), 47.7ms\n",
      "Speed: 5.4ms preprocess, 47.7ms inference, 6.0ms postprocess per image at shape (1, 3, 480, 640)\n",
      "\n",
      "0: 480x640 (no detections), 53.7ms\n",
      "Speed: 4.2ms preprocess, 53.7ms inference, 3.6ms postprocess per image at shape (1, 3, 480, 640)\n",
      "\n"
     ]
    },
    {
     "name": "stdout",
     "output_type": "stream",
     "text": [
      "Detections(xyxy=array([], shape=(0, 4), dtype=float32), mask=None, confidence=array([], dtype=float32), class_id=array([], dtype=int32), tracker_id=None, data={'class_name': array([], dtype=float64)})\n",
      "Detections(xyxy=array([], shape=(0, 4), dtype=float32), mask=None, confidence=array([], dtype=float32), class_id=array([], dtype=int32), tracker_id=None, data={'class_name': array([], dtype=float64)})\n"
     ]
    },
    {
     "name": "stderr",
     "output_type": "stream",
     "text": [
      "0: 480x640 (no detections), 45.3ms\n",
      "Speed: 6.2ms preprocess, 45.3ms inference, 7.4ms postprocess per image at shape (1, 3, 480, 640)\n",
      "\n",
      "0: 480x640 (no detections), 47.7ms\n",
      "Speed: 2.4ms preprocess, 47.7ms inference, 13.1ms postprocess per image at shape (1, 3, 480, 640)\n",
      "\n"
     ]
    },
    {
     "name": "stdout",
     "output_type": "stream",
     "text": [
      "Detections(xyxy=array([], shape=(0, 4), dtype=float32), mask=None, confidence=array([], dtype=float32), class_id=array([], dtype=int32), tracker_id=None, data={'class_name': array([], dtype=float64)})\n",
      "Detections(xyxy=array([], shape=(0, 4), dtype=float32), mask=None, confidence=array([], dtype=float32), class_id=array([], dtype=int32), tracker_id=None, data={'class_name': array([], dtype=float64)})\n"
     ]
    },
    {
     "name": "stderr",
     "output_type": "stream",
     "text": [
      "0: 480x640 (no detections), 46.5ms\n",
      "Speed: 3.9ms preprocess, 46.5ms inference, 10.1ms postprocess per image at shape (1, 3, 480, 640)\n",
      "\n",
      "0: 480x640 (no detections), 44.8ms\n",
      "Speed: 5.1ms preprocess, 44.8ms inference, 7.9ms postprocess per image at shape (1, 3, 480, 640)\n",
      "\n"
     ]
    },
    {
     "name": "stdout",
     "output_type": "stream",
     "text": [
      "Detections(xyxy=array([], shape=(0, 4), dtype=float32), mask=None, confidence=array([], dtype=float32), class_id=array([], dtype=int32), tracker_id=None, data={'class_name': array([], dtype=float64)})\n",
      "Detections(xyxy=array([], shape=(0, 4), dtype=float32), mask=None, confidence=array([], dtype=float32), class_id=array([], dtype=int32), tracker_id=None, data={'class_name': array([], dtype=float64)})\n"
     ]
    },
    {
     "name": "stderr",
     "output_type": "stream",
     "text": [
      "0: 480x640 (no detections), 48.8ms\n",
      "Speed: 0.0ms preprocess, 48.8ms inference, 13.7ms postprocess per image at shape (1, 3, 480, 640)\n",
      "\n",
      "0: 480x640 (no detections), 44.3ms\n",
      "Speed: 4.6ms preprocess, 44.3ms inference, 8.0ms postprocess per image at shape (1, 3, 480, 640)\n",
      "\n"
     ]
    },
    {
     "name": "stdout",
     "output_type": "stream",
     "text": [
      "Detections(xyxy=array([], shape=(0, 4), dtype=float32), mask=None, confidence=array([], dtype=float32), class_id=array([], dtype=int32), tracker_id=None, data={'class_name': array([], dtype=float64)})\n",
      "Detections(xyxy=array([], shape=(0, 4), dtype=float32), mask=None, confidence=array([], dtype=float32), class_id=array([], dtype=int32), tracker_id=None, data={'class_name': array([], dtype=float64)})\n"
     ]
    },
    {
     "name": "stderr",
     "output_type": "stream",
     "text": [
      "0: 480x640 (no detections), 40.8ms\n",
      "Speed: 6.3ms preprocess, 40.8ms inference, 14.4ms postprocess per image at shape (1, 3, 480, 640)\n",
      "\n",
      "0: 480x640 (no detections), 45.4ms\n",
      "Speed: 3.4ms preprocess, 45.4ms inference, 11.7ms postprocess per image at shape (1, 3, 480, 640)\n",
      "\n"
     ]
    },
    {
     "name": "stdout",
     "output_type": "stream",
     "text": [
      "Detections(xyxy=array([], shape=(0, 4), dtype=float32), mask=None, confidence=array([], dtype=float32), class_id=array([], dtype=int32), tracker_id=None, data={'class_name': array([], dtype=float64)})\n",
      "Detections(xyxy=array([], shape=(0, 4), dtype=float32), mask=None, confidence=array([], dtype=float32), class_id=array([], dtype=int32), tracker_id=None, data={'class_name': array([], dtype=float64)})\n"
     ]
    },
    {
     "name": "stderr",
     "output_type": "stream",
     "text": [
      "0: 480x640 (no detections), 52.6ms\n",
      "Speed: 0.0ms preprocess, 52.6ms inference, 7.7ms postprocess per image at shape (1, 3, 480, 640)\n",
      "\n",
      "0: 480x640 (no detections), 41.4ms\n",
      "Speed: 4.4ms preprocess, 41.4ms inference, 13.4ms postprocess per image at shape (1, 3, 480, 640)\n",
      "\n"
     ]
    },
    {
     "name": "stdout",
     "output_type": "stream",
     "text": [
      "Detections(xyxy=array([], shape=(0, 4), dtype=float32), mask=None, confidence=array([], dtype=float32), class_id=array([], dtype=int32), tracker_id=None, data={'class_name': array([], dtype=float64)})\n",
      "Detections(xyxy=array([], shape=(0, 4), dtype=float32), mask=None, confidence=array([], dtype=float32), class_id=array([], dtype=int32), tracker_id=None, data={'class_name': array([], dtype=float64)})\n"
     ]
    },
    {
     "name": "stderr",
     "output_type": "stream",
     "text": [
      "0: 480x640 (no detections), 38.1ms\n",
      "Speed: 7.1ms preprocess, 38.1ms inference, 14.1ms postprocess per image at shape (1, 3, 480, 640)\n",
      "\n",
      "0: 480x640 (no detections), 47.0ms\n",
      "Speed: 0.0ms preprocess, 47.0ms inference, 0.0ms postprocess per image at shape (1, 3, 480, 640)\n",
      "\n"
     ]
    },
    {
     "name": "stdout",
     "output_type": "stream",
     "text": [
      "Detections(xyxy=array([], shape=(0, 4), dtype=float32), mask=None, confidence=array([], dtype=float32), class_id=array([], dtype=int32), tracker_id=None, data={'class_name': array([], dtype=float64)})\n",
      "Detections(xyxy=array([], shape=(0, 4), dtype=float32), mask=None, confidence=array([], dtype=float32), class_id=array([], dtype=int32), tracker_id=None, data={'class_name': array([], dtype=float64)})\n"
     ]
    },
    {
     "name": "stderr",
     "output_type": "stream",
     "text": [
      "0: 480x640 (no detections), 44.0ms\n",
      "Speed: 8.4ms preprocess, 44.0ms inference, 8.4ms postprocess per image at shape (1, 3, 480, 640)\n",
      "\n",
      "0: 480x640 (no detections), 46.4ms\n",
      "Speed: 6.2ms preprocess, 46.4ms inference, 3.0ms postprocess per image at shape (1, 3, 480, 640)\n",
      "\n"
     ]
    },
    {
     "name": "stdout",
     "output_type": "stream",
     "text": [
      "Detections(xyxy=array([], shape=(0, 4), dtype=float32), mask=None, confidence=array([], dtype=float32), class_id=array([], dtype=int32), tracker_id=None, data={'class_name': array([], dtype=float64)})\n",
      "Detections(xyxy=array([], shape=(0, 4), dtype=float32), mask=None, confidence=array([], dtype=float32), class_id=array([], dtype=int32), tracker_id=None, data={'class_name': array([], dtype=float64)})\n"
     ]
    },
    {
     "name": "stderr",
     "output_type": "stream",
     "text": [
      "0: 480x640 (no detections), 45.4ms\n",
      "Speed: 6.7ms preprocess, 45.4ms inference, 4.6ms postprocess per image at shape (1, 3, 480, 640)\n",
      "\n",
      "0: 480x640 (no detections), 41.7ms\n",
      "Speed: 7.2ms preprocess, 41.7ms inference, 11.1ms postprocess per image at shape (1, 3, 480, 640)\n",
      "\n"
     ]
    },
    {
     "name": "stdout",
     "output_type": "stream",
     "text": [
      "Detections(xyxy=array([], shape=(0, 4), dtype=float32), mask=None, confidence=array([], dtype=float32), class_id=array([], dtype=int32), tracker_id=None, data={'class_name': array([], dtype=float64)})\n",
      "Detections(xyxy=array([], shape=(0, 4), dtype=float32), mask=None, confidence=array([], dtype=float32), class_id=array([], dtype=int32), tracker_id=None, data={'class_name': array([], dtype=float64)})\n"
     ]
    },
    {
     "name": "stderr",
     "output_type": "stream",
     "text": [
      "0: 480x640 (no detections), 45.8ms\n",
      "Speed: 3.9ms preprocess, 45.8ms inference, 10.3ms postprocess per image at shape (1, 3, 480, 640)\n",
      "\n",
      "0: 480x640 (no detections), 47.7ms\n",
      "Speed: 2.2ms preprocess, 47.7ms inference, 0.0ms postprocess per image at shape (1, 3, 480, 640)\n",
      "\n"
     ]
    },
    {
     "name": "stdout",
     "output_type": "stream",
     "text": [
      "Detections(xyxy=array([], shape=(0, 4), dtype=float32), mask=None, confidence=array([], dtype=float32), class_id=array([], dtype=int32), tracker_id=None, data={'class_name': array([], dtype=float64)})\n",
      "Detections(xyxy=array([], shape=(0, 4), dtype=float32), mask=None, confidence=array([], dtype=float32), class_id=array([], dtype=int32), tracker_id=None, data={'class_name': array([], dtype=float64)})\n"
     ]
    },
    {
     "name": "stderr",
     "output_type": "stream",
     "text": [
      "0: 480x640 (no detections), 45.9ms\n",
      "Speed: 7.1ms preprocess, 45.9ms inference, 7.3ms postprocess per image at shape (1, 3, 480, 640)\n",
      "\n",
      "0: 480x640 (no detections), 40.2ms\n",
      "Speed: 7.0ms preprocess, 40.2ms inference, 13.2ms postprocess per image at shape (1, 3, 480, 640)\n",
      "\n"
     ]
    },
    {
     "name": "stdout",
     "output_type": "stream",
     "text": [
      "Detections(xyxy=array([], shape=(0, 4), dtype=float32), mask=None, confidence=array([], dtype=float32), class_id=array([], dtype=int32), tracker_id=None, data={'class_name': array([], dtype=float64)})\n",
      "Detections(xyxy=array([], shape=(0, 4), dtype=float32), mask=None, confidence=array([], dtype=float32), class_id=array([], dtype=int32), tracker_id=None, data={'class_name': array([], dtype=float64)})\n"
     ]
    },
    {
     "name": "stderr",
     "output_type": "stream",
     "text": [
      "0: 480x640 (no detections), 47.9ms\n",
      "Speed: 6.6ms preprocess, 47.9ms inference, 6.5ms postprocess per image at shape (1, 3, 480, 640)\n",
      "\n",
      "0: 480x640 (no detections), 49.4ms\n",
      "Speed: 4.5ms preprocess, 49.4ms inference, 5.7ms postprocess per image at shape (1, 3, 480, 640)\n",
      "\n"
     ]
    },
    {
     "name": "stdout",
     "output_type": "stream",
     "text": [
      "Detections(xyxy=array([], shape=(0, 4), dtype=float32), mask=None, confidence=array([], dtype=float32), class_id=array([], dtype=int32), tracker_id=None, data={'class_name': array([], dtype=float64)})\n",
      "Detections(xyxy=array([], shape=(0, 4), dtype=float32), mask=None, confidence=array([], dtype=float32), class_id=array([], dtype=int32), tracker_id=None, data={'class_name': array([], dtype=float64)})\n"
     ]
    },
    {
     "name": "stderr",
     "output_type": "stream",
     "text": [
      "0: 480x640 (no detections), 47.1ms\n",
      "Speed: 4.7ms preprocess, 47.1ms inference, 5.2ms postprocess per image at shape (1, 3, 480, 640)\n",
      "\n",
      "0: 480x640 (no detections), 48.8ms\n",
      "Speed: 4.4ms preprocess, 48.8ms inference, 5.1ms postprocess per image at shape (1, 3, 480, 640)\n",
      "\n"
     ]
    },
    {
     "name": "stdout",
     "output_type": "stream",
     "text": [
      "Detections(xyxy=array([], shape=(0, 4), dtype=float32), mask=None, confidence=array([], dtype=float32), class_id=array([], dtype=int32), tracker_id=None, data={'class_name': array([], dtype=float64)})\n",
      "Detections(xyxy=array([], shape=(0, 4), dtype=float32), mask=None, confidence=array([], dtype=float32), class_id=array([], dtype=int32), tracker_id=None, data={'class_name': array([], dtype=float64)})\n"
     ]
    },
    {
     "name": "stderr",
     "output_type": "stream",
     "text": [
      "0: 480x640 (no detections), 46.4ms\n",
      "Speed: 3.8ms preprocess, 46.4ms inference, 10.9ms postprocess per image at shape (1, 3, 480, 640)\n",
      "\n",
      "0: 480x640 (no detections), 48.9ms\n",
      "Speed: 2.5ms preprocess, 48.9ms inference, 2.4ms postprocess per image at shape (1, 3, 480, 640)\n",
      "\n"
     ]
    },
    {
     "name": "stdout",
     "output_type": "stream",
     "text": [
      "Detections(xyxy=array([], shape=(0, 4), dtype=float32), mask=None, confidence=array([], dtype=float32), class_id=array([], dtype=int32), tracker_id=None, data={'class_name': array([], dtype=float64)})\n",
      "Detections(xyxy=array([], shape=(0, 4), dtype=float32), mask=None, confidence=array([], dtype=float32), class_id=array([], dtype=int32), tracker_id=None, data={'class_name': array([], dtype=float64)})\n"
     ]
    },
    {
     "name": "stderr",
     "output_type": "stream",
     "text": [
      "0: 480x640 (no detections), 42.0ms\n",
      "Speed: 6.8ms preprocess, 42.0ms inference, 9.6ms postprocess per image at shape (1, 3, 480, 640)\n",
      "\n",
      "0: 480x640 (no detections), 40.1ms\n",
      "Speed: 6.5ms preprocess, 40.1ms inference, 14.3ms postprocess per image at shape (1, 3, 480, 640)\n",
      "\n"
     ]
    },
    {
     "name": "stdout",
     "output_type": "stream",
     "text": [
      "Detections(xyxy=array([], shape=(0, 4), dtype=float32), mask=None, confidence=array([], dtype=float32), class_id=array([], dtype=int32), tracker_id=None, data={'class_name': array([], dtype=float64)})\n",
      "Detections(xyxy=array([], shape=(0, 4), dtype=float32), mask=None, confidence=array([], dtype=float32), class_id=array([], dtype=int32), tracker_id=None, data={'class_name': array([], dtype=float64)})\n"
     ]
    },
    {
     "name": "stderr",
     "output_type": "stream",
     "text": [
      "0: 480x640 (no detections), 53.3ms\n",
      "Speed: 6.5ms preprocess, 53.3ms inference, 4.6ms postprocess per image at shape (1, 3, 480, 640)\n",
      "\n",
      "0: 480x640 (no detections), 60.4ms\n",
      "Speed: 0.0ms preprocess, 60.4ms inference, 4.1ms postprocess per image at shape (1, 3, 480, 640)\n",
      "\n"
     ]
    },
    {
     "name": "stdout",
     "output_type": "stream",
     "text": [
      "Detections(xyxy=array([], shape=(0, 4), dtype=float32), mask=None, confidence=array([], dtype=float32), class_id=array([], dtype=int32), tracker_id=None, data={'class_name': array([], dtype=float64)})\n",
      "Detections(xyxy=array([], shape=(0, 4), dtype=float32), mask=None, confidence=array([], dtype=float32), class_id=array([], dtype=int32), tracker_id=None, data={'class_name': array([], dtype=float64)})\n"
     ]
    },
    {
     "name": "stderr",
     "output_type": "stream",
     "text": [
      "0: 480x640 (no detections), 45.1ms\n",
      "Speed: 7.0ms preprocess, 45.1ms inference, 12.3ms postprocess per image at shape (1, 3, 480, 640)\n",
      "\n",
      "0: 480x640 (no detections), 50.9ms\n",
      "Speed: 0.0ms preprocess, 50.9ms inference, 10.2ms postprocess per image at shape (1, 3, 480, 640)\n",
      "\n"
     ]
    },
    {
     "name": "stdout",
     "output_type": "stream",
     "text": [
      "Detections(xyxy=array([], shape=(0, 4), dtype=float32), mask=None, confidence=array([], dtype=float32), class_id=array([], dtype=int32), tracker_id=None, data={'class_name': array([], dtype=float64)})\n",
      "Detections(xyxy=array([], shape=(0, 4), dtype=float32), mask=None, confidence=array([], dtype=float32), class_id=array([], dtype=int32), tracker_id=None, data={'class_name': array([], dtype=float64)})\n"
     ]
    },
    {
     "name": "stderr",
     "output_type": "stream",
     "text": [
      "0: 480x640 (no detections), 43.8ms\n",
      "Speed: 5.1ms preprocess, 43.8ms inference, 8.2ms postprocess per image at shape (1, 3, 480, 640)\n",
      "\n"
     ]
    },
    {
     "name": "stdout",
     "output_type": "stream",
     "text": [
      "Detections(xyxy=array([], shape=(0, 4), dtype=float32), mask=None, confidence=array([], dtype=float32), class_id=array([], dtype=int32), tracker_id=None, data={'class_name': array([], dtype=float64)})\n"
     ]
    },
    {
     "name": "stderr",
     "output_type": "stream",
     "text": [
      "0: 480x640 1 battery_plus, 49.8ms\n",
      "Speed: 5.3ms preprocess, 49.8ms inference, 237.3ms postprocess per image at shape (1, 3, 480, 640)\n",
      "\n"
     ]
    },
    {
     "name": "stdout",
     "output_type": "stream",
     "text": [
      "Detections(xyxy=array([[     634.68,       210.9,         640,      229.96]], dtype=float32), mask=None, confidence=array([    0.26237], dtype=float32), class_id=array([1]), tracker_id=None, data={'class_name': array(['battery_plus'], dtype='<U12')})\n"
     ]
    },
    {
     "name": "stderr",
     "output_type": "stream",
     "text": [
      "0: 480x640 (no detections), 134.0ms\n",
      "Speed: 10.7ms preprocess, 134.0ms inference, 17.4ms postprocess per image at shape (1, 3, 480, 640)\n",
      "\n",
      "0: 480x640 (no detections), 41.7ms\n",
      "Speed: 3.7ms preprocess, 41.7ms inference, 8.1ms postprocess per image at shape (1, 3, 480, 640)\n",
      "\n"
     ]
    },
    {
     "name": "stdout",
     "output_type": "stream",
     "text": [
      "Detections(xyxy=array([], shape=(0, 4), dtype=float32), mask=None, confidence=array([], dtype=float32), class_id=array([], dtype=int32), tracker_id=None, data={'class_name': array([], dtype=float64)})\n",
      "Detections(xyxy=array([], shape=(0, 4), dtype=float32), mask=None, confidence=array([], dtype=float32), class_id=array([], dtype=int32), tracker_id=None, data={'class_name': array([], dtype=float64)})\n"
     ]
    },
    {
     "name": "stderr",
     "output_type": "stream",
     "text": [
      "0: 480x640 (no detections), 46.0ms\n",
      "Speed: 7.0ms preprocess, 46.0ms inference, 5.1ms postprocess per image at shape (1, 3, 480, 640)\n",
      "\n",
      "0: 480x640 (no detections), 49.8ms\n",
      "Speed: 4.5ms preprocess, 49.8ms inference, 5.2ms postprocess per image at shape (1, 3, 480, 640)\n",
      "\n"
     ]
    },
    {
     "name": "stdout",
     "output_type": "stream",
     "text": [
      "Detections(xyxy=array([], shape=(0, 4), dtype=float32), mask=None, confidence=array([], dtype=float32), class_id=array([], dtype=int32), tracker_id=None, data={'class_name': array([], dtype=float64)})\n",
      "Detections(xyxy=array([], shape=(0, 4), dtype=float32), mask=None, confidence=array([], dtype=float32), class_id=array([], dtype=int32), tracker_id=None, data={'class_name': array([], dtype=float64)})\n"
     ]
    },
    {
     "name": "stderr",
     "output_type": "stream",
     "text": [
      "0: 480x640 (no detections), 48.3ms\n",
      "Speed: 2.7ms preprocess, 48.3ms inference, 3.6ms postprocess per image at shape (1, 3, 480, 640)\n",
      "\n"
     ]
    },
    {
     "name": "stdout",
     "output_type": "stream",
     "text": [
      "Detections(xyxy=array([], shape=(0, 4), dtype=float32), mask=None, confidence=array([], dtype=float32), class_id=array([], dtype=int32), tracker_id=None, data={'class_name': array([], dtype=float64)})\n"
     ]
    },
    {
     "name": "stderr",
     "output_type": "stream",
     "text": [
      "0: 480x640 1 battery_plus, 41.2ms\n",
      "Speed: 7.6ms preprocess, 41.2ms inference, 131.8ms postprocess per image at shape (1, 3, 480, 640)\n",
      "\n",
      "0: 480x640 2 battery_pluss, 44.5ms\n",
      "Speed: 4.3ms preprocess, 44.5ms inference, 20.4ms postprocess per image at shape (1, 3, 480, 640)\n",
      "\n"
     ]
    },
    {
     "name": "stdout",
     "output_type": "stream",
     "text": [
      "Detections(xyxy=array([[     630.22,      203.48,      639.95,      229.89]], dtype=float32), mask=None, confidence=array([    0.35815], dtype=float32), class_id=array([1]), tracker_id=None, data={'class_name': array(['battery_plus'], dtype='<U12')})\n",
      "Detections(xyxy=array([[     619.45,      203.01,      638.19,      231.28],\n",
      "       [     625.82,       234.9,      639.84,      261.65]], dtype=float32), mask=None, confidence=array([    0.71073,     0.61262], dtype=float32), class_id=array([1, 1]), tracker_id=None, data={'class_name': array(['battery_plus', 'battery_plus'], dtype='<U12')})\n"
     ]
    },
    {
     "name": "stderr",
     "output_type": "stream",
     "text": [
      "0: 480x640 2 battery_pluss, 45.2ms\n",
      "Speed: 7.2ms preprocess, 45.2ms inference, 19.7ms postprocess per image at shape (1, 3, 480, 640)\n",
      "\n",
      "0: 480x640 3 battery_pluss, 43.1ms\n",
      "Speed: 8.9ms preprocess, 43.1ms inference, 14.1ms postprocess per image at shape (1, 3, 480, 640)\n",
      "\n"
     ]
    },
    {
     "name": "stdout",
     "output_type": "stream",
     "text": [
      "Detections(xyxy=array([[     619.57,      234.64,      638.34,      262.15],\n",
      "       [     613.24,       202.9,      631.32,      230.73]], dtype=float32), mask=None, confidence=array([    0.75612,     0.71609], dtype=float32), class_id=array([1, 1]), tracker_id=None, data={'class_name': array(['battery_plus', 'battery_plus'], dtype='<U12')})\n",
      "Detections(xyxy=array([[     606.17,      203.11,      623.92,      231.02],\n",
      "       [     612.34,      233.84,      631.97,      261.59],\n",
      "       [      629.4,      211.73,      639.84,       236.8]], dtype=float32), mask=None, confidence=array([    0.74115,     0.69846,     0.41817], dtype=float32), class_id=array([1, 1, 1]), tracker_id=None, data={'class_name': array(['battery_plus', 'battery_plus', 'battery_plus'], dtype='<U12')})\n"
     ]
    },
    {
     "name": "stderr",
     "output_type": "stream",
     "text": [
      "0: 480x640 4 battery_pluss, 42.3ms\n",
      "Speed: 7.6ms preprocess, 42.3ms inference, 6.7ms postprocess per image at shape (1, 3, 480, 640)\n",
      "\n",
      "0: 480x640 1 battery_minus, 3 battery_pluss, 93.4ms\n"
     ]
    },
    {
     "name": "stdout",
     "output_type": "stream",
     "text": [
      "Detections(xyxy=array([[     598.69,      202.93,      616.98,      231.02],\n",
      "       [     605.93,      234.18,      624.38,       262.3],\n",
      "       [     622.98,      211.26,      639.53,      238.21],\n",
      "       [     633.23,      235.86,      639.83,      257.32]], dtype=float32), mask=None, confidence=array([    0.74984,     0.66137,     0.62778,     0.25335], dtype=float32), class_id=array([1, 1, 1, 1]), tracker_id=None, data={'class_name': array(['battery_plus', 'battery_plus', 'battery_plus', 'battery_plus'], dtype='<U12')})\n"
     ]
    },
    {
     "name": "stderr",
     "output_type": "stream",
     "text": [
      "Speed: 6.0ms preprocess, 93.4ms inference, 11.4ms postprocess per image at shape (1, 3, 480, 640)\n",
      "\n"
     ]
    },
    {
     "name": "stdout",
     "output_type": "stream",
     "text": [
      "Detections(xyxy=array([[     591.48,      202.94,      609.87,      231.09],\n",
      "       [      616.1,      211.67,      635.05,      239.32],\n",
      "       [     598.14,      234.02,      617.57,      262.57],\n",
      "       [     627.42,       232.6,       639.8,      259.15]], dtype=float32), mask=None, confidence=array([    0.76226,     0.75807,     0.72885,     0.72521], dtype=float32), class_id=array([1, 1, 1, 0]), tracker_id=None, data={'class_name': array(['battery_plus', 'battery_plus', 'battery_plus', 'battery_minus'], dtype='<U13')})\n"
     ]
    },
    {
     "name": "stderr",
     "output_type": "stream",
     "text": [
      "0: 480x640 1 battery_minus, 3 battery_pluss, 139.0ms\n",
      "Speed: 8.1ms preprocess, 139.0ms inference, 16.3ms postprocess per image at shape (1, 3, 480, 640)\n",
      "\n"
     ]
    },
    {
     "name": "stdout",
     "output_type": "stream",
     "text": [
      "Detections(xyxy=array([[     585.81,      234.21,      605.06,      263.33],\n",
      "       [     617.66,      233.35,      637.76,       262.3],\n",
      "       [     605.01,      211.65,      623.79,      238.63],\n",
      "       [     579.19,      202.36,      598.35,      230.74]], dtype=float32), mask=None, confidence=array([     0.8255,     0.79928,     0.78133,     0.78112], dtype=float32), class_id=array([1, 0, 1, 1]), tracker_id=None, data={'class_name': array(['battery_plus', 'battery_minus', 'battery_plus', 'battery_plus'], dtype='<U13')})\n"
     ]
    },
    {
     "name": "stderr",
     "output_type": "stream",
     "text": [
      "0: 480x640 1 battery_minus, 4 battery_pluss, 136.1ms\n",
      "Speed: 9.7ms preprocess, 136.1ms inference, 8.8ms postprocess per image at shape (1, 3, 480, 640)\n",
      "\n",
      "0: 480x640 1 battery_minus, 4 battery_pluss, 48.5ms\n",
      "Speed: 4.3ms preprocess, 48.5ms inference, 11.2ms postprocess per image at shape (1, 3, 480, 640)\n",
      "\n"
     ]
    },
    {
     "name": "stdout",
     "output_type": "stream",
     "text": [
      "Detections(xyxy=array([[     604.13,      232.47,      626.36,      261.48],\n",
      "       [     566.81,      202.42,      585.74,      231.04],\n",
      "       [     592.13,      211.73,      610.78,      239.27],\n",
      "       [     573.61,      233.85,      593.66,         263],\n",
      "       [     634.22,       294.9,      639.92,      318.55]], dtype=float32), mask=None, confidence=array([    0.78174,     0.76749,     0.76645,     0.75649,     0.62456], dtype=float32), class_id=array([0, 1, 1, 1, 1]), tracker_id=None, data={'class_name': array(['battery_minus', 'battery_plus', 'battery_plus', 'battery_plus', 'battery_plus'], dtype='<U13')})\n",
      "Detections(xyxy=array([[      561.1,         234,      580.87,      263.32],\n",
      "       [     623.32,      292.58,      639.77,      321.93],\n",
      "       [     593.11,      232.78,      614.85,      261.73],\n",
      "       [      580.7,      211.42,      600.01,      238.51],\n",
      "       [     554.49,      202.28,      573.66,      230.91]], dtype=float32), mask=None, confidence=array([    0.81883,     0.80202,      0.7916,     0.79145,     0.77682], dtype=float32), class_id=array([1, 1, 0, 1, 1]), tracker_id=None, data={'class_name': array(['battery_plus', 'battery_plus', 'battery_minus', 'battery_plus', 'battery_plus'], dtype='<U13')})\n"
     ]
    },
    {
     "name": "stderr",
     "output_type": "stream",
     "text": [
      "0: 480x640 1 battery_minus, 4 battery_pluss, 49.8ms\n",
      "Speed: 0.0ms preprocess, 49.8ms inference, 14.2ms postprocess per image at shape (1, 3, 480, 640)\n",
      "\n",
      "0: 480x640 1 battery_minus, 4 battery_pluss, 42.7ms\n",
      "Speed: 3.9ms preprocess, 42.7ms inference, 12.5ms postprocess per image at shape (1, 3, 480, 640)\n",
      "\n"
     ]
    },
    {
     "name": "stdout",
     "output_type": "stream",
     "text": [
      "Detections(xyxy=array([[     547.84,      202.57,      566.87,       230.7],\n",
      "       [     617.01,      292.19,      635.92,      321.97],\n",
      "       [     585.93,      232.68,       607.8,      261.43],\n",
      "       [     553.74,      233.82,      573.41,      262.61],\n",
      "       [     573.65,       211.6,      592.46,      238.96]], dtype=float32), mask=None, confidence=array([    0.81271,     0.81032,     0.77849,     0.77193,     0.74903], dtype=float32), class_id=array([1, 1, 0, 1, 1]), tracker_id=None, data={'class_name': array(['battery_plus', 'battery_plus', 'battery_minus', 'battery_plus', 'battery_plus'], dtype='<U13')})\n",
      "Detections(xyxy=array([[     541.31,      202.87,      559.68,      231.07],\n",
      "       [     546.95,      232.67,      567.34,      261.78],\n",
      "       [     609.63,      291.71,      629.28,      321.83],\n",
      "       [     578.54,       232.2,      600.87,      261.59],\n",
      "       [     565.96,      211.35,      585.18,      239.71]], dtype=float32), mask=None, confidence=array([    0.80207,     0.78136,     0.78065,      0.7692,     0.74963], dtype=float32), class_id=array([1, 1, 1, 0, 1]), tracker_id=None, data={'class_name': array(['battery_plus', 'battery_plus', 'battery_plus', 'battery_minus', 'battery_plus'], dtype='<U13')})\n"
     ]
    },
    {
     "name": "stderr",
     "output_type": "stream",
     "text": [
      "0: 480x640 1 battery_minus, 4 battery_pluss, 43.4ms\n",
      "Speed: 4.6ms preprocess, 43.4ms inference, 14.2ms postprocess per image at shape (1, 3, 480, 640)\n",
      "\n",
      "0: 480x640 1 battery_minus, 4 battery_pluss, 45.4ms\n",
      "Speed: 3.4ms preprocess, 45.4ms inference, 13.3ms postprocess per image at shape (1, 3, 480, 640)\n",
      "\n"
     ]
    },
    {
     "name": "stdout",
     "output_type": "stream",
     "text": [
      "Detections(xyxy=array([[      539.6,      233.67,      560.11,      263.23],\n",
      "       [     533.94,      202.87,      552.53,      231.21],\n",
      "       [     571.63,      231.76,      593.47,      260.95],\n",
      "       [     602.72,      292.11,      622.94,      321.44],\n",
      "       [     558.97,      211.26,       577.7,      240.53]], dtype=float32), mask=None, confidence=array([      0.799,     0.76393,     0.75384,      0.7535,     0.73607], dtype=float32), class_id=array([1, 1, 0, 1, 1]), tracker_id=None, data={'class_name': array(['battery_plus', 'battery_plus', 'battery_minus', 'battery_plus', 'battery_plus'], dtype='<U13')})\n",
      "Detections(xyxy=array([[     595.73,      292.13,      616.15,      321.24],\n",
      "       [      532.8,      233.78,      553.41,      263.14],\n",
      "       [     526.35,      202.88,      544.97,      230.96],\n",
      "       [     563.97,      232.59,      586.41,      261.73],\n",
      "       [     551.56,      211.23,       570.9,      240.52]], dtype=float32), mask=None, confidence=array([      0.773,     0.75929,     0.75579,      0.7482,     0.72363], dtype=float32), class_id=array([1, 1, 1, 0, 1]), tracker_id=None, data={'class_name': array(['battery_plus', 'battery_plus', 'battery_plus', 'battery_minus', 'battery_plus'], dtype='<U13')})\n"
     ]
    },
    {
     "name": "stderr",
     "output_type": "stream",
     "text": [
      "0: 480x640 2 battery_minuss, 5 battery_pluss, 47.1ms\n",
      "Speed: 4.7ms preprocess, 47.1ms inference, 16.0ms postprocess per image at shape (1, 3, 480, 640)\n",
      "\n",
      "0: 480x640 1 battery_minus, 5 battery_pluss, 41.4ms\n",
      "Speed: 0.0ms preprocess, 41.4ms inference, 14.1ms postprocess per image at shape (1, 3, 480, 640)\n",
      "\n"
     ]
    },
    {
     "name": "stdout",
     "output_type": "stream",
     "text": [
      "Detections(xyxy=array([[     557.21,      232.14,      579.64,      261.17],\n",
      "       [      519.3,      203.24,      538.13,      231.21],\n",
      "       [     525.45,      234.33,      545.84,      263.32],\n",
      "       [     588.69,      291.82,      609.02,      321.13],\n",
      "       [     544.37,      211.49,      563.49,      240.54],\n",
      "       [     545.71,      209.27,      564.68,      236.11],\n",
      "       [     553.57,      225.06,      570.58,      261.49]], dtype=float32), mask=None, confidence=array([    0.81165,     0.78299,     0.77999,      0.7521,     0.75081,     0.40127,     0.30761], dtype=float32), class_id=array([0, 1, 1, 1, 1, 1, 0]), tracker_id=None, data={'class_name': array(['battery_minus', 'battery_plus', 'battery_plus', 'battery_plus', 'battery_plus', 'battery_plus', 'battery_minus'], dtype='<U13')})\n",
      "Detections(xyxy=array([[     549.54,      232.75,      571.99,      261.23],\n",
      "       [     512.17,      203.09,      530.84,      231.13],\n",
      "       [     518.27,      234.35,      538.37,      263.05],\n",
      "       [     537.25,      211.57,       557.1,      240.48],\n",
      "       [     582.28,      291.47,      601.66,      321.08],\n",
      "       [     633.54,      265.18,         640,      290.15]], dtype=float32), mask=None, confidence=array([    0.81165,      0.7632,     0.75927,     0.75423,     0.75197,     0.64167], dtype=float32), class_id=array([0, 1, 1, 1, 1, 1]), tracker_id=None, data={'class_name': array(['battery_minus', 'battery_plus', 'battery_plus', 'battery_plus', 'battery_plus', 'battery_plus'], dtype='<U13')})\n"
     ]
    },
    {
     "name": "stderr",
     "output_type": "stream",
     "text": [
      "0: 480x640 2 battery_minuss, 4 battery_pluss, 47.1ms\n",
      "Speed: 4.0ms preprocess, 47.1ms inference, 9.7ms postprocess per image at shape (1, 3, 480, 640)\n",
      "\n",
      "0: 480x640 2 battery_minuss, 4 battery_pluss, 40.9ms\n",
      "Speed: 6.6ms preprocess, 40.9ms inference, 14.3ms postprocess per image at shape (1, 3, 480, 640)\n",
      "\n"
     ]
    },
    {
     "name": "stdout",
     "output_type": "stream",
     "text": [
      "Detections(xyxy=array([[     627.45,      264.87,      639.95,      292.35],\n",
      "       [     574.59,      291.83,       594.7,      320.89],\n",
      "       [     542.66,      232.25,      564.82,      261.61],\n",
      "       [     511.24,      234.05,      531.59,      263.25],\n",
      "       [     504.87,       203.1,      523.48,      230.96],\n",
      "       [     530.43,      211.63,      550.54,      239.65]], dtype=float32), mask=None, confidence=array([    0.77592,     0.77462,     0.77429,     0.75866,     0.75537,      0.7347], dtype=float32), class_id=array([0, 1, 0, 1, 1, 1]), tracker_id=None, data={'class_name': array(['battery_minus', 'battery_plus', 'battery_minus', 'battery_plus', 'battery_plus', 'battery_plus'], dtype='<U13')})\n",
      "Detections(xyxy=array([[     621.24,      263.31,      639.72,      293.28],\n",
      "       [     567.55,      291.85,      587.52,      320.87],\n",
      "       [     537.09,      233.24,      558.87,      261.38],\n",
      "       [     503.76,      234.29,         524,      263.23],\n",
      "       [     497.29,      202.69,      516.02,      230.75],\n",
      "       [     523.17,      211.41,      543.31,      238.65]], dtype=float32), mask=None, confidence=array([    0.81709,     0.78277,     0.77708,     0.76792,     0.72761,     0.71153], dtype=float32), class_id=array([0, 1, 0, 1, 1, 1]), tracker_id=None, data={'class_name': array(['battery_minus', 'battery_plus', 'battery_minus', 'battery_plus', 'battery_plus', 'battery_plus'], dtype='<U13')})\n"
     ]
    },
    {
     "name": "stderr",
     "output_type": "stream",
     "text": [
      "0: 480x640 4 battery_minuss, 42.6ms\n",
      "Speed: 5.3ms preprocess, 42.6ms inference, 14.2ms postprocess per image at shape (1, 3, 480, 640)\n",
      "\n",
      "0: 480x640 2 battery_minuss, 4 battery_pluss, 38.7ms\n",
      "Speed: 7.3ms preprocess, 38.7ms inference, 17.0ms postprocess per image at shape (1, 3, 480, 640)\n",
      "\n"
     ]
    },
    {
     "name": "stdout",
     "output_type": "stream",
     "text": [
      "Detections(xyxy=array([[     617.69,      264.33,      636.93,      293.54],\n",
      "       [     530.65,      232.38,      553.55,      261.97],\n",
      "       [     562.55,      292.68,      582.44,      320.89],\n",
      "       [     519.89,      211.12,      536.29,      241.53]], dtype=float32), mask=None, confidence=array([    0.80388,     0.55276,     0.35661,     0.30799], dtype=float32), class_id=array([0, 0, 0, 0]), tracker_id=None, data={'class_name': array(['battery_minus', 'battery_minus', 'battery_minus', 'battery_minus'], dtype='<U13')})\n",
      "Detections(xyxy=array([[     488.97,      234.32,      509.23,      263.82],\n",
      "       [     607.76,      263.32,      627.68,       292.7],\n",
      "       [      553.1,      290.94,      572.56,      320.51],\n",
      "       [     522.25,       233.1,      544.14,      261.56],\n",
      "       [     509.36,      211.52,      528.36,      239.01],\n",
      "       [     482.79,      202.48,       501.8,      230.29]], dtype=float32), mask=None, confidence=array([    0.84046,     0.82709,       0.813,     0.76983,     0.75607,     0.75245], dtype=float32), class_id=array([1, 0, 1, 0, 1, 1]), tracker_id=None, data={'class_name': array(['battery_plus', 'battery_minus', 'battery_plus', 'battery_minus', 'battery_plus', 'battery_plus'], dtype='<U13')})\n"
     ]
    },
    {
     "name": "stderr",
     "output_type": "stream",
     "text": [
      "0: 480x640 2 battery_minuss, 4 battery_pluss, 47.4ms\n",
      "Speed: 0.0ms preprocess, 47.4ms inference, 17.5ms postprocess per image at shape (1, 3, 480, 640)\n",
      "\n",
      "0: 480x640 2 battery_minuss, 4 battery_pluss, 41.3ms\n",
      "Speed: 6.6ms preprocess, 41.3ms inference, 15.9ms postprocess per image at shape (1, 3, 480, 640)\n",
      "\n"
     ]
    },
    {
     "name": "stdout",
     "output_type": "stream",
     "text": [
      "Detections(xyxy=array([[     476.51,       202.7,      495.26,      230.77],\n",
      "       [     600.52,      263.75,      620.53,      292.94],\n",
      "       [     482.33,      233.25,      503.56,      263.17],\n",
      "       [     545.85,      291.04,      565.94,      320.48],\n",
      "       [     502.61,      211.51,      521.74,      240.82],\n",
      "       [     515.45,      232.86,      537.44,      261.84]], dtype=float32), mask=None, confidence=array([    0.81212,     0.80326,     0.78614,     0.76241,     0.73892,     0.71071], dtype=float32), class_id=array([1, 0, 1, 1, 1, 0]), tracker_id=None, data={'class_name': array(['battery_plus', 'battery_minus', 'battery_plus', 'battery_plus', 'battery_plus', 'battery_minus'], dtype='<U13')})\n",
      "Detections(xyxy=array([[     593.74,      263.82,      614.65,      293.16],\n",
      "       [     469.02,      203.07,      487.87,      230.46],\n",
      "       [     475.22,      232.98,      496.79,      262.91],\n",
      "       [     539.35,      290.92,      559.98,      320.36],\n",
      "       [     495.11,      211.57,      514.12,      240.59],\n",
      "       [     508.01,      233.35,      530.02,      262.46]], dtype=float32), mask=None, confidence=array([    0.80042,     0.78541,     0.77889,     0.74645,     0.71596,     0.69553], dtype=float32), class_id=array([0, 1, 1, 1, 1, 0]), tracker_id=None, data={'class_name': array(['battery_minus', 'battery_plus', 'battery_plus', 'battery_plus', 'battery_plus', 'battery_minus'], dtype='<U13')})\n"
     ]
    },
    {
     "name": "stderr",
     "output_type": "stream",
     "text": [
      "0: 480x640 2 battery_minuss, 4 battery_pluss, 45.8ms\n",
      "Speed: 0.0ms preprocess, 45.8ms inference, 13.6ms postprocess per image at shape (1, 3, 480, 640)\n",
      "\n",
      "0: 480x640 2 battery_minuss, 4 battery_pluss, 42.7ms\n",
      "Speed: 4.1ms preprocess, 42.7ms inference, 13.1ms postprocess per image at shape (1, 3, 480, 640)\n",
      "\n"
     ]
    },
    {
     "name": "stdout",
     "output_type": "stream",
     "text": [
      "Detections(xyxy=array([[     586.47,      263.48,      607.51,      293.38],\n",
      "       [     462.03,      203.11,      480.63,      231.18],\n",
      "       [     467.45,      233.85,      489.26,      263.13],\n",
      "       [     531.97,      291.12,      552.58,      320.15],\n",
      "       [     500.09,      232.36,      522.35,      261.63],\n",
      "       [     487.96,      211.43,      507.38,      240.95]], dtype=float32), mask=None, confidence=array([    0.80284,     0.77668,     0.76364,     0.75908,     0.75848,     0.74195], dtype=float32), class_id=array([0, 1, 1, 1, 0, 1]), tracker_id=None, data={'class_name': array(['battery_minus', 'battery_plus', 'battery_plus', 'battery_plus', 'battery_minus', 'battery_plus'], dtype='<U13')})\n",
      "Detections(xyxy=array([[     579.46,      263.46,      600.55,      293.17],\n",
      "       [     493.27,      232.33,      515.68,      261.71],\n",
      "       [     453.89,      202.86,       473.6,      230.81],\n",
      "       [     525.17,      290.94,      545.77,      320.65],\n",
      "       [     461.52,      234.24,      481.99,      263.67],\n",
      "       [     480.69,      211.62,      500.38,       240.9]], dtype=float32), mask=None, confidence=array([    0.82005,     0.78454,     0.78316,     0.74721,      0.7465,     0.73574], dtype=float32), class_id=array([0, 0, 1, 1, 1, 1]), tracker_id=None, data={'class_name': array(['battery_minus', 'battery_minus', 'battery_plus', 'battery_plus', 'battery_plus', 'battery_plus'], dtype='<U13')})\n"
     ]
    },
    {
     "name": "stderr",
     "output_type": "stream",
     "text": [
      "0: 480x640 2 battery_minuss, 4 battery_pluss, 42.7ms\n",
      "Speed: 4.4ms preprocess, 42.7ms inference, 14.5ms postprocess per image at shape (1, 3, 480, 640)\n",
      "\n",
      "0: 480x640 2 battery_minuss, 4 battery_pluss, 43.3ms\n",
      "Speed: 4.9ms preprocess, 43.3ms inference, 13.1ms postprocess per image at shape (1, 3, 480, 640)\n"
     ]
    },
    {
     "name": "stdout",
     "output_type": "stream",
     "text": [
      "Detections(xyxy=array([[     572.45,      263.43,       593.2,      293.01],\n",
      "       [     446.26,      202.89,      466.09,      230.98],\n",
      "       [     486.25,      232.56,       508.7,      261.55],\n",
      "       [     473.52,      211.61,       493.2,      241.05],\n",
      "       [     453.65,      234.58,      474.37,      263.83],\n",
      "       [      517.9,      291.16,      538.53,      320.42]], dtype=float32), mask=None, confidence=array([    0.83036,     0.80218,     0.79953,     0.75603,      0.7508,      0.7434], dtype=float32), class_id=array([0, 1, 0, 1, 1, 1]), tracker_id=None, data={'class_name': array(['battery_minus', 'battery_plus', 'battery_minus', 'battery_plus', 'battery_plus', 'battery_plus'], dtype='<U13')})\n",
      "Detections(xyxy=array([[     565.51,      263.05,      585.94,      292.98],\n",
      "       [     439.65,      203.06,      458.74,      230.64],\n",
      "       [     478.53,      232.72,      501.08,      261.62],\n",
      "       [     510.87,      291.14,      531.14,      320.21],\n",
      "       [     446.81,      234.76,      466.81,      263.55],\n",
      "       [     466.17,      211.62,      486.28,      240.66]], dtype=float32), mask=None, confidence=array([    0.83961,     0.76181,     0.74763,     0.74268,     0.72677,     0.72503], dtype=float32), class_id=array([0, 1, 0, 1, 1, 1]), tracker_id=None, data={'class_name': array(['battery_minus', 'battery_plus', 'battery_minus', 'battery_plus', 'battery_plus', 'battery_plus'], dtype='<U13')})\n"
     ]
    },
    {
     "name": "stderr",
     "output_type": "stream",
     "text": [
      "\n",
      "0: 480x640 2 battery_minuss, 4 battery_pluss, 44.1ms\n",
      "Speed: 5.7ms preprocess, 44.1ms inference, 11.8ms postprocess per image at shape (1, 3, 480, 640)\n",
      "\n",
      "0: 480x640 2 battery_minuss, 4 battery_pluss, 45.2ms\n",
      "Speed: 0.0ms preprocess, 45.2ms inference, 13.7ms postprocess per image at shape (1, 3, 480, 640)\n",
      "\n"
     ]
    },
    {
     "name": "stdout",
     "output_type": "stream",
     "text": [
      "Detections(xyxy=array([[      558.7,      263.09,      578.86,      292.88],\n",
      "       [     431.81,      202.92,      451.88,      231.46],\n",
      "       [     439.37,      234.43,      460.27,       263.7],\n",
      "       [      503.9,      291.02,      523.72,      319.81],\n",
      "       [      472.9,       233.7,      493.94,      261.84],\n",
      "       [     458.88,       211.7,      479.49,      240.21]], dtype=float32), mask=None, confidence=array([    0.83419,     0.78246,     0.76482,      0.7537,     0.74348,     0.71059], dtype=float32), class_id=array([0, 1, 1, 1, 0, 1]), tracker_id=None, data={'class_name': array(['battery_minus', 'battery_plus', 'battery_plus', 'battery_plus', 'battery_minus', 'battery_plus'], dtype='<U13')})\n",
      "Detections(xyxy=array([[     551.15,      263.24,      571.45,      292.89],\n",
      "       [     424.57,      202.78,      444.11,      231.53],\n",
      "       [     464.97,      233.69,      487.11,      261.92],\n",
      "       [     432.15,      234.56,      452.81,      263.97],\n",
      "       [     496.63,       290.9,      516.37,      320.06],\n",
      "       [     451.41,      211.75,      471.82,      239.35]], dtype=float32), mask=None, confidence=array([    0.83381,     0.78942,     0.78914,      0.7809,      0.7709,     0.75724], dtype=float32), class_id=array([0, 1, 0, 1, 1, 1]), tracker_id=None, data={'class_name': array(['battery_minus', 'battery_plus', 'battery_minus', 'battery_plus', 'battery_plus', 'battery_plus'], dtype='<U13')})\n"
     ]
    },
    {
     "name": "stderr",
     "output_type": "stream",
     "text": [
      "0: 480x640 2 battery_minuss, 4 battery_pluss, 43.6ms\n",
      "Speed: 3.7ms preprocess, 43.6ms inference, 16.8ms postprocess per image at shape (1, 3, 480, 640)\n",
      "\n",
      "0: 480x640 2 battery_minuss, 4 battery_pluss, 45.1ms\n",
      "Speed: 4.0ms preprocess, 45.1ms inference, 14.1ms postprocess per image at shape (1, 3, 480, 640)\n",
      "\n"
     ]
    },
    {
     "name": "stdout",
     "output_type": "stream",
     "text": [
      "Detections(xyxy=array([[     425.02,      234.21,      445.91,      263.92],\n",
      "       [     544.21,      263.24,      564.27,      292.84],\n",
      "       [     488.98,      290.79,      509.15,      319.86],\n",
      "       [     417.13,      202.99,      436.62,      231.89],\n",
      "       [     457.68,      233.08,      479.84,      261.87],\n",
      "       [     444.74,      211.68,      464.66,      240.36]], dtype=float32), mask=None, confidence=array([    0.82971,     0.79278,      0.7823,     0.78183,     0.78119,     0.71349], dtype=float32), class_id=array([1, 0, 1, 1, 0, 1]), tracker_id=None, data={'class_name': array(['battery_plus', 'battery_minus', 'battery_plus', 'battery_plus', 'battery_minus', 'battery_plus'], dtype='<U13')})\n",
      "Detections(xyxy=array([[     537.61,      263.44,      558.61,       293.3],\n",
      "       [     410.14,      203.01,      430.85,       232.1],\n",
      "       [     417.78,      233.48,      439.53,      263.07],\n",
      "       [     450.21,       232.8,      472.76,      261.87],\n",
      "       [      482.4,      290.99,       503.4,       319.6],\n",
      "       [     438.19,      211.58,      457.32,       240.1]], dtype=float32), mask=None, confidence=array([    0.80152,     0.79677,     0.78892,     0.77803,     0.74439,     0.72662], dtype=float32), class_id=array([0, 1, 1, 0, 1, 1]), tracker_id=None, data={'class_name': array(['battery_minus', 'battery_plus', 'battery_plus', 'battery_minus', 'battery_plus', 'battery_plus'], dtype='<U13')})\n"
     ]
    },
    {
     "name": "stderr",
     "output_type": "stream",
     "text": [
      "0: 480x640 2 battery_minuss, 4 battery_pluss, 45.2ms\n",
      "Speed: 3.7ms preprocess, 45.2ms inference, 16.5ms postprocess per image at shape (1, 3, 480, 640)\n",
      "\n",
      "0: 480x640 2 battery_minuss, 4 battery_pluss, 38.3ms\n",
      "Speed: 7.4ms preprocess, 38.3ms inference, 19.1ms postprocess per image at shape (1, 3, 480, 640)\n",
      "\n"
     ]
    },
    {
     "name": "stdout",
     "output_type": "stream",
     "text": [
      "Detections(xyxy=array([[     530.28,      262.68,      551.18,      293.02],\n",
      "       [     410.47,      233.66,      432.32,      262.83],\n",
      "       [     402.73,      202.82,      423.39,      231.79],\n",
      "       [     475.01,      290.82,      495.91,      319.74],\n",
      "       [     442.31,      232.67,      465.35,      261.31],\n",
      "       [      430.4,      211.72,      449.51,         240]], dtype=float32), mask=None, confidence=array([    0.81004,     0.78691,     0.78246,     0.73677,     0.73546,     0.69957], dtype=float32), class_id=array([0, 1, 1, 1, 0, 1]), tracker_id=None, data={'class_name': array(['battery_minus', 'battery_plus', 'battery_plus', 'battery_plus', 'battery_minus', 'battery_plus'], dtype='<U13')})\n",
      "Detections(xyxy=array([[     523.41,      263.15,      544.38,      292.76],\n",
      "       [     395.28,      202.94,      416.34,      232.04],\n",
      "       [     403.36,      233.91,      425.22,      262.72],\n",
      "       [     468.44,      290.17,      488.64,      319.36],\n",
      "       [     435.13,      232.77,      458.12,      261.83],\n",
      "       [      423.6,      212.09,      442.96,      239.42]], dtype=float32), mask=None, confidence=array([    0.80599,     0.77494,     0.77035,     0.74103,     0.73488,     0.72402], dtype=float32), class_id=array([0, 1, 1, 1, 0, 1]), tracker_id=None, data={'class_name': array(['battery_minus', 'battery_plus', 'battery_plus', 'battery_plus', 'battery_minus', 'battery_plus'], dtype='<U13')})\n"
     ]
    },
    {
     "name": "stderr",
     "output_type": "stream",
     "text": [
      "0: 480x640 2 battery_minuss, 4 battery_pluss, 45.1ms\n",
      "Speed: 4.5ms preprocess, 45.1ms inference, 15.4ms postprocess per image at shape (1, 3, 480, 640)\n",
      "\n",
      "0: 480x640 2 battery_minuss, 4 battery_pluss, 46.8ms\n",
      "Speed: 5.3ms preprocess, 46.8ms inference, 12.1ms postprocess per image at shape (1, 3, 480, 640)\n",
      "\n"
     ]
    },
    {
     "name": "stdout",
     "output_type": "stream",
     "text": [
      "Detections(xyxy=array([[     515.88,      263.29,      536.96,      292.58],\n",
      "       [     387.68,      203.02,      408.36,      232.43],\n",
      "       [     396.59,      234.33,      418.03,       263.7],\n",
      "       [     428.62,      232.49,      451.03,      261.72],\n",
      "       [     461.82,      290.39,      481.43,      319.53],\n",
      "       [     415.65,      211.52,      435.42,      240.54]], dtype=float32), mask=None, confidence=array([    0.81669,     0.77913,     0.76369,     0.76056,     0.72866,     0.71468], dtype=float32), class_id=array([0, 1, 1, 0, 1, 1]), tracker_id=None, data={'class_name': array(['battery_minus', 'battery_plus', 'battery_plus', 'battery_minus', 'battery_plus', 'battery_plus'], dtype='<U13')})\n",
      "Detections(xyxy=array([[     508.25,      263.13,      529.16,      292.63],\n",
      "       [     380.72,      202.67,       401.7,      232.16],\n",
      "       [     389.48,      234.47,      410.63,      263.38],\n",
      "       [     408.92,      212.13,      428.11,      240.54],\n",
      "       [     454.11,      290.34,      474.08,      319.73],\n",
      "       [     421.82,      232.65,      444.07,      261.19]], dtype=float32), mask=None, confidence=array([    0.82235,     0.78923,     0.77621,     0.75038,     0.72632,     0.71581], dtype=float32), class_id=array([0, 1, 1, 1, 1, 0]), tracker_id=None, data={'class_name': array(['battery_minus', 'battery_plus', 'battery_plus', 'battery_plus', 'battery_plus', 'battery_minus'], dtype='<U13')})\n"
     ]
    },
    {
     "name": "stderr",
     "output_type": "stream",
     "text": [
      "0: 480x640 2 battery_minuss, 4 battery_pluss, 42.5ms\n",
      "Speed: 4.6ms preprocess, 42.5ms inference, 17.8ms postprocess per image at shape (1, 3, 480, 640)\n",
      "\n",
      "0: 480x640 2 battery_minuss, 4 battery_pluss, 44.4ms\n",
      "Speed: 2.7ms preprocess, 44.4ms inference, 14.5ms postprocess per image at shape (1, 3, 480, 640)\n",
      "\n"
     ]
    },
    {
     "name": "stdout",
     "output_type": "stream",
     "text": [
      "Detections(xyxy=array([[     501.58,       262.9,      522.15,      292.82],\n",
      "       [     374.28,      202.96,      394.41,      232.03],\n",
      "       [     382.97,       234.7,      402.66,       262.8],\n",
      "       [     446.11,       290.6,      466.66,      319.65],\n",
      "       [     401.64,      211.92,      421.39,      240.51],\n",
      "       [     415.21,      233.12,      436.83,      261.85]], dtype=float32), mask=None, confidence=array([    0.84242,     0.78587,     0.75507,     0.73644,     0.69862,     0.69402], dtype=float32), class_id=array([0, 1, 1, 1, 1, 0]), tracker_id=None, data={'class_name': array(['battery_minus', 'battery_plus', 'battery_plus', 'battery_plus', 'battery_plus', 'battery_minus'], dtype='<U13')})\n",
      "Detections(xyxy=array([[      494.6,      263.13,         515,      292.68],\n",
      "       [     366.36,       203.2,      387.45,      231.96],\n",
      "       [     375.52,      234.22,      396.33,      263.26],\n",
      "       [     408.74,      233.91,      430.08,      261.48],\n",
      "       [     394.66,      211.93,       414.3,      239.05],\n",
      "       [     439.27,      290.53,      459.32,      319.16]], dtype=float32), mask=None, confidence=array([    0.82472,     0.78472,     0.77504,     0.76733,      0.7549,     0.74275], dtype=float32), class_id=array([0, 1, 1, 0, 1, 1]), tracker_id=None, data={'class_name': array(['battery_minus', 'battery_plus', 'battery_plus', 'battery_minus', 'battery_plus', 'battery_plus'], dtype='<U13')})\n"
     ]
    },
    {
     "name": "stderr",
     "output_type": "stream",
     "text": [
      "0: 480x640 2 battery_minuss, 4 battery_pluss, 45.0ms\n",
      "Speed: 3.2ms preprocess, 45.0ms inference, 16.5ms postprocess per image at shape (1, 3, 480, 640)\n",
      "\n",
      "0: 480x640 2 battery_minuss, 4 battery_pluss, 43.2ms\n",
      "Speed: 5.0ms preprocess, 43.2ms inference, 14.3ms postprocess per image at shape (1, 3, 480, 640)\n",
      "\n"
     ]
    },
    {
     "name": "stdout",
     "output_type": "stream",
     "text": [
      "Detections(xyxy=array([[      487.6,       263.1,      507.81,      292.71],\n",
      "       [     360.22,      202.95,       380.1,      232.29],\n",
      "       [     367.66,      233.84,      389.02,      263.13],\n",
      "       [     400.93,      233.55,      422.87,       261.3],\n",
      "       [     432.02,      290.57,      452.04,      319.27],\n",
      "       [      387.6,      211.91,      407.29,         239]], dtype=float32), mask=None, confidence=array([     0.8313,     0.80912,     0.79318,     0.78352,      0.7646,     0.75745], dtype=float32), class_id=array([0, 1, 1, 0, 1, 1]), tracker_id=None, data={'class_name': array(['battery_minus', 'battery_plus', 'battery_plus', 'battery_minus', 'battery_plus', 'battery_plus'], dtype='<U13')})\n",
      "Detections(xyxy=array([[      353.3,      202.76,      373.35,       232.5],\n",
      "       [     480.42,       262.9,      500.53,      292.45],\n",
      "       [     393.62,      233.35,      415.76,      261.46],\n",
      "       [     360.42,      233.86,      382.58,      262.85],\n",
      "       [     424.68,      290.31,      444.99,      318.83],\n",
      "       [     381.49,      211.76,      400.51,      238.68]], dtype=float32), mask=None, confidence=array([    0.82337,      0.8072,     0.78428,     0.77804,     0.77392,     0.75046], dtype=float32), class_id=array([1, 0, 0, 1, 1, 1]), tracker_id=None, data={'class_name': array(['battery_plus', 'battery_minus', 'battery_minus', 'battery_plus', 'battery_plus', 'battery_plus'], dtype='<U13')})\n"
     ]
    },
    {
     "name": "stderr",
     "output_type": "stream",
     "text": [
      "0: 480x640 2 battery_minuss, 4 battery_pluss, 46.8ms\n",
      "Speed: 4.8ms preprocess, 46.8ms inference, 13.6ms postprocess per image at shape (1, 3, 480, 640)\n",
      "\n",
      "0: 480x640 2 battery_minuss, 4 battery_pluss, 49.0ms\n",
      "Speed: 3.8ms preprocess, 49.0ms inference, 12.9ms postprocess per image at shape (1, 3, 480, 640)\n",
      "\n"
     ]
    },
    {
     "name": "stdout",
     "output_type": "stream",
     "text": [
      "Detections(xyxy=array([[     472.17,      262.83,      492.75,      292.22],\n",
      "       [     386.34,      232.75,      408.59,      260.89],\n",
      "       [     354.46,      232.95,      375.89,      263.09],\n",
      "       [     346.24,      202.72,      366.52,      231.74],\n",
      "       [     416.92,      290.19,      437.13,      318.24],\n",
      "       [     374.35,      211.67,      392.72,      238.06]], dtype=float32), mask=None, confidence=array([    0.84459,     0.79775,     0.79639,     0.79436,     0.75555,     0.74677], dtype=float32), class_id=array([0, 0, 1, 1, 1, 1]), tracker_id=None, data={'class_name': array(['battery_minus', 'battery_minus', 'battery_plus', 'battery_plus', 'battery_plus', 'battery_plus'], dtype='<U13')})\n",
      "Detections(xyxy=array([[        339,      201.82,       359.4,      229.95],\n",
      "       [     467.75,      262.88,         488,      293.11],\n",
      "       [     345.99,      232.51,      368.32,      263.24],\n",
      "       [     378.12,      230.99,      402.45,      261.11],\n",
      "       [     367.13,      211.78,       385.4,      240.03],\n",
      "       [     410.96,      290.66,      432.42,      320.48]], dtype=float32), mask=None, confidence=array([    0.79917,     0.78698,     0.71749,     0.65314,     0.58219,     0.48901], dtype=float32), class_id=array([1, 0, 1, 0, 1, 1]), tracker_id=None, data={'class_name': array(['battery_plus', 'battery_minus', 'battery_plus', 'battery_minus', 'battery_plus', 'battery_plus'], dtype='<U13')})\n"
     ]
    },
    {
     "name": "stderr",
     "output_type": "stream",
     "text": [
      "0: 480x640 2 battery_minuss, 4 battery_pluss, 47.8ms\n",
      "Speed: 0.0ms preprocess, 47.8ms inference, 12.6ms postprocess per image at shape (1, 3, 480, 640)\n",
      "\n",
      "0: 480x640 2 battery_minuss, 4 battery_pluss, 45.9ms\n",
      "Speed: 0.0ms preprocess, 45.9ms inference, 16.5ms postprocess per image at shape (1, 3, 480, 640)\n",
      "\n"
     ]
    },
    {
     "name": "stdout",
     "output_type": "stream",
     "text": [
      "Detections(xyxy=array([[     461.06,      262.81,      481.86,      293.17],\n",
      "       [     332.71,       201.9,      352.78,      229.02],\n",
      "       [     340.42,      231.78,      362.45,      261.59],\n",
      "       [     358.04,      211.17,      378.91,      239.98],\n",
      "       [     371.02,       230.7,      395.68,      260.89],\n",
      "       [     404.73,       290.8,      425.53,      319.97]], dtype=float32), mask=None, confidence=array([    0.75267,     0.68114,      0.6663,     0.63747,     0.48771,     0.36836], dtype=float32), class_id=array([0, 1, 1, 1, 0, 1]), tracker_id=None, data={'class_name': array(['battery_minus', 'battery_plus', 'battery_plus', 'battery_plus', 'battery_minus', 'battery_plus'], dtype='<U13')})\n",
      "Detections(xyxy=array([[     325.37,      202.01,      345.54,      229.67],\n",
      "       [     453.32,       262.5,      474.09,      292.85],\n",
      "       [     333.13,      232.62,      354.79,      262.01],\n",
      "       [     364.27,      230.18,      388.65,      261.16],\n",
      "       [     351.09,      211.16,       371.1,      239.97],\n",
      "       [     397.49,      291.35,       417.8,       319.8]], dtype=float32), mask=None, confidence=array([    0.79193,     0.76521,      0.6759,      0.6325,     0.58888,     0.52715], dtype=float32), class_id=array([1, 0, 1, 0, 1, 1]), tracker_id=None, data={'class_name': array(['battery_plus', 'battery_minus', 'battery_plus', 'battery_minus', 'battery_plus', 'battery_plus'], dtype='<U13')})\n"
     ]
    },
    {
     "name": "stderr",
     "output_type": "stream",
     "text": [
      "0: 480x640 2 battery_minuss, 4 battery_pluss, 47.1ms\n",
      "Speed: 0.0ms preprocess, 47.1ms inference, 14.5ms postprocess per image at shape (1, 3, 480, 640)\n",
      "\n",
      "0: 480x640 2 battery_minuss, 3 battery_pluss, 43.3ms\n",
      "Speed: 4.1ms preprocess, 43.3ms inference, 14.6ms postprocess per image at shape (1, 3, 480, 640)\n",
      "\n"
     ]
    },
    {
     "name": "stdout",
     "output_type": "stream",
     "text": [
      "Detections(xyxy=array([[     446.05,      262.21,       466.6,      292.91],\n",
      "       [     357.16,      230.34,      381.13,      261.13],\n",
      "       [     318.96,       202.3,      338.18,      230.23],\n",
      "       [     326.49,      232.56,      348.27,      262.19],\n",
      "       [     344.03,       211.7,      365.12,      240.63],\n",
      "       [     390.15,      290.94,      411.69,      320.07]], dtype=float32), mask=None, confidence=array([    0.79209,     0.56353,     0.51561,     0.38465,     0.35841,     0.31405], dtype=float32), class_id=array([0, 0, 1, 1, 1, 1]), tracker_id=None, data={'class_name': array(['battery_minus', 'battery_minus', 'battery_plus', 'battery_plus', 'battery_plus', 'battery_plus'], dtype='<U13')})\n",
      "Detections(xyxy=array([[     439.04,      262.31,      459.85,      292.59],\n",
      "       [     311.53,      202.22,      330.98,      229.96],\n",
      "       [     337.99,      211.58,      359.04,      238.76],\n",
      "       [     319.78,      232.94,      341.76,      261.56],\n",
      "       [     349.91,      229.35,      374.06,      260.71]], dtype=float32), mask=None, confidence=array([    0.77693,      0.6764,     0.67179,     0.58955,     0.49933], dtype=float32), class_id=array([0, 1, 1, 1, 0]), tracker_id=None, data={'class_name': array(['battery_minus', 'battery_plus', 'battery_plus', 'battery_plus', 'battery_minus'], dtype='<U13')})\n"
     ]
    },
    {
     "name": "stderr",
     "output_type": "stream",
     "text": [
      "0: 480x640 1 battery_minus, 3 battery_pluss, 47.0ms\n",
      "Speed: 4.0ms preprocess, 47.0ms inference, 14.5ms postprocess per image at shape (1, 3, 480, 640)\n",
      "\n",
      "0: 480x640 2 battery_minuss, 1 battery_plus, 42.9ms\n",
      "Speed: 4.9ms preprocess, 42.9ms inference, 13.7ms postprocess per image at shape (1, 3, 480, 640)\n",
      "\n"
     ]
    },
    {
     "name": "stdout",
     "output_type": "stream",
     "text": [
      "Detections(xyxy=array([[     431.54,         262,      452.02,      292.73],\n",
      "       [     332.15,      211.98,      351.54,      239.57],\n",
      "       [     304.75,      201.94,      325.49,      230.71],\n",
      "       [     313.26,      233.31,      334.91,      261.41]], dtype=float32), mask=None, confidence=array([    0.74669,     0.66057,     0.65056,     0.39761], dtype=float32), class_id=array([0, 1, 1, 1]), tracker_id=None, data={'class_name': array(['battery_minus', 'battery_plus', 'battery_plus', 'battery_plus'], dtype='<U13')})\n",
      "Detections(xyxy=array([[     297.89,      202.56,      318.54,      228.74],\n",
      "       [     325.17,      211.68,       344.9,      239.17],\n",
      "       [     424.04,      260.98,      446.29,      293.18]], dtype=float32), mask=None, confidence=array([    0.51588,      0.4847,     0.44401], dtype=float32), class_id=array([0, 1, 0]), tracker_id=None, data={'class_name': array(['battery_minus', 'battery_plus', 'battery_minus'], dtype='<U13')})\n"
     ]
    },
    {
     "name": "stderr",
     "output_type": "stream",
     "text": [
      "0: 480x640 3 battery_minuss, 1 battery_plus, 41.1ms\n",
      "Speed: 5.2ms preprocess, 41.1ms inference, 15.0ms postprocess per image at shape (1, 3, 480, 640)\n",
      "\n",
      "0: 480x640 2 battery_minuss, 4 battery_pluss, 41.3ms\n",
      "Speed: 6.2ms preprocess, 41.3ms inference, 15.7ms postprocess per image at shape (1, 3, 480, 640)\n",
      "\n"
     ]
    },
    {
     "name": "stdout",
     "output_type": "stream",
     "text": [
      "Detections(xyxy=array([[     291.06,      201.62,      311.64,      229.78],\n",
      "       [     300.02,      232.76,      321.07,      261.36],\n",
      "       [     417.23,      262.04,      439.35,      292.58],\n",
      "       [     320.63,      211.71,      337.76,      240.96]], dtype=float32), mask=None, confidence=array([     0.6274,     0.54632,     0.48195,     0.33707], dtype=float32), class_id=array([1, 0, 0, 0]), tracker_id=None, data={'class_name': array(['battery_plus', 'battery_minus', 'battery_minus', 'battery_minus'], dtype='<U13')})\n",
      "Detections(xyxy=array([[     409.01,      262.53,      429.52,      291.65],\n",
      "       [     292.54,      233.66,      313.05,      262.09],\n",
      "       [     285.12,      202.34,      304.61,      229.43],\n",
      "       [     355.15,      289.97,      376.09,      318.72],\n",
      "       [     311.97,      212.02,      329.85,      237.89],\n",
      "       [     324.07,      232.42,      346.75,      261.11]], dtype=float32), mask=None, confidence=array([     0.8514,     0.78223,     0.76237,     0.74305,     0.73458,     0.64358], dtype=float32), class_id=array([0, 1, 1, 1, 1, 0]), tracker_id=None, data={'class_name': array(['battery_minus', 'battery_plus', 'battery_plus', 'battery_plus', 'battery_plus', 'battery_minus'], dtype='<U13')})\n"
     ]
    },
    {
     "name": "stderr",
     "output_type": "stream",
     "text": [
      "0: 480x640 3 battery_minuss, 4 battery_pluss, 45.2ms\n",
      "Speed: 5.2ms preprocess, 45.2ms inference, 14.6ms postprocess per image at shape (1, 3, 480, 640)\n",
      "\n",
      "0: 480x640 2 battery_minuss, 4 battery_pluss, 45.6ms\n",
      "Speed: 6.2ms preprocess, 45.6ms inference, 11.7ms postprocess per image at shape (1, 3, 480, 640)\n",
      "\n"
     ]
    },
    {
     "name": "stdout",
     "output_type": "stream",
     "text": [
      "Detections(xyxy=array([[     402.06,       262.7,      423.69,      291.96],\n",
      "       [     278.68,      202.45,      297.82,      229.85],\n",
      "       [     317.54,      231.97,      339.92,      260.62],\n",
      "       [      286.4,      233.54,      306.61,       261.9],\n",
      "       [     305.32,      212.13,      323.92,      239.12],\n",
      "       [     348.57,      290.12,         369,      318.23],\n",
      "       [     311.46,       220.1,      332.57,      259.71]], dtype=float32), mask=None, confidence=array([    0.84238,      0.8327,      0.7922,     0.77869,     0.76687,     0.76683,     0.25143], dtype=float32), class_id=array([0, 1, 0, 1, 1, 1, 0]), tracker_id=None, data={'class_name': array(['battery_minus', 'battery_plus', 'battery_minus', 'battery_plus', 'battery_plus', 'battery_plus', 'battery_minus'], dtype='<U13')})\n",
      "Detections(xyxy=array([[     394.38,      262.48,      416.12,      291.73],\n",
      "       [     298.24,       211.9,      316.86,      237.95],\n",
      "       [     271.67,      202.46,      290.41,      230.27],\n",
      "       [     279.26,      233.96,      300.11,      261.61],\n",
      "       [     309.82,      231.12,      332.77,      260.69],\n",
      "       [     341.16,       289.6,      361.71,      317.93]], dtype=float32), mask=None, confidence=array([    0.84171,     0.81684,     0.81278,     0.78159,     0.77253,     0.75895], dtype=float32), class_id=array([0, 1, 1, 1, 0, 1]), tracker_id=None, data={'class_name': array(['battery_minus', 'battery_plus', 'battery_plus', 'battery_plus', 'battery_minus', 'battery_plus'], dtype='<U13')})\n"
     ]
    },
    {
     "name": "stderr",
     "output_type": "stream",
     "text": [
      "0: 480x640 2 battery_minuss, 4 battery_pluss, 44.0ms\n",
      "Speed: 6.8ms preprocess, 44.0ms inference, 13.1ms postprocess per image at shape (1, 3, 480, 640)\n",
      "\n",
      "0: 480x640 2 battery_minuss, 4 battery_pluss, 48.6ms\n",
      "Speed: 4.0ms preprocess, 48.6ms inference, 11.3ms postprocess per image at shape (1, 3, 480, 640)\n",
      "\n"
     ]
    },
    {
     "name": "stdout",
     "output_type": "stream",
     "text": [
      "Detections(xyxy=array([[     387.36,      262.37,      408.59,       291.5],\n",
      "       [     291.23,      211.76,       309.9,      237.74],\n",
      "       [     264.14,      202.46,      282.89,      229.52],\n",
      "       [     272.26,      233.74,       292.7,      261.88],\n",
      "       [     334.07,      289.28,      354.67,      317.86],\n",
      "       [     302.13,      230.51,      325.95,      260.43]], dtype=float32), mask=None, confidence=array([    0.86659,     0.82276,     0.80618,     0.79452,      0.7843,     0.77485], dtype=float32), class_id=array([0, 1, 1, 1, 1, 0]), tracker_id=None, data={'class_name': array(['battery_minus', 'battery_plus', 'battery_plus', 'battery_plus', 'battery_plus', 'battery_minus'], dtype='<U13')})\n",
      "Detections(xyxy=array([[     381.21,      261.99,      401.99,      291.47],\n",
      "       [     284.78,      211.69,      303.59,      237.91],\n",
      "       [     265.22,       233.6,      285.91,      262.07],\n",
      "       [     257.65,       202.1,      276.71,      229.46],\n",
      "       [     327.84,      289.57,      348.13,      318.03],\n",
      "       [     295.38,      231.61,      318.98,      260.71]], dtype=float32), mask=None, confidence=array([    0.86534,     0.82425,     0.81602,     0.79497,      0.7916,     0.58141], dtype=float32), class_id=array([0, 1, 1, 1, 1, 0]), tracker_id=None, data={'class_name': array(['battery_minus', 'battery_plus', 'battery_plus', 'battery_plus', 'battery_plus', 'battery_minus'], dtype='<U13')})\n"
     ]
    },
    {
     "name": "stderr",
     "output_type": "stream",
     "text": [
      "0: 480x640 2 battery_minuss, 4 battery_pluss, 38.6ms\n",
      "Speed: 7.9ms preprocess, 38.6ms inference, 13.2ms postprocess per image at shape (1, 3, 480, 640)\n",
      "\n",
      "0: 480x640 2 battery_minuss, 4 battery_pluss, 43.1ms\n",
      "Speed: 5.3ms preprocess, 43.1ms inference, 12.6ms postprocess per image at shape (1, 3, 480, 640)\n",
      "\n"
     ]
    },
    {
     "name": "stdout",
     "output_type": "stream",
     "text": [
      "Detections(xyxy=array([[     373.56,      262.09,      394.81,      291.24],\n",
      "       [     258.89,      232.61,       279.5,      261.72],\n",
      "       [     277.87,      211.65,      296.31,      237.47],\n",
      "       [     251.46,      202.25,      270.01,      229.75],\n",
      "       [     320.49,      289.13,      340.89,      317.42],\n",
      "       [     289.37,      230.68,      312.02,      260.13]], dtype=float32), mask=None, confidence=array([    0.86824,     0.81093,     0.80796,     0.79867,     0.78803,     0.73216], dtype=float32), class_id=array([0, 1, 1, 1, 1, 0]), tracker_id=None, data={'class_name': array(['battery_minus', 'battery_plus', 'battery_plus', 'battery_plus', 'battery_plus', 'battery_minus'], dtype='<U13')})\n",
      "Detections(xyxy=array([[     366.68,      261.98,      387.94,      291.62],\n",
      "       [     251.38,      232.53,      272.37,      261.96],\n",
      "       [      243.9,      202.11,       263.4,      229.99],\n",
      "       [     271.11,      211.77,      288.95,      237.98],\n",
      "       [     282.34,      229.53,       305.4,       260.3],\n",
      "       [     314.44,      289.71,      334.65,      317.22]], dtype=float32), mask=None, confidence=array([    0.87502,     0.80445,     0.79921,     0.78446,     0.76088,     0.74292], dtype=float32), class_id=array([0, 1, 1, 1, 0, 1]), tracker_id=None, data={'class_name': array(['battery_minus', 'battery_plus', 'battery_plus', 'battery_plus', 'battery_minus', 'battery_plus'], dtype='<U13')})\n"
     ]
    },
    {
     "name": "stderr",
     "output_type": "stream",
     "text": [
      "0: 480x640 2 battery_minuss, 4 battery_pluss, 41.6ms\n",
      "Speed: 5.2ms preprocess, 41.6ms inference, 16.9ms postprocess per image at shape (1, 3, 480, 640)\n",
      "\n",
      "0: 480x640 2 battery_minuss, 4 battery_pluss, 44.0ms\n",
      "Speed: 4.4ms preprocess, 44.0ms inference, 12.4ms postprocess per image at shape (1, 3, 480, 640)\n",
      "\n"
     ]
    },
    {
     "name": "stdout",
     "output_type": "stream",
     "text": [
      "Detections(xyxy=array([[     358.63,      260.77,      381.05,      291.05],\n",
      "       [     274.43,         229,      298.41,      260.09],\n",
      "       [     306.83,      289.72,       327.7,      318.04],\n",
      "       [     236.83,      201.73,      255.91,      229.17],\n",
      "       [     263.67,      211.62,      281.44,      237.72],\n",
      "       [     245.38,      233.62,      265.32,      261.09]], dtype=float32), mask=None, confidence=array([    0.81939,      0.7396,     0.73306,     0.64792,     0.64123,     0.63934], dtype=float32), class_id=array([0, 0, 1, 1, 1, 1]), tracker_id=None, data={'class_name': array(['battery_minus', 'battery_minus', 'battery_plus', 'battery_plus', 'battery_plus', 'battery_plus'], dtype='<U13')})\n",
      "Detections(xyxy=array([[     352.34,      261.69,      373.72,      291.33],\n",
      "       [      229.4,      201.99,      248.88,      229.24],\n",
      "       [     299.85,      288.74,      320.64,      317.34],\n",
      "       [     237.08,      232.94,      258.51,      262.07],\n",
      "       [     256.93,      211.28,      274.96,      237.93],\n",
      "       [     268.27,      228.03,      291.42,      259.69]], dtype=float32), mask=None, confidence=array([      0.822,     0.79905,     0.79325,      0.7722,      0.7599,     0.74444], dtype=float32), class_id=array([0, 1, 1, 1, 1, 0]), tracker_id=None, data={'class_name': array(['battery_minus', 'battery_plus', 'battery_plus', 'battery_plus', 'battery_plus', 'battery_minus'], dtype='<U13')})\n"
     ]
    },
    {
     "name": "stderr",
     "output_type": "stream",
     "text": [
      "0: 480x640 3 battery_minuss, 4 battery_pluss, 47.1ms\n",
      "Speed: 0.0ms preprocess, 47.1ms inference, 16.8ms postprocess per image at shape (1, 3, 480, 640)\n",
      "\n",
      "0: 480x640 2 battery_minuss, 4 battery_pluss, 46.6ms\n",
      "Speed: 7.8ms preprocess, 46.6ms inference, 5.3ms postprocess per image at shape (1, 3, 480, 640)\n",
      "\n"
     ]
    },
    {
     "name": "stdout",
     "output_type": "stream",
     "text": [
      "Detections(xyxy=array([[      261.6,      229.07,      284.37,      259.82],\n",
      "       [     345.27,      261.02,      367.57,       291.3],\n",
      "       [     222.91,      201.63,      241.88,      229.08],\n",
      "       [     230.57,      233.59,      250.63,      261.47],\n",
      "       [     293.14,      287.87,      313.93,       317.3],\n",
      "       [     249.56,      211.31,      267.79,      237.93],\n",
      "       [     258.34,      223.23,      282.57,      259.77]], dtype=float32), mask=None, confidence=array([    0.81566,     0.81316,     0.79959,     0.79117,      0.7886,     0.76967,     0.27731], dtype=float32), class_id=array([0, 0, 1, 1, 1, 1, 0]), tracker_id=None, data={'class_name': array(['battery_minus', 'battery_minus', 'battery_plus', 'battery_plus', 'battery_plus', 'battery_plus', 'battery_minus'], dtype='<U13')})\n",
      "Detections(xyxy=array([[     338.24,      260.89,      360.44,      291.17],\n",
      "       [     224.03,       233.7,       244.1,      261.46],\n",
      "       [     216.26,      201.78,       234.5,      228.64],\n",
      "       [     286.17,      288.66,      306.47,      316.98],\n",
      "       [     242.69,      211.27,      261.94,       237.5],\n",
      "       [     254.43,      227.52,      277.21,      259.72]], dtype=float32), mask=None, confidence=array([    0.81726,     0.80426,     0.78968,     0.77913,     0.75671,     0.69626], dtype=float32), class_id=array([0, 1, 1, 1, 1, 0]), tracker_id=None, data={'class_name': array(['battery_minus', 'battery_plus', 'battery_plus', 'battery_plus', 'battery_plus', 'battery_minus'], dtype='<U13')})\n"
     ]
    },
    {
     "name": "stderr",
     "output_type": "stream",
     "text": [
      "0: 480x640 2 battery_minuss, 5 battery_pluss, 47.3ms\n",
      "Speed: 4.2ms preprocess, 47.3ms inference, 14.1ms postprocess per image at shape (1, 3, 480, 640)\n",
      "\n",
      "0: 480x640 2 battery_minuss, 4 battery_pluss, 44.9ms\n",
      "Speed: 6.9ms preprocess, 44.9ms inference, 12.3ms postprocess per image at shape (1, 3, 480, 640)\n",
      "\n"
     ]
    },
    {
     "name": "stdout",
     "output_type": "stream",
     "text": [
      "Detections(xyxy=array([[     331.56,      260.43,      354.12,      291.51],\n",
      "       [     208.44,      201.74,      227.44,       228.6],\n",
      "       [     279.84,      289.51,      299.56,      317.35],\n",
      "       [      216.9,      233.72,      237.63,      261.54],\n",
      "       [     236.24,      211.22,      255.17,      237.61],\n",
      "       [     247.42,      227.57,      270.78,      259.65],\n",
      "       [     241.07,      211.48,      260.09,      248.19]], dtype=float32), mask=None, confidence=array([    0.84807,     0.80013,     0.79995,     0.78931,     0.78424,     0.68088,     0.36345], dtype=float32), class_id=array([0, 1, 1, 1, 1, 0, 1]), tracker_id=None, data={'class_name': array(['battery_minus', 'battery_plus', 'battery_plus', 'battery_plus', 'battery_plus', 'battery_minus', 'battery_plus'], dtype='<U13')})\n",
      "Detections(xyxy=array([[     324.39,      260.68,      346.82,      291.35],\n",
      "       [     201.37,      201.56,       220.2,      228.73],\n",
      "       [     272.54,       289.4,      292.48,      316.92],\n",
      "       [     229.08,      210.94,      247.86,      237.68],\n",
      "       [     209.97,      232.51,      231.24,      261.59],\n",
      "       [     240.56,      227.12,      264.07,      259.73]], dtype=float32), mask=None, confidence=array([    0.86523,     0.82345,     0.79308,     0.78868,     0.78535,     0.63477], dtype=float32), class_id=array([0, 1, 1, 1, 1, 0]), tracker_id=None, data={'class_name': array(['battery_minus', 'battery_plus', 'battery_plus', 'battery_plus', 'battery_plus', 'battery_minus'], dtype='<U13')})\n"
     ]
    },
    {
     "name": "stderr",
     "output_type": "stream",
     "text": [
      "0: 480x640 2 battery_minuss, 4 battery_pluss, 49.2ms\n",
      "Speed: 4.7ms preprocess, 49.2ms inference, 12.5ms postprocess per image at shape (1, 3, 480, 640)\n",
      "\n",
      "0: 480x640 4 battery_minuss, 1 battery_plus, 41.5ms\n",
      "Speed: 6.8ms preprocess, 41.5ms inference, 15.8ms postprocess per image at shape (1, 3, 480, 640)\n",
      "\n"
     ]
    },
    {
     "name": "stdout",
     "output_type": "stream",
     "text": [
      "Detections(xyxy=array([[     317.73,      260.03,      340.04,      291.61],\n",
      "       [     202.83,      232.35,      224.36,      261.26],\n",
      "       [     195.11,      201.25,      214.26,      228.97],\n",
      "       [     266.44,      289.59,      286.19,      317.02],\n",
      "       [     233.81,      228.16,      257.12,       259.8],\n",
      "       [     222.25,      210.56,      240.53,      237.98]], dtype=float32), mask=None, confidence=array([    0.87127,     0.79953,     0.79267,      0.7782,     0.77458,     0.76695], dtype=float32), class_id=array([0, 1, 1, 1, 0, 1]), tracker_id=None, data={'class_name': array(['battery_minus', 'battery_plus', 'battery_plus', 'battery_plus', 'battery_minus', 'battery_plus'], dtype='<U13')})\n",
      "Detections(xyxy=array([[     225.14,       227.7,      249.72,       259.9],\n",
      "       [     310.83,       260.1,      333.24,      291.62],\n",
      "       [     195.79,      233.25,      216.87,      261.47],\n",
      "       [     257.61,      288.98,      277.76,       317.9],\n",
      "       [     187.46,      201.01,      207.82,      229.32]], dtype=float32), mask=None, confidence=array([     0.6695,     0.64227,     0.54034,     0.48606,     0.42218], dtype=float32), class_id=array([0, 0, 0, 1, 0]), tracker_id=None, data={'class_name': array(['battery_minus', 'battery_minus', 'battery_minus', 'battery_plus', 'battery_minus'], dtype='<U13')})\n"
     ]
    },
    {
     "name": "stderr",
     "output_type": "stream",
     "text": [
      "0: 480x640 2 battery_minuss, 4 battery_pluss, 45.0ms\n",
      "Speed: 2.9ms preprocess, 45.0ms inference, 15.6ms postprocess per image at shape (1, 3, 480, 640)\n",
      "\n",
      "0: 480x640 2 battery_minuss, 4 battery_pluss, 45.7ms\n",
      "Speed: 5.6ms preprocess, 45.7ms inference, 9.6ms postprocess per image at shape (1, 3, 480, 640)\n",
      "\n"
     ]
    },
    {
     "name": "stdout",
     "output_type": "stream",
     "text": [
      "Detections(xyxy=array([[     303.87,      260.26,      325.15,      291.04],\n",
      "       [     180.66,      200.89,      199.49,      228.69],\n",
      "       [     188.54,      233.01,      209.48,      261.05],\n",
      "       [     252.28,      289.07,      272.47,      316.88],\n",
      "       [      207.2,      209.66,      225.78,      238.89],\n",
      "       [     219.08,      228.39,      242.77,      259.36]], dtype=float32), mask=None, confidence=array([    0.84544,     0.80698,     0.78514,     0.77974,     0.77476,     0.72039], dtype=float32), class_id=array([0, 1, 1, 1, 1, 0]), tracker_id=None, data={'class_name': array(['battery_minus', 'battery_plus', 'battery_plus', 'battery_plus', 'battery_plus', 'battery_minus'], dtype='<U13')})\n",
      "Detections(xyxy=array([[     297.74,      261.24,      319.82,      290.94],\n",
      "       [     174.28,      201.33,      192.74,      228.26],\n",
      "       [     181.88,      233.38,      202.19,      261.27],\n",
      "       [      245.6,      289.42,      265.53,      317.23],\n",
      "       [     200.77,      210.26,       219.4,      239.26],\n",
      "       [     213.02,      228.44,      236.86,       259.5]], dtype=float32), mask=None, confidence=array([    0.82242,     0.78788,     0.78068,     0.77739,     0.74893,     0.73224], dtype=float32), class_id=array([0, 1, 1, 1, 1, 0]), tracker_id=None, data={'class_name': array(['battery_minus', 'battery_plus', 'battery_plus', 'battery_plus', 'battery_plus', 'battery_minus'], dtype='<U13')})\n"
     ]
    },
    {
     "name": "stderr",
     "output_type": "stream",
     "text": [
      "0: 480x640 2 battery_minuss, 4 battery_pluss, 43.4ms\n",
      "Speed: 6.2ms preprocess, 43.4ms inference, 8.1ms postprocess per image at shape (1, 3, 480, 640)\n",
      "\n",
      "0: 480x640 2 battery_minuss, 4 battery_pluss, 45.4ms\n",
      "Speed: 7.1ms preprocess, 45.4ms inference, 11.7ms postprocess per image at shape (1, 3, 480, 640)\n",
      "\n"
     ]
    },
    {
     "name": "stdout",
     "output_type": "stream",
     "text": [
      "Detections(xyxy=array([[     290.67,      261.16,      312.66,      291.08],\n",
      "       [     166.92,      201.26,      186.02,       228.6],\n",
      "       [     174.45,      233.78,      195.19,      261.06],\n",
      "       [     205.94,      228.83,      229.09,      259.69],\n",
      "       [     238.41,      289.23,      258.68,      317.49],\n",
      "       [     193.62,      210.34,      213.86,      238.17]], dtype=float32), mask=None, confidence=array([    0.84485,     0.79317,     0.77137,     0.76946,     0.76934,     0.62478], dtype=float32), class_id=array([0, 1, 1, 0, 1, 1]), tracker_id=None, data={'class_name': array(['battery_minus', 'battery_plus', 'battery_plus', 'battery_minus', 'battery_plus', 'battery_plus'], dtype='<U13')})\n",
      "Detections(xyxy=array([[     284.41,      261.77,      305.88,      291.17],\n",
      "       [     168.09,      234.19,      187.96,      261.08],\n",
      "       [     231.73,      289.88,      251.67,       317.5],\n",
      "       [     186.65,      210.25,      206.41,      236.92],\n",
      "       [     198.89,      228.74,      222.27,      259.61],\n",
      "       [     159.84,      201.41,      178.42,      228.51]], dtype=float32), mask=None, confidence=array([    0.87408,     0.79921,     0.78846,     0.75695,     0.74946,      0.7117], dtype=float32), class_id=array([0, 1, 1, 1, 0, 1]), tracker_id=None, data={'class_name': array(['battery_minus', 'battery_plus', 'battery_plus', 'battery_plus', 'battery_minus', 'battery_plus'], dtype='<U13')})\n"
     ]
    },
    {
     "name": "stderr",
     "output_type": "stream",
     "text": [
      "0: 480x640 2 battery_minuss, 4 battery_pluss, 45.4ms\n",
      "Speed: 4.3ms preprocess, 45.4ms inference, 10.8ms postprocess per image at shape (1, 3, 480, 640)\n",
      "\n",
      "0: 480x640 2 battery_minuss, 5 battery_pluss, 46.7ms\n",
      "Speed: 5.0ms preprocess, 46.7ms inference, 8.3ms postprocess per image at shape (1, 3, 480, 640)\n",
      "\n"
     ]
    },
    {
     "name": "stdout",
     "output_type": "stream",
     "text": [
      "Detections(xyxy=array([[     277.31,      260.91,      298.87,      291.05],\n",
      "       [     160.65,      234.01,      180.46,       261.1],\n",
      "       [     179.58,      209.87,      199.16,      237.18],\n",
      "       [     224.38,      289.92,      244.47,      317.19],\n",
      "       [     153.11,      201.53,      171.58,      228.79],\n",
      "       [     191.17,      228.62,      215.83,      259.53]], dtype=float32), mask=None, confidence=array([    0.88585,     0.79819,     0.77156,     0.76381,     0.75979,     0.74019], dtype=float32), class_id=array([0, 1, 1, 1, 1, 0]), tracker_id=None, data={'class_name': array(['battery_minus', 'battery_plus', 'battery_plus', 'battery_plus', 'battery_plus', 'battery_minus'], dtype='<U13')})\n",
      "Detections(xyxy=array([[     270.09,      262.27,       291.5,      290.92],\n",
      "       [        153,      234.09,      172.96,      260.99],\n",
      "       [     145.15,      201.35,      164.17,      228.89],\n",
      "       [     172.23,      209.77,      192.04,      237.86],\n",
      "       [     218.63,      289.87,       238.5,       317.2],\n",
      "       [     184.16,      226.61,       209.6,      259.67],\n",
      "       [     176.99,      208.95,      197.51,      248.41]], dtype=float32), mask=None, confidence=array([    0.86792,     0.80632,      0.7963,     0.75075,      0.7379,     0.71367,      0.2637], dtype=float32), class_id=array([0, 1, 1, 1, 1, 0, 1]), tracker_id=None, data={'class_name': array(['battery_minus', 'battery_plus', 'battery_plus', 'battery_plus', 'battery_plus', 'battery_minus', 'battery_plus'], dtype='<U13')})\n"
     ]
    },
    {
     "name": "stderr",
     "output_type": "stream",
     "text": [
      "0: 480x640 2 battery_minuss, 5 battery_pluss, 37.2ms\n",
      "Speed: 7.7ms preprocess, 37.2ms inference, 13.5ms postprocess per image at shape (1, 3, 480, 640)\n",
      "\n",
      "0: 480x640 2 battery_minuss, 4 battery_pluss, 48.2ms\n",
      "Speed: 6.2ms preprocess, 48.2ms inference, 10.1ms postprocess per image at shape (1, 3, 480, 640)\n",
      "\n"
     ]
    },
    {
     "name": "stdout",
     "output_type": "stream",
     "text": [
      "Detections(xyxy=array([[     263.37,      262.57,      284.06,      291.09],\n",
      "       [     165.13,      209.24,      184.45,      237.53],\n",
      "       [     137.29,       200.9,      156.55,      228.18],\n",
      "       [     210.86,      289.09,      231.49,       317.7],\n",
      "       [     145.79,       232.4,      167.77,       260.8],\n",
      "       [      177.2,      228.71,      201.02,      259.32],\n",
      "       [     144.31,      233.92,      163.84,      259.58]], dtype=float32), mask=None, confidence=array([    0.86134,      0.7812,     0.76992,     0.76286,     0.75558,     0.72212,     0.40356], dtype=float32), class_id=array([0, 1, 1, 1, 1, 0, 1]), tracker_id=None, data={'class_name': array(['battery_minus', 'battery_plus', 'battery_plus', 'battery_plus', 'battery_plus', 'battery_minus', 'battery_plus'], dtype='<U13')})\n",
      "Detections(xyxy=array([[     256.12,      262.16,      276.81,      290.98],\n",
      "       [     157.87,      209.08,      176.71,      237.54],\n",
      "       [     138.61,      233.04,      160.35,      261.18],\n",
      "       [     131.07,      200.76,      149.95,      228.17],\n",
      "       [     169.87,       228.7,      193.46,      259.48],\n",
      "       [     203.52,      289.37,      224.68,      317.58]], dtype=float32), mask=None, confidence=array([    0.86914,     0.78519,     0.78217,     0.77019,     0.75875,     0.74261], dtype=float32), class_id=array([0, 1, 1, 1, 0, 1]), tracker_id=None, data={'class_name': array(['battery_minus', 'battery_plus', 'battery_plus', 'battery_plus', 'battery_minus', 'battery_plus'], dtype='<U13')})\n"
     ]
    },
    {
     "name": "stderr",
     "output_type": "stream",
     "text": [
      "0: 480x640 2 battery_minuss, 4 battery_pluss, 41.6ms\n",
      "Speed: 4.2ms preprocess, 41.6ms inference, 19.9ms postprocess per image at shape (1, 3, 480, 640)\n",
      "\n",
      "0: 480x640 2 battery_minuss, 4 battery_pluss, 45.9ms\n",
      "Speed: 3.3ms preprocess, 45.9ms inference, 12.6ms postprocess per image at shape (1, 3, 480, 640)\n",
      "\n"
     ]
    },
    {
     "name": "stdout",
     "output_type": "stream",
     "text": [
      "Detections(xyxy=array([[     249.18,      262.79,      270.35,      290.92],\n",
      "       [      150.4,      208.45,      169.41,      237.31],\n",
      "       [     130.99,      233.37,      152.32,      261.03],\n",
      "       [     196.64,      289.37,       217.1,      317.48],\n",
      "       [     162.48,      228.47,      186.82,      259.58],\n",
      "       [     123.62,       200.5,      142.76,      228.27]], dtype=float32), mask=None, confidence=array([    0.84013,     0.78243,     0.77978,     0.75357,      0.7464,     0.73261], dtype=float32), class_id=array([0, 1, 1, 1, 0, 1]), tracker_id=None, data={'class_name': array(['battery_minus', 'battery_plus', 'battery_plus', 'battery_plus', 'battery_minus', 'battery_plus'], dtype='<U13')})\n",
      "Detections(xyxy=array([[     242.18,      261.86,      264.43,      290.87],\n",
      "       [     116.18,      200.61,      135.98,      228.51],\n",
      "       [     124.09,      232.59,      145.81,      260.67],\n",
      "       [     143.71,      208.33,      162.53,      238.03],\n",
      "       [     155.62,      228.52,      180.98,      259.36],\n",
      "       [     189.09,      289.07,      210.23,      317.76]], dtype=float32), mask=None, confidence=array([    0.82502,     0.79973,     0.78249,     0.76271,     0.74022,     0.72352], dtype=float32), class_id=array([0, 1, 1, 1, 0, 1]), tracker_id=None, data={'class_name': array(['battery_minus', 'battery_plus', 'battery_plus', 'battery_plus', 'battery_minus', 'battery_plus'], dtype='<U13')})\n"
     ]
    },
    {
     "name": "stderr",
     "output_type": "stream",
     "text": [
      "0: 480x640 2 battery_minuss, 4 battery_pluss, 46.8ms\n",
      "Speed: 6.3ms preprocess, 46.8ms inference, 10.2ms postprocess per image at shape (1, 3, 480, 640)\n",
      "\n",
      "0: 480x640 2 battery_minuss, 5 battery_pluss, 43.6ms\n",
      "Speed: 4.9ms preprocess, 43.6ms inference, 11.9ms postprocess per image at shape (1, 3, 480, 640)\n",
      "\n"
     ]
    },
    {
     "name": "stdout",
     "output_type": "stream",
     "text": [
      "Detections(xyxy=array([[     235.47,      262.09,      256.94,      290.89],\n",
      "       [     108.98,      200.87,      128.37,         228],\n",
      "       [     116.99,      232.86,      137.72,      260.41],\n",
      "       [     135.81,      208.25,      155.87,      237.86],\n",
      "       [     181.93,      289.05,      202.92,       317.6],\n",
      "       [     148.24,      229.06,      173.23,      259.09]], dtype=float32), mask=None, confidence=array([    0.86031,     0.79465,     0.77206,     0.75297,     0.73642,     0.62021], dtype=float32), class_id=array([0, 1, 1, 1, 1, 0]), tracker_id=None, data={'class_name': array(['battery_minus', 'battery_plus', 'battery_plus', 'battery_plus', 'battery_plus', 'battery_minus'], dtype='<U13')})\n",
      "Detections(xyxy=array([[     228.27,      261.91,      249.96,      290.76],\n",
      "       [     101.45,      200.98,      121.79,      228.09],\n",
      "       [     109.58,      232.89,      131.01,      260.56],\n",
      "       [     128.64,      208.31,      148.91,      237.61],\n",
      "       [      174.9,      289.44,      195.26,      317.68],\n",
      "       [     141.17,      228.48,      165.48,      259.09],\n",
      "       [     126.78,      208.18,      145.93,      243.05]], dtype=float32), mask=None, confidence=array([    0.87179,     0.78682,     0.78135,      0.7764,     0.72993,     0.68254,     0.35771], dtype=float32), class_id=array([0, 1, 1, 1, 1, 0, 1]), tracker_id=None, data={'class_name': array(['battery_minus', 'battery_plus', 'battery_plus', 'battery_plus', 'battery_plus', 'battery_minus', 'battery_plus'], dtype='<U13')})\n"
     ]
    },
    {
     "name": "stderr",
     "output_type": "stream",
     "text": [
      "0: 480x640 2 battery_minuss, 4 battery_pluss, 47.1ms\n",
      "Speed: 7.9ms preprocess, 47.1ms inference, 10.2ms postprocess per image at shape (1, 3, 480, 640)\n",
      "\n",
      "0: 480x640 2 battery_minuss, 4 battery_pluss, 41.1ms\n",
      "Speed: 5.5ms preprocess, 41.1ms inference, 15.2ms postprocess per image at shape (1, 3, 480, 640)\n",
      "\n"
     ]
    },
    {
     "name": "stdout",
     "output_type": "stream",
     "text": [
      "Detections(xyxy=array([[     221.19,      261.51,      243.23,      290.58],\n",
      "       [     121.39,       208.5,      141.26,      237.05],\n",
      "       [     102.38,         233,      123.53,      260.22],\n",
      "       [     95.061,         201,      113.67,      227.63],\n",
      "       [     167.97,      289.92,      188.34,      317.09],\n",
      "       [     133.59,         229,       157.5,      258.63]], dtype=float32), mask=None, confidence=array([    0.86069,     0.77692,     0.76796,     0.76685,     0.74496,      0.6345], dtype=float32), class_id=array([0, 1, 1, 1, 1, 0]), tracker_id=None, data={'class_name': array(['battery_minus', 'battery_plus', 'battery_plus', 'battery_plus', 'battery_plus', 'battery_minus'], dtype='<U13')})\n",
      "Detections(xyxy=array([[      214.1,      261.74,      235.92,      290.74],\n",
      "       [     87.444,      200.81,      106.66,      228.06],\n",
      "       [     95.543,      232.74,      116.13,      260.11],\n",
      "       [     114.28,      208.84,      134.33,      237.45],\n",
      "       [     160.29,      289.87,      180.78,      317.09],\n",
      "       [     126.88,      229.41,      150.35,      258.21]], dtype=float32), mask=None, confidence=array([    0.87218,      0.7758,     0.75623,      0.7446,     0.73014,     0.65362], dtype=float32), class_id=array([0, 1, 1, 1, 1, 0]), tracker_id=None, data={'class_name': array(['battery_minus', 'battery_plus', 'battery_plus', 'battery_plus', 'battery_plus', 'battery_minus'], dtype='<U13')})\n"
     ]
    },
    {
     "name": "stderr",
     "output_type": "stream",
     "text": [
      "0: 480x640 2 battery_minuss, 4 battery_pluss, 47.8ms\n",
      "Speed: 2.5ms preprocess, 47.8ms inference, 13.3ms postprocess per image at shape (1, 3, 480, 640)\n",
      "\n",
      "0: 480x640 2 battery_minuss, 4 battery_pluss, 51.4ms\n",
      "Speed: 0.0ms preprocess, 51.4ms inference, 11.6ms postprocess per image at shape (1, 3, 480, 640)\n",
      "\n"
     ]
    },
    {
     "name": "stdout",
     "output_type": "stream",
     "text": [
      "Detections(xyxy=array([[     207.42,      261.75,      228.55,      290.83],\n",
      "       [     107.43,         209,      127.19,      237.73],\n",
      "       [     88.463,      233.48,      108.97,      259.96],\n",
      "       [     79.979,       200.6,      99.332,      228.06],\n",
      "       [     153.84,       288.9,      174.65,      317.94],\n",
      "       [     119.18,      229.15,      143.69,      258.41]], dtype=float32), mask=None, confidence=array([    0.87157,     0.81288,     0.78685,     0.78165,     0.71806,     0.56573], dtype=float32), class_id=array([0, 1, 1, 1, 1, 0]), tracker_id=None, data={'class_name': array(['battery_minus', 'battery_plus', 'battery_plus', 'battery_plus', 'battery_plus', 'battery_minus'], dtype='<U13')})\n",
      "Detections(xyxy=array([[     200.43,      262.04,      221.29,      290.67],\n",
      "       [     81.004,      233.47,      101.32,      260.36],\n",
      "       [     100.11,      208.54,       120.2,      237.83],\n",
      "       [     72.985,      200.46,      92.372,       228.1],\n",
      "       [     147.31,      288.92,      167.73,      317.37],\n",
      "       [     112.02,      228.46,      136.54,      258.59]], dtype=float32), mask=None, confidence=array([    0.84815,     0.80237,     0.79892,     0.79823,     0.74775,     0.63245], dtype=float32), class_id=array([0, 1, 1, 1, 1, 0]), tracker_id=None, data={'class_name': array(['battery_minus', 'battery_plus', 'battery_plus', 'battery_plus', 'battery_plus', 'battery_minus'], dtype='<U13')})\n"
     ]
    },
    {
     "name": "stderr",
     "output_type": "stream",
     "text": [
      "0: 480x640 2 battery_minuss, 4 battery_pluss, 44.4ms\n",
      "Speed: 4.6ms preprocess, 44.4ms inference, 14.1ms postprocess per image at shape (1, 3, 480, 640)\n",
      "\n",
      "0: 480x640 2 battery_minuss, 4 battery_pluss, 32.7ms\n",
      "Speed: 7.7ms preprocess, 32.7ms inference, 20.8ms postprocess per image at shape (1, 3, 480, 640)\n",
      "\n"
     ]
    },
    {
     "name": "stdout",
     "output_type": "stream",
     "text": [
      "Detections(xyxy=array([[     193.33,      261.48,      215.14,      291.09],\n",
      "       [     94.075,      208.65,      112.89,      238.44],\n",
      "       [     73.672,      233.23,      95.261,         260],\n",
      "       [     65.254,      200.61,      84.413,      227.74],\n",
      "       [     139.28,      289.18,       160.1,      317.44],\n",
      "       [     107.18,      228.64,      129.05,       258.5]], dtype=float32), mask=None, confidence=array([    0.82032,     0.77958,     0.77862,     0.77033,      0.7346,     0.63345], dtype=float32), class_id=array([0, 1, 1, 1, 1, 0]), tracker_id=None, data={'class_name': array(['battery_minus', 'battery_plus', 'battery_plus', 'battery_plus', 'battery_plus', 'battery_minus'], dtype='<U13')})\n",
      "Detections(xyxy=array([[     186.19,      261.76,      208.91,      291.15],\n",
      "       [     87.023,      208.58,      105.79,      237.64],\n",
      "       [     59.935,      200.43,      78.516,      227.85],\n",
      "       [     66.688,      233.05,      87.978,      260.49],\n",
      "       [      132.4,      289.07,      152.86,      317.18],\n",
      "       [     98.712,      228.43,      121.71,      258.27]], dtype=float32), mask=None, confidence=array([      0.817,     0.80238,     0.80127,     0.79989,     0.74765,     0.62341], dtype=float32), class_id=array([0, 1, 1, 1, 1, 0]), tracker_id=None, data={'class_name': array(['battery_minus', 'battery_plus', 'battery_plus', 'battery_plus', 'battery_plus', 'battery_minus'], dtype='<U13')})\n"
     ]
    },
    {
     "name": "stderr",
     "output_type": "stream",
     "text": [
      "0: 480x640 2 battery_minuss, 4 battery_pluss, 47.6ms\n",
      "Speed: 7.5ms preprocess, 47.6ms inference, 9.7ms postprocess per image at shape (1, 3, 480, 640)\n",
      "\n",
      "0: 480x640 3 battery_minuss, 1 battery_plus, 45.6ms\n",
      "Speed: 4.4ms preprocess, 45.6ms inference, 13.3ms postprocess per image at shape (1, 3, 480, 640)\n",
      "\n"
     ]
    },
    {
     "name": "stdout",
     "output_type": "stream",
     "text": [
      "Detections(xyxy=array([[      178.4,      261.51,      200.89,      290.94],\n",
      "       [     52.395,      200.55,       70.98,      227.64],\n",
      "       [     59.416,      232.31,      81.161,      259.95],\n",
      "       [     79.301,      208.42,      97.962,      237.69],\n",
      "       [     124.71,      288.68,      145.65,      317.25],\n",
      "       [      91.37,       228.2,      115.26,       258.4]], dtype=float32), mask=None, confidence=array([    0.85475,     0.80298,      0.7982,      0.7972,     0.75172,     0.45287], dtype=float32), class_id=array([0, 1, 1, 1, 1, 0]), tracker_id=None, data={'class_name': array(['battery_minus', 'battery_plus', 'battery_plus', 'battery_plus', 'battery_plus', 'battery_minus'], dtype='<U13')})\n",
      "Detections(xyxy=array([[     169.96,      261.58,      193.62,      290.36],\n",
      "       [     116.53,      289.21,      136.47,       316.3],\n",
      "       [     42.883,      201.15,      62.856,       227.1],\n",
      "       [      50.94,      233.18,      69.938,      259.61]], dtype=float32), mask=None, confidence=array([    0.70391,     0.50921,     0.49357,     0.46399], dtype=float32), class_id=array([0, 0, 0, 1]), tracker_id=None, data={'class_name': array(['battery_minus', 'battery_minus', 'battery_minus', 'battery_plus'], dtype='<U13')})\n"
     ]
    },
    {
     "name": "stderr",
     "output_type": "stream",
     "text": [
      "0: 480x640 1 battery_minus, 4 battery_pluss, 47.9ms\n",
      "Speed: 2.0ms preprocess, 47.9ms inference, 13.4ms postprocess per image at shape (1, 3, 480, 640)\n",
      "\n",
      "0: 480x640 2 battery_minuss, 4 battery_pluss, 43.5ms\n",
      "Speed: 0.0ms preprocess, 43.5ms inference, 15.4ms postprocess per image at shape (1, 3, 480, 640)\n",
      "\n"
     ]
    },
    {
     "name": "stdout",
     "output_type": "stream",
     "text": [
      "Detections(xyxy=array([[     163.64,      261.43,      185.66,      290.94],\n",
      "       [     37.281,      200.45,      56.367,      227.67],\n",
      "       [     44.663,      232.32,      65.953,      259.92],\n",
      "       [     63.469,      208.22,      82.696,      237.71],\n",
      "       [     109.16,       288.9,      129.93,       316.8]], dtype=float32), mask=None, confidence=array([    0.86534,     0.81756,     0.78416,     0.75205,     0.72925], dtype=float32), class_id=array([0, 1, 1, 1, 1]), tracker_id=None, data={'class_name': array(['battery_minus', 'battery_plus', 'battery_plus', 'battery_plus', 'battery_plus'], dtype='<U13')})\n",
      "Detections(xyxy=array([[     157.64,      261.56,      179.54,       290.9],\n",
      "       [     56.906,      208.44,      76.068,      237.37],\n",
      "       [     31.596,      200.71,       49.72,      227.66],\n",
      "       [     39.077,      232.96,      58.286,      259.95],\n",
      "       [     103.37,      289.39,      123.68,      316.78],\n",
      "       [     69.588,      228.51,      93.832,      258.04]], dtype=float32), mask=None, confidence=array([    0.85629,      0.8099,     0.78226,     0.78225,     0.74761,     0.60747], dtype=float32), class_id=array([0, 1, 1, 1, 1, 0]), tracker_id=None, data={'class_name': array(['battery_minus', 'battery_plus', 'battery_plus', 'battery_plus', 'battery_plus', 'battery_minus'], dtype='<U13')})\n"
     ]
    },
    {
     "name": "stderr",
     "output_type": "stream",
     "text": [
      "0: 480x640 2 battery_minuss, 4 battery_pluss, 44.3ms\n",
      "Speed: 5.5ms preprocess, 44.3ms inference, 15.0ms postprocess per image at shape (1, 3, 480, 640)\n",
      "\n",
      "0: 480x640 2 battery_minuss, 4 battery_pluss, 40.8ms\n",
      "Speed: 7.3ms preprocess, 40.8ms inference, 18.4ms postprocess per image at shape (1, 3, 480, 640)\n",
      "\n"
     ]
    },
    {
     "name": "stdout",
     "output_type": "stream",
     "text": [
      "Detections(xyxy=array([[     150.91,      261.49,      172.41,      291.08],\n",
      "       [     51.301,      208.79,      70.458,      237.18],\n",
      "       [     24.236,      200.56,      43.186,      227.74],\n",
      "       [     32.109,       232.7,      52.486,      260.03],\n",
      "       [     96.353,      289.67,      116.08,      316.83],\n",
      "       [     62.776,      228.45,      86.438,      257.76]], dtype=float32), mask=None, confidence=array([    0.84875,     0.79615,     0.79089,     0.78281,     0.77472,     0.35285], dtype=float32), class_id=array([0, 1, 1, 1, 1, 0]), tracker_id=None, data={'class_name': array(['battery_minus', 'battery_plus', 'battery_plus', 'battery_plus', 'battery_plus', 'battery_minus'], dtype='<U13')})\n",
      "Detections(xyxy=array([[      143.3,      261.76,      165.45,      290.84],\n",
      "       [     44.032,      208.74,      63.696,      237.81],\n",
      "       [     17.202,      200.71,      36.352,       227.8],\n",
      "       [     25.487,      232.42,      46.427,      259.98],\n",
      "       [     89.228,      289.77,      108.65,      316.86],\n",
      "       [     55.555,      228.44,      79.778,      257.88]], dtype=float32), mask=None, confidence=array([    0.81576,     0.81089,     0.78012,      0.7386,     0.73182,     0.34734], dtype=float32), class_id=array([0, 1, 1, 1, 1, 0]), tracker_id=None, data={'class_name': array(['battery_minus', 'battery_plus', 'battery_plus', 'battery_plus', 'battery_plus', 'battery_minus'], dtype='<U13')})\n"
     ]
    },
    {
     "name": "stderr",
     "output_type": "stream",
     "text": [
      "0: 480x640 2 battery_minuss, 4 battery_pluss, 45.0ms\n",
      "Speed: 4.0ms preprocess, 45.0ms inference, 13.1ms postprocess per image at shape (1, 3, 480, 640)\n",
      "\n",
      "0: 480x640 2 battery_minuss, 4 battery_pluss, 45.3ms\n",
      "Speed: 7.4ms preprocess, 45.3ms inference, 8.0ms postprocess per image at shape (1, 3, 480, 640)\n",
      "\n"
     ]
    },
    {
     "name": "stdout",
     "output_type": "stream",
     "text": [
      "Detections(xyxy=array([[     37.173,      208.57,      56.834,      237.48],\n",
      "       [     10.948,      200.37,      29.729,      227.78],\n",
      "       [     136.73,      261.35,       158.4,      290.78],\n",
      "       [      18.32,      233.19,      39.318,      260.08],\n",
      "       [     82.957,      288.69,      102.77,      317.28],\n",
      "       [     48.785,      228.08,      72.963,      257.92]], dtype=float32), mask=None, confidence=array([    0.80949,     0.80803,     0.79733,     0.78335,     0.76066,     0.41367], dtype=float32), class_id=array([1, 1, 0, 1, 1, 0]), tracker_id=None, data={'class_name': array(['battery_plus', 'battery_plus', 'battery_minus', 'battery_plus', 'battery_plus', 'battery_minus'], dtype='<U13')})\n",
      "Detections(xyxy=array([[     4.3364,      200.47,      23.538,      227.83],\n",
      "       [     11.703,      232.68,      32.844,      259.86],\n",
      "       [     31.342,      208.52,      49.703,      237.55],\n",
      "       [     129.22,      261.11,      151.67,      290.77],\n",
      "       [     75.565,      289.04,      96.065,      317.28],\n",
      "       [      42.97,      227.94,      66.152,      258.07]], dtype=float32), mask=None, confidence=array([    0.83931,     0.80547,     0.80449,     0.79472,     0.76167,     0.52619], dtype=float32), class_id=array([1, 1, 1, 0, 1, 0]), tracker_id=None, data={'class_name': array(['battery_plus', 'battery_plus', 'battery_plus', 'battery_minus', 'battery_plus', 'battery_minus'], dtype='<U13')})\n"
     ]
    },
    {
     "name": "stderr",
     "output_type": "stream",
     "text": [
      "0: 480x640 2 battery_minuss, 4 battery_pluss, 50.9ms\n",
      "Speed: 0.0ms preprocess, 50.9ms inference, 11.9ms postprocess per image at shape (1, 3, 480, 640)\n",
      "\n",
      "0: 480x640 2 battery_minuss, 4 battery_pluss, 44.4ms\n",
      "Speed: 7.0ms preprocess, 44.4ms inference, 14.0ms postprocess per image at shape (1, 3, 480, 640)\n"
     ]
    },
    {
     "name": "stdout",
     "output_type": "stream",
     "text": [
      "Detections(xyxy=array([[     5.1225,      232.78,      25.915,      260.21],\n",
      "       [     23.789,      208.43,      42.644,      237.38],\n",
      "       [     122.55,      260.95,      144.22,      290.21],\n",
      "       [     68.744,      288.88,      89.065,      316.64],\n",
      "       [          0,      200.67,      16.627,      227.95],\n",
      "       [     35.985,      228.45,      60.013,       258.2]], dtype=float32), mask=None, confidence=array([    0.78995,     0.78872,      0.7845,     0.78359,     0.75979,     0.51237], dtype=float32), class_id=array([1, 1, 0, 1, 1, 0]), tracker_id=None, data={'class_name': array(['battery_plus', 'battery_plus', 'battery_minus', 'battery_plus', 'battery_plus', 'battery_minus'], dtype='<U13')})\n",
      "Detections(xyxy=array([[     114.65,      261.38,       137.2,      290.23],\n",
      "       [     61.428,      288.85,      81.739,      316.74],\n",
      "       [   0.045792,      232.02,      18.485,      260.12],\n",
      "       [     16.635,      208.73,      35.483,      237.07],\n",
      "       [          0,      201.78,      9.7524,      225.22],\n",
      "       [     28.559,      228.67,      52.962,      258.15]], dtype=float32), mask=None, confidence=array([    0.78704,      0.7465,     0.60016,     0.58039,      0.5462,     0.41655], dtype=float32), class_id=array([0, 1, 1, 1, 1, 0]), tracker_id=None, data={'class_name': array(['battery_minus', 'battery_plus', 'battery_plus', 'battery_plus', 'battery_plus', 'battery_minus'], dtype='<U13')})\n"
     ]
    },
    {
     "name": "stderr",
     "output_type": "stream",
     "text": [
      "\n",
      "0: 480x640 2 battery_minuss, 4 battery_pluss, 42.1ms\n",
      "Speed: 7.0ms preprocess, 42.1ms inference, 12.1ms postprocess per image at shape (1, 3, 480, 640)\n",
      "\n",
      "0: 480x640 1 battery_minus, 3 battery_pluss, 48.4ms\n",
      "Speed: 4.4ms preprocess, 48.4ms inference, 11.3ms postprocess per image at shape (1, 3, 480, 640)\n",
      "\n"
     ]
    },
    {
     "name": "stdout",
     "output_type": "stream",
     "text": [
      "Detections(xyxy=array([[     108.65,      261.19,      129.26,      288.96],\n",
      "       [     9.6971,      208.98,      29.077,      237.28],\n",
      "       [     54.491,      288.96,      74.129,      316.41],\n",
      "       [          0,      232.51,      12.797,      260.12],\n",
      "       [      21.55,      228.98,      45.586,      257.99],\n",
      "       [          0,      202.03,      5.1298,      224.37]], dtype=float32), mask=None, confidence=array([    0.78158,      0.7469,     0.74545,      0.6263,     0.29336,     0.26906], dtype=float32), class_id=array([0, 1, 1, 1, 0, 1]), tracker_id=None, data={'class_name': array(['battery_minus', 'battery_plus', 'battery_plus', 'battery_plus', 'battery_minus', 'battery_plus'], dtype='<U13')})\n",
      "Detections(xyxy=array([[     48.202,      289.33,      67.468,      316.42],\n",
      "       [     2.6912,      208.49,      22.653,      237.69],\n",
      "       [     102.51,      261.12,      122.78,      289.25],\n",
      "       [          0,      234.81,      6.6036,      259.22]], dtype=float32), mask=None, confidence=array([    0.75126,     0.72902,      0.6543,     0.27152], dtype=float32), class_id=array([1, 1, 0, 1]), tracker_id=None, data={'class_name': array(['battery_plus', 'battery_plus', 'battery_minus', 'battery_plus'], dtype='<U13')})\n"
     ]
    },
    {
     "name": "stderr",
     "output_type": "stream",
     "text": [
      "0: 480x640 1 battery_minus, 2 battery_pluss, 52.5ms\n",
      "Speed: 0.0ms preprocess, 52.5ms inference, 11.8ms postprocess per image at shape (1, 3, 480, 640)\n",
      "\n",
      "0: 480x640 2 battery_minuss, 2 battery_pluss, 47.3ms\n",
      "Speed: 4.5ms preprocess, 47.3ms inference, 11.8ms postprocess per image at shape (1, 3, 480, 640)\n",
      "\n"
     ]
    },
    {
     "name": "stdout",
     "output_type": "stream",
     "text": [
      "Detections(xyxy=array([[     40.612,      289.61,        60.1,      316.51],\n",
      "       [     94.787,      261.29,      115.31,      287.94],\n",
      "       [    0.16668,      208.68,      15.137,      237.84]], dtype=float32), mask=None, confidence=array([    0.78284,     0.69343,     0.68267], dtype=float32), class_id=array([1, 0, 1]), tracker_id=None, data={'class_name': array(['battery_plus', 'battery_minus', 'battery_plus'], dtype='<U13')})\n",
      "Detections(xyxy=array([[     34.524,      288.75,       54.07,      316.77],\n",
      "       [          0,      209.09,      9.0402,      239.56],\n",
      "       [     86.793,       261.3,      108.91,      288.18],\n",
      "       [    0.69933,      227.25,       24.91,      258.14]], dtype=float32), mask=None, confidence=array([     0.7256,     0.41592,     0.36597,     0.30565], dtype=float32), class_id=array([1, 1, 0, 0]), tracker_id=None, data={'class_name': array(['battery_plus', 'battery_plus', 'battery_minus', 'battery_minus'], dtype='<U13')})\n"
     ]
    },
    {
     "name": "stderr",
     "output_type": "stream",
     "text": [
      "0: 480x640 2 battery_minuss, 1 battery_plus, 47.8ms\n",
      "Speed: 0.0ms preprocess, 47.8ms inference, 17.0ms postprocess per image at shape (1, 3, 480, 640)\n",
      "\n",
      "0: 480x640 2 battery_minuss, 1 battery_plus, 46.1ms\n",
      "Speed: 3.9ms preprocess, 46.1ms inference, 13.6ms postprocess per image at shape (1, 3, 480, 640)\n",
      "\n"
     ]
    },
    {
     "name": "stdout",
     "output_type": "stream",
     "text": [
      "Detections(xyxy=array([[     27.406,      288.71,      46.911,      316.54],\n",
      "       [     79.554,      261.75,      101.86,      287.68],\n",
      "       [   0.048176,      228.24,      17.595,      258.16]], dtype=float32), mask=None, confidence=array([    0.76721,     0.58677,     0.53497], dtype=float32), class_id=array([1, 0, 0]), tracker_id=None, data={'class_name': array(['battery_plus', 'battery_minus', 'battery_minus'], dtype='<U13')})\n",
      "Detections(xyxy=array([[      20.41,      288.82,      40.645,      316.35],\n",
      "       [          0,      231.77,      10.584,      256.95],\n",
      "       [     72.483,      261.57,      95.108,      287.13]], dtype=float32), mask=None, confidence=array([    0.78549,     0.71622,     0.42852], dtype=float32), class_id=array([1, 0, 0]), tracker_id=None, data={'class_name': array(['battery_plus', 'battery_minus', 'battery_minus'], dtype='<U13')})\n"
     ]
    },
    {
     "name": "stderr",
     "output_type": "stream",
     "text": [
      "0: 480x640 1 battery_plus, 45.6ms\n",
      "Speed: 4.8ms preprocess, 45.6ms inference, 12.6ms postprocess per image at shape (1, 3, 480, 640)\n",
      "\n",
      "0: 480x640 1 battery_plus, 50.8ms\n",
      "Speed: 4.5ms preprocess, 50.8ms inference, 9.7ms postprocess per image at shape (1, 3, 480, 640)\n",
      "\n"
     ]
    },
    {
     "name": "stdout",
     "output_type": "stream",
     "text": [
      "Detections(xyxy=array([[     13.478,      288.77,      34.086,      315.96]], dtype=float32), mask=None, confidence=array([    0.77691], dtype=float32), class_id=array([1]), tracker_id=None, data={'class_name': array(['battery_plus'], dtype='<U12')})\n",
      "Detections(xyxy=array([[     6.4353,       288.8,      27.553,      315.84]], dtype=float32), mask=None, confidence=array([    0.49129], dtype=float32), class_id=array([1]), tracker_id=None, data={'class_name': array(['battery_plus'], dtype='<U12')})\n"
     ]
    },
    {
     "name": "stderr",
     "output_type": "stream",
     "text": [
      "0: 480x640 (no detections), 46.5ms\n",
      "Speed: 2.4ms preprocess, 46.5ms inference, 5.4ms postprocess per image at shape (1, 3, 480, 640)\n",
      "\n",
      "0: 480x640 (no detections), 45.0ms\n",
      "Speed: 6.4ms preprocess, 45.0ms inference, 8.1ms postprocess per image at shape (1, 3, 480, 640)\n",
      "\n"
     ]
    },
    {
     "name": "stdout",
     "output_type": "stream",
     "text": [
      "Detections(xyxy=array([], shape=(0, 4), dtype=float32), mask=None, confidence=array([], dtype=float32), class_id=array([], dtype=int32), tracker_id=None, data={'class_name': array([], dtype=float64)})\n",
      "Detections(xyxy=array([], shape=(0, 4), dtype=float32), mask=None, confidence=array([], dtype=float32), class_id=array([], dtype=int32), tracker_id=None, data={'class_name': array([], dtype=float64)})\n"
     ]
    },
    {
     "name": "stderr",
     "output_type": "stream",
     "text": [
      "0: 480x640 (no detections), 47.5ms\n",
      "Speed: 6.5ms preprocess, 47.5ms inference, 3.4ms postprocess per image at shape (1, 3, 480, 640)\n",
      "\n",
      "0: 480x640 (no detections), 52.0ms\n",
      "Speed: 0.0ms preprocess, 52.0ms inference, 5.5ms postprocess per image at shape (1, 3, 480, 640)\n",
      "\n"
     ]
    },
    {
     "name": "stdout",
     "output_type": "stream",
     "text": [
      "Detections(xyxy=array([], shape=(0, 4), dtype=float32), mask=None, confidence=array([], dtype=float32), class_id=array([], dtype=int32), tracker_id=None, data={'class_name': array([], dtype=float64)})\n",
      "Detections(xyxy=array([], shape=(0, 4), dtype=float32), mask=None, confidence=array([], dtype=float32), class_id=array([], dtype=int32), tracker_id=None, data={'class_name': array([], dtype=float64)})\n"
     ]
    },
    {
     "name": "stderr",
     "output_type": "stream",
     "text": [
      "0: 480x640 (no detections), 46.4ms\n",
      "Speed: 3.7ms preprocess, 46.4ms inference, 4.8ms postprocess per image at shape (1, 3, 480, 640)\n",
      "\n",
      "0: 480x640 (no detections), 72.2ms\n",
      "Speed: 4.0ms preprocess, 72.2ms inference, 0.0ms postprocess per image at shape (1, 3, 480, 640)\n",
      "\n"
     ]
    },
    {
     "name": "stdout",
     "output_type": "stream",
     "text": [
      "Detections(xyxy=array([], shape=(0, 4), dtype=float32), mask=None, confidence=array([], dtype=float32), class_id=array([], dtype=int32), tracker_id=None, data={'class_name': array([], dtype=float64)})\n",
      "Detections(xyxy=array([], shape=(0, 4), dtype=float32), mask=None, confidence=array([], dtype=float32), class_id=array([], dtype=int32), tracker_id=None, data={'class_name': array([], dtype=float64)})\n"
     ]
    },
    {
     "name": "stderr",
     "output_type": "stream",
     "text": [
      "0: 480x640 (no detections), 128.6ms\n",
      "Speed: 9.3ms preprocess, 128.6ms inference, 19.6ms postprocess per image at shape (1, 3, 480, 640)\n",
      "\n",
      "0: 480x640 (no detections), 129.8ms\n"
     ]
    },
    {
     "name": "stdout",
     "output_type": "stream",
     "text": [
      "Detections(xyxy=array([], shape=(0, 4), dtype=float32), mask=None, confidence=array([], dtype=float32), class_id=array([], dtype=int32), tracker_id=None, data={'class_name': array([], dtype=float64)})\n"
     ]
    },
    {
     "name": "stderr",
     "output_type": "stream",
     "text": [
      "Speed: 7.7ms preprocess, 129.8ms inference, 4.7ms postprocess per image at shape (1, 3, 480, 640)\n",
      "\n",
      "0: 480x640 (no detections), 134.7ms\n"
     ]
    },
    {
     "name": "stdout",
     "output_type": "stream",
     "text": [
      "Detections(xyxy=array([], shape=(0, 4), dtype=float32), mask=None, confidence=array([], dtype=float32), class_id=array([], dtype=int32), tracker_id=None, data={'class_name': array([], dtype=float64)})\n"
     ]
    },
    {
     "name": "stderr",
     "output_type": "stream",
     "text": [
      "Speed: 8.8ms preprocess, 134.7ms inference, 0.0ms postprocess per image at shape (1, 3, 480, 640)\n",
      "\n"
     ]
    },
    {
     "name": "stdout",
     "output_type": "stream",
     "text": [
      "Detections(xyxy=array([], shape=(0, 4), dtype=float32), mask=None, confidence=array([], dtype=float32), class_id=array([], dtype=int32), tracker_id=None, data={'class_name': array([], dtype=float64)})\n"
     ]
    },
    {
     "name": "stderr",
     "output_type": "stream",
     "text": [
      "0: 480x640 (no detections), 134.3ms\n",
      "Speed: 4.3ms preprocess, 134.3ms inference, 22.3ms postprocess per image at shape (1, 3, 480, 640)\n",
      "\n",
      "0: 480x640 (no detections), 46.4ms\n",
      "Speed: 0.0ms preprocess, 46.4ms inference, 0.0ms postprocess per image at shape (1, 3, 480, 640)\n",
      "\n"
     ]
    },
    {
     "name": "stdout",
     "output_type": "stream",
     "text": [
      "Detections(xyxy=array([], shape=(0, 4), dtype=float32), mask=None, confidence=array([], dtype=float32), class_id=array([], dtype=int32), tracker_id=None, data={'class_name': array([], dtype=float64)})\n",
      "Detections(xyxy=array([], shape=(0, 4), dtype=float32), mask=None, confidence=array([], dtype=float32), class_id=array([], dtype=int32), tracker_id=None, data={'class_name': array([], dtype=float64)})\n"
     ]
    },
    {
     "name": "stderr",
     "output_type": "stream",
     "text": [
      "0: 480x640 (no detections), 53.6ms\n",
      "Speed: 0.0ms preprocess, 53.6ms inference, 8.4ms postprocess per image at shape (1, 3, 480, 640)\n",
      "\n",
      "0: 480x640 (no detections), 41.2ms\n",
      "Speed: 4.5ms preprocess, 41.2ms inference, 13.0ms postprocess per image at shape (1, 3, 480, 640)\n",
      "\n"
     ]
    },
    {
     "name": "stdout",
     "output_type": "stream",
     "text": [
      "Detections(xyxy=array([], shape=(0, 4), dtype=float32), mask=None, confidence=array([], dtype=float32), class_id=array([], dtype=int32), tracker_id=None, data={'class_name': array([], dtype=float64)})\n",
      "Detections(xyxy=array([], shape=(0, 4), dtype=float32), mask=None, confidence=array([], dtype=float32), class_id=array([], dtype=int32), tracker_id=None, data={'class_name': array([], dtype=float64)})\n"
     ]
    },
    {
     "name": "stderr",
     "output_type": "stream",
     "text": [
      "0: 480x640 (no detections), 49.6ms\n",
      "Speed: 2.8ms preprocess, 49.6ms inference, 2.0ms postprocess per image at shape (1, 3, 480, 640)\n",
      "\n",
      "0: 480x640 (no detections), 40.6ms\n",
      "Speed: 7.4ms preprocess, 40.6ms inference, 14.1ms postprocess per image at shape (1, 3, 480, 640)\n",
      "\n",
      "0: 480x640 (no detections), 48.8ms\n"
     ]
    },
    {
     "name": "stdout",
     "output_type": "stream",
     "text": [
      "Detections(xyxy=array([], shape=(0, 4), dtype=float32), mask=None, confidence=array([], dtype=float32), class_id=array([], dtype=int32), tracker_id=None, data={'class_name': array([], dtype=float64)})\n",
      "Detections(xyxy=array([], shape=(0, 4), dtype=float32), mask=None, confidence=array([], dtype=float32), class_id=array([], dtype=int32), tracker_id=None, data={'class_name': array([], dtype=float64)})\n"
     ]
    },
    {
     "name": "stderr",
     "output_type": "stream",
     "text": [
      "Speed: 4.6ms preprocess, 48.8ms inference, 5.1ms postprocess per image at shape (1, 3, 480, 640)\n",
      "\n",
      "0: 480x640 (no detections), 52.9ms\n",
      "Speed: 0.0ms preprocess, 52.9ms inference, 5.7ms postprocess per image at shape (1, 3, 480, 640)\n",
      "\n"
     ]
    },
    {
     "name": "stdout",
     "output_type": "stream",
     "text": [
      "Detections(xyxy=array([], shape=(0, 4), dtype=float32), mask=None, confidence=array([], dtype=float32), class_id=array([], dtype=int32), tracker_id=None, data={'class_name': array([], dtype=float64)})\n",
      "Detections(xyxy=array([], shape=(0, 4), dtype=float32), mask=None, confidence=array([], dtype=float32), class_id=array([], dtype=int32), tracker_id=None, data={'class_name': array([], dtype=float64)})\n"
     ]
    },
    {
     "name": "stderr",
     "output_type": "stream",
     "text": [
      "0: 480x640 (no detections), 45.1ms\n",
      "Speed: 5.0ms preprocess, 45.1ms inference, 8.2ms postprocess per image at shape (1, 3, 480, 640)\n",
      "\n",
      "0: 480x640 (no detections), 41.0ms\n",
      "Speed: 4.4ms preprocess, 41.0ms inference, 12.8ms postprocess per image at shape (1, 3, 480, 640)\n",
      "\n"
     ]
    },
    {
     "name": "stdout",
     "output_type": "stream",
     "text": [
      "Detections(xyxy=array([], shape=(0, 4), dtype=float32), mask=None, confidence=array([], dtype=float32), class_id=array([], dtype=int32), tracker_id=None, data={'class_name': array([], dtype=float64)})\n",
      "Detections(xyxy=array([], shape=(0, 4), dtype=float32), mask=None, confidence=array([], dtype=float32), class_id=array([], dtype=int32), tracker_id=None, data={'class_name': array([], dtype=float64)})\n"
     ]
    },
    {
     "name": "stderr",
     "output_type": "stream",
     "text": [
      "0: 480x640 (no detections), 45.9ms\n",
      "Speed: 6.8ms preprocess, 45.9ms inference, 7.2ms postprocess per image at shape (1, 3, 480, 640)\n",
      "\n",
      "0: 480x640 (no detections), 47.0ms\n",
      "Speed: 6.5ms preprocess, 47.0ms inference, 2.6ms postprocess per image at shape (1, 3, 480, 640)\n",
      "\n"
     ]
    },
    {
     "name": "stdout",
     "output_type": "stream",
     "text": [
      "Detections(xyxy=array([], shape=(0, 4), dtype=float32), mask=None, confidence=array([], dtype=float32), class_id=array([], dtype=int32), tracker_id=None, data={'class_name': array([], dtype=float64)})\n",
      "Detections(xyxy=array([], shape=(0, 4), dtype=float32), mask=None, confidence=array([], dtype=float32), class_id=array([], dtype=int32), tracker_id=None, data={'class_name': array([], dtype=float64)})\n"
     ]
    },
    {
     "name": "stderr",
     "output_type": "stream",
     "text": [
      "0: 480x640 (no detections), 46.3ms\n",
      "Speed: 4.6ms preprocess, 46.3ms inference, 7.1ms postprocess per image at shape (1, 3, 480, 640)\n",
      "\n",
      "0: 480x640 1 battery_plus, 38.7ms\n",
      "Speed: 3.7ms preprocess, 38.7ms inference, 18.5ms postprocess per image at shape (1, 3, 480, 640)\n",
      "\n"
     ]
    },
    {
     "name": "stdout",
     "output_type": "stream",
     "text": [
      "Detections(xyxy=array([], shape=(0, 4), dtype=float32), mask=None, confidence=array([], dtype=float32), class_id=array([], dtype=int32), tracker_id=None, data={'class_name': array([], dtype=float64)})\n",
      "Detections(xyxy=array([[      630.7,      223.36,      639.95,      248.71]], dtype=float32), mask=None, confidence=array([    0.55286], dtype=float32), class_id=array([1]), tracker_id=None, data={'class_name': array(['battery_plus'], dtype='<U12')})\n"
     ]
    },
    {
     "name": "stderr",
     "output_type": "stream",
     "text": [
      "0: 480x640 1 battery_plus, 43.9ms\n",
      "Speed: 4.1ms preprocess, 43.9ms inference, 17.2ms postprocess per image at shape (1, 3, 480, 640)\n",
      "\n",
      "0: 480x640 1 battery_plus, 40.6ms\n",
      "Speed: 0.0ms preprocess, 40.6ms inference, 13.6ms postprocess per image at shape (1, 3, 480, 640)\n",
      "\n"
     ]
    },
    {
     "name": "stdout",
     "output_type": "stream",
     "text": [
      "Detections(xyxy=array([[      629.8,       223.8,      639.96,      249.67]], dtype=float32), mask=None, confidence=array([    0.52985], dtype=float32), class_id=array([1]), tracker_id=None, data={'class_name': array(['battery_plus'], dtype='<U12')})\n",
      "Detections(xyxy=array([[      622.6,      222.34,      639.34,      250.28]], dtype=float32), mask=None, confidence=array([    0.80872], dtype=float32), class_id=array([1]), tracker_id=None, data={'class_name': array(['battery_plus'], dtype='<U12')})\n"
     ]
    },
    {
     "name": "stderr",
     "output_type": "stream",
     "text": [
      "0: 480x640 1 battery_plus, 48.5ms\n",
      "Speed: 0.0ms preprocess, 48.5ms inference, 14.0ms postprocess per image at shape (1, 3, 480, 640)\n",
      "\n",
      "0: 480x640 1 battery_plus, 45.1ms\n",
      "Speed: 7.0ms preprocess, 45.1ms inference, 7.8ms postprocess per image at shape (1, 3, 480, 640)\n",
      "\n"
     ]
    },
    {
     "name": "stdout",
     "output_type": "stream",
     "text": [
      "Detections(xyxy=array([[        616,      221.82,      634.12,      250.07]], dtype=float32), mask=None, confidence=array([    0.77801], dtype=float32), class_id=array([1]), tracker_id=None, data={'class_name': array(['battery_plus'], dtype='<U12')})\n",
      "Detections(xyxy=array([[     609.05,      222.32,      627.44,      250.26]], dtype=float32), mask=None, confidence=array([    0.69342], dtype=float32), class_id=array([1]), tracker_id=None, data={'class_name': array(['battery_plus'], dtype='<U12')})\n"
     ]
    },
    {
     "name": "stderr",
     "output_type": "stream",
     "text": [
      "0: 480x640 1 battery_plus, 39.5ms\n",
      "Speed: 3.8ms preprocess, 39.5ms inference, 18.3ms postprocess per image at shape (1, 3, 480, 640)\n",
      "\n",
      "0: 480x640 1 battery_plus, 42.3ms\n",
      "Speed: 4.5ms preprocess, 42.3ms inference, 15.9ms postprocess per image at shape (1, 3, 480, 640)\n",
      "\n"
     ]
    },
    {
     "name": "stdout",
     "output_type": "stream",
     "text": [
      "Detections(xyxy=array([[     601.81,      222.26,      620.25,      250.36]], dtype=float32), mask=None, confidence=array([    0.73464], dtype=float32), class_id=array([1]), tracker_id=None, data={'class_name': array(['battery_plus'], dtype='<U12')})\n",
      "Detections(xyxy=array([[     595.05,      221.47,      614.25,      250.51]], dtype=float32), mask=None, confidence=array([     0.7394], dtype=float32), class_id=array([1]), tracker_id=None, data={'class_name': array(['battery_plus'], dtype='<U12')})\n"
     ]
    },
    {
     "name": "stderr",
     "output_type": "stream",
     "text": [
      "0: 480x640 1 battery_plus, 43.8ms\n",
      "Speed: 4.5ms preprocess, 43.8ms inference, 16.2ms postprocess per image at shape (1, 3, 480, 640)\n",
      "\n",
      "0: 480x640 1 battery_plus, 42.0ms\n",
      "Speed: 6.3ms preprocess, 42.0ms inference, 7.4ms postprocess per image at shape (1, 3, 480, 640)\n",
      "\n"
     ]
    },
    {
     "name": "stdout",
     "output_type": "stream",
     "text": [
      "Detections(xyxy=array([[     588.24,      221.76,       607.5,      250.18]], dtype=float32), mask=None, confidence=array([    0.76907], dtype=float32), class_id=array([1]), tracker_id=None, data={'class_name': array(['battery_plus'], dtype='<U12')})\n",
      "Detections(xyxy=array([[     581.19,      221.91,      600.36,      250.37]], dtype=float32), mask=None, confidence=array([     0.7629], dtype=float32), class_id=array([1]), tracker_id=None, data={'class_name': array(['battery_plus'], dtype='<U12')})\n"
     ]
    },
    {
     "name": "stderr",
     "output_type": "stream",
     "text": [
      "0: 480x640 1 battery_plus, 45.8ms\n",
      "Speed: 7.9ms preprocess, 45.8ms inference, 12.0ms postprocess per image at shape (1, 3, 480, 640)\n",
      "\n",
      "0: 480x640 2 battery_pluss, 44.4ms\n",
      "Speed: 3.8ms preprocess, 44.4ms inference, 16.1ms postprocess per image at shape (1, 3, 480, 640)\n",
      "\n"
     ]
    },
    {
     "name": "stdout",
     "output_type": "stream",
     "text": [
      "Detections(xyxy=array([[     574.52,       221.8,      593.09,       250.3]], dtype=float32), mask=None, confidence=array([    0.76913], dtype=float32), class_id=array([1]), tracker_id=None, data={'class_name': array(['battery_plus'], dtype='<U12')})\n",
      "Detections(xyxy=array([[     567.58,       221.8,      585.87,      250.13],\n",
      "       [     633.96,      164.66,      639.96,      188.73]], dtype=float32), mask=None, confidence=array([    0.78844,      0.2625], dtype=float32), class_id=array([1, 1]), tracker_id=None, data={'class_name': array(['battery_plus', 'battery_plus'], dtype='<U12')})\n"
     ]
    },
    {
     "name": "stderr",
     "output_type": "stream",
     "text": [
      "0: 480x640 2 battery_pluss, 39.7ms\n",
      "Speed: 8.7ms preprocess, 39.7ms inference, 16.1ms postprocess per image at shape (1, 3, 480, 640)\n",
      "\n",
      "0: 480x640 2 battery_pluss, 44.8ms\n",
      "Speed: 4.0ms preprocess, 44.8ms inference, 18.1ms postprocess per image at shape (1, 3, 480, 640)\n",
      "\n"
     ]
    },
    {
     "name": "stdout",
     "output_type": "stream",
     "text": [
      "Detections(xyxy=array([[     559.98,      221.76,      578.37,      250.31],\n",
      "       [     628.27,      163.88,      639.95,      190.04]], dtype=float32), mask=None, confidence=array([    0.78426,     0.45083], dtype=float32), class_id=array([1, 1]), tracker_id=None, data={'class_name': array(['battery_plus', 'battery_plus'], dtype='<U12')})\n",
      "Detections(xyxy=array([[     552.67,      221.14,      571.69,      250.38],\n",
      "       [     621.02,      163.62,      638.68,      191.78]], dtype=float32), mask=None, confidence=array([    0.78589,     0.76921], dtype=float32), class_id=array([1, 1]), tracker_id=None, data={'class_name': array(['battery_plus', 'battery_plus'], dtype='<U12')})\n"
     ]
    },
    {
     "name": "stderr",
     "output_type": "stream",
     "text": [
      "0: 480x640 3 battery_pluss, 47.3ms\n",
      "Speed: 7.6ms preprocess, 47.3ms inference, 11.3ms postprocess per image at shape (1, 3, 480, 640)\n",
      "\n",
      "0: 480x640 3 battery_pluss, 44.9ms\n",
      "Speed: 8.6ms preprocess, 44.9ms inference, 7.4ms postprocess per image at shape (1, 3, 480, 640)\n",
      "\n"
     ]
    },
    {
     "name": "stdout",
     "output_type": "stream",
     "text": [
      "Detections(xyxy=array([[     614.35,      163.27,      632.71,      191.67],\n",
      "       [     545.14,      221.03,      564.24,      250.08],\n",
      "       [     632.75,      288.72,      639.98,      315.21]], dtype=float32), mask=None, confidence=array([    0.76711,     0.74784,      0.7034], dtype=float32), class_id=array([1, 1, 1]), tracker_id=None, data={'class_name': array(['battery_plus', 'battery_plus', 'battery_plus'], dtype='<U12')})\n",
      "Detections(xyxy=array([[     607.36,      163.05,      625.79,      191.92],\n",
      "       [     538.55,      220.95,      557.82,      249.93],\n",
      "       [     625.63,      288.79,       639.9,      315.81]], dtype=float32), mask=None, confidence=array([    0.79442,     0.74805,     0.42067], dtype=float32), class_id=array([1, 1, 1]), tracker_id=None, data={'class_name': array(['battery_plus', 'battery_plus', 'battery_plus'], dtype='<U12')})\n"
     ]
    },
    {
     "name": "stderr",
     "output_type": "stream",
     "text": [
      "0: 480x640 3 battery_pluss, 49.9ms\n",
      "Speed: 0.0ms preprocess, 49.9ms inference, 13.1ms postprocess per image at shape (1, 3, 480, 640)\n",
      "\n",
      "0: 480x640 3 battery_pluss, 47.4ms\n",
      "Speed: 4.3ms preprocess, 47.4ms inference, 9.7ms postprocess per image at shape (1, 3, 480, 640)\n",
      "\n"
     ]
    },
    {
     "name": "stdout",
     "output_type": "stream",
     "text": [
      "Detections(xyxy=array([[     600.44,       162.9,      618.99,      192.01],\n",
      "       [     531.76,      220.87,      551.09,      249.59],\n",
      "       [     619.87,       287.8,      638.38,         316]], dtype=float32), mask=None, confidence=array([    0.79326,     0.76012,     0.74659], dtype=float32), class_id=array([1, 1, 1]), tracker_id=None, data={'class_name': array(['battery_plus', 'battery_plus', 'battery_plus'], dtype='<U12')})\n",
      "Detections(xyxy=array([[     593.02,      162.88,         612,       192.1],\n",
      "       [     524.15,      220.68,      543.74,       249.8],\n",
      "       [     613.85,      287.55,      632.57,      315.93]], dtype=float32), mask=None, confidence=array([     0.7959,      0.7825,     0.61954], dtype=float32), class_id=array([1, 1, 1]), tracker_id=None, data={'class_name': array(['battery_plus', 'battery_plus', 'battery_plus'], dtype='<U12')})\n"
     ]
    },
    {
     "name": "stderr",
     "output_type": "stream",
     "text": [
      "0: 480x640 3 battery_pluss, 43.0ms\n",
      "Speed: 6.0ms preprocess, 43.0ms inference, 16.2ms postprocess per image at shape (1, 3, 480, 640)\n",
      "\n",
      "0: 480x640 3 battery_pluss, 46.0ms\n",
      "Speed: 0.0ms preprocess, 46.0ms inference, 12.7ms postprocess per image at shape (1, 3, 480, 640)\n",
      "\n"
     ]
    },
    {
     "name": "stdout",
     "output_type": "stream",
     "text": [
      "Detections(xyxy=array([[     517.12,      220.96,       536.8,      249.86],\n",
      "       [     585.79,      162.47,       604.4,      192.24],\n",
      "       [     607.26,      287.56,      625.44,      315.86]], dtype=float32), mask=None, confidence=array([    0.79334,     0.78983,     0.61511], dtype=float32), class_id=array([1, 1, 1]), tracker_id=None, data={'class_name': array(['battery_plus', 'battery_plus', 'battery_plus'], dtype='<U12')})\n",
      "Detections(xyxy=array([[     579.63,      162.47,      598.53,      191.49],\n",
      "       [     509.64,      220.88,         529,      250.13],\n",
      "       [     599.75,      287.47,      618.08,      315.77]], dtype=float32), mask=None, confidence=array([    0.79002,     0.77878,     0.71797], dtype=float32), class_id=array([1, 1, 1]), tracker_id=None, data={'class_name': array(['battery_plus', 'battery_plus', 'battery_plus'], dtype='<U12')})\n"
     ]
    },
    {
     "name": "stderr",
     "output_type": "stream",
     "text": [
      "0: 480x640 3 battery_pluss, 42.5ms\n",
      "Speed: 5.1ms preprocess, 42.5ms inference, 15.8ms postprocess per image at shape (1, 3, 480, 640)\n",
      "\n",
      "0: 480x640 3 battery_pluss, 54.0ms\n",
      "Speed: 4.1ms preprocess, 54.0ms inference, 12.2ms postprocess per image at shape (1, 3, 480, 640)\n",
      "\n"
     ]
    },
    {
     "name": "stdout",
     "output_type": "stream",
     "text": [
      "Detections(xyxy=array([[     572.62,      162.34,      591.58,      191.53],\n",
      "       [     502.22,      221.14,      521.66,      250.11],\n",
      "       [     591.88,       287.4,      610.92,      315.92]], dtype=float32), mask=None, confidence=array([    0.80494,     0.79672,     0.69857], dtype=float32), class_id=array([1, 1, 1]), tracker_id=None, data={'class_name': array(['battery_plus', 'battery_plus', 'battery_plus'], dtype='<U12')})\n",
      "Detections(xyxy=array([[     565.76,      162.44,      583.83,      191.15],\n",
      "       [     495.53,      221.13,      514.28,      249.86],\n",
      "       [     584.93,      287.42,      603.98,      316.03]], dtype=float32), mask=None, confidence=array([    0.81447,     0.79129,     0.74431], dtype=float32), class_id=array([1, 1, 1]), tracker_id=None, data={'class_name': array(['battery_plus', 'battery_plus', 'battery_plus'], dtype='<U12')})\n"
     ]
    },
    {
     "name": "stderr",
     "output_type": "stream",
     "text": [
      "0: 480x640 3 battery_pluss, 48.9ms\n",
      "Speed: 4.6ms preprocess, 48.9ms inference, 12.2ms postprocess per image at shape (1, 3, 480, 640)\n",
      "\n",
      "0: 480x640 3 battery_pluss, 49.5ms\n",
      "Speed: 4.5ms preprocess, 49.5ms inference, 8.5ms postprocess per image at shape (1, 3, 480, 640)\n",
      "\n"
     ]
    },
    {
     "name": "stdout",
     "output_type": "stream",
     "text": [
      "Detections(xyxy=array([[     487.98,       221.1,      506.73,      249.63],\n",
      "       [     558.58,      162.51,      576.58,       191.4],\n",
      "       [     577.42,      287.07,      596.29,      316.01]], dtype=float32), mask=None, confidence=array([    0.77851,     0.77772,     0.70361], dtype=float32), class_id=array([1, 1, 1]), tracker_id=None, data={'class_name': array(['battery_plus', 'battery_plus', 'battery_plus'], dtype='<U12')})\n",
      "Detections(xyxy=array([[     550.95,      162.42,      569.24,      191.41],\n",
      "       [     480.57,      221.01,      499.73,      249.72],\n",
      "       [     570.65,      287.35,      590.47,       315.8]], dtype=float32), mask=None, confidence=array([    0.79742,     0.77921,     0.74869], dtype=float32), class_id=array([1, 1, 1]), tracker_id=None, data={'class_name': array(['battery_plus', 'battery_plus', 'battery_plus'], dtype='<U12')})\n"
     ]
    },
    {
     "name": "stderr",
     "output_type": "stream",
     "text": [
      "0: 480x640 3 battery_pluss, 43.4ms\n",
      "Speed: 5.3ms preprocess, 43.4ms inference, 15.0ms postprocess per image at shape (1, 3, 480, 640)\n",
      "\n",
      "0: 480x640 3 battery_pluss, 47.1ms\n",
      "Speed: 5.1ms preprocess, 47.1ms inference, 14.0ms postprocess per image at shape (1, 3, 480, 640)\n",
      "\n"
     ]
    },
    {
     "name": "stdout",
     "output_type": "stream",
     "text": [
      "Detections(xyxy=array([[      543.8,      162.43,      561.75,      191.58],\n",
      "       [     473.16,      220.68,      492.39,       249.7],\n",
      "       [      563.7,      287.31,      583.84,      315.72]], dtype=float32), mask=None, confidence=array([    0.79226,     0.76624,     0.74909], dtype=float32), class_id=array([1, 1, 1]), tracker_id=None, data={'class_name': array(['battery_plus', 'battery_plus', 'battery_plus'], dtype='<U12')})\n",
      "Detections(xyxy=array([[     536.66,      162.35,      555.19,       191.6],\n",
      "       [     466.38,      220.91,      485.95,      249.89],\n",
      "       [     556.98,      286.69,      576.22,       315.7]], dtype=float32), mask=None, confidence=array([    0.76416,     0.73776,     0.70591], dtype=float32), class_id=array([1, 1, 1]), tracker_id=None, data={'class_name': array(['battery_plus', 'battery_plus', 'battery_plus'], dtype='<U12')})\n"
     ]
    },
    {
     "name": "stderr",
     "output_type": "stream",
     "text": [
      "0: 480x640 1 battery_minus, 3 battery_pluss, 40.9ms\n",
      "Speed: 8.1ms preprocess, 40.9ms inference, 12.7ms postprocess per image at shape (1, 3, 480, 640)\n",
      "\n",
      "0: 480x640 1 battery_minus, 3 battery_pluss, 43.5ms\n",
      "Speed: 4.5ms preprocess, 43.5ms inference, 11.5ms postprocess per image at shape (1, 3, 480, 640)\n",
      "\n"
     ]
    },
    {
     "name": "stdout",
     "output_type": "stream",
     "text": [
      "Detections(xyxy=array([[      459.5,      220.82,      478.97,      249.69],\n",
      "       [     529.99,      162.06,      549.26,       191.3],\n",
      "       [     549.51,      286.76,      569.45,      315.82],\n",
      "       [     632.85,      244.29,         640,      267.87]], dtype=float32), mask=None, confidence=array([    0.76916,     0.75019,     0.74027,     0.53959], dtype=float32), class_id=array([1, 1, 1, 0]), tracker_id=None, data={'class_name': array(['battery_plus', 'battery_plus', 'battery_plus', 'battery_minus'], dtype='<U13')})\n",
      "Detections(xyxy=array([[     451.55,      221.03,      471.76,      249.78],\n",
      "       [     522.74,      162.02,      541.78,      191.24],\n",
      "       [     542.63,      286.74,       561.8,      315.66],\n",
      "       [     626.47,      242.76,      639.88,      270.33]], dtype=float32), mask=None, confidence=array([    0.78787,     0.76883,     0.73036,     0.51578], dtype=float32), class_id=array([1, 1, 1, 0]), tracker_id=None, data={'class_name': array(['battery_plus', 'battery_plus', 'battery_plus', 'battery_minus'], dtype='<U13')})\n"
     ]
    },
    {
     "name": "stderr",
     "output_type": "stream",
     "text": [
      "0: 480x640 1 battery_minus, 3 battery_pluss, 36.6ms\n",
      "Speed: 6.5ms preprocess, 36.6ms inference, 17.6ms postprocess per image at shape (1, 3, 480, 640)\n",
      "\n",
      "0: 480x640 1 battery_minus, 3 battery_pluss, 48.7ms\n",
      "Speed: 0.0ms preprocess, 48.7ms inference, 12.9ms postprocess per image at shape (1, 3, 480, 640)\n",
      "\n"
     ]
    },
    {
     "name": "stdout",
     "output_type": "stream",
     "text": [
      "Detections(xyxy=array([[     515.73,      162.23,      534.66,      190.87],\n",
      "       [     443.66,      221.32,      464.65,      250.13],\n",
      "       [      620.5,      242.25,      639.45,      271.34],\n",
      "       [     534.96,      286.67,      554.49,       315.6]], dtype=float32), mask=None, confidence=array([     0.7908,      0.7738,     0.75842,     0.75535], dtype=float32), class_id=array([1, 1, 0, 1]), tracker_id=None, data={'class_name': array(['battery_plus', 'battery_plus', 'battery_minus', 'battery_plus'], dtype='<U13')})\n",
      "Detections(xyxy=array([[     614.28,      242.57,      634.31,      271.38],\n",
      "       [     437.24,      221.53,         457,      250.23],\n",
      "       [     509.01,      162.04,      527.38,      190.62],\n",
      "       [     527.89,      286.67,       547.5,      315.76]], dtype=float32), mask=None, confidence=array([    0.80868,     0.79846,     0.74457,     0.72418], dtype=float32), class_id=array([0, 1, 1, 1]), tracker_id=None, data={'class_name': array(['battery_minus', 'battery_plus', 'battery_plus', 'battery_plus'], dtype='<U13')})\n"
     ]
    },
    {
     "name": "stderr",
     "output_type": "stream",
     "text": [
      "0: 480x640 1 battery_minus, 4 battery_pluss, 47.2ms\n",
      "Speed: 7.3ms preprocess, 47.2ms inference, 8.5ms postprocess per image at shape (1, 3, 480, 640)\n",
      "\n",
      "0: 480x640 2 battery_minuss, 3 battery_pluss, 41.6ms\n",
      "Speed: 4.6ms preprocess, 41.6ms inference, 12.9ms postprocess per image at shape (1, 3, 480, 640)\n",
      "\n"
     ]
    },
    {
     "name": "stdout",
     "output_type": "stream",
     "text": [
      "Detections(xyxy=array([[     501.28,      162.11,      519.83,      190.95],\n",
      "       [     429.66,      221.67,      449.63,      250.09],\n",
      "       [     607.35,      242.41,      627.61,       271.7],\n",
      "       [     520.54,      286.69,      539.92,       315.5],\n",
      "       [     634.39,      310.96,      639.87,      332.76]], dtype=float32), mask=None, confidence=array([    0.79798,     0.79664,     0.79348,     0.71745,     0.41442], dtype=float32), class_id=array([1, 1, 0, 1, 1]), tracker_id=None, data={'class_name': array(['battery_plus', 'battery_plus', 'battery_minus', 'battery_plus', 'battery_plus'], dtype='<U13')})\n",
      "Detections(xyxy=array([[     600.14,       242.1,      620.04,      271.12],\n",
      "       [        629,      308.84,      639.98,      335.36],\n",
      "       [     493.64,      161.99,      512.16,      190.97],\n",
      "       [     422.03,      221.67,      442.38,      249.93],\n",
      "       [     513.18,      286.64,      532.48,       315.4]], dtype=float32), mask=None, confidence=array([    0.80639,     0.80096,     0.79662,     0.79653,     0.70919], dtype=float32), class_id=array([0, 0, 1, 1, 1]), tracker_id=None, data={'class_name': array(['battery_minus', 'battery_minus', 'battery_plus', 'battery_plus', 'battery_plus'], dtype='<U13')})\n"
     ]
    },
    {
     "name": "stderr",
     "output_type": "stream",
     "text": [
      "0: 480x640 2 battery_minuss, 3 battery_pluss, 41.5ms\n",
      "Speed: 3.3ms preprocess, 41.5ms inference, 16.9ms postprocess per image at shape (1, 3, 480, 640)\n",
      "\n",
      "0: 480x640 2 battery_minuss, 3 battery_pluss, 41.5ms\n",
      "Speed: 4.6ms preprocess, 41.5ms inference, 16.9ms postprocess per image at shape (1, 3, 480, 640)\n",
      "\n"
     ]
    },
    {
     "name": "stdout",
     "output_type": "stream",
     "text": [
      "Detections(xyxy=array([[     486.03,      161.84,      505.06,      191.14],\n",
      "       [     622.43,      309.02,      639.58,      337.64],\n",
      "       [     592.52,      242.09,      612.93,      271.26],\n",
      "       [     414.77,      221.68,      434.75,      249.84],\n",
      "       [      506.7,      286.54,       526.5,      315.29]], dtype=float32), mask=None, confidence=array([    0.80523,     0.80119,     0.78985,      0.7818,     0.75812], dtype=float32), class_id=array([1, 0, 0, 1, 1]), tracker_id=None, data={'class_name': array(['battery_plus', 'battery_minus', 'battery_minus', 'battery_plus', 'battery_plus'], dtype='<U13')})\n",
      "Detections(xyxy=array([[     616.14,      308.21,      635.87,      337.71],\n",
      "       [      407.9,      221.61,      427.95,      250.14],\n",
      "       [     478.68,      161.89,      497.83,      191.18],\n",
      "       [     585.21,      242.14,      605.92,      271.36],\n",
      "       [     498.89,       286.5,      519.29,      315.28]], dtype=float32), mask=None, confidence=array([     0.8229,     0.79568,     0.78046,     0.77196,     0.74805], dtype=float32), class_id=array([0, 1, 1, 0, 1]), tracker_id=None, data={'class_name': array(['battery_minus', 'battery_plus', 'battery_plus', 'battery_minus', 'battery_plus'], dtype='<U13')})\n"
     ]
    },
    {
     "name": "stderr",
     "output_type": "stream",
     "text": [
      "0: 480x640 2 battery_minuss, 3 battery_pluss, 41.9ms\n",
      "Speed: 3.2ms preprocess, 41.9ms inference, 20.3ms postprocess per image at shape (1, 3, 480, 640)\n",
      "\n",
      "0: 480x640 2 battery_minuss, 3 battery_pluss, 47.3ms\n",
      "Speed: 2.8ms preprocess, 47.3ms inference, 12.8ms postprocess per image at shape (1, 3, 480, 640)\n",
      "\n"
     ]
    },
    {
     "name": "stdout",
     "output_type": "stream",
     "text": [
      "Detections(xyxy=array([[     609.27,       307.9,      628.98,      337.68],\n",
      "       [      471.7,      162.04,      490.98,      191.32],\n",
      "       [     579.44,      241.57,      599.87,      271.38],\n",
      "       [     401.02,      221.46,      420.64,      249.98],\n",
      "       [      492.3,       286.7,      512.08,      315.09]], dtype=float32), mask=None, confidence=array([    0.80128,     0.77758,     0.77524,     0.71958,     0.66106], dtype=float32), class_id=array([0, 1, 0, 1, 1]), tracker_id=None, data={'class_name': array(['battery_minus', 'battery_plus', 'battery_minus', 'battery_plus', 'battery_plus'], dtype='<U13')})\n",
      "Detections(xyxy=array([[     571.81,      241.13,      592.47,      271.67],\n",
      "       [     602.64,      307.93,      622.79,      337.44],\n",
      "       [     464.49,      162.03,      483.82,      191.52],\n",
      "       [     394.53,      221.34,      414.68,      249.56],\n",
      "       [     485.42,      286.44,      505.15,      315.32]], dtype=float32), mask=None, confidence=array([    0.78404,     0.78073,     0.76616,     0.74133,     0.73688], dtype=float32), class_id=array([0, 0, 1, 1, 1]), tracker_id=None, data={'class_name': array(['battery_minus', 'battery_minus', 'battery_plus', 'battery_plus', 'battery_plus'], dtype='<U13')})\n"
     ]
    },
    {
     "name": "stderr",
     "output_type": "stream",
     "text": [
      "0: 480x640 2 battery_minuss, 3 battery_pluss, 44.6ms\n",
      "Speed: 6.7ms preprocess, 44.6ms inference, 11.9ms postprocess per image at shape (1, 3, 480, 640)\n",
      "\n",
      "0: 480x640 2 battery_minuss, 3 battery_pluss, 45.6ms\n",
      "Speed: 7.8ms preprocess, 45.6ms inference, 11.3ms postprocess per image at shape (1, 3, 480, 640)\n",
      "\n"
     ]
    },
    {
     "name": "stdout",
     "output_type": "stream",
     "text": [
      "Detections(xyxy=array([[     564.87,      242.29,      585.75,      271.56],\n",
      "       [     595.64,      307.73,       616.3,      337.81],\n",
      "       [     387.68,      220.89,      407.71,      249.48],\n",
      "       [     457.18,      162.15,      476.29,      191.67],\n",
      "       [     477.79,      285.97,      497.48,      315.23]], dtype=float32), mask=None, confidence=array([    0.80082,     0.79514,     0.77723,     0.74916,     0.72075], dtype=float32), class_id=array([0, 0, 1, 1, 1]), tracker_id=None, data={'class_name': array(['battery_minus', 'battery_minus', 'battery_plus', 'battery_plus', 'battery_plus'], dtype='<U13')})\n",
      "Detections(xyxy=array([[     588.82,         308,       609.2,      337.64],\n",
      "       [     559.05,      242.32,      578.42,      271.69],\n",
      "       [     380.01,      221.39,       400.6,      250.11],\n",
      "       [     451.31,      162.14,      470.36,      190.68],\n",
      "       [      470.6,      286.17,      490.27,      314.95]], dtype=float32), mask=None, confidence=array([    0.81106,     0.79075,     0.78566,     0.75772,      0.7206], dtype=float32), class_id=array([0, 0, 1, 1, 1]), tracker_id=None, data={'class_name': array(['battery_minus', 'battery_minus', 'battery_plus', 'battery_plus', 'battery_plus'], dtype='<U13')})\n"
     ]
    },
    {
     "name": "stderr",
     "output_type": "stream",
     "text": [
      "0: 480x640 3 battery_minuss, 3 battery_pluss, 43.5ms\n",
      "Speed: 4.4ms preprocess, 43.5ms inference, 15.9ms postprocess per image at shape (1, 3, 480, 640)\n",
      "\n",
      "0: 480x640 3 battery_minuss, 3 battery_pluss, 48.6ms\n",
      "Speed: 3.7ms preprocess, 48.6ms inference, 9.6ms postprocess per image at shape (1, 3, 480, 640)\n",
      "\n"
     ]
    },
    {
     "name": "stdout",
     "output_type": "stream",
     "text": [
      "Detections(xyxy=array([[     581.68,      307.89,      601.99,      337.54],\n",
      "       [     373.13,      221.67,      392.97,       249.6],\n",
      "       [     550.67,       242.3,      570.73,      271.79],\n",
      "       [      630.8,      184.16,      639.96,      208.82],\n",
      "       [     444.55,       162.2,      462.96,       190.9],\n",
      "       [     463.25,       286.4,      483.01,      314.89]], dtype=float32), mask=None, confidence=array([    0.83196,     0.79805,      0.7924,     0.78709,     0.77702,     0.72569], dtype=float32), class_id=array([0, 1, 0, 0, 1, 1]), tracker_id=None, data={'class_name': array(['battery_minus', 'battery_plus', 'battery_minus', 'battery_minus', 'battery_plus', 'battery_plus'], dtype='<U13')})\n",
      "Detections(xyxy=array([[     574.21,       307.5,      594.44,       337.5],\n",
      "       [      436.3,      161.75,      455.33,       190.8],\n",
      "       [     543.72,      242.09,      563.53,      271.77],\n",
      "       [     365.49,      221.24,       385.6,      249.01],\n",
      "       [     624.18,      182.95,      639.65,      210.48],\n",
      "       [     455.75,      286.14,      475.39,      314.74]], dtype=float32), mask=None, confidence=array([     0.8264,     0.79468,     0.78227,     0.76391,     0.75533,     0.73755], dtype=float32), class_id=array([0, 1, 0, 1, 0, 1]), tracker_id=None, data={'class_name': array(['battery_minus', 'battery_plus', 'battery_minus', 'battery_plus', 'battery_minus', 'battery_plus'], dtype='<U13')})\n"
     ]
    },
    {
     "name": "stderr",
     "output_type": "stream",
     "text": [
      "0: 480x640 5 battery_minuss, 1 battery_plus, 44.5ms\n",
      "Speed: 0.0ms preprocess, 44.5ms inference, 16.8ms postprocess per image at shape (1, 3, 480, 640)\n",
      "\n",
      "0: 480x640 4 battery_minuss, 1 battery_plus, 41.8ms\n",
      "Speed: 3.1ms preprocess, 41.8ms inference, 15.7ms postprocess per image at shape (1, 3, 480, 640)\n",
      "\n"
     ]
    },
    {
     "name": "stdout",
     "output_type": "stream",
     "text": [
      "Detections(xyxy=array([[     538.05,      240.79,      558.46,      271.88],\n",
      "       [     570.13,      307.46,      589.86,      338.23],\n",
      "       [     620.14,      181.22,      639.24,      210.43],\n",
      "       [     357.05,      220.61,      378.73,      249.01],\n",
      "       [     451.04,      286.95,      469.61,      314.86],\n",
      "       [     427.35,      161.16,      449.04,      190.77]], dtype=float32), mask=None, confidence=array([    0.79064,     0.78151,     0.76486,     0.70904,     0.40494,      0.4037], dtype=float32), class_id=array([0, 0, 0, 1, 0, 0]), tracker_id=None, data={'class_name': array(['battery_minus', 'battery_minus', 'battery_minus', 'battery_plus', 'battery_minus', 'battery_minus'], dtype='<U13')})\n",
      "Detections(xyxy=array([[     531.66,      240.88,      552.09,       271.8],\n",
      "       [     563.35,      307.38,      583.79,      338.48],\n",
      "       [     613.71,      180.72,      634.17,      210.14],\n",
      "       [     349.54,      220.88,      372.16,      249.79],\n",
      "       [     443.66,       286.3,      462.46,      314.68]], dtype=float32), mask=None, confidence=array([    0.79235,     0.78538,     0.78111,     0.70761,     0.41642], dtype=float32), class_id=array([0, 0, 0, 1, 0]), tracker_id=None, data={'class_name': array(['battery_minus', 'battery_minus', 'battery_minus', 'battery_plus', 'battery_minus'], dtype='<U13')})\n"
     ]
    },
    {
     "name": "stderr",
     "output_type": "stream",
     "text": [
      "0: 480x640 3 battery_minuss, 1 battery_plus, 46.2ms\n",
      "Speed: 0.0ms preprocess, 46.2ms inference, 16.8ms postprocess per image at shape (1, 3, 480, 640)\n",
      "\n",
      "0: 480x640 5 battery_minuss, 1 battery_plus, 37.2ms\n",
      "Speed: 7.1ms preprocess, 37.2ms inference, 16.6ms postprocess per image at shape (1, 3, 480, 640)\n",
      "\n"
     ]
    },
    {
     "name": "stdout",
     "output_type": "stream",
     "text": [
      "Detections(xyxy=array([[     555.98,      307.31,      576.65,      338.28],\n",
      "       [     524.52,      240.78,      544.72,      271.73],\n",
      "       [     606.48,      180.25,      627.49,      209.96],\n",
      "       [     343.17,      220.66,      365.26,      249.57]], dtype=float32), mask=None, confidence=array([    0.79811,     0.78999,     0.78128,     0.70002], dtype=float32), class_id=array([0, 0, 0, 1]), tracker_id=None, data={'class_name': array(['battery_minus', 'battery_minus', 'battery_minus', 'battery_plus'], dtype='<U13')})\n",
      "Detections(xyxy=array([[     549.02,      307.12,      569.47,      337.99],\n",
      "       [      517.5,      240.88,      537.49,      271.84],\n",
      "       [     599.15,      180.21,      619.82,       209.5],\n",
      "       [     337.08,      220.26,      359.15,      249.65],\n",
      "       [     428.17,      285.66,      449.34,      315.17],\n",
      "       [     405.22,      161.24,      426.88,      189.98]], dtype=float32), mask=None, confidence=array([    0.81201,     0.78649,     0.77984,     0.72668,     0.48956,     0.27237], dtype=float32), class_id=array([0, 0, 0, 1, 0, 0]), tracker_id=None, data={'class_name': array(['battery_minus', 'battery_minus', 'battery_minus', 'battery_plus', 'battery_minus', 'battery_minus'], dtype='<U13')})\n"
     ]
    },
    {
     "name": "stderr",
     "output_type": "stream",
     "text": [
      "0: 480x640 4 battery_minuss, 1 battery_plus, 42.9ms\n",
      "Speed: 4.9ms preprocess, 42.9ms inference, 16.1ms postprocess per image at shape (1, 3, 480, 640)\n",
      "\n",
      "0: 480x640 4 battery_minuss, 1 battery_plus, 41.4ms\n",
      "Speed: 6.9ms preprocess, 41.4ms inference, 15.9ms postprocess per image at shape (1, 3, 480, 640)\n",
      "\n"
     ]
    },
    {
     "name": "stdout",
     "output_type": "stream",
     "text": [
      "Detections(xyxy=array([[      541.9,      307.01,       562.3,      337.62],\n",
      "       [     510.61,      241.92,      529.88,       271.5],\n",
      "       [     592.28,      179.83,      612.84,      209.41],\n",
      "       [        330,      220.34,      352.06,      249.51],\n",
      "       [     399.22,      161.17,      419.97,      190.41]], dtype=float32), mask=None, confidence=array([    0.80933,     0.78693,     0.77199,     0.74459,     0.46801], dtype=float32), class_id=array([0, 0, 0, 1, 0]), tracker_id=None, data={'class_name': array(['battery_minus', 'battery_minus', 'battery_minus', 'battery_plus', 'battery_minus'], dtype='<U13')})\n",
      "Detections(xyxy=array([[     535.24,      307.28,      554.78,      337.47],\n",
      "       [     502.83,      241.53,       522.8,      271.34],\n",
      "       [     585.39,      179.74,      605.78,      209.42],\n",
      "       [     322.66,       219.7,      345.61,      249.66],\n",
      "       [     390.78,      161.78,      412.31,      190.63]], dtype=float32), mask=None, confidence=array([    0.80509,     0.80073,     0.77018,     0.75004,     0.38218], dtype=float32), class_id=array([0, 0, 0, 1, 0]), tracker_id=None, data={'class_name': array(['battery_minus', 'battery_minus', 'battery_minus', 'battery_plus', 'battery_minus'], dtype='<U13')})\n"
     ]
    },
    {
     "name": "stderr",
     "output_type": "stream",
     "text": [
      "0: 480x640 4 battery_minuss, 1 battery_plus, 37.4ms\n",
      "Speed: 7.4ms preprocess, 37.4ms inference, 11.4ms postprocess per image at shape (1, 3, 480, 640)\n",
      "\n",
      "0: 480x640 4 battery_minuss, 1 battery_plus, 45.1ms\n",
      "Speed: 7.2ms preprocess, 45.1ms inference, 12.2ms postprocess per image at shape (1, 3, 480, 640)\n",
      "\n"
     ]
    },
    {
     "name": "stdout",
     "output_type": "stream",
     "text": [
      "Detections(xyxy=array([[     528.93,      307.84,      548.35,      338.16],\n",
      "       [     496.37,      241.86,      516.34,       271.4],\n",
      "       [     579.59,      179.21,      599.76,      209.67],\n",
      "       [     384.15,      161.11,      404.49,      189.73],\n",
      "       [     316.68,      220.28,      337.78,      248.71]], dtype=float32), mask=None, confidence=array([    0.80746,      0.7885,     0.77506,     0.30885,     0.30348], dtype=float32), class_id=array([0, 0, 0, 0, 1]), tracker_id=None, data={'class_name': array(['battery_minus', 'battery_minus', 'battery_minus', 'battery_minus', 'battery_plus'], dtype='<U13')})\n",
      "Detections(xyxy=array([[     488.33,      241.76,      508.32,      271.67],\n",
      "       [     520.86,       307.4,      540.24,      337.46],\n",
      "       [     572.35,      179.78,      592.13,      209.46],\n",
      "       [     309.38,      220.59,      330.82,      249.34],\n",
      "       [     377.18,       160.4,      398.59,      189.67]], dtype=float32), mask=None, confidence=array([    0.80826,     0.79656,     0.78479,     0.69051,     0.37398], dtype=float32), class_id=array([0, 0, 0, 1, 0]), tracker_id=None, data={'class_name': array(['battery_minus', 'battery_minus', 'battery_minus', 'battery_plus', 'battery_minus'], dtype='<U13')})\n"
     ]
    },
    {
     "name": "stderr",
     "output_type": "stream",
     "text": [
      "0: 480x640 3 battery_minuss, 3 battery_pluss, 42.5ms\n",
      "Speed: 5.4ms preprocess, 42.5ms inference, 11.6ms postprocess per image at shape (1, 3, 480, 640)\n",
      "\n",
      "0: 480x640 3 battery_minuss, 3 battery_pluss, 40.9ms\n",
      "Speed: 7.1ms preprocess, 40.9ms inference, 14.2ms postprocess per image at shape (1, 3, 480, 640)\n",
      "\n"
     ]
    },
    {
     "name": "stdout",
     "output_type": "stream",
     "text": [
      "Detections(xyxy=array([[      512.2,      306.66,      532.05,      336.71],\n",
      "       [     480.08,      242.14,       499.6,      271.37],\n",
      "       [     391.83,      285.34,      412.11,      314.46],\n",
      "       [     563.01,      179.76,      583.15,      209.86],\n",
      "       [     370.59,      161.38,      391.13,      190.91],\n",
      "       [     303.79,      220.73,      322.73,      248.46]], dtype=float32), mask=None, confidence=array([    0.83856,     0.82457,     0.78337,     0.78007,     0.76736,     0.75248], dtype=float32), class_id=array([0, 0, 1, 0, 1, 1]), tracker_id=None, data={'class_name': array(['battery_minus', 'battery_minus', 'battery_plus', 'battery_minus', 'battery_plus', 'battery_plus'], dtype='<U13')})\n",
      "Detections(xyxy=array([[     504.31,       306.3,      523.96,      336.11],\n",
      "       [     471.76,      241.95,      491.76,      271.03],\n",
      "       [     296.96,      220.87,      315.87,      247.85],\n",
      "       [     364.31,      162.37,       383.9,      191.06],\n",
      "       [     384.71,      284.62,      404.82,      313.68],\n",
      "       [     555.61,      180.73,      575.28,      210.45]], dtype=float32), mask=None, confidence=array([    0.84325,     0.81856,     0.80351,     0.79907,     0.79104,     0.78784], dtype=float32), class_id=array([0, 0, 1, 1, 1, 0]), tracker_id=None, data={'class_name': array(['battery_minus', 'battery_minus', 'battery_plus', 'battery_plus', 'battery_plus', 'battery_minus'], dtype='<U13')})\n"
     ]
    },
    {
     "name": "stderr",
     "output_type": "stream",
     "text": [
      "0: 480x640 3 battery_minuss, 3 battery_pluss, 53.4ms\n",
      "Speed: 0.0ms preprocess, 53.4ms inference, 12.0ms postprocess per image at shape (1, 3, 480, 640)\n",
      "\n",
      "0: 480x640 3 battery_minuss, 3 battery_pluss, 49.5ms\n",
      "Speed: 4.5ms preprocess, 49.5ms inference, 11.0ms postprocess per image at shape (1, 3, 480, 640)\n",
      "\n"
     ]
    },
    {
     "name": "stdout",
     "output_type": "stream",
     "text": [
      "Detections(xyxy=array([[     464.55,      241.95,      484.61,       270.9],\n",
      "       [     289.68,      220.36,      308.74,      247.53],\n",
      "       [     496.79,      306.51,       516.6,      336.15],\n",
      "       [     548.06,      180.89,      568.33,      210.59],\n",
      "       [     356.95,      162.24,      376.49,       190.8],\n",
      "       [     378.49,      285.06,      399.46,      313.83]], dtype=float32), mask=None, confidence=array([    0.82306,     0.80967,     0.80762,      0.7996,     0.79323,     0.76658], dtype=float32), class_id=array([0, 1, 0, 0, 1, 1]), tracker_id=None, data={'class_name': array(['battery_minus', 'battery_plus', 'battery_minus', 'battery_minus', 'battery_plus', 'battery_plus'], dtype='<U13')})\n",
      "Detections(xyxy=array([[     350.16,      162.43,      369.32,      190.87],\n",
      "       [     490.01,      305.74,      509.71,      335.72],\n",
      "       [     457.07,      241.73,      477.47,         271],\n",
      "       [     541.05,      180.59,       561.3,      210.78],\n",
      "       [     283.47,      220.14,      302.82,      248.05],\n",
      "       [     371.77,      284.79,         392,       313.6]], dtype=float32), mask=None, confidence=array([    0.80904,     0.80315,     0.80026,       0.781,     0.77562,     0.77121], dtype=float32), class_id=array([1, 0, 0, 0, 1, 1]), tracker_id=None, data={'class_name': array(['battery_plus', 'battery_minus', 'battery_minus', 'battery_minus', 'battery_plus', 'battery_plus'], dtype='<U13')})\n"
     ]
    },
    {
     "name": "stderr",
     "output_type": "stream",
     "text": [
      "0: 480x640 3 battery_minuss, 3 battery_pluss, 47.8ms\n",
      "Speed: 3.2ms preprocess, 47.8ms inference, 11.5ms postprocess per image at shape (1, 3, 480, 640)\n",
      "\n",
      "0: 480x640 3 battery_minuss, 3 battery_pluss, 45.0ms\n",
      "Speed: 4.5ms preprocess, 45.0ms inference, 15.1ms postprocess per image at shape (1, 3, 480, 640)\n",
      "\n"
     ]
    },
    {
     "name": "stdout",
     "output_type": "stream",
     "text": [
      "Detections(xyxy=array([[     342.79,      162.35,      362.02,      190.71],\n",
      "       [     483.31,      306.24,      503.81,      335.79],\n",
      "       [     533.52,      180.84,      553.78,      210.49],\n",
      "       [     276.56,      220.28,      295.65,      247.97],\n",
      "       [     363.64,      285.17,      385.31,      313.83],\n",
      "       [     450.71,      241.91,      471.15,      271.26]], dtype=float32), mask=None, confidence=array([    0.80728,     0.79351,     0.79232,     0.78825,     0.78424,     0.77743], dtype=float32), class_id=array([1, 0, 0, 1, 1, 0]), tracker_id=None, data={'class_name': array(['battery_plus', 'battery_minus', 'battery_minus', 'battery_plus', 'battery_plus', 'battery_minus'], dtype='<U13')})\n",
      "Detections(xyxy=array([[     525.85,      180.42,      546.44,      210.44],\n",
      "       [     357.02,      285.05,      377.57,      313.82],\n",
      "       [     476.04,      305.99,       496.5,      335.36],\n",
      "       [     443.22,      242.12,      463.54,      271.12],\n",
      "       [     336.15,      162.39,      355.05,      190.75],\n",
      "       [     269.62,      220.31,      288.41,      247.79]], dtype=float32), mask=None, confidence=array([    0.80475,     0.80237,     0.79821,     0.79537,     0.79529,     0.77081], dtype=float32), class_id=array([0, 1, 0, 0, 1, 1]), tracker_id=None, data={'class_name': array(['battery_minus', 'battery_plus', 'battery_minus', 'battery_minus', 'battery_plus', 'battery_plus'], dtype='<U13')})\n"
     ]
    },
    {
     "name": "stderr",
     "output_type": "stream",
     "text": [
      "0: 480x640 3 battery_minuss, 3 battery_pluss, 46.2ms\n",
      "Speed: 0.0ms preprocess, 46.2ms inference, 10.5ms postprocess per image at shape (1, 3, 480, 640)\n",
      "\n",
      "0: 480x640 3 battery_minuss, 3 battery_pluss, 45.5ms\n",
      "Speed: 7.1ms preprocess, 45.5ms inference, 11.5ms postprocess per image at shape (1, 3, 480, 640)\n",
      "\n"
     ]
    },
    {
     "name": "stdout",
     "output_type": "stream",
     "text": [
      "Detections(xyxy=array([[     519.14,      180.49,      539.16,      210.11],\n",
      "       [     468.65,      305.84,      488.56,      335.01],\n",
      "       [     328.92,      162.31,       348.1,      191.51],\n",
      "       [     350.01,       284.8,      370.34,      313.78],\n",
      "       [     435.74,      241.86,      456.15,      270.63],\n",
      "       [     261.74,       220.5,      281.31,      247.83]], dtype=float32), mask=None, confidence=array([    0.81836,     0.81543,     0.80444,     0.79847,     0.79611,     0.76447], dtype=float32), class_id=array([0, 0, 1, 1, 0, 1]), tracker_id=None, data={'class_name': array(['battery_minus', 'battery_minus', 'battery_plus', 'battery_plus', 'battery_minus', 'battery_plus'], dtype='<U13')})\n",
      "Detections(xyxy=array([[     511.78,      180.49,      531.87,      210.22],\n",
      "       [     429.22,      241.55,      449.61,      270.87],\n",
      "       [     321.38,      162.16,      341.32,      190.39],\n",
      "       [     342.63,      284.97,      363.68,      313.61],\n",
      "       [     460.57,      305.56,      481.45,      335.23],\n",
      "       [      255.7,      220.49,      274.47,       247.6]], dtype=float32), mask=None, confidence=array([    0.80871,     0.80855,     0.79519,     0.79448,     0.78801,     0.78659], dtype=float32), class_id=array([0, 0, 1, 1, 0, 1]), tracker_id=None, data={'class_name': array(['battery_minus', 'battery_minus', 'battery_plus', 'battery_plus', 'battery_minus', 'battery_plus'], dtype='<U13')})\n"
     ]
    },
    {
     "name": "stderr",
     "output_type": "stream",
     "text": [
      "0: 480x640 3 battery_minuss, 3 battery_pluss, 44.7ms\n",
      "Speed: 4.8ms preprocess, 44.7ms inference, 14.4ms postprocess per image at shape (1, 3, 480, 640)\n",
      "\n",
      "0: 480x640 3 battery_minuss, 3 battery_pluss, 39.7ms\n",
      "Speed: 3.8ms preprocess, 39.7ms inference, 17.7ms postprocess per image at shape (1, 3, 480, 640)\n",
      "\n"
     ]
    },
    {
     "name": "stdout",
     "output_type": "stream",
     "text": [
      "Detections(xyxy=array([[     421.38,      241.63,      441.97,       270.7],\n",
      "       [     454.21,      306.01,      473.93,      334.85],\n",
      "       [     315.39,      162.08,      334.88,      190.28],\n",
      "       [     335.96,      285.39,      356.09,      313.56],\n",
      "       [     504.49,      180.48,      524.68,      210.26],\n",
      "       [     248.51,      220.18,      267.23,       247.5]], dtype=float32), mask=None, confidence=array([    0.81955,     0.81546,     0.80306,     0.78967,     0.78852,     0.78684], dtype=float32), class_id=array([0, 0, 1, 1, 0, 1]), tracker_id=None, data={'class_name': array(['battery_minus', 'battery_minus', 'battery_plus', 'battery_plus', 'battery_minus', 'battery_plus'], dtype='<U13')})\n",
      "Detections(xyxy=array([[     414.87,      241.81,      434.72,      270.92],\n",
      "       [     308.14,      162.09,      328.06,       190.7],\n",
      "       [     447.58,      306.16,      466.72,      334.88],\n",
      "       [     329.16,      284.51,      349.13,       313.5],\n",
      "       [     496.62,       180.6,      516.67,      210.24],\n",
      "       [     240.99,      219.78,      259.76,      246.99]], dtype=float32), mask=None, confidence=array([    0.83636,     0.81327,       0.812,     0.79939,     0.78653,     0.77509], dtype=float32), class_id=array([0, 1, 0, 1, 0, 1]), tracker_id=None, data={'class_name': array(['battery_minus', 'battery_plus', 'battery_minus', 'battery_plus', 'battery_minus', 'battery_plus'], dtype='<U13')})\n"
     ]
    },
    {
     "name": "stderr",
     "output_type": "stream",
     "text": [
      "0: 480x640 3 battery_minuss, 3 battery_pluss, 52.3ms\n",
      "Speed: 0.0ms preprocess, 52.3ms inference, 11.7ms postprocess per image at shape (1, 3, 480, 640)\n",
      "\n",
      "0: 480x640 3 battery_minuss, 3 battery_pluss, 40.7ms\n",
      "Speed: 4.6ms preprocess, 40.7ms inference, 16.9ms postprocess per image at shape (1, 3, 480, 640)\n",
      "\n"
     ]
    },
    {
     "name": "stdout",
     "output_type": "stream",
     "text": [
      "Detections(xyxy=array([[     406.76,       241.5,      427.23,      270.81],\n",
      "       [     301.45,         162,      320.77,      190.89],\n",
      "       [     439.81,      305.96,      459.81,      334.57],\n",
      "       [     233.63,      219.76,      252.44,      246.46],\n",
      "       [     322.66,      284.47,      343.57,      313.63],\n",
      "       [     489.43,      180.83,       509.7,      209.69]], dtype=float32), mask=None, confidence=array([    0.83184,     0.82789,     0.82373,     0.80671,     0.76802,     0.71095], dtype=float32), class_id=array([0, 1, 0, 1, 1, 0]), tracker_id=None, data={'class_name': array(['battery_minus', 'battery_plus', 'battery_minus', 'battery_plus', 'battery_plus', 'battery_minus'], dtype='<U13')})\n",
      "Detections(xyxy=array([[     293.42,      161.56,      313.73,      189.89],\n",
      "       [     399.43,      241.83,       420.4,      270.16],\n",
      "       [     483.52,      179.09,      504.65,      209.72],\n",
      "       [     433.43,      307.23,      453.94,      335.46],\n",
      "       [     314.32,      282.43,      336.89,      314.53],\n",
      "       [      226.2,      219.63,      246.22,      246.79]], dtype=float32), mask=None, confidence=array([    0.79631,     0.78934,     0.78295,     0.74642,     0.69696,     0.38147], dtype=float32), class_id=array([1, 0, 0, 0, 1, 1]), tracker_id=None, data={'class_name': array(['battery_plus', 'battery_minus', 'battery_minus', 'battery_minus', 'battery_plus', 'battery_plus'], dtype='<U13')})\n"
     ]
    },
    {
     "name": "stderr",
     "output_type": "stream",
     "text": [
      "0: 480x640 3 battery_minuss, 3 battery_pluss, 45.8ms\n",
      "Speed: 4.5ms preprocess, 45.8ms inference, 14.2ms postprocess per image at shape (1, 3, 480, 640)\n",
      "\n",
      "0: 480x640 3 battery_minuss, 3 battery_pluss, 42.0ms\n",
      "Speed: 4.0ms preprocess, 42.0ms inference, 16.8ms postprocess per image at shape (1, 3, 480, 640)\n",
      "\n"
     ]
    },
    {
     "name": "stdout",
     "output_type": "stream",
     "text": [
      "Detections(xyxy=array([[     392.45,       241.8,      412.63,      270.33],\n",
      "       [     424.28,       305.7,      444.69,      333.95],\n",
      "       [     287.09,      161.72,      305.72,      189.83],\n",
      "       [     220.15,      219.54,      239.21,      247.29],\n",
      "       [     475.35,      180.06,      495.81,      209.94],\n",
      "       [     308.06,      283.56,      328.94,      313.48]], dtype=float32), mask=None, confidence=array([    0.82089,     0.81368,     0.81152,     0.78807,     0.78184,      0.7771], dtype=float32), class_id=array([0, 0, 1, 1, 0, 1]), tracker_id=None, data={'class_name': array(['battery_minus', 'battery_minus', 'battery_plus', 'battery_plus', 'battery_minus', 'battery_plus'], dtype='<U13')})\n",
      "Detections(xyxy=array([[     280.47,      161.98,      299.66,       190.5],\n",
      "       [     468.14,      180.05,         489,      210.24],\n",
      "       [     213.34,      219.62,      232.73,       247.4],\n",
      "       [     301.52,       284.8,      322.17,      313.24],\n",
      "       [     385.27,      241.93,      405.55,      270.17],\n",
      "       [     417.62,      306.19,       438.2,       334.2]], dtype=float32), mask=None, confidence=array([    0.82269,     0.81807,     0.79489,     0.77892,     0.77406,     0.75586], dtype=float32), class_id=array([1, 0, 1, 1, 0, 0]), tracker_id=None, data={'class_name': array(['battery_plus', 'battery_minus', 'battery_plus', 'battery_plus', 'battery_minus', 'battery_minus'], dtype='<U13')})\n"
     ]
    },
    {
     "name": "stderr",
     "output_type": "stream",
     "text": [
      "0: 480x640 3 battery_minuss, 3 battery_pluss, 44.9ms\n",
      "Speed: 4.5ms preprocess, 44.9ms inference, 15.3ms postprocess per image at shape (1, 3, 480, 640)\n",
      "\n",
      "0: 480x640 3 battery_minuss, 3 battery_pluss, 40.9ms\n",
      "Speed: 5.2ms preprocess, 40.9ms inference, 16.3ms postprocess per image at shape (1, 3, 480, 640)\n",
      "\n"
     ]
    },
    {
     "name": "stdout",
     "output_type": "stream",
     "text": [
      "Detections(xyxy=array([[     272.95,      161.95,      291.87,      189.42],\n",
      "       [     460.92,      180.09,      481.85,      210.54],\n",
      "       [     294.56,      285.19,       314.6,      313.03],\n",
      "       [     378.59,      241.96,      400.27,      270.67],\n",
      "       [     410.89,      305.76,       431.8,      334.59],\n",
      "       [     205.97,      219.91,      225.12,      247.11]], dtype=float32), mask=None, confidence=array([    0.82113,     0.81566,     0.79755,     0.77007,     0.76847,     0.75789], dtype=float32), class_id=array([1, 0, 1, 0, 0, 1]), tracker_id=None, data={'class_name': array(['battery_plus', 'battery_minus', 'battery_plus', 'battery_minus', 'battery_minus', 'battery_plus'], dtype='<U13')})\n",
      "Detections(xyxy=array([[     453.71,      180.56,      474.64,      210.23],\n",
      "       [      371.7,      241.63,      392.99,      270.43],\n",
      "       [        404,      305.82,      424.48,      334.31],\n",
      "       [     198.76,      219.49,      217.85,      247.23],\n",
      "       [     267.19,      161.62,      286.52,      190.03],\n",
      "       [     287.97,      284.85,      307.49,      312.87]], dtype=float32), mask=None, confidence=array([    0.84148,     0.81903,     0.79687,     0.79127,     0.78175,     0.77923], dtype=float32), class_id=array([0, 0, 0, 1, 1, 1]), tracker_id=None, data={'class_name': array(['battery_minus', 'battery_minus', 'battery_minus', 'battery_plus', 'battery_plus', 'battery_plus'], dtype='<U13')})\n"
     ]
    },
    {
     "name": "stderr",
     "output_type": "stream",
     "text": [
      "0: 480x640 3 battery_minuss, 3 battery_pluss, 45.0ms\n",
      "Speed: 4.6ms preprocess, 45.0ms inference, 17.3ms postprocess per image at shape (1, 3, 480, 640)\n",
      "\n",
      "0: 480x640 3 battery_minuss, 3 battery_pluss, 41.4ms\n",
      "Speed: 3.7ms preprocess, 41.4ms inference, 17.2ms postprocess per image at shape (1, 3, 480, 640)\n",
      "\n"
     ]
    },
    {
     "name": "stdout",
     "output_type": "stream",
     "text": [
      "Detections(xyxy=array([[     446.64,      180.45,      467.36,      210.27],\n",
      "       [     364.35,       241.2,      385.66,      270.61],\n",
      "       [     259.89,      161.69,      279.35,      190.18],\n",
      "       [      192.1,      219.46,      210.53,      246.81],\n",
      "       [     397.06,      305.66,      417.84,      334.52],\n",
      "       [     280.89,      283.66,       301.5,      312.87]], dtype=float32), mask=None, confidence=array([    0.83987,     0.82725,     0.79566,     0.78185,     0.78104,     0.77524], dtype=float32), class_id=array([0, 0, 1, 1, 0, 1]), tracker_id=None, data={'class_name': array(['battery_minus', 'battery_minus', 'battery_plus', 'battery_plus', 'battery_minus', 'battery_plus'], dtype='<U13')})\n",
      "Detections(xyxy=array([[     357.21,      241.13,      378.27,      270.35],\n",
      "       [     439.52,      180.23,      460.15,      210.63],\n",
      "       [     253.05,      161.76,      271.81,      189.81],\n",
      "       [     389.05,      305.18,      410.59,      334.55],\n",
      "       [     184.76,      219.36,      203.03,      246.76],\n",
      "       [     273.98,      284.82,      294.47,      313.17]], dtype=float32), mask=None, confidence=array([     0.8616,     0.85137,     0.81921,     0.79614,     0.77933,     0.73783], dtype=float32), class_id=array([0, 0, 1, 0, 1, 1]), tracker_id=None, data={'class_name': array(['battery_minus', 'battery_minus', 'battery_plus', 'battery_minus', 'battery_plus', 'battery_plus'], dtype='<U13')})\n"
     ]
    },
    {
     "name": "stderr",
     "output_type": "stream",
     "text": [
      "0: 480x640 3 battery_minuss, 3 battery_pluss, 49.2ms\n",
      "Speed: 4.3ms preprocess, 49.2ms inference, 11.5ms postprocess per image at shape (1, 3, 480, 640)\n",
      "\n",
      "0: 480x640 3 battery_minuss, 3 battery_pluss, 42.2ms\n",
      "Speed: 4.6ms preprocess, 42.2ms inference, 16.7ms postprocess per image at shape (1, 3, 480, 640)\n",
      "\n"
     ]
    },
    {
     "name": "stdout",
     "output_type": "stream",
     "text": [
      "Detections(xyxy=array([[     350.26,      241.08,      371.59,      270.52],\n",
      "       [     431.95,      180.19,      453.13,      210.88],\n",
      "       [     245.69,      161.67,       264.7,      189.75],\n",
      "       [     382.06,      305.08,      402.89,      334.43],\n",
      "       [     177.16,      219.41,      196.23,      246.67],\n",
      "       [     267.31,         284,      287.82,      313.22]], dtype=float32), mask=None, confidence=array([    0.85404,     0.81969,     0.81302,     0.78982,     0.78072,     0.76186], dtype=float32), class_id=array([0, 0, 1, 0, 1, 1]), tracker_id=None, data={'class_name': array(['battery_minus', 'battery_minus', 'battery_plus', 'battery_minus', 'battery_plus', 'battery_plus'], dtype='<U13')})\n",
      "Detections(xyxy=array([[     342.87,       240.7,      364.22,      270.15],\n",
      "       [     238.22,      161.47,      257.28,      189.76],\n",
      "       [     424.58,      180.06,      445.31,      210.37],\n",
      "       [     375.64,      305.37,      396.18,      334.69],\n",
      "       [     260.08,       284.9,      280.63,      312.81],\n",
      "       [     171.14,       219.2,      190.19,      246.48]], dtype=float32), mask=None, confidence=array([    0.81233,     0.81043,     0.80262,     0.77205,     0.76753,     0.74802], dtype=float32), class_id=array([0, 1, 0, 0, 1, 1]), tracker_id=None, data={'class_name': array(['battery_minus', 'battery_plus', 'battery_minus', 'battery_minus', 'battery_plus', 'battery_plus'], dtype='<U13')})\n"
     ]
    },
    {
     "name": "stderr",
     "output_type": "stream",
     "text": [
      "0: 480x640 3 battery_minuss, 3 battery_pluss, 45.5ms\n",
      "Speed: 6.8ms preprocess, 45.5ms inference, 11.9ms postprocess per image at shape (1, 3, 480, 640)\n",
      "\n",
      "0: 480x640 4 battery_minuss, 2 battery_pluss, 42.6ms\n",
      "Speed: 4.6ms preprocess, 42.6ms inference, 16.6ms postprocess per image at shape (1, 3, 480, 640)\n",
      "\n"
     ]
    },
    {
     "name": "stdout",
     "output_type": "stream",
     "text": [
      "Detections(xyxy=array([[     367.52,      304.93,      389.07,      333.93],\n",
      "       [     336.01,      240.69,      357.31,      269.53],\n",
      "       [     416.72,      180.86,      438.53,      211.02],\n",
      "       [     231.26,      161.32,      249.72,      189.72],\n",
      "       [     163.78,      219.18,       182.9,      246.58],\n",
      "       [     253.08,      284.98,      273.54,       313.1]], dtype=float32), mask=None, confidence=array([     0.8127,      0.8076,     0.80032,     0.78286,     0.77129,      0.7525], dtype=float32), class_id=array([0, 0, 0, 1, 1, 1]), tracker_id=None, data={'class_name': array(['battery_minus', 'battery_minus', 'battery_minus', 'battery_plus', 'battery_plus', 'battery_plus'], dtype='<U13')})\n",
      "Detections(xyxy=array([[     409.91,       180.1,      432.31,      210.16],\n",
      "       [     328.92,      240.14,       350.7,      269.11],\n",
      "       [     360.42,      305.13,      383.49,      335.16],\n",
      "       [     223.55,      161.01,      243.79,      188.88],\n",
      "       [      245.6,      284.37,      265.11,      313.17],\n",
      "       [     155.55,      219.42,      176.53,      246.52]], dtype=float32), mask=None, confidence=array([    0.76235,     0.71232,      0.5406,     0.52657,     0.47907,     0.30707], dtype=float32), class_id=array([0, 0, 0, 1, 1, 0]), tracker_id=None, data={'class_name': array(['battery_minus', 'battery_minus', 'battery_minus', 'battery_plus', 'battery_plus', 'battery_minus'], dtype='<U13')})\n"
     ]
    },
    {
     "name": "stderr",
     "output_type": "stream",
     "text": [
      "0: 480x640 3 battery_minuss, 3 battery_pluss, 45.3ms\n",
      "Speed: 6.8ms preprocess, 45.3ms inference, 11.8ms postprocess per image at shape (1, 3, 480, 640)\n",
      "\n",
      "0: 480x640 3 battery_minuss, 3 battery_pluss, 39.9ms\n",
      "Speed: 5.5ms preprocess, 39.9ms inference, 13.4ms postprocess per image at shape (1, 3, 480, 640)\n",
      "\n"
     ]
    },
    {
     "name": "stdout",
     "output_type": "stream",
     "text": [
      "Detections(xyxy=array([[     321.75,      240.74,      343.44,      269.52],\n",
      "       [     402.23,      180.34,      424.64,      210.78],\n",
      "       [     238.96,      285.29,      259.23,      313.01],\n",
      "       [     149.22,      218.59,       168.4,      246.89],\n",
      "       [      354.5,      305.23,      375.27,      333.67],\n",
      "       [     217.61,      161.57,      236.19,      189.41]], dtype=float32), mask=None, confidence=array([    0.78572,      0.7731,     0.77041,     0.76973,     0.76553,     0.74584], dtype=float32), class_id=array([0, 0, 1, 1, 0, 1]), tracker_id=None, data={'class_name': array(['battery_minus', 'battery_minus', 'battery_plus', 'battery_plus', 'battery_minus', 'battery_plus'], dtype='<U13')})\n",
      "Detections(xyxy=array([[     316.14,      241.02,      337.56,      270.26],\n",
      "       [     394.98,      181.18,      418.01,      211.23],\n",
      "       [     347.79,      305.78,       368.9,      334.38],\n",
      "       [     233.12,      285.07,      252.75,      313.37],\n",
      "       [     212.05,      161.35,      230.45,      189.76],\n",
      "       [     142.21,       219.3,      161.13,       247.1]], dtype=float32), mask=None, confidence=array([    0.82601,     0.80477,     0.79937,     0.78383,     0.77631,     0.76858], dtype=float32), class_id=array([0, 0, 0, 1, 1, 1]), tracker_id=None, data={'class_name': array(['battery_minus', 'battery_minus', 'battery_minus', 'battery_plus', 'battery_plus', 'battery_plus'], dtype='<U13')})\n"
     ]
    },
    {
     "name": "stderr",
     "output_type": "stream",
     "text": [
      "0: 480x640 3 battery_minuss, 3 battery_pluss, 51.3ms\n",
      "Speed: 0.0ms preprocess, 51.3ms inference, 15.1ms postprocess per image at shape (1, 3, 480, 640)\n",
      "\n",
      "0: 480x640 3 battery_minuss, 3 battery_pluss, 43.4ms\n",
      "Speed: 5.1ms preprocess, 43.4ms inference, 12.5ms postprocess per image at shape (1, 3, 480, 640)\n",
      "\n"
     ]
    },
    {
     "name": "stdout",
     "output_type": "stream",
     "text": [
      "Detections(xyxy=array([[     309.06,      241.06,      330.07,      270.26],\n",
      "       [     388.12,      180.86,      411.39,      211.13],\n",
      "       [     340.53,      305.17,      362.32,      334.49],\n",
      "       [     135.46,      219.41,      154.27,      246.95],\n",
      "       [     204.82,      161.22,      223.26,      189.48],\n",
      "       [     226.36,       284.7,      246.68,      313.89]], dtype=float32), mask=None, confidence=array([    0.84067,     0.82812,     0.82052,     0.78888,     0.78114,     0.75421], dtype=float32), class_id=array([0, 0, 0, 1, 1, 1]), tracker_id=None, data={'class_name': array(['battery_minus', 'battery_minus', 'battery_minus', 'battery_plus', 'battery_plus', 'battery_plus'], dtype='<U13')})\n",
      "Detections(xyxy=array([[     302.54,      240.95,      323.17,      270.16],\n",
      "       [     381.52,      180.47,      404.01,      211.24],\n",
      "       [     333.58,      301.99,      355.59,      334.17],\n",
      "       [     128.58,      219.26,      147.14,      247.04],\n",
      "       [     219.36,      284.88,      240.19,      313.34],\n",
      "       [     197.28,      160.96,      215.79,      189.77]], dtype=float32), mask=None, confidence=array([    0.85712,     0.82871,     0.77663,     0.77472,     0.76158,     0.76058], dtype=float32), class_id=array([0, 0, 0, 1, 1, 1]), tracker_id=None, data={'class_name': array(['battery_minus', 'battery_minus', 'battery_minus', 'battery_plus', 'battery_plus', 'battery_plus'], dtype='<U13')})\n"
     ]
    },
    {
     "name": "stderr",
     "output_type": "stream",
     "text": [
      "0: 480x640 3 battery_minuss, 3 battery_pluss, 45.5ms\n",
      "Speed: 7.4ms preprocess, 45.5ms inference, 8.2ms postprocess per image at shape (1, 3, 480, 640)\n",
      "\n",
      "0: 480x640 3 battery_minuss, 3 battery_pluss, 41.7ms\n",
      "Speed: 8.4ms preprocess, 41.7ms inference, 10.9ms postprocess per image at shape (1, 3, 480, 640)\n",
      "\n"
     ]
    },
    {
     "name": "stdout",
     "output_type": "stream",
     "text": [
      "Detections(xyxy=array([[     374.41,      180.72,      397.19,       211.6],\n",
      "       [     295.97,      241.32,      316.42,      269.42],\n",
      "       [      212.4,      285.17,      233.26,      313.35],\n",
      "       [     326.84,      303.81,      348.55,      334.18],\n",
      "       [     121.12,      219.24,      139.91,      246.93],\n",
      "       [     190.01,      161.04,      209.24,      190.24]], dtype=float32), mask=None, confidence=array([     0.8362,     0.81538,     0.78397,     0.78215,     0.75264,     0.74033], dtype=float32), class_id=array([0, 0, 1, 0, 1, 1]), tracker_id=None, data={'class_name': array(['battery_minus', 'battery_minus', 'battery_plus', 'battery_minus', 'battery_plus', 'battery_plus'], dtype='<U13')})\n",
      "Detections(xyxy=array([[     288.73,      241.31,      309.54,      270.07],\n",
      "       [     319.86,      303.38,      341.69,      333.78],\n",
      "       [     204.91,      285.11,      226.02,      313.47],\n",
      "       [     366.77,      180.37,      389.97,      212.28],\n",
      "       [     182.74,      160.95,      201.52,      189.59],\n",
      "       [     113.43,      219.09,       132.3,       246.6]], dtype=float32), mask=None, confidence=array([    0.81662,     0.79292,     0.77903,     0.75315,     0.74202,     0.73745], dtype=float32), class_id=array([0, 0, 1, 0, 1, 1]), tracker_id=None, data={'class_name': array(['battery_minus', 'battery_minus', 'battery_plus', 'battery_minus', 'battery_plus', 'battery_plus'], dtype='<U13')})\n"
     ]
    },
    {
     "name": "stderr",
     "output_type": "stream",
     "text": [
      "0: 480x640 3 battery_minuss, 3 battery_pluss, 49.9ms\n",
      "Speed: 0.0ms preprocess, 49.9ms inference, 15.6ms postprocess per image at shape (1, 3, 480, 640)\n",
      "\n",
      "0: 480x640 3 battery_minuss, 3 battery_pluss, 42.6ms\n",
      "Speed: 7.0ms preprocess, 42.6ms inference, 12.3ms postprocess per image at shape (1, 3, 480, 640)\n",
      "\n"
     ]
    },
    {
     "name": "stdout",
     "output_type": "stream",
     "text": [
      "Detections(xyxy=array([[     282.27,      241.44,      303.59,      270.11],\n",
      "       [     198.21,      285.12,      218.38,      313.15],\n",
      "       [     313.66,       305.7,      335.83,      334.38],\n",
      "       [     106.62,      218.99,      126.17,       246.2],\n",
      "       [     359.47,      179.84,      383.55,         212],\n",
      "       [     175.31,      161.09,      193.64,      189.72]], dtype=float32), mask=None, confidence=array([    0.77415,     0.77092,     0.76093,     0.73864,     0.66639,     0.65399], dtype=float32), class_id=array([0, 1, 0, 1, 0, 1]), tracker_id=None, data={'class_name': array(['battery_minus', 'battery_plus', 'battery_minus', 'battery_plus', 'battery_minus', 'battery_plus'], dtype='<U13')})\n",
      "Detections(xyxy=array([[     306.74,      304.45,      329.11,      334.11],\n",
      "       [     275.09,       241.3,      296.51,      269.77],\n",
      "       [     191.44,      284.98,      211.46,      313.26],\n",
      "       [     99.239,       218.8,      119.08,      246.49],\n",
      "       [     168.45,      161.14,      186.96,      189.77],\n",
      "       [     352.06,      179.74,       376.8,      212.07]], dtype=float32), mask=None, confidence=array([    0.82031,     0.81644,     0.76898,     0.75898,     0.73756,     0.73588], dtype=float32), class_id=array([0, 0, 1, 1, 1, 0]), tracker_id=None, data={'class_name': array(['battery_minus', 'battery_minus', 'battery_plus', 'battery_plus', 'battery_plus', 'battery_minus'], dtype='<U13')})\n"
     ]
    },
    {
     "name": "stderr",
     "output_type": "stream",
     "text": [
      "0: 480x640 3 battery_minuss, 3 battery_pluss, 45.8ms\n",
      "Speed: 7.0ms preprocess, 45.8ms inference, 10.3ms postprocess per image at shape (1, 3, 480, 640)\n",
      "\n",
      "0: 480x640 3 battery_minuss, 3 battery_pluss, 45.7ms\n",
      "Speed: 7.2ms preprocess, 45.7ms inference, 8.5ms postprocess per image at shape (1, 3, 480, 640)\n",
      "\n"
     ]
    },
    {
     "name": "stdout",
     "output_type": "stream",
     "text": [
      "Detections(xyxy=array([[      268.3,      241.46,      289.16,      270.05],\n",
      "       [     299.67,      304.78,      321.72,      333.98],\n",
      "       [      184.5,      284.34,      204.42,      313.79],\n",
      "       [     92.464,      218.81,      112.48,      246.64],\n",
      "       [     345.92,      179.92,      369.87,      212.26],\n",
      "       [     160.92,      161.35,      179.59,      189.69]], dtype=float32), mask=None, confidence=array([    0.83078,     0.78092,     0.77793,      0.7755,     0.74682,     0.74285], dtype=float32), class_id=array([0, 0, 1, 1, 0, 1]), tracker_id=None, data={'class_name': array(['battery_minus', 'battery_minus', 'battery_plus', 'battery_plus', 'battery_minus', 'battery_plus'], dtype='<U13')})\n",
      "Detections(xyxy=array([[     261.39,      241.57,      281.65,      269.77],\n",
      "       [     291.85,      305.33,       313.6,      333.54],\n",
      "       [     338.35,       179.6,      362.66,      212.42],\n",
      "       [     176.93,      284.47,      196.86,      313.26],\n",
      "       [      84.77,      219.12,      104.38,      246.65],\n",
      "       [     153.25,      161.31,      172.34,      189.25]], dtype=float32), mask=None, confidence=array([    0.85473,     0.83528,     0.79299,     0.79038,     0.77818,     0.76388], dtype=float32), class_id=array([0, 0, 0, 1, 1, 1]), tracker_id=None, data={'class_name': array(['battery_minus', 'battery_minus', 'battery_minus', 'battery_plus', 'battery_plus', 'battery_plus'], dtype='<U13')})\n"
     ]
    },
    {
     "name": "stderr",
     "output_type": "stream",
     "text": [
      "0: 480x640 3 battery_minuss, 3 battery_pluss, 48.4ms\n",
      "Speed: 4.2ms preprocess, 48.4ms inference, 11.4ms postprocess per image at shape (1, 3, 480, 640)\n",
      "\n",
      "0: 480x640 3 battery_minuss, 3 battery_pluss, 45.9ms\n",
      "Speed: 4.6ms preprocess, 45.9ms inference, 14.0ms postprocess per image at shape (1, 3, 480, 640)\n",
      "\n"
     ]
    },
    {
     "name": "stdout",
     "output_type": "stream",
     "text": [
      "Detections(xyxy=array([[     254.47,      241.44,       274.3,      269.13],\n",
      "       [     332.73,       180.4,      355.47,      211.95],\n",
      "       [     285.13,      303.82,      307.36,      333.69],\n",
      "       [     77.988,      219.16,      97.478,       246.7],\n",
      "       [     171.04,      284.41,      191.43,      313.31],\n",
      "       [     146.65,      160.54,      166.66,      189.11]], dtype=float32), mask=None, confidence=array([    0.87545,     0.81493,     0.80476,     0.77544,     0.74124,     0.67044], dtype=float32), class_id=array([0, 0, 0, 1, 1, 1]), tracker_id=None, data={'class_name': array(['battery_minus', 'battery_minus', 'battery_minus', 'battery_plus', 'battery_plus', 'battery_plus'], dtype='<U13')})\n",
      "Detections(xyxy=array([[     247.41,      241.53,       267.5,      269.16],\n",
      "       [     325.77,      179.83,      348.55,      212.13],\n",
      "       [      70.83,      218.84,      89.552,      245.74],\n",
      "       [     278.22,      305.02,      299.41,      333.58],\n",
      "       [     163.39,      284.46,      184.03,      313.12],\n",
      "       [     140.01,      160.41,      159.44,      188.81]], dtype=float32), mask=None, confidence=array([    0.86506,      0.8137,     0.78608,     0.78393,     0.75039,     0.56252], dtype=float32), class_id=array([0, 0, 1, 0, 1, 1]), tracker_id=None, data={'class_name': array(['battery_minus', 'battery_minus', 'battery_plus', 'battery_minus', 'battery_plus', 'battery_plus'], dtype='<U13')})\n"
     ]
    },
    {
     "name": "stderr",
     "output_type": "stream",
     "text": [
      "0: 480x640 3 battery_minuss, 3 battery_pluss, 48.1ms\n",
      "Speed: 0.0ms preprocess, 48.1ms inference, 17.9ms postprocess per image at shape (1, 3, 480, 640)\n",
      "\n",
      "0: 480x640 4 battery_minuss, 47.6ms\n",
      "Speed: 2.6ms preprocess, 47.6ms inference, 11.5ms postprocess per image at shape (1, 3, 480, 640)\n",
      "\n"
     ]
    },
    {
     "name": "stdout",
     "output_type": "stream",
     "text": [
      "Detections(xyxy=array([[     239.68,      240.56,      260.63,      268.71],\n",
      "       [     270.87,      304.04,      292.84,      333.23],\n",
      "       [     132.14,      159.99,      152.04,      188.41],\n",
      "       [     63.052,      218.81,      82.086,      245.74],\n",
      "       [     155.35,      284.32,      176.35,      313.28],\n",
      "       [     318.15,      179.84,      341.22,      211.93]], dtype=float32), mask=None, confidence=array([    0.84748,     0.82206,      0.7938,      0.7831,     0.74853,     0.74688], dtype=float32), class_id=array([0, 0, 1, 1, 1, 0]), tracker_id=None, data={'class_name': array(['battery_minus', 'battery_minus', 'battery_plus', 'battery_plus', 'battery_plus', 'battery_minus'], dtype='<U13')})\n",
      "Detections(xyxy=array([[      310.8,      180.19,      333.56,      210.09],\n",
      "       [     53.465,      219.41,      72.875,      245.17],\n",
      "       [     231.03,      239.99,      254.03,      269.36],\n",
      "       [     122.74,      160.14,      145.94,       188.4]], dtype=float32), mask=None, confidence=array([    0.79949,     0.74863,     0.69997,     0.54848], dtype=float32), class_id=array([0, 0, 0, 0]), tracker_id=None, data={'class_name': array(['battery_minus', 'battery_minus', 'battery_minus', 'battery_minus'], dtype='<U13')})\n"
     ]
    },
    {
     "name": "stderr",
     "output_type": "stream",
     "text": [
      "0: 480x640 4 battery_minuss, 40.1ms\n",
      "Speed: 6.3ms preprocess, 40.1ms inference, 16.9ms postprocess per image at shape (1, 3, 480, 640)\n",
      "\n",
      "0: 480x640 4 battery_minuss, 42.3ms\n",
      "Speed: 4.3ms preprocess, 42.3ms inference, 12.2ms postprocess per image at shape (1, 3, 480, 640)\n",
      "\n"
     ]
    },
    {
     "name": "stdout",
     "output_type": "stream",
     "text": [
      "Detections(xyxy=array([[      303.9,      179.47,      326.66,      210.27],\n",
      "       [     46.567,      219.81,      65.764,      244.95],\n",
      "       [     223.77,      240.43,      247.04,      269.73],\n",
      "       [     116.48,      159.83,      139.25,      187.53]], dtype=float32), mask=None, confidence=array([    0.82071,     0.76528,     0.65462,     0.51118], dtype=float32), class_id=array([0, 0, 0, 0]), tracker_id=None, data={'class_name': array(['battery_minus', 'battery_minus', 'battery_minus', 'battery_minus'], dtype='<U13')})\n",
      "Detections(xyxy=array([[     297.24,      180.35,      319.79,      208.42],\n",
      "       [     217.23,         240,      240.01,      268.98],\n",
      "       [     39.504,      219.44,      58.239,      245.16],\n",
      "       [     109.14,      160.95,      131.34,      188.09]], dtype=float32), mask=None, confidence=array([    0.75761,     0.72049,     0.70954,     0.58843], dtype=float32), class_id=array([0, 0, 0, 0]), tracker_id=None, data={'class_name': array(['battery_minus', 'battery_minus', 'battery_minus', 'battery_minus'], dtype='<U13')})\n"
     ]
    },
    {
     "name": "stderr",
     "output_type": "stream",
     "text": [
      "0: 480x640 5 battery_minuss, 45.9ms\n",
      "Speed: 6.3ms preprocess, 45.9ms inference, 15.4ms postprocess per image at shape (1, 3, 480, 640)\n",
      "\n",
      "0: 480x640 5 battery_minuss, 43.6ms\n",
      "Speed: 8.0ms preprocess, 43.6ms inference, 13.5ms postprocess per image at shape (1, 3, 480, 640)\n",
      "\n"
     ]
    },
    {
     "name": "stdout",
     "output_type": "stream",
     "text": [
      "Detections(xyxy=array([[     290.07,      180.31,       312.7,      207.38],\n",
      "       [     209.86,      240.32,      232.85,      269.64],\n",
      "       [     32.552,      219.43,      51.504,       244.6],\n",
      "       [     101.63,      160.36,      123.57,      188.36],\n",
      "       [     241.92,      300.11,      267.22,      334.74]], dtype=float32), mask=None, confidence=array([    0.77243,     0.73899,      0.6467,     0.61751,     0.52214], dtype=float32), class_id=array([0, 0, 0, 0, 0]), tracker_id=None, data={'class_name': array(['battery_minus', 'battery_minus', 'battery_minus', 'battery_minus', 'battery_minus'], dtype='<U13')})\n",
      "Detections(xyxy=array([[     288.19,      179.71,      310.95,      208.59],\n",
      "       [      31.26,      219.56,      50.068,      244.27],\n",
      "       [     208.07,      240.33,      231.53,      269.13],\n",
      "       [     100.04,      160.45,      122.22,      187.93],\n",
      "       [     239.89,      300.52,      263.62,      335.26]], dtype=float32), mask=None, confidence=array([    0.82414,     0.77487,     0.69532,     0.64459,     0.36413], dtype=float32), class_id=array([0, 0, 0, 0, 0]), tracker_id=None, data={'class_name': array(['battery_minus', 'battery_minus', 'battery_minus', 'battery_minus', 'battery_minus'], dtype='<U13')})\n"
     ]
    },
    {
     "name": "stderr",
     "output_type": "stream",
     "text": [
      "0: 480x640 5 battery_minuss, 51.1ms\n",
      "Speed: 5.4ms preprocess, 51.1ms inference, 11.1ms postprocess per image at shape (1, 3, 480, 640)\n",
      "\n",
      "0: 480x640 5 battery_minuss, 42.1ms\n",
      "Speed: 8.3ms preprocess, 42.1ms inference, 13.7ms postprocess per image at shape (1, 3, 480, 640)\n",
      "\n"
     ]
    },
    {
     "name": "stdout",
     "output_type": "stream",
     "text": [
      "Detections(xyxy=array([[     275.99,      180.01,      298.01,      206.68],\n",
      "       [     86.245,      161.08,      108.79,      188.27],\n",
      "       [     196.41,      240.09,       218.7,      268.56],\n",
      "       [     17.979,      219.13,      37.316,      244.38],\n",
      "       [     228.18,      302.28,      251.93,      334.46]], dtype=float32), mask=None, confidence=array([    0.76801,     0.72927,     0.71699,     0.44183,     0.34604], dtype=float32), class_id=array([0, 0, 0, 0, 0]), tracker_id=None, data={'class_name': array(['battery_minus', 'battery_minus', 'battery_minus', 'battery_minus', 'battery_minus'], dtype='<U13')})\n",
      "Detections(xyxy=array([[     269.22,      179.71,      291.21,      206.78],\n",
      "       [     188.98,       240.6,       211.6,      268.77],\n",
      "       [     11.466,      218.84,      31.276,      244.42],\n",
      "       [     221.54,      302.85,      244.81,      334.82],\n",
      "       [     79.491,      160.91,      101.88,      188.06]], dtype=float32), mask=None, confidence=array([    0.77747,     0.72344,     0.67819,     0.61826,     0.49548], dtype=float32), class_id=array([0, 0, 0, 0, 0]), tracker_id=None, data={'class_name': array(['battery_minus', 'battery_minus', 'battery_minus', 'battery_minus', 'battery_minus'], dtype='<U13')})\n"
     ]
    },
    {
     "name": "stderr",
     "output_type": "stream",
     "text": [
      "0: 480x640 5 battery_minuss, 48.8ms\n",
      "Speed: 0.0ms preprocess, 48.8ms inference, 13.3ms postprocess per image at shape (1, 3, 480, 640)\n",
      "\n",
      "0: 480x640 3 battery_minuss, 3 battery_pluss, 46.8ms\n",
      "Speed: 4.9ms preprocess, 46.8ms inference, 13.7ms postprocess per image at shape (1, 3, 480, 640)\n",
      "\n"
     ]
    },
    {
     "name": "stdout",
     "output_type": "stream",
     "text": [
      "Detections(xyxy=array([[     187.09,      240.24,      209.83,      268.43],\n",
      "       [     267.16,      179.73,      289.65,      206.42],\n",
      "       [      78.46,      160.25,      99.309,      187.75],\n",
      "       [     219.14,      303.75,      242.28,      334.47],\n",
      "       [     9.7474,      218.34,      30.082,      244.44]], dtype=float32), mask=None, confidence=array([    0.75251,     0.75017,     0.69748,     0.67572,      0.5206], dtype=float32), class_id=array([0, 0, 0, 0, 0]), tracker_id=None, data={'class_name': array(['battery_minus', 'battery_minus', 'battery_minus', 'battery_minus', 'battery_minus'], dtype='<U13')})\n",
      "Detections(xyxy=array([[      208.3,      304.41,      229.73,      332.86],\n",
      "       [     176.22,       240.4,      197.26,      268.21],\n",
      "       [     67.424,      159.67,      87.911,      187.85],\n",
      "       [     256.25,      180.45,      278.37,      208.53],\n",
      "       [     1.1462,      218.38,      19.952,       246.1],\n",
      "       [     92.023,      284.23,      111.61,      312.56]], dtype=float32), mask=None, confidence=array([    0.81794,     0.80924,     0.80409,     0.79166,     0.75935,     0.75779], dtype=float32), class_id=array([0, 0, 1, 0, 1, 1]), tracker_id=None, data={'class_name': array(['battery_minus', 'battery_minus', 'battery_plus', 'battery_minus', 'battery_plus', 'battery_plus'], dtype='<U13')})\n"
     ]
    },
    {
     "name": "stderr",
     "output_type": "stream",
     "text": [
      "0: 480x640 3 battery_minuss, 3 battery_pluss, 47.2ms\n",
      "Speed: 0.0ms preprocess, 47.2ms inference, 14.0ms postprocess per image at shape (1, 3, 480, 640)\n",
      "\n",
      "0: 480x640 3 battery_minuss, 3 battery_pluss, 47.7ms\n",
      "Speed: 3.5ms preprocess, 47.7ms inference, 0.0ms postprocess per image at shape (1, 3, 480, 640)\n",
      "\n"
     ]
    },
    {
     "name": "stdout",
     "output_type": "stream",
     "text": [
      "Detections(xyxy=array([[     169.31,      239.84,      190.91,      268.31],\n",
      "       [     60.804,       159.6,      80.797,      187.78],\n",
      "       [     248.99,      180.14,      271.04,      208.66],\n",
      "       [     201.89,      304.48,      223.49,      333.14],\n",
      "       [     83.426,      284.05,      104.23,      312.94],\n",
      "       [          0,      218.89,      13.092,      245.27]], dtype=float32), mask=None, confidence=array([    0.81269,     0.80257,     0.80058,     0.78198,     0.77609,     0.76502], dtype=float32), class_id=array([0, 1, 0, 0, 1, 1]), tracker_id=None, data={'class_name': array(['battery_minus', 'battery_plus', 'battery_minus', 'battery_minus', 'battery_plus', 'battery_plus'], dtype='<U13')})\n",
      "Detections(xyxy=array([[     247.95,       180.4,      267.93,      207.42],\n",
      "       [     167.38,       239.9,      188.51,      268.17],\n",
      "       [     81.358,      284.32,      101.26,      311.85],\n",
      "       [     200.08,         304,       221.1,      332.34],\n",
      "       [     58.547,      159.81,      78.764,      187.73],\n",
      "       [          0,      219.15,      11.818,      245.33]], dtype=float32), mask=None, confidence=array([    0.85497,     0.84141,     0.80381,     0.77938,      0.7676,     0.76276], dtype=float32), class_id=array([0, 0, 1, 0, 1, 1]), tracker_id=None, data={'class_name': array(['battery_minus', 'battery_minus', 'battery_plus', 'battery_minus', 'battery_plus', 'battery_plus'], dtype='<U13')})\n"
     ]
    },
    {
     "name": "stderr",
     "output_type": "stream",
     "text": [
      "0: 480x640 3 battery_minuss, 2 battery_pluss, 45.7ms\n",
      "Speed: 3.8ms preprocess, 45.7ms inference, 14.1ms postprocess per image at shape (1, 3, 480, 640)\n",
      "\n",
      "0: 480x640 3 battery_minuss, 2 battery_pluss, 41.4ms\n",
      "Speed: 4.3ms preprocess, 41.4ms inference, 19.5ms postprocess per image at shape (1, 3, 480, 640)\n",
      "\n"
     ]
    },
    {
     "name": "stdout",
     "output_type": "stream",
     "text": [
      "Detections(xyxy=array([[     154.57,      239.76,      175.89,      268.14],\n",
      "       [     187.89,      304.16,      209.53,      332.98],\n",
      "       [     235.34,      179.96,      256.45,      208.17],\n",
      "       [     45.557,      159.71,       65.81,       187.9],\n",
      "       [     68.644,      284.58,       90.08,      312.47]], dtype=float32), mask=None, confidence=array([    0.83374,     0.82155,     0.81121,     0.79696,     0.75184], dtype=float32), class_id=array([0, 0, 0, 1, 1]), tracker_id=None, data={'class_name': array(['battery_minus', 'battery_minus', 'battery_minus', 'battery_plus', 'battery_plus'], dtype='<U13')})\n",
      "Detections(xyxy=array([[     147.62,       239.5,      169.18,      267.77],\n",
      "       [        228,      179.49,      249.86,      207.91],\n",
      "       [     180.81,      303.76,      202.23,      332.82],\n",
      "       [     39.117,      159.26,      58.454,      187.77],\n",
      "       [     62.017,      284.59,      82.838,      312.71]], dtype=float32), mask=None, confidence=array([     0.8453,     0.84514,     0.82475,     0.79661,     0.76935], dtype=float32), class_id=array([0, 0, 0, 1, 1]), tracker_id=None, data={'class_name': array(['battery_minus', 'battery_minus', 'battery_minus', 'battery_plus', 'battery_plus'], dtype='<U13')})\n"
     ]
    },
    {
     "name": "stderr",
     "output_type": "stream",
     "text": [
      "0: 480x640 3 battery_minuss, 2 battery_pluss, 50.2ms\n",
      "Speed: 0.0ms preprocess, 50.2ms inference, 13.6ms postprocess per image at shape (1, 3, 480, 640)\n",
      "\n",
      "0: 480x640 3 battery_minuss, 2 battery_pluss, 44.4ms\n",
      "Speed: 0.0ms preprocess, 44.4ms inference, 17.2ms postprocess per image at shape (1, 3, 480, 640)\n",
      "\n"
     ]
    },
    {
     "name": "stdout",
     "output_type": "stream",
     "text": [
      "Detections(xyxy=array([[     145.82,      239.34,      167.34,      267.82],\n",
      "       [     226.64,      179.65,      248.24,       208.3],\n",
      "       [     37.385,      159.39,      57.499,      187.92],\n",
      "       [      178.7,       304.7,       200.6,      333.08],\n",
      "       [     60.679,         284,      81.364,      312.34]], dtype=float32), mask=None, confidence=array([    0.84551,     0.81992,     0.80339,     0.79969,     0.77258], dtype=float32), class_id=array([0, 0, 1, 0, 1]), tracker_id=None, data={'class_name': array(['battery_minus', 'battery_minus', 'battery_plus', 'battery_minus', 'battery_plus'], dtype='<U13')})\n",
      "Detections(xyxy=array([[     214.14,      179.85,      234.41,      207.71],\n",
      "       [     133.13,      239.23,      154.19,      267.72],\n",
      "       [     166.28,      303.99,      186.94,      332.94],\n",
      "       [     48.117,      284.68,      67.657,      312.05],\n",
      "       [     25.134,       159.3,      44.197,      187.87]], dtype=float32), mask=None, confidence=array([    0.87086,     0.86437,     0.82956,     0.80469,     0.78131], dtype=float32), class_id=array([0, 0, 0, 1, 1]), tracker_id=None, data={'class_name': array(['battery_minus', 'battery_minus', 'battery_minus', 'battery_plus', 'battery_plus'], dtype='<U13')})\n"
     ]
    },
    {
     "name": "stderr",
     "output_type": "stream",
     "text": [
      "0: 480x640 3 battery_minuss, 2 battery_pluss, 40.5ms\n",
      "Speed: 4.3ms preprocess, 40.5ms inference, 14.1ms postprocess per image at shape (1, 3, 480, 640)\n",
      "\n",
      "0: 480x640 3 battery_minuss, 2 battery_pluss, 48.1ms\n",
      "Speed: 4.2ms preprocess, 48.1ms inference, 12.9ms postprocess per image at shape (1, 3, 480, 640)\n",
      "\n"
     ]
    },
    {
     "name": "stdout",
     "output_type": "stream",
     "text": [
      "Detections(xyxy=array([[     206.35,      179.47,      227.05,      208.33],\n",
      "       [     124.66,      239.61,      146.45,      268.05],\n",
      "       [     157.72,      303.96,      179.32,      332.38],\n",
      "       [     17.074,       159.7,      36.513,      187.68],\n",
      "       [     39.139,      284.56,      58.682,      312.17]], dtype=float32), mask=None, confidence=array([    0.85789,     0.82632,     0.81926,      0.7817,     0.73793], dtype=float32), class_id=array([0, 0, 0, 1, 1]), tracker_id=None, data={'class_name': array(['battery_minus', 'battery_minus', 'battery_minus', 'battery_plus', 'battery_plus'], dtype='<U13')})\n",
      "Detections(xyxy=array([[     204.03,       178.6,      225.58,      207.71],\n",
      "       [     122.05,      239.54,      144.18,      268.14],\n",
      "       [     156.01,      303.99,      178.42,      332.87],\n",
      "       [     36.622,      284.09,      57.331,      312.65],\n",
      "       [     14.581,      159.19,      35.164,      187.58]], dtype=float32), mask=None, confidence=array([    0.80844,     0.78596,     0.77938,     0.72619,      0.6416], dtype=float32), class_id=array([0, 0, 0, 1, 1]), tracker_id=None, data={'class_name': array(['battery_minus', 'battery_minus', 'battery_minus', 'battery_plus', 'battery_plus'], dtype='<U13')})\n"
     ]
    },
    {
     "name": "stderr",
     "output_type": "stream",
     "text": [
      "0: 480x640 3 battery_minuss, 2 battery_pluss, 46.0ms\n",
      "Speed: 0.0ms preprocess, 46.0ms inference, 13.6ms postprocess per image at shape (1, 3, 480, 640)\n",
      "\n",
      "0: 480x640 3 battery_minuss, 2 battery_pluss, 41.4ms\n",
      "Speed: 4.4ms preprocess, 41.4ms inference, 12.2ms postprocess per image at shape (1, 3, 480, 640)\n",
      "\n"
     ]
    },
    {
     "name": "stdout",
     "output_type": "stream",
     "text": [
      "Detections(xyxy=array([[     193.08,      179.34,      213.14,      208.12],\n",
      "       [     111.76,      239.52,      132.22,      267.92],\n",
      "       [     4.6386,      159.56,       24.56,       187.9],\n",
      "       [     27.539,      283.92,      47.663,      312.47],\n",
      "       [     145.75,      304.34,      167.15,      332.91]], dtype=float32), mask=None, confidence=array([    0.85184,     0.85111,     0.81214,     0.78804,     0.78791], dtype=float32), class_id=array([0, 0, 1, 1, 0]), tracker_id=None, data={'class_name': array(['battery_minus', 'battery_minus', 'battery_plus', 'battery_plus', 'battery_minus'], dtype='<U13')})\n",
      "Detections(xyxy=array([[     104.45,      239.85,      125.01,       267.9],\n",
      "       [     186.03,      179.33,      207.42,      208.44],\n",
      "       [    0.23599,         160,        17.7,      188.41],\n",
      "       [     20.322,      284.17,      40.633,       312.6],\n",
      "       [     138.21,      304.64,      159.81,      332.99]], dtype=float32), mask=None, confidence=array([    0.82969,     0.80648,     0.80193,     0.78632,     0.77816], dtype=float32), class_id=array([0, 0, 1, 1, 0]), tracker_id=None, data={'class_name': array(['battery_minus', 'battery_minus', 'battery_plus', 'battery_plus', 'battery_minus'], dtype='<U13')})\n"
     ]
    },
    {
     "name": "stderr",
     "output_type": "stream",
     "text": [
      "0: 480x640 3 battery_minuss, 2 battery_pluss, 46.2ms\n",
      "Speed: 6.5ms preprocess, 46.2ms inference, 9.0ms postprocess per image at shape (1, 3, 480, 640)\n",
      "\n",
      "0: 480x640 3 battery_minuss, 2 battery_pluss, 45.9ms\n",
      "Speed: 5.8ms preprocess, 45.9ms inference, 11.1ms postprocess per image at shape (1, 3, 480, 640)\n",
      "\n"
     ]
    },
    {
     "name": "stdout",
     "output_type": "stream",
     "text": [
      "Detections(xyxy=array([[     102.82,      239.57,      123.72,      267.95],\n",
      "       [      184.2,      179.47,      204.24,      208.16],\n",
      "       [     135.73,      304.27,      156.58,      332.58],\n",
      "       [     18.266,      284.24,      37.405,      312.07],\n",
      "       [          0,      160.15,      15.978,      188.78]], dtype=float32), mask=None, confidence=array([    0.85588,     0.85528,     0.83362,     0.79114,     0.76541], dtype=float32), class_id=array([0, 0, 0, 1, 1]), tracker_id=None, data={'class_name': array(['battery_minus', 'battery_minus', 'battery_minus', 'battery_plus', 'battery_plus'], dtype='<U13')})\n",
      "Detections(xyxy=array([[     90.405,      239.29,      112.11,      267.81],\n",
      "       [     171.77,      179.37,      192.69,       208.3],\n",
      "       [     6.3138,      284.71,      26.723,      312.31],\n",
      "       [     123.25,      304.32,      144.67,      333.03],\n",
      "       [          0,      161.85,      5.4815,      185.94]], dtype=float32), mask=None, confidence=array([    0.82717,     0.82185,     0.79539,     0.79071,     0.46366], dtype=float32), class_id=array([0, 0, 1, 0, 1]), tracker_id=None, data={'class_name': array(['battery_minus', 'battery_minus', 'battery_plus', 'battery_minus', 'battery_plus'], dtype='<U13')})\n"
     ]
    },
    {
     "name": "stderr",
     "output_type": "stream",
     "text": [
      "0: 480x640 3 battery_minuss, 1 battery_plus, 37.9ms\n",
      "Speed: 6.8ms preprocess, 37.9ms inference, 19.3ms postprocess per image at shape (1, 3, 480, 640)\n",
      "\n",
      "0: 480x640 3 battery_minuss, 1 battery_plus, 45.7ms\n",
      "Speed: 4.8ms preprocess, 45.7ms inference, 12.4ms postprocess per image at shape (1, 3, 480, 640)\n",
      "\n"
     ]
    },
    {
     "name": "stdout",
     "output_type": "stream",
     "text": [
      "Detections(xyxy=array([[     164.83,       179.3,      185.69,      208.17],\n",
      "       [     82.801,      239.25,      104.69,      267.82],\n",
      "       [     115.96,      303.97,      137.07,      332.77],\n",
      "       [    0.80082,      284.48,      19.672,      312.38]], dtype=float32), mask=None, confidence=array([    0.85795,     0.83318,     0.81542,     0.76991], dtype=float32), class_id=array([0, 0, 0, 1]), tracker_id=None, data={'class_name': array(['battery_minus', 'battery_minus', 'battery_minus', 'battery_plus'], dtype='<U13')})\n",
      "Detections(xyxy=array([[     157.46,      179.32,      177.76,      207.62],\n",
      "       [     76.173,      239.41,       97.37,      267.52],\n",
      "       [     108.81,      304.15,      130.24,       332.8],\n",
      "       [          0,      284.65,      12.718,      311.77]], dtype=float32), mask=None, confidence=array([    0.86324,     0.83308,     0.81554,     0.76215], dtype=float32), class_id=array([0, 0, 0, 1]), tracker_id=None, data={'class_name': array(['battery_minus', 'battery_minus', 'battery_minus', 'battery_plus'], dtype='<U13')})\n"
     ]
    },
    {
     "name": "stderr",
     "output_type": "stream",
     "text": [
      "0: 480x640 3 battery_minuss, 2 battery_pluss, 52.5ms\n",
      "Speed: 0.0ms preprocess, 52.5ms inference, 10.7ms postprocess per image at shape (1, 3, 480, 640)\n",
      "\n",
      "0: 480x640 3 battery_minuss, 52.5ms\n",
      "Speed: 0.0ms preprocess, 52.5ms inference, 11.3ms postprocess per image at shape (1, 3, 480, 640)\n",
      "\n"
     ]
    },
    {
     "name": "stdout",
     "output_type": "stream",
     "text": [
      "Detections(xyxy=array([[     150.12,      179.36,      170.28,      207.64],\n",
      "       [     101.69,      304.02,      122.65,      332.57],\n",
      "       [     68.889,      239.36,      90.088,      267.62],\n",
      "       [          0,      285.29,      6.9602,      310.05],\n",
      "       [          0,      285.83,      9.3335,      311.11]], dtype=float32), mask=None, confidence=array([    0.87351,     0.85217,     0.84767,     0.67842,     0.25853], dtype=float32), class_id=array([0, 0, 0, 1, 1]), tracker_id=None, data={'class_name': array(['battery_minus', 'battery_minus', 'battery_minus', 'battery_plus', 'battery_plus'], dtype='<U13')})\n",
      "Detections(xyxy=array([[     143.21,      179.31,      162.71,      207.75],\n",
      "       [     94.413,      304.15,      115.12,      332.29],\n",
      "       [      61.88,       239.5,      82.826,      267.41]], dtype=float32), mask=None, confidence=array([    0.86091,     0.83948,     0.83847], dtype=float32), class_id=array([0, 0, 0]), tracker_id=None, data={'class_name': array(['battery_minus', 'battery_minus', 'battery_minus'], dtype='<U13')})\n"
     ]
    },
    {
     "name": "stderr",
     "output_type": "stream",
     "text": [
      "0: 480x640 3 battery_minuss, 44.0ms\n",
      "Speed: 4.0ms preprocess, 44.0ms inference, 12.1ms postprocess per image at shape (1, 3, 480, 640)\n",
      "\n",
      "0: 480x640 3 battery_minuss, 39.4ms\n",
      "Speed: 5.5ms preprocess, 39.4ms inference, 18.3ms postprocess per image at shape (1, 3, 480, 640)\n",
      "\n"
     ]
    },
    {
     "name": "stdout",
     "output_type": "stream",
     "text": [
      "Detections(xyxy=array([[     141.53,      179.26,      161.87,      207.71],\n",
      "       [       93.1,      303.89,      114.01,      332.25],\n",
      "       [     60.087,      239.43,      81.804,      267.36]], dtype=float32), mask=None, confidence=array([    0.85977,       0.822,     0.79123], dtype=float32), class_id=array([0, 0, 0]), tracker_id=None, data={'class_name': array(['battery_minus', 'battery_minus', 'battery_minus'], dtype='<U13')})\n",
      "Detections(xyxy=array([[     134.02,      179.22,      153.85,      207.21],\n",
      "       [     86.104,       304.1,       106.5,       332.2],\n",
      "       [     52.915,      239.14,      74.193,      267.42]], dtype=float32), mask=None, confidence=array([    0.86778,      0.8414,     0.83362], dtype=float32), class_id=array([0, 0, 0]), tracker_id=None, data={'class_name': array(['battery_minus', 'battery_minus', 'battery_minus'], dtype='<U13')})\n"
     ]
    },
    {
     "name": "stderr",
     "output_type": "stream",
     "text": [
      "0: 480x640 3 battery_minuss, 42.4ms\n",
      "Speed: 4.3ms preprocess, 42.4ms inference, 18.9ms postprocess per image at shape (1, 3, 480, 640)\n",
      "\n",
      "0: 480x640 3 battery_minuss, 46.3ms\n",
      "Speed: 7.2ms preprocess, 46.3ms inference, 11.1ms postprocess per image at shape (1, 3, 480, 640)\n",
      "\n"
     ]
    },
    {
     "name": "stdout",
     "output_type": "stream",
     "text": [
      "Detections(xyxy=array([[     127.39,      179.17,      146.95,      207.66],\n",
      "       [     78.693,       304.3,      99.805,      332.47],\n",
      "       [     46.187,      239.83,      66.958,      267.42]], dtype=float32), mask=None, confidence=array([    0.87054,     0.85246,     0.85243], dtype=float32), class_id=array([0, 0, 0]), tracker_id=None, data={'class_name': array(['battery_minus', 'battery_minus', 'battery_minus'], dtype='<U13')})\n",
      "Detections(xyxy=array([[      120.1,      179.23,      139.85,      207.19],\n",
      "       [     38.844,      239.42,      59.301,      267.32],\n",
      "       [     71.206,       304.2,      92.528,      332.06]], dtype=float32), mask=None, confidence=array([    0.85979,     0.84231,     0.83475], dtype=float32), class_id=array([0, 0, 0]), tracker_id=None, data={'class_name': array(['battery_minus', 'battery_minus', 'battery_minus'], dtype='<U13')})\n"
     ]
    },
    {
     "name": "stderr",
     "output_type": "stream",
     "text": [
      "0: 480x640 3 battery_minuss, 45.9ms\n",
      "Speed: 4.9ms preprocess, 45.9ms inference, 9.7ms postprocess per image at shape (1, 3, 480, 640)\n",
      "\n",
      "0: 480x640 3 battery_minuss, 38.0ms\n",
      "Speed: 6.4ms preprocess, 38.0ms inference, 19.2ms postprocess per image at shape (1, 3, 480, 640)\n",
      "\n"
     ]
    },
    {
     "name": "stdout",
     "output_type": "stream",
     "text": [
      "Detections(xyxy=array([[     112.85,      178.88,      132.51,      207.64],\n",
      "       [     32.238,      240.21,       52.29,      266.72],\n",
      "       [     64.178,      304.26,      85.679,       332.3]], dtype=float32), mask=None, confidence=array([    0.83666,     0.81349,     0.80474], dtype=float32), class_id=array([0, 0, 0]), tracker_id=None, data={'class_name': array(['battery_minus', 'battery_minus', 'battery_minus'], dtype='<U13')})\n",
      "Detections(xyxy=array([[     106.19,      178.66,      125.08,      207.64],\n",
      "       [      26.14,      239.42,      46.971,      267.12],\n",
      "       [     58.103,       304.3,      79.041,      332.42]], dtype=float32), mask=None, confidence=array([    0.79461,     0.76911,     0.75125], dtype=float32), class_id=array([0, 0, 0]), tracker_id=None, data={'class_name': array(['battery_minus', 'battery_minus', 'battery_minus'], dtype='<U13')})\n"
     ]
    },
    {
     "name": "stderr",
     "output_type": "stream",
     "text": [
      "0: 480x640 3 battery_minuss, 48.5ms\n",
      "Speed: 4.6ms preprocess, 48.5ms inference, 12.4ms postprocess per image at shape (1, 3, 480, 640)\n",
      "\n",
      "0: 480x640 3 battery_minuss, 42.2ms\n",
      "Speed: 4.6ms preprocess, 42.2ms inference, 16.7ms postprocess per image at shape (1, 3, 480, 640)\n",
      "\n"
     ]
    },
    {
     "name": "stdout",
     "output_type": "stream",
     "text": [
      "Detections(xyxy=array([[     98.618,      178.73,      119.03,      207.27],\n",
      "       [     18.581,      239.67,      39.911,      266.74],\n",
      "       [     50.808,      304.51,      72.579,      332.16]], dtype=float32), mask=None, confidence=array([    0.80933,      0.7857,     0.77327], dtype=float32), class_id=array([0, 0, 0]), tracker_id=None, data={'class_name': array(['battery_minus', 'battery_minus', 'battery_minus'], dtype='<U13')})\n",
      "Detections(xyxy=array([[     90.687,      178.53,      111.11,      207.14],\n",
      "       [     10.428,      239.48,       31.92,      266.89],\n",
      "       [     42.957,      304.18,      65.005,      332.22]], dtype=float32), mask=None, confidence=array([    0.80563,     0.80376,     0.78128], dtype=float32), class_id=array([0, 0, 0]), tracker_id=None, data={'class_name': array(['battery_minus', 'battery_minus', 'battery_minus'], dtype='<U13')})\n"
     ]
    },
    {
     "name": "stderr",
     "output_type": "stream",
     "text": [
      "0: 480x640 1 battery_minus, 35.6ms\n",
      "Speed: 7.9ms preprocess, 35.6ms inference, 16.8ms postprocess per image at shape (1, 3, 480, 640)\n",
      "\n",
      "0: 480x640 (no detections), 46.6ms\n",
      "Speed: 3.6ms preprocess, 46.6ms inference, 1.0ms postprocess per image at shape (1, 3, 480, 640)\n",
      "\n"
     ]
    },
    {
     "name": "stdout",
     "output_type": "stream",
     "text": [
      "Detections(xyxy=array([[     81.259,      178.09,      103.53,      206.83]], dtype=float32), mask=None, confidence=array([    0.64702], dtype=float32), class_id=array([0]), tracker_id=None, data={'class_name': array(['battery_minus'], dtype='<U13')})\n",
      "Detections(xyxy=array([], shape=(0, 4), dtype=float32), mask=None, confidence=array([], dtype=float32), class_id=array([], dtype=int32), tracker_id=None, data={'class_name': array([], dtype=float64)})\n"
     ]
    },
    {
     "name": "stderr",
     "output_type": "stream",
     "text": [
      "0: 480x640 1 battery_minus, 40.7ms\n",
      "Speed: 6.3ms preprocess, 40.7ms inference, 16.8ms postprocess per image at shape (1, 3, 480, 640)\n",
      "\n",
      "0: 480x640 3 battery_minuss, 48.4ms\n",
      "Speed: 4.3ms preprocess, 48.4ms inference, 9.6ms postprocess per image at shape (1, 3, 480, 640)\n",
      "\n"
     ]
    },
    {
     "name": "stdout",
     "output_type": "stream",
     "text": [
      "Detections(xyxy=array([[          0,      239.01,      9.2928,       267.5]], dtype=float32), mask=None, confidence=array([    0.36336], dtype=float32), class_id=array([0]), tracker_id=None, data={'class_name': array(['battery_minus'], dtype='<U13')})\n",
      "Detections(xyxy=array([[     61.134,      178.03,      81.991,      206.82],\n",
      "       [         14,      304.11,      35.957,      332.13],\n",
      "       [          0,      239.64,      5.6299,      265.64]], dtype=float32), mask=None, confidence=array([    0.84365,     0.83977,      0.4736], dtype=float32), class_id=array([0, 0, 0]), tracker_id=None, data={'class_name': array(['battery_minus', 'battery_minus', 'battery_minus'], dtype='<U13')})\n"
     ]
    },
    {
     "name": "stderr",
     "output_type": "stream",
     "text": [
      "0: 480x640 2 battery_minuss, 46.0ms\n",
      "Speed: 4.6ms preprocess, 46.0ms inference, 14.6ms postprocess per image at shape (1, 3, 480, 640)\n",
      "\n",
      "0: 480x640 2 battery_minuss, 42.8ms\n",
      "Speed: 4.4ms preprocess, 42.8ms inference, 16.3ms postprocess per image at shape (1, 3, 480, 640)\n",
      "\n"
     ]
    },
    {
     "name": "stdout",
     "output_type": "stream",
     "text": [
      "Detections(xyxy=array([[     56.443,      178.83,      76.148,      207.22],\n",
      "       [     9.2141,      304.79,      29.926,      331.31]], dtype=float32), mask=None, confidence=array([     0.8527,     0.79617], dtype=float32), class_id=array([0, 0]), tracker_id=None, data={'class_name': array(['battery_minus', 'battery_minus'], dtype='<U13')})\n",
      "Detections(xyxy=array([[     49.487,      178.58,      69.482,      207.51],\n",
      "       [     3.5154,      304.01,      24.839,       331.9]], dtype=float32), mask=None, confidence=array([    0.83742,     0.81611], dtype=float32), class_id=array([0, 0]), tracker_id=None, data={'class_name': array(['battery_minus', 'battery_minus'], dtype='<U13')})\n"
     ]
    },
    {
     "name": "stderr",
     "output_type": "stream",
     "text": [
      "0: 480x640 2 battery_minuss, 45.0ms\n",
      "Speed: 9.0ms preprocess, 45.0ms inference, 4.7ms postprocess per image at shape (1, 3, 480, 640)\n",
      "\n",
      "0: 480x640 2 battery_minuss, 48.4ms\n",
      "Speed: 0.0ms preprocess, 48.4ms inference, 11.6ms postprocess per image at shape (1, 3, 480, 640)\n",
      "\n"
     ]
    },
    {
     "name": "stdout",
     "output_type": "stream",
     "text": [
      "Detections(xyxy=array([[     42.758,      178.77,      63.469,      207.79],\n",
      "       [   0.055731,      303.56,      18.203,      331.11]], dtype=float32), mask=None, confidence=array([    0.80513,     0.74996], dtype=float32), class_id=array([0, 0]), tracker_id=None, data={'class_name': array(['battery_minus', 'battery_minus'], dtype='<U13')})\n",
      "Detections(xyxy=array([[          0,      304.85,       11.98,       331.9],\n",
      "       [     37.212,      179.13,      56.936,      203.59]], dtype=float32), mask=None, confidence=array([    0.66029,     0.65805], dtype=float32), class_id=array([0, 0]), tracker_id=None, data={'class_name': array(['battery_minus', 'battery_minus'], dtype='<U13')})\n"
     ]
    },
    {
     "name": "stderr",
     "output_type": "stream",
     "text": [
      "0: 480x640 (no detections), 49.2ms\n",
      "Speed: 5.8ms preprocess, 49.2ms inference, 3.8ms postprocess per image at shape (1, 3, 480, 640)\n",
      "\n",
      "0: 480x640 (no detections), 98.9ms\n",
      "Speed: 5.9ms preprocess, 98.9ms inference, 7.1ms postprocess per image at shape (1, 3, 480, 640)\n"
     ]
    },
    {
     "name": "stdout",
     "output_type": "stream",
     "text": [
      "Detections(xyxy=array([], shape=(0, 4), dtype=float32), mask=None, confidence=array([], dtype=float32), class_id=array([], dtype=int32), tracker_id=None, data={'class_name': array([], dtype=float64)})\n",
      "Detections(xyxy=array([], shape=(0, 4), dtype=float32), mask=None, confidence=array([], dtype=float32), class_id=array([], dtype=int32), tracker_id=None, data={'class_name': array([], dtype=float64)})\n"
     ]
    },
    {
     "name": "stderr",
     "output_type": "stream",
     "text": [
      "\n",
      "0: 480x640 (no detections), 134.5ms\n",
      "Speed: 9.4ms preprocess, 134.5ms inference, 2.9ms postprocess per image at shape (1, 3, 480, 640)\n",
      "\n",
      "0: 480x640 (no detections), 139.8ms\n"
     ]
    },
    {
     "name": "stdout",
     "output_type": "stream",
     "text": [
      "Detections(xyxy=array([], shape=(0, 4), dtype=float32), mask=None, confidence=array([], dtype=float32), class_id=array([], dtype=int32), tracker_id=None, data={'class_name': array([], dtype=float64)})\n"
     ]
    },
    {
     "name": "stderr",
     "output_type": "stream",
     "text": [
      "Speed: 9.0ms preprocess, 139.8ms inference, 5.6ms postprocess per image at shape (1, 3, 480, 640)\n",
      "\n"
     ]
    },
    {
     "name": "stdout",
     "output_type": "stream",
     "text": [
      "Detections(xyxy=array([], shape=(0, 4), dtype=float32), mask=None, confidence=array([], dtype=float32), class_id=array([], dtype=int32), tracker_id=None, data={'class_name': array([], dtype=float64)})\n"
     ]
    },
    {
     "name": "stderr",
     "output_type": "stream",
     "text": [
      "0: 480x640 (no detections), 133.3ms\n",
      "Speed: 10.5ms preprocess, 133.3ms inference, 12.6ms postprocess per image at shape (1, 3, 480, 640)\n",
      "\n",
      "0: 480x640 (no detections), 50.1ms\n",
      "Speed: 2.5ms preprocess, 50.1ms inference, 3.3ms postprocess per image at shape (1, 3, 480, 640)\n",
      "\n"
     ]
    },
    {
     "name": "stdout",
     "output_type": "stream",
     "text": [
      "Detections(xyxy=array([], shape=(0, 4), dtype=float32), mask=None, confidence=array([], dtype=float32), class_id=array([], dtype=int32), tracker_id=None, data={'class_name': array([], dtype=float64)})\n",
      "Detections(xyxy=array([], shape=(0, 4), dtype=float32), mask=None, confidence=array([], dtype=float32), class_id=array([], dtype=int32), tracker_id=None, data={'class_name': array([], dtype=float64)})\n"
     ]
    },
    {
     "name": "stderr",
     "output_type": "stream",
     "text": [
      "0: 480x640 (no detections), 44.6ms\n",
      "Speed: 5.5ms preprocess, 44.6ms inference, 5.1ms postprocess per image at shape (1, 3, 480, 640)\n",
      "\n",
      "0: 480x640 (no detections), 34.9ms\n",
      "Speed: 7.0ms preprocess, 34.9ms inference, 0.0ms postprocess per image at shape (1, 3, 480, 640)\n",
      "\n"
     ]
    },
    {
     "name": "stdout",
     "output_type": "stream",
     "text": [
      "Detections(xyxy=array([], shape=(0, 4), dtype=float32), mask=None, confidence=array([], dtype=float32), class_id=array([], dtype=int32), tracker_id=None, data={'class_name': array([], dtype=float64)})\n",
      "Detections(xyxy=array([], shape=(0, 4), dtype=float32), mask=None, confidence=array([], dtype=float32), class_id=array([], dtype=int32), tracker_id=None, data={'class_name': array([], dtype=float64)})\n"
     ]
    },
    {
     "name": "stderr",
     "output_type": "stream",
     "text": [
      "0: 480x640 (no detections), 47.1ms\n",
      "Speed: 4.0ms preprocess, 47.1ms inference, 8.4ms postprocess per image at shape (1, 3, 480, 640)\n",
      "\n",
      "0: 480x640 (no detections), 41.9ms\n",
      "Speed: 6.3ms preprocess, 41.9ms inference, 12.3ms postprocess per image at shape (1, 3, 480, 640)\n",
      "\n"
     ]
    },
    {
     "name": "stdout",
     "output_type": "stream",
     "text": [
      "Detections(xyxy=array([], shape=(0, 4), dtype=float32), mask=None, confidence=array([], dtype=float32), class_id=array([], dtype=int32), tracker_id=None, data={'class_name': array([], dtype=float64)})\n",
      "Detections(xyxy=array([], shape=(0, 4), dtype=float32), mask=None, confidence=array([], dtype=float32), class_id=array([], dtype=int32), tracker_id=None, data={'class_name': array([], dtype=float64)})\n"
     ]
    },
    {
     "name": "stderr",
     "output_type": "stream",
     "text": [
      "0: 480x640 (no detections), 44.0ms\n",
      "Speed: 4.3ms preprocess, 44.0ms inference, 11.4ms postprocess per image at shape (1, 3, 480, 640)\n",
      "\n",
      "0: 480x640 (no detections), 68.1ms\n",
      "Speed: 2.4ms preprocess, 68.1ms inference, 14.8ms postprocess per image at shape (1, 3, 480, 640)\n",
      "\n"
     ]
    },
    {
     "name": "stdout",
     "output_type": "stream",
     "text": [
      "Detections(xyxy=array([], shape=(0, 4), dtype=float32), mask=None, confidence=array([], dtype=float32), class_id=array([], dtype=int32), tracker_id=None, data={'class_name': array([], dtype=float64)})\n",
      "Detections(xyxy=array([], shape=(0, 4), dtype=float32), mask=None, confidence=array([], dtype=float32), class_id=array([], dtype=int32), tracker_id=None, data={'class_name': array([], dtype=float64)})\n"
     ]
    },
    {
     "name": "stderr",
     "output_type": "stream",
     "text": [
      "0: 480x640 (no detections), 136.7ms\n",
      "Speed: 11.3ms preprocess, 136.7ms inference, 13.4ms postprocess per image at shape (1, 3, 480, 640)\n",
      "\n",
      "0: 480x640 (no detections), 47.1ms\n",
      "Speed: 0.0ms preprocess, 47.1ms inference, 10.9ms postprocess per image at shape (1, 3, 480, 640)\n",
      "\n"
     ]
    },
    {
     "name": "stdout",
     "output_type": "stream",
     "text": [
      "Detections(xyxy=array([], shape=(0, 4), dtype=float32), mask=None, confidence=array([], dtype=float32), class_id=array([], dtype=int32), tracker_id=None, data={'class_name': array([], dtype=float64)})\n",
      "Detections(xyxy=array([], shape=(0, 4), dtype=float32), mask=None, confidence=array([], dtype=float32), class_id=array([], dtype=int32), tracker_id=None, data={'class_name': array([], dtype=float64)})\n"
     ]
    },
    {
     "name": "stderr",
     "output_type": "stream",
     "text": [
      "0: 480x640 (no detections), 42.5ms\n",
      "Speed: 4.9ms preprocess, 42.5ms inference, 13.2ms postprocess per image at shape (1, 3, 480, 640)\n",
      "\n",
      "0: 480x640 (no detections), 38.9ms\n",
      "Speed: 7.7ms preprocess, 38.9ms inference, 11.2ms postprocess per image at shape (1, 3, 480, 640)\n",
      "\n"
     ]
    },
    {
     "name": "stdout",
     "output_type": "stream",
     "text": [
      "Detections(xyxy=array([], shape=(0, 4), dtype=float32), mask=None, confidence=array([], dtype=float32), class_id=array([], dtype=int32), tracker_id=None, data={'class_name': array([], dtype=float64)})\n",
      "Detections(xyxy=array([], shape=(0, 4), dtype=float32), mask=None, confidence=array([], dtype=float32), class_id=array([], dtype=int32), tracker_id=None, data={'class_name': array([], dtype=float64)})\n"
     ]
    },
    {
     "name": "stderr",
     "output_type": "stream",
     "text": [
      "0: 480x640 (no detections), 45.6ms\n",
      "Speed: 4.5ms preprocess, 45.6ms inference, 11.0ms postprocess per image at shape (1, 3, 480, 640)\n",
      "\n",
      "0: 480x640 (no detections), 71.7ms\n",
      "Speed: 1.6ms preprocess, 71.7ms inference, 10.1ms postprocess per image at shape (1, 3, 480, 640)\n",
      "\n"
     ]
    },
    {
     "name": "stdout",
     "output_type": "stream",
     "text": [
      "Detections(xyxy=array([], shape=(0, 4), dtype=float32), mask=None, confidence=array([], dtype=float32), class_id=array([], dtype=int32), tracker_id=None, data={'class_name': array([], dtype=float64)})\n",
      "Detections(xyxy=array([], shape=(0, 4), dtype=float32), mask=None, confidence=array([], dtype=float32), class_id=array([], dtype=int32), tracker_id=None, data={'class_name': array([], dtype=float64)})\n"
     ]
    },
    {
     "name": "stderr",
     "output_type": "stream",
     "text": [
      "0: 480x640 (no detections), 139.0ms\n",
      "Speed: 9.6ms preprocess, 139.0ms inference, 2.5ms postprocess per image at shape (1, 3, 480, 640)\n",
      "\n"
     ]
    },
    {
     "name": "stdout",
     "output_type": "stream",
     "text": [
      "Detections(xyxy=array([], shape=(0, 4), dtype=float32), mask=None, confidence=array([], dtype=float32), class_id=array([], dtype=int32), tracker_id=None, data={'class_name': array([], dtype=float64)})\n"
     ]
    },
    {
     "name": "stderr",
     "output_type": "stream",
     "text": [
      "0: 480x640 (no detections), 143.2ms\n",
      "Speed: 15.4ms preprocess, 143.2ms inference, 6.9ms postprocess per image at shape (1, 3, 480, 640)\n",
      "\n",
      "0: 480x640 (no detections), 46.5ms\n",
      "Speed: 6.7ms preprocess, 46.5ms inference, 5.5ms postprocess per image at shape (1, 3, 480, 640)\n",
      "\n"
     ]
    },
    {
     "name": "stdout",
     "output_type": "stream",
     "text": [
      "Detections(xyxy=array([], shape=(0, 4), dtype=float32), mask=None, confidence=array([], dtype=float32), class_id=array([], dtype=int32), tracker_id=None, data={'class_name': array([], dtype=float64)})\n",
      "Detections(xyxy=array([], shape=(0, 4), dtype=float32), mask=None, confidence=array([], dtype=float32), class_id=array([], dtype=int32), tracker_id=None, data={'class_name': array([], dtype=float64)})\n"
     ]
    },
    {
     "name": "stderr",
     "output_type": "stream",
     "text": [
      "0: 480x640 (no detections), 86.0ms\n",
      "Speed: 6.9ms preprocess, 86.0ms inference, 9.3ms postprocess per image at shape (1, 3, 480, 640)\n",
      "\n"
     ]
    },
    {
     "name": "stdout",
     "output_type": "stream",
     "text": [
      "Detections(xyxy=array([], shape=(0, 4), dtype=float32), mask=None, confidence=array([], dtype=float32), class_id=array([], dtype=int32), tracker_id=None, data={'class_name': array([], dtype=float64)})\n"
     ]
    },
    {
     "name": "stderr",
     "output_type": "stream",
     "text": [
      "0: 480x640 (no detections), 133.7ms\n",
      "Speed: 7.7ms preprocess, 133.7ms inference, 16.4ms postprocess per image at shape (1, 3, 480, 640)\n",
      "\n",
      "0: 480x640 (no detections), 49.4ms\n",
      "Speed: 0.0ms preprocess, 49.4ms inference, 0.0ms postprocess per image at shape (1, 3, 480, 640)\n",
      "\n"
     ]
    },
    {
     "name": "stdout",
     "output_type": "stream",
     "text": [
      "Detections(xyxy=array([], shape=(0, 4), dtype=float32), mask=None, confidence=array([], dtype=float32), class_id=array([], dtype=int32), tracker_id=None, data={'class_name': array([], dtype=float64)})\n",
      "Detections(xyxy=array([], shape=(0, 4), dtype=float32), mask=None, confidence=array([], dtype=float32), class_id=array([], dtype=int32), tracker_id=None, data={'class_name': array([], dtype=float64)})\n"
     ]
    },
    {
     "name": "stderr",
     "output_type": "stream",
     "text": [
      "0: 480x640 (no detections), 46.2ms\n",
      "Speed: 7.3ms preprocess, 46.2ms inference, 9.9ms postprocess per image at shape (1, 3, 480, 640)\n",
      "\n",
      "0: 480x640 (no detections), 44.8ms\n",
      "Speed: 4.6ms preprocess, 44.8ms inference, 0.0ms postprocess per image at shape (1, 3, 480, 640)\n",
      "\n"
     ]
    },
    {
     "name": "stdout",
     "output_type": "stream",
     "text": [
      "Detections(xyxy=array([], shape=(0, 4), dtype=float32), mask=None, confidence=array([], dtype=float32), class_id=array([], dtype=int32), tracker_id=None, data={'class_name': array([], dtype=float64)})\n",
      "Detections(xyxy=array([], shape=(0, 4), dtype=float32), mask=None, confidence=array([], dtype=float32), class_id=array([], dtype=int32), tracker_id=None, data={'class_name': array([], dtype=float64)})\n"
     ]
    },
    {
     "name": "stderr",
     "output_type": "stream",
     "text": [
      "0: 480x640 (no detections), 47.1ms\n",
      "Speed: 5.3ms preprocess, 47.1ms inference, 4.2ms postprocess per image at shape (1, 3, 480, 640)\n",
      "\n",
      "0: 480x640 (no detections), 43.6ms\n",
      "Speed: 3.8ms preprocess, 43.6ms inference, 10.9ms postprocess per image at shape (1, 3, 480, 640)\n",
      "\n"
     ]
    },
    {
     "name": "stdout",
     "output_type": "stream",
     "text": [
      "Detections(xyxy=array([], shape=(0, 4), dtype=float32), mask=None, confidence=array([], dtype=float32), class_id=array([], dtype=int32), tracker_id=None, data={'class_name': array([], dtype=float64)})\n",
      "Detections(xyxy=array([], shape=(0, 4), dtype=float32), mask=None, confidence=array([], dtype=float32), class_id=array([], dtype=int32), tracker_id=None, data={'class_name': array([], dtype=float64)})\n"
     ]
    },
    {
     "name": "stderr",
     "output_type": "stream",
     "text": [
      "0: 480x640 (no detections), 49.7ms\n",
      "Speed: 1.5ms preprocess, 49.7ms inference, 4.1ms postprocess per image at shape (1, 3, 480, 640)\n",
      "\n",
      "0: 480x640 (no detections), 44.6ms\n",
      "Speed: 4.3ms preprocess, 44.6ms inference, 0.0ms postprocess per image at shape (1, 3, 480, 640)\n",
      "\n"
     ]
    },
    {
     "name": "stdout",
     "output_type": "stream",
     "text": [
      "Detections(xyxy=array([], shape=(0, 4), dtype=float32), mask=None, confidence=array([], dtype=float32), class_id=array([], dtype=int32), tracker_id=None, data={'class_name': array([], dtype=float64)})\n",
      "Detections(xyxy=array([], shape=(0, 4), dtype=float32), mask=None, confidence=array([], dtype=float32), class_id=array([], dtype=int32), tracker_id=None, data={'class_name': array([], dtype=float64)})\n"
     ]
    },
    {
     "name": "stderr",
     "output_type": "stream",
     "text": [
      "0: 480x640 (no detections), 50.3ms\n",
      "Speed: 0.0ms preprocess, 50.3ms inference, 8.2ms postprocess per image at shape (1, 3, 480, 640)\n",
      "\n",
      "0: 480x640 (no detections), 45.4ms\n",
      "Speed: 4.7ms preprocess, 45.4ms inference, 8.3ms postprocess per image at shape (1, 3, 480, 640)\n",
      "\n"
     ]
    },
    {
     "name": "stdout",
     "output_type": "stream",
     "text": [
      "Detections(xyxy=array([], shape=(0, 4), dtype=float32), mask=None, confidence=array([], dtype=float32), class_id=array([], dtype=int32), tracker_id=None, data={'class_name': array([], dtype=float64)})\n",
      "Detections(xyxy=array([], shape=(0, 4), dtype=float32), mask=None, confidence=array([], dtype=float32), class_id=array([], dtype=int32), tracker_id=None, data={'class_name': array([], dtype=float64)})\n"
     ]
    },
    {
     "name": "stderr",
     "output_type": "stream",
     "text": [
      "0: 480x640 (no detections), 46.1ms\n",
      "Speed: 0.0ms preprocess, 46.1ms inference, 11.0ms postprocess per image at shape (1, 3, 480, 640)\n",
      "\n",
      "0: 480x640 (no detections), 39.3ms\n",
      "Speed: 5.1ms preprocess, 39.3ms inference, 0.0ms postprocess per image at shape (1, 3, 480, 640)\n",
      "\n"
     ]
    },
    {
     "name": "stdout",
     "output_type": "stream",
     "text": [
      "Detections(xyxy=array([], shape=(0, 4), dtype=float32), mask=None, confidence=array([], dtype=float32), class_id=array([], dtype=int32), tracker_id=None, data={'class_name': array([], dtype=float64)})\n",
      "Detections(xyxy=array([], shape=(0, 4), dtype=float32), mask=None, confidence=array([], dtype=float32), class_id=array([], dtype=int32), tracker_id=None, data={'class_name': array([], dtype=float64)})\n"
     ]
    },
    {
     "name": "stderr",
     "output_type": "stream",
     "text": [
      "0: 480x640 (no detections), 46.6ms\n",
      "Speed: 7.6ms preprocess, 46.6ms inference, 2.3ms postprocess per image at shape (1, 3, 480, 640)\n",
      "\n",
      "0: 480x640 (no detections), 49.1ms\n",
      "Speed: 4.2ms preprocess, 49.1ms inference, 0.0ms postprocess per image at shape (1, 3, 480, 640)\n",
      "\n",
      "0: 480x640 (no detections), 48.4ms\n"
     ]
    },
    {
     "name": "stdout",
     "output_type": "stream",
     "text": [
      "Detections(xyxy=array([], shape=(0, 4), dtype=float32), mask=None, confidence=array([], dtype=float32), class_id=array([], dtype=int32), tracker_id=None, data={'class_name': array([], dtype=float64)})\n",
      "Detections(xyxy=array([], shape=(0, 4), dtype=float32), mask=None, confidence=array([], dtype=float32), class_id=array([], dtype=int32), tracker_id=None, data={'class_name': array([], dtype=float64)})\n"
     ]
    },
    {
     "name": "stderr",
     "output_type": "stream",
     "text": [
      "Speed: 0.0ms preprocess, 48.4ms inference, 11.7ms postprocess per image at shape (1, 3, 480, 640)\n",
      "\n",
      "0: 480x640 (no detections), 48.8ms\n",
      "Speed: 0.0ms preprocess, 48.8ms inference, 9.6ms postprocess per image at shape (1, 3, 480, 640)\n",
      "\n"
     ]
    },
    {
     "name": "stdout",
     "output_type": "stream",
     "text": [
      "Detections(xyxy=array([], shape=(0, 4), dtype=float32), mask=None, confidence=array([], dtype=float32), class_id=array([], dtype=int32), tracker_id=None, data={'class_name': array([], dtype=float64)})\n",
      "Detections(xyxy=array([], shape=(0, 4), dtype=float32), mask=None, confidence=array([], dtype=float32), class_id=array([], dtype=int32), tracker_id=None, data={'class_name': array([], dtype=float64)})\n"
     ]
    },
    {
     "name": "stderr",
     "output_type": "stream",
     "text": [
      "0: 480x640 (no detections), 45.2ms\n",
      "Speed: 4.4ms preprocess, 45.2ms inference, 7.8ms postprocess per image at shape (1, 3, 480, 640)\n",
      "\n",
      "0: 480x640 (no detections), 46.4ms\n",
      "Speed: 3.9ms preprocess, 46.4ms inference, 3.1ms postprocess per image at shape (1, 3, 480, 640)\n",
      "\n"
     ]
    },
    {
     "name": "stdout",
     "output_type": "stream",
     "text": [
      "Detections(xyxy=array([], shape=(0, 4), dtype=float32), mask=None, confidence=array([], dtype=float32), class_id=array([], dtype=int32), tracker_id=None, data={'class_name': array([], dtype=float64)})\n",
      "Detections(xyxy=array([], shape=(0, 4), dtype=float32), mask=None, confidence=array([], dtype=float32), class_id=array([], dtype=int32), tracker_id=None, data={'class_name': array([], dtype=float64)})\n"
     ]
    },
    {
     "name": "stderr",
     "output_type": "stream",
     "text": [
      "0: 480x640 (no detections), 39.7ms\n",
      "Speed: 6.3ms preprocess, 39.7ms inference, 14.0ms postprocess per image at shape (1, 3, 480, 640)\n",
      "\n",
      "0: 480x640 (no detections), 38.9ms\n",
      "Speed: 6.9ms preprocess, 38.9ms inference, 11.1ms postprocess per image at shape (1, 3, 480, 640)\n",
      "\n"
     ]
    },
    {
     "name": "stdout",
     "output_type": "stream",
     "text": [
      "Detections(xyxy=array([], shape=(0, 4), dtype=float32), mask=None, confidence=array([], dtype=float32), class_id=array([], dtype=int32), tracker_id=None, data={'class_name': array([], dtype=float64)})\n",
      "Detections(xyxy=array([], shape=(0, 4), dtype=float32), mask=None, confidence=array([], dtype=float32), class_id=array([], dtype=int32), tracker_id=None, data={'class_name': array([], dtype=float64)})\n"
     ]
    },
    {
     "name": "stderr",
     "output_type": "stream",
     "text": [
      "0: 480x640 (no detections), 48.2ms\n",
      "Speed: 3.2ms preprocess, 48.2ms inference, 2.8ms postprocess per image at shape (1, 3, 480, 640)\n",
      "\n",
      "0: 480x640 (no detections), 45.6ms\n",
      "Speed: 4.8ms preprocess, 45.6ms inference, 3.8ms postprocess per image at shape (1, 3, 480, 640)\n",
      "\n"
     ]
    },
    {
     "name": "stdout",
     "output_type": "stream",
     "text": [
      "Detections(xyxy=array([], shape=(0, 4), dtype=float32), mask=None, confidence=array([], dtype=float32), class_id=array([], dtype=int32), tracker_id=None, data={'class_name': array([], dtype=float64)})\n",
      "Detections(xyxy=array([], shape=(0, 4), dtype=float32), mask=None, confidence=array([], dtype=float32), class_id=array([], dtype=int32), tracker_id=None, data={'class_name': array([], dtype=float64)})\n"
     ]
    },
    {
     "name": "stderr",
     "output_type": "stream",
     "text": [
      "0: 480x640 (no detections), 42.8ms\n",
      "Speed: 7.2ms preprocess, 42.8ms inference, 7.5ms postprocess per image at shape (1, 3, 480, 640)\n",
      "\n",
      "0: 480x640 (no detections), 47.3ms\n",
      "Speed: 2.7ms preprocess, 47.3ms inference, 0.0ms postprocess per image at shape (1, 3, 480, 640)\n",
      "\n"
     ]
    },
    {
     "name": "stdout",
     "output_type": "stream",
     "text": [
      "Detections(xyxy=array([], shape=(0, 4), dtype=float32), mask=None, confidence=array([], dtype=float32), class_id=array([], dtype=int32), tracker_id=None, data={'class_name': array([], dtype=float64)})\n",
      "Detections(xyxy=array([], shape=(0, 4), dtype=float32), mask=None, confidence=array([], dtype=float32), class_id=array([], dtype=int32), tracker_id=None, data={'class_name': array([], dtype=float64)})\n"
     ]
    },
    {
     "name": "stderr",
     "output_type": "stream",
     "text": [
      "0: 480x640 (no detections), 46.8ms\n",
      "Speed: 0.0ms preprocess, 46.8ms inference, 12.9ms postprocess per image at shape (1, 3, 480, 640)\n",
      "\n",
      "0: 480x640 (no detections), 39.5ms\n",
      "Speed: 6.8ms preprocess, 39.5ms inference, 10.6ms postprocess per image at shape (1, 3, 480, 640)\n",
      "\n"
     ]
    },
    {
     "name": "stdout",
     "output_type": "stream",
     "text": [
      "Detections(xyxy=array([], shape=(0, 4), dtype=float32), mask=None, confidence=array([], dtype=float32), class_id=array([], dtype=int32), tracker_id=None, data={'class_name': array([], dtype=float64)})\n",
      "Detections(xyxy=array([], shape=(0, 4), dtype=float32), mask=None, confidence=array([], dtype=float32), class_id=array([], dtype=int32), tracker_id=None, data={'class_name': array([], dtype=float64)})\n"
     ]
    },
    {
     "name": "stderr",
     "output_type": "stream",
     "text": [
      "0: 480x640 (no detections), 47.7ms\n",
      "Speed: 3.8ms preprocess, 47.7ms inference, 5.9ms postprocess per image at shape (1, 3, 480, 640)\n",
      "\n",
      "0: 480x640 (no detections), 39.4ms\n",
      "Speed: 5.7ms preprocess, 39.4ms inference, 10.4ms postprocess per image at shape (1, 3, 480, 640)\n",
      "\n"
     ]
    },
    {
     "name": "stdout",
     "output_type": "stream",
     "text": [
      "Detections(xyxy=array([], shape=(0, 4), dtype=float32), mask=None, confidence=array([], dtype=float32), class_id=array([], dtype=int32), tracker_id=None, data={'class_name': array([], dtype=float64)})\n",
      "Detections(xyxy=array([], shape=(0, 4), dtype=float32), mask=None, confidence=array([], dtype=float32), class_id=array([], dtype=int32), tracker_id=None, data={'class_name': array([], dtype=float64)})\n"
     ]
    },
    {
     "name": "stderr",
     "output_type": "stream",
     "text": [
      "0: 480x640 (no detections), 47.4ms\n",
      "Speed: 2.3ms preprocess, 47.4ms inference, 2.0ms postprocess per image at shape (1, 3, 480, 640)\n",
      "\n",
      "0: 480x640 (no detections), 49.5ms\n",
      "Speed: 0.0ms preprocess, 49.5ms inference, 8.5ms postprocess per image at shape (1, 3, 480, 640)\n",
      "\n"
     ]
    },
    {
     "name": "stdout",
     "output_type": "stream",
     "text": [
      "Detections(xyxy=array([], shape=(0, 4), dtype=float32), mask=None, confidence=array([], dtype=float32), class_id=array([], dtype=int32), tracker_id=None, data={'class_name': array([], dtype=float64)})\n",
      "Detections(xyxy=array([], shape=(0, 4), dtype=float32), mask=None, confidence=array([], dtype=float32), class_id=array([], dtype=int32), tracker_id=None, data={'class_name': array([], dtype=float64)})\n"
     ]
    },
    {
     "name": "stderr",
     "output_type": "stream",
     "text": [
      "0: 480x640 (no detections), 72.4ms\n",
      "Speed: 3.2ms preprocess, 72.4ms inference, 10.5ms postprocess per image at shape (1, 3, 480, 640)\n",
      "\n"
     ]
    },
    {
     "name": "stdout",
     "output_type": "stream",
     "text": [
      "Detections(xyxy=array([], shape=(0, 4), dtype=float32), mask=None, confidence=array([], dtype=float32), class_id=array([], dtype=int32), tracker_id=None, data={'class_name': array([], dtype=float64)})\n"
     ]
    },
    {
     "name": "stderr",
     "output_type": "stream",
     "text": [
      "0: 480x640 (no detections), 139.4ms\n",
      "Speed: 9.0ms preprocess, 139.4ms inference, 10.2ms postprocess per image at shape (1, 3, 480, 640)\n",
      "\n",
      "0: 480x640 (no detections), 37.0ms\n",
      "Speed: 7.1ms preprocess, 37.0ms inference, 0.0ms postprocess per image at shape (1, 3, 480, 640)\n",
      "\n"
     ]
    },
    {
     "name": "stdout",
     "output_type": "stream",
     "text": [
      "Detections(xyxy=array([], shape=(0, 4), dtype=float32), mask=None, confidence=array([], dtype=float32), class_id=array([], dtype=int32), tracker_id=None, data={'class_name': array([], dtype=float64)})\n",
      "Detections(xyxy=array([], shape=(0, 4), dtype=float32), mask=None, confidence=array([], dtype=float32), class_id=array([], dtype=int32), tracker_id=None, data={'class_name': array([], dtype=float64)})\n"
     ]
    },
    {
     "name": "stderr",
     "output_type": "stream",
     "text": [
      "0: 480x640 (no detections), 46.5ms\n",
      "Speed: 4.5ms preprocess, 46.5ms inference, 8.7ms postprocess per image at shape (1, 3, 480, 640)\n",
      "\n",
      "0: 480x640 (no detections), 47.3ms\n",
      "Speed: 3.8ms preprocess, 47.3ms inference, 2.5ms postprocess per image at shape (1, 3, 480, 640)\n",
      "\n"
     ]
    },
    {
     "name": "stdout",
     "output_type": "stream",
     "text": [
      "Detections(xyxy=array([], shape=(0, 4), dtype=float32), mask=None, confidence=array([], dtype=float32), class_id=array([], dtype=int32), tracker_id=None, data={'class_name': array([], dtype=float64)})\n",
      "Detections(xyxy=array([], shape=(0, 4), dtype=float32), mask=None, confidence=array([], dtype=float32), class_id=array([], dtype=int32), tracker_id=None, data={'class_name': array([], dtype=float64)})\n"
     ]
    },
    {
     "name": "stderr",
     "output_type": "stream",
     "text": [
      "0: 480x640 (no detections), 41.7ms\n",
      "Speed: 5.3ms preprocess, 41.7ms inference, 10.4ms postprocess per image at shape (1, 3, 480, 640)\n",
      "\n",
      "0: 480x640 (no detections), 45.2ms\n",
      "Speed: 4.5ms preprocess, 45.2ms inference, 0.0ms postprocess per image at shape (1, 3, 480, 640)\n",
      "\n"
     ]
    },
    {
     "name": "stdout",
     "output_type": "stream",
     "text": [
      "Detections(xyxy=array([], shape=(0, 4), dtype=float32), mask=None, confidence=array([], dtype=float32), class_id=array([], dtype=int32), tracker_id=None, data={'class_name': array([], dtype=float64)})\n",
      "Detections(xyxy=array([], shape=(0, 4), dtype=float32), mask=None, confidence=array([], dtype=float32), class_id=array([], dtype=int32), tracker_id=None, data={'class_name': array([], dtype=float64)})\n"
     ]
    },
    {
     "name": "stderr",
     "output_type": "stream",
     "text": [
      "0: 480x640 (no detections), 46.7ms\n",
      "Speed: 8.6ms preprocess, 46.7ms inference, 3.6ms postprocess per image at shape (1, 3, 480, 640)\n",
      "\n",
      "0: 480x640 (no detections), 39.1ms\n",
      "Speed: 5.9ms preprocess, 39.1ms inference, 10.5ms postprocess per image at shape (1, 3, 480, 640)\n",
      "\n"
     ]
    },
    {
     "name": "stdout",
     "output_type": "stream",
     "text": [
      "Detections(xyxy=array([], shape=(0, 4), dtype=float32), mask=None, confidence=array([], dtype=float32), class_id=array([], dtype=int32), tracker_id=None, data={'class_name': array([], dtype=float64)})\n",
      "Detections(xyxy=array([], shape=(0, 4), dtype=float32), mask=None, confidence=array([], dtype=float32), class_id=array([], dtype=int32), tracker_id=None, data={'class_name': array([], dtype=float64)})\n"
     ]
    },
    {
     "name": "stderr",
     "output_type": "stream",
     "text": [
      "0: 480x640 (no detections), 72.7ms\n",
      "Speed: 7.7ms preprocess, 72.7ms inference, 28.4ms postprocess per image at shape (1, 3, 480, 640)\n",
      "\n"
     ]
    },
    {
     "name": "stdout",
     "output_type": "stream",
     "text": [
      "Detections(xyxy=array([], shape=(0, 4), dtype=float32), mask=None, confidence=array([], dtype=float32), class_id=array([], dtype=int32), tracker_id=None, data={'class_name': array([], dtype=float64)})\n"
     ]
    },
    {
     "name": "stderr",
     "output_type": "stream",
     "text": [
      "0: 480x640 (no detections), 136.0ms\n",
      "Speed: 10.5ms preprocess, 136.0ms inference, 16.0ms postprocess per image at shape (1, 3, 480, 640)\n",
      "\n",
      "0: 480x640 (no detections), 45.1ms\n",
      "Speed: 5.0ms preprocess, 45.1ms inference, 4.6ms postprocess per image at shape (1, 3, 480, 640)\n",
      "\n"
     ]
    },
    {
     "name": "stdout",
     "output_type": "stream",
     "text": [
      "Detections(xyxy=array([], shape=(0, 4), dtype=float32), mask=None, confidence=array([], dtype=float32), class_id=array([], dtype=int32), tracker_id=None, data={'class_name': array([], dtype=float64)})\n",
      "Detections(xyxy=array([], shape=(0, 4), dtype=float32), mask=None, confidence=array([], dtype=float32), class_id=array([], dtype=int32), tracker_id=None, data={'class_name': array([], dtype=float64)})\n"
     ]
    },
    {
     "name": "stderr",
     "output_type": "stream",
     "text": [
      "0: 480x640 (no detections), 38.0ms\n",
      "Speed: 8.4ms preprocess, 38.0ms inference, 10.8ms postprocess per image at shape (1, 3, 480, 640)\n",
      "\n",
      "0: 480x640 (no detections), 46.3ms\n",
      "Speed: 3.5ms preprocess, 46.3ms inference, 2.5ms postprocess per image at shape (1, 3, 480, 640)\n",
      "\n",
      "0: 480x640 (no detections), 45.8ms\n"
     ]
    },
    {
     "name": "stdout",
     "output_type": "stream",
     "text": [
      "Detections(xyxy=array([], shape=(0, 4), dtype=float32), mask=None, confidence=array([], dtype=float32), class_id=array([], dtype=int32), tracker_id=None, data={'class_name': array([], dtype=float64)})\n",
      "Detections(xyxy=array([], shape=(0, 4), dtype=float32), mask=None, confidence=array([], dtype=float32), class_id=array([], dtype=int32), tracker_id=None, data={'class_name': array([], dtype=float64)})\n"
     ]
    },
    {
     "name": "stderr",
     "output_type": "stream",
     "text": [
      "Speed: 1.9ms preprocess, 45.8ms inference, 0.0ms postprocess per image at shape (1, 3, 480, 640)\n",
      "\n",
      "0: 480x640 (no detections), 46.3ms\n",
      "Speed: 3.4ms preprocess, 46.3ms inference, 8.9ms postprocess per image at shape (1, 3, 480, 640)\n",
      "\n"
     ]
    },
    {
     "name": "stdout",
     "output_type": "stream",
     "text": [
      "Detections(xyxy=array([], shape=(0, 4), dtype=float32), mask=None, confidence=array([], dtype=float32), class_id=array([], dtype=int32), tracker_id=None, data={'class_name': array([], dtype=float64)})\n",
      "Detections(xyxy=array([], shape=(0, 4), dtype=float32), mask=None, confidence=array([], dtype=float32), class_id=array([], dtype=int32), tracker_id=None, data={'class_name': array([], dtype=float64)})\n"
     ]
    },
    {
     "name": "stderr",
     "output_type": "stream",
     "text": [
      "0: 480x640 (no detections), 47.7ms\n",
      "Speed: 7.2ms preprocess, 47.7ms inference, 5.9ms postprocess per image at shape (1, 3, 480, 640)\n",
      "\n",
      "0: 480x640 (no detections), 45.5ms\n",
      "Speed: 4.0ms preprocess, 45.5ms inference, 7.7ms postprocess per image at shape (1, 3, 480, 640)\n",
      "\n"
     ]
    },
    {
     "name": "stdout",
     "output_type": "stream",
     "text": [
      "Detections(xyxy=array([], shape=(0, 4), dtype=float32), mask=None, confidence=array([], dtype=float32), class_id=array([], dtype=int32), tracker_id=None, data={'class_name': array([], dtype=float64)})\n",
      "Detections(xyxy=array([], shape=(0, 4), dtype=float32), mask=None, confidence=array([], dtype=float32), class_id=array([], dtype=int32), tracker_id=None, data={'class_name': array([], dtype=float64)})\n"
     ]
    },
    {
     "name": "stderr",
     "output_type": "stream",
     "text": [
      "0: 480x640 (no detections), 39.6ms\n",
      "Speed: 7.6ms preprocess, 39.6ms inference, 10.5ms postprocess per image at shape (1, 3, 480, 640)\n",
      "\n",
      "0: 480x640 (no detections), 47.4ms\n",
      "Speed: 2.6ms preprocess, 47.4ms inference, 0.0ms postprocess per image at shape (1, 3, 480, 640)\n",
      "\n"
     ]
    },
    {
     "name": "stdout",
     "output_type": "stream",
     "text": [
      "Detections(xyxy=array([], shape=(0, 4), dtype=float32), mask=None, confidence=array([], dtype=float32), class_id=array([], dtype=int32), tracker_id=None, data={'class_name': array([], dtype=float64)})\n",
      "Detections(xyxy=array([], shape=(0, 4), dtype=float32), mask=None, confidence=array([], dtype=float32), class_id=array([], dtype=int32), tracker_id=None, data={'class_name': array([], dtype=float64)})\n"
     ]
    },
    {
     "name": "stderr",
     "output_type": "stream",
     "text": [
      "0: 480x640 (no detections), 47.4ms\n",
      "Speed: 5.1ms preprocess, 47.4ms inference, 10.5ms postprocess per image at shape (1, 3, 480, 640)\n",
      "\n",
      "0: 480x640 (no detections), 47.3ms\n",
      "Speed: 5.8ms preprocess, 47.3ms inference, 8.7ms postprocess per image at shape (1, 3, 480, 640)\n",
      "\n"
     ]
    },
    {
     "name": "stdout",
     "output_type": "stream",
     "text": [
      "Detections(xyxy=array([], shape=(0, 4), dtype=float32), mask=None, confidence=array([], dtype=float32), class_id=array([], dtype=int32), tracker_id=None, data={'class_name': array([], dtype=float64)})\n",
      "Detections(xyxy=array([], shape=(0, 4), dtype=float32), mask=None, confidence=array([], dtype=float32), class_id=array([], dtype=int32), tracker_id=None, data={'class_name': array([], dtype=float64)})\n"
     ]
    },
    {
     "name": "stderr",
     "output_type": "stream",
     "text": [
      "0: 480x640 (no detections), 46.9ms\n",
      "Speed: 0.0ms preprocess, 46.9ms inference, 10.2ms postprocess per image at shape (1, 3, 480, 640)\n",
      "\n",
      "0: 480x640 (no detections), 45.2ms\n",
      "Speed: 4.5ms preprocess, 45.2ms inference, 8.1ms postprocess per image at shape (1, 3, 480, 640)\n",
      "\n"
     ]
    },
    {
     "name": "stdout",
     "output_type": "stream",
     "text": [
      "Detections(xyxy=array([], shape=(0, 4), dtype=float32), mask=None, confidence=array([], dtype=float32), class_id=array([], dtype=int32), tracker_id=None, data={'class_name': array([], dtype=float64)})\n",
      "Detections(xyxy=array([], shape=(0, 4), dtype=float32), mask=None, confidence=array([], dtype=float32), class_id=array([], dtype=int32), tracker_id=None, data={'class_name': array([], dtype=float64)})\n"
     ]
    },
    {
     "name": "stderr",
     "output_type": "stream",
     "text": [
      "0: 480x640 (no detections), 48.5ms\n",
      "Speed: 0.0ms preprocess, 48.5ms inference, 13.2ms postprocess per image at shape (1, 3, 480, 640)\n",
      "\n",
      "0: 480x640 (no detections), 48.8ms\n",
      "Speed: 4.3ms preprocess, 48.8ms inference, 6.1ms postprocess per image at shape (1, 3, 480, 640)\n",
      "\n",
      "0: 480x640 (no detections), 42.2ms\n"
     ]
    },
    {
     "name": "stdout",
     "output_type": "stream",
     "text": [
      "Detections(xyxy=array([], shape=(0, 4), dtype=float32), mask=None, confidence=array([], dtype=float32), class_id=array([], dtype=int32), tracker_id=None, data={'class_name': array([], dtype=float64)})\n",
      "Detections(xyxy=array([], shape=(0, 4), dtype=float32), mask=None, confidence=array([], dtype=float32), class_id=array([], dtype=int32), tracker_id=None, data={'class_name': array([], dtype=float64)})\n"
     ]
    },
    {
     "name": "stderr",
     "output_type": "stream",
     "text": [
      "Speed: 7.1ms preprocess, 42.2ms inference, 0.0ms postprocess per image at shape (1, 3, 480, 640)\n",
      "\n",
      "0: 480x640 (no detections), 66.7ms\n",
      "Speed: 5.1ms preprocess, 66.7ms inference, 0.0ms postprocess per image at shape (1, 3, 480, 640)\n",
      "\n"
     ]
    },
    {
     "name": "stdout",
     "output_type": "stream",
     "text": [
      "Detections(xyxy=array([], shape=(0, 4), dtype=float32), mask=None, confidence=array([], dtype=float32), class_id=array([], dtype=int32), tracker_id=None, data={'class_name': array([], dtype=float64)})\n",
      "Detections(xyxy=array([], shape=(0, 4), dtype=float32), mask=None, confidence=array([], dtype=float32), class_id=array([], dtype=int32), tracker_id=None, data={'class_name': array([], dtype=float64)})\n"
     ]
    },
    {
     "name": "stderr",
     "output_type": "stream",
     "text": [
      "0: 480x640 (no detections), 94.4ms\n",
      "Speed: 7.7ms preprocess, 94.4ms inference, 5.5ms postprocess per image at shape (1, 3, 480, 640)\n",
      "\n",
      "0: 480x640 (no detections), 50.5ms\n",
      "Speed: 0.0ms preprocess, 50.5ms inference, 9.0ms postprocess per image at shape (1, 3, 480, 640)\n",
      "\n"
     ]
    },
    {
     "name": "stdout",
     "output_type": "stream",
     "text": [
      "Detections(xyxy=array([], shape=(0, 4), dtype=float32), mask=None, confidence=array([], dtype=float32), class_id=array([], dtype=int32), tracker_id=None, data={'class_name': array([], dtype=float64)})\n",
      "Detections(xyxy=array([], shape=(0, 4), dtype=float32), mask=None, confidence=array([], dtype=float32), class_id=array([], dtype=int32), tracker_id=None, data={'class_name': array([], dtype=float64)})\n"
     ]
    },
    {
     "name": "stderr",
     "output_type": "stream",
     "text": [
      "0: 480x640 (no detections), 45.1ms\n",
      "Speed: 4.7ms preprocess, 45.1ms inference, 3.0ms postprocess per image at shape (1, 3, 480, 640)\n",
      "\n",
      "0: 480x640 (no detections), 45.4ms\n",
      "Speed: 5.2ms preprocess, 45.4ms inference, 8.9ms postprocess per image at shape (1, 3, 480, 640)\n",
      "\n"
     ]
    },
    {
     "name": "stdout",
     "output_type": "stream",
     "text": [
      "Detections(xyxy=array([], shape=(0, 4), dtype=float32), mask=None, confidence=array([], dtype=float32), class_id=array([], dtype=int32), tracker_id=None, data={'class_name': array([], dtype=float64)})\n",
      "Detections(xyxy=array([], shape=(0, 4), dtype=float32), mask=None, confidence=array([], dtype=float32), class_id=array([], dtype=int32), tracker_id=None, data={'class_name': array([], dtype=float64)})\n"
     ]
    },
    {
     "name": "stderr",
     "output_type": "stream",
     "text": [
      "0: 480x640 (no detections), 47.9ms\n",
      "Speed: 7.2ms preprocess, 47.9ms inference, 1.8ms postprocess per image at shape (1, 3, 480, 640)\n",
      "\n",
      "0: 480x640 (no detections), 39.6ms\n",
      "Speed: 7.2ms preprocess, 39.6ms inference, 12.3ms postprocess per image at shape (1, 3, 480, 640)\n",
      "\n"
     ]
    },
    {
     "name": "stdout",
     "output_type": "stream",
     "text": [
      "Detections(xyxy=array([], shape=(0, 4), dtype=float32), mask=None, confidence=array([], dtype=float32), class_id=array([], dtype=int32), tracker_id=None, data={'class_name': array([], dtype=float64)})\n",
      "Detections(xyxy=array([], shape=(0, 4), dtype=float32), mask=None, confidence=array([], dtype=float32), class_id=array([], dtype=int32), tracker_id=None, data={'class_name': array([], dtype=float64)})\n"
     ]
    },
    {
     "name": "stderr",
     "output_type": "stream",
     "text": [
      "0: 480x640 (no detections), 40.3ms\n",
      "Speed: 7.3ms preprocess, 40.3ms inference, 13.5ms postprocess per image at shape (1, 3, 480, 640)\n",
      "\n",
      "0: 480x640 (no detections), 50.8ms\n",
      "Speed: 4.7ms preprocess, 50.8ms inference, 2.0ms postprocess per image at shape (1, 3, 480, 640)\n",
      "\n"
     ]
    },
    {
     "name": "stdout",
     "output_type": "stream",
     "text": [
      "Detections(xyxy=array([], shape=(0, 4), dtype=float32), mask=None, confidence=array([], dtype=float32), class_id=array([], dtype=int32), tracker_id=None, data={'class_name': array([], dtype=float64)})\n",
      "Detections(xyxy=array([], shape=(0, 4), dtype=float32), mask=None, confidence=array([], dtype=float32), class_id=array([], dtype=int32), tracker_id=None, data={'class_name': array([], dtype=float64)})\n"
     ]
    },
    {
     "name": "stderr",
     "output_type": "stream",
     "text": [
      "0: 480x640 (no detections), 46.9ms\n",
      "Speed: 5.7ms preprocess, 46.9ms inference, 3.1ms postprocess per image at shape (1, 3, 480, 640)\n",
      "\n",
      "0: 480x640 (no detections), 45.2ms\n",
      "Speed: 8.2ms preprocess, 45.2ms inference, 6.1ms postprocess per image at shape (1, 3, 480, 640)\n",
      "\n"
     ]
    },
    {
     "name": "stdout",
     "output_type": "stream",
     "text": [
      "Detections(xyxy=array([], shape=(0, 4), dtype=float32), mask=None, confidence=array([], dtype=float32), class_id=array([], dtype=int32), tracker_id=None, data={'class_name': array([], dtype=float64)})\n",
      "Detections(xyxy=array([], shape=(0, 4), dtype=float32), mask=None, confidence=array([], dtype=float32), class_id=array([], dtype=int32), tracker_id=None, data={'class_name': array([], dtype=float64)})\n"
     ]
    },
    {
     "name": "stderr",
     "output_type": "stream",
     "text": [
      "0: 480x640 (no detections), 40.3ms\n",
      "Speed: 4.7ms preprocess, 40.3ms inference, 0.0ms postprocess per image at shape (1, 3, 480, 640)\n",
      "\n",
      "0: 480x640 (no detections), 43.3ms\n",
      "Speed: 2.7ms preprocess, 43.3ms inference, 7.1ms postprocess per image at shape (1, 3, 480, 640)\n",
      "\n"
     ]
    },
    {
     "name": "stdout",
     "output_type": "stream",
     "text": [
      "Detections(xyxy=array([], shape=(0, 4), dtype=float32), mask=None, confidence=array([], dtype=float32), class_id=array([], dtype=int32), tracker_id=None, data={'class_name': array([], dtype=float64)})\n",
      "Detections(xyxy=array([], shape=(0, 4), dtype=float32), mask=None, confidence=array([], dtype=float32), class_id=array([], dtype=int32), tracker_id=None, data={'class_name': array([], dtype=float64)})\n"
     ]
    },
    {
     "name": "stderr",
     "output_type": "stream",
     "text": [
      "0: 480x640 (no detections), 45.1ms\n",
      "Speed: 4.5ms preprocess, 45.1ms inference, 10.6ms postprocess per image at shape (1, 3, 480, 640)\n",
      "\n",
      "0: 480x640 (no detections), 49.4ms\n",
      "Speed: 0.0ms preprocess, 49.4ms inference, 10.4ms postprocess per image at shape (1, 3, 480, 640)\n",
      "\n"
     ]
    },
    {
     "name": "stdout",
     "output_type": "stream",
     "text": [
      "Detections(xyxy=array([], shape=(0, 4), dtype=float32), mask=None, confidence=array([], dtype=float32), class_id=array([], dtype=int32), tracker_id=None, data={'class_name': array([], dtype=float64)})\n",
      "Detections(xyxy=array([], shape=(0, 4), dtype=float32), mask=None, confidence=array([], dtype=float32), class_id=array([], dtype=int32), tracker_id=None, data={'class_name': array([], dtype=float64)})\n"
     ]
    },
    {
     "name": "stderr",
     "output_type": "stream",
     "text": [
      "0: 480x640 (no detections), 47.0ms\n",
      "Speed: 1.2ms preprocess, 47.0ms inference, 3.1ms postprocess per image at shape (1, 3, 480, 640)\n",
      "\n",
      "0: 480x640 (no detections), 39.4ms\n",
      "Speed: 7.3ms preprocess, 39.4ms inference, 8.0ms postprocess per image at shape (1, 3, 480, 640)\n",
      "\n"
     ]
    },
    {
     "name": "stdout",
     "output_type": "stream",
     "text": [
      "Detections(xyxy=array([], shape=(0, 4), dtype=float32), mask=None, confidence=array([], dtype=float32), class_id=array([], dtype=int32), tracker_id=None, data={'class_name': array([], dtype=float64)})\n",
      "Detections(xyxy=array([], shape=(0, 4), dtype=float32), mask=None, confidence=array([], dtype=float32), class_id=array([], dtype=int32), tracker_id=None, data={'class_name': array([], dtype=float64)})\n"
     ]
    },
    {
     "name": "stderr",
     "output_type": "stream",
     "text": [
      "0: 480x640 (no detections), 48.0ms\n",
      "Speed: 0.0ms preprocess, 48.0ms inference, 13.8ms postprocess per image at shape (1, 3, 480, 640)\n",
      "\n",
      "0: 480x640 (no detections), 114.8ms\n",
      "Speed: 3.6ms preprocess, 114.8ms inference, 9.4ms postprocess per image at shape (1, 3, 480, 640)\n"
     ]
    },
    {
     "name": "stdout",
     "output_type": "stream",
     "text": [
      "Detections(xyxy=array([], shape=(0, 4), dtype=float32), mask=None, confidence=array([], dtype=float32), class_id=array([], dtype=int32), tracker_id=None, data={'class_name': array([], dtype=float64)})\n",
      "Detections(xyxy=array([], shape=(0, 4), dtype=float32), mask=None, confidence=array([], dtype=float32), class_id=array([], dtype=int32), tracker_id=None, data={'class_name': array([], dtype=float64)})\n"
     ]
    },
    {
     "name": "stderr",
     "output_type": "stream",
     "text": [
      "\n",
      "0: 480x640 (no detections), 136.5ms\n",
      "Speed: 6.3ms preprocess, 136.5ms inference, 15.7ms postprocess per image at shape (1, 3, 480, 640)\n",
      "\n"
     ]
    },
    {
     "name": "stdout",
     "output_type": "stream",
     "text": [
      "Detections(xyxy=array([], shape=(0, 4), dtype=float32), mask=None, confidence=array([], dtype=float32), class_id=array([], dtype=int32), tracker_id=None, data={'class_name': array([], dtype=float64)})\n"
     ]
    },
    {
     "name": "stderr",
     "output_type": "stream",
     "text": [
      "0: 480x640 (no detections), 140.5ms\n",
      "Speed: 9.2ms preprocess, 140.5ms inference, 5.4ms postprocess per image at shape (1, 3, 480, 640)\n",
      "\n",
      "0: 480x640 (no detections), 140.3ms\n"
     ]
    },
    {
     "name": "stdout",
     "output_type": "stream",
     "text": [
      "Detections(xyxy=array([], shape=(0, 4), dtype=float32), mask=None, confidence=array([], dtype=float32), class_id=array([], dtype=int32), tracker_id=None, data={'class_name': array([], dtype=float64)})\n"
     ]
    },
    {
     "name": "stderr",
     "output_type": "stream",
     "text": [
      "Speed: 10.2ms preprocess, 140.3ms inference, 10.7ms postprocess per image at shape (1, 3, 480, 640)\n",
      "\n"
     ]
    },
    {
     "name": "stdout",
     "output_type": "stream",
     "text": [
      "Detections(xyxy=array([], shape=(0, 4), dtype=float32), mask=None, confidence=array([], dtype=float32), class_id=array([], dtype=int32), tracker_id=None, data={'class_name': array([], dtype=float64)})\n"
     ]
    },
    {
     "name": "stderr",
     "output_type": "stream",
     "text": [
      "0: 480x640 (no detections), 132.9ms\n",
      "Speed: 11.6ms preprocess, 132.9ms inference, 17.3ms postprocess per image at shape (1, 3, 480, 640)\n",
      "\n",
      "0: 480x640 (no detections), 57.4ms\n",
      "Speed: 0.0ms preprocess, 57.4ms inference, 7.0ms postprocess per image at shape (1, 3, 480, 640)\n",
      "\n"
     ]
    },
    {
     "name": "stdout",
     "output_type": "stream",
     "text": [
      "Detections(xyxy=array([], shape=(0, 4), dtype=float32), mask=None, confidence=array([], dtype=float32), class_id=array([], dtype=int32), tracker_id=None, data={'class_name': array([], dtype=float64)})\n",
      "Detections(xyxy=array([], shape=(0, 4), dtype=float32), mask=None, confidence=array([], dtype=float32), class_id=array([], dtype=int32), tracker_id=None, data={'class_name': array([], dtype=float64)})\n"
     ]
    },
    {
     "name": "stderr",
     "output_type": "stream",
     "text": [
      "0: 480x640 (no detections), 39.4ms\n",
      "Speed: 4.6ms preprocess, 39.4ms inference, 16.7ms postprocess per image at shape (1, 3, 480, 640)\n",
      "\n",
      "0: 480x640 (no detections), 46.2ms\n",
      "Speed: 3.8ms preprocess, 46.2ms inference, 7.2ms postprocess per image at shape (1, 3, 480, 640)\n",
      "\n"
     ]
    },
    {
     "name": "stdout",
     "output_type": "stream",
     "text": [
      "Detections(xyxy=array([], shape=(0, 4), dtype=float32), mask=None, confidence=array([], dtype=float32), class_id=array([], dtype=int32), tracker_id=None, data={'class_name': array([], dtype=float64)})\n",
      "Detections(xyxy=array([], shape=(0, 4), dtype=float32), mask=None, confidence=array([], dtype=float32), class_id=array([], dtype=int32), tracker_id=None, data={'class_name': array([], dtype=float64)})\n"
     ]
    },
    {
     "name": "stderr",
     "output_type": "stream",
     "text": [
      "0: 480x640 (no detections), 46.6ms\n",
      "Speed: 3.0ms preprocess, 46.6ms inference, 3.0ms postprocess per image at shape (1, 3, 480, 640)\n",
      "\n",
      "0: 480x640 (no detections), 46.5ms\n",
      "Speed: 6.4ms preprocess, 46.5ms inference, 3.5ms postprocess per image at shape (1, 3, 480, 640)\n",
      "\n"
     ]
    },
    {
     "name": "stdout",
     "output_type": "stream",
     "text": [
      "Detections(xyxy=array([], shape=(0, 4), dtype=float32), mask=None, confidence=array([], dtype=float32), class_id=array([], dtype=int32), tracker_id=None, data={'class_name': array([], dtype=float64)})\n",
      "Detections(xyxy=array([], shape=(0, 4), dtype=float32), mask=None, confidence=array([], dtype=float32), class_id=array([], dtype=int32), tracker_id=None, data={'class_name': array([], dtype=float64)})\n"
     ]
    },
    {
     "name": "stderr",
     "output_type": "stream",
     "text": [
      "0: 480x640 (no detections), 45.8ms\n",
      "Speed: 3.3ms preprocess, 45.8ms inference, 19.2ms postprocess per image at shape (1, 3, 480, 640)\n",
      "\n"
     ]
    },
    {
     "name": "stdout",
     "output_type": "stream",
     "text": [
      "Detections(xyxy=array([], shape=(0, 4), dtype=float32), mask=None, confidence=array([], dtype=float32), class_id=array([], dtype=int32), tracker_id=None, data={'class_name': array([], dtype=float64)})\n"
     ]
    },
    {
     "name": "stderr",
     "output_type": "stream",
     "text": [
      "0: 480x640 (no detections), 140.5ms\n",
      "Speed: 9.9ms preprocess, 140.5ms inference, 6.1ms postprocess per image at shape (1, 3, 480, 640)\n",
      "\n",
      "0: 480x640 (no detections), 134.9ms\n"
     ]
    },
    {
     "name": "stdout",
     "output_type": "stream",
     "text": [
      "Detections(xyxy=array([], shape=(0, 4), dtype=float32), mask=None, confidence=array([], dtype=float32), class_id=array([], dtype=int32), tracker_id=None, data={'class_name': array([], dtype=float64)})\n"
     ]
    },
    {
     "name": "stderr",
     "output_type": "stream",
     "text": [
      "Speed: 9.4ms preprocess, 134.9ms inference, 0.0ms postprocess per image at shape (1, 3, 480, 640)\n",
      "\n"
     ]
    },
    {
     "name": "stdout",
     "output_type": "stream",
     "text": [
      "Detections(xyxy=array([], shape=(0, 4), dtype=float32), mask=None, confidence=array([], dtype=float32), class_id=array([], dtype=int32), tracker_id=None, data={'class_name': array([], dtype=float64)})\n"
     ]
    },
    {
     "name": "stderr",
     "output_type": "stream",
     "text": [
      "0: 480x640 (no detections), 146.8ms\n",
      "Speed: 9.6ms preprocess, 146.8ms inference, 5.0ms postprocess per image at shape (1, 3, 480, 640)\n",
      "\n",
      "0: 480x640 (no detections), 45.3ms\n",
      "Speed: 5.1ms preprocess, 45.3ms inference, 4.6ms postprocess per image at shape (1, 3, 480, 640)\n",
      "\n"
     ]
    },
    {
     "name": "stdout",
     "output_type": "stream",
     "text": [
      "Detections(xyxy=array([], shape=(0, 4), dtype=float32), mask=None, confidence=array([], dtype=float32), class_id=array([], dtype=int32), tracker_id=None, data={'class_name': array([], dtype=float64)})\n",
      "Detections(xyxy=array([], shape=(0, 4), dtype=float32), mask=None, confidence=array([], dtype=float32), class_id=array([], dtype=int32), tracker_id=None, data={'class_name': array([], dtype=float64)})\n"
     ]
    },
    {
     "name": "stderr",
     "output_type": "stream",
     "text": [
      "0: 480x640 (no detections), 43.2ms\n",
      "Speed: 7.3ms preprocess, 43.2ms inference, 7.0ms postprocess per image at shape (1, 3, 480, 640)\n",
      "\n",
      "0: 480x640 (no detections), 42.8ms\n",
      "Speed: 4.1ms preprocess, 42.8ms inference, 7.0ms postprocess per image at shape (1, 3, 480, 640)\n",
      "\n",
      "0: 480x640 (no detections), 44.2ms\n"
     ]
    },
    {
     "name": "stdout",
     "output_type": "stream",
     "text": [
      "Detections(xyxy=array([], shape=(0, 4), dtype=float32), mask=None, confidence=array([], dtype=float32), class_id=array([], dtype=int32), tracker_id=None, data={'class_name': array([], dtype=float64)})\n",
      "Detections(xyxy=array([], shape=(0, 4), dtype=float32), mask=None, confidence=array([], dtype=float32), class_id=array([], dtype=int32), tracker_id=None, data={'class_name': array([], dtype=float64)})\n"
     ]
    },
    {
     "name": "stderr",
     "output_type": "stream",
     "text": [
      "Speed: 4.5ms preprocess, 44.2ms inference, 0.0ms postprocess per image at shape (1, 3, 480, 640)\n",
      "\n",
      "0: 480x640 (no detections), 45.6ms\n",
      "Speed: 4.5ms preprocess, 45.6ms inference, 8.0ms postprocess per image at shape (1, 3, 480, 640)\n",
      "\n"
     ]
    },
    {
     "name": "stdout",
     "output_type": "stream",
     "text": [
      "Detections(xyxy=array([], shape=(0, 4), dtype=float32), mask=None, confidence=array([], dtype=float32), class_id=array([], dtype=int32), tracker_id=None, data={'class_name': array([], dtype=float64)})\n",
      "Detections(xyxy=array([], shape=(0, 4), dtype=float32), mask=None, confidence=array([], dtype=float32), class_id=array([], dtype=int32), tracker_id=None, data={'class_name': array([], dtype=float64)})\n"
     ]
    },
    {
     "name": "stderr",
     "output_type": "stream",
     "text": [
      "0: 480x640 (no detections), 48.0ms\n",
      "Speed: 0.0ms preprocess, 48.0ms inference, 10.1ms postprocess per image at shape (1, 3, 480, 640)\n",
      "\n",
      "0: 480x640 (no detections), 46.5ms\n",
      "Speed: 3.1ms preprocess, 46.5ms inference, 6.9ms postprocess per image at shape (1, 3, 480, 640)\n",
      "\n"
     ]
    },
    {
     "name": "stdout",
     "output_type": "stream",
     "text": [
      "Detections(xyxy=array([], shape=(0, 4), dtype=float32), mask=None, confidence=array([], dtype=float32), class_id=array([], dtype=int32), tracker_id=None, data={'class_name': array([], dtype=float64)})\n",
      "Detections(xyxy=array([], shape=(0, 4), dtype=float32), mask=None, confidence=array([], dtype=float32), class_id=array([], dtype=int32), tracker_id=None, data={'class_name': array([], dtype=float64)})\n"
     ]
    },
    {
     "name": "stderr",
     "output_type": "stream",
     "text": [
      "0: 480x640 (no detections), 40.3ms\n",
      "Speed: 7.1ms preprocess, 40.3ms inference, 10.7ms postprocess per image at shape (1, 3, 480, 640)\n",
      "\n",
      "0: 480x640 (no detections), 42.7ms\n",
      "Speed: 8.1ms preprocess, 42.7ms inference, 8.1ms postprocess per image at shape (1, 3, 480, 640)\n",
      "\n"
     ]
    },
    {
     "name": "stdout",
     "output_type": "stream",
     "text": [
      "Detections(xyxy=array([], shape=(0, 4), dtype=float32), mask=None, confidence=array([], dtype=float32), class_id=array([], dtype=int32), tracker_id=None, data={'class_name': array([], dtype=float64)})\n",
      "Detections(xyxy=array([], shape=(0, 4), dtype=float32), mask=None, confidence=array([], dtype=float32), class_id=array([], dtype=int32), tracker_id=None, data={'class_name': array([], dtype=float64)})\n"
     ]
    },
    {
     "name": "stderr",
     "output_type": "stream",
     "text": [
      "0: 480x640 (no detections), 46.6ms\n",
      "Speed: 0.0ms preprocess, 46.6ms inference, 12.2ms postprocess per image at shape (1, 3, 480, 640)\n",
      "\n",
      "0: 480x640 (no detections), 72.5ms\n",
      "Speed: 6.2ms preprocess, 72.5ms inference, 5.6ms postprocess per image at shape (1, 3, 480, 640)\n",
      "\n"
     ]
    },
    {
     "name": "stdout",
     "output_type": "stream",
     "text": [
      "Detections(xyxy=array([], shape=(0, 4), dtype=float32), mask=None, confidence=array([], dtype=float32), class_id=array([], dtype=int32), tracker_id=None, data={'class_name': array([], dtype=float64)})\n",
      "Detections(xyxy=array([], shape=(0, 4), dtype=float32), mask=None, confidence=array([], dtype=float32), class_id=array([], dtype=int32), tracker_id=None, data={'class_name': array([], dtype=float64)})\n"
     ]
    },
    {
     "name": "stderr",
     "output_type": "stream",
     "text": [
      "0: 480x640 (no detections), 138.9ms\n",
      "Speed: 9.5ms preprocess, 138.9ms inference, 12.2ms postprocess per image at shape (1, 3, 480, 640)\n",
      "\n"
     ]
    },
    {
     "name": "stdout",
     "output_type": "stream",
     "text": [
      "Detections(xyxy=array([], shape=(0, 4), dtype=float32), mask=None, confidence=array([], dtype=float32), class_id=array([], dtype=int32), tracker_id=None, data={'class_name': array([], dtype=float64)})\n"
     ]
    },
    {
     "name": "stderr",
     "output_type": "stream",
     "text": [
      "0: 480x640 (no detections), 138.4ms\n",
      "Speed: 9.5ms preprocess, 138.4ms inference, 5.2ms postprocess per image at shape (1, 3, 480, 640)\n",
      "\n",
      "0: 480x640 (no detections), 54.8ms\n",
      "Speed: 4.5ms preprocess, 54.8ms inference, 1.7ms postprocess per image at shape (1, 3, 480, 640)\n",
      "\n"
     ]
    },
    {
     "name": "stdout",
     "output_type": "stream",
     "text": [
      "Detections(xyxy=array([], shape=(0, 4), dtype=float32), mask=None, confidence=array([], dtype=float32), class_id=array([], dtype=int32), tracker_id=None, data={'class_name': array([], dtype=float64)})\n",
      "Detections(xyxy=array([], shape=(0, 4), dtype=float32), mask=None, confidence=array([], dtype=float32), class_id=array([], dtype=int32), tracker_id=None, data={'class_name': array([], dtype=float64)})\n"
     ]
    },
    {
     "name": "stderr",
     "output_type": "stream",
     "text": [
      "0: 480x640 (no detections), 48.9ms\n",
      "Speed: 5.2ms preprocess, 48.9ms inference, 8.3ms postprocess per image at shape (1, 3, 480, 640)\n",
      "\n",
      "0: 480x640 (no detections), 46.3ms\n",
      "Speed: 3.3ms preprocess, 46.3ms inference, 8.0ms postprocess per image at shape (1, 3, 480, 640)\n",
      "\n"
     ]
    },
    {
     "name": "stdout",
     "output_type": "stream",
     "text": [
      "Detections(xyxy=array([], shape=(0, 4), dtype=float32), mask=None, confidence=array([], dtype=float32), class_id=array([], dtype=int32), tracker_id=None, data={'class_name': array([], dtype=float64)})\n",
      "Detections(xyxy=array([], shape=(0, 4), dtype=float32), mask=None, confidence=array([], dtype=float32), class_id=array([], dtype=int32), tracker_id=None, data={'class_name': array([], dtype=float64)})\n"
     ]
    },
    {
     "name": "stderr",
     "output_type": "stream",
     "text": [
      "0: 480x640 (no detections), 49.1ms\n",
      "Speed: 0.0ms preprocess, 49.1ms inference, 9.5ms postprocess per image at shape (1, 3, 480, 640)\n",
      "\n",
      "0: 480x640 (no detections), 44.0ms\n",
      "Speed: 3.8ms preprocess, 44.0ms inference, 12.6ms postprocess per image at shape (1, 3, 480, 640)\n",
      "\n"
     ]
    },
    {
     "name": "stdout",
     "output_type": "stream",
     "text": [
      "Detections(xyxy=array([], shape=(0, 4), dtype=float32), mask=None, confidence=array([], dtype=float32), class_id=array([], dtype=int32), tracker_id=None, data={'class_name': array([], dtype=float64)})\n",
      "Detections(xyxy=array([], shape=(0, 4), dtype=float32), mask=None, confidence=array([], dtype=float32), class_id=array([], dtype=int32), tracker_id=None, data={'class_name': array([], dtype=float64)})\n"
     ]
    },
    {
     "name": "stderr",
     "output_type": "stream",
     "text": [
      "0: 480x640 (no detections), 50.9ms\n",
      "Speed: 3.7ms preprocess, 50.9ms inference, 6.9ms postprocess per image at shape (1, 3, 480, 640)\n",
      "\n",
      "0: 480x640 (no detections), 47.1ms\n",
      "Speed: 1.5ms preprocess, 47.1ms inference, 2.0ms postprocess per image at shape (1, 3, 480, 640)\n",
      "\n",
      "0: 480x640 (no detections), 40.7ms\n"
     ]
    },
    {
     "name": "stdout",
     "output_type": "stream",
     "text": [
      "Detections(xyxy=array([], shape=(0, 4), dtype=float32), mask=None, confidence=array([], dtype=float32), class_id=array([], dtype=int32), tracker_id=None, data={'class_name': array([], dtype=float64)})\n",
      "Detections(xyxy=array([], shape=(0, 4), dtype=float32), mask=None, confidence=array([], dtype=float32), class_id=array([], dtype=int32), tracker_id=None, data={'class_name': array([], dtype=float64)})\n"
     ]
    },
    {
     "name": "stderr",
     "output_type": "stream",
     "text": [
      "Speed: 6.0ms preprocess, 40.7ms inference, 13.0ms postprocess per image at shape (1, 3, 480, 640)\n",
      "\n",
      "0: 480x640 (no detections), 47.4ms\n",
      "Speed: 0.0ms preprocess, 47.4ms inference, 13.3ms postprocess per image at shape (1, 3, 480, 640)\n",
      "\n"
     ]
    },
    {
     "name": "stdout",
     "output_type": "stream",
     "text": [
      "Detections(xyxy=array([], shape=(0, 4), dtype=float32), mask=None, confidence=array([], dtype=float32), class_id=array([], dtype=int32), tracker_id=None, data={'class_name': array([], dtype=float64)})\n",
      "Detections(xyxy=array([], shape=(0, 4), dtype=float32), mask=None, confidence=array([], dtype=float32), class_id=array([], dtype=int32), tracker_id=None, data={'class_name': array([], dtype=float64)})\n"
     ]
    },
    {
     "name": "stderr",
     "output_type": "stream",
     "text": [
      "0: 480x640 (no detections), 50.2ms\n",
      "Speed: 4.1ms preprocess, 50.2ms inference, 7.7ms postprocess per image at shape (1, 3, 480, 640)\n",
      "\n",
      "0: 480x640 (no detections), 41.0ms\n",
      "Speed: 7.6ms preprocess, 41.0ms inference, 8.9ms postprocess per image at shape (1, 3, 480, 640)\n",
      "\n"
     ]
    },
    {
     "name": "stdout",
     "output_type": "stream",
     "text": [
      "Detections(xyxy=array([], shape=(0, 4), dtype=float32), mask=None, confidence=array([], dtype=float32), class_id=array([], dtype=int32), tracker_id=None, data={'class_name': array([], dtype=float64)})\n",
      "Detections(xyxy=array([], shape=(0, 4), dtype=float32), mask=None, confidence=array([], dtype=float32), class_id=array([], dtype=int32), tracker_id=None, data={'class_name': array([], dtype=float64)})\n"
     ]
    },
    {
     "name": "stderr",
     "output_type": "stream",
     "text": [
      "0: 480x640 (no detections), 48.9ms\n",
      "Speed: 5.4ms preprocess, 48.9ms inference, 1.8ms postprocess per image at shape (1, 3, 480, 640)\n",
      "\n",
      "0: 480x640 (no detections), 45.9ms\n",
      "Speed: 5.4ms preprocess, 45.9ms inference, 4.0ms postprocess per image at shape (1, 3, 480, 640)\n",
      "\n",
      "0: 480x640 (no detections), 40.4ms\n"
     ]
    },
    {
     "name": "stdout",
     "output_type": "stream",
     "text": [
      "Detections(xyxy=array([], shape=(0, 4), dtype=float32), mask=None, confidence=array([], dtype=float32), class_id=array([], dtype=int32), tracker_id=None, data={'class_name': array([], dtype=float64)})\n",
      "Detections(xyxy=array([], shape=(0, 4), dtype=float32), mask=None, confidence=array([], dtype=float32), class_id=array([], dtype=int32), tracker_id=None, data={'class_name': array([], dtype=float64)})\n"
     ]
    },
    {
     "name": "stderr",
     "output_type": "stream",
     "text": [
      "Speed: 7.0ms preprocess, 40.4ms inference, 0.0ms postprocess per image at shape (1, 3, 480, 640)\n",
      "\n",
      "0: 480x640 (no detections), 48.2ms\n",
      "Speed: 0.0ms preprocess, 48.2ms inference, 8.9ms postprocess per image at shape (1, 3, 480, 640)\n",
      "\n"
     ]
    },
    {
     "name": "stdout",
     "output_type": "stream",
     "text": [
      "Detections(xyxy=array([], shape=(0, 4), dtype=float32), mask=None, confidence=array([], dtype=float32), class_id=array([], dtype=int32), tracker_id=None, data={'class_name': array([], dtype=float64)})\n",
      "Detections(xyxy=array([], shape=(0, 4), dtype=float32), mask=None, confidence=array([], dtype=float32), class_id=array([], dtype=int32), tracker_id=None, data={'class_name': array([], dtype=float64)})\n"
     ]
    },
    {
     "name": "stderr",
     "output_type": "stream",
     "text": [
      "0: 480x640 (no detections), 88.6ms\n",
      "Speed: 5.3ms preprocess, 88.6ms inference, 10.0ms postprocess per image at shape (1, 3, 480, 640)\n",
      "\n"
     ]
    },
    {
     "name": "stdout",
     "output_type": "stream",
     "text": [
      "Detections(xyxy=array([], shape=(0, 4), dtype=float32), mask=None, confidence=array([], dtype=float32), class_id=array([], dtype=int32), tracker_id=None, data={'class_name': array([], dtype=float64)})\n"
     ]
    },
    {
     "name": "stderr",
     "output_type": "stream",
     "text": [
      "0: 480x640 (no detections), 141.2ms\n",
      "Speed: 7.6ms preprocess, 141.2ms inference, 15.6ms postprocess per image at shape (1, 3, 480, 640)\n",
      "\n"
     ]
    },
    {
     "name": "stdout",
     "output_type": "stream",
     "text": [
      "Detections(xyxy=array([], shape=(0, 4), dtype=float32), mask=None, confidence=array([], dtype=float32), class_id=array([], dtype=int32), tracker_id=None, data={'class_name': array([], dtype=float64)})\n"
     ]
    },
    {
     "name": "stderr",
     "output_type": "stream",
     "text": [
      "0: 480x640 (no detections), 140.6ms\n",
      "Speed: 8.9ms preprocess, 140.6ms inference, 7.9ms postprocess per image at shape (1, 3, 480, 640)\n",
      "\n"
     ]
    },
    {
     "name": "stdout",
     "output_type": "stream",
     "text": [
      "Detections(xyxy=array([], shape=(0, 4), dtype=float32), mask=None, confidence=array([], dtype=float32), class_id=array([], dtype=int32), tracker_id=None, data={'class_name': array([], dtype=float64)})\n"
     ]
    },
    {
     "name": "stderr",
     "output_type": "stream",
     "text": [
      "0: 480x640 (no detections), 139.4ms\n",
      "Speed: 9.1ms preprocess, 139.4ms inference, 11.5ms postprocess per image at shape (1, 3, 480, 640)\n",
      "\n",
      "0: 480x640 (no detections), 47.7ms\n",
      "Speed: 0.0ms preprocess, 47.7ms inference, 9.3ms postprocess per image at shape (1, 3, 480, 640)\n",
      "\n"
     ]
    },
    {
     "name": "stdout",
     "output_type": "stream",
     "text": [
      "Detections(xyxy=array([], shape=(0, 4), dtype=float32), mask=None, confidence=array([], dtype=float32), class_id=array([], dtype=int32), tracker_id=None, data={'class_name': array([], dtype=float64)})\n",
      "Detections(xyxy=array([], shape=(0, 4), dtype=float32), mask=None, confidence=array([], dtype=float32), class_id=array([], dtype=int32), tracker_id=None, data={'class_name': array([], dtype=float64)})\n"
     ]
    },
    {
     "name": "stderr",
     "output_type": "stream",
     "text": [
      "0: 480x640 (no detections), 44.0ms\n",
      "Speed: 5.3ms preprocess, 44.0ms inference, 8.8ms postprocess per image at shape (1, 3, 480, 640)\n",
      "\n",
      "0: 480x640 (no detections), 49.4ms\n",
      "Speed: 0.0ms preprocess, 49.4ms inference, 11.2ms postprocess per image at shape (1, 3, 480, 640)\n",
      "\n"
     ]
    },
    {
     "name": "stdout",
     "output_type": "stream",
     "text": [
      "Detections(xyxy=array([], shape=(0, 4), dtype=float32), mask=None, confidence=array([], dtype=float32), class_id=array([], dtype=int32), tracker_id=None, data={'class_name': array([], dtype=float64)})\n",
      "Detections(xyxy=array([], shape=(0, 4), dtype=float32), mask=None, confidence=array([], dtype=float32), class_id=array([], dtype=int32), tracker_id=None, data={'class_name': array([], dtype=float64)})\n"
     ]
    },
    {
     "name": "stderr",
     "output_type": "stream",
     "text": [
      "0: 480x640 (no detections), 41.2ms\n",
      "Speed: 8.0ms preprocess, 41.2ms inference, 10.0ms postprocess per image at shape (1, 3, 480, 640)\n",
      "\n",
      "0: 480x640 (no detections), 46.3ms\n",
      "Speed: 3.6ms preprocess, 46.3ms inference, 3.0ms postprocess per image at shape (1, 3, 480, 640)\n",
      "\n"
     ]
    },
    {
     "name": "stdout",
     "output_type": "stream",
     "text": [
      "Detections(xyxy=array([], shape=(0, 4), dtype=float32), mask=None, confidence=array([], dtype=float32), class_id=array([], dtype=int32), tracker_id=None, data={'class_name': array([], dtype=float64)})\n",
      "Detections(xyxy=array([], shape=(0, 4), dtype=float32), mask=None, confidence=array([], dtype=float32), class_id=array([], dtype=int32), tracker_id=None, data={'class_name': array([], dtype=float64)})\n"
     ]
    },
    {
     "name": "stderr",
     "output_type": "stream",
     "text": [
      "0: 480x640 (no detections), 45.3ms\n",
      "Speed: 7.4ms preprocess, 45.3ms inference, 7.1ms postprocess per image at shape (1, 3, 480, 640)\n",
      "\n",
      "0: 480x640 (no detections), 42.5ms\n",
      "Speed: 7.2ms preprocess, 42.5ms inference, 7.2ms postprocess per image at shape (1, 3, 480, 640)\n",
      "\n"
     ]
    },
    {
     "name": "stdout",
     "output_type": "stream",
     "text": [
      "Detections(xyxy=array([], shape=(0, 4), dtype=float32), mask=None, confidence=array([], dtype=float32), class_id=array([], dtype=int32), tracker_id=None, data={'class_name': array([], dtype=float64)})\n",
      "Detections(xyxy=array([], shape=(0, 4), dtype=float32), mask=None, confidence=array([], dtype=float32), class_id=array([], dtype=int32), tracker_id=None, data={'class_name': array([], dtype=float64)})\n"
     ]
    },
    {
     "name": "stderr",
     "output_type": "stream",
     "text": [
      "0: 480x640 (no detections), 51.5ms\n",
      "Speed: 0.0ms preprocess, 51.5ms inference, 9.7ms postprocess per image at shape (1, 3, 480, 640)\n",
      "\n",
      "0: 480x640 (no detections), 46.3ms\n",
      "Speed: 5.1ms preprocess, 46.3ms inference, 4.5ms postprocess per image at shape (1, 3, 480, 640)\n",
      "\n"
     ]
    },
    {
     "name": "stdout",
     "output_type": "stream",
     "text": [
      "Detections(xyxy=array([], shape=(0, 4), dtype=float32), mask=None, confidence=array([], dtype=float32), class_id=array([], dtype=int32), tracker_id=None, data={'class_name': array([], dtype=float64)})\n",
      "Detections(xyxy=array([], shape=(0, 4), dtype=float32), mask=None, confidence=array([], dtype=float32), class_id=array([], dtype=int32), tracker_id=None, data={'class_name': array([], dtype=float64)})\n"
     ]
    },
    {
     "name": "stderr",
     "output_type": "stream",
     "text": [
      "0: 480x640 (no detections), 49.4ms\n",
      "Speed: 0.0ms preprocess, 49.4ms inference, 11.1ms postprocess per image at shape (1, 3, 480, 640)\n",
      "\n",
      "0: 480x640 (no detections), 48.8ms\n",
      "Speed: 4.5ms preprocess, 48.8ms inference, 5.9ms postprocess per image at shape (1, 3, 480, 640)\n",
      "\n"
     ]
    },
    {
     "name": "stdout",
     "output_type": "stream",
     "text": [
      "Detections(xyxy=array([], shape=(0, 4), dtype=float32), mask=None, confidence=array([], dtype=float32), class_id=array([], dtype=int32), tracker_id=None, data={'class_name': array([], dtype=float64)})\n",
      "Detections(xyxy=array([], shape=(0, 4), dtype=float32), mask=None, confidence=array([], dtype=float32), class_id=array([], dtype=int32), tracker_id=None, data={'class_name': array([], dtype=float64)})\n"
     ]
    },
    {
     "ename": "KeyboardInterrupt",
     "evalue": "",
     "output_type": "error",
     "traceback": [
      "\u001b[1;31m---------------------------------------------------------------------------\u001b[0m",
      "\u001b[1;31mKeyboardInterrupt\u001b[0m                         Traceback (most recent call last)",
      "Input \u001b[1;32mIn [1]\u001b[0m, in \u001b[0;36m<cell line: 14>\u001b[1;34m()\u001b[0m\n\u001b[0;32m     13\u001b[0m \u001b[38;5;28;01mwhile\u001b[39;00m \u001b[38;5;28;01mTrue\u001b[39;00m:\n\u001b[0;32m     14\u001b[0m     ret, frame \u001b[38;5;241m=\u001b[39m cap\u001b[38;5;241m.\u001b[39mread()\n\u001b[1;32m---> 15\u001b[0m     result \u001b[38;5;241m=\u001b[39m \u001b[43mmodel\u001b[49m\u001b[43m(\u001b[49m\u001b[43mframe\u001b[49m\u001b[43m,\u001b[49m\u001b[43m \u001b[49m\u001b[43magnostic_nms\u001b[49m\u001b[38;5;241;43m=\u001b[39;49m\u001b[38;5;28;43;01mTrue\u001b[39;49;00m\u001b[43m)\u001b[49m[\u001b[38;5;241m0\u001b[39m]\n\u001b[0;32m     16\u001b[0m     detections \u001b[38;5;241m=\u001b[39m sv\u001b[38;5;241m.\u001b[39mDetections\u001b[38;5;241m.\u001b[39mfrom_ultralytics(result)\n\u001b[0;32m     17\u001b[0m     \u001b[38;5;28mprint\u001b[39m(detections)    \n",
      "File \u001b[1;32m~\\AppData\\Roaming\\Python\\Python39\\site-packages\\ultralytics\\engine\\model.py:96\u001b[0m, in \u001b[0;36mModel.__call__\u001b[1;34m(self, source, stream, **kwargs)\u001b[0m\n\u001b[0;32m     94\u001b[0m \u001b[38;5;28;01mdef\u001b[39;00m \u001b[38;5;21m__call__\u001b[39m(\u001b[38;5;28mself\u001b[39m, source\u001b[38;5;241m=\u001b[39m\u001b[38;5;28;01mNone\u001b[39;00m, stream\u001b[38;5;241m=\u001b[39m\u001b[38;5;28;01mFalse\u001b[39;00m, \u001b[38;5;241m*\u001b[39m\u001b[38;5;241m*\u001b[39mkwargs):\n\u001b[0;32m     95\u001b[0m \u001b[38;5;250m    \u001b[39m\u001b[38;5;124;03m\"\"\"Calls the 'predict' function with given arguments to perform object detection.\"\"\"\u001b[39;00m\n\u001b[1;32m---> 96\u001b[0m     \u001b[38;5;28;01mreturn\u001b[39;00m \u001b[38;5;28mself\u001b[39m\u001b[38;5;241m.\u001b[39mpredict(source, stream, \u001b[38;5;241m*\u001b[39m\u001b[38;5;241m*\u001b[39mkwargs)\n",
      "File \u001b[1;32m~\\AppData\\Roaming\\Python\\Python39\\site-packages\\torch\\utils\\_contextlib.py:115\u001b[0m, in \u001b[0;36mcontext_decorator.<locals>.decorate_context\u001b[1;34m(*args, **kwargs)\u001b[0m\n\u001b[0;32m    112\u001b[0m \u001b[38;5;129m@functools\u001b[39m\u001b[38;5;241m.\u001b[39mwraps(func)\n\u001b[0;32m    113\u001b[0m \u001b[38;5;28;01mdef\u001b[39;00m \u001b[38;5;21mdecorate_context\u001b[39m(\u001b[38;5;241m*\u001b[39margs, \u001b[38;5;241m*\u001b[39m\u001b[38;5;241m*\u001b[39mkwargs):\n\u001b[0;32m    114\u001b[0m     \u001b[38;5;28;01mwith\u001b[39;00m ctx_factory():\n\u001b[1;32m--> 115\u001b[0m         \u001b[38;5;28;01mreturn\u001b[39;00m func(\u001b[38;5;241m*\u001b[39margs, \u001b[38;5;241m*\u001b[39m\u001b[38;5;241m*\u001b[39mkwargs)\n",
      "File \u001b[1;32m~\\AppData\\Roaming\\Python\\Python39\\site-packages\\ultralytics\\engine\\model.py:238\u001b[0m, in \u001b[0;36mModel.predict\u001b[1;34m(self, source, stream, predictor, **kwargs)\u001b[0m\n\u001b[0;32m    236\u001b[0m \u001b[38;5;28;01mif\u001b[39;00m prompts \u001b[38;5;129;01mand\u001b[39;00m \u001b[38;5;28mhasattr\u001b[39m(\u001b[38;5;28mself\u001b[39m\u001b[38;5;241m.\u001b[39mpredictor, \u001b[38;5;124m'\u001b[39m\u001b[38;5;124mset_prompts\u001b[39m\u001b[38;5;124m'\u001b[39m):  \u001b[38;5;66;03m# for SAM-type models\u001b[39;00m\n\u001b[0;32m    237\u001b[0m     \u001b[38;5;28mself\u001b[39m\u001b[38;5;241m.\u001b[39mpredictor\u001b[38;5;241m.\u001b[39mset_prompts(prompts)\n\u001b[1;32m--> 238\u001b[0m \u001b[38;5;28;01mreturn\u001b[39;00m \u001b[38;5;28mself\u001b[39m\u001b[38;5;241m.\u001b[39mpredictor\u001b[38;5;241m.\u001b[39mpredict_cli(source\u001b[38;5;241m=\u001b[39msource) \u001b[38;5;28;01mif\u001b[39;00m is_cli \u001b[38;5;28;01melse\u001b[39;00m \u001b[38;5;28;43mself\u001b[39;49m\u001b[38;5;241;43m.\u001b[39;49m\u001b[43mpredictor\u001b[49m\u001b[43m(\u001b[49m\u001b[43msource\u001b[49m\u001b[38;5;241;43m=\u001b[39;49m\u001b[43msource\u001b[49m\u001b[43m,\u001b[49m\u001b[43m \u001b[49m\u001b[43mstream\u001b[49m\u001b[38;5;241;43m=\u001b[39;49m\u001b[43mstream\u001b[49m\u001b[43m)\u001b[49m\n",
      "File \u001b[1;32m~\\AppData\\Roaming\\Python\\Python39\\site-packages\\ultralytics\\engine\\predictor.py:194\u001b[0m, in \u001b[0;36mBasePredictor.__call__\u001b[1;34m(self, source, model, stream, *args, **kwargs)\u001b[0m\n\u001b[0;32m    192\u001b[0m     \u001b[38;5;28;01mreturn\u001b[39;00m \u001b[38;5;28mself\u001b[39m\u001b[38;5;241m.\u001b[39mstream_inference(source, model, \u001b[38;5;241m*\u001b[39margs, \u001b[38;5;241m*\u001b[39m\u001b[38;5;241m*\u001b[39mkwargs)\n\u001b[0;32m    193\u001b[0m \u001b[38;5;28;01melse\u001b[39;00m:\n\u001b[1;32m--> 194\u001b[0m     \u001b[38;5;28;01mreturn\u001b[39;00m \u001b[38;5;28;43mlist\u001b[39;49m\u001b[43m(\u001b[49m\u001b[38;5;28;43mself\u001b[39;49m\u001b[38;5;241;43m.\u001b[39;49m\u001b[43mstream_inference\u001b[49m\u001b[43m(\u001b[49m\u001b[43msource\u001b[49m\u001b[43m,\u001b[49m\u001b[43m \u001b[49m\u001b[43mmodel\u001b[49m\u001b[43m,\u001b[49m\u001b[43m \u001b[49m\u001b[38;5;241;43m*\u001b[39;49m\u001b[43margs\u001b[49m\u001b[43m,\u001b[49m\u001b[43m \u001b[49m\u001b[38;5;241;43m*\u001b[39;49m\u001b[38;5;241;43m*\u001b[39;49m\u001b[43mkwargs\u001b[49m\u001b[43m)\u001b[49m\u001b[43m)\u001b[49m\n",
      "File \u001b[1;32m~\\AppData\\Roaming\\Python\\Python39\\site-packages\\torch\\utils\\_contextlib.py:35\u001b[0m, in \u001b[0;36m_wrap_generator.<locals>.generator_context\u001b[1;34m(*args, **kwargs)\u001b[0m\n\u001b[0;32m     32\u001b[0m \u001b[38;5;28;01mtry\u001b[39;00m:\n\u001b[0;32m     33\u001b[0m     \u001b[38;5;66;03m# Issuing `None` to a generator fires it up\u001b[39;00m\n\u001b[0;32m     34\u001b[0m     \u001b[38;5;28;01mwith\u001b[39;00m ctx_factory():\n\u001b[1;32m---> 35\u001b[0m         response \u001b[38;5;241m=\u001b[39m \u001b[43mgen\u001b[49m\u001b[38;5;241;43m.\u001b[39;49m\u001b[43msend\u001b[49m\u001b[43m(\u001b[49m\u001b[38;5;28;43;01mNone\u001b[39;49;00m\u001b[43m)\u001b[49m\n\u001b[0;32m     37\u001b[0m     \u001b[38;5;28;01mwhile\u001b[39;00m \u001b[38;5;28;01mTrue\u001b[39;00m:\n\u001b[0;32m     38\u001b[0m         \u001b[38;5;28;01mtry\u001b[39;00m:\n\u001b[0;32m     39\u001b[0m             \u001b[38;5;66;03m# Forward the response to our caller and get its next request\u001b[39;00m\n",
      "File \u001b[1;32m~\\AppData\\Roaming\\Python\\Python39\\site-packages\\ultralytics\\engine\\predictor.py:253\u001b[0m, in \u001b[0;36mBasePredictor.stream_inference\u001b[1;34m(self, source, model, *args, **kwargs)\u001b[0m\n\u001b[0;32m    251\u001b[0m \u001b[38;5;66;03m# Inference\u001b[39;00m\n\u001b[0;32m    252\u001b[0m \u001b[38;5;28;01mwith\u001b[39;00m profilers[\u001b[38;5;241m1\u001b[39m]:\n\u001b[1;32m--> 253\u001b[0m     preds \u001b[38;5;241m=\u001b[39m \u001b[38;5;28mself\u001b[39m\u001b[38;5;241m.\u001b[39minference(im, \u001b[38;5;241m*\u001b[39margs, \u001b[38;5;241m*\u001b[39m\u001b[38;5;241m*\u001b[39mkwargs)\n\u001b[0;32m    255\u001b[0m \u001b[38;5;66;03m# Postprocess\u001b[39;00m\n\u001b[0;32m    256\u001b[0m \u001b[38;5;28;01mwith\u001b[39;00m profilers[\u001b[38;5;241m2\u001b[39m]:\n",
      "File \u001b[1;32m~\\AppData\\Roaming\\Python\\Python39\\site-packages\\ultralytics\\utils\\ops.py:49\u001b[0m, in \u001b[0;36mProfile.__exit__\u001b[1;34m(self, type, value, traceback)\u001b[0m\n\u001b[0;32m     47\u001b[0m \u001b[38;5;28;01mdef\u001b[39;00m \u001b[38;5;21m__exit__\u001b[39m(\u001b[38;5;28mself\u001b[39m, \u001b[38;5;28mtype\u001b[39m, value, traceback):  \u001b[38;5;66;03m# noqa\u001b[39;00m\n\u001b[0;32m     48\u001b[0m \u001b[38;5;250m    \u001b[39m\u001b[38;5;124;03m\"\"\"Stop timing.\"\"\"\u001b[39;00m\n\u001b[1;32m---> 49\u001b[0m     \u001b[38;5;28mself\u001b[39m\u001b[38;5;241m.\u001b[39mdt \u001b[38;5;241m=\u001b[39m \u001b[38;5;28;43mself\u001b[39;49m\u001b[38;5;241;43m.\u001b[39;49m\u001b[43mtime\u001b[49m\u001b[43m(\u001b[49m\u001b[43m)\u001b[49m \u001b[38;5;241m-\u001b[39m \u001b[38;5;28mself\u001b[39m\u001b[38;5;241m.\u001b[39mstart  \u001b[38;5;66;03m# delta-time\u001b[39;00m\n\u001b[0;32m     50\u001b[0m     \u001b[38;5;28mself\u001b[39m\u001b[38;5;241m.\u001b[39mt \u001b[38;5;241m+\u001b[39m\u001b[38;5;241m=\u001b[39m \u001b[38;5;28mself\u001b[39m\u001b[38;5;241m.\u001b[39mdt\n",
      "File \u001b[1;32m~\\AppData\\Roaming\\Python\\Python39\\site-packages\\ultralytics\\utils\\ops.py:58\u001b[0m, in \u001b[0;36mProfile.time\u001b[1;34m(self)\u001b[0m\n\u001b[0;32m     56\u001b[0m \u001b[38;5;250m\u001b[39m\u001b[38;5;124;03m\"\"\"Get current time.\"\"\"\u001b[39;00m\n\u001b[0;32m     57\u001b[0m \u001b[38;5;28;01mif\u001b[39;00m \u001b[38;5;28mself\u001b[39m\u001b[38;5;241m.\u001b[39mcuda:\n\u001b[1;32m---> 58\u001b[0m     \u001b[43mtorch\u001b[49m\u001b[38;5;241;43m.\u001b[39;49m\u001b[43mcuda\u001b[49m\u001b[38;5;241;43m.\u001b[39;49m\u001b[43msynchronize\u001b[49m\u001b[43m(\u001b[49m\u001b[43m)\u001b[49m\n\u001b[0;32m     59\u001b[0m \u001b[38;5;28;01mreturn\u001b[39;00m time\u001b[38;5;241m.\u001b[39mtime()\n",
      "File \u001b[1;32m~\\AppData\\Roaming\\Python\\Python39\\site-packages\\torch\\cuda\\__init__.py:783\u001b[0m, in \u001b[0;36msynchronize\u001b[1;34m(device)\u001b[0m\n\u001b[0;32m    781\u001b[0m _lazy_init()\n\u001b[0;32m    782\u001b[0m \u001b[38;5;28;01mwith\u001b[39;00m torch\u001b[38;5;241m.\u001b[39mcuda\u001b[38;5;241m.\u001b[39mdevice(device):\n\u001b[1;32m--> 783\u001b[0m     \u001b[38;5;28;01mreturn\u001b[39;00m torch\u001b[38;5;241m.\u001b[39m_C\u001b[38;5;241m.\u001b[39m_cuda_synchronize()\n",
      "\u001b[1;31mKeyboardInterrupt\u001b[0m: "
     ]
    }
   ],
   "source": [
    "import cv2\n",
    "from ultralytics import YOLO\n",
    "import supervision as sv\n",
    "import numpy as np\n",
    "\n",
    "cap = cv2.VideoCapture(0)\n",
    "model = YOLO(\"yolov8n.pt\")\n",
    "\n",
    "bounding_box_annotator = sv.BoundingBoxAnnotator()\n",
    "label_annotator = sv.LabelAnnotator(text_position=sv.Position.CENTER)\n",
    "percentage_bar_annotator = sv.BoundingBoxAnnotator()\n",
    "\n",
    "while True:\n",
    "    ret, frame = cap.read()\n",
    "    result = model(frame, agnostic_nms=True)[0]\n",
    "    detections = sv.Detections.from_ultralytics(result)\n",
    "    print(detections)    \n",
    "    frame = bounding_box_annotator.annotate(\n",
    "        scene=frame,\n",
    "        detections=detections\n",
    "    )\n",
    "\n",
    "    frame = label_annotator.annotate(\n",
    "        scene=frame,\n",
    "        detections=detections\n",
    "    )\n",
    "    frame = percentage_bar_annotator.annotate(\n",
    "        scene=frame,\n",
    "        detections=detections\n",
    "    )\n",
    "    cv2.imshow(\"yolov8\", frame)\n",
    "\n",
    "    if (cv2.waitKey(30) == 27):\n",
    "        break"
   ]
  },
  {
   "cell_type": "code",
   "execution_count": 8,
   "id": "a00e0a98",
   "metadata": {},
   "outputs": [
    {
     "name": "stdout",
     "output_type": "stream",
     "text": [
      "[[114.0008544921875, 98.94758605957031, 626.98388671875, 479.46746826171875]]\n",
      "[0.0]\n",
      "[0.7974423766136169]\n",
      "[[108.42826843261719, 99.34939575195312, 618.1880493164062, 479.5475769042969], [0.2892646789550781, 308.85546875, 58.86227798461914, 480.0], [358.2340087890625, 466.16290283203125, 414.736328125, 479.73004150390625]]\n",
      "[0.0, 63.0, 27.0]\n",
      "[0.7836291790008545, 0.3694694936275482, 0.2983929216861725]\n",
      "[[117.050537109375, 101.7413330078125, 624.2347412109375, 479.55511474609375], [0.2894783020019531, 309.6497802734375, 58.40431594848633, 480.0]]\n",
      "[0.0, 63.0]\n",
      "[0.8182196021080017, 0.7695487141609192]\n",
      "[[115.16497802734375, 99.14497375488281, 628.471435546875, 479.53106689453125], [0.283172607421875, 308.26763916015625, 58.28567886352539, 480.0], [359.6822204589844, 466.28460693359375, 415.3850402832031, 479.71826171875]]\n",
      "[0.0, 63.0, 27.0]\n",
      "[0.8016566634178162, 0.4166714549064636, 0.336544394493103]\n",
      "[[94.45794677734375, 104.21978759765625, 635.50048828125, 479.458251953125], [0.28450775146484375, 309.80364990234375, 59.194210052490234, 479.870849609375]]\n",
      "[0.0, 63.0]\n",
      "[0.8111965656280518, 0.3175421953201294]\n",
      "[[114.40216064453125, 102.40824890136719, 637.6829833984375, 479.46490478515625], [0.26385498046875, 309.1260681152344, 57.83644104003906, 480.0], [359.5316162109375, 466.98797607421875, 416.590576171875, 479.72943115234375]]\n",
      "[0.0, 63.0, 27.0]\n",
      "[0.8166181445121765, 0.5206136703491211, 0.3901018500328064]\n",
      "[[100.8402099609375, 104.43505859375, 622.4025268554688, 479.51416015625], [0.2619667053222656, 309.97454833984375, 58.3867073059082, 480.0]]\n",
      "[0.0, 63.0]\n",
      "[0.7985250353813171, 0.6465264558792114]\n",
      "[[116.04815673828125, 104.45684814453125, 636.134765625, 479.5213623046875], [0.2801856994628906, 307.65966796875, 58.49851608276367, 480.0], [359.54071044921875, 466.9357604980469, 411.36285400390625, 479.7284240722656]]\n",
      "[0.0, 63.0, 27.0]\n",
      "[0.8210896849632263, 0.5543521642684937, 0.2833789587020874]\n",
      "[[80.5078125, 103.93170166015625, 636.81689453125, 479.3897705078125], [0.29024505615234375, 309.67657470703125, 57.615074157714844, 480.0], [357.585693359375, 466.10406494140625, 414.45654296875, 479.75030517578125]]\n",
      "[0.0, 63.0, 27.0]\n",
      "[0.8047611117362976, 0.7018316388130188, 0.4593527615070343]\n",
      "[[101.5592041015625, 104.27178955078125, 623.4544677734375, 479.43939208984375], [0.2680816650390625, 309.355712890625, 57.59416198730469, 480.0], [360.11279296875, 466.3036193847656, 414.0185546875, 479.7312316894531]]\n",
      "[0.0, 63.0, 27.0]\n",
      "[0.7932764291763306, 0.36048924922943115, 0.26923424005508423]\n",
      "[[100.2412109375, 101.57498168945312, 630.505859375, 479.5047912597656], [0.2834129333496094, 309.626708984375, 58.41151809692383, 480.0], [358.021728515625, 465.1238708496094, 413.326904296875, 479.7318420410156]]\n",
      "[0.0, 63.0, 27.0]\n",
      "[0.7959176898002625, 0.4714965224266052, 0.37782084941864014]\n",
      "[[98.49981689453125, 102.7435302734375, 635.0018310546875, 479.455322265625], [360.09344482421875, 467.3370056152344, 412.1776123046875, 479.7333068847656], [0.2845497131347656, 308.5552978515625, 58.057064056396484, 480.0]]\n",
      "[0.0, 27.0, 63.0]\n",
      "[0.795674204826355, 0.4996161460876465, 0.49343881011009216]\n",
      "[[82.79248046875, 103.67056274414062, 635.7579345703125, 479.4385070800781], [0.281494140625, 309.3609619140625, 58.169029235839844, 480.0]]\n",
      "[0.0, 63.0]\n",
      "[0.8040511608123779, 0.682206392288208]\n",
      "[[104.243408203125, 103.67100524902344, 613.7647705078125, 479.556396484375], [0.27964019775390625, 308.8457336425781, 58.10503387451172, 479.9397888183594], [361.32354736328125, 466.82843017578125, 412.35906982421875, 479.73297119140625]]\n",
      "[0.0, 63.0, 27.0]\n",
      "[0.7964475154876709, 0.4900130033493042, 0.40122419595718384]\n",
      "[[83.56556701660156, 99.204833984375, 589.3067626953125, 479.51800537109375], [0.2793388366699219, 309.14483642578125, 58.0706672668457, 480.0], [360.08758544921875, 468.3773193359375, 413.10406494140625, 479.7371826171875]]\n",
      "[0.0, 63.0, 27.0]\n",
      "[0.7666643261909485, 0.7324701547622681, 0.43457236886024475]\n",
      "[[91.35882568359375, 103.3687744140625, 628.7330322265625, 479.5216064453125], [0.27584075927734375, 308.79107666015625, 58.01383972167969, 480.0], [358.16259765625, 467.2893371582031, 410.239501953125, 479.7378234863281]]\n",
      "[0.0, 63.0, 27.0]\n",
      "[0.7701483964920044, 0.5172065496444702, 0.34836170077323914]\n",
      "[[115.95599365234375, 103.80790710449219, 634.405029296875, 479.50494384765625], [0.26972198486328125, 308.24114990234375, 58.17586898803711, 480.0], [357.36920166015625, 465.3359375, 415.38372802734375, 479.732421875]]\n",
      "[0.0, 63.0, 27.0]\n",
      "[0.8237214684486389, 0.4437762200832367, 0.37544524669647217]\n",
      "[[118.42523193359375, 104.95722961425781, 622.736572265625, 479.55377197265625], [0.2739601135253906, 309.31646728515625, 58.54977035522461, 480.0], [357.52239990234375, 468.14495849609375, 416.08563232421875, 479.72479248046875], [207.83026123046875, 377.03515625, 260.8866882324219, 417.1893310546875]]\n",
      "[0.0, 63.0, 27.0, 0.0]\n",
      "[0.8056716322898865, 0.5997800230979919, 0.42391258478164673, 0.27877306938171387]\n",
      "[[106.774658203125, 103.92951965332031, 621.010986328125, 479.54473876953125], [0.2635993957519531, 307.87591552734375, 58.69404983520508, 480.0], [355.601318359375, 465.2804870605469, 418.00390625, 479.7462463378906]]\n",
      "[0.0, 63.0, 27.0]\n",
      "[0.8128712177276611, 0.6489334106445312, 0.6055327653884888]\n",
      "[[89.4603271484375, 105.81861877441406, 634.614990234375, 479.41845703125], [355.7325744628906, 465.20147705078125, 416.1045227050781, 479.74920654296875], [0.2677001953125, 308.67449951171875, 57.92021942138672, 479.96917724609375]]\n",
      "[0.0, 27.0, 63.0]\n",
      "[0.78917396068573, 0.6211381554603577, 0.4943234622478485]\n",
      "[[0.2947998046875, 309.7561950683594, 58.29545593261719, 480.0], [120.198486328125, 100.94442749023438, 631.61572265625, 479.4530944824219], [341.86212158203125, 458.5648193359375, 419.46319580078125, 479.779296875]]\n",
      "[63.0, 0.0, 27.0]\n",
      "[0.8376548290252686, 0.8072421550750732, 0.5806869268417358]\n",
      "[[117.89013671875, 104.0916748046875, 619.4173583984375, 479.42791748046875], [0.26804351806640625, 309.1590576171875, 58.25213623046875, 480.0], [338.7064208984375, 453.1011657714844, 419.2139892578125, 479.7725524902344], [477.20751953125, 218.45895385742188, 530.70458984375, 308.8387145996094]]\n",
      "[0.0, 63.0, 27.0, 62.0]\n",
      "[0.7965867519378662, 0.7602366805076599, 0.6196369528770447, 0.27607160806655884]\n",
      "[[327.827880859375, 445.0396728515625, 407.261474609375, 479.777587890625], [123.83758544921875, 114.97891235351562, 627.6239624023438, 479.5076599121094], [0.24813079833984375, 308.62933349609375, 58.56455993652344, 480.0], [461.04925537109375, 220.44467163085938, 531.5665893554688, 311.2394104003906]]\n",
      "[27.0, 0.0, 63.0, 62.0]\n",
      "[0.888268768787384, 0.790563702583313, 0.46122393012046814, 0.3959846496582031]\n",
      "[[319.51165771484375, 442.4443054199219, 398.35186767578125, 479.7634582519531], [122.22216796875, 135.56747436523438, 621.9677734375, 479.4275817871094], [456.1104736328125, 221.50210571289062, 531.583740234375, 311.8733215332031], [0.2669258117675781, 308.59283447265625, 58.21261978149414, 479.96044921875]]\n",
      "[27.0, 0.0, 62.0, 63.0]\n",
      "[0.8240347504615784, 0.7894161939620972, 0.3705214262008667, 0.33825811743736267]\n",
      "[[127.20269775390625, 145.84942626953125, 623.4674682617188, 479.43817138671875], [0.282257080078125, 309.924560546875, 58.175437927246094, 479.92462158203125], [454.84124755859375, 221.56581115722656, 531.5519409179688, 311.554931640625], [208.3798828125, 377.27264404296875, 261.23248291015625, 424.17919921875]]\n",
      "[0.0, 63.0, 62.0, 0.0]\n",
      "[0.7824167609214783, 0.6265491247177124, 0.37162554264068604, 0.3115726113319397]\n",
      "[[143.25279235839844, 143.6227264404297, 618.5770263671875, 479.63665771484375], [323.50091552734375, 440.6260681152344, 397.54034423828125, 479.7247619628906], [455.256591796875, 221.49371337890625, 531.7784423828125, 311.7919921875], [207.89334106445312, 378.657958984375, 261.340087890625, 426.017333984375]]\n",
      "[0.0, 27.0, 62.0, 0.0]\n",
      "[0.8005802631378174, 0.4612423777580261, 0.3693643808364868, 0.3497193455696106]\n",
      "[[109.4410400390625, 144.87225341796875, 628.362548828125, 479.6365966796875], [0.27947998046875, 310.344970703125, 57.8564567565918, 480.0], [456.85467529296875, 220.57937622070312, 531.1005859375, 311.5544738769531]]\n",
      "[0.0, 63.0, 67.0]\n",
      "[0.8425137996673584, 0.5695019960403442, 0.37643328309059143]\n",
      "[[102.53643798828125, 144.6026611328125, 618.3722534179688, 479.8741455078125], [332.1705322265625, 438.83642578125, 411.03173828125, 479.74774169921875], [0.24063491821289062, 308.837890625, 59.39894104003906, 479.90618896484375], [456.17877197265625, 221.304931640625, 531.7780151367188, 312.0252685546875], [208.39617919921875, 378.6104736328125, 261.74139404296875, 426.3912353515625], [455.54083251953125, 221.70220947265625, 531.5389404296875, 311.59063720703125]]\n",
      "[0.0, 27.0, 63.0, 67.0, 0.0, 62.0]\n",
      "[0.8004693388938904, 0.6931813955307007, 0.4326366186141968, 0.38874492049217224, 0.36644279956817627, 0.25969284772872925]\n",
      "[[125.12294006347656, 139.61497497558594, 635.5849609375, 479.676513671875], [0.271697998046875, 309.89715576171875, 58.062740325927734, 479.870849609375], [465.53228759765625, 219.89784240722656, 531.4388427734375, 308.4967041015625]]\n",
      "[0.0, 63.0, 62.0]\n",
      "[0.7554910182952881, 0.4713316559791565, 0.3267636299133301]\n"
     ]
    },
    {
     "name": "stdout",
     "output_type": "stream",
     "text": [
      "[[112.93499755859375, 138.1036376953125, 634.0294189453125, 479.4356689453125], [343.1591796875, 442.45550537109375, 421.08251953125, 479.7568359375], [468.10491943359375, 219.68865966796875, 531.1511840820312, 309.05908203125], [207.65536499023438, 377.65875244140625, 261.9024353027344, 425.10772705078125]]\n",
      "[0.0, 27.0, 62.0, 0.0]\n",
      "[0.7669329643249512, 0.5218530893325806, 0.36370429396629333, 0.32507532835006714]\n",
      "[[99.1923828125, 133.57449340820312, 637.456787109375, 479.6619567871094], [0.27523040771484375, 309.05303955078125, 58.419857025146484, 480.0], [208.83404541015625, 378.5775146484375, 262.1480712890625, 422.2789306640625], [474.27886962890625, 219.3627166748047, 530.9688720703125, 307.62384033203125]]\n",
      "[0.0, 63.0, 0.0, 62.0]\n",
      "[0.7773861885070801, 0.30392786860466003, 0.26366928219795227, 0.2519384026527405]\n",
      "[[78.7486572265625, 128.5704345703125, 638.6068115234375, 479.68048095703125], [0.29111480712890625, 309.9644775390625, 58.494136810302734, 479.869140625]]\n",
      "[0.0, 63.0]\n",
      "[0.8000703454017639, 0.5760753154754639]\n",
      "[[99.79925537109375, 128.46551513671875, 638.5304565429688, 479.26239013671875], [0.2887458801269531, 309.27093505859375, 57.90195083618164, 480.0]]\n",
      "[0.0, 63.0]\n",
      "[0.7835215926170349, 0.5617468953132629]\n",
      "[[77.78436279296875, 127.87408447265625, 638.9384155273438, 479.3212890625], [0.2869453430175781, 308.6266174316406, 57.705352783203125, 480.0]]\n",
      "[0.0, 63.0]\n",
      "[0.7787349820137024, 0.42991548776626587]\n",
      "[[92.908447265625, 123.80014038085938, 635.1904296875, 479.4612121582031], [0.2878570556640625, 309.92742919921875, 57.72674560546875, 479.88800048828125], [479.33233642578125, 219.43995666503906, 531.2981567382812, 307.973876953125]]\n",
      "[0.0, 63.0, 62.0]\n",
      "[0.7822620868682861, 0.43204373121261597, 0.2509869933128357]\n",
      "[[96.90350341796875, 126.09768676757812, 629.9207153320312, 479.7474670410156], [0.2650184631347656, 308.90130615234375, 58.3971061706543, 480.0], [479.023193359375, 219.52413940429688, 531.073486328125, 309.1130065917969]]\n",
      "[0.0, 63.0, 62.0]\n",
      "[0.814318835735321, 0.4699561297893524, 0.2937842309474945]\n",
      "[[101.83966064453125, 124.65711975097656, 635.9061279296875, 479.7158203125], [0.2711906433105469, 309.3675537109375, 58.657588958740234, 479.8990478515625]]\n",
      "[0.0, 63.0]\n",
      "[0.7965668439865112, 0.5557102560997009]\n",
      "[[85.7197265625, 122.20103454589844, 633.102294921875, 479.814697265625], [0.28498077392578125, 308.99505615234375, 58.37665557861328, 480.0]]\n",
      "[0.0, 63.0]\n",
      "[0.7910950183868408, 0.6835129261016846]\n",
      "[[52.16510009765625, 123.85153198242188, 632.464599609375, 479.4029235839844], [0.26038360595703125, 309.21551513671875, 57.69898223876953, 480.0], [274.137451171875, 122.29940795898438, 636.85693359375, 479.5769348144531]]\n",
      "[0.0, 63.0, 0.0]\n",
      "[0.7892348766326904, 0.5738747715950012, 0.2932279706001282]\n",
      "[[91.18023681640625, 122.24699401855469, 634.840087890625, 479.75396728515625], [0.27611541748046875, 309.20770263671875, 59.19121170043945, 480.0]]\n",
      "[0.0, 63.0]\n",
      "[0.8189104199409485, 0.5383127331733704]\n",
      "[[126.93914794921875, 123.99658203125, 631.5802001953125, 479.5260009765625], [0.2631378173828125, 308.009765625, 58.119537353515625, 479.98077392578125]]\n",
      "[0.0, 63.0]\n",
      "[0.8030189275741577, 0.5044087171554565]\n",
      "[[88.69970703125, 125.14797973632812, 632.00048828125, 479.7485046386719], [0.2866706848144531, 308.8160400390625, 58.772212982177734, 480.0], [481.27325439453125, 218.70045471191406, 530.7504272460938, 307.549560546875]]\n",
      "[0.0, 63.0, 62.0]\n",
      "[0.7857344746589661, 0.5523057579994202, 0.27196958661079407]\n",
      "[[68.495361328125, 121.95542907714844, 632.104248046875, 479.2608642578125], [0.2735176086425781, 309.431396484375, 58.32321548461914, 480.0], [480.87860107421875, 219.83494567871094, 530.5260620117188, 307.1865234375]]\n",
      "[0.0, 63.0, 62.0]\n",
      "[0.7897115349769592, 0.7372324466705322, 0.3136669099330902]\n",
      "[[72.39337158203125, 121.37887573242188, 626.1043090820312, 479.2601623535156], [0.2800025939941406, 309.40716552734375, 58.26982879638672, 479.95648193359375], [479.39892578125, 218.84307861328125, 530.801513671875, 308.04986572265625]]\n",
      "[0.0, 63.0, 62.0]\n",
      "[0.8026284575462341, 0.6438252329826355, 0.3195633292198181]\n",
      "[[75.0552978515625, 122.20042419433594, 629.8903198242188, 479.333984375], [0.29416656494140625, 309.65997314453125, 58.08955001831055, 479.83807373046875]]\n",
      "[0.0, 63.0]\n",
      "[0.8092629909515381, 0.6392337083816528]\n",
      "[[68.2735595703125, 121.88600158691406, 636.0494384765625, 479.4188232421875], [0.2689552307128906, 309.1671142578125, 57.98111343383789, 479.8804931640625], [478.98388671875, 218.57313537597656, 530.6784057617188, 308.0950927734375]]\n",
      "[0.0, 63.0, 62.0]\n",
      "[0.7898750305175781, 0.5306457877159119, 0.2725708782672882]\n",
      "[[82.83648681640625, 122.51138305664062, 634.962890625, 479.2982482910156], [0.2628440856933594, 308.0777587890625, 57.59513473510742, 480.0], [478.34771728515625, 218.75054931640625, 530.9287109375, 307.7513427734375]]\n",
      "[0.0, 63.0, 62.0]\n",
      "[0.7957596778869629, 0.37480345368385315, 0.2999657988548279]\n",
      "[[95.354736328125, 121.3804931640625, 629.5879516601562, 479.56512451171875], [478.55230712890625, 219.28384399414062, 530.5896606445312, 307.7290344238281]]\n",
      "[0.0, 62.0]\n",
      "[0.8038851022720337, 0.2765563726425171]\n",
      "[[64.26300048828125, 121.42138671875, 636.0216674804688, 479.49822998046875], [0.2698822021484375, 308.8806457519531, 58.346946716308594, 479.9494323730469], [478.60577392578125, 218.8453826904297, 531.3242797851562, 307.97161865234375]]\n",
      "[0.0, 63.0, 62.0]\n",
      "[0.8165004253387451, 0.28547465801239014, 0.2762735188007355]\n",
      "[[53.2296142578125, 124.07392883300781, 634.9448852539062, 479.39788818359375], [0.25986480712890625, 308.9211730957031, 58.23644256591797, 480.0], [478.59490966796875, 219.1536102294922, 530.9603881835938, 308.10760498046875]]\n",
      "[0.0, 63.0, 62.0]\n",
      "[0.8200493454933167, 0.5274389386177063, 0.3109595477581024]\n",
      "[[80.1351318359375, 122.30206298828125, 634.803955078125, 479.35015869140625], [0.27399444580078125, 309.0066833496094, 58.593360900878906, 480.0]]\n",
      "[0.0, 63.0]\n",
      "[0.7911264300346375, 0.46679455041885376]\n",
      "[[54.935546875, 121.67208862304688, 635.1681518554688, 479.3526916503906]]\n",
      "[0.0]\n",
      "[0.7796087861061096]\n",
      "[[71.84912109375, 121.47695922851562, 633.95458984375, 479.4678649902344], [0.2747535705566406, 309.4293518066406, 58.87112045288086, 479.7657775878906], [478.23223876953125, 219.29351806640625, 531.0807495117188, 307.5206298828125]]\n",
      "[0.0, 63.0, 62.0]\n",
      "[0.8059079647064209, 0.7393355369567871, 0.25416550040245056]\n",
      "[[81.07598876953125, 122.07917785644531, 637.106201171875, 479.30902099609375], [0.29412841796875, 309.41925048828125, 57.605987548828125, 479.94061279296875], [478.42559814453125, 219.22430419921875, 530.5117797851562, 307.81634521484375]]\n",
      "[0.0, 63.0, 62.0]\n",
      "[0.84326171875, 0.519335150718689, 0.3406396210193634]\n",
      "[[46.5126953125, 122.8570556640625, 628.5924072265625, 479.44927978515625], [0.2740135192871094, 310.0552978515625, 58.14729690551758, 479.96893310546875], [478.3341064453125, 219.1345672607422, 531.0977783203125, 307.39605712890625]]\n",
      "[0.0, 63.0, 62.0]\n",
      "[0.8195854425430298, 0.5678120851516724, 0.25133389234542847]\n",
      "[[72.19482421875, 121.64874267578125, 627.9513549804688, 479.5758056640625], [0.24770355224609375, 309.74224853515625, 58.00347900390625, 479.8499755859375], [478.5380859375, 219.1468963623047, 530.987060546875, 308.27325439453125]]\n",
      "[0.0, 63.0, 62.0]\n",
      "[0.7829088568687439, 0.5677634477615356, 0.28519168496131897]\n",
      "[[62.9061279296875, 120.52207946777344, 635.67431640625, 479.4283447265625], [0.27835845947265625, 309.17657470703125, 58.21329879760742, 479.96356201171875], [478.65509033203125, 218.71209716796875, 530.6429443359375, 307.402099609375]]\n",
      "[0.0, 63.0, 62.0]\n",
      "[0.8001304268836975, 0.29056647419929504, 0.2780136168003082]\n",
      "[[78.0994873046875, 121.93411254882812, 631.6944580078125, 479.5253601074219], [0.28363800048828125, 309.44488525390625, 58.57599639892578, 480.0]]\n",
      "[0.0, 63.0]\n",
      "[0.8053268790245056, 0.7339340448379517]\n",
      "[[86.5535888671875, 122.47146606445312, 632.8643798828125, 479.4468078613281], [0.2641792297363281, 307.8177185058594, 59.116146087646484, 479.9208068847656]]\n",
      "[0.0, 63.0]\n",
      "[0.8014464974403381, 0.5412350296974182]\n",
      "[[81.08856201171875, 124.4339599609375, 633.94677734375, 479.74822998046875], [0.26914215087890625, 310.1549072265625, 57.85772705078125, 479.912841796875]]\n"
     ]
    },
    {
     "name": "stdout",
     "output_type": "stream",
     "text": [
      "[0.0, 63.0]\n",
      "[0.8245533108711243, 0.6029350161552429]\n",
      "[[81.08856201171875, 124.4339599609375, 633.94677734375, 479.74822998046875], [0.26914215087890625, 310.1549072265625, 57.85772705078125, 479.912841796875]]\n",
      "[0.0, 63.0]\n",
      "[0.8245533108711243, 0.6029350161552429]\n",
      "[[89.5196533203125, 121.59878540039062, 626.629638671875, 479.4803771972656], [0.24176025390625, 309.39874267578125, 57.84288024902344, 479.99017333984375], [479.0147705078125, 219.7979278564453, 531.1588134765625, 308.09259033203125]]\n",
      "[0.0, 63.0, 62.0]\n",
      "[0.7938408255577087, 0.33477672934532166, 0.2948679029941559]\n",
      "[[37.46856689453125, 122.07313537597656, 628.2988891601562, 479.4879150390625], [0.254608154296875, 309.16314697265625, 58.1693115234375, 480.0]]\n",
      "[0.0, 63.0]\n",
      "[0.7865249514579773, 0.5547102689743042]\n",
      "[[70.1165771484375, 124.19627380371094, 624.9147338867188, 479.4176025390625], [0.2538032531738281, 308.3946533203125, 58.55293655395508, 480.0], [479.18402099609375, 219.4603271484375, 530.8591918945312, 308.30438232421875]]\n",
      "[0.0, 63.0, 62.0]\n",
      "[0.7976169586181641, 0.5536125302314758, 0.3021571636199951]\n",
      "[[67.51416015625, 122.68309020996094, 629.37841796875, 479.398193359375], [0.2846412658691406, 309.9305419921875, 57.584529876708984, 480.0], [479.188232421875, 219.33023071289062, 530.674072265625, 307.5951232910156]]\n",
      "[0.0, 63.0, 62.0]\n",
      "[0.7846027612686157, 0.666561484336853, 0.2517770230770111]\n",
      "[[84.76953125, 121.77362060546875, 627.529296875, 479.5299072265625], [0.274139404296875, 308.04962158203125, 58.293861389160156, 480.0]]\n",
      "[0.0, 63.0]\n",
      "[0.8000360131263733, 0.3249136209487915]\n"
     ]
    },
    {
     "ename": "KeyboardInterrupt",
     "evalue": "",
     "output_type": "error",
     "traceback": [
      "\u001b[1;31m---------------------------------------------------------------------------\u001b[0m",
      "\u001b[1;31mKeyboardInterrupt\u001b[0m                         Traceback (most recent call last)",
      "Input \u001b[1;32mIn [8]\u001b[0m, in \u001b[0;36m<cell line: 27>\u001b[1;34m()\u001b[0m\n\u001b[0;32m     25\u001b[0m             \u001b[38;5;28;01mbreak\u001b[39;00m\n\u001b[0;32m     27\u001b[0m \u001b[38;5;28;01mif\u001b[39;00m \u001b[38;5;18m__name__\u001b[39m \u001b[38;5;241m==\u001b[39m \u001b[38;5;124m\"\u001b[39m\u001b[38;5;124m__main__\u001b[39m\u001b[38;5;124m\"\u001b[39m:\n\u001b[1;32m---> 28\u001b[0m     \u001b[43mmain\u001b[49m\u001b[43m(\u001b[49m\u001b[43m)\u001b[49m\n",
      "Input \u001b[1;32mIn [8]\u001b[0m, in \u001b[0;36mmain\u001b[1;34m()\u001b[0m\n\u001b[0;32m      8\u001b[0m model \u001b[38;5;241m=\u001b[39m YOLO(\u001b[38;5;124m\"\u001b[39m\u001b[38;5;124myolov8n-seg.pt\u001b[39m\u001b[38;5;124m\"\u001b[39m)\n\u001b[0;32m      9\u001b[0m \u001b[38;5;28;01mwhile\u001b[39;00m \u001b[38;5;28;01mTrue\u001b[39;00m:\n\u001b[1;32m---> 10\u001b[0m     ret, frame \u001b[38;5;241m=\u001b[39m \u001b[43mcap\u001b[49m\u001b[38;5;241;43m.\u001b[39;49m\u001b[43mread\u001b[49m\u001b[43m(\u001b[49m\u001b[43m)\u001b[49m\n\u001b[0;32m     11\u001b[0m     results \u001b[38;5;241m=\u001b[39m model(frame, verbose\u001b[38;5;241m=\u001b[39m\u001b[38;5;28;01mFalse\u001b[39;00m)\n\u001b[0;32m     12\u001b[0m     boxes \u001b[38;5;241m=\u001b[39m results[\u001b[38;5;241m0\u001b[39m]\u001b[38;5;241m.\u001b[39mboxes\u001b[38;5;241m.\u001b[39mxyxy\u001b[38;5;241m.\u001b[39mtolist() \u001b[38;5;66;03m#Рамка\u001b[39;00m\n",
      "\u001b[1;31mKeyboardInterrupt\u001b[0m: "
     ]
    }
   ],
   "source": [
    "import cv2\n",
    "from ultralytics import YOLO\n",
    "import supervision as sv\n",
    "import numpy as np\n",
    "\n",
    "cap = cv2.VideoCapture(0)\n",
    "model = YOLO(\"yolov8n-seg.pt\")\n",
    "while True:\n",
    "    ret, frame = cap.read()\n",
    "    results = model(frame, verbose=False)\n",
    "    boxes = results[0].boxes.xyxy.tolist() #Рамка\n",
    "    print(boxes)\n",
    "    frame=results[0].plot()\n",
    "    classes = results[0].boxes.cls.tolist() #Класс\n",
    "    print(classes)\n",
    "    confidences = results[0].boxes.conf.tolist()\n",
    "    print(confidences)\n",
    "    mask_imshow = results[0].masks[0].data.cpu().numpy().transpose(1, 2, 0)#Маска двухбитная \n",
    "\n",
    "    cv2.imshow(\"yolov8\", frame)\n",
    "    cv2.imshow(\"mask_imshow\", mask_imshow)\n",
    "\n",
    "    if (cv2.waitKey(30) == 27):\n",
    "        break"
   ]
  },
  {
   "cell_type": "code",
   "execution_count": 2,
   "id": "acbf7e12",
   "metadata": {},
   "outputs": [
    {
     "name": "stdout",
     "output_type": "stream",
     "text": [
      "[1, 2]\n",
      "[1]\n",
      "[1, 2]\n",
      "[1, 2]\n",
      "[1]\n",
      "[1]\n",
      "[1, 2]\n",
      "[1, 2]\n",
      "[1, 2]\n",
      "[1]\n",
      "[1, 2]\n",
      "[1, 2]\n",
      "[1]\n",
      "[1, 2]\n",
      "[1, 2]\n",
      "[1, 2]\n",
      "[1, 2]\n",
      "[1]\n",
      "[1, 2]\n",
      "[1]\n",
      "[1]\n",
      "[1]\n",
      "[1]\n",
      "[1, 2]\n",
      "[1, 2]\n",
      "[1, 2]\n",
      "[1, 2]\n",
      "[1, 2]\n",
      "[1, 2]\n",
      "[1, 2]\n",
      "[1, 2]\n",
      "[1, 2]\n",
      "[1]\n",
      "[1]\n",
      "[1]\n",
      "[1, 2]\n",
      "[1, 2]\n",
      "[1]\n",
      "[1, 2]\n",
      "[1, 2]\n",
      "[1, 2]\n",
      "[1]\n",
      "[1]\n",
      "[1]\n",
      "[1, 2]\n",
      "[1, 2]\n",
      "[1, 2]\n",
      "[1, 2]\n",
      "[1]\n",
      "[]\n",
      "[]\n",
      "[]\n",
      "[3]\n",
      "[3]\n",
      "[3]\n",
      "[3]\n",
      "[3]\n",
      "[3]\n",
      "[3]\n",
      "[3]\n",
      "[3]\n",
      "[3]\n",
      "[3]\n",
      "[3]\n",
      "[3, 5]\n",
      "[3, 5]\n",
      "[3, 5]\n",
      "[3, 5]\n",
      "[3, 5]\n",
      "[3, 5]\n",
      "[3, 5]\n",
      "[3, 5]\n",
      "[3, 5]\n",
      "[3, 5]\n",
      "[3, 5]\n",
      "[]\n",
      "[]\n",
      "[]\n",
      "[]\n",
      "[]\n",
      "[3]\n",
      "[3, 5]\n",
      "[3, 5]\n",
      "[3]\n",
      "[3, 5]\n",
      "[3, 5]\n",
      "[3, 5]\n",
      "[3, 5]\n",
      "[3, 5]\n",
      "[3, 5]\n",
      "[3, 5]\n",
      "[3, 5]\n",
      "[3, 5]\n",
      "[3, 5]\n",
      "[3]\n",
      "[3]\n",
      "[3, 5]\n",
      "[]\n",
      "[]\n",
      "[]\n",
      "[]\n",
      "[]\n",
      "[]\n",
      "[]\n",
      "[]\n",
      "[]\n",
      "[]\n",
      "[]\n",
      "[]\n",
      "[]\n",
      "[]\n",
      "[]\n",
      "[]\n",
      "[]\n",
      "[]\n",
      "[]\n",
      "[]\n",
      "[]\n",
      "[]\n",
      "[]\n",
      "[]\n",
      "[]\n",
      "[]\n",
      "[]\n",
      "[]\n",
      "[]\n",
      "[]\n",
      "[]\n",
      "[]\n",
      "[8]\n",
      "[]\n",
      "[]\n",
      "[]\n",
      "[]\n",
      "[]\n",
      "[]\n",
      "[]\n",
      "[]\n",
      "[]\n",
      "[]\n",
      "[]\n",
      "[]\n",
      "[]\n",
      "[]\n",
      "[]\n",
      "[9]\n",
      "[]\n",
      "[9]\n",
      "[9]\n",
      "[9]\n",
      "[9]\n",
      "[9]\n",
      "[9]\n",
      "[9]\n",
      "[9]\n",
      "[9, 10]\n",
      "[9, 10]\n",
      "[9, 10]\n",
      "[9, 10]\n",
      "[9, 10]\n",
      "[9, 10]\n",
      "[9]\n",
      "[9]\n",
      "[9]\n",
      "[9]\n",
      "[9]\n",
      "[9, 10]\n",
      "[9]\n",
      "[9]\n",
      "[9]\n",
      "[9, 10]\n",
      "[9]\n",
      "[9, 10]\n",
      "[9]\n",
      "[9]\n",
      "[9]\n",
      "[9]\n",
      "[9]\n",
      "[9]\n",
      "[9]\n",
      "[9, 10]\n",
      "[9, 10]\n",
      "[9, 10]\n",
      "[9, 10]\n",
      "[9, 10]\n",
      "[9, 10]\n",
      "[9]\n",
      "[9]\n",
      "[9]\n",
      "[9]\n",
      "[9]\n",
      "[9, 10]\n",
      "[9]\n",
      "[9]\n",
      "[9]\n",
      "[9]\n",
      "[9]\n",
      "[9]\n",
      "[9]\n",
      "[9, 12]\n",
      "[9, 12]\n",
      "[9, 12]\n",
      "[9, 12]\n",
      "[9, 12]\n",
      "[9, 12]\n",
      "[9, 12]\n",
      "[9, 12]\n",
      "[9, 12]\n",
      "[9, 12]\n",
      "[9, 12]\n",
      "[9, 12]\n",
      "[9, 12]\n",
      "[9, 12]\n",
      "[9, 12]\n",
      "[9, 12]\n",
      "[9]\n",
      "[9, 10, 12]\n",
      "[9, 10, 12]\n",
      "[9, 10, 12]\n",
      "[9, 12]\n",
      "[9, 12]\n",
      "[9, 12]\n",
      "[9, 12, 10]\n",
      "[9, 12, 10]\n",
      "[9, 12, 10]\n",
      "[9, 10]\n",
      "[9, 10]\n",
      "[9, 10]\n",
      "[9, 10]\n",
      "[9, 10]\n",
      "[9, 10]\n",
      "[9, 10]\n",
      "[9, 10]\n",
      "[9, 10]\n",
      "[9, 10]\n",
      "[9, 10]\n",
      "[9, 10]\n",
      "[9, 10]\n",
      "[9, 10]\n",
      "[9, 10]\n",
      "[9, 10]\n",
      "[10]\n",
      "[10, 9]\n",
      "[10, 9]\n",
      "[10, 9]\n",
      "[10, 9]\n",
      "[10, 9]\n",
      "[10, 9]\n",
      "[10, 9]\n",
      "[10, 9]\n",
      "[10, 9]\n",
      "[10, 9]\n",
      "[10, 9]\n",
      "[10, 9]\n",
      "[10, 9]\n",
      "[10, 9]\n",
      "[10, 9]\n",
      "[10, 9]\n",
      "[10, 9]\n",
      "[10, 9]\n",
      "[10, 9]\n",
      "[10, 9]\n",
      "[10, 9]\n",
      "[10, 9]\n",
      "[10, 9]\n",
      "[10, 9]\n",
      "[10, 9]\n",
      "[10, 9]\n",
      "[10, 9]\n",
      "[10, 9]\n",
      "[10, 9]\n",
      "[10, 9, 13]\n",
      "[10, 13]\n",
      "[10, 13, 9]\n",
      "[10, 13]\n",
      "[10, 13, 9]\n",
      "[10, 13, 9]\n",
      "[10, 13]\n",
      "[10, 13]\n",
      "[10, 13]\n",
      "[10, 13]\n",
      "[10, 13]\n",
      "[10, 13]\n",
      "[10, 13]\n",
      "[10, 13, 9]\n",
      "[10, 13]\n",
      "[10, 13]\n",
      "[10, 13]\n",
      "[10, 13]\n",
      "[10, 13]\n",
      "[10, 13]\n",
      "[10, 13]\n",
      "[10, 13]\n",
      "[10, 13]\n",
      "[10, 13]\n",
      "[10, 13]\n",
      "[10, 13]\n",
      "[10, 13]\n",
      "[10, 13]\n",
      "[10, 13]\n",
      "[10, 13, 9]\n",
      "[10, 13, 9]\n",
      "[10]\n",
      "[10, 9]\n",
      "[10, 9]\n",
      "[10, 9]\n",
      "[10, 9]\n",
      "[10, 9]\n",
      "[9]\n",
      "[9]\n",
      "[9, 10]\n",
      "[9, 10]\n",
      "[10]\n",
      "[10, 9]\n",
      "[10, 9]\n",
      "[10, 9]\n",
      "[10, 9]\n",
      "[9]\n",
      "[9]\n",
      "[9]\n",
      "[9]\n",
      "[9]\n",
      "[9]\n",
      "[9]\n",
      "[9]\n",
      "[9, 16]\n",
      "[9, 16, 10]\n",
      "[9, 16]\n",
      "[9, 16]\n",
      "[9]\n",
      "[9]\n",
      "[9, 10]\n",
      "[9]\n",
      "[9, 10]\n",
      "[9, 10]\n",
      "[9, 10]\n",
      "[9, 10]\n",
      "[9]\n",
      "[9]\n",
      "[9]\n",
      "[9]\n",
      "[9]\n",
      "[9]\n",
      "[9]\n"
     ]
    },
    {
     "ename": "KeyboardInterrupt",
     "evalue": "",
     "output_type": "error",
     "traceback": [
      "\u001b[1;31m---------------------------------------------------------------------------\u001b[0m",
      "\u001b[1;31mKeyboardInterrupt\u001b[0m                         Traceback (most recent call last)",
      "Input \u001b[1;32mIn [2]\u001b[0m, in \u001b[0;36m<cell line: 9>\u001b[1;34m()\u001b[0m\n\u001b[0;32m      8\u001b[0m \u001b[38;5;28;01mwhile\u001b[39;00m \u001b[38;5;28;01mTrue\u001b[39;00m:\n\u001b[0;32m      9\u001b[0m     ret, frame \u001b[38;5;241m=\u001b[39m cap\u001b[38;5;241m.\u001b[39mread()\n\u001b[1;32m---> 10\u001b[0m     results \u001b[38;5;241m=\u001b[39m \u001b[43mmodel\u001b[49m\u001b[38;5;241;43m.\u001b[39;49m\u001b[43mtrack\u001b[49m\u001b[43m(\u001b[49m\u001b[43mframe\u001b[49m\u001b[43m,\u001b[49m\u001b[43m \u001b[49m\u001b[43mpersist\u001b[49m\u001b[38;5;241;43m=\u001b[39;49m\u001b[38;5;28;43;01mTrue\u001b[39;49;00m\u001b[43m,\u001b[49m\u001b[43m \u001b[49m\u001b[43mconf\u001b[49m\u001b[38;5;241;43m=\u001b[39;49m\u001b[38;5;241;43m0.5\u001b[39;49m\u001b[43m,\u001b[49m\u001b[43m \u001b[49m\u001b[43mtracker\u001b[49m\u001b[38;5;241;43m=\u001b[39;49m\u001b[38;5;124;43m\"\u001b[39;49m\u001b[38;5;124;43mbotsort.yaml\u001b[39;49m\u001b[38;5;124;43m\"\u001b[39;49m\u001b[43m,\u001b[49m\u001b[43m \u001b[49m\u001b[43mverbose\u001b[49m\u001b[38;5;241;43m=\u001b[39;49m\u001b[38;5;28;43;01mFalse\u001b[39;49;00m\u001b[43m)\u001b[49m\n\u001b[0;32m     11\u001b[0m     boxes \u001b[38;5;241m=\u001b[39m results[\u001b[38;5;241m0\u001b[39m]\u001b[38;5;241m.\u001b[39mboxes\u001b[38;5;241m.\u001b[39mxyxy\u001b[38;5;241m.\u001b[39mtolist() \u001b[38;5;66;03m#Рамка\u001b[39;00m\n\u001b[0;32m     12\u001b[0m     track_ids \u001b[38;5;241m=\u001b[39m results[\u001b[38;5;241m0\u001b[39m]\u001b[38;5;241m.\u001b[39mboxes\u001b[38;5;241m.\u001b[39mid\u001b[38;5;241m.\u001b[39mint()\u001b[38;5;241m.\u001b[39mcpu()\u001b[38;5;241m.\u001b[39mtolist() \u001b[38;5;28;01mif\u001b[39;00m results[\u001b[38;5;241m0\u001b[39m]\u001b[38;5;241m.\u001b[39mboxes\u001b[38;5;241m.\u001b[39mid \u001b[38;5;129;01mis\u001b[39;00m \u001b[38;5;129;01mnot\u001b[39;00m \u001b[38;5;28;01mNone\u001b[39;00m \u001b[38;5;28;01melse\u001b[39;00m []\n",
      "File \u001b[1;32m~\\AppData\\Roaming\\Python\\Python39\\site-packages\\ultralytics\\engine\\model.py:259\u001b[0m, in \u001b[0;36mModel.track\u001b[1;34m(self, source, stream, persist, **kwargs)\u001b[0m\n\u001b[0;32m    257\u001b[0m kwargs[\u001b[38;5;124m'\u001b[39m\u001b[38;5;124mconf\u001b[39m\u001b[38;5;124m'\u001b[39m] \u001b[38;5;241m=\u001b[39m kwargs\u001b[38;5;241m.\u001b[39mget(\u001b[38;5;124m'\u001b[39m\u001b[38;5;124mconf\u001b[39m\u001b[38;5;124m'\u001b[39m) \u001b[38;5;129;01mor\u001b[39;00m \u001b[38;5;241m0.1\u001b[39m\n\u001b[0;32m    258\u001b[0m kwargs[\u001b[38;5;124m'\u001b[39m\u001b[38;5;124mmode\u001b[39m\u001b[38;5;124m'\u001b[39m] \u001b[38;5;241m=\u001b[39m \u001b[38;5;124m'\u001b[39m\u001b[38;5;124mtrack\u001b[39m\u001b[38;5;124m'\u001b[39m\n\u001b[1;32m--> 259\u001b[0m \u001b[38;5;28;01mreturn\u001b[39;00m \u001b[38;5;28mself\u001b[39m\u001b[38;5;241m.\u001b[39mpredict(source\u001b[38;5;241m=\u001b[39msource, stream\u001b[38;5;241m=\u001b[39mstream, \u001b[38;5;241m*\u001b[39m\u001b[38;5;241m*\u001b[39mkwargs)\n",
      "File \u001b[1;32m~\\AppData\\Roaming\\Python\\Python39\\site-packages\\torch\\utils\\_contextlib.py:115\u001b[0m, in \u001b[0;36mcontext_decorator.<locals>.decorate_context\u001b[1;34m(*args, **kwargs)\u001b[0m\n\u001b[0;32m    112\u001b[0m \u001b[38;5;129m@functools\u001b[39m\u001b[38;5;241m.\u001b[39mwraps(func)\n\u001b[0;32m    113\u001b[0m \u001b[38;5;28;01mdef\u001b[39;00m \u001b[38;5;21mdecorate_context\u001b[39m(\u001b[38;5;241m*\u001b[39margs, \u001b[38;5;241m*\u001b[39m\u001b[38;5;241m*\u001b[39mkwargs):\n\u001b[0;32m    114\u001b[0m     \u001b[38;5;28;01mwith\u001b[39;00m ctx_factory():\n\u001b[1;32m--> 115\u001b[0m         \u001b[38;5;28;01mreturn\u001b[39;00m func(\u001b[38;5;241m*\u001b[39margs, \u001b[38;5;241m*\u001b[39m\u001b[38;5;241m*\u001b[39mkwargs)\n",
      "File \u001b[1;32m~\\AppData\\Roaming\\Python\\Python39\\site-packages\\ultralytics\\engine\\model.py:238\u001b[0m, in \u001b[0;36mModel.predict\u001b[1;34m(self, source, stream, predictor, **kwargs)\u001b[0m\n\u001b[0;32m    236\u001b[0m \u001b[38;5;28;01mif\u001b[39;00m prompts \u001b[38;5;129;01mand\u001b[39;00m \u001b[38;5;28mhasattr\u001b[39m(\u001b[38;5;28mself\u001b[39m\u001b[38;5;241m.\u001b[39mpredictor, \u001b[38;5;124m'\u001b[39m\u001b[38;5;124mset_prompts\u001b[39m\u001b[38;5;124m'\u001b[39m):  \u001b[38;5;66;03m# for SAM-type models\u001b[39;00m\n\u001b[0;32m    237\u001b[0m     \u001b[38;5;28mself\u001b[39m\u001b[38;5;241m.\u001b[39mpredictor\u001b[38;5;241m.\u001b[39mset_prompts(prompts)\n\u001b[1;32m--> 238\u001b[0m \u001b[38;5;28;01mreturn\u001b[39;00m \u001b[38;5;28mself\u001b[39m\u001b[38;5;241m.\u001b[39mpredictor\u001b[38;5;241m.\u001b[39mpredict_cli(source\u001b[38;5;241m=\u001b[39msource) \u001b[38;5;28;01mif\u001b[39;00m is_cli \u001b[38;5;28;01melse\u001b[39;00m \u001b[38;5;28;43mself\u001b[39;49m\u001b[38;5;241;43m.\u001b[39;49m\u001b[43mpredictor\u001b[49m\u001b[43m(\u001b[49m\u001b[43msource\u001b[49m\u001b[38;5;241;43m=\u001b[39;49m\u001b[43msource\u001b[49m\u001b[43m,\u001b[49m\u001b[43m \u001b[49m\u001b[43mstream\u001b[49m\u001b[38;5;241;43m=\u001b[39;49m\u001b[43mstream\u001b[49m\u001b[43m)\u001b[49m\n",
      "File \u001b[1;32m~\\AppData\\Roaming\\Python\\Python39\\site-packages\\ultralytics\\engine\\predictor.py:194\u001b[0m, in \u001b[0;36mBasePredictor.__call__\u001b[1;34m(self, source, model, stream, *args, **kwargs)\u001b[0m\n\u001b[0;32m    192\u001b[0m     \u001b[38;5;28;01mreturn\u001b[39;00m \u001b[38;5;28mself\u001b[39m\u001b[38;5;241m.\u001b[39mstream_inference(source, model, \u001b[38;5;241m*\u001b[39margs, \u001b[38;5;241m*\u001b[39m\u001b[38;5;241m*\u001b[39mkwargs)\n\u001b[0;32m    193\u001b[0m \u001b[38;5;28;01melse\u001b[39;00m:\n\u001b[1;32m--> 194\u001b[0m     \u001b[38;5;28;01mreturn\u001b[39;00m \u001b[38;5;28;43mlist\u001b[39;49m\u001b[43m(\u001b[49m\u001b[38;5;28;43mself\u001b[39;49m\u001b[38;5;241;43m.\u001b[39;49m\u001b[43mstream_inference\u001b[49m\u001b[43m(\u001b[49m\u001b[43msource\u001b[49m\u001b[43m,\u001b[49m\u001b[43m \u001b[49m\u001b[43mmodel\u001b[49m\u001b[43m,\u001b[49m\u001b[43m \u001b[49m\u001b[38;5;241;43m*\u001b[39;49m\u001b[43margs\u001b[49m\u001b[43m,\u001b[49m\u001b[43m \u001b[49m\u001b[38;5;241;43m*\u001b[39;49m\u001b[38;5;241;43m*\u001b[39;49m\u001b[43mkwargs\u001b[49m\u001b[43m)\u001b[49m\u001b[43m)\u001b[49m\n",
      "File \u001b[1;32m~\\AppData\\Roaming\\Python\\Python39\\site-packages\\torch\\utils\\_contextlib.py:35\u001b[0m, in \u001b[0;36m_wrap_generator.<locals>.generator_context\u001b[1;34m(*args, **kwargs)\u001b[0m\n\u001b[0;32m     32\u001b[0m \u001b[38;5;28;01mtry\u001b[39;00m:\n\u001b[0;32m     33\u001b[0m     \u001b[38;5;66;03m# Issuing `None` to a generator fires it up\u001b[39;00m\n\u001b[0;32m     34\u001b[0m     \u001b[38;5;28;01mwith\u001b[39;00m ctx_factory():\n\u001b[1;32m---> 35\u001b[0m         response \u001b[38;5;241m=\u001b[39m \u001b[43mgen\u001b[49m\u001b[38;5;241;43m.\u001b[39;49m\u001b[43msend\u001b[49m\u001b[43m(\u001b[49m\u001b[38;5;28;43;01mNone\u001b[39;49;00m\u001b[43m)\u001b[49m\n\u001b[0;32m     37\u001b[0m     \u001b[38;5;28;01mwhile\u001b[39;00m \u001b[38;5;28;01mTrue\u001b[39;00m:\n\u001b[0;32m     38\u001b[0m         \u001b[38;5;28;01mtry\u001b[39;00m:\n\u001b[0;32m     39\u001b[0m             \u001b[38;5;66;03m# Forward the response to our caller and get its next request\u001b[39;00m\n",
      "File \u001b[1;32m~\\AppData\\Roaming\\Python\\Python39\\site-packages\\ultralytics\\engine\\predictor.py:253\u001b[0m, in \u001b[0;36mBasePredictor.stream_inference\u001b[1;34m(self, source, model, *args, **kwargs)\u001b[0m\n\u001b[0;32m    251\u001b[0m \u001b[38;5;66;03m# Inference\u001b[39;00m\n\u001b[0;32m    252\u001b[0m \u001b[38;5;28;01mwith\u001b[39;00m profilers[\u001b[38;5;241m1\u001b[39m]:\n\u001b[1;32m--> 253\u001b[0m     preds \u001b[38;5;241m=\u001b[39m \u001b[38;5;28mself\u001b[39m\u001b[38;5;241m.\u001b[39minference(im, \u001b[38;5;241m*\u001b[39margs, \u001b[38;5;241m*\u001b[39m\u001b[38;5;241m*\u001b[39mkwargs)\n\u001b[0;32m    255\u001b[0m \u001b[38;5;66;03m# Postprocess\u001b[39;00m\n\u001b[0;32m    256\u001b[0m \u001b[38;5;28;01mwith\u001b[39;00m profilers[\u001b[38;5;241m2\u001b[39m]:\n",
      "File \u001b[1;32m~\\AppData\\Roaming\\Python\\Python39\\site-packages\\ultralytics\\utils\\ops.py:49\u001b[0m, in \u001b[0;36mProfile.__exit__\u001b[1;34m(self, type, value, traceback)\u001b[0m\n\u001b[0;32m     47\u001b[0m \u001b[38;5;28;01mdef\u001b[39;00m \u001b[38;5;21m__exit__\u001b[39m(\u001b[38;5;28mself\u001b[39m, \u001b[38;5;28mtype\u001b[39m, value, traceback):  \u001b[38;5;66;03m# noqa\u001b[39;00m\n\u001b[0;32m     48\u001b[0m \u001b[38;5;250m    \u001b[39m\u001b[38;5;124;03m\"\"\"Stop timing.\"\"\"\u001b[39;00m\n\u001b[1;32m---> 49\u001b[0m     \u001b[38;5;28mself\u001b[39m\u001b[38;5;241m.\u001b[39mdt \u001b[38;5;241m=\u001b[39m \u001b[38;5;28;43mself\u001b[39;49m\u001b[38;5;241;43m.\u001b[39;49m\u001b[43mtime\u001b[49m\u001b[43m(\u001b[49m\u001b[43m)\u001b[49m \u001b[38;5;241m-\u001b[39m \u001b[38;5;28mself\u001b[39m\u001b[38;5;241m.\u001b[39mstart  \u001b[38;5;66;03m# delta-time\u001b[39;00m\n\u001b[0;32m     50\u001b[0m     \u001b[38;5;28mself\u001b[39m\u001b[38;5;241m.\u001b[39mt \u001b[38;5;241m+\u001b[39m\u001b[38;5;241m=\u001b[39m \u001b[38;5;28mself\u001b[39m\u001b[38;5;241m.\u001b[39mdt\n",
      "File \u001b[1;32m~\\AppData\\Roaming\\Python\\Python39\\site-packages\\ultralytics\\utils\\ops.py:58\u001b[0m, in \u001b[0;36mProfile.time\u001b[1;34m(self)\u001b[0m\n\u001b[0;32m     56\u001b[0m \u001b[38;5;250m\u001b[39m\u001b[38;5;124;03m\"\"\"Get current time.\"\"\"\u001b[39;00m\n\u001b[0;32m     57\u001b[0m \u001b[38;5;28;01mif\u001b[39;00m \u001b[38;5;28mself\u001b[39m\u001b[38;5;241m.\u001b[39mcuda:\n\u001b[1;32m---> 58\u001b[0m     \u001b[43mtorch\u001b[49m\u001b[38;5;241;43m.\u001b[39;49m\u001b[43mcuda\u001b[49m\u001b[38;5;241;43m.\u001b[39;49m\u001b[43msynchronize\u001b[49m\u001b[43m(\u001b[49m\u001b[43m)\u001b[49m\n\u001b[0;32m     59\u001b[0m \u001b[38;5;28;01mreturn\u001b[39;00m time\u001b[38;5;241m.\u001b[39mtime()\n",
      "File \u001b[1;32m~\\AppData\\Roaming\\Python\\Python39\\site-packages\\torch\\cuda\\__init__.py:783\u001b[0m, in \u001b[0;36msynchronize\u001b[1;34m(device)\u001b[0m\n\u001b[0;32m    781\u001b[0m _lazy_init()\n\u001b[0;32m    782\u001b[0m \u001b[38;5;28;01mwith\u001b[39;00m torch\u001b[38;5;241m.\u001b[39mcuda\u001b[38;5;241m.\u001b[39mdevice(device):\n\u001b[1;32m--> 783\u001b[0m     \u001b[38;5;28;01mreturn\u001b[39;00m torch\u001b[38;5;241m.\u001b[39m_C\u001b[38;5;241m.\u001b[39m_cuda_synchronize()\n",
      "\u001b[1;31mKeyboardInterrupt\u001b[0m: "
     ]
    }
   ],
   "source": [
    "import cv2\n",
    "from ultralytics import YOLO\n",
    "import supervision as sv\n",
    "import numpy as np\n",
    "\n",
    "cap = cv2.VideoCapture(0)\n",
    "model = YOLO(\"yolov8n-seg.pt\")\n",
    "while True:\n",
    "    ret, frame = cap.read()\n",
    "    results = model.track(frame, persist=True, conf=0.5, tracker=\"botsort.yaml\", verbose=False)\n",
    "    boxes = results[0].boxes.xyxy.tolist() #Рамка\n",
    "    track_ids = results[0].boxes.id.int().cpu().tolist() if results[0].boxes.id is not None else []\n",
    "    print(track_ids)\n",
    "    frame=results[0].plot()\n",
    "    classes = results[0].boxes.cls.tolist() #Класс\n",
    "    confidences = results[0].boxes.conf.tolist()\n",
    "    cv2.imshow(\"yolov8\", frame)\n",
    "\n",
    "    if (cv2.waitKey(30) == 27):\n",
    "        break"
   ]
  },
  {
   "cell_type": "code",
   "execution_count": null,
   "id": "71b952e6",
   "metadata": {},
   "outputs": [],
   "source": []
  }
 ],
 "metadata": {
  "kernelspec": {
   "display_name": "Python 3 (ipykernel)",
   "language": "python",
   "name": "python3"
  },
  "language_info": {
   "codemirror_mode": {
    "name": "ipython",
    "version": 3
   },
   "file_extension": ".py",
   "mimetype": "text/x-python",
   "name": "python",
   "nbconvert_exporter": "python",
   "pygments_lexer": "ipython3",
   "version": "3.9.12"
  }
 },
 "nbformat": 4,
 "nbformat_minor": 5
}
