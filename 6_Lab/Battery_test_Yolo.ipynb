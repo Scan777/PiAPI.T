{
 "cells": [
  {
   "cell_type": "code",
   "execution_count": null,
   "id": "74f7ba2d",
   "metadata": {},
   "outputs": [
    {
     "name": "stdout",
     "output_type": "stream",
     "text": [
      "go\n",
      "ready\n"
     ]
    },
    {
     "name": "stderr",
     "output_type": "stream",
     "text": [
      "SupervisionWarnings: BoundingBoxAnnotator is deprecated: `BoundingBoxAnnotator` is deprecated and has been renamed to `BoxAnnotator`. `BoundingBoxAnnotator` will be removed in supervision-0.26.0.\n",
      "SupervisionWarnings: BoundingBoxAnnotator is deprecated: `BoundingBoxAnnotator` is deprecated and has been renamed to `BoxAnnotator`. `BoundingBoxAnnotator` will be removed in supervision-0.26.0.\n",
      "Using TensorFlow backend.\n",
      "UserWarning: Pandas requires version '2.8.4' or newer of 'numexpr' (version '2.8.1' currently installed).\n",
      "UserWarning: Pandas requires version '1.3.6' or newer of 'bottleneck' (version '1.3.4' currently installed).\n",
      "\n",
      "0: 256x640 (no detections), 78.7ms\n",
      "Speed: 3.0ms preprocess, 78.7ms inference, 18.0ms postprocess per image at shape (1, 3, 256, 640)\n",
      "\n",
      "0: 256x640 (no detections), 25.1ms\n",
      "Speed: 2.0ms preprocess, 25.1ms inference, 1.9ms postprocess per image at shape (1, 3, 256, 640)\n",
      "\n",
      "0: 256x640 (no detections), 24.0ms\n",
      "Speed: 3.0ms preprocess, 24.0ms inference, 2.0ms postprocess per image at shape (1, 3, 256, 640)\n",
      "\n",
      "0: 256x640 (no detections), 23.0ms\n",
      "Speed: 3.0ms preprocess, 23.0ms inference, 1.0ms postprocess per image at shape (1, 3, 256, 640)\n",
      "\n",
      "0: 256x640 (no detections), 23.0ms\n",
      "Speed: 2.0ms preprocess, 23.0ms inference, 2.0ms postprocess per image at shape (1, 3, 256, 640)\n",
      "\n",
      "0: 256x640 (no detections), 23.0ms\n",
      "Speed: 2.0ms preprocess, 23.0ms inference, 1.0ms postprocess per image at shape (1, 3, 256, 640)\n",
      "\n",
      "0: 256x640 (no detections), 24.6ms\n",
      "Speed: 1.0ms preprocess, 24.6ms inference, 1.5ms postprocess per image at shape (1, 3, 256, 640)\n",
      "\n",
      "0: 256x640 (no detections), 25.0ms\n",
      "Speed: 2.0ms preprocess, 25.0ms inference, 2.5ms postprocess per image at shape (1, 3, 256, 640)\n",
      "\n",
      "0: 256x640 (no detections), 21.9ms\n",
      "Speed: 2.0ms preprocess, 21.9ms inference, 3.0ms postprocess per image at shape (1, 3, 256, 640)\n",
      "\n",
      "0: 256x640 (no detections), 23.1ms\n",
      "Speed: 2.0ms preprocess, 23.1ms inference, 2.9ms postprocess per image at shape (1, 3, 256, 640)\n",
      "\n",
      "0: 256x640 (no detections), 22.0ms\n",
      "Speed: 2.0ms preprocess, 22.0ms inference, 3.9ms postprocess per image at shape (1, 3, 256, 640)\n",
      "\n",
      "0: 256x640 (no detections), 23.0ms\n",
      "Speed: 1.0ms preprocess, 23.0ms inference, 2.0ms postprocess per image at shape (1, 3, 256, 640)\n",
      "\n",
      "0: 256x640 (no detections), 24.0ms\n",
      "Speed: 2.0ms preprocess, 24.0ms inference, 3.0ms postprocess per image at shape (1, 3, 256, 640)\n",
      "\n",
      "0: 256x640 (no detections), 24.0ms\n",
      "Speed: 2.0ms preprocess, 24.0ms inference, 3.0ms postprocess per image at shape (1, 3, 256, 640)\n",
      "\n",
      "0: 256x640 (no detections), 23.0ms\n",
      "Speed: 2.0ms preprocess, 23.0ms inference, 3.0ms postprocess per image at shape (1, 3, 256, 640)\n",
      "\n",
      "0: 256x640 (no detections), 23.0ms\n",
      "Speed: 2.0ms preprocess, 23.0ms inference, 3.0ms postprocess per image at shape (1, 3, 256, 640)\n",
      "\n",
      "0: 256x640 (no detections), 23.6ms\n",
      "Speed: 2.0ms preprocess, 23.6ms inference, 3.1ms postprocess per image at shape (1, 3, 256, 640)\n",
      "\n",
      "0: 256x640 (no detections), 24.7ms\n",
      "Speed: 2.0ms preprocess, 24.7ms inference, 2.0ms postprocess per image at shape (1, 3, 256, 640)\n",
      "\n",
      "0: 256x640 (no detections), 25.0ms\n",
      "Speed: 2.0ms preprocess, 25.0ms inference, 4.0ms postprocess per image at shape (1, 3, 256, 640)\n",
      "\n",
      "0: 256x640 (no detections), 22.0ms\n",
      "Speed: 1.0ms preprocess, 22.0ms inference, 2.5ms postprocess per image at shape (1, 3, 256, 640)\n",
      "\n",
      "0: 256x640 (no detections), 22.4ms\n",
      "Speed: 2.0ms preprocess, 22.4ms inference, 1.6ms postprocess per image at shape (1, 3, 256, 640)\n",
      "\n",
      "0: 256x640 (no detections), 23.0ms\n",
      "Speed: 2.0ms preprocess, 23.0ms inference, 2.0ms postprocess per image at shape (1, 3, 256, 640)\n",
      "\n",
      "0: 256x640 (no detections), 22.5ms\n",
      "Speed: 2.0ms preprocess, 22.5ms inference, 2.1ms postprocess per image at shape (1, 3, 256, 640)\n",
      "\n",
      "0: 256x640 (no detections), 23.0ms\n",
      "Speed: 2.0ms preprocess, 23.0ms inference, 1.0ms postprocess per image at shape (1, 3, 256, 640)\n",
      "\n",
      "0: 256x640 (no detections), 22.0ms\n",
      "Speed: 2.0ms preprocess, 22.0ms inference, 1.0ms postprocess per image at shape (1, 3, 256, 640)\n",
      "\n",
      "0: 256x640 (no detections), 23.0ms\n",
      "Speed: 2.0ms preprocess, 23.0ms inference, 2.0ms postprocess per image at shape (1, 3, 256, 640)\n",
      "\n",
      "0: 256x640 (no detections), 23.0ms\n",
      "Speed: 1.0ms preprocess, 23.0ms inference, 2.0ms postprocess per image at shape (1, 3, 256, 640)\n",
      "\n",
      "0: 256x640 (no detections), 23.0ms\n",
      "Speed: 2.0ms preprocess, 23.0ms inference, 2.0ms postprocess per image at shape (1, 3, 256, 640)\n",
      "\n",
      "0: 256x640 (no detections), 24.6ms\n",
      "Speed: 2.0ms preprocess, 24.6ms inference, 2.0ms postprocess per image at shape (1, 3, 256, 640)\n",
      "\n",
      "0: 256x640 (no detections), 26.0ms\n",
      "Speed: 1.0ms preprocess, 26.0ms inference, 3.0ms postprocess per image at shape (1, 3, 256, 640)\n",
      "\n",
      "0: 256x640 (no detections), 27.0ms\n",
      "Speed: 1.0ms preprocess, 27.0ms inference, 1.0ms postprocess per image at shape (1, 3, 256, 640)\n",
      "\n",
      "0: 256x640 (no detections), 25.6ms\n",
      "Speed: 1.0ms preprocess, 25.6ms inference, 2.0ms postprocess per image at shape (1, 3, 256, 640)\n",
      "\n",
      "0: 256x640 (no detections), 25.0ms\n",
      "Speed: 2.0ms preprocess, 25.0ms inference, 2.0ms postprocess per image at shape (1, 3, 256, 640)\n",
      "\n",
      "0: 256x640 (no detections), 25.0ms\n",
      "Speed: 2.0ms preprocess, 25.0ms inference, 2.0ms postprocess per image at shape (1, 3, 256, 640)\n",
      "\n",
      "0: 256x640 (no detections), 24.4ms\n",
      "Speed: 1.0ms preprocess, 24.4ms inference, 1.6ms postprocess per image at shape (1, 3, 256, 640)\n",
      "\n",
      "0: 256x640 (no detections), 22.1ms\n",
      "Speed: 2.0ms preprocess, 22.1ms inference, 3.0ms postprocess per image at shape (1, 3, 256, 640)\n",
      "\n",
      "0: 256x640 (no detections), 22.7ms\n",
      "Speed: 2.0ms preprocess, 22.7ms inference, 3.5ms postprocess per image at shape (1, 3, 256, 640)\n",
      "\n",
      "0: 256x640 (no detections), 22.8ms\n",
      "Speed: 2.0ms preprocess, 22.8ms inference, 3.7ms postprocess per image at shape (1, 3, 256, 640)\n",
      "\n",
      "0: 256x640 (no detections), 22.6ms\n",
      "Speed: 2.0ms preprocess, 22.6ms inference, 3.0ms postprocess per image at shape (1, 3, 256, 640)\n",
      "\n",
      "0: 256x640 (no detections), 23.2ms\n",
      "Speed: 1.0ms preprocess, 23.2ms inference, 2.8ms postprocess per image at shape (1, 3, 256, 640)\n",
      "\n",
      "0: 256x640 (no detections), 24.0ms\n",
      "Speed: 2.0ms preprocess, 24.0ms inference, 3.0ms postprocess per image at shape (1, 3, 256, 640)\n",
      "\n",
      "0: 256x640 (no detections), 23.0ms\n",
      "Speed: 2.0ms preprocess, 23.0ms inference, 3.0ms postprocess per image at shape (1, 3, 256, 640)\n",
      "\n",
      "0: 256x640 (no detections), 23.3ms\n",
      "Speed: 1.0ms preprocess, 23.3ms inference, 3.0ms postprocess per image at shape (1, 3, 256, 640)\n",
      "\n",
      "0: 256x640 (no detections), 22.0ms\n",
      "Speed: 2.0ms preprocess, 22.0ms inference, 3.0ms postprocess per image at shape (1, 3, 256, 640)\n",
      "\n",
      "0: 256x640 (no detections), 23.0ms\n",
      "Speed: 2.0ms preprocess, 23.0ms inference, 3.5ms postprocess per image at shape (1, 3, 256, 640)\n",
      "\n",
      "0: 256x640 (no detections), 25.7ms\n",
      "Speed: 2.0ms preprocess, 25.7ms inference, 2.0ms postprocess per image at shape (1, 3, 256, 640)\n",
      "\n",
      "0: 256x640 (no detections), 23.0ms\n",
      "Speed: 1.0ms preprocess, 23.0ms inference, 3.0ms postprocess per image at shape (1, 3, 256, 640)\n",
      "\n",
      "0: 256x640 (no detections), 23.7ms\n",
      "Speed: 1.0ms preprocess, 23.7ms inference, 3.0ms postprocess per image at shape (1, 3, 256, 640)\n",
      "\n",
      "0: 256x640 (no detections), 23.0ms\n",
      "Speed: 1.0ms preprocess, 23.0ms inference, 2.0ms postprocess per image at shape (1, 3, 256, 640)\n",
      "\n",
      "0: 256x640 (no detections), 22.0ms\n",
      "Speed: 2.0ms preprocess, 22.0ms inference, 2.0ms postprocess per image at shape (1, 3, 256, 640)\n",
      "\n",
      "0: 256x640 (no detections), 25.1ms\n",
      "Speed: 2.0ms preprocess, 25.1ms inference, 1.9ms postprocess per image at shape (1, 3, 256, 640)\n",
      "\n",
      "0: 256x640 (no detections), 22.1ms\n",
      "Speed: 2.0ms preprocess, 22.1ms inference, 2.0ms postprocess per image at shape (1, 3, 256, 640)\n",
      "\n",
      "0: 256x640 (no detections), 22.5ms\n",
      "Speed: 2.0ms preprocess, 22.5ms inference, 2.0ms postprocess per image at shape (1, 3, 256, 640)\n",
      "\n",
      "0: 256x640 (no detections), 23.0ms\n",
      "Speed: 1.0ms preprocess, 23.0ms inference, 2.3ms postprocess per image at shape (1, 3, 256, 640)\n",
      "\n",
      "0: 256x640 (no detections), 25.6ms\n",
      "Speed: 2.0ms preprocess, 25.6ms inference, 2.5ms postprocess per image at shape (1, 3, 256, 640)\n",
      "\n",
      "0: 256x640 (no detections), 22.0ms\n",
      "Speed: 2.0ms preprocess, 22.0ms inference, 3.0ms postprocess per image at shape (1, 3, 256, 640)\n",
      "\n",
      "0: 256x640 (no detections), 23.0ms\n",
      "Speed: 2.0ms preprocess, 23.0ms inference, 2.0ms postprocess per image at shape (1, 3, 256, 640)\n"
     ]
    },
    {
     "name": "stderr",
     "output_type": "stream",
     "text": [
      "\n",
      "0: 256x640 (no detections), 23.0ms\n",
      "Speed: 2.0ms preprocess, 23.0ms inference, 2.0ms postprocess per image at shape (1, 3, 256, 640)\n",
      "\n",
      "0: 256x640 (no detections), 22.0ms\n",
      "Speed: 3.0ms preprocess, 22.0ms inference, 2.0ms postprocess per image at shape (1, 3, 256, 640)\n",
      "\n",
      "0: 256x640 (no detections), 23.0ms\n",
      "Speed: 2.0ms preprocess, 23.0ms inference, 2.0ms postprocess per image at shape (1, 3, 256, 640)\n",
      "\n",
      "0: 256x640 (no detections), 22.0ms\n",
      "Speed: 2.0ms preprocess, 22.0ms inference, 2.0ms postprocess per image at shape (1, 3, 256, 640)\n",
      "\n",
      "0: 256x640 (no detections), 23.0ms\n",
      "Speed: 1.0ms preprocess, 23.0ms inference, 1.0ms postprocess per image at shape (1, 3, 256, 640)\n",
      "\n",
      "0: 256x640 (no detections), 23.0ms\n",
      "Speed: 2.0ms preprocess, 23.0ms inference, 1.6ms postprocess per image at shape (1, 3, 256, 640)\n",
      "\n",
      "0: 256x640 (no detections), 22.0ms\n",
      "Speed: 2.6ms preprocess, 22.0ms inference, 2.0ms postprocess per image at shape (1, 3, 256, 640)\n",
      "\n",
      "0: 256x640 (no detections), 23.0ms\n",
      "Speed: 2.0ms preprocess, 23.0ms inference, 2.0ms postprocess per image at shape (1, 3, 256, 640)\n",
      "\n",
      "0: 256x640 (no detections), 22.5ms\n",
      "Speed: 3.0ms preprocess, 22.5ms inference, 1.0ms postprocess per image at shape (1, 3, 256, 640)\n",
      "\n",
      "0: 256x640 (no detections), 22.6ms\n",
      "Speed: 1.0ms preprocess, 22.6ms inference, 1.0ms postprocess per image at shape (1, 3, 256, 640)\n",
      "\n",
      "0: 256x640 (no detections), 22.0ms\n",
      "Speed: 2.0ms preprocess, 22.0ms inference, 2.0ms postprocess per image at shape (1, 3, 256, 640)\n",
      "\n",
      "0: 256x640 (no detections), 23.6ms\n",
      "Speed: 1.5ms preprocess, 23.6ms inference, 1.0ms postprocess per image at shape (1, 3, 256, 640)\n",
      "\n",
      "0: 256x640 (no detections), 23.5ms\n",
      "Speed: 2.6ms preprocess, 23.5ms inference, 1.0ms postprocess per image at shape (1, 3, 256, 640)\n",
      "\n",
      "0: 256x640 (no detections), 22.5ms\n",
      "Speed: 2.0ms preprocess, 22.5ms inference, 2.0ms postprocess per image at shape (1, 3, 256, 640)\n",
      "\n",
      "0: 256x640 (no detections), 23.0ms\n",
      "Speed: 3.0ms preprocess, 23.0ms inference, 1.0ms postprocess per image at shape (1, 3, 256, 640)\n",
      "\n",
      "0: 256x640 (no detections), 22.5ms\n",
      "Speed: 1.0ms preprocess, 22.5ms inference, 2.0ms postprocess per image at shape (1, 3, 256, 640)\n",
      "\n",
      "0: 256x640 (no detections), 22.5ms\n",
      "Speed: 1.0ms preprocess, 22.5ms inference, 1.0ms postprocess per image at shape (1, 3, 256, 640)\n",
      "\n",
      "0: 256x640 (no detections), 23.0ms\n",
      "Speed: 1.0ms preprocess, 23.0ms inference, 2.0ms postprocess per image at shape (1, 3, 256, 640)\n",
      "\n",
      "0: 256x640 (no detections), 22.5ms\n",
      "Speed: 1.0ms preprocess, 22.5ms inference, 2.2ms postprocess per image at shape (1, 3, 256, 640)\n",
      "\n",
      "0: 256x640 (no detections), 23.0ms\n",
      "Speed: 1.0ms preprocess, 23.0ms inference, 3.0ms postprocess per image at shape (1, 3, 256, 640)\n",
      "\n",
      "0: 256x640 (no detections), 25.0ms\n",
      "Speed: 1.0ms preprocess, 25.0ms inference, 1.0ms postprocess per image at shape (1, 3, 256, 640)\n",
      "\n",
      "0: 256x640 (no detections), 24.6ms\n",
      "Speed: 2.0ms preprocess, 24.6ms inference, 2.0ms postprocess per image at shape (1, 3, 256, 640)\n",
      "\n",
      "0: 256x640 (no detections), 22.0ms\n",
      "Speed: 2.5ms preprocess, 22.0ms inference, 3.0ms postprocess per image at shape (1, 3, 256, 640)\n",
      "\n",
      "0: 256x640 (no detections), 22.0ms\n",
      "Speed: 2.0ms preprocess, 22.0ms inference, 2.9ms postprocess per image at shape (1, 3, 256, 640)\n",
      "\n",
      "0: 256x640 (no detections), 22.0ms\n",
      "Speed: 2.0ms preprocess, 22.0ms inference, 3.0ms postprocess per image at shape (1, 3, 256, 640)\n",
      "\n",
      "0: 256x640 (no detections), 23.0ms\n",
      "Speed: 1.0ms preprocess, 23.0ms inference, 3.0ms postprocess per image at shape (1, 3, 256, 640)\n",
      "\n",
      "0: 256x640 (no detections), 22.1ms\n",
      "Speed: 2.0ms preprocess, 22.1ms inference, 3.1ms postprocess per image at shape (1, 3, 256, 640)\n",
      "\n",
      "0: 256x640 (no detections), 23.0ms\n",
      "Speed: 2.0ms preprocess, 23.0ms inference, 2.0ms postprocess per image at shape (1, 3, 256, 640)\n",
      "\n",
      "0: 256x640 (no detections), 23.0ms\n",
      "Speed: 2.0ms preprocess, 23.0ms inference, 3.0ms postprocess per image at shape (1, 3, 256, 640)\n",
      "\n",
      "0: 256x640 (no detections), 23.1ms\n",
      "Speed: 1.0ms preprocess, 23.1ms inference, 3.0ms postprocess per image at shape (1, 3, 256, 640)\n",
      "\n",
      "0: 256x640 (no detections), 22.1ms\n",
      "Speed: 2.0ms preprocess, 22.1ms inference, 3.0ms postprocess per image at shape (1, 3, 256, 640)\n",
      "\n",
      "0: 256x640 (no detections), 22.0ms\n",
      "Speed: 2.0ms preprocess, 22.0ms inference, 4.0ms postprocess per image at shape (1, 3, 256, 640)\n",
      "\n",
      "0: 256x640 (no detections), 22.0ms\n",
      "Speed: 2.0ms preprocess, 22.0ms inference, 3.0ms postprocess per image at shape (1, 3, 256, 640)\n",
      "\n",
      "0: 256x640 (no detections), 25.0ms\n",
      "Speed: 1.0ms preprocess, 25.0ms inference, 3.0ms postprocess per image at shape (1, 3, 256, 640)\n",
      "\n",
      "0: 256x640 (no detections), 27.0ms\n",
      "Speed: 3.0ms preprocess, 27.0ms inference, 1.0ms postprocess per image at shape (1, 3, 256, 640)\n",
      "\n",
      "0: 256x640 (no detections), 25.0ms\n",
      "Speed: 1.0ms preprocess, 25.0ms inference, 2.0ms postprocess per image at shape (1, 3, 256, 640)\n",
      "\n",
      "0: 256x640 (no detections), 23.5ms\n",
      "Speed: 2.0ms preprocess, 23.5ms inference, 2.0ms postprocess per image at shape (1, 3, 256, 640)\n",
      "\n",
      "0: 256x640 (no detections), 22.5ms\n",
      "Speed: 1.0ms preprocess, 22.5ms inference, 2.0ms postprocess per image at shape (1, 3, 256, 640)\n",
      "\n",
      "0: 256x640 (no detections), 22.1ms\n",
      "Speed: 2.0ms preprocess, 22.1ms inference, 2.0ms postprocess per image at shape (1, 3, 256, 640)\n",
      "\n",
      "0: 256x640 (no detections), 22.1ms\n",
      "Speed: 2.0ms preprocess, 22.1ms inference, 2.9ms postprocess per image at shape (1, 3, 256, 640)\n",
      "\n",
      "0: 256x640 (no detections), 22.0ms\n",
      "Speed: 2.0ms preprocess, 22.0ms inference, 2.0ms postprocess per image at shape (1, 3, 256, 640)\n",
      "\n",
      "0: 256x640 (no detections), 24.7ms\n",
      "Speed: 1.0ms preprocess, 24.7ms inference, 2.0ms postprocess per image at shape (1, 3, 256, 640)\n",
      "\n",
      "0: 256x640 (no detections), 22.0ms\n",
      "Speed: 1.0ms preprocess, 22.0ms inference, 2.0ms postprocess per image at shape (1, 3, 256, 640)\n",
      "\n",
      "0: 256x640 (no detections), 23.0ms\n",
      "Speed: 2.0ms preprocess, 23.0ms inference, 1.2ms postprocess per image at shape (1, 3, 256, 640)\n",
      "\n",
      "0: 256x640 (no detections), 25.0ms\n",
      "Speed: 2.0ms preprocess, 25.0ms inference, 3.0ms postprocess per image at shape (1, 3, 256, 640)\n",
      "\n",
      "0: 256x640 (no detections), 21.6ms\n",
      "Speed: 2.0ms preprocess, 21.6ms inference, 2.5ms postprocess per image at shape (1, 3, 256, 640)\n",
      "\n",
      "0: 256x640 (no detections), 22.0ms\n",
      "Speed: 2.0ms preprocess, 22.0ms inference, 2.0ms postprocess per image at shape (1, 3, 256, 640)\n",
      "\n",
      "0: 256x640 (no detections), 23.1ms\n",
      "Speed: 2.0ms preprocess, 23.1ms inference, 2.9ms postprocess per image at shape (1, 3, 256, 640)\n",
      "\n",
      "0: 256x640 (no detections), 23.0ms\n",
      "Speed: 1.0ms preprocess, 23.0ms inference, 3.0ms postprocess per image at shape (1, 3, 256, 640)\n",
      "\n",
      "0: 256x640 (no detections), 23.0ms\n",
      "Speed: 1.0ms preprocess, 23.0ms inference, 4.0ms postprocess per image at shape (1, 3, 256, 640)\n",
      "\n",
      "0: 256x640 (no detections), 22.7ms\n",
      "Speed: 1.0ms preprocess, 22.7ms inference, 3.0ms postprocess per image at shape (1, 3, 256, 640)\n",
      "\n",
      "0: 256x640 (no detections), 25.0ms\n",
      "Speed: 1.0ms preprocess, 25.0ms inference, 4.0ms postprocess per image at shape (1, 3, 256, 640)\n",
      "\n",
      "0: 256x640 (no detections), 23.0ms\n",
      "Speed: 1.0ms preprocess, 23.0ms inference, 3.0ms postprocess per image at shape (1, 3, 256, 640)\n",
      "\n",
      "0: 256x640 (no detections), 26.0ms\n",
      "Speed: 2.0ms preprocess, 26.0ms inference, 3.0ms postprocess per image at shape (1, 3, 256, 640)\n",
      "\n",
      "0: 256x640 (no detections), 23.5ms\n",
      "Speed: 1.0ms preprocess, 23.5ms inference, 3.0ms postprocess per image at shape (1, 3, 256, 640)\n",
      "\n",
      "0: 256x640 (no detections), 23.0ms\n",
      "Speed: 1.0ms preprocess, 23.0ms inference, 2.0ms postprocess per image at shape (1, 3, 256, 640)\n",
      "\n",
      "0: 256x640 (no detections), 24.0ms\n",
      "Speed: 2.0ms preprocess, 24.0ms inference, 4.0ms postprocess per image at shape (1, 3, 256, 640)\n",
      "\n",
      "0: 256x640 (no detections), 22.5ms\n",
      "Speed: 2.0ms preprocess, 22.5ms inference, 3.0ms postprocess per image at shape (1, 3, 256, 640)\n",
      "\n",
      "0: 256x640 (no detections), 22.0ms\n",
      "Speed: 2.0ms preprocess, 22.0ms inference, 4.0ms postprocess per image at shape (1, 3, 256, 640)\n",
      "\n",
      "0: 256x640 (no detections), 24.5ms\n",
      "Speed: 2.0ms preprocess, 24.5ms inference, 3.0ms postprocess per image at shape (1, 3, 256, 640)\n",
      "\n",
      "0: 256x640 (no detections), 22.0ms\n",
      "Speed: 2.0ms preprocess, 22.0ms inference, 4.0ms postprocess per image at shape (1, 3, 256, 640)\n",
      "\n",
      "0: 256x640 (no detections), 22.0ms\n",
      "Speed: 1.0ms preprocess, 22.0ms inference, 3.5ms postprocess per image at shape (1, 3, 256, 640)\n"
     ]
    },
    {
     "name": "stderr",
     "output_type": "stream",
     "text": [
      "\n",
      "0: 256x640 (no detections), 22.5ms\n",
      "Speed: 1.0ms preprocess, 22.5ms inference, 2.0ms postprocess per image at shape (1, 3, 256, 640)\n",
      "\n",
      "0: 256x640 (no detections), 22.0ms\n",
      "Speed: 2.0ms preprocess, 22.0ms inference, 3.0ms postprocess per image at shape (1, 3, 256, 640)\n",
      "\n",
      "0: 256x640 (no detections), 22.0ms\n",
      "Speed: 2.0ms preprocess, 22.0ms inference, 2.0ms postprocess per image at shape (1, 3, 256, 640)\n",
      "\n",
      "0: 256x640 (no detections), 22.0ms\n",
      "Speed: 2.0ms preprocess, 22.0ms inference, 4.0ms postprocess per image at shape (1, 3, 256, 640)\n",
      "\n",
      "0: 256x640 (no detections), 23.6ms\n",
      "Speed: 2.0ms preprocess, 23.6ms inference, 2.0ms postprocess per image at shape (1, 3, 256, 640)\n",
      "\n",
      "0: 256x640 (no detections), 22.0ms\n",
      "Speed: 1.0ms preprocess, 22.0ms inference, 2.0ms postprocess per image at shape (1, 3, 256, 640)\n",
      "\n",
      "0: 256x640 (no detections), 23.1ms\n",
      "Speed: 2.0ms preprocess, 23.1ms inference, 1.6ms postprocess per image at shape (1, 3, 256, 640)\n",
      "\n",
      "0: 256x640 (no detections), 21.5ms\n",
      "Speed: 3.0ms preprocess, 21.5ms inference, 2.0ms postprocess per image at shape (1, 3, 256, 640)\n",
      "\n",
      "0: 256x640 (no detections), 23.1ms\n",
      "Speed: 2.0ms preprocess, 23.1ms inference, 2.9ms postprocess per image at shape (1, 3, 256, 640)\n",
      "\n",
      "0: 256x640 (no detections), 22.6ms\n",
      "Speed: 2.0ms preprocess, 22.6ms inference, 3.0ms postprocess per image at shape (1, 3, 256, 640)\n",
      "\n",
      "0: 256x640 (no detections), 22.6ms\n",
      "Speed: 2.0ms preprocess, 22.6ms inference, 2.1ms postprocess per image at shape (1, 3, 256, 640)\n",
      "\n",
      "0: 256x640 (no detections), 22.0ms\n",
      "Speed: 2.0ms preprocess, 22.0ms inference, 2.0ms postprocess per image at shape (1, 3, 256, 640)\n",
      "\n",
      "0: 256x640 (no detections), 23.0ms\n",
      "Speed: 2.0ms preprocess, 23.0ms inference, 1.6ms postprocess per image at shape (1, 3, 256, 640)\n",
      "\n",
      "0: 256x640 (no detections), 22.7ms\n",
      "Speed: 2.0ms preprocess, 22.7ms inference, 1.9ms postprocess per image at shape (1, 3, 256, 640)\n",
      "\n",
      "0: 256x640 (no detections), 22.1ms\n",
      "Speed: 3.0ms preprocess, 22.1ms inference, 1.9ms postprocess per image at shape (1, 3, 256, 640)\n",
      "\n",
      "0: 256x640 (no detections), 22.5ms\n",
      "Speed: 2.0ms preprocess, 22.5ms inference, 3.0ms postprocess per image at shape (1, 3, 256, 640)\n",
      "\n",
      "0: 256x640 (no detections), 23.6ms\n",
      "Speed: 2.0ms preprocess, 23.6ms inference, 3.0ms postprocess per image at shape (1, 3, 256, 640)\n",
      "\n",
      "0: 256x640 (no detections), 22.6ms\n",
      "Speed: 3.0ms preprocess, 22.6ms inference, 4.1ms postprocess per image at shape (1, 3, 256, 640)\n",
      "\n",
      "0: 256x640 (no detections), 22.6ms\n",
      "Speed: 2.0ms preprocess, 22.6ms inference, 3.0ms postprocess per image at shape (1, 3, 256, 640)\n",
      "\n",
      "0: 256x640 (no detections), 22.6ms\n",
      "Speed: 1.0ms preprocess, 22.6ms inference, 4.0ms postprocess per image at shape (1, 3, 256, 640)\n",
      "\n",
      "0: 256x640 (no detections), 22.8ms\n",
      "Speed: 2.0ms preprocess, 22.8ms inference, 3.1ms postprocess per image at shape (1, 3, 256, 640)\n",
      "\n",
      "0: 256x640 (no detections), 23.0ms\n",
      "Speed: 2.0ms preprocess, 23.0ms inference, 3.0ms postprocess per image at shape (1, 3, 256, 640)\n",
      "\n",
      "0: 256x640 (no detections), 22.0ms\n",
      "Speed: 2.0ms preprocess, 22.0ms inference, 4.0ms postprocess per image at shape (1, 3, 256, 640)\n",
      "\n",
      "0: 256x640 (no detections), 23.0ms\n",
      "Speed: 2.0ms preprocess, 23.0ms inference, 4.0ms postprocess per image at shape (1, 3, 256, 640)\n",
      "\n",
      "0: 256x640 (no detections), 22.5ms\n",
      "Speed: 2.0ms preprocess, 22.5ms inference, 3.0ms postprocess per image at shape (1, 3, 256, 640)\n",
      "\n",
      "0: 256x640 (no detections), 22.5ms\n",
      "Speed: 2.0ms preprocess, 22.5ms inference, 3.0ms postprocess per image at shape (1, 3, 256, 640)\n",
      "\n",
      "0: 256x640 (no detections), 22.1ms\n",
      "Speed: 2.0ms preprocess, 22.1ms inference, 3.0ms postprocess per image at shape (1, 3, 256, 640)\n",
      "\n",
      "0: 256x640 (no detections), 25.0ms\n",
      "Speed: 1.0ms preprocess, 25.0ms inference, 3.6ms postprocess per image at shape (1, 3, 256, 640)\n",
      "\n",
      "0: 256x640 (no detections), 22.5ms\n",
      "Speed: 2.0ms preprocess, 22.5ms inference, 3.2ms postprocess per image at shape (1, 3, 256, 640)\n",
      "\n",
      "0: 256x640 (no detections), 23.0ms\n",
      "Speed: 2.0ms preprocess, 23.0ms inference, 4.0ms postprocess per image at shape (1, 3, 256, 640)\n",
      "\n",
      "0: 256x640 (no detections), 22.1ms\n",
      "Speed: 2.0ms preprocess, 22.1ms inference, 4.9ms postprocess per image at shape (1, 3, 256, 640)\n",
      "\n",
      "0: 256x640 (no detections), 22.8ms\n",
      "Speed: 2.0ms preprocess, 22.8ms inference, 2.8ms postprocess per image at shape (1, 3, 256, 640)\n",
      "\n",
      "0: 256x640 (no detections), 22.0ms\n",
      "Speed: 2.0ms preprocess, 22.0ms inference, 4.5ms postprocess per image at shape (1, 3, 256, 640)\n",
      "\n",
      "0: 256x640 (no detections), 22.0ms\n",
      "Speed: 2.0ms preprocess, 22.0ms inference, 3.0ms postprocess per image at shape (1, 3, 256, 640)\n",
      "\n",
      "0: 256x640 (no detections), 22.0ms\n",
      "Speed: 2.0ms preprocess, 22.0ms inference, 4.0ms postprocess per image at shape (1, 3, 256, 640)\n",
      "\n",
      "0: 256x640 (no detections), 22.0ms\n",
      "Speed: 2.0ms preprocess, 22.0ms inference, 2.0ms postprocess per image at shape (1, 3, 256, 640)\n",
      "\n",
      "0: 256x640 (no detections), 24.5ms\n",
      "Speed: 2.0ms preprocess, 24.5ms inference, 4.0ms postprocess per image at shape (1, 3, 256, 640)\n",
      "\n",
      "0: 256x640 (no detections), 23.0ms\n",
      "Speed: 2.0ms preprocess, 23.0ms inference, 3.0ms postprocess per image at shape (1, 3, 256, 640)\n",
      "\n",
      "0: 256x640 (no detections), 25.0ms\n",
      "Speed: 1.0ms preprocess, 25.0ms inference, 2.0ms postprocess per image at shape (1, 3, 256, 640)\n",
      "\n",
      "0: 256x640 (no detections), 22.6ms\n",
      "Speed: 2.0ms preprocess, 22.6ms inference, 3.0ms postprocess per image at shape (1, 3, 256, 640)\n",
      "\n",
      "0: 256x640 (no detections), 23.0ms\n",
      "Speed: 1.0ms preprocess, 23.0ms inference, 3.0ms postprocess per image at shape (1, 3, 256, 640)\n",
      "\n",
      "0: 256x640 (no detections), 23.0ms\n",
      "Speed: 1.0ms preprocess, 23.0ms inference, 2.0ms postprocess per image at shape (1, 3, 256, 640)\n",
      "\n",
      "0: 256x640 (no detections), 22.5ms\n",
      "Speed: 2.0ms preprocess, 22.5ms inference, 2.0ms postprocess per image at shape (1, 3, 256, 640)\n",
      "\n",
      "0: 256x640 (no detections), 23.1ms\n",
      "Speed: 2.0ms preprocess, 23.1ms inference, 2.0ms postprocess per image at shape (1, 3, 256, 640)\n",
      "\n",
      "0: 256x640 (no detections), 22.5ms\n",
      "Speed: 2.0ms preprocess, 22.5ms inference, 2.0ms postprocess per image at shape (1, 3, 256, 640)\n",
      "\n",
      "0: 256x640 (no detections), 22.0ms\n",
      "Speed: 2.0ms preprocess, 22.0ms inference, 2.0ms postprocess per image at shape (1, 3, 256, 640)\n",
      "\n",
      "0: 256x640 (no detections), 24.0ms\n",
      "Speed: 2.0ms preprocess, 24.0ms inference, 3.0ms postprocess per image at shape (1, 3, 256, 640)\n",
      "\n",
      "0: 256x640 (no detections), 21.6ms\n",
      "Speed: 2.0ms preprocess, 21.6ms inference, 3.0ms postprocess per image at shape (1, 3, 256, 640)\n",
      "\n",
      "0: 256x640 (no detections), 22.3ms\n",
      "Speed: 2.0ms preprocess, 22.3ms inference, 2.0ms postprocess per image at shape (1, 3, 256, 640)\n",
      "\n",
      "0: 256x640 (no detections), 22.5ms\n",
      "Speed: 1.0ms preprocess, 22.5ms inference, 1.0ms postprocess per image at shape (1, 3, 256, 640)\n",
      "\n",
      "0: 256x640 (no detections), 23.0ms\n",
      "Speed: 2.0ms preprocess, 23.0ms inference, 2.5ms postprocess per image at shape (1, 3, 256, 640)\n",
      "\n",
      "0: 256x640 (no detections), 22.0ms\n",
      "Speed: 2.0ms preprocess, 22.0ms inference, 1.0ms postprocess per image at shape (1, 3, 256, 640)\n",
      "\n",
      "0: 256x640 (no detections), 23.0ms\n",
      "Speed: 1.0ms preprocess, 23.0ms inference, 1.0ms postprocess per image at shape (1, 3, 256, 640)\n",
      "\n",
      "0: 256x640 (no detections), 23.0ms\n",
      "Speed: 3.0ms preprocess, 23.0ms inference, 1.0ms postprocess per image at shape (1, 3, 256, 640)\n",
      "\n",
      "0: 256x640 (no detections), 22.5ms\n",
      "Speed: 2.0ms preprocess, 22.5ms inference, 1.0ms postprocess per image at shape (1, 3, 256, 640)\n",
      "\n",
      "0: 256x640 (no detections), 22.0ms\n",
      "Speed: 2.0ms preprocess, 22.0ms inference, 2.0ms postprocess per image at shape (1, 3, 256, 640)\n",
      "\n",
      "0: 256x640 (no detections), 22.6ms\n",
      "Speed: 2.0ms preprocess, 22.6ms inference, 2.0ms postprocess per image at shape (1, 3, 256, 640)\n",
      "\n",
      "0: 256x640 (no detections), 22.0ms\n",
      "Speed: 1.0ms preprocess, 22.0ms inference, 1.0ms postprocess per image at shape (1, 3, 256, 640)\n",
      "\n",
      "0: 256x640 (no detections), 22.0ms\n",
      "Speed: 1.0ms preprocess, 22.0ms inference, 2.0ms postprocess per image at shape (1, 3, 256, 640)\n",
      "\n",
      "0: 256x640 (no detections), 23.0ms\n",
      "Speed: 1.9ms preprocess, 23.0ms inference, 1.0ms postprocess per image at shape (1, 3, 256, 640)\n",
      "\n",
      "0: 256x640 (no detections), 23.0ms\n",
      "Speed: 2.0ms preprocess, 23.0ms inference, 2.0ms postprocess per image at shape (1, 3, 256, 640)\n",
      "\n",
      "0: 256x640 (no detections), 25.5ms\n",
      "Speed: 1.0ms preprocess, 25.5ms inference, 1.0ms postprocess per image at shape (1, 3, 256, 640)\n"
     ]
    },
    {
     "name": "stderr",
     "output_type": "stream",
     "text": [
      "\n",
      "0: 256x640 (no detections), 23.0ms\n",
      "Speed: 2.0ms preprocess, 23.0ms inference, 2.0ms postprocess per image at shape (1, 3, 256, 640)\n",
      "\n",
      "0: 256x640 (no detections), 23.0ms\n",
      "Speed: 1.0ms preprocess, 23.0ms inference, 3.0ms postprocess per image at shape (1, 3, 256, 640)\n",
      "\n",
      "0: 256x640 (no detections), 22.5ms\n",
      "Speed: 2.0ms preprocess, 22.5ms inference, 3.0ms postprocess per image at shape (1, 3, 256, 640)\n",
      "\n",
      "0: 256x640 (no detections), 22.0ms\n",
      "Speed: 2.0ms preprocess, 22.0ms inference, 3.0ms postprocess per image at shape (1, 3, 256, 640)\n",
      "\n",
      "0: 256x640 (no detections), 22.0ms\n",
      "Speed: 2.0ms preprocess, 22.0ms inference, 3.0ms postprocess per image at shape (1, 3, 256, 640)\n",
      "\n",
      "0: 256x640 (no detections), 22.6ms\n",
      "Speed: 2.0ms preprocess, 22.6ms inference, 2.0ms postprocess per image at shape (1, 3, 256, 640)\n",
      "\n",
      "0: 256x640 (no detections), 21.5ms\n",
      "Speed: 2.9ms preprocess, 21.5ms inference, 2.0ms postprocess per image at shape (1, 3, 256, 640)\n",
      "\n",
      "0: 256x640 (no detections), 21.6ms\n",
      "Speed: 3.0ms preprocess, 21.6ms inference, 1.7ms postprocess per image at shape (1, 3, 256, 640)\n",
      "\n",
      "0: 256x640 (no detections), 23.0ms\n",
      "Speed: 2.0ms preprocess, 23.0ms inference, 1.0ms postprocess per image at shape (1, 3, 256, 640)\n",
      "\n",
      "0: 256x640 (no detections), 23.0ms\n",
      "Speed: 2.0ms preprocess, 23.0ms inference, 2.0ms postprocess per image at shape (1, 3, 256, 640)\n",
      "\n",
      "0: 256x640 (no detections), 22.5ms\n",
      "Speed: 2.0ms preprocess, 22.5ms inference, 3.1ms postprocess per image at shape (1, 3, 256, 640)\n",
      "\n",
      "0: 256x640 (no detections), 22.0ms\n",
      "Speed: 2.0ms preprocess, 22.0ms inference, 2.0ms postprocess per image at shape (1, 3, 256, 640)\n",
      "\n",
      "0: 256x640 (no detections), 23.1ms\n",
      "Speed: 2.0ms preprocess, 23.1ms inference, 2.9ms postprocess per image at shape (1, 3, 256, 640)\n",
      "\n",
      "0: 256x640 (no detections), 22.5ms\n",
      "Speed: 2.0ms preprocess, 22.5ms inference, 3.0ms postprocess per image at shape (1, 3, 256, 640)\n",
      "\n",
      "0: 256x640 (no detections), 22.4ms\n",
      "Speed: 2.0ms preprocess, 22.4ms inference, 2.6ms postprocess per image at shape (1, 3, 256, 640)\n",
      "\n",
      "0: 256x640 (no detections), 23.0ms\n",
      "Speed: 1.9ms preprocess, 23.0ms inference, 3.1ms postprocess per image at shape (1, 3, 256, 640)\n",
      "\n",
      "0: 256x640 (no detections), 22.6ms\n",
      "Speed: 2.0ms preprocess, 22.6ms inference, 3.0ms postprocess per image at shape (1, 3, 256, 640)\n",
      "\n",
      "0: 256x640 (no detections), 22.2ms\n",
      "Speed: 2.0ms preprocess, 22.2ms inference, 2.8ms postprocess per image at shape (1, 3, 256, 640)\n",
      "\n",
      "0: 256x640 (no detections), 22.5ms\n",
      "Speed: 2.0ms preprocess, 22.5ms inference, 3.0ms postprocess per image at shape (1, 3, 256, 640)\n",
      "\n",
      "0: 256x640 (no detections), 22.0ms\n",
      "Speed: 2.0ms preprocess, 22.0ms inference, 3.0ms postprocess per image at shape (1, 3, 256, 640)\n",
      "\n",
      "0: 256x640 (no detections), 23.0ms\n",
      "Speed: 2.0ms preprocess, 23.0ms inference, 1.0ms postprocess per image at shape (1, 3, 256, 640)\n",
      "\n",
      "0: 256x640 (no detections), 23.0ms\n",
      "Speed: 2.0ms preprocess, 23.0ms inference, 1.0ms postprocess per image at shape (1, 3, 256, 640)\n",
      "\n",
      "0: 256x640 (no detections), 22.6ms\n",
      "Speed: 3.0ms preprocess, 22.6ms inference, 3.0ms postprocess per image at shape (1, 3, 256, 640)\n",
      "\n",
      "0: 256x640 (no detections), 23.0ms\n",
      "Speed: 1.0ms preprocess, 23.0ms inference, 3.0ms postprocess per image at shape (1, 3, 256, 640)\n",
      "\n",
      "0: 256x640 (no detections), 24.0ms\n",
      "Speed: 2.0ms preprocess, 24.0ms inference, 3.0ms postprocess per image at shape (1, 3, 256, 640)\n",
      "\n",
      "0: 256x640 (no detections), 22.0ms\n",
      "Speed: 2.0ms preprocess, 22.0ms inference, 3.0ms postprocess per image at shape (1, 3, 256, 640)\n",
      "\n",
      "0: 256x640 (no detections), 23.0ms\n",
      "Speed: 2.0ms preprocess, 23.0ms inference, 3.0ms postprocess per image at shape (1, 3, 256, 640)\n",
      "\n",
      "0: 256x640 (no detections), 23.3ms\n",
      "Speed: 2.0ms preprocess, 23.3ms inference, 3.7ms postprocess per image at shape (1, 3, 256, 640)\n",
      "\n",
      "0: 256x640 (no detections), 22.5ms\n",
      "Speed: 2.0ms preprocess, 22.5ms inference, 2.4ms postprocess per image at shape (1, 3, 256, 640)\n",
      "\n",
      "0: 256x640 (no detections), 22.1ms\n",
      "Speed: 2.0ms preprocess, 22.1ms inference, 2.9ms postprocess per image at shape (1, 3, 256, 640)\n",
      "\n",
      "0: 256x640 (no detections), 22.0ms\n",
      "Speed: 2.0ms preprocess, 22.0ms inference, 4.0ms postprocess per image at shape (1, 3, 256, 640)\n",
      "\n",
      "0: 256x640 (no detections), 23.0ms\n",
      "Speed: 2.0ms preprocess, 23.0ms inference, 3.0ms postprocess per image at shape (1, 3, 256, 640)\n",
      "\n",
      "0: 256x640 (no detections), 23.6ms\n",
      "Speed: 3.0ms preprocess, 23.6ms inference, 3.1ms postprocess per image at shape (1, 3, 256, 640)\n",
      "\n",
      "0: 256x640 (no detections), 22.0ms\n",
      "Speed: 2.0ms preprocess, 22.0ms inference, 2.1ms postprocess per image at shape (1, 3, 256, 640)\n",
      "\n",
      "0: 256x640 (no detections), 23.0ms\n",
      "Speed: 1.0ms preprocess, 23.0ms inference, 3.0ms postprocess per image at shape (1, 3, 256, 640)\n",
      "\n",
      "0: 256x640 (no detections), 22.0ms\n",
      "Speed: 2.0ms preprocess, 22.0ms inference, 3.0ms postprocess per image at shape (1, 3, 256, 640)\n",
      "\n",
      "0: 256x640 (no detections), 23.0ms\n",
      "Speed: 2.0ms preprocess, 23.0ms inference, 3.0ms postprocess per image at shape (1, 3, 256, 640)\n",
      "\n",
      "0: 256x640 (no detections), 22.6ms\n",
      "Speed: 2.0ms preprocess, 22.6ms inference, 3.0ms postprocess per image at shape (1, 3, 256, 640)\n",
      "\n",
      "0: 256x640 (no detections), 21.5ms\n",
      "Speed: 2.0ms preprocess, 21.5ms inference, 1.0ms postprocess per image at shape (1, 3, 256, 640)\n",
      "\n",
      "0: 256x640 (no detections), 22.0ms\n",
      "Speed: 2.0ms preprocess, 22.0ms inference, 2.0ms postprocess per image at shape (1, 3, 256, 640)\n",
      "\n",
      "0: 256x640 (no detections), 23.0ms\n",
      "Speed: 1.0ms preprocess, 23.0ms inference, 1.0ms postprocess per image at shape (1, 3, 256, 640)\n",
      "\n",
      "0: 256x640 (no detections), 22.0ms\n",
      "Speed: 2.1ms preprocess, 22.0ms inference, 2.0ms postprocess per image at shape (1, 3, 256, 640)\n",
      "\n",
      "0: 256x640 (no detections), 23.0ms\n",
      "Speed: 1.0ms preprocess, 23.0ms inference, 1.0ms postprocess per image at shape (1, 3, 256, 640)\n",
      "\n",
      "0: 256x640 (no detections), 22.0ms\n",
      "Speed: 2.0ms preprocess, 22.0ms inference, 2.0ms postprocess per image at shape (1, 3, 256, 640)\n",
      "\n",
      "0: 256x640 (no detections), 22.0ms\n",
      "Speed: 2.5ms preprocess, 22.0ms inference, 2.0ms postprocess per image at shape (1, 3, 256, 640)\n",
      "\n",
      "0: 256x640 (no detections), 23.0ms\n",
      "Speed: 2.0ms preprocess, 23.0ms inference, 1.0ms postprocess per image at shape (1, 3, 256, 640)\n",
      "\n",
      "0: 256x640 (no detections), 22.3ms\n",
      "Speed: 1.0ms preprocess, 22.3ms inference, 2.0ms postprocess per image at shape (1, 3, 256, 640)\n",
      "\n",
      "0: 256x640 (no detections), 25.0ms\n",
      "Speed: 1.0ms preprocess, 25.0ms inference, 1.6ms postprocess per image at shape (1, 3, 256, 640)\n",
      "\n",
      "0: 256x640 (no detections), 23.1ms\n",
      "Speed: 1.5ms preprocess, 23.1ms inference, 1.9ms postprocess per image at shape (1, 3, 256, 640)\n",
      "\n",
      "0: 256x640 (no detections), 26.0ms\n",
      "Speed: 2.0ms preprocess, 26.0ms inference, 3.0ms postprocess per image at shape (1, 3, 256, 640)\n",
      "\n",
      "0: 256x640 (no detections), 22.0ms\n",
      "Speed: 2.0ms preprocess, 22.0ms inference, 2.0ms postprocess per image at shape (1, 3, 256, 640)\n",
      "\n",
      "0: 256x640 (no detections), 23.7ms\n",
      "Speed: 1.0ms preprocess, 23.7ms inference, 2.0ms postprocess per image at shape (1, 3, 256, 640)\n",
      "\n",
      "0: 256x640 (no detections), 23.0ms\n",
      "Speed: 2.0ms preprocess, 23.0ms inference, 3.6ms postprocess per image at shape (1, 3, 256, 640)\n",
      "\n",
      "0: 256x640 (no detections), 22.1ms\n",
      "Speed: 2.0ms preprocess, 22.1ms inference, 2.0ms postprocess per image at shape (1, 3, 256, 640)\n",
      "\n",
      "0: 256x640 (no detections), 23.0ms\n",
      "Speed: 2.1ms preprocess, 23.0ms inference, 2.3ms postprocess per image at shape (1, 3, 256, 640)\n",
      "\n",
      "0: 256x640 (no detections), 26.0ms\n",
      "Speed: 2.0ms preprocess, 26.0ms inference, 2.0ms postprocess per image at shape (1, 3, 256, 640)\n",
      "\n",
      "0: 256x640 (no detections), 29.1ms\n",
      "Speed: 2.0ms preprocess, 29.1ms inference, 2.0ms postprocess per image at shape (1, 3, 256, 640)\n",
      "\n",
      "0: 256x640 (no detections), 24.0ms\n",
      "Speed: 2.0ms preprocess, 24.0ms inference, 3.0ms postprocess per image at shape (1, 3, 256, 640)\n",
      "\n",
      "0: 256x640 (no detections), 23.0ms\n",
      "Speed: 2.0ms preprocess, 23.0ms inference, 2.0ms postprocess per image at shape (1, 3, 256, 640)\n",
      "\n",
      "0: 256x640 (no detections), 24.0ms\n",
      "Speed: 2.0ms preprocess, 24.0ms inference, 2.0ms postprocess per image at shape (1, 3, 256, 640)\n",
      "\n",
      "0: 256x640 (no detections), 24.0ms\n",
      "Speed: 1.0ms preprocess, 24.0ms inference, 2.0ms postprocess per image at shape (1, 3, 256, 640)\n",
      "\n",
      "0: 256x640 (no detections), 22.6ms\n",
      "Speed: 2.0ms preprocess, 22.6ms inference, 3.0ms postprocess per image at shape (1, 3, 256, 640)\n"
     ]
    },
    {
     "name": "stderr",
     "output_type": "stream",
     "text": [
      "\n",
      "0: 256x640 (no detections), 23.1ms\n",
      "Speed: 1.0ms preprocess, 23.1ms inference, 2.9ms postprocess per image at shape (1, 3, 256, 640)\n",
      "\n",
      "0: 256x640 (no detections), 23.0ms\n",
      "Speed: 1.0ms preprocess, 23.0ms inference, 3.0ms postprocess per image at shape (1, 3, 256, 640)\n",
      "\n",
      "0: 256x640 (no detections), 22.0ms\n",
      "Speed: 2.0ms preprocess, 22.0ms inference, 4.0ms postprocess per image at shape (1, 3, 256, 640)\n",
      "\n",
      "0: 256x640 (no detections), 23.0ms\n",
      "Speed: 2.0ms preprocess, 23.0ms inference, 3.0ms postprocess per image at shape (1, 3, 256, 640)\n",
      "\n",
      "0: 256x640 (no detections), 23.0ms\n",
      "Speed: 1.0ms preprocess, 23.0ms inference, 4.0ms postprocess per image at shape (1, 3, 256, 640)\n",
      "\n",
      "0: 256x640 (no detections), 22.6ms\n",
      "Speed: 2.0ms preprocess, 22.6ms inference, 3.6ms postprocess per image at shape (1, 3, 256, 640)\n",
      "\n",
      "0: 256x640 (no detections), 22.1ms\n",
      "Speed: 2.0ms preprocess, 22.1ms inference, 2.0ms postprocess per image at shape (1, 3, 256, 640)\n",
      "\n",
      "0: 256x640 (no detections), 23.0ms\n",
      "Speed: 1.0ms preprocess, 23.0ms inference, 3.0ms postprocess per image at shape (1, 3, 256, 640)\n",
      "\n",
      "0: 256x640 (no detections), 23.0ms\n",
      "Speed: 1.0ms preprocess, 23.0ms inference, 3.0ms postprocess per image at shape (1, 3, 256, 640)\n",
      "\n",
      "0: 256x640 (no detections), 22.0ms\n",
      "Speed: 1.0ms preprocess, 22.0ms inference, 4.0ms postprocess per image at shape (1, 3, 256, 640)\n",
      "\n",
      "0: 256x640 (no detections), 22.7ms\n",
      "Speed: 2.0ms preprocess, 22.7ms inference, 2.3ms postprocess per image at shape (1, 3, 256, 640)\n",
      "\n",
      "0: 256x640 (no detections), 22.0ms\n",
      "Speed: 2.0ms preprocess, 22.0ms inference, 3.0ms postprocess per image at shape (1, 3, 256, 640)\n",
      "\n",
      "0: 256x640 (no detections), 21.5ms\n",
      "Speed: 1.0ms preprocess, 21.5ms inference, 3.0ms postprocess per image at shape (1, 3, 256, 640)\n",
      "\n",
      "0: 256x640 (no detections), 23.0ms\n",
      "Speed: 1.0ms preprocess, 23.0ms inference, 2.0ms postprocess per image at shape (1, 3, 256, 640)\n",
      "\n",
      "0: 256x640 (no detections), 22.6ms\n",
      "Speed: 2.0ms preprocess, 22.6ms inference, 3.0ms postprocess per image at shape (1, 3, 256, 640)\n",
      "\n",
      "0: 256x640 (no detections), 22.0ms\n",
      "Speed: 2.0ms preprocess, 22.0ms inference, 3.0ms postprocess per image at shape (1, 3, 256, 640)\n",
      "\n",
      "0: 256x640 (no detections), 22.0ms\n",
      "Speed: 2.0ms preprocess, 22.0ms inference, 4.1ms postprocess per image at shape (1, 3, 256, 640)\n",
      "\n",
      "0: 256x640 (no detections), 22.5ms\n",
      "Speed: 1.0ms preprocess, 22.5ms inference, 3.0ms postprocess per image at shape (1, 3, 256, 640)\n",
      "\n",
      "0: 256x640 (no detections), 22.0ms\n",
      "Speed: 2.0ms preprocess, 22.0ms inference, 3.0ms postprocess per image at shape (1, 3, 256, 640)\n",
      "\n",
      "0: 256x640 (no detections), 23.0ms\n",
      "Speed: 1.0ms preprocess, 23.0ms inference, 2.0ms postprocess per image at shape (1, 3, 256, 640)\n",
      "\n",
      "0: 256x640 (no detections), 22.5ms\n",
      "Speed: 2.0ms preprocess, 22.5ms inference, 2.0ms postprocess per image at shape (1, 3, 256, 640)\n",
      "\n",
      "0: 256x640 (no detections), 22.0ms\n",
      "Speed: 2.0ms preprocess, 22.0ms inference, 3.0ms postprocess per image at shape (1, 3, 256, 640)\n",
      "\n",
      "0: 256x640 (no detections), 22.0ms\n",
      "Speed: 3.0ms preprocess, 22.0ms inference, 3.0ms postprocess per image at shape (1, 3, 256, 640)\n",
      "\n",
      "0: 256x640 (no detections), 22.0ms\n",
      "Speed: 2.0ms preprocess, 22.0ms inference, 3.0ms postprocess per image at shape (1, 3, 256, 640)\n",
      "\n",
      "0: 256x640 (no detections), 22.5ms\n",
      "Speed: 2.0ms preprocess, 22.5ms inference, 3.0ms postprocess per image at shape (1, 3, 256, 640)\n",
      "\n",
      "0: 256x640 (no detections), 22.0ms\n",
      "Speed: 2.0ms preprocess, 22.0ms inference, 3.0ms postprocess per image at shape (1, 3, 256, 640)\n",
      "\n",
      "0: 256x640 (no detections), 22.5ms\n",
      "Speed: 2.0ms preprocess, 22.5ms inference, 3.0ms postprocess per image at shape (1, 3, 256, 640)\n",
      "\n",
      "0: 256x640 (no detections), 22.0ms\n",
      "Speed: 1.0ms preprocess, 22.0ms inference, 2.0ms postprocess per image at shape (1, 3, 256, 640)\n",
      "\n",
      "0: 256x640 (no detections), 22.5ms\n",
      "Speed: 2.0ms preprocess, 22.5ms inference, 4.0ms postprocess per image at shape (1, 3, 256, 640)\n",
      "\n",
      "0: 256x640 (no detections), 22.0ms\n",
      "Speed: 2.0ms preprocess, 22.0ms inference, 3.0ms postprocess per image at shape (1, 3, 256, 640)\n",
      "\n",
      "0: 256x640 1 battery_plus, 22.5ms\n",
      "Speed: 2.0ms preprocess, 22.5ms inference, 60.6ms postprocess per image at shape (1, 3, 256, 640)\n",
      "\n",
      "0: 256x640 (no detections), 22.0ms\n",
      "Speed: 2.0ms preprocess, 22.0ms inference, 2.0ms postprocess per image at shape (1, 3, 256, 640)\n",
      "\n",
      "0: 256x640 1 battery_plus, 22.0ms\n",
      "Speed: 2.0ms preprocess, 22.0ms inference, 17.0ms postprocess per image at shape (1, 3, 256, 640)\n",
      "\n",
      "0: 256x640 1 battery_plus, 23.0ms\n",
      "Speed: 2.0ms preprocess, 23.0ms inference, 4.0ms postprocess per image at shape (1, 3, 256, 640)\n",
      "\n",
      "0: 256x640 1 battery_plus, 23.0ms\n",
      "Speed: 1.0ms preprocess, 23.0ms inference, 4.0ms postprocess per image at shape (1, 3, 256, 640)\n",
      "\n",
      "0: 256x640 1 battery_plus, 22.9ms\n",
      "Speed: 1.0ms preprocess, 22.9ms inference, 5.0ms postprocess per image at shape (1, 3, 256, 640)\n",
      "\n",
      "0: 256x640 1 battery_plus, 23.0ms\n",
      "Speed: 1.0ms preprocess, 23.0ms inference, 4.0ms postprocess per image at shape (1, 3, 256, 640)\n",
      "\n",
      "0: 256x640 1 battery_plus, 23.0ms\n",
      "Speed: 2.0ms preprocess, 23.0ms inference, 3.0ms postprocess per image at shape (1, 3, 256, 640)\n",
      "\n",
      "0: 256x640 1 battery_plus, 22.6ms\n",
      "Speed: 2.0ms preprocess, 22.6ms inference, 4.0ms postprocess per image at shape (1, 3, 256, 640)\n",
      "\n",
      "0: 256x640 1 battery_plus, 22.0ms\n",
      "Speed: 1.0ms preprocess, 22.0ms inference, 2.0ms postprocess per image at shape (1, 3, 256, 640)\n",
      "\n",
      "0: 256x640 1 battery_plus, 23.1ms\n",
      "Speed: 2.0ms preprocess, 23.1ms inference, 2.9ms postprocess per image at shape (1, 3, 256, 640)\n",
      "\n",
      "0: 256x640 1 battery_plus, 24.2ms\n",
      "Speed: 2.0ms preprocess, 24.2ms inference, 4.0ms postprocess per image at shape (1, 3, 256, 640)\n",
      "\n",
      "0: 256x640 1 battery_plus, 23.9ms\n",
      "Speed: 2.1ms preprocess, 23.9ms inference, 3.0ms postprocess per image at shape (1, 3, 256, 640)\n",
      "\n",
      "0: 256x640 1 battery_plus, 22.0ms\n",
      "Speed: 2.6ms preprocess, 22.0ms inference, 4.0ms postprocess per image at shape (1, 3, 256, 640)\n",
      "\n",
      "0: 256x640 1 battery_plus, 22.0ms\n",
      "Speed: 2.0ms preprocess, 22.0ms inference, 4.0ms postprocess per image at shape (1, 3, 256, 640)\n",
      "\n",
      "0: 256x640 1 battery_plus, 22.0ms\n",
      "Speed: 2.0ms preprocess, 22.0ms inference, 6.0ms postprocess per image at shape (1, 3, 256, 640)\n",
      "\n",
      "0: 256x640 1 battery_plus, 24.0ms\n",
      "Speed: 2.0ms preprocess, 24.0ms inference, 3.0ms postprocess per image at shape (1, 3, 256, 640)\n",
      "\n",
      "0: 256x640 1 battery_plus, 23.6ms\n",
      "Speed: 2.0ms preprocess, 23.6ms inference, 4.0ms postprocess per image at shape (1, 3, 256, 640)\n",
      "\n",
      "0: 256x640 1 battery_plus, 23.0ms\n",
      "Speed: 1.0ms preprocess, 23.0ms inference, 3.0ms postprocess per image at shape (1, 3, 256, 640)\n",
      "\n",
      "0: 256x640 1 battery_plus, 22.5ms\n",
      "Speed: 2.0ms preprocess, 22.5ms inference, 5.0ms postprocess per image at shape (1, 3, 256, 640)\n",
      "\n",
      "0: 256x640 1 battery_plus, 24.0ms\n",
      "Speed: 2.0ms preprocess, 24.0ms inference, 4.0ms postprocess per image at shape (1, 3, 256, 640)\n",
      "\n",
      "0: 256x640 1 battery_plus, 24.0ms\n",
      "Speed: 2.0ms preprocess, 24.0ms inference, 4.2ms postprocess per image at shape (1, 3, 256, 640)\n",
      "\n",
      "0: 256x640 1 battery_plus, 22.5ms\n",
      "Speed: 3.0ms preprocess, 22.5ms inference, 3.0ms postprocess per image at shape (1, 3, 256, 640)\n",
      "\n",
      "0: 256x640 1 battery_plus, 22.7ms\n",
      "Speed: 3.0ms preprocess, 22.7ms inference, 2.9ms postprocess per image at shape (1, 3, 256, 640)\n",
      "\n",
      "0: 256x640 1 battery_plus, 23.0ms\n",
      "Speed: 2.0ms preprocess, 23.0ms inference, 4.0ms postprocess per image at shape (1, 3, 256, 640)\n",
      "\n",
      "0: 256x640 1 battery_plus, 22.0ms\n",
      "Speed: 2.0ms preprocess, 22.0ms inference, 3.1ms postprocess per image at shape (1, 3, 256, 640)\n",
      "\n",
      "0: 256x640 1 battery_plus, 22.1ms\n",
      "Speed: 2.0ms preprocess, 22.1ms inference, 4.9ms postprocess per image at shape (1, 3, 256, 640)\n",
      "\n",
      "0: 256x640 1 battery_plus, 23.0ms\n",
      "Speed: 1.0ms preprocess, 23.0ms inference, 4.5ms postprocess per image at shape (1, 3, 256, 640)\n",
      "\n",
      "0: 256x640 1 battery_plus, 22.6ms\n",
      "Speed: 1.0ms preprocess, 22.6ms inference, 4.0ms postprocess per image at shape (1, 3, 256, 640)\n",
      "\n",
      "0: 256x640 1 battery_plus, 22.0ms\n",
      "Speed: 2.0ms preprocess, 22.0ms inference, 2.0ms postprocess per image at shape (1, 3, 256, 640)\n",
      "\n",
      "0: 256x640 1 battery_plus, 23.0ms\n",
      "Speed: 2.0ms preprocess, 23.0ms inference, 5.5ms postprocess per image at shape (1, 3, 256, 640)\n",
      "\n",
      "0: 256x640 1 battery_plus, 22.0ms\n",
      "Speed: 2.0ms preprocess, 22.0ms inference, 3.6ms postprocess per image at shape (1, 3, 256, 640)\n"
     ]
    },
    {
     "name": "stderr",
     "output_type": "stream",
     "text": [
      "\n",
      "0: 256x640 1 battery_plus, 22.0ms\n",
      "Speed: 2.0ms preprocess, 22.0ms inference, 3.0ms postprocess per image at shape (1, 3, 256, 640)\n",
      "\n",
      "0: 256x640 1 battery_plus, 23.0ms\n",
      "Speed: 2.0ms preprocess, 23.0ms inference, 3.0ms postprocess per image at shape (1, 3, 256, 640)\n",
      "\n",
      "0: 256x640 1 battery_plus, 22.6ms\n",
      "Speed: 2.0ms preprocess, 22.6ms inference, 2.9ms postprocess per image at shape (1, 3, 256, 640)\n",
      "\n",
      "0: 256x640 1 battery_plus, 22.6ms\n",
      "Speed: 1.0ms preprocess, 22.6ms inference, 4.0ms postprocess per image at shape (1, 3, 256, 640)\n",
      "\n",
      "0: 256x640 1 battery_plus, 23.1ms\n",
      "Speed: 2.0ms preprocess, 23.1ms inference, 3.9ms postprocess per image at shape (1, 3, 256, 640)\n",
      "\n",
      "0: 256x640 1 battery_plus, 24.1ms\n",
      "Speed: 2.0ms preprocess, 24.1ms inference, 3.0ms postprocess per image at shape (1, 3, 256, 640)\n",
      "\n",
      "0: 256x640 1 battery_plus, 24.0ms\n",
      "Speed: 3.0ms preprocess, 24.0ms inference, 3.0ms postprocess per image at shape (1, 3, 256, 640)\n",
      "\n",
      "0: 256x640 1 battery_plus, 21.6ms\n",
      "Speed: 2.0ms preprocess, 21.6ms inference, 3.0ms postprocess per image at shape (1, 3, 256, 640)\n",
      "\n",
      "0: 256x640 1 battery_plus, 22.0ms\n",
      "Speed: 2.0ms preprocess, 22.0ms inference, 3.0ms postprocess per image at shape (1, 3, 256, 640)\n",
      "\n",
      "0: 256x640 1 battery_plus, 23.0ms\n",
      "Speed: 2.0ms preprocess, 23.0ms inference, 4.1ms postprocess per image at shape (1, 3, 256, 640)\n",
      "\n",
      "0: 256x640 1 battery_plus, 22.6ms\n",
      "Speed: 2.0ms preprocess, 22.6ms inference, 2.9ms postprocess per image at shape (1, 3, 256, 640)\n",
      "\n",
      "0: 256x640 1 battery_plus, 23.1ms\n",
      "Speed: 1.0ms preprocess, 23.1ms inference, 2.9ms postprocess per image at shape (1, 3, 256, 640)\n",
      "\n",
      "0: 256x640 1 battery_plus, 22.0ms\n",
      "Speed: 2.0ms preprocess, 22.0ms inference, 4.0ms postprocess per image at shape (1, 3, 256, 640)\n",
      "\n",
      "0: 256x640 1 battery_plus, 22.0ms\n",
      "Speed: 2.0ms preprocess, 22.0ms inference, 3.0ms postprocess per image at shape (1, 3, 256, 640)\n",
      "\n",
      "0: 256x640 1 battery_plus, 23.0ms\n",
      "Speed: 2.0ms preprocess, 23.0ms inference, 4.0ms postprocess per image at shape (1, 3, 256, 640)\n",
      "\n",
      "0: 256x640 1 battery_plus, 25.1ms\n",
      "Speed: 2.0ms preprocess, 25.1ms inference, 3.0ms postprocess per image at shape (1, 3, 256, 640)\n",
      "\n",
      "0: 256x640 1 battery_plus, 24.0ms\n",
      "Speed: 2.0ms preprocess, 24.0ms inference, 6.0ms postprocess per image at shape (1, 3, 256, 640)\n",
      "\n",
      "0: 256x640 1 battery_plus, 24.0ms\n",
      "Speed: 1.9ms preprocess, 24.0ms inference, 3.0ms postprocess per image at shape (1, 3, 256, 640)\n",
      "\n",
      "0: 256x640 1 battery_plus, 23.0ms\n",
      "Speed: 3.0ms preprocess, 23.0ms inference, 4.0ms postprocess per image at shape (1, 3, 256, 640)\n",
      "\n",
      "0: 256x640 1 battery_plus, 25.0ms\n",
      "Speed: 2.0ms preprocess, 25.0ms inference, 2.0ms postprocess per image at shape (1, 3, 256, 640)\n",
      "\n",
      "0: 256x640 1 battery_plus, 25.6ms\n",
      "Speed: 1.0ms preprocess, 25.6ms inference, 3.0ms postprocess per image at shape (1, 3, 256, 640)\n",
      "\n",
      "0: 256x640 1 battery_plus, 24.6ms\n",
      "Speed: 4.0ms preprocess, 24.6ms inference, 2.0ms postprocess per image at shape (1, 3, 256, 640)\n",
      "\n",
      "0: 256x640 1 battery_plus, 24.6ms\n",
      "Speed: 2.0ms preprocess, 24.6ms inference, 3.3ms postprocess per image at shape (1, 3, 256, 640)\n",
      "\n",
      "0: 256x640 1 battery_plus, 24.0ms\n",
      "Speed: 2.0ms preprocess, 24.0ms inference, 5.0ms postprocess per image at shape (1, 3, 256, 640)\n",
      "\n",
      "0: 256x640 1 battery_plus, 24.5ms\n",
      "Speed: 2.0ms preprocess, 24.5ms inference, 3.0ms postprocess per image at shape (1, 3, 256, 640)\n",
      "\n",
      "0: 256x640 1 battery_plus, 23.6ms\n",
      "Speed: 1.0ms preprocess, 23.6ms inference, 2.0ms postprocess per image at shape (1, 3, 256, 640)\n",
      "\n",
      "0: 256x640 1 battery_plus, 25.1ms\n",
      "Speed: 2.0ms preprocess, 25.1ms inference, 2.9ms postprocess per image at shape (1, 3, 256, 640)\n",
      "\n",
      "0: 256x640 1 battery_plus, 24.5ms\n",
      "Speed: 3.0ms preprocess, 24.5ms inference, 3.0ms postprocess per image at shape (1, 3, 256, 640)\n",
      "\n",
      "0: 256x640 1 battery_plus, 23.5ms\n",
      "Speed: 1.0ms preprocess, 23.5ms inference, 5.0ms postprocess per image at shape (1, 3, 256, 640)\n",
      "\n",
      "0: 256x640 1 battery_plus, 23.8ms\n",
      "Speed: 2.0ms preprocess, 23.8ms inference, 4.0ms postprocess per image at shape (1, 3, 256, 640)\n",
      "\n",
      "0: 256x640 1 battery_plus, 26.0ms\n",
      "Speed: 2.0ms preprocess, 26.0ms inference, 3.0ms postprocess per image at shape (1, 3, 256, 640)\n",
      "\n",
      "0: 256x640 1 battery_plus, 24.0ms\n",
      "Speed: 2.0ms preprocess, 24.0ms inference, 4.0ms postprocess per image at shape (1, 3, 256, 640)\n",
      "\n",
      "0: 256x640 1 battery_plus, 24.0ms\n",
      "Speed: 2.0ms preprocess, 24.0ms inference, 3.0ms postprocess per image at shape (1, 3, 256, 640)\n",
      "\n",
      "0: 256x640 1 battery_plus, 25.0ms\n",
      "Speed: 2.0ms preprocess, 25.0ms inference, 3.0ms postprocess per image at shape (1, 3, 256, 640)\n",
      "\n",
      "0: 256x640 1 battery_plus, 25.0ms\n",
      "Speed: 2.0ms preprocess, 25.0ms inference, 4.0ms postprocess per image at shape (1, 3, 256, 640)\n",
      "\n",
      "0: 256x640 1 battery_plus, 23.5ms\n",
      "Speed: 2.0ms preprocess, 23.5ms inference, 4.1ms postprocess per image at shape (1, 3, 256, 640)\n",
      "\n",
      "0: 256x640 1 battery_plus, 24.0ms\n",
      "Speed: 2.0ms preprocess, 24.0ms inference, 5.0ms postprocess per image at shape (1, 3, 256, 640)\n",
      "\n",
      "0: 256x640 1 battery_plus, 24.0ms\n",
      "Speed: 2.0ms preprocess, 24.0ms inference, 3.0ms postprocess per image at shape (1, 3, 256, 640)\n",
      "\n",
      "0: 256x640 1 battery_plus, 26.0ms\n",
      "Speed: 2.0ms preprocess, 26.0ms inference, 3.0ms postprocess per image at shape (1, 3, 256, 640)\n",
      "\n",
      "0: 256x640 1 battery_plus, 25.0ms\n",
      "Speed: 2.0ms preprocess, 25.0ms inference, 6.0ms postprocess per image at shape (1, 3, 256, 640)\n",
      "\n",
      "0: 256x640 1 battery_plus, 23.0ms\n",
      "Speed: 2.0ms preprocess, 23.0ms inference, 3.0ms postprocess per image at shape (1, 3, 256, 640)\n",
      "\n",
      "0: 256x640 1 battery_plus, 26.0ms\n",
      "Speed: 1.6ms preprocess, 26.0ms inference, 4.0ms postprocess per image at shape (1, 3, 256, 640)\n",
      "\n",
      "0: 256x640 1 battery_plus, 27.0ms\n",
      "Speed: 2.0ms preprocess, 27.0ms inference, 3.0ms postprocess per image at shape (1, 3, 256, 640)\n",
      "\n",
      "0: 256x640 1 battery_plus, 24.0ms\n",
      "Speed: 2.0ms preprocess, 24.0ms inference, 4.5ms postprocess per image at shape (1, 3, 256, 640)\n",
      "\n",
      "0: 256x640 1 battery_plus, 24.0ms\n",
      "Speed: 2.0ms preprocess, 24.0ms inference, 3.0ms postprocess per image at shape (1, 3, 256, 640)\n",
      "\n",
      "0: 256x640 1 battery_plus, 24.0ms\n",
      "Speed: 2.0ms preprocess, 24.0ms inference, 4.0ms postprocess per image at shape (1, 3, 256, 640)\n",
      "\n",
      "0: 256x640 1 battery_plus, 24.0ms\n",
      "Speed: 2.0ms preprocess, 24.0ms inference, 3.0ms postprocess per image at shape (1, 3, 256, 640)\n",
      "\n",
      "0: 256x640 2 battery_pluss, 24.0ms\n",
      "Speed: 1.0ms preprocess, 24.0ms inference, 15.0ms postprocess per image at shape (1, 3, 256, 640)\n",
      "\n",
      "0: 256x640 1 battery_plus, 24.0ms\n",
      "Speed: 2.0ms preprocess, 24.0ms inference, 3.0ms postprocess per image at shape (1, 3, 256, 640)\n",
      "\n",
      "0: 256x640 1 battery_plus, 27.1ms\n",
      "Speed: 2.0ms preprocess, 27.1ms inference, 3.0ms postprocess per image at shape (1, 3, 256, 640)\n",
      "\n",
      "0: 256x640 1 battery_plus, 24.5ms\n",
      "Speed: 2.0ms preprocess, 24.5ms inference, 5.0ms postprocess per image at shape (1, 3, 256, 640)\n",
      "\n",
      "0: 256x640 1 battery_plus, 24.3ms\n",
      "Speed: 2.0ms preprocess, 24.3ms inference, 3.0ms postprocess per image at shape (1, 3, 256, 640)\n",
      "\n",
      "0: 256x640 1 battery_plus, 25.6ms\n",
      "Speed: 1.0ms preprocess, 25.6ms inference, 3.0ms postprocess per image at shape (1, 3, 256, 640)\n",
      "\n",
      "0: 256x640 1 battery_plus, 25.0ms\n",
      "Speed: 3.0ms preprocess, 25.0ms inference, 3.0ms postprocess per image at shape (1, 3, 256, 640)\n",
      "\n",
      "0: 256x640 1 battery_plus, 24.0ms\n",
      "Speed: 2.0ms preprocess, 24.0ms inference, 6.0ms postprocess per image at shape (1, 3, 256, 640)\n",
      "\n",
      "0: 256x640 1 battery_plus, 27.0ms\n",
      "Speed: 2.0ms preprocess, 27.0ms inference, 4.6ms postprocess per image at shape (1, 3, 256, 640)\n",
      "\n",
      "0: 256x640 1 battery_plus, 24.0ms\n",
      "Speed: 3.0ms preprocess, 24.0ms inference, 5.0ms postprocess per image at shape (1, 3, 256, 640)\n",
      "\n",
      "0: 256x640 1 battery_plus, 28.0ms\n",
      "Speed: 3.0ms preprocess, 28.0ms inference, 3.0ms postprocess per image at shape (1, 3, 256, 640)\n",
      "\n",
      "0: 256x640 1 battery_plus, 24.4ms\n",
      "Speed: 2.0ms preprocess, 24.4ms inference, 5.6ms postprocess per image at shape (1, 3, 256, 640)\n",
      "\n",
      "0: 256x640 1 battery_plus, 25.6ms\n",
      "Speed: 2.0ms preprocess, 25.6ms inference, 3.6ms postprocess per image at shape (1, 3, 256, 640)\n",
      "\n",
      "0: 256x640 1 battery_plus, 24.0ms\n",
      "Speed: 1.0ms preprocess, 24.0ms inference, 4.0ms postprocess per image at shape (1, 3, 256, 640)\n",
      "\n",
      "0: 256x640 1 battery_plus, 25.0ms\n",
      "Speed: 3.0ms preprocess, 25.0ms inference, 4.0ms postprocess per image at shape (1, 3, 256, 640)\n",
      "\n",
      "0: 256x640 1 battery_plus, 25.0ms\n"
     ]
    },
    {
     "name": "stderr",
     "output_type": "stream",
     "text": [
      "Speed: 3.0ms preprocess, 25.0ms inference, 4.0ms postprocess per image at shape (1, 3, 256, 640)\n",
      "\n",
      "0: 256x640 1 battery_plus, 27.0ms\n",
      "Speed: 2.0ms preprocess, 27.0ms inference, 4.0ms postprocess per image at shape (1, 3, 256, 640)\n",
      "\n",
      "0: 256x640 1 battery_plus, 24.5ms\n",
      "Speed: 3.0ms preprocess, 24.5ms inference, 4.0ms postprocess per image at shape (1, 3, 256, 640)\n",
      "\n",
      "0: 256x640 1 battery_plus, 28.6ms\n",
      "Speed: 3.0ms preprocess, 28.6ms inference, 4.0ms postprocess per image at shape (1, 3, 256, 640)\n",
      "\n",
      "0: 256x640 1 battery_plus, 23.6ms\n",
      "Speed: 2.0ms preprocess, 23.6ms inference, 6.0ms postprocess per image at shape (1, 3, 256, 640)\n",
      "\n",
      "0: 256x640 1 battery_plus, 25.0ms\n",
      "Speed: 2.0ms preprocess, 25.0ms inference, 4.0ms postprocess per image at shape (1, 3, 256, 640)\n",
      "\n",
      "0: 256x640 1 battery_plus, 24.0ms\n",
      "Speed: 2.0ms preprocess, 24.0ms inference, 4.0ms postprocess per image at shape (1, 3, 256, 640)\n",
      "\n",
      "0: 256x640 1 battery_plus, 24.0ms\n",
      "Speed: 2.0ms preprocess, 24.0ms inference, 3.9ms postprocess per image at shape (1, 3, 256, 640)\n",
      "\n",
      "0: 256x640 1 battery_plus, 24.0ms\n",
      "Speed: 4.0ms preprocess, 24.0ms inference, 4.0ms postprocess per image at shape (1, 3, 256, 640)\n",
      "\n",
      "0: 256x640 1 battery_plus, 25.0ms\n",
      "Speed: 3.0ms preprocess, 25.0ms inference, 6.0ms postprocess per image at shape (1, 3, 256, 640)\n",
      "\n",
      "0: 256x640 1 battery_plus, 30.0ms\n",
      "Speed: 3.0ms preprocess, 30.0ms inference, 4.0ms postprocess per image at shape (1, 3, 256, 640)\n",
      "\n",
      "0: 256x640 1 battery_plus, 24.0ms\n",
      "Speed: 3.0ms preprocess, 24.0ms inference, 4.0ms postprocess per image at shape (1, 3, 256, 640)\n",
      "\n",
      "0: 256x640 1 battery_plus, 25.6ms\n",
      "Speed: 2.0ms preprocess, 25.6ms inference, 4.9ms postprocess per image at shape (1, 3, 256, 640)\n",
      "\n",
      "0: 256x640 1 battery_plus, 25.0ms\n",
      "Speed: 3.0ms preprocess, 25.0ms inference, 4.0ms postprocess per image at shape (1, 3, 256, 640)\n",
      "\n",
      "0: 256x640 1 battery_plus, 28.0ms\n",
      "Speed: 2.0ms preprocess, 28.0ms inference, 4.0ms postprocess per image at shape (1, 3, 256, 640)\n",
      "\n",
      "0: 256x640 1 battery_plus, 24.3ms\n",
      "Speed: 2.0ms preprocess, 24.3ms inference, 5.5ms postprocess per image at shape (1, 3, 256, 640)\n",
      "\n",
      "0: 256x640 1 battery_plus, 24.4ms\n",
      "Speed: 3.6ms preprocess, 24.4ms inference, 4.0ms postprocess per image at shape (1, 3, 256, 640)\n",
      "\n",
      "0: 256x640 1 battery_plus, 24.0ms\n",
      "Speed: 3.0ms preprocess, 24.0ms inference, 3.0ms postprocess per image at shape (1, 3, 256, 640)\n",
      "\n",
      "0: 256x640 1 battery_plus, 30.6ms\n",
      "Speed: 2.0ms preprocess, 30.6ms inference, 4.9ms postprocess per image at shape (1, 3, 256, 640)\n",
      "\n",
      "0: 256x640 1 battery_plus, 25.0ms\n",
      "Speed: 2.0ms preprocess, 25.0ms inference, 5.0ms postprocess per image at shape (1, 3, 256, 640)\n",
      "\n",
      "0: 256x640 1 battery_plus, 25.0ms\n",
      "Speed: 3.0ms preprocess, 25.0ms inference, 5.0ms postprocess per image at shape (1, 3, 256, 640)\n",
      "\n",
      "0: 256x640 1 battery_plus, 23.7ms\n",
      "Speed: 2.0ms preprocess, 23.7ms inference, 4.0ms postprocess per image at shape (1, 3, 256, 640)\n",
      "\n",
      "0: 256x640 1 battery_plus, 27.0ms\n",
      "Speed: 2.0ms preprocess, 27.0ms inference, 4.0ms postprocess per image at shape (1, 3, 256, 640)\n",
      "\n",
      "0: 256x640 1 battery_plus, 24.2ms\n",
      "Speed: 3.0ms preprocess, 24.2ms inference, 3.9ms postprocess per image at shape (1, 3, 256, 640)\n",
      "\n",
      "0: 256x640 1 battery_plus, 27.1ms\n",
      "Speed: 2.0ms preprocess, 27.1ms inference, 3.9ms postprocess per image at shape (1, 3, 256, 640)\n",
      "\n",
      "0: 256x640 1 battery_plus, 29.0ms\n",
      "Speed: 3.0ms preprocess, 29.0ms inference, 4.0ms postprocess per image at shape (1, 3, 256, 640)\n",
      "\n",
      "0: 256x640 1 battery_plus, 24.0ms\n",
      "Speed: 3.0ms preprocess, 24.0ms inference, 5.0ms postprocess per image at shape (1, 3, 256, 640)\n",
      "\n",
      "0: 256x640 1 battery_plus, 27.5ms\n",
      "Speed: 2.0ms preprocess, 27.5ms inference, 4.0ms postprocess per image at shape (1, 3, 256, 640)\n",
      "\n",
      "0: 256x640 1 battery_plus, 24.5ms\n",
      "Speed: 2.0ms preprocess, 24.5ms inference, 6.0ms postprocess per image at shape (1, 3, 256, 640)\n",
      "\n",
      "0: 256x640 1 battery_plus, 26.0ms\n",
      "Speed: 2.0ms preprocess, 26.0ms inference, 4.0ms postprocess per image at shape (1, 3, 256, 640)\n",
      "\n",
      "0: 256x640 1 battery_plus, 26.0ms\n",
      "Speed: 2.0ms preprocess, 26.0ms inference, 5.0ms postprocess per image at shape (1, 3, 256, 640)\n",
      "\n",
      "0: 256x640 1 battery_plus, 30.6ms\n",
      "Speed: 4.0ms preprocess, 30.6ms inference, 4.0ms postprocess per image at shape (1, 3, 256, 640)\n",
      "\n",
      "0: 256x640 1 battery_plus, 26.6ms\n",
      "Speed: 3.0ms preprocess, 26.6ms inference, 5.0ms postprocess per image at shape (1, 3, 256, 640)\n",
      "\n",
      "0: 256x640 1 battery_plus, 25.0ms\n",
      "Speed: 2.0ms preprocess, 25.0ms inference, 4.0ms postprocess per image at shape (1, 3, 256, 640)\n",
      "\n",
      "0: 256x640 1 battery_plus, 30.0ms\n",
      "Speed: 3.0ms preprocess, 30.0ms inference, 5.0ms postprocess per image at shape (1, 3, 256, 640)\n",
      "\n",
      "0: 256x640 1 battery_plus, 24.0ms\n",
      "Speed: 3.8ms preprocess, 24.0ms inference, 4.0ms postprocess per image at shape (1, 3, 256, 640)\n",
      "\n",
      "0: 256x640 1 battery_plus, 27.1ms\n",
      "Speed: 3.0ms preprocess, 27.1ms inference, 5.0ms postprocess per image at shape (1, 3, 256, 640)\n",
      "\n",
      "0: 256x640 1 battery_plus, 28.7ms\n",
      "Speed: 3.0ms preprocess, 28.7ms inference, 4.0ms postprocess per image at shape (1, 3, 256, 640)\n",
      "\n",
      "0: 256x640 1 battery_plus, 23.6ms\n",
      "Speed: 2.9ms preprocess, 23.6ms inference, 6.0ms postprocess per image at shape (1, 3, 256, 640)\n",
      "\n",
      "0: 256x640 1 battery_plus, 27.0ms\n",
      "Speed: 3.0ms preprocess, 27.0ms inference, 4.0ms postprocess per image at shape (1, 3, 256, 640)\n",
      "\n",
      "0: 256x640 1 battery_plus, 25.0ms\n",
      "Speed: 3.0ms preprocess, 25.0ms inference, 4.0ms postprocess per image at shape (1, 3, 256, 640)\n",
      "\n",
      "0: 256x640 1 battery_plus, 25.5ms\n",
      "Speed: 3.0ms preprocess, 25.5ms inference, 4.0ms postprocess per image at shape (1, 3, 256, 640)\n",
      "\n",
      "0: 256x640 1 battery_plus, 29.1ms\n",
      "Speed: 3.0ms preprocess, 29.1ms inference, 4.9ms postprocess per image at shape (1, 3, 256, 640)\n",
      "\n",
      "0: 256x640 1 battery_plus, 29.1ms\n",
      "Speed: 3.0ms preprocess, 29.1ms inference, 6.9ms postprocess per image at shape (1, 3, 256, 640)\n",
      "\n",
      "0: 256x640 1 battery_plus, 24.2ms\n",
      "Speed: 4.0ms preprocess, 24.2ms inference, 6.0ms postprocess per image at shape (1, 3, 256, 640)\n",
      "\n",
      "0: 256x640 1 battery_plus, 27.1ms\n",
      "Speed: 3.0ms preprocess, 27.1ms inference, 4.0ms postprocess per image at shape (1, 3, 256, 640)\n",
      "\n",
      "0: 256x640 1 battery_plus, 24.0ms\n",
      "Speed: 3.0ms preprocess, 24.0ms inference, 7.1ms postprocess per image at shape (1, 3, 256, 640)\n",
      "\n",
      "0: 256x640 1 battery_plus, 24.0ms\n",
      "Speed: 4.0ms preprocess, 24.0ms inference, 5.0ms postprocess per image at shape (1, 3, 256, 640)\n",
      "\n",
      "0: 256x640 1 battery_plus, 25.0ms\n",
      "Speed: 2.0ms preprocess, 25.0ms inference, 6.1ms postprocess per image at shape (1, 3, 256, 640)\n",
      "\n",
      "0: 256x640 1 battery_plus, 26.5ms\n",
      "Speed: 3.0ms preprocess, 26.5ms inference, 6.0ms postprocess per image at shape (1, 3, 256, 640)\n",
      "\n",
      "0: 256x640 1 battery_plus, 30.0ms\n",
      "Speed: 4.0ms preprocess, 30.0ms inference, 6.0ms postprocess per image at shape (1, 3, 256, 640)\n",
      "\n",
      "0: 256x640 1 battery_plus, 24.0ms\n",
      "Speed: 3.0ms preprocess, 24.0ms inference, 5.0ms postprocess per image at shape (1, 3, 256, 640)\n",
      "\n",
      "0: 256x640 1 battery_plus, 28.6ms\n",
      "Speed: 3.0ms preprocess, 28.6ms inference, 4.0ms postprocess per image at shape (1, 3, 256, 640)\n",
      "\n",
      "0: 256x640 1 battery_plus, 24.5ms\n",
      "Speed: 2.0ms preprocess, 24.5ms inference, 4.0ms postprocess per image at shape (1, 3, 256, 640)\n",
      "\n",
      "0: 256x640 1 battery_plus, 24.0ms\n",
      "Speed: 3.0ms preprocess, 24.0ms inference, 6.0ms postprocess per image at shape (1, 3, 256, 640)\n",
      "\n",
      "0: 256x640 1 battery_plus, 25.0ms\n",
      "Speed: 2.0ms preprocess, 25.0ms inference, 4.0ms postprocess per image at shape (1, 3, 256, 640)\n",
      "\n",
      "0: 256x640 1 battery_plus, 29.0ms\n",
      "Speed: 2.0ms preprocess, 29.0ms inference, 6.0ms postprocess per image at shape (1, 3, 256, 640)\n",
      "\n",
      "0: 256x640 1 battery_plus, 25.0ms\n",
      "Speed: 3.0ms preprocess, 25.0ms inference, 4.0ms postprocess per image at shape (1, 3, 256, 640)\n",
      "\n",
      "0: 256x640 1 battery_plus, 24.1ms\n",
      "Speed: 2.0ms preprocess, 24.1ms inference, 4.9ms postprocess per image at shape (1, 3, 256, 640)\n",
      "\n",
      "0: 256x640 1 battery_plus, 26.9ms\n",
      "Speed: 2.0ms preprocess, 26.9ms inference, 4.0ms postprocess per image at shape (1, 3, 256, 640)\n",
      "\n",
      "0: 256x640 1 battery_plus, 24.0ms\n",
      "Speed: 3.0ms preprocess, 24.0ms inference, 6.0ms postprocess per image at shape (1, 3, 256, 640)\n",
      "\n",
      "0: 256x640 1 battery_plus, 32.0ms\n",
      "Speed: 2.0ms preprocess, 32.0ms inference, 6.6ms postprocess per image at shape (1, 3, 256, 640)\n",
      "\n",
      "0: 256x640 1 battery_plus, 25.0ms\n",
      "Speed: 2.0ms preprocess, 25.0ms inference, 4.0ms postprocess per image at shape (1, 3, 256, 640)\n"
     ]
    },
    {
     "name": "stderr",
     "output_type": "stream",
     "text": [
      "\n",
      "0: 256x640 1 battery_plus, 25.0ms\n",
      "Speed: 2.5ms preprocess, 25.0ms inference, 7.0ms postprocess per image at shape (1, 3, 256, 640)\n",
      "\n",
      "0: 256x640 1 battery_plus, 26.5ms\n",
      "Speed: 2.5ms preprocess, 26.5ms inference, 4.0ms postprocess per image at shape (1, 3, 256, 640)\n",
      "\n",
      "0: 256x640 1 battery_plus, 29.7ms\n",
      "Speed: 2.0ms preprocess, 29.7ms inference, 5.0ms postprocess per image at shape (1, 3, 256, 640)\n",
      "\n",
      "0: 256x640 1 battery_plus, 24.0ms\n",
      "Speed: 3.0ms preprocess, 24.0ms inference, 5.6ms postprocess per image at shape (1, 3, 256, 640)\n"
     ]
    },
    {
     "name": "stdout",
     "output_type": "stream",
     "text": [
      "6.621621621621621\n"
     ]
    },
    {
     "name": "stderr",
     "output_type": "stream",
     "text": [
      "\n",
      "0: 256x640 1 battery_plus, 24.5ms\n",
      "Speed: 4350.3ms preprocess, 24.5ms inference, 4.0ms postprocess per image at shape (1, 3, 256, 640)\n"
     ]
    },
    {
     "name": "stdout",
     "output_type": "stream",
     "text": [
      "6.621621621621621\n"
     ]
    },
    {
     "name": "stderr",
     "output_type": "stream",
     "text": [
      "\n",
      "0: 256x640 (no detections), 24.0ms\n",
      "Speed: 2987.1ms preprocess, 24.0ms inference, 2.0ms postprocess per image at shape (1, 3, 256, 640)\n",
      "\n",
      "0: 256x640 (no detections), 24.0ms\n",
      "Speed: 3.0ms preprocess, 24.0ms inference, 1.6ms postprocess per image at shape (1, 3, 256, 640)\n",
      "\n",
      "0: 256x640 (no detections), 24.0ms\n",
      "Speed: 3.0ms preprocess, 24.0ms inference, 2.0ms postprocess per image at shape (1, 3, 256, 640)\n",
      "\n",
      "0: 256x640 (no detections), 27.1ms\n",
      "Speed: 2.0ms preprocess, 27.1ms inference, 2.0ms postprocess per image at shape (1, 3, 256, 640)\n",
      "\n",
      "0: 256x640 (no detections), 25.8ms\n",
      "Speed: 1.0ms preprocess, 25.8ms inference, 1.0ms postprocess per image at shape (1, 3, 256, 640)\n",
      "\n",
      "0: 256x640 (no detections), 24.0ms\n",
      "Speed: 2.7ms preprocess, 24.0ms inference, 1.0ms postprocess per image at shape (1, 3, 256, 640)\n",
      "\n",
      "0: 256x640 (no detections), 25.8ms\n",
      "Speed: 3.0ms preprocess, 25.8ms inference, 1.0ms postprocess per image at shape (1, 3, 256, 640)\n",
      "\n",
      "0: 256x640 (no detections), 24.6ms\n",
      "Speed: 3.3ms preprocess, 24.6ms inference, 2.0ms postprocess per image at shape (1, 3, 256, 640)\n",
      "\n",
      "0: 256x640 (no detections), 25.0ms\n",
      "Speed: 2.0ms preprocess, 25.0ms inference, 2.0ms postprocess per image at shape (1, 3, 256, 640)\n",
      "\n",
      "0: 256x640 (no detections), 25.0ms\n",
      "Speed: 2.0ms preprocess, 25.0ms inference, 3.0ms postprocess per image at shape (1, 3, 256, 640)\n",
      "\n",
      "0: 256x640 (no detections), 24.5ms\n",
      "Speed: 2.0ms preprocess, 24.5ms inference, 2.0ms postprocess per image at shape (1, 3, 256, 640)\n",
      "\n",
      "0: 256x640 (no detections), 23.7ms\n",
      "Speed: 2.0ms preprocess, 23.7ms inference, 2.0ms postprocess per image at shape (1, 3, 256, 640)\n",
      "\n",
      "0: 256x640 (no detections), 24.0ms\n",
      "Speed: 2.0ms preprocess, 24.0ms inference, 2.0ms postprocess per image at shape (1, 3, 256, 640)\n",
      "\n",
      "0: 256x640 (no detections), 23.3ms\n",
      "Speed: 2.0ms preprocess, 23.3ms inference, 2.0ms postprocess per image at shape (1, 3, 256, 640)\n",
      "\n",
      "0: 256x640 (no detections), 24.0ms\n",
      "Speed: 2.0ms preprocess, 24.0ms inference, 2.1ms postprocess per image at shape (1, 3, 256, 640)\n",
      "\n",
      "0: 256x640 (no detections), 23.5ms\n",
      "Speed: 2.0ms preprocess, 23.5ms inference, 2.0ms postprocess per image at shape (1, 3, 256, 640)\n",
      "\n",
      "0: 256x640 (no detections), 24.0ms\n",
      "Speed: 2.0ms preprocess, 24.0ms inference, 2.0ms postprocess per image at shape (1, 3, 256, 640)\n",
      "\n",
      "0: 256x640 (no detections), 23.8ms\n",
      "Speed: 2.0ms preprocess, 23.8ms inference, 2.0ms postprocess per image at shape (1, 3, 256, 640)\n",
      "\n",
      "0: 256x640 (no detections), 24.0ms\n",
      "Speed: 2.0ms preprocess, 24.0ms inference, 3.0ms postprocess per image at shape (1, 3, 256, 640)\n",
      "\n",
      "0: 256x640 (no detections), 24.0ms\n",
      "Speed: 2.0ms preprocess, 24.0ms inference, 3.0ms postprocess per image at shape (1, 3, 256, 640)\n",
      "\n",
      "0: 256x640 (no detections), 24.0ms\n",
      "Speed: 2.0ms preprocess, 24.0ms inference, 2.0ms postprocess per image at shape (1, 3, 256, 640)\n",
      "\n",
      "0: 256x640 (no detections), 24.0ms\n",
      "Speed: 2.0ms preprocess, 24.0ms inference, 2.0ms postprocess per image at shape (1, 3, 256, 640)\n",
      "\n",
      "0: 256x640 (no detections), 24.5ms\n",
      "Speed: 2.0ms preprocess, 24.5ms inference, 2.0ms postprocess per image at shape (1, 3, 256, 640)\n",
      "\n",
      "0: 256x640 (no detections), 24.0ms\n",
      "Speed: 1.0ms preprocess, 24.0ms inference, 1.0ms postprocess per image at shape (1, 3, 256, 640)\n",
      "\n",
      "0: 256x640 (no detections), 24.5ms\n",
      "Speed: 2.0ms preprocess, 24.5ms inference, 2.0ms postprocess per image at shape (1, 3, 256, 640)\n",
      "\n",
      "0: 256x640 (no detections), 23.6ms\n",
      "Speed: 2.0ms preprocess, 23.6ms inference, 3.0ms postprocess per image at shape (1, 3, 256, 640)\n",
      "\n",
      "0: 256x640 (no detections), 25.0ms\n",
      "Speed: 2.0ms preprocess, 25.0ms inference, 1.0ms postprocess per image at shape (1, 3, 256, 640)\n",
      "\n",
      "0: 256x640 (no detections), 24.0ms\n",
      "Speed: 2.0ms preprocess, 24.0ms inference, 2.5ms postprocess per image at shape (1, 3, 256, 640)\n",
      "\n",
      "0: 256x640 (no detections), 24.5ms\n",
      "Speed: 2.0ms preprocess, 24.5ms inference, 2.0ms postprocess per image at shape (1, 3, 256, 640)\n",
      "\n",
      "0: 256x640 (no detections), 24.0ms\n",
      "Speed: 2.0ms preprocess, 24.0ms inference, 2.0ms postprocess per image at shape (1, 3, 256, 640)\n",
      "\n",
      "0: 256x640 (no detections), 24.0ms\n",
      "Speed: 2.0ms preprocess, 24.0ms inference, 2.5ms postprocess per image at shape (1, 3, 256, 640)\n",
      "\n",
      "0: 256x640 (no detections), 23.7ms\n",
      "Speed: 2.0ms preprocess, 23.7ms inference, 2.0ms postprocess per image at shape (1, 3, 256, 640)\n",
      "\n",
      "0: 256x640 (no detections), 24.0ms\n",
      "Speed: 2.0ms preprocess, 24.0ms inference, 2.0ms postprocess per image at shape (1, 3, 256, 640)\n",
      "\n",
      "0: 256x640 (no detections), 27.0ms\n",
      "Speed: 2.0ms preprocess, 27.0ms inference, 2.0ms postprocess per image at shape (1, 3, 256, 640)\n",
      "\n",
      "0: 256x640 (no detections), 25.0ms\n",
      "Speed: 3.0ms preprocess, 25.0ms inference, 2.0ms postprocess per image at shape (1, 3, 256, 640)\n",
      "\n",
      "0: 256x640 (no detections), 25.0ms\n",
      "Speed: 2.0ms preprocess, 25.0ms inference, 2.0ms postprocess per image at shape (1, 3, 256, 640)\n",
      "\n",
      "0: 256x640 (no detections), 26.1ms\n",
      "Speed: 2.0ms preprocess, 26.1ms inference, 2.0ms postprocess per image at shape (1, 3, 256, 640)\n",
      "\n",
      "0: 256x640 (no detections), 24.0ms\n",
      "Speed: 2.0ms preprocess, 24.0ms inference, 3.0ms postprocess per image at shape (1, 3, 256, 640)\n",
      "\n",
      "0: 256x640 (no detections), 25.0ms\n",
      "Speed: 3.0ms preprocess, 25.0ms inference, 2.0ms postprocess per image at shape (1, 3, 256, 640)\n",
      "\n",
      "0: 256x640 (no detections), 25.6ms\n",
      "Speed: 3.0ms preprocess, 25.6ms inference, 3.0ms postprocess per image at shape (1, 3, 256, 640)\n",
      "\n",
      "0: 256x640 (no detections), 24.7ms\n",
      "Speed: 2.0ms preprocess, 24.7ms inference, 2.8ms postprocess per image at shape (1, 3, 256, 640)\n",
      "\n",
      "0: 256x640 (no detections), 24.5ms\n",
      "Speed: 2.0ms preprocess, 24.5ms inference, 5.0ms postprocess per image at shape (1, 3, 256, 640)\n",
      "\n",
      "0: 256x640 (no detections), 27.6ms\n",
      "Speed: 2.0ms preprocess, 27.6ms inference, 2.0ms postprocess per image at shape (1, 3, 256, 640)\n",
      "\n",
      "0: 256x640 (no detections), 24.0ms\n",
      "Speed: 2.0ms preprocess, 24.0ms inference, 2.0ms postprocess per image at shape (1, 3, 256, 640)\n",
      "\n",
      "0: 256x640 (no detections), 26.5ms\n",
      "Speed: 5.0ms preprocess, 26.5ms inference, 2.0ms postprocess per image at shape (1, 3, 256, 640)\n",
      "\n",
      "0: 256x640 (no detections), 27.1ms\n",
      "Speed: 2.0ms preprocess, 27.1ms inference, 2.0ms postprocess per image at shape (1, 3, 256, 640)\n",
      "\n",
      "0: 256x640 (no detections), 26.0ms\n",
      "Speed: 1.0ms preprocess, 26.0ms inference, 2.0ms postprocess per image at shape (1, 3, 256, 640)\n",
      "\n",
      "0: 256x640 (no detections), 27.0ms\n",
      "Speed: 1.0ms preprocess, 27.0ms inference, 2.0ms postprocess per image at shape (1, 3, 256, 640)\n",
      "\n",
      "0: 256x640 (no detections), 24.0ms\n",
      "Speed: 4.0ms preprocess, 24.0ms inference, 2.0ms postprocess per image at shape (1, 3, 256, 640)\n",
      "\n",
      "0: 256x640 (no detections), 24.0ms\n",
      "Speed: 3.7ms preprocess, 24.0ms inference, 1.0ms postprocess per image at shape (1, 3, 256, 640)\n",
      "\n",
      "0: 256x640 (no detections), 24.5ms\n",
      "Speed: 2.0ms preprocess, 24.5ms inference, 3.0ms postprocess per image at shape (1, 3, 256, 640)\n",
      "\n",
      "0: 256x640 (no detections), 24.2ms\n",
      "Speed: 2.0ms preprocess, 24.2ms inference, 3.8ms postprocess per image at shape (1, 3, 256, 640)\n",
      "\n",
      "0: 256x640 (no detections), 29.0ms\n",
      "Speed: 1.0ms preprocess, 29.0ms inference, 2.0ms postprocess per image at shape (1, 3, 256, 640)\n",
      "\n",
      "0: 256x640 (no detections), 29.0ms\n",
      "Speed: 2.2ms preprocess, 29.0ms inference, 2.0ms postprocess per image at shape (1, 3, 256, 640)\n",
      "\n",
      "0: 256x640 (no detections), 24.0ms\n",
      "Speed: 2.0ms preprocess, 24.0ms inference, 2.0ms postprocess per image at shape (1, 3, 256, 640)\n",
      "\n",
      "0: 256x640 (no detections), 26.0ms\n",
      "Speed: 2.0ms preprocess, 26.0ms inference, 2.0ms postprocess per image at shape (1, 3, 256, 640)\n",
      "\n",
      "0: 256x640 (no detections), 27.0ms\n",
      "Speed: 1.0ms preprocess, 27.0ms inference, 2.0ms postprocess per image at shape (1, 3, 256, 640)\n",
      "\n",
      "0: 256x640 (no detections), 24.5ms\n",
      "Speed: 5.0ms preprocess, 24.5ms inference, 2.0ms postprocess per image at shape (1, 3, 256, 640)\n",
      "\n",
      "0: 256x640 (no detections), 24.0ms\n",
      "Speed: 2.0ms preprocess, 24.0ms inference, 4.0ms postprocess per image at shape (1, 3, 256, 640)\n",
      "\n",
      "0: 256x640 (no detections), 25.0ms\n",
      "Speed: 2.0ms preprocess, 25.0ms inference, 3.0ms postprocess per image at shape (1, 3, 256, 640)\n",
      "\n",
      "0: 256x640 (no detections), 27.0ms\n",
      "Speed: 2.0ms preprocess, 27.0ms inference, 2.0ms postprocess per image at shape (1, 3, 256, 640)\n",
      "\n",
      "0: 256x640 (no detections), 26.0ms\n",
      "Speed: 2.0ms preprocess, 26.0ms inference, 2.0ms postprocess per image at shape (1, 3, 256, 640)\n"
     ]
    },
    {
     "name": "stderr",
     "output_type": "stream",
     "text": [
      "\n",
      "0: 256x640 (no detections), 25.0ms\n",
      "Speed: 2.0ms preprocess, 25.0ms inference, 2.0ms postprocess per image at shape (1, 3, 256, 640)\n",
      "\n",
      "0: 256x640 (no detections), 26.0ms\n",
      "Speed: 2.6ms preprocess, 26.0ms inference, 4.0ms postprocess per image at shape (1, 3, 256, 640)\n",
      "\n",
      "0: 256x640 (no detections), 25.0ms\n",
      "Speed: 2.0ms preprocess, 25.0ms inference, 2.0ms postprocess per image at shape (1, 3, 256, 640)\n",
      "\n",
      "0: 256x640 (no detections), 26.1ms\n",
      "Speed: 2.0ms preprocess, 26.1ms inference, 1.0ms postprocess per image at shape (1, 3, 256, 640)\n",
      "\n",
      "0: 256x640 (no detections), 26.0ms\n",
      "Speed: 2.0ms preprocess, 26.0ms inference, 1.0ms postprocess per image at shape (1, 3, 256, 640)\n",
      "\n",
      "0: 256x640 (no detections), 26.5ms\n",
      "Speed: 2.0ms preprocess, 26.5ms inference, 1.0ms postprocess per image at shape (1, 3, 256, 640)\n",
      "\n",
      "0: 256x640 (no detections), 25.5ms\n",
      "Speed: 2.0ms preprocess, 25.5ms inference, 2.0ms postprocess per image at shape (1, 3, 256, 640)\n",
      "\n",
      "0: 256x640 (no detections), 23.6ms\n",
      "Speed: 2.0ms preprocess, 23.6ms inference, 1.0ms postprocess per image at shape (1, 3, 256, 640)\n",
      "\n",
      "0: 256x640 (no detections), 25.5ms\n",
      "Speed: 2.0ms preprocess, 25.5ms inference, 3.0ms postprocess per image at shape (1, 3, 256, 640)\n",
      "\n",
      "0: 256x640 (no detections), 24.0ms\n",
      "Speed: 2.0ms preprocess, 24.0ms inference, 3.0ms postprocess per image at shape (1, 3, 256, 640)\n",
      "\n",
      "0: 256x640 (no detections), 25.0ms\n",
      "Speed: 2.0ms preprocess, 25.0ms inference, 1.5ms postprocess per image at shape (1, 3, 256, 640)\n",
      "\n",
      "0: 256x640 (no detections), 24.6ms\n",
      "Speed: 2.0ms preprocess, 24.6ms inference, 1.5ms postprocess per image at shape (1, 3, 256, 640)\n",
      "\n",
      "0: 256x640 (no detections), 24.0ms\n",
      "Speed: 2.0ms preprocess, 24.0ms inference, 1.0ms postprocess per image at shape (1, 3, 256, 640)\n",
      "\n",
      "0: 256x640 (no detections), 24.5ms\n",
      "Speed: 2.0ms preprocess, 24.5ms inference, 3.5ms postprocess per image at shape (1, 3, 256, 640)\n",
      "\n",
      "0: 256x640 (no detections), 26.5ms\n",
      "Speed: 2.0ms preprocess, 26.5ms inference, 2.0ms postprocess per image at shape (1, 3, 256, 640)\n",
      "\n",
      "0: 256x640 (no detections), 25.0ms\n",
      "Speed: 2.0ms preprocess, 25.0ms inference, 2.0ms postprocess per image at shape (1, 3, 256, 640)\n",
      "\n",
      "0: 256x640 (no detections), 25.0ms\n",
      "Speed: 2.0ms preprocess, 25.0ms inference, 2.0ms postprocess per image at shape (1, 3, 256, 640)\n",
      "\n",
      "0: 256x640 (no detections), 25.0ms\n",
      "Speed: 1.0ms preprocess, 25.0ms inference, 2.0ms postprocess per image at shape (1, 3, 256, 640)\n",
      "\n",
      "0: 256x640 (no detections), 27.0ms\n",
      "Speed: 2.5ms preprocess, 27.0ms inference, 1.0ms postprocess per image at shape (1, 3, 256, 640)\n",
      "\n",
      "0: 256x640 (no detections), 24.6ms\n",
      "Speed: 3.0ms preprocess, 24.6ms inference, 1.0ms postprocess per image at shape (1, 3, 256, 640)\n",
      "\n",
      "0: 256x640 (no detections), 24.0ms\n",
      "Speed: 2.0ms preprocess, 24.0ms inference, 2.0ms postprocess per image at shape (1, 3, 256, 640)\n",
      "\n",
      "0: 256x640 (no detections), 27.5ms\n",
      "Speed: 2.0ms preprocess, 27.5ms inference, 2.0ms postprocess per image at shape (1, 3, 256, 640)\n",
      "\n",
      "0: 256x640 (no detections), 25.1ms\n",
      "Speed: 2.0ms preprocess, 25.1ms inference, 1.0ms postprocess per image at shape (1, 3, 256, 640)\n",
      "\n",
      "0: 256x640 (no detections), 24.6ms\n",
      "Speed: 1.0ms preprocess, 24.6ms inference, 2.0ms postprocess per image at shape (1, 3, 256, 640)\n",
      "\n",
      "0: 256x640 (no detections), 25.6ms\n",
      "Speed: 2.0ms preprocess, 25.6ms inference, 2.0ms postprocess per image at shape (1, 3, 256, 640)\n",
      "\n",
      "0: 256x640 (no detections), 26.5ms\n",
      "Speed: 1.0ms preprocess, 26.5ms inference, 2.0ms postprocess per image at shape (1, 3, 256, 640)\n",
      "\n",
      "0: 256x640 (no detections), 24.1ms\n",
      "Speed: 2.0ms preprocess, 24.1ms inference, 1.0ms postprocess per image at shape (1, 3, 256, 640)\n",
      "\n",
      "0: 256x640 (no detections), 25.0ms\n",
      "Speed: 2.0ms preprocess, 25.0ms inference, 3.0ms postprocess per image at shape (1, 3, 256, 640)\n",
      "\n",
      "0: 256x640 (no detections), 24.6ms\n",
      "Speed: 2.0ms preprocess, 24.6ms inference, 5.0ms postprocess per image at shape (1, 3, 256, 640)\n",
      "\n",
      "0: 256x640 (no detections), 25.5ms\n",
      "Speed: 3.0ms preprocess, 25.5ms inference, 2.0ms postprocess per image at shape (1, 3, 256, 640)\n",
      "\n",
      "0: 256x640 (no detections), 25.6ms\n",
      "Speed: 2.0ms preprocess, 25.6ms inference, 2.1ms postprocess per image at shape (1, 3, 256, 640)\n",
      "\n",
      "0: 256x640 (no detections), 27.5ms\n",
      "Speed: 2.0ms preprocess, 27.5ms inference, 1.0ms postprocess per image at shape (1, 3, 256, 640)\n",
      "\n",
      "0: 256x640 (no detections), 24.0ms\n",
      "Speed: 2.0ms preprocess, 24.0ms inference, 3.0ms postprocess per image at shape (1, 3, 256, 640)\n",
      "\n",
      "0: 256x640 (no detections), 27.0ms\n",
      "Speed: 3.0ms preprocess, 27.0ms inference, 2.0ms postprocess per image at shape (1, 3, 256, 640)\n",
      "\n",
      "0: 256x640 (no detections), 26.0ms\n",
      "Speed: 2.0ms preprocess, 26.0ms inference, 2.1ms postprocess per image at shape (1, 3, 256, 640)\n",
      "\n",
      "0: 256x640 (no detections), 26.1ms\n",
      "Speed: 3.0ms preprocess, 26.1ms inference, 2.0ms postprocess per image at shape (1, 3, 256, 640)\n",
      "\n",
      "0: 256x640 (no detections), 25.5ms\n",
      "Speed: 2.6ms preprocess, 25.5ms inference, 2.0ms postprocess per image at shape (1, 3, 256, 640)\n",
      "\n",
      "0: 256x640 (no detections), 24.0ms\n",
      "Speed: 2.0ms preprocess, 24.0ms inference, 5.0ms postprocess per image at shape (1, 3, 256, 640)\n",
      "\n",
      "0: 256x640 (no detections), 25.0ms\n",
      "Speed: 2.0ms preprocess, 25.0ms inference, 3.0ms postprocess per image at shape (1, 3, 256, 640)\n",
      "\n",
      "0: 256x640 (no detections), 26.5ms\n",
      "Speed: 2.0ms preprocess, 26.5ms inference, 2.0ms postprocess per image at shape (1, 3, 256, 640)\n",
      "\n",
      "0: 256x640 (no detections), 28.0ms\n",
      "Speed: 2.0ms preprocess, 28.0ms inference, 1.0ms postprocess per image at shape (1, 3, 256, 640)\n",
      "\n",
      "0: 256x640 (no detections), 24.4ms\n",
      "Speed: 2.6ms preprocess, 24.4ms inference, 1.0ms postprocess per image at shape (1, 3, 256, 640)\n",
      "\n",
      "0: 256x640 (no detections), 25.0ms\n",
      "Speed: 2.0ms preprocess, 25.0ms inference, 1.0ms postprocess per image at shape (1, 3, 256, 640)\n",
      "\n",
      "0: 256x640 (no detections), 24.0ms\n",
      "Speed: 2.0ms preprocess, 24.0ms inference, 1.0ms postprocess per image at shape (1, 3, 256, 640)\n",
      "\n",
      "0: 256x640 (no detections), 24.0ms\n",
      "Speed: 1.0ms preprocess, 24.0ms inference, 2.0ms postprocess per image at shape (1, 3, 256, 640)\n",
      "\n",
      "0: 256x640 (no detections), 24.0ms\n",
      "Speed: 2.0ms preprocess, 24.0ms inference, 1.5ms postprocess per image at shape (1, 3, 256, 640)\n",
      "\n",
      "0: 256x640 (no detections), 24.1ms\n",
      "Speed: 2.0ms preprocess, 24.1ms inference, 2.0ms postprocess per image at shape (1, 3, 256, 640)\n",
      "\n",
      "0: 256x640 (no detections), 24.0ms\n",
      "Speed: 2.0ms preprocess, 24.0ms inference, 2.0ms postprocess per image at shape (1, 3, 256, 640)\n",
      "\n",
      "0: 256x640 (no detections), 24.1ms\n",
      "Speed: 2.0ms preprocess, 24.1ms inference, 2.0ms postprocess per image at shape (1, 3, 256, 640)\n",
      "\n",
      "0: 256x640 (no detections), 24.0ms\n",
      "Speed: 2.0ms preprocess, 24.0ms inference, 3.0ms postprocess per image at shape (1, 3, 256, 640)\n",
      "\n",
      "0: 256x640 (no detections), 25.0ms\n",
      "Speed: 2.0ms preprocess, 25.0ms inference, 2.0ms postprocess per image at shape (1, 3, 256, 640)\n",
      "\n",
      "0: 256x640 (no detections), 24.0ms\n",
      "Speed: 2.0ms preprocess, 24.0ms inference, 3.0ms postprocess per image at shape (1, 3, 256, 640)\n",
      "\n",
      "0: 256x640 (no detections), 24.0ms\n",
      "Speed: 1.0ms preprocess, 24.0ms inference, 1.0ms postprocess per image at shape (1, 3, 256, 640)\n",
      "\n",
      "0: 256x640 (no detections), 23.0ms\n",
      "Speed: 1.0ms preprocess, 23.0ms inference, 2.0ms postprocess per image at shape (1, 3, 256, 640)\n",
      "\n",
      "0: 256x640 (no detections), 26.0ms\n",
      "Speed: 1.0ms preprocess, 26.0ms inference, 2.0ms postprocess per image at shape (1, 3, 256, 640)\n",
      "\n",
      "0: 256x640 (no detections), 25.0ms\n",
      "Speed: 2.0ms preprocess, 25.0ms inference, 2.0ms postprocess per image at shape (1, 3, 256, 640)\n",
      "\n",
      "0: 256x640 (no detections), 24.7ms\n",
      "Speed: 1.0ms preprocess, 24.7ms inference, 1.5ms postprocess per image at shape (1, 3, 256, 640)\n",
      "\n",
      "0: 256x640 (no detections), 24.0ms\n",
      "Speed: 2.0ms preprocess, 24.0ms inference, 2.0ms postprocess per image at shape (1, 3, 256, 640)\n",
      "\n",
      "0: 256x640 (no detections), 24.0ms\n",
      "Speed: 2.0ms preprocess, 24.0ms inference, 3.0ms postprocess per image at shape (1, 3, 256, 640)\n",
      "\n",
      "0: 256x640 (no detections), 24.0ms\n",
      "Speed: 2.0ms preprocess, 24.0ms inference, 1.5ms postprocess per image at shape (1, 3, 256, 640)\n",
      "\n",
      "0: 256x640 (no detections), 24.0ms\n",
      "Speed: 2.0ms preprocess, 24.0ms inference, 2.0ms postprocess per image at shape (1, 3, 256, 640)\n",
      "\n",
      "0: 256x640 (no detections), 24.0ms\n",
      "Speed: 2.0ms preprocess, 24.0ms inference, 2.0ms postprocess per image at shape (1, 3, 256, 640)\n"
     ]
    },
    {
     "name": "stderr",
     "output_type": "stream",
     "text": [
      "\n",
      "0: 256x640 (no detections), 24.0ms\n",
      "Speed: 1.0ms preprocess, 24.0ms inference, 3.0ms postprocess per image at shape (1, 3, 256, 640)\n",
      "\n",
      "0: 256x640 (no detections), 24.0ms\n",
      "Speed: 2.0ms preprocess, 24.0ms inference, 2.0ms postprocess per image at shape (1, 3, 256, 640)\n",
      "\n",
      "0: 256x640 (no detections), 24.0ms\n",
      "Speed: 2.0ms preprocess, 24.0ms inference, 3.0ms postprocess per image at shape (1, 3, 256, 640)\n",
      "\n",
      "0: 256x640 (no detections), 23.7ms\n",
      "Speed: 2.0ms preprocess, 23.7ms inference, 2.0ms postprocess per image at shape (1, 3, 256, 640)\n",
      "\n",
      "0: 256x640 (no detections), 24.0ms\n",
      "Speed: 2.0ms preprocess, 24.0ms inference, 3.0ms postprocess per image at shape (1, 3, 256, 640)\n",
      "\n",
      "0: 256x640 (no detections), 23.5ms\n",
      "Speed: 2.0ms preprocess, 23.5ms inference, 2.0ms postprocess per image at shape (1, 3, 256, 640)\n",
      "\n",
      "0: 256x640 (no detections), 23.0ms\n",
      "Speed: 2.0ms preprocess, 23.0ms inference, 1.6ms postprocess per image at shape (1, 3, 256, 640)\n",
      "\n",
      "0: 256x640 (no detections), 23.5ms\n",
      "Speed: 2.0ms preprocess, 23.5ms inference, 3.0ms postprocess per image at shape (1, 3, 256, 640)\n",
      "\n",
      "0: 256x640 (no detections), 23.5ms\n",
      "Speed: 2.0ms preprocess, 23.5ms inference, 3.5ms postprocess per image at shape (1, 3, 256, 640)\n",
      "\n",
      "0: 256x640 (no detections), 24.6ms\n",
      "Speed: 2.0ms preprocess, 24.6ms inference, 2.0ms postprocess per image at shape (1, 3, 256, 640)\n",
      "\n",
      "0: 256x640 (no detections), 26.0ms\n",
      "Speed: 2.0ms preprocess, 26.0ms inference, 3.0ms postprocess per image at shape (1, 3, 256, 640)\n",
      "\n",
      "0: 256x640 (no detections), 24.1ms\n",
      "Speed: 4.0ms preprocess, 24.1ms inference, 2.0ms postprocess per image at shape (1, 3, 256, 640)\n",
      "\n",
      "0: 256x640 (no detections), 24.5ms\n",
      "Speed: 2.5ms preprocess, 24.5ms inference, 3.0ms postprocess per image at shape (1, 3, 256, 640)\n",
      "\n",
      "0: 256x640 (no detections), 26.0ms\n",
      "Speed: 2.0ms preprocess, 26.0ms inference, 3.0ms postprocess per image at shape (1, 3, 256, 640)\n",
      "\n",
      "0: 256x640 (no detections), 29.5ms\n",
      "Speed: 4.0ms preprocess, 29.5ms inference, 3.0ms postprocess per image at shape (1, 3, 256, 640)\n",
      "\n",
      "0: 256x640 (no detections), 25.5ms\n",
      "Speed: 1.0ms preprocess, 25.5ms inference, 1.0ms postprocess per image at shape (1, 3, 256, 640)\n",
      "\n",
      "0: 256x640 (no detections), 26.0ms\n",
      "Speed: 2.0ms preprocess, 26.0ms inference, 2.0ms postprocess per image at shape (1, 3, 256, 640)\n",
      "\n",
      "0: 256x640 (no detections), 24.5ms\n",
      "Speed: 3.0ms preprocess, 24.5ms inference, 2.0ms postprocess per image at shape (1, 3, 256, 640)\n",
      "\n",
      "0: 256x640 (no detections), 24.0ms\n",
      "Speed: 2.0ms preprocess, 24.0ms inference, 1.0ms postprocess per image at shape (1, 3, 256, 640)\n",
      "\n",
      "0: 256x640 (no detections), 25.0ms\n",
      "Speed: 2.0ms preprocess, 25.0ms inference, 4.0ms postprocess per image at shape (1, 3, 256, 640)\n",
      "\n",
      "0: 256x640 (no detections), 26.5ms\n",
      "Speed: 2.0ms preprocess, 26.5ms inference, 2.0ms postprocess per image at shape (1, 3, 256, 640)\n",
      "\n",
      "0: 256x640 (no detections), 26.0ms\n",
      "Speed: 2.0ms preprocess, 26.0ms inference, 2.0ms postprocess per image at shape (1, 3, 256, 640)\n",
      "\n",
      "0: 256x640 (no detections), 26.1ms\n",
      "Speed: 2.5ms preprocess, 26.1ms inference, 2.0ms postprocess per image at shape (1, 3, 256, 640)\n",
      "\n",
      "0: 256x640 (no detections), 26.5ms\n",
      "Speed: 2.0ms preprocess, 26.5ms inference, 4.5ms postprocess per image at shape (1, 3, 256, 640)\n",
      "\n",
      "0: 256x640 (no detections), 27.6ms\n",
      "Speed: 2.0ms preprocess, 27.6ms inference, 2.0ms postprocess per image at shape (1, 3, 256, 640)\n",
      "\n",
      "0: 256x640 (no detections), 25.0ms\n",
      "Speed: 3.6ms preprocess, 25.0ms inference, 2.0ms postprocess per image at shape (1, 3, 256, 640)\n",
      "\n",
      "0: 256x640 (no detections), 24.5ms\n",
      "Speed: 2.0ms preprocess, 24.5ms inference, 4.0ms postprocess per image at shape (1, 3, 256, 640)\n",
      "\n",
      "0: 256x640 (no detections), 25.5ms\n",
      "Speed: 2.0ms preprocess, 25.5ms inference, 2.0ms postprocess per image at shape (1, 3, 256, 640)\n",
      "\n",
      "0: 256x640 (no detections), 25.0ms\n",
      "Speed: 2.0ms preprocess, 25.0ms inference, 2.0ms postprocess per image at shape (1, 3, 256, 640)\n",
      "\n",
      "0: 256x640 (no detections), 25.5ms\n",
      "Speed: 2.0ms preprocess, 25.5ms inference, 2.0ms postprocess per image at shape (1, 3, 256, 640)\n",
      "\n",
      "0: 256x640 (no detections), 26.2ms\n",
      "Speed: 2.1ms preprocess, 26.2ms inference, 2.0ms postprocess per image at shape (1, 3, 256, 640)\n",
      "\n",
      "0: 256x640 (no detections), 24.0ms\n",
      "Speed: 3.0ms preprocess, 24.0ms inference, 2.0ms postprocess per image at shape (1, 3, 256, 640)\n",
      "\n",
      "0: 256x640 (no detections), 24.0ms\n",
      "Speed: 2.0ms preprocess, 24.0ms inference, 2.0ms postprocess per image at shape (1, 3, 256, 640)\n",
      "\n",
      "0: 256x640 (no detections), 24.3ms\n",
      "Speed: 3.0ms preprocess, 24.3ms inference, 3.7ms postprocess per image at shape (1, 3, 256, 640)\n",
      "\n",
      "0: 256x640 (no detections), 29.5ms\n",
      "Speed: 2.0ms preprocess, 29.5ms inference, 2.0ms postprocess per image at shape (1, 3, 256, 640)\n",
      "\n",
      "0: 256x640 (no detections), 29.0ms\n",
      "Speed: 4.0ms preprocess, 29.0ms inference, 3.0ms postprocess per image at shape (1, 3, 256, 640)\n",
      "\n",
      "0: 256x640 (no detections), 24.0ms\n",
      "Speed: 2.0ms preprocess, 24.0ms inference, 4.5ms postprocess per image at shape (1, 3, 256, 640)\n",
      "\n",
      "0: 256x640 (no detections), 26.5ms\n",
      "Speed: 2.0ms preprocess, 26.5ms inference, 3.0ms postprocess per image at shape (1, 3, 256, 640)\n",
      "\n",
      "0: 256x640 (no detections), 29.0ms\n",
      "Speed: 3.0ms preprocess, 29.0ms inference, 2.0ms postprocess per image at shape (1, 3, 256, 640)\n",
      "\n",
      "0: 256x640 (no detections), 24.0ms\n",
      "Speed: 2.0ms preprocess, 24.0ms inference, 5.0ms postprocess per image at shape (1, 3, 256, 640)\n",
      "\n",
      "0: 256x640 (no detections), 30.5ms\n",
      "Speed: 1.0ms preprocess, 30.5ms inference, 2.0ms postprocess per image at shape (1, 3, 256, 640)\n",
      "\n",
      "0: 256x640 (no detections), 27.0ms\n",
      "Speed: 2.0ms preprocess, 27.0ms inference, 3.1ms postprocess per image at shape (1, 3, 256, 640)\n",
      "\n",
      "0: 256x640 (no detections), 27.1ms\n",
      "Speed: 2.0ms preprocess, 27.1ms inference, 2.0ms postprocess per image at shape (1, 3, 256, 640)\n",
      "\n",
      "0: 256x640 (no detections), 24.5ms\n",
      "Speed: 1.0ms preprocess, 24.5ms inference, 2.0ms postprocess per image at shape (1, 3, 256, 640)\n",
      "\n",
      "0: 256x640 (no detections), 24.5ms\n",
      "Speed: 4.0ms preprocess, 24.5ms inference, 2.0ms postprocess per image at shape (1, 3, 256, 640)\n",
      "\n",
      "0: 256x640 (no detections), 24.0ms\n",
      "Speed: 2.0ms preprocess, 24.0ms inference, 2.3ms postprocess per image at shape (1, 3, 256, 640)\n",
      "\n",
      "0: 256x640 1 battery_plus, 24.5ms\n",
      "Speed: 1.0ms preprocess, 24.5ms inference, 4.0ms postprocess per image at shape (1, 3, 256, 640)\n",
      "\n",
      "0: 256x640 1 battery_plus, 28.0ms\n",
      "Speed: 2.0ms preprocess, 28.0ms inference, 4.0ms postprocess per image at shape (1, 3, 256, 640)\n",
      "\n",
      "0: 256x640 1 battery_plus, 24.5ms\n",
      "Speed: 3.0ms preprocess, 24.5ms inference, 3.8ms postprocess per image at shape (1, 3, 256, 640)\n",
      "\n",
      "0: 256x640 1 battery_plus, 24.5ms\n",
      "Speed: 1.0ms preprocess, 24.5ms inference, 3.0ms postprocess per image at shape (1, 3, 256, 640)\n",
      "\n",
      "0: 256x640 1 battery_plus, 25.0ms\n",
      "Speed: 2.0ms preprocess, 25.0ms inference, 3.7ms postprocess per image at shape (1, 3, 256, 640)\n",
      "\n",
      "0: 256x640 1 battery_plus, 25.5ms\n",
      "Speed: 2.0ms preprocess, 25.5ms inference, 4.0ms postprocess per image at shape (1, 3, 256, 640)\n",
      "\n",
      "0: 256x640 1 battery_plus, 25.5ms\n",
      "Speed: 3.0ms preprocess, 25.5ms inference, 5.5ms postprocess per image at shape (1, 3, 256, 640)\n",
      "\n",
      "0: 256x640 1 battery_plus, 26.5ms\n",
      "Speed: 3.0ms preprocess, 26.5ms inference, 4.0ms postprocess per image at shape (1, 3, 256, 640)\n",
      "\n",
      "0: 256x640 1 battery_plus, 25.0ms\n",
      "Speed: 2.0ms preprocess, 25.0ms inference, 5.5ms postprocess per image at shape (1, 3, 256, 640)\n",
      "\n",
      "0: 256x640 1 battery_plus, 26.5ms\n",
      "Speed: 2.0ms preprocess, 26.5ms inference, 2.0ms postprocess per image at shape (1, 3, 256, 640)\n",
      "\n",
      "0: 256x640 1 battery_plus, 24.4ms\n",
      "Speed: 2.0ms preprocess, 24.4ms inference, 3.0ms postprocess per image at shape (1, 3, 256, 640)\n",
      "\n",
      "0: 256x640 1 battery_plus, 26.1ms\n",
      "Speed: 1.5ms preprocess, 26.1ms inference, 5.5ms postprocess per image at shape (1, 3, 256, 640)\n",
      "\n",
      "0: 256x640 1 battery_plus, 26.0ms\n",
      "Speed: 2.0ms preprocess, 26.0ms inference, 3.0ms postprocess per image at shape (1, 3, 256, 640)\n",
      "\n",
      "0: 256x640 1 battery_plus, 24.5ms\n",
      "Speed: 2.1ms preprocess, 24.5ms inference, 4.0ms postprocess per image at shape (1, 3, 256, 640)\n",
      "\n",
      "0: 256x640 1 battery_plus, 24.0ms\n",
      "Speed: 2.0ms preprocess, 24.0ms inference, 6.4ms postprocess per image at shape (1, 3, 256, 640)\n",
      "\n",
      "0: 256x640 1 battery_plus, 25.1ms\n",
      "Speed: 2.0ms preprocess, 25.1ms inference, 3.0ms postprocess per image at shape (1, 3, 256, 640)\n"
     ]
    },
    {
     "name": "stderr",
     "output_type": "stream",
     "text": [
      "\n",
      "0: 256x640 1 battery_plus, 24.1ms\n",
      "Speed: 2.0ms preprocess, 24.1ms inference, 4.0ms postprocess per image at shape (1, 3, 256, 640)\n",
      "\n",
      "0: 256x640 1 battery_plus, 24.0ms\n",
      "Speed: 2.0ms preprocess, 24.0ms inference, 4.5ms postprocess per image at shape (1, 3, 256, 640)\n",
      "\n",
      "0: 256x640 1 battery_plus, 26.0ms\n",
      "Speed: 1.0ms preprocess, 26.0ms inference, 2.0ms postprocess per image at shape (1, 3, 256, 640)\n",
      "\n",
      "0: 256x640 1 battery_plus, 25.5ms\n",
      "Speed: 4.0ms preprocess, 25.5ms inference, 2.0ms postprocess per image at shape (1, 3, 256, 640)\n",
      "\n",
      "0: 256x640 1 battery_plus, 24.0ms\n",
      "Speed: 2.0ms preprocess, 24.0ms inference, 7.0ms postprocess per image at shape (1, 3, 256, 640)\n",
      "\n",
      "0: 256x640 1 battery_plus, 26.1ms\n",
      "Speed: 2.0ms preprocess, 26.1ms inference, 4.0ms postprocess per image at shape (1, 3, 256, 640)\n",
      "\n",
      "0: 256x640 1 battery_plus, 23.0ms\n",
      "Speed: 4.0ms preprocess, 23.0ms inference, 3.0ms postprocess per image at shape (1, 3, 256, 640)\n",
      "\n",
      "0: 256x640 1 battery_plus, 23.5ms\n",
      "Speed: 2.0ms preprocess, 23.5ms inference, 4.0ms postprocess per image at shape (1, 3, 256, 640)\n",
      "\n",
      "0: 256x640 1 battery_plus, 25.0ms\n",
      "Speed: 1.0ms preprocess, 25.0ms inference, 4.0ms postprocess per image at shape (1, 3, 256, 640)\n",
      "\n",
      "0: 256x640 1 battery_plus, 23.5ms\n",
      "Speed: 3.7ms preprocess, 23.5ms inference, 3.0ms postprocess per image at shape (1, 3, 256, 640)\n",
      "\n",
      "0: 256x640 1 battery_plus, 25.6ms\n",
      "Speed: 3.0ms preprocess, 25.6ms inference, 4.5ms postprocess per image at shape (1, 3, 256, 640)\n",
      "\n",
      "0: 256x640 1 battery_plus, 24.5ms\n",
      "Speed: 4.0ms preprocess, 24.5ms inference, 4.0ms postprocess per image at shape (1, 3, 256, 640)\n",
      "\n",
      "0: 256x640 1 battery_plus, 25.6ms\n",
      "Speed: 1.0ms preprocess, 25.6ms inference, 4.0ms postprocess per image at shape (1, 3, 256, 640)\n",
      "\n",
      "0: 256x640 1 battery_plus, 25.0ms\n",
      "Speed: 1.0ms preprocess, 25.0ms inference, 4.2ms postprocess per image at shape (1, 3, 256, 640)\n",
      "\n",
      "0: 256x640 1 battery_plus, 24.5ms\n",
      "Speed: 4.0ms preprocess, 24.5ms inference, 3.0ms postprocess per image at shape (1, 3, 256, 640)\n",
      "\n",
      "0: 256x640 1 battery_plus, 24.6ms\n",
      "Speed: 2.0ms preprocess, 24.6ms inference, 5.0ms postprocess per image at shape (1, 3, 256, 640)\n",
      "\n",
      "0: 256x640 1 battery_plus, 26.5ms\n",
      "Speed: 2.0ms preprocess, 26.5ms inference, 3.0ms postprocess per image at shape (1, 3, 256, 640)\n",
      "\n",
      "0: 256x640 1 battery_plus, 25.0ms\n",
      "Speed: 2.1ms preprocess, 25.0ms inference, 4.2ms postprocess per image at shape (1, 3, 256, 640)\n",
      "\n",
      "0: 256x640 1 battery_plus, 24.0ms\n",
      "Speed: 2.0ms preprocess, 24.0ms inference, 3.5ms postprocess per image at shape (1, 3, 256, 640)\n",
      "\n",
      "0: 256x640 1 battery_plus, 26.1ms\n",
      "Speed: 3.0ms preprocess, 26.1ms inference, 3.0ms postprocess per image at shape (1, 3, 256, 640)\n",
      "\n",
      "0: 256x640 1 battery_plus, 24.0ms\n",
      "Speed: 1.5ms preprocess, 24.0ms inference, 2.0ms postprocess per image at shape (1, 3, 256, 640)\n",
      "\n",
      "0: 256x640 1 battery_plus, 23.5ms\n",
      "Speed: 2.0ms preprocess, 23.5ms inference, 3.0ms postprocess per image at shape (1, 3, 256, 640)\n",
      "\n",
      "0: 256x640 1 battery_plus, 26.2ms\n",
      "Speed: 2.0ms preprocess, 26.2ms inference, 4.0ms postprocess per image at shape (1, 3, 256, 640)\n",
      "\n",
      "0: 256x640 1 battery_plus, 23.5ms\n",
      "Speed: 3.0ms preprocess, 23.5ms inference, 4.0ms postprocess per image at shape (1, 3, 256, 640)\n",
      "\n",
      "0: 256x640 1 battery_plus, 24.4ms\n",
      "Speed: 2.0ms preprocess, 24.4ms inference, 5.0ms postprocess per image at shape (1, 3, 256, 640)\n",
      "\n",
      "0: 256x640 1 battery_plus, 23.6ms\n",
      "Speed: 2.0ms preprocess, 23.6ms inference, 3.0ms postprocess per image at shape (1, 3, 256, 640)\n",
      "\n",
      "0: 256x640 1 battery_plus, 24.7ms\n",
      "Speed: 2.0ms preprocess, 24.7ms inference, 3.0ms postprocess per image at shape (1, 3, 256, 640)\n",
      "\n",
      "0: 256x640 1 battery_plus, 25.7ms\n",
      "Speed: 2.3ms preprocess, 25.7ms inference, 3.0ms postprocess per image at shape (1, 3, 256, 640)\n",
      "\n",
      "0: 256x640 1 battery_plus, 24.1ms\n",
      "Speed: 2.0ms preprocess, 24.1ms inference, 4.0ms postprocess per image at shape (1, 3, 256, 640)\n",
      "\n",
      "0: 256x640 1 battery_plus, 24.8ms\n",
      "Speed: 2.0ms preprocess, 24.8ms inference, 5.7ms postprocess per image at shape (1, 3, 256, 640)\n",
      "\n",
      "0: 256x640 1 battery_plus, 24.0ms\n",
      "Speed: 2.0ms preprocess, 24.0ms inference, 2.5ms postprocess per image at shape (1, 3, 256, 640)\n",
      "\n",
      "0: 256x640 1 battery_plus, 25.0ms\n",
      "Speed: 2.0ms preprocess, 25.0ms inference, 3.0ms postprocess per image at shape (1, 3, 256, 640)\n",
      "\n",
      "0: 256x640 1 battery_plus, 23.6ms\n",
      "Speed: 3.0ms preprocess, 23.6ms inference, 3.0ms postprocess per image at shape (1, 3, 256, 640)\n",
      "\n",
      "0: 256x640 1 battery_plus, 25.0ms\n",
      "Speed: 2.0ms preprocess, 25.0ms inference, 4.0ms postprocess per image at shape (1, 3, 256, 640)\n",
      "\n",
      "0: 256x640 1 battery_plus, 24.0ms\n",
      "Speed: 2.0ms preprocess, 24.0ms inference, 5.0ms postprocess per image at shape (1, 3, 256, 640)\n",
      "\n",
      "0: 256x640 1 battery_plus, 24.0ms\n",
      "Speed: 1.0ms preprocess, 24.0ms inference, 4.0ms postprocess per image at shape (1, 3, 256, 640)\n",
      "\n",
      "0: 256x640 1 battery_plus, 24.0ms\n",
      "Speed: 4.0ms preprocess, 24.0ms inference, 4.0ms postprocess per image at shape (1, 3, 256, 640)\n",
      "\n",
      "0: 256x640 1 battery_plus, 24.1ms\n",
      "Speed: 2.0ms preprocess, 24.1ms inference, 6.6ms postprocess per image at shape (1, 3, 256, 640)\n",
      "\n",
      "0: 256x640 1 battery_plus, 26.7ms\n",
      "Speed: 2.0ms preprocess, 26.7ms inference, 3.0ms postprocess per image at shape (1, 3, 256, 640)\n",
      "\n",
      "0: 256x640 1 battery_plus, 24.0ms\n",
      "Speed: 2.0ms preprocess, 24.0ms inference, 3.0ms postprocess per image at shape (1, 3, 256, 640)\n",
      "\n",
      "0: 256x640 1 battery_plus, 24.0ms\n",
      "Speed: 2.0ms preprocess, 24.0ms inference, 7.0ms postprocess per image at shape (1, 3, 256, 640)\n",
      "\n",
      "0: 256x640 1 battery_plus, 26.6ms\n",
      "Speed: 1.9ms preprocess, 26.6ms inference, 3.0ms postprocess per image at shape (1, 3, 256, 640)\n",
      "\n",
      "0: 256x640 1 battery_plus, 25.0ms\n",
      "Speed: 3.0ms preprocess, 25.0ms inference, 3.0ms postprocess per image at shape (1, 3, 256, 640)\n",
      "\n",
      "0: 256x640 1 battery_plus, 24.6ms\n",
      "Speed: 2.0ms preprocess, 24.6ms inference, 5.0ms postprocess per image at shape (1, 3, 256, 640)\n",
      "\n",
      "0: 256x640 1 battery_plus, 27.5ms\n",
      "Speed: 2.0ms preprocess, 27.5ms inference, 4.0ms postprocess per image at shape (1, 3, 256, 640)\n",
      "\n",
      "0: 256x640 1 battery_plus, 24.5ms\n",
      "Speed: 2.0ms preprocess, 24.5ms inference, 3.0ms postprocess per image at shape (1, 3, 256, 640)\n",
      "\n",
      "0: 256x640 1 battery_plus, 24.0ms\n",
      "Speed: 2.0ms preprocess, 24.0ms inference, 5.0ms postprocess per image at shape (1, 3, 256, 640)\n",
      "\n",
      "0: 256x640 1 battery_plus, 24.0ms\n",
      "Speed: 2.0ms preprocess, 24.0ms inference, 4.0ms postprocess per image at shape (1, 3, 256, 640)\n",
      "\n",
      "0: 256x640 1 battery_plus, 25.5ms\n",
      "Speed: 1.0ms preprocess, 25.5ms inference, 3.0ms postprocess per image at shape (1, 3, 256, 640)\n",
      "\n",
      "0: 256x640 1 battery_plus, 24.4ms\n",
      "Speed: 2.6ms preprocess, 24.4ms inference, 4.0ms postprocess per image at shape (1, 3, 256, 640)\n",
      "\n",
      "0: 256x640 1 battery_plus, 23.5ms\n",
      "Speed: 1.5ms preprocess, 23.5ms inference, 4.0ms postprocess per image at shape (1, 3, 256, 640)\n",
      "\n",
      "0: 256x640 1 battery_plus, 23.5ms\n",
      "Speed: 1.9ms preprocess, 23.5ms inference, 3.0ms postprocess per image at shape (1, 3, 256, 640)\n",
      "\n",
      "0: 256x640 1 battery_plus, 23.5ms\n",
      "Speed: 1.0ms preprocess, 23.5ms inference, 4.0ms postprocess per image at shape (1, 3, 256, 640)\n",
      "\n",
      "0: 256x640 1 battery_plus, 24.0ms\n",
      "Speed: 2.0ms preprocess, 24.0ms inference, 3.0ms postprocess per image at shape (1, 3, 256, 640)\n",
      "\n",
      "0: 256x640 1 battery_plus, 26.6ms\n",
      "Speed: 2.0ms preprocess, 26.6ms inference, 4.0ms postprocess per image at shape (1, 3, 256, 640)\n",
      "\n",
      "0: 256x640 1 battery_plus, 24.0ms\n",
      "Speed: 2.0ms preprocess, 24.0ms inference, 4.4ms postprocess per image at shape (1, 3, 256, 640)\n",
      "\n",
      "0: 256x640 1 battery_plus, 24.0ms\n",
      "Speed: 1.6ms preprocess, 24.0ms inference, 4.0ms postprocess per image at shape (1, 3, 256, 640)\n",
      "\n",
      "0: 256x640 1 battery_plus, 24.0ms\n",
      "Speed: 2.0ms preprocess, 24.0ms inference, 4.0ms postprocess per image at shape (1, 3, 256, 640)\n",
      "\n",
      "0: 256x640 1 battery_plus, 25.5ms\n",
      "Speed: 2.0ms preprocess, 25.5ms inference, 4.0ms postprocess per image at shape (1, 3, 256, 640)\n",
      "\n",
      "0: 256x640 1 battery_plus, 24.5ms\n",
      "Speed: 2.0ms preprocess, 24.5ms inference, 3.0ms postprocess per image at shape (1, 3, 256, 640)\n",
      "\n",
      "0: 256x640 1 battery_plus, 24.5ms\n",
      "Speed: 2.0ms preprocess, 24.5ms inference, 4.0ms postprocess per image at shape (1, 3, 256, 640)\n",
      "\n",
      "0: 256x640 1 battery_plus, 24.0ms\n",
      "Speed: 2.0ms preprocess, 24.0ms inference, 4.0ms postprocess per image at shape (1, 3, 256, 640)\n",
      "\n",
      "0: 256x640 1 battery_plus, 25.0ms\n"
     ]
    },
    {
     "name": "stderr",
     "output_type": "stream",
     "text": [
      "Speed: 1.0ms preprocess, 25.0ms inference, 4.0ms postprocess per image at shape (1, 3, 256, 640)\n",
      "\n",
      "0: 256x640 1 battery_plus, 25.0ms\n",
      "Speed: 3.0ms preprocess, 25.0ms inference, 3.0ms postprocess per image at shape (1, 3, 256, 640)\n",
      "\n",
      "0: 256x640 1 battery_plus, 23.5ms\n",
      "Speed: 2.0ms preprocess, 23.5ms inference, 5.0ms postprocess per image at shape (1, 3, 256, 640)\n",
      "\n",
      "0: 256x640 1 battery_plus, 23.7ms\n",
      "Speed: 1.0ms preprocess, 23.7ms inference, 3.5ms postprocess per image at shape (1, 3, 256, 640)\n",
      "\n",
      "0: 256x640 1 battery_plus, 24.0ms\n",
      "Speed: 2.0ms preprocess, 24.0ms inference, 3.0ms postprocess per image at shape (1, 3, 256, 640)\n",
      "\n",
      "0: 256x640 1 battery_plus, 24.5ms\n",
      "Speed: 2.0ms preprocess, 24.5ms inference, 4.0ms postprocess per image at shape (1, 3, 256, 640)\n",
      "\n",
      "0: 256x640 1 battery_plus, 24.5ms\n",
      "Speed: 3.0ms preprocess, 24.5ms inference, 4.0ms postprocess per image at shape (1, 3, 256, 640)\n",
      "\n",
      "0: 256x640 1 battery_plus, 24.3ms\n",
      "Speed: 2.0ms preprocess, 24.3ms inference, 6.2ms postprocess per image at shape (1, 3, 256, 640)\n",
      "\n",
      "0: 256x640 1 battery_plus, 25.1ms\n",
      "Speed: 1.9ms preprocess, 25.1ms inference, 4.0ms postprocess per image at shape (1, 3, 256, 640)\n",
      "\n",
      "0: 256x640 1 battery_plus, 24.5ms\n",
      "Speed: 3.0ms preprocess, 24.5ms inference, 4.0ms postprocess per image at shape (1, 3, 256, 640)\n",
      "\n",
      "0: 256x640 1 battery_plus, 23.7ms\n",
      "Speed: 2.0ms preprocess, 23.7ms inference, 5.0ms postprocess per image at shape (1, 3, 256, 640)\n",
      "\n",
      "0: 256x640 1 battery_plus, 23.6ms\n",
      "Speed: 2.0ms preprocess, 23.6ms inference, 3.6ms postprocess per image at shape (1, 3, 256, 640)\n",
      "\n",
      "0: 256x640 1 battery_plus, 24.5ms\n",
      "Speed: 2.0ms preprocess, 24.5ms inference, 4.0ms postprocess per image at shape (1, 3, 256, 640)\n",
      "\n",
      "0: 256x640 1 battery_plus, 25.1ms\n",
      "Speed: 2.0ms preprocess, 25.1ms inference, 2.0ms postprocess per image at shape (1, 3, 256, 640)\n",
      "\n",
      "0: 256x640 1 battery_plus, 24.1ms\n",
      "Speed: 2.5ms preprocess, 24.1ms inference, 4.0ms postprocess per image at shape (1, 3, 256, 640)\n",
      "\n",
      "0: 256x640 1 battery_plus, 24.0ms\n",
      "Speed: 2.0ms preprocess, 24.0ms inference, 5.5ms postprocess per image at shape (1, 3, 256, 640)\n",
      "\n",
      "0: 256x640 1 battery_plus, 24.5ms\n",
      "Speed: 2.0ms preprocess, 24.5ms inference, 2.5ms postprocess per image at shape (1, 3, 256, 640)\n",
      "\n",
      "0: 256x640 1 battery_plus, 26.5ms\n",
      "Speed: 2.0ms preprocess, 26.5ms inference, 4.0ms postprocess per image at shape (1, 3, 256, 640)\n",
      "\n",
      "0: 256x640 1 battery_plus, 23.0ms\n",
      "Speed: 1.5ms preprocess, 23.0ms inference, 4.0ms postprocess per image at shape (1, 3, 256, 640)\n",
      "\n",
      "0: 256x640 1 battery_plus, 24.0ms\n",
      "Speed: 1.0ms preprocess, 24.0ms inference, 5.0ms postprocess per image at shape (1, 3, 256, 640)\n",
      "\n",
      "0: 256x640 1 battery_plus, 30.6ms\n",
      "Speed: 2.0ms preprocess, 30.6ms inference, 4.0ms postprocess per image at shape (1, 3, 256, 640)\n",
      "\n",
      "0: 256x640 1 battery_plus, 24.5ms\n",
      "Speed: 1.0ms preprocess, 24.5ms inference, 4.0ms postprocess per image at shape (1, 3, 256, 640)\n",
      "\n",
      "0: 256x640 1 battery_plus, 24.0ms\n",
      "Speed: 2.0ms preprocess, 24.0ms inference, 4.5ms postprocess per image at shape (1, 3, 256, 640)\n",
      "\n",
      "0: 256x640 1 battery_plus, 25.5ms\n",
      "Speed: 2.0ms preprocess, 25.5ms inference, 3.0ms postprocess per image at shape (1, 3, 256, 640)\n",
      "\n",
      "0: 256x640 1 battery_plus, 25.0ms\n",
      "Speed: 3.0ms preprocess, 25.0ms inference, 4.0ms postprocess per image at shape (1, 3, 256, 640)\n",
      "\n",
      "0: 256x640 1 battery_plus, 24.4ms\n",
      "Speed: 2.0ms preprocess, 24.4ms inference, 5.6ms postprocess per image at shape (1, 3, 256, 640)\n",
      "\n",
      "0: 256x640 1 battery_plus, 25.0ms\n",
      "Speed: 2.0ms preprocess, 25.0ms inference, 3.0ms postprocess per image at shape (1, 3, 256, 640)\n",
      "\n",
      "0: 256x640 1 battery_plus, 24.5ms\n",
      "Speed: 2.0ms preprocess, 24.5ms inference, 3.0ms postprocess per image at shape (1, 3, 256, 640)\n",
      "\n",
      "0: 256x640 1 battery_plus, 24.5ms\n",
      "Speed: 4.0ms preprocess, 24.5ms inference, 3.0ms postprocess per image at shape (1, 3, 256, 640)\n",
      "\n",
      "0: 256x640 1 battery_plus, 24.0ms\n",
      "Speed: 2.5ms preprocess, 24.0ms inference, 7.0ms postprocess per image at shape (1, 3, 256, 640)\n",
      "\n",
      "0: 256x640 1 battery_plus, 25.5ms\n",
      "Speed: 2.0ms preprocess, 25.5ms inference, 2.0ms postprocess per image at shape (1, 3, 256, 640)\n",
      "\n",
      "0: 256x640 1 battery_plus, 26.0ms\n",
      "Speed: 2.0ms preprocess, 26.0ms inference, 2.0ms postprocess per image at shape (1, 3, 256, 640)\n",
      "\n",
      "0: 256x640 1 battery_plus, 24.0ms\n",
      "Speed: 3.0ms preprocess, 24.0ms inference, 3.0ms postprocess per image at shape (1, 3, 256, 640)\n",
      "\n",
      "0: 256x640 1 battery_plus, 24.5ms\n",
      "Speed: 1.0ms preprocess, 24.5ms inference, 4.0ms postprocess per image at shape (1, 3, 256, 640)\n",
      "\n",
      "0: 256x640 1 battery_plus, 24.0ms\n",
      "Speed: 2.0ms preprocess, 24.0ms inference, 5.5ms postprocess per image at shape (1, 3, 256, 640)\n",
      "\n",
      "0: 256x640 1 battery_plus, 26.0ms\n",
      "Speed: 1.0ms preprocess, 26.0ms inference, 2.0ms postprocess per image at shape (1, 3, 256, 640)\n",
      "\n",
      "0: 256x640 1 battery_plus, 26.1ms\n",
      "Speed: 1.0ms preprocess, 26.1ms inference, 2.0ms postprocess per image at shape (1, 3, 256, 640)\n",
      "\n",
      "0: 256x640 1 battery_plus, 24.6ms\n",
      "Speed: 3.0ms preprocess, 24.6ms inference, 3.0ms postprocess per image at shape (1, 3, 256, 640)\n",
      "\n",
      "0: 256x640 1 battery_plus, 23.5ms\n",
      "Speed: 2.0ms preprocess, 23.5ms inference, 7.0ms postprocess per image at shape (1, 3, 256, 640)\n",
      "\n",
      "0: 256x640 1 battery_plus, 24.5ms\n",
      "Speed: 2.0ms preprocess, 24.5ms inference, 3.0ms postprocess per image at shape (1, 3, 256, 640)\n",
      "\n",
      "0: 256x640 1 battery_plus, 23.5ms\n",
      "Speed: 2.0ms preprocess, 23.5ms inference, 4.5ms postprocess per image at shape (1, 3, 256, 640)\n",
      "\n",
      "0: 256x640 1 battery_plus, 25.1ms\n",
      "Speed: 2.0ms preprocess, 25.1ms inference, 3.0ms postprocess per image at shape (1, 3, 256, 640)\n",
      "\n",
      "0: 256x640 1 battery_plus, 25.6ms\n",
      "Speed: 2.0ms preprocess, 25.6ms inference, 3.0ms postprocess per image at shape (1, 3, 256, 640)\n",
      "\n",
      "0: 256x640 1 battery_plus, 24.0ms\n",
      "Speed: 2.0ms preprocess, 24.0ms inference, 3.0ms postprocess per image at shape (1, 3, 256, 640)\n",
      "\n",
      "0: 256x640 1 battery_plus, 24.0ms\n",
      "Speed: 2.0ms preprocess, 24.0ms inference, 6.0ms postprocess per image at shape (1, 3, 256, 640)\n",
      "\n",
      "0: 256x640 1 battery_plus, 24.0ms\n",
      "Speed: 2.0ms preprocess, 24.0ms inference, 2.5ms postprocess per image at shape (1, 3, 256, 640)\n",
      "\n",
      "0: 256x640 1 battery_plus, 24.5ms\n",
      "Speed: 1.0ms preprocess, 24.5ms inference, 3.0ms postprocess per image at shape (1, 3, 256, 640)\n",
      "\n",
      "0: 256x640 1 battery_minus, 26.5ms\n",
      "Speed: 1.0ms preprocess, 26.5ms inference, 3.0ms postprocess per image at shape (1, 3, 256, 640)\n",
      "\n",
      "0: 256x640 1 battery_plus, 25.0ms\n",
      "Speed: 2.0ms preprocess, 25.0ms inference, 2.0ms postprocess per image at shape (1, 3, 256, 640)\n",
      "\n",
      "0: 256x640 1 battery_plus, 24.0ms\n",
      "Speed: 2.5ms preprocess, 24.0ms inference, 7.1ms postprocess per image at shape (1, 3, 256, 640)\n",
      "\n",
      "0: 256x640 1 battery_plus, 25.5ms\n",
      "Speed: 2.0ms preprocess, 25.5ms inference, 2.5ms postprocess per image at shape (1, 3, 256, 640)\n",
      "\n",
      "0: 256x640 1 battery_plus, 24.0ms\n",
      "Speed: 2.0ms preprocess, 24.0ms inference, 4.0ms postprocess per image at shape (1, 3, 256, 640)\n",
      "\n",
      "0: 256x640 1 battery_plus, 23.5ms\n",
      "Speed: 2.0ms preprocess, 23.5ms inference, 3.0ms postprocess per image at shape (1, 3, 256, 640)\n",
      "\n",
      "0: 256x640 1 battery_minus, 24.0ms\n",
      "Speed: 2.0ms preprocess, 24.0ms inference, 4.0ms postprocess per image at shape (1, 3, 256, 640)\n",
      "\n",
      "0: 256x640 1 battery_plus, 27.0ms\n",
      "Speed: 1.0ms preprocess, 27.0ms inference, 4.0ms postprocess per image at shape (1, 3, 256, 640)\n",
      "\n",
      "0: 256x640 1 battery_minus, 25.0ms\n",
      "Speed: 2.9ms preprocess, 25.0ms inference, 3.0ms postprocess per image at shape (1, 3, 256, 640)\n",
      "\n",
      "0: 256x640 1 battery_minus, 24.5ms\n",
      "Speed: 1.0ms preprocess, 24.5ms inference, 3.0ms postprocess per image at shape (1, 3, 256, 640)\n",
      "\n",
      "0: 256x640 1 battery_minus, 24.6ms\n",
      "Speed: 2.0ms preprocess, 24.6ms inference, 5.0ms postprocess per image at shape (1, 3, 256, 640)\n",
      "\n",
      "0: 256x640 1 battery_plus, 24.0ms\n",
      "Speed: 1.0ms preprocess, 24.0ms inference, 4.5ms postprocess per image at shape (1, 3, 256, 640)\n",
      "\n",
      "0: 256x640 1 battery_minus, 26.1ms\n",
      "Speed: 1.0ms preprocess, 26.1ms inference, 3.0ms postprocess per image at shape (1, 3, 256, 640)\n",
      "\n",
      "0: 256x640 1 battery_plus, 24.0ms\n",
      "Speed: 3.0ms preprocess, 24.0ms inference, 3.0ms postprocess per image at shape (1, 3, 256, 640)\n",
      "\n",
      "0: 256x640 1 battery_plus, 25.0ms\n",
      "Speed: 2.0ms preprocess, 25.0ms inference, 5.0ms postprocess per image at shape (1, 3, 256, 640)\n",
      "\n",
      "0: 256x640 1 battery_plus, 24.0ms\n",
      "Speed: 2.0ms preprocess, 24.0ms inference, 3.6ms postprocess per image at shape (1, 3, 256, 640)\n"
     ]
    },
    {
     "name": "stderr",
     "output_type": "stream",
     "text": [
      "\n",
      "0: 256x640 1 battery_plus, 24.0ms\n",
      "Speed: 2.0ms preprocess, 24.0ms inference, 3.0ms postprocess per image at shape (1, 3, 256, 640)\n",
      "\n",
      "0: 256x640 1 battery_plus, 25.0ms\n",
      "Speed: 1.0ms preprocess, 25.0ms inference, 3.6ms postprocess per image at shape (1, 3, 256, 640)\n",
      "\n",
      "0: 256x640 1 battery_plus, 25.1ms\n",
      "Speed: 2.5ms preprocess, 25.1ms inference, 2.0ms postprocess per image at shape (1, 3, 256, 640)\n",
      "\n",
      "0: 256x640 1 battery_plus, 23.0ms\n",
      "Speed: 2.0ms preprocess, 23.0ms inference, 3.0ms postprocess per image at shape (1, 3, 256, 640)\n",
      "\n",
      "0: 256x640 1 battery_plus, 23.0ms\n",
      "Speed: 2.0ms preprocess, 23.0ms inference, 4.0ms postprocess per image at shape (1, 3, 256, 640)\n",
      "\n",
      "0: 256x640 1 battery_plus, 24.0ms\n",
      "Speed: 1.0ms preprocess, 24.0ms inference, 3.0ms postprocess per image at shape (1, 3, 256, 640)\n",
      "\n",
      "0: 256x640 1 battery_plus, 24.5ms\n",
      "Speed: 4.0ms preprocess, 24.5ms inference, 3.0ms postprocess per image at shape (1, 3, 256, 640)\n",
      "\n",
      "0: 256x640 1 battery_plus, 24.0ms\n",
      "Speed: 2.0ms preprocess, 24.0ms inference, 6.0ms postprocess per image at shape (1, 3, 256, 640)\n",
      "\n",
      "0: 256x640 1 battery_plus, 25.1ms\n",
      "Speed: 2.0ms preprocess, 25.1ms inference, 3.0ms postprocess per image at shape (1, 3, 256, 640)\n",
      "\n",
      "0: 256x640 1 battery_plus, 25.0ms\n",
      "Speed: 2.0ms preprocess, 25.0ms inference, 3.0ms postprocess per image at shape (1, 3, 256, 640)\n",
      "\n",
      "0: 256x640 1 battery_plus, 24.0ms\n",
      "Speed: 2.0ms preprocess, 24.0ms inference, 6.0ms postprocess per image at shape (1, 3, 256, 640)\n",
      "\n",
      "0: 256x640 1 battery_plus, 24.5ms\n",
      "Speed: 2.0ms preprocess, 24.5ms inference, 3.0ms postprocess per image at shape (1, 3, 256, 640)\n",
      "\n",
      "0: 256x640 1 battery_plus, 25.5ms\n",
      "Speed: 2.0ms preprocess, 25.5ms inference, 3.0ms postprocess per image at shape (1, 3, 256, 640)\n",
      "\n",
      "0: 256x640 1 battery_plus, 24.0ms\n",
      "Speed: 4.0ms preprocess, 24.0ms inference, 2.0ms postprocess per image at shape (1, 3, 256, 640)\n",
      "\n",
      "0: 256x640 1 battery_plus, 23.0ms\n",
      "Speed: 3.0ms preprocess, 23.0ms inference, 5.0ms postprocess per image at shape (1, 3, 256, 640)\n",
      "\n",
      "0: 256x640 1 battery_plus, 24.4ms\n",
      "Speed: 2.0ms preprocess, 24.4ms inference, 5.0ms postprocess per image at shape (1, 3, 256, 640)\n",
      "\n",
      "0: 256x640 1 battery_plus, 26.6ms\n",
      "Speed: 2.0ms preprocess, 26.6ms inference, 4.0ms postprocess per image at shape (1, 3, 256, 640)\n",
      "\n",
      "0: 256x640 1 battery_plus, 23.0ms\n",
      "Speed: 2.5ms preprocess, 23.0ms inference, 4.0ms postprocess per image at shape (1, 3, 256, 640)\n",
      "\n",
      "0: 256x640 1 battery_plus, 24.0ms\n",
      "Speed: 2.0ms preprocess, 24.0ms inference, 5.0ms postprocess per image at shape (1, 3, 256, 640)\n",
      "\n",
      "0: 256x640 1 battery_plus, 24.0ms\n",
      "Speed: 2.0ms preprocess, 24.0ms inference, 4.0ms postprocess per image at shape (1, 3, 256, 640)\n",
      "\n",
      "0: 256x640 1 battery_plus, 25.3ms\n",
      "Speed: 2.0ms preprocess, 25.3ms inference, 3.0ms postprocess per image at shape (1, 3, 256, 640)\n",
      "\n",
      "0: 256x640 1 battery_plus, 24.5ms\n",
      "Speed: 3.0ms preprocess, 24.5ms inference, 3.0ms postprocess per image at shape (1, 3, 256, 640)\n",
      "\n",
      "0: 256x640 1 battery_plus, 23.0ms\n",
      "Speed: 3.0ms preprocess, 23.0ms inference, 5.0ms postprocess per image at shape (1, 3, 256, 640)\n",
      "\n",
      "0: 256x640 1 battery_plus, 23.0ms\n",
      "Speed: 1.0ms preprocess, 23.0ms inference, 4.0ms postprocess per image at shape (1, 3, 256, 640)\n",
      "\n",
      "0: 256x640 1 battery_plus, 24.0ms\n",
      "Speed: 1.0ms preprocess, 24.0ms inference, 3.0ms postprocess per image at shape (1, 3, 256, 640)\n",
      "\n",
      "0: 256x640 1 battery_plus, 24.0ms\n",
      "Speed: 2.0ms preprocess, 24.0ms inference, 3.0ms postprocess per image at shape (1, 3, 256, 640)\n",
      "\n",
      "0: 256x640 1 battery_plus, 24.6ms\n",
      "Speed: 2.0ms preprocess, 24.6ms inference, 3.0ms postprocess per image at shape (1, 3, 256, 640)\n",
      "\n",
      "0: 256x640 1 battery_plus, 25.6ms\n",
      "Speed: 2.0ms preprocess, 25.6ms inference, 3.0ms postprocess per image at shape (1, 3, 256, 640)\n",
      "\n",
      "0: 256x640 1 battery_plus, 24.0ms\n",
      "Speed: 2.0ms preprocess, 24.0ms inference, 3.0ms postprocess per image at shape (1, 3, 256, 640)\n",
      "\n",
      "0: 256x640 1 battery_plus, 24.0ms\n",
      "Speed: 2.0ms preprocess, 24.0ms inference, 4.5ms postprocess per image at shape (1, 3, 256, 640)\n"
     ]
    },
    {
     "name": "stdout",
     "output_type": "stream",
     "text": [
      "6.621621621621621\n"
     ]
    },
    {
     "name": "stderr",
     "output_type": "stream",
     "text": [
      "\n",
      "0: 256x640 1 battery_plus, 24.0ms\n",
      "Speed: 4324.5ms preprocess, 24.0ms inference, 4.0ms postprocess per image at shape (1, 3, 256, 640)\n"
     ]
    },
    {
     "name": "stdout",
     "output_type": "stream",
     "text": [
      "6.621621621621621\n"
     ]
    },
    {
     "name": "stderr",
     "output_type": "stream",
     "text": [
      "\n",
      "0: 256x640 (no detections), 23.1ms\n",
      "Speed: 4017.9ms preprocess, 23.1ms inference, 1.9ms postprocess per image at shape (1, 3, 256, 640)\n",
      "\n",
      "0: 256x640 (no detections), 25.2ms\n",
      "Speed: 2.0ms preprocess, 25.2ms inference, 2.9ms postprocess per image at shape (1, 3, 256, 640)\n",
      "\n",
      "0: 256x640 (no detections), 23.0ms\n",
      "Speed: 3.0ms preprocess, 23.0ms inference, 3.1ms postprocess per image at shape (1, 3, 256, 640)\n",
      "\n",
      "0: 256x640 (no detections), 24.1ms\n",
      "Speed: 3.0ms preprocess, 24.1ms inference, 2.0ms postprocess per image at shape (1, 3, 256, 640)\n",
      "\n",
      "0: 256x640 (no detections), 23.0ms\n",
      "Speed: 3.0ms preprocess, 23.0ms inference, 4.0ms postprocess per image at shape (1, 3, 256, 640)\n",
      "\n",
      "0: 256x640 (no detections), 24.6ms\n",
      "Speed: 2.0ms preprocess, 24.6ms inference, 2.0ms postprocess per image at shape (1, 3, 256, 640)\n",
      "\n",
      "0: 256x640 (no detections), 25.1ms\n",
      "Speed: 2.0ms preprocess, 25.1ms inference, 2.0ms postprocess per image at shape (1, 3, 256, 640)\n",
      "\n",
      "0: 256x640 (no detections), 24.0ms\n",
      "Speed: 1.0ms preprocess, 24.0ms inference, 3.0ms postprocess per image at shape (1, 3, 256, 640)\n",
      "\n",
      "0: 256x640 (no detections), 24.0ms\n",
      "Speed: 2.0ms preprocess, 24.0ms inference, 2.0ms postprocess per image at shape (1, 3, 256, 640)\n",
      "\n",
      "0: 256x640 (no detections), 23.6ms\n",
      "Speed: 2.0ms preprocess, 23.6ms inference, 2.9ms postprocess per image at shape (1, 3, 256, 640)\n",
      "\n",
      "0: 256x640 (no detections), 24.6ms\n",
      "Speed: 2.0ms preprocess, 24.6ms inference, 3.0ms postprocess per image at shape (1, 3, 256, 640)\n",
      "\n",
      "0: 256x640 (no detections), 24.1ms\n",
      "Speed: 2.0ms preprocess, 24.1ms inference, 3.0ms postprocess per image at shape (1, 3, 256, 640)\n",
      "\n",
      "0: 256x640 (no detections), 24.0ms\n",
      "Speed: 2.0ms preprocess, 24.0ms inference, 3.1ms postprocess per image at shape (1, 3, 256, 640)\n",
      "\n",
      "0: 256x640 (no detections), 24.0ms\n",
      "Speed: 1.8ms preprocess, 24.0ms inference, 2.0ms postprocess per image at shape (1, 3, 256, 640)\n",
      "\n",
      "0: 256x640 (no detections), 24.0ms\n",
      "Speed: 2.0ms preprocess, 24.0ms inference, 2.0ms postprocess per image at shape (1, 3, 256, 640)\n",
      "\n",
      "0: 256x640 (no detections), 24.0ms\n",
      "Speed: 2.0ms preprocess, 24.0ms inference, 2.0ms postprocess per image at shape (1, 3, 256, 640)\n",
      "\n",
      "0: 256x640 (no detections), 24.2ms\n",
      "Speed: 2.0ms preprocess, 24.2ms inference, 1.8ms postprocess per image at shape (1, 3, 256, 640)\n",
      "\n",
      "0: 256x640 (no detections), 25.0ms\n",
      "Speed: 2.0ms preprocess, 25.0ms inference, 4.0ms postprocess per image at shape (1, 3, 256, 640)\n",
      "\n",
      "0: 256x640 (no detections), 24.2ms\n",
      "Speed: 2.0ms preprocess, 24.2ms inference, 3.1ms postprocess per image at shape (1, 3, 256, 640)\n",
      "\n",
      "0: 256x640 (no detections), 24.6ms\n",
      "Speed: 2.0ms preprocess, 24.6ms inference, 1.0ms postprocess per image at shape (1, 3, 256, 640)\n",
      "\n",
      "0: 256x640 (no detections), 24.0ms\n",
      "Speed: 2.0ms preprocess, 24.0ms inference, 3.0ms postprocess per image at shape (1, 3, 256, 640)\n",
      "\n",
      "0: 256x640 (no detections), 23.0ms\n",
      "Speed: 2.0ms preprocess, 23.0ms inference, 2.0ms postprocess per image at shape (1, 3, 256, 640)\n",
      "\n",
      "0: 256x640 (no detections), 24.6ms\n",
      "Speed: 2.0ms preprocess, 24.6ms inference, 2.0ms postprocess per image at shape (1, 3, 256, 640)\n",
      "\n",
      "0: 256x640 (no detections), 24.0ms\n",
      "Speed: 2.0ms preprocess, 24.0ms inference, 3.0ms postprocess per image at shape (1, 3, 256, 640)\n",
      "\n",
      "0: 256x640 (no detections), 25.0ms\n",
      "Speed: 2.0ms preprocess, 25.0ms inference, 2.0ms postprocess per image at shape (1, 3, 256, 640)\n",
      "\n",
      "0: 256x640 (no detections), 24.1ms\n",
      "Speed: 2.0ms preprocess, 24.1ms inference, 2.9ms postprocess per image at shape (1, 3, 256, 640)\n",
      "\n",
      "0: 256x640 (no detections), 24.0ms\n",
      "Speed: 2.0ms preprocess, 24.0ms inference, 3.0ms postprocess per image at shape (1, 3, 256, 640)\n",
      "\n",
      "0: 256x640 (no detections), 24.0ms\n",
      "Speed: 2.0ms preprocess, 24.0ms inference, 2.0ms postprocess per image at shape (1, 3, 256, 640)\n",
      "\n",
      "0: 256x640 (no detections), 24.7ms\n",
      "Speed: 1.0ms preprocess, 24.7ms inference, 2.0ms postprocess per image at shape (1, 3, 256, 640)\n",
      "\n",
      "0: 256x640 (no detections), 25.1ms\n",
      "Speed: 2.0ms preprocess, 25.1ms inference, 3.0ms postprocess per image at shape (1, 3, 256, 640)\n",
      "\n",
      "0: 256x640 (no detections), 24.0ms\n",
      "Speed: 2.0ms preprocess, 24.0ms inference, 3.0ms postprocess per image at shape (1, 3, 256, 640)\n",
      "\n",
      "0: 256x640 (no detections), 24.1ms\n",
      "Speed: 2.0ms preprocess, 24.1ms inference, 3.0ms postprocess per image at shape (1, 3, 256, 640)\n",
      "\n",
      "0: 256x640 (no detections), 24.5ms\n",
      "Speed: 2.0ms preprocess, 24.5ms inference, 2.0ms postprocess per image at shape (1, 3, 256, 640)\n",
      "\n",
      "0: 256x640 (no detections), 24.6ms\n",
      "Speed: 2.0ms preprocess, 24.6ms inference, 3.0ms postprocess per image at shape (1, 3, 256, 640)\n",
      "\n",
      "0: 256x640 (no detections), 25.1ms\n",
      "Speed: 2.0ms preprocess, 25.1ms inference, 2.0ms postprocess per image at shape (1, 3, 256, 640)\n",
      "\n",
      "0: 256x640 (no detections), 24.0ms\n",
      "Speed: 2.0ms preprocess, 24.0ms inference, 1.0ms postprocess per image at shape (1, 3, 256, 640)\n",
      "\n",
      "0: 256x640 (no detections), 24.0ms\n",
      "Speed: 2.0ms preprocess, 24.0ms inference, 3.0ms postprocess per image at shape (1, 3, 256, 640)\n",
      "\n",
      "0: 256x640 (no detections), 24.1ms\n",
      "Speed: 2.0ms preprocess, 24.1ms inference, 3.0ms postprocess per image at shape (1, 3, 256, 640)\n",
      "\n",
      "0: 256x640 (no detections), 24.1ms\n",
      "Speed: 2.0ms preprocess, 24.1ms inference, 3.0ms postprocess per image at shape (1, 3, 256, 640)\n",
      "\n",
      "0: 256x640 (no detections), 24.1ms\n",
      "Speed: 2.0ms preprocess, 24.1ms inference, 1.9ms postprocess per image at shape (1, 3, 256, 640)\n",
      "\n",
      "0: 256x640 (no detections), 24.0ms\n",
      "Speed: 2.0ms preprocess, 24.0ms inference, 2.2ms postprocess per image at shape (1, 3, 256, 640)\n",
      "\n",
      "0: 256x640 (no detections), 24.1ms\n",
      "Speed: 2.0ms preprocess, 24.1ms inference, 2.9ms postprocess per image at shape (1, 3, 256, 640)\n",
      "\n",
      "0: 256x640 (no detections), 24.5ms\n",
      "Speed: 2.0ms preprocess, 24.5ms inference, 2.0ms postprocess per image at shape (1, 3, 256, 640)\n",
      "\n",
      "0: 256x640 (no detections), 24.1ms\n",
      "Speed: 1.0ms preprocess, 24.1ms inference, 2.0ms postprocess per image at shape (1, 3, 256, 640)\n",
      "\n",
      "0: 256x640 (no detections), 24.1ms\n",
      "Speed: 2.0ms preprocess, 24.1ms inference, 3.0ms postprocess per image at shape (1, 3, 256, 640)\n",
      "\n",
      "0: 256x640 (no detections), 26.6ms\n",
      "Speed: 2.0ms preprocess, 26.6ms inference, 2.6ms postprocess per image at shape (1, 3, 256, 640)\n",
      "\n",
      "0: 256x640 (no detections), 24.0ms\n",
      "Speed: 1.0ms preprocess, 24.0ms inference, 1.9ms postprocess per image at shape (1, 3, 256, 640)\n",
      "\n",
      "0: 256x640 (no detections), 24.0ms\n",
      "Speed: 1.0ms preprocess, 24.0ms inference, 2.6ms postprocess per image at shape (1, 3, 256, 640)\n",
      "\n",
      "0: 256x640 (no detections), 25.1ms\n",
      "Speed: 2.0ms preprocess, 25.1ms inference, 2.0ms postprocess per image at shape (1, 3, 256, 640)\n",
      "\n",
      "0: 256x640 (no detections), 24.4ms\n",
      "Speed: 2.0ms preprocess, 24.4ms inference, 1.0ms postprocess per image at shape (1, 3, 256, 640)\n",
      "\n",
      "0: 256x640 (no detections), 24.0ms\n",
      "Speed: 1.0ms preprocess, 24.0ms inference, 3.0ms postprocess per image at shape (1, 3, 256, 640)\n",
      "\n",
      "0: 256x640 (no detections), 25.0ms\n",
      "Speed: 1.0ms preprocess, 25.0ms inference, 2.0ms postprocess per image at shape (1, 3, 256, 640)\n",
      "\n",
      "0: 256x640 (no detections), 24.1ms\n",
      "Speed: 1.0ms preprocess, 24.1ms inference, 3.0ms postprocess per image at shape (1, 3, 256, 640)\n",
      "\n",
      "0: 256x640 (no detections), 24.1ms\n",
      "Speed: 2.0ms preprocess, 24.1ms inference, 2.0ms postprocess per image at shape (1, 3, 256, 640)\n",
      "\n",
      "0: 256x640 (no detections), 26.1ms\n",
      "Speed: 2.0ms preprocess, 26.1ms inference, 2.6ms postprocess per image at shape (1, 3, 256, 640)\n",
      "\n",
      "0: 256x640 (no detections), 25.0ms\n",
      "Speed: 2.0ms preprocess, 25.0ms inference, 2.1ms postprocess per image at shape (1, 3, 256, 640)\n",
      "\n",
      "0: 256x640 (no detections), 24.1ms\n",
      "Speed: 2.0ms preprocess, 24.1ms inference, 1.0ms postprocess per image at shape (1, 3, 256, 640)\n",
      "\n",
      "0: 256x640 (no detections), 23.3ms\n",
      "Speed: 2.0ms preprocess, 23.3ms inference, 2.9ms postprocess per image at shape (1, 3, 256, 640)\n",
      "\n",
      "0: 256x640 1 battery_plus, 23.8ms\n",
      "Speed: 2.0ms preprocess, 23.8ms inference, 3.9ms postprocess per image at shape (1, 3, 256, 640)\n",
      "\n",
      "0: 256x640 (no detections), 24.1ms\n",
      "Speed: 2.0ms preprocess, 24.1ms inference, 1.0ms postprocess per image at shape (1, 3, 256, 640)\n",
      "\n",
      "0: 256x640 1 battery_plus, 24.0ms\n",
      "Speed: 2.0ms preprocess, 24.0ms inference, 3.1ms postprocess per image at shape (1, 3, 256, 640)\n",
      "\n",
      "0: 256x640 1 battery_plus, 25.1ms\n",
      "Speed: 2.0ms preprocess, 25.1ms inference, 4.0ms postprocess per image at shape (1, 3, 256, 640)\n"
     ]
    },
    {
     "name": "stderr",
     "output_type": "stream",
     "text": [
      "\n",
      "0: 256x640 1 battery_plus, 25.0ms\n",
      "Speed: 2.0ms preprocess, 25.0ms inference, 2.0ms postprocess per image at shape (1, 3, 256, 640)\n",
      "\n",
      "0: 256x640 1 battery_plus, 25.0ms\n",
      "Speed: 2.0ms preprocess, 25.0ms inference, 3.0ms postprocess per image at shape (1, 3, 256, 640)\n",
      "\n",
      "0: 256x640 1 battery_plus, 25.0ms\n",
      "Speed: 2.0ms preprocess, 25.0ms inference, 4.0ms postprocess per image at shape (1, 3, 256, 640)\n",
      "\n",
      "0: 256x640 1 battery_plus, 24.6ms\n",
      "Speed: 2.0ms preprocess, 24.6ms inference, 4.0ms postprocess per image at shape (1, 3, 256, 640)\n",
      "\n",
      "0: 256x640 1 battery_plus, 24.3ms\n",
      "Speed: 2.0ms preprocess, 24.3ms inference, 2.9ms postprocess per image at shape (1, 3, 256, 640)\n",
      "\n",
      "0: 256x640 1 battery_plus, 25.0ms\n",
      "Speed: 2.0ms preprocess, 25.0ms inference, 2.0ms postprocess per image at shape (1, 3, 256, 640)\n",
      "\n",
      "0: 256x640 1 battery_plus, 23.0ms\n",
      "Speed: 3.0ms preprocess, 23.0ms inference, 2.9ms postprocess per image at shape (1, 3, 256, 640)\n",
      "\n",
      "0: 256x640 1 battery_plus, 24.5ms\n",
      "Speed: 2.0ms preprocess, 24.5ms inference, 3.5ms postprocess per image at shape (1, 3, 256, 640)\n",
      "\n",
      "0: 256x640 1 battery_plus, 24.0ms\n",
      "Speed: 2.0ms preprocess, 24.0ms inference, 4.0ms postprocess per image at shape (1, 3, 256, 640)\n",
      "\n",
      "0: 256x640 1 battery_plus, 24.0ms\n",
      "Speed: 3.0ms preprocess, 24.0ms inference, 3.0ms postprocess per image at shape (1, 3, 256, 640)\n",
      "\n",
      "0: 256x640 1 battery_plus, 25.0ms\n",
      "Speed: 2.0ms preprocess, 25.0ms inference, 3.0ms postprocess per image at shape (1, 3, 256, 640)\n",
      "\n",
      "0: 256x640 1 battery_plus, 23.0ms\n",
      "Speed: 2.0ms preprocess, 23.0ms inference, 4.0ms postprocess per image at shape (1, 3, 256, 640)\n",
      "\n",
      "0: 256x640 1 battery_plus, 25.0ms\n",
      "Speed: 2.0ms preprocess, 25.0ms inference, 4.0ms postprocess per image at shape (1, 3, 256, 640)\n",
      "\n",
      "0: 256x640 1 battery_plus, 24.1ms\n",
      "Speed: 2.0ms preprocess, 24.1ms inference, 3.9ms postprocess per image at shape (1, 3, 256, 640)\n",
      "\n",
      "0: 256x640 1 battery_plus, 25.0ms\n",
      "Speed: 2.1ms preprocess, 25.0ms inference, 3.0ms postprocess per image at shape (1, 3, 256, 640)\n",
      "\n",
      "0: 256x640 1 battery_plus, 24.0ms\n",
      "Speed: 2.0ms preprocess, 24.0ms inference, 4.0ms postprocess per image at shape (1, 3, 256, 640)\n",
      "\n",
      "0: 256x640 1 battery_plus, 24.0ms\n",
      "Speed: 2.0ms preprocess, 24.0ms inference, 5.6ms postprocess per image at shape (1, 3, 256, 640)\n",
      "\n",
      "0: 256x640 1 battery_plus, 25.0ms\n",
      "Speed: 2.0ms preprocess, 25.0ms inference, 4.0ms postprocess per image at shape (1, 3, 256, 640)\n",
      "\n",
      "0: 256x640 1 battery_plus, 25.0ms\n",
      "Speed: 2.5ms preprocess, 25.0ms inference, 4.1ms postprocess per image at shape (1, 3, 256, 640)\n",
      "\n",
      "0: 256x640 1 battery_plus, 24.0ms\n",
      "Speed: 2.0ms preprocess, 24.0ms inference, 5.0ms postprocess per image at shape (1, 3, 256, 640)\n",
      "\n",
      "0: 256x640 1 battery_plus, 24.1ms\n",
      "Speed: 2.0ms preprocess, 24.1ms inference, 3.9ms postprocess per image at shape (1, 3, 256, 640)\n",
      "\n",
      "0: 256x640 1 battery_plus, 26.1ms\n",
      "Speed: 2.0ms preprocess, 26.1ms inference, 4.0ms postprocess per image at shape (1, 3, 256, 640)\n",
      "\n",
      "0: 256x640 1 battery_plus, 25.2ms\n",
      "Speed: 2.0ms preprocess, 25.2ms inference, 4.0ms postprocess per image at shape (1, 3, 256, 640)\n",
      "\n",
      "0: 256x640 1 battery_plus, 24.0ms\n",
      "Speed: 2.0ms preprocess, 24.0ms inference, 6.0ms postprocess per image at shape (1, 3, 256, 640)\n",
      "\n",
      "0: 256x640 1 battery_plus, 24.1ms\n",
      "Speed: 2.0ms preprocess, 24.1ms inference, 3.0ms postprocess per image at shape (1, 3, 256, 640)\n",
      "\n",
      "0: 256x640 1 battery_plus, 24.0ms\n",
      "Speed: 1.0ms preprocess, 24.0ms inference, 4.0ms postprocess per image at shape (1, 3, 256, 640)\n",
      "\n",
      "0: 256x640 1 battery_plus, 24.6ms\n",
      "Speed: 2.0ms preprocess, 24.6ms inference, 2.0ms postprocess per image at shape (1, 3, 256, 640)\n",
      "\n",
      "0: 256x640 1 battery_plus, 25.9ms\n",
      "Speed: 2.1ms preprocess, 25.9ms inference, 3.0ms postprocess per image at shape (1, 3, 256, 640)\n",
      "\n",
      "0: 256x640 1 battery_plus, 25.1ms\n",
      "Speed: 2.0ms preprocess, 25.1ms inference, 5.0ms postprocess per image at shape (1, 3, 256, 640)\n",
      "\n",
      "0: 256x640 1 battery_plus, 23.7ms\n",
      "Speed: 2.0ms preprocess, 23.7ms inference, 2.2ms postprocess per image at shape (1, 3, 256, 640)\n",
      "\n",
      "0: 256x640 1 battery_plus, 23.6ms\n",
      "Speed: 2.0ms preprocess, 23.6ms inference, 4.0ms postprocess per image at shape (1, 3, 256, 640)\n",
      "\n",
      "0: 256x640 1 battery_plus, 24.1ms\n",
      "Speed: 2.0ms preprocess, 24.1ms inference, 3.0ms postprocess per image at shape (1, 3, 256, 640)\n",
      "\n",
      "0: 256x640 1 battery_plus, 24.1ms\n",
      "Speed: 2.0ms preprocess, 24.1ms inference, 4.0ms postprocess per image at shape (1, 3, 256, 640)\n",
      "\n",
      "0: 256x640 1 battery_plus, 25.1ms\n",
      "Speed: 2.0ms preprocess, 25.1ms inference, 2.0ms postprocess per image at shape (1, 3, 256, 640)\n",
      "\n",
      "0: 256x640 1 battery_plus, 23.0ms\n",
      "Speed: 2.0ms preprocess, 23.0ms inference, 2.0ms postprocess per image at shape (1, 3, 256, 640)\n",
      "\n",
      "0: 256x640 1 battery_plus, 24.1ms\n",
      "Speed: 1.0ms preprocess, 24.1ms inference, 4.0ms postprocess per image at shape (1, 3, 256, 640)\n",
      "\n",
      "0: 256x640 1 battery_plus, 24.0ms\n",
      "Speed: 1.8ms preprocess, 24.0ms inference, 4.0ms postprocess per image at shape (1, 3, 256, 640)\n",
      "\n",
      "0: 256x640 1 battery_plus, 25.1ms\n",
      "Speed: 2.0ms preprocess, 25.1ms inference, 3.0ms postprocess per image at shape (1, 3, 256, 640)\n",
      "\n",
      "0: 256x640 1 battery_plus, 26.0ms\n",
      "Speed: 1.0ms preprocess, 26.0ms inference, 3.0ms postprocess per image at shape (1, 3, 256, 640)\n",
      "\n",
      "0: 256x640 1 battery_plus, 25.0ms\n",
      "Speed: 2.6ms preprocess, 25.0ms inference, 3.0ms postprocess per image at shape (1, 3, 256, 640)\n",
      "\n",
      "0: 256x640 1 battery_plus, 25.1ms\n",
      "Speed: 2.0ms preprocess, 25.1ms inference, 4.9ms postprocess per image at shape (1, 3, 256, 640)\n",
      "\n",
      "0: 256x640 1 battery_plus, 24.1ms\n",
      "Speed: 2.0ms preprocess, 24.1ms inference, 3.0ms postprocess per image at shape (1, 3, 256, 640)\n",
      "\n",
      "0: 256x640 1 battery_plus, 23.7ms\n",
      "Speed: 2.0ms preprocess, 23.7ms inference, 3.0ms postprocess per image at shape (1, 3, 256, 640)\n",
      "\n",
      "0: 256x640 1 battery_plus, 26.5ms\n",
      "Speed: 1.0ms preprocess, 26.5ms inference, 3.0ms postprocess per image at shape (1, 3, 256, 640)\n",
      "\n",
      "0: 256x640 1 battery_plus, 24.0ms\n",
      "Speed: 3.0ms preprocess, 24.0ms inference, 3.0ms postprocess per image at shape (1, 3, 256, 640)\n",
      "\n",
      "0: 256x640 1 battery_plus, 24.0ms\n",
      "Speed: 1.0ms preprocess, 24.0ms inference, 4.0ms postprocess per image at shape (1, 3, 256, 640)\n",
      "\n",
      "0: 256x640 1 battery_plus, 26.0ms\n",
      "Speed: 1.0ms preprocess, 26.0ms inference, 3.1ms postprocess per image at shape (1, 3, 256, 640)\n",
      "\n",
      "0: 256x640 1 battery_plus, 25.6ms\n",
      "Speed: 2.0ms preprocess, 25.6ms inference, 3.0ms postprocess per image at shape (1, 3, 256, 640)\n",
      "\n",
      "0: 256x640 1 battery_plus, 24.0ms\n",
      "Speed: 1.0ms preprocess, 24.0ms inference, 3.0ms postprocess per image at shape (1, 3, 256, 640)\n",
      "\n",
      "0: 256x640 1 battery_plus, 25.0ms\n",
      "Speed: 3.0ms preprocess, 25.0ms inference, 3.0ms postprocess per image at shape (1, 3, 256, 640)\n",
      "\n",
      "0: 256x640 1 battery_plus, 23.6ms\n",
      "Speed: 2.0ms preprocess, 23.6ms inference, 3.0ms postprocess per image at shape (1, 3, 256, 640)\n",
      "\n",
      "0: 256x640 1 battery_plus, 23.5ms\n",
      "Speed: 2.0ms preprocess, 23.5ms inference, 4.0ms postprocess per image at shape (1, 3, 256, 640)\n",
      "\n",
      "0: 256x640 1 battery_plus, 24.0ms\n",
      "Speed: 1.0ms preprocess, 24.0ms inference, 3.0ms postprocess per image at shape (1, 3, 256, 640)\n",
      "\n",
      "0: 256x640 1 battery_plus, 24.1ms\n",
      "Speed: 2.0ms preprocess, 24.1ms inference, 2.0ms postprocess per image at shape (1, 3, 256, 640)\n",
      "\n",
      "0: 256x640 1 battery_plus, 24.6ms\n",
      "Speed: 2.0ms preprocess, 24.6ms inference, 3.0ms postprocess per image at shape (1, 3, 256, 640)\n",
      "\n",
      "0: 256x640 (no detections), 24.5ms\n",
      "Speed: 2.0ms preprocess, 24.5ms inference, 1.0ms postprocess per image at shape (1, 3, 256, 640)\n",
      "\n",
      "0: 256x640 1 battery_plus, 24.6ms\n",
      "Speed: 2.0ms preprocess, 24.6ms inference, 2.0ms postprocess per image at shape (1, 3, 256, 640)\n",
      "\n",
      "0: 256x640 1 battery_plus, 28.5ms\n",
      "Speed: 2.0ms preprocess, 28.5ms inference, 3.8ms postprocess per image at shape (1, 3, 256, 640)\n",
      "\n",
      "0: 256x640 1 battery_plus, 24.2ms\n",
      "Speed: 1.0ms preprocess, 24.2ms inference, 4.8ms postprocess per image at shape (1, 3, 256, 640)\n",
      "\n",
      "0: 256x640 1 battery_plus, 24.0ms\n",
      "Speed: 1.0ms preprocess, 24.0ms inference, 3.0ms postprocess per image at shape (1, 3, 256, 640)\n",
      "\n",
      "0: 256x640 1 battery_plus, 28.6ms\n",
      "Speed: 2.0ms preprocess, 28.6ms inference, 3.0ms postprocess per image at shape (1, 3, 256, 640)\n",
      "\n",
      "0: 256x640 1 battery_plus, 24.6ms\n",
      "Speed: 2.0ms preprocess, 24.6ms inference, 3.5ms postprocess per image at shape (1, 3, 256, 640)\n",
      "\n",
      "0: 256x640 1 battery_plus, 26.1ms\n"
     ]
    },
    {
     "name": "stderr",
     "output_type": "stream",
     "text": [
      "Speed: 2.0ms preprocess, 26.1ms inference, 3.0ms postprocess per image at shape (1, 3, 256, 640)\n",
      "\n",
      "0: 256x640 1 battery_plus, 26.0ms\n",
      "Speed: 3.0ms preprocess, 26.0ms inference, 3.0ms postprocess per image at shape (1, 3, 256, 640)\n",
      "\n",
      "0: 256x640 1 battery_plus, 24.1ms\n",
      "Speed: 3.0ms preprocess, 24.1ms inference, 3.9ms postprocess per image at shape (1, 3, 256, 640)\n",
      "\n",
      "0: 256x640 1 battery_plus, 24.9ms\n",
      "Speed: 1.0ms preprocess, 24.9ms inference, 3.8ms postprocess per image at shape (1, 3, 256, 640)\n",
      "\n",
      "0: 256x640 1 battery_plus, 24.0ms\n",
      "Speed: 4.0ms preprocess, 24.0ms inference, 5.0ms postprocess per image at shape (1, 3, 256, 640)\n",
      "\n",
      "0: 256x640 1 battery_plus, 26.0ms\n",
      "Speed: 2.0ms preprocess, 26.0ms inference, 5.0ms postprocess per image at shape (1, 3, 256, 640)\n",
      "\n",
      "0: 256x640 1 battery_plus, 25.2ms\n",
      "Speed: 2.0ms preprocess, 25.2ms inference, 3.0ms postprocess per image at shape (1, 3, 256, 640)\n",
      "\n",
      "0: 256x640 1 battery_plus, 23.6ms\n",
      "Speed: 2.1ms preprocess, 23.6ms inference, 6.0ms postprocess per image at shape (1, 3, 256, 640)\n",
      "\n",
      "0: 256x640 1 battery_plus, 27.0ms\n",
      "Speed: 1.0ms preprocess, 27.0ms inference, 3.0ms postprocess per image at shape (1, 3, 256, 640)\n",
      "\n",
      "0: 256x640 1 battery_plus, 25.0ms\n",
      "Speed: 3.0ms preprocess, 25.0ms inference, 3.0ms postprocess per image at shape (1, 3, 256, 640)\n",
      "\n",
      "0: 256x640 1 battery_plus, 24.0ms\n",
      "Speed: 2.0ms preprocess, 24.0ms inference, 5.0ms postprocess per image at shape (1, 3, 256, 640)\n",
      "\n",
      "0: 256x640 1 battery_plus, 25.0ms\n",
      "Speed: 4.0ms preprocess, 25.0ms inference, 5.0ms postprocess per image at shape (1, 3, 256, 640)\n",
      "\n",
      "0: 256x640 1 battery_plus, 26.5ms\n",
      "Speed: 1.0ms preprocess, 26.5ms inference, 3.0ms postprocess per image at shape (1, 3, 256, 640)\n",
      "\n",
      "0: 256x640 1 battery_plus, 24.0ms\n",
      "Speed: 3.6ms preprocess, 24.0ms inference, 3.2ms postprocess per image at shape (1, 3, 256, 640)\n",
      "\n",
      "0: 256x640 1 battery_plus, 27.7ms\n",
      "Speed: 3.0ms preprocess, 27.7ms inference, 4.0ms postprocess per image at shape (1, 3, 256, 640)\n",
      "\n",
      "0: 256x640 (no detections), 24.5ms\n",
      "Speed: 3.5ms preprocess, 24.5ms inference, 2.0ms postprocess per image at shape (1, 3, 256, 640)\n",
      "\n",
      "0: 256x640 (no detections), 24.0ms\n",
      "Speed: 2.6ms preprocess, 24.0ms inference, 2.0ms postprocess per image at shape (1, 3, 256, 640)\n",
      "\n",
      "0: 256x640 1 battery_plus, 24.0ms\n",
      "Speed: 2.0ms preprocess, 24.0ms inference, 7.1ms postprocess per image at shape (1, 3, 256, 640)\n",
      "\n",
      "0: 256x640 1 battery_plus, 25.6ms\n",
      "Speed: 2.4ms preprocess, 25.6ms inference, 3.0ms postprocess per image at shape (1, 3, 256, 640)\n",
      "\n",
      "0: 256x640 1 battery_plus, 23.5ms\n",
      "Speed: 2.0ms preprocess, 23.5ms inference, 6.0ms postprocess per image at shape (1, 3, 256, 640)\n",
      "\n",
      "0: 256x640 1 battery_plus, 26.0ms\n",
      "Speed: 2.0ms preprocess, 26.0ms inference, 3.0ms postprocess per image at shape (1, 3, 256, 640)\n",
      "\n",
      "0: 256x640 1 battery_plus, 26.0ms\n",
      "Speed: 2.0ms preprocess, 26.0ms inference, 3.0ms postprocess per image at shape (1, 3, 256, 640)\n",
      "\n",
      "0: 256x640 1 battery_plus, 23.5ms\n",
      "Speed: 3.0ms preprocess, 23.5ms inference, 6.0ms postprocess per image at shape (1, 3, 256, 640)\n",
      "\n",
      "0: 256x640 1 battery_plus, 24.6ms\n",
      "Speed: 2.0ms preprocess, 24.6ms inference, 3.9ms postprocess per image at shape (1, 3, 256, 640)\n",
      "\n",
      "0: 256x640 1 battery_plus, 26.6ms\n",
      "Speed: 3.0ms preprocess, 26.6ms inference, 5.0ms postprocess per image at shape (1, 3, 256, 640)\n",
      "\n",
      "0: 256x640 1 battery_plus, 30.0ms\n",
      "Speed: 2.0ms preprocess, 30.0ms inference, 4.0ms postprocess per image at shape (1, 3, 256, 640)\n",
      "\n",
      "0: 256x640 1 battery_plus, 30.0ms\n",
      "Speed: 2.0ms preprocess, 30.0ms inference, 4.0ms postprocess per image at shape (1, 3, 256, 640)\n",
      "\n",
      "0: 256x640 1 battery_plus, 30.0ms\n",
      "Speed: 4.0ms preprocess, 30.0ms inference, 4.0ms postprocess per image at shape (1, 3, 256, 640)\n",
      "\n",
      "0: 256x640 1 battery_plus, 29.0ms\n",
      "Speed: 3.0ms preprocess, 29.0ms inference, 3.0ms postprocess per image at shape (1, 3, 256, 640)\n",
      "\n",
      "0: 256x640 1 battery_plus, 27.0ms\n",
      "Speed: 2.0ms preprocess, 27.0ms inference, 4.0ms postprocess per image at shape (1, 3, 256, 640)\n",
      "\n",
      "0: 256x640 1 battery_plus, 25.6ms\n",
      "Speed: 2.0ms preprocess, 25.6ms inference, 4.0ms postprocess per image at shape (1, 3, 256, 640)\n",
      "\n",
      "0: 256x640 1 battery_plus, 30.2ms\n",
      "Speed: 2.0ms preprocess, 30.2ms inference, 4.0ms postprocess per image at shape (1, 3, 256, 640)\n",
      "\n",
      "0: 256x640 1 battery_plus, 31.0ms\n",
      "Speed: 3.0ms preprocess, 31.0ms inference, 4.0ms postprocess per image at shape (1, 3, 256, 640)\n",
      "\n",
      "0: 256x640 1 battery_plus, 27.6ms\n",
      "Speed: 1.0ms preprocess, 27.6ms inference, 6.0ms postprocess per image at shape (1, 3, 256, 640)\n",
      "\n",
      "0: 256x640 1 battery_plus, 30.0ms\n",
      "Speed: 2.0ms preprocess, 30.0ms inference, 5.0ms postprocess per image at shape (1, 3, 256, 640)\n",
      "\n",
      "0: 256x640 1 battery_plus, 23.6ms\n",
      "Speed: 1.0ms preprocess, 23.6ms inference, 5.0ms postprocess per image at shape (1, 3, 256, 640)\n",
      "\n",
      "0: 256x640 1 battery_plus, 26.0ms\n",
      "Speed: 2.0ms preprocess, 26.0ms inference, 4.0ms postprocess per image at shape (1, 3, 256, 640)\n",
      "\n",
      "0: 256x640 1 battery_plus, 27.5ms\n",
      "Speed: 2.0ms preprocess, 27.5ms inference, 3.0ms postprocess per image at shape (1, 3, 256, 640)\n",
      "\n",
      "0: 256x640 1 battery_plus, 28.2ms\n",
      "Speed: 2.0ms preprocess, 28.2ms inference, 3.0ms postprocess per image at shape (1, 3, 256, 640)\n",
      "\n",
      "0: 256x640 1 battery_plus, 26.1ms\n",
      "Speed: 2.0ms preprocess, 26.1ms inference, 3.0ms postprocess per image at shape (1, 3, 256, 640)\n",
      "\n",
      "0: 256x640 1 battery_plus, 24.5ms\n",
      "Speed: 1.0ms preprocess, 24.5ms inference, 4.0ms postprocess per image at shape (1, 3, 256, 640)\n",
      "\n",
      "0: 256x640 1 battery_plus, 24.0ms\n",
      "Speed: 2.0ms preprocess, 24.0ms inference, 3.0ms postprocess per image at shape (1, 3, 256, 640)\n",
      "\n",
      "0: 256x640 1 battery_plus, 23.6ms\n",
      "Speed: 2.0ms preprocess, 23.6ms inference, 4.0ms postprocess per image at shape (1, 3, 256, 640)\n",
      "\n",
      "0: 256x640 1 battery_plus, 27.0ms\n",
      "Speed: 2.0ms preprocess, 27.0ms inference, 2.0ms postprocess per image at shape (1, 3, 256, 640)\n",
      "\n",
      "0: 256x640 1 battery_plus, 24.9ms\n",
      "Speed: 2.2ms preprocess, 24.9ms inference, 4.0ms postprocess per image at shape (1, 3, 256, 640)\n",
      "\n",
      "0: 256x640 1 battery_plus, 25.0ms\n",
      "Speed: 2.0ms preprocess, 25.0ms inference, 3.0ms postprocess per image at shape (1, 3, 256, 640)\n",
      "\n",
      "0: 256x640 1 battery_plus, 25.0ms\n",
      "Speed: 2.0ms preprocess, 25.0ms inference, 3.0ms postprocess per image at shape (1, 3, 256, 640)\n",
      "\n",
      "0: 256x640 1 battery_plus, 25.0ms\n",
      "Speed: 2.0ms preprocess, 25.0ms inference, 4.4ms postprocess per image at shape (1, 3, 256, 640)\n",
      "\n",
      "0: 256x640 1 battery_plus, 25.0ms\n",
      "Speed: 2.0ms preprocess, 25.0ms inference, 3.0ms postprocess per image at shape (1, 3, 256, 640)\n",
      "\n",
      "0: 256x640 1 battery_plus, 27.0ms\n",
      "Speed: 2.0ms preprocess, 27.0ms inference, 2.0ms postprocess per image at shape (1, 3, 256, 640)\n",
      "\n",
      "0: 256x640 1 battery_plus, 25.0ms\n",
      "Speed: 2.0ms preprocess, 25.0ms inference, 3.0ms postprocess per image at shape (1, 3, 256, 640)\n",
      "\n",
      "0: 256x640 1 battery_plus, 24.0ms\n",
      "Speed: 2.0ms preprocess, 24.0ms inference, 3.0ms postprocess per image at shape (1, 3, 256, 640)\n",
      "\n",
      "0: 256x640 1 battery_plus, 24.9ms\n",
      "Speed: 2.0ms preprocess, 24.9ms inference, 2.0ms postprocess per image at shape (1, 3, 256, 640)\n",
      "\n",
      "0: 256x640 1 battery_plus, 24.0ms\n",
      "Speed: 3.0ms preprocess, 24.0ms inference, 4.0ms postprocess per image at shape (1, 3, 256, 640)\n",
      "\n",
      "0: 256x640 1 battery_plus, 25.0ms\n",
      "Speed: 2.0ms preprocess, 25.0ms inference, 6.0ms postprocess per image at shape (1, 3, 256, 640)\n",
      "\n",
      "0: 256x640 1 battery_plus, 25.0ms\n",
      "Speed: 1.0ms preprocess, 25.0ms inference, 4.0ms postprocess per image at shape (1, 3, 256, 640)\n",
      "\n",
      "0: 256x640 1 battery_plus, 26.0ms\n",
      "Speed: 2.6ms preprocess, 26.0ms inference, 3.0ms postprocess per image at shape (1, 3, 256, 640)\n",
      "\n",
      "0: 256x640 1 battery_plus, 23.0ms\n",
      "Speed: 2.0ms preprocess, 23.0ms inference, 4.0ms postprocess per image at shape (1, 3, 256, 640)\n",
      "\n",
      "0: 256x640 1 battery_plus, 24.0ms\n",
      "Speed: 2.0ms preprocess, 24.0ms inference, 5.5ms postprocess per image at shape (1, 3, 256, 640)\n",
      "\n",
      "0: 256x640 1 battery_plus, 24.6ms\n",
      "Speed: 2.0ms preprocess, 24.6ms inference, 4.0ms postprocess per image at shape (1, 3, 256, 640)\n",
      "\n",
      "0: 256x640 1 battery_plus, 25.0ms\n",
      "Speed: 3.5ms preprocess, 25.0ms inference, 3.0ms postprocess per image at shape (1, 3, 256, 640)\n",
      "\n",
      "0: 256x640 1 battery_plus, 24.0ms\n",
      "Speed: 2.0ms preprocess, 24.0ms inference, 4.0ms postprocess per image at shape (1, 3, 256, 640)\n",
      "\n",
      "0: 256x640 1 battery_plus, 26.0ms\n",
      "Speed: 2.0ms preprocess, 26.0ms inference, 3.0ms postprocess per image at shape (1, 3, 256, 640)\n"
     ]
    },
    {
     "name": "stderr",
     "output_type": "stream",
     "text": [
      "\n",
      "0: 256x640 1 battery_plus, 25.0ms\n",
      "Speed: 2.1ms preprocess, 25.0ms inference, 4.0ms postprocess per image at shape (1, 3, 256, 640)\n",
      "\n",
      "0: 256x640 1 battery_plus, 24.2ms\n",
      "Speed: 1.0ms preprocess, 24.2ms inference, 3.0ms postprocess per image at shape (1, 3, 256, 640)\n",
      "\n",
      "0: 256x640 1 battery_plus, 24.0ms\n",
      "Speed: 2.0ms preprocess, 24.0ms inference, 3.5ms postprocess per image at shape (1, 3, 256, 640)\n",
      "\n",
      "0: 256x640 1 battery_plus, 23.0ms\n",
      "Speed: 2.0ms preprocess, 23.0ms inference, 3.0ms postprocess per image at shape (1, 3, 256, 640)\n",
      "\n",
      "0: 256x640 1 battery_plus, 24.0ms\n",
      "Speed: 1.0ms preprocess, 24.0ms inference, 3.0ms postprocess per image at shape (1, 3, 256, 640)\n",
      "\n",
      "0: 256x640 1 battery_plus, 24.5ms\n",
      "Speed: 1.0ms preprocess, 24.5ms inference, 3.0ms postprocess per image at shape (1, 3, 256, 640)\n",
      "\n",
      "0: 256x640 1 battery_plus, 25.5ms\n",
      "Speed: 2.0ms preprocess, 25.5ms inference, 2.0ms postprocess per image at shape (1, 3, 256, 640)\n",
      "\n",
      "0: 256x640 1 battery_plus, 24.0ms\n",
      "Speed: 2.0ms preprocess, 24.0ms inference, 3.6ms postprocess per image at shape (1, 3, 256, 640)\n",
      "\n",
      "0: 256x640 1 battery_plus, 24.0ms\n",
      "Speed: 2.0ms preprocess, 24.0ms inference, 4.0ms postprocess per image at shape (1, 3, 256, 640)\n",
      "\n",
      "0: 256x640 1 battery_plus, 24.0ms\n",
      "Speed: 1.0ms preprocess, 24.0ms inference, 2.0ms postprocess per image at shape (1, 3, 256, 640)\n",
      "\n",
      "0: 256x640 1 battery_plus, 24.0ms\n",
      "Speed: 1.0ms preprocess, 24.0ms inference, 4.0ms postprocess per image at shape (1, 3, 256, 640)\n",
      "\n",
      "0: 256x640 1 battery_plus, 24.0ms\n",
      "Speed: 2.0ms preprocess, 24.0ms inference, 4.0ms postprocess per image at shape (1, 3, 256, 640)\n",
      "\n",
      "0: 256x640 1 battery_plus, 24.0ms\n",
      "Speed: 2.0ms preprocess, 24.0ms inference, 3.0ms postprocess per image at shape (1, 3, 256, 640)\n",
      "\n",
      "0: 256x640 1 battery_plus, 25.1ms\n",
      "Speed: 2.0ms preprocess, 25.1ms inference, 3.0ms postprocess per image at shape (1, 3, 256, 640)\n",
      "\n",
      "0: 256x640 1 battery_plus, 25.9ms\n",
      "Speed: 2.0ms preprocess, 25.9ms inference, 3.0ms postprocess per image at shape (1, 3, 256, 640)\n",
      "\n",
      "0: 256x640 1 battery_plus, 23.0ms\n",
      "Speed: 2.0ms preprocess, 23.0ms inference, 3.0ms postprocess per image at shape (1, 3, 256, 640)\n",
      "\n",
      "0: 256x640 1 battery_plus, 24.6ms\n",
      "Speed: 2.0ms preprocess, 24.6ms inference, 3.0ms postprocess per image at shape (1, 3, 256, 640)\n",
      "\n",
      "0: 256x640 1 battery_plus, 25.6ms\n",
      "Speed: 2.0ms preprocess, 25.6ms inference, 2.0ms postprocess per image at shape (1, 3, 256, 640)\n",
      "\n",
      "0: 256x640 1 battery_plus, 25.0ms\n",
      "Speed: 2.0ms preprocess, 25.0ms inference, 2.0ms postprocess per image at shape (1, 3, 256, 640)\n",
      "\n",
      "0: 256x640 1 battery_plus, 24.1ms\n",
      "Speed: 2.0ms preprocess, 24.1ms inference, 6.0ms postprocess per image at shape (1, 3, 256, 640)\n",
      "\n",
      "0: 256x640 1 battery_plus, 23.7ms\n",
      "Speed: 1.0ms preprocess, 23.7ms inference, 2.0ms postprocess per image at shape (1, 3, 256, 640)\n",
      "\n",
      "0: 256x640 1 battery_plus, 24.1ms\n",
      "Speed: 2.0ms preprocess, 24.1ms inference, 3.0ms postprocess per image at shape (1, 3, 256, 640)\n",
      "\n",
      "0: 256x640 1 battery_plus, 25.0ms\n",
      "Speed: 1.0ms preprocess, 25.0ms inference, 3.0ms postprocess per image at shape (1, 3, 256, 640)\n",
      "\n",
      "0: 256x640 1 battery_plus, 25.1ms\n",
      "Speed: 3.0ms preprocess, 25.1ms inference, 3.0ms postprocess per image at shape (1, 3, 256, 640)\n",
      "\n",
      "0: 256x640 1 battery_plus, 23.1ms\n",
      "Speed: 2.0ms preprocess, 23.1ms inference, 4.0ms postprocess per image at shape (1, 3, 256, 640)\n",
      "\n",
      "0: 256x640 1 battery_plus, 24.0ms\n",
      "Speed: 2.0ms preprocess, 24.0ms inference, 4.0ms postprocess per image at shape (1, 3, 256, 640)\n",
      "\n",
      "0: 256x640 1 battery_plus, 24.0ms\n",
      "Speed: 2.0ms preprocess, 24.0ms inference, 3.0ms postprocess per image at shape (1, 3, 256, 640)\n",
      "\n",
      "0: 256x640 1 battery_plus, 25.7ms\n",
      "Speed: 2.0ms preprocess, 25.7ms inference, 2.0ms postprocess per image at shape (1, 3, 256, 640)\n",
      "\n",
      "0: 256x640 1 battery_plus, 24.0ms\n",
      "Speed: 3.0ms preprocess, 24.0ms inference, 3.8ms postprocess per image at shape (1, 3, 256, 640)\n",
      "\n",
      "0: 256x640 1 battery_plus, 24.1ms\n",
      "Speed: 2.0ms preprocess, 24.1ms inference, 7.0ms postprocess per image at shape (1, 3, 256, 640)\n",
      "\n",
      "0: 256x640 1 battery_plus, 25.0ms\n",
      "Speed: 2.0ms preprocess, 25.0ms inference, 3.0ms postprocess per image at shape (1, 3, 256, 640)\n",
      "\n",
      "0: 256x640 1 battery_plus, 24.0ms\n",
      "Speed: 2.4ms preprocess, 24.0ms inference, 5.1ms postprocess per image at shape (1, 3, 256, 640)\n",
      "\n",
      "0: 256x640 1 battery_plus, 25.0ms\n",
      "Speed: 3.0ms preprocess, 25.0ms inference, 3.9ms postprocess per image at shape (1, 3, 256, 640)\n",
      "\n",
      "0: 256x640 1 battery_plus, 26.0ms\n",
      "Speed: 2.0ms preprocess, 26.0ms inference, 3.0ms postprocess per image at shape (1, 3, 256, 640)\n",
      "\n",
      "0: 256x640 1 battery_plus, 24.0ms\n",
      "Speed: 3.0ms preprocess, 24.0ms inference, 4.0ms postprocess per image at shape (1, 3, 256, 640)\n",
      "\n",
      "0: 256x640 1 battery_plus, 24.0ms\n",
      "Speed: 2.0ms preprocess, 24.0ms inference, 3.0ms postprocess per image at shape (1, 3, 256, 640)\n",
      "\n",
      "0: 256x640 1 battery_plus, 25.0ms\n",
      "Speed: 1.0ms preprocess, 25.0ms inference, 3.0ms postprocess per image at shape (1, 3, 256, 640)\n",
      "\n",
      "0: 256x640 1 battery_plus, 24.0ms\n",
      "Speed: 3.0ms preprocess, 24.0ms inference, 3.0ms postprocess per image at shape (1, 3, 256, 640)\n",
      "\n",
      "0: 256x640 1 battery_plus, 24.0ms\n",
      "Speed: 2.0ms preprocess, 24.0ms inference, 5.0ms postprocess per image at shape (1, 3, 256, 640)\n"
     ]
    },
    {
     "name": "stdout",
     "output_type": "stream",
     "text": [
      "6.621621621621621\n"
     ]
    }
   ],
   "source": [
    "import cv2\n",
    "from ultralytics import YOLO\n",
    "import supervision as sv\n",
    "import numpy as np\n",
    "from operator import itemgetter\n",
    "import time\n",
    "from kuka import Kuka\n",
    "from openshowvar import *\n",
    "\n",
    "print('go')\n",
    "robot = openshowvar(ip = '192.168.1.2', port = 7000)\n",
    "kuka = Kuka(robot)\n",
    "\n",
    "kuka.read_cartessian()\n",
    "\n",
    "kuka.set_base(17)\n",
    "kuka.set_tool(10)\n",
    "\n",
    "# Set speed (%)\n",
    "kuka.set_speed(100)\n",
    "print('ready')\n",
    "\n",
    "\n",
    "trajectory_arr = []\n",
    "trajectory_arr.append(np.array([kuka.x_cartessian, kuka.y_cartessian, kuka.z_cartessian, kuka.A_cartessian, kuka.B_cartessian, kuka.C_cartessian]))\n",
    "trajectory_arr.append(np.array([0, 0, -50, 0, 0, 180]))\n",
    "trajectory_arr = np.array(trajectory_arr)\n",
    "# Отправка траектории роботу\n",
    "kuka.lin_continuous(trajectory_arr) \n",
    "kuka.open_grip()\n",
    "            \n",
    "cap = cv2.VideoCapture(0, cv2.CAP_DSHOW)\n",
    "model = YOLO(\"Battery_1.pt\")\n",
    "\n",
    "bounding_box_annotator = sv.BoundingBoxAnnotator()\n",
    "#label_annotator = sv.LabelAnnotator(text_position=sv.Position.CENTER)\n",
    "percentage_bar_annotator = sv.BoundingBoxAnnotator()\n",
    "\n",
    "def speed(Hz):\n",
    "    second=(35/(Hz/2.8))/2\n",
    "    return second\n",
    "\n",
    "\n",
    "while True:\n",
    "    ret, frame = cap.read()\n",
    "    frame=frame[120:370,:]\n",
    "    result = model(frame, agnostic_nms=True)[0]\n",
    "    detections = sv.Detections.from_ultralytics(result)\n",
    "    #print(detections) \n",
    "    coord_center=[]\n",
    "    for i in range (len(detections)):\n",
    "        x=(detections.xyxy[i][0]+detections.xyxy[i][2])/2\n",
    "        y=(detections.xyxy[i][1]+detections.xyxy[i][3])/2\n",
    "        y_mm=210/250*(250-y)\n",
    "        coord_center.append([x,y,y_mm])\n",
    "    #print(coord_center)\n",
    "        \n",
    "    #frame 250\n",
    "    #conveer 204\n",
    "    coord_center=np.array(coord_center)\n",
    "    if coord_center.size != 0:\n",
    "        x_sort=sorted(coord_center,key=itemgetter(0))\n",
    "        #print(x_sort)\n",
    "        currentClass = detections.class_id[0]\n",
    "        if x_sort[0][0]<=200:\n",
    "            second_detection=int(time.time())\n",
    "            second=speed(7.4)\n",
    "            print(second)\n",
    "            trajectory_arr = []\n",
    "            trajectory_arr.append(np.array([kuka.x_cartessian, kuka.y_cartessian, kuka.z_cartessian, kuka.A_cartessian, kuka.B_cartessian, kuka.C_cartessian]))\n",
    "            trajectory_arr.append(np.array([0, x_sort[0][2], -120, 0, 0, 180]))\n",
    "            trajectory_arr = np.array(trajectory_arr)\n",
    "            # Отправка траектории роботу\n",
    "            kuka.lin_continuous(trajectory_arr)\n",
    "            time.sleep(second)\n",
    "            kuka.close_grip()\n",
    "            if currentClass==1:\n",
    "                trajectory_arr = []\n",
    "                trajectory_arr.append(np.array([kuka.x_cartessian, kuka.y_cartessian, kuka.z_cartessian, kuka.A_cartessian, kuka.B_cartessian, kuka.C_cartessian]))\n",
    "                trajectory_arr.append(np.array([0, x_sort[0][2], 0, 0, 0, 180]))\n",
    "                trajectory_arr.append(np.array([-330, 170, 0, 0, 0, 180]))\n",
    "                trajectory_arr.append(np.array([-330, 170, -100, 0, 0, 180]))\n",
    "                trajectory_arr = np.array(trajectory_arr)\n",
    "                # Отправка траектории роботу\n",
    "                kuka.lin_continuous(trajectory_arr) \n",
    "                kuka.open_grip()\n",
    "                trajectory_arr = []\n",
    "                trajectory_arr.append(np.array([kuka.x_cartessian, kuka.y_cartessian, kuka.z_cartessian, kuka.A_cartessian, kuka.B_cartessian, kuka.C_cartessian]))\n",
    "                trajectory_arr.append(np.array([-330, 170, 0, 0, 0, 180]))\n",
    "                trajectory_arr.append(np.array([0, x_sort[0][2], 0, 0, 0, 180]))\n",
    "                trajectory_arr.append(np.array([0, 0, -50, 0, 0, 180]))\n",
    "                trajectory_arr = np.array(trajectory_arr)\n",
    "                # Отправка траектории роботу\n",
    "                kuka.lin_continuous(trajectory_arr) \n",
    "\n",
    "    \n",
    "    \n",
    "    for i in range (len(detections)):\n",
    "        cv2.circle(frame, (int(coord_center[i][0]),int(coord_center[i][1])), 3, (118, 103, 154), 3)\n",
    "    frame = bounding_box_annotator.annotate(\n",
    "        scene=frame,\n",
    "        detections=detections\n",
    "    )\n",
    "\n",
    "    #frame = label_annotator.annotate(\n",
    "    #    scene=frame,\n",
    "    #    detections=detections\n",
    "    #)\n",
    "    frame = percentage_bar_annotator.annotate(\n",
    "        scene=frame,\n",
    "        detections=detections\n",
    "    )\n",
    "    cv2.line(frame, (200,0), (200, 480), (0, 255, 0), 5)\n",
    "    \n",
    "    cv2.imshow(\"yolov8\", frame)\n",
    "\n",
    "    if (cv2.waitKey(30) == 27):\n",
    "        break"
   ]
  },
  {
   "cell_type": "code",
   "execution_count": 1,
   "id": "ae7dc103",
   "metadata": {},
   "outputs": [
    {
     "name": "stderr",
     "output_type": "stream",
     "text": [
      "SupervisionWarnings: BoundingBoxAnnotator is deprecated: `BoundingBoxAnnotator` is deprecated and has been renamed to `BoxAnnotator`. `BoundingBoxAnnotator` will be removed in supervision-0.26.0.\n",
      "SupervisionWarnings: BoundingBoxAnnotator is deprecated: `BoundingBoxAnnotator` is deprecated and has been renamed to `BoxAnnotator`. `BoundingBoxAnnotator` will be removed in supervision-0.26.0.\n",
      "Using TensorFlow backend.\n",
      "UserWarning: Pandas requires version '2.8.4' or newer of 'numexpr' (version '2.8.1' currently installed).\n",
      "UserWarning: Pandas requires version '1.3.6' or newer of 'bottleneck' (version '1.3.4' currently installed).\n",
      "\n",
      "0: 480x640 (no detections), 47.0ms\n",
      "Speed: 3.0ms preprocess, 47.0ms inference, 77.0ms postprocess per image at shape (1, 3, 480, 640)\n",
      "\n",
      "0: 480x640 (no detections), 20.0ms\n",
      "Speed: 4.0ms preprocess, 20.0ms inference, 1.0ms postprocess per image at shape (1, 3, 480, 640)\n",
      "\n"
     ]
    },
    {
     "name": "stdout",
     "output_type": "stream",
     "text": [
      "[]\n",
      "[]\n"
     ]
    },
    {
     "name": "stderr",
     "output_type": "stream",
     "text": [
      "0: 480x640 1 battery_plus, 19.0ms\n",
      "Speed: 3.0ms preprocess, 19.0ms inference, 68.0ms postprocess per image at shape (1, 3, 480, 640)\n",
      "\n",
      "0: 480x640 1 battery_plus, 20.0ms\n",
      "Speed: 3.0ms preprocess, 20.0ms inference, 3.0ms postprocess per image at shape (1, 3, 480, 640)\n",
      "\n",
      "0: 480x640 1 battery_plus, 19.0ms\n",
      "Speed: 4.0ms preprocess, 19.0ms inference, 2.0ms postprocess per image at shape (1, 3, 480, 640)\n",
      "\n",
      "0: 480x640 1 battery_plus, 20.1ms\n"
     ]
    },
    {
     "name": "stdout",
     "output_type": "stream",
     "text": [
      "[[192.92079162597656, 249.66671752929688, 196.20983321578416]]\n",
      "6.621621621621621\n",
      "[[192.95034790039062, 249.55673217773438, 196.30352444118924]]\n",
      "6.621621621621621\n",
      "[[192.98980712890625, 249.67098999023438, 196.20619371202258]]\n",
      "6.621621621621621\n"
     ]
    },
    {
     "name": "stderr",
     "output_type": "stream",
     "text": [
      "Speed: 3.0ms preprocess, 20.1ms inference, 3.0ms postprocess per image at shape (1, 3, 480, 640)\n",
      "\n",
      "0: 480x640 1 battery_plus, 20.0ms\n",
      "Speed: 1.9ms preprocess, 20.0ms inference, 2.0ms postprocess per image at shape (1, 3, 480, 640)\n",
      "\n",
      "0: 480x640 1 battery_plus, 20.0ms\n",
      "Speed: 2.0ms preprocess, 20.0ms inference, 2.1ms postprocess per image at shape (1, 3, 480, 640)\n",
      "\n",
      "0: 480x640 1 battery_plus, 19.0ms\n"
     ]
    },
    {
     "name": "stdout",
     "output_type": "stream",
     "text": [
      "[[193.22874450683594, 249.78732299804688, 196.107095223886]]\n",
      "6.621621621621621\n",
      "[[192.95199584960938, 249.65853881835938, 196.216800265842]]\n",
      "6.621621621621621\n",
      "[[192.89035034179688, 249.67335510253906, 196.204178986726]]\n",
      "6.621621621621621\n"
     ]
    },
    {
     "name": "stderr",
     "output_type": "stream",
     "text": [
      "Speed: 3.0ms preprocess, 19.0ms inference, 4.0ms postprocess per image at shape (1, 3, 480, 640)\n",
      "\n",
      "0: 480x640 1 battery_plus, 20.1ms\n",
      "Speed: 4.0ms preprocess, 20.1ms inference, 5.0ms postprocess per image at shape (1, 3, 480, 640)\n",
      "\n",
      "0: 480x640 1 battery_plus, 20.0ms\n",
      "Speed: 2.0ms preprocess, 20.0ms inference, 2.0ms postprocess per image at shape (1, 3, 480, 640)\n",
      "\n"
     ]
    },
    {
     "name": "stdout",
     "output_type": "stream",
     "text": [
      "[[192.8687286376953, 249.58224487304688, 196.28179140444155]]\n",
      "6.621621621621621\n",
      "[[192.87503051757812, 249.62478637695312, 196.24555234555845]]\n",
      "6.621621621621621\n",
      "[[192.92111206054688, 249.637939453125, 196.23434787326389]]\n",
      "6.621621621621621\n"
     ]
    },
    {
     "name": "stderr",
     "output_type": "stream",
     "text": [
      "0: 480x640 1 battery_plus, 20.0ms\n",
      "Speed: 2.9ms preprocess, 20.0ms inference, 2.0ms postprocess per image at shape (1, 3, 480, 640)\n",
      "\n",
      "0: 480x640 1 battery_plus, 20.0ms\n",
      "Speed: 3.0ms preprocess, 20.0ms inference, 4.0ms postprocess per image at shape (1, 3, 480, 640)\n",
      "\n",
      "0: 480x640 1 battery_plus, 20.0ms\n",
      "Speed: 2.9ms preprocess, 20.0ms inference, 4.0ms postprocess per image at shape (1, 3, 480, 640)\n",
      "\n"
     ]
    },
    {
     "name": "stdout",
     "output_type": "stream",
     "text": [
      "[[192.819580078125, 249.82125854492188, 196.07818716543693]]\n",
      "6.621621621621621\n",
      "[[193.05401611328125, 249.66015625, 196.2154224537037]]\n",
      "6.621621621621621\n",
      "[[193.31231689453125, 249.4291229248047, 196.41222861961083]]\n",
      "6.621621621621621\n"
     ]
    },
    {
     "name": "stderr",
     "output_type": "stream",
     "text": [
      "0: 480x640 1 battery_plus, 20.0ms\n",
      "Speed: 3.0ms preprocess, 20.0ms inference, 3.0ms postprocess per image at shape (1, 3, 480, 640)\n",
      "\n",
      "0: 480x640 1 battery_plus, 20.0ms\n",
      "Speed: 3.0ms preprocess, 20.0ms inference, 3.0ms postprocess per image at shape (1, 3, 480, 640)\n",
      "\n",
      "0: 480x640 1 battery_plus, 20.1ms\n",
      "Speed: 3.0ms preprocess, 20.1ms inference, 3.0ms postprocess per image at shape (1, 3, 480, 640)\n",
      "\n"
     ]
    },
    {
     "name": "stdout",
     "output_type": "stream",
     "text": [
      "[[193.08560180664062, 249.5428466796875, 196.31535282841435]]\n",
      "6.621621621621621\n",
      "[[193.04705810546875, 249.67538452148438, 196.20245022243924]]\n",
      "6.621621621621621\n",
      "[[193.16033935546875, 249.68890380859375, 196.1909337926794]]\n",
      "6.621621621621621\n"
     ]
    },
    {
     "name": "stderr",
     "output_type": "stream",
     "text": [
      "0: 480x640 1 battery_plus, 20.1ms\n",
      "Speed: 2.0ms preprocess, 20.1ms inference, 3.0ms postprocess per image at shape (1, 3, 480, 640)\n",
      "\n",
      "0: 480x640 1 battery_plus, 20.1ms\n",
      "Speed: 2.0ms preprocess, 20.1ms inference, 4.0ms postprocess per image at shape (1, 3, 480, 640)\n",
      "\n",
      "0: 480x640 1 battery_plus, 19.1ms\n",
      "Speed: 3.9ms preprocess, 19.1ms inference, 4.0ms postprocess per image at shape (1, 3, 480, 640)\n",
      "\n",
      "0: 480x640 1 battery_plus, 20.1ms\n"
     ]
    },
    {
     "name": "stdout",
     "output_type": "stream",
     "text": [
      "[[193.18109130859375, 249.62246704101562, 196.24752807617188]]\n",
      "6.621621621621621\n",
      "[[193.18260192871094, 249.60079956054688, 196.26598555953416]]\n",
      "6.621621621621621\n",
      "[[193.24838256835938, 249.559814453125, 196.3008987991898]]\n",
      "6.621621621621621\n"
     ]
    },
    {
     "name": "stderr",
     "output_type": "stream",
     "text": [
      "Speed: 1.9ms preprocess, 20.1ms inference, 3.9ms postprocess per image at shape (1, 3, 480, 640)\n",
      "\n",
      "0: 480x640 1 battery_plus, 20.0ms\n",
      "Speed: 2.0ms preprocess, 20.0ms inference, 2.0ms postprocess per image at shape (1, 3, 480, 640)\n",
      "\n",
      "0: 480x640 1 battery_plus, 19.0ms\n",
      "Speed: 2.0ms preprocess, 19.0ms inference, 3.0ms postprocess per image at shape (1, 3, 480, 640)\n",
      "\n"
     ]
    },
    {
     "name": "stdout",
     "output_type": "stream",
     "text": [
      "[[193.183349609375, 249.28695678710938, 196.5333331072772]]\n",
      "6.621621621621621\n",
      "[[193.285888671875, 249.34957885742188, 196.4799883807147]]\n",
      "6.621621621621621\n",
      "[[193.0462646484375, 249.52545166015625, 196.33017080801505]]\n",
      "6.621621621621621\n"
     ]
    },
    {
     "name": "stderr",
     "output_type": "stream",
     "text": [
      "0: 480x640 1 battery_plus, 19.0ms\n",
      "Speed: 2.0ms preprocess, 19.0ms inference, 3.0ms postprocess per image at shape (1, 3, 480, 640)\n",
      "\n",
      "0: 480x640 1 battery_plus, 19.0ms\n",
      "Speed: 2.9ms preprocess, 19.0ms inference, 3.0ms postprocess per image at shape (1, 3, 480, 640)\n",
      "\n",
      "0: 480x640 1 battery_plus, 20.1ms\n",
      "Speed: 3.0ms preprocess, 20.1ms inference, 4.0ms postprocess per image at shape (1, 3, 480, 640)\n",
      "\n",
      "0: 480x640 1 battery_plus, 19.1ms\n"
     ]
    },
    {
     "name": "stdout",
     "output_type": "stream",
     "text": [
      "[[193.17953491210938, 249.6310272216797, 196.24023607042102]]\n",
      "6.621621621621621\n",
      "[[193.28970336914062, 249.33480834960938, 196.49257066514758]]\n",
      "6.621621621621621\n",
      "[[193.28880310058594, 249.4451904296875, 196.39854148582177]]\n",
      "6.621621621621621\n"
     ]
    },
    {
     "name": "stderr",
     "output_type": "stream",
     "text": [
      "Speed: 2.0ms preprocess, 19.1ms inference, 4.0ms postprocess per image at shape (1, 3, 480, 640)\n",
      "\n",
      "0: 480x640 1 battery_plus, 19.1ms\n",
      "Speed: 2.9ms preprocess, 19.1ms inference, 2.9ms postprocess per image at shape (1, 3, 480, 640)\n",
      "\n",
      "0: 480x640 1 battery_plus, 20.1ms\n",
      "Speed: 3.0ms preprocess, 20.1ms inference, 3.0ms postprocess per image at shape (1, 3, 480, 640)\n",
      "\n",
      "0: 480x640 1 battery_plus, 20.0ms\n"
     ]
    },
    {
     "name": "stdout",
     "output_type": "stream",
     "text": [
      "[[193.43994140625, 249.61843872070312, 196.25095960828995]]\n",
      "6.621621621621621\n",
      "[[193.23321533203125, 249.4748077392578, 196.37331192581743]]\n",
      "6.621621621621621\n",
      "[[193.2889404296875, 249.6419677734375, 196.23091634114584]]\n",
      "6.621621621621621\n"
     ]
    },
    {
     "name": "stderr",
     "output_type": "stream",
     "text": [
      "Speed: 2.9ms preprocess, 20.0ms inference, 4.0ms postprocess per image at shape (1, 3, 480, 640)\n",
      "\n",
      "0: 480x640 1 battery_plus, 19.0ms\n",
      "Speed: 3.0ms preprocess, 19.0ms inference, 3.0ms postprocess per image at shape (1, 3, 480, 640)\n",
      "\n",
      "0: 480x640 1 battery_plus, 20.6ms\n",
      "Speed: 1.9ms preprocess, 20.6ms inference, 2.0ms postprocess per image at shape (1, 3, 480, 640)\n",
      "\n",
      "0: 480x640 1 battery_plus, 20.0ms\n"
     ]
    },
    {
     "name": "stdout",
     "output_type": "stream",
     "text": [
      "[[193.04698181152344, 249.43649291992188, 196.40595047562212]]\n",
      "6.621621621621621\n",
      "[[193.36160278320312, 249.33775329589844, 196.49006200719762]]\n",
      "6.621621621621621\n",
      "[[193.34136962890625, 249.10552978515625, 196.6878820348669]]\n",
      "6.621621621621621\n"
     ]
    },
    {
     "name": "stderr",
     "output_type": "stream",
     "text": [
      "Speed: 2.0ms preprocess, 20.0ms inference, 3.0ms postprocess per image at shape (1, 3, 480, 640)\n",
      "\n",
      "0: 480x640 1 battery_plus, 20.1ms\n",
      "Speed: 3.0ms preprocess, 20.1ms inference, 2.0ms postprocess per image at shape (1, 3, 480, 640)\n",
      "\n",
      "0: 480x640 1 battery_plus, 20.1ms\n",
      "Speed: 3.0ms preprocess, 20.1ms inference, 3.0ms postprocess per image at shape (1, 3, 480, 640)\n",
      "\n"
     ]
    },
    {
     "name": "stdout",
     "output_type": "stream",
     "text": [
      "[[193.32443237304688, 249.11627197265625, 196.6787312825521]]\n",
      "6.621621621621621\n",
      "[[193.29428100585938, 249.17796325683594, 196.6261794478805]]\n",
      "6.621621621621621\n",
      "[[193.17556762695312, 249.095947265625, 196.696044921875]]\n",
      "6.621621621621621\n"
     ]
    },
    {
     "name": "stderr",
     "output_type": "stream",
     "text": [
      "0: 480x640 1 battery_plus, 19.1ms\n",
      "Speed: 3.0ms preprocess, 19.1ms inference, 4.0ms postprocess per image at shape (1, 3, 480, 640)\n",
      "\n",
      "0: 480x640 1 battery_plus, 20.0ms\n",
      "Speed: 1.9ms preprocess, 20.0ms inference, 3.0ms postprocess per image at shape (1, 3, 480, 640)\n",
      "\n",
      "0: 480x640 1 battery_plus, 20.0ms\n",
      "Speed: 3.0ms preprocess, 20.0ms inference, 3.0ms postprocess per image at shape (1, 3, 480, 640)\n",
      "\n"
     ]
    },
    {
     "name": "stdout",
     "output_type": "stream",
     "text": [
      "[[193.28948974609375, 249.25865173339844, 196.55744481969762]]\n",
      "6.621621621621621\n",
      "[[193.2259521484375, 249.4063720703125, 196.4316089771412]]\n",
      "6.621621621621621\n",
      "[[193.22476196289062, 249.20887756347656, 196.59984503851996]]\n",
      "6.621621621621621\n"
     ]
    },
    {
     "name": "stderr",
     "output_type": "stream",
     "text": [
      "0: 480x640 1 battery_plus, 19.0ms\n",
      "Speed: 2.0ms preprocess, 19.0ms inference, 2.0ms postprocess per image at shape (1, 3, 480, 640)\n",
      "\n",
      "0: 480x640 1 battery_plus, 19.0ms\n",
      "Speed: 3.0ms preprocess, 19.0ms inference, 2.0ms postprocess per image at shape (1, 3, 480, 640)\n",
      "\n",
      "0: 480x640 1 battery_plus, 20.1ms\n",
      "Speed: 1.9ms preprocess, 20.1ms inference, 3.0ms postprocess per image at shape (1, 3, 480, 640)\n",
      "\n"
     ]
    },
    {
     "name": "stdout",
     "output_type": "stream",
     "text": [
      "[[193.1866455078125, 249.34909057617188, 196.48040432400174]]\n",
      "6.621621621621621\n",
      "[[193.51193237304688, 249.5257568359375, 196.32991084346065]]\n",
      "6.621621621621621\n",
      "[[193.28973388671875, 249.356201171875, 196.47434714988427]]\n",
      "6.621621621621621\n"
     ]
    },
    {
     "name": "stderr",
     "output_type": "stream",
     "text": [
      "0: 480x640 1 battery_plus, 20.0ms\n",
      "Speed: 3.0ms preprocess, 20.0ms inference, 2.1ms postprocess per image at shape (1, 3, 480, 640)\n",
      "\n",
      "0: 480x640 1 battery_plus, 19.0ms\n",
      "Speed: 2.0ms preprocess, 19.0ms inference, 3.0ms postprocess per image at shape (1, 3, 480, 640)\n",
      "\n",
      "0: 480x640 1 battery_plus, 20.0ms\n",
      "Speed: 1.9ms preprocess, 20.0ms inference, 3.1ms postprocess per image at shape (1, 3, 480, 640)\n",
      "\n",
      "0: 480x640 1 battery_plus, 20.0ms\n"
     ]
    },
    {
     "name": "stdout",
     "output_type": "stream",
     "text": [
      "[[193.6400604248047, 249.51861572265625, 196.33599401403356]]\n",
      "6.621621621621621\n",
      "[[193.55911254882812, 249.6978759765625, 196.18329083478008]]\n",
      "6.621621621621621\n",
      "[[193.3885498046875, 249.484619140625, 196.36495406539353]]\n",
      "6.621621621621621\n"
     ]
    },
    {
     "name": "stderr",
     "output_type": "stream",
     "text": [
      "Speed: 3.0ms preprocess, 20.0ms inference, 2.0ms postprocess per image at shape (1, 3, 480, 640)\n",
      "\n",
      "0: 480x640 1 battery_plus, 19.0ms\n",
      "Speed: 3.0ms preprocess, 19.0ms inference, 4.9ms postprocess per image at shape (1, 3, 480, 640)\n",
      "\n",
      "0: 480x640 1 battery_plus, 19.0ms\n",
      "Speed: 4.0ms preprocess, 19.0ms inference, 4.0ms postprocess per image at shape (1, 3, 480, 640)\n",
      "\n",
      "0: 480x640 1 battery_plus, 19.0ms\n"
     ]
    },
    {
     "name": "stdout",
     "output_type": "stream",
     "text": [
      "[[193.30398559570312, 249.48703002929688, 196.36290034541378]]\n",
      "6.621621621621621\n",
      "[[193.2564697265625, 249.21157836914062, 196.59754435221353]]\n",
      "6.621621621621621\n",
      "[[193.34713745117188, 249.33741760253906, 196.49034796820746]]\n",
      "6.621621621621621\n"
     ]
    },
    {
     "name": "stderr",
     "output_type": "stream",
     "text": [
      "Speed: 3.0ms preprocess, 19.0ms inference, 4.0ms postprocess per image at shape (1, 3, 480, 640)\n",
      "\n",
      "0: 480x640 1 battery_plus, 20.1ms\n",
      "Speed: 3.0ms preprocess, 20.1ms inference, 3.0ms postprocess per image at shape (1, 3, 480, 640)\n",
      "\n",
      "0: 480x640 1 battery_plus, 19.9ms\n",
      "Speed: 3.1ms preprocess, 19.9ms inference, 4.0ms postprocess per image at shape (1, 3, 480, 640)\n",
      "\n"
     ]
    },
    {
     "name": "stdout",
     "output_type": "stream",
     "text": [
      "[[193.14199829101562, 248.6942901611328, 197.03819727014613]]\n",
      "6.621621621621621\n",
      "[[193.09950256347656, 249.36502075195312, 196.46683417426215]]\n",
      "6.621621621621621\n",
      "[[193.03939819335938, 248.88153076171875, 196.87869601779514]]\n",
      "6.621621621621621\n"
     ]
    },
    {
     "name": "stderr",
     "output_type": "stream",
     "text": [
      "0: 480x640 1 battery_plus, 19.0ms\n",
      "Speed: 3.0ms preprocess, 19.0ms inference, 3.0ms postprocess per image at shape (1, 3, 480, 640)\n",
      "\n",
      "0: 480x640 1 battery_plus, 19.0ms\n",
      "Speed: 3.0ms preprocess, 19.0ms inference, 5.0ms postprocess per image at shape (1, 3, 480, 640)\n",
      "\n",
      "0: 480x640 1 battery_plus, 19.0ms\n",
      "Speed: 4.0ms preprocess, 19.0ms inference, 5.0ms postprocess per image at shape (1, 3, 480, 640)\n",
      "\n",
      "0: 480x640 1 battery_plus, 19.0ms\n"
     ]
    },
    {
     "name": "stdout",
     "output_type": "stream",
     "text": [
      "[[193.0989532470703, 249.26556396484375, 196.55155662254052]]\n",
      "6.621621621621621\n",
      "[[192.91339111328125, 248.89553833007812, 196.86676364474826]]\n",
      "6.621621621621621\n",
      "[[193.11431884765625, 249.19418334960938, 196.61236233181424]]\n",
      "6.621621621621621\n"
     ]
    },
    {
     "name": "stderr",
     "output_type": "stream",
     "text": [
      "Speed: 4.0ms preprocess, 19.0ms inference, 3.9ms postprocess per image at shape (1, 3, 480, 640)\n",
      "\n",
      "0: 480x640 1 battery_plus, 19.1ms\n",
      "Speed: 4.0ms preprocess, 19.1ms inference, 3.0ms postprocess per image at shape (1, 3, 480, 640)\n",
      "\n",
      "0: 480x640 1 battery_plus, 20.0ms\n",
      "Speed: 2.0ms preprocess, 20.0ms inference, 3.0ms postprocess per image at shape (1, 3, 480, 640)\n",
      "\n",
      "0: 480x640 1 battery_plus, 20.0ms\n"
     ]
    },
    {
     "name": "stdout",
     "output_type": "stream",
     "text": [
      "[[192.94097900390625, 248.70547485351562, 197.02866956922745]]\n",
      "6.621621621621621\n",
      "[[193.0928955078125, 248.945068359375, 196.82457139756946]]\n",
      "6.621621621621621\n",
      "[[193.10968017578125, 248.86788940429688, 196.89031643337674]]\n",
      "6.621621621621621\n"
     ]
    },
    {
     "name": "stderr",
     "output_type": "stream",
     "text": [
      "Speed: 3.0ms preprocess, 20.0ms inference, 4.0ms postprocess per image at shape (1, 3, 480, 640)\n",
      "\n",
      "0: 480x640 1 battery_plus, 19.0ms\n",
      "Speed: 4.0ms preprocess, 19.0ms inference, 3.0ms postprocess per image at shape (1, 3, 480, 640)\n",
      "\n",
      "0: 480x640 1 battery_plus, 20.0ms\n",
      "Speed: 3.0ms preprocess, 20.0ms inference, 4.0ms postprocess per image at shape (1, 3, 480, 640)\n",
      "\n"
     ]
    },
    {
     "name": "stdout",
     "output_type": "stream",
     "text": [
      "[[193.05474853515625, 248.94091796875, 196.82810691550927]]\n",
      "6.621621621621621\n",
      "[[193.15695190429688, 248.92652893066406, 196.84036424424914]]\n",
      "6.621621621621621\n",
      "[[193.11322021484375, 249.12698364257812, 196.66960652669272]]\n",
      "6.621621621621621\n"
     ]
    },
    {
     "name": "stderr",
     "output_type": "stream",
     "text": [
      "0: 480x640 1 battery_plus, 19.0ms\n",
      "Speed: 4.1ms preprocess, 19.0ms inference, 4.0ms postprocess per image at shape (1, 3, 480, 640)\n",
      "\n",
      "0: 480x640 1 battery_plus, 19.0ms\n",
      "Speed: 4.0ms preprocess, 19.0ms inference, 3.0ms postprocess per image at shape (1, 3, 480, 640)\n",
      "\n",
      "0: 480x640 1 battery_plus, 19.0ms\n",
      "Speed: 3.1ms preprocess, 19.0ms inference, 3.9ms postprocess per image at shape (1, 3, 480, 640)\n",
      "\n",
      "0: 480x640 1 battery_plus, 20.0ms\n"
     ]
    },
    {
     "name": "stdout",
     "output_type": "stream",
     "text": [
      "[[193.17791748046875, 248.89454650878906, 196.86760852955007]]\n",
      "6.621621621621621\n",
      "[[193.18368530273438, 248.99130249023438, 196.78518676757812]]\n",
      "6.621621621621621\n",
      "[[193.18551635742188, 248.9620361328125, 196.81011736834492]]\n",
      "6.621621621621621\n"
     ]
    },
    {
     "name": "stderr",
     "output_type": "stream",
     "text": [
      "Speed: 3.0ms preprocess, 20.0ms inference, 3.0ms postprocess per image at shape (1, 3, 480, 640)\n",
      "\n",
      "0: 480x640 1 battery_plus, 20.0ms\n",
      "Speed: 3.0ms preprocess, 20.0ms inference, 4.0ms postprocess per image at shape (1, 3, 480, 640)\n",
      "\n",
      "0: 480x640 1 battery_plus, 20.0ms\n",
      "Speed: 2.9ms preprocess, 20.0ms inference, 4.0ms postprocess per image at shape (1, 3, 480, 640)\n",
      "\n"
     ]
    },
    {
     "name": "stdout",
     "output_type": "stream",
     "text": [
      "[[193.06668090820312, 249.01235961914062, 196.76724921332465]]\n",
      "6.621621621621621\n",
      "[[192.99362182617188, 248.94039916992188, 196.82854885525174]]\n",
      "6.621621621621621\n",
      "[[193.2352294921875, 248.95269775390625, 196.81807228370948]]\n",
      "6.621621621621621\n"
     ]
    },
    {
     "name": "stderr",
     "output_type": "stream",
     "text": [
      "0: 480x640 1 battery_plus, 19.0ms\n",
      "Speed: 2.9ms preprocess, 19.0ms inference, 5.0ms postprocess per image at shape (1, 3, 480, 640)\n",
      "\n",
      "0: 480x640 1 battery_plus, 20.0ms\n",
      "Speed: 2.0ms preprocess, 20.0ms inference, 3.9ms postprocess per image at shape (1, 3, 480, 640)\n",
      "\n",
      "0: 480x640 1 battery_plus, 20.0ms\n",
      "Speed: 2.0ms preprocess, 20.0ms inference, 4.0ms postprocess per image at shape (1, 3, 480, 640)\n",
      "\n"
     ]
    },
    {
     "name": "stdout",
     "output_type": "stream",
     "text": [
      "[[192.86181640625, 248.85671997070312, 196.89983113606772]]\n",
      "6.621621621621621\n",
      "[[192.99374389648438, 249.03836059570312, 196.74510023328995]]\n",
      "6.621621621621621\n",
      "[[193.33218383789062, 248.95066833496094, 196.81980104799624]]\n",
      "6.621621621621621\n"
     ]
    },
    {
     "name": "stderr",
     "output_type": "stream",
     "text": [
      "0: 480x640 1 battery_plus, 20.0ms\n",
      "Speed: 2.0ms preprocess, 20.0ms inference, 4.1ms postprocess per image at shape (1, 3, 480, 640)\n",
      "\n",
      "0: 480x640 1 battery_plus, 20.1ms\n",
      "Speed: 1.9ms preprocess, 20.1ms inference, 4.0ms postprocess per image at shape (1, 3, 480, 640)\n",
      "\n",
      "0: 480x640 1 battery_plus, 20.1ms\n",
      "Speed: 2.9ms preprocess, 20.1ms inference, 5.0ms postprocess per image at shape (1, 3, 480, 640)\n",
      "\n",
      "0: 480x640 1 battery_plus, 19.1ms\n"
     ]
    },
    {
     "name": "stdout",
     "output_type": "stream",
     "text": [
      "[[193.16757202148438, 248.97567749023438, 196.79849695276332]]\n",
      "6.621621621621621\n",
      "[[193.08612060546875, 249.02215576171875, 196.75890435112848]]\n",
      "6.621621621621621\n",
      "[[193.118896484375, 248.8271484375, 196.92502170138889]]\n",
      "6.621621621621621\n"
     ]
    },
    {
     "name": "stderr",
     "output_type": "stream",
     "text": [
      "Speed: 2.0ms preprocess, 19.1ms inference, 3.9ms postprocess per image at shape (1, 3, 480, 640)\n",
      "\n",
      "0: 480x640 1 battery_plus, 19.1ms\n",
      "Speed: 1.9ms preprocess, 19.1ms inference, 4.0ms postprocess per image at shape (1, 3, 480, 640)\n",
      "\n",
      "0: 480x640 1 battery_plus, 20.0ms\n",
      "Speed: 2.0ms preprocess, 20.0ms inference, 4.0ms postprocess per image at shape (1, 3, 480, 640)\n",
      "\n",
      "0: 480x640 1 battery_plus, 19.0ms\n"
     ]
    },
    {
     "name": "stdout",
     "output_type": "stream",
     "text": [
      "[[193.15121459960938, 249.03689575195312, 196.74634806315103]]\n",
      "6.621621621621621\n",
      "[[193.054443359375, 248.88653564453125, 196.87443259910302]]\n",
      "6.621621621621621\n",
      "[[192.94215393066406, 248.9678955078125, 196.80512604890046]]\n",
      "6.621621621621621\n"
     ]
    },
    {
     "name": "stderr",
     "output_type": "stream",
     "text": [
      "Speed: 4.0ms preprocess, 19.0ms inference, 5.0ms postprocess per image at shape (1, 3, 480, 640)\n",
      "\n",
      "0: 480x640 1 battery_plus, 20.0ms\n",
      "Speed: 2.0ms preprocess, 20.0ms inference, 4.1ms postprocess per image at shape (1, 3, 480, 640)\n",
      "\n",
      "0: 480x640 1 battery_plus, 20.1ms\n",
      "Speed: 3.0ms preprocess, 20.1ms inference, 2.9ms postprocess per image at shape (1, 3, 480, 640)\n",
      "\n",
      "0: 480x640 1 battery_plus, 19.8ms\n"
     ]
    },
    {
     "name": "stdout",
     "output_type": "stream",
     "text": [
      "[[192.98117065429688, 248.82070922851562, 196.93050695348668]]\n",
      "6.621621621621621\n",
      "[[193.19503784179688, 248.86727905273438, 196.89083636248554]]\n",
      "6.621621621621621\n",
      "[[192.98849487304688, 248.93212890625, 196.83559389467592]]\n",
      "6.621621621621621\n"
     ]
    },
    {
     "name": "stderr",
     "output_type": "stream",
     "text": [
      "Speed: 2.0ms preprocess, 19.8ms inference, 4.0ms postprocess per image at shape (1, 3, 480, 640)\n",
      "\n",
      "0: 480x640 2 battery_pluss, 19.1ms\n",
      "Speed: 3.0ms preprocess, 19.1ms inference, 3.0ms postprocess per image at shape (1, 3, 480, 640)\n",
      "\n",
      "0: 480x640 1 battery_plus, 19.0ms\n",
      "Speed: 3.0ms preprocess, 19.0ms inference, 4.0ms postprocess per image at shape (1, 3, 480, 640)\n",
      "\n"
     ]
    },
    {
     "name": "stdout",
     "output_type": "stream",
     "text": [
      "[[193.11328125, 248.960693359375, 196.81126121238427]]\n",
      "6.621621621621621\n",
      "[[193.1746826171875, 248.9168701171875, 196.84859212239584], [141.73849487304688, 210.55747985839844, 229.5251097502532]]\n",
      "6.621621621621621\n",
      "[[192.90484619140625, 248.9425506591797, 196.82671610514322]]\n",
      "6.621621621621621\n"
     ]
    },
    {
     "name": "stderr",
     "output_type": "stream",
     "text": [
      "0: 480x640 1 battery_plus, 20.1ms\n",
      "Speed: 3.0ms preprocess, 20.1ms inference, 4.0ms postprocess per image at shape (1, 3, 480, 640)\n",
      "\n",
      "0: 480x640 1 battery_plus, 19.9ms\n",
      "Speed: 2.0ms preprocess, 19.9ms inference, 3.0ms postprocess per image at shape (1, 3, 480, 640)\n",
      "\n",
      "0: 480x640 1 battery_plus, 19.1ms\n",
      "Speed: 2.0ms preprocess, 19.1ms inference, 3.9ms postprocess per image at shape (1, 3, 480, 640)\n",
      "\n"
     ]
    },
    {
     "name": "stdout",
     "output_type": "stream",
     "text": [
      "[[193.02896118164062, 249.03012084960938, 196.7521192762587]]\n",
      "6.621621621621621\n",
      "[[193.0814208984375, 248.91952514648438, 196.84633043077258]]\n",
      "6.621621621621621\n",
      "[[193.1476593017578, 248.98590087890625, 196.78978814019098]]\n",
      "6.621621621621621\n"
     ]
    },
    {
     "name": "stderr",
     "output_type": "stream",
     "text": [
      "0: 480x640 1 battery_plus, 20.0ms\n",
      "Speed: 2.9ms preprocess, 20.0ms inference, 5.0ms postprocess per image at shape (1, 3, 480, 640)\n",
      "\n",
      "0: 480x640 1 battery_plus, 20.0ms\n",
      "Speed: 2.0ms preprocess, 20.0ms inference, 5.0ms postprocess per image at shape (1, 3, 480, 640)\n",
      "\n",
      "0: 480x640 1 battery_plus, 19.0ms\n",
      "Speed: 3.9ms preprocess, 19.0ms inference, 4.1ms postprocess per image at shape (1, 3, 480, 640)\n",
      "\n"
     ]
    },
    {
     "name": "stdout",
     "output_type": "stream",
     "text": [
      "[[193.21224975585938, 249.0107421875, 196.76862702546296]]\n",
      "6.621621621621621\n",
      "[[193.0418701171875, 248.9715576171875, 196.8020064742477]]\n",
      "6.621621621621621\n",
      "[[193.01312255859375, 249.030517578125, 196.75178132233796]]\n",
      "6.621621621621621\n"
     ]
    },
    {
     "name": "stderr",
     "output_type": "stream",
     "text": [
      "0: 480x640 1 battery_plus, 19.0ms\n",
      "Speed: 2.0ms preprocess, 19.0ms inference, 4.0ms postprocess per image at shape (1, 3, 480, 640)\n",
      "\n",
      "0: 480x640 1 battery_plus, 19.1ms\n",
      "Speed: 3.9ms preprocess, 19.1ms inference, 3.0ms postprocess per image at shape (1, 3, 480, 640)\n",
      "\n",
      "0: 480x640 1 battery_plus, 19.0ms\n",
      "Speed: 2.9ms preprocess, 19.0ms inference, 4.0ms postprocess per image at shape (1, 3, 480, 640)\n",
      "\n",
      "0: 480x640 2 battery_pluss, 19.9ms\n"
     ]
    },
    {
     "name": "stdout",
     "output_type": "stream",
     "text": [
      "[[193.03616333007812, 249.00537109375, 196.77320240162038]]\n",
      "6.621621621621621\n",
      "[[193.102294921875, 248.9689178466797, 196.80425516764322]]\n",
      "6.621621621621621\n",
      "[[193.07086181640625, 248.7894744873047, 196.95711432562933]]\n",
      "6.621621621621621\n"
     ]
    },
    {
     "name": "stderr",
     "output_type": "stream",
     "text": [
      "Speed: 3.0ms preprocess, 19.9ms inference, 4.1ms postprocess per image at shape (1, 3, 480, 640)\n",
      "\n",
      "0: 480x640 1 battery_plus, 19.0ms\n",
      "Speed: 3.0ms preprocess, 19.0ms inference, 3.0ms postprocess per image at shape (1, 3, 480, 640)\n",
      "\n",
      "0: 480x640 1 battery_plus, 19.8ms\n",
      "Speed: 2.0ms preprocess, 19.8ms inference, 3.9ms postprocess per image at shape (1, 3, 480, 640)\n",
      "\n"
     ]
    },
    {
     "name": "stdout",
     "output_type": "stream",
     "text": [
      "[[193.01174926757812, 248.85806274414062, 196.89868729202837], [141.4388885498047, 212.80010986328125, 227.61472122757525]]\n",
      "6.621621621621621\n",
      "[[193.1184539794922, 248.80426025390625, 196.94451904296875]]\n",
      "6.621621621621621\n",
      "[[193.08740234375, 248.96517944335938, 196.80743973343462]]\n",
      "6.621621621621621\n"
     ]
    },
    {
     "name": "stderr",
     "output_type": "stream",
     "text": [
      "0: 480x640 1 battery_plus, 19.7ms\n",
      "Speed: 2.0ms preprocess, 19.7ms inference, 4.0ms postprocess per image at shape (1, 3, 480, 640)\n",
      "\n",
      "0: 480x640 1 battery_plus, 20.0ms\n",
      "Speed: 3.0ms preprocess, 20.0ms inference, 5.0ms postprocess per image at shape (1, 3, 480, 640)\n",
      "\n",
      "0: 480x640 1 battery_plus, 20.0ms\n",
      "Speed: 3.0ms preprocess, 20.0ms inference, 3.0ms postprocess per image at shape (1, 3, 480, 640)\n",
      "\n"
     ]
    },
    {
     "name": "stdout",
     "output_type": "stream",
     "text": [
      "[[193.23182678222656, 248.95236206054688, 196.81835824471932]]\n",
      "6.621621621621621\n",
      "[[193.19485473632812, 248.87144470214844, 196.887287846318]]\n",
      "6.621621621621621\n",
      "[[193.2794189453125, 248.920654296875, 196.8453685619213]]\n",
      "6.621621621621621\n"
     ]
    },
    {
     "name": "stderr",
     "output_type": "stream",
     "text": [
      "0: 480x640 1 battery_plus, 20.0ms\n",
      "Speed: 2.0ms preprocess, 20.0ms inference, 4.0ms postprocess per image at shape (1, 3, 480, 640)\n",
      "\n",
      "0: 480x640 1 battery_plus, 20.1ms\n",
      "Speed: 2.9ms preprocess, 20.1ms inference, 4.0ms postprocess per image at shape (1, 3, 480, 640)\n",
      "\n",
      "0: 480x640 1 battery_plus, 19.0ms\n",
      "Speed: 3.1ms preprocess, 19.0ms inference, 4.0ms postprocess per image at shape (1, 3, 480, 640)\n",
      "\n"
     ]
    },
    {
     "name": "stdout",
     "output_type": "stream",
     "text": [
      "[[192.98776245117188, 248.73480224609375, 197.00368697554978]]\n",
      "6.621621621621621\n",
      "[[193.1227264404297, 248.83074951171875, 196.92195411964698]]\n",
      "6.621621621621621\n",
      "[[193.1529541015625, 248.96743774414062, 196.80551599573207]]\n",
      "6.621621621621621\n"
     ]
    },
    {
     "name": "stderr",
     "output_type": "stream",
     "text": [
      "0: 480x640 1 battery_plus, 20.1ms\n",
      "Speed: 2.9ms preprocess, 20.1ms inference, 3.0ms postprocess per image at shape (1, 3, 480, 640)\n",
      "\n",
      "0: 480x640 1 battery_plus, 20.1ms\n",
      "Speed: 2.9ms preprocess, 20.1ms inference, 4.0ms postprocess per image at shape (1, 3, 480, 640)\n",
      "\n",
      "0: 480x640 1 battery_plus, 20.0ms\n",
      "Speed: 3.0ms preprocess, 20.0ms inference, 3.9ms postprocess per image at shape (1, 3, 480, 640)\n",
      "\n"
     ]
    },
    {
     "name": "stdout",
     "output_type": "stream",
     "text": [
      "[[192.9876708984375, 249.01535034179688, 196.76470156069155]]\n",
      "6.621621621621621\n",
      "[[193.00408935546875, 248.93328857421875, 196.8346060293692]]\n",
      "6.621621621621621\n",
      "[[193.00474548339844, 249.0520782470703, 196.73341482656974]]\n",
      "6.621621621621621\n"
     ]
    },
    {
     "name": "stderr",
     "output_type": "stream",
     "text": [
      "0: 480x640 1 battery_plus, 19.0ms\n",
      "Speed: 3.0ms preprocess, 19.0ms inference, 3.0ms postprocess per image at shape (1, 3, 480, 640)\n",
      "\n",
      "0: 480x640 1 battery_plus, 19.0ms\n",
      "Speed: 3.0ms preprocess, 19.0ms inference, 4.0ms postprocess per image at shape (1, 3, 480, 640)\n",
      "\n",
      "0: 480x640 1 battery_plus, 19.0ms\n",
      "Speed: 3.0ms preprocess, 19.0ms inference, 2.0ms postprocess per image at shape (1, 3, 480, 640)\n",
      "\n",
      "0: 480x640 1 battery_plus, 20.0ms\n"
     ]
    },
    {
     "name": "stdout",
     "output_type": "stream",
     "text": [
      "[[192.97804260253906, 248.94515991210938, 196.82449340820312]]\n",
      "6.621621621621621\n",
      "[[193.0035400390625, 248.97669982910156, 196.79762607150607]]\n",
      "6.621621621621621\n",
      "[[193.19212341308594, 249.0357666015625, 196.7473099320023]]\n",
      "6.621621621621621\n"
     ]
    },
    {
     "name": "stderr",
     "output_type": "stream",
     "text": [
      "Speed: 3.1ms preprocess, 20.0ms inference, 4.0ms postprocess per image at shape (1, 3, 480, 640)\n",
      "\n",
      "0: 480x640 1 battery_plus, 20.0ms\n",
      "Speed: 2.0ms preprocess, 20.0ms inference, 5.0ms postprocess per image at shape (1, 3, 480, 640)\n",
      "\n",
      "0: 480x640 1 battery_plus, 19.7ms\n",
      "Speed: 2.9ms preprocess, 19.7ms inference, 2.0ms postprocess per image at shape (1, 3, 480, 640)\n",
      "\n"
     ]
    },
    {
     "name": "stdout",
     "output_type": "stream",
     "text": [
      "[[193.18203735351562, 248.97210693359375, 196.80153853804978]]\n",
      "6.621621621621621\n",
      "[[193.12062072753906, 249.0074920654297, 196.7713956479673]]\n",
      "6.621621621621621\n",
      "[[193.12518310546875, 248.94525146484375, 196.82441541883682]]\n",
      "6.621621621621621\n"
     ]
    },
    {
     "name": "stderr",
     "output_type": "stream",
     "text": [
      "0: 480x640 1 battery_plus, 20.0ms\n",
      "Speed: 3.0ms preprocess, 20.0ms inference, 2.0ms postprocess per image at shape (1, 3, 480, 640)\n",
      "\n",
      "0: 480x640 1 battery_plus, 19.0ms\n",
      "Speed: 2.1ms preprocess, 19.0ms inference, 3.0ms postprocess per image at shape (1, 3, 480, 640)\n",
      "\n",
      "0: 480x640 1 battery_plus, 20.0ms\n",
      "Speed: 2.0ms preprocess, 20.0ms inference, 4.0ms postprocess per image at shape (1, 3, 480, 640)\n",
      "\n"
     ]
    },
    {
     "name": "stdout",
     "output_type": "stream",
     "text": [
      "[[193.0140380859375, 248.84161376953125, 196.9126993815104]]\n",
      "6.621621621621621\n",
      "[[192.95999145507812, 249.03941345214844, 196.74420335557727]]\n",
      "6.621621621621621\n",
      "[[193.15538024902344, 248.9691162109375, 196.80408619068288]]\n",
      "6.621621621621621\n"
     ]
    },
    {
     "name": "stderr",
     "output_type": "stream",
     "text": [
      "0: 480x640 1 battery_plus, 19.0ms\n",
      "Speed: 3.0ms preprocess, 19.0ms inference, 2.0ms postprocess per image at shape (1, 3, 480, 640)\n",
      "\n",
      "0: 480x640 1 battery_plus, 20.0ms\n",
      "Speed: 3.0ms preprocess, 20.0ms inference, 2.0ms postprocess per image at shape (1, 3, 480, 640)\n",
      "\n",
      "0: 480x640 1 battery_plus, 20.1ms\n",
      "Speed: 3.0ms preprocess, 20.1ms inference, 3.0ms postprocess per image at shape (1, 3, 480, 640)\n",
      "\n",
      "0: 480x640 1 battery_plus, 20.1ms\n"
     ]
    },
    {
     "name": "stdout",
     "output_type": "stream",
     "text": [
      "[[192.85690307617188, 248.97900390625, 196.79566333912038]]\n",
      "6.621621621621621\n",
      "[[193.148193359375, 248.76904296875, 196.9745189525463]]\n",
      "6.621621621621621\n",
      "[[193.01852416992188, 248.98973083496094, 196.78652558503327]]\n",
      "6.621621621621621\n"
     ]
    },
    {
     "name": "stderr",
     "output_type": "stream",
     "text": [
      "Speed: 3.0ms preprocess, 20.1ms inference, 3.0ms postprocess per image at shape (1, 3, 480, 640)\n",
      "\n",
      "0: 480x640 1 battery_plus, 20.1ms\n",
      "Speed: 2.9ms preprocess, 20.1ms inference, 3.0ms postprocess per image at shape (1, 3, 480, 640)\n",
      "\n",
      "0: 480x640 1 battery_plus, 20.1ms\n",
      "Speed: 3.0ms preprocess, 20.1ms inference, 3.0ms postprocess per image at shape (1, 3, 480, 640)\n",
      "\n"
     ]
    },
    {
     "name": "stdout",
     "output_type": "stream",
     "text": [
      "[[193.03128051757812, 248.81700134277344, 196.93366552282262]]\n",
      "6.621621621621621\n",
      "[[193.00526428222656, 248.92355346679688, 196.8428988986545]]\n",
      "6.621621621621621\n",
      "[[193.07199096679688, 248.87994384765625, 196.88004783347802]]\n",
      "6.621621621621621\n"
     ]
    },
    {
     "name": "stderr",
     "output_type": "stream",
     "text": [
      "0: 480x640 1 battery_plus, 19.0ms\n",
      "Speed: 3.0ms preprocess, 19.0ms inference, 3.1ms postprocess per image at shape (1, 3, 480, 640)\n",
      "\n",
      "0: 480x640 1 battery_plus, 19.0ms\n",
      "Speed: 2.0ms preprocess, 19.0ms inference, 3.0ms postprocess per image at shape (1, 3, 480, 640)\n",
      "\n",
      "0: 480x640 1 battery_plus, 20.0ms\n",
      "Speed: 2.9ms preprocess, 20.0ms inference, 3.0ms postprocess per image at shape (1, 3, 480, 640)\n",
      "\n"
     ]
    },
    {
     "name": "stdout",
     "output_type": "stream",
     "text": [
      "[[192.97503662109375, 248.83993530273438, 196.91412918655962]]\n",
      "6.621621621621621\n",
      "[[192.94610595703125, 248.89532470703125, 196.86694561993633]]\n",
      "6.621621621621621\n",
      "[[193.03683471679688, 249.00811767578125, 196.7708627206308]]\n",
      "6.621621621621621\n"
     ]
    },
    {
     "name": "stderr",
     "output_type": "stream",
     "text": [
      "0: 480x640 1 battery_plus, 19.0ms\n",
      "Speed: 2.0ms preprocess, 19.0ms inference, 2.0ms postprocess per image at shape (1, 3, 480, 640)\n",
      "\n",
      "0: 480x640 1 battery_plus, 19.0ms\n",
      "Speed: 2.0ms preprocess, 19.0ms inference, 2.0ms postprocess per image at shape (1, 3, 480, 640)\n",
      "\n",
      "0: 480x640 1 battery_plus, 19.0ms\n",
      "Speed: 3.0ms preprocess, 19.0ms inference, 2.0ms postprocess per image at shape (1, 3, 480, 640)\n",
      "\n"
     ]
    },
    {
     "name": "stdout",
     "output_type": "stream",
     "text": [
      "[[193.0419921875, 249.12277221679688, 196.6731940375434]]\n",
      "6.621621621621621\n",
      "[[193.16806030273438, 248.88743591308594, 196.87366570366754]]\n",
      "6.621621621621621\n",
      "[[193.12646484375, 248.81240844726562, 196.93757798936633]]\n",
      "6.621621621621621\n"
     ]
    },
    {
     "name": "stderr",
     "output_type": "stream",
     "text": [
      "0: 480x640 1 battery_plus, 20.1ms\n",
      "Speed: 3.0ms preprocess, 20.1ms inference, 3.0ms postprocess per image at shape (1, 3, 480, 640)\n",
      "\n",
      "0: 480x640 1 battery_plus, 19.7ms\n",
      "Speed: 2.0ms preprocess, 19.7ms inference, 3.0ms postprocess per image at shape (1, 3, 480, 640)\n",
      "\n",
      "0: 480x640 1 battery_plus, 19.0ms\n",
      "Speed: 3.0ms preprocess, 19.0ms inference, 2.9ms postprocess per image at shape (1, 3, 480, 640)\n",
      "\n"
     ]
    },
    {
     "name": "stdout",
     "output_type": "stream",
     "text": [
      "[[192.83407592773438, 249.10304260253906, 196.69000074598526]]\n",
      "6.621621621621621\n",
      "[[193.1536102294922, 248.78512573242188, 196.9608188205295]]\n",
      "6.621621621621621\n",
      "[[193.17112731933594, 248.99755859375, 196.77985749421296]]\n",
      "6.621621621621621\n"
     ]
    },
    {
     "name": "stderr",
     "output_type": "stream",
     "text": [
      "0: 480x640 1 battery_plus, 20.0ms\n",
      "Speed: 3.0ms preprocess, 20.0ms inference, 3.1ms postprocess per image at shape (1, 3, 480, 640)\n",
      "\n",
      "0: 480x640 1 battery_plus, 20.1ms\n",
      "Speed: 3.0ms preprocess, 20.1ms inference, 4.0ms postprocess per image at shape (1, 3, 480, 640)\n",
      "\n",
      "0: 480x640 1 battery_plus, 20.1ms\n",
      "Speed: 3.0ms preprocess, 20.1ms inference, 3.0ms postprocess per image at shape (1, 3, 480, 640)\n",
      "\n"
     ]
    },
    {
     "name": "stdout",
     "output_type": "stream",
     "text": [
      "[[193.12060546875, 249.06265258789062, 196.72440705475984]]\n",
      "6.621621621621621\n",
      "[[193.10296630859375, 248.98562622070312, 196.79002210828995]]\n",
      "6.621621621621621\n",
      "[[193.02867126464844, 248.9774627685547, 196.7969761601201]]\n",
      "6.621621621621621\n"
     ]
    },
    {
     "name": "stderr",
     "output_type": "stream",
     "text": [
      "0: 480x640 1 battery_plus, 20.1ms\n",
      "Speed: 2.0ms preprocess, 20.1ms inference, 3.0ms postprocess per image at shape (1, 3, 480, 640)\n",
      "\n",
      "0: 480x640 1 battery_plus, 20.1ms\n",
      "Speed: 2.0ms preprocess, 20.1ms inference, 2.0ms postprocess per image at shape (1, 3, 480, 640)\n",
      "\n",
      "0: 480x640 1 battery_plus, 20.1ms\n",
      "Speed: 2.9ms preprocess, 20.1ms inference, 3.0ms postprocess per image at shape (1, 3, 480, 640)\n",
      "\n"
     ]
    },
    {
     "name": "stdout",
     "output_type": "stream",
     "text": [
      "[[193.0130157470703, 248.98912048339844, 196.78704551414208]]\n",
      "6.621621621621621\n",
      "[[193.2935791015625, 249.128173828125, 196.66859266493057]]\n",
      "6.621621621621621\n",
      "[[192.99539184570312, 248.8375244140625, 196.91618290653935]]\n",
      "6.621621621621621\n"
     ]
    },
    {
     "name": "stderr",
     "output_type": "stream",
     "text": [
      "0: 480x640 1 battery_plus, 19.0ms\n",
      "Speed: 3.0ms preprocess, 19.0ms inference, 3.0ms postprocess per image at shape (1, 3, 480, 640)\n",
      "\n",
      "0: 480x640 1 battery_plus, 19.0ms\n",
      "Speed: 3.0ms preprocess, 19.0ms inference, 4.0ms postprocess per image at shape (1, 3, 480, 640)\n",
      "\n",
      "0: 480x640 1 battery_plus, 20.0ms\n",
      "Speed: 2.0ms preprocess, 20.0ms inference, 3.0ms postprocess per image at shape (1, 3, 480, 640)\n",
      "\n"
     ]
    },
    {
     "name": "stdout",
     "output_type": "stream",
     "text": [
      "[[192.93069458007812, 249.0146942138672, 196.76526048448352]]\n",
      "6.621621621621621\n",
      "[[193.2563934326172, 248.94589233398438, 196.82386949327258]]\n",
      "6.621621621621621\n",
      "[[193.14212036132812, 249.0318145751953, 196.75067647298178]]\n",
      "6.621621621621621\n"
     ]
    },
    {
     "name": "stderr",
     "output_type": "stream",
     "text": [
      "0: 480x640 1 battery_plus, 20.0ms\n",
      "Speed: 2.0ms preprocess, 20.0ms inference, 4.0ms postprocess per image at shape (1, 3, 480, 640)\n",
      "\n",
      "0: 480x640 1 battery_plus, 20.0ms\n",
      "Speed: 3.0ms preprocess, 20.0ms inference, 2.0ms postprocess per image at shape (1, 3, 480, 640)\n",
      "\n",
      "0: 480x640 1 battery_plus, 19.0ms\n",
      "Speed: 3.0ms preprocess, 19.0ms inference, 3.0ms postprocess per image at shape (1, 3, 480, 640)\n",
      "\n"
     ]
    },
    {
     "name": "stdout",
     "output_type": "stream",
     "text": [
      "[[193.13638305664062, 248.8568115234375, 196.89975314670139]]\n",
      "6.621621621621621\n",
      "[[193.01190185546875, 249.01531982421875, 196.76472755714698]]\n",
      "6.621621621621621\n",
      "[[192.9672088623047, 248.91232299804688, 196.85246559425636]]\n",
      "6.621621621621621\n"
     ]
    },
    {
     "name": "stderr",
     "output_type": "stream",
     "text": [
      "0: 480x640 1 battery_plus, 20.0ms\n",
      "Speed: 3.9ms preprocess, 20.0ms inference, 2.0ms postprocess per image at shape (1, 3, 480, 640)\n",
      "\n",
      "0: 480x640 1 battery_plus, 20.0ms\n",
      "Speed: 2.9ms preprocess, 20.0ms inference, 2.0ms postprocess per image at shape (1, 3, 480, 640)\n",
      "\n",
      "0: 480x640 1 battery_plus, 20.1ms\n",
      "Speed: 2.0ms preprocess, 20.1ms inference, 3.0ms postprocess per image at shape (1, 3, 480, 640)\n",
      "\n"
     ]
    },
    {
     "name": "stdout",
     "output_type": "stream",
     "text": [
      "[[192.80218505859375, 248.8558349609375, 196.90058503327546]]\n",
      "6.621621621621621\n",
      "[[192.9659881591797, 248.99703979492188, 196.78029943395543]]\n",
      "6.621621621621621\n",
      "[[193.02499389648438, 249.08018493652344, 196.70947209110966]]\n",
      "6.621621621621621\n"
     ]
    },
    {
     "name": "stderr",
     "output_type": "stream",
     "text": [
      "0: 480x640 1 battery_plus, 20.1ms\n",
      "Speed: 3.0ms preprocess, 20.1ms inference, 3.0ms postprocess per image at shape (1, 3, 480, 640)\n",
      "\n",
      "0: 480x640 1 battery_plus, 20.1ms\n",
      "Speed: 2.9ms preprocess, 20.1ms inference, 3.0ms postprocess per image at shape (1, 3, 480, 640)\n",
      "\n",
      "0: 480x640 1 battery_plus, 20.1ms\n",
      "Speed: 2.0ms preprocess, 20.1ms inference, 3.0ms postprocess per image at shape (1, 3, 480, 640)\n",
      "\n",
      "0: 480x640 1 battery_plus, 20.1ms\n"
     ]
    },
    {
     "name": "stdout",
     "output_type": "stream",
     "text": [
      "[[193.12454223632812, 249.0364990234375, 196.74668601707177]]\n",
      "6.621621621621621\n",
      "[[192.9878692626953, 249.146728515625, 196.65278682002315]]\n",
      "6.621621621621621\n",
      "[[192.94140625, 248.96929931640625, 196.80393021195025]]\n",
      "6.621621621621621\n"
     ]
    },
    {
     "name": "stderr",
     "output_type": "stream",
     "text": [
      "Speed: 3.0ms preprocess, 20.1ms inference, 3.0ms postprocess per image at shape (1, 3, 480, 640)\n",
      "\n",
      "0: 480x640 1 battery_plus, 20.0ms\n",
      "Speed: 3.0ms preprocess, 20.0ms inference, 4.0ms postprocess per image at shape (1, 3, 480, 640)\n",
      "\n",
      "0: 480x640 1 battery_plus, 20.0ms\n",
      "Speed: 2.9ms preprocess, 20.0ms inference, 5.0ms postprocess per image at shape (1, 3, 480, 640)\n",
      "\n",
      "0: 480x640 1 battery_plus, 19.1ms\n"
     ]
    },
    {
     "name": "stdout",
     "output_type": "stream",
     "text": [
      "[[193.0203857421875, 249.11953735351562, 196.67594966182003]]\n",
      "6.621621621621621\n",
      "[[193.048095703125, 248.96047973632812, 196.81144318757234]]\n",
      "6.621621621621621\n",
      "[[193.14669799804688, 248.93460083007812, 196.8334881817853]]\n",
      "6.621621621621621\n"
     ]
    },
    {
     "name": "stderr",
     "output_type": "stream",
     "text": [
      "Speed: 2.9ms preprocess, 19.1ms inference, 4.0ms postprocess per image at shape (1, 3, 480, 640)\n",
      "\n",
      "0: 480x640 1 battery_plus, 19.0ms\n",
      "Speed: 3.0ms preprocess, 19.0ms inference, 2.0ms postprocess per image at shape (1, 3, 480, 640)\n",
      "\n",
      "0: 480x640 1 battery_plus, 19.0ms\n",
      "Speed: 3.0ms preprocess, 19.0ms inference, 2.0ms postprocess per image at shape (1, 3, 480, 640)\n",
      "\n",
      "0: 480x640 1 battery_plus, 20.0ms\n"
     ]
    },
    {
     "name": "stdout",
     "output_type": "stream",
     "text": [
      "[[192.98641967773438, 248.85671997070312, 196.89983113606772]]\n",
      "6.621621621621621\n",
      "[[193.1740264892578, 248.9142303466797, 196.85084081579137]]\n",
      "6.621621621621621\n",
      "[[193.09078979492188, 248.865234375, 196.892578125]]\n",
      "6.621621621621621\n"
     ]
    },
    {
     "name": "stderr",
     "output_type": "stream",
     "text": [
      "Speed: 3.0ms preprocess, 20.0ms inference, 2.0ms postprocess per image at shape (1, 3, 480, 640)\n",
      "\n",
      "0: 480x640 1 battery_plus, 19.0ms\n",
      "Speed: 3.0ms preprocess, 19.0ms inference, 2.9ms postprocess per image at shape (1, 3, 480, 640)\n",
      "\n",
      "0: 480x640 1 battery_plus, 19.0ms\n",
      "Speed: 2.0ms preprocess, 19.0ms inference, 2.0ms postprocess per image at shape (1, 3, 480, 640)\n",
      "\n",
      "0: 480x640 1 battery_plus, 19.0ms\n"
     ]
    },
    {
     "name": "stdout",
     "output_type": "stream",
     "text": [
      "[[193.10317993164062, 248.98709106445312, 196.78877427842883]]\n",
      "6.621621621621621\n",
      "[[193.134521484375, 249.0975799560547, 196.69465411150898]]\n",
      "6.621621621621621\n",
      "[[193.10928344726562, 249.0780487060547, 196.71129184299045]]\n",
      "6.621621621621621\n"
     ]
    },
    {
     "name": "stderr",
     "output_type": "stream",
     "text": [
      "Speed: 2.0ms preprocess, 19.0ms inference, 2.0ms postprocess per image at shape (1, 3, 480, 640)\n",
      "\n",
      "0: 480x640 1 battery_plus, 19.7ms\n",
      "Speed: 3.0ms preprocess, 19.7ms inference, 3.0ms postprocess per image at shape (1, 3, 480, 640)\n",
      "\n",
      "0: 480x640 1 battery_plus, 19.6ms\n",
      "Speed: 2.0ms preprocess, 19.6ms inference, 3.0ms postprocess per image at shape (1, 3, 480, 640)\n",
      "\n"
     ]
    },
    {
     "name": "stdout",
     "output_type": "stream",
     "text": [
      "[[193.11865234375, 248.99496459960938, 196.78206719292535]]\n",
      "6.621621621621621\n",
      "[[192.92080688476562, 249.05178833007812, 196.7336617928964]]\n",
      "6.621621621621621\n",
      "[[192.95523071289062, 248.983642578125, 196.79171187789353]]\n",
      "6.621621621621621\n"
     ]
    },
    {
     "name": "stderr",
     "output_type": "stream",
     "text": [
      "0: 480x640 1 battery_plus, 20.0ms\n",
      "Speed: 2.0ms preprocess, 20.0ms inference, 2.0ms postprocess per image at shape (1, 3, 480, 640)\n",
      "\n",
      "0: 480x640 1 battery_plus, 19.0ms\n",
      "Speed: 3.0ms preprocess, 19.0ms inference, 3.0ms postprocess per image at shape (1, 3, 480, 640)\n",
      "\n",
      "0: 480x640 1 battery_plus, 20.0ms\n",
      "Speed: 3.0ms preprocess, 20.0ms inference, 2.0ms postprocess per image at shape (1, 3, 480, 640)\n",
      "\n"
     ]
    },
    {
     "name": "stdout",
     "output_type": "stream",
     "text": [
      "[[193.15322875976562, 249.15606689453125, 196.64483190465856]]\n",
      "6.621621621621621\n",
      "[[193.03683471679688, 248.99169921875, 196.78484881365742]]\n",
      "6.621621621621621\n",
      "[[193.06317138671875, 249.047607421875, 196.73722330729166]]\n",
      "6.621621621621621\n"
     ]
    },
    {
     "name": "stderr",
     "output_type": "stream",
     "text": [
      "0: 480x640 1 battery_plus, 19.0ms\n",
      "Speed: 2.0ms preprocess, 19.0ms inference, 2.0ms postprocess per image at shape (1, 3, 480, 640)\n",
      "\n",
      "0: 480x640 1 battery_plus, 19.1ms\n",
      "Speed: 2.9ms preprocess, 19.1ms inference, 3.0ms postprocess per image at shape (1, 3, 480, 640)\n",
      "\n",
      "0: 480x640 1 battery_plus, 19.1ms\n",
      "Speed: 3.0ms preprocess, 19.1ms inference, 3.0ms postprocess per image at shape (1, 3, 480, 640)\n",
      "\n"
     ]
    },
    {
     "name": "stdout",
     "output_type": "stream",
     "text": [
      "[[193.1365966796875, 249.1912384033203, 196.61487098976417]]\n",
      "6.621621621621621\n",
      "[[193.13601684570312, 249.04263305664062, 196.74146072952837]]\n",
      "6.621621621621621\n",
      "[[193.13436889648438, 249.01132202148438, 196.76813309280962]]\n",
      "6.621621621621621\n"
     ]
    },
    {
     "name": "stderr",
     "output_type": "stream",
     "text": [
      "0: 480x640 1 battery_plus, 20.0ms\n",
      "Speed: 2.0ms preprocess, 20.0ms inference, 2.0ms postprocess per image at shape (1, 3, 480, 640)\n",
      "\n",
      "0: 480x640 1 battery_plus, 19.0ms\n",
      "Speed: 3.0ms preprocess, 19.0ms inference, 3.0ms postprocess per image at shape (1, 3, 480, 640)\n",
      "\n",
      "0: 480x640 1 battery_plus, 20.0ms\n",
      "Speed: 2.0ms preprocess, 20.0ms inference, 3.1ms postprocess per image at shape (1, 3, 480, 640)\n",
      "\n",
      "0: 480x640 1 battery_plus, 20.0ms\n"
     ]
    },
    {
     "name": "stdout",
     "output_type": "stream",
     "text": [
      "[[193.128662109375, 249.08009338378906, 196.709550080476]]\n",
      "6.621621621621621\n",
      "[[192.91366577148438, 248.8330535888672, 196.9199913872613]]\n",
      "6.621621621621621\n",
      "[[193.08468627929688, 249.00958251953125, 196.76961489076967]]\n",
      "6.621621621621621\n"
     ]
    },
    {
     "name": "stderr",
     "output_type": "stream",
     "text": [
      "Speed: 3.0ms preprocess, 20.0ms inference, 4.0ms postprocess per image at shape (1, 3, 480, 640)\n",
      "\n",
      "0: 480x640 1 battery_plus, 19.0ms\n",
      "Speed: 4.0ms preprocess, 19.0ms inference, 5.1ms postprocess per image at shape (1, 3, 480, 640)\n",
      "\n",
      "0: 480x640 1 battery_plus, 20.1ms\n",
      "Speed: 2.0ms preprocess, 20.1ms inference, 2.9ms postprocess per image at shape (1, 3, 480, 640)\n",
      "\n"
     ]
    },
    {
     "name": "stdout",
     "output_type": "stream",
     "text": [
      "[[193.06607055664062, 248.93563842773438, 196.83260430230035]]\n",
      "6.621621621621621\n",
      "[[193.1021728515625, 249.09075927734375, 196.70046431929978]]\n",
      "6.621621621621621\n",
      "[[193.12828063964844, 248.927001953125, 196.8399612991898]]\n",
      "6.621621621621621\n"
     ]
    },
    {
     "name": "stderr",
     "output_type": "stream",
     "text": [
      "0: 480x640 1 battery_plus, 20.0ms\n",
      "Speed: 3.0ms preprocess, 20.0ms inference, 4.0ms postprocess per image at shape (1, 3, 480, 640)\n",
      "\n",
      "0: 480x640 1 battery_plus, 20.1ms\n",
      "Speed: 3.0ms preprocess, 20.1ms inference, 3.0ms postprocess per image at shape (1, 3, 480, 640)\n",
      "\n",
      "0: 480x640 1 battery_plus, 18.9ms\n",
      "Speed: 3.0ms preprocess, 18.9ms inference, 3.1ms postprocess per image at shape (1, 3, 480, 640)\n",
      "\n",
      "0: 480x640 1 battery_plus, 20.0ms\n"
     ]
    },
    {
     "name": "stdout",
     "output_type": "stream",
     "text": [
      "[[193.03211975097656, 248.99806213378906, 196.77942855269822]]\n",
      "6.621621621621621\n",
      "[[192.92926025390625, 249.09194946289062, 196.6994504575376]]\n",
      "6.621621621621621\n",
      "[[192.96963500976562, 248.90606689453125, 196.85779486762152]]\n",
      "6.621621621621621\n"
     ]
    },
    {
     "name": "stderr",
     "output_type": "stream",
     "text": [
      "Speed: 3.0ms preprocess, 20.0ms inference, 4.1ms postprocess per image at shape (1, 3, 480, 640)\n",
      "\n",
      "0: 480x640 1 battery_plus, 20.1ms\n",
      "Speed: 3.0ms preprocess, 20.1ms inference, 2.9ms postprocess per image at shape (1, 3, 480, 640)\n",
      "\n",
      "0: 480x640 1 battery_plus, 19.0ms\n",
      "Speed: 3.0ms preprocess, 19.0ms inference, 2.0ms postprocess per image at shape (1, 3, 480, 640)\n",
      "\n",
      "0: 480x640 1 battery_plus, 20.1ms\n"
     ]
    },
    {
     "name": "stdout",
     "output_type": "stream",
     "text": [
      "[[193.0410919189453, 249.03924560546875, 196.74434633608217]]\n",
      "6.621621621621621\n",
      "[[193.12782287597656, 248.79583740234375, 196.95169406467014]]\n",
      "6.621621621621621\n",
      "[[193.1826171875, 249.04080200195312, 196.74302051685476]]\n",
      "6.621621621621621\n"
     ]
    },
    {
     "name": "stderr",
     "output_type": "stream",
     "text": [
      "Speed: 1.9ms preprocess, 20.1ms inference, 3.0ms postprocess per image at shape (1, 3, 480, 640)\n",
      "\n",
      "0: 480x640 1 battery_plus, 20.0ms\n",
      "Speed: 2.0ms preprocess, 20.0ms inference, 2.0ms postprocess per image at shape (1, 3, 480, 640)\n",
      "\n",
      "0: 480x640 1 battery_plus, 19.1ms\n",
      "Speed: 2.0ms preprocess, 19.1ms inference, 3.0ms postprocess per image at shape (1, 3, 480, 640)\n",
      "\n"
     ]
    },
    {
     "name": "stdout",
     "output_type": "stream",
     "text": [
      "[[193.02618408203125, 249.07867431640625, 196.71075891565394]]\n",
      "6.621621621621621\n",
      "[[192.99652099609375, 248.95556640625, 196.81562861689815]]\n",
      "6.621621621621621\n",
      "[[192.90821838378906, 249.0838623046875, 196.70633951822916]]\n",
      "6.621621621621621\n"
     ]
    },
    {
     "name": "stderr",
     "output_type": "stream",
     "text": [
      "0: 480x640 1 battery_plus, 20.0ms\n",
      "Speed: 2.0ms preprocess, 20.0ms inference, 2.1ms postprocess per image at shape (1, 3, 480, 640)\n",
      "\n",
      "0: 480x640 1 battery_plus, 20.1ms\n",
      "Speed: 1.9ms preprocess, 20.1ms inference, 3.0ms postprocess per image at shape (1, 3, 480, 640)\n",
      "\n",
      "0: 480x640 1 battery_plus, 19.0ms\n",
      "Speed: 2.9ms preprocess, 19.0ms inference, 2.0ms postprocess per image at shape (1, 3, 480, 640)\n",
      "\n"
     ]
    },
    {
     "name": "stdout",
     "output_type": "stream",
     "text": [
      "[[193.01553344726562, 248.81814575195312, 196.93269065574364]]\n",
      "6.621621621621621\n",
      "[[193.11520385742188, 248.98385620117188, 196.79152990270543]]\n",
      "6.621621621621621\n",
      "[[192.940185546875, 249.04470825195312, 196.73969297055845]]\n",
      "6.621621621621621\n"
     ]
    },
    {
     "name": "stderr",
     "output_type": "stream",
     "text": [
      "0: 480x640 1 battery_plus, 20.0ms\n",
      "Speed: 3.0ms preprocess, 20.0ms inference, 2.0ms postprocess per image at shape (1, 3, 480, 640)\n",
      "\n",
      "0: 480x640 1 battery_plus, 20.0ms\n",
      "Speed: 2.0ms preprocess, 20.0ms inference, 4.0ms postprocess per image at shape (1, 3, 480, 640)\n",
      "\n",
      "0: 480x640 1 battery_plus, 20.1ms\n",
      "Speed: 2.0ms preprocess, 20.1ms inference, 3.0ms postprocess per image at shape (1, 3, 480, 640)\n",
      "\n"
     ]
    },
    {
     "name": "stdout",
     "output_type": "stream",
     "text": [
      "[[193.2197265625, 249.1659698486328, 196.63639605486836]]\n",
      "6.621621621621621\n",
      "[[193.11239624023438, 248.9227294921875, 196.84360080295139]]\n",
      "6.621621621621621\n",
      "[[193.1002960205078, 249.067626953125, 196.72016963252315]]\n",
      "6.621621621621621\n"
     ]
    },
    {
     "name": "stderr",
     "output_type": "stream",
     "text": [
      "0: 480x640 1 battery_plus, 20.0ms\n",
      "Speed: 2.0ms preprocess, 20.0ms inference, 4.0ms postprocess per image at shape (1, 3, 480, 640)\n",
      "\n",
      "0: 480x640 1 battery_plus, 19.1ms\n",
      "Speed: 2.0ms preprocess, 19.1ms inference, 2.9ms postprocess per image at shape (1, 3, 480, 640)\n",
      "\n",
      "0: 480x640 1 battery_plus, 19.8ms\n",
      "Speed: 3.0ms preprocess, 19.8ms inference, 4.0ms postprocess per image at shape (1, 3, 480, 640)\n",
      "\n"
     ]
    },
    {
     "name": "stdout",
     "output_type": "stream",
     "text": [
      "[[193.2137451171875, 248.93240356445312, 196.83535992657696]]\n",
      "6.621621621621621\n",
      "[[193.06094360351562, 249.18075561523438, 196.62380077220774]]\n",
      "6.621621621621621\n",
      "[[193.1411590576172, 248.93014526367188, 196.8372836642795]]\n",
      "6.621621621621621\n"
     ]
    },
    {
     "name": "stderr",
     "output_type": "stream",
     "text": [
      "0: 480x640 1 battery_plus, 19.0ms\n",
      "Speed: 4.0ms preprocess, 19.0ms inference, 4.1ms postprocess per image at shape (1, 3, 480, 640)\n",
      "\n",
      "0: 480x640 1 battery_plus, 19.0ms\n",
      "Speed: 4.1ms preprocess, 19.0ms inference, 4.0ms postprocess per image at shape (1, 3, 480, 640)\n",
      "\n",
      "0: 480x640 1 battery_plus, 20.0ms\n",
      "Speed: 3.0ms preprocess, 20.0ms inference, 2.0ms postprocess per image at shape (1, 3, 480, 640)\n",
      "\n"
     ]
    },
    {
     "name": "stdout",
     "output_type": "stream",
     "text": [
      "[[193.17672729492188, 249.1263885498047, 196.6701134575738]]\n",
      "6.621621621621621\n",
      "[[193.126953125, 249.0312957763672, 196.75111841272425]]\n",
      "6.621621621621621\n",
      "[[192.96231079101562, 248.85279846191406, 196.90317168059173]]\n",
      "6.621621621621621\n"
     ]
    },
    {
     "name": "stderr",
     "output_type": "stream",
     "text": [
      "0: 480x640 1 battery_plus, 20.1ms\n",
      "Speed: 2.0ms preprocess, 20.1ms inference, 1.9ms postprocess per image at shape (1, 3, 480, 640)\n",
      "\n",
      "0: 480x640 1 battery_plus, 20.0ms\n",
      "Speed: 2.0ms preprocess, 20.0ms inference, 3.0ms postprocess per image at shape (1, 3, 480, 640)\n",
      "\n",
      "0: 480x640 1 battery_plus, 20.0ms\n",
      "Speed: 2.0ms preprocess, 20.0ms inference, 3.0ms postprocess per image at shape (1, 3, 480, 640)\n",
      "\n"
     ]
    },
    {
     "name": "stdout",
     "output_type": "stream",
     "text": [
      "[[193.08563232421875, 248.89260864257812, 196.8692593044705]]\n",
      "6.621621621621621\n",
      "[[192.9453582763672, 248.83145141601562, 196.92135620117188]]\n",
      "6.621621621621621\n",
      "[[192.96087646484375, 248.86083984375, 196.89632161458334]]\n",
      "6.621621621621621\n"
     ]
    },
    {
     "name": "stderr",
     "output_type": "stream",
     "text": [
      "0: 480x640 1 battery_plus, 19.0ms\n",
      "Speed: 3.0ms preprocess, 19.0ms inference, 3.9ms postprocess per image at shape (1, 3, 480, 640)\n",
      "\n",
      "0: 480x640 1 battery_plus, 20.1ms\n",
      "Speed: 2.0ms preprocess, 20.1ms inference, 3.0ms postprocess per image at shape (1, 3, 480, 640)\n",
      "\n",
      "0: 480x640 1 battery_plus, 20.1ms\n",
      "Speed: 3.0ms preprocess, 20.1ms inference, 3.0ms postprocess per image at shape (1, 3, 480, 640)\n",
      "\n",
      "0: 480x640 1 battery_plus, 20.1ms\n"
     ]
    },
    {
     "name": "stdout",
     "output_type": "stream",
     "text": [
      "[[193.0467071533203, 249.08123779296875, 196.70857521339698]]\n",
      "6.621621621621621\n",
      "[[193.0658416748047, 248.93927001953125, 196.82951072410302]]\n",
      "6.621621621621621\n",
      "[[193.1063232421875, 248.92446899414062, 196.84211900499133]]\n",
      "6.621621621621621\n"
     ]
    },
    {
     "name": "stderr",
     "output_type": "stream",
     "text": [
      "Speed: 1.9ms preprocess, 20.1ms inference, 3.0ms postprocess per image at shape (1, 3, 480, 640)\n",
      "\n",
      "0: 480x640 1 battery_plus, 19.0ms\n",
      "Speed: 4.0ms preprocess, 19.0ms inference, 4.0ms postprocess per image at shape (1, 3, 480, 640)\n",
      "\n",
      "0: 480x640 1 battery_plus, 20.0ms\n",
      "Speed: 3.0ms preprocess, 20.0ms inference, 2.0ms postprocess per image at shape (1, 3, 480, 640)\n",
      "\n"
     ]
    },
    {
     "name": "stdout",
     "output_type": "stream",
     "text": [
      "[[193.183349609375, 248.93447875976562, 196.83359216760707]]\n",
      "6.621621621621621\n",
      "[[192.96507263183594, 249.16598510742188, 196.63638305664062]]\n",
      "6.621621621621621\n",
      "[[193.1269989013672, 248.98207092285156, 196.79305069534868]]\n",
      "6.621621621621621\n"
     ]
    },
    {
     "name": "stderr",
     "output_type": "stream",
     "text": [
      "0: 480x640 1 battery_plus, 20.0ms\n",
      "Speed: 3.0ms preprocess, 20.0ms inference, 3.0ms postprocess per image at shape (1, 3, 480, 640)\n",
      "\n",
      "0: 480x640 1 battery_plus, 20.1ms\n",
      "Speed: 2.9ms preprocess, 20.1ms inference, 3.0ms postprocess per image at shape (1, 3, 480, 640)\n",
      "\n",
      "0: 480x640 1 battery_plus, 20.1ms\n",
      "Speed: 3.0ms preprocess, 20.1ms inference, 2.0ms postprocess per image at shape (1, 3, 480, 640)\n",
      "\n",
      "0: 480x640 1 battery_plus, 20.0ms\n"
     ]
    },
    {
     "name": "stdout",
     "output_type": "stream",
     "text": [
      "[[193.0011749267578, 249.08566284179688, 196.7048057273582]]\n",
      "6.621621621621621\n",
      "[[192.96005249023438, 248.89566040039062, 196.8666596589265]]\n",
      "6.621621621621621\n",
      "[[193.03944396972656, 249.01268005371094, 196.76697625054254]]\n",
      "6.621621621621621\n"
     ]
    },
    {
     "name": "stderr",
     "output_type": "stream",
     "text": [
      "Speed: 3.0ms preprocess, 20.0ms inference, 3.0ms postprocess per image at shape (1, 3, 480, 640)\n",
      "\n",
      "0: 480x640 1 battery_plus, 19.0ms\n",
      "Speed: 3.0ms preprocess, 19.0ms inference, 3.0ms postprocess per image at shape (1, 3, 480, 640)\n",
      "\n",
      "0: 480x640 1 battery_plus, 20.1ms\n",
      "Speed: 3.0ms preprocess, 20.1ms inference, 3.0ms postprocess per image at shape (1, 3, 480, 640)\n",
      "\n"
     ]
    },
    {
     "name": "stdout",
     "output_type": "stream",
     "text": [
      "[[192.93922424316406, 249.18692016601562, 196.6185494882089]]\n",
      "6.621621621621621\n",
      "[[193.07058715820312, 248.91612243652344, 196.84922903555412]]\n",
      "6.621621621621621\n",
      "[[192.89793395996094, 248.91207885742188, 196.8526735658999]]\n",
      "6.621621621621621\n"
     ]
    },
    {
     "name": "stderr",
     "output_type": "stream",
     "text": [
      "0: 480x640 1 battery_plus, 20.0ms\n",
      "Speed: 3.0ms preprocess, 20.0ms inference, 4.0ms postprocess per image at shape (1, 3, 480, 640)\n",
      "\n",
      "0: 480x640 1 battery_plus, 19.1ms\n",
      "Speed: 3.0ms preprocess, 19.1ms inference, 2.9ms postprocess per image at shape (1, 3, 480, 640)\n",
      "\n",
      "0: 480x640 1 battery_plus, 20.0ms\n",
      "Speed: 3.0ms preprocess, 20.0ms inference, 3.9ms postprocess per image at shape (1, 3, 480, 640)\n",
      "\n"
     ]
    },
    {
     "name": "stdout",
     "output_type": "stream",
     "text": [
      "[[193.09085083007812, 249.02847290039062, 196.75352308485245]]\n",
      "6.621621621621621\n",
      "[[192.94879150390625, 249.02638244628906, 196.75530384205007]]\n",
      "6.621621621621621\n",
      "[[193.00225830078125, 249.19760131835938, 196.60945072880497]]\n",
      "6.621621621621621\n"
     ]
    },
    {
     "name": "stderr",
     "output_type": "stream",
     "text": [
      "0: 480x640 1 battery_plus, 20.0ms\n",
      "Speed: 3.0ms preprocess, 20.0ms inference, 3.9ms postprocess per image at shape (1, 3, 480, 640)\n",
      "\n",
      "0: 480x640 1 battery_plus, 20.0ms\n",
      "Speed: 2.0ms preprocess, 20.0ms inference, 3.0ms postprocess per image at shape (1, 3, 480, 640)\n",
      "\n",
      "0: 480x640 1 battery_plus, 19.0ms\n",
      "Speed: 3.1ms preprocess, 19.0ms inference, 3.9ms postprocess per image at shape (1, 3, 480, 640)\n",
      "\n"
     ]
    },
    {
     "name": "stdout",
     "output_type": "stream",
     "text": [
      "[[193.104736328125, 248.9480438232422, 196.82203674316406]]\n",
      "6.621621621621621\n",
      "[[193.0695037841797, 249.03298950195312, 196.74967560944734]]\n",
      "6.621621621621621\n",
      "[[193.05325317382812, 248.82687377929688, 196.92525566948785]]\n",
      "6.621621621621621\n"
     ]
    },
    {
     "name": "stderr",
     "output_type": "stream",
     "text": [
      "0: 480x640 1 battery_plus, 20.0ms\n",
      "Speed: 2.0ms preprocess, 20.0ms inference, 4.1ms postprocess per image at shape (1, 3, 480, 640)\n",
      "\n",
      "0: 480x640 1 battery_plus, 20.1ms\n",
      "Speed: 2.0ms preprocess, 20.1ms inference, 3.0ms postprocess per image at shape (1, 3, 480, 640)\n",
      "\n",
      "0: 480x640 1 battery_plus, 20.1ms\n",
      "Speed: 3.0ms preprocess, 20.1ms inference, 4.0ms postprocess per image at shape (1, 3, 480, 640)\n",
      "\n"
     ]
    },
    {
     "name": "stdout",
     "output_type": "stream",
     "text": [
      "[[193.1323699951172, 249.053466796875, 196.73223198784723]]\n",
      "6.621621621621621\n",
      "[[193.17904663085938, 248.91787719726562, 196.84773423936633]]\n",
      "6.621621621621621\n",
      "[[193.09207153320312, 249.08843994140625, 196.7024400499132]]\n",
      "6.621621621621621\n"
     ]
    },
    {
     "name": "stderr",
     "output_type": "stream",
     "text": [
      "0: 480x640 1 battery_plus, 20.0ms\n",
      "Speed: 3.0ms preprocess, 20.0ms inference, 4.0ms postprocess per image at shape (1, 3, 480, 640)\n",
      "\n",
      "0: 480x640 1 battery_plus, 20.0ms\n",
      "Speed: 3.0ms preprocess, 20.0ms inference, 3.0ms postprocess per image at shape (1, 3, 480, 640)\n",
      "\n",
      "0: 480x640 1 battery_plus, 20.0ms\n",
      "Speed: 3.0ms preprocess, 20.0ms inference, 3.0ms postprocess per image at shape (1, 3, 480, 640)\n",
      "\n"
     ]
    },
    {
     "name": "stdout",
     "output_type": "stream",
     "text": [
      "[[193.13937377929688, 248.79934692382812, 196.94870447229457]]\n",
      "6.621621621621621\n",
      "[[193.06643676757812, 248.99240112304688, 196.78425089518228]]\n",
      "6.621621621621621\n",
      "[[193.15528869628906, 249.21878051757812, 196.59140918872976]]\n",
      "6.621621621621621\n"
     ]
    },
    {
     "name": "stderr",
     "output_type": "stream",
     "text": [
      "0: 480x640 1 battery_plus, 20.0ms\n",
      "Speed: 2.0ms preprocess, 20.0ms inference, 4.0ms postprocess per image at shape (1, 3, 480, 640)\n",
      "\n",
      "0: 480x640 1 battery_plus, 20.0ms\n",
      "Speed: 3.0ms preprocess, 20.0ms inference, 2.0ms postprocess per image at shape (1, 3, 480, 640)\n",
      "\n",
      "0: 480x640 1 battery_plus, 20.0ms\n",
      "Speed: 2.0ms preprocess, 20.0ms inference, 3.9ms postprocess per image at shape (1, 3, 480, 640)\n",
      "\n",
      "0: 480x640 1 battery_plus, 20.1ms\n"
     ]
    },
    {
     "name": "stdout",
     "output_type": "stream",
     "text": [
      "[[193.1016845703125, 248.95858764648438, 196.81305496780962]]\n",
      "6.621621621621621\n",
      "[[193.1734619140625, 249.06089782714844, 196.72590185094762]]\n",
      "6.621621621621621\n",
      "[[193.0010223388672, 249.14794921875, 196.65174696180557]]\n",
      "6.621621621621621\n"
     ]
    },
    {
     "name": "stderr",
     "output_type": "stream",
     "text": [
      "Speed: 2.0ms preprocess, 20.1ms inference, 3.9ms postprocess per image at shape (1, 3, 480, 640)\n",
      "\n",
      "0: 480x640 1 battery_plus, 20.1ms\n",
      "Speed: 2.9ms preprocess, 20.1ms inference, 3.0ms postprocess per image at shape (1, 3, 480, 640)\n",
      "\n",
      "0: 480x640 1 battery_plus, 20.0ms\n",
      "Speed: 3.0ms preprocess, 20.0ms inference, 3.0ms postprocess per image at shape (1, 3, 480, 640)\n",
      "\n"
     ]
    },
    {
     "name": "stdout",
     "output_type": "stream",
     "text": [
      "[[193.0325164794922, 248.87564086914062, 196.88371333369503]]\n",
      "6.621621621621621\n",
      "[[193.3048858642578, 248.95855712890625, 196.81308096426505]]\n",
      "6.621621621621621\n",
      "[[192.97552490234375, 248.85411071777344, 196.9020538330078]]\n",
      "6.621621621621621\n"
     ]
    },
    {
     "name": "stderr",
     "output_type": "stream",
     "text": [
      "0: 480x640 1 battery_plus, 20.1ms\n",
      "Speed: 2.9ms preprocess, 20.1ms inference, 3.0ms postprocess per image at shape (1, 3, 480, 640)\n",
      "\n",
      "0: 480x640 1 battery_plus, 20.1ms\n",
      "Speed: 2.9ms preprocess, 20.1ms inference, 3.0ms postprocess per image at shape (1, 3, 480, 640)\n",
      "\n",
      "0: 480x640 1 battery_plus, 20.1ms\n",
      "Speed: 2.0ms preprocess, 20.1ms inference, 2.0ms postprocess per image at shape (1, 3, 480, 640)\n",
      "\n"
     ]
    },
    {
     "name": "stdout",
     "output_type": "stream",
     "text": [
      "[[193.21450805664062, 248.9130096435547, 196.85188067400898]]\n",
      "6.621621621621621\n",
      "[[193.06272888183594, 249.01708984375, 196.7632197627315]]\n",
      "6.621621621621621\n",
      "[[193.03225708007812, 249.00823974609375, 196.77075873480902]]\n",
      "6.621621621621621\n"
     ]
    },
    {
     "name": "stderr",
     "output_type": "stream",
     "text": [
      "0: 480x640 1 battery_plus, 19.1ms\n",
      "Speed: 3.0ms preprocess, 19.1ms inference, 3.0ms postprocess per image at shape (1, 3, 480, 640)\n",
      "\n",
      "0: 480x640 1 battery_plus, 20.0ms\n",
      "Speed: 2.0ms preprocess, 20.0ms inference, 3.0ms postprocess per image at shape (1, 3, 480, 640)\n",
      "\n",
      "0: 480x640 1 battery_plus, 20.1ms\n",
      "Speed: 2.0ms preprocess, 20.1ms inference, 2.9ms postprocess per image at shape (1, 3, 480, 640)\n",
      "\n"
     ]
    },
    {
     "name": "stdout",
     "output_type": "stream",
     "text": [
      "[[193.03118896484375, 249.02413940429688, 196.7572145815249]]\n",
      "6.621621621621621\n",
      "[[193.12298583984375, 248.99192810058594, 196.78465384024162]]\n",
      "6.621621621621621\n",
      "[[192.98736572265625, 248.95724487304688, 196.81419881184897]]\n",
      "6.621621621621621\n"
     ]
    },
    {
     "name": "stderr",
     "output_type": "stream",
     "text": [
      "0: 480x640 1 battery_plus, 20.0ms\n",
      "Speed: 3.0ms preprocess, 20.0ms inference, 3.0ms postprocess per image at shape (1, 3, 480, 640)\n",
      "\n",
      "0: 480x640 1 battery_plus, 20.0ms\n",
      "Speed: 2.9ms preprocess, 20.0ms inference, 3.1ms postprocess per image at shape (1, 3, 480, 640)\n",
      "\n",
      "0: 480x640 1 battery_plus, 20.0ms\n",
      "Speed: 1.9ms preprocess, 20.0ms inference, 3.0ms postprocess per image at shape (1, 3, 480, 640)\n",
      "\n"
     ]
    },
    {
     "name": "stdout",
     "output_type": "stream",
     "text": [
      "[[193.15847778320312, 249.19015502929688, 196.61579386393228]]\n",
      "6.621621621621621\n",
      "[[193.23681640625, 249.1396484375, 196.6588179976852]]\n",
      "6.621621621621621\n",
      "[[193.05015563964844, 249.0377197265625, 196.74564615885416]]\n",
      "6.621621621621621\n"
     ]
    },
    {
     "name": "stderr",
     "output_type": "stream",
     "text": [
      "0: 480x640 1 battery_plus, 20.0ms\n",
      "Speed: 3.0ms preprocess, 20.0ms inference, 1.6ms postprocess per image at shape (1, 3, 480, 640)\n",
      "\n",
      "0: 480x640 1 battery_plus, 20.0ms\n",
      "Speed: 2.0ms preprocess, 20.0ms inference, 4.0ms postprocess per image at shape (1, 3, 480, 640)\n",
      "\n",
      "0: 480x640 1 battery_plus, 20.0ms\n",
      "Speed: 2.0ms preprocess, 20.0ms inference, 2.0ms postprocess per image at shape (1, 3, 480, 640)\n",
      "\n",
      "0: 480x640 1 battery_plus, 20.0ms\n"
     ]
    },
    {
     "name": "stdout",
     "output_type": "stream",
     "text": [
      "[[193.06378173828125, 248.84909057617188, 196.90633024992766]]\n",
      "6.621621621621621\n",
      "[[193.0255126953125, 249.0087890625, 196.77029079861111]]\n",
      "6.621621621621621\n",
      "[[192.9535675048828, 248.89520263671875, 196.8670496057581]]\n",
      "6.621621621621621\n"
     ]
    },
    {
     "name": "stderr",
     "output_type": "stream",
     "text": [
      "Speed: 3.0ms preprocess, 20.0ms inference, 4.0ms postprocess per image at shape (1, 3, 480, 640)\n",
      "\n",
      "0: 480x640 1 battery_plus, 20.1ms\n",
      "Speed: 3.0ms preprocess, 20.1ms inference, 2.9ms postprocess per image at shape (1, 3, 480, 640)\n",
      "\n",
      "0: 480x640 1 battery_plus, 20.1ms\n",
      "Speed: 2.9ms preprocess, 20.1ms inference, 4.0ms postprocess per image at shape (1, 3, 480, 640)\n",
      "\n"
     ]
    },
    {
     "name": "stdout",
     "output_type": "stream",
     "text": [
      "[[193.10186767578125, 249.1314697265625, 196.66578504774307]]\n",
      "6.621621621621621\n",
      "[[193.06033325195312, 249.04408264160156, 196.74022589789496]]\n",
      "6.621621621621621\n",
      "[[192.99612426757812, 248.9058837890625, 196.85795084635416]]\n",
      "6.621621621621621\n"
     ]
    },
    {
     "name": "stderr",
     "output_type": "stream",
     "text": [
      "0: 480x640 1 battery_plus, 20.1ms\n",
      "Speed: 3.0ms preprocess, 20.1ms inference, 4.0ms postprocess per image at shape (1, 3, 480, 640)\n",
      "\n",
      "0: 480x640 1 battery_plus, 20.1ms\n",
      "Speed: 1.9ms preprocess, 20.1ms inference, 3.0ms postprocess per image at shape (1, 3, 480, 640)\n",
      "\n",
      "0: 480x640 1 battery_plus, 20.0ms\n",
      "Speed: 2.0ms preprocess, 20.0ms inference, 4.0ms postprocess per image at shape (1, 3, 480, 640)\n",
      "\n"
     ]
    },
    {
     "name": "stdout",
     "output_type": "stream",
     "text": [
      "[[193.11959838867188, 248.98480224609375, 196.79072401258682]]\n",
      "6.621621621621621\n",
      "[[193.249755859375, 248.97402954101562, 196.79990076135707]]\n",
      "6.621621621621621\n",
      "[[193.12521362304688, 249.0277099609375, 196.75417299623842]]\n",
      "6.621621621621621\n"
     ]
    },
    {
     "name": "stderr",
     "output_type": "stream",
     "text": [
      "0: 480x640 1 battery_plus, 20.1ms\n",
      "Speed: 3.0ms preprocess, 20.1ms inference, 3.0ms postprocess per image at shape (1, 3, 480, 640)\n",
      "\n",
      "0: 480x640 1 battery_plus, 19.9ms\n",
      "Speed: 2.0ms preprocess, 19.9ms inference, 2.0ms postprocess per image at shape (1, 3, 480, 640)\n",
      "\n",
      "0: 480x640 1 battery_plus, 19.1ms\n",
      "Speed: 3.0ms preprocess, 19.1ms inference, 2.0ms postprocess per image at shape (1, 3, 480, 640)\n",
      "\n"
     ]
    },
    {
     "name": "stdout",
     "output_type": "stream",
     "text": [
      "[[193.09033203125, 249.032958984375, 196.74970160590277]]\n",
      "6.621621621621621\n",
      "[[193.11773681640625, 249.04974365234375, 196.73540355541087]]\n",
      "6.621621621621621\n",
      "[[192.91822814941406, 249.12530517578125, 196.6710363317419]]\n",
      "6.621621621621621\n"
     ]
    },
    {
     "name": "stderr",
     "output_type": "stream",
     "text": [
      "0: 480x640 1 battery_plus, 20.1ms\n",
      "Speed: 2.9ms preprocess, 20.1ms inference, 2.9ms postprocess per image at shape (1, 3, 480, 640)\n",
      "\n",
      "0: 480x640 1 battery_plus, 19.0ms\n",
      "Speed: 4.0ms preprocess, 19.0ms inference, 3.0ms postprocess per image at shape (1, 3, 480, 640)\n",
      "\n",
      "0: 480x640 1 battery_plus, 19.0ms\n",
      "Speed: 3.0ms preprocess, 19.0ms inference, 5.0ms postprocess per image at shape (1, 3, 480, 640)\n",
      "\n",
      "0: 480x640 1 battery_plus, 20.0ms\n"
     ]
    },
    {
     "name": "stdout",
     "output_type": "stream",
     "text": [
      "[[192.9023895263672, 249.0609893798828, 196.72582386158132]]\n",
      "6.621621621621621\n",
      "[[193.07220458984375, 249.05291748046875, 196.73269992404514]]\n",
      "6.621621621621621\n",
      "[[192.98512268066406, 248.89010620117188, 196.87139101381655]]\n",
      "6.621621621621621\n"
     ]
    },
    {
     "name": "stderr",
     "output_type": "stream",
     "text": [
      "Speed: 3.0ms preprocess, 20.0ms inference, 4.0ms postprocess per image at shape (1, 3, 480, 640)\n",
      "\n",
      "0: 480x640 1 battery_plus, 20.1ms\n",
      "Speed: 1.9ms preprocess, 20.1ms inference, 3.0ms postprocess per image at shape (1, 3, 480, 640)\n",
      "\n",
      "0: 480x640 1 battery_plus, 19.1ms\n",
      "Speed: 3.0ms preprocess, 19.1ms inference, 2.9ms postprocess per image at shape (1, 3, 480, 640)\n",
      "\n"
     ]
    },
    {
     "name": "stdout",
     "output_type": "stream",
     "text": [
      "[[193.09072875976562, 249.13238525390625, 196.66500515407986]]\n",
      "6.621621621621621\n",
      "[[193.11099243164062, 249.0645751953125, 196.72276927806712]]\n",
      "6.621621621621621\n",
      "[[193.0506134033203, 249.00424194335938, 196.77416427047166]]\n",
      "6.621621621621621\n"
     ]
    },
    {
     "name": "stderr",
     "output_type": "stream",
     "text": [
      "0: 480x640 1 battery_plus, 19.1ms\n",
      "Speed: 3.0ms preprocess, 19.1ms inference, 4.0ms postprocess per image at shape (1, 3, 480, 640)\n",
      "\n",
      "0: 480x640 1 battery_plus, 20.0ms\n",
      "Speed: 2.0ms preprocess, 20.0ms inference, 4.0ms postprocess per image at shape (1, 3, 480, 640)\n",
      "\n",
      "0: 480x640 1 battery_plus, 20.0ms\n",
      "Speed: 2.0ms preprocess, 20.0ms inference, 4.0ms postprocess per image at shape (1, 3, 480, 640)\n",
      "\n",
      "0: 480x640 1 battery_plus, 20.1ms\n"
     ]
    },
    {
     "name": "stdout",
     "output_type": "stream",
     "text": [
      "[[193.1512451171875, 249.0083770751953, 196.77064175075955]]\n",
      "6.621621621621621\n",
      "[[193.17877197265625, 248.9066162109375, 196.85732693142361]]\n",
      "6.621621621621621\n",
      "[[193.09274291992188, 248.98709106445312, 196.78877427842883]]\n",
      "6.621621621621621\n"
     ]
    },
    {
     "name": "stderr",
     "output_type": "stream",
     "text": [
      "Speed: 3.0ms preprocess, 20.1ms inference, 3.0ms postprocess per image at shape (1, 3, 480, 640)\n",
      "\n",
      "0: 480x640 1 battery_plus, 20.1ms\n",
      "Speed: 4.0ms preprocess, 20.1ms inference, 3.0ms postprocess per image at shape (1, 3, 480, 640)\n",
      "\n",
      "0: 480x640 1 battery_plus, 20.0ms\n",
      "Speed: 3.0ms preprocess, 20.0ms inference, 4.0ms postprocess per image at shape (1, 3, 480, 640)\n",
      "\n"
     ]
    },
    {
     "name": "stdout",
     "output_type": "stream",
     "text": [
      "[[193.18902587890625, 249.03662109375, 196.74658203125]]\n",
      "6.621621621621621\n",
      "[[193.01541137695312, 248.94427490234375, 196.82524730541087]]\n",
      "6.621621621621621\n",
      "[[193.21902465820312, 249.04019165039062, 196.74354044596353]]\n",
      "6.621621621621621\n"
     ]
    },
    {
     "name": "stderr",
     "output_type": "stream",
     "text": [
      "0: 480x640 1 battery_plus, 19.0ms\n",
      "Speed: 4.0ms preprocess, 19.0ms inference, 3.0ms postprocess per image at shape (1, 3, 480, 640)\n",
      "\n",
      "0: 480x640 1 battery_plus, 20.0ms\n",
      "Speed: 2.0ms preprocess, 20.0ms inference, 3.0ms postprocess per image at shape (1, 3, 480, 640)\n",
      "\n",
      "0: 480x640 1 battery_plus, 20.0ms\n",
      "Speed: 2.0ms preprocess, 20.0ms inference, 4.0ms postprocess per image at shape (1, 3, 480, 640)\n",
      "\n"
     ]
    },
    {
     "name": "stdout",
     "output_type": "stream",
     "text": [
      "[[193.09417724609375, 249.08242797851562, 196.70756135163484]]\n",
      "6.621621621621621\n",
      "[[193.10948181152344, 249.08444213867188, 196.70584558557582]]\n",
      "6.621621621621621\n",
      "[[193.13351440429688, 249.17233276367188, 196.63097579390916]]\n",
      "6.621621621621621\n"
     ]
    },
    {
     "name": "stderr",
     "output_type": "stream",
     "text": [
      "0: 480x640 1 battery_plus, 20.0ms\n",
      "Speed: 3.0ms preprocess, 20.0ms inference, 5.0ms postprocess per image at shape (1, 3, 480, 640)\n",
      "\n",
      "0: 480x640 1 battery_plus, 20.0ms\n",
      "Speed: 3.0ms preprocess, 20.0ms inference, 2.0ms postprocess per image at shape (1, 3, 480, 640)\n",
      "\n",
      "0: 480x640 1 battery_plus, 20.0ms\n",
      "Speed: 2.0ms preprocess, 20.0ms inference, 2.0ms postprocess per image at shape (1, 3, 480, 640)\n",
      "\n"
     ]
    },
    {
     "name": "stdout",
     "output_type": "stream",
     "text": [
      "[[193.07363891601562, 249.07424926757812, 196.71452840169272]]\n",
      "6.621621621621621\n",
      "[[193.0366668701172, 249.06475830078125, 196.72261329933448]]\n",
      "6.621621621621621\n",
      "[[192.99269104003906, 249.00656127929688, 196.7721885398582]]\n",
      "6.621621621621621\n"
     ]
    },
    {
     "name": "stderr",
     "output_type": "stream",
     "text": [
      "0: 480x640 1 battery_plus, 19.0ms\n",
      "Speed: 2.0ms preprocess, 19.0ms inference, 3.0ms postprocess per image at shape (1, 3, 480, 640)\n",
      "\n",
      "0: 480x640 1 battery_plus, 20.1ms\n",
      "Speed: 2.0ms preprocess, 20.1ms inference, 3.0ms postprocess per image at shape (1, 3, 480, 640)\n",
      "\n",
      "0: 480x640 1 battery_plus, 20.0ms\n",
      "Speed: 4.0ms preprocess, 20.0ms inference, 3.0ms postprocess per image at shape (1, 3, 480, 640)\n",
      "\n"
     ]
    },
    {
     "name": "stdout",
     "output_type": "stream",
     "text": [
      "[[193.1634521484375, 249.00511169433594, 196.77342337149162]]\n",
      "6.621621621621621\n",
      "[[193.06842041015625, 248.85850524902344, 196.89831034342447]]\n",
      "6.621621621621621\n",
      "[[193.0167236328125, 248.93075561523438, 196.8367637351707]]\n",
      "6.621621621621621\n"
     ]
    },
    {
     "name": "stderr",
     "output_type": "stream",
     "text": [
      "0: 480x640 1 battery_plus, 19.0ms\n",
      "Speed: 3.9ms preprocess, 19.0ms inference, 4.0ms postprocess per image at shape (1, 3, 480, 640)\n",
      "\n",
      "0: 480x640 1 battery_plus, 20.1ms\n",
      "Speed: 3.0ms preprocess, 20.1ms inference, 4.0ms postprocess per image at shape (1, 3, 480, 640)\n",
      "\n",
      "0: 480x640 1 battery_plus, 19.1ms\n",
      "Speed: 3.0ms preprocess, 19.1ms inference, 3.0ms postprocess per image at shape (1, 3, 480, 640)\n",
      "\n"
     ]
    },
    {
     "name": "stdout",
     "output_type": "stream",
     "text": [
      "[[192.957275390625, 249.0504608154297, 196.73479263870806]]\n",
      "6.621621621621621\n",
      "[[192.9665069580078, 249.02597045898438, 196.7556547941985]]\n",
      "6.621621621621621\n",
      "[[192.97171020507812, 248.93673706054688, 196.8316684299045]]\n",
      "6.621621621621621\n"
     ]
    },
    {
     "name": "stderr",
     "output_type": "stream",
     "text": [
      "0: 480x640 1 battery_plus, 20.1ms\n",
      "Speed: 2.0ms preprocess, 20.1ms inference, 2.9ms postprocess per image at shape (1, 3, 480, 640)\n",
      "\n",
      "0: 480x640 1 battery_plus, 20.1ms\n",
      "Speed: 2.0ms preprocess, 20.1ms inference, 3.0ms postprocess per image at shape (1, 3, 480, 640)\n",
      "\n",
      "0: 480x640 1 battery_plus, 20.1ms\n",
      "Speed: 3.0ms preprocess, 20.1ms inference, 3.0ms postprocess per image at shape (1, 3, 480, 640)\n",
      "\n",
      "0: 480x640 1 battery_plus, 20.0ms\n"
     ]
    },
    {
     "name": "stdout",
     "output_type": "stream",
     "text": [
      "[[193.0035400390625, 248.9972686767578, 196.78010446053963]]\n",
      "6.621621621621621\n",
      "[[192.80458068847656, 249.01187133789062, 196.76766515661168]]\n",
      "6.621621621621621\n",
      "[[192.98785400390625, 249.07872009277344, 196.71071992097077]]\n",
      "6.621621621621621\n"
     ]
    },
    {
     "name": "stderr",
     "output_type": "stream",
     "text": [
      "Speed: 3.0ms preprocess, 20.0ms inference, 4.0ms postprocess per image at shape (1, 3, 480, 640)\n",
      "\n",
      "0: 480x640 1 battery_plus, 20.1ms\n",
      "Speed: 2.9ms preprocess, 20.1ms inference, 3.9ms postprocess per image at shape (1, 3, 480, 640)\n",
      "\n",
      "0: 480x640 1 battery_plus, 20.0ms\n",
      "Speed: 3.0ms preprocess, 20.0ms inference, 3.0ms postprocess per image at shape (1, 3, 480, 640)\n",
      "\n",
      "0: 480x640 1 battery_plus, 20.1ms\n"
     ]
    },
    {
     "name": "stdout",
     "output_type": "stream",
     "text": [
      "[[193.0404052734375, 248.970703125, 196.802734375]]\n",
      "6.621621621621621\n",
      "[[192.96182250976562, 249.01507568359375, 196.76493552879052]]\n",
      "6.621621621621621\n",
      "[[192.97854614257812, 248.98382568359375, 196.79155589916087]]\n",
      "6.621621621621621\n"
     ]
    },
    {
     "name": "stderr",
     "output_type": "stream",
     "text": [
      "Speed: 2.9ms preprocess, 20.1ms inference, 4.0ms postprocess per image at shape (1, 3, 480, 640)\n",
      "\n",
      "0: 480x640 1 battery_plus, 20.1ms\n",
      "Speed: 2.0ms preprocess, 20.1ms inference, 3.0ms postprocess per image at shape (1, 3, 480, 640)\n",
      "\n",
      "0: 480x640 1 battery_plus, 20.1ms\n",
      "Speed: 2.0ms preprocess, 20.1ms inference, 3.9ms postprocess per image at shape (1, 3, 480, 640)\n",
      "\n"
     ]
    },
    {
     "name": "stdout",
     "output_type": "stream",
     "text": [
      "[[193.12132263183594, 248.85821533203125, 196.89855730975117]]\n",
      "6.621621621621621\n",
      "[[193.1025390625, 249.07168579101562, 196.71671210394965]]\n",
      "6.621621621621621\n",
      "[[193.0598907470703, 249.0791015625, 196.71039496527777]]\n",
      "6.621621621621621\n"
     ]
    },
    {
     "name": "stderr",
     "output_type": "stream",
     "text": [
      "0: 480x640 1 battery_plus, 20.0ms\n",
      "Speed: 3.0ms preprocess, 20.0ms inference, 3.0ms postprocess per image at shape (1, 3, 480, 640)\n",
      "\n",
      "0: 480x640 1 battery_plus, 20.0ms\n",
      "Speed: 3.0ms preprocess, 20.0ms inference, 3.1ms postprocess per image at shape (1, 3, 480, 640)\n",
      "\n",
      "0: 480x640 1 battery_plus, 19.0ms\n",
      "Speed: 2.9ms preprocess, 19.0ms inference, 4.0ms postprocess per image at shape (1, 3, 480, 640)\n",
      "\n"
     ]
    },
    {
     "name": "stdout",
     "output_type": "stream",
     "text": [
      "[[193.06472778320312, 249.05691528320312, 196.72929438838253]]\n",
      "6.621621621621621\n",
      "[[193.06581115722656, 249.04196166992188, 196.74203265154804]]\n",
      "6.621621621621621\n",
      "[[192.95225524902344, 249.048095703125, 196.73680736400462]]\n",
      "6.621621621621621\n"
     ]
    },
    {
     "name": "stderr",
     "output_type": "stream",
     "text": [
      "0: 480x640 1 battery_plus, 19.1ms\n",
      "Speed: 3.0ms preprocess, 19.1ms inference, 3.0ms postprocess per image at shape (1, 3, 480, 640)\n",
      "\n",
      "0: 480x640 1 battery_plus, 19.0ms\n",
      "Speed: 4.0ms preprocess, 19.0ms inference, 3.0ms postprocess per image at shape (1, 3, 480, 640)\n",
      "\n",
      "0: 480x640 1 battery_plus, 19.0ms\n",
      "Speed: 2.0ms preprocess, 19.0ms inference, 3.0ms postprocess per image at shape (1, 3, 480, 640)\n",
      "\n"
     ]
    },
    {
     "name": "stdout",
     "output_type": "stream",
     "text": [
      "[[193.07290649414062, 249.03817749023438, 196.74525621202258]]\n",
      "6.621621621621621\n",
      "[[193.1054229736328, 249.14208984375, 196.65673828125]]\n",
      "6.621621621621621\n",
      "[[193.10910034179688, 248.97293090820312, 196.8008366337529]]\n",
      "6.621621621621621\n"
     ]
    },
    {
     "name": "stderr",
     "output_type": "stream",
     "text": [
      "0: 480x640 1 battery_plus, 20.1ms\n",
      "Speed: 2.9ms preprocess, 20.1ms inference, 3.0ms postprocess per image at shape (1, 3, 480, 640)\n",
      "\n",
      "0: 480x640 1 battery_plus, 20.0ms\n",
      "Speed: 3.0ms preprocess, 20.0ms inference, 3.0ms postprocess per image at shape (1, 3, 480, 640)\n",
      "\n",
      "0: 480x640 1 battery_plus, 20.1ms\n",
      "Speed: 2.0ms preprocess, 20.1ms inference, 2.9ms postprocess per image at shape (1, 3, 480, 640)\n",
      "\n"
     ]
    },
    {
     "name": "stdout",
     "output_type": "stream",
     "text": [
      "[[193.04185485839844, 248.96551513671875, 196.80715377242478]]\n",
      "6.621621621621621\n",
      "[[193.13787841796875, 249.0864715576172, 196.70411682128906]]\n",
      "6.621621621621621\n",
      "[[192.9427947998047, 249.1671142578125, 196.63542118778935]]\n",
      "6.621621621621621\n"
     ]
    },
    {
     "name": "stderr",
     "output_type": "stream",
     "text": [
      "0: 480x640 1 battery_plus, 20.0ms\n",
      "Speed: 3.0ms preprocess, 20.0ms inference, 3.0ms postprocess per image at shape (1, 3, 480, 640)\n",
      "\n",
      "0: 480x640 1 battery_plus, 20.1ms\n",
      "Speed: 3.0ms preprocess, 20.1ms inference, 3.0ms postprocess per image at shape (1, 3, 480, 640)\n",
      "\n",
      "0: 480x640 1 battery_plus, 19.8ms\n",
      "Speed: 3.0ms preprocess, 19.8ms inference, 4.0ms postprocess per image at shape (1, 3, 480, 640)\n",
      "\n",
      "0: 480x640 1 battery_plus, 19.0ms\n"
     ]
    },
    {
     "name": "stdout",
     "output_type": "stream",
     "text": [
      "[[193.0125732421875, 248.98304748535156, 196.7922188087746]]\n",
      "6.621621621621621\n",
      "[[193.28335571289062, 248.990966796875, 196.78547272858796]]\n",
      "6.621621621621621\n",
      "[[193.1393280029297, 248.97262573242188, 196.80109659830728]]\n",
      "6.621621621621621\n"
     ]
    },
    {
     "name": "stderr",
     "output_type": "stream",
     "text": [
      "Speed: 3.0ms preprocess, 19.0ms inference, 3.0ms postprocess per image at shape (1, 3, 480, 640)\n",
      "\n",
      "0: 480x640 1 battery_plus, 20.0ms\n",
      "Speed: 3.0ms preprocess, 20.0ms inference, 2.0ms postprocess per image at shape (1, 3, 480, 640)\n",
      "\n",
      "0: 480x640 1 battery_plus, 20.0ms\n",
      "Speed: 2.9ms preprocess, 20.0ms inference, 4.0ms postprocess per image at shape (1, 3, 480, 640)\n",
      "\n"
     ]
    },
    {
     "name": "stdout",
     "output_type": "stream",
     "text": [
      "[[193.07275390625, 248.97064208984375, 196.80278636791087]]\n",
      "6.621621621621621\n",
      "[[193.11285400390625, 249.1068115234375, 196.68679018373842]]\n",
      "6.621621621621621\n",
      "[[192.866455078125, 249.0810546875, 196.70873119212962]]\n",
      "6.621621621621621\n"
     ]
    },
    {
     "name": "stderr",
     "output_type": "stream",
     "text": [
      "0: 480x640 1 battery_plus, 20.0ms\n",
      "Speed: 2.0ms preprocess, 20.0ms inference, 4.0ms postprocess per image at shape (1, 3, 480, 640)\n",
      "\n",
      "0: 480x640 1 battery_plus, 19.0ms\n",
      "Speed: 2.0ms preprocess, 19.0ms inference, 3.0ms postprocess per image at shape (1, 3, 480, 640)\n",
      "\n",
      "0: 480x640 1 battery_plus, 19.7ms\n",
      "Speed: 2.0ms preprocess, 19.7ms inference, 4.1ms postprocess per image at shape (1, 3, 480, 640)\n",
      "\n"
     ]
    },
    {
     "name": "stdout",
     "output_type": "stream",
     "text": [
      "[[193.015869140625, 249.10092163085938, 196.69180749963832]]\n",
      "6.621621621621621\n",
      "[[193.06793212890625, 249.0653839111328, 196.72208037199798]]\n",
      "6.621621621621621\n",
      "[[193.00552368164062, 248.97789001464844, 196.79661220974393]]\n",
      "6.621621621621621\n"
     ]
    },
    {
     "name": "stderr",
     "output_type": "stream",
     "text": [
      "0: 480x640 1 battery_plus, 19.8ms\n",
      "Speed: 3.0ms preprocess, 19.8ms inference, 3.0ms postprocess per image at shape (1, 3, 480, 640)\n",
      "\n",
      "0: 480x640 1 battery_plus, 20.0ms\n",
      "Speed: 3.0ms preprocess, 20.0ms inference, 4.0ms postprocess per image at shape (1, 3, 480, 640)\n",
      "\n",
      "0: 480x640 1 battery_plus, 20.0ms\n",
      "Speed: 3.0ms preprocess, 20.0ms inference, 4.0ms postprocess per image at shape (1, 3, 480, 640)\n",
      "\n"
     ]
    },
    {
     "name": "stdout",
     "output_type": "stream",
     "text": [
      "[[193.2099609375, 249.04751586914062, 196.737301296658]]\n",
      "6.621621621621621\n",
      "[[193.09381103515625, 249.034423828125, 196.74845377604166]]\n",
      "6.621621621621621\n",
      "[[192.99075317382812, 249.09271240234375, 196.69880054615163]]\n",
      "6.621621621621621\n"
     ]
    },
    {
     "name": "stderr",
     "output_type": "stream",
     "text": [
      "0: 480x640 1 battery_plus, 20.0ms\n",
      "Speed: 3.0ms preprocess, 20.0ms inference, 3.0ms postprocess per image at shape (1, 3, 480, 640)\n",
      "\n",
      "0: 480x640 1 battery_plus, 20.0ms\n",
      "Speed: 3.0ms preprocess, 20.0ms inference, 3.0ms postprocess per image at shape (1, 3, 480, 640)\n",
      "\n",
      "0: 480x640 1 battery_plus, 20.0ms\n",
      "Speed: 2.0ms preprocess, 20.0ms inference, 4.0ms postprocess per image at shape (1, 3, 480, 640)\n",
      "\n"
     ]
    },
    {
     "name": "stdout",
     "output_type": "stream",
     "text": [
      "[[193.19378662109375, 249.13983154296875, 196.65866201895255]]\n",
      "6.621621621621621\n",
      "[[193.15069580078125, 249.13055419921875, 196.66656494140625]]\n",
      "6.621621621621621\n",
      "[[192.98922729492188, 249.20016479492188, 196.60726702654804]]\n",
      "6.621621621621621\n"
     ]
    },
    {
     "name": "stderr",
     "output_type": "stream",
     "text": [
      "0: 480x640 1 battery_plus, 20.0ms\n",
      "Speed: 4.0ms preprocess, 20.0ms inference, 3.0ms postprocess per image at shape (1, 3, 480, 640)\n",
      "\n",
      "0: 480x640 1 battery_plus, 20.1ms\n",
      "Speed: 3.9ms preprocess, 20.1ms inference, 3.0ms postprocess per image at shape (1, 3, 480, 640)\n",
      "\n",
      "0: 480x640 1 battery_plus, 20.0ms\n",
      "Speed: 3.0ms preprocess, 20.0ms inference, 2.0ms postprocess per image at shape (1, 3, 480, 640)\n",
      "\n",
      "0: 480x640 1 battery_plus, 20.0ms\n"
     ]
    },
    {
     "name": "stdout",
     "output_type": "stream",
     "text": [
      "[[193.09034729003906, 248.96070861816406, 196.81124821415654]]\n",
      "6.621621621621621\n",
      "[[193.0620574951172, 249.18966674804688, 196.61620980721932]]\n",
      "6.621621621621621\n",
      "[[193.02601623535156, 249.00376892089844, 196.77456721553096]]\n",
      "6.621621621621621\n"
     ]
    },
    {
     "name": "stderr",
     "output_type": "stream",
     "text": [
      "Speed: 3.0ms preprocess, 20.0ms inference, 4.0ms postprocess per image at shape (1, 3, 480, 640)\n",
      "\n",
      "0: 480x640 1 battery_plus, 21.0ms\n",
      "Speed: 1.9ms preprocess, 21.0ms inference, 2.0ms postprocess per image at shape (1, 3, 480, 640)\n",
      "\n",
      "0: 480x640 1 battery_plus, 20.0ms\n",
      "Speed: 2.0ms preprocess, 20.0ms inference, 3.0ms postprocess per image at shape (1, 3, 480, 640)\n",
      "\n"
     ]
    },
    {
     "name": "stdout",
     "output_type": "stream",
     "text": [
      "[[193.11346435546875, 248.98016357421875, 196.79467547381367]]\n",
      "6.621621621621621\n",
      "[[193.18569946289062, 249.00006103515625, 196.7777257848669]]\n",
      "6.621621621621621\n",
      "[[193.12136840820312, 248.94369506835938, 196.82574123806424]]\n",
      "6.621621621621621\n"
     ]
    },
    {
     "name": "stderr",
     "output_type": "stream",
     "text": [
      "0: 480x640 1 battery_plus, 20.1ms\n",
      "Speed: 2.0ms preprocess, 20.1ms inference, 3.0ms postprocess per image at shape (1, 3, 480, 640)\n",
      "\n",
      "0: 480x640 1 battery_plus, 19.1ms\n",
      "Speed: 3.0ms preprocess, 19.1ms inference, 4.0ms postprocess per image at shape (1, 3, 480, 640)\n",
      "\n",
      "0: 480x640 1 battery_plus, 20.1ms\n",
      "Speed: 2.0ms preprocess, 20.1ms inference, 3.5ms postprocess per image at shape (1, 3, 480, 640)\n",
      "\n",
      "0: 480x640 1 battery_plus, 19.1ms\n"
     ]
    },
    {
     "name": "stdout",
     "output_type": "stream",
     "text": [
      "[[193.1432647705078, 249.07101440429688, 196.71728402596932]]\n",
      "6.621621621621621\n",
      "[[193.2080078125, 249.07766723632812, 196.71161679868345]]\n",
      "6.621621621621621\n",
      "[[193.03042602539062, 249.07110595703125, 196.71720603660302]]\n",
      "6.621621621621621\n"
     ]
    },
    {
     "name": "stderr",
     "output_type": "stream",
     "text": [
      "Speed: 2.0ms preprocess, 19.1ms inference, 3.9ms postprocess per image at shape (1, 3, 480, 640)\n",
      "\n",
      "0: 480x640 1 battery_plus, 20.0ms\n",
      "Speed: 3.0ms preprocess, 20.0ms inference, 4.0ms postprocess per image at shape (1, 3, 480, 640)\n",
      "\n",
      "0: 480x640 1 battery_plus, 20.0ms\n",
      "Speed: 2.1ms preprocess, 20.0ms inference, 2.0ms postprocess per image at shape (1, 3, 480, 640)\n",
      "\n",
      "0: 480x640 1 battery_plus, 20.1ms\n"
     ]
    },
    {
     "name": "stdout",
     "output_type": "stream",
     "text": [
      "[[193.1125946044922, 249.11013793945312, 196.6839565700955]]\n",
      "6.621621621621621\n",
      "[[193.19110107421875, 249.116455078125, 196.67857530381946]]\n",
      "6.621621621621621\n",
      "[[193.13397216796875, 249.02845764160156, 196.75353608308015]]\n",
      "6.621621621621621\n"
     ]
    },
    {
     "name": "stderr",
     "output_type": "stream",
     "text": [
      "Speed: 3.0ms preprocess, 20.1ms inference, 2.9ms postprocess per image at shape (1, 3, 480, 640)\n",
      "\n",
      "0: 480x640 1 battery_plus, 20.0ms\n",
      "Speed: 2.0ms preprocess, 20.0ms inference, 4.0ms postprocess per image at shape (1, 3, 480, 640)\n",
      "\n",
      "0: 480x640 1 battery_plus, 20.0ms\n",
      "Speed: 1.9ms preprocess, 20.0ms inference, 3.0ms postprocess per image at shape (1, 3, 480, 640)\n",
      "\n"
     ]
    },
    {
     "name": "stdout",
     "output_type": "stream",
     "text": [
      "[[193.10110473632812, 248.96063232421875, 196.81131320529514]]\n",
      "6.621621621621621\n",
      "[[193.00082397460938, 249.06614685058594, 196.72143046061197]]\n",
      "6.621621621621621\n",
      "[[193.14883422851562, 249.1202392578125, 196.67535174334492]]\n",
      "6.621621621621621\n"
     ]
    },
    {
     "name": "stderr",
     "output_type": "stream",
     "text": [
      "0: 480x640 1 battery_plus, 19.1ms\n",
      "Speed: 3.0ms preprocess, 19.1ms inference, 3.0ms postprocess per image at shape (1, 3, 480, 640)\n",
      "\n",
      "0: 480x640 1 battery_plus, 20.0ms\n",
      "Speed: 3.0ms preprocess, 20.0ms inference, 2.0ms postprocess per image at shape (1, 3, 480, 640)\n",
      "\n",
      "0: 480x640 1 battery_plus, 19.0ms\n",
      "Speed: 3.0ms preprocess, 19.0ms inference, 2.9ms postprocess per image at shape (1, 3, 480, 640)\n",
      "\n",
      "0: 480x640 1 battery_plus, 20.1ms\n"
     ]
    },
    {
     "name": "stdout",
     "output_type": "stream",
     "text": [
      "[[193.2156982421875, 249.30438232421875, 196.51848913122106]]\n",
      "6.621621621621621\n",
      "[[193.06039428710938, 249.14266967773438, 196.65624434859666]]\n",
      "6.621621621621621\n",
      "[[193.23171997070312, 248.9713897705078, 196.8021494547526]]\n",
      "6.621621621621621\n"
     ]
    },
    {
     "name": "stderr",
     "output_type": "stream",
     "text": [
      "Speed: 2.0ms preprocess, 20.1ms inference, 3.0ms postprocess per image at shape (1, 3, 480, 640)\n",
      "\n",
      "0: 480x640 1 battery_plus, 20.0ms\n",
      "Speed: 3.0ms preprocess, 20.0ms inference, 4.0ms postprocess per image at shape (1, 3, 480, 640)\n",
      "\n",
      "0: 480x640 1 battery_plus, 20.0ms\n",
      "Speed: 3.0ms preprocess, 20.0ms inference, 3.9ms postprocess per image at shape (1, 3, 480, 640)\n",
      "\n"
     ]
    },
    {
     "name": "stdout",
     "output_type": "stream",
     "text": [
      "[[193.1112823486328, 249.1426544189453, 196.65625734682436]]\n",
      "6.621621621621621\n",
      "[[193.2787322998047, 249.03993225097656, 196.74376141583477]]\n",
      "6.621621621621621\n",
      "[[193.07310485839844, 249.03387451171875, 196.7489217122396]]\n",
      "6.621621621621621\n"
     ]
    },
    {
     "name": "stderr",
     "output_type": "stream",
     "text": [
      "0: 480x640 1 battery_plus, 20.1ms\n",
      "Speed: 2.9ms preprocess, 20.1ms inference, 3.0ms postprocess per image at shape (1, 3, 480, 640)\n",
      "\n",
      "0: 480x640 1 battery_plus, 19.0ms\n",
      "Speed: 2.0ms preprocess, 19.0ms inference, 3.0ms postprocess per image at shape (1, 3, 480, 640)\n",
      "\n",
      "0: 480x640 1 battery_plus, 20.0ms\n",
      "Speed: 4.0ms preprocess, 20.0ms inference, 4.0ms postprocess per image at shape (1, 3, 480, 640)\n",
      "\n"
     ]
    },
    {
     "name": "stdout",
     "output_type": "stream",
     "text": [
      "[[193.15966796875, 249.21026611328125, 196.59866219979745]]\n",
      "6.621621621621621\n",
      "[[193.02914428710938, 248.9317626953125, 196.8359058521412]]\n",
      "6.621621621621621\n",
      "[[193.0537109375, 249.17486572265625, 196.62881808810764]]\n",
      "6.621621621621621\n"
     ]
    },
    {
     "name": "stderr",
     "output_type": "stream",
     "text": [
      "0: 480x640 1 battery_plus, 19.1ms\n",
      "Speed: 2.9ms preprocess, 19.1ms inference, 4.0ms postprocess per image at shape (1, 3, 480, 640)\n",
      "\n",
      "0: 480x640 1 battery_plus, 20.1ms\n",
      "Speed: 2.9ms preprocess, 20.1ms inference, 3.0ms postprocess per image at shape (1, 3, 480, 640)\n",
      "\n",
      "0: 480x640 1 battery_plus, 19.1ms\n",
      "Speed: 3.0ms preprocess, 19.1ms inference, 2.9ms postprocess per image at shape (1, 3, 480, 640)\n",
      "\n"
     ]
    },
    {
     "name": "stdout",
     "output_type": "stream",
     "text": [
      "[[193.25465393066406, 248.80642700195312, 196.94267329463253]]\n",
      "6.621621621621621\n",
      "[[193.17245483398438, 249.07717895507812, 196.7120327419705]]\n",
      "6.621621621621621\n",
      "[[192.97225952148438, 249.0872802734375, 196.70342791521992]]\n",
      "6.621621621621621\n"
     ]
    },
    {
     "name": "stderr",
     "output_type": "stream",
     "text": [
      "0: 480x640 1 battery_plus, 20.0ms\n",
      "Speed: 3.0ms preprocess, 20.0ms inference, 3.0ms postprocess per image at shape (1, 3, 480, 640)\n",
      "\n",
      "0: 480x640 1 battery_plus, 19.0ms\n",
      "Speed: 2.9ms preprocess, 19.0ms inference, 3.0ms postprocess per image at shape (1, 3, 480, 640)\n",
      "\n",
      "0: 480x640 1 battery_plus, 19.0ms\n",
      "Speed: 3.0ms preprocess, 19.0ms inference, 4.0ms postprocess per image at shape (1, 3, 480, 640)\n",
      "\n",
      "0: 480x640 1 battery_plus, 19.1ms\n"
     ]
    },
    {
     "name": "stdout",
     "output_type": "stream",
     "text": [
      "[[193.04025268554688, 249.14404296875, 196.65507450810185]]\n",
      "6.621621621621621\n",
      "[[193.11050415039062, 248.94305419921875, 196.82628716362848]]\n",
      "6.621621621621621\n",
      "[[193.15072631835938, 248.8668212890625, 196.89122630931712]]\n",
      "6.621621621621621\n"
     ]
    },
    {
     "name": "stderr",
     "output_type": "stream",
     "text": [
      "Speed: 3.9ms preprocess, 19.1ms inference, 3.0ms postprocess per image at shape (1, 3, 480, 640)\n",
      "\n",
      "0: 480x640 1 battery_plus, 19.0ms\n",
      "Speed: 3.0ms preprocess, 19.0ms inference, 5.0ms postprocess per image at shape (1, 3, 480, 640)\n",
      "\n",
      "0: 480x640 1 battery_plus, 19.1ms\n",
      "Speed: 3.0ms preprocess, 19.1ms inference, 4.0ms postprocess per image at shape (1, 3, 480, 640)\n",
      "\n"
     ]
    },
    {
     "name": "stdout",
     "output_type": "stream",
     "text": [
      "[[193.22982788085938, 249.1913299560547, 196.61479300039787]]\n",
      "6.621621621621621\n",
      "[[193.09194946289062, 249.002685546875, 196.77549008969908]]\n",
      "6.621621621621621\n",
      "[[193.1830596923828, 249.24069213867188, 196.57274373372397]]\n",
      "6.621621621621621\n"
     ]
    },
    {
     "name": "stderr",
     "output_type": "stream",
     "text": [
      "0: 480x640 1 battery_plus, 19.0ms\n",
      "Speed: 4.0ms preprocess, 19.0ms inference, 3.0ms postprocess per image at shape (1, 3, 480, 640)\n",
      "\n",
      "0: 480x640 1 battery_plus, 19.0ms\n",
      "Speed: 3.0ms preprocess, 19.0ms inference, 3.0ms postprocess per image at shape (1, 3, 480, 640)\n",
      "\n",
      "0: 480x640 1 battery_plus, 20.0ms\n",
      "Speed: 2.0ms preprocess, 20.0ms inference, 3.0ms postprocess per image at shape (1, 3, 480, 640)\n",
      "\n",
      "0: 480x640 1 battery_plus, 19.1ms\n"
     ]
    },
    {
     "name": "stdout",
     "output_type": "stream",
     "text": [
      "[[193.04029846191406, 249.1117401123047, 196.6825917561849]]\n",
      "6.621621621621621\n",
      "[[193.16946411132812, 248.97052001953125, 196.80289035373264]]\n",
      "6.621621621621621\n",
      "[[192.96800231933594, 249.07957458496094, 196.70999202021846]]\n",
      "6.621621621621621\n"
     ]
    },
    {
     "name": "stderr",
     "output_type": "stream",
     "text": [
      "Speed: 3.0ms preprocess, 19.1ms inference, 2.9ms postprocess per image at shape (1, 3, 480, 640)\n",
      "\n",
      "0: 480x640 1 battery_plus, 19.0ms\n",
      "Speed: 3.1ms preprocess, 19.0ms inference, 2.0ms postprocess per image at shape (1, 3, 480, 640)\n",
      "\n",
      "0: 480x640 1 battery_plus, 20.1ms\n",
      "Speed: 2.0ms preprocess, 20.1ms inference, 3.9ms postprocess per image at shape (1, 3, 480, 640)\n",
      "\n",
      "0: 480x640 1 battery_plus, 20.0ms\n"
     ]
    },
    {
     "name": "stdout",
     "output_type": "stream",
     "text": [
      "[[193.19558715820312, 249.0321502685547, 196.75039051197194]]\n",
      "6.621621621621621\n",
      "[[193.15304565429688, 248.97357177734375, 196.80029070818867]]\n",
      "6.621621621621621\n",
      "[[193.07537841796875, 249.02294921875, 196.75822844328704]]\n",
      "6.621621621621621\n"
     ]
    },
    {
     "name": "stderr",
     "output_type": "stream",
     "text": [
      "Speed: 2.0ms preprocess, 20.0ms inference, 2.0ms postprocess per image at shape (1, 3, 480, 640)\n",
      "\n",
      "0: 480x640 1 battery_plus, 20.1ms\n",
      "Speed: 1.9ms preprocess, 20.1ms inference, 2.9ms postprocess per image at shape (1, 3, 480, 640)\n",
      "\n",
      "0: 480x640 1 battery_plus, 20.1ms\n",
      "Speed: 1.9ms preprocess, 20.1ms inference, 3.0ms postprocess per image at shape (1, 3, 480, 640)\n",
      "\n",
      "0: 480x640 1 battery_plus, 20.0ms\n"
     ]
    },
    {
     "name": "stdout",
     "output_type": "stream",
     "text": [
      "[[192.98822021484375, 249.09494018554688, 196.6969028049045]]\n",
      "6.621621621621621\n",
      "[[193.13665771484375, 249.03050231933594, 196.7517943205657]]\n",
      "6.621621621621621\n",
      "[[193.0743408203125, 249.10101318359375, 196.69172951027198]]\n",
      "6.621621621621621\n"
     ]
    },
    {
     "name": "stderr",
     "output_type": "stream",
     "text": [
      "Speed: 3.0ms preprocess, 20.0ms inference, 3.0ms postprocess per image at shape (1, 3, 480, 640)\n",
      "\n",
      "0: 480x640 1 battery_plus, 20.0ms\n",
      "Speed: 2.0ms preprocess, 20.0ms inference, 4.0ms postprocess per image at shape (1, 3, 480, 640)\n",
      "\n",
      "0: 480x640 1 battery_plus, 20.1ms\n",
      "Speed: 3.0ms preprocess, 20.1ms inference, 2.0ms postprocess per image at shape (1, 3, 480, 640)\n",
      "\n"
     ]
    },
    {
     "name": "stdout",
     "output_type": "stream",
     "text": [
      "[[193.21685791015625, 249.23233032226562, 196.57986676251446]]\n",
      "6.621621621621621\n",
      "[[193.2216033935547, 249.1259002685547, 196.67052940086083]]\n",
      "6.621621621621621\n",
      "[[192.95245361328125, 249.00192260742188, 196.77614000108508]]\n",
      "6.621621621621621\n"
     ]
    },
    {
     "name": "stderr",
     "output_type": "stream",
     "text": [
      "0: 480x640 1 battery_plus, 19.0ms\n",
      "Speed: 4.0ms preprocess, 19.0ms inference, 3.0ms postprocess per image at shape (1, 3, 480, 640)\n",
      "\n",
      "0: 480x640 1 battery_plus, 20.0ms\n",
      "Speed: 3.0ms preprocess, 20.0ms inference, 3.0ms postprocess per image at shape (1, 3, 480, 640)\n",
      "\n",
      "0: 480x640 1 battery_plus, 20.0ms\n",
      "Speed: 2.0ms preprocess, 20.0ms inference, 3.0ms postprocess per image at shape (1, 3, 480, 640)\n",
      "\n"
     ]
    },
    {
     "name": "stdout",
     "output_type": "stream",
     "text": [
      "[[193.03964233398438, 249.12603759765625, 196.67041241681133]]\n",
      "6.621621621621621\n",
      "[[193.3594207763672, 249.1102294921875, 196.68387858072916]]\n",
      "6.621621621621621\n",
      "[[193.12991333007812, 249.07797241210938, 196.71135683412905]]\n",
      "6.621621621621621\n"
     ]
    },
    {
     "name": "stderr",
     "output_type": "stream",
     "text": [
      "0: 480x640 1 battery_plus, 19.1ms\n",
      "Speed: 2.9ms preprocess, 19.1ms inference, 3.0ms postprocess per image at shape (1, 3, 480, 640)\n",
      "\n",
      "0: 480x640 1 battery_plus, 19.1ms\n",
      "Speed: 3.9ms preprocess, 19.1ms inference, 4.0ms postprocess per image at shape (1, 3, 480, 640)\n",
      "\n",
      "0: 480x640 1 battery_plus, 20.1ms\n",
      "Speed: 2.9ms preprocess, 20.1ms inference, 3.0ms postprocess per image at shape (1, 3, 480, 640)\n",
      "\n"
     ]
    },
    {
     "name": "stdout",
     "output_type": "stream",
     "text": [
      "[[193.01885986328125, 248.99673461914062, 196.78055939850984]]\n",
      "6.621621621621621\n",
      "[[193.02574157714844, 248.96014404296875, 196.81172914858217]]\n",
      "6.621621621621621\n",
      "[[193.0708770751953, 249.05645751953125, 196.72968433521413]]\n",
      "6.621621621621621\n"
     ]
    },
    {
     "name": "stderr",
     "output_type": "stream",
     "text": [
      "0: 480x640 1 battery_plus, 19.0ms\n",
      "Speed: 2.9ms preprocess, 19.0ms inference, 2.0ms postprocess per image at shape (1, 3, 480, 640)\n",
      "\n",
      "0: 480x640 1 battery_plus, 20.1ms\n",
      "Speed: 2.9ms preprocess, 20.1ms inference, 3.0ms postprocess per image at shape (1, 3, 480, 640)\n",
      "\n",
      "0: 480x640 1 battery_plus, 19.1ms\n",
      "Speed: 2.0ms preprocess, 19.1ms inference, 3.0ms postprocess per image at shape (1, 3, 480, 640)\n",
      "\n"
     ]
    },
    {
     "name": "stdout",
     "output_type": "stream",
     "text": [
      "[[193.04383850097656, 249.03302001953125, 196.7496496129919]]\n",
      "6.621621621621621\n",
      "[[193.17950439453125, 248.91363525390625, 196.85134774667245]]\n",
      "6.621621621621621\n",
      "[[193.08067321777344, 249.02035522460938, 196.76043814199943]]\n",
      "6.621621621621621\n"
     ]
    },
    {
     "name": "stderr",
     "output_type": "stream",
     "text": [
      "0: 480x640 1 battery_plus, 19.0ms\n",
      "Speed: 3.0ms preprocess, 19.0ms inference, 3.0ms postprocess per image at shape (1, 3, 480, 640)\n",
      "\n",
      "0: 480x640 1 battery_plus, 20.0ms\n",
      "Speed: 3.0ms preprocess, 20.0ms inference, 2.0ms postprocess per image at shape (1, 3, 480, 640)\n",
      "\n",
      "0: 480x640 1 battery_plus, 20.8ms\n",
      "Speed: 2.0ms preprocess, 20.8ms inference, 2.9ms postprocess per image at shape (1, 3, 480, 640)\n",
      "\n"
     ]
    },
    {
     "name": "stdout",
     "output_type": "stream",
     "text": [
      "[[193.18238830566406, 249.16293334960938, 196.63898270218462]]\n",
      "6.621621621621621\n",
      "[[193.2908477783203, 249.1118927001953, 196.6824617739077]]\n",
      "6.621621621621621\n",
      "[[193.15557861328125, 248.95278930664062, 196.81799429434318]]\n",
      "6.621621621621621\n"
     ]
    },
    {
     "name": "stderr",
     "output_type": "stream",
     "text": [
      "0: 480x640 1 battery_plus, 20.1ms\n",
      "Speed: 3.0ms preprocess, 20.1ms inference, 2.0ms postprocess per image at shape (1, 3, 480, 640)\n",
      "\n",
      "0: 480x640 1 battery_plus, 20.1ms\n",
      "Speed: 2.9ms preprocess, 20.1ms inference, 3.0ms postprocess per image at shape (1, 3, 480, 640)\n",
      "\n",
      "0: 480x640 1 battery_plus, 20.1ms\n",
      "Speed: 3.0ms preprocess, 20.1ms inference, 2.9ms postprocess per image at shape (1, 3, 480, 640)\n",
      "\n",
      "0: 480x640 1 battery_plus, 20.1ms\n"
     ]
    },
    {
     "name": "stdout",
     "output_type": "stream",
     "text": [
      "[[192.93748474121094, 249.0943603515625, 196.69739673755788]]\n",
      "6.621621621621621\n",
      "[[193.09173583984375, 249.0476837158203, 196.73715831615306]]\n",
      "6.621621621621621\n",
      "[[193.11671447753906, 249.1669158935547, 196.63559016474971]]\n",
      "6.621621621621621\n"
     ]
    },
    {
     "name": "stderr",
     "output_type": "stream",
     "text": [
      "Speed: 3.0ms preprocess, 20.1ms inference, 4.0ms postprocess per image at shape (1, 3, 480, 640)\n",
      "\n",
      "0: 480x640 1 battery_plus, 20.0ms\n",
      "Speed: 2.9ms preprocess, 20.0ms inference, 3.0ms postprocess per image at shape (1, 3, 480, 640)\n",
      "\n",
      "0: 480x640 1 battery_plus, 20.0ms\n",
      "Speed: 2.0ms preprocess, 20.0ms inference, 2.0ms postprocess per image at shape (1, 3, 480, 640)\n",
      "\n"
     ]
    },
    {
     "name": "stdout",
     "output_type": "stream",
     "text": [
      "[[193.02963256835938, 249.1750030517578, 196.62870110405817]]\n",
      "6.621621621621621\n",
      "[[192.92007446289062, 249.1579132080078, 196.64325911910447]]\n",
      "6.621621621621621\n",
      "[[193.11135864257812, 249.31265258789062, 196.51144409179688]]\n",
      "6.621621621621621\n"
     ]
    },
    {
     "name": "stderr",
     "output_type": "stream",
     "text": [
      "0: 480x640 1 battery_plus, 20.1ms\n",
      "Speed: 2.0ms preprocess, 20.1ms inference, 3.0ms postprocess per image at shape (1, 3, 480, 640)\n",
      "\n",
      "0: 480x640 1 battery_plus, 20.0ms\n",
      "Speed: 3.0ms preprocess, 20.0ms inference, 2.0ms postprocess per image at shape (1, 3, 480, 640)\n",
      "\n",
      "0: 480x640 1 battery_plus, 19.0ms\n",
      "Speed: 3.0ms preprocess, 19.0ms inference, 4.0ms postprocess per image at shape (1, 3, 480, 640)\n",
      "\n"
     ]
    },
    {
     "name": "stdout",
     "output_type": "stream",
     "text": [
      "[[193.18792724609375, 249.24305725097656, 196.57072900842738]]\n",
      "6.621621621621621\n",
      "[[193.0067901611328, 248.96347045898438, 196.80889553493924]]\n",
      "6.621621621621621\n",
      "[[193.19105529785156, 248.999755859375, 196.7779857494213]]\n",
      "6.621621621621621\n"
     ]
    },
    {
     "name": "stderr",
     "output_type": "stream",
     "text": [
      "0: 480x640 1 battery_plus, 20.0ms\n",
      "Speed: 3.0ms preprocess, 20.0ms inference, 4.0ms postprocess per image at shape (1, 3, 480, 640)\n",
      "\n",
      "0: 480x640 1 battery_plus, 19.1ms\n",
      "Speed: 2.9ms preprocess, 19.1ms inference, 3.0ms postprocess per image at shape (1, 3, 480, 640)\n",
      "\n",
      "0: 480x640 1 battery_plus, 19.0ms\n",
      "Speed: 2.0ms preprocess, 19.0ms inference, 2.9ms postprocess per image at shape (1, 3, 480, 640)\n",
      "\n",
      "0: 480x640 1 battery_plus, 20.0ms\n"
     ]
    },
    {
     "name": "stdout",
     "output_type": "stream",
     "text": [
      "[[193.0513916015625, 249.23016357421875, 196.5817125108507]]\n",
      "6.621621621621621\n",
      "[[192.96055603027344, 249.06906127929688, 196.71894779911747]]\n",
      "6.621621621621621\n",
      "[[193.11936950683594, 249.15975952148438, 196.64168633355035]]\n",
      "6.621621621621621\n"
     ]
    },
    {
     "name": "stderr",
     "output_type": "stream",
     "text": [
      "Speed: 3.0ms preprocess, 20.0ms inference, 4.0ms postprocess per image at shape (1, 3, 480, 640)\n",
      "\n",
      "0: 480x640 1 battery_plus, 19.1ms\n",
      "Speed: 3.0ms preprocess, 19.1ms inference, 3.9ms postprocess per image at shape (1, 3, 480, 640)\n",
      "\n",
      "0: 480x640 1 battery_plus, 20.1ms\n",
      "Speed: 3.0ms preprocess, 20.1ms inference, 3.0ms postprocess per image at shape (1, 3, 480, 640)\n",
      "\n"
     ]
    },
    {
     "name": "stdout",
     "output_type": "stream",
     "text": [
      "[[193.05044555664062, 249.0601806640625, 196.72651276765046]]\n",
      "6.621621621621621\n",
      "[[193.18087768554688, 249.1155548095703, 196.67934219925493]]\n",
      "6.621621621621621\n",
      "[[193.07049560546875, 249.19650268554688, 196.61038660120082]]\n",
      "6.621621621621621\n"
     ]
    },
    {
     "name": "stderr",
     "output_type": "stream",
     "text": [
      "0: 480x640 1 battery_plus, 20.0ms\n",
      "Speed: 3.1ms preprocess, 20.0ms inference, 3.0ms postprocess per image at shape (1, 3, 480, 640)\n",
      "\n",
      "0: 480x640 1 battery_plus, 20.0ms\n",
      "Speed: 3.0ms preprocess, 20.0ms inference, 4.0ms postprocess per image at shape (1, 3, 480, 640)\n",
      "\n",
      "0: 480x640 1 battery_plus, 20.0ms\n",
      "Speed: 3.0ms preprocess, 20.0ms inference, 2.1ms postprocess per image at shape (1, 3, 480, 640)\n",
      "\n",
      "0: 480x640 1 battery_plus, 20.0ms\n"
     ]
    },
    {
     "name": "stdout",
     "output_type": "stream",
     "text": [
      "[[192.98779296875, 249.08853149414062, 196.70236206054688]]\n",
      "6.621621621621621\n",
      "[[193.03366088867188, 249.21664428710938, 196.59322894061054]]\n",
      "6.621621621621621\n",
      "[[193.1856689453125, 249.17601013183594, 196.62784322102866]]\n",
      "6.621621621621621\n"
     ]
    },
    {
     "name": "stderr",
     "output_type": "stream",
     "text": [
      "Speed: 3.0ms preprocess, 20.0ms inference, 3.0ms postprocess per image at shape (1, 3, 480, 640)\n",
      "\n",
      "0: 480x640 1 battery_plus, 19.0ms\n",
      "Speed: 2.9ms preprocess, 19.0ms inference, 4.0ms postprocess per image at shape (1, 3, 480, 640)\n",
      "\n",
      "0: 480x640 1 battery_plus, 20.0ms\n",
      "Speed: 2.9ms preprocess, 20.0ms inference, 3.0ms postprocess per image at shape (1, 3, 480, 640)\n",
      "\n",
      "0: 480x640 1 battery_plus, 20.1ms\n"
     ]
    },
    {
     "name": "stdout",
     "output_type": "stream",
     "text": [
      "[[193.03604125976562, 249.19342041015625, 196.61301224320025]]\n",
      "6.621621621621621\n",
      "[[192.98672485351562, 249.08575439453125, 196.7047277379919]]\n",
      "6.621621621621621\n",
      "[[193.105712890625, 249.19854736328125, 196.60864483868633]]\n",
      "6.621621621621621\n"
     ]
    },
    {
     "name": "stderr",
     "output_type": "stream",
     "text": [
      "Speed: 3.0ms preprocess, 20.1ms inference, 3.0ms postprocess per image at shape (1, 3, 480, 640)\n",
      "\n",
      "0: 480x640 1 battery_plus, 19.9ms\n",
      "Speed: 2.0ms preprocess, 19.9ms inference, 4.1ms postprocess per image at shape (1, 3, 480, 640)\n",
      "\n",
      "0: 480x640 1 battery_plus, 20.1ms\n",
      "Speed: 2.0ms preprocess, 20.1ms inference, 3.0ms postprocess per image at shape (1, 3, 480, 640)\n",
      "\n"
     ]
    },
    {
     "name": "stdout",
     "output_type": "stream",
     "text": [
      "[[193.23155212402344, 249.19580078125, 196.61098451967592]]\n",
      "6.621621621621621\n",
      "[[193.20428466796875, 249.29519653320312, 196.52631406430845]]\n",
      "6.621621621621621\n",
      "[[192.97061157226562, 249.09266662597656, 196.69883954083477]]\n",
      "6.621621621621621\n"
     ]
    },
    {
     "name": "stderr",
     "output_type": "stream",
     "text": [
      "0: 480x640 1 battery_plus, 19.0ms\n",
      "Speed: 3.0ms preprocess, 19.0ms inference, 4.0ms postprocess per image at shape (1, 3, 480, 640)\n",
      "\n",
      "0: 480x640 1 battery_plus, 19.0ms\n",
      "Speed: 2.0ms preprocess, 19.0ms inference, 3.0ms postprocess per image at shape (1, 3, 480, 640)\n",
      "\n",
      "0: 480x640 1 battery_plus, 19.0ms\n",
      "Speed: 3.9ms preprocess, 19.0ms inference, 4.0ms postprocess per image at shape (1, 3, 480, 640)\n",
      "\n"
     ]
    },
    {
     "name": "stdout",
     "output_type": "stream",
     "text": [
      "[[193.25762939453125, 249.18260192871094, 196.62222798665366]]\n",
      "6.621621621621621\n",
      "[[193.10891723632812, 249.17974853515625, 196.62465865523728]]\n",
      "6.621621621621621\n",
      "[[193.03530883789062, 249.23666381835938, 196.576175265842]]\n",
      "6.621621621621621\n"
     ]
    },
    {
     "name": "stderr",
     "output_type": "stream",
     "text": [
      "0: 480x640 1 battery_plus, 20.1ms\n",
      "Speed: 3.0ms preprocess, 20.1ms inference, 3.0ms postprocess per image at shape (1, 3, 480, 640)\n",
      "\n",
      "0: 480x640 1 battery_plus, 20.0ms\n",
      "Speed: 3.0ms preprocess, 20.0ms inference, 3.0ms postprocess per image at shape (1, 3, 480, 640)\n",
      "\n",
      "0: 480x640 1 battery_plus, 20.1ms\n",
      "Speed: 3.0ms preprocess, 20.1ms inference, 3.0ms postprocess per image at shape (1, 3, 480, 640)\n",
      "\n"
     ]
    },
    {
     "name": "stdout",
     "output_type": "stream",
     "text": [
      "[[193.07217407226562, 249.18051147460938, 196.62400874385128]]\n",
      "6.621621621621621\n",
      "[[193.368408203125, 249.05328369140625, 196.73238796657986]]\n",
      "6.621621621621621\n",
      "[[193.13677978515625, 249.10537719726562, 196.6880120171441]]\n",
      "6.621621621621621\n"
     ]
    },
    {
     "name": "stderr",
     "output_type": "stream",
     "text": [
      "0: 480x640 1 battery_plus, 19.0ms\n",
      "Speed: 2.7ms preprocess, 19.0ms inference, 3.0ms postprocess per image at shape (1, 3, 480, 640)\n",
      "\n",
      "0: 480x640 1 battery_plus, 20.0ms\n",
      "Speed: 3.0ms preprocess, 20.0ms inference, 2.9ms postprocess per image at shape (1, 3, 480, 640)\n",
      "\n",
      "0: 480x640 1 battery_plus, 19.1ms\n",
      "Speed: 3.0ms preprocess, 19.1ms inference, 3.9ms postprocess per image at shape (1, 3, 480, 640)\n",
      "\n"
     ]
    },
    {
     "name": "stdout",
     "output_type": "stream",
     "text": [
      "[[193.2725830078125, 249.17356872558594, 196.62992293746385]]\n",
      "6.621621621621621\n",
      "[[193.23008728027344, 249.1470947265625, 196.65247486255788]]\n",
      "6.621621621621621\n",
      "[[193.03758239746094, 249.19607543945312, 196.61075055157696]]\n",
      "6.621621621621621\n"
     ]
    },
    {
     "name": "stderr",
     "output_type": "stream",
     "text": [
      "0: 480x640 1 battery_plus, 20.1ms\n",
      "Speed: 2.9ms preprocess, 20.1ms inference, 2.9ms postprocess per image at shape (1, 3, 480, 640)\n",
      "\n",
      "0: 480x640 1 battery_plus, 20.1ms\n",
      "Speed: 3.0ms preprocess, 20.1ms inference, 3.0ms postprocess per image at shape (1, 3, 480, 640)\n",
      "\n",
      "0: 480x640 1 battery_plus, 19.0ms\n",
      "Speed: 2.9ms preprocess, 19.0ms inference, 3.0ms postprocess per image at shape (1, 3, 480, 640)\n",
      "\n"
     ]
    },
    {
     "name": "stdout",
     "output_type": "stream",
     "text": [
      "[[193.1067352294922, 249.069580078125, 196.718505859375]]\n",
      "6.621621621621621\n",
      "[[192.9896240234375, 249.08929443359375, 196.70171214916087]]\n",
      "6.621621621621621\n",
      "[[193.07337951660156, 249.10287475585938, 196.69014372649016]]\n",
      "6.621621621621621\n"
     ]
    },
    {
     "name": "stderr",
     "output_type": "stream",
     "text": [
      "0: 480x640 1 battery_plus, 20.1ms\n",
      "Speed: 3.0ms preprocess, 20.1ms inference, 3.0ms postprocess per image at shape (1, 3, 480, 640)\n",
      "\n",
      "0: 480x640 1 battery_plus, 20.1ms\n",
      "Speed: 2.0ms preprocess, 20.1ms inference, 3.0ms postprocess per image at shape (1, 3, 480, 640)\n",
      "\n",
      "0: 480x640 1 battery_plus, 20.1ms\n",
      "Speed: 2.0ms preprocess, 20.1ms inference, 2.0ms postprocess per image at shape (1, 3, 480, 640)\n",
      "\n",
      "0: 480x640 1 battery_plus, 19.0ms\n"
     ]
    },
    {
     "name": "stdout",
     "output_type": "stream",
     "text": [
      "[[193.18356323242188, 249.04379272460938, 196.74047286422166]]\n",
      "6.621621621621621\n",
      "[[193.122802734375, 249.1497344970703, 196.65022616916232]]\n",
      "6.621621621621621\n",
      "[[193.13461303710938, 249.1112060546875, 196.68304669415508]]\n",
      "6.621621621621621\n"
     ]
    },
    {
     "name": "stderr",
     "output_type": "stream",
     "text": [
      "Speed: 2.9ms preprocess, 19.0ms inference, 4.0ms postprocess per image at shape (1, 3, 480, 640)\n",
      "\n",
      "0: 480x640 1 battery_plus, 20.0ms\n",
      "Speed: 2.0ms preprocess, 20.0ms inference, 3.0ms postprocess per image at shape (1, 3, 480, 640)\n",
      "\n",
      "0: 480x640 1 battery_plus, 20.0ms\n",
      "Speed: 2.9ms preprocess, 20.0ms inference, 4.0ms postprocess per image at shape (1, 3, 480, 640)\n",
      "\n"
     ]
    },
    {
     "name": "stdout",
     "output_type": "stream",
     "text": [
      "[[193.01174926757812, 248.98558044433594, 196.79006110297308]]\n",
      "6.621621621621621\n",
      "[[193.03329467773438, 248.98727416992188, 196.7886182996962]]\n",
      "6.621621621621621\n",
      "[[193.04583740234375, 249.09512329101562, 196.69674682617188]]\n",
      "6.621621621621621\n"
     ]
    },
    {
     "name": "stderr",
     "output_type": "stream",
     "text": [
      "0: 480x640 1 battery_plus, 19.0ms\n",
      "Speed: 3.0ms preprocess, 19.0ms inference, 2.9ms postprocess per image at shape (1, 3, 480, 640)\n",
      "\n",
      "0: 480x640 1 battery_plus, 19.0ms\n",
      "Speed: 3.0ms preprocess, 19.0ms inference, 4.0ms postprocess per image at shape (1, 3, 480, 640)\n",
      "\n",
      "0: 480x640 1 battery_plus, 20.6ms\n",
      "Speed: 2.0ms preprocess, 20.6ms inference, 3.0ms postprocess per image at shape (1, 3, 480, 640)\n",
      "\n"
     ]
    },
    {
     "name": "stdout",
     "output_type": "stream",
     "text": [
      "[[193.17098999023438, 249.17970275878906, 196.62469764992042]]\n",
      "6.621621621621621\n",
      "[[193.27883911132812, 249.0517120361328, 196.733726784035]]\n",
      "6.621621621621621\n",
      "[[193.1212921142578, 249.03013610839844, 196.75210627803096]]\n",
      "6.621621621621621\n"
     ]
    },
    {
     "name": "stderr",
     "output_type": "stream",
     "text": [
      "0: 480x640 1 battery_plus, 19.0ms\n",
      "Speed: 2.0ms preprocess, 19.0ms inference, 4.0ms postprocess per image at shape (1, 3, 480, 640)\n",
      "\n",
      "0: 480x640 1 battery_plus, 20.0ms\n",
      "Speed: 2.0ms preprocess, 20.0ms inference, 2.0ms postprocess per image at shape (1, 3, 480, 640)\n",
      "\n",
      "0: 480x640 1 battery_plus, 19.0ms\n",
      "Speed: 2.0ms preprocess, 19.0ms inference, 4.1ms postprocess per image at shape (1, 3, 480, 640)\n",
      "\n",
      "0: 480x640 1 battery_plus, 20.0ms\n"
     ]
    },
    {
     "name": "stdout",
     "output_type": "stream",
     "text": [
      "[[193.10658264160156, 249.02963256835938, 196.7525352195457]]\n",
      "6.621621621621621\n",
      "[[193.02682495117188, 249.10861206054688, 196.68525639286747]]\n",
      "6.621621621621621\n",
      "[[193.25146484375, 249.20791625976562, 196.60066392686633]]\n",
      "6.621621621621621\n"
     ]
    },
    {
     "name": "stderr",
     "output_type": "stream",
     "text": [
      "Speed: 2.0ms preprocess, 20.0ms inference, 2.0ms postprocess per image at shape (1, 3, 480, 640)\n",
      "\n",
      "0: 480x640 1 battery_plus, 19.0ms\n",
      "Speed: 3.0ms preprocess, 19.0ms inference, 5.0ms postprocess per image at shape (1, 3, 480, 640)\n",
      "\n",
      "0: 480x640 1 battery_plus, 19.0ms\n",
      "Speed: 2.0ms preprocess, 19.0ms inference, 3.0ms postprocess per image at shape (1, 3, 480, 640)\n",
      "\n"
     ]
    },
    {
     "name": "stdout",
     "output_type": "stream",
     "text": [
      "[[193.12380981445312, 249.1285400390625, 196.66828070746527]]\n",
      "6.621621621621621\n",
      "[[193.10922241210938, 249.1322021484375, 196.6651611328125]]\n",
      "6.621621621621621\n",
      "[[193.11463928222656, 248.96456909179688, 196.8079596625434]]\n",
      "6.621621621621621\n"
     ]
    },
    {
     "name": "stderr",
     "output_type": "stream",
     "text": [
      "0: 480x640 1 battery_plus, 20.0ms\n",
      "Speed: 2.9ms preprocess, 20.0ms inference, 2.0ms postprocess per image at shape (1, 3, 480, 640)\n",
      "\n",
      "0: 480x640 1 battery_plus, 19.0ms\n",
      "Speed: 3.0ms preprocess, 19.0ms inference, 3.0ms postprocess per image at shape (1, 3, 480, 640)\n",
      "\n",
      "0: 480x640 1 battery_plus, 20.0ms\n",
      "Speed: 3.1ms preprocess, 20.0ms inference, 3.0ms postprocess per image at shape (1, 3, 480, 640)\n",
      "\n",
      "0: 480x640 1 battery_plus, 20.1ms\n"
     ]
    },
    {
     "name": "stdout",
     "output_type": "stream",
     "text": [
      "[[193.25433349609375, 249.13174438476562, 196.6655510796441]]\n",
      "6.621621621621621\n",
      "[[193.1470184326172, 249.05067443847656, 196.73461066351996]]\n",
      "6.621621621621621\n",
      "[[193.03512573242188, 249.13035583496094, 196.66673391836662]]\n",
      "6.621621621621621\n"
     ]
    },
    {
     "name": "stderr",
     "output_type": "stream",
     "text": [
      "Speed: 3.0ms preprocess, 20.1ms inference, 4.0ms postprocess per image at shape (1, 3, 480, 640)\n",
      "\n",
      "0: 480x640 1 battery_plus, 21.0ms\n",
      "Speed: 3.0ms preprocess, 21.0ms inference, 2.0ms postprocess per image at shape (1, 3, 480, 640)\n",
      "\n",
      "0: 480x640 1 battery_plus, 20.1ms\n",
      "Speed: 3.0ms preprocess, 20.1ms inference, 3.0ms postprocess per image at shape (1, 3, 480, 640)\n",
      "\n",
      "0: 480x640 1 battery_plus, 20.0ms\n"
     ]
    },
    {
     "name": "stdout",
     "output_type": "stream",
     "text": [
      "[[193.09226989746094, 249.06326293945312, 196.72388712565103]]\n",
      "6.621621621621621\n",
      "[[193.24337768554688, 249.15150451660156, 196.6487183747468]]\n",
      "6.621621621621621\n",
      "[[193.08499145507812, 248.96929931640625, 196.80393021195025]]\n",
      "6.621621621621621\n"
     ]
    },
    {
     "name": "stderr",
     "output_type": "stream",
     "text": [
      "Speed: 2.0ms preprocess, 20.0ms inference, 4.0ms postprocess per image at shape (1, 3, 480, 640)\n",
      "\n",
      "0: 480x640 1 battery_plus, 20.1ms\n",
      "Speed: 3.0ms preprocess, 20.1ms inference, 1.9ms postprocess per image at shape (1, 3, 480, 640)\n",
      "\n",
      "0: 480x640 1 battery_plus, 20.1ms\n",
      "Speed: 3.0ms preprocess, 20.1ms inference, 3.0ms postprocess per image at shape (1, 3, 480, 640)\n",
      "\n"
     ]
    },
    {
     "name": "stdout",
     "output_type": "stream",
     "text": [
      "[[193.18035888671875, 249.08636474609375, 196.7042078088831]]\n",
      "6.621621621621621\n",
      "[[193.01907348632812, 249.12911987304688, 196.66778677481193]]\n",
      "6.621621621621621\n",
      "[[193.17819213867188, 249.1719512939453, 196.63130074960213]]\n",
      "6.621621621621621\n"
     ]
    },
    {
     "name": "stderr",
     "output_type": "stream",
     "text": [
      "0: 480x640 1 battery_plus, 20.0ms\n",
      "Speed: 2.0ms preprocess, 20.0ms inference, 4.0ms postprocess per image at shape (1, 3, 480, 640)\n",
      "\n",
      "0: 480x640 1 battery_plus, 20.0ms\n",
      "Speed: 3.0ms preprocess, 20.0ms inference, 4.0ms postprocess per image at shape (1, 3, 480, 640)\n",
      "\n",
      "0: 480x640 1 battery_plus, 20.1ms\n",
      "Speed: 3.0ms preprocess, 20.1ms inference, 3.0ms postprocess per image at shape (1, 3, 480, 640)\n",
      "\n",
      "0: 480x640 1 battery_plus, 20.1ms\n"
     ]
    },
    {
     "name": "stdout",
     "output_type": "stream",
     "text": [
      "[[193.10855102539062, 249.16143798828125, 196.64025652850117]]\n",
      "6.621621621621621\n",
      "[[193.17544555664062, 249.0243682861328, 196.7570196081091]]\n",
      "6.621621621621621\n",
      "[[193.2806854248047, 249.0662841796875, 196.7213134765625]]\n",
      "6.621621621621621\n"
     ]
    },
    {
     "name": "stderr",
     "output_type": "stream",
     "text": [
      "Speed: 2.9ms preprocess, 20.1ms inference, 4.0ms postprocess per image at shape (1, 3, 480, 640)\n",
      "\n",
      "0: 480x640 1 battery_plus, 20.1ms\n",
      "Speed: 3.0ms preprocess, 20.1ms inference, 3.0ms postprocess per image at shape (1, 3, 480, 640)\n",
      "\n",
      "0: 480x640 1 battery_plus, 19.0ms\n",
      "Speed: 3.0ms preprocess, 19.0ms inference, 2.0ms postprocess per image at shape (1, 3, 480, 640)\n",
      "\n",
      "0: 480x640 1 battery_plus, 20.1ms\n"
     ]
    },
    {
     "name": "stdout",
     "output_type": "stream",
     "text": [
      "[[193.01400756835938, 248.9761962890625, 196.79805501302084]]\n",
      "6.621621621621621\n",
      "[[192.95762634277344, 249.099853515625, 196.6927173755787]]\n",
      "6.621621621621621\n",
      "[[193.082763671875, 248.92739868164062, 196.8396233452691]]\n",
      "6.621621621621621\n"
     ]
    },
    {
     "name": "stderr",
     "output_type": "stream",
     "text": [
      "Speed: 3.9ms preprocess, 20.1ms inference, 2.9ms postprocess per image at shape (1, 3, 480, 640)\n",
      "\n",
      "0: 480x640 1 battery_plus, 20.0ms\n",
      "Speed: 3.0ms preprocess, 20.0ms inference, 4.0ms postprocess per image at shape (1, 3, 480, 640)\n",
      "\n",
      "0: 480x640 1 battery_plus, 20.0ms\n",
      "Speed: 2.0ms preprocess, 20.0ms inference, 3.0ms postprocess per image at shape (1, 3, 480, 640)\n",
      "\n",
      "0: 480x640 1 battery_plus, 20.0ms\n"
     ]
    },
    {
     "name": "stdout",
     "output_type": "stream",
     "text": [
      "[[193.08123779296875, 249.11978149414062, 196.6757416901765]]\n",
      "6.621621621621621\n",
      "[[193.25489807128906, 249.03277587890625, 196.7498575846354]]\n",
      "6.621621621621621\n",
      "[[193.08145141601562, 249.1139373779297, 196.68072001139322]]\n",
      "6.621621621621621\n"
     ]
    },
    {
     "name": "stderr",
     "output_type": "stream",
     "text": [
      "Speed: 3.0ms preprocess, 20.0ms inference, 4.0ms postprocess per image at shape (1, 3, 480, 640)\n",
      "\n",
      "0: 480x640 1 battery_plus, 20.0ms\n",
      "Speed: 3.0ms preprocess, 20.0ms inference, 2.0ms postprocess per image at shape (1, 3, 480, 640)\n",
      "\n",
      "0: 480x640 1 battery_plus, 20.1ms\n",
      "Speed: 2.0ms preprocess, 20.1ms inference, 4.0ms postprocess per image at shape (1, 3, 480, 640)\n",
      "\n",
      "0: 480x640 1 battery_plus, 20.1ms\n"
     ]
    },
    {
     "name": "stdout",
     "output_type": "stream",
     "text": [
      "[[193.13665771484375, 249.08164978027344, 196.70822426124855]]\n",
      "6.621621621621621\n",
      "[[193.0975341796875, 249.00344848632812, 196.77484017831307]]\n",
      "6.621621621621621\n",
      "[[192.87127685546875, 248.916015625, 196.84932002314815]]\n",
      "6.621621621621621\n"
     ]
    },
    {
     "name": "stderr",
     "output_type": "stream",
     "text": [
      "Speed: 3.0ms preprocess, 20.1ms inference, 2.9ms postprocess per image at shape (1, 3, 480, 640)\n",
      "\n",
      "0: 480x640 1 battery_plus, 20.1ms\n",
      "Speed: 2.0ms preprocess, 20.1ms inference, 3.9ms postprocess per image at shape (1, 3, 480, 640)\n",
      "\n",
      "0: 480x640 1 battery_plus, 20.0ms\n",
      "Speed: 3.0ms preprocess, 20.0ms inference, 2.9ms postprocess per image at shape (1, 3, 480, 640)\n",
      "\n"
     ]
    },
    {
     "name": "stdout",
     "output_type": "stream",
     "text": [
      "[[193.090576171875, 249.19053649902344, 196.6154689082393]]\n",
      "6.621621621621621\n",
      "[[193.0885009765625, 249.02685546875, 196.75490089699073]]\n",
      "6.621621621621621\n",
      "[[193.11614990234375, 249.04266357421875, 196.7414347330729]]\n",
      "6.621621621621621\n"
     ]
    },
    {
     "name": "stderr",
     "output_type": "stream",
     "text": [
      "0: 480x640 1 battery_plus, 19.6ms\n",
      "Speed: 2.0ms preprocess, 19.6ms inference, 2.0ms postprocess per image at shape (1, 3, 480, 640)\n",
      "\n",
      "0: 480x640 1 battery_plus, 19.8ms\n",
      "Speed: 3.0ms preprocess, 19.8ms inference, 3.0ms postprocess per image at shape (1, 3, 480, 640)\n",
      "\n",
      "0: 480x640 1 battery_plus, 19.1ms\n",
      "Speed: 3.0ms preprocess, 19.1ms inference, 3.9ms postprocess per image at shape (1, 3, 480, 640)\n",
      "\n",
      "0: 480x640 1 battery_plus, 20.0ms\n"
     ]
    },
    {
     "name": "stdout",
     "output_type": "stream",
     "text": [
      "[[193.12139892578125, 248.9734344482422, 196.80040769223814]]\n",
      "6.621621621621621\n",
      "[[193.1285400390625, 249.10389709472656, 196.68927284523292]]\n",
      "6.621621621621621\n",
      "[[193.3194580078125, 248.98455810546875, 196.79093198423033]]\n",
      "6.621621621621621\n"
     ]
    },
    {
     "name": "stderr",
     "output_type": "stream",
     "text": [
      "Speed: 2.0ms preprocess, 20.0ms inference, 2.0ms postprocess per image at shape (1, 3, 480, 640)\n",
      "\n",
      "0: 480x640 1 battery_plus, 20.1ms\n",
      "Speed: 3.0ms preprocess, 20.1ms inference, 3.0ms postprocess per image at shape (1, 3, 480, 640)\n",
      "\n",
      "0: 480x640 1 battery_plus, 20.0ms\n",
      "Speed: 3.0ms preprocess, 20.0ms inference, 3.0ms postprocess per image at shape (1, 3, 480, 640)\n",
      "\n"
     ]
    },
    {
     "name": "stdout",
     "output_type": "stream",
     "text": [
      "[[193.24325561523438, 249.07308959960938, 196.71551626699943]]\n",
      "6.621621621621621\n",
      "[[193.1830596923828, 249.08328247070312, 196.70683345088253]]\n",
      "6.621621621621621\n",
      "[[193.14976501464844, 249.26004028320312, 196.5562619809751]]\n",
      "6.621621621621621\n"
     ]
    },
    {
     "name": "stderr",
     "output_type": "stream",
     "text": [
      "0: 480x640 1 battery_plus, 20.1ms\n",
      "Speed: 3.0ms preprocess, 20.1ms inference, 3.0ms postprocess per image at shape (1, 3, 480, 640)\n",
      "\n",
      "0: 480x640 1 battery_plus, 20.0ms\n",
      "Speed: 3.0ms preprocess, 20.0ms inference, 5.0ms postprocess per image at shape (1, 3, 480, 640)\n",
      "\n",
      "0: 480x640 1 battery_plus, 19.1ms\n",
      "Speed: 3.0ms preprocess, 19.1ms inference, 3.1ms postprocess per image at shape (1, 3, 480, 640)\n",
      "\n"
     ]
    },
    {
     "name": "stdout",
     "output_type": "stream",
     "text": [
      "[[193.01510620117188, 249.1227569580078, 196.67320703577113]]\n",
      "6.621621621621621\n",
      "[[193.2818603515625, 249.04269409179688, 196.74140873661747]]\n",
      "6.621621621621621\n",
      "[[193.36045837402344, 249.13198852539062, 196.66534310800057]]\n",
      "6.621621621621621\n"
     ]
    },
    {
     "name": "stderr",
     "output_type": "stream",
     "text": [
      "0: 480x640 1 battery_plus, 20.0ms\n",
      "Speed: 3.0ms preprocess, 20.0ms inference, 4.1ms postprocess per image at shape (1, 3, 480, 640)\n",
      "\n",
      "0: 480x640 1 battery_plus, 19.0ms\n",
      "Speed: 4.0ms preprocess, 19.0ms inference, 3.0ms postprocess per image at shape (1, 3, 480, 640)\n",
      "\n",
      "0: 480x640 1 battery_plus, 20.0ms\n",
      "Speed: 3.0ms preprocess, 20.0ms inference, 3.0ms postprocess per image at shape (1, 3, 480, 640)\n",
      "\n",
      "0: 480x640 1 battery_plus, 20.0ms\n"
     ]
    },
    {
     "name": "stdout",
     "output_type": "stream",
     "text": [
      "[[193.03903198242188, 249.08462524414062, 196.70568960684318]]\n",
      "6.621621621621621\n",
      "[[193.03140258789062, 249.12271118164062, 196.6732460304543]]\n",
      "6.621621621621621\n",
      "[[193.1190948486328, 249.12388610839844, 196.67224516691985]]\n",
      "6.621621621621621\n"
     ]
    },
    {
     "name": "stderr",
     "output_type": "stream",
     "text": [
      "Speed: 2.9ms preprocess, 20.0ms inference, 3.0ms postprocess per image at shape (1, 3, 480, 640)\n",
      "\n",
      "0: 480x640 1 battery_plus, 20.0ms\n",
      "Speed: 2.9ms preprocess, 20.0ms inference, 4.0ms postprocess per image at shape (1, 3, 480, 640)\n",
      "\n",
      "0: 480x640 1 battery_plus, 20.0ms\n",
      "Speed: 2.0ms preprocess, 20.0ms inference, 4.0ms postprocess per image at shape (1, 3, 480, 640)\n",
      "\n"
     ]
    },
    {
     "name": "stdout",
     "output_type": "stream",
     "text": [
      "[[193.0775146484375, 248.97390747070312, 196.80000474717883]]\n",
      "6.621621621621621\n",
      "[[193.08444213867188, 249.06153869628906, 196.72535592538338]]\n",
      "6.621621621621621\n",
      "[[193.19398498535156, 249.13070678710938, 196.66643495912905]]\n",
      "6.621621621621621\n"
     ]
    },
    {
     "name": "stderr",
     "output_type": "stream",
     "text": [
      "0: 480x640 1 battery_plus, 20.1ms\n",
      "Speed: 3.0ms preprocess, 20.1ms inference, 2.9ms postprocess per image at shape (1, 3, 480, 640)\n",
      "\n",
      "0: 480x640 1 battery_plus, 20.0ms\n",
      "Speed: 3.0ms preprocess, 20.0ms inference, 2.0ms postprocess per image at shape (1, 3, 480, 640)\n",
      "\n",
      "0: 480x640 1 battery_plus, 19.1ms\n",
      "Speed: 3.0ms preprocess, 19.1ms inference, 4.0ms postprocess per image at shape (1, 3, 480, 640)\n",
      "\n"
     ]
    },
    {
     "name": "stdout",
     "output_type": "stream",
     "text": [
      "[[192.98101806640625, 249.11068725585938, 196.68348863389758]]\n",
      "6.621621621621621\n",
      "[[193.244873046875, 249.09136962890625, 196.69994439019098]]\n",
      "6.621621621621621\n",
      "[[193.0519256591797, 249.05438232421875, 196.73145209418402]]\n",
      "6.621621621621621\n"
     ]
    },
    {
     "name": "stderr",
     "output_type": "stream",
     "text": [
      "0: 480x640 1 battery_plus, 20.1ms\n",
      "Speed: 3.0ms preprocess, 20.1ms inference, 3.0ms postprocess per image at shape (1, 3, 480, 640)\n",
      "\n",
      "0: 480x640 1 battery_plus, 20.0ms\n",
      "Speed: 4.0ms preprocess, 20.0ms inference, 3.0ms postprocess per image at shape (1, 3, 480, 640)\n",
      "\n",
      "0: 480x640 1 battery_plus, 20.0ms\n",
      "Speed: 2.0ms preprocess, 20.0ms inference, 4.0ms postprocess per image at shape (1, 3, 480, 640)\n",
      "\n"
     ]
    },
    {
     "name": "stdout",
     "output_type": "stream",
     "text": [
      "[[192.9381103515625, 249.03680419921875, 196.74642605251736]]\n",
      "6.621621621621621\n",
      "[[193.1494903564453, 249.06561279296875, 196.72188539858217]]\n",
      "6.621621621621621\n",
      "[[192.99899291992188, 249.142578125, 196.65632233796296]]\n",
      "6.621621621621621\n"
     ]
    },
    {
     "name": "stderr",
     "output_type": "stream",
     "text": [
      "0: 480x640 1 battery_plus, 20.0ms\n",
      "Speed: 3.0ms preprocess, 20.0ms inference, 3.0ms postprocess per image at shape (1, 3, 480, 640)\n",
      "\n",
      "0: 480x640 1 battery_plus, 20.1ms\n",
      "Speed: 2.0ms preprocess, 20.1ms inference, 3.0ms postprocess per image at shape (1, 3, 480, 640)\n",
      "\n",
      "0: 480x640 1 battery_plus, 19.1ms\n",
      "Speed: 2.9ms preprocess, 19.1ms inference, 3.0ms postprocess per image at shape (1, 3, 480, 640)\n",
      "\n"
     ]
    },
    {
     "name": "stdout",
     "output_type": "stream",
     "text": [
      "[[193.16079711914062, 249.20956420898438, 196.59926011827258]]\n",
      "6.621621621621621\n",
      "[[192.91555786132812, 248.9566650390625, 196.8146927445023]]\n",
      "6.621621621621621\n",
      "[[193.1719970703125, 249.0902099609375, 196.7009322554977]]\n",
      "6.621621621621621\n"
     ]
    },
    {
     "name": "stderr",
     "output_type": "stream",
     "text": [
      "0: 480x640 1 battery_plus, 20.1ms\n",
      "Speed: 2.0ms preprocess, 20.1ms inference, 4.0ms postprocess per image at shape (1, 3, 480, 640)\n",
      "\n",
      "0: 480x640 1 battery_plus, 19.9ms\n",
      "Speed: 2.1ms preprocess, 19.9ms inference, 4.0ms postprocess per image at shape (1, 3, 480, 640)\n",
      "\n",
      "0: 480x640 1 battery_plus, 19.0ms\n",
      "Speed: 4.0ms preprocess, 19.0ms inference, 3.0ms postprocess per image at shape (1, 3, 480, 640)\n",
      "\n",
      "0: 480x640 1 battery_plus, 19.0ms\n"
     ]
    },
    {
     "name": "stdout",
     "output_type": "stream",
     "text": [
      "[[193.10726928710938, 249.0306854248047, 196.75163834183306]]\n",
      "6.621621621621621\n",
      "[[193.07077026367188, 249.15623474121094, 196.64468892415366]]\n",
      "6.621621621621621\n",
      "[[193.02066040039062, 249.1008758544922, 196.69184649432148]]\n",
      "6.621621621621621\n"
     ]
    },
    {
     "name": "stderr",
     "output_type": "stream",
     "text": [
      "Speed: 2.9ms preprocess, 19.0ms inference, 4.0ms postprocess per image at shape (1, 3, 480, 640)\n",
      "\n",
      "0: 480x640 1 battery_plus, 20.0ms\n",
      "Speed: 3.9ms preprocess, 20.0ms inference, 3.0ms postprocess per image at shape (1, 3, 480, 640)\n",
      "\n",
      "0: 480x640 1 battery_plus, 20.0ms\n",
      "Speed: 2.0ms preprocess, 20.0ms inference, 3.0ms postprocess per image at shape (1, 3, 480, 640)\n",
      "\n"
     ]
    },
    {
     "name": "stdout",
     "output_type": "stream",
     "text": [
      "[[193.1355438232422, 248.97903442382812, 196.79563734266495]]\n",
      "6.621621621621621\n",
      "[[193.40878295898438, 249.14407348632812, 196.6550485116464]]\n",
      "6.621621621621621\n",
      "[[193.13180541992188, 249.0208282470703, 196.7600351969401]]\n",
      "6.621621621621621\n"
     ]
    },
    {
     "name": "stderr",
     "output_type": "stream",
     "text": [
      "0: 480x640 1 battery_plus, 20.1ms\n",
      "Speed: 2.0ms preprocess, 20.1ms inference, 3.0ms postprocess per image at shape (1, 3, 480, 640)\n",
      "\n",
      "0: 480x640 1 battery_plus, 20.0ms\n",
      "Speed: 2.0ms preprocess, 20.0ms inference, 3.0ms postprocess per image at shape (1, 3, 480, 640)\n",
      "\n",
      "0: 480x640 1 battery_plus, 20.1ms\n",
      "Speed: 3.0ms preprocess, 20.1ms inference, 3.0ms postprocess per image at shape (1, 3, 480, 640)\n",
      "\n"
     ]
    },
    {
     "name": "stdout",
     "output_type": "stream",
     "text": [
      "[[193.16738891601562, 249.19781494140625, 196.6092687536169]]\n",
      "6.621621621621621\n",
      "[[193.13047790527344, 248.984375, 196.79108796296296]]\n",
      "6.621621621621621\n",
      "[[193.0632781982422, 249.18740844726562, 196.61813354492188]]\n",
      "6.621621621621621\n"
     ]
    },
    {
     "name": "stderr",
     "output_type": "stream",
     "text": [
      "0: 480x640 1 battery_plus, 20.1ms\n",
      "Speed: 3.0ms preprocess, 20.1ms inference, 3.0ms postprocess per image at shape (1, 3, 480, 640)\n",
      "\n",
      "0: 480x640 1 battery_plus, 20.0ms\n",
      "Speed: 2.9ms preprocess, 20.0ms inference, 4.0ms postprocess per image at shape (1, 3, 480, 640)\n",
      "\n",
      "0: 480x640 1 battery_plus, 19.1ms\n",
      "Speed: 3.0ms preprocess, 19.1ms inference, 3.9ms postprocess per image at shape (1, 3, 480, 640)\n",
      "\n"
     ]
    },
    {
     "name": "stdout",
     "output_type": "stream",
     "text": [
      "[[193.12625122070312, 249.10504150390625, 196.68829797815394]]\n",
      "6.621621621621621\n",
      "[[193.1964111328125, 248.9171142578125, 196.8483841507523]]\n",
      "6.621621621621621\n",
      "[[193.133056640625, 249.07321166992188, 196.71541228117766]]\n",
      "6.621621621621621\n"
     ]
    },
    {
     "name": "stderr",
     "output_type": "stream",
     "text": [
      "0: 480x640 1 battery_plus, 20.1ms\n",
      "Speed: 3.0ms preprocess, 20.1ms inference, 3.0ms postprocess per image at shape (1, 3, 480, 640)\n",
      "\n",
      "0: 480x640 1 battery_plus, 20.0ms\n",
      "Speed: 2.0ms preprocess, 20.0ms inference, 2.0ms postprocess per image at shape (1, 3, 480, 640)\n",
      "\n",
      "0: 480x640 1 battery_plus, 20.0ms\n",
      "Speed: 2.0ms preprocess, 20.0ms inference, 3.0ms postprocess per image at shape (1, 3, 480, 640)\n",
      "\n"
     ]
    },
    {
     "name": "stdout",
     "output_type": "stream",
     "text": [
      "[[192.96128845214844, 249.1903533935547, 196.61562488697194]]\n",
      "6.621621621621621\n",
      "[[193.09222412109375, 249.0106201171875, 196.76873101128473]]\n",
      "6.621621621621621\n",
      "[[193.08575439453125, 249.1365203857422, 196.66148263436776]]\n",
      "6.621621621621621\n"
     ]
    },
    {
     "name": "stderr",
     "output_type": "stream",
     "text": [
      "0: 480x640 1 battery_plus, 20.1ms\n",
      "Speed: 2.9ms preprocess, 20.1ms inference, 3.0ms postprocess per image at shape (1, 3, 480, 640)\n",
      "\n",
      "0: 480x640 1 battery_plus, 19.0ms\n",
      "Speed: 3.0ms preprocess, 19.0ms inference, 4.0ms postprocess per image at shape (1, 3, 480, 640)\n",
      "\n",
      "0: 480x640 1 battery_plus, 20.1ms\n",
      "Speed: 2.0ms preprocess, 20.1ms inference, 2.9ms postprocess per image at shape (1, 3, 480, 640)\n",
      "\n",
      "0: 480x640 1 battery_plus, 20.1ms\n"
     ]
    },
    {
     "name": "stdout",
     "output_type": "stream",
     "text": [
      "[[193.15142822265625, 249.07940673828125, 196.71013500072337]]\n",
      "6.621621621621621\n",
      "[[193.03128051757812, 248.96835327148438, 196.80473610206886]]\n",
      "6.621621621621621\n",
      "[[193.06854248046875, 248.9761199951172, 196.79812000415944]]\n",
      "6.621621621621621\n"
     ]
    },
    {
     "name": "stderr",
     "output_type": "stream",
     "text": [
      "Speed: 3.0ms preprocess, 20.1ms inference, 4.0ms postprocess per image at shape (1, 3, 480, 640)\n",
      "\n",
      "0: 480x640 1 battery_plus, 19.0ms\n",
      "Speed: 2.9ms preprocess, 19.0ms inference, 4.0ms postprocess per image at shape (1, 3, 480, 640)\n",
      "\n",
      "0: 480x640 1 battery_plus, 19.0ms\n",
      "Speed: 3.0ms preprocess, 19.0ms inference, 4.0ms postprocess per image at shape (1, 3, 480, 640)\n",
      "\n"
     ]
    },
    {
     "name": "stdout",
     "output_type": "stream",
     "text": [
      "[[193.24900817871094, 249.08908081054688, 196.70189412434897]]\n",
      "6.621621621621621\n",
      "[[193.32421875, 249.1300048828125, 196.66703287760416]]\n",
      "6.621621621621621\n",
      "[[193.07992553710938, 249.07003784179688, 196.7181159125434]]\n",
      "6.621621621621621\n"
     ]
    },
    {
     "name": "stderr",
     "output_type": "stream",
     "text": [
      "0: 480x640 1 battery_plus, 20.1ms\n",
      "Speed: 2.0ms preprocess, 20.1ms inference, 3.9ms postprocess per image at shape (1, 3, 480, 640)\n",
      "\n",
      "0: 480x640 1 battery_plus, 19.8ms\n",
      "Speed: 3.0ms preprocess, 19.8ms inference, 3.9ms postprocess per image at shape (1, 3, 480, 640)\n",
      "\n",
      "0: 480x640 1 battery_plus, 20.0ms\n",
      "Speed: 2.0ms preprocess, 20.0ms inference, 2.0ms postprocess per image at shape (1, 3, 480, 640)\n",
      "\n",
      "0: 480x640 1 battery_plus, 20.1ms\n"
     ]
    },
    {
     "name": "stdout",
     "output_type": "stream",
     "text": [
      "[[192.95925903320312, 248.97218322753906, 196.80147354691118]]\n",
      "6.621621621621621\n",
      "[[193.0703582763672, 249.153564453125, 196.64696361400462]]\n",
      "6.621621621621621\n",
      "[[193.11097717285156, 249.12881469726562, 196.66804673936633]]\n",
      "6.621621621621621\n"
     ]
    },
    {
     "name": "stderr",
     "output_type": "stream",
     "text": [
      "Speed: 3.0ms preprocess, 20.1ms inference, 3.0ms postprocess per image at shape (1, 3, 480, 640)\n",
      "\n",
      "0: 480x640 1 battery_plus, 19.0ms\n",
      "Speed: 4.0ms preprocess, 19.0ms inference, 5.0ms postprocess per image at shape (1, 3, 480, 640)\n",
      "\n",
      "0: 480x640 1 battery_plus, 20.1ms\n",
      "Speed: 3.0ms preprocess, 20.1ms inference, 3.0ms postprocess per image at shape (1, 3, 480, 640)\n",
      "\n"
     ]
    },
    {
     "name": "stdout",
     "output_type": "stream",
     "text": [
      "[[193.09365844726562, 249.19700622558594, 196.60995765968605]]\n",
      "6.621621621621621\n",
      "[[193.17071533203125, 249.15060424804688, 196.64948527018228]]\n",
      "6.621621621621621\n",
      "[[193.15713500976562, 249.18429565429688, 196.62078518337674]]\n",
      "6.621621621621621\n"
     ]
    },
    {
     "name": "stderr",
     "output_type": "stream",
     "text": [
      "0: 480x640 1 battery_plus, 20.0ms\n",
      "Speed: 2.9ms preprocess, 20.0ms inference, 1.9ms postprocess per image at shape (1, 3, 480, 640)\n",
      "\n",
      "0: 480x640 1 battery_plus, 20.1ms\n",
      "Speed: 1.9ms preprocess, 20.1ms inference, 4.0ms postprocess per image at shape (1, 3, 480, 640)\n",
      "\n",
      "0: 480x640 1 battery_plus, 20.1ms\n",
      "Speed: 3.0ms preprocess, 20.1ms inference, 3.0ms postprocess per image at shape (1, 3, 480, 640)\n",
      "\n",
      "0: 480x640 1 battery_plus, 20.0ms\n"
     ]
    },
    {
     "name": "stdout",
     "output_type": "stream",
     "text": [
      "[[193.31344604492188, 249.04812622070312, 196.73678136754918]]\n",
      "6.621621621621621\n",
      "[[193.34780883789062, 249.15042114257812, 196.64964124891495]]\n",
      "6.621621621621621\n",
      "[[193.21774291992188, 249.03057861328125, 196.7517293294271]]\n",
      "6.621621621621621\n"
     ]
    },
    {
     "name": "stderr",
     "output_type": "stream",
     "text": [
      "Speed: 3.1ms preprocess, 20.0ms inference, 4.0ms postprocess per image at shape (1, 3, 480, 640)\n",
      "\n",
      "0: 480x640 1 battery_plus, 20.0ms\n",
      "Speed: 2.0ms preprocess, 20.0ms inference, 4.0ms postprocess per image at shape (1, 3, 480, 640)\n",
      "\n",
      "0: 480x640 1 battery_plus, 19.0ms\n",
      "Speed: 3.0ms preprocess, 19.0ms inference, 4.0ms postprocess per image at shape (1, 3, 480, 640)\n",
      "\n"
     ]
    },
    {
     "name": "stdout",
     "output_type": "stream",
     "text": [
      "[[193.1396484375, 249.05307006835938, 196.73256994176793]]\n",
      "6.621621621621621\n",
      "[[193.07199096679688, 249.23646545410156, 196.57634424280238]]\n",
      "6.621621621621621\n",
      "[[193.09088134765625, 249.06027221679688, 196.72643477828416]]\n",
      "6.621621621621621\n"
     ]
    },
    {
     "name": "stderr",
     "output_type": "stream",
     "text": [
      "0: 480x640 1 battery_plus, 20.1ms\n",
      "Speed: 3.0ms preprocess, 20.1ms inference, 3.0ms postprocess per image at shape (1, 3, 480, 640)\n",
      "\n",
      "0: 480x640 1 battery_plus, 20.1ms\n",
      "Speed: 2.9ms preprocess, 20.1ms inference, 3.0ms postprocess per image at shape (1, 3, 480, 640)\n",
      "\n",
      "0: 480x640 1 battery_plus, 20.1ms\n",
      "Speed: 2.0ms preprocess, 20.1ms inference, 3.0ms postprocess per image at shape (1, 3, 480, 640)\n",
      "\n",
      "0: 480x640 1 battery_plus, 20.0ms\n"
     ]
    },
    {
     "name": "stdout",
     "output_type": "stream",
     "text": [
      "[[193.23928833007812, 249.03485107421875, 196.74808982566552]]\n",
      "6.621621621621621\n",
      "[[193.12571716308594, 249.10964965820312, 196.68437251338253]]\n",
      "6.621621621621621\n",
      "[[193.12701416015625, 249.07505798339844, 196.71383949562355]]\n",
      "6.621621621621621\n"
     ]
    },
    {
     "name": "stderr",
     "output_type": "stream",
     "text": [
      "Speed: 2.0ms preprocess, 20.0ms inference, 4.0ms postprocess per image at shape (1, 3, 480, 640)\n",
      "\n",
      "0: 480x640 1 battery_plus, 20.0ms\n",
      "Speed: 3.1ms preprocess, 20.0ms inference, 2.9ms postprocess per image at shape (1, 3, 480, 640)\n",
      "\n",
      "0: 480x640 1 battery_plus, 19.0ms\n",
      "Speed: 3.9ms preprocess, 19.0ms inference, 3.0ms postprocess per image at shape (1, 3, 480, 640)\n",
      "\n"
     ]
    },
    {
     "name": "stdout",
     "output_type": "stream",
     "text": [
      "[[193.2379608154297, 249.21688842773438, 196.593020968967]]\n",
      "6.621621621621621\n",
      "[[193.19503784179688, 249.1771240234375, 196.62689435040508]]\n",
      "6.621621621621621\n",
      "[[193.2159881591797, 249.0377960205078, 196.74558116771556]]\n",
      "6.621621621621621\n"
     ]
    },
    {
     "name": "stderr",
     "output_type": "stream",
     "text": [
      "0: 480x640 1 battery_plus, 20.0ms\n",
      "Speed: 3.0ms preprocess, 20.0ms inference, 2.0ms postprocess per image at shape (1, 3, 480, 640)\n",
      "\n",
      "0: 480x640 1 battery_plus, 20.0ms\n",
      "Speed: 3.0ms preprocess, 20.0ms inference, 3.0ms postprocess per image at shape (1, 3, 480, 640)\n",
      "\n",
      "0: 480x640 1 battery_plus, 20.0ms\n",
      "Speed: 2.0ms preprocess, 20.0ms inference, 4.0ms postprocess per image at shape (1, 3, 480, 640)\n",
      "\n"
     ]
    },
    {
     "name": "stdout",
     "output_type": "stream",
     "text": [
      "[[193.11532592773438, 249.10525512695312, 196.68811600296587]]\n",
      "6.621621621621621\n",
      "[[193.25750732421875, 249.1807098388672, 196.6238397668909]]\n",
      "6.621621621621621\n",
      "[[193.0614471435547, 249.2831268310547, 196.5365956624349]]\n",
      "6.621621621621621\n"
     ]
    },
    {
     "name": "stderr",
     "output_type": "stream",
     "text": [
      "0: 480x640 1 battery_plus, 20.1ms\n",
      "Speed: 3.0ms preprocess, 20.1ms inference, 3.0ms postprocess per image at shape (1, 3, 480, 640)\n",
      "\n",
      "0: 480x640 1 battery_plus, 19.1ms\n",
      "Speed: 3.0ms preprocess, 19.1ms inference, 3.0ms postprocess per image at shape (1, 3, 480, 640)\n",
      "\n",
      "0: 480x640 1 battery_plus, 20.0ms\n",
      "Speed: 3.0ms preprocess, 20.0ms inference, 4.0ms postprocess per image at shape (1, 3, 480, 640)\n",
      "\n"
     ]
    },
    {
     "name": "stdout",
     "output_type": "stream",
     "text": [
      "[[193.19381713867188, 249.20962524414062, 196.59920812536168]]\n",
      "6.621621621621621\n",
      "[[193.24888610839844, 249.0701446533203, 196.71802492494936]]\n",
      "6.621621621621621\n",
      "[[193.0355987548828, 249.26776123046875, 196.54968487774883]]\n",
      "6.621621621621621\n"
     ]
    },
    {
     "name": "stderr",
     "output_type": "stream",
     "text": [
      "0: 480x640 1 battery_plus, 19.0ms\n",
      "Speed: 2.0ms preprocess, 19.0ms inference, 3.0ms postprocess per image at shape (1, 3, 480, 640)\n",
      "\n",
      "0: 480x640 1 battery_plus, 20.0ms\n",
      "Speed: 3.0ms preprocess, 20.0ms inference, 3.0ms postprocess per image at shape (1, 3, 480, 640)\n",
      "\n",
      "0: 480x640 1 battery_plus, 19.1ms\n",
      "Speed: 4.0ms preprocess, 19.1ms inference, 3.0ms postprocess per image at shape (1, 3, 480, 640)\n",
      "\n"
     ]
    },
    {
     "name": "stdout",
     "output_type": "stream",
     "text": [
      "[[193.13360595703125, 249.19383239746094, 196.6126612910518]]\n",
      "6.621621621621621\n",
      "[[193.05392456054688, 249.1561279296875, 196.6447799117477]]\n",
      "6.621621621621621\n",
      "[[193.17144775390625, 249.06735229492188, 196.72040360062212]]\n",
      "6.621621621621621\n"
     ]
    },
    {
     "name": "stderr",
     "output_type": "stream",
     "text": [
      "0: 480x640 1 battery_plus, 19.0ms\n",
      "Speed: 3.0ms preprocess, 19.0ms inference, 3.0ms postprocess per image at shape (1, 3, 480, 640)\n",
      "\n",
      "0: 480x640 1 battery_plus, 19.0ms\n",
      "Speed: 3.0ms preprocess, 19.0ms inference, 2.0ms postprocess per image at shape (1, 3, 480, 640)\n",
      "\n",
      "0: 480x640 1 battery_plus, 19.1ms\n",
      "Speed: 2.9ms preprocess, 19.1ms inference, 2.9ms postprocess per image at shape (1, 3, 480, 640)\n",
      "\n"
     ]
    },
    {
     "name": "stdout",
     "output_type": "stream",
     "text": [
      "[[192.98333740234375, 249.174560546875, 196.62907805266204]]\n",
      "6.621621621621621\n",
      "[[193.12344360351562, 249.17291259765625, 196.6304818612558]]\n",
      "6.621621621621621\n",
      "[[193.13540649414062, 249.1279296875, 196.66880063657408]]\n",
      "6.621621621621621\n"
     ]
    },
    {
     "name": "stderr",
     "output_type": "stream",
     "text": [
      "0: 480x640 1 battery_plus, 20.0ms\n",
      "Speed: 3.0ms preprocess, 20.0ms inference, 3.0ms postprocess per image at shape (1, 3, 480, 640)\n",
      "\n",
      "0: 480x640 1 battery_plus, 19.0ms\n",
      "Speed: 2.9ms preprocess, 19.0ms inference, 2.0ms postprocess per image at shape (1, 3, 480, 640)\n",
      "\n",
      "0: 480x640 1 battery_plus, 19.0ms\n",
      "Speed: 3.0ms preprocess, 19.0ms inference, 4.1ms postprocess per image at shape (1, 3, 480, 640)\n",
      "\n"
     ]
    },
    {
     "name": "stdout",
     "output_type": "stream",
     "text": [
      "[[193.06942749023438, 249.13461303710938, 196.66310741283274]]\n",
      "6.621621621621621\n",
      "[[193.1243896484375, 249.0389404296875, 196.74460630063658]]\n",
      "6.621621621621621\n",
      "[[193.14291381835938, 249.20114135742188, 196.60643513997397]]\n",
      "6.621621621621621\n"
     ]
    },
    {
     "name": "stderr",
     "output_type": "stream",
     "text": [
      "0: 480x640 1 battery_plus, 19.8ms\n",
      "Speed: 3.0ms preprocess, 19.8ms inference, 4.0ms postprocess per image at shape (1, 3, 480, 640)\n",
      "\n",
      "0: 480x640 1 battery_plus, 20.0ms\n",
      "Speed: 3.0ms preprocess, 20.0ms inference, 2.0ms postprocess per image at shape (1, 3, 480, 640)\n",
      "\n",
      "0: 480x640 1 battery_plus, 20.0ms\n",
      "Speed: 3.0ms preprocess, 20.0ms inference, 3.0ms postprocess per image at shape (1, 3, 480, 640)\n",
      "\n"
     ]
    },
    {
     "name": "stdout",
     "output_type": "stream",
     "text": [
      "[[193.06887817382812, 249.25653076171875, 196.5592515733507]]\n",
      "6.621621621621621\n",
      "[[193.28558349609375, 249.01654052734375, 196.7636876989294]]\n",
      "6.621621621621621\n",
      "[[193.0562286376953, 249.11843872070312, 196.67688553421587]]\n",
      "6.621621621621621\n"
     ]
    },
    {
     "name": "stderr",
     "output_type": "stream",
     "text": [
      "0: 480x640 1 battery_plus, 19.0ms\n",
      "Speed: 3.0ms preprocess, 19.0ms inference, 4.0ms postprocess per image at shape (1, 3, 480, 640)\n",
      "\n",
      "0: 480x640 1 battery_plus, 19.1ms\n",
      "Speed: 2.0ms preprocess, 19.1ms inference, 4.0ms postprocess per image at shape (1, 3, 480, 640)\n",
      "\n",
      "0: 480x640 1 battery_plus, 19.1ms\n",
      "Speed: 3.0ms preprocess, 19.1ms inference, 3.0ms postprocess per image at shape (1, 3, 480, 640)\n",
      "\n"
     ]
    },
    {
     "name": "stdout",
     "output_type": "stream",
     "text": [
      "[[193.11572265625, 249.07176208496094, 196.71664711281105]]\n",
      "6.621621621621621\n",
      "[[193.3818817138672, 249.1189727783203, 196.67643059624567]]\n",
      "6.621621621621621\n",
      "[[193.0025634765625, 249.1283721923828, 196.6684236879702]]\n",
      "6.621621621621621\n"
     ]
    },
    {
     "name": "stderr",
     "output_type": "stream",
     "text": [
      "0: 480x640 1 battery_plus, 20.0ms\n",
      "Speed: 2.0ms preprocess, 20.0ms inference, 3.0ms postprocess per image at shape (1, 3, 480, 640)\n",
      "\n",
      "0: 480x640 1 battery_plus, 19.1ms\n",
      "Speed: 2.0ms preprocess, 19.1ms inference, 4.0ms postprocess per image at shape (1, 3, 480, 640)\n",
      "\n",
      "0: 480x640 1 battery_plus, 20.0ms\n",
      "Speed: 2.9ms preprocess, 20.0ms inference, 3.0ms postprocess per image at shape (1, 3, 480, 640)\n",
      "\n",
      "0: 480x640 1 battery_plus, 20.1ms\n"
     ]
    },
    {
     "name": "stdout",
     "output_type": "stream",
     "text": [
      "[[192.9052734375, 249.0803680419922, 196.70931611237702]]\n",
      "6.621621621621621\n",
      "[[193.1061553955078, 249.27218627929688, 196.54591539171008]]\n",
      "6.621621621621621\n",
      "[[192.99069213867188, 249.20474243164062, 196.60336755823207]]\n",
      "6.621621621621621\n"
     ]
    },
    {
     "name": "stderr",
     "output_type": "stream",
     "text": [
      "Speed: 2.9ms preprocess, 20.1ms inference, 3.0ms postprocess per image at shape (1, 3, 480, 640)\n",
      "\n",
      "0: 480x640 1 battery_plus, 19.0ms\n",
      "Speed: 3.0ms preprocess, 19.0ms inference, 4.0ms postprocess per image at shape (1, 3, 480, 640)\n",
      "\n",
      "0: 480x640 1 battery_plus, 19.1ms\n",
      "Speed: 3.9ms preprocess, 19.1ms inference, 4.0ms postprocess per image at shape (1, 3, 480, 640)\n",
      "\n"
     ]
    },
    {
     "name": "stdout",
     "output_type": "stream",
     "text": [
      "[[193.14280700683594, 249.15521240234375, 196.64555980541087]]\n",
      "6.621621621621621\n",
      "[[193.14207458496094, 248.9207763671875, 196.84526457609954]]\n",
      "6.621621621621621\n",
      "[[193.0567626953125, 249.0426025390625, 196.7414867259838]]\n",
      "6.621621621621621\n"
     ]
    },
    {
     "name": "stderr",
     "output_type": "stream",
     "text": [
      "0: 480x640 1 battery_plus, 19.0ms\n",
      "Speed: 2.0ms preprocess, 19.0ms inference, 5.0ms postprocess per image at shape (1, 3, 480, 640)\n",
      "\n",
      "0: 480x640 1 battery_plus, 20.1ms\n",
      "Speed: 3.0ms preprocess, 20.1ms inference, 4.0ms postprocess per image at shape (1, 3, 480, 640)\n",
      "\n",
      "0: 480x640 1 battery_plus, 19.7ms\n",
      "Speed: 2.0ms preprocess, 19.7ms inference, 2.0ms postprocess per image at shape (1, 3, 480, 640)\n",
      "\n"
     ]
    },
    {
     "name": "stdout",
     "output_type": "stream",
     "text": [
      "[[193.1773681640625, 249.01588439941406, 196.76424662272134]]\n",
      "6.621621621621621\n",
      "[[193.1634063720703, 248.93014526367188, 196.8372836642795]]\n",
      "6.621621621621621\n",
      "[[193.154541015625, 249.19577026367188, 196.61101051613136]]\n",
      "6.621621621621621\n"
     ]
    },
    {
     "name": "stderr",
     "output_type": "stream",
     "text": [
      "0: 480x640 1 battery_plus, 19.0ms\n",
      "Speed: 2.0ms preprocess, 19.0ms inference, 2.9ms postprocess per image at shape (1, 3, 480, 640)\n",
      "\n",
      "0: 480x640 1 battery_plus, 19.0ms\n",
      "Speed: 3.0ms preprocess, 19.0ms inference, 4.0ms postprocess per image at shape (1, 3, 480, 640)\n",
      "\n",
      "0: 480x640 1 battery_plus, 20.0ms\n",
      "Speed: 2.0ms preprocess, 20.0ms inference, 3.0ms postprocess per image at shape (1, 3, 480, 640)\n",
      "\n",
      "0: 480x640 1 battery_plus, 19.0ms\n"
     ]
    },
    {
     "name": "stdout",
     "output_type": "stream",
     "text": [
      "[[193.12400817871094, 249.1717529296875, 196.6314697265625]]\n",
      "6.621621621621621\n",
      "[[193.1027374267578, 249.10031127929688, 196.69232742874712]]\n",
      "6.621621621621621\n",
      "[[193.0167694091797, 249.07681274414062, 196.71234469943576]]\n",
      "6.621621621621621\n"
     ]
    },
    {
     "name": "stderr",
     "output_type": "stream",
     "text": [
      "Speed: 3.1ms preprocess, 19.0ms inference, 2.0ms postprocess per image at shape (1, 3, 480, 640)\n",
      "\n",
      "0: 480x640 1 battery_plus, 18.9ms\n",
      "Speed: 3.0ms preprocess, 18.9ms inference, 5.1ms postprocess per image at shape (1, 3, 480, 640)\n",
      "\n",
      "0: 480x640 1 battery_plus, 19.0ms\n",
      "Speed: 3.0ms preprocess, 19.0ms inference, 5.0ms postprocess per image at shape (1, 3, 480, 640)\n",
      "\n"
     ]
    },
    {
     "name": "stdout",
     "output_type": "stream",
     "text": [
      "[[193.13687133789062, 249.0088348388672, 196.77025180392795]]\n",
      "6.621621621621621\n",
      "[[192.98516845703125, 249.0548553466797, 196.73104914912471]]\n",
      "6.621621621621621\n",
      "[[193.1513214111328, 249.06982421875, 196.7182978877315]]\n",
      "6.621621621621621\n"
     ]
    },
    {
     "name": "stderr",
     "output_type": "stream",
     "text": [
      "0: 480x640 1 battery_plus, 20.0ms\n",
      "Speed: 4.0ms preprocess, 20.0ms inference, 3.0ms postprocess per image at shape (1, 3, 480, 640)\n",
      "\n",
      "0: 480x640 1 battery_plus, 19.0ms\n",
      "Speed: 3.0ms preprocess, 19.0ms inference, 5.1ms postprocess per image at shape (1, 3, 480, 640)\n",
      "\n",
      "0: 480x640 1 battery_plus, 20.0ms\n",
      "Speed: 3.0ms preprocess, 20.0ms inference, 4.0ms postprocess per image at shape (1, 3, 480, 640)\n",
      "\n"
     ]
    },
    {
     "name": "stdout",
     "output_type": "stream",
     "text": [
      "[[193.14706420898438, 249.11053466796875, 196.68361861617478]]\n",
      "6.621621621621621\n",
      "[[193.05902099609375, 249.15701293945312, 196.64402601453995]]\n",
      "6.621621621621621\n",
      "[[193.1185302734375, 249.05136108398438, 196.73402574327258]]\n",
      "6.621621621621621\n"
     ]
    },
    {
     "name": "stderr",
     "output_type": "stream",
     "text": [
      "0: 480x640 1 battery_plus, 20.0ms\n",
      "Speed: 3.0ms preprocess, 20.0ms inference, 4.0ms postprocess per image at shape (1, 3, 480, 640)\n",
      "\n",
      "0: 480x640 1 battery_plus, 20.0ms\n",
      "Speed: 3.0ms preprocess, 20.0ms inference, 3.0ms postprocess per image at shape (1, 3, 480, 640)\n",
      "\n",
      "0: 480x640 1 battery_plus, 20.0ms\n",
      "Speed: 3.0ms preprocess, 20.0ms inference, 4.0ms postprocess per image at shape (1, 3, 480, 640)\n",
      "\n"
     ]
    },
    {
     "name": "stdout",
     "output_type": "stream",
     "text": [
      "[[193.31228637695312, 249.1393280029297, 196.6590909604673]]\n",
      "6.621621621621621\n",
      "[[193.04205322265625, 249.13418579101562, 196.6634713632089]]\n",
      "6.621621621621621\n",
      "[[193.10885620117188, 248.94293212890625, 196.82639114945025]]\n",
      "6.621621621621621\n"
     ]
    },
    {
     "name": "stderr",
     "output_type": "stream",
     "text": [
      "0: 480x640 1 battery_plus, 19.0ms\n",
      "Speed: 3.0ms preprocess, 19.0ms inference, 4.0ms postprocess per image at shape (1, 3, 480, 640)\n",
      "\n",
      "0: 480x640 1 battery_plus, 19.0ms\n",
      "Speed: 3.0ms preprocess, 19.0ms inference, 4.0ms postprocess per image at shape (1, 3, 480, 640)\n",
      "\n",
      "0: 480x640 1 battery_plus, 20.1ms\n",
      "Speed: 3.0ms preprocess, 20.1ms inference, 3.6ms postprocess per image at shape (1, 3, 480, 640)\n",
      "\n",
      "0: 480x640 1 battery_plus, 20.0ms\n"
     ]
    },
    {
     "name": "stdout",
     "output_type": "stream",
     "text": [
      "[[193.10336303710938, 249.09860229492188, 196.69378323025174]]\n",
      "6.621621621621621\n",
      "[[193.1739959716797, 249.07275390625, 196.71580222800927]]\n",
      "6.621621621621621\n",
      "[[192.98452758789062, 249.19851684570312, 196.6086708351418]]\n",
      "6.621621621621621\n"
     ]
    },
    {
     "name": "stderr",
     "output_type": "stream",
     "text": [
      "Speed: 3.0ms preprocess, 20.0ms inference, 5.0ms postprocess per image at shape (1, 3, 480, 640)\n",
      "\n",
      "0: 480x640 1 battery_plus, 20.0ms\n",
      "Speed: 2.9ms preprocess, 20.0ms inference, 2.0ms postprocess per image at shape (1, 3, 480, 640)\n",
      "\n",
      "0: 480x640 1 battery_plus, 20.1ms\n",
      "Speed: 2.0ms preprocess, 20.1ms inference, 3.0ms postprocess per image at shape (1, 3, 480, 640)\n",
      "\n"
     ]
    },
    {
     "name": "stdout",
     "output_type": "stream",
     "text": [
      "[[193.10606384277344, 249.14222717285156, 196.65662129720053]]\n",
      "6.621621621621621\n",
      "[[193.4127960205078, 249.21902465820312, 196.59120121708622]]\n",
      "6.621621621621621\n",
      "[[193.23876953125, 249.11587524414062, 196.6790692364728]]\n",
      "6.621621621621621\n"
     ]
    },
    {
     "name": "stderr",
     "output_type": "stream",
     "text": [
      "0: 480x640 1 battery_plus, 19.0ms\n",
      "Speed: 3.0ms preprocess, 19.0ms inference, 3.0ms postprocess per image at shape (1, 3, 480, 640)\n",
      "\n",
      "0: 480x640 1 battery_plus, 20.1ms\n",
      "Speed: 2.0ms preprocess, 20.1ms inference, 3.0ms postprocess per image at shape (1, 3, 480, 640)\n",
      "\n",
      "0: 480x640 1 battery_plus, 20.0ms\n",
      "Speed: 2.0ms preprocess, 20.0ms inference, 4.1ms postprocess per image at shape (1, 3, 480, 640)\n",
      "\n"
     ]
    },
    {
     "name": "stdout",
     "output_type": "stream",
     "text": [
      "[[193.03871154785156, 249.09872436523438, 196.69367924442997]]\n",
      "6.621621621621621\n",
      "[[192.96194458007812, 249.0214080810547, 196.75954126428675]]\n",
      "6.621621621621621\n",
      "[[192.9942626953125, 249.05198669433594, 196.73349281593605]]\n",
      "6.621621621621621\n"
     ]
    },
    {
     "name": "stderr",
     "output_type": "stream",
     "text": [
      "0: 480x640 1 battery_plus, 20.1ms\n",
      "Speed: 3.0ms preprocess, 20.1ms inference, 3.0ms postprocess per image at shape (1, 3, 480, 640)\n",
      "\n",
      "0: 480x640 1 battery_plus, 20.0ms\n",
      "Speed: 2.0ms preprocess, 20.0ms inference, 4.0ms postprocess per image at shape (1, 3, 480, 640)\n",
      "\n",
      "0: 480x640 2 battery_pluss, 19.0ms\n",
      "Speed: 1.9ms preprocess, 19.0ms inference, 4.0ms postprocess per image at shape (1, 3, 480, 640)\n",
      "\n",
      "0: 480x640 1 battery_plus, 20.1ms\n"
     ]
    },
    {
     "name": "stdout",
     "output_type": "stream",
     "text": [
      "[[193.36976623535156, 248.9295654296875, 196.83777759693288]]\n",
      "6.621621621621621\n",
      "[[192.906982421875, 248.89808654785156, 196.86459294071904]]\n",
      "6.621621621621621\n",
      "[[193.00143432617188, 248.79183959960938, 196.95509960033274], [128.77999877929688, 167.81216430664062, 265.93778596100987]]\n",
      "6.621621621621621\n"
     ]
    },
    {
     "name": "stderr",
     "output_type": "stream",
     "text": [
      "Speed: 3.0ms preprocess, 20.1ms inference, 3.0ms postprocess per image at shape (1, 3, 480, 640)\n",
      "\n",
      "0: 480x640 1 battery_plus, 20.0ms\n",
      "Speed: 3.0ms preprocess, 20.0ms inference, 4.1ms postprocess per image at shape (1, 3, 480, 640)\n",
      "\n",
      "0: 480x640 1 battery_plus, 20.0ms\n",
      "Speed: 3.0ms preprocess, 20.0ms inference, 3.0ms postprocess per image at shape (1, 3, 480, 640)\n",
      "\n",
      "0: 480x640 1 battery_plus, 20.0ms\n"
     ]
    },
    {
     "name": "stdout",
     "output_type": "stream",
     "text": [
      "[[193.11154174804688, 248.97970581054688, 196.79506542064524]]\n",
      "6.621621621621621\n",
      "[[193.05233764648438, 248.83023071289062, 196.92239605938946]]\n",
      "6.621621621621621\n",
      "[[193.1361541748047, 249.15200805664062, 196.64828943323207]]\n",
      "6.621621621621621\n"
     ]
    },
    {
     "name": "stderr",
     "output_type": "stream",
     "text": [
      "Speed: 3.0ms preprocess, 20.0ms inference, 3.0ms postprocess per image at shape (1, 3, 480, 640)\n",
      "\n",
      "0: 480x640 1 battery_plus, 20.0ms\n",
      "Speed: 2.9ms preprocess, 20.0ms inference, 4.0ms postprocess per image at shape (1, 3, 480, 640)\n",
      "\n",
      "0: 480x640 1 battery_plus, 20.1ms\n",
      "Speed: 2.0ms preprocess, 20.1ms inference, 4.0ms postprocess per image at shape (1, 3, 480, 640)\n",
      "\n"
     ]
    },
    {
     "name": "stdout",
     "output_type": "stream",
     "text": [
      "[[193.0981903076172, 249.00149536132812, 196.77650395146122]]\n",
      "6.621621621621621\n",
      "[[193.31201171875, 249.00985717773438, 196.7693809226707]]\n",
      "6.621621621621621\n",
      "[[193.28665161132812, 248.8804473876953, 196.87961889196325]]\n",
      "6.621621621621621\n"
     ]
    },
    {
     "name": "stderr",
     "output_type": "stream",
     "text": [
      "0: 480x640 1 battery_plus, 20.1ms\n",
      "Speed: 3.0ms preprocess, 20.1ms inference, 3.0ms postprocess per image at shape (1, 3, 480, 640)\n",
      "\n",
      "0: 480x640 2 battery_pluss, 20.1ms\n",
      "Speed: 2.6ms preprocess, 20.1ms inference, 3.0ms postprocess per image at shape (1, 3, 480, 640)\n",
      "\n",
      "0: 480x640 2 battery_pluss, 20.1ms\n",
      "Speed: 1.9ms preprocess, 20.1ms inference, 3.0ms postprocess per image at shape (1, 3, 480, 640)\n",
      "\n",
      "0: 480x640 1 battery_plus, 20.1ms\n"
     ]
    },
    {
     "name": "stdout",
     "output_type": "stream",
     "text": [
      "[[193.26443481445312, 249.02105712890625, 196.75984022352432]]\n",
      "6.621621621621621\n",
      "[[193.2957305908203, 249.04124450683594, 196.74264356825088], [131.26580810546875, 205.80880737304688, 233.57027520073785]]\n",
      "6.621621621621621\n",
      "[[192.95065307617188, 248.92523193359375, 196.84146909360533], [132.4794464111328, 210.12155151367188, 229.8964561179832]]\n",
      "6.621621621621621\n"
     ]
    },
    {
     "name": "stderr",
     "output_type": "stream",
     "text": [
      "Speed: 2.9ms preprocess, 20.1ms inference, 3.0ms postprocess per image at shape (1, 3, 480, 640)\n",
      "\n",
      "0: 480x640 1 battery_plus, 20.1ms\n",
      "Speed: 3.0ms preprocess, 20.1ms inference, 3.0ms postprocess per image at shape (1, 3, 480, 640)\n",
      "\n",
      "0: 480x640 1 battery_plus, 20.0ms\n",
      "Speed: 3.0ms preprocess, 20.0ms inference, 2.0ms postprocess per image at shape (1, 3, 480, 640)\n",
      "\n",
      "0: 480x640 1 battery_plus, 20.0ms\n"
     ]
    },
    {
     "name": "stdout",
     "output_type": "stream",
     "text": [
      "[[193.35308837890625, 249.10414123535156, 196.68906487358942]]\n",
      "6.621621621621621\n",
      "[[193.20387268066406, 249.0274658203125, 196.75438096788196]]\n",
      "6.621621621621621\n",
      "[[192.94891357421875, 248.98202514648438, 196.79308969003182]]\n",
      "6.621621621621621\n"
     ]
    },
    {
     "name": "stderr",
     "output_type": "stream",
     "text": [
      "Speed: 2.0ms preprocess, 20.0ms inference, 4.0ms postprocess per image at shape (1, 3, 480, 640)\n",
      "\n",
      "0: 480x640 1 battery_plus, 20.0ms\n",
      "Speed: 2.0ms preprocess, 20.0ms inference, 3.0ms postprocess per image at shape (1, 3, 480, 640)\n",
      "\n",
      "0: 480x640 1 battery_plus, 19.1ms\n",
      "Speed: 3.0ms preprocess, 19.1ms inference, 4.0ms postprocess per image at shape (1, 3, 480, 640)\n",
      "\n"
     ]
    },
    {
     "name": "stdout",
     "output_type": "stream",
     "text": [
      "[[193.03253173828125, 249.10198974609375, 196.6908976236979]]\n",
      "6.621621621621621\n",
      "[[193.12857055664062, 248.94334411621094, 196.8260401973018]]\n",
      "6.621621621621621\n",
      "[[193.18698120117188, 249.0322723388672, 196.75028652615018]]\n",
      "6.621621621621621\n"
     ]
    },
    {
     "name": "stderr",
     "output_type": "stream",
     "text": [
      "0: 480x640 1 battery_plus, 20.0ms\n",
      "Speed: 3.0ms preprocess, 20.0ms inference, 3.0ms postprocess per image at shape (1, 3, 480, 640)\n",
      "\n",
      "0: 480x640 1 battery_plus, 20.0ms\n",
      "Speed: 2.9ms preprocess, 20.0ms inference, 3.0ms postprocess per image at shape (1, 3, 480, 640)\n",
      "\n",
      "0: 480x640 1 battery_plus, 19.0ms\n",
      "Speed: 2.0ms preprocess, 19.0ms inference, 3.0ms postprocess per image at shape (1, 3, 480, 640)\n",
      "\n",
      "0: 480x640 1 battery_plus, 20.0ms\n"
     ]
    },
    {
     "name": "stdout",
     "output_type": "stream",
     "text": [
      "[[193.0531463623047, 249.03378295898438, 196.7489997016059]]\n",
      "6.621621621621621\n",
      "[[192.98455810546875, 249.07635498046875, 196.71273464626736]]\n",
      "6.621621621621621\n",
      "[[193.24420166015625, 249.03179931640625, 196.75068947120948]]\n",
      "6.621621621621621\n"
     ]
    },
    {
     "name": "stderr",
     "output_type": "stream",
     "text": [
      "Speed: 2.0ms preprocess, 20.0ms inference, 3.1ms postprocess per image at shape (1, 3, 480, 640)\n",
      "\n",
      "0: 480x640 1 battery_plus, 20.0ms\n",
      "Speed: 3.0ms preprocess, 20.0ms inference, 3.0ms postprocess per image at shape (1, 3, 480, 640)\n",
      "\n",
      "0: 480x640 1 battery_plus, 20.1ms\n",
      "Speed: 3.0ms preprocess, 20.1ms inference, 3.0ms postprocess per image at shape (1, 3, 480, 640)\n",
      "\n",
      "0: 480x640 1 battery_plus, 19.8ms\n"
     ]
    },
    {
     "name": "stdout",
     "output_type": "stream",
     "text": [
      "[[193.01507568359375, 248.96607971191406, 196.80667283799914]]\n",
      "6.621621621621621\n",
      "[[193.07974243164062, 249.05303955078125, 196.73259593822337]]\n",
      "6.621621621621621\n",
      "[[193.10037231445312, 248.9762725830078, 196.79799002188224]]\n",
      "6.621621621621621\n"
     ]
    },
    {
     "name": "stderr",
     "output_type": "stream",
     "text": [
      "Speed: 2.0ms preprocess, 19.8ms inference, 4.0ms postprocess per image at shape (1, 3, 480, 640)\n",
      "\n",
      "0: 480x640 1 battery_plus, 19.0ms\n",
      "Speed: 3.0ms preprocess, 19.0ms inference, 4.9ms postprocess per image at shape (1, 3, 480, 640)\n",
      "\n",
      "0: 480x640 1 battery_plus, 19.0ms\n",
      "Speed: 2.0ms preprocess, 19.0ms inference, 2.0ms postprocess per image at shape (1, 3, 480, 640)\n",
      "\n"
     ]
    },
    {
     "name": "stdout",
     "output_type": "stream",
     "text": [
      "[[192.9356689453125, 248.86520385742188, 196.89260412145543]]\n",
      "6.621621621621621\n",
      "[[192.89852905273438, 248.89398193359375, 196.8680894639757]]\n",
      "6.621621621621621\n",
      "[[192.89964294433594, 248.86427307128906, 196.89339701334634]]\n",
      "6.621621621621621\n"
     ]
    },
    {
     "name": "stderr",
     "output_type": "stream",
     "text": [
      "0: 480x640 1 battery_plus, 20.0ms\n",
      "Speed: 3.0ms preprocess, 20.0ms inference, 3.0ms postprocess per image at shape (1, 3, 480, 640)\n",
      "\n",
      "0: 480x640 1 battery_plus, 20.0ms\n",
      "Speed: 2.9ms preprocess, 20.0ms inference, 4.0ms postprocess per image at shape (1, 3, 480, 640)\n",
      "\n",
      "0: 480x640 1 battery_plus, 20.0ms\n",
      "Speed: 2.0ms preprocess, 20.0ms inference, 4.0ms postprocess per image at shape (1, 3, 480, 640)\n",
      "\n"
     ]
    },
    {
     "name": "stdout",
     "output_type": "stream",
     "text": [
      "[[192.93963623046875, 248.75799560546875, 196.98392966941552]]\n",
      "6.621621621621621\n",
      "[[192.97848510742188, 248.85272216796875, 196.90323667173033]]\n",
      "6.621621621621621\n",
      "[[193.20416259765625, 248.8195037841797, 196.93153381347656]]\n",
      "6.621621621621621\n"
     ]
    },
    {
     "name": "stderr",
     "output_type": "stream",
     "text": [
      "0: 480x640 1 battery_plus, 20.1ms\n",
      "Speed: 2.0ms preprocess, 20.1ms inference, 2.9ms postprocess per image at shape (1, 3, 480, 640)\n",
      "\n",
      "0: 480x640 1 battery_plus, 20.1ms\n",
      "Speed: 2.0ms preprocess, 20.1ms inference, 3.0ms postprocess per image at shape (1, 3, 480, 640)\n",
      "\n",
      "0: 480x640 1 battery_plus, 20.1ms\n",
      "Speed: 2.9ms preprocess, 20.1ms inference, 2.9ms postprocess per image at shape (1, 3, 480, 640)\n",
      "\n",
      "0: 480x640 1 battery_plus, 19.0ms\n"
     ]
    },
    {
     "name": "stdout",
     "output_type": "stream",
     "text": [
      "[[192.9595184326172, 248.8402862548828, 196.91383022732205]]\n",
      "6.621621621621621\n",
      "[[192.9816436767578, 248.8867950439453, 196.87421162923178]]\n",
      "6.621621621621621\n",
      "[[192.78358459472656, 249.00665283203125, 196.7721105504919]]\n",
      "6.621621621621621\n"
     ]
    },
    {
     "name": "stderr",
     "output_type": "stream",
     "text": [
      "Speed: 3.0ms preprocess, 19.0ms inference, 3.0ms postprocess per image at shape (1, 3, 480, 640)\n",
      "\n",
      "0: 480x640 1 battery_plus, 20.1ms\n",
      "Speed: 3.0ms preprocess, 20.1ms inference, 3.0ms postprocess per image at shape (1, 3, 480, 640)\n",
      "\n",
      "0: 480x640 1 battery_plus, 20.0ms\n",
      "Speed: 2.0ms preprocess, 20.0ms inference, 4.0ms postprocess per image at shape (1, 3, 480, 640)\n",
      "\n"
     ]
    },
    {
     "name": "stdout",
     "output_type": "stream",
     "text": [
      "[[192.95819091796875, 248.66073608398438, 197.0667803729022]]\n",
      "6.621621621621621\n",
      "[[192.94729614257812, 248.88607788085938, 196.87482254593462]]\n",
      "6.621621621621621\n",
      "[[192.9911651611328, 248.855712890625, 196.90068901909723]]\n",
      "6.621621621621621\n"
     ]
    },
    {
     "name": "stderr",
     "output_type": "stream",
     "text": [
      "0: 480x640 1 battery_plus, 20.1ms\n",
      "Speed: 2.0ms preprocess, 20.1ms inference, 3.0ms postprocess per image at shape (1, 3, 480, 640)\n",
      "\n",
      "0: 480x640 1 battery_plus, 20.0ms\n",
      "Speed: 3.0ms preprocess, 20.0ms inference, 4.0ms postprocess per image at shape (1, 3, 480, 640)\n",
      "\n",
      "0: 480x640 1 battery_plus, 20.0ms\n",
      "Speed: 3.0ms preprocess, 20.0ms inference, 2.0ms postprocess per image at shape (1, 3, 480, 640)\n",
      "\n",
      "0: 480x640 1 battery_plus, 20.1ms\n"
     ]
    },
    {
     "name": "stdout",
     "output_type": "stream",
     "text": [
      "[[192.976806640625, 248.9036102294922, 196.85988758228444]]\n",
      "6.621621621621621\n",
      "[[192.9842529296875, 248.95071411132812, 196.81976205331307]]\n",
      "6.621621621621621\n",
      "[[193.08956909179688, 248.9503173828125, 196.8201000072338]]\n",
      "6.621621621621621\n"
     ]
    },
    {
     "name": "stderr",
     "output_type": "stream",
     "text": [
      "Speed: 3.0ms preprocess, 20.1ms inference, 3.0ms postprocess per image at shape (1, 3, 480, 640)\n",
      "\n",
      "0: 480x640 1 battery_plus, 20.0ms\n",
      "Speed: 2.9ms preprocess, 20.0ms inference, 3.0ms postprocess per image at shape (1, 3, 480, 640)\n",
      "\n",
      "0: 480x640 1 battery_plus, 20.1ms\n",
      "Speed: 3.0ms preprocess, 20.1ms inference, 3.0ms postprocess per image at shape (1, 3, 480, 640)\n",
      "\n",
      "0: 480x640 1 battery_plus, 19.0ms\n"
     ]
    },
    {
     "name": "stdout",
     "output_type": "stream",
     "text": [
      "[[193.23719787597656, 248.86509704589844, 196.89269510904947]]\n",
      "6.621621621621621\n",
      "[[193.043212890625, 248.88662719726562, 196.87435460973668]]\n",
      "6.621621621621621\n",
      "[[193.00930786132812, 248.9013671875, 196.86179832175927]]\n",
      "6.621621621621621\n"
     ]
    },
    {
     "name": "stderr",
     "output_type": "stream",
     "text": [
      "Speed: 3.0ms preprocess, 19.0ms inference, 4.0ms postprocess per image at shape (1, 3, 480, 640)\n",
      "\n",
      "0: 480x640 1 battery_plus, 20.0ms\n",
      "Speed: 3.0ms preprocess, 20.0ms inference, 3.0ms postprocess per image at shape (1, 3, 480, 640)\n",
      "\n",
      "0: 480x640 1 battery_plus, 20.1ms\n",
      "Speed: 2.9ms preprocess, 20.1ms inference, 2.9ms postprocess per image at shape (1, 3, 480, 640)\n",
      "\n"
     ]
    },
    {
     "name": "stdout",
     "output_type": "stream",
     "text": [
      "[[193.06640625, 248.98294067382812, 196.79230979636864]]\n",
      "6.621621621621621\n",
      "[[193.06558227539062, 248.9187774658203, 196.84696734393086]]\n",
      "6.621621621621621\n",
      "[[193.11737060546875, 249.03488159179688, 196.74806382921008]]\n",
      "6.621621621621621\n"
     ]
    },
    {
     "name": "stderr",
     "output_type": "stream",
     "text": [
      "0: 480x640 1 battery_plus, 20.1ms\n",
      "Speed: 2.9ms preprocess, 20.1ms inference, 3.0ms postprocess per image at shape (1, 3, 480, 640)\n",
      "\n",
      "0: 480x640 1 battery_plus, 20.0ms\n",
      "Speed: 1.9ms preprocess, 20.0ms inference, 4.0ms postprocess per image at shape (1, 3, 480, 640)\n",
      "\n",
      "0: 480x640 1 battery_plus, 20.1ms\n",
      "Speed: 2.9ms preprocess, 20.1ms inference, 2.0ms postprocess per image at shape (1, 3, 480, 640)\n",
      "\n",
      "0: 480x640 1 battery_plus, 19.0ms\n"
     ]
    },
    {
     "name": "stdout",
     "output_type": "stream",
     "text": [
      "[[193.19805908203125, 248.8492431640625, 196.90620026765046]]\n",
      "6.621621621621621\n",
      "[[192.94554138183594, 248.8550567626953, 196.90124794288917]]\n",
      "6.621621621621621\n",
      "[[193.15420532226562, 249.127197265625, 196.66942455150462]]\n",
      "6.621621621621621\n"
     ]
    },
    {
     "name": "stderr",
     "output_type": "stream",
     "text": [
      "Speed: 3.0ms preprocess, 19.0ms inference, 3.0ms postprocess per image at shape (1, 3, 480, 640)\n",
      "\n",
      "0: 480x640 1 battery_plus, 19.0ms\n",
      "Speed: 3.0ms preprocess, 19.0ms inference, 3.0ms postprocess per image at shape (1, 3, 480, 640)\n",
      "\n",
      "0: 480x640 1 battery_plus, 20.0ms\n",
      "Speed: 3.0ms preprocess, 20.0ms inference, 3.0ms postprocess per image at shape (1, 3, 480, 640)\n",
      "\n"
     ]
    },
    {
     "name": "stdout",
     "output_type": "stream",
     "text": [
      "[[193.11984252929688, 249.07452392578125, 196.71429443359375]]\n",
      "6.621621621621621\n",
      "[[193.24391174316406, 249.03977966308594, 196.74389139811197]]\n",
      "6.621621621621621\n",
      "[[193.03561401367188, 248.996337890625, 196.78089735243057]]\n",
      "6.621621621621621\n"
     ]
    },
    {
     "name": "stderr",
     "output_type": "stream",
     "text": [
      "0: 480x640 1 battery_plus, 20.1ms\n",
      "Speed: 2.9ms preprocess, 20.1ms inference, 3.0ms postprocess per image at shape (1, 3, 480, 640)\n",
      "\n",
      "0: 480x640 1 battery_plus, 19.0ms\n",
      "Speed: 1.9ms preprocess, 19.0ms inference, 3.1ms postprocess per image at shape (1, 3, 480, 640)\n",
      "\n",
      "0: 480x640 1 battery_plus, 20.0ms\n",
      "Speed: 2.0ms preprocess, 20.0ms inference, 4.0ms postprocess per image at shape (1, 3, 480, 640)\n",
      "\n"
     ]
    },
    {
     "name": "stdout",
     "output_type": "stream",
     "text": [
      "[[193.19796752929688, 248.9796600341797, 196.7951044153284]]\n",
      "6.621621621621621\n",
      "[[193.32081604003906, 249.08139038085938, 196.70844523111978]]\n",
      "6.621621621621621\n",
      "[[193.1591339111328, 249.18515014648438, 196.62005728262443]]\n",
      "6.621621621621621\n"
     ]
    },
    {
     "name": "stderr",
     "output_type": "stream",
     "text": [
      "0: 480x640 1 battery_plus, 20.0ms\n",
      "Speed: 2.0ms preprocess, 20.0ms inference, 4.0ms postprocess per image at shape (1, 3, 480, 640)\n",
      "\n",
      "0: 480x640 1 battery_plus, 19.1ms\n",
      "Speed: 3.0ms preprocess, 19.1ms inference, 4.0ms postprocess per image at shape (1, 3, 480, 640)\n",
      "\n",
      "0: 480x640 1 battery_plus, 20.0ms\n",
      "Speed: 3.0ms preprocess, 20.0ms inference, 3.0ms postprocess per image at shape (1, 3, 480, 640)\n",
      "\n"
     ]
    },
    {
     "name": "stdout",
     "output_type": "stream",
     "text": [
      "[[193.06863403320312, 249.10658264160156, 196.68698515715423]]\n",
      "6.621621621621621\n",
      "[[193.09017944335938, 248.87677001953125, 196.88275146484375]]\n",
      "6.621621621621621\n",
      "[[193.12179565429688, 249.0850372314453, 196.70533865469474]]\n",
      "6.621621621621621\n"
     ]
    },
    {
     "name": "stderr",
     "output_type": "stream",
     "text": [
      "0: 480x640 1 battery_plus, 20.1ms\n",
      "Speed: 2.9ms preprocess, 20.1ms inference, 3.0ms postprocess per image at shape (1, 3, 480, 640)\n",
      "\n",
      "0: 480x640 1 battery_plus, 20.0ms\n",
      "Speed: 2.9ms preprocess, 20.0ms inference, 3.0ms postprocess per image at shape (1, 3, 480, 640)\n",
      "\n",
      "0: 480x640 1 battery_plus, 20.0ms\n",
      "Speed: 2.0ms preprocess, 20.0ms inference, 3.0ms postprocess per image at shape (1, 3, 480, 640)\n",
      "\n"
     ]
    },
    {
     "name": "stdout",
     "output_type": "stream",
     "text": [
      "[[193.2250213623047, 248.9868927001953, 196.78894325538917]]\n",
      "6.621621621621621\n",
      "[[193.298828125, 249.02618408203125, 196.7554728190104]]\n",
      "6.621621621621621\n",
      "[[193.36212158203125, 248.872802734375, 196.88613100405092]]\n",
      "6.621621621621621\n"
     ]
    },
    {
     "name": "stderr",
     "output_type": "stream",
     "text": [
      "0: 480x640 1 battery_plus, 20.1ms\n",
      "Speed: 3.0ms preprocess, 20.1ms inference, 3.0ms postprocess per image at shape (1, 3, 480, 640)\n",
      "\n",
      "0: 480x640 1 battery_plus, 20.1ms\n",
      "Speed: 3.0ms preprocess, 20.1ms inference, 4.0ms postprocess per image at shape (1, 3, 480, 640)\n",
      "\n",
      "0: 480x640 1 battery_plus, 19.0ms\n",
      "Speed: 2.9ms preprocess, 19.0ms inference, 4.0ms postprocess per image at shape (1, 3, 480, 640)\n",
      "\n",
      "0: 480x640 2 battery_pluss, 20.0ms\n"
     ]
    },
    {
     "name": "stdout",
     "output_type": "stream",
     "text": [
      "[[192.88662719726562, 248.6709442138672, 197.0580845585576]]\n",
      "6.621621621621621\n",
      "[[193.23541259765625, 248.91757202148438, 196.8479942039207]]\n",
      "6.621621621621621\n",
      "[[193.08804321289062, 248.7266845703125, 197.01060203269677]]\n",
      "6.621621621621621\n"
     ]
    },
    {
     "name": "stderr",
     "output_type": "stream",
     "text": [
      "Speed: 3.0ms preprocess, 20.0ms inference, 4.0ms postprocess per image at shape (1, 3, 480, 640)\n",
      "\n",
      "0: 480x640 1 battery_plus, 20.1ms\n",
      "Speed: 3.0ms preprocess, 20.1ms inference, 3.0ms postprocess per image at shape (1, 3, 480, 640)\n",
      "\n",
      "0: 480x640 1 battery_plus, 19.1ms\n",
      "Speed: 2.9ms preprocess, 19.1ms inference, 3.0ms postprocess per image at shape (1, 3, 480, 640)\n",
      "\n"
     ]
    },
    {
     "name": "stdout",
     "output_type": "stream",
     "text": [
      "[[193.13787841796875, 248.65875244140625, 197.0684701425058], [141.34146118164062, 249.9691162109375, 195.95223433883103]]\n",
      "6.621621621621621\n",
      "[[193.22457885742188, 248.80868530273438, 196.94074955692997]]\n",
      "6.621621621621621\n",
      "[[193.07391357421875, 248.82574462890625, 196.92621753833913]]\n",
      "6.621621621621621\n"
     ]
    },
    {
     "name": "stderr",
     "output_type": "stream",
     "text": [
      "0: 480x640 1 battery_plus, 20.1ms\n",
      "Speed: 3.0ms preprocess, 20.1ms inference, 3.0ms postprocess per image at shape (1, 3, 480, 640)\n",
      "\n",
      "0: 480x640 1 battery_plus, 20.1ms\n",
      "Speed: 3.9ms preprocess, 20.1ms inference, 3.0ms postprocess per image at shape (1, 3, 480, 640)\n",
      "\n",
      "0: 480x640 1 battery_plus, 20.0ms\n",
      "Speed: 3.0ms preprocess, 20.0ms inference, 3.0ms postprocess per image at shape (1, 3, 480, 640)\n",
      "\n"
     ]
    },
    {
     "name": "stdout",
     "output_type": "stream",
     "text": [
      "[[193.1107177734375, 248.78549194335938, 196.96050686306424]]\n",
      "6.621621621621621\n",
      "[[193.19073486328125, 248.76055908203125, 196.98174596715856]]\n",
      "6.621621621621621\n",
      "[[193.1435089111328, 248.87753295898438, 196.88210155345774]]\n",
      "6.621621621621621\n"
     ]
    },
    {
     "name": "stderr",
     "output_type": "stream",
     "text": [
      "0: 480x640 1 battery_plus, 20.1ms\n",
      "Speed: 2.9ms preprocess, 20.1ms inference, 3.0ms postprocess per image at shape (1, 3, 480, 640)\n",
      "\n",
      "0: 480x640 1 battery_plus, 19.1ms\n",
      "Speed: 3.0ms preprocess, 19.1ms inference, 4.0ms postprocess per image at shape (1, 3, 480, 640)\n",
      "\n",
      "0: 480x640 1 battery_plus, 20.1ms\n",
      "Speed: 3.0ms preprocess, 20.1ms inference, 3.0ms postprocess per image at shape (1, 3, 480, 640)\n",
      "\n",
      "0: 480x640 1 battery_plus, 20.1ms\n"
     ]
    },
    {
     "name": "stdout",
     "output_type": "stream",
     "text": [
      "[[193.18795776367188, 248.76046752929688, 196.9818239565249]]\n",
      "6.621621621621621\n",
      "[[193.1126708984375, 248.77984619140625, 196.9653162073206]]\n",
      "6.621621621621621\n",
      "[[193.21212768554688, 248.98126220703125, 196.79373960141783]]\n",
      "6.621621621621621\n"
     ]
    },
    {
     "name": "stderr",
     "output_type": "stream",
     "text": [
      "Speed: 3.0ms preprocess, 20.1ms inference, 3.0ms postprocess per image at shape (1, 3, 480, 640)\n",
      "\n",
      "0: 480x640 1 battery_plus, 19.0ms\n",
      "Speed: 4.0ms preprocess, 19.0ms inference, 3.0ms postprocess per image at shape (1, 3, 480, 640)\n",
      "\n",
      "0: 480x640 1 battery_plus, 20.0ms\n",
      "Speed: 2.9ms preprocess, 20.0ms inference, 5.0ms postprocess per image at shape (1, 3, 480, 640)\n",
      "\n",
      "0: 480x640 1 battery_plus, 20.0ms\n"
     ]
    },
    {
     "name": "stdout",
     "output_type": "stream",
     "text": [
      "[[192.97952270507812, 248.726806640625, 197.010498046875]]\n",
      "6.621621621621621\n",
      "[[192.8778076171875, 248.86041259765625, 196.89668556495948]]\n",
      "6.621621621621621\n",
      "[[193.12503051757812, 249.14682006835938, 196.65270883065682]]\n",
      "6.621621621621621\n"
     ]
    },
    {
     "name": "stderr",
     "output_type": "stream",
     "text": [
      "Speed: 3.0ms preprocess, 20.0ms inference, 3.0ms postprocess per image at shape (1, 3, 480, 640)\n",
      "\n",
      "0: 480x640 1 battery_plus, 20.1ms\n",
      "Speed: 3.0ms preprocess, 20.1ms inference, 3.0ms postprocess per image at shape (1, 3, 480, 640)\n",
      "\n",
      "0: 480x640 1 battery_plus, 20.1ms\n",
      "Speed: 1.9ms preprocess, 20.1ms inference, 4.0ms postprocess per image at shape (1, 3, 480, 640)\n",
      "\n",
      "0: 480x640 1 battery_plus, 20.1ms\n"
     ]
    },
    {
     "name": "stdout",
     "output_type": "stream",
     "text": [
      "[[192.8523712158203, 248.96090698242188, 196.8110792371962]]\n",
      "6.621621621621621\n",
      "[[193.05606079101562, 248.99783325195312, 196.779623526114]]\n",
      "6.621621621621621\n",
      "[[193.06283569335938, 249.034912109375, 196.74803783275462]]\n",
      "6.621621621621621\n"
     ]
    },
    {
     "name": "stderr",
     "output_type": "stream",
     "text": [
      "Speed: 2.9ms preprocess, 20.1ms inference, 3.0ms postprocess per image at shape (1, 3, 480, 640)\n",
      "\n",
      "0: 480x640 1 battery_plus, 20.1ms\n",
      "Speed: 1.9ms preprocess, 20.1ms inference, 3.0ms postprocess per image at shape (1, 3, 480, 640)\n",
      "\n",
      "0: 480x640 1 battery_plus, 20.1ms\n",
      "Speed: 3.0ms preprocess, 20.1ms inference, 4.0ms postprocess per image at shape (1, 3, 480, 640)\n",
      "\n",
      "0: 480x640 1 battery_plus, 20.1ms\n"
     ]
    },
    {
     "name": "stdout",
     "output_type": "stream",
     "text": [
      "[[192.92843627929688, 249.07302856445312, 196.7155682599103]]\n",
      "6.621621621621621\n",
      "[[193.12391662597656, 249.01467895507812, 196.76527348271122]]\n",
      "6.621621621621621\n",
      "[[193.07325744628906, 248.96780395507812, 196.8052040382668]]\n",
      "6.621621621621621\n"
     ]
    },
    {
     "name": "stderr",
     "output_type": "stream",
     "text": [
      "Speed: 3.0ms preprocess, 20.1ms inference, 4.0ms postprocess per image at shape (1, 3, 480, 640)\n",
      "\n",
      "0: 480x640 1 battery_plus, 20.0ms\n",
      "Speed: 2.0ms preprocess, 20.0ms inference, 2.0ms postprocess per image at shape (1, 3, 480, 640)\n",
      "\n",
      "0: 480x640 1 battery_plus, 20.1ms\n",
      "Speed: 3.0ms preprocess, 20.1ms inference, 3.9ms postprocess per image at shape (1, 3, 480, 640)\n",
      "\n",
      "0: 480x640 1 battery_plus, 19.0ms\n"
     ]
    },
    {
     "name": "stdout",
     "output_type": "stream",
     "text": [
      "[[193.09083557128906, 248.93698120117188, 196.831460458261]]\n",
      "6.621621621621621\n",
      "[[192.9078369140625, 249.06719970703125, 196.72053358289932]]\n",
      "6.621621621621621\n",
      "[[193.030517578125, 248.9421844482422, 196.82702806260852]]\n",
      "6.621621621621621\n"
     ]
    },
    {
     "name": "stderr",
     "output_type": "stream",
     "text": [
      "Speed: 3.0ms preprocess, 19.0ms inference, 3.0ms postprocess per image at shape (1, 3, 480, 640)\n",
      "\n",
      "0: 480x640 1 battery_plus, 20.1ms\n",
      "Speed: 3.0ms preprocess, 20.1ms inference, 2.9ms postprocess per image at shape (1, 3, 480, 640)\n",
      "\n",
      "0: 480x640 1 battery_plus, 19.8ms\n",
      "Speed: 3.0ms preprocess, 19.8ms inference, 3.0ms postprocess per image at shape (1, 3, 480, 640)\n",
      "\n"
     ]
    },
    {
     "name": "stdout",
     "output_type": "stream",
     "text": [
      "[[193.00665283203125, 248.90692138671875, 196.8570669668692]]\n",
      "6.621621621621621\n",
      "[[193.1341552734375, 248.87026977539062, 196.88828870985245]]\n",
      "6.621621621621621\n",
      "[[193.0421142578125, 249.03897094726562, 196.74458030418114]]\n",
      "6.621621621621621\n"
     ]
    },
    {
     "name": "stderr",
     "output_type": "stream",
     "text": [
      "0: 480x640 1 battery_plus, 20.1ms\n",
      "Speed: 2.9ms preprocess, 20.1ms inference, 4.0ms postprocess per image at shape (1, 3, 480, 640)\n",
      "\n",
      "0: 480x640 1 battery_plus, 19.0ms\n",
      "Speed: 3.0ms preprocess, 19.0ms inference, 3.9ms postprocess per image at shape (1, 3, 480, 640)\n",
      "\n",
      "0: 480x640 1 battery_plus, 20.0ms\n",
      "Speed: 3.0ms preprocess, 20.0ms inference, 2.0ms postprocess per image at shape (1, 3, 480, 640)\n",
      "\n",
      "0: 480x640 1 battery_plus, 19.0ms\n"
     ]
    },
    {
     "name": "stdout",
     "output_type": "stream",
     "text": [
      "[[193.0302734375, 249.09742736816406, 196.69478409378618]]\n",
      "6.621621621621621\n",
      "[[193.13265991210938, 248.9951171875, 196.78193721064815]]\n",
      "6.621621621621621\n",
      "[[192.95005798339844, 249.04063415527344, 196.74316349735966]]\n",
      "6.621621621621621\n"
     ]
    },
    {
     "name": "stderr",
     "output_type": "stream",
     "text": [
      "Speed: 3.0ms preprocess, 19.0ms inference, 4.0ms postprocess per image at shape (1, 3, 480, 640)\n",
      "\n",
      "0: 480x640 1 battery_plus, 20.1ms\n",
      "Speed: 2.9ms preprocess, 20.1ms inference, 4.0ms postprocess per image at shape (1, 3, 480, 640)\n",
      "\n",
      "0: 480x640 1 battery_plus, 20.0ms\n",
      "Speed: 2.9ms preprocess, 20.0ms inference, 2.0ms postprocess per image at shape (1, 3, 480, 640)\n",
      "\n",
      "0: 480x640 1 battery_plus, 19.0ms\n"
     ]
    },
    {
     "name": "stdout",
     "output_type": "stream",
     "text": [
      "[[193.19561767578125, 248.94271850585938, 196.82657312463832]]\n",
      "6.621621621621621\n",
      "[[193.20797729492188, 249.06390380859375, 196.72334120008682]]\n",
      "6.621621621621621\n",
      "[[193.05990600585938, 248.90414428710938, 196.85943264431424]]\n",
      "6.621621621621621\n"
     ]
    },
    {
     "name": "stderr",
     "output_type": "stream",
     "text": [
      "Speed: 2.9ms preprocess, 19.0ms inference, 3.0ms postprocess per image at shape (1, 3, 480, 640)\n",
      "\n",
      "0: 480x640 1 battery_plus, 20.1ms\n",
      "Speed: 3.0ms preprocess, 20.1ms inference, 2.9ms postprocess per image at shape (1, 3, 480, 640)\n",
      "\n",
      "0: 480x640 1 battery_plus, 20.0ms\n",
      "Speed: 3.0ms preprocess, 20.0ms inference, 3.0ms postprocess per image at shape (1, 3, 480, 640)\n",
      "\n",
      "0: 480x640 1 battery_plus, 20.0ms\n"
     ]
    },
    {
     "name": "stdout",
     "output_type": "stream",
     "text": [
      "[[193.09243774414062, 248.92481994628906, 196.84182004575376]]\n",
      "6.621621621621621\n",
      "[[193.3054962158203, 248.94895935058594, 196.82125684950088]]\n",
      "6.621621621621621\n",
      "[[193.01736450195312, 249.028076171875, 196.75386103877315]]\n",
      "6.621621621621621\n"
     ]
    },
    {
     "name": "stderr",
     "output_type": "stream",
     "text": [
      "Speed: 2.0ms preprocess, 20.0ms inference, 4.0ms postprocess per image at shape (1, 3, 480, 640)\n",
      "\n",
      "0: 480x640 1 battery_plus, 19.0ms\n",
      "Speed: 4.0ms preprocess, 19.0ms inference, 3.1ms postprocess per image at shape (1, 3, 480, 640)\n",
      "\n",
      "0: 480x640 1 battery_plus, 20.0ms\n",
      "Speed: 3.0ms preprocess, 20.0ms inference, 4.1ms postprocess per image at shape (1, 3, 480, 640)\n",
      "\n"
     ]
    },
    {
     "name": "stdout",
     "output_type": "stream",
     "text": [
      "[[193.2473602294922, 248.9852294921875, 196.79036006221065]]\n",
      "6.621621621621621\n",
      "[[193.25888061523438, 248.94618225097656, 196.82362252694588]]\n",
      "6.621621621621621\n",
      "[[193.05593872070312, 248.82421875, 196.92751736111111]]\n",
      "6.621621621621621\n"
     ]
    },
    {
     "name": "stderr",
     "output_type": "stream",
     "text": [
      "0: 480x640 1 battery_plus, 20.1ms\n",
      "Speed: 2.9ms preprocess, 20.1ms inference, 3.0ms postprocess per image at shape (1, 3, 480, 640)\n",
      "\n",
      "0: 480x640 1 battery_plus, 20.0ms\n",
      "Speed: 2.0ms preprocess, 20.0ms inference, 2.9ms postprocess per image at shape (1, 3, 480, 640)\n",
      "\n",
      "0: 480x640 2 battery_pluss, 20.1ms\n",
      "Speed: 1.9ms preprocess, 20.1ms inference, 4.0ms postprocess per image at shape (1, 3, 480, 640)\n",
      "\n"
     ]
    },
    {
     "name": "stdout",
     "output_type": "stream",
     "text": [
      "[[193.52676391601562, 249.0117645263672, 196.76775614420572]]\n",
      "6.621621621621621\n",
      "[[193.3031463623047, 248.8756103515625, 196.88373933015046]]\n",
      "6.621621621621621\n",
      "[[193.4063720703125, 248.9832305908203, 196.79206283004197], [143.82461547851562, 305.93048095703125, 148.28144214771413]]\n",
      "6.621621621621621\n"
     ]
    },
    {
     "name": "stderr",
     "output_type": "stream",
     "text": [
      "0: 480x640 1 battery_plus, 20.0ms\n",
      "Speed: 1.9ms preprocess, 20.0ms inference, 3.0ms postprocess per image at shape (1, 3, 480, 640)\n",
      "\n",
      "0: 480x640 1 battery_plus, 19.6ms\n",
      "Speed: 3.1ms preprocess, 19.6ms inference, 2.9ms postprocess per image at shape (1, 3, 480, 640)\n",
      "\n",
      "0: 480x640 1 battery_plus, 20.0ms\n",
      "Speed: 2.9ms preprocess, 20.0ms inference, 3.0ms postprocess per image at shape (1, 3, 480, 640)\n",
      "\n"
     ]
    },
    {
     "name": "stdout",
     "output_type": "stream",
     "text": [
      "[[193.16305541992188, 248.91061401367188, 196.853921395761]]\n",
      "6.621621621621621\n",
      "[[193.16189575195312, 248.9678955078125, 196.80512604890046]]\n",
      "6.621621621621621\n",
      "[[193.17742919921875, 248.76858520507812, 196.9749088993779]]\n",
      "6.621621621621621\n"
     ]
    },
    {
     "name": "stderr",
     "output_type": "stream",
     "text": [
      "0: 480x640 1 battery_plus, 19.0ms\n",
      "Speed: 3.0ms preprocess, 19.0ms inference, 4.0ms postprocess per image at shape (1, 3, 480, 640)\n",
      "\n",
      "0: 480x640 1 battery_plus, 20.1ms\n",
      "Speed: 2.9ms preprocess, 20.1ms inference, 3.0ms postprocess per image at shape (1, 3, 480, 640)\n",
      "\n",
      "0: 480x640 1 battery_plus, 20.0ms\n",
      "Speed: 1.9ms preprocess, 20.0ms inference, 4.0ms postprocess per image at shape (1, 3, 480, 640)\n",
      "\n",
      "0: 480x640 2 battery_pluss, 20.1ms\n"
     ]
    },
    {
     "name": "stdout",
     "output_type": "stream",
     "text": [
      "[[193.10348510742188, 248.911376953125, 196.853271484375]]\n",
      "6.621621621621621\n",
      "[[193.05166625976562, 248.86183166503906, 196.89547672978154]]\n",
      "6.621621621621621\n",
      "[[193.0221710205078, 248.88047790527344, 196.8795928955078]]\n",
      "6.621621621621621\n"
     ]
    },
    {
     "name": "stderr",
     "output_type": "stream",
     "text": [
      "Speed: 2.9ms preprocess, 20.1ms inference, 2.9ms postprocess per image at shape (1, 3, 480, 640)\n",
      "\n",
      "0: 480x640 1 battery_plus, 20.1ms\n",
      "Speed: 3.0ms preprocess, 20.1ms inference, 2.9ms postprocess per image at shape (1, 3, 480, 640)\n",
      "\n",
      "0: 480x640 1 battery_plus, 19.0ms\n",
      "Speed: 3.0ms preprocess, 19.0ms inference, 2.0ms postprocess per image at shape (1, 3, 480, 640)\n",
      "\n"
     ]
    },
    {
     "name": "stdout",
     "output_type": "stream",
     "text": [
      "[[193.1669921875, 248.82545471191406, 196.9264645046658], [143.60250854492188, 329.849609375, 127.90588831018519]]\n",
      "6.621621621621621\n",
      "[[193.10365295410156, 248.724853515625, 197.01216182002315]]\n",
      "6.621621621621621\n",
      "[[193.11996459960938, 248.78268432617188, 196.9628985369647]]\n",
      "6.621621621621621\n"
     ]
    },
    {
     "name": "stderr",
     "output_type": "stream",
     "text": [
      "0: 480x640 1 battery_plus, 19.0ms\n",
      "Speed: 4.0ms preprocess, 19.0ms inference, 4.0ms postprocess per image at shape (1, 3, 480, 640)\n",
      "\n",
      "0: 480x640 1 battery_plus, 20.1ms\n",
      "Speed: 3.0ms preprocess, 20.1ms inference, 2.0ms postprocess per image at shape (1, 3, 480, 640)\n",
      "\n",
      "0: 480x640 1 battery_plus, 20.1ms\n",
      "Speed: 2.9ms preprocess, 20.1ms inference, 3.0ms postprocess per image at shape (1, 3, 480, 640)\n",
      "\n"
     ]
    },
    {
     "name": "stdout",
     "output_type": "stream",
     "text": [
      "[[193.1065673828125, 248.75637817382812, 196.98530748155383]]\n",
      "6.621621621621621\n",
      "[[193.1134033203125, 248.78594970703125, 196.96011691623264]]\n",
      "6.621621621621621\n",
      "[[192.98275756835938, 248.66824340820312, 197.060385244864]]\n",
      "6.621621621621621\n"
     ]
    },
    {
     "name": "stderr",
     "output_type": "stream",
     "text": [
      "0: 480x640 2 battery_pluss, 20.1ms\n",
      "Speed: 1.9ms preprocess, 20.1ms inference, 4.0ms postprocess per image at shape (1, 3, 480, 640)\n",
      "\n",
      "0: 480x640 1 battery_plus, 20.1ms\n",
      "Speed: 3.0ms preprocess, 20.1ms inference, 3.0ms postprocess per image at shape (1, 3, 480, 640)\n",
      "\n",
      "0: 480x640 1 battery_plus, 20.0ms\n",
      "Speed: 3.0ms preprocess, 20.0ms inference, 3.0ms postprocess per image at shape (1, 3, 480, 640)\n",
      "\n"
     ]
    },
    {
     "name": "stdout",
     "output_type": "stream",
     "text": [
      "[[193.00271606445312, 248.7486572265625, 196.99188458478008], [143.5751953125, 328.9866943359375, 128.64096408420139]]\n",
      "6.621621621621621\n",
      "[[193.1599578857422, 248.921875, 196.8443287037037]]\n",
      "6.621621621621621\n",
      "[[193.31893920898438, 248.85195922851562, 196.90388658311633]]\n",
      "6.621621621621621\n"
     ]
    },
    {
     "name": "stderr",
     "output_type": "stream",
     "text": [
      "0: 480x640 1 battery_plus, 20.7ms\n",
      "Speed: 2.0ms preprocess, 20.7ms inference, 3.0ms postprocess per image at shape (1, 3, 480, 640)\n",
      "\n",
      "0: 480x640 1 battery_plus, 20.0ms\n",
      "Speed: 1.9ms preprocess, 20.0ms inference, 4.0ms postprocess per image at shape (1, 3, 480, 640)\n",
      "\n",
      "0: 480x640 1 battery_plus, 20.0ms\n",
      "Speed: 1.9ms preprocess, 20.0ms inference, 3.0ms postprocess per image at shape (1, 3, 480, 640)\n",
      "\n"
     ]
    },
    {
     "name": "stdout",
     "output_type": "stream",
     "text": [
      "[[193.15109252929688, 248.82754516601562, 196.92468374746818]]\n",
      "6.621621621621621\n",
      "[[193.03663635253906, 248.79592895507812, 196.95161607530383]]\n",
      "6.621621621621621\n",
      "[[192.92453002929688, 248.781982421875, 196.9634964554398]]\n",
      "6.621621621621621\n"
     ]
    },
    {
     "name": "stderr",
     "output_type": "stream",
     "text": [
      "0: 480x640 1 battery_plus, 20.0ms\n",
      "Speed: 2.0ms preprocess, 20.0ms inference, 4.0ms postprocess per image at shape (1, 3, 480, 640)\n",
      "\n",
      "0: 480x640 1 battery_plus, 20.0ms\n",
      "Speed: 2.0ms preprocess, 20.0ms inference, 4.0ms postprocess per image at shape (1, 3, 480, 640)\n",
      "\n",
      "0: 480x640 1 battery_plus, 19.0ms\n",
      "Speed: 3.0ms preprocess, 19.0ms inference, 3.0ms postprocess per image at shape (1, 3, 480, 640)\n",
      "\n"
     ]
    },
    {
     "name": "stdout",
     "output_type": "stream",
     "text": [
      "[[192.9857940673828, 248.7927703857422, 196.95430670844183]]\n",
      "6.621621621621621\n",
      "[[192.93751525878906, 248.80303955078125, 196.94555890118633]]\n",
      "6.621621621621621\n",
      "[[192.92587280273438, 248.75067138671875, 196.99016881872106]]\n",
      "6.621621621621621\n"
     ]
    },
    {
     "name": "stderr",
     "output_type": "stream",
     "text": [
      "0: 480x640 1 battery_plus, 20.0ms\n",
      "Speed: 3.0ms preprocess, 20.0ms inference, 3.1ms postprocess per image at shape (1, 3, 480, 640)\n",
      "\n",
      "0: 480x640 1 battery_plus, 19.0ms\n",
      "Speed: 4.0ms preprocess, 19.0ms inference, 3.0ms postprocess per image at shape (1, 3, 480, 640)\n",
      "\n",
      "0: 480x640 1 battery_plus, 20.0ms\n",
      "Speed: 2.9ms preprocess, 20.0ms inference, 4.1ms postprocess per image at shape (1, 3, 480, 640)\n",
      "\n"
     ]
    },
    {
     "name": "stdout",
     "output_type": "stream",
     "text": [
      "[[192.91061401367188, 248.8194580078125, 196.93157280815973]]\n",
      "6.621621621621621\n",
      "[[192.95196533203125, 248.78256225585938, 196.96300252278647]]\n",
      "6.621621621621621\n",
      "[[193.21762084960938, 248.90371704101562, 196.8597965946904]]\n",
      "6.621621621621621\n"
     ]
    },
    {
     "name": "stderr",
     "output_type": "stream",
     "text": [
      "0: 480x640 1 battery_plus, 20.1ms\n",
      "Speed: 1.9ms preprocess, 20.1ms inference, 3.0ms postprocess per image at shape (1, 3, 480, 640)\n",
      "\n",
      "0: 480x640 1 battery_plus, 19.1ms\n",
      "Speed: 3.0ms preprocess, 19.1ms inference, 3.0ms postprocess per image at shape (1, 3, 480, 640)\n",
      "\n",
      "0: 480x640 1 battery_plus, 19.0ms\n",
      "Speed: 1.9ms preprocess, 19.0ms inference, 3.0ms postprocess per image at shape (1, 3, 480, 640)\n",
      "\n"
     ]
    },
    {
     "name": "stdout",
     "output_type": "stream",
     "text": [
      "[[193.11598205566406, 248.91519165039062, 196.85002192744503]]\n",
      "6.621621621621621\n",
      "[[193.09693908691406, 248.81103515625, 196.93874782986111]]\n",
      "6.621621621621621\n",
      "[[193.18014526367188, 248.86322021484375, 196.89429389105902]]\n",
      "6.621621621621621\n"
     ]
    },
    {
     "name": "stderr",
     "output_type": "stream",
     "text": [
      "0: 480x640 1 battery_plus, 19.1ms\n",
      "Speed: 3.0ms preprocess, 19.1ms inference, 4.0ms postprocess per image at shape (1, 3, 480, 640)\n",
      "\n",
      "0: 480x640 1 battery_plus, 20.0ms\n",
      "Speed: 3.1ms preprocess, 20.0ms inference, 3.0ms postprocess per image at shape (1, 3, 480, 640)\n",
      "\n",
      "0: 480x640 1 battery_plus, 20.0ms\n",
      "Speed: 2.0ms preprocess, 20.0ms inference, 3.0ms postprocess per image at shape (1, 3, 480, 640)\n",
      "\n"
     ]
    },
    {
     "name": "stdout",
     "output_type": "stream",
     "text": [
      "[[193.30331420898438, 248.79696655273438, 196.95073219581886]]\n",
      "6.621621621621621\n",
      "[[193.19232177734375, 248.9798583984375, 196.79493543836807]]\n",
      "6.621621621621621\n",
      "[[193.46319580078125, 248.938232421875, 196.83039460358796]]\n",
      "6.621621621621621\n"
     ]
    },
    {
     "name": "stderr",
     "output_type": "stream",
     "text": [
      "0: 480x640 1 battery_plus, 20.1ms\n",
      "Speed: 2.9ms preprocess, 20.1ms inference, 3.0ms postprocess per image at shape (1, 3, 480, 640)\n",
      "\n",
      "0: 480x640 1 battery_plus, 19.0ms\n",
      "Speed: 3.1ms preprocess, 19.0ms inference, 3.0ms postprocess per image at shape (1, 3, 480, 640)\n",
      "\n",
      "0: 480x640 1 battery_plus, 19.6ms\n",
      "Speed: 3.0ms preprocess, 19.6ms inference, 4.0ms postprocess per image at shape (1, 3, 480, 640)\n",
      "\n",
      "0: 480x640 1 battery_plus, 20.1ms\n"
     ]
    },
    {
     "name": "stdout",
     "output_type": "stream",
     "text": [
      "[[193.26651000976562, 248.91395568847656, 196.85107478389034]]\n",
      "6.621621621621621\n",
      "[[193.3179931640625, 248.91912841796875, 196.8466683846933]]\n",
      "6.621621621621621\n",
      "[[193.52072143554688, 249.06527709960938, 196.722171359592]]\n",
      "6.621621621621621\n"
     ]
    },
    {
     "name": "stderr",
     "output_type": "stream",
     "text": [
      "Speed: 3.0ms preprocess, 20.1ms inference, 3.0ms postprocess per image at shape (1, 3, 480, 640)\n",
      "\n",
      "0: 480x640 1 battery_plus, 20.1ms\n",
      "Speed: 2.0ms preprocess, 20.1ms inference, 3.0ms postprocess per image at shape (1, 3, 480, 640)\n",
      "\n",
      "0: 480x640 1 battery_plus, 20.1ms\n",
      "Speed: 3.0ms preprocess, 20.1ms inference, 3.0ms postprocess per image at shape (1, 3, 480, 640)\n",
      "\n"
     ]
    },
    {
     "name": "stdout",
     "output_type": "stream",
     "text": [
      "[[193.40187072753906, 248.78677368164062, 196.95941501193576]]\n",
      "6.621621621621621\n",
      "[[193.27926635742188, 248.8846435546875, 196.87604437934027]]\n",
      "6.621621621621621\n",
      "[[193.25546264648438, 248.89559936523438, 196.8667116518374]]\n",
      "6.621621621621621\n"
     ]
    },
    {
     "name": "stderr",
     "output_type": "stream",
     "text": [
      "0: 480x640 1 battery_plus, 20.1ms\n",
      "Speed: 3.0ms preprocess, 20.1ms inference, 3.0ms postprocess per image at shape (1, 3, 480, 640)\n",
      "\n",
      "0: 480x640 1 battery_plus, 20.0ms\n",
      "Speed: 2.9ms preprocess, 20.0ms inference, 3.0ms postprocess per image at shape (1, 3, 480, 640)\n",
      "\n",
      "0: 480x640 1 battery_plus, 21.1ms\n",
      "Speed: 1.9ms preprocess, 21.1ms inference, 3.0ms postprocess per image at shape (1, 3, 480, 640)\n",
      "\n",
      "0: 480x640 1 battery_plus, 20.0ms\n"
     ]
    },
    {
     "name": "stdout",
     "output_type": "stream",
     "text": [
      "[[193.37899780273438, 249.01083374023438, 196.76854903609666]]\n",
      "6.621621621621621\n",
      "[[193.39065551757812, 248.90187072753906, 196.8613693802445]]\n",
      "6.621621621621621\n",
      "[[193.46359252929688, 249.02822875976562, 196.75373105649595]]\n",
      "6.621621621621621\n"
     ]
    },
    {
     "name": "stderr",
     "output_type": "stream",
     "text": [
      "Speed: 2.0ms preprocess, 20.0ms inference, 3.0ms postprocess per image at shape (1, 3, 480, 640)\n",
      "\n",
      "0: 480x640 1 battery_plus, 19.0ms\n",
      "Speed: 3.0ms preprocess, 19.0ms inference, 4.0ms postprocess per image at shape (1, 3, 480, 640)\n",
      "\n",
      "0: 480x640 1 battery_plus, 19.0ms\n",
      "Speed: 2.0ms preprocess, 19.0ms inference, 4.0ms postprocess per image at shape (1, 3, 480, 640)\n",
      "\n"
     ]
    },
    {
     "name": "stdout",
     "output_type": "stream",
     "text": [
      "[[193.43309020996094, 249.21685791015625, 196.59304696542245]]\n",
      "6.621621621621621\n",
      "[[193.3118133544922, 248.99697875976562, 196.78035142686633]]\n",
      "6.621621621621621\n",
      "[[193.34844970703125, 249.0343017578125, 196.74855776186342]]\n",
      "6.621621621621621\n"
     ]
    },
    {
     "name": "stderr",
     "output_type": "stream",
     "text": [
      "0: 480x640 1 battery_plus, 19.0ms\n",
      "Speed: 3.0ms preprocess, 19.0ms inference, 3.0ms postprocess per image at shape (1, 3, 480, 640)\n",
      "\n",
      "0: 480x640 1 battery_plus, 19.0ms\n",
      "Speed: 2.9ms preprocess, 19.0ms inference, 5.0ms postprocess per image at shape (1, 3, 480, 640)\n",
      "\n",
      "0: 480x640 1 battery_plus, 20.0ms\n",
      "Speed: 2.0ms preprocess, 20.0ms inference, 3.0ms postprocess per image at shape (1, 3, 480, 640)\n",
      "\n",
      "0: 480x640 1 battery_plus, 19.0ms\n"
     ]
    },
    {
     "name": "stdout",
     "output_type": "stream",
     "text": [
      "[[193.40267944335938, 248.92391967773438, 196.84258694118924]]\n",
      "6.621621621621621\n",
      "[[193.29046630859375, 249.007080078125, 196.77174660011573]]\n",
      "6.621621621621621\n",
      "[[193.18260192871094, 249.05108642578125, 196.73425971137152]]\n",
      "6.621621621621621\n"
     ]
    },
    {
     "name": "stderr",
     "output_type": "stream",
     "text": [
      "Speed: 2.0ms preprocess, 19.0ms inference, 4.0ms postprocess per image at shape (1, 3, 480, 640)\n",
      "\n",
      "0: 480x640 1 battery_plus, 20.0ms\n",
      "Speed: 2.0ms preprocess, 20.0ms inference, 3.0ms postprocess per image at shape (1, 3, 480, 640)\n",
      "\n",
      "0: 480x640 1 battery_plus, 20.1ms\n",
      "Speed: 3.0ms preprocess, 20.1ms inference, 3.0ms postprocess per image at shape (1, 3, 480, 640)\n",
      "\n",
      "0: 480x640 1 battery_plus, 20.0ms\n",
      "Speed: 2.0ms preprocess, 20.0ms inference, 2.0ms postprocess per image at shape (1, 3, 480, 640)\n"
     ]
    },
    {
     "name": "stdout",
     "output_type": "stream",
     "text": [
      "[[193.32318115234375, 248.97067260742188, 196.80276037145543]]\n",
      "6.621621621621621\n",
      "[[193.5196990966797, 248.98062133789062, 196.79428552698207]]\n",
      "6.621621621621621\n",
      "[[193.49427795410156, 249.05096435546875, 196.7343636971933]]\n",
      "6.621621621621621\n"
     ]
    },
    {
     "name": "stderr",
     "output_type": "stream",
     "text": [
      "\n",
      "0: 480x640 1 battery_plus, 20.0ms\n",
      "Speed: 3.0ms preprocess, 20.0ms inference, 4.1ms postprocess per image at shape (1, 3, 480, 640)\n",
      "\n",
      "0: 480x640 1 battery_plus, 19.0ms\n",
      "Speed: 4.0ms preprocess, 19.0ms inference, 5.0ms postprocess per image at shape (1, 3, 480, 640)\n",
      "\n",
      "0: 480x640 1 battery_plus, 20.1ms\n"
     ]
    },
    {
     "name": "stdout",
     "output_type": "stream",
     "text": [
      "[[193.65679931640625, 249.07754516601562, 196.71172078450522]]\n",
      "6.621621621621621\n",
      "[[193.44888305664062, 249.12005615234375, 196.67550772207755]]\n",
      "6.621621621621621\n",
      "[[193.48521423339844, 249.02943420410156, 196.75270419650607]]\n",
      "6.621621621621621\n"
     ]
    },
    {
     "name": "stderr",
     "output_type": "stream",
     "text": [
      "Speed: 4.0ms preprocess, 20.1ms inference, 3.0ms postprocess per image at shape (1, 3, 480, 640)\n",
      "\n",
      "0: 480x640 1 battery_plus, 19.0ms\n",
      "Speed: 3.1ms preprocess, 19.0ms inference, 3.9ms postprocess per image at shape (1, 3, 480, 640)\n",
      "\n",
      "0: 480x640 2 battery_pluss, 19.0ms\n",
      "Speed: 3.0ms preprocess, 19.0ms inference, 3.9ms postprocess per image at shape (1, 3, 480, 640)\n",
      "\n",
      "0: 480x640 1 battery_plus, 19.0ms\n"
     ]
    },
    {
     "name": "stdout",
     "output_type": "stream",
     "text": [
      "[[193.35101318359375, 248.98077392578125, 196.79415554470486]]\n",
      "6.621621621621621\n",
      "[[193.52810668945312, 249.0857391357422, 196.70474073621963]]\n",
      "6.621621621621621\n",
      "[[193.54197692871094, 249.1795654296875, 196.62481463396992], [145.37405395507812, 329.0606994628906, 128.57792267975984]]\n",
      "6.621621621621621\n"
     ]
    },
    {
     "name": "stderr",
     "output_type": "stream",
     "text": [
      "Speed: 3.0ms preprocess, 19.0ms inference, 3.0ms postprocess per image at shape (1, 3, 480, 640)\n",
      "\n",
      "0: 480x640 1 battery_plus, 20.0ms\n",
      "Speed: 3.9ms preprocess, 20.0ms inference, 2.0ms postprocess per image at shape (1, 3, 480, 640)\n",
      "\n",
      "0: 480x640 3 battery_pluss, 20.1ms\n",
      "Speed: 2.9ms preprocess, 20.1ms inference, 3.0ms postprocess per image at shape (1, 3, 480, 640)\n",
      "\n"
     ]
    },
    {
     "name": "stdout",
     "output_type": "stream",
     "text": [
      "[[193.526123046875, 249.101806640625, 196.69105360243057]]\n",
      "6.621621621621621\n",
      "[[193.2717742919922, 248.9898223876953, 196.78644759566697]]\n",
      "6.621621621621621\n",
      "[[193.4298095703125, 249.07118225097656, 196.71714104546442], [143.89736938476562, 220.32476806640625, 221.20482720269098], [145.7237548828125, 328.6971435546875, 128.88761845341435]]\n",
      "6.621621621621621\n"
     ]
    },
    {
     "name": "stderr",
     "output_type": "stream",
     "text": [
      "0: 480x640 1 battery_plus, 19.9ms\n",
      "Speed: 3.0ms preprocess, 19.9ms inference, 3.0ms postprocess per image at shape (1, 3, 480, 640)\n",
      "\n",
      "0: 480x640 1 battery_plus, 20.1ms\n",
      "Speed: 3.0ms preprocess, 20.1ms inference, 3.0ms postprocess per image at shape (1, 3, 480, 640)\n",
      "\n",
      "0: 480x640 1 battery_plus, 18.9ms\n",
      "Speed: 3.1ms preprocess, 18.9ms inference, 4.0ms postprocess per image at shape (1, 3, 480, 640)\n",
      "\n",
      "0: 480x640 2 battery_pluss, 20.1ms\n"
     ]
    },
    {
     "name": "stdout",
     "output_type": "stream",
     "text": [
      "[[193.3748779296875, 249.20767211914062, 196.60087189850984]]\n",
      "6.621621621621621\n",
      "[[193.53182983398438, 249.32077026367188, 196.5045290346499]]\n",
      "6.621621621621621\n",
      "[[193.2872314453125, 249.18670654296875, 196.61873146339698]]\n",
      "6.621621621621621\n"
     ]
    },
    {
     "name": "stderr",
     "output_type": "stream",
     "text": [
      "Speed: 2.0ms preprocess, 20.1ms inference, 3.0ms postprocess per image at shape (1, 3, 480, 640)\n",
      "\n",
      "0: 480x640 1 battery_plus, 20.1ms\n",
      "Speed: 2.9ms preprocess, 20.1ms inference, 3.0ms postprocess per image at shape (1, 3, 480, 640)\n",
      "\n",
      "0: 480x640 1 battery_plus, 19.1ms\n",
      "Speed: 2.0ms preprocess, 19.1ms inference, 4.0ms postprocess per image at shape (1, 3, 480, 640)\n",
      "\n"
     ]
    },
    {
     "name": "stdout",
     "output_type": "stream",
     "text": [
      "[[193.25289916992188, 249.3040008544922, 196.51881408691406], [143.14764404296875, 222.32460021972656, 219.5012664794922]]\n",
      "6.621621621621621\n",
      "[[193.41561889648438, 249.27761840820312, 196.5412880226418]]\n",
      "6.621621621621621\n",
      "[[193.25027465820312, 249.2525177001953, 196.56267010724102]]\n",
      "6.621621621621621\n"
     ]
    },
    {
     "name": "stderr",
     "output_type": "stream",
     "text": [
      "0: 480x640 1 battery_plus, 20.0ms\n",
      "Speed: 3.0ms preprocess, 20.0ms inference, 4.0ms postprocess per image at shape (1, 3, 480, 640)\n",
      "\n",
      "0: 480x640 1 battery_plus, 20.0ms\n",
      "Speed: 2.0ms preprocess, 20.0ms inference, 4.0ms postprocess per image at shape (1, 3, 480, 640)\n",
      "\n",
      "0: 480x640 1 battery_plus, 20.1ms\n",
      "Speed: 2.0ms preprocess, 20.1ms inference, 4.0ms postprocess per image at shape (1, 3, 480, 640)\n",
      "\n",
      "0: 480x640 1 battery_plus, 20.0ms\n"
     ]
    },
    {
     "name": "stdout",
     "output_type": "stream",
     "text": [
      "[[193.40267944335938, 249.34959411621094, 196.47997538248697]]\n",
      "6.621621621621621\n",
      "[[193.2954559326172, 249.13145446777344, 196.66579804597077]]\n",
      "6.621621621621621\n",
      "[[193.46217346191406, 249.26312255859375, 196.5536363389757]]\n",
      "6.621621621621621\n"
     ]
    },
    {
     "name": "stderr",
     "output_type": "stream",
     "text": [
      "Speed: 2.0ms preprocess, 20.0ms inference, 3.0ms postprocess per image at shape (1, 3, 480, 640)\n",
      "\n",
      "0: 480x640 1 battery_plus, 20.1ms\n",
      "Speed: 1.9ms preprocess, 20.1ms inference, 3.9ms postprocess per image at shape (1, 3, 480, 640)\n",
      "\n",
      "0: 480x640 1 battery_plus, 20.1ms\n",
      "Speed: 1.9ms preprocess, 20.1ms inference, 3.0ms postprocess per image at shape (1, 3, 480, 640)\n",
      "\n",
      "0: 480x640 1 battery_plus, 20.0ms\n"
     ]
    },
    {
     "name": "stdout",
     "output_type": "stream",
     "text": [
      "[[193.33392333984375, 249.44168090820312, 196.40153107819734]]\n",
      "6.621621621621621\n",
      "[[193.4112548828125, 249.18313598632812, 196.62177304868345]]\n",
      "6.621621621621621\n",
      "[[193.28280639648438, 249.18336486816406, 196.62157807526765]]\n",
      "6.621621621621621\n"
     ]
    },
    {
     "name": "stderr",
     "output_type": "stream",
     "text": [
      "Speed: 2.0ms preprocess, 20.0ms inference, 3.0ms postprocess per image at shape (1, 3, 480, 640)\n",
      "\n",
      "0: 480x640 2 battery_pluss, 20.0ms\n",
      "Speed: 2.9ms preprocess, 20.0ms inference, 4.0ms postprocess per image at shape (1, 3, 480, 640)\n",
      "\n",
      "0: 480x640 1 battery_plus, 20.1ms\n",
      "Speed: 2.9ms preprocess, 20.1ms inference, 4.0ms postprocess per image at shape (1, 3, 480, 640)\n",
      "\n"
     ]
    },
    {
     "name": "stdout",
     "output_type": "stream",
     "text": [
      "[[193.2685546875, 249.32028198242188, 196.50494497793693]]\n",
      "6.621621621621621\n",
      "[[193.37799072265625, 249.33883666992188, 196.4891391330295], [144.5774688720703, 192.7616424560547, 244.68452679669414]]\n",
      "6.621621621621621\n",
      "[[193.19915771484375, 249.3876953125, 196.44751880787038]]\n",
      "6.621621621621621\n"
     ]
    },
    {
     "name": "stderr",
     "output_type": "stream",
     "text": [
      "0: 480x640 1 battery_plus, 20.0ms\n",
      "Speed: 2.9ms preprocess, 20.0ms inference, 5.0ms postprocess per image at shape (1, 3, 480, 640)\n",
      "\n",
      "0: 480x640 1 battery_plus, 19.0ms\n",
      "Speed: 3.0ms preprocess, 19.0ms inference, 3.0ms postprocess per image at shape (1, 3, 480, 640)\n",
      "\n",
      "0: 480x640 1 battery_plus, 20.0ms\n",
      "Speed: 3.0ms preprocess, 20.0ms inference, 4.0ms postprocess per image at shape (1, 3, 480, 640)\n",
      "\n"
     ]
    },
    {
     "name": "stdout",
     "output_type": "stream",
     "text": [
      "[[193.22447204589844, 249.27548217773438, 196.54310777452258]]\n",
      "6.621621621621621\n",
      "[[193.3050537109375, 249.33834838867188, 196.48955507631655]]\n",
      "6.621621621621621\n",
      "[[193.32562255859375, 249.486083984375, 196.36370623553242]]\n",
      "6.621621621621621\n"
     ]
    },
    {
     "name": "stderr",
     "output_type": "stream",
     "text": [
      "0: 480x640 1 battery_plus, 20.0ms\n",
      "Speed: 2.9ms preprocess, 20.0ms inference, 2.0ms postprocess per image at shape (1, 3, 480, 640)\n",
      "\n",
      "0: 480x640 1 battery_plus, 20.1ms\n",
      "Speed: 3.0ms preprocess, 20.1ms inference, 3.0ms postprocess per image at shape (1, 3, 480, 640)\n",
      "\n",
      "0: 480x640 1 battery_plus, 19.7ms\n",
      "Speed: 3.0ms preprocess, 19.7ms inference, 3.0ms postprocess per image at shape (1, 3, 480, 640)\n",
      "\n",
      "0: 480x640 1 battery_plus, 19.7ms\n"
     ]
    },
    {
     "name": "stdout",
     "output_type": "stream",
     "text": [
      "[[193.3294677734375, 249.2433624267578, 196.57046904387298]]\n",
      "6.621621621621621\n",
      "[[193.264404296875, 249.24037170410156, 196.57301669650607]]\n",
      "6.621621621621621\n",
      "[[193.449951171875, 249.30062866210938, 196.52168669524016]]\n",
      "6.621621621621621\n"
     ]
    },
    {
     "name": "stderr",
     "output_type": "stream",
     "text": [
      "Speed: 2.0ms preprocess, 19.7ms inference, 3.0ms postprocess per image at shape (1, 3, 480, 640)\n",
      "\n",
      "0: 480x640 1 battery_plus, 19.0ms\n",
      "Speed: 3.0ms preprocess, 19.0ms inference, 3.0ms postprocess per image at shape (1, 3, 480, 640)\n",
      "\n",
      "0: 480x640 1 battery_plus, 20.1ms\n",
      "Speed: 3.0ms preprocess, 20.1ms inference, 3.0ms postprocess per image at shape (1, 3, 480, 640)\n",
      "\n"
     ]
    },
    {
     "name": "stdout",
     "output_type": "stream",
     "text": [
      "[[193.2723388671875, 249.35003662109375, 196.4795984338831]]\n",
      "6.621621621621621\n",
      "[[193.33131408691406, 249.26467895507812, 196.55231051974826]]\n",
      "6.621621621621621\n",
      "[[193.397216796875, 249.2673797607422, 196.55000983344183]]\n",
      "6.621621621621621\n"
     ]
    },
    {
     "name": "stderr",
     "output_type": "stream",
     "text": [
      "0: 480x640 1 battery_plus, 19.0ms\n",
      "Speed: 4.0ms preprocess, 19.0ms inference, 3.0ms postprocess per image at shape (1, 3, 480, 640)\n",
      "\n",
      "0: 480x640 1 battery_plus, 20.1ms\n",
      "Speed: 2.9ms preprocess, 20.1ms inference, 3.0ms postprocess per image at shape (1, 3, 480, 640)\n",
      "\n",
      "0: 480x640 1 battery_plus, 19.1ms\n",
      "Speed: 3.9ms preprocess, 19.1ms inference, 3.0ms postprocess per image at shape (1, 3, 480, 640)\n",
      "\n",
      "0: 480x640 1 battery_plus, 19.9ms\n"
     ]
    },
    {
     "name": "stdout",
     "output_type": "stream",
     "text": [
      "[[193.259765625, 249.14906311035156, 196.650798091182]]\n",
      "6.621621621621621\n",
      "[[193.39376831054688, 248.98780822753906, 196.788163361726]]\n",
      "6.621621621621621\n",
      "[[193.2813262939453, 249.22451782226562, 196.58652185510707]]\n",
      "6.621621621621621\n"
     ]
    },
    {
     "name": "stderr",
     "output_type": "stream",
     "text": [
      "Speed: 3.1ms preprocess, 19.9ms inference, 4.0ms postprocess per image at shape (1, 3, 480, 640)\n",
      "\n",
      "0: 480x640 1 battery_plus, 19.0ms\n",
      "Speed: 3.0ms preprocess, 19.0ms inference, 4.0ms postprocess per image at shape (1, 3, 480, 640)\n",
      "\n",
      "0: 480x640 1 battery_plus, 20.1ms\n",
      "Speed: 4.0ms preprocess, 20.1ms inference, 2.0ms postprocess per image at shape (1, 3, 480, 640)\n",
      "\n"
     ]
    },
    {
     "name": "stdout",
     "output_type": "stream",
     "text": [
      "[[193.39813232421875, 249.2041778564453, 196.6038484926577]]\n",
      "6.621621621621621\n",
      "[[193.23538208007812, 249.1166534423828, 196.6784063268591]]\n",
      "6.621621621621621\n",
      "[[193.23095703125, 249.07229614257812, 196.71619217484087]]\n",
      "6.621621621621621\n"
     ]
    },
    {
     "name": "stderr",
     "output_type": "stream",
     "text": [
      "0: 480x640 2 battery_pluss, 20.1ms\n",
      "Speed: 2.0ms preprocess, 20.1ms inference, 2.0ms postprocess per image at shape (1, 3, 480, 640)\n",
      "\n",
      "0: 480x640 1 battery_plus, 19.0ms\n",
      "Speed: 3.0ms preprocess, 19.0ms inference, 2.0ms postprocess per image at shape (1, 3, 480, 640)\n",
      "\n",
      "0: 480x640 1 battery_plus, 20.1ms\n",
      "Speed: 2.0ms preprocess, 20.1ms inference, 3.0ms postprocess per image at shape (1, 3, 480, 640)\n",
      "\n",
      "0: 480x640 2 battery_pluss, 20.1ms\n"
     ]
    },
    {
     "name": "stdout",
     "output_type": "stream",
     "text": [
      "[[193.25851440429688, 249.07716369628906, 196.71204574019822], [143.91647338867188, 222.88809204101562, 219.02125492802372]]\n",
      "6.621621621621621\n",
      "[[193.06103515625, 249.13214111328125, 196.66521312572337]]\n",
      "6.621621621621621\n",
      "[[193.23654174804688, 249.07815551757812, 196.7112008553964]]\n",
      "6.621621621621621\n"
     ]
    },
    {
     "name": "stderr",
     "output_type": "stream",
     "text": [
      "Speed: 2.0ms preprocess, 20.1ms inference, 3.0ms postprocess per image at shape (1, 3, 480, 640)\n",
      "\n",
      "0: 480x640 1 battery_plus, 20.0ms\n",
      "Speed: 3.1ms preprocess, 20.0ms inference, 2.9ms postprocess per image at shape (1, 3, 480, 640)\n",
      "\n",
      "0: 480x640 1 battery_plus, 20.1ms\n",
      "Speed: 2.0ms preprocess, 20.1ms inference, 4.0ms postprocess per image at shape (1, 3, 480, 640)\n",
      "\n",
      "0: 480x640 1 battery_plus, 20.0ms\n"
     ]
    },
    {
     "name": "stdout",
     "output_type": "stream",
     "text": [
      "[[193.10308837890625, 249.05612182617188, 196.72997029622397], [144.15347290039062, 222.3447723388672, 219.48408282244648]]\n",
      "6.621621621621621\n",
      "[[193.13511657714844, 249.20802307128906, 196.60057293927227]]\n",
      "6.621621621621621\n",
      "[[193.29739379882812, 249.14385986328125, 196.65523048683448]]\n",
      "6.621621621621621\n"
     ]
    },
    {
     "name": "stderr",
     "output_type": "stream",
     "text": [
      "Speed: 3.0ms preprocess, 20.0ms inference, 4.0ms postprocess per image at shape (1, 3, 480, 640)\n",
      "\n",
      "0: 480x640 1 battery_plus, 19.0ms\n",
      "Speed: 4.0ms preprocess, 19.0ms inference, 4.0ms postprocess per image at shape (1, 3, 480, 640)\n",
      "\n",
      "0: 480x640 1 battery_plus, 20.0ms\n",
      "Speed: 2.9ms preprocess, 20.0ms inference, 4.0ms postprocess per image at shape (1, 3, 480, 640)\n",
      "\n",
      "0: 480x640 1 battery_plus, 20.1ms\n"
     ]
    },
    {
     "name": "stdout",
     "output_type": "stream",
     "text": [
      "[[193.16281127929688, 249.12469482421875, 196.6715562608507]]\n",
      "6.621621621621621\n",
      "[[193.09371948242188, 249.12005615234375, 196.67550772207755]]\n",
      "6.621621621621621\n",
      "[[193.35848999023438, 249.04342651367188, 196.74078482168693]]\n",
      "6.621621621621621\n"
     ]
    },
    {
     "name": "stderr",
     "output_type": "stream",
     "text": [
      "Speed: 3.0ms preprocess, 20.1ms inference, 3.0ms postprocess per image at shape (1, 3, 480, 640)\n",
      "\n",
      "0: 480x640 1 battery_plus, 20.0ms\n",
      "Speed: 3.0ms preprocess, 20.0ms inference, 2.1ms postprocess per image at shape (1, 3, 480, 640)\n",
      "\n",
      "0: 480x640 1 battery_plus, 20.0ms\n",
      "Speed: 3.0ms preprocess, 20.0ms inference, 3.0ms postprocess per image at shape (1, 3, 480, 640)\n",
      "\n"
     ]
    },
    {
     "name": "stdout",
     "output_type": "stream",
     "text": [
      "[[193.1459503173828, 248.98245239257812, 196.79272573965568]]\n",
      "6.621621621621621\n",
      "[[193.30087280273438, 249.22055053710938, 196.58990139431424]]\n",
      "6.621621621621621\n",
      "[[193.29953002929688, 249.02906799316406, 196.75301615397134]]\n",
      "6.621621621621621\n"
     ]
    },
    {
     "name": "stderr",
     "output_type": "stream",
     "text": [
      "0: 480x640 1 battery_plus, 20.1ms\n",
      "Speed: 2.0ms preprocess, 20.1ms inference, 3.0ms postprocess per image at shape (1, 3, 480, 640)\n",
      "\n",
      "0: 480x640 1 battery_plus, 20.1ms\n",
      "Speed: 3.0ms preprocess, 20.1ms inference, 3.0ms postprocess per image at shape (1, 3, 480, 640)\n",
      "\n",
      "0: 480x640 1 battery_plus, 20.1ms\n",
      "Speed: 3.0ms preprocess, 20.1ms inference, 2.0ms postprocess per image at shape (1, 3, 480, 640)\n",
      "\n",
      "0: 480x640 1 battery_plus, 19.1ms\n"
     ]
    },
    {
     "name": "stdout",
     "output_type": "stream",
     "text": [
      "[[193.3291778564453, 248.991455078125, 196.78505678530092]]\n",
      "6.621621621621621\n",
      "[[193.11016845703125, 248.74960327148438, 196.99107869466147]]\n",
      "6.621621621621621\n",
      "[[193.24407958984375, 248.91758728027344, 196.847981205693]]\n",
      "6.621621621621621\n"
     ]
    },
    {
     "name": "stderr",
     "output_type": "stream",
     "text": [
      "Speed: 2.0ms preprocess, 19.1ms inference, 1.9ms postprocess per image at shape (1, 3, 480, 640)\n",
      "\n",
      "0: 480x640 1 battery_plus, 20.1ms\n",
      "Speed: 2.9ms preprocess, 20.1ms inference, 4.0ms postprocess per image at shape (1, 3, 480, 640)\n",
      "\n",
      "0: 480x640 1 battery_plus, 20.0ms\n",
      "Speed: 2.0ms preprocess, 20.0ms inference, 3.0ms postprocess per image at shape (1, 3, 480, 640)\n",
      "\n",
      "0: 480x640 1 battery_plus, 19.0ms\n"
     ]
    },
    {
     "name": "stdout",
     "output_type": "stream",
     "text": [
      "[[193.25860595703125, 248.85816955566406, 196.8985963044343]]\n",
      "6.621621621621621\n",
      "[[193.30841064453125, 249.0885772705078, 196.7023230658637]]\n",
      "6.621621621621621\n",
      "[[193.10855102539062, 249.01751708984375, 196.76285581235533]]\n",
      "6.621621621621621\n"
     ]
    },
    {
     "name": "stderr",
     "output_type": "stream",
     "text": [
      "Speed: 2.0ms preprocess, 19.0ms inference, 3.0ms postprocess per image at shape (1, 3, 480, 640)\n",
      "\n",
      "0: 480x640 1 battery_plus, 20.0ms\n",
      "Speed: 2.0ms preprocess, 20.0ms inference, 2.0ms postprocess per image at shape (1, 3, 480, 640)\n",
      "\n",
      "0: 480x640 1 battery_plus, 19.0ms\n",
      "Speed: 3.0ms preprocess, 19.0ms inference, 6.0ms postprocess per image at shape (1, 3, 480, 640)\n",
      "\n",
      "0: 480x640 1 battery_plus, 19.1ms\n"
     ]
    },
    {
     "name": "stdout",
     "output_type": "stream",
     "text": [
      "[[193.28524780273438, 248.8628387451172, 196.89461884675202]]\n",
      "6.621621621621621\n",
      "[[193.19256591796875, 249.07666015625, 196.71247468171296]]\n",
      "6.621621621621621\n",
      "[[193.17820739746094, 249.205810546875, 196.60245768229166]]\n",
      "6.621621621621621\n"
     ]
    },
    {
     "name": "stderr",
     "output_type": "stream",
     "text": [
      "Speed: 2.6ms preprocess, 19.1ms inference, 2.9ms postprocess per image at shape (1, 3, 480, 640)\n",
      "\n",
      "0: 480x640 1 battery_plus, 19.0ms\n",
      "Speed: 2.9ms preprocess, 19.0ms inference, 3.7ms postprocess per image at shape (1, 3, 480, 640)\n",
      "\n",
      "0: 480x640 1 battery_plus, 20.1ms\n",
      "Speed: 3.0ms preprocess, 20.1ms inference, 3.0ms postprocess per image at shape (1, 3, 480, 640)\n",
      "\n"
     ]
    },
    {
     "name": "stdout",
     "output_type": "stream",
     "text": [
      "[[193.34364318847656, 248.96731567382812, 196.80561998155383]]\n",
      "6.621621621621621\n",
      "[[193.29949951171875, 249.10028076171875, 196.69235342520255]]\n",
      "6.621621621621621\n",
      "[[193.1575927734375, 249.091552734375, 196.69978841145834]]\n",
      "6.621621621621621\n"
     ]
    },
    {
     "name": "stderr",
     "output_type": "stream",
     "text": [
      "0: 480x640 1 battery_plus, 20.1ms\n",
      "Speed: 2.0ms preprocess, 20.1ms inference, 3.9ms postprocess per image at shape (1, 3, 480, 640)\n",
      "\n",
      "0: 480x640 1 battery_plus, 20.0ms\n",
      "Speed: 2.0ms preprocess, 20.0ms inference, 5.0ms postprocess per image at shape (1, 3, 480, 640)\n",
      "\n",
      "0: 480x640 1 battery_plus, 20.0ms\n",
      "Speed: 3.9ms preprocess, 20.0ms inference, 4.0ms postprocess per image at shape (1, 3, 480, 640)\n",
      "\n",
      "0: 480x640 1 battery_plus, 20.0ms\n"
     ]
    },
    {
     "name": "stdout",
     "output_type": "stream",
     "text": [
      "[[193.2246856689453, 249.0087127685547, 196.77035578974971]]\n",
      "6.621621621621621\n",
      "[[193.12997436523438, 249.01844787597656, 196.76206292046442]]\n",
      "6.621621621621621\n",
      "[[193.24954223632812, 249.0338134765625, 196.74897370515046]]\n",
      "6.621621621621621\n"
     ]
    },
    {
     "name": "stderr",
     "output_type": "stream",
     "text": [
      "Speed: 3.0ms preprocess, 20.0ms inference, 4.0ms postprocess per image at shape (1, 3, 480, 640)\n",
      "\n",
      "0: 480x640 1 battery_plus, 20.0ms\n",
      "Speed: 2.9ms preprocess, 20.0ms inference, 3.0ms postprocess per image at shape (1, 3, 480, 640)\n",
      "\n",
      "0: 480x640 1 battery_plus, 20.1ms\n",
      "Speed: 1.9ms preprocess, 20.1ms inference, 2.0ms postprocess per image at shape (1, 3, 480, 640)\n",
      "\n",
      "0: 480x640 1 battery_plus, 19.0ms\n"
     ]
    },
    {
     "name": "stdout",
     "output_type": "stream",
     "text": [
      "[[193.26971435546875, 249.16073608398438, 196.64085444697628]]\n",
      "6.621621621621621\n",
      "[[193.23532104492188, 249.16357421875, 196.63843677662038]]\n",
      "6.621621621621621\n",
      "[[193.318115234375, 249.0240020751953, 196.75733156557436]]\n",
      "6.621621621621621\n"
     ]
    },
    {
     "name": "stderr",
     "output_type": "stream",
     "text": [
      "Speed: 3.0ms preprocess, 19.0ms inference, 4.0ms postprocess per image at shape (1, 3, 480, 640)\n",
      "\n",
      "0: 480x640 1 battery_plus, 20.0ms\n",
      "Speed: 3.0ms preprocess, 20.0ms inference, 4.0ms postprocess per image at shape (1, 3, 480, 640)\n",
      "\n",
      "0: 480x640 1 battery_plus, 20.1ms\n",
      "Speed: 2.0ms preprocess, 20.1ms inference, 3.9ms postprocess per image at shape (1, 3, 480, 640)\n",
      "\n"
     ]
    },
    {
     "name": "stdout",
     "output_type": "stream",
     "text": [
      "[[193.0870819091797, 249.12908935546875, 196.66781277126736]]\n",
      "6.621621621621621\n",
      "[[193.16787719726562, 249.07896423339844, 196.71051194932727]]\n",
      "6.621621621621621\n",
      "[[193.06002807617188, 249.05889892578125, 196.72760461877894]]\n",
      "6.621621621621621\n"
     ]
    },
    {
     "name": "stderr",
     "output_type": "stream",
     "text": [
      "0: 480x640 1 battery_plus, 20.0ms\n",
      "Speed: 2.0ms preprocess, 20.0ms inference, 2.0ms postprocess per image at shape (1, 3, 480, 640)\n",
      "\n",
      "0: 480x640 1 battery_plus, 20.0ms\n",
      "Speed: 2.9ms preprocess, 20.0ms inference, 2.0ms postprocess per image at shape (1, 3, 480, 640)\n",
      "\n",
      "0: 480x640 1 battery_plus, 19.0ms\n",
      "Speed: 2.9ms preprocess, 19.0ms inference, 3.0ms postprocess per image at shape (1, 3, 480, 640)\n",
      "\n"
     ]
    },
    {
     "name": "stdout",
     "output_type": "stream",
     "text": [
      "[[193.26287841796875, 249.19924926757812, 196.60804692021122]]\n",
      "6.621621621621621\n",
      "[[193.2381591796875, 249.14166259765625, 196.65710223162617]]\n",
      "6.621621621621621\n",
      "[[193.2325439453125, 249.2795867919922, 196.5396112512659]]\n",
      "6.621621621621621\n"
     ]
    },
    {
     "name": "stderr",
     "output_type": "stream",
     "text": [
      "0: 480x640 1 battery_plus, 19.0ms\n",
      "Speed: 3.0ms preprocess, 19.0ms inference, 2.0ms postprocess per image at shape (1, 3, 480, 640)\n",
      "\n",
      "0: 480x640 2 battery_pluss, 20.0ms\n",
      "Speed: 2.0ms preprocess, 20.0ms inference, 3.0ms postprocess per image at shape (1, 3, 480, 640)\n",
      "\n",
      "0: 480x640 1 battery_plus, 19.1ms\n",
      "Speed: 4.0ms preprocess, 19.1ms inference, 4.0ms postprocess per image at shape (1, 3, 480, 640)\n",
      "\n"
     ]
    },
    {
     "name": "stdout",
     "output_type": "stream",
     "text": [
      "[[193.26242065429688, 249.10665893554688, 196.68692016601562]]\n",
      "6.621621621621621\n",
      "[[193.2437286376953, 249.16250610351562, 196.63934665256076], [144.21395874023438, 222.37120056152344, 219.46156989203558]]\n",
      "6.621621621621621\n",
      "[[193.16470336914062, 249.05508422851562, 196.7308541757089]]\n",
      "6.621621621621621\n"
     ]
    },
    {
     "name": "stderr",
     "output_type": "stream",
     "text": [
      "0: 480x640 1 battery_plus, 19.0ms\n",
      "Speed: 3.0ms preprocess, 19.0ms inference, 4.0ms postprocess per image at shape (1, 3, 480, 640)\n",
      "\n",
      "0: 480x640 1 battery_plus, 20.0ms\n",
      "Speed: 3.0ms preprocess, 20.0ms inference, 3.1ms postprocess per image at shape (1, 3, 480, 640)\n",
      "\n",
      "0: 480x640 1 battery_plus, 19.1ms\n",
      "Speed: 3.0ms preprocess, 19.1ms inference, 5.0ms postprocess per image at shape (1, 3, 480, 640)\n",
      "\n"
     ]
    },
    {
     "name": "stdout",
     "output_type": "stream",
     "text": [
      "[[193.14120483398438, 249.0101318359375, 196.76914695457177]]\n",
      "6.621621621621621\n",
      "[[193.34481811523438, 249.1186065673828, 196.67674255371094]]\n",
      "6.621621621621621\n",
      "[[193.2980194091797, 249.14781188964844, 196.65186394585504]]\n",
      "6.621621621621621\n"
     ]
    },
    {
     "name": "stderr",
     "output_type": "stream",
     "text": [
      "0: 480x640 1 battery_plus, 19.0ms\n",
      "Speed: 2.0ms preprocess, 19.0ms inference, 3.0ms postprocess per image at shape (1, 3, 480, 640)\n",
      "\n",
      "0: 480x640 1 battery_plus, 19.1ms\n",
      "Speed: 3.0ms preprocess, 19.1ms inference, 4.0ms postprocess per image at shape (1, 3, 480, 640)\n",
      "\n",
      "0: 480x640 1 battery_plus, 20.1ms\n",
      "Speed: 2.0ms preprocess, 20.1ms inference, 4.0ms postprocess per image at shape (1, 3, 480, 640)\n",
      "\n",
      "0: 480x640 1 battery_plus, 20.0ms\n"
     ]
    },
    {
     "name": "stdout",
     "output_type": "stream",
     "text": [
      "[[193.27415466308594, 249.05101013183594, 196.73432470251012]]\n",
      "6.621621621621621\n",
      "[[193.21011352539062, 249.22872924804688, 196.58293434425636]]\n",
      "6.621621621621621\n",
      "[[193.36471557617188, 249.15097045898438, 196.649173312717]]\n",
      "6.621621621621621\n"
     ]
    },
    {
     "name": "stderr",
     "output_type": "stream",
     "text": [
      "Speed: 3.0ms preprocess, 20.0ms inference, 2.0ms postprocess per image at shape (1, 3, 480, 640)\n",
      "\n",
      "0: 480x640 1 battery_plus, 19.0ms\n",
      "Speed: 2.0ms preprocess, 19.0ms inference, 3.0ms postprocess per image at shape (1, 3, 480, 640)\n",
      "\n",
      "0: 480x640 1 battery_plus, 20.0ms\n",
      "Speed: 2.0ms preprocess, 20.0ms inference, 2.0ms postprocess per image at shape (1, 3, 480, 640)\n",
      "\n"
     ]
    },
    {
     "name": "stdout",
     "output_type": "stream",
     "text": [
      "[[193.42984008789062, 249.15740966796875, 196.6436880606192]]\n",
      "6.621621621621621\n",
      "[[193.25650024414062, 249.09695434570312, 196.6951870388455]]\n",
      "6.621621621621621\n",
      "[[193.31973266601562, 249.2364044189453, 196.57639623571325]]\n",
      "6.621621621621621\n"
     ]
    },
    {
     "name": "stderr",
     "output_type": "stream",
     "text": [
      "0: 480x640 1 battery_plus, 19.0ms\n",
      "Speed: 3.0ms preprocess, 19.0ms inference, 2.0ms postprocess per image at shape (1, 3, 480, 640)\n",
      "\n",
      "0: 480x640 1 battery_plus, 20.0ms\n",
      "Speed: 2.0ms preprocess, 20.0ms inference, 4.0ms postprocess per image at shape (1, 3, 480, 640)\n",
      "\n",
      "0: 480x640 1 battery_plus, 19.0ms\n",
      "Speed: 3.0ms preprocess, 19.0ms inference, 3.0ms postprocess per image at shape (1, 3, 480, 640)\n",
      "\n"
     ]
    },
    {
     "name": "stdout",
     "output_type": "stream",
     "text": [
      "[[193.0843048095703, 249.3021697998047, 196.52037387424045]]\n",
      "6.621621621621621\n",
      "[[193.42076110839844, 249.41302490234375, 196.42594174985533]]\n",
      "6.621621621621621\n",
      "[[193.1026611328125, 249.06832885742188, 196.71957171404804]]\n",
      "6.621621621621621\n"
     ]
    },
    {
     "name": "stderr",
     "output_type": "stream",
     "text": [
      "0: 480x640 1 battery_plus, 20.0ms\n",
      "Speed: 2.9ms preprocess, 20.0ms inference, 2.0ms postprocess per image at shape (1, 3, 480, 640)\n",
      "\n",
      "0: 480x640 2 battery_pluss, 19.0ms\n",
      "Speed: 3.0ms preprocess, 19.0ms inference, 3.0ms postprocess per image at shape (1, 3, 480, 640)\n",
      "\n",
      "0: 480x640 1 battery_plus, 18.6ms\n",
      "Speed: 3.0ms preprocess, 18.6ms inference, 3.0ms postprocess per image at shape (1, 3, 480, 640)\n",
      "\n",
      "0: 480x640 2 battery_pluss, 20.0ms\n"
     ]
    },
    {
     "name": "stdout",
     "output_type": "stream",
     "text": [
      "[[193.122802734375, 249.23873901367188, 196.57440750687212]]\n",
      "6.621621621621621\n",
      "[[193.22775268554688, 249.09619140625, 196.6958369502315], [144.27713012695312, 223.310791015625, 218.66117802372685]]\n",
      "6.621621621621621\n",
      "[[193.36219787597656, 249.2491455078125, 196.56554271556712]]\n",
      "6.621621621621621\n"
     ]
    },
    {
     "name": "stderr",
     "output_type": "stream",
     "text": [
      "Speed: 3.0ms preprocess, 20.0ms inference, 3.0ms postprocess per image at shape (1, 3, 480, 640)\n",
      "\n",
      "0: 480x640 1 battery_plus, 19.9ms\n",
      "Speed: 2.1ms preprocess, 19.9ms inference, 4.0ms postprocess per image at shape (1, 3, 480, 640)\n",
      "\n",
      "0: 480x640 1 battery_plus, 20.0ms\n",
      "Speed: 2.0ms preprocess, 20.0ms inference, 3.9ms postprocess per image at shape (1, 3, 480, 640)\n",
      "\n"
     ]
    },
    {
     "name": "stdout",
     "output_type": "stream",
     "text": [
      "[[193.0678253173828, 249.2171630859375, 196.59278700086807], [144.02499389648438, 221.5899200439453, 220.12710514775029]]\n",
      "6.621621621621621\n",
      "[[193.1614990234375, 249.3721923828125, 196.4607250072338]]\n",
      "6.621621621621621\n",
      "[[193.19093322753906, 249.13693237304688, 196.66113168221932]]\n",
      "6.621621621621621\n"
     ]
    },
    {
     "name": "stderr",
     "output_type": "stream",
     "text": [
      "0: 480x640 1 battery_plus, 20.0ms\n",
      "Speed: 2.0ms preprocess, 20.0ms inference, 3.0ms postprocess per image at shape (1, 3, 480, 640)\n",
      "\n",
      "0: 480x640 2 battery_pluss, 20.0ms\n",
      "Speed: 2.9ms preprocess, 20.0ms inference, 4.0ms postprocess per image at shape (1, 3, 480, 640)\n",
      "\n",
      "0: 480x640 1 battery_plus, 20.0ms\n",
      "Speed: 3.0ms preprocess, 20.0ms inference, 3.0ms postprocess per image at shape (1, 3, 480, 640)\n",
      "\n"
     ]
    },
    {
     "name": "stdout",
     "output_type": "stream",
     "text": [
      "[[193.13458251953125, 249.20236206054688, 196.60539528175636]]\n",
      "6.621621621621621\n",
      "[[193.2450408935547, 249.1728515625, 196.63053385416666], [144.15234375, 222.06716918945312, 219.72055957935476]]\n",
      "6.621621621621621\n",
      "[[193.20281982421875, 249.26499938964844, 196.55203755696616]]\n",
      "6.621621621621621\n"
     ]
    },
    {
     "name": "stderr",
     "output_type": "stream",
     "text": [
      "0: 480x640 2 battery_pluss, 19.0ms\n",
      "Speed: 2.9ms preprocess, 19.0ms inference, 3.0ms postprocess per image at shape (1, 3, 480, 640)\n",
      "\n",
      "0: 480x640 1 battery_plus, 20.0ms\n",
      "Speed: 2.0ms preprocess, 20.0ms inference, 3.0ms postprocess per image at shape (1, 3, 480, 640)\n",
      "\n"
     ]
    },
    {
     "name": "stdout",
     "output_type": "stream",
     "text": [
      "[[193.22900390625, 249.19290161132812, 196.61345418294272], [144.9337158203125, 305.85205078125, 148.34825303819446]]\n",
      "6.621621621621621\n",
      "[[193.16021728515625, 249.23521423339844, 196.5774100974754]]\n",
      "6.621621621621621\n"
     ]
    },
    {
     "ename": "KeyboardInterrupt",
     "evalue": "",
     "output_type": "error",
     "traceback": [
      "\u001b[1;31m---------------------------------------------------------------------------\u001b[0m",
      "\u001b[1;31mKeyboardInterrupt\u001b[0m                         Traceback (most recent call last)",
      "Input \u001b[1;32mIn [1]\u001b[0m, in \u001b[0;36m<cell line: 45>\u001b[1;34m()\u001b[0m\n\u001b[0;32m     45\u001b[0m ret, frame \u001b[38;5;241m=\u001b[39m cap\u001b[38;5;241m.\u001b[39mread()\n\u001b[0;32m     46\u001b[0m \u001b[38;5;66;03m#frame=frame[100:370,:]\u001b[39;00m\n\u001b[1;32m---> 47\u001b[0m result \u001b[38;5;241m=\u001b[39m \u001b[43mmodel\u001b[49m\u001b[43m(\u001b[49m\u001b[43mframe\u001b[49m\u001b[43m,\u001b[49m\u001b[43m \u001b[49m\u001b[43magnostic_nms\u001b[49m\u001b[38;5;241;43m=\u001b[39;49m\u001b[38;5;28;43;01mTrue\u001b[39;49;00m\u001b[43m)\u001b[49m[\u001b[38;5;241m0\u001b[39m]\n\u001b[0;32m     48\u001b[0m detections \u001b[38;5;241m=\u001b[39m sv\u001b[38;5;241m.\u001b[39mDetections\u001b[38;5;241m.\u001b[39mfrom_ultralytics(result)\n\u001b[0;32m     49\u001b[0m \u001b[38;5;66;03m#print(detections) \u001b[39;00m\n",
      "File \u001b[1;32m~\\AppData\\Roaming\\Python\\Python39\\site-packages\\ultralytics\\engine\\model.py:96\u001b[0m, in \u001b[0;36mModel.__call__\u001b[1;34m(self, source, stream, **kwargs)\u001b[0m\n\u001b[0;32m     94\u001b[0m \u001b[38;5;28;01mdef\u001b[39;00m \u001b[38;5;21m__call__\u001b[39m(\u001b[38;5;28mself\u001b[39m, source\u001b[38;5;241m=\u001b[39m\u001b[38;5;28;01mNone\u001b[39;00m, stream\u001b[38;5;241m=\u001b[39m\u001b[38;5;28;01mFalse\u001b[39;00m, \u001b[38;5;241m*\u001b[39m\u001b[38;5;241m*\u001b[39mkwargs):\n\u001b[0;32m     95\u001b[0m \u001b[38;5;250m    \u001b[39m\u001b[38;5;124;03m\"\"\"Calls the 'predict' function with given arguments to perform object detection.\"\"\"\u001b[39;00m\n\u001b[1;32m---> 96\u001b[0m     \u001b[38;5;28;01mreturn\u001b[39;00m \u001b[38;5;28mself\u001b[39m\u001b[38;5;241m.\u001b[39mpredict(source, stream, \u001b[38;5;241m*\u001b[39m\u001b[38;5;241m*\u001b[39mkwargs)\n",
      "File \u001b[1;32m~\\AppData\\Roaming\\Python\\Python39\\site-packages\\torch\\utils\\_contextlib.py:115\u001b[0m, in \u001b[0;36mcontext_decorator.<locals>.decorate_context\u001b[1;34m(*args, **kwargs)\u001b[0m\n\u001b[0;32m    112\u001b[0m \u001b[38;5;129m@functools\u001b[39m\u001b[38;5;241m.\u001b[39mwraps(func)\n\u001b[0;32m    113\u001b[0m \u001b[38;5;28;01mdef\u001b[39;00m \u001b[38;5;21mdecorate_context\u001b[39m(\u001b[38;5;241m*\u001b[39margs, \u001b[38;5;241m*\u001b[39m\u001b[38;5;241m*\u001b[39mkwargs):\n\u001b[0;32m    114\u001b[0m     \u001b[38;5;28;01mwith\u001b[39;00m ctx_factory():\n\u001b[1;32m--> 115\u001b[0m         \u001b[38;5;28;01mreturn\u001b[39;00m func(\u001b[38;5;241m*\u001b[39margs, \u001b[38;5;241m*\u001b[39m\u001b[38;5;241m*\u001b[39mkwargs)\n",
      "File \u001b[1;32m~\\AppData\\Roaming\\Python\\Python39\\site-packages\\ultralytics\\engine\\model.py:238\u001b[0m, in \u001b[0;36mModel.predict\u001b[1;34m(self, source, stream, predictor, **kwargs)\u001b[0m\n\u001b[0;32m    236\u001b[0m \u001b[38;5;28;01mif\u001b[39;00m prompts \u001b[38;5;129;01mand\u001b[39;00m \u001b[38;5;28mhasattr\u001b[39m(\u001b[38;5;28mself\u001b[39m\u001b[38;5;241m.\u001b[39mpredictor, \u001b[38;5;124m'\u001b[39m\u001b[38;5;124mset_prompts\u001b[39m\u001b[38;5;124m'\u001b[39m):  \u001b[38;5;66;03m# for SAM-type models\u001b[39;00m\n\u001b[0;32m    237\u001b[0m     \u001b[38;5;28mself\u001b[39m\u001b[38;5;241m.\u001b[39mpredictor\u001b[38;5;241m.\u001b[39mset_prompts(prompts)\n\u001b[1;32m--> 238\u001b[0m \u001b[38;5;28;01mreturn\u001b[39;00m \u001b[38;5;28mself\u001b[39m\u001b[38;5;241m.\u001b[39mpredictor\u001b[38;5;241m.\u001b[39mpredict_cli(source\u001b[38;5;241m=\u001b[39msource) \u001b[38;5;28;01mif\u001b[39;00m is_cli \u001b[38;5;28;01melse\u001b[39;00m \u001b[38;5;28;43mself\u001b[39;49m\u001b[38;5;241;43m.\u001b[39;49m\u001b[43mpredictor\u001b[49m\u001b[43m(\u001b[49m\u001b[43msource\u001b[49m\u001b[38;5;241;43m=\u001b[39;49m\u001b[43msource\u001b[49m\u001b[43m,\u001b[49m\u001b[43m \u001b[49m\u001b[43mstream\u001b[49m\u001b[38;5;241;43m=\u001b[39;49m\u001b[43mstream\u001b[49m\u001b[43m)\u001b[49m\n",
      "File \u001b[1;32m~\\AppData\\Roaming\\Python\\Python39\\site-packages\\ultralytics\\engine\\predictor.py:194\u001b[0m, in \u001b[0;36mBasePredictor.__call__\u001b[1;34m(self, source, model, stream, *args, **kwargs)\u001b[0m\n\u001b[0;32m    192\u001b[0m     \u001b[38;5;28;01mreturn\u001b[39;00m \u001b[38;5;28mself\u001b[39m\u001b[38;5;241m.\u001b[39mstream_inference(source, model, \u001b[38;5;241m*\u001b[39margs, \u001b[38;5;241m*\u001b[39m\u001b[38;5;241m*\u001b[39mkwargs)\n\u001b[0;32m    193\u001b[0m \u001b[38;5;28;01melse\u001b[39;00m:\n\u001b[1;32m--> 194\u001b[0m     \u001b[38;5;28;01mreturn\u001b[39;00m \u001b[38;5;28;43mlist\u001b[39;49m\u001b[43m(\u001b[49m\u001b[38;5;28;43mself\u001b[39;49m\u001b[38;5;241;43m.\u001b[39;49m\u001b[43mstream_inference\u001b[49m\u001b[43m(\u001b[49m\u001b[43msource\u001b[49m\u001b[43m,\u001b[49m\u001b[43m \u001b[49m\u001b[43mmodel\u001b[49m\u001b[43m,\u001b[49m\u001b[43m \u001b[49m\u001b[38;5;241;43m*\u001b[39;49m\u001b[43margs\u001b[49m\u001b[43m,\u001b[49m\u001b[43m \u001b[49m\u001b[38;5;241;43m*\u001b[39;49m\u001b[38;5;241;43m*\u001b[39;49m\u001b[43mkwargs\u001b[49m\u001b[43m)\u001b[49m\u001b[43m)\u001b[49m\n",
      "File \u001b[1;32m~\\AppData\\Roaming\\Python\\Python39\\site-packages\\torch\\utils\\_contextlib.py:35\u001b[0m, in \u001b[0;36m_wrap_generator.<locals>.generator_context\u001b[1;34m(*args, **kwargs)\u001b[0m\n\u001b[0;32m     32\u001b[0m \u001b[38;5;28;01mtry\u001b[39;00m:\n\u001b[0;32m     33\u001b[0m     \u001b[38;5;66;03m# Issuing `None` to a generator fires it up\u001b[39;00m\n\u001b[0;32m     34\u001b[0m     \u001b[38;5;28;01mwith\u001b[39;00m ctx_factory():\n\u001b[1;32m---> 35\u001b[0m         response \u001b[38;5;241m=\u001b[39m \u001b[43mgen\u001b[49m\u001b[38;5;241;43m.\u001b[39;49m\u001b[43msend\u001b[49m\u001b[43m(\u001b[49m\u001b[38;5;28;43;01mNone\u001b[39;49;00m\u001b[43m)\u001b[49m\n\u001b[0;32m     37\u001b[0m     \u001b[38;5;28;01mwhile\u001b[39;00m \u001b[38;5;28;01mTrue\u001b[39;00m:\n\u001b[0;32m     38\u001b[0m         \u001b[38;5;28;01mtry\u001b[39;00m:\n\u001b[0;32m     39\u001b[0m             \u001b[38;5;66;03m# Forward the response to our caller and get its next request\u001b[39;00m\n",
      "File \u001b[1;32m~\\AppData\\Roaming\\Python\\Python39\\site-packages\\ultralytics\\engine\\predictor.py:257\u001b[0m, in \u001b[0;36mBasePredictor.stream_inference\u001b[1;34m(self, source, model, *args, **kwargs)\u001b[0m\n\u001b[0;32m    255\u001b[0m \u001b[38;5;66;03m# Postprocess\u001b[39;00m\n\u001b[0;32m    256\u001b[0m \u001b[38;5;28;01mwith\u001b[39;00m profilers[\u001b[38;5;241m2\u001b[39m]:\n\u001b[1;32m--> 257\u001b[0m     \u001b[38;5;28mself\u001b[39m\u001b[38;5;241m.\u001b[39mresults \u001b[38;5;241m=\u001b[39m \u001b[38;5;28;43mself\u001b[39;49m\u001b[38;5;241;43m.\u001b[39;49m\u001b[43mpostprocess\u001b[49m\u001b[43m(\u001b[49m\u001b[43mpreds\u001b[49m\u001b[43m,\u001b[49m\u001b[43m \u001b[49m\u001b[43mim\u001b[49m\u001b[43m,\u001b[49m\u001b[43m \u001b[49m\u001b[43mim0s\u001b[49m\u001b[43m)\u001b[49m\n\u001b[0;32m    258\u001b[0m \u001b[38;5;28mself\u001b[39m\u001b[38;5;241m.\u001b[39mrun_callbacks(\u001b[38;5;124m'\u001b[39m\u001b[38;5;124mon_predict_postprocess_end\u001b[39m\u001b[38;5;124m'\u001b[39m)\n\u001b[0;32m    260\u001b[0m \u001b[38;5;66;03m# Visualize, save, write results\u001b[39;00m\n",
      "File \u001b[1;32m~\\AppData\\Roaming\\Python\\Python39\\site-packages\\ultralytics\\models\\yolo\\detect\\predict.py:25\u001b[0m, in \u001b[0;36mDetectionPredictor.postprocess\u001b[1;34m(self, preds, img, orig_imgs)\u001b[0m\n\u001b[0;32m     23\u001b[0m \u001b[38;5;28;01mdef\u001b[39;00m \u001b[38;5;21mpostprocess\u001b[39m(\u001b[38;5;28mself\u001b[39m, preds, img, orig_imgs):\n\u001b[0;32m     24\u001b[0m \u001b[38;5;250m    \u001b[39m\u001b[38;5;124;03m\"\"\"Post-processes predictions and returns a list of Results objects.\"\"\"\u001b[39;00m\n\u001b[1;32m---> 25\u001b[0m     preds \u001b[38;5;241m=\u001b[39m \u001b[43mops\u001b[49m\u001b[38;5;241;43m.\u001b[39;49m\u001b[43mnon_max_suppression\u001b[49m\u001b[43m(\u001b[49m\u001b[43mpreds\u001b[49m\u001b[43m,\u001b[49m\n\u001b[0;32m     26\u001b[0m \u001b[43m                                    \u001b[49m\u001b[38;5;28;43mself\u001b[39;49m\u001b[38;5;241;43m.\u001b[39;49m\u001b[43margs\u001b[49m\u001b[38;5;241;43m.\u001b[39;49m\u001b[43mconf\u001b[49m\u001b[43m,\u001b[49m\n\u001b[0;32m     27\u001b[0m \u001b[43m                                    \u001b[49m\u001b[38;5;28;43mself\u001b[39;49m\u001b[38;5;241;43m.\u001b[39;49m\u001b[43margs\u001b[49m\u001b[38;5;241;43m.\u001b[39;49m\u001b[43miou\u001b[49m\u001b[43m,\u001b[49m\n\u001b[0;32m     28\u001b[0m \u001b[43m                                    \u001b[49m\u001b[43magnostic\u001b[49m\u001b[38;5;241;43m=\u001b[39;49m\u001b[38;5;28;43mself\u001b[39;49m\u001b[38;5;241;43m.\u001b[39;49m\u001b[43margs\u001b[49m\u001b[38;5;241;43m.\u001b[39;49m\u001b[43magnostic_nms\u001b[49m\u001b[43m,\u001b[49m\n\u001b[0;32m     29\u001b[0m \u001b[43m                                    \u001b[49m\u001b[43mmax_det\u001b[49m\u001b[38;5;241;43m=\u001b[39;49m\u001b[38;5;28;43mself\u001b[39;49m\u001b[38;5;241;43m.\u001b[39;49m\u001b[43margs\u001b[49m\u001b[38;5;241;43m.\u001b[39;49m\u001b[43mmax_det\u001b[49m\u001b[43m,\u001b[49m\n\u001b[0;32m     30\u001b[0m \u001b[43m                                    \u001b[49m\u001b[43mclasses\u001b[49m\u001b[38;5;241;43m=\u001b[39;49m\u001b[38;5;28;43mself\u001b[39;49m\u001b[38;5;241;43m.\u001b[39;49m\u001b[43margs\u001b[49m\u001b[38;5;241;43m.\u001b[39;49m\u001b[43mclasses\u001b[49m\u001b[43m)\u001b[49m\n\u001b[0;32m     32\u001b[0m     results \u001b[38;5;241m=\u001b[39m []\n\u001b[0;32m     33\u001b[0m     is_list \u001b[38;5;241m=\u001b[39m \u001b[38;5;28misinstance\u001b[39m(orig_imgs, \u001b[38;5;28mlist\u001b[39m)  \u001b[38;5;66;03m# input images are a list, not a torch.Tensor\u001b[39;00m\n",
      "File \u001b[1;32m~\\AppData\\Roaming\\Python\\Python39\\site-packages\\ultralytics\\utils\\ops.py:189\u001b[0m, in \u001b[0;36mnon_max_suppression\u001b[1;34m(prediction, conf_thres, iou_thres, classes, agnostic, multi_label, labels, max_det, nc, max_time_img, max_nms, max_wh)\u001b[0m\n\u001b[0;32m    187\u001b[0m nm \u001b[38;5;241m=\u001b[39m prediction\u001b[38;5;241m.\u001b[39mshape[\u001b[38;5;241m1\u001b[39m] \u001b[38;5;241m-\u001b[39m nc \u001b[38;5;241m-\u001b[39m \u001b[38;5;241m4\u001b[39m\n\u001b[0;32m    188\u001b[0m mi \u001b[38;5;241m=\u001b[39m \u001b[38;5;241m4\u001b[39m \u001b[38;5;241m+\u001b[39m nc  \u001b[38;5;66;03m# mask start index\u001b[39;00m\n\u001b[1;32m--> 189\u001b[0m xc \u001b[38;5;241m=\u001b[39m \u001b[43mprediction\u001b[49m\u001b[43m[\u001b[49m\u001b[43m:\u001b[49m\u001b[43m,\u001b[49m\u001b[43m \u001b[49m\u001b[38;5;241;43m4\u001b[39;49m\u001b[43m:\u001b[49m\u001b[43mmi\u001b[49m\u001b[43m]\u001b[49m\u001b[38;5;241;43m.\u001b[39;49m\u001b[43mamax\u001b[49m\u001b[43m(\u001b[49m\u001b[38;5;241;43m1\u001b[39;49m\u001b[43m)\u001b[49m \u001b[38;5;241m>\u001b[39m conf_thres  \u001b[38;5;66;03m# candidates\u001b[39;00m\n\u001b[0;32m    191\u001b[0m \u001b[38;5;66;03m# Settings\u001b[39;00m\n\u001b[0;32m    192\u001b[0m \u001b[38;5;66;03m# min_wh = 2  # (pixels) minimum box width and height\u001b[39;00m\n\u001b[0;32m    193\u001b[0m time_limit \u001b[38;5;241m=\u001b[39m \u001b[38;5;241m0.5\u001b[39m \u001b[38;5;241m+\u001b[39m max_time_img \u001b[38;5;241m*\u001b[39m bs  \u001b[38;5;66;03m# seconds to quit after\u001b[39;00m\n",
      "\u001b[1;31mKeyboardInterrupt\u001b[0m: "
     ]
    }
   ],
   "source": [
    "import cv2\n",
    "from ultralytics import YOLO\n",
    "import supervision as sv\n",
    "import numpy as np\n",
    "from operator import itemgetter\n",
    "import time\n",
    "from kuka import Kuka\n",
    "from openshowvar import *\n",
    "'''\n",
    "print('go')\n",
    "robot = openshowvar(ip = '192.168.1.2', port = 7000)\n",
    "kuka = Kuka(robot)\n",
    "\n",
    "kuka.read_cartessian()\n",
    "\n",
    "kuka.set_base(17)\n",
    "kuka.set_tool(10)\n",
    "\n",
    "# Set speed (%)\n",
    "kuka.set_speed(100)\n",
    "print('ready')\n",
    "\n",
    "\n",
    "trajectory_arr = []\n",
    "trajectory_arr.append(np.array([kuka.x_cartessian, kuka.y_cartessian, kuka.z_cartessian, kuka.A_cartessian, kuka.B_cartessian, kuka.C_cartessian]))\n",
    "trajectory_arr.append(np.array([0, 0, -50, 0, 0, 180]))\n",
    "trajectory_arr = np.array(trajectory_arr)\n",
    "# Отправка траектории роботу\n",
    "kuka.lin_continuous(trajectory_arr) \n",
    "kuka.open_grip()\n",
    "'''            \n",
    "cap = cv2.VideoCapture(0, cv2.CAP_DSHOW)\n",
    "model = YOLO(\"Battery_1.pt\")\n",
    "\n",
    "bounding_box_annotator = sv.BoundingBoxAnnotator()\n",
    "#label_annotator = sv.LabelAnnotator(text_position=sv.Position.CENTER)\n",
    "percentage_bar_annotator = sv.BoundingBoxAnnotator()\n",
    "\n",
    "def speed(Hz):\n",
    "    second=(35/(Hz/2.8))/2\n",
    "    return second\n",
    "\n",
    "\n",
    "while True:\n",
    "    ret, frame = cap.read()\n",
    "    frame=frame[100:370,:]\n",
    "    result = model(frame, agnostic_nms=True)[0]\n",
    "    detections = sv.Detections.from_ultralytics(result)\n",
    "    #print(detections) \n",
    "    coord_center=[]\n",
    "    for i in range (len(detections)):\n",
    "        x=(detections.xyxy[i][0]+detections.xyxy[i][2])/2\n",
    "        y=(detections.xyxy[i][1]+detections.xyxy[i][3])/2\n",
    "        y_mm=230/270*(270-y)\n",
    "        coord_center.append([x,y,y_mm])\n",
    "    print(coord_center)\n",
    "        \n",
    "    #frame 250\n",
    "    #conveer 204\n",
    "    coord_center=np.array(coord_center)\n",
    "    if coord_center.size != 0:\n",
    "        x_sort=sorted(coord_center,key=itemgetter(0))\n",
    "        #print(x_sort)\n",
    "        currentClass = detections.class_id[0]\n",
    "        if x_sort[0][0]<=200:\n",
    "            second_detection=int(time.time())\n",
    "            second=speed(7.4)\n",
    "            print(second)\n",
    "            '''\n",
    "            trajectory_arr = []\n",
    "            trajectory_arr.append(np.array([kuka.x_cartessian, kuka.y_cartessian, kuka.z_cartessian, kuka.A_cartessian, kuka.B_cartessian, kuka.C_cartessian]))\n",
    "            trajectory_arr.append(np.array([0, x_sort[0][2], -120, 0, 0, 180]))\n",
    "            trajectory_arr = np.array(trajectory_arr)\n",
    "            # Отправка траектории роботу\n",
    "            kuka.lin_continuous(trajectory_arr)\n",
    "            time.sleep(second)\n",
    "            kuka.close_grip()\n",
    "            if currentClass==1:\n",
    "                trajectory_arr = []\n",
    "                trajectory_arr.append(np.array([kuka.x_cartessian, kuka.y_cartessian, kuka.z_cartessian, kuka.A_cartessian, kuka.B_cartessian, kuka.C_cartessian]))\n",
    "                trajectory_arr.append(np.array([0, x_sort[0][2], 0, 0, 0, 180]))\n",
    "                trajectory_arr.append(np.array([-330, 170, 0, 0, 0, 180]))\n",
    "                trajectory_arr.append(np.array([-330, 170, -100, 0, 0, 180]))\n",
    "                trajectory_arr = np.array(trajectory_arr)\n",
    "                # Отправка траектории роботу\n",
    "                kuka.lin_continuous(trajectory_arr) \n",
    "                kuka.open_grip()\n",
    "                trajectory_arr = []\n",
    "                trajectory_arr.append(np.array([kuka.x_cartessian, kuka.y_cartessian, kuka.z_cartessian, kuka.A_cartessian, kuka.B_cartessian, kuka.C_cartessian]))\n",
    "                trajectory_arr.append(np.array([-330, 170, 0, 0, 0, 180]))\n",
    "                trajectory_arr.append(np.array([0, x_sort[0][2], 0, 0, 0, 180]))\n",
    "                trajectory_arr.append(np.array([0, 0, -50, 0, 0, 180]))\n",
    "                trajectory_arr = np.array(trajectory_arr)\n",
    "                # Отправка траектории роботу\n",
    "                kuka.lin_continuous(trajectory_arr) \n",
    "        '''\n",
    "    \n",
    "    \n",
    "    for i in range (len(detections)):\n",
    "        cv2.circle(frame, (int(coord_center[i][0]),int(coord_center[i][1])), 3, (118, 103, 154), 3)\n",
    "        cv2.putText(frame, 'y_mm: {}'.format(coord_center[i][2]), (100, 100),\n",
    "                        cv2.FONT_HERSHEY_SIMPLEX, 0.7, (255, 0, 0), 2, cv2.LINE_AA) \n",
    "    frame = bounding_box_annotator.annotate(\n",
    "        scene=frame,\n",
    "        detections=detections\n",
    "    )\n",
    "\n",
    "    #frame = label_annotator.annotate(\n",
    "    #    scene=frame,\n",
    "    #    detections=detections\n",
    "    #)\n",
    "    frame = percentage_bar_annotator.annotate(\n",
    "        scene=frame,\n",
    "        detections=detections\n",
    "    )\n",
    "    cv2.line(frame, (200,0), (200, 480), (0, 255, 0), 5)\n",
    "    \n",
    "    cv2.imshow(\"yolov8\", frame)\n",
    "\n",
    "    if (cv2.waitKey(30) == 27):\n",
    "        break"
   ]
  },
  {
   "cell_type": "code",
   "execution_count": 3,
   "id": "8e7aba1e",
   "metadata": {},
   "outputs": [
    {
     "name": "stdout",
     "output_type": "stream",
     "text": [
      "go\n",
      "ready\n"
     ]
    },
    {
     "name": "stderr",
     "output_type": "stream",
     "text": [
      "SupervisionWarnings: BoundingBoxAnnotator is deprecated: `BoundingBoxAnnotator` is deprecated and has been renamed to `BoxAnnotator`. `BoundingBoxAnnotator` will be removed in supervision-0.26.0.\n",
      "SupervisionWarnings: BoundingBoxAnnotator is deprecated: `BoundingBoxAnnotator` is deprecated and has been renamed to `BoxAnnotator`. `BoundingBoxAnnotator` will be removed in supervision-0.26.0.\n"
     ]
    },
    {
     "name": "stdout",
     "output_type": "stream",
     "text": [
      "3.8099215984344483\n"
     ]
    },
    {
     "ename": "KeyboardInterrupt",
     "evalue": "",
     "output_type": "error",
     "traceback": [
      "\u001b[1;31m---------------------------------------------------------------------------\u001b[0m",
      "\u001b[1;31mKeyboardInterrupt\u001b[0m                         Traceback (most recent call last)",
      "Input \u001b[1;32mIn [3]\u001b[0m, in \u001b[0;36m<cell line: 46>\u001b[1;34m()\u001b[0m\n\u001b[0;32m     93\u001b[0m     trajectory_arr \u001b[38;5;241m=\u001b[39m np\u001b[38;5;241m.\u001b[39marray(trajectory_arr)\n\u001b[0;32m     94\u001b[0m     \u001b[38;5;66;03m# Отправка траектории роботу\u001b[39;00m\n\u001b[1;32m---> 95\u001b[0m     \u001b[43mkuka\u001b[49m\u001b[38;5;241;43m.\u001b[39;49m\u001b[43mlin_continuous\u001b[49m\u001b[43m(\u001b[49m\u001b[43mtrajectory_arr\u001b[49m\u001b[43m)\u001b[49m\n\u001b[0;32m     96\u001b[0m \u001b[38;5;28;01mif\u001b[39;00m currentClass\u001b[38;5;241m==\u001b[39m\u001b[38;5;241m0\u001b[39m:\n\u001b[0;32m     97\u001b[0m     trajectory_arr \u001b[38;5;241m=\u001b[39m []\n",
      "File \u001b[1;32m~\\ПиПАИ.Т\\6_Lab\\kuka.py:27\u001b[0m, in \u001b[0;36mKuka.lin_continuous\u001b[1;34m(self, arr)\u001b[0m\n\u001b[0;32m     25\u001b[0m \u001b[38;5;28mself\u001b[39m\u001b[38;5;241m.\u001b[39mrobot\u001b[38;5;241m.\u001b[39mwrite(\u001b[38;5;124m\"\u001b[39m\u001b[38;5;124mCOM_LENGTH\u001b[39m\u001b[38;5;124m\"\u001b[39m, \u001b[38;5;28mstr\u001b[39m(arr\u001b[38;5;241m.\u001b[39mshape[\u001b[38;5;241m0\u001b[39m]\u001b[38;5;241m-\u001b[39m\u001b[38;5;241m1\u001b[39m), \u001b[38;5;28;01mFalse\u001b[39;00m)\n\u001b[0;32m     26\u001b[0m \u001b[38;5;28mself\u001b[39m\u001b[38;5;241m.\u001b[39mrobot\u001b[38;5;241m.\u001b[39mwrite(\u001b[38;5;124m\"\u001b[39m\u001b[38;5;124mCOM_CASEVAR\u001b[39m\u001b[38;5;124m\"\u001b[39m, \u001b[38;5;124m\"\u001b[39m\u001b[38;5;124m4\u001b[39m\u001b[38;5;124m\"\u001b[39m, \u001b[38;5;28;01mFalse\u001b[39;00m)\n\u001b[1;32m---> 27\u001b[0m \u001b[38;5;28;01mwhile\u001b[39;00m \u001b[38;5;28mint\u001b[39m(\u001b[38;5;28;43mself\u001b[39;49m\u001b[38;5;241;43m.\u001b[39;49m\u001b[43mrobot\u001b[49m\u001b[38;5;241;43m.\u001b[39;49m\u001b[43mread\u001b[49m\u001b[43m(\u001b[49m\u001b[38;5;124;43m\"\u001b[39;49m\u001b[38;5;124;43mCOM_CASEVAR\u001b[39;49m\u001b[38;5;124;43m\"\u001b[39;49m\u001b[43m,\u001b[49m\u001b[43m \u001b[49m\u001b[38;5;28;43;01mFalse\u001b[39;49;00m\u001b[43m)\u001b[49m\u001b[38;5;241m.\u001b[39mdecode())\u001b[38;5;241m!=\u001b[39m\u001b[38;5;241m0\u001b[39m:\n\u001b[0;32m     28\u001b[0m     \u001b[38;5;28;01mcontinue\u001b[39;00m\n",
      "File \u001b[1;32m~\\ПиПАИ.Т\\6_Lab\\openshowvar.py:46\u001b[0m, in \u001b[0;36mopenshowvar.read\u001b[1;34m(self, var, debug)\u001b[0m\n\u001b[0;32m     44\u001b[0m \u001b[38;5;28;01melse\u001b[39;00m:\n\u001b[0;32m     45\u001b[0m     \u001b[38;5;28mself\u001b[39m\u001b[38;5;241m.\u001b[39mvarname \u001b[38;5;241m=\u001b[39m var \u001b[38;5;28;01mif\u001b[39;00m PY2 \u001b[38;5;28;01melse\u001b[39;00m var\u001b[38;5;241m.\u001b[39mencode(ENCODING)\n\u001b[1;32m---> 46\u001b[0m \u001b[38;5;28;01mreturn\u001b[39;00m \u001b[38;5;28;43mself\u001b[39;49m\u001b[38;5;241;43m.\u001b[39;49m\u001b[43m_read_var\u001b[49m\u001b[43m(\u001b[49m\u001b[43mdebug\u001b[49m\u001b[43m)\u001b[49m\n",
      "File \u001b[1;32m~\\ПиПАИ.Т\\6_Lab\\openshowvar.py:57\u001b[0m, in \u001b[0;36mopenshowvar._read_var\u001b[1;34m(self, debug)\u001b[0m\n\u001b[0;32m     55\u001b[0m \u001b[38;5;28;01mdef\u001b[39;00m \u001b[38;5;21m_read_var\u001b[39m(\u001b[38;5;28mself\u001b[39m, debug):\n\u001b[0;32m     56\u001b[0m     req \u001b[38;5;241m=\u001b[39m \u001b[38;5;28mself\u001b[39m\u001b[38;5;241m.\u001b[39m_pack_read_req()\n\u001b[1;32m---> 57\u001b[0m     \u001b[38;5;28;43mself\u001b[39;49m\u001b[38;5;241;43m.\u001b[39;49m\u001b[43m_send_req\u001b[49m\u001b[43m(\u001b[49m\u001b[43mreq\u001b[49m\u001b[43m)\u001b[49m\n\u001b[0;32m     58\u001b[0m     _value \u001b[38;5;241m=\u001b[39m \u001b[38;5;28mself\u001b[39m\u001b[38;5;241m.\u001b[39m_read_rsp(debug)\n\u001b[0;32m     59\u001b[0m     \u001b[38;5;28;01mreturn\u001b[39;00m _value\n",
      "File \u001b[1;32m~\\ПиПАИ.Т\\6_Lab\\openshowvar.py:70\u001b[0m, in \u001b[0;36mopenshowvar._send_req\u001b[1;34m(self, req)\u001b[0m\n\u001b[0;32m     68\u001b[0m \u001b[38;5;28mself\u001b[39m\u001b[38;5;241m.\u001b[39mrsp \u001b[38;5;241m=\u001b[39m \u001b[38;5;28;01mNone\u001b[39;00m\n\u001b[0;32m     69\u001b[0m \u001b[38;5;28mself\u001b[39m\u001b[38;5;241m.\u001b[39msock\u001b[38;5;241m.\u001b[39msendall(req)\n\u001b[1;32m---> 70\u001b[0m \u001b[38;5;28mself\u001b[39m\u001b[38;5;241m.\u001b[39mrsp \u001b[38;5;241m=\u001b[39m \u001b[38;5;28;43mself\u001b[39;49m\u001b[38;5;241;43m.\u001b[39;49m\u001b[43msock\u001b[49m\u001b[38;5;241;43m.\u001b[39;49m\u001b[43mrecv\u001b[49m\u001b[43m(\u001b[49m\u001b[38;5;241;43m256\u001b[39;49m\u001b[43m)\u001b[49m\n",
      "\u001b[1;31mKeyboardInterrupt\u001b[0m: "
     ]
    }
   ],
   "source": [
    "import cv2\n",
    "from ultralytics import YOLO\n",
    "import supervision as sv\n",
    "import numpy as np\n",
    "from operator import itemgetter\n",
    "import time\n",
    "from kuka import Kuka\n",
    "from openshowvar import *\n",
    "from realsense_camera import *\n",
    "import pyrealsense2\n",
    "\n",
    "print('go')\n",
    "robot = openshowvar(ip = '192.168.1.2', port = 7000)\n",
    "kuka = Kuka(robot)\n",
    "\n",
    "kuka.read_cartessian()\n",
    "\n",
    "kuka.set_base(17)\n",
    "kuka.set_tool(10)\n",
    "\n",
    "# Set speed (%)\n",
    "kuka.set_speed(100)\n",
    "print('ready')\n",
    "\n",
    "\n",
    "trajectory_arr = []\n",
    "trajectory_arr.append(np.array([kuka.x_cartessian, kuka.y_cartessian, kuka.z_cartessian, kuka.A_cartessian, kuka.B_cartessian, kuka.C_cartessian]))\n",
    "trajectory_arr.append(np.array([0, 0, -50, 0, 0, 180]))\n",
    "trajectory_arr = np.array(trajectory_arr)\n",
    "# Отправка траектории роботу\n",
    "kuka.lin_continuous(trajectory_arr) \n",
    "kuka.open_grip()\n",
    "\n",
    "cap = RealsenseCamera()\n",
    "model = YOLO(\"Battery_1.pt\")\n",
    "\n",
    "bounding_box_annotator = sv.BoundingBoxAnnotator()\n",
    "#label_annotator = sv.LabelAnnotator(text_position=sv.Position.CENTER)\n",
    "percentage_bar_annotator = sv.BoundingBoxAnnotator()\n",
    "fx=604.602\n",
    "fy=604.162\n",
    "Cx=320\n",
    "Cy=240\n",
    "\n",
    "while True:\n",
    "    ret, frame, depth = cap.get_frame_stream()\n",
    "    #frame_re=frame[100:370,:]\n",
    "    result = model(frame, agnostic_nms=True, verbose=False)[0]\n",
    "    detections = sv.Detections.from_ultralytics(result)\n",
    "    #print(detections) \n",
    "    coord_center=[]\n",
    "    for i in range (len(detections)):\n",
    "        x=(detections.xyxy[i][0]+detections.xyxy[i][2])/2\n",
    "        y=(detections.xyxy[i][1]+detections.xyxy[i][3])/2\n",
    "        Y_mm=(depth[int(y), int(x)])*((Cy-y)/fy)\n",
    "        coord_center.append([x,y,Y_mm])\n",
    "    coord_center=np.array(coord_center)\n",
    "    if coord_center.size != 0:\n",
    "        x_sort=sorted(coord_center,key=itemgetter(0))\n",
    "        #print(x_sort)\n",
    "        currentClass = detections.class_id[0]\n",
    "        if x_sort[0][0]<=580 and x_sort[0][0]>=565:\n",
    "            second_min=time.time()\n",
    "            #print(second_min)\n",
    "        if x_sort[0][0]<=100 and x_sort[0][0]>=85:\n",
    "            second_max=time.time()\n",
    "            second=second_max-second_min-0.4\n",
    "            print(second)\n",
    "            \n",
    "            trajectory_arr = []\n",
    "            trajectory_arr.append(np.array([kuka.x_cartessian, kuka.y_cartessian, kuka.z_cartessian, kuka.A_cartessian, kuka.B_cartessian, kuka.C_cartessian]))\n",
    "            trajectory_arr.append(np.array([0, 106+x_sort[0][2], -120, 0, 0, 180]))\n",
    "            trajectory_arr = np.array(trajectory_arr)\n",
    "            # Отправка траектории роботу\n",
    "            kuka.lin_continuous(trajectory_arr)\n",
    "            time.sleep(second)\n",
    "            kuka.close_grip()\n",
    "            if currentClass==1:\n",
    "                trajectory_arr = []\n",
    "                trajectory_arr.append(np.array([kuka.x_cartessian, kuka.y_cartessian, kuka.z_cartessian, kuka.A_cartessian, kuka.B_cartessian, kuka.C_cartessian]))\n",
    "                trajectory_arr.append(np.array([0, 106+x_sort[0][2], 0, 0, 0, 180]))\n",
    "                trajectory_arr.append(np.array([-330, 170, 0, 0, 0, 180]))\n",
    "                trajectory_arr.append(np.array([-330, 170, -100, 0, 0, 180]))\n",
    "                trajectory_arr = np.array(trajectory_arr)\n",
    "                # Отправка траектории роботу\n",
    "                kuka.lin_continuous(trajectory_arr) \n",
    "                kuka.open_grip()\n",
    "                trajectory_arr = []\n",
    "                trajectory_arr.append(np.array([kuka.x_cartessian, kuka.y_cartessian, kuka.z_cartessian, kuka.A_cartessian, kuka.B_cartessian, kuka.C_cartessian]))\n",
    "                trajectory_arr.append(np.array([-330, 170, 0, 0, 0, 180]))\n",
    "                trajectory_arr.append(np.array([0, x_sort[0][2], 0, 0, 0, 180]))\n",
    "                trajectory_arr.append(np.array([0, 0, -50, 0, 0, 180]))\n",
    "                trajectory_arr = np.array(trajectory_arr)\n",
    "                # Отправка траектории роботу\n",
    "                kuka.lin_continuous(trajectory_arr)\n",
    "            if currentClass==0:\n",
    "                trajectory_arr = []\n",
    "                trajectory_arr.append(np.array([kuka.x_cartessian, kuka.y_cartessian, kuka.z_cartessian, kuka.A_cartessian, kuka.B_cartessian, kuka.C_cartessian]))\n",
    "                trajectory_arr.append(np.array([0, 106+x_sort[0][2], 0, 0, 0, 180]))\n",
    "                trajectory_arr.append(np.array([-330, 170, 0, 0, 0, 180]))\n",
    "                trajectory_arr.append(np.array([-330, 170, -100, 0, 0, 180]))\n",
    "                trajectory_arr = np.array(trajectory_arr)\n",
    "                # Отправка траектории роботу\n",
    "                kuka.lin_continuous(trajectory_arr) \n",
    "                kuka.open_grip()\n",
    "                trajectory_arr = []\n",
    "                trajectory_arr.append(np.array([kuka.x_cartessian, kuka.y_cartessian, kuka.z_cartessian, kuka.A_cartessian, kuka.B_cartessian, kuka.C_cartessian]))\n",
    "                trajectory_arr.append(np.array([-380, 170, 0, 0, 0, 180]))\n",
    "                trajectory_arr.append(np.array([0, x_sort[0][2], 0, 0, 0, 180]))\n",
    "                trajectory_arr.append(np.array([0, 0, -50, 0, 0, 180]))\n",
    "                trajectory_arr = np.array(trajectory_arr)\n",
    "                # Отправка траектории роботу\n",
    "                kuka.lin_continuous(trajectory_arr)    \n",
    "              \n",
    "    \n",
    "    \n",
    "    for i in range (len(detections)):\n",
    "        cv2.circle(frame, (int(coord_center[i][0]),int(coord_center[i][1])), 3, (118, 103, 154), 3)\n",
    "        cv2.putText(frame, 'y_mm: {}'.format(coord_center[i][2]), (210, 100),\n",
    "                        cv2.FONT_HERSHEY_SIMPLEX, 0.7, (255, 0, 0), 2, cv2.LINE_AA) \n",
    "    frame = bounding_box_annotator.annotate(\n",
    "        scene=frame,\n",
    "        detections=detections\n",
    "    )\n",
    "\n",
    "    #frame = label_annotator.annotate(\n",
    "    #    scene=frame,\n",
    "    #    detections=detections\n",
    "    #)\n",
    "    frame = percentage_bar_annotator.annotate(\n",
    "        scene=frame,\n",
    "        detections=detections\n",
    "    )\n",
    "    cv2.line(frame, (100,0), (100, 480), (0, 255, 0), 5)\n",
    "    cv2.line(frame, (575,0), (575, 480), (255, 0, 0), 2)\n",
    "    cv2.imshow(\"yolov8\", frame)\n",
    "\n",
    "    if (cv2.waitKey(30) == 27):\n",
    "        break"
   ]
  },
  {
   "cell_type": "code",
   "execution_count": null,
   "id": "78cbd254",
   "metadata": {},
   "outputs": [],
   "source": []
  }
 ],
 "metadata": {
  "kernelspec": {
   "display_name": "Python 3 (ipykernel)",
   "language": "python",
   "name": "python3"
  },
  "language_info": {
   "codemirror_mode": {
    "name": "ipython",
    "version": 3
   },
   "file_extension": ".py",
   "mimetype": "text/x-python",
   "name": "python",
   "nbconvert_exporter": "python",
   "pygments_lexer": "ipython3",
   "version": "3.9.12"
  }
 },
 "nbformat": 4,
 "nbformat_minor": 5
}
