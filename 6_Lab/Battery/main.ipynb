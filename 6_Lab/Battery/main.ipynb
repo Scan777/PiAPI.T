{
 "cells": [
  {
   "cell_type": "code",
   "execution_count": null,
   "id": "73024e01",
   "metadata": {},
   "outputs": [
    {
     "name": "stdout",
     "output_type": "stream",
     "text": [
      "go\n",
      "ready\n"
     ]
    },
    {
     "name": "stderr",
     "output_type": "stream",
     "text": [
      "\n",
      "0: 640x640 (no detections), 241.0ms\n",
      "Speed: 10.2ms preprocess, 241.0ms inference, 2.1ms postprocess per image at shape (1, 3, 640, 640)\n",
      "\n"
     ]
    },
    {
     "name": "stdout",
     "output_type": "stream",
     "text": [
      "{'x_sort': None, 'currentClass': None, 'isEmpty': False, 'second': None, 'depth1': None}\n"
     ]
    },
    {
     "name": "stderr",
     "output_type": "stream",
     "text": [
      "0: 640x640 (no detections), 239.0ms\n",
      "Speed: 11.9ms preprocess, 239.0ms inference, 2.0ms postprocess per image at shape (1, 3, 640, 640)\n",
      "\n"
     ]
    },
    {
     "name": "stdout",
     "output_type": "stream",
     "text": [
      "{'x_sort': None, 'currentClass': None, 'isEmpty': False, 'second': None, 'depth1': None}\n"
     ]
    },
    {
     "name": "stderr",
     "output_type": "stream",
     "text": [
      "0: 640x640 (no detections), 241.8ms\n",
      "Speed: 17.8ms preprocess, 241.8ms inference, 2.0ms postprocess per image at shape (1, 3, 640, 640)\n",
      "\n"
     ]
    },
    {
     "name": "stdout",
     "output_type": "stream",
     "text": [
      "{'x_sort': None, 'currentClass': None, 'isEmpty': False, 'second': None, 'depth1': None}\n"
     ]
    },
    {
     "name": "stderr",
     "output_type": "stream",
     "text": [
      "0: 640x640 (no detections), 234.8ms\n",
      "Speed: 13.0ms preprocess, 234.8ms inference, 0.0ms postprocess per image at shape (1, 3, 640, 640)\n",
      "\n"
     ]
    },
    {
     "name": "stdout",
     "output_type": "stream",
     "text": [
      "{'x_sort': None, 'currentClass': None, 'isEmpty': False, 'second': None, 'depth1': None}\n"
     ]
    },
    {
     "name": "stderr",
     "output_type": "stream",
     "text": [
      "0: 640x640 (no detections), 238.7ms\n",
      "Speed: 20.2ms preprocess, 238.7ms inference, 3.0ms postprocess per image at shape (1, 3, 640, 640)\n",
      "\n"
     ]
    },
    {
     "name": "stdout",
     "output_type": "stream",
     "text": [
      "{'x_sort': None, 'currentClass': None, 'isEmpty': False, 'second': None, 'depth1': None}\n"
     ]
    },
    {
     "name": "stderr",
     "output_type": "stream",
     "text": [
      "0: 640x640 (no detections), 239.8ms\n",
      "Speed: 13.2ms preprocess, 239.8ms inference, 2.1ms postprocess per image at shape (1, 3, 640, 640)\n",
      "\n"
     ]
    },
    {
     "name": "stdout",
     "output_type": "stream",
     "text": [
      "{'x_sort': None, 'currentClass': None, 'isEmpty': False, 'second': None, 'depth1': None}\n"
     ]
    },
    {
     "name": "stderr",
     "output_type": "stream",
     "text": [
      "0: 640x640 (no detections), 239.6ms\n",
      "Speed: 8.8ms preprocess, 239.6ms inference, 0.0ms postprocess per image at shape (1, 3, 640, 640)\n",
      "\n"
     ]
    },
    {
     "name": "stdout",
     "output_type": "stream",
     "text": [
      "{'x_sort': None, 'currentClass': None, 'isEmpty': False, 'second': None, 'depth1': None}\n"
     ]
    },
    {
     "name": "stderr",
     "output_type": "stream",
     "text": [
      "0: 640x640 (no detections), 234.3ms\n",
      "Speed: 9.9ms preprocess, 234.3ms inference, 8.1ms postprocess per image at shape (1, 3, 640, 640)\n",
      "\n"
     ]
    },
    {
     "name": "stdout",
     "output_type": "stream",
     "text": [
      "{'x_sort': None, 'currentClass': None, 'isEmpty': False, 'second': None, 'depth1': None}\n"
     ]
    },
    {
     "name": "stderr",
     "output_type": "stream",
     "text": [
      "0: 640x640 (no detections), 241.0ms\n",
      "Speed: 8.0ms preprocess, 241.0ms inference, 1.0ms postprocess per image at shape (1, 3, 640, 640)\n",
      "\n"
     ]
    },
    {
     "name": "stdout",
     "output_type": "stream",
     "text": [
      "{'x_sort': None, 'currentClass': None, 'isEmpty': False, 'second': None, 'depth1': None}\n"
     ]
    },
    {
     "name": "stderr",
     "output_type": "stream",
     "text": [
      "0: 640x640 (no detections), 244.1ms\n",
      "Speed: 13.4ms preprocess, 244.1ms inference, 0.0ms postprocess per image at shape (1, 3, 640, 640)\n",
      "\n"
     ]
    },
    {
     "name": "stdout",
     "output_type": "stream",
     "text": [
      "{'x_sort': None, 'currentClass': None, 'isEmpty': False, 'second': None, 'depth1': None}\n"
     ]
    },
    {
     "name": "stderr",
     "output_type": "stream",
     "text": [
      "0: 640x640 (no detections), 235.2ms\n",
      "Speed: 18.1ms preprocess, 235.2ms inference, 10.2ms postprocess per image at shape (1, 3, 640, 640)\n",
      "\n"
     ]
    },
    {
     "name": "stdout",
     "output_type": "stream",
     "text": [
      "{'x_sort': None, 'currentClass': None, 'isEmpty': False, 'second': None, 'depth1': None}\n"
     ]
    },
    {
     "name": "stderr",
     "output_type": "stream",
     "text": [
      "0: 640x640 (no detections), 233.8ms\n",
      "Speed: 13.3ms preprocess, 233.8ms inference, 8.1ms postprocess per image at shape (1, 3, 640, 640)\n",
      "\n"
     ]
    },
    {
     "name": "stdout",
     "output_type": "stream",
     "text": [
      "{'x_sort': None, 'currentClass': None, 'isEmpty': False, 'second': None, 'depth1': None}\n"
     ]
    },
    {
     "name": "stderr",
     "output_type": "stream",
     "text": [
      "0: 640x640 (no detections), 241.3ms\n",
      "Speed: 13.4ms preprocess, 241.3ms inference, 3.0ms postprocess per image at shape (1, 3, 640, 640)\n",
      "\n"
     ]
    },
    {
     "name": "stdout",
     "output_type": "stream",
     "text": [
      "{'x_sort': None, 'currentClass': None, 'isEmpty': False, 'second': None, 'depth1': None}\n"
     ]
    },
    {
     "name": "stderr",
     "output_type": "stream",
     "text": [
      "0: 640x640 (no detections), 237.3ms\n",
      "Speed: 10.0ms preprocess, 237.3ms inference, 2.1ms postprocess per image at shape (1, 3, 640, 640)\n",
      "\n"
     ]
    },
    {
     "name": "stdout",
     "output_type": "stream",
     "text": [
      "{'x_sort': None, 'currentClass': None, 'isEmpty': False, 'second': None, 'depth1': None}\n"
     ]
    },
    {
     "name": "stderr",
     "output_type": "stream",
     "text": [
      "0: 640x640 (no detections), 238.2ms\n",
      "Speed: 12.0ms preprocess, 238.2ms inference, 0.0ms postprocess per image at shape (1, 3, 640, 640)\n",
      "\n"
     ]
    },
    {
     "name": "stdout",
     "output_type": "stream",
     "text": [
      "{'x_sort': None, 'currentClass': None, 'isEmpty': False, 'second': None, 'depth1': None}\n"
     ]
    },
    {
     "name": "stderr",
     "output_type": "stream",
     "text": [
      "0: 640x640 (no detections), 237.6ms\n",
      "Speed: 17.9ms preprocess, 237.6ms inference, 0.0ms postprocess per image at shape (1, 3, 640, 640)\n",
      "\n"
     ]
    },
    {
     "name": "stdout",
     "output_type": "stream",
     "text": [
      "{'x_sort': None, 'currentClass': None, 'isEmpty': False, 'second': None, 'depth1': None}\n"
     ]
    },
    {
     "name": "stderr",
     "output_type": "stream",
     "text": [
      "0: 640x640 (no detections), 241.9ms\n",
      "Speed: 9.6ms preprocess, 241.9ms inference, 0.0ms postprocess per image at shape (1, 3, 640, 640)\n",
      "\n"
     ]
    },
    {
     "name": "stdout",
     "output_type": "stream",
     "text": [
      "{'x_sort': None, 'currentClass': None, 'isEmpty': False, 'second': None, 'depth1': None}\n"
     ]
    },
    {
     "name": "stderr",
     "output_type": "stream",
     "text": [
      "0: 640x640 (no detections), 245.7ms\n",
      "Speed: 16.1ms preprocess, 245.7ms inference, 3.2ms postprocess per image at shape (1, 3, 640, 640)\n",
      "\n"
     ]
    },
    {
     "name": "stdout",
     "output_type": "stream",
     "text": [
      "{'x_sort': None, 'currentClass': None, 'isEmpty': False, 'second': None, 'depth1': None}\n"
     ]
    },
    {
     "name": "stderr",
     "output_type": "stream",
     "text": [
      "0: 640x640 (no detections), 382.8ms\n",
      "Speed: 25.4ms preprocess, 382.8ms inference, 0.0ms postprocess per image at shape (1, 3, 640, 640)\n",
      "\n"
     ]
    },
    {
     "name": "stdout",
     "output_type": "stream",
     "text": [
      "{'x_sort': None, 'currentClass': None, 'isEmpty': False, 'second': None, 'depth1': None}\n"
     ]
    },
    {
     "name": "stderr",
     "output_type": "stream",
     "text": [
      "0: 640x640 (no detections), 241.5ms\n",
      "Speed: 14.6ms preprocess, 241.5ms inference, 4.0ms postprocess per image at shape (1, 3, 640, 640)\n",
      "\n"
     ]
    },
    {
     "name": "stdout",
     "output_type": "stream",
     "text": [
      "{'x_sort': None, 'currentClass': None, 'isEmpty': False, 'second': None, 'depth1': None}\n"
     ]
    },
    {
     "name": "stderr",
     "output_type": "stream",
     "text": [
      "0: 640x640 (no detections), 294.8ms\n",
      "Speed: 18.8ms preprocess, 294.8ms inference, 0.0ms postprocess per image at shape (1, 3, 640, 640)\n",
      "\n"
     ]
    },
    {
     "name": "stdout",
     "output_type": "stream",
     "text": [
      "{'x_sort': None, 'currentClass': None, 'isEmpty': False, 'second': None, 'depth1': None}\n"
     ]
    },
    {
     "name": "stderr",
     "output_type": "stream",
     "text": [
      "0: 640x640 (no detections), 235.9ms\n",
      "Speed: 12.1ms preprocess, 235.9ms inference, 0.0ms postprocess per image at shape (1, 3, 640, 640)\n",
      "\n"
     ]
    },
    {
     "name": "stdout",
     "output_type": "stream",
     "text": [
      "{'x_sort': None, 'currentClass': None, 'isEmpty': False, 'second': None, 'depth1': None}\n"
     ]
    },
    {
     "name": "stderr",
     "output_type": "stream",
     "text": [
      "0: 640x640 (no detections), 238.6ms\n",
      "Speed: 16.7ms preprocess, 238.6ms inference, 0.0ms postprocess per image at shape (1, 3, 640, 640)\n",
      "\n"
     ]
    },
    {
     "name": "stdout",
     "output_type": "stream",
     "text": [
      "{'x_sort': None, 'currentClass': None, 'isEmpty': False, 'second': None, 'depth1': None}\n"
     ]
    },
    {
     "name": "stderr",
     "output_type": "stream",
     "text": [
      "0: 640x640 (no detections), 465.7ms\n",
      "Speed: 35.0ms preprocess, 465.7ms inference, 0.0ms postprocess per image at shape (1, 3, 640, 640)\n",
      "\n"
     ]
    },
    {
     "name": "stdout",
     "output_type": "stream",
     "text": [
      "{'x_sort': None, 'currentClass': None, 'isEmpty': False, 'second': None, 'depth1': None}\n"
     ]
    },
    {
     "name": "stderr",
     "output_type": "stream",
     "text": [
      "0: 640x640 1 plastic, 244.1ms\n",
      "Speed: 9.4ms preprocess, 244.1ms inference, 0.0ms postprocess per image at shape (1, 3, 640, 640)\n",
      "\n"
     ]
    },
    {
     "name": "stdout",
     "output_type": "stream",
     "text": [
      "{'x_sort': [array([558, 272])], 'currentClass': 4, 'isEmpty': False, 'second': 1705916871, 'depth1': [0]}\n"
     ]
    },
    {
     "name": "stderr",
     "output_type": "stream",
     "text": [
      "0: 640x640 1 plastic, 239.4ms\n",
      "Speed: 10.6ms preprocess, 239.4ms inference, 0.0ms postprocess per image at shape (1, 3, 640, 640)\n",
      "\n"
     ]
    },
    {
     "name": "stdout",
     "output_type": "stream",
     "text": [
      "{'x_sort': [array([541, 265])], 'currentClass': 4, 'isEmpty': False, 'second': 1705916871, 'depth1': [0]}\n"
     ]
    },
    {
     "name": "stderr",
     "output_type": "stream",
     "text": [
      "0: 640x640 2 plastics, 236.9ms\n",
      "Speed: 15.3ms preprocess, 236.9ms inference, 8.1ms postprocess per image at shape (1, 3, 640, 640)\n",
      "\n"
     ]
    },
    {
     "name": "stdout",
     "output_type": "stream",
     "text": [
      "{'x_sort': [array([527, 275]), array([593, 157])], 'currentClass': 4, 'isEmpty': False, 'second': 1705916872, 'depth1': [0, 464]}\n"
     ]
    },
    {
     "name": "stderr",
     "output_type": "stream",
     "text": [
      "0: 640x640 2 plastics, 242.2ms\n",
      "Speed: 13.1ms preprocess, 242.2ms inference, 2.1ms postprocess per image at shape (1, 3, 640, 640)\n",
      "\n"
     ]
    },
    {
     "name": "stdout",
     "output_type": "stream",
     "text": [
      "{'x_sort': [array([511, 274]), array([568, 159])], 'currentClass': 4, 'isEmpty': False, 'second': 1705916872, 'depth1': [440, 470]}\n"
     ]
    },
    {
     "name": "stderr",
     "output_type": "stream",
     "text": [
      "0: 640x640 2 plastics, 234.9ms\n",
      "Speed: 19.2ms preprocess, 234.9ms inference, 10.2ms postprocess per image at shape (1, 3, 640, 640)\n",
      "\n"
     ]
    },
    {
     "name": "stdout",
     "output_type": "stream",
     "text": [
      "{'x_sort': [array([485, 276]), array([523, 159])], 'currentClass': 4, 'isEmpty': False, 'second': 1705916872, 'depth1': [0, 470]}\n"
     ]
    },
    {
     "name": "stderr",
     "output_type": "stream",
     "text": [
      "0: 640x640 2 plastics, 240.5ms\n",
      "Speed: 13.5ms preprocess, 240.5ms inference, 0.0ms postprocess per image at shape (1, 3, 640, 640)\n",
      "\n"
     ]
    },
    {
     "name": "stdout",
     "output_type": "stream",
     "text": [
      "{'x_sort': [array([452, 278]), array([494, 160])], 'currentClass': 4, 'isEmpty': False, 'second': 1705916873, 'depth1': [0, 472]}\n"
     ]
    },
    {
     "name": "stderr",
     "output_type": "stream",
     "text": [
      "0: 640x640 2 plastics, 242.2ms\n",
      "Speed: 21.0ms preprocess, 242.2ms inference, 0.0ms postprocess per image at shape (1, 3, 640, 640)\n",
      "\n"
     ]
    },
    {
     "name": "stdout",
     "output_type": "stream",
     "text": [
      "{'x_sort': [array([415, 266]), array([436, 164])], 'currentClass': 4, 'isEmpty': False, 'second': 1705916873, 'depth1': [0, 0]}\n"
     ]
    },
    {
     "name": "stderr",
     "output_type": "stream",
     "text": [
      "0: 640x640 1 plastic, 237.4ms\n",
      "Speed: 15.4ms preprocess, 237.4ms inference, 0.0ms postprocess per image at shape (1, 3, 640, 640)\n",
      "\n"
     ]
    },
    {
     "name": "stdout",
     "output_type": "stream",
     "text": [
      "{'x_sort': [array([379, 275])], 'currentClass': 4, 'isEmpty': False, 'second': 1705916873, 'depth1': [0]}\n"
     ]
    },
    {
     "name": "stderr",
     "output_type": "stream",
     "text": [
      "0: 640x640 1 plastic, 239.0ms\n",
      "Speed: 12.4ms preprocess, 239.0ms inference, 0.0ms postprocess per image at shape (1, 3, 640, 640)\n",
      "\n"
     ]
    },
    {
     "name": "stdout",
     "output_type": "stream",
     "text": [
      "{'x_sort': [array([347, 266])], 'currentClass': 4, 'isEmpty': False, 'second': 1705916874, 'depth1': [0]}\n"
     ]
    },
    {
     "name": "stderr",
     "output_type": "stream",
     "text": [
      "0: 640x640 1 plastic, 243.7ms\n",
      "Speed: 14.0ms preprocess, 243.7ms inference, 0.0ms postprocess per image at shape (1, 3, 640, 640)\n",
      "\n"
     ]
    },
    {
     "name": "stdout",
     "output_type": "stream",
     "text": [
      "{'x_sort': [array([312, 266])], 'currentClass': 4, 'isEmpty': False, 'second': 1705916874, 'depth1': [0]}\n"
     ]
    },
    {
     "name": "stderr",
     "output_type": "stream",
     "text": [
      "0: 640x640 1 plastic, 372.1ms\n",
      "Speed: 46.0ms preprocess, 372.1ms inference, 8.1ms postprocess per image at shape (1, 3, 640, 640)\n",
      "\n"
     ]
    },
    {
     "name": "stdout",
     "output_type": "stream",
     "text": [
      "{'x_sort': [array([280, 266])], 'currentClass': 4, 'isEmpty': False, 'second': 1705916874, 'depth1': [0]}\n"
     ]
    },
    {
     "name": "stderr",
     "output_type": "stream",
     "text": [
      "0: 640x640 1 plastic, 234.0ms\n",
      "Speed: 11.0ms preprocess, 234.0ms inference, 8.2ms postprocess per image at shape (1, 3, 640, 640)\n",
      "\n"
     ]
    },
    {
     "name": "stdout",
     "output_type": "stream",
     "text": [
      "{'x_sort': [array([228, 267])], 'currentClass': 4, 'isEmpty': False, 'second': 1705916875, 'depth1': [0]}\n"
     ]
    },
    {
     "name": "stderr",
     "output_type": "stream",
     "text": [
      "0: 640x640 1 plastic, 234.9ms\n",
      "Speed: 13.0ms preprocess, 234.9ms inference, 2.5ms postprocess per image at shape (1, 3, 640, 640)\n",
      "\n"
     ]
    },
    {
     "name": "stdout",
     "output_type": "stream",
     "text": [
      "{'x_sort': [array([196, 267])], 'currentClass': 4, 'isEmpty': True, 'second': 1705916875, 'depth1': [0]}\n",
      "meme\n",
      "{FRAME: X 207.600891, Y -8.28712463, Z 486.08136, A -135.306152, B -0.0378621183, C -179.961731}\n",
      "{FRAME: X 50.0, Y 900.0, Z 300.0, A 0.0, B 0.0, C 180.0}\n",
      "{FRAME: X 50.0, Y 900.0, Z 300.0, A 0.0, B 0.0, C 180.0}\n"
     ]
    },
    {
     "name": "stderr",
     "output_type": "stream",
     "text": [
      "0: 640x640 1 plastic, 472.2ms\n",
      "Speed: 14.2ms preprocess, 472.2ms inference, 0.0ms postprocess per image at shape (1, 3, 640, 640)\n",
      "\n"
     ]
    },
    {
     "name": "stdout",
     "output_type": "stream",
     "text": [
      "{'x_sort': [array([165, 266])], 'currentClass': 4, 'isEmpty': True, 'second': 1705916876, 'depth1': [0]}\n"
     ]
    },
    {
     "name": "stderr",
     "output_type": "stream",
     "text": [
      "0: 640x640 1 plastic, 252.8ms\n",
      "Speed: 14.4ms preprocess, 252.8ms inference, 0.0ms postprocess per image at shape (1, 3, 640, 640)\n",
      "\n"
     ]
    },
    {
     "name": "stdout",
     "output_type": "stream",
     "text": [
      "{'x_sort': [array([108, 265])], 'currentClass': 4, 'isEmpty': True, 'second': 1705916876, 'depth1': [0]}\n"
     ]
    },
    {
     "name": "stderr",
     "output_type": "stream",
     "text": [
      "0: 640x640 2 plastics, 447.3ms\n",
      "Speed: 58.2ms preprocess, 447.3ms inference, 2.1ms postprocess per image at shape (1, 3, 640, 640)\n",
      "\n"
     ]
    },
    {
     "name": "stdout",
     "output_type": "stream",
     "text": [
      "{'x_sort': [array([ 87, 266]), array([125, 235])], 'currentClass': 4, 'isEmpty': True, 'second': 1705916877, 'depth1': [0, 370]}\n"
     ]
    },
    {
     "name": "stderr",
     "output_type": "stream",
     "text": [
      "0: 640x640 1 plastic, 467.3ms\n",
      "Speed: 18.5ms preprocess, 467.3ms inference, 0.0ms postprocess per image at shape (1, 3, 640, 640)\n",
      "\n"
     ]
    },
    {
     "name": "stdout",
     "output_type": "stream",
     "text": [
      "{'x_sort': [array([ 55, 265])], 'currentClass': 4, 'isEmpty': True, 'second': 1705916877, 'depth1': [364]}\n"
     ]
    },
    {
     "name": "stderr",
     "output_type": "stream",
     "text": [
      "0: 640x640 (no detections), 239.2ms\n",
      "Speed: 15.3ms preprocess, 239.2ms inference, 0.0ms postprocess per image at shape (1, 3, 640, 640)\n",
      "\n"
     ]
    },
    {
     "name": "stdout",
     "output_type": "stream",
     "text": [
      "{'x_sort': [array([ 55, 265])], 'currentClass': 4, 'isEmpty': False, 'second': 1705916877, 'depth1': [364]}\n"
     ]
    },
    {
     "name": "stderr",
     "output_type": "stream",
     "text": [
      "0: 640x640 (no detections), 474.0ms\n",
      "Speed: 31.3ms preprocess, 474.0ms inference, 0.0ms postprocess per image at shape (1, 3, 640, 640)\n",
      "\n"
     ]
    },
    {
     "name": "stdout",
     "output_type": "stream",
     "text": [
      "{'x_sort': [array([ 55, 265])], 'currentClass': 4, 'isEmpty': False, 'second': 1705916877, 'depth1': [364]}\n"
     ]
    },
    {
     "name": "stderr",
     "output_type": "stream",
     "text": [
      "0: 640x640 (no detections), 382.3ms\n",
      "Speed: 13.0ms preprocess, 382.3ms inference, 10.6ms postprocess per image at shape (1, 3, 640, 640)\n",
      "\n"
     ]
    },
    {
     "name": "stdout",
     "output_type": "stream",
     "text": [
      "{'x_sort': [array([ 55, 265])], 'currentClass': 4, 'isEmpty': False, 'second': 1705916877, 'depth1': [364]}\n"
     ]
    },
    {
     "name": "stderr",
     "output_type": "stream",
     "text": [
      "0: 640x640 (no detections), 463.2ms\n",
      "Speed: 16.0ms preprocess, 463.2ms inference, 2.1ms postprocess per image at shape (1, 3, 640, 640)\n",
      "\n"
     ]
    },
    {
     "name": "stdout",
     "output_type": "stream",
     "text": [
      "{'x_sort': [array([ 55, 265])], 'currentClass': 4, 'isEmpty': False, 'second': 1705916877, 'depth1': [364]}\n"
     ]
    },
    {
     "name": "stderr",
     "output_type": "stream",
     "text": [
      "0: 640x640 1 plastic, 233.4ms\n",
      "Speed: 12.0ms preprocess, 233.4ms inference, 8.1ms postprocess per image at shape (1, 3, 640, 640)\n",
      "\n"
     ]
    },
    {
     "name": "stdout",
     "output_type": "stream",
     "text": [
      "{'x_sort': [array([298, 256])], 'currentClass': 4, 'isEmpty': False, 'second': 1705916879, 'depth1': [463]}\n"
     ]
    },
    {
     "name": "stderr",
     "output_type": "stream",
     "text": [
      "0: 640x640 (no detections), 237.9ms\n",
      "Speed: 13.0ms preprocess, 237.9ms inference, 10.3ms postprocess per image at shape (1, 3, 640, 640)\n",
      "\n"
     ]
    },
    {
     "name": "stdout",
     "output_type": "stream",
     "text": [
      "{'x_sort': [array([298, 256])], 'currentClass': 4, 'isEmpty': False, 'second': 1705916879, 'depth1': [463]}\n"
     ]
    },
    {
     "name": "stderr",
     "output_type": "stream",
     "text": [
      "0: 640x640 (no detections), 414.0ms\n",
      "Speed: 48.2ms preprocess, 414.0ms inference, 10.1ms postprocess per image at shape (1, 3, 640, 640)\n",
      "\n"
     ]
    },
    {
     "name": "stdout",
     "output_type": "stream",
     "text": [
      "{'x_sort': [array([298, 256])], 'currentClass': 4, 'isEmpty': False, 'second': 1705916879, 'depth1': [463]}\n"
     ]
    },
    {
     "name": "stderr",
     "output_type": "stream",
     "text": [
      "0: 640x640 (no detections), 238.1ms\n",
      "Speed: 10.0ms preprocess, 238.1ms inference, 0.0ms postprocess per image at shape (1, 3, 640, 640)\n",
      "\n"
     ]
    },
    {
     "name": "stdout",
     "output_type": "stream",
     "text": [
      "{'x_sort': [array([298, 256])], 'currentClass': 4, 'isEmpty': False, 'second': 1705916879, 'depth1': [463]}\n"
     ]
    },
    {
     "name": "stderr",
     "output_type": "stream",
     "text": [
      "0: 640x640 (no detections), 237.6ms\n",
      "Speed: 13.5ms preprocess, 237.6ms inference, 0.0ms postprocess per image at shape (1, 3, 640, 640)\n",
      "\n"
     ]
    },
    {
     "name": "stdout",
     "output_type": "stream",
     "text": [
      "{'x_sort': [array([298, 256])], 'currentClass': 4, 'isEmpty': False, 'second': 1705916879, 'depth1': [463]}\n"
     ]
    },
    {
     "name": "stderr",
     "output_type": "stream",
     "text": [
      "0: 640x640 (no detections), 480.4ms\n",
      "Speed: 28.9ms preprocess, 480.4ms inference, 0.0ms postprocess per image at shape (1, 3, 640, 640)\n",
      "\n"
     ]
    },
    {
     "name": "stdout",
     "output_type": "stream",
     "text": [
      "{'x_sort': [array([298, 256])], 'currentClass': 4, 'isEmpty': False, 'second': 1705916879, 'depth1': [463]}\n"
     ]
    },
    {
     "name": "stderr",
     "output_type": "stream",
     "text": [
      "0: 640x640 (no detections), 250.0ms\n",
      "Speed: 13.6ms preprocess, 250.0ms inference, 0.0ms postprocess per image at shape (1, 3, 640, 640)\n",
      "\n"
     ]
    },
    {
     "name": "stdout",
     "output_type": "stream",
     "text": [
      "{'x_sort': [array([298, 256])], 'currentClass': 4, 'isEmpty': False, 'second': 1705916879, 'depth1': [463]}\n"
     ]
    },
    {
     "name": "stderr",
     "output_type": "stream",
     "text": [
      "0: 640x640 (no detections), 233.0ms\n",
      "Speed: 14.7ms preprocess, 233.0ms inference, 10.1ms postprocess per image at shape (1, 3, 640, 640)\n",
      "\n"
     ]
    },
    {
     "name": "stdout",
     "output_type": "stream",
     "text": [
      "{'x_sort': [array([298, 256])], 'currentClass': 4, 'isEmpty': False, 'second': 1705916879, 'depth1': [463]}\n"
     ]
    },
    {
     "name": "stderr",
     "output_type": "stream",
     "text": [
      "0: 640x640 (no detections), 234.6ms\n",
      "Speed: 25.7ms preprocess, 234.6ms inference, 8.2ms postprocess per image at shape (1, 3, 640, 640)\n",
      "\n"
     ]
    },
    {
     "name": "stdout",
     "output_type": "stream",
     "text": [
      "{'x_sort': [array([298, 256])], 'currentClass': 4, 'isEmpty': False, 'second': 1705916879, 'depth1': [463]}\n"
     ]
    },
    {
     "name": "stderr",
     "output_type": "stream",
     "text": [
      "0: 640x640 (no detections), 241.8ms\n",
      "Speed: 18.3ms preprocess, 241.8ms inference, 2.1ms postprocess per image at shape (1, 3, 640, 640)\n",
      "\n"
     ]
    },
    {
     "name": "stdout",
     "output_type": "stream",
     "text": [
      "{'x_sort': [array([298, 256])], 'currentClass': 4, 'isEmpty': False, 'second': 1705916879, 'depth1': [463]}\n"
     ]
    },
    {
     "name": "stderr",
     "output_type": "stream",
     "text": [
      "0: 640x640 1 plastic, 360.6ms\n",
      "Speed: 18.4ms preprocess, 360.6ms inference, 6.1ms postprocess per image at shape (1, 3, 640, 640)\n",
      "\n"
     ]
    },
    {
     "name": "stdout",
     "output_type": "stream",
     "text": [
      "{'x_sort': [array([ 40, 240])], 'currentClass': 4, 'isEmpty': True, 'second': 1705916883, 'depth1': [449]}\n"
     ]
    },
    {
     "name": "stderr",
     "output_type": "stream",
     "text": [
      "0: 640x640 (no detections), 241.5ms\n",
      "Speed: 13.6ms preprocess, 241.5ms inference, 0.1ms postprocess per image at shape (1, 3, 640, 640)\n",
      "\n"
     ]
    },
    {
     "name": "stdout",
     "output_type": "stream",
     "text": [
      "{'x_sort': [array([ 40, 240])], 'currentClass': 4, 'isEmpty': False, 'second': 1705916883, 'depth1': [449]}\n"
     ]
    },
    {
     "name": "stderr",
     "output_type": "stream",
     "text": [
      "0: 640x640 (no detections), 401.3ms\n",
      "Speed: 18.1ms preprocess, 401.3ms inference, 0.0ms postprocess per image at shape (1, 3, 640, 640)\n",
      "\n"
     ]
    },
    {
     "name": "stdout",
     "output_type": "stream",
     "text": [
      "{'x_sort': [array([ 40, 240])], 'currentClass': 4, 'isEmpty': False, 'second': 1705916883, 'depth1': [449]}\n"
     ]
    },
    {
     "name": "stderr",
     "output_type": "stream",
     "text": [
      "0: 640x640 (no detections), 296.4ms\n",
      "Speed: 16.2ms preprocess, 296.4ms inference, 0.0ms postprocess per image at shape (1, 3, 640, 640)\n",
      "\n"
     ]
    },
    {
     "name": "stdout",
     "output_type": "stream",
     "text": [
      "{'x_sort': [array([ 40, 240])], 'currentClass': 4, 'isEmpty': False, 'second': 1705916883, 'depth1': [449]}\n"
     ]
    },
    {
     "name": "stderr",
     "output_type": "stream",
     "text": [
      "0: 640x640 (no detections), 247.2ms\n",
      "Speed: 14.1ms preprocess, 247.2ms inference, 10.5ms postprocess per image at shape (1, 3, 640, 640)\n",
      "\n"
     ]
    },
    {
     "name": "stdout",
     "output_type": "stream",
     "text": [
      "{'x_sort': [array([ 40, 240])], 'currentClass': 4, 'isEmpty': False, 'second': 1705916883, 'depth1': [449]}\n"
     ]
    },
    {
     "name": "stderr",
     "output_type": "stream",
     "text": [
      "0: 640x640 (no detections), 415.8ms\n",
      "Speed: 15.1ms preprocess, 415.8ms inference, 8.2ms postprocess per image at shape (1, 3, 640, 640)\n",
      "\n"
     ]
    },
    {
     "name": "stdout",
     "output_type": "stream",
     "text": [
      "{'x_sort': [array([ 40, 240])], 'currentClass': 4, 'isEmpty': False, 'second': 1705916883, 'depth1': [449]}\n"
     ]
    },
    {
     "name": "stderr",
     "output_type": "stream",
     "text": [
      "0: 640x640 (no detections), 234.7ms\n",
      "Speed: 13.6ms preprocess, 234.7ms inference, 8.1ms postprocess per image at shape (1, 3, 640, 640)\n",
      "\n"
     ]
    },
    {
     "name": "stdout",
     "output_type": "stream",
     "text": [
      "{'x_sort': [array([ 40, 240])], 'currentClass': 4, 'isEmpty': False, 'second': 1705916883, 'depth1': [449]}\n"
     ]
    },
    {
     "name": "stderr",
     "output_type": "stream",
     "text": [
      "0: 640x640 (no detections), 239.4ms\n",
      "Speed: 13.0ms preprocess, 239.4ms inference, 8.1ms postprocess per image at shape (1, 3, 640, 640)\n",
      "\n"
     ]
    },
    {
     "name": "stdout",
     "output_type": "stream",
     "text": [
      "{'x_sort': [array([ 40, 240])], 'currentClass': 4, 'isEmpty': False, 'second': 1705916883, 'depth1': [449]}\n"
     ]
    },
    {
     "name": "stderr",
     "output_type": "stream",
     "text": [
      "0: 640x640 (no detections), 409.4ms\n",
      "Speed: 35.0ms preprocess, 409.4ms inference, 0.0ms postprocess per image at shape (1, 3, 640, 640)\n",
      "\n"
     ]
    },
    {
     "name": "stdout",
     "output_type": "stream",
     "text": [
      "{'x_sort': [array([ 40, 240])], 'currentClass': 4, 'isEmpty': False, 'second': 1705916883, 'depth1': [449]}\n"
     ]
    },
    {
     "name": "stderr",
     "output_type": "stream",
     "text": [
      "0: 640x640 (no detections), 278.8ms\n",
      "Speed: 23.7ms preprocess, 278.8ms inference, 8.1ms postprocess per image at shape (1, 3, 640, 640)\n",
      "\n"
     ]
    },
    {
     "name": "stdout",
     "output_type": "stream",
     "text": [
      "{'x_sort': [array([ 40, 240])], 'currentClass': 4, 'isEmpty': False, 'second': 1705916883, 'depth1': [449]}\n"
     ]
    },
    {
     "name": "stderr",
     "output_type": "stream",
     "text": [
      "0: 640x640 (no detections), 244.5ms\n",
      "Speed: 14.0ms preprocess, 244.5ms inference, 0.0ms postprocess per image at shape (1, 3, 640, 640)\n",
      "\n"
     ]
    },
    {
     "name": "stdout",
     "output_type": "stream",
     "text": [
      "{'x_sort': [array([ 40, 240])], 'currentClass': 4, 'isEmpty': False, 'second': 1705916883, 'depth1': [449]}\n"
     ]
    },
    {
     "name": "stderr",
     "output_type": "stream",
     "text": [
      "0: 640x640 (no detections), 359.3ms\n",
      "Speed: 24.3ms preprocess, 359.3ms inference, 8.2ms postprocess per image at shape (1, 3, 640, 640)\n",
      "\n"
     ]
    },
    {
     "name": "stdout",
     "output_type": "stream",
     "text": [
      "{'x_sort': [array([ 40, 240])], 'currentClass': 4, 'isEmpty': False, 'second': 1705916883, 'depth1': [449]}\n"
     ]
    },
    {
     "name": "stderr",
     "output_type": "stream",
     "text": [
      "0: 640x640 (no detections), 243.7ms\n",
      "Speed: 12.4ms preprocess, 243.7ms inference, 2.1ms postprocess per image at shape (1, 3, 640, 640)\n",
      "\n"
     ]
    },
    {
     "name": "stdout",
     "output_type": "stream",
     "text": [
      "{'x_sort': [array([ 40, 240])], 'currentClass': 4, 'isEmpty': False, 'second': 1705916883, 'depth1': [449]}\n"
     ]
    },
    {
     "name": "stderr",
     "output_type": "stream",
     "text": [
      "0: 640x640 (no detections), 302.4ms\n",
      "Speed: 20.9ms preprocess, 302.4ms inference, 10.3ms postprocess per image at shape (1, 3, 640, 640)\n",
      "\n"
     ]
    },
    {
     "name": "stdout",
     "output_type": "stream",
     "text": [
      "{'x_sort': [array([ 40, 240])], 'currentClass': 4, 'isEmpty': False, 'second': 1705916883, 'depth1': [449]}\n"
     ]
    },
    {
     "name": "stderr",
     "output_type": "stream",
     "text": [
      "0: 640x640 (no detections), 360.4ms\n",
      "Speed: 36.1ms preprocess, 360.4ms inference, 0.0ms postprocess per image at shape (1, 3, 640, 640)\n",
      "\n"
     ]
    },
    {
     "name": "stdout",
     "output_type": "stream",
     "text": [
      "{'x_sort': [array([ 40, 240])], 'currentClass': 4, 'isEmpty': False, 'second': 1705916883, 'depth1': [449]}\n"
     ]
    },
    {
     "name": "stderr",
     "output_type": "stream",
     "text": [
      "0: 640x640 (no detections), 242.1ms\n",
      "Speed: 14.6ms preprocess, 242.1ms inference, 8.1ms postprocess per image at shape (1, 3, 640, 640)\n",
      "\n"
     ]
    },
    {
     "name": "stdout",
     "output_type": "stream",
     "text": [
      "{'x_sort': [array([ 40, 240])], 'currentClass': 4, 'isEmpty': False, 'second': 1705916883, 'depth1': [449]}\n"
     ]
    },
    {
     "name": "stderr",
     "output_type": "stream",
     "text": [
      "0: 640x640 (no detections), 386.4ms\n",
      "Speed: 29.9ms preprocess, 386.4ms inference, 0.0ms postprocess per image at shape (1, 3, 640, 640)\n",
      "\n"
     ]
    },
    {
     "name": "stdout",
     "output_type": "stream",
     "text": [
      "{'x_sort': [array([ 40, 240])], 'currentClass': 4, 'isEmpty': False, 'second': 1705916883, 'depth1': [449]}\n"
     ]
    },
    {
     "name": "stderr",
     "output_type": "stream",
     "text": [
      "0: 640x640 (no detections), 250.0ms\n",
      "Speed: 15.0ms preprocess, 250.0ms inference, 8.4ms postprocess per image at shape (1, 3, 640, 640)\n",
      "\n"
     ]
    },
    {
     "name": "stdout",
     "output_type": "stream",
     "text": [
      "{'x_sort': [array([ 40, 240])], 'currentClass': 4, 'isEmpty': False, 'second': 1705916883, 'depth1': [449]}\n"
     ]
    },
    {
     "name": "stderr",
     "output_type": "stream",
     "text": [
      "0: 640x640 (no detections), 349.4ms\n",
      "Speed: 23.6ms preprocess, 349.4ms inference, 8.2ms postprocess per image at shape (1, 3, 640, 640)\n",
      "\n"
     ]
    },
    {
     "name": "stdout",
     "output_type": "stream",
     "text": [
      "{'x_sort': [array([ 40, 240])], 'currentClass': 4, 'isEmpty': False, 'second': 1705916883, 'depth1': [449]}\n"
     ]
    },
    {
     "name": "stderr",
     "output_type": "stream",
     "text": [
      "0: 640x640 (no detections), 263.6ms\n",
      "Speed: 14.1ms preprocess, 263.6ms inference, 10.3ms postprocess per image at shape (1, 3, 640, 640)\n",
      "\n"
     ]
    },
    {
     "name": "stdout",
     "output_type": "stream",
     "text": [
      "{'x_sort': [array([ 40, 240])], 'currentClass': 4, 'isEmpty': False, 'second': 1705916883, 'depth1': [449]}\n"
     ]
    },
    {
     "name": "stderr",
     "output_type": "stream",
     "text": [
      "0: 640x640 (no detections), 430.3ms\n",
      "Speed: 32.2ms preprocess, 430.3ms inference, 2.1ms postprocess per image at shape (1, 3, 640, 640)\n",
      "\n"
     ]
    },
    {
     "name": "stdout",
     "output_type": "stream",
     "text": [
      "{'x_sort': [array([ 40, 240])], 'currentClass': 4, 'isEmpty': False, 'second': 1705916883, 'depth1': [449]}\n"
     ]
    },
    {
     "name": "stderr",
     "output_type": "stream",
     "text": [
      "0: 640x640 (no detections), 245.3ms\n",
      "Speed: 12.2ms preprocess, 245.3ms inference, 0.0ms postprocess per image at shape (1, 3, 640, 640)\n",
      "\n"
     ]
    },
    {
     "name": "stdout",
     "output_type": "stream",
     "text": [
      "{'x_sort': [array([ 40, 240])], 'currentClass': 4, 'isEmpty': False, 'second': 1705916883, 'depth1': [449]}\n"
     ]
    },
    {
     "name": "stderr",
     "output_type": "stream",
     "text": [
      "0: 640x640 (no detections), 447.6ms\n",
      "Speed: 25.1ms preprocess, 447.6ms inference, 0.0ms postprocess per image at shape (1, 3, 640, 640)\n",
      "\n"
     ]
    },
    {
     "name": "stdout",
     "output_type": "stream",
     "text": [
      "{'x_sort': [array([ 40, 240])], 'currentClass': 4, 'isEmpty': False, 'second': 1705916883, 'depth1': [449]}\n"
     ]
    },
    {
     "name": "stderr",
     "output_type": "stream",
     "text": [
      "0: 640x640 (no detections), 233.8ms\n",
      "Speed: 13.6ms preprocess, 233.8ms inference, 8.1ms postprocess per image at shape (1, 3, 640, 640)\n",
      "\n"
     ]
    },
    {
     "name": "stdout",
     "output_type": "stream",
     "text": [
      "{'x_sort': [array([ 40, 240])], 'currentClass': 4, 'isEmpty': False, 'second': 1705916883, 'depth1': [449]}\n"
     ]
    },
    {
     "name": "stderr",
     "output_type": "stream",
     "text": [
      "0: 640x640 (no detections), 243.2ms\n",
      "Speed: 16.2ms preprocess, 243.2ms inference, 2.1ms postprocess per image at shape (1, 3, 640, 640)\n",
      "\n"
     ]
    },
    {
     "name": "stdout",
     "output_type": "stream",
     "text": [
      "{'x_sort': [array([ 40, 240])], 'currentClass': 4, 'isEmpty': False, 'second': 1705916883, 'depth1': [449]}\n"
     ]
    },
    {
     "name": "stderr",
     "output_type": "stream",
     "text": [
      "0: 640x640 (no detections), 333.9ms\n",
      "Speed: 15.1ms preprocess, 333.9ms inference, 10.2ms postprocess per image at shape (1, 3, 640, 640)\n",
      "\n"
     ]
    },
    {
     "name": "stdout",
     "output_type": "stream",
     "text": [
      "{'x_sort': [array([ 40, 240])], 'currentClass': 4, 'isEmpty': False, 'second': 1705916883, 'depth1': [449]}\n"
     ]
    },
    {
     "name": "stderr",
     "output_type": "stream",
     "text": [
      "0: 640x640 (no detections), 249.5ms\n",
      "Speed: 14.0ms preprocess, 249.5ms inference, 0.0ms postprocess per image at shape (1, 3, 640, 640)\n",
      "\n"
     ]
    },
    {
     "name": "stdout",
     "output_type": "stream",
     "text": [
      "{'x_sort': [array([ 40, 240])], 'currentClass': 4, 'isEmpty': False, 'second': 1705916883, 'depth1': [449]}\n"
     ]
    },
    {
     "name": "stderr",
     "output_type": "stream",
     "text": [
      "0: 640x640 (no detections), 364.4ms\n",
      "Speed: 38.5ms preprocess, 364.4ms inference, 0.0ms postprocess per image at shape (1, 3, 640, 640)\n",
      "\n"
     ]
    },
    {
     "name": "stdout",
     "output_type": "stream",
     "text": [
      "{'x_sort': [array([ 40, 240])], 'currentClass': 4, 'isEmpty': False, 'second': 1705916883, 'depth1': [449]}\n"
     ]
    },
    {
     "name": "stderr",
     "output_type": "stream",
     "text": [
      "0: 640x640 (no detections), 238.3ms\n",
      "Speed: 16.4ms preprocess, 238.3ms inference, 0.0ms postprocess per image at shape (1, 3, 640, 640)\n",
      "\n"
     ]
    },
    {
     "name": "stdout",
     "output_type": "stream",
     "text": [
      "{'x_sort': [array([ 40, 240])], 'currentClass': 4, 'isEmpty': False, 'second': 1705916883, 'depth1': [449]}\n"
     ]
    },
    {
     "name": "stderr",
     "output_type": "stream",
     "text": [
      "0: 640x640 (no detections), 423.8ms\n",
      "Speed: 21.2ms preprocess, 423.8ms inference, 4.3ms postprocess per image at shape (1, 3, 640, 640)\n",
      "\n"
     ]
    },
    {
     "name": "stdout",
     "output_type": "stream",
     "text": [
      "{'x_sort': [array([ 40, 240])], 'currentClass': 4, 'isEmpty': False, 'second': 1705916883, 'depth1': [449]}\n"
     ]
    },
    {
     "name": "stderr",
     "output_type": "stream",
     "text": [
      "0: 640x640 (no detections), 601.7ms\n",
      "Speed: 17.2ms preprocess, 601.7ms inference, 0.0ms postprocess per image at shape (1, 3, 640, 640)\n",
      "\n"
     ]
    },
    {
     "name": "stdout",
     "output_type": "stream",
     "text": [
      "{'x_sort': [array([ 40, 240])], 'currentClass': 4, 'isEmpty': False, 'second': 1705916883, 'depth1': [449]}\n"
     ]
    },
    {
     "name": "stderr",
     "output_type": "stream",
     "text": [
      "0: 640x640 (no detections), 244.6ms\n",
      "Speed: 8.6ms preprocess, 244.6ms inference, 0.0ms postprocess per image at shape (1, 3, 640, 640)\n",
      "\n"
     ]
    },
    {
     "name": "stdout",
     "output_type": "stream",
     "text": [
      "{'x_sort': [array([ 40, 240])], 'currentClass': 4, 'isEmpty': False, 'second': 1705916883, 'depth1': [449]}\n"
     ]
    },
    {
     "name": "stderr",
     "output_type": "stream",
     "text": [
      "0: 640x640 (no detections), 254.8ms\n",
      "Speed: 12.8ms preprocess, 254.8ms inference, 13.9ms postprocess per image at shape (1, 3, 640, 640)\n",
      "\n"
     ]
    },
    {
     "name": "stdout",
     "output_type": "stream",
     "text": [
      "{'x_sort': [array([ 40, 240])], 'currentClass': 4, 'isEmpty': False, 'second': 1705916883, 'depth1': [449]}\n"
     ]
    },
    {
     "name": "stderr",
     "output_type": "stream",
     "text": [
      "0: 640x640 (no detections), 370.7ms\n",
      "Speed: 37.0ms preprocess, 370.7ms inference, 2.0ms postprocess per image at shape (1, 3, 640, 640)\n",
      "\n"
     ]
    },
    {
     "name": "stdout",
     "output_type": "stream",
     "text": [
      "{'x_sort': [array([ 40, 240])], 'currentClass': 4, 'isEmpty': False, 'second': 1705916883, 'depth1': [449]}\n"
     ]
    },
    {
     "name": "stderr",
     "output_type": "stream",
     "text": [
      "0: 640x640 (no detections), 243.7ms\n",
      "Speed: 13.8ms preprocess, 243.7ms inference, 6.4ms postprocess per image at shape (1, 3, 640, 640)\n",
      "\n"
     ]
    },
    {
     "name": "stdout",
     "output_type": "stream",
     "text": [
      "{'x_sort': [array([ 40, 240])], 'currentClass': 4, 'isEmpty': False, 'second': 1705916883, 'depth1': [449]}\n"
     ]
    },
    {
     "name": "stderr",
     "output_type": "stream",
     "text": [
      "0: 640x640 1 plastic, 418.0ms\n",
      "Speed: 18.2ms preprocess, 418.0ms inference, 0.0ms postprocess per image at shape (1, 3, 640, 640)\n",
      "\n"
     ]
    },
    {
     "name": "stdout",
     "output_type": "stream",
     "text": [
      "{'x_sort': [array([604, 289])], 'currentClass': 4, 'isEmpty': False, 'second': 1705916898, 'depth1': [455]}\n"
     ]
    },
    {
     "name": "stderr",
     "output_type": "stream",
     "text": [
      "0: 640x640 3 plastics, 242.0ms\n",
      "Speed: 18.5ms preprocess, 242.0ms inference, 4.0ms postprocess per image at shape (1, 3, 640, 640)\n",
      "\n"
     ]
    },
    {
     "name": "stdout",
     "output_type": "stream",
     "text": [
      "{'x_sort': [array([577, 265]), array([595, 154]), array([620, 188])], 'currentClass': 4, 'isEmpty': False, 'second': 1705916898, 'depth1': [382, 446, 463]}\n"
     ]
    },
    {
     "name": "stderr",
     "output_type": "stream",
     "text": [
      "0: 640x640 4 plastics, 238.9ms\n",
      "Speed: 17.0ms preprocess, 238.9ms inference, 3.9ms postprocess per image at shape (1, 3, 640, 640)\n",
      "\n"
     ]
    },
    {
     "name": "stdout",
     "output_type": "stream",
     "text": [
      "{'x_sort': [array([540, 258]), array([564, 263]), array([565, 298]), array([569, 154])], 'currentClass': 4, 'isEmpty': False, 'second': 1705916898, 'depth1': [379, 444, 0, 462]}\n"
     ]
    },
    {
     "name": "stderr",
     "output_type": "stream",
     "text": [
      "0: 640x640 2 plastics, 255.2ms\n",
      "Speed: 13.0ms preprocess, 255.2ms inference, 2.1ms postprocess per image at shape (1, 3, 640, 640)\n",
      "\n"
     ]
    },
    {
     "name": "stdout",
     "output_type": "stream",
     "text": [
      "{'x_sort': [array([535, 154]), array([547, 262])], 'currentClass': 4, 'isEmpty': False, 'second': 1705916899, 'depth1': [462, 447]}\n"
     ]
    },
    {
     "name": "stderr",
     "output_type": "stream",
     "text": [
      "0: 640x640 2 plastics, 392.9ms\n",
      "Speed: 24.1ms preprocess, 392.9ms inference, 0.0ms postprocess per image at shape (1, 3, 640, 640)\n",
      "\n"
     ]
    },
    {
     "name": "stdout",
     "output_type": "stream",
     "text": [
      "{'x_sort': [array([501, 154]), array([529, 264])], 'currentClass': 4, 'isEmpty': False, 'second': 1705916899, 'depth1': [459, 447]}\n"
     ]
    },
    {
     "name": "stderr",
     "output_type": "stream",
     "text": [
      "0: 640x640 2 plastics, 240.6ms\n",
      "Speed: 10.0ms preprocess, 240.6ms inference, 4.0ms postprocess per image at shape (1, 3, 640, 640)\n",
      "\n"
     ]
    },
    {
     "name": "stdout",
     "output_type": "stream",
     "text": [
      "{'x_sort': [array([492, 264]), array([589, 258])], 'currentClass': 4, 'isEmpty': False, 'second': 1705916899, 'depth1': [458, 463]}\n"
     ]
    },
    {
     "name": "stderr",
     "output_type": "stream",
     "text": [
      "0: 640x640 1 plastic, 249.6ms\n",
      "Speed: 14.6ms preprocess, 249.6ms inference, 5.0ms postprocess per image at shape (1, 3, 640, 640)\n",
      "\n"
     ]
    },
    {
     "name": "stdout",
     "output_type": "stream",
     "text": [
      "{'x_sort': [array([468, 265])], 'currentClass': 4, 'isEmpty': False, 'second': 1705916900, 'depth1': [460]}\n"
     ]
    },
    {
     "name": "stderr",
     "output_type": "stream",
     "text": [
      "0: 640x640 1 plastic, 396.7ms\n",
      "Speed: 33.0ms preprocess, 396.7ms inference, 0.0ms postprocess per image at shape (1, 3, 640, 640)\n",
      "\n"
     ]
    },
    {
     "name": "stdout",
     "output_type": "stream",
     "text": [
      "{'x_sort': [array([429, 263])], 'currentClass': 4, 'isEmpty': False, 'second': 1705916900, 'depth1': [457]}\n"
     ]
    },
    {
     "name": "stderr",
     "output_type": "stream",
     "text": [
      "0: 640x640 1 plastic, 239.2ms\n",
      "Speed: 18.6ms preprocess, 239.2ms inference, 6.6ms postprocess per image at shape (1, 3, 640, 640)\n",
      "\n"
     ]
    },
    {
     "name": "stdout",
     "output_type": "stream",
     "text": [
      "{'x_sort': [array([380, 262])], 'currentClass': 4, 'isEmpty': False, 'second': 1705916901, 'depth1': [459]}\n"
     ]
    },
    {
     "name": "stderr",
     "output_type": "stream",
     "text": [
      "0: 640x640 1 plastic, 444.1ms\n",
      "Speed: 15.1ms preprocess, 444.1ms inference, 7.0ms postprocess per image at shape (1, 3, 640, 640)\n"
     ]
    },
    {
     "name": "stdout",
     "output_type": "stream",
     "text": [
      "{'x_sort': [array([345, 263])], 'currentClass': 4, 'isEmpty': False, 'second': 1705916901, 'depth1': [454]}\n"
     ]
    },
    {
     "name": "stderr",
     "output_type": "stream",
     "text": [
      "\n",
      "0: 640x640 2 plastics, 452.8ms\n",
      "Speed: 18.0ms preprocess, 452.8ms inference, 0.0ms postprocess per image at shape (1, 3, 640, 640)\n",
      "\n"
     ]
    },
    {
     "name": "stdout",
     "output_type": "stream",
     "text": [
      "{'x_sort': [array([290, 263]), array([358, 193])], 'currentClass': 4, 'isEmpty': False, 'second': 1705916902, 'depth1': [466, 456]}\n"
     ]
    },
    {
     "name": "stderr",
     "output_type": "stream",
     "text": [
      "0: 640x640 1 plastic, 281.9ms\n",
      "Speed: 13.5ms preprocess, 281.9ms inference, 3.2ms postprocess per image at shape (1, 3, 640, 640)\n",
      "\n"
     ]
    },
    {
     "name": "stdout",
     "output_type": "stream",
     "text": [
      "{'x_sort': [array([185, 263])], 'currentClass': 4, 'isEmpty': True, 'second': 1705916903, 'depth1': [457]}\n",
      "meme\n",
      "{FRAME: X 207.600891, Y -8.28712463, Z 486.08136, A -135.306152, B -0.0378621183, C -179.961731}\n",
      "{FRAME: X 50.0, Y 900.0, Z 300.0, A 0.0, B 0.0, C 180.0}\n",
      "{FRAME: X 50.0, Y 900.0, Z 300.0, A 0.0, B 0.0, C 180.0}\n"
     ]
    },
    {
     "name": "stderr",
     "output_type": "stream",
     "text": [
      "0: 640x640 1 plastic, 400.3ms\n",
      "Speed: 17.7ms preprocess, 400.3ms inference, 0.0ms postprocess per image at shape (1, 3, 640, 640)\n",
      "\n"
     ]
    },
    {
     "name": "stdout",
     "output_type": "stream",
     "text": [
      "{'x_sort': [array([150, 263])], 'currentClass': 4, 'isEmpty': True, 'second': 1705916903, 'depth1': [459]}\n"
     ]
    },
    {
     "name": "stderr",
     "output_type": "stream",
     "text": [
      "0: 640x640 1 plastic, 243.5ms\n",
      "Speed: 20.2ms preprocess, 243.5ms inference, 8.1ms postprocess per image at shape (1, 3, 640, 640)\n",
      "\n"
     ]
    },
    {
     "name": "stdout",
     "output_type": "stream",
     "text": [
      "{'x_sort': [array([118, 263])], 'currentClass': 4, 'isEmpty': True, 'second': 1705916903, 'depth1': [460]}\n"
     ]
    },
    {
     "name": "stderr",
     "output_type": "stream",
     "text": [
      "0: 640x640 1 plastic, 418.7ms\n",
      "Speed: 19.9ms preprocess, 418.7ms inference, 2.0ms postprocess per image at shape (1, 3, 640, 640)\n",
      "\n"
     ]
    },
    {
     "name": "stdout",
     "output_type": "stream",
     "text": [
      "{'x_sort': [array([101, 264])], 'currentClass': 4, 'isEmpty': True, 'second': 1705916904, 'depth1': [459]}\n",
      "{FRAME: X 207.600891, Y -8.28712463, Z 486.08136, A -135.306152, B -0.0378621183, C -179.961731}\n",
      "{FRAME: X 34.56140350877192, Y 900.0, Z -7.0, A 0.0, B 0.0, C 180.0}\n"
     ]
    },
    {
     "name": "stderr",
     "output_type": "stream",
     "text": [
      "0: 640x640 2 plastics, 395.0ms\n",
      "Speed: 16.7ms preprocess, 395.0ms inference, 5.0ms postprocess per image at shape (1, 3, 640, 640)\n",
      "\n"
     ]
    },
    {
     "name": "stdout",
     "output_type": "stream",
     "text": [
      "{'x_sort': [array([ 18, 166]), array([ 77, 263])], 'currentClass': 4, 'isEmpty': True, 'second': 1705916904, 'depth1': [459, 433]}\n"
     ]
    },
    {
     "name": "stderr",
     "output_type": "stream",
     "text": [
      "0: 640x640 1 plastic, 231.6ms\n",
      "Speed: 12.0ms preprocess, 231.6ms inference, 10.2ms postprocess per image at shape (1, 3, 640, 640)\n",
      "\n"
     ]
    },
    {
     "name": "stdout",
     "output_type": "stream",
     "text": [
      "{'x_sort': [array([ 54, 281])], 'currentClass': 4, 'isEmpty': True, 'second': 1705916905, 'depth1': [463]}\n"
     ]
    },
    {
     "name": "stderr",
     "output_type": "stream",
     "text": [
      "0: 640x640 1 plastic, 244.5ms\n",
      "Speed: 8.5ms preprocess, 244.5ms inference, 0.0ms postprocess per image at shape (1, 3, 640, 640)\n",
      "\n"
     ]
    },
    {
     "name": "stdout",
     "output_type": "stream",
     "text": [
      "{'x_sort': [array([ 40, 254])], 'currentClass': 4, 'isEmpty': True, 'second': 1705916905, 'depth1': [462]}\n"
     ]
    },
    {
     "name": "stderr",
     "output_type": "stream",
     "text": [
      "0: 640x640 (no detections), 368.6ms\n",
      "Speed: 16.3ms preprocess, 368.6ms inference, 8.6ms postprocess per image at shape (1, 3, 640, 640)\n",
      "\n"
     ]
    },
    {
     "name": "stdout",
     "output_type": "stream",
     "text": [
      "{'x_sort': [array([ 40, 254])], 'currentClass': 4, 'isEmpty': False, 'second': 1705916905, 'depth1': [462]}\n"
     ]
    },
    {
     "name": "stderr",
     "output_type": "stream",
     "text": [
      "0: 640x640 (no detections), 393.6ms\n",
      "Speed: 18.8ms preprocess, 393.6ms inference, 8.1ms postprocess per image at shape (1, 3, 640, 640)\n",
      "\n"
     ]
    },
    {
     "name": "stdout",
     "output_type": "stream",
     "text": [
      "{'x_sort': [array([ 40, 254])], 'currentClass': 4, 'isEmpty': False, 'second': 1705916905, 'depth1': [462]}\n"
     ]
    },
    {
     "name": "stderr",
     "output_type": "stream",
     "text": [
      "0: 640x640 (no detections), 347.7ms\n",
      "Speed: 16.0ms preprocess, 347.7ms inference, 2.1ms postprocess per image at shape (1, 3, 640, 640)\n",
      "\n"
     ]
    },
    {
     "name": "stdout",
     "output_type": "stream",
     "text": [
      "{'x_sort': [array([ 40, 254])], 'currentClass': 4, 'isEmpty': False, 'second': 1705916905, 'depth1': [462]}\n"
     ]
    },
    {
     "name": "stderr",
     "output_type": "stream",
     "text": [
      "0: 640x640 (no detections), 341.0ms\n",
      "Speed: 18.1ms preprocess, 341.0ms inference, 0.0ms postprocess per image at shape (1, 3, 640, 640)\n",
      "\n"
     ]
    },
    {
     "name": "stdout",
     "output_type": "stream",
     "text": [
      "{'x_sort': [array([ 40, 254])], 'currentClass': 4, 'isEmpty': False, 'second': 1705916905, 'depth1': [462]}\n"
     ]
    },
    {
     "name": "stderr",
     "output_type": "stream",
     "text": [
      "0: 640x640 (no detections), 365.6ms\n",
      "Speed: 12.3ms preprocess, 365.6ms inference, 2.2ms postprocess per image at shape (1, 3, 640, 640)\n",
      "\n"
     ]
    },
    {
     "name": "stdout",
     "output_type": "stream",
     "text": [
      "{'x_sort': [array([ 40, 254])], 'currentClass': 4, 'isEmpty': False, 'second': 1705916905, 'depth1': [462]}\n"
     ]
    },
    {
     "name": "stderr",
     "output_type": "stream",
     "text": [
      "0: 640x640 (no detections), 464.2ms\n",
      "Speed: 26.8ms preprocess, 464.2ms inference, 0.0ms postprocess per image at shape (1, 3, 640, 640)\n",
      "\n"
     ]
    },
    {
     "name": "stdout",
     "output_type": "stream",
     "text": [
      "{'x_sort': [array([ 40, 254])], 'currentClass': 4, 'isEmpty': False, 'second': 1705916905, 'depth1': [462]}\n"
     ]
    },
    {
     "name": "stderr",
     "output_type": "stream",
     "text": [
      "0: 640x640 (no detections), 233.4ms\n",
      "Speed: 12.6ms preprocess, 233.4ms inference, 8.2ms postprocess per image at shape (1, 3, 640, 640)\n",
      "\n"
     ]
    },
    {
     "name": "stdout",
     "output_type": "stream",
     "text": [
      "{'x_sort': [array([ 40, 254])], 'currentClass': 4, 'isEmpty': False, 'second': 1705916905, 'depth1': [462]}\n"
     ]
    },
    {
     "name": "stderr",
     "output_type": "stream",
     "text": [
      "0: 640x640 (no detections), 476.3ms\n",
      "Speed: 25.0ms preprocess, 476.3ms inference, 0.0ms postprocess per image at shape (1, 3, 640, 640)\n",
      "\n"
     ]
    },
    {
     "name": "stdout",
     "output_type": "stream",
     "text": [
      "{'x_sort': [array([ 40, 254])], 'currentClass': 4, 'isEmpty': False, 'second': 1705916905, 'depth1': [462]}\n"
     ]
    },
    {
     "name": "stderr",
     "output_type": "stream",
     "text": [
      "0: 640x640 (no detections), 315.7ms\n",
      "Speed: 14.0ms preprocess, 315.7ms inference, 22.1ms postprocess per image at shape (1, 3, 640, 640)\n",
      "\n"
     ]
    },
    {
     "name": "stdout",
     "output_type": "stream",
     "text": [
      "{'x_sort': [array([ 40, 254])], 'currentClass': 4, 'isEmpty': False, 'second': 1705916905, 'depth1': [462]}\n"
     ]
    },
    {
     "name": "stderr",
     "output_type": "stream",
     "text": [
      "0: 640x640 (no detections), 366.4ms\n",
      "Speed: 18.6ms preprocess, 366.4ms inference, 0.0ms postprocess per image at shape (1, 3, 640, 640)\n",
      "\n"
     ]
    },
    {
     "name": "stdout",
     "output_type": "stream",
     "text": [
      "{'x_sort': [array([ 40, 254])], 'currentClass': 4, 'isEmpty': False, 'second': 1705916905, 'depth1': [462]}\n"
     ]
    },
    {
     "name": "stderr",
     "output_type": "stream",
     "text": [
      "0: 640x640 (no detections), 365.4ms\n",
      "Speed: 13.0ms preprocess, 365.4ms inference, 10.6ms postprocess per image at shape (1, 3, 640, 640)\n",
      "\n"
     ]
    },
    {
     "name": "stdout",
     "output_type": "stream",
     "text": [
      "{'x_sort': [array([ 40, 254])], 'currentClass': 4, 'isEmpty': False, 'second': 1705916905, 'depth1': [462]}\n"
     ]
    },
    {
     "name": "stderr",
     "output_type": "stream",
     "text": [
      "0: 640x640 (no detections), 337.5ms\n",
      "Speed: 14.0ms preprocess, 337.5ms inference, 0.0ms postprocess per image at shape (1, 3, 640, 640)\n",
      "\n"
     ]
    },
    {
     "name": "stdout",
     "output_type": "stream",
     "text": [
      "{'x_sort': [array([ 40, 254])], 'currentClass': 4, 'isEmpty': False, 'second': 1705916905, 'depth1': [462]}\n"
     ]
    },
    {
     "name": "stderr",
     "output_type": "stream",
     "text": [
      "0: 640x640 (no detections), 422.9ms\n",
      "Speed: 15.2ms preprocess, 422.9ms inference, 2.1ms postprocess per image at shape (1, 3, 640, 640)\n",
      "\n"
     ]
    },
    {
     "name": "stdout",
     "output_type": "stream",
     "text": [
      "{'x_sort': [array([ 40, 254])], 'currentClass': 4, 'isEmpty': False, 'second': 1705916905, 'depth1': [462]}\n"
     ]
    },
    {
     "name": "stderr",
     "output_type": "stream",
     "text": [
      "0: 640x640 (no detections), 524.1ms\n",
      "Speed: 31.8ms preprocess, 524.1ms inference, 8.3ms postprocess per image at shape (1, 3, 640, 640)\n",
      "\n"
     ]
    },
    {
     "name": "stdout",
     "output_type": "stream",
     "text": [
      "{'x_sort': [array([ 40, 254])], 'currentClass': 4, 'isEmpty': False, 'second': 1705916905, 'depth1': [462]}\n"
     ]
    },
    {
     "name": "stderr",
     "output_type": "stream",
     "text": [
      "0: 640x640 (no detections), 332.1ms\n",
      "Speed: 19.0ms preprocess, 332.1ms inference, 10.5ms postprocess per image at shape (1, 3, 640, 640)\n",
      "\n"
     ]
    },
    {
     "name": "stdout",
     "output_type": "stream",
     "text": [
      "{'x_sort': [array([ 40, 254])], 'currentClass': 4, 'isEmpty': False, 'second': 1705916905, 'depth1': [462]}\n"
     ]
    },
    {
     "name": "stderr",
     "output_type": "stream",
     "text": [
      "0: 640x640 (no detections), 472.1ms\n",
      "Speed: 18.0ms preprocess, 472.1ms inference, 8.1ms postprocess per image at shape (1, 3, 640, 640)\n",
      "\n"
     ]
    },
    {
     "name": "stdout",
     "output_type": "stream",
     "text": [
      "{'x_sort': [array([ 40, 254])], 'currentClass': 4, 'isEmpty': False, 'second': 1705916905, 'depth1': [462]}\n"
     ]
    },
    {
     "name": "stderr",
     "output_type": "stream",
     "text": [
      "0: 640x640 (no detections), 239.2ms\n",
      "Speed: 15.6ms preprocess, 239.2ms inference, 8.3ms postprocess per image at shape (1, 3, 640, 640)\n",
      "\n"
     ]
    },
    {
     "name": "stdout",
     "output_type": "stream",
     "text": [
      "{'x_sort': [array([ 40, 254])], 'currentClass': 4, 'isEmpty': False, 'second': 1705916905, 'depth1': [462]}\n"
     ]
    },
    {
     "name": "stderr",
     "output_type": "stream",
     "text": [
      "0: 640x640 (no detections), 274.0ms\n",
      "Speed: 12.9ms preprocess, 274.0ms inference, 10.3ms postprocess per image at shape (1, 3, 640, 640)\n",
      "\n"
     ]
    },
    {
     "name": "stdout",
     "output_type": "stream",
     "text": [
      "{'x_sort': [array([ 40, 254])], 'currentClass': 4, 'isEmpty': False, 'second': 1705916905, 'depth1': [462]}\n"
     ]
    },
    {
     "name": "stderr",
     "output_type": "stream",
     "text": [
      "0: 640x640 (no detections), 401.2ms\n",
      "Speed: 25.1ms preprocess, 401.2ms inference, 8.2ms postprocess per image at shape (1, 3, 640, 640)\n",
      "\n"
     ]
    },
    {
     "name": "stdout",
     "output_type": "stream",
     "text": [
      "{'x_sort': [array([ 40, 254])], 'currentClass': 4, 'isEmpty': False, 'second': 1705916905, 'depth1': [462]}\n"
     ]
    },
    {
     "name": "stderr",
     "output_type": "stream",
     "text": [
      "0: 640x640 (no detections), 248.5ms\n",
      "Speed: 12.0ms preprocess, 248.5ms inference, 0.0ms postprocess per image at shape (1, 3, 640, 640)\n",
      "\n"
     ]
    },
    {
     "name": "stdout",
     "output_type": "stream",
     "text": [
      "{'x_sort': [array([ 40, 254])], 'currentClass': 4, 'isEmpty': False, 'second': 1705916905, 'depth1': [462]}\n"
     ]
    },
    {
     "name": "stderr",
     "output_type": "stream",
     "text": [
      "0: 640x640 (no detections), 409.9ms\n",
      "Speed: 24.1ms preprocess, 409.9ms inference, 2.1ms postprocess per image at shape (1, 3, 640, 640)\n",
      "\n"
     ]
    },
    {
     "name": "stdout",
     "output_type": "stream",
     "text": [
      "{'x_sort': [array([ 40, 254])], 'currentClass': 4, 'isEmpty': False, 'second': 1705916905, 'depth1': [462]}\n"
     ]
    },
    {
     "name": "stderr",
     "output_type": "stream",
     "text": [
      "0: 640x640 (no detections), 287.9ms\n",
      "Speed: 16.9ms preprocess, 287.9ms inference, 0.0ms postprocess per image at shape (1, 3, 640, 640)\n",
      "\n"
     ]
    },
    {
     "name": "stdout",
     "output_type": "stream",
     "text": [
      "{'x_sort': [array([ 40, 254])], 'currentClass': 4, 'isEmpty': False, 'second': 1705916905, 'depth1': [462]}\n"
     ]
    },
    {
     "name": "stderr",
     "output_type": "stream",
     "text": [
      "0: 640x640 (no detections), 244.1ms\n",
      "Speed: 19.6ms preprocess, 244.1ms inference, 0.0ms postprocess per image at shape (1, 3, 640, 640)\n",
      "\n"
     ]
    },
    {
     "name": "stdout",
     "output_type": "stream",
     "text": [
      "{'x_sort': [array([ 40, 254])], 'currentClass': 4, 'isEmpty': False, 'second': 1705916905, 'depth1': [462]}\n"
     ]
    },
    {
     "name": "stderr",
     "output_type": "stream",
     "text": [
      "0: 640x640 (no detections), 287.3ms\n",
      "Speed: 20.9ms preprocess, 287.3ms inference, 2.1ms postprocess per image at shape (1, 3, 640, 640)\n",
      "\n"
     ]
    },
    {
     "name": "stdout",
     "output_type": "stream",
     "text": [
      "{'x_sort': [array([ 40, 254])], 'currentClass': 4, 'isEmpty': False, 'second': 1705916905, 'depth1': [462]}\n"
     ]
    },
    {
     "name": "stderr",
     "output_type": "stream",
     "text": [
      "0: 640x640 (no detections), 389.3ms\n",
      "Speed: 26.6ms preprocess, 389.3ms inference, 10.2ms postprocess per image at shape (1, 3, 640, 640)\n",
      "\n"
     ]
    },
    {
     "name": "stdout",
     "output_type": "stream",
     "text": [
      "{'x_sort': [array([ 40, 254])], 'currentClass': 4, 'isEmpty': False, 'second': 1705916905, 'depth1': [462]}\n"
     ]
    },
    {
     "name": "stderr",
     "output_type": "stream",
     "text": [
      "0: 640x640 (no detections), 242.1ms\n",
      "Speed: 16.0ms preprocess, 242.1ms inference, 0.0ms postprocess per image at shape (1, 3, 640, 640)\n",
      "\n"
     ]
    },
    {
     "name": "stdout",
     "output_type": "stream",
     "text": [
      "{'x_sort': [array([ 40, 254])], 'currentClass': 4, 'isEmpty': False, 'second': 1705916905, 'depth1': [462]}\n"
     ]
    },
    {
     "name": "stderr",
     "output_type": "stream",
     "text": [
      "0: 640x640 (no detections), 406.2ms\n",
      "Speed: 26.1ms preprocess, 406.2ms inference, 0.0ms postprocess per image at shape (1, 3, 640, 640)\n",
      "\n"
     ]
    },
    {
     "name": "stdout",
     "output_type": "stream",
     "text": [
      "{'x_sort': [array([ 40, 254])], 'currentClass': 4, 'isEmpty': False, 'second': 1705916905, 'depth1': [462]}\n"
     ]
    },
    {
     "name": "stderr",
     "output_type": "stream",
     "text": [
      "0: 640x640 (no detections), 427.9ms\n",
      "Speed: 15.0ms preprocess, 427.9ms inference, 0.0ms postprocess per image at shape (1, 3, 640, 640)\n",
      "\n"
     ]
    },
    {
     "name": "stdout",
     "output_type": "stream",
     "text": [
      "on\n",
      "-10\n",
      "{'x_sort': [array([ 40, 254])], 'currentClass': 4, 'isEmpty': False, 'second': 1705916905, 'depth1': [462]}\n",
      "{FRAME: X 207.600891, Y -8.28712463, Z 486.08136, A -135.306152, B -0.0378621183, C -179.961731}\n",
      "{FRAME: X 34.56140350877192, Y 900.0, Z 200.0, A 0.0, B 0.0, C 180.0}\n",
      "{FRAME: X 0.0, Y 100.0, Z 200.0, A 90.0, B 0.0, C 180.0}\n"
     ]
    },
    {
     "name": "stderr",
     "output_type": "stream",
     "text": [
      "0: 640x640 (no detections), 353.7ms\n",
      "Speed: 13.0ms preprocess, 353.7ms inference, 8.1ms postprocess per image at shape (1, 3, 640, 640)\n",
      "\n"
     ]
    },
    {
     "name": "stdout",
     "output_type": "stream",
     "text": [
      "{'x_sort': [array([ 40, 254])], 'currentClass': 4, 'isEmpty': False, 'second': 1705916905, 'depth1': [462]}\n"
     ]
    },
    {
     "name": "stderr",
     "output_type": "stream",
     "text": [
      "0: 640x640 (no detections), 340.0ms\n",
      "Speed: 25.5ms preprocess, 340.0ms inference, 8.2ms postprocess per image at shape (1, 3, 640, 640)\n",
      "\n"
     ]
    },
    {
     "name": "stdout",
     "output_type": "stream",
     "text": [
      "{'x_sort': [array([ 40, 254])], 'currentClass': 4, 'isEmpty': False, 'second': 1705916905, 'depth1': [462]}\n"
     ]
    },
    {
     "name": "stderr",
     "output_type": "stream",
     "text": [
      "0: 640x640 (no detections), 240.2ms\n",
      "Speed: 15.2ms preprocess, 240.2ms inference, 0.0ms postprocess per image at shape (1, 3, 640, 640)\n",
      "\n"
     ]
    },
    {
     "name": "stdout",
     "output_type": "stream",
     "text": [
      "{'x_sort': [array([ 40, 254])], 'currentClass': 4, 'isEmpty': False, 'second': 1705916905, 'depth1': [462]}\n"
     ]
    },
    {
     "name": "stderr",
     "output_type": "stream",
     "text": [
      "0: 640x640 (no detections), 242.4ms\n",
      "Speed: 16.0ms preprocess, 242.4ms inference, 2.1ms postprocess per image at shape (1, 3, 640, 640)\n",
      "\n"
     ]
    },
    {
     "name": "stdout",
     "output_type": "stream",
     "text": [
      "{'x_sort': [array([ 40, 254])], 'currentClass': 4, 'isEmpty': False, 'second': 1705916905, 'depth1': [462]}\n"
     ]
    },
    {
     "name": "stderr",
     "output_type": "stream",
     "text": [
      "0: 640x640 (no detections), 405.9ms\n",
      "Speed: 32.6ms preprocess, 405.9ms inference, 0.0ms postprocess per image at shape (1, 3, 640, 640)\n",
      "\n"
     ]
    },
    {
     "name": "stdout",
     "output_type": "stream",
     "text": [
      "{'x_sort': [array([ 40, 254])], 'currentClass': 4, 'isEmpty': False, 'second': 1705916905, 'depth1': [462]}\n"
     ]
    },
    {
     "name": "stderr",
     "output_type": "stream",
     "text": [
      "0: 640x640 (no detections), 240.6ms\n",
      "Speed: 19.3ms preprocess, 240.6ms inference, 10.3ms postprocess per image at shape (1, 3, 640, 640)\n",
      "\n"
     ]
    },
    {
     "name": "stdout",
     "output_type": "stream",
     "text": [
      "{'x_sort': [array([ 40, 254])], 'currentClass': 4, 'isEmpty': False, 'second': 1705916905, 'depth1': [462]}\n"
     ]
    },
    {
     "name": "stderr",
     "output_type": "stream",
     "text": [
      "0: 640x640 (no detections), 433.9ms\n",
      "Speed: 36.2ms preprocess, 433.9ms inference, 0.0ms postprocess per image at shape (1, 3, 640, 640)\n",
      "\n"
     ]
    },
    {
     "name": "stdout",
     "output_type": "stream",
     "text": [
      "{'x_sort': [array([ 40, 254])], 'currentClass': 4, 'isEmpty': False, 'second': 1705916905, 'depth1': [462]}\n"
     ]
    },
    {
     "name": "stderr",
     "output_type": "stream",
     "text": [
      "0: 640x640 (no detections), 370.2ms\n",
      "Speed: 14.1ms preprocess, 370.2ms inference, 8.2ms postprocess per image at shape (1, 3, 640, 640)\n",
      "\n"
     ]
    },
    {
     "name": "stdout",
     "output_type": "stream",
     "text": [
      "{'x_sort': [array([ 40, 254])], 'currentClass': 4, 'isEmpty': False, 'second': 1705916905, 'depth1': [462]}\n"
     ]
    },
    {
     "name": "stderr",
     "output_type": "stream",
     "text": [
      "0: 640x640 (no detections), 428.2ms\n",
      "Speed: 43.1ms preprocess, 428.2ms inference, 0.0ms postprocess per image at shape (1, 3, 640, 640)\n",
      "\n"
     ]
    },
    {
     "name": "stdout",
     "output_type": "stream",
     "text": [
      "{'x_sort': [array([ 40, 254])], 'currentClass': 4, 'isEmpty': False, 'second': 1705916905, 'depth1': [462]}\n"
     ]
    },
    {
     "name": "stderr",
     "output_type": "stream",
     "text": [
      "0: 640x640 (no detections), 242.3ms\n",
      "Speed: 14.8ms preprocess, 242.3ms inference, 10.5ms postprocess per image at shape (1, 3, 640, 640)\n",
      "\n"
     ]
    },
    {
     "name": "stdout",
     "output_type": "stream",
     "text": [
      "{'x_sort': [array([ 40, 254])], 'currentClass': 4, 'isEmpty': False, 'second': 1705916905, 'depth1': [462]}\n"
     ]
    },
    {
     "name": "stderr",
     "output_type": "stream",
     "text": [
      "0: 640x640 (no detections), 328.2ms\n",
      "Speed: 36.2ms preprocess, 328.2ms inference, 10.4ms postprocess per image at shape (1, 3, 640, 640)\n",
      "\n"
     ]
    },
    {
     "name": "stdout",
     "output_type": "stream",
     "text": [
      "{'x_sort': [array([ 40, 254])], 'currentClass': 4, 'isEmpty': False, 'second': 1705916905, 'depth1': [462]}\n"
     ]
    },
    {
     "name": "stderr",
     "output_type": "stream",
     "text": [
      "0: 640x640 (no detections), 291.8ms\n",
      "Speed: 15.0ms preprocess, 291.8ms inference, 10.6ms postprocess per image at shape (1, 3, 640, 640)\n",
      "\n"
     ]
    },
    {
     "name": "stdout",
     "output_type": "stream",
     "text": [
      "{'x_sort': [array([ 40, 254])], 'currentClass': 4, 'isEmpty': False, 'second': 1705916905, 'depth1': [462]}\n"
     ]
    },
    {
     "name": "stderr",
     "output_type": "stream",
     "text": [
      "0: 640x640 (no detections), 342.8ms\n",
      "Speed: 19.8ms preprocess, 342.8ms inference, 10.3ms postprocess per image at shape (1, 3, 640, 640)\n",
      "\n"
     ]
    },
    {
     "name": "stdout",
     "output_type": "stream",
     "text": [
      "{'x_sort': [array([ 40, 254])], 'currentClass': 4, 'isEmpty': False, 'second': 1705916905, 'depth1': [462]}\n"
     ]
    },
    {
     "name": "stderr",
     "output_type": "stream",
     "text": [
      "0: 640x640 (no detections), 367.2ms\n",
      "Speed: 28.8ms preprocess, 367.2ms inference, 0.0ms postprocess per image at shape (1, 3, 640, 640)\n",
      "\n"
     ]
    },
    {
     "name": "stdout",
     "output_type": "stream",
     "text": [
      "{'x_sort': [array([ 40, 254])], 'currentClass': 4, 'isEmpty': False, 'second': 1705916905, 'depth1': [462]}\n"
     ]
    },
    {
     "name": "stderr",
     "output_type": "stream",
     "text": [
      "0: 640x640 (no detections), 407.1ms\n",
      "Speed: 26.9ms preprocess, 407.1ms inference, 2.1ms postprocess per image at shape (1, 3, 640, 640)\n",
      "\n"
     ]
    },
    {
     "name": "stdout",
     "output_type": "stream",
     "text": [
      "{'x_sort': [array([ 40, 254])], 'currentClass': 4, 'isEmpty': False, 'second': 1705916905, 'depth1': [462]}\n"
     ]
    },
    {
     "name": "stderr",
     "output_type": "stream",
     "text": [
      "0: 640x640 (no detections), 251.4ms\n",
      "Speed: 14.4ms preprocess, 251.4ms inference, 8.0ms postprocess per image at shape (1, 3, 640, 640)\n",
      "\n"
     ]
    },
    {
     "name": "stdout",
     "output_type": "stream",
     "text": [
      "{'x_sort': [array([ 40, 254])], 'currentClass': 4, 'isEmpty': False, 'second': 1705916905, 'depth1': [462]}\n"
     ]
    },
    {
     "name": "stderr",
     "output_type": "stream",
     "text": [
      "0: 640x640 (no detections), 348.0ms\n",
      "Speed: 27.7ms preprocess, 348.0ms inference, 0.0ms postprocess per image at shape (1, 3, 640, 640)\n",
      "\n"
     ]
    },
    {
     "name": "stdout",
     "output_type": "stream",
     "text": [
      "{'x_sort': [array([ 40, 254])], 'currentClass': 4, 'isEmpty': False, 'second': 1705916905, 'depth1': [462]}\n"
     ]
    },
    {
     "name": "stderr",
     "output_type": "stream",
     "text": [
      "0: 640x640 (no detections), 373.5ms\n",
      "Speed: 14.0ms preprocess, 373.5ms inference, 2.2ms postprocess per image at shape (1, 3, 640, 640)\n",
      "\n"
     ]
    },
    {
     "name": "stdout",
     "output_type": "stream",
     "text": [
      "{'x_sort': [array([ 40, 254])], 'currentClass': 4, 'isEmpty': False, 'second': 1705916905, 'depth1': [462]}\n"
     ]
    },
    {
     "name": "stderr",
     "output_type": "stream",
     "text": [
      "0: 640x640 (no detections), 233.8ms\n",
      "Speed: 14.2ms preprocess, 233.8ms inference, 0.0ms postprocess per image at shape (1, 3, 640, 640)\n",
      "\n"
     ]
    },
    {
     "name": "stdout",
     "output_type": "stream",
     "text": [
      "{'x_sort': [array([ 40, 254])], 'currentClass': 4, 'isEmpty': False, 'second': 1705916905, 'depth1': [462]}\n"
     ]
    },
    {
     "name": "stderr",
     "output_type": "stream",
     "text": [
      "0: 640x640 (no detections), 373.5ms\n",
      "Speed: 10.2ms preprocess, 373.5ms inference, 8.2ms postprocess per image at shape (1, 3, 640, 640)\n",
      "\n"
     ]
    },
    {
     "name": "stdout",
     "output_type": "stream",
     "text": [
      "{'x_sort': [array([ 40, 254])], 'currentClass': 4, 'isEmpty': False, 'second': 1705916905, 'depth1': [462]}\n"
     ]
    },
    {
     "name": "stderr",
     "output_type": "stream",
     "text": [
      "0: 640x640 (no detections), 361.0ms\n",
      "Speed: 21.0ms preprocess, 361.0ms inference, 8.1ms postprocess per image at shape (1, 3, 640, 640)\n",
      "\n"
     ]
    },
    {
     "name": "stdout",
     "output_type": "stream",
     "text": [
      "{'x_sort': [array([ 40, 254])], 'currentClass': 4, 'isEmpty': False, 'second': 1705916905, 'depth1': [462]}\n"
     ]
    },
    {
     "name": "stderr",
     "output_type": "stream",
     "text": [
      "0: 640x640 (no detections), 255.0ms\n",
      "Speed: 17.0ms preprocess, 255.0ms inference, 21.9ms postprocess per image at shape (1, 3, 640, 640)\n",
      "\n"
     ]
    },
    {
     "name": "stdout",
     "output_type": "stream",
     "text": [
      "{'x_sort': [array([ 40, 254])], 'currentClass': 4, 'isEmpty': False, 'second': 1705916905, 'depth1': [462]}\n"
     ]
    },
    {
     "name": "stderr",
     "output_type": "stream",
     "text": [
      "0: 640x640 (no detections), 398.3ms\n",
      "Speed: 29.8ms preprocess, 398.3ms inference, 8.1ms postprocess per image at shape (1, 3, 640, 640)\n",
      "\n"
     ]
    },
    {
     "name": "stdout",
     "output_type": "stream",
     "text": [
      "{'x_sort': [array([ 40, 254])], 'currentClass': 4, 'isEmpty': False, 'second': 1705916905, 'depth1': [462]}\n"
     ]
    },
    {
     "name": "stderr",
     "output_type": "stream",
     "text": [
      "0: 640x640 (no detections), 292.5ms\n",
      "Speed: 12.0ms preprocess, 292.5ms inference, 34.7ms postprocess per image at shape (1, 3, 640, 640)\n",
      "\n"
     ]
    },
    {
     "name": "stdout",
     "output_type": "stream",
     "text": [
      "{'x_sort': [array([ 40, 254])], 'currentClass': 4, 'isEmpty': False, 'second': 1705916905, 'depth1': [462]}\n"
     ]
    },
    {
     "name": "stderr",
     "output_type": "stream",
     "text": [
      "0: 640x640 (no detections), 329.9ms\n",
      "Speed: 24.2ms preprocess, 329.9ms inference, 8.2ms postprocess per image at shape (1, 3, 640, 640)\n",
      "\n"
     ]
    },
    {
     "name": "stdout",
     "output_type": "stream",
     "text": [
      "{'x_sort': [array([ 40, 254])], 'currentClass': 4, 'isEmpty': False, 'second': 1705916905, 'depth1': [462]}\n"
     ]
    },
    {
     "name": "stderr",
     "output_type": "stream",
     "text": [
      "0: 640x640 (no detections), 238.4ms\n",
      "Speed: 16.1ms preprocess, 238.4ms inference, 10.2ms postprocess per image at shape (1, 3, 640, 640)\n",
      "\n"
     ]
    },
    {
     "name": "stdout",
     "output_type": "stream",
     "text": [
      "off\n",
      "{'x_sort': [array([ 40, 254])], 'currentClass': 4, 'isEmpty': False, 'second': 1705916905, 'depth1': [462]}\n",
      "{FRAME: X 207.600891, Y -8.28712463, Z 486.08136, A -135.306152, B -0.0378621183, C -179.961731}\n",
      "{FRAME: X 34.56140350877192, Y 900.0, Z 300.0, A 0.0, B 0.0, C 180.0}\n"
     ]
    },
    {
     "name": "stderr",
     "output_type": "stream",
     "text": [
      "0: 640x640 (no detections), 275.6ms\n",
      "Speed: 22.3ms preprocess, 275.6ms inference, 0.0ms postprocess per image at shape (1, 3, 640, 640)\n",
      "\n"
     ]
    },
    {
     "name": "stdout",
     "output_type": "stream",
     "text": [
      "{'x_sort': [array([ 40, 254])], 'currentClass': 4, 'isEmpty': False, 'second': 1705916905, 'depth1': [462]}\n"
     ]
    },
    {
     "name": "stderr",
     "output_type": "stream",
     "text": [
      "0: 640x640 (no detections), 363.4ms\n",
      "Speed: 25.3ms preprocess, 363.4ms inference, 10.4ms postprocess per image at shape (1, 3, 640, 640)\n",
      "\n"
     ]
    },
    {
     "name": "stdout",
     "output_type": "stream",
     "text": [
      "{'x_sort': [array([ 40, 254])], 'currentClass': 4, 'isEmpty': False, 'second': 1705916905, 'depth1': [462]}\n"
     ]
    },
    {
     "name": "stderr",
     "output_type": "stream",
     "text": [
      "0: 640x640 (no detections), 381.5ms\n",
      "Speed: 14.0ms preprocess, 381.5ms inference, 2.1ms postprocess per image at shape (1, 3, 640, 640)\n",
      "\n"
     ]
    },
    {
     "name": "stdout",
     "output_type": "stream",
     "text": [
      "{'x_sort': [array([ 40, 254])], 'currentClass': 4, 'isEmpty': False, 'second': 1705916905, 'depth1': [462]}\n"
     ]
    },
    {
     "name": "stderr",
     "output_type": "stream",
     "text": [
      "0: 640x640 (no detections), 471.6ms\n",
      "Speed: 16.5ms preprocess, 471.6ms inference, 2.1ms postprocess per image at shape (1, 3, 640, 640)\n",
      "\n"
     ]
    },
    {
     "name": "stdout",
     "output_type": "stream",
     "text": [
      "{'x_sort': [array([ 40, 254])], 'currentClass': 4, 'isEmpty': False, 'second': 1705916905, 'depth1': [462]}\n"
     ]
    },
    {
     "name": "stderr",
     "output_type": "stream",
     "text": [
      "0: 640x640 (no detections), 242.4ms\n",
      "Speed: 16.2ms preprocess, 242.4ms inference, 0.0ms postprocess per image at shape (1, 3, 640, 640)\n",
      "\n"
     ]
    },
    {
     "name": "stdout",
     "output_type": "stream",
     "text": [
      "{'x_sort': [array([ 40, 254])], 'currentClass': 4, 'isEmpty': False, 'second': 1705916905, 'depth1': [462]}\n"
     ]
    },
    {
     "name": "stderr",
     "output_type": "stream",
     "text": [
      "0: 640x640 (no detections), 468.6ms\n",
      "Speed: 16.7ms preprocess, 468.6ms inference, 0.0ms postprocess per image at shape (1, 3, 640, 640)\n",
      "\n"
     ]
    },
    {
     "name": "stdout",
     "output_type": "stream",
     "text": [
      "{'x_sort': [array([ 40, 254])], 'currentClass': 4, 'isEmpty': False, 'second': 1705916905, 'depth1': [462]}\n"
     ]
    },
    {
     "name": "stderr",
     "output_type": "stream",
     "text": [
      "0: 640x640 (no detections), 234.4ms\n",
      "Speed: 10.2ms preprocess, 234.4ms inference, 10.2ms postprocess per image at shape (1, 3, 640, 640)\n",
      "\n"
     ]
    },
    {
     "name": "stdout",
     "output_type": "stream",
     "text": [
      "{'x_sort': [array([ 40, 254])], 'currentClass': 4, 'isEmpty': False, 'second': 1705916905, 'depth1': [462]}\n"
     ]
    },
    {
     "name": "stderr",
     "output_type": "stream",
     "text": [
      "0: 640x640 (no detections), 462.6ms\n",
      "Speed: 27.1ms preprocess, 462.6ms inference, 5.5ms postprocess per image at shape (1, 3, 640, 640)\n"
     ]
    },
    {
     "name": "stdout",
     "output_type": "stream",
     "text": [
      "{'x_sort': [array([ 40, 254])], 'currentClass': 4, 'isEmpty': False, 'second': 1705916905, 'depth1': [462]}\n"
     ]
    },
    {
     "name": "stderr",
     "output_type": "stream",
     "text": [
      "\n",
      "0: 640x640 (no detections), 812.7ms\n",
      "Speed: 32.7ms preprocess, 812.7ms inference, 2.1ms postprocess per image at shape (1, 3, 640, 640)\n",
      "\n"
     ]
    },
    {
     "name": "stdout",
     "output_type": "stream",
     "text": [
      "{'x_sort': [array([ 40, 254])], 'currentClass': 4, 'isEmpty': False, 'second': 1705916905, 'depth1': [462]}\n"
     ]
    },
    {
     "name": "stderr",
     "output_type": "stream",
     "text": [
      "0: 640x640 (no detections), 732.3ms\n",
      "Speed: 32.1ms preprocess, 732.3ms inference, 10.5ms postprocess per image at shape (1, 3, 640, 640)\n",
      "\n"
     ]
    },
    {
     "name": "stdout",
     "output_type": "stream",
     "text": [
      "{'x_sort': [array([ 40, 254])], 'currentClass': 4, 'isEmpty': False, 'second': 1705916905, 'depth1': [462]}\n"
     ]
    },
    {
     "name": "stderr",
     "output_type": "stream",
     "text": [
      "0: 640x640 (no detections), 735.4ms\n",
      "Speed: 48.4ms preprocess, 735.4ms inference, 22.7ms postprocess per image at shape (1, 3, 640, 640)\n",
      "\n"
     ]
    },
    {
     "name": "stdout",
     "output_type": "stream",
     "text": [
      "{'x_sort': [array([ 40, 254])], 'currentClass': 4, 'isEmpty': False, 'second': 1705916905, 'depth1': [462]}\n"
     ]
    },
    {
     "name": "stderr",
     "output_type": "stream",
     "text": [
      "0: 640x640 (no detections), 548.4ms\n",
      "Speed: 31.4ms preprocess, 548.4ms inference, 8.5ms postprocess per image at shape (1, 3, 640, 640)\n",
      "\n"
     ]
    },
    {
     "name": "stdout",
     "output_type": "stream",
     "text": [
      "{'x_sort': [array([ 40, 254])], 'currentClass': 4, 'isEmpty': False, 'second': 1705916905, 'depth1': [462]}\n"
     ]
    },
    {
     "name": "stderr",
     "output_type": "stream",
     "text": [
      "0: 640x640 (no detections), 426.2ms\n",
      "Speed: 39.7ms preprocess, 426.2ms inference, 2.1ms postprocess per image at shape (1, 3, 640, 640)\n",
      "\n"
     ]
    },
    {
     "name": "stdout",
     "output_type": "stream",
     "text": [
      "{'x_sort': [array([ 40, 254])], 'currentClass': 4, 'isEmpty': False, 'second': 1705916905, 'depth1': [462]}\n"
     ]
    },
    {
     "name": "stderr",
     "output_type": "stream",
     "text": [
      "0: 640x640 (no detections), 290.5ms\n",
      "Speed: 17.3ms preprocess, 290.5ms inference, 31.7ms postprocess per image at shape (1, 3, 640, 640)\n",
      "\n"
     ]
    },
    {
     "name": "stdout",
     "output_type": "stream",
     "text": [
      "{'x_sort': [array([ 40, 254])], 'currentClass': 4, 'isEmpty': False, 'second': 1705916905, 'depth1': [462]}\n"
     ]
    },
    {
     "name": "stderr",
     "output_type": "stream",
     "text": [
      "0: 640x640 (no detections), 344.4ms\n",
      "Speed: 22.2ms preprocess, 344.4ms inference, 0.0ms postprocess per image at shape (1, 3, 640, 640)\n",
      "\n"
     ]
    },
    {
     "name": "stdout",
     "output_type": "stream",
     "text": [
      "{'x_sort': [array([ 40, 254])], 'currentClass': 4, 'isEmpty': False, 'second': 1705916905, 'depth1': [462]}\n"
     ]
    },
    {
     "name": "stderr",
     "output_type": "stream",
     "text": [
      "0: 640x640 (no detections), 232.4ms\n",
      "Speed: 11.5ms preprocess, 232.4ms inference, 10.3ms postprocess per image at shape (1, 3, 640, 640)\n",
      "\n"
     ]
    },
    {
     "name": "stdout",
     "output_type": "stream",
     "text": [
      "{'x_sort': [array([ 40, 254])], 'currentClass': 4, 'isEmpty': False, 'second': 1705916905, 'depth1': [462]}\n"
     ]
    },
    {
     "name": "stderr",
     "output_type": "stream",
     "text": [
      "0: 640x640 (no detections), 381.2ms\n",
      "Speed: 20.8ms preprocess, 381.2ms inference, 0.0ms postprocess per image at shape (1, 3, 640, 640)\n",
      "\n"
     ]
    },
    {
     "name": "stdout",
     "output_type": "stream",
     "text": [
      "{'x_sort': [array([ 40, 254])], 'currentClass': 4, 'isEmpty': False, 'second': 1705916905, 'depth1': [462]}\n"
     ]
    },
    {
     "name": "stderr",
     "output_type": "stream",
     "text": [
      "0: 640x640 (no detections), 338.9ms\n",
      "Speed: 13.0ms preprocess, 338.9ms inference, 8.2ms postprocess per image at shape (1, 3, 640, 640)\n",
      "\n"
     ]
    },
    {
     "name": "stdout",
     "output_type": "stream",
     "text": [
      "{'x_sort': [array([ 40, 254])], 'currentClass': 4, 'isEmpty': False, 'second': 1705916905, 'depth1': [462]}\n"
     ]
    },
    {
     "name": "stderr",
     "output_type": "stream",
     "text": [
      "0: 640x640 (no detections), 366.0ms\n",
      "Speed: 10.3ms preprocess, 366.0ms inference, 10.4ms postprocess per image at shape (1, 3, 640, 640)\n",
      "\n"
     ]
    },
    {
     "name": "stdout",
     "output_type": "stream",
     "text": [
      "{'x_sort': [array([ 40, 254])], 'currentClass': 4, 'isEmpty': False, 'second': 1705916905, 'depth1': [462]}\n"
     ]
    },
    {
     "name": "stderr",
     "output_type": "stream",
     "text": [
      "0: 640x640 (no detections), 246.0ms\n",
      "Speed: 14.6ms preprocess, 246.0ms inference, 0.0ms postprocess per image at shape (1, 3, 640, 640)\n",
      "\n"
     ]
    },
    {
     "name": "stdout",
     "output_type": "stream",
     "text": [
      "{'x_sort': [array([ 40, 254])], 'currentClass': 4, 'isEmpty': False, 'second': 1705916905, 'depth1': [462]}\n"
     ]
    },
    {
     "name": "stderr",
     "output_type": "stream",
     "text": [
      "0: 640x640 (no detections), 460.2ms\n",
      "Speed: 25.8ms preprocess, 460.2ms inference, 10.2ms postprocess per image at shape (1, 3, 640, 640)\n",
      "\n"
     ]
    },
    {
     "name": "stdout",
     "output_type": "stream",
     "text": [
      "{'x_sort': [array([ 40, 254])], 'currentClass': 4, 'isEmpty': False, 'second': 1705916905, 'depth1': [462]}\n"
     ]
    },
    {
     "name": "stderr",
     "output_type": "stream",
     "text": [
      "0: 640x640 1 metal, 1 plastic, 236.7ms\n",
      "Speed: 13.9ms preprocess, 236.7ms inference, 10.4ms postprocess per image at shape (1, 3, 640, 640)\n",
      "\n"
     ]
    },
    {
     "name": "stdout",
     "output_type": "stream",
     "text": [
      "{'x_sort': [array([612, 243]), array([617, 316])], 'currentClass': 4, 'isEmpty': False, 'second': 1705916941, 'depth1': [437, 461]}\n"
     ]
    },
    {
     "name": "stderr",
     "output_type": "stream",
     "text": [
      "0: 640x640 2 metals, 2 papers, 1 plastic, 436.7ms\n",
      "Speed: 17.1ms preprocess, 436.7ms inference, 0.0ms postprocess per image at shape (1, 3, 640, 640)\n",
      "\n"
     ]
    },
    {
     "name": "stdout",
     "output_type": "stream",
     "text": [
      "{'x_sort': [array([585, 306]), array([595, 266]), array([595, 235]), array([599, 317]), array([613, 318])], 'currentClass': 2, 'isEmpty': False, 'second': 1705916941, 'depth1': [436, 457, 436, 460, 436]}\n"
     ]
    },
    {
     "name": "stderr",
     "output_type": "stream",
     "text": [
      "0: 640x640 3 metals, 1 plastic, 237.6ms\n",
      "Speed: 17.3ms preprocess, 237.6ms inference, 0.0ms postprocess per image at shape (1, 3, 640, 640)\n",
      "\n"
     ]
    },
    {
     "name": "stdout",
     "output_type": "stream",
     "text": [
      "{'x_sort': [array([533, 308]), array([562, 318]), array([569, 265]), array([574, 318])], 'currentClass': 2, 'isEmpty': False, 'second': 1705916941, 'depth1': [460, 434, 435, 434]}\n"
     ]
    },
    {
     "name": "stderr",
     "output_type": "stream",
     "text": [
      "0: 640x640 3 metals, 435.3ms\n",
      "Speed: 20.7ms preprocess, 435.3ms inference, 8.3ms postprocess per image at shape (1, 3, 640, 640)\n",
      "\n"
     ]
    },
    {
     "name": "stdout",
     "output_type": "stream",
     "text": [
      "{'x_sort': [array([526, 319]), array([538, 319]), array([552, 264])], 'currentClass': 2, 'isEmpty': False, 'second': 1705916942, 'depth1': [461, 433, 435]}\n"
     ]
    },
    {
     "name": "stderr",
     "output_type": "stream",
     "text": [
      "0: 640x640 2 metals, 236.4ms\n",
      "Speed: 11.3ms preprocess, 236.4ms inference, 0.0ms postprocess per image at shape (1, 3, 640, 640)\n",
      "\n"
     ]
    },
    {
     "name": "stdout",
     "output_type": "stream",
     "text": [
      "{'x_sort': [array([483, 319]), array([502, 264])], 'currentClass': 2, 'isEmpty': False, 'second': 1705916942, 'depth1': [460, 434]}\n"
     ]
    },
    {
     "name": "stderr",
     "output_type": "stream",
     "text": [
      "0: 640x640 2 metals, 235.6ms\n",
      "Speed: 12.7ms preprocess, 235.6ms inference, 10.4ms postprocess per image at shape (1, 3, 640, 640)\n",
      "\n"
     ]
    },
    {
     "name": "stdout",
     "output_type": "stream",
     "text": [
      "{'x_sort': [array([451, 319]), array([473, 265])], 'currentClass': 2, 'isEmpty': False, 'second': 1705916943, 'depth1': [459, 433]}\n"
     ]
    },
    {
     "name": "stderr",
     "output_type": "stream",
     "text": [
      "0: 640x640 2 metals, 241.0ms\n",
      "Speed: 15.2ms preprocess, 241.0ms inference, 2.1ms postprocess per image at shape (1, 3, 640, 640)\n",
      "\n"
     ]
    },
    {
     "name": "stdout",
     "output_type": "stream",
     "text": [
      "{'x_sort': [array([411, 319]), array([445, 265])], 'currentClass': 2, 'isEmpty': False, 'second': 1705916943, 'depth1': [458, 433]}\n"
     ]
    },
    {
     "name": "stderr",
     "output_type": "stream",
     "text": [
      "0: 640x640 2 metals, 241.1ms\n",
      "Speed: 14.4ms preprocess, 241.1ms inference, 2.1ms postprocess per image at shape (1, 3, 640, 640)\n",
      "\n"
     ]
    },
    {
     "name": "stdout",
     "output_type": "stream",
     "text": [
      "{'x_sort': [array([382, 319]), array([413, 267])], 'currentClass': 2, 'isEmpty': False, 'second': 1705916943, 'depth1': [459, 436]}\n"
     ]
    },
    {
     "name": "stderr",
     "output_type": "stream",
     "text": [
      "0: 640x640 3 metals, 294.8ms\n",
      "Speed: 18.0ms preprocess, 294.8ms inference, 10.4ms postprocess per image at shape (1, 3, 640, 640)\n",
      "\n"
     ]
    },
    {
     "name": "stdout",
     "output_type": "stream",
     "text": [
      "{'x_sort': [array([342, 319]), array([349, 319]), array([383, 264])], 'currentClass': 2, 'isEmpty': False, 'second': 1705916944, 'depth1': [457, 432, 433]}\n"
     ]
    },
    {
     "name": "stderr",
     "output_type": "stream",
     "text": [
      "0: 640x640 2 metals, 466.9ms\n",
      "Speed: 24.3ms preprocess, 466.9ms inference, 2.0ms postprocess per image at shape (1, 3, 640, 640)\n",
      "\n"
     ]
    },
    {
     "name": "stdout",
     "output_type": "stream",
     "text": [
      "{'x_sort': [array([309, 319]), array([342, 264])], 'currentClass': 2, 'isEmpty': False, 'second': 1705916944, 'depth1': [455, 431]}\n"
     ]
    },
    {
     "name": "stderr",
     "output_type": "stream",
     "text": [
      "0: 640x640 2 metals, 242.5ms\n",
      "Speed: 12.0ms preprocess, 242.5ms inference, 2.1ms postprocess per image at shape (1, 3, 640, 640)\n",
      "\n"
     ]
    },
    {
     "name": "stdout",
     "output_type": "stream",
     "text": [
      "{'x_sort': [array([244, 319]), array([285, 266])], 'currentClass': 2, 'isEmpty': False, 'second': 1705916945, 'depth1': [455, 438]}\n"
     ]
    },
    {
     "name": "stderr",
     "output_type": "stream",
     "text": [
      "0: 640x640 3 metals, 243.5ms\n",
      "Speed: 18.8ms preprocess, 243.5ms inference, 6.0ms postprocess per image at shape (1, 3, 640, 640)\n",
      "\n"
     ]
    },
    {
     "name": "stdout",
     "output_type": "stream",
     "text": [
      "{'x_sort': [array([221, 320]), array([258, 268]), array([259, 265])], 'currentClass': 2, 'isEmpty': False, 'second': 1705916945, 'depth1': [430, 452, 453]}\n"
     ]
    },
    {
     "name": "stderr",
     "output_type": "stream",
     "text": [
      "0: 640x640 4 metals, 470.4ms\n",
      "Speed: 30.6ms preprocess, 470.4ms inference, 0.0ms postprocess per image at shape (1, 3, 640, 640)\n",
      "\n"
     ]
    },
    {
     "name": "stdout",
     "output_type": "stream",
     "text": [
      "{'x_sort': [array([158, 282]), array([160, 277]), array([183, 321]), array([224, 263])], 'currentClass': 2, 'isEmpty': True, 'second': 1705916946, 'depth1': [434, 452, 452, 456]}\n",
      "meme\n",
      "{FRAME: X 207.600891, Y -8.28712463, Z 486.08136, A -135.306152, B -0.0378621183, C -179.961731}\n",
      "{FRAME: X 50.0, Y 900.0, Z 300.0, A 0.0, B 0.0, C 180.0}\n",
      "{FRAME: X 50.0, Y 900.0, Z 300.0, A 0.0, B 0.0, C 180.0}\n"
     ]
    },
    {
     "name": "stderr",
     "output_type": "stream",
     "text": [
      "0: 640x640 2 metals, 243.8ms\n",
      "Speed: 10.4ms preprocess, 243.8ms inference, 0.3ms postprocess per image at shape (1, 3, 640, 640)\n",
      "\n"
     ]
    },
    {
     "name": "stdout",
     "output_type": "stream",
     "text": [
      "{'x_sort': [array([120, 322]), array([175, 264])], 'currentClass': 2, 'isEmpty': True, 'second': 1705916946, 'depth1': [433, 459]}\n"
     ]
    },
    {
     "name": "stderr",
     "output_type": "stream",
     "text": [
      "0: 640x640 1 metal, 1 plastic, 413.6ms\n",
      "Speed: 10.1ms preprocess, 413.6ms inference, 2.4ms postprocess per image at shape (1, 3, 640, 640)\n",
      "\n"
     ]
    },
    {
     "name": "stdout",
     "output_type": "stream",
     "text": [
      "{'x_sort': [array([ 90, 323]), array([145, 264])], 'currentClass': 4, 'isEmpty': True, 'second': 1705916946, 'depth1': [457, 435]}\n"
     ]
    },
    {
     "name": "stderr",
     "output_type": "stream",
     "text": [
      "0: 640x640 1 trash, 235.3ms\n",
      "Speed: 12.3ms preprocess, 235.3ms inference, 7.1ms postprocess per image at shape (1, 3, 640, 640)\n",
      "\n"
     ]
    },
    {
     "name": "stdout",
     "output_type": "stream",
     "text": [
      "{'x_sort': [array([ 94, 269])], 'currentClass': 5, 'isEmpty': True, 'second': 1705916947, 'depth1': [455]}\n"
     ]
    },
    {
     "name": "stderr",
     "output_type": "stream",
     "text": [
      "0: 640x640 2 trashs, 246.0ms\n",
      "Speed: 8.7ms preprocess, 246.0ms inference, 3.0ms postprocess per image at shape (1, 3, 640, 640)\n",
      "\n"
     ]
    },
    {
     "name": "stdout",
     "output_type": "stream",
     "text": [
      "{'x_sort': [array([ 23, 324]), array([ 76, 269])], 'currentClass': 5, 'isEmpty': True, 'second': 1705916947, 'depth1': [461, 434]}\n"
     ]
    },
    {
     "name": "stderr",
     "output_type": "stream",
     "text": [
      "0: 640x640 3 plastics, 242.5ms\n",
      "Speed: 18.2ms preprocess, 242.5ms inference, 5.3ms postprocess per image at shape (1, 3, 640, 640)\n",
      "\n"
     ]
    },
    {
     "name": "stdout",
     "output_type": "stream",
     "text": [
      "{'x_sort': [array([ 21, 325]), array([ 33, 325]), array([ 63, 268])], 'currentClass': 4, 'isEmpty': True, 'second': 1705916947, 'depth1': [453, 433, 439]}\n",
      "{FRAME: X 207.600891, Y -8.28712463, Z 486.08136, A -135.306152, B -0.0378621183, C -179.961731}\n",
      "{FRAME: X 47.89473684210526, Y 900.0, Z 16.0, A 0.0, B 0.0, C 180.0}\n"
     ]
    },
    {
     "name": "stderr",
     "output_type": "stream",
     "text": [
      "0: 640x640 2 glasss, 1 plastic, 389.4ms\n",
      "Speed: 29.8ms preprocess, 389.4ms inference, 8.1ms postprocess per image at shape (1, 3, 640, 640)\n",
      "\n"
     ]
    },
    {
     "name": "stdout",
     "output_type": "stream",
     "text": [
      "{'x_sort': [array([ 19, 328]), array([ 45, 221]), array([ 46, 305])], 'currentClass': 4, 'isEmpty': True, 'second': 1705916948, 'depth1': [432, 458, 458]}\n"
     ]
    },
    {
     "name": "stderr",
     "output_type": "stream",
     "text": [
      "0: 640x640 4 metals, 408.0ms\n",
      "Speed: 18.4ms preprocess, 408.0ms inference, 0.0ms postprocess per image at shape (1, 3, 640, 640)\n",
      "\n"
     ]
    },
    {
     "name": "stdout",
     "output_type": "stream",
     "text": [
      "{'x_sort': [array([ 11, 226]), array([ 21, 289]), array([ 22, 271]), array([ 22, 258])], 'currentClass': 2, 'isEmpty': True, 'second': 1705916948, 'depth1': [442, 463, 460, 455]}\n"
     ]
    },
    {
     "name": "stderr",
     "output_type": "stream",
     "text": [
      "0: 640x640 (no detections), 245.0ms\n",
      "Speed: 13.9ms preprocess, 245.0ms inference, 0.0ms postprocess per image at shape (1, 3, 640, 640)\n",
      "\n"
     ]
    },
    {
     "name": "stdout",
     "output_type": "stream",
     "text": [
      "{'x_sort': [array([ 11, 226]), array([ 21, 289]), array([ 22, 271]), array([ 22, 258])], 'currentClass': 2, 'isEmpty': False, 'second': 1705916948, 'depth1': [442, 463, 460, 455]}\n"
     ]
    },
    {
     "name": "stderr",
     "output_type": "stream",
     "text": [
      "0: 640x640 (no detections), 247.1ms\n",
      "Speed: 21.2ms preprocess, 247.1ms inference, 3.0ms postprocess per image at shape (1, 3, 640, 640)\n",
      "\n"
     ]
    },
    {
     "name": "stdout",
     "output_type": "stream",
     "text": [
      "{'x_sort': [array([ 11, 226]), array([ 21, 289]), array([ 22, 271]), array([ 22, 258])], 'currentClass': 2, 'isEmpty': False, 'second': 1705916948, 'depth1': [442, 463, 460, 455]}\n"
     ]
    },
    {
     "name": "stderr",
     "output_type": "stream",
     "text": [
      "0: 640x640 (no detections), 412.8ms\n",
      "Speed: 27.6ms preprocess, 412.8ms inference, 0.0ms postprocess per image at shape (1, 3, 640, 640)\n",
      "\n"
     ]
    },
    {
     "name": "stdout",
     "output_type": "stream",
     "text": [
      "{'x_sort': [array([ 11, 226]), array([ 21, 289]), array([ 22, 271]), array([ 22, 258])], 'currentClass': 2, 'isEmpty': False, 'second': 1705916948, 'depth1': [442, 463, 460, 455]}\n"
     ]
    },
    {
     "name": "stderr",
     "output_type": "stream",
     "text": [
      "0: 640x640 (no detections), 242.5ms\n",
      "Speed: 12.3ms preprocess, 242.5ms inference, 2.0ms postprocess per image at shape (1, 3, 640, 640)\n",
      "\n"
     ]
    },
    {
     "name": "stdout",
     "output_type": "stream",
     "text": [
      "{'x_sort': [array([ 11, 226]), array([ 21, 289]), array([ 22, 271]), array([ 22, 258])], 'currentClass': 2, 'isEmpty': False, 'second': 1705916948, 'depth1': [442, 463, 460, 455]}\n"
     ]
    },
    {
     "name": "stderr",
     "output_type": "stream",
     "text": [
      "0: 640x640 (no detections), 331.9ms\n",
      "Speed: 13.0ms preprocess, 331.9ms inference, 10.3ms postprocess per image at shape (1, 3, 640, 640)\n"
     ]
    },
    {
     "name": "stdout",
     "output_type": "stream",
     "text": [
      "on\n",
      "{'x_sort': [array([ 11, 226]), array([ 21, 289]), array([ 22, 271]), array([ 22, 258])], 'currentClass': 2, 'isEmpty': False, 'second': 1705916948, 'depth1': [442, 463, 460, 455]}\n"
     ]
    },
    {
     "name": "stderr",
     "output_type": "stream",
     "text": [
      "\n"
     ]
    },
    {
     "name": "stdout",
     "output_type": "stream",
     "text": [
      "0\n",
      "{FRAME: X 207.600891, Y -8.28712463, Z 486.08136, A -135.306152, B -0.0378621183, C -179.961731}\n",
      "{FRAME: X 47.89473684210526, Y 900.0, Z 200.0, A 0.0, B 0.0, C 180.0}\n",
      "{FRAME: X -200.0, Y 100.0, Z 150.0, A 90.0, B 0.0, C 180.0}\n"
     ]
    },
    {
     "name": "stderr",
     "output_type": "stream",
     "text": [
      "0: 640x640 (no detections), 377.5ms\n",
      "Speed: 23.3ms preprocess, 377.5ms inference, 3.0ms postprocess per image at shape (1, 3, 640, 640)\n",
      "\n"
     ]
    },
    {
     "name": "stdout",
     "output_type": "stream",
     "text": [
      "{'x_sort': [array([ 11, 226]), array([ 21, 289]), array([ 22, 271]), array([ 22, 258])], 'currentClass': 2, 'isEmpty': False, 'second': 1705916948, 'depth1': [442, 463, 460, 455]}\n"
     ]
    },
    {
     "name": "stderr",
     "output_type": "stream",
     "text": [
      "0: 640x640 (no detections), 242.4ms\n",
      "Speed: 14.0ms preprocess, 242.4ms inference, 0.0ms postprocess per image at shape (1, 3, 640, 640)\n",
      "\n"
     ]
    },
    {
     "name": "stdout",
     "output_type": "stream",
     "text": [
      "{'x_sort': [array([ 11, 226]), array([ 21, 289]), array([ 22, 271]), array([ 22, 258])], 'currentClass': 2, 'isEmpty': False, 'second': 1705916948, 'depth1': [442, 463, 460, 455]}\n"
     ]
    },
    {
     "name": "stderr",
     "output_type": "stream",
     "text": [
      "0: 640x640 (no detections), 332.8ms\n",
      "Speed: 13.9ms preprocess, 332.8ms inference, 2.1ms postprocess per image at shape (1, 3, 640, 640)\n",
      "\n"
     ]
    },
    {
     "name": "stdout",
     "output_type": "stream",
     "text": [
      "{'x_sort': [array([ 11, 226]), array([ 21, 289]), array([ 22, 271]), array([ 22, 258])], 'currentClass': 2, 'isEmpty': False, 'second': 1705916948, 'depth1': [442, 463, 460, 455]}\n"
     ]
    },
    {
     "name": "stderr",
     "output_type": "stream",
     "text": [
      "0: 640x640 (no detections), 372.0ms\n",
      "Speed: 25.1ms preprocess, 372.0ms inference, 6.7ms postprocess per image at shape (1, 3, 640, 640)\n",
      "\n"
     ]
    },
    {
     "name": "stdout",
     "output_type": "stream",
     "text": [
      "{'x_sort': [array([ 11, 226]), array([ 21, 289]), array([ 22, 271]), array([ 22, 258])], 'currentClass': 2, 'isEmpty': False, 'second': 1705916948, 'depth1': [442, 463, 460, 455]}\n"
     ]
    },
    {
     "name": "stderr",
     "output_type": "stream",
     "text": [
      "0: 640x640 (no detections), 244.1ms\n",
      "Speed: 13.4ms preprocess, 244.1ms inference, 3.0ms postprocess per image at shape (1, 3, 640, 640)\n",
      "\n"
     ]
    },
    {
     "name": "stdout",
     "output_type": "stream",
     "text": [
      "{'x_sort': [array([ 11, 226]), array([ 21, 289]), array([ 22, 271]), array([ 22, 258])], 'currentClass': 2, 'isEmpty': False, 'second': 1705916948, 'depth1': [442, 463, 460, 455]}\n"
     ]
    },
    {
     "name": "stderr",
     "output_type": "stream",
     "text": [
      "0: 640x640 (no detections), 304.8ms\n",
      "Speed: 18.2ms preprocess, 304.8ms inference, 0.0ms postprocess per image at shape (1, 3, 640, 640)\n",
      "\n"
     ]
    },
    {
     "name": "stdout",
     "output_type": "stream",
     "text": [
      "{'x_sort': [array([ 11, 226]), array([ 21, 289]), array([ 22, 271]), array([ 22, 258])], 'currentClass': 2, 'isEmpty': False, 'second': 1705916948, 'depth1': [442, 463, 460, 455]}\n"
     ]
    },
    {
     "name": "stderr",
     "output_type": "stream",
     "text": [
      "0: 640x640 (no detections), 398.6ms\n",
      "Speed: 16.5ms preprocess, 398.6ms inference, 1.6ms postprocess per image at shape (1, 3, 640, 640)\n",
      "\n"
     ]
    },
    {
     "name": "stdout",
     "output_type": "stream",
     "text": [
      "{'x_sort': [array([ 11, 226]), array([ 21, 289]), array([ 22, 271]), array([ 22, 258])], 'currentClass': 2, 'isEmpty': False, 'second': 1705916948, 'depth1': [442, 463, 460, 455]}\n"
     ]
    },
    {
     "name": "stderr",
     "output_type": "stream",
     "text": [
      "0: 640x640 (no detections), 244.3ms\n",
      "Speed: 17.5ms preprocess, 244.3ms inference, 4.2ms postprocess per image at shape (1, 3, 640, 640)\n",
      "\n"
     ]
    },
    {
     "name": "stdout",
     "output_type": "stream",
     "text": [
      "{'x_sort': [array([ 11, 226]), array([ 21, 289]), array([ 22, 271]), array([ 22, 258])], 'currentClass': 2, 'isEmpty': False, 'second': 1705916948, 'depth1': [442, 463, 460, 455]}\n"
     ]
    },
    {
     "name": "stderr",
     "output_type": "stream",
     "text": [
      "0: 640x640 (no detections), 285.1ms\n",
      "Speed: 21.0ms preprocess, 285.1ms inference, 0.0ms postprocess per image at shape (1, 3, 640, 640)\n",
      "\n"
     ]
    },
    {
     "name": "stdout",
     "output_type": "stream",
     "text": [
      "{'x_sort': [array([ 11, 226]), array([ 21, 289]), array([ 22, 271]), array([ 22, 258])], 'currentClass': 2, 'isEmpty': False, 'second': 1705916948, 'depth1': [442, 463, 460, 455]}\n"
     ]
    },
    {
     "name": "stderr",
     "output_type": "stream",
     "text": [
      "0: 640x640 (no detections), 387.4ms\n",
      "Speed: 25.6ms preprocess, 387.4ms inference, 0.0ms postprocess per image at shape (1, 3, 640, 640)\n",
      "\n"
     ]
    },
    {
     "name": "stdout",
     "output_type": "stream",
     "text": [
      "{'x_sort': [array([ 11, 226]), array([ 21, 289]), array([ 22, 271]), array([ 22, 258])], 'currentClass': 2, 'isEmpty': False, 'second': 1705916948, 'depth1': [442, 463, 460, 455]}\n"
     ]
    },
    {
     "name": "stderr",
     "output_type": "stream",
     "text": [
      "0: 640x640 (no detections), 240.1ms\n",
      "Speed: 16.2ms preprocess, 240.1ms inference, 0.0ms postprocess per image at shape (1, 3, 640, 640)\n",
      "\n"
     ]
    },
    {
     "name": "stdout",
     "output_type": "stream",
     "text": [
      "{'x_sort': [array([ 11, 226]), array([ 21, 289]), array([ 22, 271]), array([ 22, 258])], 'currentClass': 2, 'isEmpty': False, 'second': 1705916948, 'depth1': [442, 463, 460, 455]}\n"
     ]
    },
    {
     "name": "stderr",
     "output_type": "stream",
     "text": [
      "0: 640x640 (no detections), 251.7ms\n",
      "Speed: 21.3ms preprocess, 251.7ms inference, 5.6ms postprocess per image at shape (1, 3, 640, 640)\n",
      "\n"
     ]
    },
    {
     "name": "stdout",
     "output_type": "stream",
     "text": [
      "{'x_sort': [array([ 11, 226]), array([ 21, 289]), array([ 22, 271]), array([ 22, 258])], 'currentClass': 2, 'isEmpty': False, 'second': 1705916948, 'depth1': [442, 463, 460, 455]}\n"
     ]
    },
    {
     "name": "stderr",
     "output_type": "stream",
     "text": [
      "0: 640x640 (no detections), 397.0ms\n",
      "Speed: 36.3ms preprocess, 397.0ms inference, 2.1ms postprocess per image at shape (1, 3, 640, 640)\n",
      "\n"
     ]
    },
    {
     "name": "stdout",
     "output_type": "stream",
     "text": [
      "{'x_sort': [array([ 11, 226]), array([ 21, 289]), array([ 22, 271]), array([ 22, 258])], 'currentClass': 2, 'isEmpty': False, 'second': 1705916948, 'depth1': [442, 463, 460, 455]}\n"
     ]
    },
    {
     "name": "stderr",
     "output_type": "stream",
     "text": [
      "0: 640x640 (no detections), 244.5ms\n",
      "Speed: 15.1ms preprocess, 244.5ms inference, 0.0ms postprocess per image at shape (1, 3, 640, 640)\n",
      "\n"
     ]
    },
    {
     "name": "stdout",
     "output_type": "stream",
     "text": [
      "{'x_sort': [array([ 11, 226]), array([ 21, 289]), array([ 22, 271]), array([ 22, 258])], 'currentClass': 2, 'isEmpty': False, 'second': 1705916948, 'depth1': [442, 463, 460, 455]}\n"
     ]
    },
    {
     "name": "stderr",
     "output_type": "stream",
     "text": [
      "0: 640x640 (no detections), 369.6ms\n",
      "Speed: 22.2ms preprocess, 369.6ms inference, 2.1ms postprocess per image at shape (1, 3, 640, 640)\n",
      "\n"
     ]
    },
    {
     "name": "stdout",
     "output_type": "stream",
     "text": [
      "{'x_sort': [array([ 11, 226]), array([ 21, 289]), array([ 22, 271]), array([ 22, 258])], 'currentClass': 2, 'isEmpty': False, 'second': 1705916948, 'depth1': [442, 463, 460, 455]}\n"
     ]
    },
    {
     "name": "stderr",
     "output_type": "stream",
     "text": [
      "0: 640x640 (no detections), 465.3ms\n",
      "Speed: 33.0ms preprocess, 465.3ms inference, 8.1ms postprocess per image at shape (1, 3, 640, 640)\n",
      "\n"
     ]
    },
    {
     "name": "stdout",
     "output_type": "stream",
     "text": [
      "{'x_sort': [array([ 11, 226]), array([ 21, 289]), array([ 22, 271]), array([ 22, 258])], 'currentClass': 2, 'isEmpty': False, 'second': 1705916948, 'depth1': [442, 463, 460, 455]}\n"
     ]
    },
    {
     "name": "stderr",
     "output_type": "stream",
     "text": [
      "0: 640x640 (no detections), 244.7ms\n",
      "Speed: 19.8ms preprocess, 244.7ms inference, 0.0ms postprocess per image at shape (1, 3, 640, 640)\n",
      "\n"
     ]
    },
    {
     "name": "stdout",
     "output_type": "stream",
     "text": [
      "{'x_sort': [array([ 11, 226]), array([ 21, 289]), array([ 22, 271]), array([ 22, 258])], 'currentClass': 2, 'isEmpty': False, 'second': 1705916948, 'depth1': [442, 463, 460, 455]}\n"
     ]
    },
    {
     "name": "stderr",
     "output_type": "stream",
     "text": [
      "0: 640x640 (no detections), 388.4ms\n",
      "Speed: 26.5ms preprocess, 388.4ms inference, 10.2ms postprocess per image at shape (1, 3, 640, 640)\n",
      "\n"
     ]
    },
    {
     "name": "stdout",
     "output_type": "stream",
     "text": [
      "{'x_sort': [array([ 11, 226]), array([ 21, 289]), array([ 22, 271]), array([ 22, 258])], 'currentClass': 2, 'isEmpty': False, 'second': 1705916948, 'depth1': [442, 463, 460, 455]}\n"
     ]
    },
    {
     "name": "stderr",
     "output_type": "stream",
     "text": [
      "0: 640x640 (no detections), 239.4ms\n",
      "Speed: 12.0ms preprocess, 239.4ms inference, 0.0ms postprocess per image at shape (1, 3, 640, 640)\n",
      "\n"
     ]
    },
    {
     "name": "stdout",
     "output_type": "stream",
     "text": [
      "{'x_sort': [array([ 11, 226]), array([ 21, 289]), array([ 22, 271]), array([ 22, 258])], 'currentClass': 2, 'isEmpty': False, 'second': 1705916948, 'depth1': [442, 463, 460, 455]}\n"
     ]
    },
    {
     "name": "stderr",
     "output_type": "stream",
     "text": [
      "0: 640x640 (no detections), 261.0ms\n",
      "Speed: 12.1ms preprocess, 261.0ms inference, 2.1ms postprocess per image at shape (1, 3, 640, 640)\n",
      "\n"
     ]
    },
    {
     "name": "stdout",
     "output_type": "stream",
     "text": [
      "{'x_sort': [array([ 11, 226]), array([ 21, 289]), array([ 22, 271]), array([ 22, 258])], 'currentClass': 2, 'isEmpty': False, 'second': 1705916948, 'depth1': [442, 463, 460, 455]}\n"
     ]
    },
    {
     "name": "stderr",
     "output_type": "stream",
     "text": [
      "0: 640x640 (no detections), 438.5ms\n",
      "Speed: 30.5ms preprocess, 438.5ms inference, 8.2ms postprocess per image at shape (1, 3, 640, 640)\n",
      "\n"
     ]
    },
    {
     "name": "stdout",
     "output_type": "stream",
     "text": [
      "{'x_sort': [array([ 11, 226]), array([ 21, 289]), array([ 22, 271]), array([ 22, 258])], 'currentClass': 2, 'isEmpty': False, 'second': 1705916948, 'depth1': [442, 463, 460, 455]}\n"
     ]
    },
    {
     "name": "stderr",
     "output_type": "stream",
     "text": [
      "0: 640x640 (no detections), 349.4ms\n",
      "Speed: 15.1ms preprocess, 349.4ms inference, 10.6ms postprocess per image at shape (1, 3, 640, 640)\n",
      "\n"
     ]
    },
    {
     "name": "stdout",
     "output_type": "stream",
     "text": [
      "{'x_sort': [array([ 11, 226]), array([ 21, 289]), array([ 22, 271]), array([ 22, 258])], 'currentClass': 2, 'isEmpty': False, 'second': 1705916948, 'depth1': [442, 463, 460, 455]}\n"
     ]
    },
    {
     "name": "stderr",
     "output_type": "stream",
     "text": [
      "0: 640x640 (no detections), 349.7ms\n",
      "Speed: 17.0ms preprocess, 349.7ms inference, 0.0ms postprocess per image at shape (1, 3, 640, 640)\n",
      "\n"
     ]
    },
    {
     "name": "stdout",
     "output_type": "stream",
     "text": [
      "{'x_sort': [array([ 11, 226]), array([ 21, 289]), array([ 22, 271]), array([ 22, 258])], 'currentClass': 2, 'isEmpty': False, 'second': 1705916948, 'depth1': [442, 463, 460, 455]}\n"
     ]
    },
    {
     "name": "stderr",
     "output_type": "stream",
     "text": [
      "0: 640x640 (no detections), 241.6ms\n",
      "Speed: 14.7ms preprocess, 241.6ms inference, 0.0ms postprocess per image at shape (1, 3, 640, 640)\n",
      "\n"
     ]
    },
    {
     "name": "stdout",
     "output_type": "stream",
     "text": [
      "{'x_sort': [array([ 11, 226]), array([ 21, 289]), array([ 22, 271]), array([ 22, 258])], 'currentClass': 2, 'isEmpty': False, 'second': 1705916948, 'depth1': [442, 463, 460, 455]}\n"
     ]
    },
    {
     "name": "stderr",
     "output_type": "stream",
     "text": [
      "0: 640x640 (no detections), 346.7ms\n",
      "Speed: 16.6ms preprocess, 346.7ms inference, 0.0ms postprocess per image at shape (1, 3, 640, 640)\n",
      "\n"
     ]
    },
    {
     "name": "stdout",
     "output_type": "stream",
     "text": [
      "{'x_sort': [array([ 11, 226]), array([ 21, 289]), array([ 22, 271]), array([ 22, 258])], 'currentClass': 2, 'isEmpty': False, 'second': 1705916948, 'depth1': [442, 463, 460, 455]}\n",
      "off\n",
      "{FRAME: X 207.600891, Y -8.28712463, Z 486.08136, A -135.306152, B -0.0378621183, C -179.961731}\n",
      "{FRAME: X 47.89473684210526, Y 900.0, Z 300.0, A 0.0, B 0.0, C 180.0}\n"
     ]
    },
    {
     "name": "stderr",
     "output_type": "stream",
     "text": [
      "0: 640x640 (no detections), 365.8ms\n",
      "Speed: 13.2ms preprocess, 365.8ms inference, 8.1ms postprocess per image at shape (1, 3, 640, 640)\n",
      "\n"
     ]
    },
    {
     "name": "stdout",
     "output_type": "stream",
     "text": [
      "{'x_sort': [array([ 11, 226]), array([ 21, 289]), array([ 22, 271]), array([ 22, 258])], 'currentClass': 2, 'isEmpty': False, 'second': 1705916948, 'depth1': [442, 463, 460, 455]}\n"
     ]
    },
    {
     "name": "stderr",
     "output_type": "stream",
     "text": [
      "0: 640x640 (no detections), 236.0ms\n",
      "Speed: 17.2ms preprocess, 236.0ms inference, 10.2ms postprocess per image at shape (1, 3, 640, 640)\n",
      "\n"
     ]
    },
    {
     "name": "stdout",
     "output_type": "stream",
     "text": [
      "{'x_sort': [array([ 11, 226]), array([ 21, 289]), array([ 22, 271]), array([ 22, 258])], 'currentClass': 2, 'isEmpty': False, 'second': 1705916948, 'depth1': [442, 463, 460, 455]}\n"
     ]
    },
    {
     "name": "stderr",
     "output_type": "stream",
     "text": [
      "0: 640x640 (no detections), 386.8ms\n",
      "Speed: 29.5ms preprocess, 386.8ms inference, 0.0ms postprocess per image at shape (1, 3, 640, 640)\n",
      "\n"
     ]
    },
    {
     "name": "stdout",
     "output_type": "stream",
     "text": [
      "{'x_sort': [array([ 11, 226]), array([ 21, 289]), array([ 22, 271]), array([ 22, 258])], 'currentClass': 2, 'isEmpty': False, 'second': 1705916948, 'depth1': [442, 463, 460, 455]}\n"
     ]
    },
    {
     "name": "stderr",
     "output_type": "stream",
     "text": [
      "0: 640x640 (no detections), 304.9ms\n",
      "Speed: 17.0ms preprocess, 304.9ms inference, 0.0ms postprocess per image at shape (1, 3, 640, 640)\n",
      "\n"
     ]
    },
    {
     "name": "stdout",
     "output_type": "stream",
     "text": [
      "{'x_sort': [array([ 11, 226]), array([ 21, 289]), array([ 22, 271]), array([ 22, 258])], 'currentClass': 2, 'isEmpty': False, 'second': 1705916948, 'depth1': [442, 463, 460, 455]}\n"
     ]
    },
    {
     "name": "stderr",
     "output_type": "stream",
     "text": [
      "0: 640x640 (no detections), 242.1ms\n",
      "Speed: 15.8ms preprocess, 242.1ms inference, 2.1ms postprocess per image at shape (1, 3, 640, 640)\n",
      "\n"
     ]
    },
    {
     "name": "stdout",
     "output_type": "stream",
     "text": [
      "{'x_sort': [array([ 11, 226]), array([ 21, 289]), array([ 22, 271]), array([ 22, 258])], 'currentClass': 2, 'isEmpty': False, 'second': 1705916948, 'depth1': [442, 463, 460, 455]}\n"
     ]
    },
    {
     "name": "stderr",
     "output_type": "stream",
     "text": [
      "0: 640x640 (no detections), 357.7ms\n",
      "Speed: 18.9ms preprocess, 357.7ms inference, 0.0ms postprocess per image at shape (1, 3, 640, 640)\n",
      "\n"
     ]
    },
    {
     "name": "stdout",
     "output_type": "stream",
     "text": [
      "{'x_sort': [array([ 11, 226]), array([ 21, 289]), array([ 22, 271]), array([ 22, 258])], 'currentClass': 2, 'isEmpty': False, 'second': 1705916948, 'depth1': [442, 463, 460, 455]}\n"
     ]
    },
    {
     "name": "stderr",
     "output_type": "stream",
     "text": [
      "0: 640x640 (no detections), 344.9ms\n",
      "Speed: 21.5ms preprocess, 344.9ms inference, 0.0ms postprocess per image at shape (1, 3, 640, 640)\n",
      "\n"
     ]
    },
    {
     "name": "stdout",
     "output_type": "stream",
     "text": [
      "{'x_sort': [array([ 11, 226]), array([ 21, 289]), array([ 22, 271]), array([ 22, 258])], 'currentClass': 2, 'isEmpty': False, 'second': 1705916948, 'depth1': [442, 463, 460, 455]}\n"
     ]
    },
    {
     "name": "stderr",
     "output_type": "stream",
     "text": [
      "0: 640x640 (no detections), 430.1ms\n",
      "Speed: 25.7ms preprocess, 430.1ms inference, 10.9ms postprocess per image at shape (1, 3, 640, 640)\n",
      "\n"
     ]
    },
    {
     "name": "stdout",
     "output_type": "stream",
     "text": [
      "{'x_sort': [array([ 11, 226]), array([ 21, 289]), array([ 22, 271]), array([ 22, 258])], 'currentClass': 2, 'isEmpty': False, 'second': 1705916948, 'depth1': [442, 463, 460, 455]}\n"
     ]
    },
    {
     "name": "stderr",
     "output_type": "stream",
     "text": [
      "0: 640x640 (no detections), 353.8ms\n",
      "Speed: 25.5ms preprocess, 353.8ms inference, 10.7ms postprocess per image at shape (1, 3, 640, 640)\n",
      "\n"
     ]
    },
    {
     "name": "stdout",
     "output_type": "stream",
     "text": [
      "{'x_sort': [array([ 11, 226]), array([ 21, 289]), array([ 22, 271]), array([ 22, 258])], 'currentClass': 2, 'isEmpty': False, 'second': 1705916948, 'depth1': [442, 463, 460, 455]}\n"
     ]
    },
    {
     "name": "stderr",
     "output_type": "stream",
     "text": [
      "0: 640x640 (no detections), 478.7ms\n",
      "Speed: 29.3ms preprocess, 478.7ms inference, 8.2ms postprocess per image at shape (1, 3, 640, 640)\n",
      "\n"
     ]
    },
    {
     "name": "stdout",
     "output_type": "stream",
     "text": [
      "{'x_sort': [array([ 11, 226]), array([ 21, 289]), array([ 22, 271]), array([ 22, 258])], 'currentClass': 2, 'isEmpty': False, 'second': 1705916948, 'depth1': [442, 463, 460, 455]}\n"
     ]
    },
    {
     "name": "stderr",
     "output_type": "stream",
     "text": [
      "0: 640x640 (no detections), 234.2ms\n",
      "Speed: 12.1ms preprocess, 234.2ms inference, 8.1ms postprocess per image at shape (1, 3, 640, 640)\n",
      "\n"
     ]
    },
    {
     "name": "stdout",
     "output_type": "stream",
     "text": [
      "{'x_sort': [array([ 11, 226]), array([ 21, 289]), array([ 22, 271]), array([ 22, 258])], 'currentClass': 2, 'isEmpty': False, 'second': 1705916948, 'depth1': [442, 463, 460, 455]}\n"
     ]
    },
    {
     "name": "stderr",
     "output_type": "stream",
     "text": [
      "0: 640x640 (no detections), 376.2ms\n",
      "Speed: 13.8ms preprocess, 376.2ms inference, 10.5ms postprocess per image at shape (1, 3, 640, 640)\n",
      "\n"
     ]
    },
    {
     "name": "stdout",
     "output_type": "stream",
     "text": [
      "{'x_sort': [array([ 11, 226]), array([ 21, 289]), array([ 22, 271]), array([ 22, 258])], 'currentClass': 2, 'isEmpty': False, 'second': 1705916948, 'depth1': [442, 463, 460, 455]}\n"
     ]
    },
    {
     "name": "stderr",
     "output_type": "stream",
     "text": [
      "0: 640x640 (no detections), 351.2ms\n",
      "Speed: 25.6ms preprocess, 351.2ms inference, 0.0ms postprocess per image at shape (1, 3, 640, 640)\n",
      "\n"
     ]
    },
    {
     "name": "stdout",
     "output_type": "stream",
     "text": [
      "{'x_sort': [array([ 11, 226]), array([ 21, 289]), array([ 22, 271]), array([ 22, 258])], 'currentClass': 2, 'isEmpty': False, 'second': 1705916948, 'depth1': [442, 463, 460, 455]}\n"
     ]
    },
    {
     "name": "stderr",
     "output_type": "stream",
     "text": [
      "0: 640x640 1 plastic, 241.2ms\n",
      "Speed: 13.8ms preprocess, 241.2ms inference, 2.1ms postprocess per image at shape (1, 3, 640, 640)\n",
      "\n"
     ]
    },
    {
     "name": "stdout",
     "output_type": "stream",
     "text": [
      "{'x_sort': [array([332, 206])], 'currentClass': 4, 'isEmpty': False, 'second': 1705916966, 'depth1': [467]}\n"
     ]
    },
    {
     "name": "stderr",
     "output_type": "stream",
     "text": [
      "0: 640x640 (no detections), 280.1ms\n",
      "Speed: 16.6ms preprocess, 280.1ms inference, 24.6ms postprocess per image at shape (1, 3, 640, 640)\n",
      "\n"
     ]
    },
    {
     "name": "stdout",
     "output_type": "stream",
     "text": [
      "{'x_sort': [array([332, 206])], 'currentClass': 4, 'isEmpty': False, 'second': 1705916966, 'depth1': [467]}\n"
     ]
    },
    {
     "name": "stderr",
     "output_type": "stream",
     "text": [
      "0: 640x640 (no detections), 449.5ms\n",
      "Speed: 19.4ms preprocess, 449.5ms inference, 0.0ms postprocess per image at shape (1, 3, 640, 640)\n",
      "\n"
     ]
    },
    {
     "name": "stdout",
     "output_type": "stream",
     "text": [
      "{'x_sort': [array([332, 206])], 'currentClass': 4, 'isEmpty': False, 'second': 1705916966, 'depth1': [467]}\n"
     ]
    },
    {
     "name": "stderr",
     "output_type": "stream",
     "text": [
      "0: 640x640 (no detections), 244.9ms\n",
      "Speed: 12.2ms preprocess, 244.9ms inference, 10.3ms postprocess per image at shape (1, 3, 640, 640)\n",
      "\n"
     ]
    },
    {
     "name": "stdout",
     "output_type": "stream",
     "text": [
      "{'x_sort': [array([332, 206])], 'currentClass': 4, 'isEmpty': False, 'second': 1705916966, 'depth1': [467]}\n"
     ]
    },
    {
     "name": "stderr",
     "output_type": "stream",
     "text": [
      "0: 640x640 (no detections), 298.8ms\n",
      "Speed: 21.3ms preprocess, 298.8ms inference, 8.3ms postprocess per image at shape (1, 3, 640, 640)\n",
      "\n"
     ]
    },
    {
     "name": "stdout",
     "output_type": "stream",
     "text": [
      "{'x_sort': [array([332, 206])], 'currentClass': 4, 'isEmpty': False, 'second': 1705916966, 'depth1': [467]}\n"
     ]
    },
    {
     "name": "stderr",
     "output_type": "stream",
     "text": [
      "0: 640x640 (no detections), 396.8ms\n",
      "Speed: 23.1ms preprocess, 396.8ms inference, 0.0ms postprocess per image at shape (1, 3, 640, 640)\n"
     ]
    },
    {
     "name": "stdout",
     "output_type": "stream",
     "text": [
      "{FRAME: X 207.600891, Y -8.28712463, Z 486.08136, A -135.306152, B -0.0378621183, C -179.961731}\n",
      "{FRAME: X 47.89473684210526, Y 900.0, Z 200.0, A 0.0, B 0.0, C 180.0}\n",
      "{FRAME: X 0.0, Y 100.0, Z 200.0, A 90.0, B 0.0, C 180.0}\n",
      "{FRAME: X 200.0, Y 100.0, Z 200.0, A 90.0, B 0.0, C 180.0}\n",
      "{'x_sort': [array([332, 206])], 'currentClass': 4, 'isEmpty': False, 'second': 1705916966, 'depth1': [467]}\n"
     ]
    },
    {
     "name": "stderr",
     "output_type": "stream",
     "text": [
      "\n",
      "0: 640x640 (no detections), 280.5ms\n",
      "Speed: 15.2ms preprocess, 280.5ms inference, 22.1ms postprocess per image at shape (1, 3, 640, 640)\n",
      "\n"
     ]
    },
    {
     "name": "stdout",
     "output_type": "stream",
     "text": [
      "{'x_sort': [array([332, 206])], 'currentClass': 4, 'isEmpty': False, 'second': 1705916966, 'depth1': [467]}\n"
     ]
    },
    {
     "name": "stderr",
     "output_type": "stream",
     "text": [
      "0: 640x640 (no detections), 450.4ms\n",
      "Speed: 34.6ms preprocess, 450.4ms inference, 2.1ms postprocess per image at shape (1, 3, 640, 640)\n",
      "\n"
     ]
    },
    {
     "name": "stdout",
     "output_type": "stream",
     "text": [
      "{'x_sort': [array([332, 206])], 'currentClass': 4, 'isEmpty': False, 'second': 1705916966, 'depth1': [467]}\n"
     ]
    },
    {
     "name": "stderr",
     "output_type": "stream",
     "text": [
      "0: 640x640 (no detections), 238.6ms\n",
      "Speed: 12.0ms preprocess, 238.6ms inference, 0.0ms postprocess per image at shape (1, 3, 640, 640)\n",
      "\n"
     ]
    },
    {
     "name": "stdout",
     "output_type": "stream",
     "text": [
      "{'x_sort': [array([332, 206])], 'currentClass': 4, 'isEmpty': False, 'second': 1705916966, 'depth1': [467]}\n"
     ]
    },
    {
     "name": "stderr",
     "output_type": "stream",
     "text": [
      "0: 640x640 (no detections), 463.2ms\n",
      "Speed: 22.2ms preprocess, 463.2ms inference, 2.1ms postprocess per image at shape (1, 3, 640, 640)\n",
      "\n"
     ]
    },
    {
     "name": "stdout",
     "output_type": "stream",
     "text": [
      "{'x_sort': [array([332, 206])], 'currentClass': 4, 'isEmpty': False, 'second': 1705916966, 'depth1': [467]}\n"
     ]
    },
    {
     "name": "stderr",
     "output_type": "stream",
     "text": [
      "0: 640x640 (no detections), 238.0ms\n",
      "Speed: 10.2ms preprocess, 238.0ms inference, 2.1ms postprocess per image at shape (1, 3, 640, 640)\n",
      "\n"
     ]
    },
    {
     "name": "stdout",
     "output_type": "stream",
     "text": [
      "{'x_sort': [array([332, 206])], 'currentClass': 4, 'isEmpty': False, 'second': 1705916966, 'depth1': [467]}\n"
     ]
    },
    {
     "name": "stderr",
     "output_type": "stream",
     "text": [
      "0: 640x640 (no detections), 460.4ms\n",
      "Speed: 37.8ms preprocess, 460.4ms inference, 0.0ms postprocess per image at shape (1, 3, 640, 640)\n",
      "\n"
     ]
    },
    {
     "name": "stdout",
     "output_type": "stream",
     "text": [
      "{'x_sort': [array([332, 206])], 'currentClass': 4, 'isEmpty': False, 'second': 1705916966, 'depth1': [467]}\n"
     ]
    },
    {
     "name": "stderr",
     "output_type": "stream",
     "text": [
      "0: 640x640 (no detections), 457.2ms\n",
      "Speed: 27.5ms preprocess, 457.2ms inference, 8.1ms postprocess per image at shape (1, 3, 640, 640)\n",
      "\n"
     ]
    },
    {
     "name": "stdout",
     "output_type": "stream",
     "text": [
      "{'x_sort': [array([332, 206])], 'currentClass': 4, 'isEmpty': False, 'second': 1705916966, 'depth1': [467]}\n"
     ]
    },
    {
     "name": "stderr",
     "output_type": "stream",
     "text": [
      "0: 640x640 (no detections), 239.7ms\n",
      "Speed: 14.2ms preprocess, 239.7ms inference, 0.0ms postprocess per image at shape (1, 3, 640, 640)\n",
      "\n"
     ]
    },
    {
     "name": "stdout",
     "output_type": "stream",
     "text": [
      "{'x_sort': [array([332, 206])], 'currentClass': 4, 'isEmpty': False, 'second': 1705916966, 'depth1': [467]}\n"
     ]
    },
    {
     "name": "stderr",
     "output_type": "stream",
     "text": [
      "0: 640x640 (no detections), 460.6ms\n",
      "Speed: 17.9ms preprocess, 460.6ms inference, 2.1ms postprocess per image at shape (1, 3, 640, 640)\n",
      "\n"
     ]
    },
    {
     "name": "stdout",
     "output_type": "stream",
     "text": [
      "{'x_sort': [array([332, 206])], 'currentClass': 4, 'isEmpty': False, 'second': 1705916966, 'depth1': [467]}\n"
     ]
    },
    {
     "name": "stderr",
     "output_type": "stream",
     "text": [
      "0: 640x640 (no detections), 234.3ms\n",
      "Speed: 11.1ms preprocess, 234.3ms inference, 8.2ms postprocess per image at shape (1, 3, 640, 640)\n",
      "\n"
     ]
    },
    {
     "name": "stdout",
     "output_type": "stream",
     "text": [
      "{'x_sort': [array([332, 206])], 'currentClass': 4, 'isEmpty': False, 'second': 1705916966, 'depth1': [467]}\n"
     ]
    },
    {
     "name": "stderr",
     "output_type": "stream",
     "text": [
      "0: 640x640 (no detections), 243.3ms\n",
      "Speed: 12.7ms preprocess, 243.3ms inference, 0.0ms postprocess per image at shape (1, 3, 640, 640)\n",
      "\n"
     ]
    },
    {
     "name": "stdout",
     "output_type": "stream",
     "text": [
      "{'x_sort': [array([332, 206])], 'currentClass': 4, 'isEmpty': False, 'second': 1705916966, 'depth1': [467]}\n"
     ]
    },
    {
     "name": "stderr",
     "output_type": "stream",
     "text": [
      "0: 640x640 (no detections), 441.6ms\n",
      "Speed: 41.4ms preprocess, 441.6ms inference, 8.1ms postprocess per image at shape (1, 3, 640, 640)\n",
      "\n"
     ]
    },
    {
     "name": "stdout",
     "output_type": "stream",
     "text": [
      "{'x_sort': [array([332, 206])], 'currentClass': 4, 'isEmpty': False, 'second': 1705916966, 'depth1': [467]}\n"
     ]
    },
    {
     "name": "stderr",
     "output_type": "stream",
     "text": [
      "0: 640x640 (no detections), 239.6ms\n",
      "Speed: 13.0ms preprocess, 239.6ms inference, 0.0ms postprocess per image at shape (1, 3, 640, 640)\n",
      "\n"
     ]
    },
    {
     "name": "stdout",
     "output_type": "stream",
     "text": [
      "{'x_sort': [array([332, 206])], 'currentClass': 4, 'isEmpty': False, 'second': 1705916966, 'depth1': [467]}\n"
     ]
    },
    {
     "name": "stderr",
     "output_type": "stream",
     "text": [
      "0: 640x640 (no detections), 369.7ms\n",
      "Speed: 17.1ms preprocess, 369.7ms inference, 0.0ms postprocess per image at shape (1, 3, 640, 640)\n",
      "\n"
     ]
    },
    {
     "name": "stdout",
     "output_type": "stream",
     "text": [
      "{'x_sort': [array([332, 206])], 'currentClass': 4, 'isEmpty': False, 'second': 1705916966, 'depth1': [467]}\n"
     ]
    },
    {
     "name": "stderr",
     "output_type": "stream",
     "text": [
      "0: 640x640 (no detections), 258.4ms\n",
      "Speed: 15.8ms preprocess, 258.4ms inference, 2.1ms postprocess per image at shape (1, 3, 640, 640)\n",
      "\n"
     ]
    },
    {
     "name": "stdout",
     "output_type": "stream",
     "text": [
      "{'x_sort': [array([332, 206])], 'currentClass': 4, 'isEmpty': False, 'second': 1705916966, 'depth1': [467]}\n"
     ]
    },
    {
     "name": "stderr",
     "output_type": "stream",
     "text": [
      "0: 640x640 (no detections), 357.1ms\n",
      "Speed: 20.0ms preprocess, 357.1ms inference, 8.2ms postprocess per image at shape (1, 3, 640, 640)\n",
      "\n"
     ]
    },
    {
     "name": "stdout",
     "output_type": "stream",
     "text": [
      "{'x_sort': [array([332, 206])], 'currentClass': 4, 'isEmpty': False, 'second': 1705916966, 'depth1': [467]}\n"
     ]
    },
    {
     "name": "stderr",
     "output_type": "stream",
     "text": [
      "0: 640x640 (no detections), 235.3ms\n",
      "Speed: 13.5ms preprocess, 235.3ms inference, 10.2ms postprocess per image at shape (1, 3, 640, 640)\n",
      "\n"
     ]
    },
    {
     "name": "stdout",
     "output_type": "stream",
     "text": [
      "{'x_sort': [array([332, 206])], 'currentClass': 4, 'isEmpty': False, 'second': 1705916966, 'depth1': [467]}\n"
     ]
    },
    {
     "name": "stderr",
     "output_type": "stream",
     "text": [
      "0: 640x640 (no detections), 414.9ms\n",
      "Speed: 18.1ms preprocess, 414.9ms inference, 8.1ms postprocess per image at shape (1, 3, 640, 640)\n",
      "\n"
     ]
    },
    {
     "name": "stdout",
     "output_type": "stream",
     "text": [
      "{'x_sort': [array([332, 206])], 'currentClass': 4, 'isEmpty': False, 'second': 1705916966, 'depth1': [467]}\n"
     ]
    },
    {
     "name": "stderr",
     "output_type": "stream",
     "text": [
      "0: 640x640 (no detections), 234.5ms\n",
      "Speed: 12.6ms preprocess, 234.5ms inference, 8.2ms postprocess per image at shape (1, 3, 640, 640)\n",
      "\n"
     ]
    },
    {
     "name": "stdout",
     "output_type": "stream",
     "text": [
      "{'x_sort': [array([332, 206])], 'currentClass': 4, 'isEmpty': False, 'second': 1705916966, 'depth1': [467]}\n"
     ]
    },
    {
     "name": "stderr",
     "output_type": "stream",
     "text": [
      "0: 640x640 (no detections), 236.4ms\n",
      "Speed: 18.0ms preprocess, 236.4ms inference, 10.2ms postprocess per image at shape (1, 3, 640, 640)\n",
      "\n"
     ]
    },
    {
     "name": "stdout",
     "output_type": "stream",
     "text": [
      "{'x_sort': [array([332, 206])], 'currentClass': 4, 'isEmpty': False, 'second': 1705916966, 'depth1': [467]}\n"
     ]
    },
    {
     "name": "stderr",
     "output_type": "stream",
     "text": [
      "0: 640x640 (no detections), 456.2ms\n",
      "Speed: 24.4ms preprocess, 456.2ms inference, 8.1ms postprocess per image at shape (1, 3, 640, 640)\n",
      "\n"
     ]
    },
    {
     "name": "stdout",
     "output_type": "stream",
     "text": [
      "{'x_sort': [array([332, 206])], 'currentClass': 4, 'isEmpty': False, 'second': 1705916966, 'depth1': [467]}\n"
     ]
    },
    {
     "name": "stderr",
     "output_type": "stream",
     "text": [
      "0: 640x640 (no detections), 357.6ms\n",
      "Speed: 20.9ms preprocess, 357.6ms inference, 0.0ms postprocess per image at shape (1, 3, 640, 640)\n",
      "\n"
     ]
    },
    {
     "name": "stdout",
     "output_type": "stream",
     "text": [
      "{'x_sort': [array([332, 206])], 'currentClass': 4, 'isEmpty': False, 'second': 1705916966, 'depth1': [467]}\n"
     ]
    },
    {
     "name": "stderr",
     "output_type": "stream",
     "text": [
      "0: 640x640 (no detections), 359.2ms\n",
      "Speed: 19.2ms preprocess, 359.2ms inference, 0.0ms postprocess per image at shape (1, 3, 640, 640)\n",
      "\n"
     ]
    },
    {
     "name": "stdout",
     "output_type": "stream",
     "text": [
      "{'x_sort': [array([332, 206])], 'currentClass': 4, 'isEmpty': False, 'second': 1705916966, 'depth1': [467]}\n"
     ]
    },
    {
     "name": "stderr",
     "output_type": "stream",
     "text": [
      "0: 640x640 (no detections), 269.1ms\n",
      "Speed: 12.5ms preprocess, 269.1ms inference, 22.0ms postprocess per image at shape (1, 3, 640, 640)\n",
      "\n"
     ]
    },
    {
     "name": "stdout",
     "output_type": "stream",
     "text": [
      "{'x_sort': [array([332, 206])], 'currentClass': 4, 'isEmpty': False, 'second': 1705916966, 'depth1': [467]}\n"
     ]
    },
    {
     "name": "stderr",
     "output_type": "stream",
     "text": [
      "0: 640x640 (no detections), 368.2ms\n",
      "Speed: 28.5ms preprocess, 368.2ms inference, 2.1ms postprocess per image at shape (1, 3, 640, 640)\n",
      "\n"
     ]
    },
    {
     "name": "stdout",
     "output_type": "stream",
     "text": [
      "{'x_sort': [array([332, 206])], 'currentClass': 4, 'isEmpty': False, 'second': 1705916966, 'depth1': [467]}\n"
     ]
    },
    {
     "name": "stderr",
     "output_type": "stream",
     "text": [
      "0: 640x640 (no detections), 246.6ms\n",
      "Speed: 13.3ms preprocess, 246.6ms inference, 0.0ms postprocess per image at shape (1, 3, 640, 640)\n",
      "\n"
     ]
    },
    {
     "name": "stdout",
     "output_type": "stream",
     "text": [
      "{'x_sort': [array([332, 206])], 'currentClass': 4, 'isEmpty': False, 'second': 1705916966, 'depth1': [467]}\n"
     ]
    },
    {
     "name": "stderr",
     "output_type": "stream",
     "text": [
      "0: 640x640 (no detections), 288.4ms\n",
      "Speed: 16.8ms preprocess, 288.4ms inference, 2.1ms postprocess per image at shape (1, 3, 640, 640)\n",
      "\n"
     ]
    },
    {
     "name": "stdout",
     "output_type": "stream",
     "text": [
      "{'x_sort': [array([332, 206])], 'currentClass': 4, 'isEmpty': False, 'second': 1705916966, 'depth1': [467]}\n"
     ]
    },
    {
     "name": "stderr",
     "output_type": "stream",
     "text": [
      "0: 640x640 (no detections), 395.7ms\n",
      "Speed: 14.1ms preprocess, 395.7ms inference, 0.0ms postprocess per image at shape (1, 3, 640, 640)\n",
      "\n"
     ]
    },
    {
     "name": "stdout",
     "output_type": "stream",
     "text": [
      "off\n",
      "{FRAME: X 207.600891, Y -8.28712463, Z 486.08136, A -135.306152, B -0.0378621183, C -179.961731}\n",
      "{FRAME: X 0.0, Y 100.0, Z 200.0, A 90.0, B 0.0, C 180.0}\n",
      "{'x_sort': [array([332, 206])], 'currentClass': 4, 'isEmpty': False, 'second': 1705916966, 'depth1': [467]}\n",
      "{FRAME: X 47.89473684210526, Y 900.0, Z 300.0, A 0.0, B 0.0, C 180.0}\n"
     ]
    },
    {
     "name": "stderr",
     "output_type": "stream",
     "text": [
      "0: 640x640 (no detections), 337.8ms\n",
      "Speed: 13.2ms preprocess, 337.8ms inference, 8.0ms postprocess per image at shape (1, 3, 640, 640)\n",
      "\n"
     ]
    },
    {
     "name": "stdout",
     "output_type": "stream",
     "text": [
      "{'x_sort': [array([332, 206])], 'currentClass': 4, 'isEmpty': False, 'second': 1705916966, 'depth1': [467]}\n"
     ]
    },
    {
     "name": "stderr",
     "output_type": "stream",
     "text": [
      "0: 640x640 (no detections), 365.7ms\n",
      "Speed: 13.0ms preprocess, 365.7ms inference, 0.0ms postprocess per image at shape (1, 3, 640, 640)\n",
      "\n"
     ]
    },
    {
     "name": "stdout",
     "output_type": "stream",
     "text": [
      "{'x_sort': [array([332, 206])], 'currentClass': 4, 'isEmpty': False, 'second': 1705916966, 'depth1': [467]}\n"
     ]
    },
    {
     "name": "stderr",
     "output_type": "stream",
     "text": [
      "0: 640x640 (no detections), 398.9ms\n",
      "Speed: 17.0ms preprocess, 398.9ms inference, 0.0ms postprocess per image at shape (1, 3, 640, 640)\n",
      "\n"
     ]
    },
    {
     "name": "stdout",
     "output_type": "stream",
     "text": [
      "{'x_sort': [array([332, 206])], 'currentClass': 4, 'isEmpty': False, 'second': 1705916966, 'depth1': [467]}\n"
     ]
    },
    {
     "name": "stderr",
     "output_type": "stream",
     "text": [
      "0: 640x640 (no detections), 428.0ms\n",
      "Speed: 12.9ms preprocess, 428.0ms inference, 0.0ms postprocess per image at shape (1, 3, 640, 640)\n",
      "\n"
     ]
    },
    {
     "name": "stdout",
     "output_type": "stream",
     "text": [
      "{'x_sort': [array([332, 206])], 'currentClass': 4, 'isEmpty': False, 'second': 1705916966, 'depth1': [467]}\n"
     ]
    },
    {
     "name": "stderr",
     "output_type": "stream",
     "text": [
      "0: 640x640 (no detections), 395.7ms\n",
      "Speed: 27.9ms preprocess, 395.7ms inference, 2.1ms postprocess per image at shape (1, 3, 640, 640)\n",
      "\n"
     ]
    },
    {
     "name": "stdout",
     "output_type": "stream",
     "text": [
      "{'x_sort': [array([332, 206])], 'currentClass': 4, 'isEmpty': False, 'second': 1705916966, 'depth1': [467]}\n"
     ]
    },
    {
     "name": "stderr",
     "output_type": "stream",
     "text": [
      "0: 640x640 (no detections), 251.1ms\n",
      "Speed: 13.0ms preprocess, 251.1ms inference, 2.1ms postprocess per image at shape (1, 3, 640, 640)\n",
      "\n"
     ]
    },
    {
     "name": "stdout",
     "output_type": "stream",
     "text": [
      "{'x_sort': [array([332, 206])], 'currentClass': 4, 'isEmpty': False, 'second': 1705916966, 'depth1': [467]}\n"
     ]
    },
    {
     "name": "stderr",
     "output_type": "stream",
     "text": [
      "0: 640x640 (no detections), 398.0ms\n",
      "Speed: 28.3ms preprocess, 398.0ms inference, 0.0ms postprocess per image at shape (1, 3, 640, 640)\n",
      "\n"
     ]
    },
    {
     "name": "stdout",
     "output_type": "stream",
     "text": [
      "{'x_sort': [array([332, 206])], 'currentClass': 4, 'isEmpty': False, 'second': 1705916966, 'depth1': [467]}\n"
     ]
    },
    {
     "name": "stderr",
     "output_type": "stream",
     "text": [
      "0: 640x640 (no detections), 666.9ms\n",
      "Speed: 12.3ms preprocess, 666.9ms inference, 0.0ms postprocess per image at shape (1, 3, 640, 640)\n",
      "\n"
     ]
    },
    {
     "name": "stdout",
     "output_type": "stream",
     "text": [
      "{'x_sort': [array([332, 206])], 'currentClass': 4, 'isEmpty': False, 'second': 1705916966, 'depth1': [467]}\n"
     ]
    },
    {
     "name": "stderr",
     "output_type": "stream",
     "text": [
      "0: 640x640 (no detections), 250.4ms\n",
      "Speed: 14.5ms preprocess, 250.4ms inference, 0.0ms postprocess per image at shape (1, 3, 640, 640)\n",
      "\n"
     ]
    },
    {
     "name": "stdout",
     "output_type": "stream",
     "text": [
      "{'x_sort': [array([332, 206])], 'currentClass': 4, 'isEmpty': False, 'second': 1705916966, 'depth1': [467]}\n"
     ]
    },
    {
     "name": "stderr",
     "output_type": "stream",
     "text": [
      "0: 640x640 (no detections), 251.6ms\n",
      "Speed: 8.0ms preprocess, 251.6ms inference, 3.3ms postprocess per image at shape (1, 3, 640, 640)\n",
      "\n"
     ]
    },
    {
     "name": "stdout",
     "output_type": "stream",
     "text": [
      "{'x_sort': [array([332, 206])], 'currentClass': 4, 'isEmpty': False, 'second': 1705916966, 'depth1': [467]}\n"
     ]
    },
    {
     "name": "stderr",
     "output_type": "stream",
     "text": [
      "0: 640x640 (no detections), 287.0ms\n",
      "Speed: 17.0ms preprocess, 287.0ms inference, 2.1ms postprocess per image at shape (1, 3, 640, 640)\n",
      "\n"
     ]
    },
    {
     "name": "stdout",
     "output_type": "stream",
     "text": [
      "{'x_sort': [array([332, 206])], 'currentClass': 4, 'isEmpty': False, 'second': 1705916966, 'depth1': [467]}\n"
     ]
    },
    {
     "name": "stderr",
     "output_type": "stream",
     "text": [
      "0: 640x640 (no detections), 244.3ms\n",
      "Speed: 11.3ms preprocess, 244.3ms inference, 0.0ms postprocess per image at shape (1, 3, 640, 640)\n",
      "\n"
     ]
    },
    {
     "name": "stdout",
     "output_type": "stream",
     "text": [
      "{'x_sort': [array([332, 206])], 'currentClass': 4, 'isEmpty': False, 'second': 1705916966, 'depth1': [467]}\n"
     ]
    },
    {
     "name": "stderr",
     "output_type": "stream",
     "text": [
      "0: 640x640 (no detections), 403.3ms\n",
      "Speed: 28.0ms preprocess, 403.3ms inference, 10.2ms postprocess per image at shape (1, 3, 640, 640)\n",
      "\n"
     ]
    },
    {
     "name": "stdout",
     "output_type": "stream",
     "text": [
      "{'x_sort': [array([332, 206])], 'currentClass': 4, 'isEmpty': False, 'second': 1705916966, 'depth1': [467]}\n"
     ]
    },
    {
     "name": "stderr",
     "output_type": "stream",
     "text": [
      "0: 640x640 (no detections), 247.0ms\n",
      "Speed: 15.3ms preprocess, 247.0ms inference, 0.0ms postprocess per image at shape (1, 3, 640, 640)\n",
      "\n"
     ]
    },
    {
     "name": "stdout",
     "output_type": "stream",
     "text": [
      "{'x_sort': [array([332, 206])], 'currentClass': 4, 'isEmpty': False, 'second': 1705916966, 'depth1': [467]}\n"
     ]
    },
    {
     "name": "stderr",
     "output_type": "stream",
     "text": [
      "0: 640x640 (no detections), 357.8ms\n",
      "Speed: 30.2ms preprocess, 357.8ms inference, 10.4ms postprocess per image at shape (1, 3, 640, 640)\n",
      "\n"
     ]
    },
    {
     "name": "stdout",
     "output_type": "stream",
     "text": [
      "{'x_sort': [array([332, 206])], 'currentClass': 4, 'isEmpty': False, 'second': 1705916966, 'depth1': [467]}\n"
     ]
    },
    {
     "name": "stderr",
     "output_type": "stream",
     "text": [
      "0: 640x640 (no detections), 398.6ms\n",
      "Speed: 20.6ms preprocess, 398.6ms inference, 8.1ms postprocess per image at shape (1, 3, 640, 640)\n",
      "\n"
     ]
    },
    {
     "name": "stdout",
     "output_type": "stream",
     "text": [
      "{'x_sort': [array([332, 206])], 'currentClass': 4, 'isEmpty': False, 'second': 1705916966, 'depth1': [467]}\n"
     ]
    },
    {
     "name": "stderr",
     "output_type": "stream",
     "text": [
      "0: 640x640 (no detections), 262.5ms\n",
      "Speed: 12.6ms preprocess, 262.5ms inference, 10.5ms postprocess per image at shape (1, 3, 640, 640)\n",
      "\n"
     ]
    },
    {
     "name": "stdout",
     "output_type": "stream",
     "text": [
      "{'x_sort': [array([332, 206])], 'currentClass': 4, 'isEmpty': False, 'second': 1705916966, 'depth1': [467]}\n"
     ]
    },
    {
     "name": "stderr",
     "output_type": "stream",
     "text": [
      "0: 640x640 (no detections), 397.0ms\n",
      "Speed: 24.6ms preprocess, 397.0ms inference, 0.0ms postprocess per image at shape (1, 3, 640, 640)\n",
      "\n"
     ]
    },
    {
     "name": "stdout",
     "output_type": "stream",
     "text": [
      "{'x_sort': [array([332, 206])], 'currentClass': 4, 'isEmpty': False, 'second': 1705916966, 'depth1': [467]}\n"
     ]
    },
    {
     "name": "stderr",
     "output_type": "stream",
     "text": [
      "0: 640x640 (no detections), 256.3ms\n",
      "Speed: 12.6ms preprocess, 256.3ms inference, 4.0ms postprocess per image at shape (1, 3, 640, 640)\n",
      "\n"
     ]
    },
    {
     "name": "stdout",
     "output_type": "stream",
     "text": [
      "{'x_sort': [array([332, 206])], 'currentClass': 4, 'isEmpty': False, 'second': 1705916966, 'depth1': [467]}\n"
     ]
    },
    {
     "name": "stderr",
     "output_type": "stream",
     "text": [
      "0: 640x640 (no detections), 394.9ms\n",
      "Speed: 22.2ms preprocess, 394.9ms inference, 0.0ms postprocess per image at shape (1, 3, 640, 640)\n",
      "\n"
     ]
    },
    {
     "name": "stdout",
     "output_type": "stream",
     "text": [
      "{'x_sort': [array([332, 206])], 'currentClass': 4, 'isEmpty': False, 'second': 1705916966, 'depth1': [467]}\n"
     ]
    },
    {
     "name": "stderr",
     "output_type": "stream",
     "text": [
      "0: 640x640 (no detections), 236.1ms\n",
      "Speed: 15.4ms preprocess, 236.1ms inference, 0.0ms postprocess per image at shape (1, 3, 640, 640)\n",
      "\n"
     ]
    },
    {
     "name": "stdout",
     "output_type": "stream",
     "text": [
      "{'x_sort': [array([332, 206])], 'currentClass': 4, 'isEmpty': False, 'second': 1705916966, 'depth1': [467]}\n"
     ]
    },
    {
     "name": "stderr",
     "output_type": "stream",
     "text": [
      "0: 640x640 (no detections), 407.7ms\n",
      "Speed: 16.0ms preprocess, 407.7ms inference, 10.3ms postprocess per image at shape (1, 3, 640, 640)\n",
      "\n"
     ]
    },
    {
     "name": "stdout",
     "output_type": "stream",
     "text": [
      "{'x_sort': [array([332, 206])], 'currentClass': 4, 'isEmpty': False, 'second': 1705916966, 'depth1': [467]}\n"
     ]
    },
    {
     "name": "stderr",
     "output_type": "stream",
     "text": [
      "0: 640x640 (no detections), 439.0ms\n",
      "Speed: 34.1ms preprocess, 439.0ms inference, 0.0ms postprocess per image at shape (1, 3, 640, 640)\n",
      "\n"
     ]
    },
    {
     "name": "stdout",
     "output_type": "stream",
     "text": [
      "{'x_sort': [array([332, 206])], 'currentClass': 4, 'isEmpty': False, 'second': 1705916966, 'depth1': [467]}\n"
     ]
    },
    {
     "name": "stderr",
     "output_type": "stream",
     "text": [
      "0: 640x640 (no detections), 240.7ms\n",
      "Speed: 15.7ms preprocess, 240.7ms inference, 0.0ms postprocess per image at shape (1, 3, 640, 640)\n",
      "\n"
     ]
    },
    {
     "name": "stdout",
     "output_type": "stream",
     "text": [
      "{'x_sort': [array([332, 206])], 'currentClass': 4, 'isEmpty': False, 'second': 1705916966, 'depth1': [467]}\n"
     ]
    },
    {
     "name": "stderr",
     "output_type": "stream",
     "text": [
      "0: 640x640 (no detections), 245.4ms\n",
      "Speed: 20.6ms preprocess, 245.4ms inference, 10.2ms postprocess per image at shape (1, 3, 640, 640)\n",
      "\n"
     ]
    },
    {
     "name": "stdout",
     "output_type": "stream",
     "text": [
      "{'x_sort': [array([332, 206])], 'currentClass': 4, 'isEmpty': False, 'second': 1705916966, 'depth1': [467]}\n"
     ]
    },
    {
     "name": "stderr",
     "output_type": "stream",
     "text": [
      "0: 640x640 (no detections), 362.1ms\n",
      "Speed: 38.3ms preprocess, 362.1ms inference, 0.0ms postprocess per image at shape (1, 3, 640, 640)\n",
      "\n"
     ]
    },
    {
     "name": "stdout",
     "output_type": "stream",
     "text": [
      "{'x_sort': [array([332, 206])], 'currentClass': 4, 'isEmpty': False, 'second': 1705916966, 'depth1': [467]}\n"
     ]
    },
    {
     "name": "stderr",
     "output_type": "stream",
     "text": [
      "0: 640x640 (no detections), 239.0ms\n",
      "Speed: 12.9ms preprocess, 239.0ms inference, 0.0ms postprocess per image at shape (1, 3, 640, 640)\n",
      "\n"
     ]
    },
    {
     "name": "stdout",
     "output_type": "stream",
     "text": [
      "{'x_sort': [array([332, 206])], 'currentClass': 4, 'isEmpty': False, 'second': 1705916966, 'depth1': [467]}\n"
     ]
    },
    {
     "name": "stderr",
     "output_type": "stream",
     "text": [
      "0: 640x640 (no detections), 404.0ms\n",
      "Speed: 28.1ms preprocess, 404.0ms inference, 8.5ms postprocess per image at shape (1, 3, 640, 640)\n",
      "\n"
     ]
    },
    {
     "name": "stdout",
     "output_type": "stream",
     "text": [
      "{'x_sort': [array([332, 206])], 'currentClass': 4, 'isEmpty': False, 'second': 1705916966, 'depth1': [467]}\n"
     ]
    },
    {
     "name": "stderr",
     "output_type": "stream",
     "text": [
      "0: 640x640 (no detections), 386.4ms\n",
      "Speed: 26.6ms preprocess, 386.4ms inference, 2.1ms postprocess per image at shape (1, 3, 640, 640)\n",
      "\n"
     ]
    },
    {
     "name": "stdout",
     "output_type": "stream",
     "text": [
      "{'x_sort': [array([332, 206])], 'currentClass': 4, 'isEmpty': False, 'second': 1705916966, 'depth1': [467]}\n"
     ]
    },
    {
     "name": "stderr",
     "output_type": "stream",
     "text": [
      "0: 640x640 (no detections), 252.1ms\n",
      "Speed: 10.6ms preprocess, 252.1ms inference, 2.1ms postprocess per image at shape (1, 3, 640, 640)\n",
      "\n"
     ]
    },
    {
     "name": "stdout",
     "output_type": "stream",
     "text": [
      "{'x_sort': [array([332, 206])], 'currentClass': 4, 'isEmpty': False, 'second': 1705916966, 'depth1': [467]}\n"
     ]
    },
    {
     "name": "stderr",
     "output_type": "stream",
     "text": [
      "0: 640x640 (no detections), 410.2ms\n",
      "Speed: 25.6ms preprocess, 410.2ms inference, 0.0ms postprocess per image at shape (1, 3, 640, 640)\n",
      "\n"
     ]
    },
    {
     "name": "stdout",
     "output_type": "stream",
     "text": [
      "{'x_sort': [array([332, 206])], 'currentClass': 4, 'isEmpty': False, 'second': 1705916966, 'depth1': [467]}\n"
     ]
    },
    {
     "name": "stderr",
     "output_type": "stream",
     "text": [
      "0: 640x640 (no detections), 282.3ms\n",
      "Speed: 15.4ms preprocess, 282.3ms inference, 20.3ms postprocess per image at shape (1, 3, 640, 640)\n",
      "\n"
     ]
    },
    {
     "name": "stdout",
     "output_type": "stream",
     "text": [
      "{'x_sort': [array([332, 206])], 'currentClass': 4, 'isEmpty': False, 'second': 1705916966, 'depth1': [467]}\n"
     ]
    },
    {
     "name": "stderr",
     "output_type": "stream",
     "text": [
      "0: 640x640 (no detections), 340.1ms\n",
      "Speed: 21.0ms preprocess, 340.1ms inference, 0.0ms postprocess per image at shape (1, 3, 640, 640)\n",
      "\n"
     ]
    },
    {
     "name": "stdout",
     "output_type": "stream",
     "text": [
      "{'x_sort': [array([332, 206])], 'currentClass': 4, 'isEmpty': False, 'second': 1705916966, 'depth1': [467]}\n"
     ]
    },
    {
     "name": "stderr",
     "output_type": "stream",
     "text": [
      "0: 640x640 (no detections), 240.7ms\n",
      "Speed: 15.7ms preprocess, 240.7ms inference, 2.1ms postprocess per image at shape (1, 3, 640, 640)\n",
      "\n"
     ]
    },
    {
     "name": "stdout",
     "output_type": "stream",
     "text": [
      "{'x_sort': [array([332, 206])], 'currentClass': 4, 'isEmpty': False, 'second': 1705916966, 'depth1': [467]}\n"
     ]
    },
    {
     "name": "stderr",
     "output_type": "stream",
     "text": [
      "0: 640x640 (no detections), 476.9ms\n",
      "Speed: 19.4ms preprocess, 476.9ms inference, 2.2ms postprocess per image at shape (1, 3, 640, 640)\n",
      "\n"
     ]
    },
    {
     "name": "stdout",
     "output_type": "stream",
     "text": [
      "{'x_sort': [array([332, 206])], 'currentClass': 4, 'isEmpty': False, 'second': 1705916966, 'depth1': [467]}\n"
     ]
    },
    {
     "name": "stderr",
     "output_type": "stream",
     "text": [
      "0: 640x640 (no detections), 239.8ms\n",
      "Speed: 12.0ms preprocess, 239.8ms inference, 0.0ms postprocess per image at shape (1, 3, 640, 640)\n",
      "\n"
     ]
    },
    {
     "name": "stdout",
     "output_type": "stream",
     "text": [
      "{'x_sort': [array([332, 206])], 'currentClass': 4, 'isEmpty': False, 'second': 1705916966, 'depth1': [467]}\n"
     ]
    },
    {
     "name": "stderr",
     "output_type": "stream",
     "text": [
      "0: 640x640 (no detections), 357.8ms\n",
      "Speed: 10.3ms preprocess, 357.8ms inference, 10.4ms postprocess per image at shape (1, 3, 640, 640)\n",
      "\n"
     ]
    },
    {
     "name": "stdout",
     "output_type": "stream",
     "text": [
      "{'x_sort': [array([332, 206])], 'currentClass': 4, 'isEmpty': False, 'second': 1705916966, 'depth1': [467]}\n"
     ]
    },
    {
     "name": "stderr",
     "output_type": "stream",
     "text": [
      "0: 640x640 (no detections), 442.1ms\n",
      "Speed: 29.5ms preprocess, 442.1ms inference, 0.0ms postprocess per image at shape (1, 3, 640, 640)\n",
      "\n"
     ]
    },
    {
     "name": "stdout",
     "output_type": "stream",
     "text": [
      "{'x_sort': [array([332, 206])], 'currentClass': 4, 'isEmpty': False, 'second': 1705916966, 'depth1': [467]}\n"
     ]
    },
    {
     "name": "stderr",
     "output_type": "stream",
     "text": [
      "0: 640x640 (no detections), 247.9ms\n",
      "Speed: 17.6ms preprocess, 247.9ms inference, 10.2ms postprocess per image at shape (1, 3, 640, 640)\n",
      "\n"
     ]
    },
    {
     "name": "stdout",
     "output_type": "stream",
     "text": [
      "{'x_sort': [array([332, 206])], 'currentClass': 4, 'isEmpty': False, 'second': 1705916966, 'depth1': [467]}\n"
     ]
    },
    {
     "name": "stderr",
     "output_type": "stream",
     "text": [
      "0: 640x640 (no detections), 408.3ms\n",
      "Speed: 26.2ms preprocess, 408.3ms inference, 0.0ms postprocess per image at shape (1, 3, 640, 640)\n",
      "\n"
     ]
    },
    {
     "name": "stdout",
     "output_type": "stream",
     "text": [
      "{'x_sort': [array([332, 206])], 'currentClass': 4, 'isEmpty': False, 'second': 1705916966, 'depth1': [467]}\n"
     ]
    },
    {
     "name": "stderr",
     "output_type": "stream",
     "text": [
      "0: 640x640 (no detections), 240.5ms\n",
      "Speed: 13.3ms preprocess, 240.5ms inference, 2.7ms postprocess per image at shape (1, 3, 640, 640)\n",
      "\n"
     ]
    },
    {
     "name": "stdout",
     "output_type": "stream",
     "text": [
      "{'x_sort': [array([332, 206])], 'currentClass': 4, 'isEmpty': False, 'second': 1705916966, 'depth1': [467]}\n"
     ]
    },
    {
     "name": "stderr",
     "output_type": "stream",
     "text": [
      "0: 640x640 1 paper, 321.2ms\n",
      "Speed: 17.0ms preprocess, 321.2ms inference, 34.1ms postprocess per image at shape (1, 3, 640, 640)\n",
      "\n"
     ]
    },
    {
     "name": "stdout",
     "output_type": "stream",
     "text": [
      "{'x_sort': [array([583, 245])], 'currentClass': 3, 'isEmpty': False, 'second': 1705916999, 'depth1': [409]}\n"
     ]
    },
    {
     "name": "stderr",
     "output_type": "stream",
     "text": [
      "0: 640x640 1 metal, 344.5ms\n",
      "Speed: 23.7ms preprocess, 344.5ms inference, 0.0ms postprocess per image at shape (1, 3, 640, 640)\n",
      "\n"
     ]
    },
    {
     "name": "stdout",
     "output_type": "stream",
     "text": [
      "{'x_sort': [array([540, 245])], 'currentClass': 2, 'isEmpty': False, 'second': 1705916999, 'depth1': [412]}\n"
     ]
    },
    {
     "name": "stderr",
     "output_type": "stream",
     "text": [
      "0: 640x640 2 metals, 239.2ms\n",
      "Speed: 17.2ms preprocess, 239.2ms inference, 2.1ms postprocess per image at shape (1, 3, 640, 640)\n",
      "\n"
     ]
    },
    {
     "name": "stdout",
     "output_type": "stream",
     "text": [
      "{'x_sort': [array([488, 247]), array([526, 250])], 'currentClass': 2, 'isEmpty': False, 'second': 1705916999, 'depth1': [404, 417]}\n"
     ]
    },
    {
     "name": "stderr",
     "output_type": "stream",
     "text": [
      "0: 640x640 3 metals, 342.8ms\n",
      "Speed: 23.4ms preprocess, 342.8ms inference, 10.6ms postprocess per image at shape (1, 3, 640, 640)\n",
      "\n"
     ]
    },
    {
     "name": "stdout",
     "output_type": "stream",
     "text": [
      "{'x_sort': [array([455, 246]), array([463, 247]), array([496, 252])], 'currentClass': 2, 'isEmpty': False, 'second': 1705917000, 'depth1': [405, 412, 406]}\n"
     ]
    },
    {
     "name": "stderr",
     "output_type": "stream",
     "text": [
      "0: 640x640 2 glasss, 2 metals, 232.9ms\n",
      "Speed: 20.5ms preprocess, 232.9ms inference, 0.0ms postprocess per image at shape (1, 3, 640, 640)\n",
      "\n"
     ]
    },
    {
     "name": "stdout",
     "output_type": "stream",
     "text": [
      "{'x_sort': [array([405, 254]), array([411, 255]), array([436, 173]), array([441, 177])], 'currentClass': 2, 'isEmpty': False, 'second': 1705917000, 'depth1': [404, 0, 406, 0]}\n"
     ]
    },
    {
     "name": "stderr",
     "output_type": "stream",
     "text": [
      "0: 640x640 1 glass, 2 metals, 253.7ms\n",
      "Speed: 18.7ms preprocess, 253.7ms inference, 10.3ms postprocess per image at shape (1, 3, 640, 640)\n",
      "\n"
     ]
    },
    {
     "name": "stdout",
     "output_type": "stream",
     "text": [
      "{'x_sort': [array([381, 247]), array([396, 253]), array([412, 173])], 'currentClass': 1, 'isEmpty': False, 'second': 1705917000, 'depth1': [0, 408, 405]}\n"
     ]
    },
    {
     "name": "stderr",
     "output_type": "stream",
     "text": [
      "0: 640x640 2 metals, 238.9ms\n",
      "Speed: 17.0ms preprocess, 238.9ms inference, 0.0ms postprocess per image at shape (1, 3, 640, 640)\n",
      "\n"
     ]
    },
    {
     "name": "stdout",
     "output_type": "stream",
     "text": [
      "{'x_sort': [array([336, 251]), array([355, 255])], 'currentClass': 2, 'isEmpty': False, 'second': 1705917001, 'depth1': [411, 406]}\n"
     ]
    },
    {
     "name": "stderr",
     "output_type": "stream",
     "text": [
      "0: 640x640 7 glasss, 3 metals, 277.5ms\n",
      "Speed: 13.5ms preprocess, 277.5ms inference, 8.2ms postprocess per image at shape (1, 3, 640, 640)\n",
      "\n"
     ]
    },
    {
     "name": "stdout",
     "output_type": "stream",
     "text": [
      "{'x_sort': [array([308, 260]), array([310, 164]), array([312, 168]), array([324, 266]), array([330, 175]), array([341, 177]), array([342, 167]), array([343, 270]), array([349, 196]), array([352, 197])], 'currentClass': 1, 'isEmpty': False, 'second': 1705917001, 'depth1': [408, 409, 406, 407, 407, 410, 401, 411, 407, 412]}\n"
     ]
    },
    {
     "name": "stderr",
     "output_type": "stream",
     "text": [
      "0: 640x640 5 glasss, 1 metal, 377.3ms\n",
      "Speed: 19.1ms preprocess, 377.3ms inference, 8.2ms postprocess per image at shape (1, 3, 640, 640)\n",
      "\n"
     ]
    },
    {
     "name": "stdout",
     "output_type": "stream",
     "text": [
      "{'x_sort': [array([257, 157]), array([258, 162]), array([261, 169]), array([266, 272]), array([283, 186]), array([291, 178])], 'currentClass': 1, 'isEmpty': False, 'second': 1705917002, 'depth1': [0, 412, 406, 408, 402, 407]}\n"
     ]
    },
    {
     "name": "stderr",
     "output_type": "stream",
     "text": [
      "0: 640x640 4 glasss, 2 metals, 326.9ms\n",
      "Speed: 12.6ms preprocess, 326.9ms inference, 10.6ms postprocess per image at shape (1, 3, 640, 640)\n",
      "\n"
     ]
    },
    {
     "name": "stdout",
     "output_type": "stream",
     "text": [
      "{'x_sort': [array([228, 177]), array([237, 179]), array([248, 168]), array([250, 181]), array([253, 259]), array([253, 274])], 'currentClass': 1, 'isEmpty': False, 'second': 1705917002, 'depth1': [407, 410, 415, 407, 417, 408]}\n"
     ]
    },
    {
     "name": "stderr",
     "output_type": "stream",
     "text": [
      "0: 640x640 2 glasss, 1 metal, 460.8ms\n",
      "Speed: 18.6ms preprocess, 460.8ms inference, 0.0ms postprocess per image at shape (1, 3, 640, 640)\n",
      "\n"
     ]
    },
    {
     "name": "stdout",
     "output_type": "stream",
     "text": [
      "{'x_sort': [array([180, 183]), array([181, 253]), array([205, 189])], 'currentClass': 2, 'isEmpty': True, 'second': 1705917003, 'depth1': [409, 414, 404]}\n",
      "meme\n",
      "{FRAME: X 207.600891, Y -8.28712463, Z 486.08136, A -135.306152, B -0.0378621183, C -179.961731}\n",
      "{FRAME: X 50.0, Y 900.0, Z 300.0, A 0.0, B 0.0, C 180.0}\n",
      "{FRAME: X 50.0, Y 900.0, Z 300.0, A 0.0, B 0.0, C 180.0}\n"
     ]
    },
    {
     "name": "stderr",
     "output_type": "stream",
     "text": [
      "0: 640x640 1 metal, 234.4ms\n",
      "Speed: 10.7ms preprocess, 234.4ms inference, 0.0ms postprocess per image at shape (1, 3, 640, 640)\n",
      "\n"
     ]
    },
    {
     "name": "stdout",
     "output_type": "stream",
     "text": [
      "{'x_sort': [array([125, 252])], 'currentClass': 2, 'isEmpty': True, 'second': 1705917003, 'depth1': [412]}\n"
     ]
    },
    {
     "name": "stderr",
     "output_type": "stream",
     "text": [
      "0: 640x640 1 glass, 2 metals, 468.1ms\n",
      "Speed: 28.6ms preprocess, 468.1ms inference, 10.2ms postprocess per image at shape (1, 3, 640, 640)\n",
      "\n"
     ]
    },
    {
     "name": "stdout",
     "output_type": "stream",
     "text": [
      "{'x_sort': [array([ 96, 270]), array([ 97, 251]), array([105, 179])], 'currentClass': 2, 'isEmpty': True, 'second': 1705917004, 'depth1': [409, 412, 412]}\n"
     ]
    },
    {
     "name": "stderr",
     "output_type": "stream",
     "text": [
      "0: 640x640 6 metals, 245.3ms\n",
      "Speed: 12.5ms preprocess, 245.3ms inference, 8.1ms postprocess per image at shape (1, 3, 640, 640)\n",
      "\n"
     ]
    },
    {
     "name": "stdout",
     "output_type": "stream",
     "text": [
      "{'x_sort': [array([ 26, 268]), array([ 26, 271]), array([ 27, 242]), array([ 29, 216]), array([ 48, 275]), array([ 50, 251])], 'currentClass': 2, 'isEmpty': True, 'second': 1705917004, 'depth1': [413, 409, 405, 412, 405, 416]}\n"
     ]
    },
    {
     "name": "stderr",
     "output_type": "stream",
     "text": [
      "0: 640x640 1 metal, 2 trashs, 428.9ms\n",
      "Speed: 21.1ms preprocess, 428.9ms inference, 0.0ms postprocess per image at shape (1, 3, 640, 640)\n",
      "\n"
     ]
    },
    {
     "name": "stdout",
     "output_type": "stream",
     "text": [
      "{FRAME: X 207.600891, Y -8.28712463, Z 486.08136, A -135.306152, B -0.0378621183, C -179.961731}\n",
      "{FRAME: X -21.57894736842107, Y 900.0, Z 41.0, A 0.0, B 0.0, C 180.0}\n",
      "{'x_sort': [array([ 32, 285]), array([348, 206]), array([350, 213])], 'currentClass': 2, 'isEmpty': True, 'second': 1705917004, 'depth1': [415, 464, 464]}\n"
     ]
    },
    {
     "name": "stderr",
     "output_type": "stream",
     "text": [
      "0: 640x640 2 plastics, 236.9ms\n",
      "Speed: 10.8ms preprocess, 236.9ms inference, 10.5ms postprocess per image at shape (1, 3, 640, 640)\n",
      "\n"
     ]
    },
    {
     "name": "stdout",
     "output_type": "stream",
     "text": [
      "{'x_sort': [array([316, 250]), array([318, 200])], 'currentClass': 4, 'isEmpty': False, 'second': 1705917005, 'depth1': [465, 460]}\n"
     ]
    },
    {
     "name": "stderr",
     "output_type": "stream",
     "text": [
      "0: 640x640 1 plastic, 492.1ms\n",
      "Speed: 27.7ms preprocess, 492.1ms inference, 21.8ms postprocess per image at shape (1, 3, 640, 640)\n",
      "\n"
     ]
    },
    {
     "name": "stdout",
     "output_type": "stream",
     "text": [
      "{'x_sort': [array([305, 198])], 'currentClass': 4, 'isEmpty': False, 'second': 1705917005, 'depth1': [467]}\n"
     ]
    },
    {
     "name": "stderr",
     "output_type": "stream",
     "text": [
      "0: 640x640 (no detections), 434.4ms\n",
      "Speed: 43.0ms preprocess, 434.4ms inference, 8.2ms postprocess per image at shape (1, 3, 640, 640)\n",
      "\n"
     ]
    },
    {
     "name": "stdout",
     "output_type": "stream",
     "text": [
      "{'x_sort': [array([305, 198])], 'currentClass': 4, 'isEmpty': False, 'second': 1705917005, 'depth1': [467]}\n"
     ]
    },
    {
     "name": "stderr",
     "output_type": "stream",
     "text": [
      "0: 640x640 (no detections), 261.1ms\n",
      "Speed: 12.0ms preprocess, 261.1ms inference, 2.1ms postprocess per image at shape (1, 3, 640, 640)\n",
      "\n"
     ]
    },
    {
     "name": "stdout",
     "output_type": "stream",
     "text": [
      "{'x_sort': [array([305, 198])], 'currentClass': 4, 'isEmpty': False, 'second': 1705917005, 'depth1': [467]}\n"
     ]
    },
    {
     "name": "stderr",
     "output_type": "stream",
     "text": [
      "0: 640x640 (no detections), 457.6ms\n",
      "Speed: 26.3ms preprocess, 457.6ms inference, 2.1ms postprocess per image at shape (1, 3, 640, 640)\n",
      "\n"
     ]
    },
    {
     "name": "stdout",
     "output_type": "stream",
     "text": [
      "{'x_sort': [array([305, 198])], 'currentClass': 4, 'isEmpty': False, 'second': 1705917005, 'depth1': [467]}\n"
     ]
    },
    {
     "name": "stderr",
     "output_type": "stream",
     "text": [
      "0: 640x640 (no detections), 242.9ms\n",
      "Speed: 8.2ms preprocess, 242.9ms inference, 10.2ms postprocess per image at shape (1, 3, 640, 640)\n",
      "\n"
     ]
    },
    {
     "name": "stdout",
     "output_type": "stream",
     "text": [
      "{'x_sort': [array([305, 198])], 'currentClass': 4, 'isEmpty': False, 'second': 1705917005, 'depth1': [467]}\n"
     ]
    },
    {
     "name": "stderr",
     "output_type": "stream",
     "text": [
      "0: 640x640 (no detections), 434.5ms\n",
      "Speed: 52.7ms preprocess, 434.5ms inference, 2.1ms postprocess per image at shape (1, 3, 640, 640)\n",
      "\n"
     ]
    },
    {
     "name": "stdout",
     "output_type": "stream",
     "text": [
      "{'x_sort': [array([305, 198])], 'currentClass': 4, 'isEmpty': False, 'second': 1705917005, 'depth1': [467]}\n",
      "on\n",
      "-1\n",
      "{FRAME: X 207.600891, Y -8.28712463, Z 486.08136, A -135.306152, B -0.0378621183, C -179.961731}\n",
      "{FRAME: X -21.57894736842107, Y 900.0, Z 200.0, A 0.0, B 0.0, C 180.0}\n",
      "{FRAME: X -200.0, Y 100.0, Z 150.0, A 90.0, B 0.0, C 180.0}\n"
     ]
    },
    {
     "name": "stderr",
     "output_type": "stream",
     "text": [
      "0: 640x640 (no detections), 418.0ms\n",
      "Speed: 18.2ms preprocess, 418.0ms inference, 8.1ms postprocess per image at shape (1, 3, 640, 640)\n",
      "\n"
     ]
    },
    {
     "name": "stdout",
     "output_type": "stream",
     "text": [
      "{'x_sort': [array([305, 198])], 'currentClass': 4, 'isEmpty': False, 'second': 1705917005, 'depth1': [467]}\n"
     ]
    },
    {
     "name": "stderr",
     "output_type": "stream",
     "text": [
      "0: 640x640 (no detections), 253.6ms\n",
      "Speed: 12.1ms preprocess, 253.6ms inference, 8.1ms postprocess per image at shape (1, 3, 640, 640)\n",
      "\n"
     ]
    },
    {
     "name": "stdout",
     "output_type": "stream",
     "text": [
      "{'x_sort': [array([305, 198])], 'currentClass': 4, 'isEmpty': False, 'second': 1705917005, 'depth1': [467]}\n"
     ]
    },
    {
     "name": "stderr",
     "output_type": "stream",
     "text": [
      "0: 640x640 (no detections), 382.8ms\n",
      "Speed: 26.9ms preprocess, 382.8ms inference, 0.0ms postprocess per image at shape (1, 3, 640, 640)\n",
      "\n"
     ]
    },
    {
     "name": "stdout",
     "output_type": "stream",
     "text": [
      "{'x_sort': [array([305, 198])], 'currentClass': 4, 'isEmpty': False, 'second': 1705917005, 'depth1': [467]}\n"
     ]
    },
    {
     "name": "stderr",
     "output_type": "stream",
     "text": [
      "0: 640x640 (no detections), 249.3ms\n",
      "Speed: 15.6ms preprocess, 249.3ms inference, 0.0ms postprocess per image at shape (1, 3, 640, 640)\n",
      "\n"
     ]
    },
    {
     "name": "stdout",
     "output_type": "stream",
     "text": [
      "{'x_sort': [array([305, 198])], 'currentClass': 4, 'isEmpty': False, 'second': 1705917005, 'depth1': [467]}\n"
     ]
    },
    {
     "name": "stderr",
     "output_type": "stream",
     "text": [
      "0: 640x640 (no detections), 360.8ms\n",
      "Speed: 37.4ms preprocess, 360.8ms inference, 8.3ms postprocess per image at shape (1, 3, 640, 640)\n",
      "\n"
     ]
    },
    {
     "name": "stdout",
     "output_type": "stream",
     "text": [
      "{'x_sort': [array([305, 198])], 'currentClass': 4, 'isEmpty': False, 'second': 1705917005, 'depth1': [467]}\n"
     ]
    },
    {
     "name": "stderr",
     "output_type": "stream",
     "text": [
      "0: 640x640 (no detections), 394.6ms\n",
      "Speed: 23.5ms preprocess, 394.6ms inference, 0.0ms postprocess per image at shape (1, 3, 640, 640)\n",
      "\n"
     ]
    },
    {
     "name": "stdout",
     "output_type": "stream",
     "text": [
      "{'x_sort': [array([305, 198])], 'currentClass': 4, 'isEmpty': False, 'second': 1705917005, 'depth1': [467]}\n"
     ]
    },
    {
     "name": "stderr",
     "output_type": "stream",
     "text": [
      "0: 640x640 (no detections), 257.5ms\n",
      "Speed: 14.1ms preprocess, 257.5ms inference, 0.0ms postprocess per image at shape (1, 3, 640, 640)\n",
      "\n"
     ]
    },
    {
     "name": "stdout",
     "output_type": "stream",
     "text": [
      "{'x_sort': [array([305, 198])], 'currentClass': 4, 'isEmpty': False, 'second': 1705917005, 'depth1': [467]}\n"
     ]
    },
    {
     "name": "stderr",
     "output_type": "stream",
     "text": [
      "0: 640x640 (no detections), 459.0ms\n",
      "Speed: 32.3ms preprocess, 459.0ms inference, 0.0ms postprocess per image at shape (1, 3, 640, 640)\n",
      "\n"
     ]
    },
    {
     "name": "stdout",
     "output_type": "stream",
     "text": [
      "{'x_sort': [array([305, 198])], 'currentClass': 4, 'isEmpty': False, 'second': 1705917005, 'depth1': [467]}\n"
     ]
    },
    {
     "name": "stderr",
     "output_type": "stream",
     "text": [
      "0: 640x640 (no detections), 248.8ms\n",
      "Speed: 13.1ms preprocess, 248.8ms inference, 0.0ms postprocess per image at shape (1, 3, 640, 640)\n",
      "\n"
     ]
    },
    {
     "name": "stdout",
     "output_type": "stream",
     "text": [
      "{'x_sort': [array([305, 198])], 'currentClass': 4, 'isEmpty': False, 'second': 1705917005, 'depth1': [467]}\n"
     ]
    },
    {
     "name": "stderr",
     "output_type": "stream",
     "text": [
      "0: 640x640 (no detections), 405.5ms\n",
      "Speed: 25.1ms preprocess, 405.5ms inference, 0.0ms postprocess per image at shape (1, 3, 640, 640)\n",
      "\n"
     ]
    },
    {
     "name": "stdout",
     "output_type": "stream",
     "text": [
      "{'x_sort': [array([305, 198])], 'currentClass': 4, 'isEmpty': False, 'second': 1705917005, 'depth1': [467]}\n"
     ]
    },
    {
     "name": "stderr",
     "output_type": "stream",
     "text": [
      "0: 640x640 (no detections), 235.5ms\n",
      "Speed: 14.4ms preprocess, 235.5ms inference, 10.2ms postprocess per image at shape (1, 3, 640, 640)\n",
      "\n"
     ]
    },
    {
     "name": "stdout",
     "output_type": "stream",
     "text": [
      "{'x_sort': [array([305, 198])], 'currentClass': 4, 'isEmpty': False, 'second': 1705917005, 'depth1': [467]}\n"
     ]
    },
    {
     "name": "stderr",
     "output_type": "stream",
     "text": [
      "0: 640x640 (no detections), 439.2ms\n",
      "Speed: 29.7ms preprocess, 439.2ms inference, 0.0ms postprocess per image at shape (1, 3, 640, 640)\n",
      "\n"
     ]
    },
    {
     "name": "stdout",
     "output_type": "stream",
     "text": [
      "{'x_sort': [array([305, 198])], 'currentClass': 4, 'isEmpty': False, 'second': 1705917005, 'depth1': [467]}\n"
     ]
    },
    {
     "name": "stderr",
     "output_type": "stream",
     "text": [
      "0: 640x640 (no detections), 326.4ms\n",
      "Speed: 14.3ms preprocess, 326.4ms inference, 2.2ms postprocess per image at shape (1, 3, 640, 640)\n",
      "\n"
     ]
    },
    {
     "name": "stdout",
     "output_type": "stream",
     "text": [
      "{'x_sort': [array([305, 198])], 'currentClass': 4, 'isEmpty': False, 'second': 1705917005, 'depth1': [467]}\n"
     ]
    },
    {
     "name": "stderr",
     "output_type": "stream",
     "text": [
      "0: 640x640 (no detections), 358.6ms\n",
      "Speed: 21.4ms preprocess, 358.6ms inference, 8.1ms postprocess per image at shape (1, 3, 640, 640)\n",
      "\n"
     ]
    },
    {
     "name": "stdout",
     "output_type": "stream",
     "text": [
      "{'x_sort': [array([305, 198])], 'currentClass': 4, 'isEmpty': False, 'second': 1705917005, 'depth1': [467]}\n"
     ]
    },
    {
     "name": "stderr",
     "output_type": "stream",
     "text": [
      "0: 640x640 (no detections), 244.5ms\n",
      "Speed: 14.6ms preprocess, 244.5ms inference, 0.0ms postprocess per image at shape (1, 3, 640, 640)\n",
      "\n"
     ]
    },
    {
     "name": "stdout",
     "output_type": "stream",
     "text": [
      "{'x_sort': [array([305, 198])], 'currentClass': 4, 'isEmpty': False, 'second': 1705917005, 'depth1': [467]}\n"
     ]
    },
    {
     "name": "stderr",
     "output_type": "stream",
     "text": [
      "0: 640x640 (no detections), 355.1ms\n",
      "Speed: 34.8ms preprocess, 355.1ms inference, 2.1ms postprocess per image at shape (1, 3, 640, 640)\n",
      "\n"
     ]
    },
    {
     "name": "stdout",
     "output_type": "stream",
     "text": [
      "{'x_sort': [array([305, 198])], 'currentClass': 4, 'isEmpty': False, 'second': 1705917005, 'depth1': [467]}\n"
     ]
    },
    {
     "name": "stderr",
     "output_type": "stream",
     "text": [
      "0: 640x640 (no detections), 242.6ms\n",
      "Speed: 9.2ms preprocess, 242.6ms inference, 8.2ms postprocess per image at shape (1, 3, 640, 640)\n",
      "\n"
     ]
    },
    {
     "name": "stdout",
     "output_type": "stream",
     "text": [
      "{'x_sort': [array([305, 198])], 'currentClass': 4, 'isEmpty': False, 'second': 1705917005, 'depth1': [467]}\n"
     ]
    },
    {
     "name": "stderr",
     "output_type": "stream",
     "text": [
      "0: 640x640 (no detections), 394.7ms\n",
      "Speed: 29.7ms preprocess, 394.7ms inference, 8.2ms postprocess per image at shape (1, 3, 640, 640)\n",
      "\n"
     ]
    },
    {
     "name": "stdout",
     "output_type": "stream",
     "text": [
      "{'x_sort': [array([305, 198])], 'currentClass': 4, 'isEmpty': False, 'second': 1705917005, 'depth1': [467]}\n"
     ]
    },
    {
     "name": "stderr",
     "output_type": "stream",
     "text": [
      "0: 640x640 (no detections), 381.0ms\n",
      "Speed: 13.0ms preprocess, 381.0ms inference, 10.6ms postprocess per image at shape (1, 3, 640, 640)\n",
      "\n"
     ]
    },
    {
     "name": "stdout",
     "output_type": "stream",
     "text": [
      "{'x_sort': [array([305, 198])], 'currentClass': 4, 'isEmpty': False, 'second': 1705917005, 'depth1': [467]}\n"
     ]
    },
    {
     "name": "stderr",
     "output_type": "stream",
     "text": [
      "0: 640x640 (no detections), 446.9ms\n",
      "Speed: 23.3ms preprocess, 446.9ms inference, 0.0ms postprocess per image at shape (1, 3, 640, 640)\n",
      "\n"
     ]
    },
    {
     "name": "stdout",
     "output_type": "stream",
     "text": [
      "{'x_sort': [array([305, 198])], 'currentClass': 4, 'isEmpty': False, 'second': 1705917005, 'depth1': [467]}\n",
      "off\n",
      "{FRAME: X 207.600891, Y -8.28712463, Z 486.08136, A -135.306152, B -0.0378621183, C -179.961731}\n",
      "{FRAME: X -21.57894736842107, Y 900.0, Z 300.0, A 0.0, B 0.0, C 180.0}\n"
     ]
    },
    {
     "name": "stderr",
     "output_type": "stream",
     "text": [
      "0: 640x640 (no detections), 241.4ms\n",
      "Speed: 12.9ms preprocess, 241.4ms inference, 0.0ms postprocess per image at shape (1, 3, 640, 640)\n",
      "\n"
     ]
    },
    {
     "name": "stdout",
     "output_type": "stream",
     "text": [
      "{'x_sort': [array([305, 198])], 'currentClass': 4, 'isEmpty': False, 'second': 1705917005, 'depth1': [467]}\n"
     ]
    },
    {
     "name": "stderr",
     "output_type": "stream",
     "text": [
      "0: 640x640 (no detections), 338.6ms\n",
      "Speed: 23.0ms preprocess, 338.6ms inference, 10.6ms postprocess per image at shape (1, 3, 640, 640)\n",
      "\n"
     ]
    },
    {
     "name": "stdout",
     "output_type": "stream",
     "text": [
      "{'x_sort': [array([305, 198])], 'currentClass': 4, 'isEmpty': False, 'second': 1705917005, 'depth1': [467]}\n"
     ]
    },
    {
     "name": "stderr",
     "output_type": "stream",
     "text": [
      "0: 640x640 (no detections), 407.3ms\n",
      "Speed: 28.4ms preprocess, 407.3ms inference, 0.0ms postprocess per image at shape (1, 3, 640, 640)\n",
      "\n"
     ]
    },
    {
     "name": "stdout",
     "output_type": "stream",
     "text": [
      "{'x_sort': [array([305, 198])], 'currentClass': 4, 'isEmpty': False, 'second': 1705917005, 'depth1': [467]}\n"
     ]
    },
    {
     "name": "stderr",
     "output_type": "stream",
     "text": [
      "0: 640x640 (no detections), 255.7ms\n",
      "Speed: 19.9ms preprocess, 255.7ms inference, 0.0ms postprocess per image at shape (1, 3, 640, 640)\n",
      "\n"
     ]
    },
    {
     "name": "stdout",
     "output_type": "stream",
     "text": [
      "{'x_sort': [array([305, 198])], 'currentClass': 4, 'isEmpty': False, 'second': 1705917005, 'depth1': [467]}\n"
     ]
    },
    {
     "name": "stderr",
     "output_type": "stream",
     "text": [
      "0: 640x640 (no detections), 376.7ms\n",
      "Speed: 23.8ms preprocess, 376.7ms inference, 0.0ms postprocess per image at shape (1, 3, 640, 640)\n",
      "\n"
     ]
    },
    {
     "name": "stdout",
     "output_type": "stream",
     "text": [
      "{'x_sort': [array([305, 198])], 'currentClass': 4, 'isEmpty': False, 'second': 1705917005, 'depth1': [467]}\n"
     ]
    },
    {
     "name": "stderr",
     "output_type": "stream",
     "text": [
      "0: 640x640 (no detections), 244.4ms\n",
      "Speed: 10.6ms preprocess, 244.4ms inference, 0.0ms postprocess per image at shape (1, 3, 640, 640)\n",
      "\n"
     ]
    },
    {
     "name": "stdout",
     "output_type": "stream",
     "text": [
      "{'x_sort': [array([305, 198])], 'currentClass': 4, 'isEmpty': False, 'second': 1705917005, 'depth1': [467]}\n"
     ]
    },
    {
     "name": "stderr",
     "output_type": "stream",
     "text": [
      "0: 640x640 (no detections), 234.4ms\n",
      "Speed: 16.5ms preprocess, 234.4ms inference, 10.2ms postprocess per image at shape (1, 3, 640, 640)\n",
      "\n"
     ]
    },
    {
     "name": "stdout",
     "output_type": "stream",
     "text": [
      "{'x_sort': [array([305, 198])], 'currentClass': 4, 'isEmpty': False, 'second': 1705917005, 'depth1': [467]}\n"
     ]
    },
    {
     "name": "stderr",
     "output_type": "stream",
     "text": [
      "0: 640x640 (no detections), 412.4ms\n",
      "Speed: 9.4ms preprocess, 412.4ms inference, 10.6ms postprocess per image at shape (1, 3, 640, 640)\n",
      "\n"
     ]
    },
    {
     "name": "stdout",
     "output_type": "stream",
     "text": [
      "{'x_sort': [array([305, 198])], 'currentClass': 4, 'isEmpty': False, 'second': 1705917005, 'depth1': [467]}\n"
     ]
    },
    {
     "name": "stderr",
     "output_type": "stream",
     "text": [
      "0: 640x640 (no detections), 461.4ms\n",
      "Speed: 13.0ms preprocess, 461.4ms inference, 8.1ms postprocess per image at shape (1, 3, 640, 640)\n",
      "\n"
     ]
    },
    {
     "name": "stdout",
     "output_type": "stream",
     "text": [
      "{'x_sort': [array([305, 198])], 'currentClass': 4, 'isEmpty': False, 'second': 1705917005, 'depth1': [467]}\n"
     ]
    },
    {
     "name": "stderr",
     "output_type": "stream",
     "text": [
      "0: 640x640 (no detections), 236.1ms\n",
      "Speed: 15.6ms preprocess, 236.1ms inference, 0.0ms postprocess per image at shape (1, 3, 640, 640)\n",
      "\n"
     ]
    },
    {
     "name": "stdout",
     "output_type": "stream",
     "text": [
      "{'x_sort': [array([305, 198])], 'currentClass': 4, 'isEmpty': False, 'second': 1705917005, 'depth1': [467]}\n"
     ]
    },
    {
     "name": "stderr",
     "output_type": "stream",
     "text": [
      "0: 640x640 (no detections), 253.0ms\n",
      "Speed: 12.1ms preprocess, 253.0ms inference, 2.1ms postprocess per image at shape (1, 3, 640, 640)\n",
      "\n"
     ]
    },
    {
     "name": "stdout",
     "output_type": "stream",
     "text": [
      "{'x_sort': [array([305, 198])], 'currentClass': 4, 'isEmpty': False, 'second': 1705917005, 'depth1': [467]}\n"
     ]
    },
    {
     "name": "stderr",
     "output_type": "stream",
     "text": [
      "0: 640x640 (no detections), 363.7ms\n",
      "Speed: 51.4ms preprocess, 363.7ms inference, 0.0ms postprocess per image at shape (1, 3, 640, 640)\n",
      "\n"
     ]
    },
    {
     "name": "stdout",
     "output_type": "stream",
     "text": [
      "{'x_sort': [array([305, 198])], 'currentClass': 4, 'isEmpty': False, 'second': 1705917005, 'depth1': [467]}\n"
     ]
    },
    {
     "name": "stderr",
     "output_type": "stream",
     "text": [
      "0: 640x640 (no detections), 273.3ms\n",
      "Speed: 13.7ms preprocess, 273.3ms inference, 0.0ms postprocess per image at shape (1, 3, 640, 640)\n",
      "\n"
     ]
    },
    {
     "name": "stdout",
     "output_type": "stream",
     "text": [
      "{'x_sort': [array([305, 198])], 'currentClass': 4, 'isEmpty': False, 'second': 1705917005, 'depth1': [467]}\n"
     ]
    },
    {
     "name": "stderr",
     "output_type": "stream",
     "text": [
      "0: 640x640 (no detections), 373.8ms\n",
      "Speed: 23.5ms preprocess, 373.8ms inference, 10.2ms postprocess per image at shape (1, 3, 640, 640)\n",
      "\n"
     ]
    },
    {
     "name": "stdout",
     "output_type": "stream",
     "text": [
      "{'x_sort': [array([305, 198])], 'currentClass': 4, 'isEmpty': False, 'second': 1705917005, 'depth1': [467]}\n"
     ]
    },
    {
     "name": "stderr",
     "output_type": "stream",
     "text": [
      "0: 640x640 (no detections), 247.3ms\n",
      "Speed: 17.3ms preprocess, 247.3ms inference, 10.9ms postprocess per image at shape (1, 3, 640, 640)\n",
      "\n"
     ]
    },
    {
     "name": "stdout",
     "output_type": "stream",
     "text": [
      "{'x_sort': [array([305, 198])], 'currentClass': 4, 'isEmpty': False, 'second': 1705917005, 'depth1': [467]}\n"
     ]
    },
    {
     "name": "stderr",
     "output_type": "stream",
     "text": [
      "0: 640x640 (no detections), 351.4ms\n",
      "Speed: 29.1ms preprocess, 351.4ms inference, 0.0ms postprocess per image at shape (1, 3, 640, 640)\n",
      "\n"
     ]
    },
    {
     "name": "stdout",
     "output_type": "stream",
     "text": [
      "{'x_sort': [array([305, 198])], 'currentClass': 4, 'isEmpty': False, 'second': 1705917005, 'depth1': [467]}\n"
     ]
    },
    {
     "name": "stderr",
     "output_type": "stream",
     "text": [
      "0: 640x640 (no detections), 253.1ms\n",
      "Speed: 18.4ms preprocess, 253.1ms inference, 2.2ms postprocess per image at shape (1, 3, 640, 640)\n",
      "\n"
     ]
    },
    {
     "name": "stdout",
     "output_type": "stream",
     "text": [
      "{'x_sort': [array([305, 198])], 'currentClass': 4, 'isEmpty': False, 'second': 1705917005, 'depth1': [467]}\n"
     ]
    },
    {
     "name": "stderr",
     "output_type": "stream",
     "text": [
      "0: 640x640 (no detections), 491.4ms\n",
      "Speed: 33.3ms preprocess, 491.4ms inference, 8.1ms postprocess per image at shape (1, 3, 640, 640)\n",
      "\n"
     ]
    },
    {
     "name": "stdout",
     "output_type": "stream",
     "text": [
      "{'x_sort': [array([305, 198])], 'currentClass': 4, 'isEmpty': False, 'second': 1705917005, 'depth1': [467]}\n"
     ]
    },
    {
     "name": "stderr",
     "output_type": "stream",
     "text": [
      "0: 640x640 (no detections), 242.1ms\n",
      "Speed: 9.0ms preprocess, 242.1ms inference, 2.1ms postprocess per image at shape (1, 3, 640, 640)\n",
      "\n"
     ]
    },
    {
     "name": "stdout",
     "output_type": "stream",
     "text": [
      "{'x_sort': [array([305, 198])], 'currentClass': 4, 'isEmpty': False, 'second': 1705917005, 'depth1': [467]}\n"
     ]
    },
    {
     "name": "stderr",
     "output_type": "stream",
     "text": [
      "0: 640x640 (no detections), 320.7ms\n",
      "Speed: 16.1ms preprocess, 320.7ms inference, 10.6ms postprocess per image at shape (1, 3, 640, 640)\n",
      "\n"
     ]
    },
    {
     "name": "stdout",
     "output_type": "stream",
     "text": [
      "{FRAME: X 207.600891, Y -8.28712463, Z 486.08136, A -135.306152, B -0.0378621183, C -179.961731}\n",
      "{FRAME: X -21.57894736842107, Y 900.0, Z 200.0, A 0.0, B 0.0, C 180.0}\n",
      "{FRAME: X 0.0, Y 100.0, Z 200.0, A 90.0, B 0.0, C 180.0}\n",
      "{FRAME: X 200.0, Y 100.0, Z 200.0, A 90.0, B 0.0, C 180.0}\n",
      "{'x_sort': [array([305, 198])], 'currentClass': 4, 'isEmpty': False, 'second': 1705917005, 'depth1': [467]}\n"
     ]
    },
    {
     "name": "stderr",
     "output_type": "stream",
     "text": [
      "0: 640x640 (no detections), 393.2ms\n",
      "Speed: 26.6ms preprocess, 393.2ms inference, 2.1ms postprocess per image at shape (1, 3, 640, 640)\n",
      "\n"
     ]
    },
    {
     "name": "stdout",
     "output_type": "stream",
     "text": [
      "{'x_sort': [array([305, 198])], 'currentClass': 4, 'isEmpty': False, 'second': 1705917005, 'depth1': [467]}\n"
     ]
    },
    {
     "name": "stderr",
     "output_type": "stream",
     "text": [
      "0: 640x640 (no detections), 323.5ms\n",
      "Speed: 16.4ms preprocess, 323.5ms inference, 10.5ms postprocess per image at shape (1, 3, 640, 640)\n",
      "\n"
     ]
    },
    {
     "name": "stdout",
     "output_type": "stream",
     "text": [
      "{'x_sort': [array([305, 198])], 'currentClass': 4, 'isEmpty': False, 'second': 1705917005, 'depth1': [467]}\n"
     ]
    },
    {
     "name": "stderr",
     "output_type": "stream",
     "text": [
      "0: 640x640 (no detections), 358.8ms\n",
      "Speed: 31.7ms preprocess, 358.8ms inference, 8.3ms postprocess per image at shape (1, 3, 640, 640)\n",
      "\n"
     ]
    },
    {
     "name": "stdout",
     "output_type": "stream",
     "text": [
      "{'x_sort': [array([305, 198])], 'currentClass': 4, 'isEmpty': False, 'second': 1705917005, 'depth1': [467]}\n"
     ]
    },
    {
     "name": "stderr",
     "output_type": "stream",
     "text": [
      "0: 640x640 (no detections), 485.3ms\n",
      "Speed: 125.8ms preprocess, 485.3ms inference, 10.2ms postprocess per image at shape (1, 3, 640, 640)\n",
      "\n"
     ]
    },
    {
     "name": "stdout",
     "output_type": "stream",
     "text": [
      "{'x_sort': [array([305, 198])], 'currentClass': 4, 'isEmpty': False, 'second': 1705917005, 'depth1': [467]}\n"
     ]
    },
    {
     "name": "stderr",
     "output_type": "stream",
     "text": [
      "0: 640x640 (no detections), 306.1ms\n",
      "Speed: 19.3ms preprocess, 306.1ms inference, 0.0ms postprocess per image at shape (1, 3, 640, 640)\n",
      "\n"
     ]
    },
    {
     "name": "stdout",
     "output_type": "stream",
     "text": [
      "{'x_sort': [array([305, 198])], 'currentClass': 4, 'isEmpty': False, 'second': 1705917005, 'depth1': [467]}\n"
     ]
    },
    {
     "name": "stderr",
     "output_type": "stream",
     "text": [
      "0: 640x640 (no detections), 243.3ms\n",
      "Speed: 12.3ms preprocess, 243.3ms inference, 8.3ms postprocess per image at shape (1, 3, 640, 640)\n",
      "\n"
     ]
    },
    {
     "name": "stdout",
     "output_type": "stream",
     "text": [
      "{'x_sort': [array([305, 198])], 'currentClass': 4, 'isEmpty': False, 'second': 1705917005, 'depth1': [467]}\n"
     ]
    },
    {
     "name": "stderr",
     "output_type": "stream",
     "text": [
      "0: 640x640 (no detections), 283.6ms\n",
      "Speed: 18.3ms preprocess, 283.6ms inference, 6.5ms postprocess per image at shape (1, 3, 640, 640)\n",
      "\n"
     ]
    },
    {
     "name": "stdout",
     "output_type": "stream",
     "text": [
      "{'x_sort': [array([305, 198])], 'currentClass': 4, 'isEmpty': False, 'second': 1705917005, 'depth1': [467]}\n"
     ]
    },
    {
     "name": "stderr",
     "output_type": "stream",
     "text": [
      "0: 640x640 (no detections), 393.8ms\n",
      "Speed: 17.9ms preprocess, 393.8ms inference, 0.0ms postprocess per image at shape (1, 3, 640, 640)\n",
      "\n"
     ]
    },
    {
     "name": "stdout",
     "output_type": "stream",
     "text": [
      "{'x_sort': [array([305, 198])], 'currentClass': 4, 'isEmpty': False, 'second': 1705917005, 'depth1': [467]}\n"
     ]
    },
    {
     "name": "stderr",
     "output_type": "stream",
     "text": [
      "0: 640x640 (no detections), 245.6ms\n",
      "Speed: 13.3ms preprocess, 245.6ms inference, 0.0ms postprocess per image at shape (1, 3, 640, 640)\n",
      "\n"
     ]
    },
    {
     "name": "stdout",
     "output_type": "stream",
     "text": [
      "{'x_sort': [array([305, 198])], 'currentClass': 4, 'isEmpty': False, 'second': 1705917005, 'depth1': [467]}\n"
     ]
    },
    {
     "name": "stderr",
     "output_type": "stream",
     "text": [
      "0: 640x640 (no detections), 393.1ms\n",
      "Speed: 26.7ms preprocess, 393.1ms inference, 10.4ms postprocess per image at shape (1, 3, 640, 640)\n",
      "\n"
     ]
    },
    {
     "name": "stdout",
     "output_type": "stream",
     "text": [
      "{'x_sort': [array([305, 198])], 'currentClass': 4, 'isEmpty': False, 'second': 1705917005, 'depth1': [467]}\n"
     ]
    },
    {
     "name": "stderr",
     "output_type": "stream",
     "text": [
      "0: 640x640 (no detections), 233.0ms\n",
      "Speed: 16.3ms preprocess, 233.0ms inference, 8.1ms postprocess per image at shape (1, 3, 640, 640)\n",
      "\n"
     ]
    },
    {
     "name": "stdout",
     "output_type": "stream",
     "text": [
      "{'x_sort': [array([305, 198])], 'currentClass': 4, 'isEmpty': False, 'second': 1705917005, 'depth1': [467]}\n"
     ]
    },
    {
     "name": "stderr",
     "output_type": "stream",
     "text": [
      "0: 640x640 (no detections), 244.6ms\n",
      "Speed: 13.0ms preprocess, 244.6ms inference, 0.0ms postprocess per image at shape (1, 3, 640, 640)\n",
      "\n"
     ]
    },
    {
     "name": "stdout",
     "output_type": "stream",
     "text": [
      "{'x_sort': [array([305, 198])], 'currentClass': 4, 'isEmpty': False, 'second': 1705917005, 'depth1': [467]}\n"
     ]
    },
    {
     "name": "stderr",
     "output_type": "stream",
     "text": [
      "0: 640x640 (no detections), 337.5ms\n",
      "Speed: 20.9ms preprocess, 337.5ms inference, 0.0ms postprocess per image at shape (1, 3, 640, 640)\n",
      "\n"
     ]
    },
    {
     "name": "stdout",
     "output_type": "stream",
     "text": [
      "{'x_sort': [array([305, 198])], 'currentClass': 4, 'isEmpty': False, 'second': 1705917005, 'depth1': [467]}\n"
     ]
    },
    {
     "name": "stderr",
     "output_type": "stream",
     "text": [
      "0: 640x640 (no detections), 455.0ms\n",
      "Speed: 14.7ms preprocess, 455.0ms inference, 0.0ms postprocess per image at shape (1, 3, 640, 640)\n",
      "\n"
     ]
    },
    {
     "name": "stdout",
     "output_type": "stream",
     "text": [
      "{'x_sort': [array([305, 198])], 'currentClass': 4, 'isEmpty': False, 'second': 1705917005, 'depth1': [467]}\n"
     ]
    },
    {
     "name": "stderr",
     "output_type": "stream",
     "text": [
      "0: 640x640 (no detections), 456.6ms\n",
      "Speed: 25.3ms preprocess, 456.6ms inference, 2.1ms postprocess per image at shape (1, 3, 640, 640)\n",
      "\n"
     ]
    },
    {
     "name": "stdout",
     "output_type": "stream",
     "text": [
      "{'x_sort': [array([305, 198])], 'currentClass': 4, 'isEmpty': False, 'second': 1705917005, 'depth1': [467]}\n"
     ]
    },
    {
     "name": "stderr",
     "output_type": "stream",
     "text": [
      "0: 640x640 (no detections), 236.5ms\n",
      "Speed: 13.9ms preprocess, 236.5ms inference, 10.4ms postprocess per image at shape (1, 3, 640, 640)\n",
      "\n"
     ]
    },
    {
     "name": "stdout",
     "output_type": "stream",
     "text": [
      "{'x_sort': [array([305, 198])], 'currentClass': 4, 'isEmpty': False, 'second': 1705917005, 'depth1': [467]}\n"
     ]
    },
    {
     "name": "stderr",
     "output_type": "stream",
     "text": [
      "0: 640x640 (no detections), 462.3ms\n",
      "Speed: 36.0ms preprocess, 462.3ms inference, 8.2ms postprocess per image at shape (1, 3, 640, 640)\n",
      "\n"
     ]
    },
    {
     "name": "stdout",
     "output_type": "stream",
     "text": [
      "{'x_sort': [array([305, 198])], 'currentClass': 4, 'isEmpty': False, 'second': 1705917005, 'depth1': [467]}\n"
     ]
    },
    {
     "name": "stderr",
     "output_type": "stream",
     "text": [
      "0: 640x640 (no detections), 373.7ms\n",
      "Speed: 14.0ms preprocess, 373.7ms inference, 0.0ms postprocess per image at shape (1, 3, 640, 640)\n",
      "\n"
     ]
    },
    {
     "name": "stdout",
     "output_type": "stream",
     "text": [
      "{'x_sort': [array([305, 198])], 'currentClass': 4, 'isEmpty': False, 'second': 1705917005, 'depth1': [467]}\n"
     ]
    },
    {
     "name": "stderr",
     "output_type": "stream",
     "text": [
      "0: 640x640 (no detections), 465.6ms\n",
      "Speed: 35.0ms preprocess, 465.6ms inference, 8.1ms postprocess per image at shape (1, 3, 640, 640)\n",
      "\n"
     ]
    },
    {
     "name": "stdout",
     "output_type": "stream",
     "text": [
      "{'x_sort': [array([305, 198])], 'currentClass': 4, 'isEmpty': False, 'second': 1705917005, 'depth1': [467]}\n"
     ]
    },
    {
     "name": "stderr",
     "output_type": "stream",
     "text": [
      "0: 640x640 (no detections), 242.9ms\n",
      "Speed: 13.0ms preprocess, 242.9ms inference, 0.0ms postprocess per image at shape (1, 3, 640, 640)\n",
      "\n"
     ]
    },
    {
     "name": "stdout",
     "output_type": "stream",
     "text": [
      "{'x_sort': [array([305, 198])], 'currentClass': 4, 'isEmpty': False, 'second': 1705917005, 'depth1': [467]}\n"
     ]
    },
    {
     "name": "stderr",
     "output_type": "stream",
     "text": [
      "0: 640x640 (no detections), 324.1ms\n",
      "Speed: 17.0ms preprocess, 324.1ms inference, 10.3ms postprocess per image at shape (1, 3, 640, 640)\n",
      "\n"
     ]
    },
    {
     "name": "stdout",
     "output_type": "stream",
     "text": [
      "{'x_sort': [array([305, 198])], 'currentClass': 4, 'isEmpty': False, 'second': 1705917005, 'depth1': [467]}\n"
     ]
    },
    {
     "name": "stderr",
     "output_type": "stream",
     "text": [
      "0: 640x640 (no detections), 376.9ms\n",
      "Speed: 16.0ms preprocess, 376.9ms inference, 2.1ms postprocess per image at shape (1, 3, 640, 640)\n",
      "\n"
     ]
    },
    {
     "name": "stdout",
     "output_type": "stream",
     "text": [
      "{'x_sort': [array([305, 198])], 'currentClass': 4, 'isEmpty': False, 'second': 1705917005, 'depth1': [467]}\n"
     ]
    },
    {
     "name": "stderr",
     "output_type": "stream",
     "text": [
      "0: 640x640 (no detections), 238.0ms\n",
      "Speed: 13.3ms preprocess, 238.0ms inference, 0.0ms postprocess per image at shape (1, 3, 640, 640)\n",
      "\n"
     ]
    },
    {
     "name": "stdout",
     "output_type": "stream",
     "text": [
      "{'x_sort': [array([305, 198])], 'currentClass': 4, 'isEmpty': False, 'second': 1705917005, 'depth1': [467]}\n",
      "off\n",
      "{FRAME: X 207.600891, Y -8.28712463, Z 486.08136, A -135.306152, B -0.0378621183, C -179.961731}"
     ]
    },
    {
     "name": "stderr",
     "output_type": "stream",
     "text": [
      "0: 640x640 (no detections), 237.6ms\n",
      "Speed: 11.6ms preprocess, 237.6ms inference, 0.0ms postprocess per image at shape (1, 3, 640, 640)\n",
      "\n"
     ]
    },
    {
     "name": "stdout",
     "output_type": "stream",
     "text": [
      "\n",
      "{FRAME: X 0.0, Y 100.0, Z 200.0, A 90.0, B 0.0, C 180.0}\n",
      "{FRAME: X -21.57894736842107, Y 900.0, Z 300.0, A 0.0, B 0.0, C 180.0}\n",
      "{'x_sort': [array([305, 198])], 'currentClass': 4, 'isEmpty': False, 'second': 1705917005, 'depth1': [467]}\n"
     ]
    },
    {
     "name": "stderr",
     "output_type": "stream",
     "text": [
      "0: 640x640 (no detections), 253.1ms\n",
      "Speed: 14.1ms preprocess, 253.1ms inference, 2.6ms postprocess per image at shape (1, 3, 640, 640)\n",
      "\n"
     ]
    },
    {
     "name": "stdout",
     "output_type": "stream",
     "text": [
      "{'x_sort': [array([305, 198])], 'currentClass': 4, 'isEmpty': False, 'second': 1705917005, 'depth1': [467]}\n"
     ]
    },
    {
     "name": "stderr",
     "output_type": "stream",
     "text": [
      "0: 640x640 (no detections), 487.2ms\n",
      "Speed: 33.1ms preprocess, 487.2ms inference, 0.0ms postprocess per image at shape (1, 3, 640, 640)\n",
      "\n"
     ]
    },
    {
     "name": "stdout",
     "output_type": "stream",
     "text": [
      "{'x_sort': [array([305, 198])], 'currentClass': 4, 'isEmpty': False, 'second': 1705917005, 'depth1': [467]}\n"
     ]
    },
    {
     "name": "stderr",
     "output_type": "stream",
     "text": [
      "0: 640x640 (no detections), 238.9ms\n",
      "Speed: 15.0ms preprocess, 238.9ms inference, 0.0ms postprocess per image at shape (1, 3, 640, 640)\n",
      "\n"
     ]
    },
    {
     "name": "stdout",
     "output_type": "stream",
     "text": [
      "{'x_sort': [array([305, 198])], 'currentClass': 4, 'isEmpty': False, 'second': 1705917005, 'depth1': [467]}\n"
     ]
    },
    {
     "name": "stderr",
     "output_type": "stream",
     "text": [
      "0: 640x640 (no detections), 248.2ms\n",
      "Speed: 12.0ms preprocess, 248.2ms inference, 2.1ms postprocess per image at shape (1, 3, 640, 640)\n",
      "\n"
     ]
    },
    {
     "name": "stdout",
     "output_type": "stream",
     "text": [
      "{'x_sort': [array([305, 198])], 'currentClass': 4, 'isEmpty': False, 'second': 1705917005, 'depth1': [467]}\n"
     ]
    },
    {
     "name": "stderr",
     "output_type": "stream",
     "text": [
      "0: 640x640 (no detections), 463.3ms\n",
      "Speed: 19.4ms preprocess, 463.3ms inference, 8.1ms postprocess per image at shape (1, 3, 640, 640)\n",
      "\n"
     ]
    },
    {
     "name": "stdout",
     "output_type": "stream",
     "text": [
      "{'x_sort': [array([305, 198])], 'currentClass': 4, 'isEmpty': False, 'second': 1705917005, 'depth1': [467]}\n"
     ]
    },
    {
     "name": "stderr",
     "output_type": "stream",
     "text": [
      "0: 640x640 (no detections), 253.1ms\n",
      "Speed: 11.0ms preprocess, 253.1ms inference, 10.3ms postprocess per image at shape (1, 3, 640, 640)\n",
      "\n"
     ]
    },
    {
     "name": "stdout",
     "output_type": "stream",
     "text": [
      "{'x_sort': [array([305, 198])], 'currentClass': 4, 'isEmpty': False, 'second': 1705917005, 'depth1': [467]}\n"
     ]
    },
    {
     "name": "stderr",
     "output_type": "stream",
     "text": [
      "0: 640x640 (no detections), 390.8ms\n",
      "Speed: 32.9ms preprocess, 390.8ms inference, 0.0ms postprocess per image at shape (1, 3, 640, 640)\n",
      "\n"
     ]
    },
    {
     "name": "stdout",
     "output_type": "stream",
     "text": [
      "{'x_sort': [array([305, 198])], 'currentClass': 4, 'isEmpty': False, 'second': 1705917005, 'depth1': [467]}\n"
     ]
    },
    {
     "name": "stderr",
     "output_type": "stream",
     "text": [
      "0: 640x640 (no detections), 235.9ms\n",
      "Speed: 18.7ms preprocess, 235.9ms inference, 8.2ms postprocess per image at shape (1, 3, 640, 640)\n",
      "\n"
     ]
    },
    {
     "name": "stdout",
     "output_type": "stream",
     "text": [
      "{'x_sort': [array([305, 198])], 'currentClass': 4, 'isEmpty': False, 'second': 1705917005, 'depth1': [467]}\n"
     ]
    },
    {
     "name": "stderr",
     "output_type": "stream",
     "text": [
      "0: 640x640 (no detections), 323.3ms\n",
      "Speed: 12.7ms preprocess, 323.3ms inference, 10.4ms postprocess per image at shape (1, 3, 640, 640)\n",
      "\n"
     ]
    },
    {
     "name": "stdout",
     "output_type": "stream",
     "text": [
      "{'x_sort': [array([305, 198])], 'currentClass': 4, 'isEmpty': False, 'second': 1705917005, 'depth1': [467]}\n"
     ]
    },
    {
     "name": "stderr",
     "output_type": "stream",
     "text": [
      "0: 640x640 (no detections), 386.4ms\n",
      "Speed: 20.6ms preprocess, 386.4ms inference, 8.1ms postprocess per image at shape (1, 3, 640, 640)\n",
      "\n"
     ]
    },
    {
     "name": "stdout",
     "output_type": "stream",
     "text": [
      "{'x_sort': [array([305, 198])], 'currentClass': 4, 'isEmpty': False, 'second': 1705917005, 'depth1': [467]}\n"
     ]
    },
    {
     "name": "stderr",
     "output_type": "stream",
     "text": [
      "0: 640x640 (no detections), 368.7ms\n",
      "Speed: 11.1ms preprocess, 368.7ms inference, 10.3ms postprocess per image at shape (1, 3, 640, 640)\n",
      "\n"
     ]
    },
    {
     "name": "stdout",
     "output_type": "stream",
     "text": [
      "{'x_sort': [array([305, 198])], 'currentClass': 4, 'isEmpty': False, 'second': 1705917005, 'depth1': [467]}\n"
     ]
    },
    {
     "name": "stderr",
     "output_type": "stream",
     "text": [
      "0: 640x640 (no detections), 447.5ms\n",
      "Speed: 26.7ms preprocess, 447.5ms inference, 0.0ms postprocess per image at shape (1, 3, 640, 640)\n",
      "\n"
     ]
    },
    {
     "name": "stdout",
     "output_type": "stream",
     "text": [
      "{'x_sort': [array([305, 198])], 'currentClass': 4, 'isEmpty': False, 'second': 1705917005, 'depth1': [467]}\n"
     ]
    },
    {
     "name": "stderr",
     "output_type": "stream",
     "text": [
      "0: 640x640 (no detections), 244.9ms\n",
      "Speed: 19.1ms preprocess, 244.9ms inference, 2.1ms postprocess per image at shape (1, 3, 640, 640)\n",
      "\n"
     ]
    },
    {
     "name": "stdout",
     "output_type": "stream",
     "text": [
      "{'x_sort': [array([305, 198])], 'currentClass': 4, 'isEmpty': False, 'second': 1705917005, 'depth1': [467]}\n"
     ]
    },
    {
     "name": "stderr",
     "output_type": "stream",
     "text": [
      "0: 640x640 (no detections), 358.5ms\n",
      "Speed: 19.3ms preprocess, 358.5ms inference, 8.2ms postprocess per image at shape (1, 3, 640, 640)\n",
      "\n"
     ]
    },
    {
     "name": "stdout",
     "output_type": "stream",
     "text": [
      "{'x_sort': [array([305, 198])], 'currentClass': 4, 'isEmpty': False, 'second': 1705917005, 'depth1': [467]}\n"
     ]
    },
    {
     "name": "stderr",
     "output_type": "stream",
     "text": [
      "0: 640x640 (no detections), 368.7ms\n",
      "Speed: 15.0ms preprocess, 368.7ms inference, 2.1ms postprocess per image at shape (1, 3, 640, 640)\n",
      "\n"
     ]
    },
    {
     "name": "stdout",
     "output_type": "stream",
     "text": [
      "{'x_sort': [array([305, 198])], 'currentClass': 4, 'isEmpty': False, 'second': 1705917005, 'depth1': [467]}\n"
     ]
    },
    {
     "name": "stderr",
     "output_type": "stream",
     "text": [
      "0: 640x640 (no detections), 236.0ms\n",
      "Speed: 13.0ms preprocess, 236.0ms inference, 10.3ms postprocess per image at shape (1, 3, 640, 640)\n",
      "\n"
     ]
    },
    {
     "name": "stdout",
     "output_type": "stream",
     "text": [
      "{'x_sort': [array([305, 198])], 'currentClass': 4, 'isEmpty': False, 'second': 1705917005, 'depth1': [467]}\n"
     ]
    },
    {
     "name": "stderr",
     "output_type": "stream",
     "text": [
      "0: 640x640 (no detections), 301.4ms\n",
      "Speed: 19.7ms preprocess, 301.4ms inference, 0.0ms postprocess per image at shape (1, 3, 640, 640)\n",
      "\n"
     ]
    },
    {
     "name": "stdout",
     "output_type": "stream",
     "text": [
      "{'x_sort': [array([305, 198])], 'currentClass': 4, 'isEmpty': False, 'second': 1705917005, 'depth1': [467]}\n"
     ]
    },
    {
     "name": "stderr",
     "output_type": "stream",
     "text": [
      "0: 640x640 (no detections), 254.5ms\n",
      "Speed: 14.0ms preprocess, 254.5ms inference, 8.3ms postprocess per image at shape (1, 3, 640, 640)\n",
      "\n"
     ]
    },
    {
     "name": "stdout",
     "output_type": "stream",
     "text": [
      "{'x_sort': [array([305, 198])], 'currentClass': 4, 'isEmpty': False, 'second': 1705917005, 'depth1': [467]}\n"
     ]
    },
    {
     "name": "stderr",
     "output_type": "stream",
     "text": [
      "0: 640x640 (no detections), 460.8ms\n",
      "Speed: 29.1ms preprocess, 460.8ms inference, 0.0ms postprocess per image at shape (1, 3, 640, 640)\n",
      "\n"
     ]
    },
    {
     "name": "stdout",
     "output_type": "stream",
     "text": [
      "{'x_sort': [array([305, 198])], 'currentClass': 4, 'isEmpty': False, 'second': 1705917005, 'depth1': [467]}\n"
     ]
    },
    {
     "name": "stderr",
     "output_type": "stream",
     "text": [
      "0: 640x640 (no detections), 235.5ms\n",
      "Speed: 12.8ms preprocess, 235.5ms inference, 8.1ms postprocess per image at shape (1, 3, 640, 640)\n",
      "\n"
     ]
    },
    {
     "name": "stdout",
     "output_type": "stream",
     "text": [
      "{'x_sort': [array([305, 198])], 'currentClass': 4, 'isEmpty': False, 'second': 1705917005, 'depth1': [467]}\n"
     ]
    },
    {
     "name": "stderr",
     "output_type": "stream",
     "text": [
      "0: 640x640 (no detections), 471.8ms\n",
      "Speed: 23.1ms preprocess, 471.8ms inference, 0.0ms postprocess per image at shape (1, 3, 640, 640)\n",
      "\n"
     ]
    },
    {
     "name": "stdout",
     "output_type": "stream",
     "text": [
      "{'x_sort': [array([305, 198])], 'currentClass': 4, 'isEmpty': False, 'second': 1705917005, 'depth1': [467]}\n"
     ]
    },
    {
     "name": "stderr",
     "output_type": "stream",
     "text": [
      "0: 640x640 (no detections), 340.4ms\n",
      "Speed: 13.0ms preprocess, 340.4ms inference, 10.3ms postprocess per image at shape (1, 3, 640, 640)\n",
      "\n"
     ]
    },
    {
     "name": "stdout",
     "output_type": "stream",
     "text": [
      "{'x_sort': [array([305, 198])], 'currentClass': 4, 'isEmpty': False, 'second': 1705917005, 'depth1': [467]}\n"
     ]
    },
    {
     "name": "stderr",
     "output_type": "stream",
     "text": [
      "0: 640x640 (no detections), 358.4ms\n",
      "Speed: 24.9ms preprocess, 358.4ms inference, 0.0ms postprocess per image at shape (1, 3, 640, 640)\n",
      "\n"
     ]
    },
    {
     "name": "stdout",
     "output_type": "stream",
     "text": [
      "{'x_sort': [array([305, 198])], 'currentClass': 4, 'isEmpty': False, 'second': 1705917005, 'depth1': [467]}\n"
     ]
    },
    {
     "name": "stderr",
     "output_type": "stream",
     "text": [
      "0: 640x640 (no detections), 235.4ms\n",
      "Speed: 11.1ms preprocess, 235.4ms inference, 0.0ms postprocess per image at shape (1, 3, 640, 640)\n",
      "\n"
     ]
    },
    {
     "name": "stdout",
     "output_type": "stream",
     "text": [
      "{'x_sort': [array([305, 198])], 'currentClass': 4, 'isEmpty': False, 'second': 1705917005, 'depth1': [467]}\n"
     ]
    },
    {
     "name": "stderr",
     "output_type": "stream",
     "text": [
      "0: 640x640 (no detections), 253.9ms\n",
      "Speed: 17.4ms preprocess, 253.9ms inference, 0.0ms postprocess per image at shape (1, 3, 640, 640)\n"
     ]
    },
    {
     "name": "stdout",
     "output_type": "stream",
     "text": [
      "{'x_sort': [array([305, 198])], 'currentClass': 4, 'isEmpty': False, 'second': 1705917005, 'depth1': [467]}\n"
     ]
    },
    {
     "name": "stderr",
     "output_type": "stream",
     "text": [
      "\n",
      "0: 640x640 (no detections), 386.3ms\n",
      "Speed: 39.0ms preprocess, 386.3ms inference, 0.0ms postprocess per image at shape (1, 3, 640, 640)\n",
      "\n"
     ]
    },
    {
     "name": "stdout",
     "output_type": "stream",
     "text": [
      "{'x_sort': [array([305, 198])], 'currentClass': 4, 'isEmpty': False, 'second': 1705917005, 'depth1': [467]}\n"
     ]
    },
    {
     "name": "stderr",
     "output_type": "stream",
     "text": [
      "0: 640x640 (no detections), 244.4ms\n",
      "Speed: 14.1ms preprocess, 244.4ms inference, 0.0ms postprocess per image at shape (1, 3, 640, 640)\n",
      "\n"
     ]
    },
    {
     "name": "stdout",
     "output_type": "stream",
     "text": [
      "{'x_sort': [array([305, 198])], 'currentClass': 4, 'isEmpty': False, 'second': 1705917005, 'depth1': [467]}\n"
     ]
    },
    {
     "name": "stderr",
     "output_type": "stream",
     "text": [
      "0: 640x640 (no detections), 307.8ms\n",
      "Speed: 21.9ms preprocess, 307.8ms inference, 0.0ms postprocess per image at shape (1, 3, 640, 640)\n",
      "\n"
     ]
    },
    {
     "name": "stdout",
     "output_type": "stream",
     "text": [
      "{'x_sort': [array([305, 198])], 'currentClass': 4, 'isEmpty': False, 'second': 1705917005, 'depth1': [467]}\n"
     ]
    },
    {
     "name": "stderr",
     "output_type": "stream",
     "text": [
      "0: 640x640 (no detections), 398.0ms\n",
      "Speed: 28.5ms preprocess, 398.0ms inference, 2.1ms postprocess per image at shape (1, 3, 640, 640)\n",
      "\n"
     ]
    },
    {
     "name": "stdout",
     "output_type": "stream",
     "text": [
      "{'x_sort': [array([305, 198])], 'currentClass': 4, 'isEmpty': False, 'second': 1705917005, 'depth1': [467]}\n"
     ]
    },
    {
     "name": "stderr",
     "output_type": "stream",
     "text": [
      "0: 640x640 (no detections), 251.3ms\n",
      "Speed: 13.0ms preprocess, 251.3ms inference, 10.5ms postprocess per image at shape (1, 3, 640, 640)\n",
      "\n"
     ]
    },
    {
     "name": "stdout",
     "output_type": "stream",
     "text": [
      "{'x_sort': [array([305, 198])], 'currentClass': 4, 'isEmpty': False, 'second': 1705917005, 'depth1': [467]}\n"
     ]
    },
    {
     "name": "stderr",
     "output_type": "stream",
     "text": [
      "0: 640x640 (no detections), 384.7ms\n",
      "Speed: 28.3ms preprocess, 384.7ms inference, 0.0ms postprocess per image at shape (1, 3, 640, 640)\n",
      "\n"
     ]
    },
    {
     "name": "stdout",
     "output_type": "stream",
     "text": [
      "{'x_sort': [array([305, 198])], 'currentClass': 4, 'isEmpty': False, 'second': 1705917005, 'depth1': [467]}\n"
     ]
    },
    {
     "name": "stderr",
     "output_type": "stream",
     "text": [
      "0: 640x640 (no detections), 240.0ms\n",
      "Speed: 14.6ms preprocess, 240.0ms inference, 0.0ms postprocess per image at shape (1, 3, 640, 640)\n",
      "\n"
     ]
    },
    {
     "name": "stdout",
     "output_type": "stream",
     "text": [
      "{'x_sort': [array([305, 198])], 'currentClass': 4, 'isEmpty': False, 'second': 1705917005, 'depth1': [467]}\n"
     ]
    },
    {
     "name": "stderr",
     "output_type": "stream",
     "text": [
      "0: 640x640 (no detections), 293.1ms\n",
      "Speed: 27.7ms preprocess, 293.1ms inference, 0.0ms postprocess per image at shape (1, 3, 640, 640)\n",
      "\n"
     ]
    },
    {
     "name": "stdout",
     "output_type": "stream",
     "text": [
      "{'x_sort': [array([305, 198])], 'currentClass': 4, 'isEmpty': False, 'second': 1705917005, 'depth1': [467]}\n"
     ]
    },
    {
     "name": "stderr",
     "output_type": "stream",
     "text": [
      "0: 640x640 (no detections), 244.1ms\n",
      "Speed: 16.9ms preprocess, 244.1ms inference, 2.1ms postprocess per image at shape (1, 3, 640, 640)\n"
     ]
    },
    {
     "name": "stdout",
     "output_type": "stream",
     "text": [
      "{'x_sort': [array([305, 198])], 'currentClass': 4, 'isEmpty': False, 'second': 1705917005, 'depth1': [467]}\n"
     ]
    },
    {
     "name": "stderr",
     "output_type": "stream",
     "text": [
      "\n",
      "0: 640x640 (no detections), 447.4ms\n",
      "Speed: 33.3ms preprocess, 447.4ms inference, 0.0ms postprocess per image at shape (1, 3, 640, 640)\n",
      "\n"
     ]
    },
    {
     "name": "stdout",
     "output_type": "stream",
     "text": [
      "{'x_sort': [array([305, 198])], 'currentClass': 4, 'isEmpty': False, 'second': 1705917005, 'depth1': [467]}\n"
     ]
    },
    {
     "name": "stderr",
     "output_type": "stream",
     "text": [
      "0: 640x640 (no detections), 240.8ms\n",
      "Speed: 11.5ms preprocess, 240.8ms inference, 2.2ms postprocess per image at shape (1, 3, 640, 640)\n",
      "\n"
     ]
    },
    {
     "name": "stdout",
     "output_type": "stream",
     "text": [
      "{'x_sort': [array([305, 198])], 'currentClass': 4, 'isEmpty': False, 'second': 1705917005, 'depth1': [467]}\n"
     ]
    },
    {
     "name": "stderr",
     "output_type": "stream",
     "text": [
      "0: 640x640 (no detections), 241.0ms\n",
      "Speed: 14.0ms preprocess, 241.0ms inference, 0.0ms postprocess per image at shape (1, 3, 640, 640)\n"
     ]
    },
    {
     "name": "stdout",
     "output_type": "stream",
     "text": [
      "{'x_sort': [array([305, 198])], 'currentClass': 4, 'isEmpty': False, 'second': 1705917005, 'depth1': [467]}\n"
     ]
    },
    {
     "name": "stderr",
     "output_type": "stream",
     "text": [
      "\n",
      "0: 640x640 1 plastic, 438.8ms\n",
      "Speed: 33.5ms preprocess, 438.8ms inference, 2.1ms postprocess per image at shape (1, 3, 640, 640)\n",
      "\n"
     ]
    },
    {
     "name": "stdout",
     "output_type": "stream",
     "text": [
      "{'x_sort': [array([624, 241])], 'currentClass': 4, 'isEmpty': False, 'second': 1705917052, 'depth1': [456]}\n"
     ]
    },
    {
     "name": "stderr",
     "output_type": "stream",
     "text": [
      "0: 640x640 1 plastic, 239.0ms\n",
      "Speed: 11.7ms preprocess, 239.0ms inference, 4.1ms postprocess per image at shape (1, 3, 640, 640)\n",
      "\n"
     ]
    },
    {
     "name": "stdout",
     "output_type": "stream",
     "text": [
      "{'x_sort': [array([589, 243])], 'currentClass': 4, 'isEmpty': False, 'second': 1705917052, 'depth1': [451]}\n"
     ]
    },
    {
     "name": "stderr",
     "output_type": "stream",
     "text": [
      "0: 640x640 1 plastic, 244.3ms\n",
      "Speed: 16.0ms preprocess, 244.3ms inference, 0.0ms postprocess per image at shape (1, 3, 640, 640)\n",
      "\n"
     ]
    },
    {
     "name": "stdout",
     "output_type": "stream",
     "text": [
      "{'x_sort': [array([562, 244])], 'currentClass': 4, 'isEmpty': False, 'second': 1705917053, 'depth1': [450]}\n"
     ]
    },
    {
     "name": "stderr",
     "output_type": "stream",
     "text": [
      "0: 640x640 1 plastic, 444.0ms\n",
      "Speed: 18.4ms preprocess, 444.0ms inference, 2.1ms postprocess per image at shape (1, 3, 640, 640)\n",
      "\n"
     ]
    },
    {
     "name": "stdout",
     "output_type": "stream",
     "text": [
      "{'x_sort': [array([531, 244])], 'currentClass': 4, 'isEmpty': False, 'second': 1705917053, 'depth1': [450]}\n"
     ]
    },
    {
     "name": "stderr",
     "output_type": "stream",
     "text": [
      "0: 640x640 1 plastic, 330.3ms\n",
      "Speed: 13.3ms preprocess, 330.3ms inference, 10.4ms postprocess per image at shape (1, 3, 640, 640)\n",
      "\n"
     ]
    },
    {
     "name": "stdout",
     "output_type": "stream",
     "text": [
      "{'x_sort': [array([480, 244])], 'currentClass': 4, 'isEmpty': False, 'second': 1705917054, 'depth1': [449]}\n"
     ]
    },
    {
     "name": "stderr",
     "output_type": "stream",
     "text": [
      "0: 640x640 1 plastic, 234.2ms\n",
      "Speed: 12.1ms preprocess, 234.2ms inference, 8.0ms postprocess per image at shape (1, 3, 640, 640)\n",
      "\n"
     ]
    },
    {
     "name": "stdout",
     "output_type": "stream",
     "text": [
      "{'x_sort': [array([439, 244])], 'currentClass': 4, 'isEmpty': False, 'second': 1705917054, 'depth1': [450]}\n"
     ]
    },
    {
     "name": "stderr",
     "output_type": "stream",
     "text": [
      "0: 640x640 1 plastic, 355.6ms\n",
      "Speed: 15.0ms preprocess, 355.6ms inference, 2.2ms postprocess per image at shape (1, 3, 640, 640)\n",
      "\n"
     ]
    },
    {
     "name": "stdout",
     "output_type": "stream",
     "text": [
      "{'x_sort': [array([412, 245])], 'currentClass': 4, 'isEmpty': False, 'second': 1705917054, 'depth1': [450]}\n"
     ]
    },
    {
     "name": "stderr",
     "output_type": "stream",
     "text": [
      "0: 640x640 1 plastic, 238.4ms\n",
      "Speed: 12.0ms preprocess, 238.4ms inference, 0.0ms postprocess per image at shape (1, 3, 640, 640)\n",
      "\n"
     ]
    },
    {
     "name": "stdout",
     "output_type": "stream",
     "text": [
      "{'x_sort': [array([372, 245])], 'currentClass': 4, 'isEmpty': False, 'second': 1705917055, 'depth1': [449]}\n"
     ]
    },
    {
     "name": "stderr",
     "output_type": "stream",
     "text": [
      "0: 640x640 1 plastic, 241.2ms\n",
      "Speed: 10.4ms preprocess, 241.2ms inference, 2.1ms postprocess per image at shape (1, 3, 640, 640)\n",
      "\n"
     ]
    },
    {
     "name": "stdout",
     "output_type": "stream",
     "text": [
      "{'x_sort': [array([342, 245])], 'currentClass': 4, 'isEmpty': False, 'second': 1705917055, 'depth1': [449]}\n"
     ]
    },
    {
     "name": "stderr",
     "output_type": "stream",
     "text": [
      "0: 640x640 1 trash, 239.1ms\n",
      "Speed: 16.3ms preprocess, 239.1ms inference, 2.1ms postprocess per image at shape (1, 3, 640, 640)\n",
      "\n"
     ]
    },
    {
     "name": "stdout",
     "output_type": "stream",
     "text": [
      "{'x_sort': [array([317, 245])], 'currentClass': 5, 'isEmpty': False, 'second': 1705917055, 'depth1': [449]}\n"
     ]
    },
    {
     "name": "stderr",
     "output_type": "stream",
     "text": [
      "0: 640x640 1 plastic, 456.3ms\n",
      "Speed: 47.0ms preprocess, 456.3ms inference, 0.0ms postprocess per image at shape (1, 3, 640, 640)\n",
      "\n"
     ]
    },
    {
     "name": "stdout",
     "output_type": "stream",
     "text": [
      "{'x_sort': [array([286, 246])], 'currentClass': 4, 'isEmpty': False, 'second': 1705917056, 'depth1': [449]}\n"
     ]
    },
    {
     "name": "stderr",
     "output_type": "stream",
     "text": [
      "0: 640x640 1 plastic, 350.3ms\n",
      "Speed: 15.9ms preprocess, 350.3ms inference, 19.2ms postprocess per image at shape (1, 3, 640, 640)\n",
      "\n"
     ]
    },
    {
     "name": "stdout",
     "output_type": "stream",
     "text": [
      "{'x_sort': [array([230, 246])], 'currentClass': 4, 'isEmpty': False, 'second': 1705917056, 'depth1': [450]}\n"
     ]
    },
    {
     "name": "stderr",
     "output_type": "stream",
     "text": [
      "0: 640x640 1 plastic, 232.2ms\n",
      "Speed: 13.5ms preprocess, 232.2ms inference, 8.1ms postprocess per image at shape (1, 3, 640, 640)\n",
      "\n"
     ]
    },
    {
     "name": "stdout",
     "output_type": "stream",
     "text": [
      "{'x_sort': [array([186, 247])], 'currentClass': 4, 'isEmpty': True, 'second': 1705917057, 'depth1': [451]}\n",
      "meme\n",
      "{FRAME: X 207.600891, Y -8.28712463, Z 486.08136, A -135.306152, B -0.0378621183, C -179.961731}\n"
     ]
    },
    {
     "name": "stderr",
     "output_type": "stream",
     "text": [
      "0: 640x640 1 plastic, 284.5ms\n",
      "Speed: 12.0ms preprocess, 284.5ms inference, 0.0ms postprocess per image at shape (1, 3, 640, 640)\n",
      "\n"
     ]
    },
    {
     "name": "stdout",
     "output_type": "stream",
     "text": [
      "{'x_sort': [array([158, 247])], 'currentClass': 4, 'isEmpty': True, 'second': 1705917057, 'depth1': [449]}\n"
     ]
    },
    {
     "name": "stderr",
     "output_type": "stream",
     "text": [
      "0: 640x640 1 plastic, 232.1ms\n",
      "Speed: 20.6ms preprocess, 232.1ms inference, 10.1ms postprocess per image at shape (1, 3, 640, 640)\n",
      "\n"
     ]
    },
    {
     "name": "stdout",
     "output_type": "stream",
     "text": [
      "{'x_sort': [array([126, 247])], 'currentClass': 4, 'isEmpty': True, 'second': 1705917057, 'depth1': [448]}\n"
     ]
    },
    {
     "name": "stderr",
     "output_type": "stream",
     "text": [
      "0: 640x640 1 plastic, 244.2ms\n",
      "Speed: 19.1ms preprocess, 244.2ms inference, 2.1ms postprocess per image at shape (1, 3, 640, 640)\n",
      "\n"
     ]
    },
    {
     "name": "stdout",
     "output_type": "stream",
     "text": [
      "{'x_sort': [array([ 96, 247])], 'currentClass': 4, 'isEmpty': True, 'second': 1705917058, 'depth1': [449]}\n"
     ]
    },
    {
     "name": "stderr",
     "output_type": "stream",
     "text": [
      "0: 640x640 1 plastic, 240.0ms\n",
      "Speed: 14.0ms preprocess, 240.0ms inference, 0.0ms postprocess per image at shape (1, 3, 640, 640)\n",
      "\n"
     ]
    },
    {
     "name": "stdout",
     "output_type": "stream",
     "text": [
      "{'x_sort': [array([ 65, 248])], 'currentClass': 4, 'isEmpty': True, 'second': 1705917058, 'depth1': [450]}\n"
     ]
    },
    {
     "name": "stderr",
     "output_type": "stream",
     "text": [
      "0: 640x640 1 plastic, 352.0ms\n",
      "Speed: 25.1ms preprocess, 352.0ms inference, 10.3ms postprocess per image at shape (1, 3, 640, 640)\n",
      "\n"
     ]
    },
    {
     "name": "stdout",
     "output_type": "stream",
     "text": [
      "{'x_sort': [array([ 44, 249])], 'currentClass': 4, 'isEmpty': True, 'second': 1705917058, 'depth1': [451]}\n"
     ]
    },
    {
     "name": "stderr",
     "output_type": "stream",
     "text": [
      "0: 640x640 1 metal, 245.2ms\n",
      "Speed: 8.1ms preprocess, 245.2ms inference, 8.1ms postprocess per image at shape (1, 3, 640, 640)\n",
      "\n"
     ]
    },
    {
     "name": "stdout",
     "output_type": "stream",
     "text": [
      "{'x_sort': [array([ 22, 250])], 'currentClass': 2, 'isEmpty': True, 'second': 1705917059, 'depth1': [450]}\n"
     ]
    },
    {
     "name": "stderr",
     "output_type": "stream",
     "text": [
      "0: 640x640 1 trash, 382.8ms\n",
      "Speed: 17.3ms preprocess, 382.8ms inference, 2.1ms postprocess per image at shape (1, 3, 640, 640)\n",
      "\n"
     ]
    },
    {
     "name": "stdout",
     "output_type": "stream",
     "text": [
      "{'x_sort': [array([  8, 214])], 'currentClass': 5, 'isEmpty': True, 'second': 1705917059, 'depth1': [457]}\n"
     ]
    },
    {
     "name": "stderr",
     "output_type": "stream",
     "text": [
      "0: 640x640 (no detections), 335.6ms\n",
      "Speed: 10.1ms preprocess, 335.6ms inference, 13.0ms postprocess per image at shape (1, 3, 640, 640)\n"
     ]
    },
    {
     "name": "stdout",
     "output_type": "stream",
     "text": [
      "{'x_sort': [array([  8, 214])], 'currentClass': 5, 'isEmpty': False, 'second': 1705917059, 'depth1': [457]}\n"
     ]
    },
    {
     "name": "stderr",
     "output_type": "stream",
     "text": [
      "\n",
      "0: 640x640 (no detections), 724.4ms\n",
      "Speed: 30.2ms preprocess, 724.4ms inference, 2.1ms postprocess per image at shape (1, 3, 640, 640)\n",
      "\n"
     ]
    },
    {
     "name": "stdout",
     "output_type": "stream",
     "text": [
      "{'x_sort': [array([  8, 214])], 'currentClass': 5, 'isEmpty': False, 'second': 1705917059, 'depth1': [457]}\n"
     ]
    },
    {
     "name": "stderr",
     "output_type": "stream",
     "text": [
      "0: 640x640 (no detections), 717.3ms\n",
      "Speed: 31.7ms preprocess, 717.3ms inference, 0.0ms postprocess per image at shape (1, 3, 640, 640)\n",
      "\n"
     ]
    },
    {
     "name": "stdout",
     "output_type": "stream",
     "text": [
      "{'x_sort': [array([  8, 214])], 'currentClass': 5, 'isEmpty': False, 'second': 1705917059, 'depth1': [457]}\n"
     ]
    },
    {
     "name": "stderr",
     "output_type": "stream",
     "text": [
      "0: 640x640 (no detections), 241.1ms\n",
      "Speed: 13.4ms preprocess, 241.1ms inference, 2.0ms postprocess per image at shape (1, 3, 640, 640)\n",
      "\n"
     ]
    },
    {
     "name": "stdout",
     "output_type": "stream",
     "text": [
      "{'x_sort': [array([  8, 214])], 'currentClass': 5, 'isEmpty': False, 'second': 1705917059, 'depth1': [457]}\n",
      "{FRAME: X 50.0, Y 900.0, Z 300.0, A 0.0, B 0.0, C 180.0}\n",
      "{FRAME: X 50.0, Y 900.0, Z 300.0, A 0.0, B 0.0, C 180.0}\n"
     ]
    },
    {
     "name": "stderr",
     "output_type": "stream",
     "text": [
      "0: 640x640 (no detections), 447.3ms\n",
      "Speed: 13.3ms preprocess, 447.3ms inference, 5.0ms postprocess per image at shape (1, 3, 640, 640)\n",
      "\n"
     ]
    },
    {
     "name": "stdout",
     "output_type": "stream",
     "text": [
      "{'x_sort': [array([  8, 214])], 'currentClass': 5, 'isEmpty': False, 'second': 1705917059, 'depth1': [457]}\n"
     ]
    },
    {
     "name": "stderr",
     "output_type": "stream",
     "text": [
      "0: 640x640 (no detections), 442.7ms\n",
      "Speed: 31.1ms preprocess, 442.7ms inference, 0.0ms postprocess per image at shape (1, 3, 640, 640)\n",
      "\n"
     ]
    },
    {
     "name": "stdout",
     "output_type": "stream",
     "text": [
      "{'x_sort': [array([  8, 214])], 'currentClass': 5, 'isEmpty': False, 'second': 1705917059, 'depth1': [457]}\n"
     ]
    },
    {
     "name": "stderr",
     "output_type": "stream",
     "text": [
      "0: 640x640 (no detections), 336.1ms\n",
      "Speed: 20.6ms preprocess, 336.1ms inference, 11.1ms postprocess per image at shape (1, 3, 640, 640)\n",
      "\n"
     ]
    },
    {
     "name": "stdout",
     "output_type": "stream",
     "text": [
      "{'x_sort': [array([  8, 214])], 'currentClass': 5, 'isEmpty': False, 'second': 1705917059, 'depth1': [457]}\n"
     ]
    },
    {
     "name": "stderr",
     "output_type": "stream",
     "text": [
      "0: 640x640 (no detections), 445.0ms\n",
      "Speed: 25.7ms preprocess, 445.0ms inference, 0.0ms postprocess per image at shape (1, 3, 640, 640)\n",
      "\n"
     ]
    },
    {
     "name": "stdout",
     "output_type": "stream",
     "text": [
      "{'x_sort': [array([  8, 214])], 'currentClass': 5, 'isEmpty': False, 'second': 1705917059, 'depth1': [457]}\n"
     ]
    },
    {
     "name": "stderr",
     "output_type": "stream",
     "text": [
      "0: 640x640 (no detections), 254.2ms\n",
      "Speed: 14.2ms preprocess, 254.2ms inference, 0.0ms postprocess per image at shape (1, 3, 640, 640)\n",
      "\n"
     ]
    },
    {
     "name": "stdout",
     "output_type": "stream",
     "text": [
      "{FRAME: X 207.600891, Y -8.28712463, Z 486.08136, A -135.306152, B -0.0378621183, C -179.961731}\n",
      "{FRAME: X 23.333333333333314, Y 900.0, Z -1.0, A 0.0, B 0.0, C 180.0}\n",
      "{'x_sort': [array([  8, 214])], 'currentClass': 5, 'isEmpty': False, 'second': 1705917059, 'depth1': [457]}\n"
     ]
    },
    {
     "name": "stderr",
     "output_type": "stream",
     "text": [
      "0: 640x640 (no detections), 361.3ms\n",
      "Speed: 27.8ms preprocess, 361.3ms inference, 8.3ms postprocess per image at shape (1, 3, 640, 640)\n",
      "\n"
     ]
    },
    {
     "name": "stdout",
     "output_type": "stream",
     "text": [
      "{'x_sort': [array([  8, 214])], 'currentClass': 5, 'isEmpty': False, 'second': 1705917059, 'depth1': [457]}\n"
     ]
    },
    {
     "name": "stderr",
     "output_type": "stream",
     "text": [
      "0: 640x640 (no detections), 411.3ms\n",
      "Speed: 24.4ms preprocess, 411.3ms inference, 0.0ms postprocess per image at shape (1, 3, 640, 640)\n",
      "\n"
     ]
    },
    {
     "name": "stdout",
     "output_type": "stream",
     "text": [
      "{'x_sort': [array([  8, 214])], 'currentClass': 5, 'isEmpty': False, 'second': 1705917059, 'depth1': [457]}\n"
     ]
    },
    {
     "name": "stderr",
     "output_type": "stream",
     "text": [
      "0: 640x640 (no detections), 262.3ms\n",
      "Speed: 15.8ms preprocess, 262.3ms inference, 8.0ms postprocess per image at shape (1, 3, 640, 640)\n",
      "\n"
     ]
    },
    {
     "name": "stdout",
     "output_type": "stream",
     "text": [
      "{'x_sort': [array([  8, 214])], 'currentClass': 5, 'isEmpty': False, 'second': 1705917059, 'depth1': [457]}\n"
     ]
    },
    {
     "name": "stderr",
     "output_type": "stream",
     "text": [
      "0: 640x640 (no detections), 252.6ms\n",
      "Speed: 24.0ms preprocess, 252.6ms inference, 0.0ms postprocess per image at shape (1, 3, 640, 640)\n",
      "\n"
     ]
    },
    {
     "name": "stdout",
     "output_type": "stream",
     "text": [
      "{'x_sort': [array([  8, 214])], 'currentClass': 5, 'isEmpty': False, 'second': 1705917059, 'depth1': [457]}\n"
     ]
    },
    {
     "name": "stderr",
     "output_type": "stream",
     "text": [
      "0: 640x640 (no detections), 417.8ms\n",
      "Speed: 14.8ms preprocess, 417.8ms inference, 0.0ms postprocess per image at shape (1, 3, 640, 640)\n",
      "\n"
     ]
    },
    {
     "name": "stdout",
     "output_type": "stream",
     "text": [
      "{'x_sort': [array([  8, 214])], 'currentClass': 5, 'isEmpty': False, 'second': 1705917059, 'depth1': [457]}\n"
     ]
    },
    {
     "name": "stderr",
     "output_type": "stream",
     "text": [
      "0: 640x640 (no detections), 375.6ms\n",
      "Speed: 23.4ms preprocess, 375.6ms inference, 2.0ms postprocess per image at shape (1, 3, 640, 640)\n",
      "\n"
     ]
    },
    {
     "name": "stdout",
     "output_type": "stream",
     "text": [
      "{'x_sort': [array([  8, 214])], 'currentClass': 5, 'isEmpty': False, 'second': 1705917059, 'depth1': [457]}\n"
     ]
    },
    {
     "name": "stderr",
     "output_type": "stream",
     "text": [
      "0: 640x640 (no detections), 235.8ms\n",
      "Speed: 13.0ms preprocess, 235.8ms inference, 1.1ms postprocess per image at shape (1, 3, 640, 640)\n",
      "\n"
     ]
    },
    {
     "name": "stdout",
     "output_type": "stream",
     "text": [
      "{'x_sort': [array([  8, 214])], 'currentClass': 5, 'isEmpty': False, 'second': 1705917059, 'depth1': [457]}\n",
      "on"
     ]
    },
    {
     "name": "stderr",
     "output_type": "stream",
     "text": [
      "0: 640x640 (no detections), 254.1ms\n",
      "Speed: 13.8ms preprocess, 254.1ms inference, 0.0ms postprocess per image at shape (1, 3, 640, 640)\n"
     ]
    },
    {
     "name": "stdout",
     "output_type": "stream",
     "text": [
      "\n",
      "-7\n",
      "{FRAME: X 207.600891, Y -8.28712463, Z 486.08136, A -135.306152, B -0.0378621183, C -179.961731}\n",
      "{'x_sort': [array([  8, 214])], 'currentClass': 5, 'isEmpty': False, 'second': 1705917059, 'depth1': [457]}\n",
      "{FRAME: X 23.333333333333314, Y 900.0, Z 200.0, A 0.0, B 0.0, C 180.0}\n",
      "{FRAME: X 0.0, Y 100.0, Z 200.0, A 90.0, B 0.0, C 180.0}\n"
     ]
    },
    {
     "name": "stderr",
     "output_type": "stream",
     "text": [
      "\n",
      "0: 640x640 (no detections), 363.5ms\n",
      "Speed: 36.2ms preprocess, 363.5ms inference, 2.1ms postprocess per image at shape (1, 3, 640, 640)\n",
      "\n"
     ]
    },
    {
     "name": "stdout",
     "output_type": "stream",
     "text": [
      "{'x_sort': [array([  8, 214])], 'currentClass': 5, 'isEmpty': False, 'second': 1705917059, 'depth1': [457]}\n"
     ]
    },
    {
     "name": "stderr",
     "output_type": "stream",
     "text": [
      "0: 640x640 (no detections), 414.7ms\n",
      "Speed: 18.7ms preprocess, 414.7ms inference, 2.0ms postprocess per image at shape (1, 3, 640, 640)\n",
      "\n"
     ]
    },
    {
     "name": "stdout",
     "output_type": "stream",
     "text": [
      "{'x_sort': [array([  8, 214])], 'currentClass': 5, 'isEmpty': False, 'second': 1705917059, 'depth1': [457]}\n"
     ]
    },
    {
     "name": "stderr",
     "output_type": "stream",
     "text": [
      "0: 640x640 (no detections), 234.8ms\n",
      "Speed: 10.0ms preprocess, 234.8ms inference, 0.0ms postprocess per image at shape (1, 3, 640, 640)\n",
      "\n"
     ]
    },
    {
     "name": "stdout",
     "output_type": "stream",
     "text": [
      "{'x_sort': [array([  8, 214])], 'currentClass': 5, 'isEmpty': False, 'second': 1705917059, 'depth1': [457]}\n"
     ]
    },
    {
     "name": "stderr",
     "output_type": "stream",
     "text": [
      "0: 640x640 (no detections), 251.4ms\n",
      "Speed: 14.4ms preprocess, 251.4ms inference, 8.0ms postprocess per image at shape (1, 3, 640, 640)\n",
      "\n"
     ]
    },
    {
     "name": "stdout",
     "output_type": "stream",
     "text": [
      "{'x_sort': [array([  8, 214])], 'currentClass': 5, 'isEmpty': False, 'second': 1705917059, 'depth1': [457]}\n"
     ]
    },
    {
     "name": "stderr",
     "output_type": "stream",
     "text": [
      "0: 640x640 (no detections), 439.7ms\n",
      "Speed: 26.2ms preprocess, 439.7ms inference, 0.0ms postprocess per image at shape (1, 3, 640, 640)\n",
      "\n"
     ]
    },
    {
     "name": "stdout",
     "output_type": "stream",
     "text": [
      "{'x_sort': [array([  8, 214])], 'currentClass': 5, 'isEmpty': False, 'second': 1705917059, 'depth1': [457]}\n"
     ]
    },
    {
     "name": "stderr",
     "output_type": "stream",
     "text": [
      "0: 640x640 (no detections), 242.0ms\n",
      "Speed: 14.0ms preprocess, 242.0ms inference, 0.0ms postprocess per image at shape (1, 3, 640, 640)\n",
      "\n"
     ]
    },
    {
     "name": "stdout",
     "output_type": "stream",
     "text": [
      "{'x_sort': [array([  8, 214])], 'currentClass': 5, 'isEmpty': False, 'second': 1705917059, 'depth1': [457]}\n"
     ]
    },
    {
     "name": "stderr",
     "output_type": "stream",
     "text": [
      "0: 640x640 (no detections), 416.5ms\n",
      "Speed: 43.6ms preprocess, 416.5ms inference, 0.0ms postprocess per image at shape (1, 3, 640, 640)\n",
      "\n"
     ]
    },
    {
     "name": "stdout",
     "output_type": "stream",
     "text": [
      "{'x_sort': [array([  8, 214])], 'currentClass': 5, 'isEmpty': False, 'second': 1705917059, 'depth1': [457]}\n"
     ]
    },
    {
     "name": "stderr",
     "output_type": "stream",
     "text": [
      "0: 640x640 (no detections), 234.1ms\n",
      "Speed: 19.0ms preprocess, 234.1ms inference, 8.0ms postprocess per image at shape (1, 3, 640, 640)\n",
      "\n"
     ]
    },
    {
     "name": "stdout",
     "output_type": "stream",
     "text": [
      "{'x_sort': [array([  8, 214])], 'currentClass': 5, 'isEmpty': False, 'second': 1705917059, 'depth1': [457]}\n"
     ]
    },
    {
     "name": "stderr",
     "output_type": "stream",
     "text": [
      "0: 640x640 (no detections), 340.1ms\n",
      "Speed: 25.9ms preprocess, 340.1ms inference, 8.3ms postprocess per image at shape (1, 3, 640, 640)\n",
      "\n"
     ]
    },
    {
     "name": "stdout",
     "output_type": "stream",
     "text": [
      "{'x_sort': [array([  8, 214])], 'currentClass': 5, 'isEmpty': False, 'second': 1705917059, 'depth1': [457]}\n"
     ]
    },
    {
     "name": "stderr",
     "output_type": "stream",
     "text": [
      "0: 640x640 (no detections), 250.3ms\n",
      "Speed: 16.0ms preprocess, 250.3ms inference, 8.4ms postprocess per image at shape (1, 3, 640, 640)\n",
      "\n"
     ]
    },
    {
     "name": "stdout",
     "output_type": "stream",
     "text": [
      "{'x_sort': [array([  8, 214])], 'currentClass': 5, 'isEmpty': False, 'second': 1705917059, 'depth1': [457]}\n"
     ]
    },
    {
     "name": "stderr",
     "output_type": "stream",
     "text": [
      "0: 640x640 (no detections), 392.7ms\n",
      "Speed: 17.0ms preprocess, 392.7ms inference, 0.0ms postprocess per image at shape (1, 3, 640, 640)\n",
      "\n"
     ]
    },
    {
     "name": "stdout",
     "output_type": "stream",
     "text": [
      "{'x_sort': [array([  8, 214])], 'currentClass': 5, 'isEmpty': False, 'second': 1705917059, 'depth1': [457]}\n"
     ]
    },
    {
     "name": "stderr",
     "output_type": "stream",
     "text": [
      "0: 640x640 (no detections), 248.4ms\n",
      "Speed: 15.2ms preprocess, 248.4ms inference, 0.0ms postprocess per image at shape (1, 3, 640, 640)\n",
      "\n"
     ]
    },
    {
     "name": "stdout",
     "output_type": "stream",
     "text": [
      "{'x_sort': [array([  8, 214])], 'currentClass': 5, 'isEmpty': False, 'second': 1705917059, 'depth1': [457]}\n"
     ]
    },
    {
     "name": "stderr",
     "output_type": "stream",
     "text": [
      "0: 640x640 (no detections), 361.6ms\n",
      "Speed: 28.5ms preprocess, 361.6ms inference, 8.1ms postprocess per image at shape (1, 3, 640, 640)\n",
      "\n"
     ]
    },
    {
     "name": "stdout",
     "output_type": "stream",
     "text": [
      "{'x_sort': [array([  8, 214])], 'currentClass': 5, 'isEmpty': False, 'second': 1705917059, 'depth1': [457]}\n"
     ]
    },
    {
     "name": "stderr",
     "output_type": "stream",
     "text": [
      "0: 640x640 (no detections), 405.6ms\n",
      "Speed: 23.2ms preprocess, 405.6ms inference, 0.0ms postprocess per image at shape (1, 3, 640, 640)\n",
      "\n"
     ]
    },
    {
     "name": "stdout",
     "output_type": "stream",
     "text": [
      "{'x_sort': [array([  8, 214])], 'currentClass': 5, 'isEmpty': False, 'second': 1705917059, 'depth1': [457]}\n"
     ]
    },
    {
     "name": "stderr",
     "output_type": "stream",
     "text": [
      "0: 640x640 (no detections), 246.4ms\n",
      "Speed: 15.4ms preprocess, 246.4ms inference, 0.0ms postprocess per image at shape (1, 3, 640, 640)\n",
      "\n"
     ]
    },
    {
     "name": "stdout",
     "output_type": "stream",
     "text": [
      "{'x_sort': [array([  8, 214])], 'currentClass': 5, 'isEmpty': False, 'second': 1705917059, 'depth1': [457]}\n"
     ]
    },
    {
     "name": "stderr",
     "output_type": "stream",
     "text": [
      "0: 640x640 (no detections), 534.6ms\n",
      "Speed: 38.0ms preprocess, 534.6ms inference, 0.0ms postprocess per image at shape (1, 3, 640, 640)\n",
      "\n"
     ]
    },
    {
     "name": "stdout",
     "output_type": "stream",
     "text": [
      "{'x_sort': [array([  8, 214])], 'currentClass': 5, 'isEmpty': False, 'second': 1705917059, 'depth1': [457]}\n"
     ]
    },
    {
     "name": "stderr",
     "output_type": "stream",
     "text": [
      "0: 640x640 (no detections), 239.4ms\n",
      "Speed: 15.2ms preprocess, 239.4ms inference, 0.0ms postprocess per image at shape (1, 3, 640, 640)\n",
      "\n"
     ]
    },
    {
     "name": "stdout",
     "output_type": "stream",
     "text": [
      "{'x_sort': [array([  8, 214])], 'currentClass': 5, 'isEmpty': False, 'second': 1705917059, 'depth1': [457]}\n"
     ]
    },
    {
     "name": "stderr",
     "output_type": "stream",
     "text": [
      "0: 640x640 (no detections), 242.2ms\n",
      "Speed: 22.2ms preprocess, 242.2ms inference, 0.0ms postprocess per image at shape (1, 3, 640, 640)\n",
      "\n"
     ]
    },
    {
     "name": "stdout",
     "output_type": "stream",
     "text": [
      "{'x_sort': [array([  8, 214])], 'currentClass': 5, 'isEmpty': False, 'second': 1705917059, 'depth1': [457]}\n"
     ]
    },
    {
     "name": "stderr",
     "output_type": "stream",
     "text": [
      "0: 640x640 (no detections), 438.6ms\n",
      "Speed: 34.5ms preprocess, 438.6ms inference, 8.0ms postprocess per image at shape (1, 3, 640, 640)\n",
      "\n"
     ]
    },
    {
     "name": "stdout",
     "output_type": "stream",
     "text": [
      "{'x_sort': [array([  8, 214])], 'currentClass': 5, 'isEmpty': False, 'second': 1705917059, 'depth1': [457]}\n"
     ]
    },
    {
     "name": "stderr",
     "output_type": "stream",
     "text": [
      "0: 640x640 (no detections), 257.1ms\n",
      "Speed: 12.0ms preprocess, 257.1ms inference, 2.1ms postprocess per image at shape (1, 3, 640, 640)\n",
      "\n"
     ]
    },
    {
     "name": "stdout",
     "output_type": "stream",
     "text": [
      "{'x_sort': [array([  8, 214])], 'currentClass': 5, 'isEmpty': False, 'second': 1705917059, 'depth1': [457]}\n"
     ]
    },
    {
     "name": "stderr",
     "output_type": "stream",
     "text": [
      "0: 640x640 (no detections), 383.3ms\n",
      "Speed: 26.8ms preprocess, 383.3ms inference, 0.0ms postprocess per image at shape (1, 3, 640, 640)\n",
      "\n"
     ]
    },
    {
     "name": "stdout",
     "output_type": "stream",
     "text": [
      "{'x_sort': [array([  8, 214])], 'currentClass': 5, 'isEmpty': False, 'second': 1705917059, 'depth1': [457]}\n"
     ]
    },
    {
     "name": "stderr",
     "output_type": "stream",
     "text": [
      "0: 640x640 (no detections), 413.5ms\n",
      "Speed: 22.7ms preprocess, 413.5ms inference, 0.0ms postprocess per image at shape (1, 3, 640, 640)\n"
     ]
    },
    {
     "name": "stdout",
     "output_type": "stream",
     "text": [
      "off\n",
      "{FRAME: X 207.600891, Y -8.28712463, Z 486.08136, A -135.306152, B -0.0378621183, C -179.961731}\n",
      "{FRAME: X 23.333333333333314, Y 900.0, Z 300.0, A 0.0, B 0.0, C 180.0}\n",
      "{'x_sort': [array([  8, 214])], 'currentClass': 5, 'isEmpty': False, 'second': 1705917059, 'depth1': [457]}\n"
     ]
    },
    {
     "name": "stderr",
     "output_type": "stream",
     "text": [
      "\n",
      "0: 640x640 (no detections), 364.0ms\n",
      "Speed: 43.7ms preprocess, 364.0ms inference, 0.0ms postprocess per image at shape (1, 3, 640, 640)\n",
      "\n"
     ]
    },
    {
     "name": "stdout",
     "output_type": "stream",
     "text": [
      "{'x_sort': [array([  8, 214])], 'currentClass': 5, 'isEmpty': False, 'second': 1705917059, 'depth1': [457]}\n"
     ]
    },
    {
     "name": "stderr",
     "output_type": "stream",
     "text": [
      "0: 640x640 (no detections), 237.5ms\n",
      "Speed: 11.0ms preprocess, 237.5ms inference, 0.0ms postprocess per image at shape (1, 3, 640, 640)\n",
      "\n"
     ]
    },
    {
     "name": "stdout",
     "output_type": "stream",
     "text": [
      "{'x_sort': [array([  8, 214])], 'currentClass': 5, 'isEmpty': False, 'second': 1705917059, 'depth1': [457]}\n"
     ]
    },
    {
     "name": "stderr",
     "output_type": "stream",
     "text": [
      "0: 640x640 (no detections), 435.3ms\n",
      "Speed: 26.9ms preprocess, 435.3ms inference, 0.0ms postprocess per image at shape (1, 3, 640, 640)\n",
      "\n"
     ]
    },
    {
     "name": "stdout",
     "output_type": "stream",
     "text": [
      "{'x_sort': [array([  8, 214])], 'currentClass': 5, 'isEmpty': False, 'second': 1705917059, 'depth1': [457]}\n"
     ]
    },
    {
     "name": "stderr",
     "output_type": "stream",
     "text": [
      "0: 640x640 (no detections), 239.5ms\n",
      "Speed: 13.2ms preprocess, 239.5ms inference, 8.1ms postprocess per image at shape (1, 3, 640, 640)\n",
      "\n"
     ]
    },
    {
     "name": "stdout",
     "output_type": "stream",
     "text": [
      "{'x_sort': [array([  8, 214])], 'currentClass': 5, 'isEmpty': False, 'second': 1705917059, 'depth1': [457]}\n"
     ]
    },
    {
     "name": "stderr",
     "output_type": "stream",
     "text": [
      "0: 640x640 (no detections), 290.9ms\n",
      "Speed: 14.0ms preprocess, 290.9ms inference, 10.6ms postprocess per image at shape (1, 3, 640, 640)\n",
      "\n"
     ]
    },
    {
     "name": "stdout",
     "output_type": "stream",
     "text": [
      "{'x_sort': [array([  8, 214])], 'currentClass': 5, 'isEmpty': False, 'second': 1705917059, 'depth1': [457]}\n"
     ]
    },
    {
     "name": "stderr",
     "output_type": "stream",
     "text": [
      "0: 640x640 (no detections), 391.2ms\n",
      "Speed: 19.0ms preprocess, 391.2ms inference, 0.0ms postprocess per image at shape (1, 3, 640, 640)\n",
      "\n"
     ]
    },
    {
     "name": "stdout",
     "output_type": "stream",
     "text": [
      "{'x_sort': [array([  8, 214])], 'currentClass': 5, 'isEmpty': False, 'second': 1705917059, 'depth1': [457]}\n"
     ]
    },
    {
     "name": "stderr",
     "output_type": "stream",
     "text": [
      "0: 640x640 (no detections), 411.7ms\n",
      "Speed: 19.7ms preprocess, 411.7ms inference, 0.0ms postprocess per image at shape (1, 3, 640, 640)\n",
      "\n"
     ]
    },
    {
     "name": "stdout",
     "output_type": "stream",
     "text": [
      "{'x_sort': [array([  8, 214])], 'currentClass': 5, 'isEmpty': False, 'second': 1705917059, 'depth1': [457]}\n"
     ]
    },
    {
     "name": "stderr",
     "output_type": "stream",
     "text": [
      "0: 640x640 (no detections), 395.2ms\n",
      "Speed: 25.0ms preprocess, 395.2ms inference, 11.8ms postprocess per image at shape (1, 3, 640, 640)\n",
      "\n"
     ]
    },
    {
     "name": "stdout",
     "output_type": "stream",
     "text": [
      "{'x_sort': [array([  8, 214])], 'currentClass': 5, 'isEmpty': False, 'second': 1705917059, 'depth1': [457]}\n"
     ]
    },
    {
     "name": "stderr",
     "output_type": "stream",
     "text": [
      "0: 640x640 1 trash, 396.7ms\n",
      "Speed: 20.8ms preprocess, 396.7ms inference, 2.1ms postprocess per image at shape (1, 3, 640, 640)\n",
      "\n"
     ]
    },
    {
     "name": "stdout",
     "output_type": "stream",
     "text": [
      "{'x_sort': [array([326, 208])], 'currentClass': 5, 'isEmpty': False, 'second': 1705917081, 'depth1': [466]}\n"
     ]
    },
    {
     "name": "stderr",
     "output_type": "stream",
     "text": [
      "0: 640x640 (no detections), 356.4ms\n",
      "Speed: 14.1ms preprocess, 356.4ms inference, 10.3ms postprocess per image at shape (1, 3, 640, 640)\n",
      "\n"
     ]
    },
    {
     "name": "stdout",
     "output_type": "stream",
     "text": [
      "{'x_sort': [array([326, 208])], 'currentClass': 5, 'isEmpty': False, 'second': 1705917081, 'depth1': [466]}\n"
     ]
    },
    {
     "name": "stderr",
     "output_type": "stream",
     "text": [
      "0: 640x640 (no detections), 345.6ms\n",
      "Speed: 13.1ms preprocess, 345.6ms inference, 2.1ms postprocess per image at shape (1, 3, 640, 640)\n",
      "\n"
     ]
    },
    {
     "name": "stdout",
     "output_type": "stream",
     "text": [
      "{'x_sort': [array([326, 208])], 'currentClass': 5, 'isEmpty': False, 'second': 1705917081, 'depth1': [466]}\n"
     ]
    },
    {
     "name": "stderr",
     "output_type": "stream",
     "text": [
      "0: 640x640 (no detections), 240.6ms\n",
      "Speed: 20.7ms preprocess, 240.6ms inference, 2.2ms postprocess per image at shape (1, 3, 640, 640)\n",
      "\n"
     ]
    },
    {
     "name": "stdout",
     "output_type": "stream",
     "text": [
      "{'x_sort': [array([326, 208])], 'currentClass': 5, 'isEmpty': False, 'second': 1705917081, 'depth1': [466]}\n"
     ]
    },
    {
     "name": "stderr",
     "output_type": "stream",
     "text": [
      "0: 640x640 (no detections), 365.9ms\n",
      "Speed: 15.0ms preprocess, 365.9ms inference, 2.2ms postprocess per image at shape (1, 3, 640, 640)\n",
      "\n"
     ]
    },
    {
     "name": "stdout",
     "output_type": "stream",
     "text": [
      "{'x_sort': [array([326, 208])], 'currentClass': 5, 'isEmpty': False, 'second': 1705917081, 'depth1': [466]}\n"
     ]
    },
    {
     "name": "stderr",
     "output_type": "stream",
     "text": [
      "0: 640x640 (no detections), 436.9ms\n",
      "Speed: 33.4ms preprocess, 436.9ms inference, 0.0ms postprocess per image at shape (1, 3, 640, 640)\n",
      "\n"
     ]
    },
    {
     "name": "stdout",
     "output_type": "stream",
     "text": [
      "{'x_sort': [array([326, 208])], 'currentClass': 5, 'isEmpty': False, 'second': 1705917081, 'depth1': [466]}\n"
     ]
    },
    {
     "name": "stderr",
     "output_type": "stream",
     "text": [
      "0: 640x640 (no detections), 244.6ms\n",
      "Speed: 12.0ms preprocess, 244.6ms inference, 2.1ms postprocess per image at shape (1, 3, 640, 640)\n",
      "\n"
     ]
    },
    {
     "name": "stdout",
     "output_type": "stream",
     "text": [
      "{'x_sort': [array([326, 208])], 'currentClass': 5, 'isEmpty': False, 'second': 1705917081, 'depth1': [466]}\n"
     ]
    },
    {
     "name": "stderr",
     "output_type": "stream",
     "text": [
      "0: 640x640 (no detections), 569.0ms\n",
      "Speed: 25.2ms preprocess, 569.0ms inference, 10.2ms postprocess per image at shape (1, 3, 640, 640)\n",
      "\n"
     ]
    },
    {
     "name": "stdout",
     "output_type": "stream",
     "text": [
      "{'x_sort': [array([326, 208])], 'currentClass': 5, 'isEmpty': False, 'second': 1705917081, 'depth1': [466]}\n"
     ]
    },
    {
     "name": "stderr",
     "output_type": "stream",
     "text": [
      "0: 640x640 (no detections), 278.7ms\n",
      "Speed: 17.7ms preprocess, 278.7ms inference, 10.4ms postprocess per image at shape (1, 3, 640, 640)\n",
      "\n"
     ]
    },
    {
     "name": "stdout",
     "output_type": "stream",
     "text": [
      "{'x_sort': [array([326, 208])], 'currentClass': 5, 'isEmpty': False, 'second': 1705917081, 'depth1': [466]}\n"
     ]
    },
    {
     "name": "stderr",
     "output_type": "stream",
     "text": [
      "0: 640x640 (no detections), 372.2ms\n",
      "Speed: 44.1ms preprocess, 372.2ms inference, 8.1ms postprocess per image at shape (1, 3, 640, 640)\n",
      "\n"
     ]
    },
    {
     "name": "stdout",
     "output_type": "stream",
     "text": [
      "{'x_sort': [array([326, 208])], 'currentClass': 5, 'isEmpty': False, 'second': 1705917081, 'depth1': [466]}\n"
     ]
    },
    {
     "name": "stderr",
     "output_type": "stream",
     "text": [
      "0: 640x640 (no detections), 410.4ms\n",
      "Speed: 12.0ms preprocess, 410.4ms inference, 10.5ms postprocess per image at shape (1, 3, 640, 640)\n",
      "\n"
     ]
    },
    {
     "name": "stdout",
     "output_type": "stream",
     "text": [
      "{'x_sort': [array([326, 208])], 'currentClass': 5, 'isEmpty': False, 'second': 1705917081, 'depth1': [466]}\n"
     ]
    },
    {
     "name": "stderr",
     "output_type": "stream",
     "text": [
      "0: 640x640 (no detections), 401.4ms\n",
      "Speed: 25.2ms preprocess, 401.4ms inference, 10.3ms postprocess per image at shape (1, 3, 640, 640)\n",
      "\n"
     ]
    },
    {
     "name": "stdout",
     "output_type": "stream",
     "text": [
      "{'x_sort': [array([326, 208])], 'currentClass': 5, 'isEmpty': False, 'second': 1705917081, 'depth1': [466]}\n"
     ]
    },
    {
     "name": "stderr",
     "output_type": "stream",
     "text": [
      "0: 640x640 (no detections), 370.2ms\n",
      "Speed: 19.0ms preprocess, 370.2ms inference, 8.2ms postprocess per image at shape (1, 3, 640, 640)\n",
      "\n"
     ]
    },
    {
     "name": "stdout",
     "output_type": "stream",
     "text": [
      "{'x_sort': [array([326, 208])], 'currentClass': 5, 'isEmpty': False, 'second': 1705917081, 'depth1': [466]}\n"
     ]
    },
    {
     "name": "stderr",
     "output_type": "stream",
     "text": [
      "0: 640x640 (no detections), 451.4ms\n",
      "Speed: 30.5ms preprocess, 451.4ms inference, 0.0ms postprocess per image at shape (1, 3, 640, 640)\n",
      "\n"
     ]
    },
    {
     "name": "stdout",
     "output_type": "stream",
     "text": [
      "{'x_sort': [array([326, 208])], 'currentClass': 5, 'isEmpty': False, 'second': 1705917081, 'depth1': [466]}\n"
     ]
    },
    {
     "name": "stderr",
     "output_type": "stream",
     "text": [
      "0: 640x640 (no detections), 244.6ms\n",
      "Speed: 12.3ms preprocess, 244.6ms inference, 0.0ms postprocess per image at shape (1, 3, 640, 640)\n",
      "\n"
     ]
    },
    {
     "name": "stdout",
     "output_type": "stream",
     "text": [
      "{'x_sort': [array([326, 208])], 'currentClass': 5, 'isEmpty': False, 'second': 1705917081, 'depth1': [466]}\n"
     ]
    },
    {
     "name": "stderr",
     "output_type": "stream",
     "text": [
      "0: 640x640 (no detections), 426.2ms\n",
      "Speed: 28.2ms preprocess, 426.2ms inference, 8.1ms postprocess per image at shape (1, 3, 640, 640)\n",
      "\n"
     ]
    },
    {
     "name": "stdout",
     "output_type": "stream",
     "text": [
      "{'x_sort': [array([326, 208])], 'currentClass': 5, 'isEmpty': False, 'second': 1705917081, 'depth1': [466]}\n"
     ]
    },
    {
     "name": "stderr",
     "output_type": "stream",
     "text": [
      "0: 640x640 (no detections), 632.1ms\n",
      "Speed: 32.1ms preprocess, 632.1ms inference, 10.4ms postprocess per image at shape (1, 3, 640, 640)\n",
      "\n"
     ]
    },
    {
     "name": "stdout",
     "output_type": "stream",
     "text": [
      "{'x_sort': [array([326, 208])], 'currentClass': 5, 'isEmpty': False, 'second': 1705917081, 'depth1': [466]}\n"
     ]
    },
    {
     "name": "stderr",
     "output_type": "stream",
     "text": [
      "0: 640x640 (no detections), 908.1ms\n",
      "Speed: 25.3ms preprocess, 908.1ms inference, 10.4ms postprocess per image at shape (1, 3, 640, 640)\n",
      "\n"
     ]
    },
    {
     "name": "stdout",
     "output_type": "stream",
     "text": [
      "{'x_sort': [array([326, 208])], 'currentClass': 5, 'isEmpty': False, 'second': 1705917081, 'depth1': [466]}\n"
     ]
    },
    {
     "name": "stderr",
     "output_type": "stream",
     "text": [
      "0: 640x640 (no detections), 726.8ms\n",
      "Speed: 29.1ms preprocess, 726.8ms inference, 8.3ms postprocess per image at shape (1, 3, 640, 640)\n",
      "\n"
     ]
    },
    {
     "name": "stdout",
     "output_type": "stream",
     "text": [
      "{'x_sort': [array([326, 208])], 'currentClass': 5, 'isEmpty': False, 'second': 1705917081, 'depth1': [466]}\n"
     ]
    },
    {
     "name": "stderr",
     "output_type": "stream",
     "text": [
      "0: 640x640 (no detections), 239.0ms\n",
      "Speed: 12.0ms preprocess, 239.0ms inference, 0.0ms postprocess per image at shape (1, 3, 640, 640)\n",
      "\n"
     ]
    },
    {
     "name": "stdout",
     "output_type": "stream",
     "text": [
      "{'x_sort': [array([326, 208])], 'currentClass': 5, 'isEmpty': False, 'second': 1705917081, 'depth1': [466]}\n"
     ]
    },
    {
     "name": "stderr",
     "output_type": "stream",
     "text": [
      "0: 640x640 (no detections), 328.7ms\n",
      "Speed: 22.2ms preprocess, 328.7ms inference, 8.2ms postprocess per image at shape (1, 3, 640, 640)\n",
      "\n"
     ]
    },
    {
     "name": "stdout",
     "output_type": "stream",
     "text": [
      "{'x_sort': [array([326, 208])], 'currentClass': 5, 'isEmpty': False, 'second': 1705917081, 'depth1': [466]}\n"
     ]
    },
    {
     "name": "stderr",
     "output_type": "stream",
     "text": [
      "0: 640x640 (no detections), 232.9ms\n",
      "Speed: 16.0ms preprocess, 232.9ms inference, 8.2ms postprocess per image at shape (1, 3, 640, 640)\n",
      "\n"
     ]
    },
    {
     "name": "stdout",
     "output_type": "stream",
     "text": [
      "{'x_sort': [array([326, 208])], 'currentClass': 5, 'isEmpty': False, 'second': 1705917081, 'depth1': [466]}\n"
     ]
    },
    {
     "name": "stderr",
     "output_type": "stream",
     "text": [
      "0: 640x640 (no detections), 330.8ms\n",
      "Speed: 12.0ms preprocess, 330.8ms inference, 22.0ms postprocess per image at shape (1, 3, 640, 640)\n",
      "\n"
     ]
    },
    {
     "name": "stdout",
     "output_type": "stream",
     "text": [
      "{'x_sort': [array([326, 208])], 'currentClass': 5, 'isEmpty': False, 'second': 1705917081, 'depth1': [466]}\n"
     ]
    },
    {
     "name": "stderr",
     "output_type": "stream",
     "text": [
      "0: 640x640 (no detections), 424.1ms\n",
      "Speed: 27.4ms preprocess, 424.1ms inference, 8.2ms postprocess per image at shape (1, 3, 640, 640)\n",
      "\n"
     ]
    },
    {
     "name": "stdout",
     "output_type": "stream",
     "text": [
      "{'x_sort': [array([326, 208])], 'currentClass': 5, 'isEmpty': False, 'second': 1705917081, 'depth1': [466]}\n"
     ]
    },
    {
     "name": "stderr",
     "output_type": "stream",
     "text": [
      "0: 640x640 (no detections), 356.5ms\n",
      "Speed: 16.3ms preprocess, 356.5ms inference, 0.0ms postprocess per image at shape (1, 3, 640, 640)\n",
      "\n"
     ]
    },
    {
     "name": "stdout",
     "output_type": "stream",
     "text": [
      "{'x_sort': [array([326, 208])], 'currentClass': 5, 'isEmpty': False, 'second': 1705917081, 'depth1': [466]}\n"
     ]
    },
    {
     "name": "stderr",
     "output_type": "stream",
     "text": [
      "0: 640x640 (no detections), 244.9ms\n",
      "Speed: 13.4ms preprocess, 244.9ms inference, 0.0ms postprocess per image at shape (1, 3, 640, 640)\n",
      "\n"
     ]
    },
    {
     "name": "stdout",
     "output_type": "stream",
     "text": [
      "{'x_sort': [array([326, 208])], 'currentClass': 5, 'isEmpty': False, 'second': 1705917081, 'depth1': [466]}\n"
     ]
    },
    {
     "name": "stderr",
     "output_type": "stream",
     "text": [
      "0: 640x640 (no detections), 319.8ms\n",
      "Speed: 21.0ms preprocess, 319.8ms inference, 2.1ms postprocess per image at shape (1, 3, 640, 640)\n",
      "\n"
     ]
    },
    {
     "name": "stdout",
     "output_type": "stream",
     "text": [
      "{'x_sort': [array([326, 208])], 'currentClass': 5, 'isEmpty': False, 'second': 1705917081, 'depth1': [466]}\n"
     ]
    },
    {
     "name": "stderr",
     "output_type": "stream",
     "text": [
      "0: 640x640 (no detections), 473.5ms\n",
      "Speed: 16.1ms preprocess, 473.5ms inference, 2.1ms postprocess per image at shape (1, 3, 640, 640)\n",
      "\n"
     ]
    },
    {
     "name": "stdout",
     "output_type": "stream",
     "text": [
      "{'x_sort': [array([326, 208])], 'currentClass': 5, 'isEmpty': False, 'second': 1705917081, 'depth1': [466]}\n"
     ]
    },
    {
     "name": "stderr",
     "output_type": "stream",
     "text": [
      "0: 640x640 (no detections), 238.7ms\n",
      "Speed: 10.0ms preprocess, 238.7ms inference, 7.1ms postprocess per image at shape (1, 3, 640, 640)\n",
      "\n"
     ]
    },
    {
     "name": "stdout",
     "output_type": "stream",
     "text": [
      "{'x_sort': [array([326, 208])], 'currentClass': 5, 'isEmpty': False, 'second': 1705917081, 'depth1': [466]}\n"
     ]
    },
    {
     "name": "stderr",
     "output_type": "stream",
     "text": [
      "0: 640x640 (no detections), 359.8ms\n",
      "Speed: 16.4ms preprocess, 359.8ms inference, 10.4ms postprocess per image at shape (1, 3, 640, 640)\n",
      "\n"
     ]
    },
    {
     "name": "stdout",
     "output_type": "stream",
     "text": [
      "{'x_sort': [array([326, 208])], 'currentClass': 5, 'isEmpty': False, 'second': 1705917081, 'depth1': [466]}\n"
     ]
    },
    {
     "name": "stderr",
     "output_type": "stream",
     "text": [
      "0: 640x640 (no detections), 238.5ms\n",
      "Speed: 16.1ms preprocess, 238.5ms inference, 0.0ms postprocess per image at shape (1, 3, 640, 640)\n",
      "\n"
     ]
    },
    {
     "name": "stdout",
     "output_type": "stream",
     "text": [
      "{'x_sort': [array([326, 208])], 'currentClass': 5, 'isEmpty': False, 'second': 1705917081, 'depth1': [466]}\n"
     ]
    },
    {
     "name": "stderr",
     "output_type": "stream",
     "text": [
      "0: 640x640 (no detections), 242.2ms\n",
      "Speed: 11.1ms preprocess, 242.2ms inference, 2.1ms postprocess per image at shape (1, 3, 640, 640)\n",
      "\n"
     ]
    },
    {
     "name": "stdout",
     "output_type": "stream",
     "text": [
      "{'x_sort': [array([326, 208])], 'currentClass': 5, 'isEmpty': False, 'second': 1705917081, 'depth1': [466]}\n"
     ]
    },
    {
     "name": "stderr",
     "output_type": "stream",
     "text": [
      "0: 640x640 (no detections), 383.5ms\n",
      "Speed: 21.1ms preprocess, 383.5ms inference, 0.0ms postprocess per image at shape (1, 3, 640, 640)\n",
      "\n"
     ]
    },
    {
     "name": "stdout",
     "output_type": "stream",
     "text": [
      "{'x_sort': [array([326, 208])], 'currentClass': 5, 'isEmpty': False, 'second': 1705917081, 'depth1': [466]}\n"
     ]
    },
    {
     "name": "stderr",
     "output_type": "stream",
     "text": [
      "0: 640x640 (no detections), 467.7ms\n",
      "Speed: 15.1ms preprocess, 467.7ms inference, 0.0ms postprocess per image at shape (1, 3, 640, 640)\n",
      "\n"
     ]
    },
    {
     "name": "stdout",
     "output_type": "stream",
     "text": [
      "{'x_sort': [array([326, 208])], 'currentClass': 5, 'isEmpty': False, 'second': 1705917081, 'depth1': [466]}\n"
     ]
    },
    {
     "name": "stderr",
     "output_type": "stream",
     "text": [
      "0: 640x640 (no detections), 234.4ms\n",
      "Speed: 19.5ms preprocess, 234.4ms inference, 8.1ms postprocess per image at shape (1, 3, 640, 640)\n",
      "\n"
     ]
    },
    {
     "name": "stdout",
     "output_type": "stream",
     "text": [
      "{'x_sort': [array([326, 208])], 'currentClass': 5, 'isEmpty': False, 'second': 1705917081, 'depth1': [466]}\n"
     ]
    },
    {
     "name": "stderr",
     "output_type": "stream",
     "text": [
      "0: 640x640 (no detections), 236.5ms\n",
      "Speed: 12.7ms preprocess, 236.5ms inference, 0.0ms postprocess per image at shape (1, 3, 640, 640)\n",
      "\n"
     ]
    },
    {
     "name": "stdout",
     "output_type": "stream",
     "text": [
      "{'x_sort': [array([326, 208])], 'currentClass': 5, 'isEmpty': False, 'second': 1705917081, 'depth1': [466]}\n"
     ]
    },
    {
     "name": "stderr",
     "output_type": "stream",
     "text": [
      "0: 640x640 (no detections), 352.7ms\n",
      "Speed: 27.2ms preprocess, 352.7ms inference, 0.0ms postprocess per image at shape (1, 3, 640, 640)\n",
      "\n"
     ]
    },
    {
     "name": "stdout",
     "output_type": "stream",
     "text": [
      "{'x_sort': [array([326, 208])], 'currentClass': 5, 'isEmpty': False, 'second': 1705917081, 'depth1': [466]}\n"
     ]
    },
    {
     "name": "stderr",
     "output_type": "stream",
     "text": [
      "0: 640x640 (no detections), 363.0ms\n",
      "Speed: 13.0ms preprocess, 363.0ms inference, 2.1ms postprocess per image at shape (1, 3, 640, 640)\n",
      "\n"
     ]
    },
    {
     "name": "stdout",
     "output_type": "stream",
     "text": [
      "{'x_sort': [array([326, 208])], 'currentClass': 5, 'isEmpty': False, 'second': 1705917081, 'depth1': [466]}\n"
     ]
    },
    {
     "name": "stderr",
     "output_type": "stream",
     "text": [
      "0: 640x640 (no detections), 237.1ms\n",
      "Speed: 18.1ms preprocess, 237.1ms inference, 8.2ms postprocess per image at shape (1, 3, 640, 640)\n",
      "\n"
     ]
    },
    {
     "name": "stdout",
     "output_type": "stream",
     "text": [
      "{'x_sort': [array([326, 208])], 'currentClass': 5, 'isEmpty': False, 'second': 1705917081, 'depth1': [466]}\n"
     ]
    },
    {
     "name": "stderr",
     "output_type": "stream",
     "text": [
      "0: 640x640 (no detections), 428.4ms\n",
      "Speed: 15.6ms preprocess, 428.4ms inference, 2.2ms postprocess per image at shape (1, 3, 640, 640)\n",
      "\n"
     ]
    },
    {
     "name": "stdout",
     "output_type": "stream",
     "text": [
      "{'x_sort': [array([326, 208])], 'currentClass': 5, 'isEmpty': False, 'second': 1705917081, 'depth1': [466]}\n"
     ]
    },
    {
     "name": "stderr",
     "output_type": "stream",
     "text": [
      "0: 640x640 (no detections), 470.4ms\n",
      "Speed: 27.1ms preprocess, 470.4ms inference, 0.0ms postprocess per image at shape (1, 3, 640, 640)\n",
      "\n"
     ]
    },
    {
     "name": "stdout",
     "output_type": "stream",
     "text": [
      "{'x_sort': [array([326, 208])], 'currentClass': 5, 'isEmpty': False, 'second': 1705917081, 'depth1': [466]}\n"
     ]
    },
    {
     "name": "stderr",
     "output_type": "stream",
     "text": [
      "0: 640x640 (no detections), 233.8ms\n",
      "Speed: 10.1ms preprocess, 233.8ms inference, 2.1ms postprocess per image at shape (1, 3, 640, 640)\n",
      "\n"
     ]
    },
    {
     "name": "stdout",
     "output_type": "stream",
     "text": [
      "{'x_sort': [array([326, 208])], 'currentClass': 5, 'isEmpty': False, 'second': 1705917081, 'depth1': [466]}\n"
     ]
    },
    {
     "name": "stderr",
     "output_type": "stream",
     "text": [
      "0: 640x640 (no detections), 312.6ms\n",
      "Speed: 22.3ms preprocess, 312.6ms inference, 10.3ms postprocess per image at shape (1, 3, 640, 640)\n",
      "\n"
     ]
    },
    {
     "name": "stdout",
     "output_type": "stream",
     "text": [
      "{'x_sort': [array([326, 208])], 'currentClass': 5, 'isEmpty': False, 'second': 1705917081, 'depth1': [466]}\n"
     ]
    },
    {
     "name": "stderr",
     "output_type": "stream",
     "text": [
      "0: 640x640 (no detections), 403.3ms\n",
      "Speed: 26.0ms preprocess, 403.3ms inference, 0.0ms postprocess per image at shape (1, 3, 640, 640)\n",
      "\n"
     ]
    },
    {
     "name": "stdout",
     "output_type": "stream",
     "text": [
      "{'x_sort': [array([326, 208])], 'currentClass': 5, 'isEmpty': False, 'second': 1705917081, 'depth1': [466]}\n"
     ]
    },
    {
     "name": "stderr",
     "output_type": "stream",
     "text": [
      "0: 640x640 (no detections), 249.7ms\n",
      "Speed: 15.6ms preprocess, 249.7ms inference, 10.8ms postprocess per image at shape (1, 3, 640, 640)\n",
      "\n"
     ]
    },
    {
     "name": "stdout",
     "output_type": "stream",
     "text": [
      "{'x_sort': [array([326, 208])], 'currentClass': 5, 'isEmpty': False, 'second': 1705917081, 'depth1': [466]}\n"
     ]
    },
    {
     "name": "stderr",
     "output_type": "stream",
     "text": [
      "0: 640x640 1 paper, 367.6ms\n",
      "Speed: 26.7ms preprocess, 367.6ms inference, 0.0ms postprocess per image at shape (1, 3, 640, 640)\n",
      "\n"
     ]
    },
    {
     "name": "stdout",
     "output_type": "stream",
     "text": [
      "{'x_sort': [array([627, 239])], 'currentClass': 3, 'isEmpty': False, 'second': 1705917102, 'depth1': [437]}\n"
     ]
    },
    {
     "name": "stderr",
     "output_type": "stream",
     "text": [
      "0: 640x640 1 paper, 390.6ms\n",
      "Speed: 21.1ms preprocess, 390.6ms inference, 0.0ms postprocess per image at shape (1, 3, 640, 640)\n",
      "\n"
     ]
    },
    {
     "name": "stdout",
     "output_type": "stream",
     "text": [
      "{'x_sort': [array([606, 242])], 'currentClass': 3, 'isEmpty': False, 'second': 1705917103, 'depth1': [417]}\n"
     ]
    },
    {
     "name": "stderr",
     "output_type": "stream",
     "text": [
      "0: 640x640 1 trash, 272.5ms\n",
      "Speed: 13.0ms preprocess, 272.5ms inference, 0.0ms postprocess per image at shape (1, 3, 640, 640)\n",
      "\n"
     ]
    },
    {
     "name": "stdout",
     "output_type": "stream",
     "text": [
      "{'x_sort': [array([580, 242])], 'currentClass': 5, 'isEmpty': False, 'second': 1705917103, 'depth1': [410]}\n"
     ]
    },
    {
     "name": "stderr",
     "output_type": "stream",
     "text": [
      "0: 640x640 1 trash, 384.5ms\n",
      "Speed: 26.0ms preprocess, 384.5ms inference, 0.0ms postprocess per image at shape (1, 3, 640, 640)\n",
      "\n"
     ]
    },
    {
     "name": "stdout",
     "output_type": "stream",
     "text": [
      "{'x_sort': [array([561, 242])], 'currentClass': 5, 'isEmpty': False, 'second': 1705917103, 'depth1': [408]}\n"
     ]
    },
    {
     "name": "stderr",
     "output_type": "stream",
     "text": [
      "0: 640x640 1 trash, 239.0ms\n",
      "Speed: 15.1ms preprocess, 239.0ms inference, 10.3ms postprocess per image at shape (1, 3, 640, 640)\n",
      "\n"
     ]
    },
    {
     "name": "stdout",
     "output_type": "stream",
     "text": [
      "{'x_sort': [array([520, 243])], 'currentClass': 5, 'isEmpty': False, 'second': 1705917104, 'depth1': [407]}\n"
     ]
    },
    {
     "name": "stderr",
     "output_type": "stream",
     "text": [
      "0: 640x640 1 trash, 287.0ms\n",
      "Speed: 20.0ms preprocess, 287.0ms inference, 0.0ms postprocess per image at shape (1, 3, 640, 640)\n",
      "\n"
     ]
    },
    {
     "name": "stdout",
     "output_type": "stream",
     "text": [
      "{'x_sort': [array([491, 243])], 'currentClass': 5, 'isEmpty': False, 'second': 1705917104, 'depth1': [407]}\n"
     ]
    },
    {
     "name": "stderr",
     "output_type": "stream",
     "text": [
      "0: 640x640 1 trash, 240.4ms\n",
      "Speed: 16.3ms preprocess, 240.4ms inference, 0.0ms postprocess per image at shape (1, 3, 640, 640)\n",
      "\n"
     ]
    },
    {
     "name": "stdout",
     "output_type": "stream",
     "text": [
      "{'x_sort': [array([452, 244])], 'currentClass': 5, 'isEmpty': False, 'second': 1705917104, 'depth1': [408]}\n"
     ]
    },
    {
     "name": "stderr",
     "output_type": "stream",
     "text": [
      "0: 640x640 1 trash, 371.2ms\n",
      "Speed: 18.0ms preprocess, 371.2ms inference, 10.2ms postprocess per image at shape (1, 3, 640, 640)\n",
      "\n"
     ]
    },
    {
     "name": "stdout",
     "output_type": "stream",
     "text": [
      "{'x_sort': [array([419, 244])], 'currentClass': 5, 'isEmpty': False, 'second': 1705917105, 'depth1': [406]}\n"
     ]
    },
    {
     "name": "stderr",
     "output_type": "stream",
     "text": [
      "0: 640x640 1 trash, 244.1ms\n",
      "Speed: 13.2ms preprocess, 244.1ms inference, 0.0ms postprocess per image at shape (1, 3, 640, 640)\n",
      "\n"
     ]
    },
    {
     "name": "stdout",
     "output_type": "stream",
     "text": [
      "{'x_sort': [array([372, 245])], 'currentClass': 5, 'isEmpty': False, 'second': 1705917105, 'depth1': [405]}\n"
     ]
    },
    {
     "name": "stderr",
     "output_type": "stream",
     "text": [
      "0: 640x640 1 trash, 254.2ms\n",
      "Speed: 13.0ms preprocess, 254.2ms inference, 10.3ms postprocess per image at shape (1, 3, 640, 640)\n",
      "\n"
     ]
    },
    {
     "name": "stdout",
     "output_type": "stream",
     "text": [
      "{'x_sort': [array([341, 245])], 'currentClass': 5, 'isEmpty': False, 'second': 1705917106, 'depth1': [405]}\n"
     ]
    },
    {
     "name": "stderr",
     "output_type": "stream",
     "text": [
      "0: 640x640 1 plastic, 428.7ms\n",
      "Speed: 21.6ms preprocess, 428.7ms inference, 0.0ms postprocess per image at shape (1, 3, 640, 640)\n",
      "\n"
     ]
    },
    {
     "name": "stdout",
     "output_type": "stream",
     "text": [
      "{'x_sort': [array([304, 246])], 'currentClass': 4, 'isEmpty': False, 'second': 1705917106, 'depth1': [406]}\n"
     ]
    },
    {
     "name": "stderr",
     "output_type": "stream",
     "text": [
      "0: 640x640 1 plastic, 233.6ms\n",
      "Speed: 16.0ms preprocess, 233.6ms inference, 10.1ms postprocess per image at shape (1, 3, 640, 640)\n",
      "\n"
     ]
    },
    {
     "name": "stdout",
     "output_type": "stream",
     "text": [
      "{'x_sort': [array([254, 248])], 'currentClass': 4, 'isEmpty': False, 'second': 1705917106, 'depth1': [408]}\n"
     ]
    },
    {
     "name": "stderr",
     "output_type": "stream",
     "text": [
      "0: 640x640 1 plastic, 336.4ms\n",
      "Speed: 19.0ms preprocess, 336.4ms inference, 0.0ms postprocess per image at shape (1, 3, 640, 640)\n",
      "\n"
     ]
    },
    {
     "name": "stdout",
     "output_type": "stream",
     "text": [
      "{'x_sort': [array([220, 247])], 'currentClass': 4, 'isEmpty': False, 'second': 1705917107, 'depth1': [408]}\n"
     ]
    },
    {
     "name": "stderr",
     "output_type": "stream",
     "text": [
      "0: 640x640 1 plastic, 235.5ms\n",
      "Speed: 14.0ms preprocess, 235.5ms inference, 0.0ms postprocess per image at shape (1, 3, 640, 640)\n",
      "\n"
     ]
    },
    {
     "name": "stdout",
     "output_type": "stream",
     "text": [
      "{'x_sort': [array([179, 248])], 'currentClass': 4, 'isEmpty': True, 'second': 1705917107, 'depth1': [407]}\n",
      "meme\n",
      "{FRAME: X 207.600891, Y -8.28712463, Z 486.08136, A -135.306152, B -0.0378621183, C -179.961731}\n",
      "{FRAME: X 50.0, Y 900.0, Z 300.0, A 0.0, B 0.0, C 180.0}\n",
      "{FRAME: X 50.0, Y 900.0, Z 300.0, A 0.0, B 0.0, C 180.0}\n"
     ]
    },
    {
     "name": "stderr",
     "output_type": "stream",
     "text": [
      "0: 640x640 1 plastic, 492.3ms\n",
      "Speed: 33.9ms preprocess, 492.3ms inference, 8.1ms postprocess per image at shape (1, 3, 640, 640)\n",
      "\n"
     ]
    },
    {
     "name": "stdout",
     "output_type": "stream",
     "text": [
      "{'x_sort': [array([147, 248])], 'currentClass': 4, 'isEmpty': True, 'second': 1705917108, 'depth1': [406]}\n"
     ]
    },
    {
     "name": "stderr",
     "output_type": "stream",
     "text": [
      "0: 640x640 1 plastic, 231.7ms\n",
      "Speed: 13.0ms preprocess, 231.7ms inference, 8.1ms postprocess per image at shape (1, 3, 640, 640)\n",
      "\n"
     ]
    },
    {
     "name": "stdout",
     "output_type": "stream",
     "text": [
      "{'x_sort': [array([ 86, 247])], 'currentClass': 4, 'isEmpty': True, 'second': 1705917108, 'depth1': [410]}\n"
     ]
    },
    {
     "name": "stderr",
     "output_type": "stream",
     "text": [
      "0: 640x640 1 plastic, 235.1ms\n",
      "Speed: 19.5ms preprocess, 235.1ms inference, 0.0ms postprocess per image at shape (1, 3, 640, 640)\n",
      "\n"
     ]
    },
    {
     "name": "stdout",
     "output_type": "stream",
     "text": [
      "{'x_sort': [array([ 69, 248])], 'currentClass': 4, 'isEmpty': True, 'second': 1705917108, 'depth1': [413]}\n"
     ]
    },
    {
     "name": "stderr",
     "output_type": "stream",
     "text": [
      "0: 640x640 2 plastics, 256.9ms\n",
      "Speed: 14.1ms preprocess, 256.9ms inference, 2.1ms postprocess per image at shape (1, 3, 640, 640)\n",
      "\n"
     ]
    },
    {
     "name": "stdout",
     "output_type": "stream",
     "text": [
      "{'x_sort': [array([ 33, 204]), array([ 53, 249])], 'currentClass': 4, 'isEmpty': True, 'second': 1705917109, 'depth1': [417, 420]}\n"
     ]
    },
    {
     "name": "stderr",
     "output_type": "stream",
     "text": [
      "0: 640x640 2 trashs, 412.7ms\n",
      "Speed: 34.0ms preprocess, 412.7ms inference, 0.0ms postprocess per image at shape (1, 3, 640, 640)\n"
     ]
    },
    {
     "name": "stdout",
     "output_type": "stream",
     "text": [
      "{FRAME: X 207.600891, Y -8.28712463, Z 486.08136, A -135.306152, B -0.0378621183, C -179.961731}\n",
      "{FRAME: X 24.035087719298247, Y 900.0, Z 43.0, A 0.0, B 0.0, C 180.0}\n",
      "{'x_sort': [array([  8, 207]), array([ 35, 246])], 'currentClass': 5, 'isEmpty': True, 'second': 1705917109, 'depth1': [428, 424]}\n"
     ]
    },
    {
     "name": "stderr",
     "output_type": "stream",
     "text": [
      "\n",
      "0: 640x640 (no detections), 239.8ms\n",
      "Speed: 13.0ms preprocess, 239.8ms inference, 2.1ms postprocess per image at shape (1, 3, 640, 640)\n",
      "\n"
     ]
    },
    {
     "name": "stdout",
     "output_type": "stream",
     "text": [
      "{'x_sort': [array([  8, 207]), array([ 35, 246])], 'currentClass': 5, 'isEmpty': False, 'second': 1705917109, 'depth1': [428, 424]}\n"
     ]
    },
    {
     "name": "stderr",
     "output_type": "stream",
     "text": [
      "0: 640x640 (no detections), 244.2ms\n",
      "Speed: 20.5ms preprocess, 244.2ms inference, 0.0ms postprocess per image at shape (1, 3, 640, 640)\n",
      "\n"
     ]
    },
    {
     "name": "stdout",
     "output_type": "stream",
     "text": [
      "{'x_sort': [array([  8, 207]), array([ 35, 246])], 'currentClass': 5, 'isEmpty': False, 'second': 1705917109, 'depth1': [428, 424]}\n"
     ]
    },
    {
     "name": "stderr",
     "output_type": "stream",
     "text": [
      "0: 640x640 (no detections), 424.4ms\n",
      "Speed: 50.7ms preprocess, 424.4ms inference, 10.3ms postprocess per image at shape (1, 3, 640, 640)\n",
      "\n"
     ]
    },
    {
     "name": "stdout",
     "output_type": "stream",
     "text": [
      "{'x_sort': [array([  8, 207]), array([ 35, 246])], 'currentClass': 5, 'isEmpty': False, 'second': 1705917109, 'depth1': [428, 424]}\n"
     ]
    },
    {
     "name": "stderr",
     "output_type": "stream",
     "text": [
      "0: 640x640 (no detections), 410.4ms\n",
      "Speed: 16.0ms preprocess, 410.4ms inference, 0.0ms postprocess per image at shape (1, 3, 640, 640)\n",
      "\n"
     ]
    },
    {
     "name": "stdout",
     "output_type": "stream",
     "text": [
      "{'x_sort': [array([  8, 207]), array([ 35, 246])], 'currentClass': 5, 'isEmpty': False, 'second': 1705917109, 'depth1': [428, 424]}\n"
     ]
    },
    {
     "name": "stderr",
     "output_type": "stream",
     "text": [
      "0: 640x640 (no detections), 240.7ms\n",
      "Speed: 12.0ms preprocess, 240.7ms inference, 2.1ms postprocess per image at shape (1, 3, 640, 640)\n",
      "\n"
     ]
    },
    {
     "name": "stdout",
     "output_type": "stream",
     "text": [
      "{'x_sort': [array([  8, 207]), array([ 35, 246])], 'currentClass': 5, 'isEmpty': False, 'second': 1705917109, 'depth1': [428, 424]}\n",
      "on\n",
      "0\n",
      "{FRAME: X 207.600891, Y -8.28712463, Z 486.08136, A -135.306152, B -0.0378621183, C -179.961731}\n",
      "{FRAME: X 24.035087719298247, Y 900.0, Z 200.0, A 0.0, B 0.0, C 180.0}\n",
      "{FRAME: X 0.0, Y 100.0, Z 200.0, A 90.0, B 0.0, C 180.0}\n"
     ]
    },
    {
     "name": "stderr",
     "output_type": "stream",
     "text": [
      "0: 640x640 (no detections), 1021.6ms\n",
      "Speed: 39.4ms preprocess, 1021.6ms inference, 55.2ms postprocess per image at shape (1, 3, 640, 640)\n"
     ]
    },
    {
     "name": "stdout",
     "output_type": "stream",
     "text": [
      "{'x_sort': [array([  8, 207]), array([ 35, 246])], 'currentClass': 5, 'isEmpty': False, 'second': 1705917109, 'depth1': [428, 424]}\n"
     ]
    },
    {
     "name": "stderr",
     "output_type": "stream",
     "text": [
      "\n",
      "0: 640x640 (no detections), 1348.0ms\n",
      "Speed: 153.6ms preprocess, 1348.0ms inference, 100.1ms postprocess per image at shape (1, 3, 640, 640)\n"
     ]
    },
    {
     "name": "stdout",
     "output_type": "stream",
     "text": [
      "{'x_sort': [array([  8, 207]), array([ 35, 246])], 'currentClass': 5, 'isEmpty': False, 'second': 1705917109, 'depth1': [428, 424]}\n"
     ]
    },
    {
     "name": "stderr",
     "output_type": "stream",
     "text": [
      "\n",
      "0: 640x640 (no detections), 1500.4ms\n",
      "Speed: 136.8ms preprocess, 1500.4ms inference, 78.9ms postprocess per image at shape (1, 3, 640, 640)\n"
     ]
    },
    {
     "name": "stdout",
     "output_type": "stream",
     "text": [
      "{'x_sort': [array([  8, 207]), array([ 35, 246])], 'currentClass': 5, 'isEmpty': False, 'second': 1705917109, 'depth1': [428, 424]}\n"
     ]
    },
    {
     "name": "stderr",
     "output_type": "stream",
     "text": [
      "\n",
      "0: 640x640 (no detections), 1041.8ms\n",
      "Speed: 174.8ms preprocess, 1041.8ms inference, 8.2ms postprocess per image at shape (1, 3, 640, 640)\n",
      "\n"
     ]
    },
    {
     "name": "stdout",
     "output_type": "stream",
     "text": [
      "{'x_sort': [array([  8, 207]), array([ 35, 246])], 'currentClass': 5, 'isEmpty': False, 'second': 1705917109, 'depth1': [428, 424]}\n"
     ]
    },
    {
     "name": "stderr",
     "output_type": "stream",
     "text": [
      "0: 640x640 (no detections), 246.0ms\n",
      "Speed: 18.1ms preprocess, 246.0ms inference, 0.0ms postprocess per image at shape (1, 3, 640, 640)\n",
      "\n"
     ]
    },
    {
     "name": "stdout",
     "output_type": "stream",
     "text": [
      "{'x_sort': [array([  8, 207]), array([ 35, 246])], 'currentClass': 5, 'isEmpty': False, 'second': 1705917109, 'depth1': [428, 424]}\n"
     ]
    },
    {
     "name": "stderr",
     "output_type": "stream",
     "text": [
      "0: 640x640 1 plastic, 602.6ms\n",
      "Speed: 38.7ms preprocess, 602.6ms inference, 0.0ms postprocess per image at shape (1, 3, 640, 640)\n",
      "\n"
     ]
    },
    {
     "name": "stdout",
     "output_type": "stream",
     "text": [
      "{'x_sort': [array([298, 243])], 'currentClass': 4, 'isEmpty': False, 'second': 1705917120, 'depth1': [462]}\n"
     ]
    },
    {
     "name": "stderr",
     "output_type": "stream",
     "text": [
      "0: 640x640 (no detections), 239.1ms\n",
      "Speed: 15.2ms preprocess, 239.1ms inference, 0.0ms postprocess per image at shape (1, 3, 640, 640)\n",
      "\n"
     ]
    },
    {
     "name": "stdout",
     "output_type": "stream",
     "text": [
      "{'x_sort': [array([298, 243])], 'currentClass': 4, 'isEmpty': False, 'second': 1705917120, 'depth1': [462]}\n"
     ]
    },
    {
     "name": "stderr",
     "output_type": "stream",
     "text": [
      "0: 640x640 (no detections), 258.2ms\n",
      "Speed: 14.0ms preprocess, 258.2ms inference, 0.0ms postprocess per image at shape (1, 3, 640, 640)\n",
      "\n"
     ]
    },
    {
     "name": "stdout",
     "output_type": "stream",
     "text": [
      "{'x_sort': [array([298, 243])], 'currentClass': 4, 'isEmpty': False, 'second': 1705917120, 'depth1': [462]}\n",
      "off\n",
      "{FRAME: X 207.600891, Y -8.28712463, Z 486.08136, A -135.306152, B -0.0378621183, C -179.961731}\n",
      "{FRAME: X 24.035087719298247, Y 900.0, Z 300.0, A 0.0, B 0.0, C 180.0}\n"
     ]
    },
    {
     "name": "stderr",
     "output_type": "stream",
     "text": [
      "0: 640x640 (no detections), 411.6ms\n",
      "Speed: 27.0ms preprocess, 411.6ms inference, 4.0ms postprocess per image at shape (1, 3, 640, 640)\n",
      "\n"
     ]
    },
    {
     "name": "stdout",
     "output_type": "stream",
     "text": [
      "{'x_sort': [array([298, 243])], 'currentClass': 4, 'isEmpty': False, 'second': 1705917120, 'depth1': [462]}\n"
     ]
    },
    {
     "name": "stderr",
     "output_type": "stream",
     "text": [
      "0: 640x640 (no detections), 626.6ms\n",
      "Speed: 67.7ms preprocess, 626.6ms inference, 2.1ms postprocess per image at shape (1, 3, 640, 640)\n",
      "\n"
     ]
    },
    {
     "name": "stdout",
     "output_type": "stream",
     "text": [
      "{'x_sort': [array([298, 243])], 'currentClass': 4, 'isEmpty': False, 'second': 1705917120, 'depth1': [462]}\n"
     ]
    },
    {
     "name": "stderr",
     "output_type": "stream",
     "text": [
      "0: 640x640 (no detections), 448.4ms\n",
      "Speed: 27.5ms preprocess, 448.4ms inference, 10.3ms postprocess per image at shape (1, 3, 640, 640)\n",
      "\n"
     ]
    },
    {
     "name": "stdout",
     "output_type": "stream",
     "text": [
      "{'x_sort': [array([298, 243])], 'currentClass': 4, 'isEmpty': False, 'second': 1705917120, 'depth1': [462]}\n"
     ]
    },
    {
     "name": "stderr",
     "output_type": "stream",
     "text": [
      "0: 640x640 (no detections), 458.8ms\n",
      "Speed: 40.5ms preprocess, 458.8ms inference, 10.3ms postprocess per image at shape (1, 3, 640, 640)\n",
      "\n"
     ]
    },
    {
     "name": "stdout",
     "output_type": "stream",
     "text": [
      "{'x_sort': [array([298, 243])], 'currentClass': 4, 'isEmpty': False, 'second': 1705917120, 'depth1': [462]}\n"
     ]
    },
    {
     "name": "stderr",
     "output_type": "stream",
     "text": [
      "0: 640x640 (no detections), 366.7ms\n",
      "Speed: 15.1ms preprocess, 366.7ms inference, 0.0ms postprocess per image at shape (1, 3, 640, 640)\n",
      "\n"
     ]
    },
    {
     "name": "stdout",
     "output_type": "stream",
     "text": [
      "{'x_sort': [array([298, 243])], 'currentClass': 4, 'isEmpty': False, 'second': 1705917120, 'depth1': [462]}\n"
     ]
    },
    {
     "name": "stderr",
     "output_type": "stream",
     "text": [
      "0: 640x640 (no detections), 252.5ms\n",
      "Speed: 15.0ms preprocess, 252.5ms inference, 8.4ms postprocess per image at shape (1, 3, 640, 640)\n",
      "\n"
     ]
    },
    {
     "name": "stdout",
     "output_type": "stream",
     "text": [
      "{'x_sort': [array([298, 243])], 'currentClass': 4, 'isEmpty': False, 'second': 1705917120, 'depth1': [462]}\n"
     ]
    },
    {
     "name": "stderr",
     "output_type": "stream",
     "text": [
      "0: 640x640 (no detections), 341.3ms\n",
      "Speed: 24.6ms preprocess, 341.3ms inference, 0.0ms postprocess per image at shape (1, 3, 640, 640)\n",
      "\n"
     ]
    },
    {
     "name": "stdout",
     "output_type": "stream",
     "text": [
      "{'x_sort': [array([298, 243])], 'currentClass': 4, 'isEmpty': False, 'second': 1705917120, 'depth1': [462]}\n"
     ]
    },
    {
     "name": "stderr",
     "output_type": "stream",
     "text": [
      "0: 640x640 (no detections), 236.7ms\n",
      "Speed: 16.8ms preprocess, 236.7ms inference, 10.4ms postprocess per image at shape (1, 3, 640, 640)\n",
      "\n"
     ]
    },
    {
     "name": "stdout",
     "output_type": "stream",
     "text": [
      "{'x_sort': [array([298, 243])], 'currentClass': 4, 'isEmpty': False, 'second': 1705917120, 'depth1': [462]}\n"
     ]
    },
    {
     "name": "stderr",
     "output_type": "stream",
     "text": [
      "0: 640x640 (no detections), 267.1ms\n",
      "Speed: 37.0ms preprocess, 267.1ms inference, 2.1ms postprocess per image at shape (1, 3, 640, 640)\n",
      "\n"
     ]
    },
    {
     "name": "stdout",
     "output_type": "stream",
     "text": [
      "{'x_sort': [array([298, 243])], 'currentClass': 4, 'isEmpty': False, 'second': 1705917120, 'depth1': [462]}\n"
     ]
    },
    {
     "name": "stderr",
     "output_type": "stream",
     "text": [
      "0: 640x640 (no detections), 284.2ms\n",
      "Speed: 15.0ms preprocess, 284.2ms inference, 23.1ms postprocess per image at shape (1, 3, 640, 640)\n",
      "\n"
     ]
    },
    {
     "name": "stdout",
     "output_type": "stream",
     "text": [
      "{'x_sort': [array([298, 243])], 'currentClass': 4, 'isEmpty': False, 'second': 1705917120, 'depth1': [462]}\n"
     ]
    },
    {
     "name": "stderr",
     "output_type": "stream",
     "text": [
      "0: 640x640 (no detections), 365.5ms\n",
      "Speed: 30.2ms preprocess, 365.5ms inference, 10.5ms postprocess per image at shape (1, 3, 640, 640)\n",
      "\n"
     ]
    },
    {
     "name": "stdout",
     "output_type": "stream",
     "text": [
      "{'x_sort': [array([298, 243])], 'currentClass': 4, 'isEmpty': False, 'second': 1705917120, 'depth1': [462]}\n"
     ]
    },
    {
     "name": "stderr",
     "output_type": "stream",
     "text": [
      "0: 640x640 (no detections), 866.8ms\n",
      "Speed: 28.4ms preprocess, 866.8ms inference, 2.3ms postprocess per image at shape (1, 3, 640, 640)\n",
      "\n"
     ]
    },
    {
     "name": "stdout",
     "output_type": "stream",
     "text": [
      "{'x_sort': [array([298, 243])], 'currentClass': 4, 'isEmpty': False, 'second': 1705917120, 'depth1': [462]}\n"
     ]
    },
    {
     "name": "stderr",
     "output_type": "stream",
     "text": [
      "0: 640x640 (no detections), 431.3ms\n",
      "Speed: 16.3ms preprocess, 431.3ms inference, 8.1ms postprocess per image at shape (1, 3, 640, 640)\n",
      "\n"
     ]
    },
    {
     "name": "stdout",
     "output_type": "stream",
     "text": [
      "{'x_sort': [array([298, 243])], 'currentClass': 4, 'isEmpty': False, 'second': 1705917120, 'depth1': [462]}\n"
     ]
    },
    {
     "name": "stderr",
     "output_type": "stream",
     "text": [
      "0: 640x640 (no detections), 239.8ms\n",
      "Speed: 14.2ms preprocess, 239.8ms inference, 0.0ms postprocess per image at shape (1, 3, 640, 640)\n",
      "\n"
     ]
    },
    {
     "name": "stdout",
     "output_type": "stream",
     "text": [
      "{'x_sort': [array([298, 243])], 'currentClass': 4, 'isEmpty': False, 'second': 1705917120, 'depth1': [462]}\n"
     ]
    },
    {
     "name": "stderr",
     "output_type": "stream",
     "text": [
      "0: 640x640 (no detections), 266.4ms\n",
      "Speed: 15.0ms preprocess, 266.4ms inference, 0.0ms postprocess per image at shape (1, 3, 640, 640)\n",
      "\n"
     ]
    },
    {
     "name": "stdout",
     "output_type": "stream",
     "text": [
      "{'x_sort': [array([298, 243])], 'currentClass': 4, 'isEmpty': False, 'second': 1705917120, 'depth1': [462]}\n"
     ]
    },
    {
     "name": "stderr",
     "output_type": "stream",
     "text": [
      "0: 640x640 (no detections), 417.1ms\n",
      "Speed: 31.3ms preprocess, 417.1ms inference, 2.1ms postprocess per image at shape (1, 3, 640, 640)\n",
      "\n"
     ]
    },
    {
     "name": "stdout",
     "output_type": "stream",
     "text": [
      "{'x_sort': [array([298, 243])], 'currentClass': 4, 'isEmpty': False, 'second': 1705917120, 'depth1': [462]}\n"
     ]
    },
    {
     "name": "stderr",
     "output_type": "stream",
     "text": [
      "0: 640x640 (no detections), 237.1ms\n",
      "Speed: 16.6ms preprocess, 237.1ms inference, 0.0ms postprocess per image at shape (1, 3, 640, 640)\n",
      "\n"
     ]
    },
    {
     "name": "stdout",
     "output_type": "stream",
     "text": [
      "{'x_sort': [array([298, 243])], 'currentClass': 4, 'isEmpty': False, 'second': 1705917120, 'depth1': [462]}\n"
     ]
    },
    {
     "name": "stderr",
     "output_type": "stream",
     "text": [
      "0: 640x640 (no detections), 341.3ms\n",
      "Speed: 20.8ms preprocess, 341.3ms inference, 8.1ms postprocess per image at shape (1, 3, 640, 640)\n",
      "\n"
     ]
    },
    {
     "name": "stdout",
     "output_type": "stream",
     "text": [
      "{'x_sort': [array([298, 243])], 'currentClass': 4, 'isEmpty': False, 'second': 1705917120, 'depth1': [462]}\n"
     ]
    },
    {
     "name": "stderr",
     "output_type": "stream",
     "text": [
      "0: 640x640 (no detections), 236.2ms\n",
      "Speed: 15.0ms preprocess, 236.2ms inference, 2.1ms postprocess per image at shape (1, 3, 640, 640)\n",
      "\n"
     ]
    },
    {
     "name": "stdout",
     "output_type": "stream",
     "text": [
      "{'x_sort': [array([298, 243])], 'currentClass': 4, 'isEmpty': False, 'second': 1705917120, 'depth1': [462]}\n"
     ]
    },
    {
     "name": "stderr",
     "output_type": "stream",
     "text": [
      "0: 640x640 (no detections), 350.4ms\n",
      "Speed: 10.0ms preprocess, 350.4ms inference, 22.2ms postprocess per image at shape (1, 3, 640, 640)\n",
      "\n"
     ]
    },
    {
     "name": "stdout",
     "output_type": "stream",
     "text": [
      "{'x_sort': [array([298, 243])], 'currentClass': 4, 'isEmpty': False, 'second': 1705917120, 'depth1': [462]}\n"
     ]
    },
    {
     "name": "stderr",
     "output_type": "stream",
     "text": [
      "0: 640x640 (no detections), 450.6ms\n",
      "Speed: 20.1ms preprocess, 450.6ms inference, 2.1ms postprocess per image at shape (1, 3, 640, 640)\n",
      "\n"
     ]
    },
    {
     "name": "stdout",
     "output_type": "stream",
     "text": [
      "{'x_sort': [array([298, 243])], 'currentClass': 4, 'isEmpty': False, 'second': 1705917120, 'depth1': [462]}\n"
     ]
    },
    {
     "name": "stderr",
     "output_type": "stream",
     "text": [
      "0: 640x640 (no detections), 236.7ms\n",
      "Speed: 13.6ms preprocess, 236.7ms inference, 8.1ms postprocess per image at shape (1, 3, 640, 640)\n",
      "\n"
     ]
    },
    {
     "name": "stdout",
     "output_type": "stream",
     "text": [
      "{'x_sort': [array([298, 243])], 'currentClass': 4, 'isEmpty': False, 'second': 1705917120, 'depth1': [462]}\n"
     ]
    },
    {
     "name": "stderr",
     "output_type": "stream",
     "text": [
      "0: 640x640 (no detections), 240.9ms\n",
      "Speed: 17.0ms preprocess, 240.9ms inference, 0.0ms postprocess per image at shape (1, 3, 640, 640)\n",
      "\n"
     ]
    },
    {
     "name": "stdout",
     "output_type": "stream",
     "text": [
      "{'x_sort': [array([298, 243])], 'currentClass': 4, 'isEmpty': False, 'second': 1705917120, 'depth1': [462]}\n"
     ]
    },
    {
     "name": "stderr",
     "output_type": "stream",
     "text": [
      "0: 640x640 (no detections), 258.3ms\n",
      "Speed: 12.0ms preprocess, 258.3ms inference, 0.0ms postprocess per image at shape (1, 3, 640, 640)\n",
      "\n"
     ]
    },
    {
     "name": "stdout",
     "output_type": "stream",
     "text": [
      "{'x_sort': [array([298, 243])], 'currentClass': 4, 'isEmpty': False, 'second': 1705917120, 'depth1': [462]}\n"
     ]
    },
    {
     "name": "stderr",
     "output_type": "stream",
     "text": [
      "0: 640x640 (no detections), 469.9ms\n",
      "Speed: 20.9ms preprocess, 469.9ms inference, 0.0ms postprocess per image at shape (1, 3, 640, 640)\n",
      "\n"
     ]
    },
    {
     "name": "stdout",
     "output_type": "stream",
     "text": [
      "{'x_sort': [array([298, 243])], 'currentClass': 4, 'isEmpty': False, 'second': 1705917120, 'depth1': [462]}\n"
     ]
    },
    {
     "name": "stderr",
     "output_type": "stream",
     "text": [
      "0: 640x640 (no detections), 240.0ms\n",
      "Speed: 13.0ms preprocess, 240.0ms inference, 2.1ms postprocess per image at shape (1, 3, 640, 640)\n",
      "\n"
     ]
    },
    {
     "name": "stdout",
     "output_type": "stream",
     "text": [
      "{'x_sort': [array([298, 243])], 'currentClass': 4, 'isEmpty': False, 'second': 1705917120, 'depth1': [462]}\n"
     ]
    },
    {
     "name": "stderr",
     "output_type": "stream",
     "text": [
      "0: 640x640 (no detections), 450.1ms\n",
      "Speed: 34.5ms preprocess, 450.1ms inference, 0.0ms postprocess per image at shape (1, 3, 640, 640)\n",
      "\n"
     ]
    },
    {
     "name": "stdout",
     "output_type": "stream",
     "text": [
      "{'x_sort': [array([298, 243])], 'currentClass': 4, 'isEmpty': False, 'second': 1705917120, 'depth1': [462]}\n"
     ]
    },
    {
     "name": "stderr",
     "output_type": "stream",
     "text": [
      "0: 640x640 (no detections), 240.1ms\n",
      "Speed: 12.0ms preprocess, 240.1ms inference, 0.0ms postprocess per image at shape (1, 3, 640, 640)\n",
      "\n"
     ]
    },
    {
     "name": "stdout",
     "output_type": "stream",
     "text": [
      "{'x_sort': [array([298, 243])], 'currentClass': 4, 'isEmpty': False, 'second': 1705917120, 'depth1': [462]}\n"
     ]
    },
    {
     "name": "stderr",
     "output_type": "stream",
     "text": [
      "0: 640x640 (no detections), 458.8ms\n",
      "Speed: 26.8ms preprocess, 458.8ms inference, 10.3ms postprocess per image at shape (1, 3, 640, 640)\n",
      "\n"
     ]
    },
    {
     "name": "stdout",
     "output_type": "stream",
     "text": [
      "{'x_sort': [array([298, 243])], 'currentClass': 4, 'isEmpty': False, 'second': 1705917120, 'depth1': [462]}\n"
     ]
    },
    {
     "name": "stderr",
     "output_type": "stream",
     "text": [
      "0: 640x640 (no detections), 540.6ms\n",
      "Speed: 16.1ms preprocess, 540.6ms inference, 10.3ms postprocess per image at shape (1, 3, 640, 640)\n",
      "\n"
     ]
    },
    {
     "name": "stdout",
     "output_type": "stream",
     "text": [
      "{'x_sort': [array([298, 243])], 'currentClass': 4, 'isEmpty': False, 'second': 1705917120, 'depth1': [462]}\n"
     ]
    },
    {
     "name": "stderr",
     "output_type": "stream",
     "text": [
      "0: 640x640 (no detections), 740.2ms\n",
      "Speed: 26.4ms preprocess, 740.2ms inference, 10.3ms postprocess per image at shape (1, 3, 640, 640)\n",
      "\n"
     ]
    },
    {
     "name": "stdout",
     "output_type": "stream",
     "text": [
      "{'x_sort': [array([298, 243])], 'currentClass': 4, 'isEmpty': False, 'second': 1705917120, 'depth1': [462]}\n"
     ]
    },
    {
     "name": "stderr",
     "output_type": "stream",
     "text": [
      "0: 640x640 (no detections), 697.9ms\n",
      "Speed: 31.2ms preprocess, 697.9ms inference, 0.0ms postprocess per image at shape (1, 3, 640, 640)\n",
      "\n"
     ]
    },
    {
     "name": "stdout",
     "output_type": "stream",
     "text": [
      "{'x_sort': [array([298, 243])], 'currentClass': 4, 'isEmpty': False, 'second': 1705917120, 'depth1': [462]}\n"
     ]
    },
    {
     "name": "stderr",
     "output_type": "stream",
     "text": [
      "0: 640x640 (no detections), 738.1ms\n",
      "Speed: 33.8ms preprocess, 738.1ms inference, 10.7ms postprocess per image at shape (1, 3, 640, 640)\n",
      "\n"
     ]
    },
    {
     "name": "stdout",
     "output_type": "stream",
     "text": [
      "{'x_sort': [array([298, 243])], 'currentClass': 4, 'isEmpty': False, 'second': 1705917120, 'depth1': [462]}\n"
     ]
    },
    {
     "name": "stderr",
     "output_type": "stream",
     "text": [
      "0: 640x640 (no detections), 721.8ms\n",
      "Speed: 44.4ms preprocess, 721.8ms inference, 10.5ms postprocess per image at shape (1, 3, 640, 640)\n",
      "\n"
     ]
    },
    {
     "name": "stdout",
     "output_type": "stream",
     "text": [
      "{'x_sort': [array([298, 243])], 'currentClass': 4, 'isEmpty': False, 'second': 1705917120, 'depth1': [462]}\n"
     ]
    },
    {
     "name": "stderr",
     "output_type": "stream",
     "text": [
      "0: 640x640 (no detections), 360.0ms\n",
      "Speed: 28.5ms preprocess, 360.0ms inference, 8.1ms postprocess per image at shape (1, 3, 640, 640)\n",
      "\n"
     ]
    },
    {
     "name": "stdout",
     "output_type": "stream",
     "text": [
      "{'x_sort': [array([298, 243])], 'currentClass': 4, 'isEmpty': False, 'second': 1705917120, 'depth1': [462]}\n"
     ]
    },
    {
     "name": "stderr",
     "output_type": "stream",
     "text": [
      "0: 640x640 (no detections), 382.7ms\n",
      "Speed: 31.1ms preprocess, 382.7ms inference, 8.1ms postprocess per image at shape (1, 3, 640, 640)\n",
      "\n"
     ]
    },
    {
     "name": "stdout",
     "output_type": "stream",
     "text": [
      "{'x_sort': [array([298, 243])], 'currentClass': 4, 'isEmpty': False, 'second': 1705917120, 'depth1': [462]}\n"
     ]
    },
    {
     "name": "stderr",
     "output_type": "stream",
     "text": [
      "0: 640x640 1 trash, 243.1ms\n",
      "Speed: 13.7ms preprocess, 243.1ms inference, 3.0ms postprocess per image at shape (1, 3, 640, 640)\n",
      "\n"
     ]
    },
    {
     "name": "stdout",
     "output_type": "stream",
     "text": [
      "{'x_sort': [array([622, 244])], 'currentClass': 5, 'isEmpty': False, 'second': 1705917139, 'depth1': [447]}\n"
     ]
    },
    {
     "name": "stderr",
     "output_type": "stream",
     "text": [
      "0: 640x640 1 cardboard, 265.2ms\n",
      "Speed: 18.0ms preprocess, 265.2ms inference, 14.0ms postprocess per image at shape (1, 3, 640, 640)\n",
      "\n"
     ]
    },
    {
     "name": "stdout",
     "output_type": "stream",
     "text": [
      "{'x_sort': [array([609, 247])], 'currentClass': 0, 'isEmpty': False, 'second': 1705917140, 'depth1': [424]}\n"
     ]
    },
    {
     "name": "stderr",
     "output_type": "stream",
     "text": [
      "0: 640x640 1 plastic, 357.1ms\n",
      "Speed: 12.0ms preprocess, 357.1ms inference, 0.0ms postprocess per image at shape (1, 3, 640, 640)\n",
      "\n"
     ]
    },
    {
     "name": "stdout",
     "output_type": "stream",
     "text": [
      "{'x_sort': [array([588, 249])], 'currentClass': 4, 'isEmpty': False, 'second': 1705917140, 'depth1': [418]}\n"
     ]
    },
    {
     "name": "stderr",
     "output_type": "stream",
     "text": [
      "0: 640x640 1 plastic, 236.3ms\n",
      "Speed: 19.2ms preprocess, 236.3ms inference, 2.2ms postprocess per image at shape (1, 3, 640, 640)\n"
     ]
    },
    {
     "name": "stdout",
     "output_type": "stream",
     "text": [
      "{'x_sort': [array([553, 249])], 'currentClass': 4, 'isEmpty': False, 'second': 1705917140, 'depth1': [417]}\n"
     ]
    },
    {
     "name": "stderr",
     "output_type": "stream",
     "text": [
      "\n",
      "0: 640x640 1 plastic, 675.7ms\n",
      "Speed: 96.4ms preprocess, 675.7ms inference, 8.2ms postprocess per image at shape (1, 3, 640, 640)\n",
      "\n"
     ]
    },
    {
     "name": "stdout",
     "output_type": "stream",
     "text": [
      "{'x_sort': [array([521, 249])], 'currentClass': 4, 'isEmpty': False, 'second': 1705917141, 'depth1': [418]}\n"
     ]
    },
    {
     "name": "stderr",
     "output_type": "stream",
     "text": [
      "0: 640x640 1 plastic, 384.5ms\n",
      "Speed: 21.0ms preprocess, 384.5ms inference, 0.0ms postprocess per image at shape (1, 3, 640, 640)\n",
      "\n"
     ]
    },
    {
     "name": "stdout",
     "output_type": "stream",
     "text": [
      "{'x_sort': [array([421, 250])], 'currentClass': 4, 'isEmpty': False, 'second': 1705917142, 'depth1': [417]}\n"
     ]
    },
    {
     "name": "stderr",
     "output_type": "stream",
     "text": [
      "0: 640x640 1 plastic, 391.1ms\n",
      "Speed: 23.0ms preprocess, 391.1ms inference, 8.1ms postprocess per image at shape (1, 3, 640, 640)\n",
      "\n"
     ]
    },
    {
     "name": "stdout",
     "output_type": "stream",
     "text": [
      "{'x_sort': [array([373, 249])], 'currentClass': 4, 'isEmpty': False, 'second': 1705917142, 'depth1': [418]}\n"
     ]
    },
    {
     "name": "stderr",
     "output_type": "stream",
     "text": [
      "0: 640x640 1 trash, 237.3ms\n",
      "Speed: 14.7ms preprocess, 237.3ms inference, 2.1ms postprocess per image at shape (1, 3, 640, 640)\n",
      "\n"
     ]
    },
    {
     "name": "stdout",
     "output_type": "stream",
     "text": [
      "{'x_sort': [array([322, 250])], 'currentClass': 5, 'isEmpty': False, 'second': 1705917143, 'depth1': [417]}\n"
     ]
    },
    {
     "name": "stderr",
     "output_type": "stream",
     "text": [
      "0: 640x640 1 plastic, 371.1ms\n",
      "Speed: 18.7ms preprocess, 371.1ms inference, 10.2ms postprocess per image at shape (1, 3, 640, 640)\n",
      "\n"
     ]
    },
    {
     "name": "stdout",
     "output_type": "stream",
     "text": [
      "{'x_sort': [array([292, 251])], 'currentClass': 4, 'isEmpty': False, 'second': 1705917143, 'depth1': [418]}\n"
     ]
    },
    {
     "name": "stderr",
     "output_type": "stream",
     "text": [
      "0: 640x640 1 plastic, 235.8ms\n",
      "Speed: 12.0ms preprocess, 235.8ms inference, 0.0ms postprocess per image at shape (1, 3, 640, 640)\n",
      "\n"
     ]
    },
    {
     "name": "stdout",
     "output_type": "stream",
     "text": [
      "{'x_sort': [array([247, 251])], 'currentClass': 4, 'isEmpty': False, 'second': 1705917144, 'depth1': [417]}\n"
     ]
    },
    {
     "name": "stderr",
     "output_type": "stream",
     "text": [
      "0: 640x640 2 plastics, 245.7ms\n",
      "Speed: 14.0ms preprocess, 245.7ms inference, 4.5ms postprocess per image at shape (1, 3, 640, 640)\n",
      "\n"
     ]
    },
    {
     "name": "stdout",
     "output_type": "stream",
     "text": [
      "{'x_sort': [array([200, 286]), array([218, 251])], 'currentClass': 4, 'isEmpty': True, 'second': 1705917144, 'depth1': [417, 429]}\n",
      "meme\n",
      "{FRAME: X 207.600891, Y -8.28712463, Z 486.08136, A -135.306152, B -0.0378621183, C -179.961731}\n",
      "{FRAME: X 50.0, Y 900.0, Z 300.0, A 0.0, B 0.0, C 180.0}\n",
      "{FRAME: X 50.0, Y 900.0, Z 300.0, A 0.0, B 0.0, C 180.0}\n"
     ]
    },
    {
     "name": "stderr",
     "output_type": "stream",
     "text": [
      "0: 640x640 2 plastics, 383.8ms\n",
      "Speed: 15.0ms preprocess, 383.8ms inference, 0.0ms postprocess per image at shape (1, 3, 640, 640)\n",
      "\n"
     ]
    },
    {
     "name": "stdout",
     "output_type": "stream",
     "text": [
      "{'x_sort': [array([171, 287]), array([190, 252])], 'currentClass': 4, 'isEmpty': True, 'second': 1705917144, 'depth1': [418, 426]}\n"
     ]
    },
    {
     "name": "stderr",
     "output_type": "stream",
     "text": [
      "0: 640x640 2 plastics, 235.8ms\n",
      "Speed: 13.0ms preprocess, 235.8ms inference, 0.0ms postprocess per image at shape (1, 3, 640, 640)\n",
      "\n"
     ]
    },
    {
     "name": "stdout",
     "output_type": "stream",
     "text": [
      "{'x_sort': [array([126, 288]), array([144, 254])], 'currentClass': 4, 'isEmpty': True, 'second': 1705917145, 'depth1': [417, 426]}\n"
     ]
    },
    {
     "name": "stderr",
     "output_type": "stream",
     "text": [
      "0: 640x640 1 plastic, 260.8ms\n",
      "Speed: 14.0ms preprocess, 260.8ms inference, 8.4ms postprocess per image at shape (1, 3, 640, 640)\n",
      "\n"
     ]
    },
    {
     "name": "stdout",
     "output_type": "stream",
     "text": [
      "{'x_sort': [array([112, 254])], 'currentClass': 4, 'isEmpty': True, 'second': 1705917145, 'depth1': [419]}\n"
     ]
    },
    {
     "name": "stderr",
     "output_type": "stream",
     "text": [
      "0: 640x640 1 plastic, 371.5ms\n",
      "Speed: 38.5ms preprocess, 371.5ms inference, 0.0ms postprocess per image at shape (1, 3, 640, 640)\n",
      "\n"
     ]
    },
    {
     "name": "stdout",
     "output_type": "stream",
     "text": [
      "{'x_sort': [array([ 76, 255])], 'currentClass': 4, 'isEmpty': True, 'second': 1705917146, 'depth1': [419]}\n"
     ]
    },
    {
     "name": "stderr",
     "output_type": "stream",
     "text": [
      "0: 640x640 1 plastic, 236.1ms\n",
      "Speed: 20.9ms preprocess, 236.1ms inference, 10.1ms postprocess per image at shape (1, 3, 640, 640)\n",
      "\n"
     ]
    },
    {
     "name": "stdout",
     "output_type": "stream",
     "text": [
      "{FRAME: X 207.600891, Y -8.28712463, Z 486.08136, A -135.306152, B -0.0378621183, C -179.961731}\n",
      "{FRAME: X 50.701754385964904, Y 900.0, Z 33.0, A 0.0, B 0.0, C 180.0}\n",
      "{'x_sort': [array([ 43, 255])], 'currentClass': 4, 'isEmpty': True, 'second': 1705917146, 'depth1': [419]}\n"
     ]
    },
    {
     "name": "stderr",
     "output_type": "stream",
     "text": [
      "0: 640x640 1 trash, 233.5ms\n",
      "Speed: 13.0ms preprocess, 233.5ms inference, 10.3ms postprocess per image at shape (1, 3, 640, 640)\n",
      "\n"
     ]
    },
    {
     "name": "stdout",
     "output_type": "stream",
     "text": [
      "{'x_sort': [array([ 28, 260])], 'currentClass': 5, 'isEmpty': True, 'second': 1705917146, 'depth1': [434]}\n"
     ]
    },
    {
     "name": "stderr",
     "output_type": "stream",
     "text": [
      "0: 640x640 (no detections), 250.6ms\n",
      "Speed: 14.0ms preprocess, 250.6ms inference, 10.7ms postprocess per image at shape (1, 3, 640, 640)\n"
     ]
    },
    {
     "name": "stdout",
     "output_type": "stream",
     "text": [
      "{'x_sort': [array([ 28, 260])], 'currentClass': 5, 'isEmpty': False, 'second': 1705917146, 'depth1': [434]}\n"
     ]
    },
    {
     "name": "stderr",
     "output_type": "stream",
     "text": [
      "\n",
      "0: 640x640 (no detections), 2557.3ms\n",
      "Speed: 38.5ms preprocess, 2557.3ms inference, 102.0ms postprocess per image at shape (1, 3, 640, 640)\n"
     ]
    },
    {
     "name": "stdout",
     "output_type": "stream",
     "text": [
      "on\n",
      "-2\n",
      "{'x_sort': [array([ 28, 260])], 'currentClass': 5, 'isEmpty': False, 'second': 1705917146, 'depth1': [434]}\n"
     ]
    },
    {
     "name": "stderr",
     "output_type": "stream",
     "text": [
      "\n"
     ]
    },
    {
     "name": "stdout",
     "output_type": "stream",
     "text": [
      "{FRAME: X 207.600891, Y -8.28712463, Z 486.08136, A -135.306152, B -0.0378621183, C -179.961731}\n",
      "{FRAME: X 50.701754385964904, Y 900.0, Z 200.0, A 0.0, B 0.0, C 180.0}\n",
      "{FRAME: X 0.0, Y 100.0, Z 200.0, A 90.0, B 0.0, C 180.0}\n"
     ]
    },
    {
     "name": "stderr",
     "output_type": "stream",
     "text": [
      "0: 640x640 (no detections), 1663.7ms\n",
      "Speed: 177.3ms preprocess, 1663.7ms inference, 134.6ms postprocess per image at shape (1, 3, 640, 640)\n"
     ]
    },
    {
     "name": "stdout",
     "output_type": "stream",
     "text": [
      "{'x_sort': [array([ 28, 260])], 'currentClass': 5, 'isEmpty': False, 'second': 1705917146, 'depth1': [434]}\n"
     ]
    },
    {
     "name": "stderr",
     "output_type": "stream",
     "text": [
      "\n",
      "0: 640x640 (no detections), 1620.9ms\n",
      "Speed: 217.1ms preprocess, 1620.9ms inference, 82.1ms postprocess per image at shape (1, 3, 640, 640)\n"
     ]
    },
    {
     "name": "stdout",
     "output_type": "stream",
     "text": [
      "{'x_sort': [array([ 28, 260])], 'currentClass': 5, 'isEmpty': False, 'second': 1705917146, 'depth1': [434]}\n"
     ]
    },
    {
     "name": "stderr",
     "output_type": "stream",
     "text": [
      "\n",
      "0: 640x640 (no detections), 487.6ms\n",
      "Speed: 43.0ms preprocess, 487.6ms inference, 30.7ms postprocess per image at shape (1, 3, 640, 640)\n",
      "\n"
     ]
    },
    {
     "name": "stdout",
     "output_type": "stream",
     "text": [
      "{'x_sort': [array([ 28, 260])], 'currentClass': 5, 'isEmpty': False, 'second': 1705917146, 'depth1': [434]}\n"
     ]
    },
    {
     "name": "stderr",
     "output_type": "stream",
     "text": [
      "0: 640x640 (no detections), 405.3ms\n",
      "Speed: 24.7ms preprocess, 405.3ms inference, 0.0ms postprocess per image at shape (1, 3, 640, 640)\n",
      "\n"
     ]
    },
    {
     "name": "stdout",
     "output_type": "stream",
     "text": [
      "{'x_sort': [array([ 28, 260])], 'currentClass': 5, 'isEmpty': False, 'second': 1705917146, 'depth1': [434]}\n"
     ]
    },
    {
     "name": "stderr",
     "output_type": "stream",
     "text": [
      "0: 640x640 (no detections), 238.6ms\n",
      "Speed: 16.6ms preprocess, 238.6ms inference, 9.2ms postprocess per image at shape (1, 3, 640, 640)\n",
      "\n"
     ]
    },
    {
     "name": "stdout",
     "output_type": "stream",
     "text": [
      "{'x_sort': [array([ 28, 260])], 'currentClass': 5, 'isEmpty': False, 'second': 1705917146, 'depth1': [434]}\n"
     ]
    },
    {
     "name": "stderr",
     "output_type": "stream",
     "text": [
      "0: 640x640 (no detections), 537.4ms\n",
      "Speed: 31.7ms preprocess, 537.4ms inference, 25.4ms postprocess per image at shape (1, 3, 640, 640)\n",
      "\n"
     ]
    },
    {
     "name": "stdout",
     "output_type": "stream",
     "text": [
      "{'x_sort': [array([ 28, 260])], 'currentClass': 5, 'isEmpty': False, 'second': 1705917146, 'depth1': [434]}\n"
     ]
    },
    {
     "name": "stderr",
     "output_type": "stream",
     "text": [
      "0: 640x640 (no detections), 370.2ms\n",
      "Speed: 29.2ms preprocess, 370.2ms inference, 3.2ms postprocess per image at shape (1, 3, 640, 640)\n",
      "\n"
     ]
    },
    {
     "name": "stdout",
     "output_type": "stream",
     "text": [
      "{'x_sort': [array([ 28, 260])], 'currentClass': 5, 'isEmpty': False, 'second': 1705917146, 'depth1': [434]}\n"
     ]
    },
    {
     "name": "stderr",
     "output_type": "stream",
     "text": [
      "0: 640x640 (no detections), 244.8ms\n",
      "Speed: 14.4ms preprocess, 244.8ms inference, 0.0ms postprocess per image at shape (1, 3, 640, 640)\n",
      "\n"
     ]
    },
    {
     "name": "stdout",
     "output_type": "stream",
     "text": [
      "{'x_sort': [array([ 28, 260])], 'currentClass': 5, 'isEmpty': False, 'second': 1705917146, 'depth1': [434]}\n"
     ]
    },
    {
     "name": "stderr",
     "output_type": "stream",
     "text": [
      "0: 640x640 (no detections), 296.5ms\n",
      "Speed: 21.1ms preprocess, 296.5ms inference, 8.0ms postprocess per image at shape (1, 3, 640, 640)\n",
      "\n"
     ]
    },
    {
     "name": "stdout",
     "output_type": "stream",
     "text": [
      "{'x_sort': [array([ 28, 260])], 'currentClass': 5, 'isEmpty': False, 'second': 1705917146, 'depth1': [434]}\n"
     ]
    },
    {
     "name": "stderr",
     "output_type": "stream",
     "text": [
      "0: 640x640 (no detections), 437.7ms\n",
      "Speed: 23.8ms preprocess, 437.7ms inference, 2.1ms postprocess per image at shape (1, 3, 640, 640)\n",
      "\n"
     ]
    },
    {
     "name": "stdout",
     "output_type": "stream",
     "text": [
      "{'x_sort': [array([ 28, 260])], 'currentClass': 5, 'isEmpty': False, 'second': 1705917146, 'depth1': [434]}\n",
      "off\n",
      "{FRAME: X 207.600891, Y -8.28712463, Z 486.08136, A -135.306152, B -0.0378621183, C -179.961731}\n",
      "{FRAME: X 50.701754385964904, Y 900.0, Z 300.0, A 0.0, B 0.0, C 180.0}\n"
     ]
    },
    {
     "name": "stderr",
     "output_type": "stream",
     "text": [
      "0: 640x640 (no detections), 240.9ms\n",
      "Speed: 14.8ms preprocess, 240.9ms inference, 2.0ms postprocess per image at shape (1, 3, 640, 640)\n",
      "\n"
     ]
    },
    {
     "name": "stdout",
     "output_type": "stream",
     "text": [
      "{'x_sort': [array([ 28, 260])], 'currentClass': 5, 'isEmpty': False, 'second': 1705917146, 'depth1': [434]}\n"
     ]
    },
    {
     "name": "stderr",
     "output_type": "stream",
     "text": [
      "0: 640x640 (no detections), 350.4ms\n",
      "Speed: 22.5ms preprocess, 350.4ms inference, 2.1ms postprocess per image at shape (1, 3, 640, 640)\n",
      "\n"
     ]
    },
    {
     "name": "stdout",
     "output_type": "stream",
     "text": [
      "{'x_sort': [array([ 28, 260])], 'currentClass': 5, 'isEmpty': False, 'second': 1705917146, 'depth1': [434]}\n"
     ]
    },
    {
     "name": "stderr",
     "output_type": "stream",
     "text": [
      "0: 640x640 (no detections), 382.3ms\n",
      "Speed: 15.0ms preprocess, 382.3ms inference, 8.0ms postprocess per image at shape (1, 3, 640, 640)\n",
      "\n"
     ]
    },
    {
     "name": "stdout",
     "output_type": "stream",
     "text": [
      "{'x_sort': [array([ 28, 260])], 'currentClass': 5, 'isEmpty': False, 'second': 1705917146, 'depth1': [434]}\n"
     ]
    },
    {
     "name": "stderr",
     "output_type": "stream",
     "text": [
      "0: 640x640 (no detections), 233.2ms\n",
      "Speed: 10.7ms preprocess, 233.2ms inference, 0.0ms postprocess per image at shape (1, 3, 640, 640)\n",
      "\n"
     ]
    },
    {
     "name": "stdout",
     "output_type": "stream",
     "text": [
      "{'x_sort': [array([ 28, 260])], 'currentClass': 5, 'isEmpty': False, 'second': 1705917146, 'depth1': [434]}\n"
     ]
    },
    {
     "name": "stderr",
     "output_type": "stream",
     "text": [
      "0: 640x640 (no detections), 253.2ms\n",
      "Speed: 12.0ms preprocess, 253.2ms inference, 10.6ms postprocess per image at shape (1, 3, 640, 640)\n",
      "\n"
     ]
    },
    {
     "name": "stdout",
     "output_type": "stream",
     "text": [
      "{'x_sort': [array([ 28, 260])], 'currentClass': 5, 'isEmpty': False, 'second': 1705917146, 'depth1': [434]}\n"
     ]
    },
    {
     "name": "stderr",
     "output_type": "stream",
     "text": [
      "0: 640x640 (no detections), 407.6ms\n",
      "Speed: 32.6ms preprocess, 407.6ms inference, 0.0ms postprocess per image at shape (1, 3, 640, 640)\n",
      "\n"
     ]
    },
    {
     "name": "stdout",
     "output_type": "stream",
     "text": [
      "{'x_sort': [array([ 28, 260])], 'currentClass': 5, 'isEmpty': False, 'second': 1705917146, 'depth1': [434]}\n"
     ]
    },
    {
     "name": "stderr",
     "output_type": "stream",
     "text": [
      "0: 640x640 (no detections), 239.1ms\n",
      "Speed: 13.0ms preprocess, 239.1ms inference, 3.1ms postprocess per image at shape (1, 3, 640, 640)\n",
      "\n"
     ]
    },
    {
     "name": "stdout",
     "output_type": "stream",
     "text": [
      "{'x_sort': [array([ 28, 260])], 'currentClass': 5, 'isEmpty': False, 'second': 1705917146, 'depth1': [434]}\n"
     ]
    },
    {
     "name": "stderr",
     "output_type": "stream",
     "text": [
      "0: 640x640 (no detections), 239.0ms\n",
      "Speed: 15.0ms preprocess, 239.0ms inference, 8.1ms postprocess per image at shape (1, 3, 640, 640)\n",
      "\n"
     ]
    },
    {
     "name": "stdout",
     "output_type": "stream",
     "text": [
      "{'x_sort': [array([ 28, 260])], 'currentClass': 5, 'isEmpty': False, 'second': 1705917146, 'depth1': [434]}\n"
     ]
    },
    {
     "name": "stderr",
     "output_type": "stream",
     "text": [
      "0: 640x640 (no detections), 390.2ms\n",
      "Speed: 35.0ms preprocess, 390.2ms inference, 0.0ms postprocess per image at shape (1, 3, 640, 640)\n",
      "\n"
     ]
    },
    {
     "name": "stdout",
     "output_type": "stream",
     "text": [
      "{'x_sort': [array([ 28, 260])], 'currentClass': 5, 'isEmpty': False, 'second': 1705917146, 'depth1': [434]}\n"
     ]
    },
    {
     "name": "stderr",
     "output_type": "stream",
     "text": [
      "0: 640x640 (no detections), 407.6ms\n",
      "Speed: 15.0ms preprocess, 407.6ms inference, 0.0ms postprocess per image at shape (1, 3, 640, 640)\n",
      "\n"
     ]
    },
    {
     "name": "stdout",
     "output_type": "stream",
     "text": [
      "{'x_sort': [array([ 28, 260])], 'currentClass': 5, 'isEmpty': False, 'second': 1705917146, 'depth1': [434]}\n"
     ]
    },
    {
     "name": "stderr",
     "output_type": "stream",
     "text": [
      "0: 640x640 (no detections), 239.0ms\n",
      "Speed: 10.3ms preprocess, 239.0ms inference, 2.1ms postprocess per image at shape (1, 3, 640, 640)\n",
      "\n"
     ]
    },
    {
     "name": "stdout",
     "output_type": "stream",
     "text": [
      "{'x_sort': [array([ 28, 260])], 'currentClass': 5, 'isEmpty': False, 'second': 1705917146, 'depth1': [434]}\n"
     ]
    },
    {
     "name": "stderr",
     "output_type": "stream",
     "text": [
      "0: 640x640 (no detections), 240.5ms\n",
      "Speed: 13.9ms preprocess, 240.5ms inference, 2.1ms postprocess per image at shape (1, 3, 640, 640)\n",
      "\n"
     ]
    },
    {
     "name": "stdout",
     "output_type": "stream",
     "text": [
      "{'x_sort': [array([ 28, 260])], 'currentClass': 5, 'isEmpty': False, 'second': 1705917146, 'depth1': [434]}\n"
     ]
    },
    {
     "name": "stderr",
     "output_type": "stream",
     "text": [
      "0: 640x640 (no detections), 247.3ms\n",
      "Speed: 17.0ms preprocess, 247.3ms inference, 2.1ms postprocess per image at shape (1, 3, 640, 640)\n",
      "\n"
     ]
    },
    {
     "name": "stdout",
     "output_type": "stream",
     "text": [
      "{'x_sort': [array([ 28, 260])], 'currentClass': 5, 'isEmpty': False, 'second': 1705917146, 'depth1': [434]}\n"
     ]
    },
    {
     "name": "stderr",
     "output_type": "stream",
     "text": [
      "0: 640x640 (no detections), 234.7ms\n",
      "Speed: 18.0ms preprocess, 234.7ms inference, 0.0ms postprocess per image at shape (1, 3, 640, 640)\n",
      "\n"
     ]
    },
    {
     "name": "stdout",
     "output_type": "stream",
     "text": [
      "{'x_sort': [array([ 28, 260])], 'currentClass': 5, 'isEmpty': False, 'second': 1705917146, 'depth1': [434]}\n"
     ]
    },
    {
     "name": "stderr",
     "output_type": "stream",
     "text": [
      "0: 640x640 (no detections), 241.4ms\n",
      "Speed: 14.6ms preprocess, 241.4ms inference, 9.3ms postprocess per image at shape (1, 3, 640, 640)\n",
      "\n"
     ]
    },
    {
     "name": "stdout",
     "output_type": "stream",
     "text": [
      "{'x_sort': [array([ 28, 260])], 'currentClass': 5, 'isEmpty': False, 'second': 1705917146, 'depth1': [434]}\n"
     ]
    },
    {
     "name": "stderr",
     "output_type": "stream",
     "text": [
      "0: 640x640 (no detections), 416.0ms\n",
      "Speed: 47.0ms preprocess, 416.0ms inference, 0.0ms postprocess per image at shape (1, 3, 640, 640)\n",
      "\n"
     ]
    },
    {
     "name": "stdout",
     "output_type": "stream",
     "text": [
      "{'x_sort': [array([ 28, 260])], 'currentClass': 5, 'isEmpty': False, 'second': 1705917146, 'depth1': [434]}\n"
     ]
    },
    {
     "name": "stderr",
     "output_type": "stream",
     "text": [
      "0: 640x640 (no detections), 232.7ms\n",
      "Speed: 10.7ms preprocess, 232.7ms inference, 10.3ms postprocess per image at shape (1, 3, 640, 640)\n",
      "\n"
     ]
    },
    {
     "name": "stdout",
     "output_type": "stream",
     "text": [
      "{'x_sort': [array([ 28, 260])], 'currentClass': 5, 'isEmpty': False, 'second': 1705917146, 'depth1': [434]}\n"
     ]
    },
    {
     "name": "stderr",
     "output_type": "stream",
     "text": [
      "0: 640x640 (no detections), 244.3ms\n",
      "Speed: 19.0ms preprocess, 244.3ms inference, 10.4ms postprocess per image at shape (1, 3, 640, 640)\n",
      "\n"
     ]
    },
    {
     "name": "stdout",
     "output_type": "stream",
     "text": [
      "{'x_sort': [array([ 28, 260])], 'currentClass': 5, 'isEmpty': False, 'second': 1705917146, 'depth1': [434]}\n"
     ]
    },
    {
     "name": "stderr",
     "output_type": "stream",
     "text": [
      "0: 640x640 (no detections), 468.8ms\n",
      "Speed: 20.8ms preprocess, 468.8ms inference, 0.0ms postprocess per image at shape (1, 3, 640, 640)\n",
      "\n"
     ]
    },
    {
     "name": "stdout",
     "output_type": "stream",
     "text": [
      "{'x_sort': [array([ 28, 260])], 'currentClass': 5, 'isEmpty': False, 'second': 1705917146, 'depth1': [434]}\n"
     ]
    },
    {
     "name": "stderr",
     "output_type": "stream",
     "text": [
      "0: 640x640 (no detections), 232.2ms\n",
      "Speed: 12.0ms preprocess, 232.2ms inference, 8.1ms postprocess per image at shape (1, 3, 640, 640)\n",
      "\n"
     ]
    },
    {
     "name": "stdout",
     "output_type": "stream",
     "text": [
      "{'x_sort': [array([ 28, 260])], 'currentClass': 5, 'isEmpty': False, 'second': 1705917146, 'depth1': [434]}\n"
     ]
    },
    {
     "name": "stderr",
     "output_type": "stream",
     "text": [
      "0: 640x640 (no detections), 239.3ms\n",
      "Speed: 15.0ms preprocess, 239.3ms inference, 0.0ms postprocess per image at shape (1, 3, 640, 640)\n",
      "\n"
     ]
    },
    {
     "name": "stdout",
     "output_type": "stream",
     "text": [
      "{'x_sort': [array([ 28, 260])], 'currentClass': 5, 'isEmpty': False, 'second': 1705917146, 'depth1': [434]}\n"
     ]
    },
    {
     "name": "stderr",
     "output_type": "stream",
     "text": [
      "0: 640x640 (no detections), 243.4ms\n",
      "Speed: 14.0ms preprocess, 243.4ms inference, 0.0ms postprocess per image at shape (1, 3, 640, 640)\n",
      "\n"
     ]
    },
    {
     "name": "stdout",
     "output_type": "stream",
     "text": [
      "{'x_sort': [array([ 28, 260])], 'currentClass': 5, 'isEmpty': False, 'second': 1705917146, 'depth1': [434]}\n"
     ]
    },
    {
     "name": "stderr",
     "output_type": "stream",
     "text": [
      "0: 640x640 (no detections), 375.5ms\n",
      "Speed: 21.0ms preprocess, 375.5ms inference, 0.0ms postprocess per image at shape (1, 3, 640, 640)\n",
      "\n"
     ]
    },
    {
     "name": "stdout",
     "output_type": "stream",
     "text": [
      "{'x_sort': [array([ 28, 260])], 'currentClass': 5, 'isEmpty': False, 'second': 1705917146, 'depth1': [434]}\n"
     ]
    },
    {
     "name": "stderr",
     "output_type": "stream",
     "text": [
      "0: 640x640 (no detections), 234.9ms\n",
      "Speed: 18.0ms preprocess, 234.9ms inference, 0.0ms postprocess per image at shape (1, 3, 640, 640)\n",
      "\n"
     ]
    },
    {
     "name": "stdout",
     "output_type": "stream",
     "text": [
      "{'x_sort': [array([ 28, 260])], 'currentClass': 5, 'isEmpty': False, 'second': 1705917146, 'depth1': [434]}\n"
     ]
    },
    {
     "name": "stderr",
     "output_type": "stream",
     "text": [
      "0: 640x640 (no detections), 241.8ms\n",
      "Speed: 13.2ms preprocess, 241.8ms inference, 0.0ms postprocess per image at shape (1, 3, 640, 640)\n",
      "\n"
     ]
    },
    {
     "name": "stdout",
     "output_type": "stream",
     "text": [
      "{'x_sort': [array([ 28, 260])], 'currentClass': 5, 'isEmpty': False, 'second': 1705917146, 'depth1': [434]}\n"
     ]
    },
    {
     "name": "stderr",
     "output_type": "stream",
     "text": [
      "0: 640x640 (no detections), 241.6ms\n",
      "Speed: 22.5ms preprocess, 241.6ms inference, 0.0ms postprocess per image at shape (1, 3, 640, 640)\n",
      "\n"
     ]
    },
    {
     "name": "stdout",
     "output_type": "stream",
     "text": [
      "{'x_sort': [array([ 28, 260])], 'currentClass': 5, 'isEmpty': False, 'second': 1705917146, 'depth1': [434]}\n"
     ]
    },
    {
     "name": "stderr",
     "output_type": "stream",
     "text": [
      "0: 640x640 (no detections), 424.6ms\n",
      "Speed: 27.4ms preprocess, 424.6ms inference, 2.1ms postprocess per image at shape (1, 3, 640, 640)\n",
      "\n"
     ]
    },
    {
     "name": "stdout",
     "output_type": "stream",
     "text": [
      "{'x_sort': [array([ 28, 260])], 'currentClass': 5, 'isEmpty': False, 'second': 1705917146, 'depth1': [434]}\n"
     ]
    },
    {
     "name": "stderr",
     "output_type": "stream",
     "text": [
      "0: 640x640 (no detections), 235.1ms\n",
      "Speed: 15.5ms preprocess, 235.1ms inference, 0.0ms postprocess per image at shape (1, 3, 640, 640)\n",
      "\n"
     ]
    },
    {
     "name": "stdout",
     "output_type": "stream",
     "text": [
      "{'x_sort': [array([ 28, 260])], 'currentClass': 5, 'isEmpty': False, 'second': 1705917146, 'depth1': [434]}\n"
     ]
    },
    {
     "name": "stderr",
     "output_type": "stream",
     "text": [
      "0: 640x640 (no detections), 236.8ms\n",
      "Speed: 15.8ms preprocess, 236.8ms inference, 8.2ms postprocess per image at shape (1, 3, 640, 640)\n",
      "\n"
     ]
    },
    {
     "name": "stdout",
     "output_type": "stream",
     "text": [
      "{'x_sort': [array([ 28, 260])], 'currentClass': 5, 'isEmpty': False, 'second': 1705917146, 'depth1': [434]}\n"
     ]
    },
    {
     "name": "stderr",
     "output_type": "stream",
     "text": [
      "0: 640x640 (no detections), 345.5ms\n",
      "Speed: 38.2ms preprocess, 345.5ms inference, 0.1ms postprocess per image at shape (1, 3, 640, 640)\n",
      "\n"
     ]
    },
    {
     "name": "stdout",
     "output_type": "stream",
     "text": [
      "{'x_sort': [array([ 28, 260])], 'currentClass': 5, 'isEmpty': False, 'second': 1705917146, 'depth1': [434]}\n"
     ]
    },
    {
     "name": "stderr",
     "output_type": "stream",
     "text": [
      "0: 640x640 (no detections), 409.9ms\n",
      "Speed: 16.0ms preprocess, 409.9ms inference, 0.0ms postprocess per image at shape (1, 3, 640, 640)\n",
      "\n"
     ]
    },
    {
     "name": "stdout",
     "output_type": "stream",
     "text": [
      "{'x_sort': [array([ 28, 260])], 'currentClass': 5, 'isEmpty': False, 'second': 1705917146, 'depth1': [434]}\n"
     ]
    },
    {
     "name": "stderr",
     "output_type": "stream",
     "text": [
      "0: 640x640 (no detections), 236.9ms\n",
      "Speed: 16.3ms preprocess, 236.9ms inference, 0.0ms postprocess per image at shape (1, 3, 640, 640)\n",
      "\n"
     ]
    },
    {
     "name": "stdout",
     "output_type": "stream",
     "text": [
      "{'x_sort': [array([ 28, 260])], 'currentClass': 5, 'isEmpty': False, 'second': 1705917146, 'depth1': [434]}\n"
     ]
    },
    {
     "name": "stderr",
     "output_type": "stream",
     "text": [
      "0: 640x640 (no detections), 240.9ms\n",
      "Speed: 14.0ms preprocess, 240.9ms inference, 0.0ms postprocess per image at shape (1, 3, 640, 640)\n"
     ]
    },
    {
     "name": "stdout",
     "output_type": "stream",
     "text": [
      "{'x_sort': [array([ 28, 260])], 'currentClass': 5, 'isEmpty': False, 'second': 1705917146, 'depth1': [434]}\n"
     ]
    },
    {
     "name": "stderr",
     "output_type": "stream",
     "text": [
      "\n",
      "0: 640x640 (no detections), 457.6ms\n",
      "Speed: 57.4ms preprocess, 457.6ms inference, 0.0ms postprocess per image at shape (1, 3, 640, 640)\n",
      "\n"
     ]
    },
    {
     "name": "stdout",
     "output_type": "stream",
     "text": [
      "{'x_sort': [array([ 28, 260])], 'currentClass': 5, 'isEmpty': False, 'second': 1705917146, 'depth1': [434]}\n"
     ]
    },
    {
     "name": "stderr",
     "output_type": "stream",
     "text": [
      "0: 640x640 (no detections), 242.1ms\n",
      "Speed: 9.1ms preprocess, 242.1ms inference, 2.1ms postprocess per image at shape (1, 3, 640, 640)\n",
      "\n"
     ]
    },
    {
     "name": "stdout",
     "output_type": "stream",
     "text": [
      "{'x_sort': [array([ 28, 260])], 'currentClass': 5, 'isEmpty': False, 'second': 1705917146, 'depth1': [434]}\n"
     ]
    },
    {
     "name": "stderr",
     "output_type": "stream",
     "text": [
      "0: 640x640 (no detections), 241.3ms\n",
      "Speed: 12.0ms preprocess, 241.3ms inference, 0.0ms postprocess per image at shape (1, 3, 640, 640)\n",
      "\n"
     ]
    },
    {
     "name": "stdout",
     "output_type": "stream",
     "text": [
      "{'x_sort': [array([ 28, 260])], 'currentClass': 5, 'isEmpty': False, 'second': 1705917146, 'depth1': [434]}\n"
     ]
    },
    {
     "name": "stderr",
     "output_type": "stream",
     "text": [
      "0: 640x640 (no detections), 254.3ms\n",
      "Speed: 18.0ms preprocess, 254.3ms inference, 0.0ms postprocess per image at shape (1, 3, 640, 640)\n",
      "\n"
     ]
    },
    {
     "name": "stdout",
     "output_type": "stream",
     "text": [
      "{'x_sort': [array([ 28, 260])], 'currentClass': 5, 'isEmpty': False, 'second': 1705917146, 'depth1': [434]}\n"
     ]
    },
    {
     "name": "stderr",
     "output_type": "stream",
     "text": [
      "0: 640x640 (no detections), 361.0ms\n",
      "Speed: 17.0ms preprocess, 361.0ms inference, 2.1ms postprocess per image at shape (1, 3, 640, 640)\n",
      "\n"
     ]
    },
    {
     "name": "stdout",
     "output_type": "stream",
     "text": [
      "{'x_sort': [array([ 28, 260])], 'currentClass': 5, 'isEmpty': False, 'second': 1705917146, 'depth1': [434]}\n"
     ]
    },
    {
     "name": "stderr",
     "output_type": "stream",
     "text": [
      "0: 640x640 (no detections), 324.0ms\n",
      "Speed: 13.0ms preprocess, 324.0ms inference, 0.0ms postprocess per image at shape (1, 3, 640, 640)\n",
      "\n"
     ]
    },
    {
     "name": "stdout",
     "output_type": "stream",
     "text": [
      "{'x_sort': [array([ 28, 260])], 'currentClass': 5, 'isEmpty': False, 'second': 1705917146, 'depth1': [434]}\n"
     ]
    },
    {
     "name": "stderr",
     "output_type": "stream",
     "text": [
      "0: 640x640 (no detections), 375.3ms\n",
      "Speed: 17.0ms preprocess, 375.3ms inference, 0.0ms postprocess per image at shape (1, 3, 640, 640)\n",
      "\n"
     ]
    },
    {
     "name": "stdout",
     "output_type": "stream",
     "text": [
      "{'x_sort': [array([ 28, 260])], 'currentClass': 5, 'isEmpty': False, 'second': 1705917146, 'depth1': [434]}\n"
     ]
    },
    {
     "name": "stderr",
     "output_type": "stream",
     "text": [
      "0: 640x640 (no detections), 406.2ms\n",
      "Speed: 20.6ms preprocess, 406.2ms inference, 0.0ms postprocess per image at shape (1, 3, 640, 640)\n",
      "\n"
     ]
    },
    {
     "name": "stdout",
     "output_type": "stream",
     "text": [
      "{'x_sort': [array([ 28, 260])], 'currentClass': 5, 'isEmpty': False, 'second': 1705917146, 'depth1': [434]}\n"
     ]
    },
    {
     "name": "stderr",
     "output_type": "stream",
     "text": [
      "0: 640x640 (no detections), 241.7ms\n",
      "Speed: 13.6ms preprocess, 241.7ms inference, 10.5ms postprocess per image at shape (1, 3, 640, 640)\n",
      "\n"
     ]
    },
    {
     "name": "stdout",
     "output_type": "stream",
     "text": [
      "{'x_sort': [array([ 28, 260])], 'currentClass': 5, 'isEmpty': False, 'second': 1705917146, 'depth1': [434]}\n"
     ]
    },
    {
     "name": "stderr",
     "output_type": "stream",
     "text": [
      "0: 640x640 (no detections), 425.1ms\n",
      "Speed: 24.1ms preprocess, 425.1ms inference, 0.0ms postprocess per image at shape (1, 3, 640, 640)\n",
      "\n"
     ]
    },
    {
     "name": "stdout",
     "output_type": "stream",
     "text": [
      "{'x_sort': [array([ 28, 260])], 'currentClass': 5, 'isEmpty': False, 'second': 1705917146, 'depth1': [434]}\n"
     ]
    },
    {
     "name": "stderr",
     "output_type": "stream",
     "text": [
      "0: 640x640 (no detections), 293.9ms\n",
      "Speed: 17.0ms preprocess, 293.9ms inference, 0.0ms postprocess per image at shape (1, 3, 640, 640)\n",
      "\n"
     ]
    },
    {
     "name": "stdout",
     "output_type": "stream",
     "text": [
      "{'x_sort': [array([ 28, 260])], 'currentClass': 5, 'isEmpty': False, 'second': 1705917146, 'depth1': [434]}\n"
     ]
    },
    {
     "name": "stderr",
     "output_type": "stream",
     "text": [
      "0: 640x640 (no detections), 319.2ms\n",
      "Speed: 14.8ms preprocess, 319.2ms inference, 22.4ms postprocess per image at shape (1, 3, 640, 640)\n",
      "\n"
     ]
    },
    {
     "name": "stdout",
     "output_type": "stream",
     "text": [
      "{'x_sort': [array([ 28, 260])], 'currentClass': 5, 'isEmpty': False, 'second': 1705917146, 'depth1': [434]}\n"
     ]
    },
    {
     "name": "stderr",
     "output_type": "stream",
     "text": [
      "0: 640x640 (no detections), 405.0ms\n",
      "Speed: 25.3ms preprocess, 405.0ms inference, 10.2ms postprocess per image at shape (1, 3, 640, 640)\n",
      "\n"
     ]
    },
    {
     "name": "stdout",
     "output_type": "stream",
     "text": [
      "{'x_sort': [array([ 28, 260])], 'currentClass': 5, 'isEmpty': False, 'second': 1705917146, 'depth1': [434]}\n"
     ]
    },
    {
     "name": "stderr",
     "output_type": "stream",
     "text": [
      "0: 640x640 (no detections), 253.0ms\n",
      "Speed: 15.7ms preprocess, 253.0ms inference, 4.0ms postprocess per image at shape (1, 3, 640, 640)\n",
      "\n"
     ]
    },
    {
     "name": "stdout",
     "output_type": "stream",
     "text": [
      "{'x_sort': [array([ 28, 260])], 'currentClass': 5, 'isEmpty': False, 'second': 1705917146, 'depth1': [434]}\n"
     ]
    },
    {
     "name": "stderr",
     "output_type": "stream",
     "text": [
      "0: 640x640 (no detections), 391.4ms\n",
      "Speed: 26.0ms preprocess, 391.4ms inference, 2.1ms postprocess per image at shape (1, 3, 640, 640)\n",
      "\n"
     ]
    },
    {
     "name": "stdout",
     "output_type": "stream",
     "text": [
      "{'x_sort': [array([ 28, 260])], 'currentClass': 5, 'isEmpty': False, 'second': 1705917146, 'depth1': [434]}\n"
     ]
    },
    {
     "name": "stderr",
     "output_type": "stream",
     "text": [
      "0: 640x640 (no detections), 236.6ms\n",
      "Speed: 11.0ms preprocess, 236.6ms inference, 5.1ms postprocess per image at shape (1, 3, 640, 640)\n",
      "\n"
     ]
    },
    {
     "name": "stdout",
     "output_type": "stream",
     "text": [
      "{'x_sort': [array([ 28, 260])], 'currentClass': 5, 'isEmpty': False, 'second': 1705917146, 'depth1': [434]}\n"
     ]
    },
    {
     "name": "stderr",
     "output_type": "stream",
     "text": [
      "0: 640x640 (no detections), 348.9ms\n",
      "Speed: 17.6ms preprocess, 348.9ms inference, 22.5ms postprocess per image at shape (1, 3, 640, 640)\n",
      "\n"
     ]
    },
    {
     "name": "stdout",
     "output_type": "stream",
     "text": [
      "{'x_sort': [array([ 28, 260])], 'currentClass': 5, 'isEmpty': False, 'second': 1705917146, 'depth1': [434]}\n"
     ]
    },
    {
     "name": "stderr",
     "output_type": "stream",
     "text": [
      "0: 640x640 (no detections), 731.8ms\n",
      "Speed: 30.9ms preprocess, 731.8ms inference, 8.5ms postprocess per image at shape (1, 3, 640, 640)\n",
      "\n"
     ]
    },
    {
     "name": "stdout",
     "output_type": "stream",
     "text": [
      "{'x_sort': [array([ 28, 260])], 'currentClass': 5, 'isEmpty': False, 'second': 1705917146, 'depth1': [434]}\n"
     ]
    },
    {
     "name": "stderr",
     "output_type": "stream",
     "text": [
      "0: 640x640 (no detections), 245.0ms\n",
      "Speed: 12.2ms preprocess, 245.0ms inference, 3.0ms postprocess per image at shape (1, 3, 640, 640)\n",
      "\n"
     ]
    },
    {
     "name": "stdout",
     "output_type": "stream",
     "text": [
      "{'x_sort': [array([ 28, 260])], 'currentClass': 5, 'isEmpty': False, 'second': 1705917146, 'depth1': [434]}\n"
     ]
    },
    {
     "name": "stderr",
     "output_type": "stream",
     "text": [
      "0: 640x640 (no detections), 301.1ms\n",
      "Speed: 19.5ms preprocess, 301.1ms inference, 10.5ms postprocess per image at shape (1, 3, 640, 640)\n",
      "\n"
     ]
    },
    {
     "name": "stdout",
     "output_type": "stream",
     "text": [
      "{'x_sort': [array([ 28, 260])], 'currentClass': 5, 'isEmpty': False, 'second': 1705917146, 'depth1': [434]}\n"
     ]
    },
    {
     "name": "stderr",
     "output_type": "stream",
     "text": [
      "0: 640x640 (no detections), 344.5ms\n",
      "Speed: 24.9ms preprocess, 344.5ms inference, 8.1ms postprocess per image at shape (1, 3, 640, 640)\n",
      "\n"
     ]
    },
    {
     "name": "stdout",
     "output_type": "stream",
     "text": [
      "{'x_sort': [array([ 28, 260])], 'currentClass': 5, 'isEmpty': False, 'second': 1705917146, 'depth1': [434]}\n"
     ]
    },
    {
     "name": "stderr",
     "output_type": "stream",
     "text": [
      "0: 640x640 (no detections), 352.3ms\n",
      "Speed: 20.2ms preprocess, 352.3ms inference, 10.4ms postprocess per image at shape (1, 3, 640, 640)\n",
      "\n"
     ]
    },
    {
     "name": "stdout",
     "output_type": "stream",
     "text": [
      "{'x_sort': [array([ 28, 260])], 'currentClass': 5, 'isEmpty': False, 'second': 1705917146, 'depth1': [434]}\n"
     ]
    },
    {
     "name": "stderr",
     "output_type": "stream",
     "text": [
      "0: 640x640 (no detections), 235.2ms\n",
      "Speed: 18.0ms preprocess, 235.2ms inference, 0.0ms postprocess per image at shape (1, 3, 640, 640)\n",
      "\n"
     ]
    },
    {
     "name": "stdout",
     "output_type": "stream",
     "text": [
      "{'x_sort': [array([ 28, 260])], 'currentClass': 5, 'isEmpty': False, 'second': 1705917146, 'depth1': [434]}\n"
     ]
    },
    {
     "name": "stderr",
     "output_type": "stream",
     "text": [
      "0: 640x640 (no detections), 239.0ms\n",
      "Speed: 11.0ms preprocess, 239.0ms inference, 6.0ms postprocess per image at shape (1, 3, 640, 640)\n",
      "\n"
     ]
    },
    {
     "name": "stdout",
     "output_type": "stream",
     "text": [
      "{'x_sort': [array([ 28, 260])], 'currentClass': 5, 'isEmpty': False, 'second': 1705917146, 'depth1': [434]}\n"
     ]
    },
    {
     "name": "stderr",
     "output_type": "stream",
     "text": [
      "0: 640x640 (no detections), 329.9ms\n",
      "Speed: 18.0ms preprocess, 329.9ms inference, 20.2ms postprocess per image at shape (1, 3, 640, 640)\n",
      "\n"
     ]
    },
    {
     "name": "stdout",
     "output_type": "stream",
     "text": [
      "{'x_sort': [array([ 28, 260])], 'currentClass': 5, 'isEmpty': False, 'second': 1705917146, 'depth1': [434]}\n"
     ]
    },
    {
     "name": "stderr",
     "output_type": "stream",
     "text": [
      "0: 640x640 (no detections), 463.7ms\n",
      "Speed: 27.6ms preprocess, 463.7ms inference, 0.0ms postprocess per image at shape (1, 3, 640, 640)\n",
      "\n"
     ]
    },
    {
     "name": "stdout",
     "output_type": "stream",
     "text": [
      "{'x_sort': [array([ 28, 260])], 'currentClass': 5, 'isEmpty': False, 'second': 1705917146, 'depth1': [434]}\n"
     ]
    },
    {
     "name": "stderr",
     "output_type": "stream",
     "text": [
      "0: 640x640 (no detections), 252.0ms\n",
      "Speed: 13.0ms preprocess, 252.0ms inference, 2.1ms postprocess per image at shape (1, 3, 640, 640)\n",
      "\n"
     ]
    },
    {
     "name": "stdout",
     "output_type": "stream",
     "text": [
      "{'x_sort': [array([ 28, 260])], 'currentClass': 5, 'isEmpty': False, 'second': 1705917146, 'depth1': [434]}\n"
     ]
    },
    {
     "name": "stderr",
     "output_type": "stream",
     "text": [
      "0: 640x640 (no detections), 419.4ms\n",
      "Speed: 35.1ms preprocess, 419.4ms inference, 5.4ms postprocess per image at shape (1, 3, 640, 640)\n",
      "\n"
     ]
    },
    {
     "name": "stdout",
     "output_type": "stream",
     "text": [
      "{'x_sort': [array([ 28, 260])], 'currentClass': 5, 'isEmpty': False, 'second': 1705917146, 'depth1': [434]}\n"
     ]
    },
    {
     "name": "stderr",
     "output_type": "stream",
     "text": [
      "0: 640x640 (no detections), 333.0ms\n",
      "Speed: 29.0ms preprocess, 333.0ms inference, 3.0ms postprocess per image at shape (1, 3, 640, 640)\n",
      "\n"
     ]
    },
    {
     "name": "stdout",
     "output_type": "stream",
     "text": [
      "{'x_sort': [array([ 28, 260])], 'currentClass': 5, 'isEmpty': False, 'second': 1705917146, 'depth1': [434]}\n"
     ]
    },
    {
     "name": "stderr",
     "output_type": "stream",
     "text": [
      "0: 640x640 (no detections), 239.4ms\n",
      "Speed: 17.1ms preprocess, 239.4ms inference, 0.0ms postprocess per image at shape (1, 3, 640, 640)\n",
      "\n"
     ]
    },
    {
     "name": "stdout",
     "output_type": "stream",
     "text": [
      "{'x_sort': [array([ 28, 260])], 'currentClass': 5, 'isEmpty': False, 'second': 1705917146, 'depth1': [434]}\n"
     ]
    },
    {
     "name": "stderr",
     "output_type": "stream",
     "text": [
      "0: 640x640 (no detections), 416.0ms\n",
      "Speed: 18.8ms preprocess, 416.0ms inference, 4.2ms postprocess per image at shape (1, 3, 640, 640)\n",
      "\n"
     ]
    },
    {
     "name": "stdout",
     "output_type": "stream",
     "text": [
      "{'x_sort': [array([ 28, 260])], 'currentClass': 5, 'isEmpty': False, 'second': 1705917146, 'depth1': [434]}\n"
     ]
    },
    {
     "name": "stderr",
     "output_type": "stream",
     "text": [
      "0: 640x640 (no detections), 234.4ms\n",
      "Speed: 13.9ms preprocess, 234.4ms inference, 7.1ms postprocess per image at shape (1, 3, 640, 640)\n",
      "\n"
     ]
    },
    {
     "name": "stdout",
     "output_type": "stream",
     "text": [
      "{'x_sort': [array([ 28, 260])], 'currentClass': 5, 'isEmpty': False, 'second': 1705917146, 'depth1': [434]}\n"
     ]
    }
   ],
   "source": [
    "import queue\n",
    "import threading\n",
    "import pyrealsense2\n",
    "from realsense_camera import *\n",
    "import time\n",
    "import cv2\n",
    "from ObjectDetector import ObjectDetector\n",
    "from kuka import Kuka\n",
    "from openshowvar import *\n",
    "import numpy as np\n",
    "from ultralytics import YOLO\n",
    "import supervision as sv\n",
    "import numpy as np\n",
    "\n",
    "print('go')\n",
    "robot = openshowvar(ip = '192.168.17.2', port = 7000)\n",
    "kuka = Kuka(robot)\n",
    "\n",
    "kuka.read_cartessian()\n",
    "\n",
    "kuka.set_base(17)\n",
    "kuka.set_tool(11)\n",
    "\n",
    "# Set speed (%)\n",
    "kuka.set_speed(100)\n",
    "print('ready')\n",
    "trajectory_arr = []\n",
    "trajectory_arr.append(np.array([kuka.x_cartessian, kuka.y_cartessian, kuka.z_cartessian, kuka.A_cartessian, kuka.B_cartessian, kuka.C_cartessian]))\n",
    "trajectory_arr.append(np.array([0, 0, -50, 0, 0, 180]))\n",
    "trajectory_arr = np.array(trajectory_arr)\n",
    "# Отправка траектории роботу\n",
    "kuka.lin_continuous(trajectory_arr) \n",
    "kuka.open_grip()\n",
    "\n",
    "model = YOLO(\"Battery_1.pt\")\n",
    "\n",
    "\n",
    "# Function to clear the queue\n",
    "def clearQueue(dataQueue):\n",
    "    while not dataQueue.empty():\n",
    "        dataQueue.get()\n",
    "\n",
    "# Function for the child thread to process coordinates\n",
    "def childProcess(stopEvent, dataQueue):\n",
    "    while not stopEvent.is_set():\n",
    "        try:\n",
    "            second_coord_max = dataQueue.get(timeout=1)     \n",
    "        except queue.Empty:\n",
    "            continue\n",
    "        if second_coord_max is not None:\n",
    "            trajectory_arr = []\n",
    "            trajectory_arr.append(np.array([kuka.x_cartessian, kuka.y_cartessian, kuka.z_cartessian, kuka.A_cartessian, kuka.B_cartessian, kuka.C_cartessian]))\n",
    "            trajectory_arr.append(np.array([0, 106+second_coord_max[0][0][0], -120, 0, 0, 180]))\n",
    "            trajectory_arr = np.array(trajectory_arr)\n",
    "            # Отправка траектории роботу\n",
    "            kuka.lin_continuous(trajectory_arr)\n",
    "            robot_time=time.time()\n",
    "            time.sleep(second_coord_max[0][2]-(robot_time-second_coord_max[0][3]))\n",
    "            kuka.close_grip()\n",
    "            if second_coord_max[0][1]==0:\n",
    "                trajectory_arr = []\n",
    "                trajectory_arr.append(np.array([kuka.x_cartessian, kuka.y_cartessian, kuka.z_cartessian, kuka.A_cartessian, kuka.B_cartessian, kuka.C_cartessian]))\n",
    "                trajectory_arr.append(np.array([0, 106+second_coord_max[0][0][0], 0, 0, 0, 180]))\n",
    "                trajectory_arr.append(np.array([-330, 170, 0, 0, 0, 180]))\n",
    "                trajectory_arr.append(np.array([-330, 170, -100, 0, 0, 180]))\n",
    "                trajectory_arr = np.array(trajectory_arr)\n",
    "                # Отправка траектории роботу\n",
    "                kuka.lin_continuous(trajectory_arr) \n",
    "                kuka.open_grip()\n",
    "                trajectory_arr = []\n",
    "                trajectory_arr.append(np.array([kuka.x_cartessian, kuka.y_cartessian, kuka.z_cartessian, kuka.A_cartessian, kuka.B_cartessian, kuka.C_cartessian]))\n",
    "                trajectory_arr.append(np.array([-330, 170, 0, 0, 0, 180]))\n",
    "                trajectory_arr.append(np.array([0, second_coord_max[0][0][0], 0, 0, 0, 180]))\n",
    "                trajectory_arr.append(np.array([0, 0, -50, 0, 0, 180]))\n",
    "                trajectory_arr = np.array(trajectory_arr)\n",
    "                # Отправка траектории роботу\n",
    "                kuka.lin_continuous(trajectory_arr)\n",
    "                clearQueue(dataQueue)\n",
    "            if second_coord_max[0][1]==1:\n",
    "                trajectory_arr = []\n",
    "                trajectory_arr.append(np.array([kuka.x_cartessian, kuka.y_cartessian, kuka.z_cartessian, kuka.A_cartessian, kuka.B_cartessian, kuka.C_cartessian]))\n",
    "                trajectory_arr.append(np.array([0, 106+second_coord_max[0][0][0], 0, 0, 0, 180]))\n",
    "                trajectory_arr.append(np.array([-330, 170, 0, 0, 0, 180]))\n",
    "                trajectory_arr.append(np.array([-330, 170, -100, 0, 0, 180]))\n",
    "                trajectory_arr = np.array(trajectory_arr)\n",
    "                # Отправка траектории роботу\n",
    "                kuka.lin_continuous(trajectory_arr) \n",
    "                kuka.open_grip()\n",
    "                trajectory_arr = []\n",
    "                trajectory_arr.append(np.array([kuka.x_cartessian, kuka.y_cartessian, kuka.z_cartessian, kuka.A_cartessian, kuka.B_cartessian, kuka.C_cartessian]))\n",
    "                trajectory_arr.append(np.array([-380, 170, 0, 0, 0, 180]))\n",
    "                trajectory_arr.append(np.array([0, second_coord_max[0][0][0], 0, 0, 0, 180]))\n",
    "                trajectory_arr.append(np.array([0, 0, -50, 0, 0, 180]))\n",
    "                trajectory_arr = np.array(trajectory_arr)\n",
    "                # Отправка траектории роботу\n",
    "                kuka.lin_continuous(trajectory_arr)  \n",
    "                clearQueue(dataQueue)\n",
    "        else:\n",
    "            clearQueue(dataQueue)\n",
    "\n",
    "if __name__ == \"__main__\":\n",
    "    # Open the video capture device\n",
    "    cap = RealsenseCamera()  \n",
    "    # Create an instance of ObjectDetector\n",
    "    detector = ObjectDetector()\n",
    "    # Create an Event object to signal the child thread to stop\n",
    "    stopEvent = threading.Event()\n",
    "    # Create a queue to communicate coordinates between threads\n",
    "    dataQueue = queue.Queue()\n",
    "    coord = None\n",
    "    dataQueue.put(coord)\n",
    "    # Create the child thread\n",
    "    childThread = threading.Thread(target=childProcess, args=(stopEvent, dataQueue,))\n",
    "    # Start the child thread\n",
    "    childThread.start()\n",
    "    coordinat=[]\n",
    "    while True:\n",
    "        ret, frame, depth = cap.get_frame_stream()\n",
    "        coord = detector.detect(frame,depth, model)  \n",
    "        second_coord_min=[]\n",
    "        second_coord_max=[]\n",
    "        for i in range (len(coord['x_sort'])):\n",
    "            if coord['x_sort'][i][0]<=580 and coord['x_sort'][i][0]>=565:\n",
    "                second_min=time.time()\n",
    "                second_coord_min.append([second_min])\n",
    "        for i in range (len(coord['x_sort'])):             \n",
    "            if coord['x_sort'][0][0]<=100 and coord['x_sort'][0][0]>=85:\n",
    "                second_max=time.time()\n",
    "                coord['second_max'][i]=second_max\n",
    "                second=second_max-second_coord_min[i][0]-0.4\n",
    "                coord['second'][i]=second\n",
    "                second_coord_max.append([coord['x_sort'][i], coord['currentClass'][i],coord['second'][i], coord['second_max'][i]])\n",
    "        if dataQueue.empty()==True:\n",
    "            dataQueue.put(second_coord_max)\n",
    "            second_coord_max.pop(0)\n",
    "\n",
    "        # Display the frame\n",
    "        cv2.imshow(\"Frame\", frame)\n",
    "               \n",
    "        # Check for the 'q' key press to stop the program\n",
    "        key = cv2.waitKey(1) & 0xFF\n",
    "        if key == ord(\"q\"):\n",
    "            stopEvent.set()\n",
    "            break\n",
    "\n",
    "    # Release resources\n",
    "    cap.release()\n",
    "    cv2.destroyAllWindows()"
   ]
  },
  {
   "cell_type": "code",
   "execution_count": null,
   "id": "4a587d0b",
   "metadata": {},
   "outputs": [],
   "source": []
  }
 ],
 "metadata": {
  "kernelspec": {
   "display_name": "Python 3 (ipykernel)",
   "language": "python",
   "name": "python3"
  },
  "language_info": {
   "codemirror_mode": {
    "name": "ipython",
    "version": 3
   },
   "file_extension": ".py",
   "mimetype": "text/x-python",
   "name": "python",
   "nbconvert_exporter": "python",
   "pygments_lexer": "ipython3",
   "version": "3.9.12"
  }
 },
 "nbformat": 4,
 "nbformat_minor": 5
}
