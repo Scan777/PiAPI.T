{
 "cells": [
  {
   "cell_type": "code",
   "execution_count": 1,
   "id": "55766e81",
   "metadata": {
    "pycharm": {
     "name": "#%%\n"
    }
   },
   "outputs": [],
   "source": [
    "import cv2\n",
    "import numpy as np\n",
    "import glob\n",
    "\n",
    "cap = cv2.VideoCapture(1)\n",
    "\n",
    "if cap.isOpened() is True:\n",
    "    i = 0\n",
    "    while(True):\n",
    "        ret, frame = cap.read()\n",
    "        gray = cv2.cvtColor(frame, cv2.COLOR_BGR2GRAY) # Преобразовать в серый канал\n",
    "        cv2.imshow('frame', gray)\n",
    "        if i % 50 == 0:\n",
    "            cv2.imwrite('C:\\\\Users\\\\djnik\\\\chess (OpenCv)\\\\' + str(i//50) + '.png', gray)\n",
    "        if (cv2.waitKey(1) & 0xFF == ord('q')) or (i==250):\n",
    "            break\n",
    "        i += 1\n",
    "    cap.release()\n",
    "    cv2.destroyAllWindows()"
   ]
  },
  {
   "cell_type": "code",
   "execution_count": 12,
   "id": "8e56e8a0",
   "metadata": {
    "pycharm": {
     "name": "#%%\n"
    }
   },
   "outputs": [],
   "source": [
    "import numpy as np\n",
    "import cv2\n",
    "import glob\n",
    "# termination criteria\n",
    "criteria = (cv2.TERM_CRITERIA_EPS + cv2.TERM_CRITERIA_MAX_ITER, 30, 0.001)\n",
    "# prepare object points, like (0,0,0), (1,0,0), (2,0,0) ....,(6,5,0)\n",
    "objp = np.zeros((6*6, 3), np.float32)\n",
    "objp[:, :2] = np.mgrid[0:6, 0:6].T.reshape(-1, 2)\n",
    "# Arrays to store object points and image points from all the images.\n",
    "objpoints = []  # 3d point in real world space\n",
    "imgpoints = []  # 2d points in image plane.\n",
    "images = glob.glob('C:\\\\Users\\\\djnik\\\\chess (OpenCv)\\\\*.png')\n",
    "i = 0\n",
    "x = 4\n",
    "y = 3\n",
    "for fname in images:\n",
    "    img = cv2.imread(fname)\n",
    "    gray = cv2.cvtColor(img, cv2.COLOR_BGR2GRAY)\n",
    "    # Find the chess board corners\n",
    "    ret, corners = cv2.findChessboardCorners(gray, (x, y), None)\n",
    "    # If found, add object points, image points (after refining them)\n",
    "    if ret:\n",
    "        i += 1\n",
    "        objpoints.append(objp)\n",
    "        corners2 = cv2.cornerSubPix(gray, corners, (11, 11), (-1, -1), criteria)\n",
    "        for i in range(corners.shape[0]):\n",
    "            z1 = int(corners[0,0,1])\n",
    "            z2 = int(corners[0,0,0])\n",
    "            z3 = int(corners[((x*y)-1),0,1])\n",
    "            z4 = int(corners[((x*y)-1),0,0])\n",
    "            #print(\" -- Refined Corner [\", i, \"]  (\", corners[i,0,0], \",\", corners[i,0,1], \")\")           \n",
    "        imgpoints.append(corners)\n",
    "        # Draw and display the corners\n",
    "        cv2.drawChessboardCorners(img, (x, y), corners2, ret)\n",
    "        cv2.imshow('img', img)\n",
    "        print (z1,\":\",z3,\",\",z2,\":\",z4)\n",
    "        cv2.imwrite('C:\\\\Users\\\\djnik\\\\chess\\\\chesssss\\\\00'+str(i)+'.jpg', img)\n",
    "        cv2.waitKey(50)\n",
    "        \n",
    "cv2.destroyAllWindows()"
   ]
  },
  {
   "cell_type": "code",
   "execution_count": null,
   "id": "d294d904",
   "metadata": {},
   "outputs": [],
   "source": []
  },
  {
   "cell_type": "code",
   "execution_count": null,
   "id": "212dfee0",
   "metadata": {},
   "outputs": [],
   "source": []
  }
 ],
 "metadata": {
  "kernelspec": {
   "display_name": "Python 3 (ipykernel)",
   "language": "python",
   "name": "python3"
  },
  "language_info": {
   "codemirror_mode": {
    "name": "ipython",
    "version": 3
   },
   "file_extension": ".py",
   "mimetype": "text/x-python",
   "name": "python",
   "nbconvert_exporter": "python",
   "pygments_lexer": "ipython3",
   "version": "3.9.12"
  }
 },
 "nbformat": 4,
 "nbformat_minor": 5
}
