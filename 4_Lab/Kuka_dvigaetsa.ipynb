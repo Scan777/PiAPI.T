{
 "cells": [
  {
   "cell_type": "code",
   "execution_count": 3,
   "id": "d86ecc0b",
   "metadata": {
    "pycharm": {
     "name": "#%%\n"
    },
    "scrolled": true
   },
   "outputs": [
    {
     "name": "stdout",
     "output_type": "stream",
     "text": [
      "{FRAME: X 250.0, Y 3.01831741e-30, Z 300.0, A -180.0, B -3.17977829e-14, C 180.0}\n",
      "{FRAME: X 200.0, Y 0.0, Z 300.0, A -180.0, B 0.0, C 180.0}\n",
      "{FRAME: X 250.0, Y 0.0, Z 300.0, A -180.0, B 0.0, C 180.0}\n",
      "[DEBUG] (1711, 11, 1, 5, b'False', b'\\x00\\x01\\x01')\n",
      "[DEBUG] (1712, 10, 1, 4, b'True', b'\\x00\\x01\\x01')\n",
      "open\n",
      "[DEBUG] (1715, 10, 1, 4, b'True', b'\\x00\\x01\\x01')\n",
      "[DEBUG] (1716, 11, 1, 5, b'False', b'\\x00\\x01\\x01')\n",
      "close\n",
      "{FRAME: X 250.0, Y 3.01831741e-30, Z 300.0, A -180.0, B -3.17977829e-14, C 180.0}\n",
      "{FRAME: X 200.0, Y 0.0, Z 300.0, A -180.0, B 0.0, C 180.0}\n",
      "{FRAME: X 250.0, Y 0.0, Z 300.0, A -180.0, B 0.0, C 180.0}\n"
     ]
    },
    {
     "data": {
      "text/plain": [
       "'\\nwhile True:    \\n    x1,y1,a2=Color_detection.coord(camera)\\n    time.sleep(2)\\n    x2,y2,a5=Color_detection.coord(camera) \\n    if (eql(x1,x2)) and (eql(y1,y2)):\\n        trajectory_arr.append(np.array([y1, x1,300, -180, 0, 180]))\\n        trajectory_arr.append(np.array([y1, x1,300, -180, 0,180]))\\n        kuka.open_grip()\\n        kuka.close_grip()\\n        trajectory_arr.append(np.array([y1, x1,300, -180, 0, 180]))\\n        trajectory_arr.append(np.array([100, 200,300, -180, 0, 180]))\\n        trajectory_arr.append(np.array([kuka.x_cartessian, kuka.y_cartessian, 300, -180, 0, 180]))\\n        kuka.open_grip()\\n        trajectory_arr.append(np.array([kuka.x_cartessian, kuka.y_cartessian, 300, -180, 0, 180]))\\n        trajectory_arr.append(np.array([-50, 0, 300, -180, 0, 180]))\\n        trajectory_arr = np.array(trajectory_arr)\\n        # Отправка траектории роботу\\n        kuka.lin_continuous(trajectory_arr)\\n    break\\n'"
      ]
     },
     "execution_count": 3,
     "metadata": {},
     "output_type": "execute_result"
    }
   ],
   "source": [
    "from kuka import Kuka\n",
    "from openshowvar import *\n",
    "import time\n",
    "import Color_detection\n",
    "import numpy as np\n",
    "import cv2\n",
    "\n",
    "\n",
    "def eql(num1, num2, err=10):\n",
    "    if num1 < 0 or num2 < 0:\n",
    "        return False\n",
    "    return True if abs(num1 - num2) <= err else False\n",
    "\n",
    "\n",
    "#Connect robot\n",
    "robot = openshowvar(ip = '192.168.1.2', port = 7000)\n",
    "kuka = Kuka(robot)\n",
    "\n",
    "kuka.read_cartessian()\n",
    "# Построение траектории\n",
    "trajectory_arr = []\n",
    "trajectory_arr.append(np.array([kuka.x_cartessian, kuka.y_cartessian, kuka.z_cartessian, kuka.A_cartessian, kuka.B_cartessian, kuka.C_cartessian]))\n",
    "\n",
    "#camera = cv2.VideoCapture(0)\n",
    "trajectory_arr.append(np.array([200, 0,300, -180, 0, 180]))\n",
    "trajectory_arr.append(np.array([250, 0,300, -180, 0,180]))\n",
    "trajectory_arr = np.array(trajectory_arr)\n",
    "# Отправка траектории роботу\n",
    "kuka.lin_continuous(trajectory_arr)\n",
    "kuka.open_grip()\n",
    "kuka.close_grip()\n",
    "trajectory_arr = []\n",
    "trajectory_arr.append(np.array([kuka.x_cartessian, kuka.y_cartessian, kuka.z_cartessian, kuka.A_cartessian, kuka.B_cartessian, kuka.C_cartessian]))\n",
    "trajectory_arr.append(np.array([200, 0,300, -180, 0, 180]))\n",
    "trajectory_arr.append(np.array([250, 0,300, -180, 0,180]))\n",
    "trajectory_arr = np.array(trajectory_arr)\n",
    "# Отправка траектории роботу\n",
    "kuka.lin_continuous(trajectory_arr)\n",
    "#kuka.open_grip()\n",
    "#trajectory_arr = []\n",
    "#trajectory_arr.append(np.array([100, 200, 300, -180, 0, 180]))\n",
    "#trajectory_arr.append(np.array([200, 0, 300, -180, 0, 180]))\n",
    "#trajectory_arr = np.array(trajectory_arr)\n",
    "# Отправка траектории роботу\n",
    "#kuka.lin_continuous(trajectory_arr)\n",
    "#kuka.open_grip()\n",
    "#kuka.close_grip()\n",
    "'''\n",
    "while True:    \n",
    "    x1,y1,a2=Color_detection.coord(camera)\n",
    "    time.sleep(2)\n",
    "    x2,y2,a5=Color_detection.coord(camera) \n",
    "    if (eql(x1,x2)) and (eql(y1,y2)):\n",
    "        trajectory_arr.append(np.array([y1, x1,300, -180, 0, 180]))\n",
    "        trajectory_arr.append(np.array([y1, x1,300, -180, 0,180]))\n",
    "        kuka.open_grip()\n",
    "        kuka.close_grip()\n",
    "        trajectory_arr.append(np.array([y1, x1,300, -180, 0, 180]))\n",
    "        trajectory_arr.append(np.array([100, 200,300, -180, 0, 180]))\n",
    "        trajectory_arr.append(np.array([kuka.x_cartessian, kuka.y_cartessian, 300, -180, 0, 180]))\n",
    "        kuka.open_grip()\n",
    "        trajectory_arr.append(np.array([kuka.x_cartessian, kuka.y_cartessian, 300, -180, 0, 180]))\n",
    "        trajectory_arr.append(np.array([-50, 0, 300, -180, 0, 180]))\n",
    "        trajectory_arr = np.array(trajectory_arr)\n",
    "        # Отправка траектории роботу\n",
    "        kuka.lin_continuous(trajectory_arr)\n",
    "    break\n",
    "'''"
   ]
  },
  {
   "cell_type": "code",
   "execution_count": null,
   "id": "abe07c93",
   "metadata": {},
   "outputs": [],
   "source": []
  }
 ],
 "metadata": {
  "kernelspec": {
   "display_name": "Python 3 (ipykernel)",
   "language": "python",
   "name": "python3"
  },
  "language_info": {
   "codemirror_mode": {
    "name": "ipython",
    "version": 3
   },
   "file_extension": ".py",
   "mimetype": "text/x-python",
   "name": "python",
   "nbconvert_exporter": "python",
   "pygments_lexer": "ipython3",
   "version": "3.9.12"
  }
 },
 "nbformat": 4,
 "nbformat_minor": 5
}
