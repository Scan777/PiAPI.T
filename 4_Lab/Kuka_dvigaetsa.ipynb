{
 "cells": [
  {
   "cell_type": "code",
   "execution_count": 4,
   "id": "7d032a00",
   "metadata": {
    "pycharm": {
     "name": "#%%\n"
    },
    "scrolled": true
   },
   "outputs": [
    {
     "name": "stdout",
     "output_type": "stream",
     "text": [
      "{FRAME: X 219.695084, Y 494.070221, Z 98.3370056, A 180.000, B 0.0, C 0.0538320243}\n",
      "{FRAME: X 5.19289064, Y -18.2945232, Z 136.932053, A 0.0, B 0.0, C 0.0}\n",
      "Base Frame:  [2.19695084e+02 4.94070221e+02 9.83370056e+01 1.80000000e+02\n",
      " 0.00000000e+00 5.38320243e-02]\n",
      "Tool Frame:  [  5.19289064 -18.2945232  136.932053     0.           0.\n",
      "   0.        ]\n",
      "{FRAME: X 180.470322, Y -47.093914, Z 108.04538, A 109.819153, B 0.782112777, C -179.665131}\n",
      "{FRAME: X 0.0, Y 0.0, Z 100.0, A 90.0, B 0.0, C 180.0}\n"
     ]
    },
    {
     "data": {
      "text/plain": [
       "'\\nwhile True:    \\n    x1,y1,a2=Color_detection.coord(camera)\\n    time.sleep(2)\\n    x2,y2,a5=Color_detection.coord(camera) \\n    if (eql(x1,x2)) and (eql(y1,y2)):\\n        #Зависание над объектом\\n        trajectory_arr = []\\n        trajectory_arr.append(np.array([kuka.x_cartessian, kuka.y_cartessian, kuka.z_cartessian, kuka.A_cartessian, kuka.B_cartessian, kuka.C_cartessian]))\\n        trajectory_arr.append(np.array([y1, x1,300, -180, 0, 180]))\\n        trajectory_arr = np.array(trajectory_arr)\\n        kuka.lin_continuous(trajectory_arr)\\n        #Проверка на закрытие захвата\\n        kuka.open_grip()\\n        #Опускание на объект\\n        trajectory_arr = []\\n        trajectory_arr.append(np.array([kuka.x_cartessian, kuka.y_cartessian, kuka.z_cartessian, kuka.A_cartessian, kuka.B_cartessian, kuka.C_cartessian]))\\n        trajectory_arr.append(np.array([y1, x1,300, -180, 0, 180]))\\n        trajectory_arr = np.array(trajectory_arr)\\n        kuka.lin_continuous(trajectory_arr)\\n        #Закрытие захвата\\n        kuka.close_grip()\\n        #Поднятие и перенос объекта\\n        trajectory_arr = []\\n        trajectory_arr.append(np.array([kuka.x_cartessian, kuka.y_cartessian, kuka.z_cartessian, kuka.A_cartessian, kuka.B_cartessian, kuka.C_cartessian]))\\n        trajectory_arr.append(np.array([y1, x1,300, -180, 0, 180])) #Поднятие\\n        trajectory_arr.append(np.array([100, 200,300, -180, 0, 180])) #Перенос\\n        trajectory_arr.append(np.array([100, 200,300, -180, 0, 180])) #Опускание объекта\\n        trajectory_arr = np.array(trajectory_arr)\\n        kuka.lin_continuous(trajectory_arr)\\n        #Открытие захвата\\n        kuka.open_grip()\\n        #Поднятие робота и возврат в точку home\\n        trajectory_arr = []\\n        trajectory_arr.append(np.array([kuka.x_cartessian, kuka.y_cartessian, kuka.z_cartessian, kuka.A_cartessian, kuka.B_cartessian, kuka.C_cartessian]))\\n        trajectory_arr.append(np.array([y1, x1,300, -180, 0, 180])) #Поднятие\\n        trajectory_arr.append(np.array([100, 200,300, -180, 0, 180])) #Возврат в точку home\\n        trajectory_arr = np.array(trajectory_arr)\\n        kuka.lin_continuous(trajectory_arr)\\n    continue\\n'"
      ]
     },
     "execution_count": 4,
     "metadata": {},
     "output_type": "execute_result"
    }
   ],
   "source": [
    "from kuka import Kuka\n",
    "from openshowvar import *\n",
    "import time\n",
    "import Color_detection\n",
    "import numpy as np\n",
    "import cv2\n",
    "\n",
    "\n",
    "#def eql(num1, num2, err=10):\n",
    "#    if num1 < 0 or num2 < 0:\n",
    "#        return False\n",
    "#    return True if abs(num1 - num2) <= err else False\n",
    "\n",
    "\n",
    "#Connect robot\n",
    "robot = openshowvar(ip = '192.168.1.2', port = 7000)\n",
    "kuka = Kuka(robot)\n",
    "\n",
    "\n",
    "kuka.read_base()\n",
    "#kuka.read_tool()\n",
    "kuka.set_base(5)\n",
    "#kuka.set_base(np.array([219.7, 494.07, 98.34, 180, 0, 0]))\n",
    "\n",
    "kuka.read_tool()\n",
    "kuka.set_tool(10)\n",
    "\n",
    "kuka.read_cartessian()\n",
    "kuka.read_base()\n",
    "kuka.read_tool()\n",
    "print(\"Base Frame: \", kuka.base_frame)\n",
    "print(\"Tool Frame: \", kuka.tool_frame)\n",
    "trajectory_arr = []\n",
    "trajectory_arr.append(np.array([kuka.x_cartessian, kuka.y_cartessian, kuka.z_cartessian, kuka.A_cartessian, kuka.B_cartessian, kuka.C_cartessian]))\n",
    "trajectory_arr.append(np.array([0, 0, 100, 90, 0, 180]))\n",
    "trajectory_arr = np.array(trajectory_arr)\n",
    "kuka.lin_continuous(trajectory_arr)\n",
    "\n",
    "'''\n",
    "while True:    \n",
    "    x1,y1,a2=Color_detection.coord(camera)\n",
    "    time.sleep(2)\n",
    "    x2,y2,a5=Color_detection.coord(camera) \n",
    "    if (eql(x1,x2)) and (eql(y1,y2)):\n",
    "        #Зависание над объектом\n",
    "        trajectory_arr = []\n",
    "        trajectory_arr.append(np.array([kuka.x_cartessian, kuka.y_cartessian, kuka.z_cartessian, kuka.A_cartessian, kuka.B_cartessian, kuka.C_cartessian]))\n",
    "        trajectory_arr.append(np.array([y1, x1,300, -180, 0, 180]))\n",
    "        trajectory_arr = np.array(trajectory_arr)\n",
    "        kuka.lin_continuous(trajectory_arr)\n",
    "        #Проверка на закрытие захвата\n",
    "        kuka.open_grip()\n",
    "        #Опускание на объект\n",
    "        trajectory_arr = []\n",
    "        trajectory_arr.append(np.array([kuka.x_cartessian, kuka.y_cartessian, kuka.z_cartessian, kuka.A_cartessian, kuka.B_cartessian, kuka.C_cartessian]))\n",
    "        trajectory_arr.append(np.array([y1, x1,300, -180, 0, 180]))\n",
    "        trajectory_arr = np.array(trajectory_arr)\n",
    "        kuka.lin_continuous(trajectory_arr)\n",
    "        #Закрытие захвата\n",
    "        kuka.close_grip()\n",
    "        #Поднятие и перенос объекта\n",
    "        trajectory_arr = []\n",
    "        trajectory_arr.append(np.array([kuka.x_cartessian, kuka.y_cartessian, kuka.z_cartessian, kuka.A_cartessian, kuka.B_cartessian, kuka.C_cartessian]))\n",
    "        trajectory_arr.append(np.array([y1, x1,300, -180, 0, 180])) #Поднятие\n",
    "        trajectory_arr.append(np.array([100, 200,300, -180, 0, 180])) #Перенос\n",
    "        trajectory_arr.append(np.array([100, 200,300, -180, 0, 180])) #Опускание объекта\n",
    "        trajectory_arr = np.array(trajectory_arr)\n",
    "        kuka.lin_continuous(trajectory_arr)\n",
    "        #Открытие захвата\n",
    "        kuka.open_grip()\n",
    "        #Поднятие робота и возврат в точку home\n",
    "        trajectory_arr = []\n",
    "        trajectory_arr.append(np.array([kuka.x_cartessian, kuka.y_cartessian, kuka.z_cartessian, kuka.A_cartessian, kuka.B_cartessian, kuka.C_cartessian]))\n",
    "        trajectory_arr.append(np.array([y1, x1,300, -180, 0, 180])) #Поднятие\n",
    "        trajectory_arr.append(np.array([100, 200,300, -180, 0, 180])) #Возврат в точку home\n",
    "        trajectory_arr = np.array(trajectory_arr)\n",
    "        kuka.lin_continuous(trajectory_arr)\n",
    "    continue\n",
    "'''"
   ]
  },
  {
   "cell_type": "code",
   "execution_count": null,
   "id": "bfc41cce",
   "metadata": {},
   "outputs": [],
   "source": []
  }
 ],
 "metadata": {
  "kernelspec": {
   "display_name": "Python 3 (ipykernel)",
   "language": "python",
   "name": "python3"
  },
  "language_info": {
   "codemirror_mode": {
    "name": "ipython",
    "version": 3
   },
   "file_extension": ".py",
   "mimetype": "text/x-python",
   "name": "python",
   "nbconvert_exporter": "python",
   "pygments_lexer": "ipython3",
   "version": "3.9.12"
  }
 },
 "nbformat": 4,
 "nbformat_minor": 5
}
