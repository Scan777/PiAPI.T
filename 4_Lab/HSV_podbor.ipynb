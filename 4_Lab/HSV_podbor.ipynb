{
 "cells": [
  {
   "cell_type": "code",
   "execution_count": 1,
   "id": "69029e92",
   "metadata": {},
   "outputs": [
    {
     "ename": "KeyboardInterrupt",
     "evalue": "",
     "output_type": "error",
     "traceback": [
      "\u001b[1;31m---------------------------------------------------------------------------\u001b[0m",
      "\u001b[1;31mKeyboardInterrupt\u001b[0m                         Traceback (most recent call last)",
      "Input \u001b[1;32mIn [1]\u001b[0m, in \u001b[0;36m<cell line: 23>\u001b[1;34m()\u001b[0m\n\u001b[0;32m     39\u001b[0m     thresh \u001b[38;5;241m=\u001b[39m cv2\u001b[38;5;241m.\u001b[39minRange(hsv, h_min, h_max)\n\u001b[0;32m     41\u001b[0m     cv2\u001b[38;5;241m.\u001b[39mimshow(\u001b[38;5;124m'\u001b[39m\u001b[38;5;124mresult\u001b[39m\u001b[38;5;124m'\u001b[39m, thresh) \n\u001b[1;32m---> 43\u001b[0m     \u001b[38;5;28;01mif\u001b[39;00m \u001b[43mcv2\u001b[49m\u001b[38;5;241;43m.\u001b[39;49m\u001b[43mwaitKey\u001b[49m\u001b[43m(\u001b[49m\u001b[38;5;241;43m1\u001b[39;49m\u001b[43m)\u001b[49m \u001b[38;5;241m==\u001b[39m \u001b[38;5;28mord\u001b[39m(\u001b[38;5;124m'\u001b[39m\u001b[38;5;124mq\u001b[39m\u001b[38;5;124m'\u001b[39m):  \u001b[38;5;66;03m# С‡С‚РѕР± РІС‹Р№С‚Рё РЅР°РґРѕ РЅР°Р¶Р°С‚СЊ 'q' РЅР° РєР»Р°РІРёР°С‚СѓСЂРµ\u001b[39;00m\n\u001b[0;32m     44\u001b[0m         \u001b[38;5;28;01mbreak\u001b[39;00m\n\u001b[0;32m     48\u001b[0m cap\u001b[38;5;241m.\u001b[39mrelease()\n",
      "\u001b[1;31mKeyboardInterrupt\u001b[0m: "
     ]
    }
   ],
   "source": [
    "import cv2\n",
    "import numpy as np\n",
    "\n",
    "\n",
    "if __name__ == '__main__':\n",
    "    def nothing(*arg):\n",
    "        pass\n",
    "\n",
    "cv2.namedWindow( \"result\" ) # создаем главное окно\n",
    "cv2.namedWindow( \"settings\" ) # создаем окно настроек\n",
    "\n",
    "cap = cv2.VideoCapture(0)\n",
    "# создаем 6 бегунков для настройки начального и конечного цвета фильтра\n",
    "cv2.createTrackbar('h1', 'settings', 0, 255, nothing)\n",
    "cv2.createTrackbar('s1', 'settings', 0, 255, nothing)\n",
    "cv2.createTrackbar('v1', 'settings', 0, 255, nothing)\n",
    "cv2.createTrackbar('h2', 'settings', 255, 255, nothing)\n",
    "cv2.createTrackbar('s2', 'settings', 255, 255, nothing)\n",
    "cv2.createTrackbar('v2', 'settings', 255, 255, nothing)\n",
    "crange = [0,0,0, 0,0,0]\n",
    "\n",
    "while True:\n",
    "    flag, img = cap.read()\n",
    "    hsv = cv2.cvtColor(img, cv2.COLOR_BGR2HSV)\n",
    " \n",
    "    # считываем значения бегунков\n",
    "    h1 = cv2.getTrackbarPos('h1', 'settings')\n",
    "    s1 = cv2.getTrackbarPos('s1', 'settings')\n",
    "    v1 = cv2.getTrackbarPos('v1', 'settings')\n",
    "    h2 = cv2.getTrackbarPos('h2', 'settings')\n",
    "    s2 = cv2.getTrackbarPos('s2', 'settings')\n",
    "    v2 = cv2.getTrackbarPos('v2', 'settings')\n",
    "\n",
    "    # формируем начальный и конечный цвет фильтра\n",
    "    h_min = np.array((h1, s1, v1), np.uint8)\n",
    "    h_max = np.array((h2, s2, v2), np.uint8)\n",
    "\n",
    "    # накладываем фильтр на кадр в модели HSV\n",
    "    thresh = cv2.inRange(hsv, h_min, h_max)\n",
    "\n",
    "    cv2.imshow('result', thresh) \n",
    " \n",
    "    if cv2.waitKey(1) == ord('q'):  \n",
    "        break\n",
    "        \n",
    "        \n",
    "\n",
    "cap.release()\n",
    "cv2.destroyAllWindows()"
   ]
  },
  {
   "cell_type": "code",
   "execution_count": null,
   "id": "956a50b9",
   "metadata": {},
   "outputs": [],
   "source": []
  }
 ],
 "metadata": {
  "kernelspec": {
   "display_name": "Python 3 (ipykernel)",
   "language": "python",
   "name": "python3"
  },
  "language_info": {
   "codemirror_mode": {
    "name": "ipython",
    "version": 3
   },
   "file_extension": ".py",
   "mimetype": "text/x-python",
   "name": "python",
   "nbconvert_exporter": "python",
   "pygments_lexer": "ipython3",
   "version": "3.9.12"
  }
 },
 "nbformat": 4,
 "nbformat_minor": 5
}
