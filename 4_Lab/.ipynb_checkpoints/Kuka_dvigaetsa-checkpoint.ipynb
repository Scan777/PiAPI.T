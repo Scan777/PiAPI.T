{
 "cells": [
  {
   "cell_type": "code",
   "execution_count": 1,
   "id": "78e2432a",
   "metadata": {
    "pycharm": {
     "name": "#%%\n"
    },
    "scrolled": true
   },
   "outputs": [
    {
     "name": "stdout",
     "output_type": "stream",
     "text": [
      "green button\n",
      "{FRAME: X 166.63179, Y 182.285812, Z 82.8044739, A 89.9880524, B -31.3181419, C 148.682663}\n",
      "{FRAME: X 0.0, Y 0.0, Z 100.0, A 90.0, B 0.0, C 180.0}\n",
      "{FRAME: X 200.0, Y 150.0, Z 100.0, A 90.0, B 0.0, C 180.0}\n",
      "close\n"
     ]
    },
    {
     "data": {
      "text/plain": [
       "'\\nwhile True:    \\n    x1,y1,a2=Color_detection.coord(camera)\\n    time.sleep(2)\\n    x2,y2,a5=Color_detection.coord(camera) \\n    if (eql(x1,x2)) and (eql(y1,y2)):\\n        #Зависание над объектом\\n        trajectory_arr = []\\n        trajectory_arr.append(np.array([kuka.x_cartessian, kuka.y_cartessian, kuka.z_cartessian, kuka.A_cartessian, kuka.B_cartessian, kuka.C_cartessian]))\\n        trajectory_arr.append(np.array([y1, x1,300, -180, 0, 180]))\\n        trajectory_arr = np.array(trajectory_arr)\\n        kuka.lin_continuous(trajectory_arr)\\n        #Проверка на закрытие захвата\\n        kuka.open_grip()\\n        #Опускание на объект\\n        trajectory_arr = []\\n        trajectory_arr.append(np.array([kuka.x_cartessian, kuka.y_cartessian, kuka.z_cartessian, kuka.A_cartessian, kuka.B_cartessian, kuka.C_cartessian]))\\n        trajectory_arr.append(np.array([y1, x1,300, -180, 0, 180]))\\n        trajectory_arr = np.array(trajectory_arr)\\n        kuka.lin_continuous(trajectory_arr)\\n        #Закрытие захвата\\n        kuka.close_grip()\\n        #Поднятие и перенос объекта\\n        trajectory_arr = []\\n        trajectory_arr.append(np.array([kuka.x_cartessian, kuka.y_cartessian, kuka.z_cartessian, kuka.A_cartessian, kuka.B_cartessian, kuka.C_cartessian]))\\n        trajectory_arr.append(np.array([y1, x1,300, -180, 0, 180])) #Поднятие\\n        trajectory_arr.append(np.array([100, 200,300, -180, 0, 180])) #Перенос\\n        trajectory_arr.append(np.array([100, 200,300, -180, 0, 180])) #Опускание объекта\\n        trajectory_arr = np.array(trajectory_arr)\\n        kuka.lin_continuous(trajectory_arr)\\n        #Открытие захвата\\n        kuka.open_grip()\\n        #Поднятие робота и возврат в точку home\\n        trajectory_arr = []\\n        trajectory_arr.append(np.array([kuka.x_cartessian, kuka.y_cartessian, kuka.z_cartessian, kuka.A_cartessian, kuka.B_cartessian, kuka.C_cartessian]))\\n        trajectory_arr.append(np.array([y1, x1,300, -180, 0, 180])) #Поднятие\\n        trajectory_arr.append(np.array([100, 200,300, -180, 0, 180])) #Возврат в точку home\\n        trajectory_arr = np.array(trajectory_arr)\\n        kuka.lin_continuous(trajectory_arr)\\n    continue\\n'"
      ]
     },
     "execution_count": 1,
     "metadata": {},
     "output_type": "execute_result"
    }
   ],
   "source": [
    "from kuka import Kuka\n",
    "from openshowvar import *\n",
    "import time\n",
    "import Color_detection\n",
    "import numpy as np\n",
    "import cv2\n",
    "\n",
    "\n",
    "#def eql(num1, num2, err=10):\n",
    "#    if num1 < 0 or num2 < 0:\n",
    "#        return False\n",
    "#    return True if abs(num1 - num2) <= err else False\n",
    "\n",
    "\n",
    "#Connect robot\n",
    "robot = openshowvar(ip = '192.168.1.2', port = 7000)\n",
    "kuka = Kuka(robot)\n",
    "\n",
    "print('green button')\n",
    "kuka.set_base(5)\n",
    "kuka.set_tool(10)\n",
    "\n",
    "# Set speed (%)\n",
    "kuka.set_speed(30)\n",
    "\n",
    "\n",
    "kuka.read_cartessian()\n",
    "\n",
    "trajectory_arr = []\n",
    "trajectory_arr.append(np.array([kuka.x_cartessian, kuka.y_cartessian, kuka.z_cartessian, kuka.A_cartessian, kuka.B_cartessian, kuka.C_cartessian]))\n",
    "trajectory_arr.append(np.array([0, 0, 100, 90, 0, 180]))\n",
    "trajectory_arr.append(np.array([200, 150, 100, 90, 0, 180]))\n",
    "trajectory_arr = np.array(trajectory_arr)\n",
    "kuka.lin_continuous(trajectory_arr)\n",
    "kuka.close_grip()\n",
    "\n",
    "'''\n",
    "while True:    \n",
    "    x1,y1,a2=Color_detection.coord(camera)\n",
    "    time.sleep(2)\n",
    "    x2,y2,a5=Color_detection.coord(camera) \n",
    "    if (eql(x1,x2)) and (eql(y1,y2)):\n",
    "        #Зависание над объектом\n",
    "        trajectory_arr = []\n",
    "        trajectory_arr.append(np.array([kuka.x_cartessian, kuka.y_cartessian, kuka.z_cartessian, kuka.A_cartessian, kuka.B_cartessian, kuka.C_cartessian]))\n",
    "        trajectory_arr.append(np.array([y1, x1,300, -180, 0, 180]))\n",
    "        trajectory_arr = np.array(trajectory_arr)\n",
    "        kuka.lin_continuous(trajectory_arr)\n",
    "        #Проверка на закрытие захвата\n",
    "        kuka.open_grip()\n",
    "        #Опускание на объект\n",
    "        trajectory_arr = []\n",
    "        trajectory_arr.append(np.array([kuka.x_cartessian, kuka.y_cartessian, kuka.z_cartessian, kuka.A_cartessian, kuka.B_cartessian, kuka.C_cartessian]))\n",
    "        trajectory_arr.append(np.array([y1, x1,300, -180, 0, 180]))\n",
    "        trajectory_arr = np.array(trajectory_arr)\n",
    "        kuka.lin_continuous(trajectory_arr)\n",
    "        #Закрытие захвата\n",
    "        kuka.close_grip()\n",
    "        #Поднятие и перенос объекта\n",
    "        trajectory_arr = []\n",
    "        trajectory_arr.append(np.array([kuka.x_cartessian, kuka.y_cartessian, kuka.z_cartessian, kuka.A_cartessian, kuka.B_cartessian, kuka.C_cartessian]))\n",
    "        trajectory_arr.append(np.array([y1, x1,300, -180, 0, 180])) #Поднятие\n",
    "        trajectory_arr.append(np.array([100, 200,300, -180, 0, 180])) #Перенос\n",
    "        trajectory_arr.append(np.array([100, 200,300, -180, 0, 180])) #Опускание объекта\n",
    "        trajectory_arr = np.array(trajectory_arr)\n",
    "        kuka.lin_continuous(trajectory_arr)\n",
    "        #Открытие захвата\n",
    "        kuka.open_grip()\n",
    "        #Поднятие робота и возврат в точку home\n",
    "        trajectory_arr = []\n",
    "        trajectory_arr.append(np.array([kuka.x_cartessian, kuka.y_cartessian, kuka.z_cartessian, kuka.A_cartessian, kuka.B_cartessian, kuka.C_cartessian]))\n",
    "        trajectory_arr.append(np.array([y1, x1,300, -180, 0, 180])) #Поднятие\n",
    "        trajectory_arr.append(np.array([100, 200,300, -180, 0, 180])) #Возврат в точку home\n",
    "        trajectory_arr = np.array(trajectory_arr)\n",
    "        kuka.lin_continuous(trajectory_arr)\n",
    "    continue\n",
    "'''"
   ]
  },
  {
   "cell_type": "code",
   "execution_count": 2,
   "id": "ddc6e185",
   "metadata": {},
   "outputs": [],
   "source": [
    "kuka.set_speed(50)"
   ]
  },
  {
   "cell_type": "code",
   "execution_count": null,
   "id": "f5f3af06",
   "metadata": {},
   "outputs": [],
   "source": []
  }
 ],
 "metadata": {
  "kernelspec": {
   "display_name": "Python 3 (ipykernel)",
   "language": "python",
   "name": "python3"
  },
  "language_info": {
   "codemirror_mode": {
    "name": "ipython",
    "version": 3
   },
   "file_extension": ".py",
   "mimetype": "text/x-python",
   "name": "python",
   "nbconvert_exporter": "python",
   "pygments_lexer": "ipython3",
   "version": "3.9.12"
  }
 },
 "nbformat": 4,
 "nbformat_minor": 5
}
