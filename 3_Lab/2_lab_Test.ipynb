{
 "cells": [
  {
   "cell_type": "code",
   "execution_count": 6,
   "id": "7f11ed4e",
   "metadata": {},
   "outputs": [],
   "source": [
    "from openshowvar import *\n",
    "from kuka import Kuka\n",
    "import numpy as np\n",
    "#Connect robot\n",
    "robot = openshowvar(ip = '192.168.17.2', port = 7000)\n",
    "kuka = Kuka(robot)\n",
    "\n",
    "# Чтение текущих координат робота\n",
    "kuka.read_cartessian()\n",
    "#print(kuka.global_position)\n",
    "\n",
    "# Построение траектории\n",
    "trajectory_arr = []\n",
    "# Построение квадрата\n",
    "trajectory_arr.append(np.array([kuka.x_cartessian, kuka.y_cartessian, kuka.z_cartessian, kuka.A_cartessian, kuka.B_cartessian, kuka.C_cartessian]))\n",
    "trajectory_arr.append(np.array([411.079193,108.829559,362.108368,-3.21379304,-24.6314297,-167.999466]))\n",
    "trajectory_arr.append(np.array([-121.779266,-407.430725,362.108368,-124.683334,-24.6314297,-167.999466 ]))\n",
    "trajectory_arr.append(np.array([411.079193,108.829559,362.108368,-3.21379304,-24.6314297,-167.999466]))\n",
    "trajectory_arr.append(np.array([kuka.x_cartessian, kuka.y_cartessian, kuka.z_cartessian, kuka.A_cartessian, kuka.B_cartessian, kuka.C_cartessian]))\n",
    "trajectory_arr = np.array(trajectory_arr)\n",
    "# Отправка траектории роботу\n",
    "kuka.lin_continuous(trajectory_arr)\n",
    "\n",
    "kuka.open_grip()\n",
    "kuka.close_grip()\n",
    "kuka.vacuum_on()\n",
    "kuka.vacuum_off()"
   ]
  },
  {
   "cell_type": "code",
   "execution_count": null,
   "id": "3a8a0a13",
   "metadata": {},
   "outputs": [],
   "source": []
  }
 ],
 "metadata": {
  "kernelspec": {
   "display_name": "Python 3 (ipykernel)",
   "language": "python",
   "name": "python3"
  },
  "language_info": {
   "codemirror_mode": {
    "name": "ipython",
    "version": 3
   },
   "file_extension": ".py",
   "mimetype": "text/x-python",
   "name": "python",
   "nbconvert_exporter": "python",
   "pygments_lexer": "ipython3",
   "version": "3.9.12"
  }
 },
 "nbformat": 4,
 "nbformat_minor": 5
}
