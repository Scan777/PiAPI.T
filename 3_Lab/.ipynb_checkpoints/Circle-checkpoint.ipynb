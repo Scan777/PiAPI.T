{
 "cells": [
  {
   "cell_type": "code",
   "execution_count": 3,
   "id": "ea50e083",
   "metadata": {},
   "outputs": [
    {
     "name": "stdout",
     "output_type": "stream",
     "text": [
      "[DEBUG] (60, 6, 1, 0, b'', b'\\x00\\x00\\x00')\n",
      "{FRAME: X 250.000015, Y 100.0, Z 300.0, A 179.999939, B -0.000370025606, C 179.999924}\n",
      "{FRAME: X 250.000015, Y 100.0, Z 300.0, A 179.999939, B -0.000370025606, C 179.999924}\n",
      "{FRAME: X 350.00001499999996, Y 100.0, Z 300.0, A 179.999939, B -0.000370025606, C 179.999924}\n",
      "{FRAME: X 350.00001499999996, Y 200.0, Z 300.0, A 179.999939, B -0.000370025606, C 179.999924}\n",
      "{FRAME: X 250.000015, Y 200.0, Z 300.0, A 179.999939, B -0.000370025606, C 179.999924}\n"
     ]
    }
   ],
   "source": [
    "import sys\n",
    "from openshowvar import *\n",
    "import numpy as np\n",
    "from kuka import Kuka\n",
    "\n",
    "#Подключение к роботу. IP адрес можно получить у преподавателя\n",
    "robot = openshowvar(ip = '192.168.1.2', port = 7000)\n",
    "kuka = Kuka(robot)\n",
    "\n",
    "kuka.robot.write(\"$APO.CDIS\", str(50))\n",
    "# Чтение текущих координат робота\n",
    "kuka.read_cartessian()\n",
    "\n",
    "# Построение траектории\n",
    "trajectory_arr = []\n",
    "trajectory_arr.append(np.array([kuka.x_cartessian, kuka.y_cartessian, kuka.z_cartessian, kuka.A_cartessian, kuka.B_cartessian, kuka.C_cartessian]))\n",
    "trajectory_arr.append(np.array([kuka.x_cartessian, kuka.y_cartessian, kuka.z_cartessian, kuka.A_cartessian, kuka.B_cartessian, kuka.C_cartessian]))\n",
    "a = []\n",
    "for x in range(1,6):\n",
    "    for y in range(1,6):\n",
    "        trajectory_arr = [].append([x,y])\n",
    "trajectory_arr = np.array(trajectory_arr)\n",
    "# Построение квадрата\n",
    "\n",
    "trajectory_arr.append(np.array([kuka.x_cartessian + 100, kuka.y_cartessian, kuka.z_cartessian, kuka.A_cartessian, kuka.B_cartessian, kuka.C_cartessian]))\n",
    "trajectory_arr.append(np.array([kuka.x_cartessian + 100, kuka.y_cartessian + 100, kuka.z_cartessian, kuka.A_cartessian, kuka.B_cartessian, kuka.C_cartessian]))\n",
    "trajectory_arr.append(np.array([kuka.x_cartessian, kuka.y_cartessian + 100, kuka.z_cartessian, kuka.A_cartessian, kuka.B_cartessian, kuka.C_cartessian]))\n",
    "\n",
    "\n",
    "\n",
    "trajectory_arr = np.array(trajectory_arr)\n",
    "\n",
    "# Отправка траектории роботу\n",
    "kuka.lin_continuous(trajectory_arr)\n"
   ]
  },
  {
   "cell_type": "code",
   "execution_count": null,
   "id": "04e77c18",
   "metadata": {},
   "outputs": [],
   "source": []
  }
 ],
 "metadata": {
  "kernelspec": {
   "display_name": "Python 3 (ipykernel)",
   "language": "python",
   "name": "python3"
  },
  "language_info": {
   "codemirror_mode": {
    "name": "ipython",
    "version": 3
   },
   "file_extension": ".py",
   "mimetype": "text/x-python",
   "name": "python",
   "nbconvert_exporter": "python",
   "pygments_lexer": "ipython3",
   "version": "3.9.12"
  }
 },
 "nbformat": 4,
 "nbformat_minor": 5
}
