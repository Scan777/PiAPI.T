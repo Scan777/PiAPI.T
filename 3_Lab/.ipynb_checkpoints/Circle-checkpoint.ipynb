{
 "cells": [
  {
   "cell_type": "code",
   "execution_count": 2,
   "id": "32bc7034",
   "metadata": {},
   "outputs": [],
   "source": [
    "import sys\n",
    "from openshowvar import *\n",
    "import numpy as np\n",
    "from kuka import Kuka\n",
    "import math\n",
    "\n",
    "#Подключение к роботу. IP адрес можно получить у преподавателя\n",
    "robot = openshowvar(ip = '192.168.17.2', port = 7000)\n",
    "kuka = Kuka(robot)\n",
    "\n",
    "# Чтение текущих координат робота\n",
    "kuka.read_cartessian()\n",
    "\n",
    "# Построение траектории\n",
    "trajectory_arr = []\n",
    "trajectory_arr.append(np.array([0, 300, kuka.z_cartessian, kuka.A_cartessian, kuka.B_cartessian, kuka.C_cartessian]))\n",
    "trajectory_arr.append(np.array([50, 300, kuka.z_cartessian, kuka.A_cartessian, kuka.B_cartessian, kuka.C_cartessian]))\n",
    "r=100\n",
    "num_steps=100\n",
    "for i in range(num_steps+1):\n",
    "    angle=math.radians(i*(360/num_steps))\n",
    "    trajectory_arr.append([r*math.cos(angle),300+r*math.sin(angle),kuka.z_cartessian, kuka.A_cartessian, kuka.B_cartessian, kuka.C_cartessian])\n",
    "trajectory_arr = np.array(trajectory_arr)\n",
    "    \n",
    "int_array = trajectory_arr.astype(int)\n",
    "# Отправка траектории роботу\n",
    "kuka.lin_continuous(int_array)\n",
    "\n",
    "kuka.open_grip()\n",
    "kuka.close_grip()"
   ]
  },
  {
   "cell_type": "code",
   "execution_count": null,
   "id": "92f1add1",
   "metadata": {},
   "outputs": [],
   "source": []
  }
 ],
 "metadata": {
  "kernelspec": {
   "display_name": "Python 3 (ipykernel)",
   "language": "python",
   "name": "python3"
  },
  "language_info": {
   "codemirror_mode": {
    "name": "ipython",
    "version": 3
   },
   "file_extension": ".py",
   "mimetype": "text/x-python",
   "name": "python",
   "nbconvert_exporter": "python",
   "pygments_lexer": "ipython3",
   "version": "3.9.12"
  }
 },
 "nbformat": 4,
 "nbformat_minor": 5
}
