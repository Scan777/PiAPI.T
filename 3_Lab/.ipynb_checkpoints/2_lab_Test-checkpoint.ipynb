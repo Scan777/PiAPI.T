{
 "cells": [
  {
   "cell_type": "code",
   "execution_count": 2,
   "id": "7f11ed4e",
   "metadata": {},
   "outputs": [
    {
     "name": "stdout",
     "output_type": "stream",
     "text": [
      "[ 322.051605  183.797867  611.723206  -90.443573   82.671196 -120.370316]\n"
     ]
    },
    {
     "data": {
      "text/plain": [
       "'\\n# Построение траектории\\ntrajectory_arr = []\\n# Построение квадрата\\ntrajectory_arr.append(np.array([kuka.x_cartessian, kuka.y_cartessian, kuka.z_cartessian, kuka.A_cartessian, kuka.B_cartessian, kuka.C_cartessian]))\\ntrajectory_arr.append(np.array([411.079193,108.829559,362.108368,-3.21379304,-24.6314297,-167.999466]))\\ntrajectory_arr.append(np.array([-121.779266,-407.430725,362.108368,-124.683334,-24.6314297,-167.999466 ]))\\ntrajectory_arr.append(np.array([411.079193,108.829559,362.108368,-3.21379304,-24.6314297,-167.999466]))\\ntrajectory_arr.append(np.array([kuka.x_cartessian, kuka.y_cartessian, kuka.z_cartessian, kuka.A_cartessian, kuka.B_cartessian, kuka.C_cartessian]))\\ntrajectory_arr = np.array(trajectory_arr)\\n# Отправка траектории роботу\\nkuka.lin_continuous(trajectory_arr)\\n\\nkuka.open_grip()\\nkuka.close_grip()\\nkuka.vacuum_on()\\nkuka.vacuum_off()\\n'"
      ]
     },
     "execution_count": 2,
     "metadata": {},
     "output_type": "execute_result"
    }
   ],
   "source": [
    "from openshowvar import *\n",
    "from kuka import Kuka\n",
    "import numpy as np\n",
    "#Connect robot\n",
    "robot = openshowvar(ip = '192.168.17.2', port = 7000)\n",
    "kuka = Kuka(robot)\n",
    "\n",
    "# Чтение текущих координат робота\n",
    "kuka.read_cartesian()\n",
    "print(kuka.global_position)\n",
    "'''\n",
    "# Построение траектории\n",
    "trajectory_arr = []\n",
    "# Построение квадрата\n",
    "trajectory_arr.append(np.array([kuka.x_cartessian, kuka.y_cartessian, kuka.z_cartessian, kuka.A_cartessian, kuka.B_cartessian, kuka.C_cartessian]))\n",
    "trajectory_arr.append(np.array([411.079193,108.829559,362.108368,-3.21379304,-24.6314297,-167.999466]))\n",
    "trajectory_arr.append(np.array([-121.779266,-407.430725,362.108368,-124.683334,-24.6314297,-167.999466 ]))\n",
    "trajectory_arr.append(np.array([411.079193,108.829559,362.108368,-3.21379304,-24.6314297,-167.999466]))\n",
    "trajectory_arr.append(np.array([kuka.x_cartessian, kuka.y_cartessian, kuka.z_cartessian, kuka.A_cartessian, kuka.B_cartessian, kuka.C_cartessian]))\n",
    "trajectory_arr = np.array(trajectory_arr)\n",
    "# Отправка траектории роботу\n",
    "kuka.lin_continuous(trajectory_arr)\n",
    "\n",
    "kuka.open_grip()\n",
    "kuka.close_grip()\n",
    "kuka.vacuum_on()\n",
    "kuka.vacuum_off()\n",
    "'''"
   ]
  },
  {
   "cell_type": "code",
   "execution_count": 3,
   "id": "3a8a0a13",
   "metadata": {},
   "outputs": [
    {
     "name": "stdout",
     "output_type": "stream",
     "text": [
      "base [-2.40000000e+02  2.04000000e+02  0.00000000e+00 -9.12534713e-04\n",
      " -1.53653396e-04  3.77753423e-07]\n",
      "tool [  0.     0.   136.93   0.     0.     0.  ]\n",
      "joint [-82.6584702  -53.0033646  116.938293   180.000351   -26.0650539\n",
      "   7.34030247]\n",
      "cartesian [2.82000000e+02 1.22000000e+02 8.00000000e+01 9.00000000e+01\n",
      " 2.45694551e-13 1.80000000e+02]\n",
      "{CP: CP 2.30000, ORI1 100.000, ORI2 100.000}\n",
      "{DATE: CSEC 0, SEC 55, MIN 39, HOUR 10, DAY 9, MONTH 9, YEAR 2025}\n",
      "#ACTIVE\n",
      "{DHART: DHART_A 0.0, DHART_D 0.0, DHART_ALPHA 90.0000}\n",
      "0\n",
      "1\n",
      "100\n",
      "{E6POS: X 282.000, Y 122.000, Z 80.0000, A 90.0000, B 2.45694551E-13, C 180.000, S 6, T 19, E1 0.0, E2 0.0, E3 0.0, E4 0.0, E5 0.0, E6 0.0}\n"
     ]
    }
   ],
   "source": [
    "from openshowvar import *\n",
    "from kuka import Kuka\n",
    "import numpy as np        \n",
    "#Подключение к роботу\n",
    "robot = openshowvar(ip = '192.168.17.2', port = 7000)\n",
    "kuka = Kuka(robot)\n",
    "\n",
    "kuka.read_cartesian()\n",
    "#Case 1\n",
    "kuka.set_base(8)\n",
    "#Case 2\n",
    "kuka.set_tool(10)\n",
    "#Case 3\n",
    "kuka.set_speed(100)\n",
    "#Case 4\n",
    "first_point=[282, 122, 450, 90, 0, 180]\n",
    "second_point=[282, 122, 100, 90, 0, 180]\n",
    "third_point=[282, 122, 80, 90, 0, 180]\n",
    "trajectory=np.array([first_point, second_point, third_point])\n",
    "kuka.lin_continuous(kuka,trajectory)\n",
    "#Case 5\n",
    "first_point=[282, 122, 450, 90, 0, 180]\n",
    "second_point=[282, 122, 100, 90, 0, 180]\n",
    "third_point=[282, 122, 80, 90, 0, 180]\n",
    "trajectory=np.array([first_point, second_point, third_point])\n",
    "kuka.ptp_continuous(kuka,trajectory)\n",
    "#Case 7\n",
    "kuka.open_grip()\n",
    "kuka.close_grip()\n",
    "#Case 8\n",
    "kuka.vacuum_on()\n",
    "kuka.vacuum_off()\n",
    "#Case 9\n",
    "kuka.quit()\n",
    "\n",
    "\n",
    "#read_base\n",
    "kuka.read_base()\n",
    "print(\"base\", kuka.base_frame)\n",
    "#read_tool\n",
    "kuka.read_tool()\n",
    "print(\"tool\", kuka.tool_frame)\n",
    "#read_joint\n",
    "kuka.read_joint()\n",
    "print(\"joint\", kuka.global_position_joint)\n",
    "#read_cartesian\n",
    "kuka.read_cartesian()\n",
    "print(\"cartesian\", kuka.global_position)\n",
    "\n",
    "\n",
    "#Считывание системных переменных\n",
    "#Ускорение манипулятора\n",
    "kuka.robot_read(\"$ACC\")\n",
    "#Системное время и системная дата\n",
    "kuka.robot_read(\"$DATE\")\n",
    "#Состояние устройства управления\n",
    "kuka.robot_read(\"$DEVICE\")\n",
    "#Параметры Денавита-Хартенберга для запястья (frame между A4 и A5)\n",
    "kuka.robot_read(\"$DH_4\")\n",
    "#Номер текущей системы BASE\n",
    "kuka.robot_read(\"$ACT_BASE\")\n",
    "#Номер текущей системы координат инструмента\n",
    "kuka.robot_read(\"$ACT_TOOL\")\n",
    "#Текущая скорость движения манипулятора\n",
    "kuka.robot_read(\"$OV_PRO\")\n",
    "#Текущие координаты манипулятора\n",
    "kuka.robot_read(\"$POS_ACT\")"
   ]
  },
  {
   "cell_type": "code",
   "execution_count": null,
   "id": "a09f3cb3",
   "metadata": {},
   "outputs": [],
   "source": []
  }
 ],
 "metadata": {
  "kernelspec": {
   "display_name": "Python 3 (ipykernel)",
   "language": "python",
   "name": "python3"
  },
  "language_info": {
   "codemirror_mode": {
    "name": "ipython",
    "version": 3
   },
   "file_extension": ".py",
   "mimetype": "text/x-python",
   "name": "python",
   "nbconvert_exporter": "python",
   "pygments_lexer": "ipython3",
   "version": "3.9.12"
  }
 },
 "nbformat": 4,
 "nbformat_minor": 5
}
