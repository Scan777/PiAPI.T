{
 "cells": [
  {
   "cell_type": "code",
   "execution_count": null,
   "id": "9bf67403",
   "metadata": {},
   "outputs": [],
   "source": [
    "import sys\n",
    "from openshowvar import *\n",
    "import numpy as np\n",
    "from kuka import Kuka\n",
    "\n",
    "#Подключение к роботу. IP адрес можно получить у преподавателя\n",
    "robot = openshowvar(ip = '192.168.1.2', port = 7000)\n",
    "kuka = Kuka(robot)\n",
    "\n",
    "kuka.set_base(8)\n",
    "kuka.set_tool(10)\n",
    "\n",
    "kuka.set_speed(100)\n",
    "# Чтение текущих координат робота\n",
    "kuka.read_cartessian()\n",
    "\n",
    "# Построение траектории\n",
    "trajectory_arr = []\n",
    "# Построение квадрата\n",
    "trajectory_arr.append(np.array([kuka.x_cartessian, kuka.y_cartessian, kuka.z_cartessian, 90, 0, -180]))\n",
    "trajectory_arr.append(np.array([0, 0, 100, 0, 0, -180]))\n",
    "trajectory_arr = np.array(trajectory_arr)\n",
    "# Отправка траектории роботу\n",
    "kuka.lin_continuous(trajectory_arr)\n",
    "\n",
    "kuka.open_grip()"
   ]
  },
  {
   "cell_type": "code",
   "execution_count": null,
   "id": "73480862",
   "metadata": {},
   "outputs": [],
   "source": [
    "import sys\n",
    "from openshowvar import *\n",
    "import numpy as np\n",
    "from kuka import Kuka\n",
    "\n",
    "#Подключение к роботу. IP адрес можно получить у преподавателя\n",
    "robot = openshowvar(ip = '192.168.1.2', port = 7000)\n",
    "kuka = Kuka(robot)\n",
    "\n",
    "kuka.set_base(8)\n",
    "kuka.set_tool(10)\n",
    "\n",
    "kuka.set_speed(100)\n",
    "\n",
    "def pos(x, y, z ):\n",
    "    # Чтение текущих координат робота\n",
    "    kuka.read_cartessian()\n",
    "    \n",
    "    # Построение траектории\n",
    "    trajectory_arr = []\n",
    "    \n",
    "    trajectory_arr.append(np.array([kuka.x_cartessian, kuka.y_cartessian, kuka.z_cartessian, kuka.A_cartessian, kuka.B_cartessian, kuka.C_cartessian]))\n",
    "    trajectory_arr.append(np.array([kuka.x_cartessian + x, kuka.y_cartessian + y, kuka.z_cartessian + z, 90, 0, -180]))\n",
    "    trajectory_arr = np.array(trajectory_arr)\n",
    "    \n",
    "    # Отправка траектории роботу\n",
    "    kuka.lin_continuous(trajectory_arr)\n",
    "    \n",
    "# Построение квадрата\n",
    "for item in range(2):\n",
    "    pos(100, 100, 100)\n",
    "    pos(-100, -100, -100)\n",
    "\n",
    "kuka.close_grip()\n",
    "kuka.open_grip()"
   ]
  }
 ],
 "metadata": {
  "kernelspec": {
   "display_name": "Python 3 (ipykernel)",
   "language": "python",
   "name": "python3"
  },
  "language_info": {
   "codemirror_mode": {
    "name": "ipython",
    "version": 3
   },
   "file_extension": ".py",
   "mimetype": "text/x-python",
   "name": "python",
   "nbconvert_exporter": "python",
   "pygments_lexer": "ipython3",
   "version": "3.9.12"
  }
 },
 "nbformat": 4,
 "nbformat_minor": 5
}
