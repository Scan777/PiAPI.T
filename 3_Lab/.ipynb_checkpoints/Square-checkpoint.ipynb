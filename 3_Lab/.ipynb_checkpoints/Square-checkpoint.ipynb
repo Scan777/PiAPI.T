{
 "cells": [
  {
   "cell_type": "code",
   "execution_count": null,
   "id": "ccdba081",
   "metadata": {},
   "outputs": [],
   "source": [
    "import sys\n",
    "from openshowvar import *\n",
    "import numpy as np\n",
    "from kuka import Kuka\n",
    "\n",
    "#Подключение к роботу. IP адрес можно получить у преподавателя\n",
    "robot = openshowvar(ip = '*', port = 7000)\n",
    "kuka = Kuka(robot)\n",
    "\n",
    "kuka.robot.write(\"$APO.CDIS\", str(100))\n",
    "# Чтение текущих координат робота\n",
    "kuka.read_cartessian()\n",
    "\n",
    "# Построение траектории\n",
    "trajectory_arr = []\n",
    "\n",
    "# Построение квадрата\n",
    "trajectory_arr.append(np.array([kuka.x_cartessian + 100, kuka.y_cartessian, kuka.z_cartessian, kuka.A_cartessian, kuka.B_cartessian, kuka.C_cartessian]))\n",
    "trajectory_arr.append(np.array([kuka.x_cartessian + 100, kuka.y_cartessian + 100, kuka.z_cartessian, kuka.A_cartessian, kuka.B_cartessian, kuka.C_cartessian]))\n",
    "trajectory_arr.append(np.array([kuka.x_cartessian, kuka.y_cartessian + 100, kuka.z_cartessian, kuka.A_cartessian, kuka.B_cartessian, kuka.C_cartessian]))\n",
    "trajectory_arr.append(np.array([kuka.x_cartessian, kuka.y_cartessian, kuka.z_cartessian, kuka.A_cartessian, kuka.B_cartessian, kuka.C_cartessian]))\n",
    "trajectory_arr.append(np.array([kuka.x_cartessian, kuka.y_cartessian, kuka.z_cartessian, kuka.A_cartessian, kuka.B_cartessian, kuka.C_cartessian]))\n",
    "\n",
    "trajectory_arr = np.array(trajectory_arr)\n",
    "\n",
    "# Отправка траектории роботу\n",
    "kuka.lin_continuous(trajectory_arr)\n"
   ]
  }
 ],
 "metadata": {
  "kernelspec": {
   "display_name": "Python 3 (ipykernel)",
   "language": "python",
   "name": "python3"
  },
  "language_info": {
   "codemirror_mode": {
    "name": "ipython",
    "version": 3
   },
   "file_extension": ".py",
   "mimetype": "text/x-python",
   "name": "python",
   "nbconvert_exporter": "python",
   "pygments_lexer": "ipython3",
   "version": "3.9.12"
  }
 },
 "nbformat": 4,
 "nbformat_minor": 5
}
