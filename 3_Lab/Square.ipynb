{
 "cells": [
  {
   "cell_type": "code",
   "execution_count": 2,
   "id": "9bf67403",
   "metadata": {},
   "outputs": [
    {
     "name": "stdout",
     "output_type": "stream",
     "text": [
      "[DEBUG] (12, 99, 1, 93, b'{FRAME: X -240.000, Y 204.000, Z 0.0, A -0.000912534713, B -0.000153653396, C 3.77753423E-07}', b'\\x00\\x01\\x01')\n",
      "[DEBUG] (13, 7, 1, 1, b'1', b'\\x00\\x01\\x01')\n",
      "[DEBUG] (1502, 62, 1, 56, b'{FRAME: X 0.0, Y 0.0, Z 136.932053, A 0.0, B 0.0, C 0.0}', b'\\x00\\x01\\x01')\n",
      "[DEBUG] (1503, 7, 1, 1, b'2', b'\\x00\\x01\\x01')\n",
      "{FRAME: X 213.652008, Y 194.663544, Z 383.164215, A 90.0, B 0.0, C -180.0}\n",
      "{FRAME: X 313.652008, Y 194.663544, Z 383.164215, A 90.0, B 0.0, C -180.0}\n",
      "{FRAME: X 313.652008, Y 294.663544, Z 383.164215, A 90.0, B 0.0, C -180.0}\n",
      "{FRAME: X 213.652008, Y 294.663544, Z 383.164215, A 90.0, B 0.0, C -180.0}\n",
      "{FRAME: X 213.652008, Y 194.663544, Z 383.164215, A 90.0, B 0.0, C -180.0}\n"
     ]
    }
   ],
   "source": [
    "import sys\n",
    "from openshowvar import *\n",
    "import numpy as np\n",
    "from kuka import Kuka\n",
    "\n",
    "#Подключение к роботу. IP адрес можно получить у преподавателя\n",
    "robot = openshowvar(ip = '192.168.1.2', port = 7000)\n",
    "kuka = Kuka(robot)\n",
    "\n",
    "kuka.set_base(8)\n",
    "kuka.set_tool(10)\n",
    "\n",
    "kuka.set_speed(100)\n",
    "#kuka.robot.write(\"$APO.CDIS\", str(50))\n",
    "# Чтение текущих координат робота\n",
    "kuka.read_cartessian()\n",
    "\n",
    "# Построение траектории\n",
    "trajectory_arr = []\n",
    "# Построение квадрата\n",
    "trajectory_arr.append(np.array([kuka.x_cartessian, kuka.y_cartessian, kuka.z_cartessian, 90, 0, -180]))\n",
    "trajectory_arr.append(np.array([kuka.x_cartessian + x, kuka.y_cartessian+y, kuka.z_cartessian, 90, 0, -180]))\n",
    "trajectory_arr = np.array(trajectory_arr)\n",
    "# Отправка траектории роботу\n",
    "kuka.lin_continuous(trajectory_arr)"
   ]
  },
  {
   "cell_type": "code",
   "execution_count": 2,
   "id": "1182fa05",
   "metadata": {},
   "outputs": [
    {
     "name": "stdout",
     "output_type": "stream",
     "text": [
      "[DEBUG] (71, 89, 1, 83, b'{FRAME: X 219.695084, Y 494.070221, Z 98.3370056, A 180.000, B 0.0, C 0.0538320243}', b'\\x00\\x01\\x01')\n",
      "[DEBUG] (72, 7, 1, 1, b'1', b'\\x00\\x01\\x01')\n",
      "[DEBUG] (676, 77, 1, 71, b'{FRAME: X 5.19289064, Y -18.2945232, Z 136.932053, A 0.0, B 0.0, C 0.0}', b'\\x00\\x01\\x01')\n",
      "[DEBUG] (677, 7, 1, 1, b'2', b'\\x00\\x01\\x01')\n",
      "ready\n",
      "{FRAME: X 200.0, Y 100.0, Z 300.0, A 90.0, B 2.67993288e-12, C 180.0}\n",
      "{FRAME: X 175.0, Y 220.0, Z 300.0, A 90.0, B 0.0, C 180.0}\n"
     ]
    }
   ],
   "source": [
    "import sys\n",
    "from openshowvar import *\n",
    "import numpy as np\n",
    "from kuka import Kuka\n",
    "import time\n",
    "\n",
    "#Подключение к роботу. IP адрес можно получить у преподавателя\n",
    "robot = openshowvar(ip = '192.168.1.2', port = 7000)\n",
    "kuka = Kuka(robot)\n",
    "\n",
    "kuka.set_base(5)\n",
    "kuka.set_tool(10)\n",
    "\n",
    "# Set speed (%)\n",
    "kuka.set_speed(100)\n",
    "print('ready')\n",
    "#kuka.robot.write(\"$APO.CDIS\", str(50))\n",
    "# Чтение текущих координат робота\n",
    "kuka.read_cartessian()\n",
    "\n",
    "# Построение траектории\n",
    "trajectory_arr = []\n",
    "# Построение квадрата\n",
    "trajectory_arr.append(np.array([kuka.x_cartessian, kuka.y_cartessian, kuka.z_cartessian, kuka.A_cartessian, kuka.B_cartessian, kuka.C_cartessian]))\n",
    "#trajectory_arr.append(np.array([-100, 0, -90, 90, 0, 180]))\n",
    "trajectory_arr.append(np.array([175, 220, 300, 90, 0, 180]))\n",
    "\n",
    "\n",
    "trajectory_arr = np.array(trajectory_arr)\n",
    "\n",
    "# Отправка траектории роботу\n",
    "kuka.lin_continuous(trajectory_arr)\n"
   ]
  },
  {
   "cell_type": "code",
   "execution_count": null,
   "id": "73480862",
   "metadata": {},
   "outputs": [],
   "source": []
  }
 ],
 "metadata": {
  "kernelspec": {
   "display_name": "Python 3 (ipykernel)",
   "language": "python",
   "name": "python3"
  },
  "language_info": {
   "codemirror_mode": {
    "name": "ipython",
    "version": 3
   },
   "file_extension": ".py",
   "mimetype": "text/x-python",
   "name": "python",
   "nbconvert_exporter": "python",
   "pygments_lexer": "ipython3",
   "version": "3.9.12"
  }
 },
 "nbformat": 4,
 "nbformat_minor": 5
}
