{
 "cells": [
  {
   "cell_type": "code",
   "execution_count": null,
   "id": "32bc7034",
   "metadata": {},
   "outputs": [
    {
     "name": "stdout",
     "output_type": "stream",
     "text": [
      "[DEBUG] (39, 6, 1, 0, b'', b'\\x00\\x00\\x00')\n",
      "{FRAME: X 0, Y 300, Z 336, A 180, B 0, C -179}\n",
      "{FRAME: X 50, Y 300, Z 336, A 180, B 0, C -179}\n",
      "{FRAME: X 100, Y 300, Z 336, A 180, B 0, C -179}\n",
      "{FRAME: X 99, Y 306, Z 336, A 180, B 0, C -179}\n",
      "{FRAME: X 99, Y 312, Z 336, A 180, B 0, C -179}\n",
      "{FRAME: X 98, Y 318, Z 336, A 180, B 0, C -179}\n",
      "{FRAME: X 96, Y 324, Z 336, A 180, B 0, C -179}\n",
      "{FRAME: X 95, Y 330, Z 336, A 180, B 0, C -179}\n",
      "{FRAME: X 92, Y 336, Z 336, A 180, B 0, C -179}\n",
      "{FRAME: X 90, Y 342, Z 336, A 180, B 0, C -179}\n",
      "{FRAME: X 87, Y 348, Z 336, A 180, B 0, C -179}\n",
      "{FRAME: X 84, Y 353, Z 336, A 180, B 0, C -179}\n",
      "{FRAME: X 80, Y 358, Z 336, A 180, B 0, C -179}\n",
      "{FRAME: X 77, Y 363, Z 336, A 180, B 0, C -179}\n",
      "{FRAME: X 72, Y 368, Z 336, A 180, B 0, C -179}\n",
      "{FRAME: X 68, Y 372, Z 336, A 180, B 0, C -179}\n",
      "{FRAME: X 63, Y 377, Z 336, A 180, B 0, C -179}\n",
      "{FRAME: X 58, Y 380, Z 336, A 180, B 0, C -179}\n",
      "{FRAME: X 53, Y 384, Z 336, A 180, B 0, C -179}\n",
      "{FRAME: X 48, Y 387, Z 336, A 180, B 0, C -179}\n",
      "{FRAME: X 42, Y 390, Z 336, A 180, B 0, C -179}\n",
      "{FRAME: X 36, Y 392, Z 336, A 180, B 0, C -179}\n",
      "{FRAME: X 30, Y 395, Z 336, A 180, B 0, C -179}\n",
      "{FRAME: X 24, Y 396, Z 336, A 180, B 0, C -179}\n",
      "{FRAME: X 18, Y 398, Z 336, A 180, B 0, C -179}\n",
      "{FRAME: X 12, Y 399, Z 336, A 180, B 0, C -179}\n",
      "{FRAME: X 6, Y 399, Z 336, A 180, B 0, C -179}\n",
      "{FRAME: X 0, Y 400, Z 336, A 180, B 0, C -179}\n",
      "{FRAME: X -6, Y 399, Z 336, A 180, B 0, C -179}\n",
      "{FRAME: X -12, Y 399, Z 336, A 180, B 0, C -179}\n",
      "{FRAME: X -18, Y 398, Z 336, A 180, B 0, C -179}\n",
      "{FRAME: X -24, Y 396, Z 336, A 180, B 0, C -179}\n",
      "{FRAME: X -30, Y 395, Z 336, A 180, B 0, C -179}\n",
      "{FRAME: X -36, Y 392, Z 336, A 180, B 0, C -179}\n",
      "{FRAME: X -42, Y 390, Z 336, A 180, B 0, C -179}\n",
      "{FRAME: X -48, Y 387, Z 336, A 180, B 0, C -179}\n",
      "{FRAME: X -53, Y 384, Z 336, A 180, B 0, C -179}\n",
      "{FRAME: X -58, Y 380, Z 336, A 180, B 0, C -179}\n",
      "{FRAME: X -63, Y 377, Z 336, A 180, B 0, C -179}\n",
      "{FRAME: X -68, Y 372, Z 336, A 180, B 0, C -179}\n",
      "{FRAME: X -72, Y 368, Z 336, A 180, B 0, C -179}\n",
      "{FRAME: X -77, Y 363, Z 336, A 180, B 0, C -179}\n",
      "{FRAME: X -80, Y 358, Z 336, A 180, B 0, C -179}\n",
      "{FRAME: X -84, Y 353, Z 336, A 180, B 0, C -179}\n",
      "{FRAME: X -87, Y 348, Z 336, A 180, B 0, C -179}\n",
      "{FRAME: X -90, Y 342, Z 336, A 180, B 0, C -179}\n",
      "{FRAME: X -92, Y 336, Z 336, A 180, B 0, C -179}\n",
      "{FRAME: X -95, Y 330, Z 336, A 180, B 0, C -179}\n",
      "{FRAME: X -96, Y 324, Z 336, A 180, B 0, C -179}\n",
      "{FRAME: X -98, Y 318, Z 336, A 180, B 0, C -179}\n",
      "{FRAME: X -99, Y 312, Z 336, A 180, B 0, C -179}\n",
      "{FRAME: X -99, Y 306, Z 336, A 180, B 0, C -179}\n",
      "{FRAME: X -100, Y 300, Z 336, A 180, B 0, C -179}\n",
      "{FRAME: X -99, Y 293, Z 336, A 180, B 0, C -179}\n",
      "{FRAME: X -99, Y 287, Z 336, A 180, B 0, C -179}\n",
      "{FRAME: X -98, Y 281, Z 336, A 180, B 0, C -179}\n",
      "{FRAME: X -96, Y 275, Z 336, A 180, B 0, C -179}\n",
      "{FRAME: X -95, Y 269, Z 336, A 180, B 0, C -179}\n",
      "{FRAME: X -92, Y 263, Z 336, A 180, B 0, C -179}\n",
      "{FRAME: X -90, Y 257, Z 336, A 180, B 0, C -179}\n",
      "{FRAME: X -87, Y 251, Z 336, A 180, B 0, C -179}\n",
      "{FRAME: X -84, Y 246, Z 336, A 180, B 0, C -179}\n",
      "{FRAME: X -80, Y 241, Z 336, A 180, B 0, C -179}\n",
      "{FRAME: X -77, Y 236, Z 336, A 180, B 0, C -179}\n",
      "{FRAME: X -72, Y 231, Z 336, A 180, B 0, C -179}\n",
      "{FRAME: X -68, Y 227, Z 336, A 180, B 0, C -179}\n",
      "{FRAME: X -63, Y 222, Z 336, A 180, B 0, C -179}\n",
      "{FRAME: X -58, Y 219, Z 336, A 180, B 0, C -179}\n",
      "{FRAME: X -53, Y 215, Z 336, A 180, B 0, C -179}\n",
      "{FRAME: X -48, Y 212, Z 336, A 180, B 0, C -179}\n",
      "{FRAME: X -42, Y 209, Z 336, A 180, B 0, C -179}\n",
      "{FRAME: X -36, Y 207, Z 336, A 180, B 0, C -179}\n",
      "{FRAME: X -30, Y 204, Z 336, A 180, B 0, C -179}\n",
      "{FRAME: X -24, Y 203, Z 336, A 180, B 0, C -179}\n",
      "{FRAME: X -18, Y 201, Z 336, A 180, B 0, C -179}\n",
      "{FRAME: X -12, Y 200, Z 336, A 180, B 0, C -179}\n",
      "{FRAME: X -6, Y 200, Z 336, A 180, B 0, C -179}\n",
      "{FRAME: X 0, Y 200, Z 336, A 180, B 0, C -179}\n",
      "{FRAME: X 6, Y 200, Z 336, A 180, B 0, C -179}\n",
      "{FRAME: X 12, Y 200, Z 336, A 180, B 0, C -179}\n",
      "{FRAME: X 18, Y 201, Z 336, A 180, B 0, C -179}\n",
      "{FRAME: X 24, Y 203, Z 336, A 180, B 0, C -179}\n",
      "{FRAME: X 30, Y 204, Z 336, A 180, B 0, C -179}\n",
      "{FRAME: X 36, Y 207, Z 336, A 180, B 0, C -179}\n",
      "{FRAME: X 42, Y 209, Z 336, A 180, B 0, C -179}\n",
      "{FRAME: X 48, Y 212, Z 336, A 180, B 0, C -179}\n",
      "{FRAME: X 53, Y 215, Z 336, A 180, B 0, C -179}\n",
      "{FRAME: X 58, Y 219, Z 336, A 180, B 0, C -179}\n",
      "{FRAME: X 63, Y 222, Z 336, A 180, B 0, C -179}\n",
      "{FRAME: X 68, Y 227, Z 336, A 180, B 0, C -179}\n",
      "{FRAME: X 72, Y 231, Z 336, A 180, B 0, C -179}\n",
      "{FRAME: X 77, Y 236, Z 336, A 180, B 0, C -179}\n",
      "{FRAME: X 80, Y 241, Z 336, A 180, B 0, C -179}\n",
      "{FRAME: X 84, Y 246, Z 336, A 180, B 0, C -179}\n",
      "{FRAME: X 87, Y 251, Z 336, A 180, B 0, C -179}\n",
      "{FRAME: X 90, Y 257, Z 336, A 180, B 0, C -179}\n",
      "{FRAME: X 92, Y 263, Z 336, A 180, B 0, C -179}\n",
      "{FRAME: X 95, Y 269, Z 336, A 180, B 0, C -179}\n",
      "{FRAME: X 96, Y 275, Z 336, A 180, B 0, C -179}\n",
      "{FRAME: X 98, Y 281, Z 336, A 180, B 0, C -179}\n",
      "{FRAME: X 99, Y 287, Z 336, A 180, B 0, C -179}\n",
      "{FRAME: X 99, Y 293, Z 336, A 180, B 0, C -179}\n"
     ]
    }
   ],
   "source": [
    "import sys\n",
    "from openshowvar import *\n",
    "import numpy as np\n",
    "from kuka import Kuka\n",
    "import math\n",
    "\n",
    "#Подключение к роботу. IP адрес можно получить у преподавателя\n",
    "robot = openshowvar(ip = '192.168.1.2', port = 7000)\n",
    "kuka = Kuka(robot)\n",
    "\n",
    "# Чтение текущих координат робота\n",
    "kuka.read_cartessian()\n",
    "\n",
    "# Построение траектории\n",
    "trajectory_arr = []\n",
    "trajectory_arr.append(np.array([0, 300, kuka.z_cartessian, kuka.A_cartessian, kuka.B_cartessian, kuka.C_cartessian]))\n",
    "trajectory_arr.append(np.array([50, 300, kuka.z_cartessian, kuka.A_cartessian, kuka.B_cartessian, kuka.C_cartessian]))\n",
    "r=100\n",
    "i=-50\n",
    "num_steps=100\n",
    "for i in range(100):\n",
    "    angle=math.radians(i*(360/num_steps))\n",
    "    trajectory_arr.append([r*math.cos(angle),300+r*math.sin(angle),kuka.z_cartessian, kuka.A_cartessian, kuka.B_cartessian, kuka.C_cartessian])\n",
    "trajectory_arr = np.array(trajectory_arr)\n",
    "    \n",
    "int_array = trajectory_arr.astype(int)\n",
    "# Отправка траектории роботу\n",
    "kuka.lin_continuous(int_array)\n"
   ]
  },
  {
   "cell_type": "code",
   "execution_count": 1,
   "id": "e81bbea9",
   "metadata": {},
   "outputs": [
    {
     "name": "stdout",
     "output_type": "stream",
     "text": [
      "3.9.12 (main, Apr  4 2022, 05:22:27) [MSC v.1916 64 bit (AMD64)]\n"
     ]
    }
   ],
   "source": [
    "import sys\n",
    "print(sys.version)"
   ]
  },
  {
   "cell_type": "code",
   "execution_count": 1,
   "id": "f056fe5b",
   "metadata": {},
   "outputs": [],
   "source": [
    "import sys\n",
    "from openshowvar import *\n",
    "import numpy as np\n",
    "from kuka import Kuka\n",
    "import math\n",
    "\n",
    "#Подключение к роботу. IP адрес можно получить у преподавателя\n",
    "robot = openshowvar(ip = '192.168.1.2', port = 7000)\n",
    "kuka = Kuka(robot)"
   ]
  },
  {
   "cell_type": "code",
   "execution_count": 2,
   "id": "c87c2636",
   "metadata": {},
   "outputs": [
    {
     "name": "stdout",
     "output_type": "stream",
     "text": [
      "{FRAME: X 0.0, Y 0.0, Z 0.0, A 0.0, B 0.0, C 0.0}\n"
     ]
    }
   ],
   "source": [
    "a=kuka.robot.read(\"$BASE\", False).decode()\n",
    "print(a)"
   ]
  },
  {
   "cell_type": "code",
   "execution_count": null,
   "id": "92f1add1",
   "metadata": {},
   "outputs": [],
   "source": []
  }
 ],
 "metadata": {
  "kernelspec": {
   "display_name": "Python 3 (ipykernel)",
   "language": "python",
   "name": "python3"
  },
  "language_info": {
   "codemirror_mode": {
    "name": "ipython",
    "version": 3
   },
   "file_extension": ".py",
   "mimetype": "text/x-python",
   "name": "python",
   "nbconvert_exporter": "python",
   "pygments_lexer": "ipython3",
   "version": "3.9.12"
  }
 },
 "nbformat": 4,
 "nbformat_minor": 5
}
